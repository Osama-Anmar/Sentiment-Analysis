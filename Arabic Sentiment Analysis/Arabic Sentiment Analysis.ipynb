{
 "cells": [
  {
   "cell_type": "markdown",
   "metadata": {},
   "source": [
    "# Import Libraries\n"
   ]
  },
  {
   "cell_type": "code",
   "execution_count": 1,
   "metadata": {},
   "outputs": [],
   "source": [
    "import pandas as pd\n",
    "import numpy as np\n",
    "import os\n",
    "import nltk\n",
    "import tensorflow as tf\n",
    "from keras.layers import *\n",
    "from tensorflow import *\n",
    "from keras.preprocessing.sequence import pad_sequences\n",
    "from keras.preprocessing.text import Tokenizer\n",
    "from keras.preprocessing import *\n",
    "from nltk.tokenize import word_tokenize, sent_tokenize\n",
    "from sklearn.tree import DecisionTreeClassifier\n",
    "from sklearn.naive_bayes import MultinomialNB\n",
    "from sklearn.neighbors import KNeighborsClassifier\n",
    "from sklearn.linear_model import LogisticRegression\n",
    "from sklearn.ensemble import RandomForestClassifier\n",
    "from sklearn.svm import SVC\n",
    "from sklearn.neural_network import MLPClassifier\n",
    "from sklearn.linear_model import SGDClassifier\n",
    "from sklearn.model_selection import train_test_split\n",
    "from sklearn.feature_extraction.text import  CountVectorizer\n",
    "from sklearn.preprocessing import LabelEncoder\n",
    "import warnings\n",
    "import csv\n",
    "import random\n",
    "from collections import Counter\n",
    "from utils.textnormalization import TextNormalization\n",
    "from utils.machinelearning import machine_learning_model, fit_model, metrics_values, confusion_matrix_\n",
    "from utils.deeplearning import convolutional_neural_network_1d, model_compile, model_fit, evaluate, plot_accuracy_loss, lstm_, gru_\n",
    "from utils.sentimentinformation import sentiment_percentage, sentiment_counts\n",
    "from utils.wordcloud import wordcloud\n",
    "from utils.most_frequent_word_plot import go_figure, bar_plot\n",
    "pd.options.display.max_rows = 100\n",
    "pd.options.display.max_columns =None \n",
    "import arabic_reshaper\n",
    "from bidi.algorithm import get_display\n",
    "random.seed(40)\n",
    "tf.random.set_seed(40)"
   ]
  },
  {
   "cell_type": "markdown",
   "metadata": {},
   "source": [
    "# Download Some Packages"
   ]
  },
  {
   "cell_type": "code",
   "execution_count": 2,
   "metadata": {},
   "outputs": [
    {
     "name": "stderr",
     "output_type": "stream",
     "text": [
      "[nltk_data] Downloading package punkt to\n",
      "[nltk_data]     /Users/osamaanmar/nltk_data...\n",
      "[nltk_data]   Package punkt is already up-to-date!\n",
      "[nltk_data] Downloading package wordnet to\n",
      "[nltk_data]     /Users/osamaanmar/nltk_data...\n",
      "[nltk_data]   Package wordnet is already up-to-date!\n",
      "[nltk_data] Downloading package stopwords to\n",
      "[nltk_data]     /Users/osamaanmar/nltk_data...\n",
      "[nltk_data]   Package stopwords is already up-to-date!\n",
      "[nltk_data] Downloading package averaged_perceptron_tagger to\n",
      "[nltk_data]     /Users/osamaanmar/nltk_data...\n",
      "[nltk_data]   Package averaged_perceptron_tagger is already up-to-\n",
      "[nltk_data]       date!\n"
     ]
    },
    {
     "data": {
      "text/plain": [
       "True"
      ]
     },
     "execution_count": 2,
     "metadata": {},
     "output_type": "execute_result"
    }
   ],
   "source": [
    "nltk.download('punkt')\n",
    "nltk.download('wordnet')\n",
    "nltk.download('stopwords')\n",
    "nltk.download('averaged_perceptron_tagger')"
   ]
  },
  {
   "cell_type": "markdown",
   "metadata": {},
   "source": [
    "# Ignore Warnings"
   ]
  },
  {
   "cell_type": "code",
   "execution_count": 3,
   "metadata": {},
   "outputs": [],
   "source": [
    "os.environ['TF_CPP_MIN_LOG_LEVEL'] = '3'\n",
    "warnings.filterwarnings(action='ignore')"
   ]
  },
  {
   "cell_type": "markdown",
   "metadata": {},
   "source": [
    "# Read Data"
   ]
  },
  {
   "cell_type": "code",
   "execution_count": 4,
   "metadata": {},
   "outputs": [
    {
     "data": {
      "text/html": [
       "<div>\n",
       "<style scoped>\n",
       "    .dataframe tbody tr th:only-of-type {\n",
       "        vertical-align: middle;\n",
       "    }\n",
       "\n",
       "    .dataframe tbody tr th {\n",
       "        vertical-align: top;\n",
       "    }\n",
       "\n",
       "    .dataframe thead th {\n",
       "        text-align: right;\n",
       "    }\n",
       "</style>\n",
       "<table border=\"1\" class=\"dataframe\">\n",
       "  <thead>\n",
       "    <tr style=\"text-align: right;\">\n",
       "      <th></th>\n",
       "      <th>Sentiment</th>\n",
       "      <th>Review</th>\n",
       "    </tr>\n",
       "  </thead>\n",
       "  <tbody>\n",
       "    <tr>\n",
       "      <th>16434</th>\n",
       "      <td>Negative</td>\n",
       "      <td>بين الشفقة و العطف أقيم هذه الرواية يؤسفني جد...</td>\n",
       "    </tr>\n",
       "    <tr>\n",
       "      <th>16435</th>\n",
       "      <td>Negative</td>\n",
       "      <td>أوصيك بالدقة . لا بالوضوح . \" فاليري\" تقريباً...</td>\n",
       "    </tr>\n",
       "    <tr>\n",
       "      <th>16436</th>\n",
       "      <td>Negative</td>\n",
       "      <td>للاسف الشديد لم يعجبني الكتاب ، شعرت بالملل م...</td>\n",
       "    </tr>\n",
       "    <tr>\n",
       "      <th>16437</th>\n",
       "      <td>Positive</td>\n",
       "      <td>من بداية الرواية وانا احاول تمالك نفسي ولكن ت...</td>\n",
       "    </tr>\n",
       "    <tr>\n",
       "      <th>16438</th>\n",
       "      <td>Negative</td>\n",
       "      <td>خذلتنى هذه الرواية كثيرا لم يعجبنى ابدا تداخل...</td>\n",
       "    </tr>\n",
       "  </tbody>\n",
       "</table>\n",
       "</div>"
      ],
      "text/plain": [
       "      Sentiment                                             Review\n",
       "16434  Negative   بين الشفقة و العطف أقيم هذه الرواية يؤسفني جد...\n",
       "16435  Negative   أوصيك بالدقة . لا بالوضوح . \" فاليري\" تقريباً...\n",
       "16436  Negative   للاسف الشديد لم يعجبني الكتاب ، شعرت بالملل م...\n",
       "16437  Positive   من بداية الرواية وانا احاول تمالك نفسي ولكن ت...\n",
       "16438  Negative   خذلتنى هذه الرواية كثيرا لم يعجبنى ابدا تداخل..."
      ]
     },
     "execution_count": 4,
     "metadata": {},
     "output_type": "execute_result"
    }
   ],
   "source": [
    "df1 = pd.read_csv('dev.csv')\n",
    "df2 = pd.read_csv('train.csv')\n",
    "df3 = pd.read_csv('test.csv')\n",
    "Corpus = pd.concat([df1, df2, df3], ignore_index=True)\n",
    "Corpus.drop('clean_txt', inplace=True, axis=1)\n",
    "Corpus.rename(columns={'sentiment': 'Sentiment', 'txt': 'Review'}, inplace=True)\n",
    "Corpus.tail(5)"
   ]
  },
  {
   "cell_type": "markdown",
   "metadata": {},
   "source": [
    "# Sentiment Information"
   ]
  },
  {
   "cell_type": "code",
   "execution_count": 5,
   "metadata": {},
   "outputs": [
    {
     "data": {
      "image/png": "[encoded data removed]",
      "text/plain": [
       "<Figure size 600x600 with 1 Axes>"
      ]
     },
     "metadata": {},
     "output_type": "display_data"
    }
   ],
   "source": [
    "sentiment_percentage(Corpus, 'Sentiment', (6, 6))"
   ]
  },
  {
   "cell_type": "code",
   "execution_count": 6,
   "metadata": {},
   "outputs": [
    {
     "data": {
      "image/png": "[encoded data removed]",
      "text/plain": [
       "<Figure size 600x600 with 1 Axes>"
      ]
     },
     "metadata": {},
     "output_type": "display_data"
    }
   ],
   "source": [
    "sentiment_counts(Corpus, 'Sentiment', (6, 6))"
   ]
  },
  {
   "cell_type": "markdown",
   "metadata": {},
   "source": [
    "# Number Of Sentences"
   ]
  },
  {
   "cell_type": "code",
   "execution_count": 7,
   "metadata": {},
   "outputs": [],
   "source": [
    "Corpus['NumberOfSentences'] = Corpus['Review'].apply(lambda n:len(sent_tokenize(n)))\n",
    "Corpus.drop(Corpus[Corpus[\"NumberOfSentences\"] == 0].index, inplace = True)\n"
   ]
  },
  {
   "cell_type": "code",
   "execution_count": 8,
   "metadata": {},
   "outputs": [
    {
     "data": {
      "text/plain": [
       "48524"
      ]
     },
     "execution_count": 8,
     "metadata": {},
     "output_type": "execute_result"
    }
   ],
   "source": [
    "Corpus['NumberOfSentences'].sum()"
   ]
  },
  {
   "cell_type": "markdown",
   "metadata": {},
   "source": [
    "# Average Number Of Sentences"
   ]
  },
  {
   "cell_type": "code",
   "execution_count": 9,
   "metadata": {},
   "outputs": [
    {
     "data": {
      "text/plain": [
       "3"
      ]
     },
     "execution_count": 9,
     "metadata": {},
     "output_type": "execute_result"
    }
   ],
   "source": [
    "AverageNumberOfSentence = int(np.round(Corpus[\"NumberOfSentences\"].mean()))\n",
    "AverageNumberOfSentence"
   ]
  },
  {
   "cell_type": "markdown",
   "metadata": {},
   "source": [
    "# Maximum Number Of Sentences"
   ]
  },
  {
   "cell_type": "code",
   "execution_count": 10,
   "metadata": {},
   "outputs": [
    {
     "data": {
      "text/plain": [
       "326"
      ]
     },
     "execution_count": 10,
     "metadata": {},
     "output_type": "execute_result"
    }
   ],
   "source": [
    "MaximumNumberOfSentence = Corpus[\"NumberOfSentences\"].max()\n",
    "MaximumNumberOfSentence"
   ]
  },
  {
   "cell_type": "markdown",
   "metadata": {},
   "source": [
    "# Minimum Number Of Sentences"
   ]
  },
  {
   "cell_type": "code",
   "execution_count": 11,
   "metadata": {},
   "outputs": [
    {
     "data": {
      "text/plain": [
       "1"
      ]
     },
     "execution_count": 11,
     "metadata": {},
     "output_type": "execute_result"
    }
   ],
   "source": [
    "MinimumNumberOfSentence = Corpus[\"NumberOfSentences\"].min()\n",
    "MinimumNumberOfSentence"
   ]
  },
  {
   "cell_type": "markdown",
   "metadata": {},
   "source": [
    "# Text Normalization"
   ]
  },
  {
   "cell_type": "code",
   "execution_count": 12,
   "metadata": {},
   "outputs": [],
   "source": [
    "text_normalization = TextNormalization(_remove_emojis = True,\n",
    "                                        _remove_hashtags = False,\n",
    "                                        _remove_emails = False ,\n",
    "                                        _remove_url = False,\n",
    "                                        _remove_mention = False,\n",
    "                                        _remove_duplicate_char = True,\n",
    "                                        _remove_single_char = True,\n",
    "                                        _remove_special_character_ = True,\n",
    "                                        _remove_new_line_char = True,\n",
    "                                        _remove_number = True,\n",
    "                                        _remove_html_tags = True,\n",
    "                                        _remove_arabic_diacritics_ = True,\n",
    "                                        _normalize_arabic_unicode_ = True,\n",
    "                                        _normalize_alef_maksura_ar_ = True,\n",
    "                                        _normalize_alef_ar_ = True,\n",
    "                                        _normalize_teh_marbuta_ar_ = True,\n",
    "                                        _remove_non_arabic = True,\n",
    "                                        _remove_whitespace_ = True,\n",
    "                                        _remove_unicode_characters_ = True,\n",
    "                                        _remove_longest_than_ = True,\n",
    "                                        _remove_stop_words = True,\n",
    "                                        _lemmatizer_ = False,\n",
    "                                        _stemmer_ = False)"
   ]
  },
  {
   "cell_type": "code",
   "execution_count": 13,
   "metadata": {},
   "outputs": [
    {
     "data": {
      "text/html": [
       "<div>\n",
       "<style scoped>\n",
       "    .dataframe tbody tr th:only-of-type {\n",
       "        vertical-align: middle;\n",
       "    }\n",
       "\n",
       "    .dataframe tbody tr th {\n",
       "        vertical-align: top;\n",
       "    }\n",
       "\n",
       "    .dataframe thead th {\n",
       "        text-align: right;\n",
       "    }\n",
       "</style>\n",
       "<table border=\"1\" class=\"dataframe\">\n",
       "  <thead>\n",
       "    <tr style=\"text-align: right;\">\n",
       "      <th></th>\n",
       "      <th>Sentiment</th>\n",
       "      <th>Review</th>\n",
       "      <th>NumberOfSentences</th>\n",
       "      <th>Normalized_Review</th>\n",
       "    </tr>\n",
       "  </thead>\n",
       "  <tbody>\n",
       "    <tr>\n",
       "      <th>16434</th>\n",
       "      <td>Negative</td>\n",
       "      <td>بين الشفقة و العطف أقيم هذه الرواية يؤسفني جد...</td>\n",
       "      <td>1</td>\n",
       "      <td>الشفقه العطف اقيم الروايه يؤسفني معاناه محمد ش...</td>\n",
       "    </tr>\n",
       "    <tr>\n",
       "      <th>16435</th>\n",
       "      <td>Negative</td>\n",
       "      <td>أوصيك بالدقة . لا بالوضوح . \" فاليري\" تقريباً...</td>\n",
       "      <td>3</td>\n",
       "      <td>اوصيك بالدقه بالوضوح فاليري ابراهيم اصلان نفذ ...</td>\n",
       "    </tr>\n",
       "    <tr>\n",
       "      <th>16436</th>\n",
       "      <td>Negative</td>\n",
       "      <td>للاسف الشديد لم يعجبني الكتاب ، شعرت بالملل م...</td>\n",
       "      <td>2</td>\n",
       "      <td>للاسف الشديد يعجبني الكتاب شعرت بالملل الصفحات...</td>\n",
       "    </tr>\n",
       "    <tr>\n",
       "      <th>16437</th>\n",
       "      <td>Positive</td>\n",
       "      <td>من بداية الرواية وانا احاول تمالك نفسي ولكن ت...</td>\n",
       "      <td>14</td>\n",
       "      <td>بدايه الروايه وانا احاول تمالك تعاندني عبرات م...</td>\n",
       "    </tr>\n",
       "    <tr>\n",
       "      <th>16438</th>\n",
       "      <td>Negative</td>\n",
       "      <td>خذلتنى هذه الرواية كثيرا لم يعجبنى ابدا تداخل...</td>\n",
       "      <td>1</td>\n",
       "      <td>خذلتني الروايه يعجبني ابدا تداخل قصتي الكاتب و...</td>\n",
       "    </tr>\n",
       "  </tbody>\n",
       "</table>\n",
       "</div>"
      ],
      "text/plain": [
       "      Sentiment                                             Review  \\\n",
       "16434  Negative   بين الشفقة و العطف أقيم هذه الرواية يؤسفني جد...   \n",
       "16435  Negative   أوصيك بالدقة . لا بالوضوح . \" فاليري\" تقريباً...   \n",
       "16436  Negative   للاسف الشديد لم يعجبني الكتاب ، شعرت بالملل م...   \n",
       "16437  Positive   من بداية الرواية وانا احاول تمالك نفسي ولكن ت...   \n",
       "16438  Negative   خذلتنى هذه الرواية كثيرا لم يعجبنى ابدا تداخل...   \n",
       "\n",
       "       NumberOfSentences                                  Normalized_Review  \n",
       "16434                  1  الشفقه العطف اقيم الروايه يؤسفني معاناه محمد ش...  \n",
       "16435                  3  اوصيك بالدقه بالوضوح فاليري ابراهيم اصلان نفذ ...  \n",
       "16436                  2  للاسف الشديد يعجبني الكتاب شعرت بالملل الصفحات...  \n",
       "16437                 14  بدايه الروايه وانا احاول تمالك تعاندني عبرات م...  \n",
       "16438                  1  خذلتني الروايه يعجبني ابدا تداخل قصتي الكاتب و...  "
      ]
     },
     "execution_count": 13,
     "metadata": {},
     "output_type": "execute_result"
    }
   ],
   "source": [
    "Corpus['Normalized_Review'] = Corpus['Review'].apply(lambda x: text_normalization.normalization(x))\n",
    "Corpus.tail(5)"
   ]
  },
  {
   "cell_type": "markdown",
   "metadata": {},
   "source": [
    "# Number Of Unique Words"
   ]
  },
  {
   "cell_type": "code",
   "execution_count": 14,
   "metadata": {},
   "outputs": [
    {
     "data": {
      "text/plain": [
       "76473"
      ]
     },
     "execution_count": 14,
     "metadata": {},
     "output_type": "execute_result"
    }
   ],
   "source": [
    "UniqueWords = set()\n",
    "for word in Corpus['Normalized_Review'].str.split():\n",
    "    UniqueWords.update(word)\n",
    "\n",
    "len(UniqueWords)"
   ]
  },
  {
   "cell_type": "markdown",
   "metadata": {},
   "source": [
    "# WordCloud"
   ]
  },
  {
   "cell_type": "code",
   "execution_count": 15,
   "metadata": {},
   "outputs": [
    {
     "data": {
      "image/png": "[encoded data removed]",
      "text/plain": [
       "<Figure size 640x480 with 1 Axes>"
      ]
     },
     "metadata": {},
     "output_type": "display_data"
    }
   ],
   "source": [
    "wordcloud(data=Corpus, target='Negative', width=2000, hieght=1000, text='Normalized_Review')"
   ]
  },
  {
   "cell_type": "code",
   "execution_count": 16,
   "metadata": {},
   "outputs": [
    {
     "data": {
      "image/png": "[encoded data removed]",
      "text/plain": [
       "<Figure size 640x480 with 1 Axes>"
      ]
     },
     "metadata": {},
     "output_type": "display_data"
    }
   ],
   "source": [
    "wordcloud(data=Corpus, target='Positive', width=2000, hieght=1000, text='Normalized_Review')"
   ]
  },
  {
   "cell_type": "markdown",
   "metadata": {},
   "source": [
    "# Most Frequent Words "
   ]
  },
  {
   "cell_type": "code",
   "execution_count": 17,
   "metadata": {},
   "outputs": [
    {
     "data": {
      "text/html": [
       "<div>\n",
       "<style scoped>\n",
       "    .dataframe tbody tr th:only-of-type {\n",
       "        vertical-align: middle;\n",
       "    }\n",
       "\n",
       "    .dataframe tbody tr th {\n",
       "        vertical-align: top;\n",
       "    }\n",
       "\n",
       "    .dataframe thead th {\n",
       "        text-align: right;\n",
       "    }\n",
       "</style>\n",
       "<table border=\"1\" class=\"dataframe\">\n",
       "  <thead>\n",
       "    <tr style=\"text-align: right;\">\n",
       "      <th></th>\n",
       "      <th>Word</th>\n",
       "      <th>Count</th>\n",
       "    </tr>\n",
       "  </thead>\n",
       "  <tbody>\n",
       "    <tr>\n",
       "      <th>0</th>\n",
       "      <td>الروايه</td>\n",
       "      <td>7266</td>\n",
       "    </tr>\n",
       "    <tr>\n",
       "      <th>1</th>\n",
       "      <td>الكتاب</td>\n",
       "      <td>6556</td>\n",
       "    </tr>\n",
       "    <tr>\n",
       "      <th>2</th>\n",
       "      <td>كتاب</td>\n",
       "      <td>3810</td>\n",
       "    </tr>\n",
       "    <tr>\n",
       "      <th>3</th>\n",
       "      <td>روايه</td>\n",
       "      <td>3123</td>\n",
       "    </tr>\n",
       "    <tr>\n",
       "      <th>4</th>\n",
       "      <td>الكاتب</td>\n",
       "      <td>2783</td>\n",
       "    </tr>\n",
       "    <tr>\n",
       "      <th>5</th>\n",
       "      <td>الله</td>\n",
       "      <td>2301</td>\n",
       "    </tr>\n",
       "    <tr>\n",
       "      <th>6</th>\n",
       "      <td>اللي</td>\n",
       "      <td>1875</td>\n",
       "    </tr>\n",
       "    <tr>\n",
       "      <th>7</th>\n",
       "      <td>مش</td>\n",
       "      <td>1430</td>\n",
       "    </tr>\n",
       "    <tr>\n",
       "      <th>8</th>\n",
       "      <td>رائع</td>\n",
       "      <td>1413</td>\n",
       "    </tr>\n",
       "    <tr>\n",
       "      <th>9</th>\n",
       "      <td>الاحداث</td>\n",
       "      <td>1223</td>\n",
       "    </tr>\n",
       "    <tr>\n",
       "      <th>10</th>\n",
       "      <td>اسلوب</td>\n",
       "      <td>1169</td>\n",
       "    </tr>\n",
       "    <tr>\n",
       "      <th>11</th>\n",
       "      <td>رائعه</td>\n",
       "      <td>1066</td>\n",
       "    </tr>\n",
       "    <tr>\n",
       "      <th>12</th>\n",
       "      <td>الكثير</td>\n",
       "      <td>1066</td>\n",
       "    </tr>\n",
       "    <tr>\n",
       "      <th>13</th>\n",
       "      <td>قرات</td>\n",
       "      <td>1063</td>\n",
       "    </tr>\n",
       "    <tr>\n",
       "      <th>14</th>\n",
       "      <td>الحياه</td>\n",
       "      <td>974</td>\n",
       "    </tr>\n",
       "  </tbody>\n",
       "</table>\n",
       "</div>"
      ],
      "text/plain": [
       "       Word  Count\n",
       "0   الروايه   7266\n",
       "1    الكتاب   6556\n",
       "2      كتاب   3810\n",
       "3     روايه   3123\n",
       "4    الكاتب   2783\n",
       "5      الله   2301\n",
       "6      اللي   1875\n",
       "7        مش   1430\n",
       "8      رائع   1413\n",
       "9   الاحداث   1223\n",
       "10    اسلوب   1169\n",
       "11    رائعه   1066\n",
       "12   الكثير   1066\n",
       "13     قرات   1063\n",
       "14   الحياه    974"
      ]
     },
     "execution_count": 17,
     "metadata": {},
     "output_type": "execute_result"
    }
   ],
   "source": [
    "MostFrequentWord = Counter((Corpus['Normalized_Review']).str.split().explode()).most_common(15)\n",
    "MostFrequentWordDF = pd.DataFrame(MostFrequentWord, columns=('Word', 'Count'))\n",
    "MostFrequentWordDF"
   ]
  },
  {
   "cell_type": "code",
   "execution_count": 18,
   "metadata": {},
   "outputs": [
    {
     "data": {
      "application/vnd.plotly.v1+json": {
       "config": {
        "plotlyServerURL": "https://plot.ly"
       },
       "data": [
        {
         "marker": {
          "color": [
           "Salmon",
           "FireBrick",
           "MediumVioletRed",
           "Tomato",
           "Orange",
           "Gold",
           "DarkKhaki",
           "Lavender",
           "Plum",
           "LimeGreen",
           "MediumSpringGreen",
           "Green",
           "DeepSkyBlue",
           "Aquamarine",
           "MediumSlateBlue"
          ]
         },
         "type": "funnel",
         "x": [
          7266,
          6556,
          3810,
          3123,
          2783,
          2301,
          1875,
          1430,
          1413,
          1223,
          1169,
          1066,
          1066,
          1063,
          974
         ],
         "y": [
          "الروايه",
          "الكتاب",
          "كتاب",
          "روايه",
          "الكاتب",
          "الله",
          "اللي",
          "مش",
          "رائع",
          "الاحداث",
          "اسلوب",
          "رائعه",
          "الكثير",
          "قرات",
          "الحياه"
         ]
        }
       ],
       "layout": {
        "template": {
         "data": {
          "bar": [
           {
            "error_x": {
             "color": "#2a3f5f"
            },
            "error_y": {
             "color": "#2a3f5f"
            },
            "marker": {
             "line": {
              "color": "#E5ECF6",
              "width": 0.5
             },
             "pattern": {
              "fillmode": "overlay",
              "size": 10,
              "solidity": 0.2
             }
            },
            "type": "bar"
           }
          ],
          "barpolar": [
           {
            "marker": {
             "line": {
              "color": "#E5ECF6",
              "width": 0.5
             },
             "pattern": {
              "fillmode": "overlay",
              "size": 10,
              "solidity": 0.2
             }
            },
            "type": "barpolar"
           }
          ],
          "carpet": [
           {
            "aaxis": {
             "endlinecolor": "#2a3f5f",
             "gridcolor": "white",
             "linecolor": "white",
             "minorgridcolor": "white",
             "startlinecolor": "#2a3f5f"
            },
            "baxis": {
             "endlinecolor": "#2a3f5f",
             "gridcolor": "white",
             "linecolor": "white",
             "minorgridcolor": "white",
             "startlinecolor": "#2a3f5f"
            },
            "type": "carpet"
           }
          ],
          "choropleth": [
           {
            "colorbar": {
             "outlinewidth": 0,
             "ticks": ""
            },
            "type": "choropleth"
           }
          ],
          "contour": [
           {
            "colorbar": {
             "outlinewidth": 0,
             "ticks": ""
            },
            "colorscale": [
             [
              0,
              "#0d0887"
             ],
             [
              0.1111111111111111,
              "#46039f"
             ],
             [
              0.2222222222222222,
              "#7201a8"
             ],
             [
              0.3333333333333333,
              "#9c179e"
             ],
             [
              0.4444444444444444,
              "#bd3786"
             ],
             [
              0.5555555555555556,
              "#d8576b"
             ],
             [
              0.6666666666666666,
              "#ed7953"
             ],
             [
              0.7777777777777778,
              "#fb9f3a"
             ],
             [
              0.8888888888888888,
              "#fdca26"
             ],
             [
              1,
              "#f0f921"
             ]
            ],
            "type": "contour"
           }
          ],
          "contourcarpet": [
           {
            "colorbar": {
             "outlinewidth": 0,
             "ticks": ""
            },
            "type": "contourcarpet"
           }
          ],
          "heatmap": [
           {
            "colorbar": {
             "outlinewidth": 0,
             "ticks": ""
            },
            "colorscale": [
             [
              0,
              "#0d0887"
             ],
             [
              0.1111111111111111,
              "#46039f"
             ],
             [
              0.2222222222222222,
              "#7201a8"
             ],
             [
              0.3333333333333333,
              "#9c179e"
             ],
             [
              0.4444444444444444,
              "#bd3786"
             ],
             [
              0.5555555555555556,
              "#d8576b"
             ],
             [
              0.6666666666666666,
              "#ed7953"
             ],
             [
              0.7777777777777778,
              "#fb9f3a"
             ],
             [
              0.8888888888888888,
              "#fdca26"
             ],
             [
              1,
              "#f0f921"
             ]
            ],
            "type": "heatmap"
           }
          ],
          "heatmapgl": [
           {
            "colorbar": {
             "outlinewidth": 0,
             "ticks": ""
            },
            "colorscale": [
             [
              0,
              "#0d0887"
             ],
             [
              0.1111111111111111,
              "#46039f"
             ],
             [
              0.2222222222222222,
              "#7201a8"
             ],
             [
              0.3333333333333333,
              "#9c179e"
             ],
             [
              0.4444444444444444,
              "#bd3786"
             ],
             [
              0.5555555555555556,
              "#d8576b"
             ],
             [
              0.6666666666666666,
              "#ed7953"
             ],
             [
              0.7777777777777778,
              "#fb9f3a"
             ],
             [
              0.8888888888888888,
              "#fdca26"
             ],
             [
              1,
              "#f0f921"
             ]
            ],
            "type": "heatmapgl"
           }
          ],
          "histogram": [
           {
            "marker": {
             "pattern": {
              "fillmode": "overlay",
              "size": 10,
              "solidity": 0.2
             }
            },
            "type": "histogram"
           }
          ],
          "histogram2d": [
           {
            "colorbar": {
             "outlinewidth": 0,
             "ticks": ""
            },
            "colorscale": [
             [
              0,
              "#0d0887"
             ],
             [
              0.1111111111111111,
              "#46039f"
             ],
             [
              0.2222222222222222,
              "#7201a8"
             ],
             [
              0.3333333333333333,
              "#9c179e"
             ],
             [
              0.4444444444444444,
              "#bd3786"
             ],
             [
              0.5555555555555556,
              "#d8576b"
             ],
             [
              0.6666666666666666,
              "#ed7953"
             ],
             [
              0.7777777777777778,
              "#fb9f3a"
             ],
             [
              0.8888888888888888,
              "#fdca26"
             ],
             [
              1,
              "#f0f921"
             ]
            ],
            "type": "histogram2d"
           }
          ],
          "histogram2dcontour": [
           {
            "colorbar": {
             "outlinewidth": 0,
             "ticks": ""
            },
            "colorscale": [
             [
              0,
              "#0d0887"
             ],
             [
              0.1111111111111111,
              "#46039f"
             ],
             [
              0.2222222222222222,
              "#7201a8"
             ],
             [
              0.3333333333333333,
              "#9c179e"
             ],
             [
              0.4444444444444444,
              "#bd3786"
             ],
             [
              0.5555555555555556,
              "#d8576b"
             ],
             [
              0.6666666666666666,
              "#ed7953"
             ],
             [
              0.7777777777777778,
              "#fb9f3a"
             ],
             [
              0.8888888888888888,
              "#fdca26"
             ],
             [
              1,
              "#f0f921"
             ]
            ],
            "type": "histogram2dcontour"
           }
          ],
          "mesh3d": [
           {
            "colorbar": {
             "outlinewidth": 0,
             "ticks": ""
            },
            "type": "mesh3d"
           }
          ],
          "parcoords": [
           {
            "line": {
             "colorbar": {
              "outlinewidth": 0,
              "ticks": ""
             }
            },
            "type": "parcoords"
           }
          ],
          "pie": [
           {
            "automargin": true,
            "type": "pie"
           }
          ],
          "scatter": [
           {
            "fillpattern": {
             "fillmode": "overlay",
             "size": 10,
             "solidity": 0.2
            },
            "type": "scatter"
           }
          ],
          "scatter3d": [
           {
            "line": {
             "colorbar": {
              "outlinewidth": 0,
              "ticks": ""
             }
            },
            "marker": {
             "colorbar": {
              "outlinewidth": 0,
              "ticks": ""
             }
            },
            "type": "scatter3d"
           }
          ],
          "scattercarpet": [
           {
            "marker": {
             "colorbar": {
              "outlinewidth": 0,
              "ticks": ""
             }
            },
            "type": "scattercarpet"
           }
          ],
          "scattergeo": [
           {
            "marker": {
             "colorbar": {
              "outlinewidth": 0,
              "ticks": ""
             }
            },
            "type": "scattergeo"
           }
          ],
          "scattergl": [
           {
            "marker": {
             "colorbar": {
              "outlinewidth": 0,
              "ticks": ""
             }
            },
            "type": "scattergl"
           }
          ],
          "scattermapbox": [
           {
            "marker": {
             "colorbar": {
              "outlinewidth": 0,
              "ticks": ""
             }
            },
            "type": "scattermapbox"
           }
          ],
          "scatterpolar": [
           {
            "marker": {
             "colorbar": {
              "outlinewidth": 0,
              "ticks": ""
             }
            },
            "type": "scatterpolar"
           }
          ],
          "scatterpolargl": [
           {
            "marker": {
             "colorbar": {
              "outlinewidth": 0,
              "ticks": ""
             }
            },
            "type": "scatterpolargl"
           }
          ],
          "scatterternary": [
           {
            "marker": {
             "colorbar": {
              "outlinewidth": 0,
              "ticks": ""
             }
            },
            "type": "scatterternary"
           }
          ],
          "surface": [
           {
            "colorbar": {
             "outlinewidth": 0,
             "ticks": ""
            },
            "colorscale": [
             [
              0,
              "#0d0887"
             ],
             [
              0.1111111111111111,
              "#46039f"
             ],
             [
              0.2222222222222222,
              "#7201a8"
             ],
             [
              0.3333333333333333,
              "#9c179e"
             ],
             [
              0.4444444444444444,
              "#bd3786"
             ],
             [
              0.5555555555555556,
              "#d8576b"
             ],
             [
              0.6666666666666666,
              "#ed7953"
             ],
             [
              0.7777777777777778,
              "#fb9f3a"
             ],
             [
              0.8888888888888888,
              "#fdca26"
             ],
             [
              1,
              "#f0f921"
             ]
            ],
            "type": "surface"
           }
          ],
          "table": [
           {
            "cells": {
             "fill": {
              "color": "#EBF0F8"
             },
             "line": {
              "color": "white"
             }
            },
            "header": {
             "fill": {
              "color": "#C8D4E3"
             },
             "line": {
              "color": "white"
             }
            },
            "type": "table"
           }
          ]
         },
         "layout": {
          "annotationdefaults": {
           "arrowcolor": "#2a3f5f",
           "arrowhead": 0,
           "arrowwidth": 1
          },
          "autotypenumbers": "strict",
          "coloraxis": {
           "colorbar": {
            "outlinewidth": 0,
            "ticks": ""
           }
          },
          "colorscale": {
           "diverging": [
            [
             0,
             "#8e0152"
            ],
            [
             0.1,
             "#c51b7d"
            ],
            [
             0.2,
             "#de77ae"
            ],
            [
             0.3,
             "#f1b6da"
            ],
            [
             0.4,
             "#fde0ef"
            ],
            [
             0.5,
             "#f7f7f7"
            ],
            [
             0.6,
             "#e6f5d0"
            ],
            [
             0.7,
             "#b8e186"
            ],
            [
             0.8,
             "#7fbc41"
            ],
            [
             0.9,
             "#4d9221"
            ],
            [
             1,
             "#276419"
            ]
           ],
           "sequential": [
            [
             0,
             "#0d0887"
            ],
            [
             0.1111111111111111,
             "#46039f"
            ],
            [
             0.2222222222222222,
             "#7201a8"
            ],
            [
             0.3333333333333333,
             "#9c179e"
            ],
            [
             0.4444444444444444,
             "#bd3786"
            ],
            [
             0.5555555555555556,
             "#d8576b"
            ],
            [
             0.6666666666666666,
             "#ed7953"
            ],
            [
             0.7777777777777778,
             "#fb9f3a"
            ],
            [
             0.8888888888888888,
             "#fdca26"
            ],
            [
             1,
             "#f0f921"
            ]
           ],
           "sequentialminus": [
            [
             0,
             "#0d0887"
            ],
            [
             0.1111111111111111,
             "#46039f"
            ],
            [
             0.2222222222222222,
             "#7201a8"
            ],
            [
             0.3333333333333333,
             "#9c179e"
            ],
            [
             0.4444444444444444,
             "#bd3786"
            ],
            [
             0.5555555555555556,
             "#d8576b"
            ],
            [
             0.6666666666666666,
             "#ed7953"
            ],
            [
             0.7777777777777778,
             "#fb9f3a"
            ],
            [
             0.8888888888888888,
             "#fdca26"
            ],
            [
             1,
             "#f0f921"
            ]
           ]
          },
          "colorway": [
           "#636efa",
           "#EF553B",
           "#00cc96",
           "#ab63fa",
           "#FFA15A",
           "#19d3f3",
           "#FF6692",
           "#B6E880",
           "#FF97FF",
           "#FECB52"
          ],
          "font": {
           "color": "#2a3f5f"
          },
          "geo": {
           "bgcolor": "white",
           "lakecolor": "white",
           "landcolor": "#E5ECF6",
           "showlakes": true,
           "showland": true,
           "subunitcolor": "white"
          },
          "hoverlabel": {
           "align": "left"
          },
          "hovermode": "closest",
          "mapbox": {
           "style": "light"
          },
          "paper_bgcolor": "white",
          "plot_bgcolor": "#E5ECF6",
          "polar": {
           "angularaxis": {
            "gridcolor": "white",
            "linecolor": "white",
            "ticks": ""
           },
           "bgcolor": "#E5ECF6",
           "radialaxis": {
            "gridcolor": "white",
            "linecolor": "white",
            "ticks": ""
           }
          },
          "scene": {
           "xaxis": {
            "backgroundcolor": "#E5ECF6",
            "gridcolor": "white",
            "gridwidth": 2,
            "linecolor": "white",
            "showbackground": true,
            "ticks": "",
            "zerolinecolor": "white"
           },
           "yaxis": {
            "backgroundcolor": "#E5ECF6",
            "gridcolor": "white",
            "gridwidth": 2,
            "linecolor": "white",
            "showbackground": true,
            "ticks": "",
            "zerolinecolor": "white"
           },
           "zaxis": {
            "backgroundcolor": "#E5ECF6",
            "gridcolor": "white",
            "gridwidth": 2,
            "linecolor": "white",
            "showbackground": true,
            "ticks": "",
            "zerolinecolor": "white"
           }
          },
          "shapedefaults": {
           "line": {
            "color": "#2a3f5f"
           }
          },
          "ternary": {
           "aaxis": {
            "gridcolor": "white",
            "linecolor": "white",
            "ticks": ""
           },
           "baxis": {
            "gridcolor": "white",
            "linecolor": "white",
            "ticks": ""
           },
           "bgcolor": "#E5ECF6",
           "caxis": {
            "gridcolor": "white",
            "linecolor": "white",
            "ticks": ""
           }
          },
          "title": {
           "x": 0.05
          },
          "xaxis": {
           "automargin": true,
           "gridcolor": "white",
           "linecolor": "white",
           "ticks": "",
           "title": {
            "standoff": 15
           },
           "zerolinecolor": "white",
           "zerolinewidth": 2
          },
          "yaxis": {
           "automargin": true,
           "gridcolor": "white",
           "linecolor": "white",
           "ticks": "",
           "title": {
            "standoff": 15
           },
           "zerolinecolor": "white",
           "zerolinewidth": 2
          }
         }
        }
       }
      }
     },
     "metadata": {},
     "output_type": "display_data"
    }
   ],
   "source": [
    "go_figure(data=MostFrequentWordDF)"
   ]
  },
  {
   "cell_type": "code",
   "execution_count": 19,
   "metadata": {},
   "outputs": [
    {
     "data": {
      "application/vnd.plotly.v1+json": {
       "config": {
        "plotlyServerURL": "https://plot.ly"
       },
       "data": [
        {
         "alignmentgroup": "True",
         "hovertemplate": "Count=%{x}<br>Word=%{y}<extra></extra>",
         "legendgroup": "",
         "marker": {
          "color": "#636efa",
          "pattern": {
           "shape": ""
          }
         },
         "name": "",
         "offsetgroup": "",
         "orientation": "h",
         "showlegend": false,
         "textposition": "auto",
         "type": "bar",
         "x": [
          7266,
          6556,
          3810,
          3123,
          2783,
          2301,
          1875,
          1430,
          1413,
          1223,
          1169,
          1066,
          1066,
          1063,
          974
         ],
         "xaxis": "x",
         "y": [
          "الروايه",
          "الكتاب",
          "كتاب",
          "روايه",
          "الكاتب",
          "الله",
          "اللي",
          "مش",
          "رائع",
          "الاحداث",
          "اسلوب",
          "رائعه",
          "الكثير",
          "قرات",
          "الحياه"
         ],
         "yaxis": "y"
        }
       ],
       "layout": {
        "barmode": "relative",
        "legend": {
         "tracegroupgap": 0
        },
        "margin": {
         "t": 60
        },
        "template": {
         "data": {
          "bar": [
           {
            "error_x": {
             "color": "#2a3f5f"
            },
            "error_y": {
             "color": "#2a3f5f"
            },
            "marker": {
             "line": {
              "color": "#E5ECF6",
              "width": 0.5
             },
             "pattern": {
              "fillmode": "overlay",
              "size": 10,
              "solidity": 0.2
             }
            },
            "type": "bar"
           }
          ],
          "barpolar": [
           {
            "marker": {
             "line": {
              "color": "#E5ECF6",
              "width": 0.5
             },
             "pattern": {
              "fillmode": "overlay",
              "size": 10,
              "solidity": 0.2
             }
            },
            "type": "barpolar"
           }
          ],
          "carpet": [
           {
            "aaxis": {
             "endlinecolor": "#2a3f5f",
             "gridcolor": "white",
             "linecolor": "white",
             "minorgridcolor": "white",
             "startlinecolor": "#2a3f5f"
            },
            "baxis": {
             "endlinecolor": "#2a3f5f",
             "gridcolor": "white",
             "linecolor": "white",
             "minorgridcolor": "white",
             "startlinecolor": "#2a3f5f"
            },
            "type": "carpet"
           }
          ],
          "choropleth": [
           {
            "colorbar": {
             "outlinewidth": 0,
             "ticks": ""
            },
            "type": "choropleth"
           }
          ],
          "contour": [
           {
            "colorbar": {
             "outlinewidth": 0,
             "ticks": ""
            },
            "colorscale": [
             [
              0,
              "#0d0887"
             ],
             [
              0.1111111111111111,
              "#46039f"
             ],
             [
              0.2222222222222222,
              "#7201a8"
             ],
             [
              0.3333333333333333,
              "#9c179e"
             ],
             [
              0.4444444444444444,
              "#bd3786"
             ],
             [
              0.5555555555555556,
              "#d8576b"
             ],
             [
              0.6666666666666666,
              "#ed7953"
             ],
             [
              0.7777777777777778,
              "#fb9f3a"
             ],
             [
              0.8888888888888888,
              "#fdca26"
             ],
             [
              1,
              "#f0f921"
             ]
            ],
            "type": "contour"
           }
          ],
          "contourcarpet": [
           {
            "colorbar": {
             "outlinewidth": 0,
             "ticks": ""
            },
            "type": "contourcarpet"
           }
          ],
          "heatmap": [
           {
            "colorbar": {
             "outlinewidth": 0,
             "ticks": ""
            },
            "colorscale": [
             [
              0,
              "#0d0887"
             ],
             [
              0.1111111111111111,
              "#46039f"
             ],
             [
              0.2222222222222222,
              "#7201a8"
             ],
             [
              0.3333333333333333,
              "#9c179e"
             ],
             [
              0.4444444444444444,
              "#bd3786"
             ],
             [
              0.5555555555555556,
              "#d8576b"
             ],
             [
              0.6666666666666666,
              "#ed7953"
             ],
             [
              0.7777777777777778,
              "#fb9f3a"
             ],
             [
              0.8888888888888888,
              "#fdca26"
             ],
             [
              1,
              "#f0f921"
             ]
            ],
            "type": "heatmap"
           }
          ],
          "heatmapgl": [
           {
            "colorbar": {
             "outlinewidth": 0,
             "ticks": ""
            },
            "colorscale": [
             [
              0,
              "#0d0887"
             ],
             [
              0.1111111111111111,
              "#46039f"
             ],
             [
              0.2222222222222222,
              "#7201a8"
             ],
             [
              0.3333333333333333,
              "#9c179e"
             ],
             [
              0.4444444444444444,
              "#bd3786"
             ],
             [
              0.5555555555555556,
              "#d8576b"
             ],
             [
              0.6666666666666666,
              "#ed7953"
             ],
             [
              0.7777777777777778,
              "#fb9f3a"
             ],
             [
              0.8888888888888888,
              "#fdca26"
             ],
             [
              1,
              "#f0f921"
             ]
            ],
            "type": "heatmapgl"
           }
          ],
          "histogram": [
           {
            "marker": {
             "pattern": {
              "fillmode": "overlay",
              "size": 10,
              "solidity": 0.2
             }
            },
            "type": "histogram"
           }
          ],
          "histogram2d": [
           {
            "colorbar": {
             "outlinewidth": 0,
             "ticks": ""
            },
            "colorscale": [
             [
              0,
              "#0d0887"
             ],
             [
              0.1111111111111111,
              "#46039f"
             ],
             [
              0.2222222222222222,
              "#7201a8"
             ],
             [
              0.3333333333333333,
              "#9c179e"
             ],
             [
              0.4444444444444444,
              "#bd3786"
             ],
             [
              0.5555555555555556,
              "#d8576b"
             ],
             [
              0.6666666666666666,
              "#ed7953"
             ],
             [
              0.7777777777777778,
              "#fb9f3a"
             ],
             [
              0.8888888888888888,
              "#fdca26"
             ],
             [
              1,
              "#f0f921"
             ]
            ],
            "type": "histogram2d"
           }
          ],
          "histogram2dcontour": [
           {
            "colorbar": {
             "outlinewidth": 0,
             "ticks": ""
            },
            "colorscale": [
             [
              0,
              "#0d0887"
             ],
             [
              0.1111111111111111,
              "#46039f"
             ],
             [
              0.2222222222222222,
              "#7201a8"
             ],
             [
              0.3333333333333333,
              "#9c179e"
             ],
             [
              0.4444444444444444,
              "#bd3786"
             ],
             [
              0.5555555555555556,
              "#d8576b"
             ],
             [
              0.6666666666666666,
              "#ed7953"
             ],
             [
              0.7777777777777778,
              "#fb9f3a"
             ],
             [
              0.8888888888888888,
              "#fdca26"
             ],
             [
              1,
              "#f0f921"
             ]
            ],
            "type": "histogram2dcontour"
           }
          ],
          "mesh3d": [
           {
            "colorbar": {
             "outlinewidth": 0,
             "ticks": ""
            },
            "type": "mesh3d"
           }
          ],
          "parcoords": [
           {
            "line": {
             "colorbar": {
              "outlinewidth": 0,
              "ticks": ""
             }
            },
            "type": "parcoords"
           }
          ],
          "pie": [
           {
            "automargin": true,
            "type": "pie"
           }
          ],
          "scatter": [
           {
            "fillpattern": {
             "fillmode": "overlay",
             "size": 10,
             "solidity": 0.2
            },
            "type": "scatter"
           }
          ],
          "scatter3d": [
           {
            "line": {
             "colorbar": {
              "outlinewidth": 0,
              "ticks": ""
             }
            },
            "marker": {
             "colorbar": {
              "outlinewidth": 0,
              "ticks": ""
             }
            },
            "type": "scatter3d"
           }
          ],
          "scattercarpet": [
           {
            "marker": {
             "colorbar": {
              "outlinewidth": 0,
              "ticks": ""
             }
            },
            "type": "scattercarpet"
           }
          ],
          "scattergeo": [
           {
            "marker": {
             "colorbar": {
              "outlinewidth": 0,
              "ticks": ""
             }
            },
            "type": "scattergeo"
           }
          ],
          "scattergl": [
           {
            "marker": {
             "colorbar": {
              "outlinewidth": 0,
              "ticks": ""
             }
            },
            "type": "scattergl"
           }
          ],
          "scattermapbox": [
           {
            "marker": {
             "colorbar": {
              "outlinewidth": 0,
              "ticks": ""
             }
            },
            "type": "scattermapbox"
           }
          ],
          "scatterpolar": [
           {
            "marker": {
             "colorbar": {
              "outlinewidth": 0,
              "ticks": ""
             }
            },
            "type": "scatterpolar"
           }
          ],
          "scatterpolargl": [
           {
            "marker": {
             "colorbar": {
              "outlinewidth": 0,
              "ticks": ""
             }
            },
            "type": "scatterpolargl"
           }
          ],
          "scatterternary": [
           {
            "marker": {
             "colorbar": {
              "outlinewidth": 0,
              "ticks": ""
             }
            },
            "type": "scatterternary"
           }
          ],
          "surface": [
           {
            "colorbar": {
             "outlinewidth": 0,
             "ticks": ""
            },
            "colorscale": [
             [
              0,
              "#0d0887"
             ],
             [
              0.1111111111111111,
              "#46039f"
             ],
             [
              0.2222222222222222,
              "#7201a8"
             ],
             [
              0.3333333333333333,
              "#9c179e"
             ],
             [
              0.4444444444444444,
              "#bd3786"
             ],
             [
              0.5555555555555556,
              "#d8576b"
             ],
             [
              0.6666666666666666,
              "#ed7953"
             ],
             [
              0.7777777777777778,
              "#fb9f3a"
             ],
             [
              0.8888888888888888,
              "#fdca26"
             ],
             [
              1,
              "#f0f921"
             ]
            ],
            "type": "surface"
           }
          ],
          "table": [
           {
            "cells": {
             "fill": {
              "color": "#EBF0F8"
             },
             "line": {
              "color": "white"
             }
            },
            "header": {
             "fill": {
              "color": "#C8D4E3"
             },
             "line": {
              "color": "white"
             }
            },
            "type": "table"
           }
          ]
         },
         "layout": {
          "annotationdefaults": {
           "arrowcolor": "#2a3f5f",
           "arrowhead": 0,
           "arrowwidth": 1
          },
          "autotypenumbers": "strict",
          "coloraxis": {
           "colorbar": {
            "outlinewidth": 0,
            "ticks": ""
           }
          },
          "colorscale": {
           "diverging": [
            [
             0,
             "#8e0152"
            ],
            [
             0.1,
             "#c51b7d"
            ],
            [
             0.2,
             "#de77ae"
            ],
            [
             0.3,
             "#f1b6da"
            ],
            [
             0.4,
             "#fde0ef"
            ],
            [
             0.5,
             "#f7f7f7"
            ],
            [
             0.6,
             "#e6f5d0"
            ],
            [
             0.7,
             "#b8e186"
            ],
            [
             0.8,
             "#7fbc41"
            ],
            [
             0.9,
             "#4d9221"
            ],
            [
             1,
             "#276419"
            ]
           ],
           "sequential": [
            [
             0,
             "#0d0887"
            ],
            [
             0.1111111111111111,
             "#46039f"
            ],
            [
             0.2222222222222222,
             "#7201a8"
            ],
            [
             0.3333333333333333,
             "#9c179e"
            ],
            [
             0.4444444444444444,
             "#bd3786"
            ],
            [
             0.5555555555555556,
             "#d8576b"
            ],
            [
             0.6666666666666666,
             "#ed7953"
            ],
            [
             0.7777777777777778,
             "#fb9f3a"
            ],
            [
             0.8888888888888888,
             "#fdca26"
            ],
            [
             1,
             "#f0f921"
            ]
           ],
           "sequentialminus": [
            [
             0,
             "#0d0887"
            ],
            [
             0.1111111111111111,
             "#46039f"
            ],
            [
             0.2222222222222222,
             "#7201a8"
            ],
            [
             0.3333333333333333,
             "#9c179e"
            ],
            [
             0.4444444444444444,
             "#bd3786"
            ],
            [
             0.5555555555555556,
             "#d8576b"
            ],
            [
             0.6666666666666666,
             "#ed7953"
            ],
            [
             0.7777777777777778,
             "#fb9f3a"
            ],
            [
             0.8888888888888888,
             "#fdca26"
            ],
            [
             1,
             "#f0f921"
            ]
           ]
          },
          "colorway": [
           "#636efa",
           "#EF553B",
           "#00cc96",
           "#ab63fa",
           "#FFA15A",
           "#19d3f3",
           "#FF6692",
           "#B6E880",
           "#FF97FF",
           "#FECB52"
          ],
          "font": {
           "color": "#2a3f5f"
          },
          "geo": {
           "bgcolor": "white",
           "lakecolor": "white",
           "landcolor": "#E5ECF6",
           "showlakes": true,
           "showland": true,
           "subunitcolor": "white"
          },
          "hoverlabel": {
           "align": "left"
          },
          "hovermode": "closest",
          "mapbox": {
           "style": "light"
          },
          "paper_bgcolor": "white",
          "plot_bgcolor": "#E5ECF6",
          "polar": {
           "angularaxis": {
            "gridcolor": "white",
            "linecolor": "white",
            "ticks": ""
           },
           "bgcolor": "#E5ECF6",
           "radialaxis": {
            "gridcolor": "white",
            "linecolor": "white",
            "ticks": ""
           }
          },
          "scene": {
           "xaxis": {
            "backgroundcolor": "#E5ECF6",
            "gridcolor": "white",
            "gridwidth": 2,
            "linecolor": "white",
            "showbackground": true,
            "ticks": "",
            "zerolinecolor": "white"
           },
           "yaxis": {
            "backgroundcolor": "#E5ECF6",
            "gridcolor": "white",
            "gridwidth": 2,
            "linecolor": "white",
            "showbackground": true,
            "ticks": "",
            "zerolinecolor": "white"
           },
           "zaxis": {
            "backgroundcolor": "#E5ECF6",
            "gridcolor": "white",
            "gridwidth": 2,
            "linecolor": "white",
            "showbackground": true,
            "ticks": "",
            "zerolinecolor": "white"
           }
          },
          "shapedefaults": {
           "line": {
            "color": "#2a3f5f"
           }
          },
          "ternary": {
           "aaxis": {
            "gridcolor": "white",
            "linecolor": "white",
            "ticks": ""
           },
           "baxis": {
            "gridcolor": "white",
            "linecolor": "white",
            "ticks": ""
           },
           "bgcolor": "#E5ECF6",
           "caxis": {
            "gridcolor": "white",
            "linecolor": "white",
            "ticks": ""
           }
          },
          "title": {
           "x": 0.05
          },
          "xaxis": {
           "automargin": true,
           "gridcolor": "white",
           "linecolor": "white",
           "ticks": "",
           "title": {
            "standoff": 15
           },
           "zerolinecolor": "white",
           "zerolinewidth": 2
          },
          "yaxis": {
           "automargin": true,
           "gridcolor": "white",
           "linecolor": "white",
           "ticks": "",
           "title": {
            "standoff": 15
           },
           "zerolinecolor": "white",
           "zerolinewidth": 2
          }
         }
        },
        "xaxis": {
         "anchor": "y",
         "domain": [
          0,
          1
         ],
         "title": {
          "text": "Count"
         }
        },
        "yaxis": {
         "anchor": "x",
         "domain": [
          0,
          1
         ],
         "title": {
          "text": "Word"
         }
        }
       }
      }
     },
     "metadata": {},
     "output_type": "display_data"
    }
   ],
   "source": [
    "bar_plot(data=MostFrequentWordDF)"
   ]
  },
  {
   "cell_type": "markdown",
   "metadata": {},
   "source": [
    "# Number Of Words "
   ]
  },
  {
   "cell_type": "code",
   "execution_count": 20,
   "metadata": {},
   "outputs": [
    {
     "data": {
      "text/plain": [
       "567157"
      ]
     },
     "execution_count": 20,
     "metadata": {},
     "output_type": "execute_result"
    }
   ],
   "source": [
    "Corpus[\"Number of Words\"] = Corpus[\"Normalized_Review\"].apply(lambda n:len(word_tokenize(n)))\n",
    "Corpus.drop(Corpus[ Corpus[\"Number of Words\"] == 0].index, inplace = True)\n",
    "Corpus[\"Number of Words\"].sum()"
   ]
  },
  {
   "cell_type": "markdown",
   "metadata": {},
   "source": [
    "# Number Of Charachters "
   ]
  },
  {
   "cell_type": "code",
   "execution_count": 21,
   "metadata": {},
   "outputs": [
    {
     "data": {
      "text/plain": [
       "3546873"
      ]
     },
     "execution_count": 21,
     "metadata": {},
     "output_type": "execute_result"
    }
   ],
   "source": [
    "Corpus[\"Number of Charachters\"] = Corpus[\"Normalized_Review\"].str.len()\n",
    "Corpus[\"Number of Charachters\"].sum()"
   ]
  },
  {
   "cell_type": "markdown",
   "metadata": {},
   "source": [
    "# Average Number Of Words "
   ]
  },
  {
   "cell_type": "code",
   "execution_count": 22,
   "metadata": {},
   "outputs": [
    {
     "data": {
      "text/plain": [
       "35"
      ]
     },
     "execution_count": 22,
     "metadata": {},
     "output_type": "execute_result"
    }
   ],
   "source": [
    "AverageNaumberOfWords = int(np.round((Corpus[\"Number of Words\"].mean())))\n",
    "AverageNaumberOfWords"
   ]
  },
  {
   "cell_type": "markdown",
   "metadata": {},
   "source": [
    "# Average Number Of Charachters "
   ]
  },
  {
   "cell_type": "code",
   "execution_count": 23,
   "metadata": {},
   "outputs": [
    {
     "data": {
      "text/plain": [
       "216"
      ]
     },
     "execution_count": 23,
     "metadata": {},
     "output_type": "execute_result"
    }
   ],
   "source": [
    "AverageNumberOfCharachters = int(np.round(Corpus[\"Number of Charachters\"].mean()))\n",
    "AverageNumberOfCharachters"
   ]
  },
  {
   "cell_type": "markdown",
   "metadata": {},
   "source": [
    "# Maximum Number Of Word"
   ]
  },
  {
   "cell_type": "code",
   "execution_count": 24,
   "metadata": {},
   "outputs": [
    {
     "data": {
      "text/plain": [
       "1853"
      ]
     },
     "execution_count": 24,
     "metadata": {},
     "output_type": "execute_result"
    }
   ],
   "source": [
    "MaximumNaumberOfWords = Corpus[\"Number of Words\"].max()\n",
    "MaximumNaumberOfWords"
   ]
  },
  {
   "cell_type": "markdown",
   "metadata": {},
   "source": [
    "# Maximum Number Of Charachters "
   ]
  },
  {
   "cell_type": "code",
   "execution_count": 25,
   "metadata": {},
   "outputs": [
    {
     "data": {
      "text/plain": [
       "11598"
      ]
     },
     "execution_count": 25,
     "metadata": {},
     "output_type": "execute_result"
    }
   ],
   "source": [
    "MaximumNumberOfCharachters = Corpus['Number of Charachters'].max() \n",
    "MaximumNumberOfCharachters"
   ]
  },
  {
   "cell_type": "markdown",
   "metadata": {},
   "source": [
    "# Minimum Number Of Words"
   ]
  },
  {
   "cell_type": "code",
   "execution_count": 26,
   "metadata": {},
   "outputs": [
    {
     "data": {
      "text/plain": [
       "1"
      ]
     },
     "execution_count": 26,
     "metadata": {},
     "output_type": "execute_result"
    }
   ],
   "source": [
    "MimimumNaumberOfWords = Corpus[\"Number of Words\"].min()\n",
    "MimimumNaumberOfWords"
   ]
  },
  {
   "cell_type": "markdown",
   "metadata": {},
   "source": [
    "# Minimum Number Of Charachters "
   ]
  },
  {
   "cell_type": "code",
   "execution_count": 27,
   "metadata": {},
   "outputs": [
    {
     "data": {
      "text/plain": [
       "3"
      ]
     },
     "execution_count": 27,
     "metadata": {},
     "output_type": "execute_result"
    }
   ],
   "source": [
    "MinimumNumberOfCharachters = Corpus['Number of Charachters'].min() \n",
    "MinimumNumberOfCharachters"
   ]
  },
  {
   "cell_type": "markdown",
   "metadata": {},
   "source": [
    "# Split The Dataset Into X And y"
   ]
  },
  {
   "cell_type": "code",
   "execution_count": 28,
   "metadata": {},
   "outputs": [],
   "source": [
    "X, y = Corpus['Normalized_Review'], Corpus['Sentiment']\n",
    "le = LabelEncoder()\n",
    "y =le.fit_transform(y)"
   ]
  },
  {
   "cell_type": "markdown",
   "metadata": {},
   "source": [
    "# Split The Dataset Into Training And Testing"
   ]
  },
  {
   "cell_type": "code",
   "execution_count": 29,
   "metadata": {},
   "outputs": [],
   "source": [
    "X_train, X_test, y_train, y_test = train_test_split(X, y, test_size=0.3, random_state=44)"
   ]
  },
  {
   "cell_type": "markdown",
   "metadata": {},
   "source": [
    "# CountVectorizer"
   ]
  },
  {
   "cell_type": "code",
   "execution_count": 30,
   "metadata": {},
   "outputs": [],
   "source": [
    "CountVectorizer_ = CountVectorizer()\n",
    "X_train_CV_ = CountVectorizer_.fit_transform(X_train)\n",
    "X_test_CV_ = CountVectorizer_.transform(X_test)"
   ]
  },
  {
   "cell_type": "code",
   "execution_count": 31,
   "metadata": {},
   "outputs": [
    {
     "data": {
      "text/plain": [
       "{'سيناريو': 31940,\n",
       " 'فيلم': 37299,\n",
       " 'عربي': 34255,\n",
       " 'ساذج': 30724,\n",
       " 'فشل': 36464,\n",
       " 'روايه': 30282,\n",
       " 'مثيره': 45965,\n",
       " 'استمتعت': 2591,\n",
       " 'جيد': 27157,\n",
       " 'قراءه': 37719,\n",
       " 'الروايه': 8626,\n",
       " 'اكره': 4446,\n",
       " 'البطل': 6112,\n",
       " 'جاء': 26369,\n",
       " 'التقييم': 6825,\n",
       " 'درااما': 28988,\n",
       " 'ملهاش': 48588,\n",
       " 'اي': 16156,\n",
       " 'لازمه': 39858,\n",
       " 'تعجبني': 24500,\n",
       " 'ابدا': 146,\n",
       " 'كتبت': 38664,\n",
       " 'طريقه': 33510,\n",
       " 'الخواطر': 8051,\n",
       " 'غازي': 34988,\n",
       " 'القصيبي': 11262,\n",
       " 'اجتر': 806,\n",
       " 'طوال': 33618,\n",
       " 'القصه': 11252,\n",
       " 'مليئه': 48615,\n",
       " 'بالمعاناه': 17988,\n",
       " 'والماساه': 54692,\n",
       " 'يوجد': 65798,\n",
       " 'احداث': 1108,\n",
       " 'تشد': 23976,\n",
       " 'انتباه': 15241,\n",
       " 'القارئ': 11069,\n",
       " 'مجرد': 46046,\n",
       " 'مذكرات': 46639,\n",
       " 'لمصاب': 43700,\n",
       " 'بالزهايمر': 17432,\n",
       " 'اسوا': 2868,\n",
       " 'قرات': 37739,\n",
       " 'لغازي': 41782,\n",
       " 'الاسف': 5073,\n",
       " 'حاولت': 27323,\n",
       " 'اتحشي': 381,\n",
       " 'الكتاب': 11461,\n",
       " 'لشعوري': 41511,\n",
       " 'بسيط': 19758,\n",
       " 'اضطررت': 3254,\n",
       " 'لقراءته': 41958,\n",
       " 'بناء': 21042,\n",
       " 'طلب': 33573,\n",
       " 'البوك': 6226,\n",
       " 'كلاب': 39112,\n",
       " 'اللي': 11849,\n",
       " 'مشتركه': 47310,\n",
       " 'كتاب': 38627,\n",
       " 'خفيف': 28633,\n",
       " 'للعامه': 42959,\n",
       " 'يرصد': 63730,\n",
       " 'مظاهر': 47604,\n",
       " 'المجتمع': 12373,\n",
       " 'السعودي': 9009,\n",
       " 'افكار': 4033,\n",
       " 'خاطئه': 28290,\n",
       " 'بالقليله': 17815,\n",
       " 'الردود': 8468,\n",
       " 'ثغرات': 26267,\n",
       " 'وبحاجه': 55714,\n",
       " 'توضيح': 26115,\n",
       " 'كنت': 39319,\n",
       " 'متلهفه': 45800,\n",
       " 'جدا': 26547,\n",
       " 'لقراءه': 41961,\n",
       " 'السيره': 9221,\n",
       " 'الذاتيه': 8288,\n",
       " 'خاصه': 28279,\n",
       " 'العوده': 10500,\n",
       " 'كتب': 38660,\n",
       " 'نالت': 49632,\n",
       " 'استحساني': 2315,\n",
       " 'الدافع': 8105,\n",
       " 'رغبتي': 30091,\n",
       " 'قراءته': 37708,\n",
       " 'حسنا': 27667,\n",
       " 'اولا': 16105,\n",
       " 'محض': 46290,\n",
       " 'فضول': 36543,\n",
       " 'شخصيه': 32206,\n",
       " 'والبيئه': 53337,\n",
       " 'نشا': 50225,\n",
       " 'ببساطه': 18358,\n",
       " 'اردت': 1993,\n",
       " 'اعرف': 3610,\n",
       " 'ثانيا': 26241,\n",
       " 'اعترف': 3491,\n",
       " 'شدني': 32219,\n",
       " 'طبيعه': 33449,\n",
       " 'الكتابه': 11480,\n",
       " 'الادبيه': 4813,\n",
       " 'امتاز': 14978,\n",
       " 'كتابه': 38647,\n",
       " 'سقف': 31327,\n",
       " 'توقعاتي': 26150,\n",
       " 'مرتفع': 46754,\n",
       " 'حقا': 27819,\n",
       " 'خيب': 28828,\n",
       " 'ظنوني': 33738,\n",
       " 'الحد': 7543,\n",
       " 'استسغ': 2395,\n",
       " 'متابعه': 45403,\n",
       " 'بقيه': 20499,\n",
       " 'يحتوي': 63204,\n",
       " 'صفحه': 32990,\n",
       " 'تقريبا': 25096,\n",
       " 'وجدتني': 57141,\n",
       " 'اغوص': 3868,\n",
       " 'اعماق': 3713,\n",
       " 'غني': 35258,\n",
       " 'واخرج': 52077,\n",
       " 'بالكثير': 17837,\n",
       " 'التساؤلات': 6545,\n",
       " 'يكتب': 65136,\n",
       " 'بصراحه': 19901,\n",
       " 'دائما': 28861,\n",
       " 'الكثير': 11521,\n",
       " 'الغموض': 10656,\n",
       " 'يلتف': 65245,\n",
       " 'نصوصه': 50328,\n",
       " 'الجانب': 7180,\n",
       " 'الجيد': 7424,\n",
       " 'يفضي': 64880,\n",
       " 'اثاره': 708,\n",
       " 'وتشويقه': 56504,\n",
       " 'السيئ': 9194,\n",
       " 'يجعلك': 63073,\n",
       " 'تشعر': 24009,\n",
       " 'قراءتك': 37706,\n",
       " 'مضيعه': 47548,\n",
       " 'للوقت': 43517,\n",
       " 'المبالغه': 11996,\n",
       " 'والاكثار': 53157,\n",
       " 'التشبيهات': 6582,\n",
       " 'البلاغيه': 6162,\n",
       " 'زادت': 30396,\n",
       " 'الطين': 9972,\n",
       " 'بله': 20723,\n",
       " 'استحسن': 2316,\n",
       " 'بالمره': 17942,\n",
       " 'اقدر': 4208,\n",
       " 'الجهود': 7399,\n",
       " 'المبذوله': 12021,\n",
       " 'كتابته': 38639,\n",
       " 'والدقه': 53880,\n",
       " 'وصف': 58620,\n",
       " 'المكان': 13600,\n",
       " 'وتذكر': 56318,\n",
       " 'الاسماء': 5109,\n",
       " 'يعجبني': 64599,\n",
       " 'الاقل': 5410,\n",
       " 'وجهه': 57259,\n",
       " 'نظري': 50418,\n",
       " 'وذائقتي': 57813,\n",
       " 'تعرفت': 24540,\n",
       " 'اسماء': 2812,\n",
       " 'اكن': 4488,\n",
       " 'اسمع': 2830,\n",
       " 'لصحابه': 41555,\n",
       " 'رسول': 30007,\n",
       " 'الله': 11819,\n",
       " 'صلي': 33030,\n",
       " 'وسلم': 58297,\n",
       " 'ماخذين': 44806,\n",
       " 'الكاتب': 11396,\n",
       " 'يغرق': 64769,\n",
       " 'استخدام': 2336,\n",
       " 'الفاظ': 10736,\n",
       " 'صعبه': 32938,\n",
       " 'الوصف': 14761,\n",
       " 'يؤثر': 62221,\n",
       " 'احيانا': 1307,\n",
       " 'كثيره': 38752,\n",
       " 'المضمون': 13200,\n",
       " 'لدرجه': 41206,\n",
       " 'القصص': 11248,\n",
       " 'ممله': 48712,\n",
       " 'مبالغته': 45275,\n",
       " 'الثاني': 7071,\n",
       " 'لجوء': 41010,\n",
       " 'لاستخدام': 39873,\n",
       " 'اسلوب': 2797,\n",
       " 'التقويم': 6815,\n",
       " 'افعال': 3998,\n",
       " 'الصحابه': 9600,\n",
       " 'وخصوصا': 57612,\n",
       " 'موقفه': 49372,\n",
       " 'سيدنا': 31794,\n",
       " 'معاويه': 47682,\n",
       " 'ذكر': 29481,\n",
       " 'كلاما': 39124,\n",
       " 'يليق': 65320,\n",
       " 'بسيدنا': 19753,\n",
       " 'الفتنه': 10774,\n",
       " 'حدثت': 27457,\n",
       " 'صحابي': 32781,\n",
       " 'جليل': 26896,\n",
       " 'نساوي': 50117,\n",
       " 'بجواره': 18974,\n",
       " 'النبي': 14210,\n",
       " 'انفقنا': 15673,\n",
       " 'ذهبا': 29553,\n",
       " 'بلغنا': 20700,\n",
       " 'مد': 46525,\n",
       " 'احدهم': 1137,\n",
       " 'نصيفه': 50341,\n",
       " 'يتهم': 62944,\n",
       " 'رضي': 30063,\n",
       " 'الفئه': 10689,\n",
       " 'الباغيه': 5949,\n",
       " 'اهل': 15878,\n",
       " 'الدنيا': 8221,\n",
       " 'افضل': 3986,\n",
       " 'الكتب': 11496,\n",
       " 'حوار': 28093,\n",
       " 'هاديء': 51069,\n",
       " 'دمصطفي': 29227,\n",
       " 'محمود': 46346,\n",
       " 'وصديق': 58593,\n",
       " 'ملحد': 48508,\n",
       " 'يفند': 64907,\n",
       " 'شكوك': 32480,\n",
       " 'واسئله': 52250,\n",
       " 'المتشككين': 12170,\n",
       " 'والظالمين': 54266,\n",
       " 'لانفسهم': 40223,\n",
       " 'الملحدين': 13680,\n",
       " 'يرد': 63708,\n",
       " 'بادب': 16475,\n",
       " 'جم': 26899,\n",
       " 'وعقل': 59064,\n",
       " 'راجح': 29670,\n",
       " 'وقلب': 59544,\n",
       " 'عطوف': 34476,\n",
       " 'عساه': 34357,\n",
       " 'يرده': 63715,\n",
       " 'الحق': 7660,\n",
       " 'ويدله': 61764,\n",
       " 'الخير': 8073,\n",
       " 'ينقل': 65662,\n",
       " 'اخر': 1495,\n",
       " 'صفحات': 32980,\n",
       " 'تهدي': 25956,\n",
       " 'احببت': 978,\n",
       " 'حاول': 27322,\n",
       " 'الصديق': 9647,\n",
       " 'بماضيه': 20758,\n",
       " 'اشد': 2983,\n",
       " 'الحادا': 7453,\n",
       " 'فاجابه': 35386,\n",
       " 'تواضع': 26025,\n",
       " 'يغير': 64812,\n",
       " 'يتغير': 62809,\n",
       " 'وينهي': 62182,\n",
       " 'محاولاته': 46143,\n",
       " 'بسؤاله': 19640,\n",
       " 'الحال': 7494,\n",
       " 'اخطات': 1555,\n",
       " 'حساباتك': 27630,\n",
       " 'وانتهيت': 55343,\n",
       " 'عمر': 34713,\n",
       " 'موت': 49231,\n",
       " 'وتراب': 56334,\n",
       " 'شيء': 32606,\n",
       " 'فيجيبه': 37169,\n",
       " 'اكون': 4496,\n",
       " 'خسرت': 28497,\n",
       " 'شيئا': 32613,\n",
       " 'عشت': 34378,\n",
       " 'حياتي': 28155,\n",
       " 'اعرض': 3609,\n",
       " 'واسعد': 52394,\n",
       " 'واحفل': 52004,\n",
       " 'الحياه': 7788,\n",
       " 'تخسرون': 23067,\n",
       " 'اصابت': 3069,\n",
       " 'حساباتي': 27633,\n",
       " 'وصدقت': 58583,\n",
       " 'لصادقه': 41547,\n",
       " 'مفاجئه': 47978,\n",
       " 'هائله': 51023,\n",
       " 'صاحبي': 32687,\n",
       " 'رحمه': 29923,\n",
       " 'دكتور': 29171,\n",
       " 'واسكن': 52406,\n",
       " 'فسيح': 36443,\n",
       " 'جناته': 26983,\n",
       " 'مرشحه': 46793,\n",
       " 'جائزه': 26383,\n",
       " 'فيه': 37335,\n",
       " 'الامتاع': 5555,\n",
       " 'الطيب': 9963,\n",
       " 'صالح': 32726,\n",
       " 'تجذبني': 22619,\n",
       " 'الاحداث': 4709,\n",
       " 'والمحور': 54780,\n",
       " 'شكل': 32468,\n",
       " 'اساسه': 2206,\n",
       " 'سحر': 31134,\n",
       " 'الكلمات': 11591,\n",
       " 'وبساطه': 55794,\n",
       " 'الاسلوب': 5103,\n",
       " 'عنوان': 34833,\n",
       " 'مقطفات': 48262,\n",
       " 'اعجبتني': 3559,\n",
       " 'ولد': 59884,\n",
       " 'فراخا': 36251,\n",
       " 'تطير': 24376,\n",
       " 'بالسرورومن': 17460,\n",
       " 'الشر': 9352,\n",
       " 'انبت': 15211,\n",
       " 'شجرا': 32155,\n",
       " 'اشواكه': 3055,\n",
       " 'الحسره': 7623,\n",
       " 'وثمره': 57088,\n",
       " 'الندمفرحم': 14250,\n",
       " 'امرءا': 15044,\n",
       " 'اغضي': 3828,\n",
       " 'الاخطاء': 4783,\n",
       " 'واستمتع': 52353,\n",
       " 'بالظاهر': 17612,\n",
       " 'ساحيا': 30692,\n",
       " 'اناس': 15193,\n",
       " 'قليلين': 38079,\n",
       " 'احب': 969,\n",
       " 'ابقي': 222,\n",
       " 'اطول': 3372,\n",
       " 'ولان': 59827,\n",
       " 'واجبات': 51865,\n",
       " 'اؤديها': 9,\n",
       " 'موفق': 49363,\n",
       " 'ممتع': 48652,\n",
       " 'مغرقه': 47934,\n",
       " 'السوداويه': 9171,\n",
       " 'والكابه': 54598,\n",
       " 'تمنيت': 25611,\n",
       " 'يميزها': 65437,\n",
       " 'لغه': 41817,\n",
       " 'بهاء': 21234,\n",
       " 'البسيطه': 6079,\n",
       " 'السلسه': 9065,\n",
       " 'حلوه': 27979,\n",
       " 'جداا': 26548,\n",
       " 'عجبتني': 34138,\n",
       " 'النهايه': 14438,\n",
       " 'اكتر': 4381,\n",
       " 'الفيل': 11028,\n",
       " 'الازرق': 4923,\n",
       " 'الشخصيه': 9339,\n",
       " 'الرئيسيه': 8344,\n",
       " 'للقصه': 43136,\n",
       " 'تحولت': 22968,\n",
       " 'لشخص': 41478,\n",
       " 'الحبكه': 7515,\n",
       " 'رائعه': 29634,\n",
       " 'احمد': 1284,\n",
       " 'مراد': 46685,\n",
       " 'ابدع': 167,\n",
       " 'السرد': 8973,\n",
       " 'والتفاصيل': 53508,\n",
       " 'ليه': 44509,\n",
       " 'التحفظ': 6402,\n",
       " 'المبالغات': 11995,\n",
       " 'المشاهد': 13055,\n",
       " 'الالفاظ': 5498,\n",
       " 'المجمل': 12404,\n",
       " 'تستحق': 23690,\n",
       " 'نجوم': 49893,\n",
       " 'التشويق': 6602,\n",
       " 'لمحبي': 43609,\n",
       " 'التنميه': 6961,\n",
       " 'البشريه': 6089,\n",
       " 'ومقتنعيها': 60755,\n",
       " 'يبان': 62428,\n",
       " 'جميل': 26963,\n",
       " 'بالنسبه': 18079,\n",
       " 'ليا': 44181,\n",
       " 'ماحبش': 44779,\n",
       " 'اظلمه': 3388,\n",
       " 'لاني': 40248,\n",
       " 'مش': 47256,\n",
       " 'محبي': 46189,\n",
       " 'النوع': 14466,\n",
       " 'حساه': 27644,\n",
       " 'عباره': 34038,\n",
       " 'كلام': 39123,\n",
       " 'ورق': 57992,\n",
       " 'نصايح': 50283,\n",
       " 'مثاليه': 45931,\n",
       " 'يعني': 64713,\n",
       " 'مبيعيشناش': 45392,\n",
       " 'ارض': 2029,\n",
       " 'الواقع': 14648,\n",
       " 'نفسيه': 50579,\n",
       " 'الانسان': 5712,\n",
       " 'تقدر': 25026,\n",
       " 'تعمل': 24657,\n",
       " 'ده': 29273,\n",
       " 'الكلام': 11584,\n",
       " 'اللو': 11835,\n",
       " 'اوي': 16151,\n",
       " 'وجميل': 57228,\n",
       " 'وتحسه': 56227,\n",
       " 'مقنع': 48281,\n",
       " 'رائيي': 29652,\n",
       " 'اوائل': 15920,\n",
       " 'قراتها': 37747,\n",
       " 'الاحترام': 4686,\n",
       " 'والتقدير': 53525,\n",
       " 'محمد': 46337,\n",
       " 'العريفي': 10244,\n",
       " 'رائع': 29624,\n",
       " 'ينتقد': 65507,\n",
       " 'ظواهرنا': 33759,\n",
       " 'الاجتماعيه': 4634,\n",
       " 'السلبيه': 9061,\n",
       " 'بطريقه': 20018,\n",
       " 'فنيه': 37032,\n",
       " 'ومميزه': 60848,\n",
       " 'انصح': 15557,\n",
       " 'الجميع': 7354,\n",
       " 'بقرائته': 20423,\n",
       " 'اقرا': 4226,\n",
       " 'لكاتب': 42041,\n",
       " 'خليجي': 28729,\n",
       " 'اماراتي': 14937,\n",
       " 'وكبدايه': 59638,\n",
       " 'مبشره': 45350,\n",
       " 'المقالات': 13517,\n",
       " 'الطبيعه': 9880,\n",
       " 'السرديه': 8978,\n",
       " 'المتنوعه': 12295,\n",
       " 'تشترك': 23950,\n",
       " 'اعتبارها': 3448,\n",
       " 'دعوه': 29100,\n",
       " 'للتدبر': 42436,\n",
       " 'امور': 15165,\n",
       " 'تتدبر': 22256,\n",
       " 'وافعالك': 52736,\n",
       " 'الناس': 14169,\n",
       " 'الكون': 11653,\n",
       " 'ونواميسه': 61261,\n",
       " 'اكثرها': 4432,\n",
       " 'المشاعر': 13050,\n",
       " 'الانسانيه': 5717,\n",
       " 'الانماط': 5768,\n",
       " 'الحياتيه': 7784,\n",
       " 'العامه': 10089,\n",
       " 'جيده': 27162,\n",
       " 'وممتازه': 60833,\n",
       " 'سيمر': 31929,\n",
       " 'كالبرق': 38389,\n",
       " 'فرط': 36337,\n",
       " 'بساطته': 19651,\n",
       " 'وعدم': 58978,\n",
       " 'جدواه': 26620,\n",
       " 'يعتمد': 64586,\n",
       " 'خلفيه': 28700,\n",
       " 'ومخزونه': 60412,\n",
       " 'الفكري': 10932,\n",
       " 'ممل': 48705,\n",
       " 'لنوع': 44003,\n",
       " 'بالطبع': 17596,\n",
       " 'يقوي': 65111,\n",
       " 'العلاقه': 10388,\n",
       " 'بالله': 17875,\n",
       " 'يسمو': 64107,\n",
       " 'بروح': 19584,\n",
       " 'اسئله': 2193,\n",
       " 'تتبادر': 22178,\n",
       " 'الاذهان': 4854,\n",
       " 'سلس': 31408,\n",
       " 'عميق': 34780,\n",
       " 'رحم': 29918,\n",
       " 'الدكتور': 8191,\n",
       " 'مصطفي': 47459,\n",
       " 'ميزان': 49442,\n",
       " 'حسناته': 27671,\n",
       " 'اخالف': 1328,\n",
       " 'قليلا': 38073,\n",
       " 'الاراء': 4857,\n",
       " 'فالروايه': 35694,\n",
       " 'مجملها': 46078,\n",
       " 'تعكس': 24605,\n",
       " 'الضجه': 9776,\n",
       " 'المثار': 12332,\n",
       " 'احترم': 1048,\n",
       " 'اول': 16103,\n",
       " 'للكاتب': 43161,\n",
       " 'واول': 55524,\n",
       " 'اعلمها': 3703,\n",
       " 'عالاقل': 33915,\n",
       " 'تكتب': 25235,\n",
       " 'مجال': 45982,\n",
       " 'المؤامرات': 11866,\n",
       " 'والتشويق': 53458,\n",
       " 'التاريخي': 6281,\n",
       " 'المستند': 12960,\n",
       " 'شواهد': 32574,\n",
       " 'عابها': 33789,\n",
       " 'يكاد': 65126,\n",
       " 'يخلو': 63476,\n",
       " 'البلاغه': 6159,\n",
       " 'حكايه': 27905,\n",
       " 'تاثر': 21882,\n",
       " 'بدان': 19263,\n",
       " 'براون': 19460,\n",
       " 'الفصول': 10876,\n",
       " 'القصيره': 11266,\n",
       " 'ووضع': 61466,\n",
       " 'الغاز': 10539,\n",
       " 'رقميه': 30158,\n",
       " 'اري': 2114,\n",
       " 'ضروره': 33237,\n",
       " 'اصلا': 3161,\n",
       " 'قصر': 37903,\n",
       " 'سلبي': 31399,\n",
       " 'نمو': 50812,\n",
       " 'الشخصيات': 9332,\n",
       " 'وتفاعل': 56705,\n",
       " 'معاها': 47675,\n",
       " 'نعلم': 50477,\n",
       " 'شئ': 31973,\n",
       " 'كتاريخ': 38657,\n",
       " 'مواقف': 49218,\n",
       " 'وايضا': 55548,\n",
       " 'تفاعل': 24817,\n",
       " 'متناسق': 45829,\n",
       " 'يعرف': 64624,\n",
       " 'القاهره': 11105,\n",
       " 'يصل': 64339,\n",
       " 'فتحكي': 35973,\n",
       " 'سابق': 30654,\n",
       " 'معرفه': 47787,\n",
       " 'ضعف': 33242,\n",
       " 'موضوع': 49328,\n",
       " 'الحلم': 7711,\n",
       " 'والرجل': 53945,\n",
       " 'الجالس': 7166,\n",
       " 'البستان': 6071,\n",
       " 'وينتظر': 62148,\n",
       " 'يكرر': 65160,\n",
       " 'مره': 46833,\n",
       " 'لسان': 41407,\n",
       " 'بطل': 20026,\n",
       " 'اعجبني': 3566,\n",
       " 'التبادل': 6325,\n",
       " 'الحاضر': 7481,\n",
       " 'والمستقبل': 54847,\n",
       " 'والكشف': 54618,\n",
       " 'المتوازي': 12305,\n",
       " 'واعجبني': 52631,\n",
       " 'وجود': 57270,\n",
       " 'تجربه': 22635,\n",
       " 'عربيه': 34260,\n",
       " 'المجال': 12363,\n",
       " 'شاء': 31979,\n",
       " 'عوده': 34888,\n",
       " 'الغائب': 10528,\n",
       " 'علها': 34654,\n",
       " 'باذن': 16497,\n",
       " 'انهيت': 15780,\n",
       " 'قراءتها': 37709,\n",
       " 'طريقي': 33516,\n",
       " 'قنا': 38107,\n",
       " 'ساعات': 30773,\n",
       " 'متواصله': 45877,\n",
       " 'كالعاده': 38466,\n",
       " 'وغائصه': 59171,\n",
       " 'اذكر': 1821,\n",
       " 'الراكب': 8388,\n",
       " 'بجواري': 18976,\n",
       " 'يدي': 63592,\n",
       " 'الدخول': 8126,\n",
       " 'عقيم': 34569,\n",
       " 'علاء': 34583,\n",
       " 'اسوان': 2874,\n",
       " 'واعماله': 52669,\n",
       " 'المكشوفه': 13629,\n",
       " 'نظرت': 50400,\n",
       " 'ود': 57688,\n",
       " 'واعطيته': 52659,\n",
       " 'الوش': 14756,\n",
       " 'الخشب': 7921,\n",
       " 'فتراجع': 35995,\n",
       " 'الفور': 11001,\n",
       " 'نقيم': 50716,\n",
       " 'الارباب': 4862,\n",
       " 'النجمات': 14233,\n",
       " 'تضيء': 24278,\n",
       " 'كلامي': 39135,\n",
       " 'العالمين': 10076,\n",
       " 'ربي': 29837,\n",
       " 'احبك': 1008,\n",
       " 'واحب': 51926,\n",
       " 'كلامك': 39128,\n",
       " 'اللهم': 11831,\n",
       " 'زدني': 30448,\n",
       " 'محبه': 46177,\n",
       " 'وتعلقا': 56653,\n",
       " 'وخوفا': 57668,\n",
       " 'وخضوعا': 57615,\n",
       " 'وفقها': 59329,\n",
       " 'بكتابك': 20541,\n",
       " 'وعلما': 59100,\n",
       " 'اله': 14483,\n",
       " 'للعالمين': 42957,\n",
       " 'النصف': 14318,\n",
       " 'تحدث': 22795,\n",
       " 'رحلته': 29911,\n",
       " 'المنتجعات': 13830,\n",
       " 'الهند': 14582,\n",
       " 'ايام': 16165,\n",
       " 'الشقيري': 9454,\n",
       " 'تبهرني': 22152,\n",
       " 'عبرت': 34075,\n",
       " 'المراجعات': 12728,\n",
       " 'اكتشفت': 4401,\n",
       " 'ان': 15182,\n",
       " 'صيتها': 33133,\n",
       " 'وقراها': 59480,\n",
       " 'الاغلبيه': 5324,\n",
       " 'شهره': 32540,\n",
       " 'مسبقه': 46999,\n",
       " 'اثر': 717,\n",
       " 'رايهم': 29794,\n",
       " 'واستحسانهم': 52281,\n",
       " 'شان': 32069,\n",
       " 'امر': 15043,\n",
       " 'توغل': 26125,\n",
       " 'توقعه': 26158,\n",
       " 'يجيء': 63115,\n",
       " 'عاديا': 33835,\n",
       " 'وقعت': 59529,\n",
       " 'بالصدفه': 17550,\n",
       " 'اك': 4356,\n",
       " 'احمل': 1290,\n",
       " 'توقع': 26145,\n",
       " 'مسبق': 46996,\n",
       " 'اظنها': 3393,\n",
       " 'واسبغت': 52266,\n",
       " 'جوا': 27066,\n",
       " 'مغايرا': 47922,\n",
       " 'جميلا': 26964,\n",
       " 'الابداع': 4543,\n",
       " 'يصدق': 64302,\n",
       " 'تتركها': 22286,\n",
       " 'بدات': 19249,\n",
       " 'مقدمه': 48213,\n",
       " 'المترجم': 12133,\n",
       " 'جعلتني': 26830,\n",
       " 'اشك': 3022,\n",
       " 'ترجمه': 23409,\n",
       " 'حقيقهلمدونات': 27872,\n",
       " 'الراهب': 8391,\n",
       " 'هيبا': 51585,\n",
       " 'التاريخيه': 6283,\n",
       " 'بالروايه': 17416,\n",
       " 'ملخص': 48528,\n",
       " 'عزازيل': 34315,\n",
       " 'يشبه': 64159,\n",
       " 'البشر': 6082,\n",
       " 'وجه': 57245,\n",
       " 'الارض': 4888,\n",
       " 'دايما': 28943,\n",
       " 'ينازعه': 65450,\n",
       " 'الشيطان': 9533,\n",
       " 'الطرق': 9902,\n",
       " 'لينحرف': 44489,\n",
       " 'الدين': 8269,\n",
       " 'حديث': 27482,\n",
       " 'الرسول': 8490,\n",
       " 'يجري': 63063,\n",
       " 'مجري': 46055,\n",
       " 'الدم': 8204,\n",
       " 'يوسف': 65827,\n",
       " 'زيدان': 30595,\n",
       " 'روائي': 30249,\n",
       " 'محترف': 46207,\n",
       " 'يجعل': 63072,\n",
       " 'القاريء': 11076,\n",
       " 'يستشعر': 63938,\n",
       " 'كلمه': 39175,\n",
       " 'متقنه': 45766,\n",
       " 'وسلسه': 58294,\n",
       " 'بدت': 19283,\n",
       " 'تصوير': 24210,\n",
       " 'عبقري': 34086,\n",
       " 'للاماكن': 42289,\n",
       " 'الطريقه': 9910,\n",
       " 'الفلسفيه': 10964,\n",
       " 'الحواربين': 7768,\n",
       " 'الاساقفه': 4950,\n",
       " 'والرهبان': 53974,\n",
       " 'الوهيه': 14844,\n",
       " 'المسيح': 13027,\n",
       " 'المفتوحه': 13459,\n",
       " 'جاءت': 26370,\n",
       " 'متوقعه': 45907,\n",
       " 'تماماوكنت': 25495,\n",
       " 'اتمني': 642,\n",
       " 'حدث': 27455,\n",
       " 'لهيبا': 44062,\n",
       " 'الوحيده': 14713,\n",
       " 'حسيت': 27683,\n",
       " 'شويه': 32604,\n",
       " 'الاطلاق': 5236,\n",
       " 'شكرا': 32462,\n",
       " 'القراءه': 11171,\n",
       " 'اشاهد': 2913,\n",
       " 'فيلما': 37300,\n",
       " 'لخالد': 41139,\n",
       " 'العشوائيات': 10292,\n",
       " 'والفقر': 54486,\n",
       " 'وفقدان': 59320,\n",
       " 'الامل': 5583,\n",
       " 'وانعدام': 55395,\n",
       " 'الامن': 5588,\n",
       " 'وغياب': 59230,\n",
       " 'الاخلاق': 4787,\n",
       " 'وترك': 56372,\n",
       " 'الزمام': 8778,\n",
       " 'لشهوه': 41530,\n",
       " 'سيستغرق': 31824,\n",
       " 'ساعتين': 30777,\n",
       " 'اضعت': 3263,\n",
       " 'قررت': 37797,\n",
       " 'اقراه': 4244,\n",
       " 'عشان': 34375,\n",
       " 'اخلص': 1586,\n",
       " 'الجدل': 7229,\n",
       " 'بسمعه': 19726,\n",
       " 'واقفه': 52825,\n",
       " 'صديقين': 32893,\n",
       " 'بيقول': 21725,\n",
       " 'تحفه': 22898,\n",
       " 'فظيع': 36580,\n",
       " 'جاامد': 26385,\n",
       " 'وواحده': 61383,\n",
       " 'بتقول': 18764,\n",
       " 'زبااله': 30425,\n",
       " 'حد': 27446,\n",
       " 'يشوفه': 64258,\n",
       " 'ايدي': 16212,\n",
       " 'يدلي': 63568,\n",
       " 'بدلوه': 19313,\n",
       " 'الموضوع': 14091,\n",
       " 'عجبني': 34142,\n",
       " 'الراقي': 8386,\n",
       " 'والجهد': 53677,\n",
       " 'الفظيع': 10902,\n",
       " 'بذله': 19403,\n",
       " 'يظهر': 64509,\n",
       " 'بالشكل': 17530,\n",
       " 'تقدم': 25029,\n",
       " 'اضايق': 3224,\n",
       " 'المفصل': 13478,\n",
       " 'اعتراف': 3480,\n",
       " 'نوع': 50964,\n",
       " 'يعتقد': 64580,\n",
       " 'يكفر': 65187,\n",
       " 'خطاياه': 28571,\n",
       " 'الاعتراف': 5256,\n",
       " 'يحمل': 63316,\n",
       " 'اوزارنا': 16019,\n",
       " 'ويطلقها': 61943,\n",
       " 'فضاء': 36520,\n",
       " 'ورقه': 57997,\n",
       " 'بيضاء': 21639,\n",
       " 'فتحمله': 35976,\n",
       " 'دفع': 29125,\n",
       " 'لكتابه': 42062,\n",
       " 'حياته': 28148,\n",
       " 'الشكل': 9462,\n",
       " 'البعد': 6125,\n",
       " 'عنا': 34785,\n",
       " 'ونستخدم': 61078,\n",
       " 'ازدرائنا': 2138,\n",
       " 'كنوع': 39353,\n",
       " 'التبرير': 6333,\n",
       " 'عشتها': 34381,\n",
       " 'الاربعون': 4866,\n",
       " 'سرد': 31192,\n",
       " 'تفاصيل': 24811,\n",
       " 'ايامها': 16172,\n",
       " 'اعتقد': 3513,\n",
       " 'احلامه': 1265,\n",
       " 'طبيبا': 33438,\n",
       " 'ماهرا': 45118,\n",
       " 'راهبا': 29759,\n",
       " 'تقيا': 25199,\n",
       " 'اراد': 1873,\n",
       " 'يهرب': 65735,\n",
       " 'ويبرر': 61554,\n",
       " 'مذنبا': 46647,\n",
       " 'الملاك': 13658,\n",
       " 'فالراهب': 35687,\n",
       " 'التقي': 6816,\n",
       " 'الورع': 14732,\n",
       " 'يقدم': 64991,\n",
       " 'الخطايا': 7952,\n",
       " 'ويصبح': 61906,\n",
       " 'عبدا': 34052,\n",
       " 'لشهواته': 41526,\n",
       " 'السبب': 8915,\n",
       " 'صديقي': 32892,\n",
       " 'موضع': 49324,\n",
       " 'موجود': 49266,\n",
       " 'مسجون': 47144,\n",
       " 'هارب': 51073,\n",
       " 'مواجهه': 49188,\n",
       " 'تنقصك': 25866,\n",
       " 'الشجاعه': 9318,\n",
       " 'عقودك': 34559,\n",
       " 'الاربعه': 4865,\n",
       " 'ادري': 1710,\n",
       " 'اوجدتها': 15962,\n",
       " 'صرت': 32911,\n",
       " 'حرا': 27504,\n",
       " 'طليقا': 33587,\n",
       " 'ام': 14932,\n",
       " 'عاودت': 33994,\n",
       " 'لاداء': 39805,\n",
       " 'دور': 29315,\n",
       " 'الضحيه': 9789,\n",
       " 'مكان': 48320,\n",
       " 'تجذبك': 22618,\n",
       " 'عالمها': 33943,\n",
       " 'فتعيش': 36047,\n",
       " 'حاله': 27306,\n",
       " 'لممازحه': 43798,\n",
       " 'النسيان': 14289,\n",
       " 'تقولها': 25183,\n",
       " 'احلام': 1260,\n",
       " 'صفحاتها': 32983,\n",
       " 'ساخر': 30700,\n",
       " 'كتبته': 38665,\n",
       " 'مختلفه': 46425,\n",
       " 'كليا': 39192,\n",
       " 'ثلاثيتها': 26308,\n",
       " 'قالو': 37506,\n",
       " 'النقاد': 14382,\n",
       " 'عقبه': 34528,\n",
       " 'طريقها': 33511,\n",
       " 'وصلت': 58647,\n",
       " 'لسقف': 41433,\n",
       " 'الكمال': 11604,\n",
       " 'رايي': 29795,\n",
       " 'اجد': 826,\n",
       " 'توجهه': 26062,\n",
       " 'مختلف': 46418,\n",
       " 'الروايات': 8621,\n",
       " 'والغرض': 54407,\n",
       " 'يعجب': 64597,\n",
       " 'فعلا': 36614,\n",
       " 'قرائيه': 37735,\n",
       " 'جميله': 26972,\n",
       " 'زمنذ': 30511,\n",
       " 'زمن': 30509,\n",
       " 'انادي': 15187,\n",
       " 'بالنسيان': 18083,\n",
       " 'اوقات': 16080,\n",
       " 'اساند': 2234,\n",
       " 'صديقات': 32876,\n",
       " 'اوقعهن': 16085,\n",
       " 'الحظ': 7654,\n",
       " 'العاثر': 10018,\n",
       " 'مهب': 49112,\n",
       " 'الفقد': 10907,\n",
       " 'يتفق': 62818,\n",
       " 'واتفق': 51805,\n",
       " 'هوا': 51522,\n",
       " 'كتالوج': 38658,\n",
       " 'للنسيان': 43438,\n",
       " 'وصفه': 58636,\n",
       " 'اكتبها': 4379,\n",
       " 'تاتي': 21877,\n",
       " 'شاكيه': 32057,\n",
       " 'الي': 14847,\n",
       " 'اتكبد': 600,\n",
       " 'عناء': 34786,\n",
       " 'النصح': 14312,\n",
       " 'نسيانكم': 50207,\n",
       " 'تواطئ': 26027,\n",
       " 'خفي': 28630,\n",
       " 'يجمع': 63092,\n",
       " 'نساء': 50097,\n",
       " 'العالم': 10071,\n",
       " 'ليكون': 44446,\n",
       " 'لانفسهن': 40224,\n",
       " 'ترياقا': 23552,\n",
       " 'خاصا': 28272,\n",
       " 'مانضعه': 45098,\n",
       " 'جيوب': 27181,\n",
       " 'الحقائب': 7661,\n",
       " 'السفر': 9024,\n",
       " 'نخرج': 49974,\n",
       " 'لنشرب': 43924,\n",
       " 'قهوتنا': 38131,\n",
       " 'نفترق': 50531,\n",
       " 'قرانا': 37763,\n",
       " 'محفز': 46304,\n",
       " 'النجاح': 14223,\n",
       " 'ومؤلفات': 60115,\n",
       " 'تحفزنا': 22889,\n",
       " 'للامل': 42299,\n",
       " 'للسعي': 42809,\n",
       " 'نحتاج': 49910,\n",
       " 'نعيش': 50489,\n",
       " 'بامان': 18175,\n",
       " 'نفسيلكن': 50577,\n",
       " 'وبالرغم': 55627,\n",
       " 'درع': 29034,\n",
       " 'مهم': 49156,\n",
       " 'الالم': 5507,\n",
       " 'للمره': 43283,\n",
       " 'الاولي': 5852,\n",
       " 'نجد': 49860,\n",
       " 'احداهن': 1123,\n",
       " 'تشجعنا': 23966,\n",
       " 'وتواجهنا': 57001,\n",
       " 'بخيباتنا': 19222,\n",
       " 'لنكون': 43980,\n",
       " 'تناسب': 25650,\n",
       " 'طردي': 33482,\n",
       " 'والنسيان': 55091,\n",
       " 'كلمات': 39160,\n",
       " 'تجعلنا': 22668,\n",
       " 'نقلب': 50689,\n",
       " 'هم': 51440,\n",
       " 'الذكري': 8303,\n",
       " 'لنضحك': 43942,\n",
       " 'مانتذكر': 45084,\n",
       " 'نقرا': 50660,\n",
       " 'نتعثر': 49778,\n",
       " 'الحفره': 7656,\n",
       " 'نسحب': 50164,\n",
       " 'صديقه': 32888,\n",
       " 'قديمه': 37677,\n",
       " 'نتبادل': 49722,\n",
       " 'الادوار': 4836,\n",
       " 'نصبح': 50285,\n",
       " 'داخل': 28875,\n",
       " 'وتصبح': 56510,\n",
       " 'تمد': 25526,\n",
       " 'يدها': 63576,\n",
       " 'تتكرر': 22419,\n",
       " 'وتتكرر': 56123,\n",
       " 'يصبح': 64286,\n",
       " 'حضور': 27755,\n",
       " 'الخيبه': 8072,\n",
       " 'ثيم': 26362,\n",
       " 'خاص': 28271,\n",
       " 'نسميه': 50198,\n",
       " 'السقوط': 9038,\n",
       " 'ونتبادله': 61008,\n",
       " 'مكشوفه': 48398,\n",
       " 'انتهيت': 15370,\n",
       " 'ضحكت': 33204,\n",
       " 'همم': 51456,\n",
       " 'تمددت': 25527,\n",
       " 'وانا': 55294,\n",
       " 'اراقب': 1887,\n",
       " 'السقف': 9037,\n",
       " 'منزل': 48903,\n",
       " 'جدتي': 26596,\n",
       " 'الجميل': 7355,\n",
       " 'فكرت': 36775,\n",
       " 'نخشي': 49976,\n",
       " 'نعترف': 50455,\n",
       " 'تركنا': 23498,\n",
       " 'قارعه': 37452,\n",
       " 'وحيدات': 57545,\n",
       " 'وجدنا': 57145,\n",
       " 'يشاركنا': 64147,\n",
       " 'الاحساس': 4726,\n",
       " 'يعلن': 64699,\n",
       " 'الكل': 11578,\n",
       " 'يخفي': 63461,\n",
       " 'قناعه': 38114,\n",
       " 'جرحا': 26707,\n",
       " 'خيبه': 28833,\n",
       " 'طعنه': 33528,\n",
       " 'ينتظر': 65498,\n",
       " 'يطمئن': 64488,\n",
       " 'ليرفع': 44306,\n",
       " 'ويعترف': 61970,\n",
       " 'استطعت': 2440,\n",
       " 'انسي': 15521,\n",
       " ...}"
      ]
     },
     "execution_count": 31,
     "metadata": {},
     "output_type": "execute_result"
    }
   ],
   "source": [
    "Vocabulary = CountVectorizer_.vocabulary_\n",
    "Vocabulary"
   ]
  },
  {
   "cell_type": "markdown",
   "metadata": {},
   "source": [
    "# Machine Learning"
   ]
  },
  {
   "cell_type": "markdown",
   "metadata": {},
   "source": [
    "**1-Naive Bayes**"
   ]
  },
  {
   "cell_type": "code",
   "execution_count": 32,
   "metadata": {},
   "outputs": [
    {
     "data": {
      "image/png": "[encoded data removed]",
      "text/plain": [
       "<Figure size 640x480 with 1 Axes>"
      ]
     },
     "metadata": {},
     "output_type": "display_data"
    }
   ],
   "source": [
    "Algorithm = MultinomialNB(alpha= 1)\n",
    "Naive_Bayes = machine_learning_model(algorithm=Algorithm)\n",
    "fit_model(model=Naive_Bayes, X_train=X_train_CV_, y_train=y_train)\n",
    "confusion_matrix_(model=Naive_Bayes, X_test=X_test_CV_, y_test=y_test, name='Naive Bayes')"
   ]
  },
  {
   "cell_type": "code",
   "execution_count": 33,
   "metadata": {},
   "outputs": [
    {
     "data": {
      "text/html": [
       "<div>\n",
       "<style scoped>\n",
       "    .dataframe tbody tr th:only-of-type {\n",
       "        vertical-align: middle;\n",
       "    }\n",
       "\n",
       "    .dataframe tbody tr th {\n",
       "        vertical-align: top;\n",
       "    }\n",
       "\n",
       "    .dataframe thead th {\n",
       "        text-align: right;\n",
       "    }\n",
       "</style>\n",
       "<table border=\"1\" class=\"dataframe\">\n",
       "  <thead>\n",
       "    <tr style=\"text-align: right;\">\n",
       "      <th></th>\n",
       "      <th>Values</th>\n",
       "    </tr>\n",
       "  </thead>\n",
       "  <tbody>\n",
       "    <tr>\n",
       "      <th>Accuracy</th>\n",
       "      <td>0.880122</td>\n",
       "    </tr>\n",
       "    <tr>\n",
       "      <th>Precision</th>\n",
       "      <td>0.888982</td>\n",
       "    </tr>\n",
       "    <tr>\n",
       "      <th>Recall</th>\n",
       "      <td>0.866830</td>\n",
       "    </tr>\n",
       "    <tr>\n",
       "      <th>F1Score</th>\n",
       "      <td>0.877766</td>\n",
       "    </tr>\n",
       "    <tr>\n",
       "      <th>Error</th>\n",
       "      <td>0.119878</td>\n",
       "    </tr>\n",
       "  </tbody>\n",
       "</table>\n",
       "</div>"
      ],
      "text/plain": [
       "             Values\n",
       "Accuracy   0.880122\n",
       "Precision  0.888982\n",
       "Recall     0.866830\n",
       "F1Score    0.877766\n",
       "Error      0.119878"
      ]
     },
     "execution_count": 33,
     "metadata": {},
     "output_type": "execute_result"
    }
   ],
   "source": [
    "metrics_values(model= Naive_Bayes, X_test=X_test_CV_, y_test=y_test)"
   ]
  },
  {
   "cell_type": "markdown",
   "metadata": {},
   "source": [
    "**2-Logistic Regression**"
   ]
  },
  {
   "cell_type": "code",
   "execution_count": 34,
   "metadata": {},
   "outputs": [
    {
     "data": {
      "image/png": "[encoded data removed]",
      "text/plain": [
       "<Figure size 640x480 with 1 Axes>"
      ]
     },
     "metadata": {},
     "output_type": "display_data"
    }
   ],
   "source": [
    "Algorithm = LogisticRegression()\n",
    "Logistic_Regression = machine_learning_model(algorithm=Algorithm)\n",
    "fit_model(model=Logistic_Regression, X_train=X_train_CV_, y_train=y_train)\n",
    "confusion_matrix_(Logistic_Regression, X_test=X_test_CV_, y_test=y_test, name='Logistic Regression')"
   ]
  },
  {
   "cell_type": "code",
   "execution_count": 35,
   "metadata": {},
   "outputs": [
    {
     "data": {
      "text/html": [
       "<div>\n",
       "<style scoped>\n",
       "    .dataframe tbody tr th:only-of-type {\n",
       "        vertical-align: middle;\n",
       "    }\n",
       "\n",
       "    .dataframe tbody tr th {\n",
       "        vertical-align: top;\n",
       "    }\n",
       "\n",
       "    .dataframe thead th {\n",
       "        text-align: right;\n",
       "    }\n",
       "</style>\n",
       "<table border=\"1\" class=\"dataframe\">\n",
       "  <thead>\n",
       "    <tr style=\"text-align: right;\">\n",
       "      <th></th>\n",
       "      <th>Values</th>\n",
       "    </tr>\n",
       "  </thead>\n",
       "  <tbody>\n",
       "    <tr>\n",
       "      <th>Accuracy</th>\n",
       "      <td>0.895943</td>\n",
       "    </tr>\n",
       "    <tr>\n",
       "      <th>Precision</th>\n",
       "      <td>0.889023</td>\n",
       "    </tr>\n",
       "    <tr>\n",
       "      <th>Recall</th>\n",
       "      <td>0.903186</td>\n",
       "    </tr>\n",
       "    <tr>\n",
       "      <th>F1Score</th>\n",
       "      <td>0.896049</td>\n",
       "    </tr>\n",
       "    <tr>\n",
       "      <th>Error</th>\n",
       "      <td>0.104057</td>\n",
       "    </tr>\n",
       "  </tbody>\n",
       "</table>\n",
       "</div>"
      ],
      "text/plain": [
       "             Values\n",
       "Accuracy   0.895943\n",
       "Precision  0.889023\n",
       "Recall     0.903186\n",
       "F1Score    0.896049\n",
       "Error      0.104057"
      ]
     },
     "execution_count": 35,
     "metadata": {},
     "output_type": "execute_result"
    }
   ],
   "source": [
    "metrics_values(model= Logistic_Regression, X_test=X_test_CV_, y_test=y_test)"
   ]
  },
  {
   "cell_type": "markdown",
   "metadata": {},
   "source": [
    "**3-Decision Tree**"
   ]
  },
  {
   "cell_type": "code",
   "execution_count": 36,
   "metadata": {},
   "outputs": [
    {
     "data": {
      "image/png": "[encoded data removed]",
      "text/plain": [
       "<Figure size 640x480 with 1 Axes>"
      ]
     },
     "metadata": {},
     "output_type": "display_data"
    }
   ],
   "source": [
    "Algorithm = DecisionTreeClassifier(criterion='entropy')\n",
    "Decision_Tree = machine_learning_model(algorithm=Algorithm)\n",
    "fit_model(model=Decision_Tree, X_train=X_train_CV_, y_train=y_train)\n",
    "confusion_matrix_(model=Decision_Tree, X_test=X_test_CV_, y_test=y_test, name='Decision Tree')"
   ]
  },
  {
   "cell_type": "code",
   "execution_count": 37,
   "metadata": {},
   "outputs": [
    {
     "data": {
      "text/html": [
       "<div>\n",
       "<style scoped>\n",
       "    .dataframe tbody tr th:only-of-type {\n",
       "        vertical-align: middle;\n",
       "    }\n",
       "\n",
       "    .dataframe tbody tr th {\n",
       "        vertical-align: top;\n",
       "    }\n",
       "\n",
       "    .dataframe thead th {\n",
       "        text-align: right;\n",
       "    }\n",
       "</style>\n",
       "<table border=\"1\" class=\"dataframe\">\n",
       "  <thead>\n",
       "    <tr style=\"text-align: right;\">\n",
       "      <th></th>\n",
       "      <th>Values</th>\n",
       "    </tr>\n",
       "  </thead>\n",
       "  <tbody>\n",
       "    <tr>\n",
       "      <th>Accuracy</th>\n",
       "      <td>0.838742</td>\n",
       "    </tr>\n",
       "    <tr>\n",
       "      <th>Precision</th>\n",
       "      <td>0.837209</td>\n",
       "    </tr>\n",
       "    <tr>\n",
       "      <th>Recall</th>\n",
       "      <td>0.838235</td>\n",
       "    </tr>\n",
       "    <tr>\n",
       "      <th>F1Score</th>\n",
       "      <td>0.837722</td>\n",
       "    </tr>\n",
       "    <tr>\n",
       "      <th>Error</th>\n",
       "      <td>0.161258</td>\n",
       "    </tr>\n",
       "  </tbody>\n",
       "</table>\n",
       "</div>"
      ],
      "text/plain": [
       "             Values\n",
       "Accuracy   0.838742\n",
       "Precision  0.837209\n",
       "Recall     0.838235\n",
       "F1Score    0.837722\n",
       "Error      0.161258"
      ]
     },
     "execution_count": 37,
     "metadata": {},
     "output_type": "execute_result"
    }
   ],
   "source": [
    "metrics_values(model= Decision_Tree, X_test=X_test_CV_, y_test=y_test)"
   ]
  },
  {
   "cell_type": "markdown",
   "metadata": {},
   "source": [
    "**4-K Nearest Neighbors**"
   ]
  },
  {
   "cell_type": "code",
   "execution_count": 38,
   "metadata": {},
   "outputs": [
    {
     "data": {
      "image/png": "[encoded data removed]",
      "text/plain": [
       "<Figure size 640x480 with 1 Axes>"
      ]
     },
     "metadata": {},
     "output_type": "display_data"
    }
   ],
   "source": [
    "Algorithm =KNeighborsClassifier(metric='cosine', n_neighbors=5)\n",
    "K_Nearest_Neighbors = machine_learning_model(algorithm=Algorithm)\n",
    "fit_model(model=K_Nearest_Neighbors, X_train=X_train_CV_, y_train=y_train)\n",
    "confusion_matrix_(model=K_Nearest_Neighbors, X_test=X_test_CV_, y_test=y_test, name='K Nearest Neighbors')"
   ]
  },
  {
   "cell_type": "code",
   "execution_count": 39,
   "metadata": {},
   "outputs": [
    {
     "data": {
      "text/html": [
       "<div>\n",
       "<style scoped>\n",
       "    .dataframe tbody tr th:only-of-type {\n",
       "        vertical-align: middle;\n",
       "    }\n",
       "\n",
       "    .dataframe tbody tr th {\n",
       "        vertical-align: top;\n",
       "    }\n",
       "\n",
       "    .dataframe thead th {\n",
       "        text-align: right;\n",
       "    }\n",
       "</style>\n",
       "<table border=\"1\" class=\"dataframe\">\n",
       "  <thead>\n",
       "    <tr style=\"text-align: right;\">\n",
       "      <th></th>\n",
       "      <th>Values</th>\n",
       "    </tr>\n",
       "  </thead>\n",
       "  <tbody>\n",
       "    <tr>\n",
       "      <th>Accuracy</th>\n",
       "      <td>0.754767</td>\n",
       "    </tr>\n",
       "    <tr>\n",
       "      <th>Precision</th>\n",
       "      <td>0.724538</td>\n",
       "    </tr>\n",
       "    <tr>\n",
       "      <th>Recall</th>\n",
       "      <td>0.816585</td>\n",
       "    </tr>\n",
       "    <tr>\n",
       "      <th>F1Score</th>\n",
       "      <td>0.767813</td>\n",
       "    </tr>\n",
       "    <tr>\n",
       "      <th>Error</th>\n",
       "      <td>0.245233</td>\n",
       "    </tr>\n",
       "  </tbody>\n",
       "</table>\n",
       "</div>"
      ],
      "text/plain": [
       "             Values\n",
       "Accuracy   0.754767\n",
       "Precision  0.724538\n",
       "Recall     0.816585\n",
       "F1Score    0.767813\n",
       "Error      0.245233"
      ]
     },
     "execution_count": 39,
     "metadata": {},
     "output_type": "execute_result"
    }
   ],
   "source": [
    "metrics_values(model= K_Nearest_Neighbors, X_test=X_test_CV_, y_test=y_test)"
   ]
  },
  {
   "cell_type": "markdown",
   "metadata": {},
   "source": [
    "**5-Random Forest**"
   ]
  },
  {
   "cell_type": "code",
   "execution_count": 40,
   "metadata": {},
   "outputs": [
    {
     "data": {
      "image/png": "[encoded data removed]",
      "text/plain": [
       "<Figure size 640x480 with 1 Axes>"
      ]
     },
     "metadata": {},
     "output_type": "display_data"
    }
   ],
   "source": [
    "Algorithm = RandomForestClassifier(criterion = 'entropy', n_estimators=100)\n",
    "Random_Forest = machine_learning_model(algorithm=Algorithm)\n",
    "fit_model(model=Random_Forest, X_train=X_train_CV_, y_train=y_train)\n",
    "confusion_matrix_(model=Random_Forest, X_test=X_test_CV_, y_test=y_test, name='Random Forest')"
   ]
  },
  {
   "cell_type": "code",
   "execution_count": 41,
   "metadata": {},
   "outputs": [
    {
     "data": {
      "text/html": [
       "<div>\n",
       "<style scoped>\n",
       "    .dataframe tbody tr th:only-of-type {\n",
       "        vertical-align: middle;\n",
       "    }\n",
       "\n",
       "    .dataframe tbody tr th {\n",
       "        vertical-align: top;\n",
       "    }\n",
       "\n",
       "    .dataframe thead th {\n",
       "        text-align: right;\n",
       "    }\n",
       "</style>\n",
       "<table border=\"1\" class=\"dataframe\">\n",
       "  <thead>\n",
       "    <tr style=\"text-align: right;\">\n",
       "      <th></th>\n",
       "      <th>Values</th>\n",
       "    </tr>\n",
       "  </thead>\n",
       "  <tbody>\n",
       "    <tr>\n",
       "      <th>Accuracy</th>\n",
       "      <td>0.892089</td>\n",
       "    </tr>\n",
       "    <tr>\n",
       "      <th>Precision</th>\n",
       "      <td>0.894239</td>\n",
       "    </tr>\n",
       "    <tr>\n",
       "      <th>Recall</th>\n",
       "      <td>0.887663</td>\n",
       "    </tr>\n",
       "    <tr>\n",
       "      <th>F1Score</th>\n",
       "      <td>0.890939</td>\n",
       "    </tr>\n",
       "    <tr>\n",
       "      <th>Error</th>\n",
       "      <td>0.107911</td>\n",
       "    </tr>\n",
       "  </tbody>\n",
       "</table>\n",
       "</div>"
      ],
      "text/plain": [
       "             Values\n",
       "Accuracy   0.892089\n",
       "Precision  0.894239\n",
       "Recall     0.887663\n",
       "F1Score    0.890939\n",
       "Error      0.107911"
      ]
     },
     "execution_count": 41,
     "metadata": {},
     "output_type": "execute_result"
    }
   ],
   "source": [
    "metrics_values(model= Random_Forest, X_test=X_test_CV_, y_test=y_test)"
   ]
  },
  {
   "cell_type": "markdown",
   "metadata": {},
   "source": [
    "**6-SGD Classifier**"
   ]
  },
  {
   "cell_type": "code",
   "execution_count": 42,
   "metadata": {},
   "outputs": [
    {
     "data": {
      "image/png": "[encoded data removed]",
      "text/plain": [
       "<Figure size 640x480 with 1 Axes>"
      ]
     },
     "metadata": {},
     "output_type": "display_data"
    }
   ],
   "source": [
    "Algorithm = SGDClassifier(loss='hinge')\n",
    "SGD = machine_learning_model(algorithm=Algorithm)\n",
    "fit_model(model=SGD, X_train=X_train_CV_, y_train=y_train)\n",
    "confusion_matrix_(model=SGD, X_test=X_test_CV_, y_test=y_test, name='SGD Classifier')"
   ]
  },
  {
   "cell_type": "code",
   "execution_count": 43,
   "metadata": {},
   "outputs": [
    {
     "data": {
      "text/html": [
       "<div>\n",
       "<style scoped>\n",
       "    .dataframe tbody tr th:only-of-type {\n",
       "        vertical-align: middle;\n",
       "    }\n",
       "\n",
       "    .dataframe tbody tr th {\n",
       "        vertical-align: top;\n",
       "    }\n",
       "\n",
       "    .dataframe thead th {\n",
       "        text-align: right;\n",
       "    }\n",
       "</style>\n",
       "<table border=\"1\" class=\"dataframe\">\n",
       "  <thead>\n",
       "    <tr style=\"text-align: right;\">\n",
       "      <th></th>\n",
       "      <th>Values</th>\n",
       "    </tr>\n",
       "  </thead>\n",
       "  <tbody>\n",
       "    <tr>\n",
       "      <th>Accuracy</th>\n",
       "      <td>0.891886</td>\n",
       "    </tr>\n",
       "    <tr>\n",
       "      <th>Precision</th>\n",
       "      <td>0.890338</td>\n",
       "    </tr>\n",
       "    <tr>\n",
       "      <th>Recall</th>\n",
       "      <td>0.892157</td>\n",
       "    </tr>\n",
       "    <tr>\n",
       "      <th>F1Score</th>\n",
       "      <td>0.891247</td>\n",
       "    </tr>\n",
       "    <tr>\n",
       "      <th>Error</th>\n",
       "      <td>0.108114</td>\n",
       "    </tr>\n",
       "  </tbody>\n",
       "</table>\n",
       "</div>"
      ],
      "text/plain": [
       "             Values\n",
       "Accuracy   0.891886\n",
       "Precision  0.890338\n",
       "Recall     0.892157\n",
       "F1Score    0.891247\n",
       "Error      0.108114"
      ]
     },
     "execution_count": 43,
     "metadata": {},
     "output_type": "execute_result"
    }
   ],
   "source": [
    "metrics_values(model= SGD, X_test=X_test_CV_, y_test=y_test)"
   ]
  },
  {
   "cell_type": "markdown",
   "metadata": {},
   "source": [
    "**7-Multilayer Perceptron**"
   ]
  },
  {
   "cell_type": "code",
   "execution_count": 44,
   "metadata": {},
   "outputs": [
    {
     "data": {
      "image/png": "[encoded data removed]",
      "text/plain": [
       "<Figure size 640x480 with 1 Axes>"
      ]
     },
     "metadata": {},
     "output_type": "display_data"
    }
   ],
   "source": [
    "Algorithm = MLPClassifier(hidden_layer_sizes=16)\n",
    "MLP = machine_learning_model(algorithm=Algorithm)\n",
    "fit_model(model=MLP, X_train=X_train_CV_, y_train=y_train)\n",
    "confusion_matrix_(model=MLP, X_test=X_test_CV_, y_test=y_test, name='Multilayer Perceptron')"
   ]
  },
  {
   "cell_type": "code",
   "execution_count": 45,
   "metadata": {},
   "outputs": [
    {
     "data": {
      "text/html": [
       "<div>\n",
       "<style scoped>\n",
       "    .dataframe tbody tr th:only-of-type {\n",
       "        vertical-align: middle;\n",
       "    }\n",
       "\n",
       "    .dataframe tbody tr th {\n",
       "        vertical-align: top;\n",
       "    }\n",
       "\n",
       "    .dataframe thead th {\n",
       "        text-align: right;\n",
       "    }\n",
       "</style>\n",
       "<table border=\"1\" class=\"dataframe\">\n",
       "  <thead>\n",
       "    <tr style=\"text-align: right;\">\n",
       "      <th></th>\n",
       "      <th>Values</th>\n",
       "    </tr>\n",
       "  </thead>\n",
       "  <tbody>\n",
       "    <tr>\n",
       "      <th>Accuracy</th>\n",
       "      <td>0.882759</td>\n",
       "    </tr>\n",
       "    <tr>\n",
       "      <th>Precision</th>\n",
       "      <td>0.868400</td>\n",
       "    </tr>\n",
       "    <tr>\n",
       "      <th>Recall</th>\n",
       "      <td>0.900327</td>\n",
       "    </tr>\n",
       "    <tr>\n",
       "      <th>F1Score</th>\n",
       "      <td>0.884075</td>\n",
       "    </tr>\n",
       "    <tr>\n",
       "      <th>Error</th>\n",
       "      <td>0.117241</td>\n",
       "    </tr>\n",
       "  </tbody>\n",
       "</table>\n",
       "</div>"
      ],
      "text/plain": [
       "             Values\n",
       "Accuracy   0.882759\n",
       "Precision  0.868400\n",
       "Recall     0.900327\n",
       "F1Score    0.884075\n",
       "Error      0.117241"
      ]
     },
     "execution_count": 45,
     "metadata": {},
     "output_type": "execute_result"
    }
   ],
   "source": [
    "metrics_values(model= MLP, X_test=X_test_CV_, y_test=y_test)"
   ]
  },
  {
   "cell_type": "markdown",
   "metadata": {},
   "source": [
    "**8-Support Vector Machine**"
   ]
  },
  {
   "cell_type": "code",
   "execution_count": 46,
   "metadata": {},
   "outputs": [
    {
     "data": {
      "image/png": "[encoded data removed]",
      "text/plain": [
       "<Figure size 640x480 with 1 Axes>"
      ]
     },
     "metadata": {},
     "output_type": "display_data"
    }
   ],
   "source": [
    "Algorithm = SVC(kernel='linear')\n",
    "SVM = machine_learning_model(algorithm=Algorithm)\n",
    "fit_model(model=SVM, X_train=X_train_CV_, y_train=y_train)\n",
    "confusion_matrix_(model=SVM, X_test=X_test_CV_, y_test=y_test, name='Support Vector Machine')"
   ]
  },
  {
   "cell_type": "code",
   "execution_count": 47,
   "metadata": {},
   "outputs": [
    {
     "data": {
      "text/html": [
       "<div>\n",
       "<style scoped>\n",
       "    .dataframe tbody tr th:only-of-type {\n",
       "        vertical-align: middle;\n",
       "    }\n",
       "\n",
       "    .dataframe tbody tr th {\n",
       "        vertical-align: top;\n",
       "    }\n",
       "\n",
       "    .dataframe thead th {\n",
       "        text-align: right;\n",
       "    }\n",
       "</style>\n",
       "<table border=\"1\" class=\"dataframe\">\n",
       "  <thead>\n",
       "    <tr style=\"text-align: right;\">\n",
       "      <th></th>\n",
       "      <th>Values</th>\n",
       "    </tr>\n",
       "  </thead>\n",
       "  <tbody>\n",
       "    <tr>\n",
       "      <th>Accuracy</th>\n",
       "      <td>0.882759</td>\n",
       "    </tr>\n",
       "    <tr>\n",
       "      <th>Precision</th>\n",
       "      <td>0.872213</td>\n",
       "    </tr>\n",
       "    <tr>\n",
       "      <th>Recall</th>\n",
       "      <td>0.895016</td>\n",
       "    </tr>\n",
       "    <tr>\n",
       "      <th>F1Score</th>\n",
       "      <td>0.883468</td>\n",
       "    </tr>\n",
       "    <tr>\n",
       "      <th>Error</th>\n",
       "      <td>0.117241</td>\n",
       "    </tr>\n",
       "  </tbody>\n",
       "</table>\n",
       "</div>"
      ],
      "text/plain": [
       "             Values\n",
       "Accuracy   0.882759\n",
       "Precision  0.872213\n",
       "Recall     0.895016\n",
       "F1Score    0.883468\n",
       "Error      0.117241"
      ]
     },
     "execution_count": 47,
     "metadata": {},
     "output_type": "execute_result"
    }
   ],
   "source": [
    "metrics_values(model= SVM, X_test=X_test_CV_, y_test=y_test)"
   ]
  },
  {
   "cell_type": "markdown",
   "metadata": {},
   "source": [
    "# Deep Learning"
   ]
  },
  {
   "cell_type": "code",
   "execution_count": 48,
   "metadata": {},
   "outputs": [
    {
     "data": {
      "text/plain": [
       "65910"
      ]
     },
     "execution_count": 48,
     "metadata": {},
     "output_type": "execute_result"
    }
   ],
   "source": [
    "tokenizer = Tokenizer(oov_token='<oov>')\n",
    "tokenizer.fit_on_texts(X_train)\n",
    "embedding_dim = 16\n",
    "vocab_size = len(tokenizer.word_index) + 1\n",
    "vocab_size"
   ]
  },
  {
   "cell_type": "code",
   "execution_count": 49,
   "metadata": {},
   "outputs": [
    {
     "data": {
      "text/plain": [
       "1853"
      ]
     },
     "execution_count": 49,
     "metadata": {},
     "output_type": "execute_result"
    }
   ],
   "source": [
    "X_train_seqs = tokenizer.texts_to_sequences(X_train)\n",
    "X_test_seqs = tokenizer.texts_to_sequences(X_test)\n",
    "max_length =  max([len(x) for x in X_train_seqs])\n",
    "max_length"
   ]
  },
  {
   "cell_type": "code",
   "execution_count": 50,
   "metadata": {},
   "outputs": [],
   "source": [
    "encoded_X_train = pad_sequences(X_train_seqs, maxlen=max_length, truncating='pre', padding='pre')\n",
    "encoded_X_test = pad_sequences(X_test_seqs, maxlen=max_length, truncating='pre', padding='pre')"
   ]
  },
  {
   "cell_type": "code",
   "execution_count": 51,
   "metadata": {},
   "outputs": [],
   "source": [
    "Callback = tf.keras.callbacks.EarlyStopping(\n",
    "                    monitor=\"accuracy\",\n",
    "                    mode=\"max\",\n",
    "                    patience=3\n",
    "                )"
   ]
  },
  {
   "cell_type": "markdown",
   "metadata": {},
   "source": [
    "**9-Convolutional Neural Network**"
   ]
  },
  {
   "cell_type": "code",
   "execution_count": 52,
   "metadata": {},
   "outputs": [
    {
     "name": "stdout",
     "output_type": "stream",
     "text": [
      "Epoch 1/50\n",
      "719/719 [==============================] - 126s 170ms/step - loss: 0.6933 - accuracy: 0.4995 - val_loss: 0.6932 - val_accuracy: 0.4966\n",
      "Epoch 2/50\n",
      "719/719 [==============================] - 56s 79ms/step - loss: 0.6932 - accuracy: 0.5000 - val_loss: 0.6932 - val_accuracy: 0.4966\n",
      "Epoch 3/50\n",
      "719/719 [==============================] - 38s 53ms/step - loss: 0.6932 - accuracy: 0.5003 - val_loss: 0.6932 - val_accuracy: 0.4966\n",
      "Epoch 4/50\n",
      "719/719 [==============================] - 31s 44ms/step - loss: 0.6932 - accuracy: 0.5033 - val_loss: 0.6932 - val_accuracy: 0.4966\n",
      "Epoch 5/50\n",
      "719/719 [==============================] - 27s 37ms/step - loss: 0.6932 - accuracy: 0.5033 - val_loss: 0.6932 - val_accuracy: 0.4966\n",
      "Epoch 6/50\n",
      "719/719 [==============================] - 23s 32ms/step - loss: 0.6932 - accuracy: 0.5003 - val_loss: 0.6932 - val_accuracy: 0.4966\n",
      "Epoch 7/50\n",
      "719/719 [==============================] - 21s 29ms/step - loss: 0.6932 - accuracy: 0.4953 - val_loss: 0.6932 - val_accuracy: 0.4966\n"
     ]
    },
    {
     "data": {
      "image/png": "[encoded data removed]",
      "text/plain": [
       "<Figure size 640x480 with 1 Axes>"
      ]
     },
     "metadata": {},
     "output_type": "display_data"
    },
    {
     "name": "stdout",
     "output_type": "stream",
     "text": [
      " \n",
      "The Training Loss is 0.6931, And Training Accuracy is 0.5033\n",
      " \n",
      "The Testing Loss is 0.6932, And Testing Accuracy is 0.4966\n"
     ]
    }
   ],
   "source": [
    "convolutional_neural_network = convolutional_neural_network_1d(vocab_size=vocab_size, embedding_dim=embedding_dim, max_length=max_length, dropout=0.3, kernel=8, filters=32)\n",
    "model_compile(model=convolutional_neural_network)\n",
    "history = model_fit(model=convolutional_neural_network, X_train=encoded_X_train, y_train=y_train, epochs=50, X_test=encoded_X_test, y_test=y_test, batch_size=16, Callback=Callback, shuffle=True)\n",
    "plot_accuracy_loss(histoty=history)\n",
    "evaluate(model=convolutional_neural_network, x=encoded_X_train, y=y_train, train_test='Training')\n",
    "evaluate(model=convolutional_neural_network, x=encoded_X_test, y=y_test, train_test='Testing')"
   ]
  },
  {
   "cell_type": "markdown",
   "metadata": {},
   "source": [
    "**10-LSTM**"
   ]
  },
  {
   "cell_type": "code",
   "execution_count": 53,
   "metadata": {},
   "outputs": [
    {
     "name": "stdout",
     "output_type": "stream",
     "text": [
      "Epoch 1/5\n",
      "360/360 [==============================] - 144s 377ms/step - loss: 0.5712 - accuracy: 0.7039 - val_loss: 0.4136 - val_accuracy: 0.8122\n",
      "Epoch 2/5\n",
      "360/360 [==============================] - 123s 341ms/step - loss: 0.1877 - accuracy: 0.9307 - val_loss: 0.3121 - val_accuracy: 0.8734\n",
      "Epoch 3/5\n",
      "360/360 [==============================] - 117s 325ms/step - loss: 0.0721 - accuracy: 0.9760 - val_loss: 0.3281 - val_accuracy: 0.8868\n",
      "Epoch 4/5\n",
      "360/360 [==============================] - 99s 276ms/step - loss: 0.0284 - accuracy: 0.9910 - val_loss: 0.3823 - val_accuracy: 0.8795\n",
      "Epoch 5/5\n",
      "360/360 [==============================] - 154s 428ms/step - loss: 0.0160 - accuracy: 0.9945 - val_loss: 0.4540 - val_accuracy: 0.8860\n"
     ]
    },
    {
     "data": {
      "image/png": "[encoded data removed]",
      "text/plain": [
       "<Figure size 640x480 with 1 Axes>"
      ]
     },
     "metadata": {},
     "output_type": "display_data"
    },
    {
     "name": "stdout",
     "output_type": "stream",
     "text": [
      " \n",
      "The Training Loss is 0.0105, And Training Accuracy is 0.9970\n",
      " \n",
      "The Testing Loss is 0.4540, And Testing Accuracy is 0.8860\n"
     ]
    }
   ],
   "source": [
    "LSTM =lstm_(vocab_size= vocab_size, embedding_dim= embedding_dim, max_length= max_length, dropout=0.2, units=64)\n",
    "model_compile(model=LSTM)\n",
    "history = model_fit(model=LSTM, X_train=encoded_X_train, y_train=y_train, epochs=5, X_test=encoded_X_test, y_test=y_test, batch_size=32, Callback=Callback, shuffle=True)\n",
    "plot_accuracy_loss(histoty=history)\n",
    "evaluate(model=LSTM, x=encoded_X_train, y=y_train, train_test='Training')\n",
    "evaluate(model=LSTM, x=encoded_X_test,y= y_test, train_test='Testing')"
   ]
  },
  {
   "cell_type": "markdown",
   "metadata": {},
   "source": [
    "**11-GRU**"
   ]
  },
  {
   "cell_type": "code",
   "execution_count": 54,
   "metadata": {},
   "outputs": [
    {
     "name": "stdout",
     "output_type": "stream",
     "text": [
      "Epoch 1/5\n",
      "360/360 [==============================] - 177s 467ms/step - loss: 0.5386 - accuracy: 0.7241 - val_loss: 0.3537 - val_accuracy: 0.8438\n",
      "Epoch 2/5\n",
      "360/360 [==============================] - 144s 398ms/step - loss: 0.1533 - accuracy: 0.9457 - val_loss: 0.2955 - val_accuracy: 0.8830\n",
      "Epoch 3/5\n",
      "360/360 [==============================] - 129s 357ms/step - loss: 0.0486 - accuracy: 0.9846 - val_loss: 0.3397 - val_accuracy: 0.8931\n",
      "Epoch 4/5\n",
      "360/360 [==============================] - 125s 346ms/step - loss: 0.0211 - accuracy: 0.9937 - val_loss: 0.4111 - val_accuracy: 0.8925\n",
      "Epoch 5/5\n",
      "360/360 [==============================] - 141s 392ms/step - loss: 0.0126 - accuracy: 0.9960 - val_loss: 0.4583 - val_accuracy: 0.8876\n"
     ]
    },
    {
     "data": {
      "image/png": "[encoded data removed]",
      "text/plain": [
       "<Figure size 640x480 with 1 Axes>"
      ]
     },
     "metadata": {},
     "output_type": "display_data"
    },
    {
     "name": "stdout",
     "output_type": "stream",
     "text": [
      " \n",
      "The Training Loss is 0.0082, And Training Accuracy is 0.9977\n",
      " \n",
      "The Testing Loss is 0.4583, And Testing Accuracy is 0.8876\n"
     ]
    }
   ],
   "source": [
    "GRU_=gru_(vocab_size= vocab_size, embedding_dim= embedding_dim, max_length= max_length, dropout=0.3, units=32)\n",
    "model_compile(model=GRU_)\n",
    "history = model_fit(model=GRU_, X_train=encoded_X_train, y_train=y_train, epochs=5, X_test=encoded_X_test, y_test=y_test, batch_size=32, Callback=Callback, shuffle=True)\n",
    "plot_accuracy_loss(histoty=history)\n",
    "evaluate(model=GRU_, x=encoded_X_train, y=y_train, train_test='Training')\n",
    "evaluate(model=GRU_, x=encoded_X_test,y= y_test, train_test='Testing')"
   ]
  },
  {
   "cell_type": "code",
   "execution_count": null,
   "metadata": {},
   "outputs": [],
   "source": []
  }
 ],
 "metadata": {
  "kernelspec": {
   "display_name": "Python 3 (ipykernel)",
   "language": "python",
   "name": "python3"
  },
  "language_info": {
   "codemirror_mode": {
    "name": "ipython",
    "version": 3
   },
   "file_extension": ".py",
   "mimetype": "text/x-python",
   "name": "python",
   "nbconvert_exporter": "python",
   "pygments_lexer": "ipython3",
   "version": "3.11.6"
  }
 },
 "nbformat": 4,
 "nbformat_minor": 4
}
