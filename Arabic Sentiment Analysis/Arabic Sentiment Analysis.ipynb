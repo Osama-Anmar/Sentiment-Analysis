{
 "cells": [
  {
   "cell_type": "markdown",
   "metadata": {},
   "source": [
    "# Import Libraries\n"
   ]
  },
  {
   "cell_type": "code",
   "execution_count": 1,
   "metadata": {},
   "outputs": [],
   "source": [
    "import pandas as pd\n",
    "import numpy as np\n",
    "import nltk\n",
    "import tensorflow as tf\n",
    "from keras.layers import *\n",
    "from tensorflow import *\n",
    "from keras.preprocessing.text import Tokenizer\n",
    "from keras.preprocessing import *\n",
    "import arabicstopwords.arabicstopwords as stp\n",
    "from keras.preprocessing.sequence import pad_sequences\n",
    "from nltk.stem import SnowballStemmer\n",
    "import re\n",
    "import os\n",
    "from camel_tools.tokenizers.word import simple_word_tokenize\n",
    "import matplotlib.pyplot as plt\n",
    "import seaborn as sns\n",
    "from sklearn.svm import SVC\n",
    "from sklearn.tree import DecisionTreeClassifier\n",
    "from sklearn.naive_bayes import MultinomialNB\n",
    "from sklearn.neighbors import KNeighborsClassifier\n",
    "from sklearn.linear_model import LogisticRegression\n",
    "from sklearn.ensemble import RandomForestClassifier\n",
    "from sklearn.model_selection import train_test_split\n",
    "from sklearn.metrics import confusion_matrix\n",
    "from sklearn.feature_extraction.text import  TfidfVectorizer\n",
    "from sklearn.neural_network import MLPClassifier\n",
    "from sklearn.linear_model import SGDClassifier\n",
    "from tashaphyne.stemming import ArabicLightStemmer\n",
    "from sklearn.preprocessing import LabelEncoder\n",
    "import warnings\n",
    "from camel_tools.utils.dediac import dediac_ar\n",
    "from camel_tools.utils.normalize import normalize_unicode\n",
    "from camel_tools.utils.normalize import normalize_alef_maksura_ar\n",
    "from camel_tools.utils.normalize import normalize_alef_ar\n",
    "from camel_tools.utils.normalize import normalize_teh_marbuta_ar\n",
    "import random\n",
    "import emoji\n",
    "from tashaphyne.stemming import ArabicLightStemmer\n",
    "from wordcloud import WordCloud\n",
    "import plotly.express as px\n",
    "import arabic_reshaper\n",
    "from bidi.algorithm import get_display\n",
    "from nltk import pos_tag\n",
    "from plotly import graph_objects as go\n",
    "from collections import Counter\n",
    "import string\n",
    "pd.options.display.max_rows = 100\n",
    "pd.options.display.max_columns =None \n",
    "random.seed(10)"
   ]
  },
  {
   "cell_type": "code",
   "execution_count": 2,
   "metadata": {},
   "outputs": [],
   "source": [
    "colors1 = ['#c0d0a2','#a7bd7c']\n",
    "colors2 = ['#bdd390', '#e9f0da']\n",
    "color3 = ['Salmon', 'FireBrick', 'MediumVioletRed', 'Tomato', 'Orange', 'Gold', 'DarkKhaki', 'Lavender', 'Plum', 'LimeGreen', 'MediumSpringGreen', 'Green', 'DeepSkyBlue', 'Aquamarine', 'MediumSlateBlue']"
   ]
  },
  {
   "cell_type": "markdown",
   "metadata": {},
   "source": [
    "# Download Some Packages"
   ]
  },
  {
   "cell_type": "code",
   "execution_count": 3,
   "metadata": {},
   "outputs": [
    {
     "name": "stderr",
     "output_type": "stream",
     "text": [
      "[nltk_data] Downloading package punkt to\n",
      "[nltk_data]     /Users/osamaanmar/nltk_data...\n",
      "[nltk_data]   Package punkt is already up-to-date!\n",
      "[nltk_data] Downloading package wordnet to\n",
      "[nltk_data]     /Users/osamaanmar/nltk_data...\n",
      "[nltk_data]   Package wordnet is already up-to-date!\n",
      "[nltk_data] Downloading package stopwords to\n",
      "[nltk_data]     /Users/osamaanmar/nltk_data...\n",
      "[nltk_data]   Package stopwords is already up-to-date!\n",
      "[nltk_data] Downloading package averaged_perceptron_tagger to\n",
      "[nltk_data]     /Users/osamaanmar/nltk_data...\n",
      "[nltk_data]   Package averaged_perceptron_tagger is already up-to-\n",
      "[nltk_data]       date!\n"
     ]
    },
    {
     "data": {
      "text/plain": [
       "True"
      ]
     },
     "execution_count": 3,
     "metadata": {},
     "output_type": "execute_result"
    }
   ],
   "source": [
    "nltk.download('punkt')\n",
    "nltk.download('wordnet')\n",
    "nltk.download('stopwords')\n",
    "nltk.download('averaged_perceptron_tagger')"
   ]
  },
  {
   "cell_type": "markdown",
   "metadata": {},
   "source": [
    "# Ignore Warnings"
   ]
  },
  {
   "cell_type": "code",
   "execution_count": 4,
   "metadata": {},
   "outputs": [],
   "source": [
    "os.environ['TF_CPP_MIN_LOG_LEVEL'] = '3'\n",
    "warnings.filterwarnings(action='ignore')"
   ]
  },
  {
   "cell_type": "markdown",
   "metadata": {},
   "source": [
    "# Read Data"
   ]
  },
  {
   "cell_type": "code",
   "execution_count": 5,
   "metadata": {},
   "outputs": [
    {
     "data": {
      "text/html": [
       "<div>\n",
       "<style scoped>\n",
       "    .dataframe tbody tr th:only-of-type {\n",
       "        vertical-align: middle;\n",
       "    }\n",
       "\n",
       "    .dataframe tbody tr th {\n",
       "        vertical-align: top;\n",
       "    }\n",
       "\n",
       "    .dataframe thead th {\n",
       "        text-align: right;\n",
       "    }\n",
       "</style>\n",
       "<table border=\"1\" class=\"dataframe\">\n",
       "  <thead>\n",
       "    <tr style=\"text-align: right;\">\n",
       "      <th></th>\n",
       "      <th>Sentiment</th>\n",
       "      <th>Text</th>\n",
       "    </tr>\n",
       "  </thead>\n",
       "  <tbody>\n",
       "    <tr>\n",
       "      <th>0</th>\n",
       "      <td>Negative</td>\n",
       "      <td>تعبت عدة محاولات للجلوس ومشاهدة البرنامج حيرني...</td>\n",
       "    </tr>\n",
       "    <tr>\n",
       "      <th>1</th>\n",
       "      <td>Negative</td>\n",
       "      <td>نشط لحظات قليلة العطاءات بشكل فعال مفصلات الرح...</td>\n",
       "    </tr>\n",
       "    <tr>\n",
       "      <th>2</th>\n",
       "      <td>Positive</td>\n",
       "      <td>فيلم للجميع الفيلم محبي كوميديا سوداء إشراك ري...</td>\n",
       "    </tr>\n",
       "    <tr>\n",
       "      <th>3</th>\n",
       "      <td>Negative</td>\n",
       "      <td>تقطعت السبل الفضاء نسخة طيار أفلام تلفزيوني جي...</td>\n",
       "    </tr>\n",
       "    <tr>\n",
       "      <th>4</th>\n",
       "      <td>Negative</td>\n",
       "      <td>قطعة المرغوب الفيلم كانت الفرضية يرام البداية ...</td>\n",
       "    </tr>\n",
       "    <tr>\n",
       "      <th>...</th>\n",
       "      <td>...</td>\n",
       "      <td>...</td>\n",
       "    </tr>\n",
       "    <tr>\n",
       "      <th>49995</th>\n",
       "      <td>Negative</td>\n",
       "      <td>اخترع ألفريد هيتشكوك نوع الإثارة يمكن تفكر وضع...</td>\n",
       "    </tr>\n",
       "    <tr>\n",
       "      <th>49996</th>\n",
       "      <td>Positive</td>\n",
       "      <td>العديد الآخرين كنت جذبت مزيج بولاك فورد وسكوت ...</td>\n",
       "    </tr>\n",
       "    <tr>\n",
       "      <th>49997</th>\n",
       "      <td>Negative</td>\n",
       "      <td>أتفق معظم عشاق كولومبو الفيلم تغييرا ضروري الت...</td>\n",
       "    </tr>\n",
       "    <tr>\n",
       "      <th>49998</th>\n",
       "      <td>Negative</td>\n",
       "      <td>أسوأ فيلم رأيته بيلي زين الفيلم بشكل أساسي لعر...</td>\n",
       "    </tr>\n",
       "    <tr>\n",
       "      <th>49999</th>\n",
       "      <td>Negative</td>\n",
       "      <td>أحد يتوقع تكون أفلام فنية عالية المشجعين يتوقع...</td>\n",
       "    </tr>\n",
       "  </tbody>\n",
       "</table>\n",
       "<p>50000 rows × 2 columns</p>\n",
       "</div>"
      ],
      "text/plain": [
       "      Sentiment                                               Text\n",
       "0      Negative  تعبت عدة محاولات للجلوس ومشاهدة البرنامج حيرني...\n",
       "1      Negative  نشط لحظات قليلة العطاءات بشكل فعال مفصلات الرح...\n",
       "2      Positive  فيلم للجميع الفيلم محبي كوميديا سوداء إشراك ري...\n",
       "3      Negative  تقطعت السبل الفضاء نسخة طيار أفلام تلفزيوني جي...\n",
       "4      Negative  قطعة المرغوب الفيلم كانت الفرضية يرام البداية ...\n",
       "...         ...                                                ...\n",
       "49995  Negative  اخترع ألفريد هيتشكوك نوع الإثارة يمكن تفكر وضع...\n",
       "49996  Positive  العديد الآخرين كنت جذبت مزيج بولاك فورد وسكوت ...\n",
       "49997  Negative  أتفق معظم عشاق كولومبو الفيلم تغييرا ضروري الت...\n",
       "49998  Negative  أسوأ فيلم رأيته بيلي زين الفيلم بشكل أساسي لعر...\n",
       "49999  Negative  أحد يتوقع تكون أفلام فنية عالية المشجعين يتوقع...\n",
       "\n",
       "[50000 rows x 2 columns]"
      ]
     },
     "execution_count": 5,
     "metadata": {},
     "output_type": "execute_result"
    }
   ],
   "source": [
    "Corpus = pd.read_csv('IMDBar.csv')\n",
    "Corpus.rename(columns={'review': 'Text', 'sentiment': 'Sentiment'}, inplace=True)\n",
    "Corpus.drop('Unnamed: 0', axis=1, inplace=True)\n",
    "Corpus['Sentiment'] = Corpus['Sentiment'].str.capitalize()\n",
    "Corpus"
   ]
  },
  {
   "cell_type": "markdown",
   "metadata": {},
   "source": [
    "# Percantage Of Each Sentiment"
   ]
  },
  {
   "cell_type": "code",
   "execution_count": 6,
   "metadata": {},
   "outputs": [
    {
     "data": {
      "image/png": "[encoded data removed]",
      "text/plain": [
       "<Figure size 600x600 with 1 Axes>"
      ]
     },
     "metadata": {},
     "output_type": "display_data"
    }
   ],
   "source": [
    "Corpus['Sentiment'].value_counts().plot.pie(autopct = '%0.1f%%',\n",
    "                                                    textprops = {'size': 'large'},\n",
    "                                                    title = 'Sentiment Percentage',\n",
    "                                                    figsize = (6,6),\n",
    "                                                    colors = colors1,\n",
    "                                                    ylabel = ' ');"
   ]
  },
  {
   "cell_type": "markdown",
   "metadata": {},
   "source": [
    "# Count Of Each Sentiment"
   ]
  },
  {
   "cell_type": "code",
   "execution_count": 7,
   "metadata": {},
   "outputs": [
    {
     "data": {
      "image/png": "[encoded data removed]",
      "text/plain": [
       "<Figure size 600x600 with 1 Axes>"
      ]
     },
     "metadata": {},
     "output_type": "display_data"
    }
   ],
   "source": [
    "ax, fig = plt.subplots(figsize = (6,6))\n",
    "ax =sns.countplot(x='Sentiment', data=Corpus, dodge=False, hue='Sentiment',  order= Corpus['Sentiment'].value_counts().index, hue_order =Corpus['Sentiment'].value_counts().index,  palette=colors2);\n",
    "ax.set(xticklabels=[]) \n",
    "ax.set(ylabel=None) \n",
    "plt.title('Sentiment Count')\n",
    "sns.move_legend(ax, \"upper left\", bbox_to_anchor=(1, 1))\n",
    "plt.show()"
   ]
  },
  {
   "cell_type": "markdown",
   "metadata": {},
   "source": [
    "# Number Of Sentences"
   ]
  },
  {
   "cell_type": "code",
   "execution_count": 8,
   "metadata": {},
   "outputs": [
    {
     "data": {
      "text/plain": [
       "50000"
      ]
     },
     "execution_count": 8,
     "metadata": {},
     "output_type": "execute_result"
    }
   ],
   "source": [
    "Corpus['NumberOfSentences'] = Corpus['Text'].apply(lambda n:len(nltk.tokenize.sent_tokenize(n)))\n",
    "Corpus.drop(Corpus[ Corpus[\"NumberOfSentences\"] == 0].index, inplace = True)\n",
    "Corpus['NumberOfSentences'].sum()"
   ]
  },
  {
   "cell_type": "markdown",
   "metadata": {},
   "source": [
    "# Average Number Of Sentences"
   ]
  },
  {
   "cell_type": "code",
   "execution_count": 9,
   "metadata": {},
   "outputs": [
    {
     "data": {
      "text/plain": [
       "1"
      ]
     },
     "execution_count": 9,
     "metadata": {},
     "output_type": "execute_result"
    }
   ],
   "source": [
    "AverageNumberOfSentence = int(np.round(Corpus[\"NumberOfSentences\"].mean()))\n",
    "AverageNumberOfSentence"
   ]
  },
  {
   "cell_type": "markdown",
   "metadata": {},
   "source": [
    "# Maximum Number Of Sentences"
   ]
  },
  {
   "cell_type": "code",
   "execution_count": 10,
   "metadata": {},
   "outputs": [
    {
     "data": {
      "text/plain": [
       "1"
      ]
     },
     "execution_count": 10,
     "metadata": {},
     "output_type": "execute_result"
    }
   ],
   "source": [
    "MaximumNumberOfSentence = Corpus[\"NumberOfSentences\"].max()\n",
    "MaximumNumberOfSentence"
   ]
  },
  {
   "cell_type": "markdown",
   "metadata": {},
   "source": [
    "# Minimum Number Of Sentences"
   ]
  },
  {
   "cell_type": "code",
   "execution_count": 11,
   "metadata": {},
   "outputs": [
    {
     "data": {
      "text/plain": [
       "1"
      ]
     },
     "execution_count": 11,
     "metadata": {},
     "output_type": "execute_result"
    }
   ],
   "source": [
    "MinimumNumberOfSentence = Corpus[\"NumberOfSentences\"].min()\n",
    "MinimumNumberOfSentence"
   ]
  },
  {
   "cell_type": "markdown",
   "metadata": {},
   "source": [
    "# POS Tagging (Parts of Speech Tagging)"
   ]
  },
  {
   "cell_type": "code",
   "execution_count": 12,
   "metadata": {},
   "outputs": [
    {
     "data": {
      "text/html": [
       "<div>\n",
       "<style scoped>\n",
       "    .dataframe tbody tr th:only-of-type {\n",
       "        vertical-align: middle;\n",
       "    }\n",
       "\n",
       "    .dataframe tbody tr th {\n",
       "        vertical-align: top;\n",
       "    }\n",
       "\n",
       "    .dataframe thead th {\n",
       "        text-align: right;\n",
       "    }\n",
       "</style>\n",
       "<table border=\"1\" class=\"dataframe\">\n",
       "  <thead>\n",
       "    <tr style=\"text-align: right;\">\n",
       "      <th></th>\n",
       "      <th>Sentiment</th>\n",
       "      <th>Text</th>\n",
       "      <th>NumberOfSentences</th>\n",
       "      <th>Tagged</th>\n",
       "    </tr>\n",
       "  </thead>\n",
       "  <tbody>\n",
       "    <tr>\n",
       "      <th>0</th>\n",
       "      <td>Negative</td>\n",
       "      <td>تعبت عدة محاولات للجلوس ومشاهدة البرنامج حيرني...</td>\n",
       "      <td>1</td>\n",
       "      <td>[(تعبت, JJ), (عدة, NNP), (محاولات, NNP), (للجل...</td>\n",
       "    </tr>\n",
       "    <tr>\n",
       "      <th>1</th>\n",
       "      <td>Negative</td>\n",
       "      <td>نشط لحظات قليلة العطاءات بشكل فعال مفصلات الرح...</td>\n",
       "      <td>1</td>\n",
       "      <td>[(نشط, JJ), (لحظات, NNP), (قليلة, NNP), (العطا...</td>\n",
       "    </tr>\n",
       "    <tr>\n",
       "      <th>2</th>\n",
       "      <td>Positive</td>\n",
       "      <td>فيلم للجميع الفيلم محبي كوميديا سوداء إشراك ري...</td>\n",
       "      <td>1</td>\n",
       "      <td>[(فيلم, JJ), (للجميع, NNP), (الفيلم, NNP), (مح...</td>\n",
       "    </tr>\n",
       "    <tr>\n",
       "      <th>3</th>\n",
       "      <td>Negative</td>\n",
       "      <td>تقطعت السبل الفضاء نسخة طيار أفلام تلفزيوني جي...</td>\n",
       "      <td>1</td>\n",
       "      <td>[(تقطعت, JJ), (السبل, NNP), (الفضاء, NNP), (نس...</td>\n",
       "    </tr>\n",
       "    <tr>\n",
       "      <th>4</th>\n",
       "      <td>Negative</td>\n",
       "      <td>قطعة المرغوب الفيلم كانت الفرضية يرام البداية ...</td>\n",
       "      <td>1</td>\n",
       "      <td>[(قطعة, JJ), (المرغوب, NNP), (الفيلم, NNP), (ك...</td>\n",
       "    </tr>\n",
       "    <tr>\n",
       "      <th>...</th>\n",
       "      <td>...</td>\n",
       "      <td>...</td>\n",
       "      <td>...</td>\n",
       "      <td>...</td>\n",
       "    </tr>\n",
       "    <tr>\n",
       "      <th>49995</th>\n",
       "      <td>Negative</td>\n",
       "      <td>اخترع ألفريد هيتشكوك نوع الإثارة يمكن تفكر وضع...</td>\n",
       "      <td>1</td>\n",
       "      <td>[(اخترع, JJ), (ألفريد, NNP), (هيتشكوك, NNP), (...</td>\n",
       "    </tr>\n",
       "    <tr>\n",
       "      <th>49996</th>\n",
       "      <td>Positive</td>\n",
       "      <td>العديد الآخرين كنت جذبت مزيج بولاك فورد وسكوت ...</td>\n",
       "      <td>1</td>\n",
       "      <td>[(العديد, JJ), (الآخرين, NNP), (كنت, NNP), (جذ...</td>\n",
       "    </tr>\n",
       "    <tr>\n",
       "      <th>49997</th>\n",
       "      <td>Negative</td>\n",
       "      <td>أتفق معظم عشاق كولومبو الفيلم تغييرا ضروري الت...</td>\n",
       "      <td>1</td>\n",
       "      <td>[(أتفق, JJ), (معظم, NNP), (عشاق, NNP), (كولومب...</td>\n",
       "    </tr>\n",
       "    <tr>\n",
       "      <th>49998</th>\n",
       "      <td>Negative</td>\n",
       "      <td>أسوأ فيلم رأيته بيلي زين الفيلم بشكل أساسي لعر...</td>\n",
       "      <td>1</td>\n",
       "      <td>[(أسوأ, JJ), (فيلم, NNP), (رأيته, NNP), (بيلي,...</td>\n",
       "    </tr>\n",
       "    <tr>\n",
       "      <th>49999</th>\n",
       "      <td>Negative</td>\n",
       "      <td>أحد يتوقع تكون أفلام فنية عالية المشجعين يتوقع...</td>\n",
       "      <td>1</td>\n",
       "      <td>[(أحد, JJ), (يتوقع, NNP), (تكون, NNP), (أفلام,...</td>\n",
       "    </tr>\n",
       "  </tbody>\n",
       "</table>\n",
       "<p>50000 rows × 4 columns</p>\n",
       "</div>"
      ],
      "text/plain": [
       "      Sentiment                                               Text  \\\n",
       "0      Negative  تعبت عدة محاولات للجلوس ومشاهدة البرنامج حيرني...   \n",
       "1      Negative  نشط لحظات قليلة العطاءات بشكل فعال مفصلات الرح...   \n",
       "2      Positive  فيلم للجميع الفيلم محبي كوميديا سوداء إشراك ري...   \n",
       "3      Negative  تقطعت السبل الفضاء نسخة طيار أفلام تلفزيوني جي...   \n",
       "4      Negative  قطعة المرغوب الفيلم كانت الفرضية يرام البداية ...   \n",
       "...         ...                                                ...   \n",
       "49995  Negative  اخترع ألفريد هيتشكوك نوع الإثارة يمكن تفكر وضع...   \n",
       "49996  Positive  العديد الآخرين كنت جذبت مزيج بولاك فورد وسكوت ...   \n",
       "49997  Negative  أتفق معظم عشاق كولومبو الفيلم تغييرا ضروري الت...   \n",
       "49998  Negative  أسوأ فيلم رأيته بيلي زين الفيلم بشكل أساسي لعر...   \n",
       "49999  Negative  أحد يتوقع تكون أفلام فنية عالية المشجعين يتوقع...   \n",
       "\n",
       "       NumberOfSentences                                             Tagged  \n",
       "0                      1  [(تعبت, JJ), (عدة, NNP), (محاولات, NNP), (للجل...  \n",
       "1                      1  [(نشط, JJ), (لحظات, NNP), (قليلة, NNP), (العطا...  \n",
       "2                      1  [(فيلم, JJ), (للجميع, NNP), (الفيلم, NNP), (مح...  \n",
       "3                      1  [(تقطعت, JJ), (السبل, NNP), (الفضاء, NNP), (نس...  \n",
       "4                      1  [(قطعة, JJ), (المرغوب, NNP), (الفيلم, NNP), (ك...  \n",
       "...                  ...                                                ...  \n",
       "49995                  1  [(اخترع, JJ), (ألفريد, NNP), (هيتشكوك, NNP), (...  \n",
       "49996                  1  [(العديد, JJ), (الآخرين, NNP), (كنت, NNP), (جذ...  \n",
       "49997                  1  [(أتفق, JJ), (معظم, NNP), (عشاق, NNP), (كولومب...  \n",
       "49998                  1  [(أسوأ, JJ), (فيلم, NNP), (رأيته, NNP), (بيلي,...  \n",
       "49999                  1  [(أحد, JJ), (يتوقع, NNP), (تكون, NNP), (أفلام,...  \n",
       "\n",
       "[50000 rows x 4 columns]"
      ]
     },
     "execution_count": 12,
     "metadata": {},
     "output_type": "execute_result"
    }
   ],
   "source": [
    "Corpus['Tagged'] = Corpus['Text'].str.split().apply(pos_tag)\n",
    "Corpus.reset_index(inplace=True, drop=True)\n",
    "Corpus"
   ]
  },
  {
   "cell_type": "markdown",
   "metadata": {},
   "source": [
    "# Text Normalization"
   ]
  },
  {
   "cell_type": "code",
   "execution_count": 13,
   "metadata": {},
   "outputs": [],
   "source": [
    "def remove_emojis(text):\n",
    "     \"Remove All Emojis From Text\"\n",
    "     text = emoji.replace_emoji(text, replace=\"\")\n",
    "     return text\n",
    "\n",
    "def remove_hashtags(text):\n",
    "     \"Remove All Hashtags From Text\"\n",
    "     text =  re.sub(\"#[ا-ي٠-٩a-zA-Z0-9]+\",\"\", text)\n",
    "     return text   \n",
    "\n",
    "def remove_emails(text):\n",
    "     \"Remove All Emails From Text\"\n",
    "     text = re.sub(\"[a-zA-Z0-9-_.]+@[a-zA-Z]+.[a-zA-Z]+\",\"\", text)  \n",
    "     return text    \n",
    "\n",
    "def remove_url(text):\n",
    "     \"Remove All URL From Text\"\n",
    "     text = re.sub(r'http\\S+', '', text, flags=re.MULTILINE)\n",
    "     return text\n",
    "\n",
    "def remove_mention(text):\n",
    "     \"Remove All Mention From Text\"\n",
    "     text = re.sub(\"@[ا-ي٠-٩a-zA-Z0-9]+\",\"\", text)\n",
    "     return text\n",
    "\n",
    "def remove_duplicate_char(text):\n",
    "     \"Remove Chars Word Has More Than 2 Same Following Char\"\n",
    "     text = re.sub(r'(.)\\1+', r'\\1\\1', text)\n",
    "     return text\n",
    "\n",
    "def remove_single_char(text):\n",
    "     \"Remove Alone Chars From Text\"\n",
    "     text = ' '.join( [w for w in text.split() if len(w)>1] )\n",
    "     return text\n",
    "\n",
    "def remove_special_character_(text):\n",
    "     \"Remove Special Character From Text\"\n",
    "     Punctuations = '`؛،؟.,«»÷-' + string.punctuation\n",
    "     for punctuation in Punctuations:\n",
    "        text = text.replace(punctuation, ' ')\n",
    "     return text   \n",
    "\n",
    "def remove_new_line_char(text):\n",
    "     \"Remove New Line Symbols From Text\"\n",
    "     text = text.replace('\\n', ' ')\n",
    "     return text  \n",
    " \n",
    "def remove_number(text):\n",
    "     \"Remove All Number From Text\"\n",
    "     text = re.sub(r'\\d+', '', text)\n",
    "     return text\n",
    "\n",
    "def remove_html_tags(text):\n",
    "    \"Remove All HTL Tags From Text\"\n",
    "    text = re.sub(\"<.*?>\", ' ', text)\n",
    "    return text\n",
    "\n",
    "def remove_arabic_diacritics_(text):\n",
    "     \"Remove Arabic Dediacritization\"\n",
    "     text = dediac_ar(text)\n",
    "     return text\n",
    "\n",
    "def normalize_arabic_unicode_(text):\n",
    "     \"Converts A Composed Character Into Its Decomposed Form\"\n",
    "     text = normalize_unicode(text)\n",
    "     return text\n",
    "\n",
    "def normalize_alef_maksura_ar_(text):\n",
    "     \"Normalize alef maksura 'ى' to yeh 'ي'\"\n",
    "     text = normalize_alef_maksura_ar(text)\n",
    "     return text\n",
    "\n",
    "def normalize_alef_ar_(text):\n",
    "     \"Normalize alef variants to 'ا'\"\n",
    "     text = normalize_alef_ar(text)\n",
    "     return text\n",
    "\n",
    "def normalize_teh_marbuta_ar_(text):\n",
    "     \"Normalize teh marbuta 'ة' to heh 'ه'\"\n",
    "     text = normalize_teh_marbuta_ar(text)\n",
    "     return text\n",
    "\n",
    "def remove_non_arabic(text):\n",
    "    \"Remove Non Arabic Word And Char\"\n",
    "    text = re.sub('[a-zA-Z]', '', text)\n",
    "    return text\n",
    "\n",
    "def remove_whitespace(text):\n",
    "     \"Remove Extra WhiteSpace\"\n",
    "     text = text.strip()\n",
    "     return text \n",
    "\n",
    "def remove_unicode_characters_(text):\n",
    "     \"Remove Unicode Char\"\n",
    "     for character in text:\n",
    "        if (ord(character) < 47) or ((ord(character) > 123 and ord(character) < 1568)) or ((ord(character) > 1641 and ord(character) < 8239)) :\n",
    "         text = text.replace(character, ' ')\n",
    "     return text\n",
    "\n",
    "def stemmer_(text):\n",
    "     \"Lowers Inflection In Words To Their Root Forms\"\n",
    "     stemmer = SnowballStemmer('arabic')\n",
    "     text = \" \".join([stemmer.stem(word) for word in text.split()])\n",
    "     return text\n",
    "\n",
    "\n",
    "def remove_longest_than_(text):\n",
    "     \"Remove All Words That Longest Than The Longest Word In Arabic\"\n",
    "     for word in text.split():\n",
    "          if len(word) >=16:\n",
    "               text = text.replace(word, '')\n",
    "     return text\n",
    "\n",
    "def remove_stop_words(text):\n",
    "     \"Remove StopWords From Text\"\n",
    "     StopWords1 = set(stp.stopwords_list())\n",
    "     StopWords2 = set(open('ArabicStopWord.txt','r', encoding='Utf-8').read().split('\\n'))\n",
    "     StopWords = StopWords1.union(StopWords2)\n",
    "     text = simple_word_tokenize(text)\n",
    "     text = [word for word in text if word not in StopWords]\n",
    "     return ' '.join(text)"
   ]
  },
  {
   "cell_type": "code",
   "execution_count": 14,
   "metadata": {},
   "outputs": [],
   "source": [
    "def text_normalization(text):\n",
    "    text = remove_emojis(text) \n",
    "    text = remove_non_arabic(text)\n",
    "    text = remove_duplicate_char(text)\n",
    "    text = remove_number(text)\n",
    "    text = remove_html_tags(text)\n",
    "    text = normalize_arabic_unicode_(text)\n",
    "    text = remove_single_char(text)\n",
    "    text = remove_special_character_(text)\n",
    "    text = remove_stop_words(text)\n",
    "    text = normalize_alef_ar(text)\n",
    "    text = normalize_alef_maksura_ar(text)\n",
    "    text = normalize_teh_marbuta_ar(text)\n",
    "    text = remove_arabic_diacritics_(text)\n",
    "    text = remove_longest_than_(text)\n",
    "    text = remove_new_line_char(text)\n",
    "    text = remove_whitespace(text)\n",
    "    text = stemmer_(text)\n",
    "    return ''.join(text)"
   ]
  },
  {
   "cell_type": "code",
   "execution_count": 15,
   "metadata": {},
   "outputs": [
    {
     "data": {
      "text/html": [
       "<div>\n",
       "<style scoped>\n",
       "    .dataframe tbody tr th:only-of-type {\n",
       "        vertical-align: middle;\n",
       "    }\n",
       "\n",
       "    .dataframe tbody tr th {\n",
       "        vertical-align: top;\n",
       "    }\n",
       "\n",
       "    .dataframe thead th {\n",
       "        text-align: right;\n",
       "    }\n",
       "</style>\n",
       "<table border=\"1\" class=\"dataframe\">\n",
       "  <thead>\n",
       "    <tr style=\"text-align: right;\">\n",
       "      <th></th>\n",
       "      <th>Sentiment</th>\n",
       "      <th>Text</th>\n",
       "      <th>NumberOfSentences</th>\n",
       "      <th>Tagged</th>\n",
       "      <th>Normalized_Text</th>\n",
       "    </tr>\n",
       "  </thead>\n",
       "  <tbody>\n",
       "    <tr>\n",
       "      <th>0</th>\n",
       "      <td>Negative</td>\n",
       "      <td>تعبت عدة محاولات للجلوس ومشاهدة البرنامج حيرني...</td>\n",
       "      <td>1</td>\n",
       "      <td>[(تعبت, JJ), (عدة, NNP), (محاولات, NNP), (للجل...</td>\n",
       "      <td>تعب محاول جلوس مشاهد برنامج حير استطع وضع اصبع...</td>\n",
       "    </tr>\n",
       "    <tr>\n",
       "      <th>1</th>\n",
       "      <td>Negative</td>\n",
       "      <td>نشط لحظات قليلة العطاءات بشكل فعال مفصلات الرح...</td>\n",
       "      <td>1</td>\n",
       "      <td>[(نشط, JJ), (لحظات, NNP), (قليلة, NNP), (العطا...</td>\n",
       "      <td>نشط لحظ قليل عطاء عال مفصل رحل داخليه واضحه فض...</td>\n",
       "    </tr>\n",
       "    <tr>\n",
       "      <th>2</th>\n",
       "      <td>Positive</td>\n",
       "      <td>فيلم للجميع الفيلم محبي كوميديا سوداء إشراك ري...</td>\n",
       "      <td>1</td>\n",
       "      <td>[(فيلم, JJ), (للجميع, NNP), (الفيلم, NNP), (مح...</td>\n",
       "      <td>يلم جميع فيلم محب وميد سوداء اشر ريتشارد دريفو...</td>\n",
       "    </tr>\n",
       "    <tr>\n",
       "      <th>3</th>\n",
       "      <td>Negative</td>\n",
       "      <td>تقطعت السبل الفضاء نسخة طيار أفلام تلفزيوني جي...</td>\n",
       "      <td>1</td>\n",
       "      <td>[(تقطعت, JJ), (السبل, NNP), (الفضاء, NNP), (نس...</td>\n",
       "      <td>تقطع سبل فضاء نسخ طيار افلام تلفز جيد اشميزاز ...</td>\n",
       "    </tr>\n",
       "    <tr>\n",
       "      <th>4</th>\n",
       "      <td>Negative</td>\n",
       "      <td>قطعة المرغوب الفيلم كانت الفرضية يرام البداية ...</td>\n",
       "      <td>1</td>\n",
       "      <td>[(قطعة, JJ), (المرغوب, NNP), (الفيلم, NNP), (ك...</td>\n",
       "      <td>قطع مرغوب فيلم فرضيه يرام بدايه اثار اندمج عمل...</td>\n",
       "    </tr>\n",
       "    <tr>\n",
       "      <th>...</th>\n",
       "      <td>...</td>\n",
       "      <td>...</td>\n",
       "      <td>...</td>\n",
       "      <td>...</td>\n",
       "      <td>...</td>\n",
       "    </tr>\n",
       "    <tr>\n",
       "      <th>49995</th>\n",
       "      <td>Negative</td>\n",
       "      <td>اخترع ألفريد هيتشكوك نوع الإثارة يمكن تفكر وضع...</td>\n",
       "      <td>1</td>\n",
       "      <td>[(اخترع, JJ), (ألفريد, NNP), (هيتشكوك, NNP), (...</td>\n",
       "      <td>اخترع فريد هيتش نوع اثاره تفكر وضع معايير عال ...</td>\n",
       "    </tr>\n",
       "    <tr>\n",
       "      <th>49996</th>\n",
       "      <td>Positive</td>\n",
       "      <td>العديد الآخرين كنت جذبت مزيج بولاك فورد وسكوت ...</td>\n",
       "      <td>1</td>\n",
       "      <td>[(العديد, JJ), (الآخرين, NNP), (كنت, NNP), (جذ...</td>\n",
       "      <td>عديد اخر جذب مزيج بول ورد سكو توماس استمتع عمل...</td>\n",
       "    </tr>\n",
       "    <tr>\n",
       "      <th>49997</th>\n",
       "      <td>Negative</td>\n",
       "      <td>أتفق معظم عشاق كولومبو الفيلم تغييرا ضروري الت...</td>\n",
       "      <td>1</td>\n",
       "      <td>[(أتفق, JJ), (معظم, NNP), (عشاق, NNP), (كولومب...</td>\n",
       "      <td>اتفق عشاق ولومب فيلم تغيير تنسيق ولومب شرط ريد...</td>\n",
       "    </tr>\n",
       "    <tr>\n",
       "      <th>49998</th>\n",
       "      <td>Negative</td>\n",
       "      <td>أسوأ فيلم رأيته بيلي زين الفيلم بشكل أساسي لعر...</td>\n",
       "      <td>1</td>\n",
       "      <td>[(أسوأ, JJ), (فيلم, NNP), (رأيته, NNP), (بيلي,...</td>\n",
       "      <td>اسو يلم را بيل زين فيلم اساس لعرض قادم جدد علو...</td>\n",
       "    </tr>\n",
       "    <tr>\n",
       "      <th>49999</th>\n",
       "      <td>Negative</td>\n",
       "      <td>أحد يتوقع تكون أفلام فنية عالية المشجعين يتوقع...</td>\n",
       "      <td>1</td>\n",
       "      <td>[(أحد, JJ), (يتوقع, NNP), (تكون, NNP), (أفلام,...</td>\n",
       "      <td>يتوقع افلام فن عال مشجع يتوقع يلم جيد افضل حلق...</td>\n",
       "    </tr>\n",
       "  </tbody>\n",
       "</table>\n",
       "<p>50000 rows × 5 columns</p>\n",
       "</div>"
      ],
      "text/plain": [
       "      Sentiment                                               Text  \\\n",
       "0      Negative  تعبت عدة محاولات للجلوس ومشاهدة البرنامج حيرني...   \n",
       "1      Negative  نشط لحظات قليلة العطاءات بشكل فعال مفصلات الرح...   \n",
       "2      Positive  فيلم للجميع الفيلم محبي كوميديا سوداء إشراك ري...   \n",
       "3      Negative  تقطعت السبل الفضاء نسخة طيار أفلام تلفزيوني جي...   \n",
       "4      Negative  قطعة المرغوب الفيلم كانت الفرضية يرام البداية ...   \n",
       "...         ...                                                ...   \n",
       "49995  Negative  اخترع ألفريد هيتشكوك نوع الإثارة يمكن تفكر وضع...   \n",
       "49996  Positive  العديد الآخرين كنت جذبت مزيج بولاك فورد وسكوت ...   \n",
       "49997  Negative  أتفق معظم عشاق كولومبو الفيلم تغييرا ضروري الت...   \n",
       "49998  Negative  أسوأ فيلم رأيته بيلي زين الفيلم بشكل أساسي لعر...   \n",
       "49999  Negative  أحد يتوقع تكون أفلام فنية عالية المشجعين يتوقع...   \n",
       "\n",
       "       NumberOfSentences                                             Tagged  \\\n",
       "0                      1  [(تعبت, JJ), (عدة, NNP), (محاولات, NNP), (للجل...   \n",
       "1                      1  [(نشط, JJ), (لحظات, NNP), (قليلة, NNP), (العطا...   \n",
       "2                      1  [(فيلم, JJ), (للجميع, NNP), (الفيلم, NNP), (مح...   \n",
       "3                      1  [(تقطعت, JJ), (السبل, NNP), (الفضاء, NNP), (نس...   \n",
       "4                      1  [(قطعة, JJ), (المرغوب, NNP), (الفيلم, NNP), (ك...   \n",
       "...                  ...                                                ...   \n",
       "49995                  1  [(اخترع, JJ), (ألفريد, NNP), (هيتشكوك, NNP), (...   \n",
       "49996                  1  [(العديد, JJ), (الآخرين, NNP), (كنت, NNP), (جذ...   \n",
       "49997                  1  [(أتفق, JJ), (معظم, NNP), (عشاق, NNP), (كولومب...   \n",
       "49998                  1  [(أسوأ, JJ), (فيلم, NNP), (رأيته, NNP), (بيلي,...   \n",
       "49999                  1  [(أحد, JJ), (يتوقع, NNP), (تكون, NNP), (أفلام,...   \n",
       "\n",
       "                                         Normalized_Text  \n",
       "0      تعب محاول جلوس مشاهد برنامج حير استطع وضع اصبع...  \n",
       "1      نشط لحظ قليل عطاء عال مفصل رحل داخليه واضحه فض...  \n",
       "2      يلم جميع فيلم محب وميد سوداء اشر ريتشارد دريفو...  \n",
       "3      تقطع سبل فضاء نسخ طيار افلام تلفز جيد اشميزاز ...  \n",
       "4      قطع مرغوب فيلم فرضيه يرام بدايه اثار اندمج عمل...  \n",
       "...                                                  ...  \n",
       "49995  اخترع فريد هيتش نوع اثاره تفكر وضع معايير عال ...  \n",
       "49996  عديد اخر جذب مزيج بول ورد سكو توماس استمتع عمل...  \n",
       "49997  اتفق عشاق ولومب فيلم تغيير تنسيق ولومب شرط ريد...  \n",
       "49998  اسو يلم را بيل زين فيلم اساس لعرض قادم جدد علو...  \n",
       "49999  يتوقع افلام فن عال مشجع يتوقع يلم جيد افضل حلق...  \n",
       "\n",
       "[50000 rows x 5 columns]"
      ]
     },
     "execution_count": 15,
     "metadata": {},
     "output_type": "execute_result"
    }
   ],
   "source": [
    "Corpus['Normalized_Text'] = Corpus['Text'].apply(text_normalization)\n",
    "Corpus"
   ]
  },
  {
   "cell_type": "markdown",
   "metadata": {},
   "source": [
    "# Number Of Unique Words"
   ]
  },
  {
   "cell_type": "code",
   "execution_count": 16,
   "metadata": {},
   "outputs": [
    {
     "data": {
      "text/plain": [
       "70089"
      ]
     },
     "execution_count": 16,
     "metadata": {},
     "output_type": "execute_result"
    }
   ],
   "source": [
    "UniqueWords = set()\n",
    "for word in Corpus['Normalized_Text'].str.split():\n",
    "    UniqueWords.update(word)\n",
    "len(UniqueWords)"
   ]
  },
  {
   "cell_type": "markdown",
   "metadata": {},
   "source": [
    "# WordCloud"
   ]
  },
  {
   "cell_type": "code",
   "execution_count": 17,
   "metadata": {},
   "outputs": [],
   "source": [
    "def word_cloud_(Sentiment):\n",
    "    text = str(Corpus[Corpus['Sentiment'] == Sentiment])\n",
    "    text = arabic_reshaper.reshape(text)\n",
    "    text = get_display(text)\n",
    "    wordcloud = WordCloud(font_path='arial.ttf',background_color='white', mode='RGB',width=1200,height=600).generate(text)\n",
    "    plt.figure()\n",
    "    plt.imshow(wordcloud, interpolation='catrom')\n",
    "    plt.axis(\"off\")\n",
    "    plt.title('Word Cloud For {} Sentiment'.format(Sentiment))\n",
    "    plt.show()"
   ]
  },
  {
   "cell_type": "markdown",
   "metadata": {},
   "source": [
    "**1-Positive**"
   ]
  },
  {
   "cell_type": "code",
   "execution_count": 18,
   "metadata": {},
   "outputs": [
    {
     "data": {
      "image/png": "[encoded data removed]",
      "text/plain": [
       "<Figure size 640x480 with 1 Axes>"
      ]
     },
     "metadata": {},
     "output_type": "display_data"
    }
   ],
   "source": [
    "word_cloud_('Positive')"
   ]
  },
  {
   "cell_type": "markdown",
   "metadata": {},
   "source": [
    "**2-Negative**"
   ]
  },
  {
   "cell_type": "code",
   "execution_count": 19,
   "metadata": {},
   "outputs": [
    {
     "data": {
      "image/png": "[encoded data removed]",
      "text/plain": [
       "<Figure size 640x480 with 1 Axes>"
      ]
     },
     "metadata": {},
     "output_type": "display_data"
    }
   ],
   "source": [
    "word_cloud_('Negative')"
   ]
  },
  {
   "cell_type": "markdown",
   "metadata": {},
   "source": [
    "# Bigrams"
   ]
  },
  {
   "cell_type": "code",
   "execution_count": 20,
   "metadata": {},
   "outputs": [
    {
     "data": {
      "text/plain": [
       "[('اقول', 'اعط'),\n",
       " ('اعط', 'فيلم'),\n",
       " ('فيلم', 'شخص'),\n",
       " ('شخص', 'مزدوج'),\n",
       " ('مزدوج', 'قيل'),\n",
       " ('قيل', 'مرار'),\n",
       " ('مرار', 'تكرار'),\n",
       " ('تكرار', 'يصم'),\n",
       " ('يصم', 'بدء'),\n",
       " ('بدء', 'تحدث'),\n",
       " ('تحدث', 'شخص'),\n",
       " ('شخص', 'عاد'),\n",
       " ('عاد', 'صعب'),\n",
       " ('صعب', 'وانغ'),\n",
       " ('وانغ', 'وجد'),\n",
       " ('وجد', 'اشميزاز'),\n",
       " ('اشميزاز', 'محترم'),\n",
       " ('محترم', 'حسن'),\n",
       " ('حسن', 'احصل'),\n",
       " ('احصل', 'مزاج'),\n",
       " ('مزاج', 'كثير'),\n",
       " ('كثير', 'فيلم'),\n",
       " ('فيلم', 'مجرد'),\n",
       " ('مجرد', 'قذر'),\n",
       " ('قذر', 'يلم'),\n",
       " ('يلم', 'اظهار'),\n",
       " ('اظهار', 'اولياء'),\n",
       " ('اولياء', 'امور'),\n",
       " ('امور', 'كبر'),\n",
       " ('كبر', 'اظهار'),\n",
       " ('اظهار', 'مراهق'),\n",
       " ('مراهق', 'شخص'),\n",
       " ('شخص', 'ناضج'),\n",
       " ('ناضج', 'مكا'),\n",
       " ('مكا', 'عمل'),\n",
       " ('عمل', 'عوده'),\n",
       " ('عوده', 'سلوك'),\n",
       " ('سلوك', 'صوتيه'),\n",
       " ('صوتيه', 'لحس'),\n",
       " ('لحس', 'الحظ'),\n",
       " ('الحظ', 'يحتو'),\n",
       " ('يحتو', 'موقع'),\n",
       " ('موقع', 'رجل'),\n",
       " ('رجل', 'سيد'),\n",
       " ('سيد', 'لاحظ'),\n",
       " ('لاحظ', 'شخص'),\n",
       " ('شخص', 'استوديو'),\n",
       " ('استوديو', 'مفترض'),\n",
       " ('مفترض', 'كاف'),\n",
       " ('كاف', 'تتم'),\n",
       " ('تتم', 'يرام'),\n",
       " ('يرام', 'صغير'),\n",
       " ('صغير', 'تقول'),\n",
       " ('تقول', 'رييس'),\n",
       " ('رييس', 'رجال'),\n",
       " ('رجال', 'ورق'),\n",
       " ('ورق', 'محف')]"
      ]
     },
     "execution_count": 20,
     "metadata": {},
     "output_type": "execute_result"
    }
   ],
   "source": [
    "Corpus['Bigrams'] = Corpus['Normalized_Text'].apply(lambda x: list(nltk.bigrams(x.split( ))))\n",
    "Corpus['Bigrams'][100]"
   ]
  },
  {
   "cell_type": "markdown",
   "metadata": {},
   "source": [
    "# Trigrams"
   ]
  },
  {
   "cell_type": "code",
   "execution_count": 21,
   "metadata": {},
   "outputs": [
    {
     "data": {
      "text/plain": [
       "[('اقول', 'اعط', 'فيلم'),\n",
       " ('اعط', 'فيلم', 'شخص'),\n",
       " ('فيلم', 'شخص', 'مزدوج'),\n",
       " ('شخص', 'مزدوج', 'قيل'),\n",
       " ('مزدوج', 'قيل', 'مرار'),\n",
       " ('قيل', 'مرار', 'تكرار'),\n",
       " ('مرار', 'تكرار', 'يصم'),\n",
       " ('تكرار', 'يصم', 'بدء'),\n",
       " ('يصم', 'بدء', 'تحدث'),\n",
       " ('بدء', 'تحدث', 'شخص'),\n",
       " ('تحدث', 'شخص', 'عاد'),\n",
       " ('شخص', 'عاد', 'صعب'),\n",
       " ('عاد', 'صعب', 'وانغ'),\n",
       " ('صعب', 'وانغ', 'وجد'),\n",
       " ('وانغ', 'وجد', 'اشميزاز'),\n",
       " ('وجد', 'اشميزاز', 'محترم'),\n",
       " ('اشميزاز', 'محترم', 'حسن'),\n",
       " ('محترم', 'حسن', 'احصل'),\n",
       " ('حسن', 'احصل', 'مزاج'),\n",
       " ('احصل', 'مزاج', 'كثير'),\n",
       " ('مزاج', 'كثير', 'فيلم'),\n",
       " ('كثير', 'فيلم', 'مجرد'),\n",
       " ('فيلم', 'مجرد', 'قذر'),\n",
       " ('مجرد', 'قذر', 'يلم'),\n",
       " ('قذر', 'يلم', 'اظهار'),\n",
       " ('يلم', 'اظهار', 'اولياء'),\n",
       " ('اظهار', 'اولياء', 'امور'),\n",
       " ('اولياء', 'امور', 'كبر'),\n",
       " ('امور', 'كبر', 'اظهار'),\n",
       " ('كبر', 'اظهار', 'مراهق'),\n",
       " ('اظهار', 'مراهق', 'شخص'),\n",
       " ('مراهق', 'شخص', 'ناضج'),\n",
       " ('شخص', 'ناضج', 'مكا'),\n",
       " ('ناضج', 'مكا', 'عمل'),\n",
       " ('مكا', 'عمل', 'عوده'),\n",
       " ('عمل', 'عوده', 'سلوك'),\n",
       " ('عوده', 'سلوك', 'صوتيه'),\n",
       " ('سلوك', 'صوتيه', 'لحس'),\n",
       " ('صوتيه', 'لحس', 'الحظ'),\n",
       " ('لحس', 'الحظ', 'يحتو'),\n",
       " ('الحظ', 'يحتو', 'موقع'),\n",
       " ('يحتو', 'موقع', 'رجل'),\n",
       " ('موقع', 'رجل', 'سيد'),\n",
       " ('رجل', 'سيد', 'لاحظ'),\n",
       " ('سيد', 'لاحظ', 'شخص'),\n",
       " ('لاحظ', 'شخص', 'استوديو'),\n",
       " ('شخص', 'استوديو', 'مفترض'),\n",
       " ('استوديو', 'مفترض', 'كاف'),\n",
       " ('مفترض', 'كاف', 'تتم'),\n",
       " ('كاف', 'تتم', 'يرام'),\n",
       " ('تتم', 'يرام', 'صغير'),\n",
       " ('يرام', 'صغير', 'تقول'),\n",
       " ('صغير', 'تقول', 'رييس'),\n",
       " ('تقول', 'رييس', 'رجال'),\n",
       " ('رييس', 'رجال', 'ورق'),\n",
       " ('رجال', 'ورق', 'محف')]"
      ]
     },
     "execution_count": 21,
     "metadata": {},
     "output_type": "execute_result"
    }
   ],
   "source": [
    "Corpus['Trigrams'] = Corpus['Normalized_Text'].apply(lambda x: list(nltk.trigrams(x.split( ))))\n",
    "Corpus['Trigrams'][100]"
   ]
  },
  {
   "cell_type": "markdown",
   "metadata": {},
   "source": [
    "# Ngrams"
   ]
  },
  {
   "cell_type": "code",
   "execution_count": 22,
   "metadata": {},
   "outputs": [
    {
     "data": {
      "text/plain": [
       "[('اقول', 'اعط', 'فيلم', 'شخص'),\n",
       " ('اعط', 'فيلم', 'شخص', 'مزدوج'),\n",
       " ('فيلم', 'شخص', 'مزدوج', 'قيل'),\n",
       " ('شخص', 'مزدوج', 'قيل', 'مرار'),\n",
       " ('مزدوج', 'قيل', 'مرار', 'تكرار'),\n",
       " ('قيل', 'مرار', 'تكرار', 'يصم'),\n",
       " ('مرار', 'تكرار', 'يصم', 'بدء'),\n",
       " ('تكرار', 'يصم', 'بدء', 'تحدث'),\n",
       " ('يصم', 'بدء', 'تحدث', 'شخص'),\n",
       " ('بدء', 'تحدث', 'شخص', 'عاد'),\n",
       " ('تحدث', 'شخص', 'عاد', 'صعب'),\n",
       " ('شخص', 'عاد', 'صعب', 'وانغ'),\n",
       " ('عاد', 'صعب', 'وانغ', 'وجد'),\n",
       " ('صعب', 'وانغ', 'وجد', 'اشميزاز'),\n",
       " ('وانغ', 'وجد', 'اشميزاز', 'محترم'),\n",
       " ('وجد', 'اشميزاز', 'محترم', 'حسن'),\n",
       " ('اشميزاز', 'محترم', 'حسن', 'احصل'),\n",
       " ('محترم', 'حسن', 'احصل', 'مزاج'),\n",
       " ('حسن', 'احصل', 'مزاج', 'كثير'),\n",
       " ('احصل', 'مزاج', 'كثير', 'فيلم'),\n",
       " ('مزاج', 'كثير', 'فيلم', 'مجرد'),\n",
       " ('كثير', 'فيلم', 'مجرد', 'قذر'),\n",
       " ('فيلم', 'مجرد', 'قذر', 'يلم'),\n",
       " ('مجرد', 'قذر', 'يلم', 'اظهار'),\n",
       " ('قذر', 'يلم', 'اظهار', 'اولياء'),\n",
       " ('يلم', 'اظهار', 'اولياء', 'امور'),\n",
       " ('اظهار', 'اولياء', 'امور', 'كبر'),\n",
       " ('اولياء', 'امور', 'كبر', 'اظهار'),\n",
       " ('امور', 'كبر', 'اظهار', 'مراهق'),\n",
       " ('كبر', 'اظهار', 'مراهق', 'شخص'),\n",
       " ('اظهار', 'مراهق', 'شخص', 'ناضج'),\n",
       " ('مراهق', 'شخص', 'ناضج', 'مكا'),\n",
       " ('شخص', 'ناضج', 'مكا', 'عمل'),\n",
       " ('ناضج', 'مكا', 'عمل', 'عوده'),\n",
       " ('مكا', 'عمل', 'عوده', 'سلوك'),\n",
       " ('عمل', 'عوده', 'سلوك', 'صوتيه'),\n",
       " ('عوده', 'سلوك', 'صوتيه', 'لحس'),\n",
       " ('سلوك', 'صوتيه', 'لحس', 'الحظ'),\n",
       " ('صوتيه', 'لحس', 'الحظ', 'يحتو'),\n",
       " ('لحس', 'الحظ', 'يحتو', 'موقع'),\n",
       " ('الحظ', 'يحتو', 'موقع', 'رجل'),\n",
       " ('يحتو', 'موقع', 'رجل', 'سيد'),\n",
       " ('موقع', 'رجل', 'سيد', 'لاحظ'),\n",
       " ('رجل', 'سيد', 'لاحظ', 'شخص'),\n",
       " ('سيد', 'لاحظ', 'شخص', 'استوديو'),\n",
       " ('لاحظ', 'شخص', 'استوديو', 'مفترض'),\n",
       " ('شخص', 'استوديو', 'مفترض', 'كاف'),\n",
       " ('استوديو', 'مفترض', 'كاف', 'تتم'),\n",
       " ('مفترض', 'كاف', 'تتم', 'يرام'),\n",
       " ('كاف', 'تتم', 'يرام', 'صغير'),\n",
       " ('تتم', 'يرام', 'صغير', 'تقول'),\n",
       " ('يرام', 'صغير', 'تقول', 'رييس'),\n",
       " ('صغير', 'تقول', 'رييس', 'رجال'),\n",
       " ('تقول', 'رييس', 'رجال', 'ورق'),\n",
       " ('رييس', 'رجال', 'ورق', 'محف')]"
      ]
     },
     "execution_count": 22,
     "metadata": {},
     "output_type": "execute_result"
    }
   ],
   "source": [
    "Corpus['Ngrams'] = Corpus['Normalized_Text'].apply(lambda x: list(nltk.ngrams(x.split( ), 4)))\n",
    "Corpus['Ngrams'][100]"
   ]
  },
  {
   "cell_type": "markdown",
   "metadata": {},
   "source": [
    "# Most Frequent Words "
   ]
  },
  {
   "cell_type": "code",
   "execution_count": 23,
   "metadata": {},
   "outputs": [
    {
     "data": {
      "text/html": [
       "<div>\n",
       "<style scoped>\n",
       "    .dataframe tbody tr th:only-of-type {\n",
       "        vertical-align: middle;\n",
       "    }\n",
       "\n",
       "    .dataframe tbody tr th {\n",
       "        vertical-align: top;\n",
       "    }\n",
       "\n",
       "    .dataframe thead th {\n",
       "        text-align: right;\n",
       "    }\n",
       "</style>\n",
       "<table border=\"1\" class=\"dataframe\">\n",
       "  <thead>\n",
       "    <tr style=\"text-align: right;\">\n",
       "      <th></th>\n",
       "      <th>Word</th>\n",
       "      <th>Count</th>\n",
       "    </tr>\n",
       "  </thead>\n",
       "  <tbody>\n",
       "    <tr>\n",
       "      <th>0</th>\n",
       "      <td>فيلم</td>\n",
       "      <td>117741</td>\n",
       "    </tr>\n",
       "    <tr>\n",
       "      <th>1</th>\n",
       "      <td>يلم</td>\n",
       "      <td>42568</td>\n",
       "    </tr>\n",
       "    <tr>\n",
       "      <th>2</th>\n",
       "      <td>شخص</td>\n",
       "      <td>37845</td>\n",
       "    </tr>\n",
       "    <tr>\n",
       "      <th>3</th>\n",
       "      <td>افلام</td>\n",
       "      <td>35967</td>\n",
       "    </tr>\n",
       "    <tr>\n",
       "      <th>4</th>\n",
       "      <td>مشاهد</td>\n",
       "      <td>27203</td>\n",
       "    </tr>\n",
       "    <tr>\n",
       "      <th>5</th>\n",
       "      <td>جيد</td>\n",
       "      <td>26335</td>\n",
       "    </tr>\n",
       "    <tr>\n",
       "      <th>6</th>\n",
       "      <td>كثير</td>\n",
       "      <td>25687</td>\n",
       "    </tr>\n",
       "    <tr>\n",
       "      <th>7</th>\n",
       "      <td>رايع</td>\n",
       "      <td>23667</td>\n",
       "    </tr>\n",
       "    <tr>\n",
       "      <th>8</th>\n",
       "      <td>قصه</td>\n",
       "      <td>23393</td>\n",
       "    </tr>\n",
       "    <tr>\n",
       "      <th>9</th>\n",
       "      <td>افضل</td>\n",
       "      <td>23184</td>\n",
       "    </tr>\n",
       "    <tr>\n",
       "      <th>10</th>\n",
       "      <td>واحد</td>\n",
       "      <td>18567</td>\n",
       "    </tr>\n",
       "    <tr>\n",
       "      <th>11</th>\n",
       "      <td>سيء</td>\n",
       "      <td>17881</td>\n",
       "    </tr>\n",
       "    <tr>\n",
       "      <th>12</th>\n",
       "      <td>يتم</td>\n",
       "      <td>17095</td>\n",
       "    </tr>\n",
       "    <tr>\n",
       "      <th>13</th>\n",
       "      <td>رجل</td>\n",
       "      <td>16546</td>\n",
       "    </tr>\n",
       "    <tr>\n",
       "      <th>14</th>\n",
       "      <td>را</td>\n",
       "      <td>16234</td>\n",
       "    </tr>\n",
       "  </tbody>\n",
       "</table>\n",
       "</div>"
      ],
      "text/plain": [
       "     Word   Count\n",
       "0    فيلم  117741\n",
       "1     يلم   42568\n",
       "2     شخص   37845\n",
       "3   افلام   35967\n",
       "4   مشاهد   27203\n",
       "5     جيد   26335\n",
       "6    كثير   25687\n",
       "7    رايع   23667\n",
       "8     قصه   23393\n",
       "9    افضل   23184\n",
       "10   واحد   18567\n",
       "11    سيء   17881\n",
       "12    يتم   17095\n",
       "13    رجل   16546\n",
       "14     را   16234"
      ]
     },
     "execution_count": 23,
     "metadata": {},
     "output_type": "execute_result"
    }
   ],
   "source": [
    "MostFrequentWord = Counter((Corpus['Normalized_Text']).str.split().explode()).most_common(15)\n",
    "MostFrequentWordDF = pd.DataFrame(MostFrequentWord, columns=('Word', 'Count'))\n",
    "MostFrequentWordDF"
   ]
  },
  {
   "cell_type": "code",
   "execution_count": 24,
   "metadata": {},
   "outputs": [
    {
     "data": {
      "application/vnd.plotly.v1+json": {
       "config": {
        "plotlyServerURL": "https://plot.ly"
       },
       "data": [
        {
         "marker": {
          "color": [
           "Salmon",
           "FireBrick",
           "MediumVioletRed",
           "Tomato",
           "Orange",
           "Gold",
           "DarkKhaki",
           "Lavender",
           "Plum",
           "LimeGreen",
           "MediumSpringGreen",
           "Green",
           "DeepSkyBlue",
           "Aquamarine",
           "MediumSlateBlue"
          ]
         },
         "type": "funnel",
         "x": [
          117741,
          42568,
          37845,
          35967,
          27203,
          26335,
          25687,
          23667,
          23393,
          23184,
          18567,
          17881,
          17095,
          16546,
          16234
         ],
         "y": [
          "فيلم",
          "يلم",
          "شخص",
          "افلام",
          "مشاهد",
          "جيد",
          "كثير",
          "رايع",
          "قصه",
          "افضل",
          "واحد",
          "سيء",
          "يتم",
          "رجل",
          "را"
         ]
        }
       ],
       "layout": {
        "template": {
         "data": {
          "bar": [
           {
            "error_x": {
             "color": "#2a3f5f"
            },
            "error_y": {
             "color": "#2a3f5f"
            },
            "marker": {
             "line": {
              "color": "#E5ECF6",
              "width": 0.5
             },
             "pattern": {
              "fillmode": "overlay",
              "size": 10,
              "solidity": 0.2
             }
            },
            "type": "bar"
           }
          ],
          "barpolar": [
           {
            "marker": {
             "line": {
              "color": "#E5ECF6",
              "width": 0.5
             },
             "pattern": {
              "fillmode": "overlay",
              "size": 10,
              "solidity": 0.2
             }
            },
            "type": "barpolar"
           }
          ],
          "carpet": [
           {
            "aaxis": {
             "endlinecolor": "#2a3f5f",
             "gridcolor": "white",
             "linecolor": "white",
             "minorgridcolor": "white",
             "startlinecolor": "#2a3f5f"
            },
            "baxis": {
             "endlinecolor": "#2a3f5f",
             "gridcolor": "white",
             "linecolor": "white",
             "minorgridcolor": "white",
             "startlinecolor": "#2a3f5f"
            },
            "type": "carpet"
           }
          ],
          "choropleth": [
           {
            "colorbar": {
             "outlinewidth": 0,
             "ticks": ""
            },
            "type": "choropleth"
           }
          ],
          "contour": [
           {
            "colorbar": {
             "outlinewidth": 0,
             "ticks": ""
            },
            "colorscale": [
             [
              0,
              "#0d0887"
             ],
             [
              0.1111111111111111,
              "#46039f"
             ],
             [
              0.2222222222222222,
              "#7201a8"
             ],
             [
              0.3333333333333333,
              "#9c179e"
             ],
             [
              0.4444444444444444,
              "#bd3786"
             ],
             [
              0.5555555555555556,
              "#d8576b"
             ],
             [
              0.6666666666666666,
              "#ed7953"
             ],
             [
              0.7777777777777778,
              "#fb9f3a"
             ],
             [
              0.8888888888888888,
              "#fdca26"
             ],
             [
              1,
              "#f0f921"
             ]
            ],
            "type": "contour"
           }
          ],
          "contourcarpet": [
           {
            "colorbar": {
             "outlinewidth": 0,
             "ticks": ""
            },
            "type": "contourcarpet"
           }
          ],
          "heatmap": [
           {
            "colorbar": {
             "outlinewidth": 0,
             "ticks": ""
            },
            "colorscale": [
             [
              0,
              "#0d0887"
             ],
             [
              0.1111111111111111,
              "#46039f"
             ],
             [
              0.2222222222222222,
              "#7201a8"
             ],
             [
              0.3333333333333333,
              "#9c179e"
             ],
             [
              0.4444444444444444,
              "#bd3786"
             ],
             [
              0.5555555555555556,
              "#d8576b"
             ],
             [
              0.6666666666666666,
              "#ed7953"
             ],
             [
              0.7777777777777778,
              "#fb9f3a"
             ],
             [
              0.8888888888888888,
              "#fdca26"
             ],
             [
              1,
              "#f0f921"
             ]
            ],
            "type": "heatmap"
           }
          ],
          "heatmapgl": [
           {
            "colorbar": {
             "outlinewidth": 0,
             "ticks": ""
            },
            "colorscale": [
             [
              0,
              "#0d0887"
             ],
             [
              0.1111111111111111,
              "#46039f"
             ],
             [
              0.2222222222222222,
              "#7201a8"
             ],
             [
              0.3333333333333333,
              "#9c179e"
             ],
             [
              0.4444444444444444,
              "#bd3786"
             ],
             [
              0.5555555555555556,
              "#d8576b"
             ],
             [
              0.6666666666666666,
              "#ed7953"
             ],
             [
              0.7777777777777778,
              "#fb9f3a"
             ],
             [
              0.8888888888888888,
              "#fdca26"
             ],
             [
              1,
              "#f0f921"
             ]
            ],
            "type": "heatmapgl"
           }
          ],
          "histogram": [
           {
            "marker": {
             "pattern": {
              "fillmode": "overlay",
              "size": 10,
              "solidity": 0.2
             }
            },
            "type": "histogram"
           }
          ],
          "histogram2d": [
           {
            "colorbar": {
             "outlinewidth": 0,
             "ticks": ""
            },
            "colorscale": [
             [
              0,
              "#0d0887"
             ],
             [
              0.1111111111111111,
              "#46039f"
             ],
             [
              0.2222222222222222,
              "#7201a8"
             ],
             [
              0.3333333333333333,
              "#9c179e"
             ],
             [
              0.4444444444444444,
              "#bd3786"
             ],
             [
              0.5555555555555556,
              "#d8576b"
             ],
             [
              0.6666666666666666,
              "#ed7953"
             ],
             [
              0.7777777777777778,
              "#fb9f3a"
             ],
             [
              0.8888888888888888,
              "#fdca26"
             ],
             [
              1,
              "#f0f921"
             ]
            ],
            "type": "histogram2d"
           }
          ],
          "histogram2dcontour": [
           {
            "colorbar": {
             "outlinewidth": 0,
             "ticks": ""
            },
            "colorscale": [
             [
              0,
              "#0d0887"
             ],
             [
              0.1111111111111111,
              "#46039f"
             ],
             [
              0.2222222222222222,
              "#7201a8"
             ],
             [
              0.3333333333333333,
              "#9c179e"
             ],
             [
              0.4444444444444444,
              "#bd3786"
             ],
             [
              0.5555555555555556,
              "#d8576b"
             ],
             [
              0.6666666666666666,
              "#ed7953"
             ],
             [
              0.7777777777777778,
              "#fb9f3a"
             ],
             [
              0.8888888888888888,
              "#fdca26"
             ],
             [
              1,
              "#f0f921"
             ]
            ],
            "type": "histogram2dcontour"
           }
          ],
          "mesh3d": [
           {
            "colorbar": {
             "outlinewidth": 0,
             "ticks": ""
            },
            "type": "mesh3d"
           }
          ],
          "parcoords": [
           {
            "line": {
             "colorbar": {
              "outlinewidth": 0,
              "ticks": ""
             }
            },
            "type": "parcoords"
           }
          ],
          "pie": [
           {
            "automargin": true,
            "type": "pie"
           }
          ],
          "scatter": [
           {
            "fillpattern": {
             "fillmode": "overlay",
             "size": 10,
             "solidity": 0.2
            },
            "type": "scatter"
           }
          ],
          "scatter3d": [
           {
            "line": {
             "colorbar": {
              "outlinewidth": 0,
              "ticks": ""
             }
            },
            "marker": {
             "colorbar": {
              "outlinewidth": 0,
              "ticks": ""
             }
            },
            "type": "scatter3d"
           }
          ],
          "scattercarpet": [
           {
            "marker": {
             "colorbar": {
              "outlinewidth": 0,
              "ticks": ""
             }
            },
            "type": "scattercarpet"
           }
          ],
          "scattergeo": [
           {
            "marker": {
             "colorbar": {
              "outlinewidth": 0,
              "ticks": ""
             }
            },
            "type": "scattergeo"
           }
          ],
          "scattergl": [
           {
            "marker": {
             "colorbar": {
              "outlinewidth": 0,
              "ticks": ""
             }
            },
            "type": "scattergl"
           }
          ],
          "scattermapbox": [
           {
            "marker": {
             "colorbar": {
              "outlinewidth": 0,
              "ticks": ""
             }
            },
            "type": "scattermapbox"
           }
          ],
          "scatterpolar": [
           {
            "marker": {
             "colorbar": {
              "outlinewidth": 0,
              "ticks": ""
             }
            },
            "type": "scatterpolar"
           }
          ],
          "scatterpolargl": [
           {
            "marker": {
             "colorbar": {
              "outlinewidth": 0,
              "ticks": ""
             }
            },
            "type": "scatterpolargl"
           }
          ],
          "scatterternary": [
           {
            "marker": {
             "colorbar": {
              "outlinewidth": 0,
              "ticks": ""
             }
            },
            "type": "scatterternary"
           }
          ],
          "surface": [
           {
            "colorbar": {
             "outlinewidth": 0,
             "ticks": ""
            },
            "colorscale": [
             [
              0,
              "#0d0887"
             ],
             [
              0.1111111111111111,
              "#46039f"
             ],
             [
              0.2222222222222222,
              "#7201a8"
             ],
             [
              0.3333333333333333,
              "#9c179e"
             ],
             [
              0.4444444444444444,
              "#bd3786"
             ],
             [
              0.5555555555555556,
              "#d8576b"
             ],
             [
              0.6666666666666666,
              "#ed7953"
             ],
             [
              0.7777777777777778,
              "#fb9f3a"
             ],
             [
              0.8888888888888888,
              "#fdca26"
             ],
             [
              1,
              "#f0f921"
             ]
            ],
            "type": "surface"
           }
          ],
          "table": [
           {
            "cells": {
             "fill": {
              "color": "#EBF0F8"
             },
             "line": {
              "color": "white"
             }
            },
            "header": {
             "fill": {
              "color": "#C8D4E3"
             },
             "line": {
              "color": "white"
             }
            },
            "type": "table"
           }
          ]
         },
         "layout": {
          "annotationdefaults": {
           "arrowcolor": "#2a3f5f",
           "arrowhead": 0,
           "arrowwidth": 1
          },
          "autotypenumbers": "strict",
          "coloraxis": {
           "colorbar": {
            "outlinewidth": 0,
            "ticks": ""
           }
          },
          "colorscale": {
           "diverging": [
            [
             0,
             "#8e0152"
            ],
            [
             0.1,
             "#c51b7d"
            ],
            [
             0.2,
             "#de77ae"
            ],
            [
             0.3,
             "#f1b6da"
            ],
            [
             0.4,
             "#fde0ef"
            ],
            [
             0.5,
             "#f7f7f7"
            ],
            [
             0.6,
             "#e6f5d0"
            ],
            [
             0.7,
             "#b8e186"
            ],
            [
             0.8,
             "#7fbc41"
            ],
            [
             0.9,
             "#4d9221"
            ],
            [
             1,
             "#276419"
            ]
           ],
           "sequential": [
            [
             0,
             "#0d0887"
            ],
            [
             0.1111111111111111,
             "#46039f"
            ],
            [
             0.2222222222222222,
             "#7201a8"
            ],
            [
             0.3333333333333333,
             "#9c179e"
            ],
            [
             0.4444444444444444,
             "#bd3786"
            ],
            [
             0.5555555555555556,
             "#d8576b"
            ],
            [
             0.6666666666666666,
             "#ed7953"
            ],
            [
             0.7777777777777778,
             "#fb9f3a"
            ],
            [
             0.8888888888888888,
             "#fdca26"
            ],
            [
             1,
             "#f0f921"
            ]
           ],
           "sequentialminus": [
            [
             0,
             "#0d0887"
            ],
            [
             0.1111111111111111,
             "#46039f"
            ],
            [
             0.2222222222222222,
             "#7201a8"
            ],
            [
             0.3333333333333333,
             "#9c179e"
            ],
            [
             0.4444444444444444,
             "#bd3786"
            ],
            [
             0.5555555555555556,
             "#d8576b"
            ],
            [
             0.6666666666666666,
             "#ed7953"
            ],
            [
             0.7777777777777778,
             "#fb9f3a"
            ],
            [
             0.8888888888888888,
             "#fdca26"
            ],
            [
             1,
             "#f0f921"
            ]
           ]
          },
          "colorway": [
           "#636efa",
           "#EF553B",
           "#00cc96",
           "#ab63fa",
           "#FFA15A",
           "#19d3f3",
           "#FF6692",
           "#B6E880",
           "#FF97FF",
           "#FECB52"
          ],
          "font": {
           "color": "#2a3f5f"
          },
          "geo": {
           "bgcolor": "white",
           "lakecolor": "white",
           "landcolor": "#E5ECF6",
           "showlakes": true,
           "showland": true,
           "subunitcolor": "white"
          },
          "hoverlabel": {
           "align": "left"
          },
          "hovermode": "closest",
          "mapbox": {
           "style": "light"
          },
          "paper_bgcolor": "white",
          "plot_bgcolor": "#E5ECF6",
          "polar": {
           "angularaxis": {
            "gridcolor": "white",
            "linecolor": "white",
            "ticks": ""
           },
           "bgcolor": "#E5ECF6",
           "radialaxis": {
            "gridcolor": "white",
            "linecolor": "white",
            "ticks": ""
           }
          },
          "scene": {
           "xaxis": {
            "backgroundcolor": "#E5ECF6",
            "gridcolor": "white",
            "gridwidth": 2,
            "linecolor": "white",
            "showbackground": true,
            "ticks": "",
            "zerolinecolor": "white"
           },
           "yaxis": {
            "backgroundcolor": "#E5ECF6",
            "gridcolor": "white",
            "gridwidth": 2,
            "linecolor": "white",
            "showbackground": true,
            "ticks": "",
            "zerolinecolor": "white"
           },
           "zaxis": {
            "backgroundcolor": "#E5ECF6",
            "gridcolor": "white",
            "gridwidth": 2,
            "linecolor": "white",
            "showbackground": true,
            "ticks": "",
            "zerolinecolor": "white"
           }
          },
          "shapedefaults": {
           "line": {
            "color": "#2a3f5f"
           }
          },
          "ternary": {
           "aaxis": {
            "gridcolor": "white",
            "linecolor": "white",
            "ticks": ""
           },
           "baxis": {
            "gridcolor": "white",
            "linecolor": "white",
            "ticks": ""
           },
           "bgcolor": "#E5ECF6",
           "caxis": {
            "gridcolor": "white",
            "linecolor": "white",
            "ticks": ""
           }
          },
          "title": {
           "x": 0.05
          },
          "xaxis": {
           "automargin": true,
           "gridcolor": "white",
           "linecolor": "white",
           "ticks": "",
           "title": {
            "standoff": 15
           },
           "zerolinecolor": "white",
           "zerolinewidth": 2
          },
          "yaxis": {
           "automargin": true,
           "gridcolor": "white",
           "linecolor": "white",
           "ticks": "",
           "title": {
            "standoff": 15
           },
           "zerolinecolor": "white",
           "zerolinewidth": 2
          }
         }
        }
       }
      }
     },
     "metadata": {},
     "output_type": "display_data"
    }
   ],
   "source": [
    "fig = go.Figure(go.Funnel(\n",
    "    y = MostFrequentWordDF['Word'].tolist(),\n",
    "    x = MostFrequentWordDF['Count'].tolist(),\n",
    "    marker = {\"color\": color3}))\n",
    "fig.show()"
   ]
  },
  {
   "cell_type": "code",
   "execution_count": 25,
   "metadata": {},
   "outputs": [
    {
     "data": {
      "application/vnd.plotly.v1+json": {
       "config": {
        "plotlyServerURL": "https://plot.ly"
       },
       "data": [
        {
         "alignmentgroup": "True",
         "hovertemplate": "Count=%{x}<br>Word=%{y}<extra></extra>",
         "legendgroup": "",
         "marker": {
          "color": "#636efa",
          "pattern": {
           "shape": ""
          }
         },
         "name": "",
         "offsetgroup": "",
         "orientation": "h",
         "showlegend": false,
         "textposition": "auto",
         "type": "bar",
         "x": [
          117741,
          42568,
          37845,
          35967,
          27203,
          26335,
          25687,
          23667,
          23393,
          23184,
          18567,
          17881,
          17095,
          16546,
          16234
         ],
         "xaxis": "x",
         "y": [
          "فيلم",
          "يلم",
          "شخص",
          "افلام",
          "مشاهد",
          "جيد",
          "كثير",
          "رايع",
          "قصه",
          "افضل",
          "واحد",
          "سيء",
          "يتم",
          "رجل",
          "را"
         ],
         "yaxis": "y"
        }
       ],
       "layout": {
        "barmode": "relative",
        "legend": {
         "tracegroupgap": 0
        },
        "margin": {
         "t": 60
        },
        "template": {
         "data": {
          "bar": [
           {
            "error_x": {
             "color": "#2a3f5f"
            },
            "error_y": {
             "color": "#2a3f5f"
            },
            "marker": {
             "line": {
              "color": "#E5ECF6",
              "width": 0.5
             },
             "pattern": {
              "fillmode": "overlay",
              "size": 10,
              "solidity": 0.2
             }
            },
            "type": "bar"
           }
          ],
          "barpolar": [
           {
            "marker": {
             "line": {
              "color": "#E5ECF6",
              "width": 0.5
             },
             "pattern": {
              "fillmode": "overlay",
              "size": 10,
              "solidity": 0.2
             }
            },
            "type": "barpolar"
           }
          ],
          "carpet": [
           {
            "aaxis": {
             "endlinecolor": "#2a3f5f",
             "gridcolor": "white",
             "linecolor": "white",
             "minorgridcolor": "white",
             "startlinecolor": "#2a3f5f"
            },
            "baxis": {
             "endlinecolor": "#2a3f5f",
             "gridcolor": "white",
             "linecolor": "white",
             "minorgridcolor": "white",
             "startlinecolor": "#2a3f5f"
            },
            "type": "carpet"
           }
          ],
          "choropleth": [
           {
            "colorbar": {
             "outlinewidth": 0,
             "ticks": ""
            },
            "type": "choropleth"
           }
          ],
          "contour": [
           {
            "colorbar": {
             "outlinewidth": 0,
             "ticks": ""
            },
            "colorscale": [
             [
              0,
              "#0d0887"
             ],
             [
              0.1111111111111111,
              "#46039f"
             ],
             [
              0.2222222222222222,
              "#7201a8"
             ],
             [
              0.3333333333333333,
              "#9c179e"
             ],
             [
              0.4444444444444444,
              "#bd3786"
             ],
             [
              0.5555555555555556,
              "#d8576b"
             ],
             [
              0.6666666666666666,
              "#ed7953"
             ],
             [
              0.7777777777777778,
              "#fb9f3a"
             ],
             [
              0.8888888888888888,
              "#fdca26"
             ],
             [
              1,
              "#f0f921"
             ]
            ],
            "type": "contour"
           }
          ],
          "contourcarpet": [
           {
            "colorbar": {
             "outlinewidth": 0,
             "ticks": ""
            },
            "type": "contourcarpet"
           }
          ],
          "heatmap": [
           {
            "colorbar": {
             "outlinewidth": 0,
             "ticks": ""
            },
            "colorscale": [
             [
              0,
              "#0d0887"
             ],
             [
              0.1111111111111111,
              "#46039f"
             ],
             [
              0.2222222222222222,
              "#7201a8"
             ],
             [
              0.3333333333333333,
              "#9c179e"
             ],
             [
              0.4444444444444444,
              "#bd3786"
             ],
             [
              0.5555555555555556,
              "#d8576b"
             ],
             [
              0.6666666666666666,
              "#ed7953"
             ],
             [
              0.7777777777777778,
              "#fb9f3a"
             ],
             [
              0.8888888888888888,
              "#fdca26"
             ],
             [
              1,
              "#f0f921"
             ]
            ],
            "type": "heatmap"
           }
          ],
          "heatmapgl": [
           {
            "colorbar": {
             "outlinewidth": 0,
             "ticks": ""
            },
            "colorscale": [
             [
              0,
              "#0d0887"
             ],
             [
              0.1111111111111111,
              "#46039f"
             ],
             [
              0.2222222222222222,
              "#7201a8"
             ],
             [
              0.3333333333333333,
              "#9c179e"
             ],
             [
              0.4444444444444444,
              "#bd3786"
             ],
             [
              0.5555555555555556,
              "#d8576b"
             ],
             [
              0.6666666666666666,
              "#ed7953"
             ],
             [
              0.7777777777777778,
              "#fb9f3a"
             ],
             [
              0.8888888888888888,
              "#fdca26"
             ],
             [
              1,
              "#f0f921"
             ]
            ],
            "type": "heatmapgl"
           }
          ],
          "histogram": [
           {
            "marker": {
             "pattern": {
              "fillmode": "overlay",
              "size": 10,
              "solidity": 0.2
             }
            },
            "type": "histogram"
           }
          ],
          "histogram2d": [
           {
            "colorbar": {
             "outlinewidth": 0,
             "ticks": ""
            },
            "colorscale": [
             [
              0,
              "#0d0887"
             ],
             [
              0.1111111111111111,
              "#46039f"
             ],
             [
              0.2222222222222222,
              "#7201a8"
             ],
             [
              0.3333333333333333,
              "#9c179e"
             ],
             [
              0.4444444444444444,
              "#bd3786"
             ],
             [
              0.5555555555555556,
              "#d8576b"
             ],
             [
              0.6666666666666666,
              "#ed7953"
             ],
             [
              0.7777777777777778,
              "#fb9f3a"
             ],
             [
              0.8888888888888888,
              "#fdca26"
             ],
             [
              1,
              "#f0f921"
             ]
            ],
            "type": "histogram2d"
           }
          ],
          "histogram2dcontour": [
           {
            "colorbar": {
             "outlinewidth": 0,
             "ticks": ""
            },
            "colorscale": [
             [
              0,
              "#0d0887"
             ],
             [
              0.1111111111111111,
              "#46039f"
             ],
             [
              0.2222222222222222,
              "#7201a8"
             ],
             [
              0.3333333333333333,
              "#9c179e"
             ],
             [
              0.4444444444444444,
              "#bd3786"
             ],
             [
              0.5555555555555556,
              "#d8576b"
             ],
             [
              0.6666666666666666,
              "#ed7953"
             ],
             [
              0.7777777777777778,
              "#fb9f3a"
             ],
             [
              0.8888888888888888,
              "#fdca26"
             ],
             [
              1,
              "#f0f921"
             ]
            ],
            "type": "histogram2dcontour"
           }
          ],
          "mesh3d": [
           {
            "colorbar": {
             "outlinewidth": 0,
             "ticks": ""
            },
            "type": "mesh3d"
           }
          ],
          "parcoords": [
           {
            "line": {
             "colorbar": {
              "outlinewidth": 0,
              "ticks": ""
             }
            },
            "type": "parcoords"
           }
          ],
          "pie": [
           {
            "automargin": true,
            "type": "pie"
           }
          ],
          "scatter": [
           {
            "fillpattern": {
             "fillmode": "overlay",
             "size": 10,
             "solidity": 0.2
            },
            "type": "scatter"
           }
          ],
          "scatter3d": [
           {
            "line": {
             "colorbar": {
              "outlinewidth": 0,
              "ticks": ""
             }
            },
            "marker": {
             "colorbar": {
              "outlinewidth": 0,
              "ticks": ""
             }
            },
            "type": "scatter3d"
           }
          ],
          "scattercarpet": [
           {
            "marker": {
             "colorbar": {
              "outlinewidth": 0,
              "ticks": ""
             }
            },
            "type": "scattercarpet"
           }
          ],
          "scattergeo": [
           {
            "marker": {
             "colorbar": {
              "outlinewidth": 0,
              "ticks": ""
             }
            },
            "type": "scattergeo"
           }
          ],
          "scattergl": [
           {
            "marker": {
             "colorbar": {
              "outlinewidth": 0,
              "ticks": ""
             }
            },
            "type": "scattergl"
           }
          ],
          "scattermapbox": [
           {
            "marker": {
             "colorbar": {
              "outlinewidth": 0,
              "ticks": ""
             }
            },
            "type": "scattermapbox"
           }
          ],
          "scatterpolar": [
           {
            "marker": {
             "colorbar": {
              "outlinewidth": 0,
              "ticks": ""
             }
            },
            "type": "scatterpolar"
           }
          ],
          "scatterpolargl": [
           {
            "marker": {
             "colorbar": {
              "outlinewidth": 0,
              "ticks": ""
             }
            },
            "type": "scatterpolargl"
           }
          ],
          "scatterternary": [
           {
            "marker": {
             "colorbar": {
              "outlinewidth": 0,
              "ticks": ""
             }
            },
            "type": "scatterternary"
           }
          ],
          "surface": [
           {
            "colorbar": {
             "outlinewidth": 0,
             "ticks": ""
            },
            "colorscale": [
             [
              0,
              "#0d0887"
             ],
             [
              0.1111111111111111,
              "#46039f"
             ],
             [
              0.2222222222222222,
              "#7201a8"
             ],
             [
              0.3333333333333333,
              "#9c179e"
             ],
             [
              0.4444444444444444,
              "#bd3786"
             ],
             [
              0.5555555555555556,
              "#d8576b"
             ],
             [
              0.6666666666666666,
              "#ed7953"
             ],
             [
              0.7777777777777778,
              "#fb9f3a"
             ],
             [
              0.8888888888888888,
              "#fdca26"
             ],
             [
              1,
              "#f0f921"
             ]
            ],
            "type": "surface"
           }
          ],
          "table": [
           {
            "cells": {
             "fill": {
              "color": "#EBF0F8"
             },
             "line": {
              "color": "white"
             }
            },
            "header": {
             "fill": {
              "color": "#C8D4E3"
             },
             "line": {
              "color": "white"
             }
            },
            "type": "table"
           }
          ]
         },
         "layout": {
          "annotationdefaults": {
           "arrowcolor": "#2a3f5f",
           "arrowhead": 0,
           "arrowwidth": 1
          },
          "autotypenumbers": "strict",
          "coloraxis": {
           "colorbar": {
            "outlinewidth": 0,
            "ticks": ""
           }
          },
          "colorscale": {
           "diverging": [
            [
             0,
             "#8e0152"
            ],
            [
             0.1,
             "#c51b7d"
            ],
            [
             0.2,
             "#de77ae"
            ],
            [
             0.3,
             "#f1b6da"
            ],
            [
             0.4,
             "#fde0ef"
            ],
            [
             0.5,
             "#f7f7f7"
            ],
            [
             0.6,
             "#e6f5d0"
            ],
            [
             0.7,
             "#b8e186"
            ],
            [
             0.8,
             "#7fbc41"
            ],
            [
             0.9,
             "#4d9221"
            ],
            [
             1,
             "#276419"
            ]
           ],
           "sequential": [
            [
             0,
             "#0d0887"
            ],
            [
             0.1111111111111111,
             "#46039f"
            ],
            [
             0.2222222222222222,
             "#7201a8"
            ],
            [
             0.3333333333333333,
             "#9c179e"
            ],
            [
             0.4444444444444444,
             "#bd3786"
            ],
            [
             0.5555555555555556,
             "#d8576b"
            ],
            [
             0.6666666666666666,
             "#ed7953"
            ],
            [
             0.7777777777777778,
             "#fb9f3a"
            ],
            [
             0.8888888888888888,
             "#fdca26"
            ],
            [
             1,
             "#f0f921"
            ]
           ],
           "sequentialminus": [
            [
             0,
             "#0d0887"
            ],
            [
             0.1111111111111111,
             "#46039f"
            ],
            [
             0.2222222222222222,
             "#7201a8"
            ],
            [
             0.3333333333333333,
             "#9c179e"
            ],
            [
             0.4444444444444444,
             "#bd3786"
            ],
            [
             0.5555555555555556,
             "#d8576b"
            ],
            [
             0.6666666666666666,
             "#ed7953"
            ],
            [
             0.7777777777777778,
             "#fb9f3a"
            ],
            [
             0.8888888888888888,
             "#fdca26"
            ],
            [
             1,
             "#f0f921"
            ]
           ]
          },
          "colorway": [
           "#636efa",
           "#EF553B",
           "#00cc96",
           "#ab63fa",
           "#FFA15A",
           "#19d3f3",
           "#FF6692",
           "#B6E880",
           "#FF97FF",
           "#FECB52"
          ],
          "font": {
           "color": "#2a3f5f"
          },
          "geo": {
           "bgcolor": "white",
           "lakecolor": "white",
           "landcolor": "#E5ECF6",
           "showlakes": true,
           "showland": true,
           "subunitcolor": "white"
          },
          "hoverlabel": {
           "align": "left"
          },
          "hovermode": "closest",
          "mapbox": {
           "style": "light"
          },
          "paper_bgcolor": "white",
          "plot_bgcolor": "#E5ECF6",
          "polar": {
           "angularaxis": {
            "gridcolor": "white",
            "linecolor": "white",
            "ticks": ""
           },
           "bgcolor": "#E5ECF6",
           "radialaxis": {
            "gridcolor": "white",
            "linecolor": "white",
            "ticks": ""
           }
          },
          "scene": {
           "xaxis": {
            "backgroundcolor": "#E5ECF6",
            "gridcolor": "white",
            "gridwidth": 2,
            "linecolor": "white",
            "showbackground": true,
            "ticks": "",
            "zerolinecolor": "white"
           },
           "yaxis": {
            "backgroundcolor": "#E5ECF6",
            "gridcolor": "white",
            "gridwidth": 2,
            "linecolor": "white",
            "showbackground": true,
            "ticks": "",
            "zerolinecolor": "white"
           },
           "zaxis": {
            "backgroundcolor": "#E5ECF6",
            "gridcolor": "white",
            "gridwidth": 2,
            "linecolor": "white",
            "showbackground": true,
            "ticks": "",
            "zerolinecolor": "white"
           }
          },
          "shapedefaults": {
           "line": {
            "color": "#2a3f5f"
           }
          },
          "ternary": {
           "aaxis": {
            "gridcolor": "white",
            "linecolor": "white",
            "ticks": ""
           },
           "baxis": {
            "gridcolor": "white",
            "linecolor": "white",
            "ticks": ""
           },
           "bgcolor": "#E5ECF6",
           "caxis": {
            "gridcolor": "white",
            "linecolor": "white",
            "ticks": ""
           }
          },
          "title": {
           "x": 0.05
          },
          "xaxis": {
           "automargin": true,
           "gridcolor": "white",
           "linecolor": "white",
           "ticks": "",
           "title": {
            "standoff": 15
           },
           "zerolinecolor": "white",
           "zerolinewidth": 2
          },
          "yaxis": {
           "automargin": true,
           "gridcolor": "white",
           "linecolor": "white",
           "ticks": "",
           "title": {
            "standoff": 15
           },
           "zerolinecolor": "white",
           "zerolinewidth": 2
          }
         }
        },
        "xaxis": {
         "anchor": "y",
         "domain": [
          0,
          1
         ],
         "title": {
          "text": "Count"
         }
        },
        "yaxis": {
         "anchor": "x",
         "domain": [
          0,
          1
         ],
         "title": {
          "text": "Word"
         }
        }
       }
      }
     },
     "metadata": {},
     "output_type": "display_data"
    }
   ],
   "source": [
    "fig = px.bar(MostFrequentWordDF, y='Word', x='Count',  orientation='h')\n",
    "fig.show()"
   ]
  },
  {
   "cell_type": "markdown",
   "metadata": {},
   "source": [
    "# Number Of Words "
   ]
  },
  {
   "cell_type": "code",
   "execution_count": 26,
   "metadata": {},
   "outputs": [
    {
     "data": {
      "text/plain": [
       "5220457"
      ]
     },
     "execution_count": 26,
     "metadata": {},
     "output_type": "execute_result"
    }
   ],
   "source": [
    "Corpus[\"Number of Words\"] = Corpus[\"Normalized_Text\"].apply(lambda n:len(simple_word_tokenize(n)))\n",
    "Corpus.drop(Corpus[ Corpus[\"Number of Words\"] == 0].index, inplace = True)\n",
    "Corpus[\"Number of Words\"].sum()"
   ]
  },
  {
   "cell_type": "markdown",
   "metadata": {},
   "source": [
    "# Number Of Charachters "
   ]
  },
  {
   "cell_type": "code",
   "execution_count": 27,
   "metadata": {},
   "outputs": [
    {
     "data": {
      "text/plain": [
       "26049130"
      ]
     },
     "execution_count": 27,
     "metadata": {},
     "output_type": "execute_result"
    }
   ],
   "source": [
    "Corpus[\"Number of Charachters\"] = Corpus[\"Normalized_Text\"].str.len()\n",
    "Corpus[\"Number of Charachters\"].sum()"
   ]
  },
  {
   "cell_type": "markdown",
   "metadata": {},
   "source": [
    "# Average Number Of Words "
   ]
  },
  {
   "cell_type": "code",
   "execution_count": 28,
   "metadata": {},
   "outputs": [
    {
     "data": {
      "text/plain": [
       "104"
      ]
     },
     "execution_count": 28,
     "metadata": {},
     "output_type": "execute_result"
    }
   ],
   "source": [
    "AverageNaumberOfWords = int(np.round((Corpus[\"Number of Words\"].mean())))\n",
    "AverageNaumberOfWords"
   ]
  },
  {
   "cell_type": "markdown",
   "metadata": {},
   "source": [
    "# Average Number Of Charachters "
   ]
  },
  {
   "cell_type": "code",
   "execution_count": 29,
   "metadata": {},
   "outputs": [
    {
     "data": {
      "text/plain": [
       "521"
      ]
     },
     "execution_count": 29,
     "metadata": {},
     "output_type": "execute_result"
    }
   ],
   "source": [
    "AverageNumberOfCharachters = int(np.round(Corpus[\"Number of Charachters\"].mean()))\n",
    "AverageNumberOfCharachters"
   ]
  },
  {
   "cell_type": "markdown",
   "metadata": {},
   "source": [
    "# Maximum Number Of Word"
   ]
  },
  {
   "cell_type": "code",
   "execution_count": 30,
   "metadata": {},
   "outputs": [
    {
     "data": {
      "text/plain": [
       "1121"
      ]
     },
     "execution_count": 30,
     "metadata": {},
     "output_type": "execute_result"
    }
   ],
   "source": [
    "MaximumNaumberOfWords = Corpus[\"Number of Words\"].max()\n",
    "MaximumNaumberOfWords"
   ]
  },
  {
   "cell_type": "markdown",
   "metadata": {},
   "source": [
    "# Maximum Number Of Charachters "
   ]
  },
  {
   "cell_type": "code",
   "execution_count": 31,
   "metadata": {},
   "outputs": [
    {
     "data": {
      "text/plain": [
       "5472"
      ]
     },
     "execution_count": 31,
     "metadata": {},
     "output_type": "execute_result"
    }
   ],
   "source": [
    "MaximumNumberOfCharachters = Corpus['Number of Charachters'].max() \n",
    "MaximumNumberOfCharachters"
   ]
  },
  {
   "cell_type": "markdown",
   "metadata": {},
   "source": [
    "# Minimum Number Of Words"
   ]
  },
  {
   "cell_type": "code",
   "execution_count": 32,
   "metadata": {},
   "outputs": [
    {
     "data": {
      "text/plain": [
       "3"
      ]
     },
     "execution_count": 32,
     "metadata": {},
     "output_type": "execute_result"
    }
   ],
   "source": [
    "MimimumNaumberOfWords = Corpus[\"Number of Words\"].min()\n",
    "MimimumNaumberOfWords"
   ]
  },
  {
   "cell_type": "markdown",
   "metadata": {},
   "source": [
    "# Minimum Number Of Charachters "
   ]
  },
  {
   "cell_type": "code",
   "execution_count": 33,
   "metadata": {},
   "outputs": [
    {
     "data": {
      "text/plain": [
       "520"
      ]
     },
     "execution_count": 33,
     "metadata": {},
     "output_type": "execute_result"
    }
   ],
   "source": [
    "MinimumNumberOfCharachters = int(Corpus['Number of Charachters'].mean() )\n",
    "MinimumNumberOfCharachters"
   ]
  },
  {
   "cell_type": "markdown",
   "metadata": {},
   "source": [
    "# Split The DataSet Into Independent Variables , And Dependent Variable (Y)"
   ]
  },
  {
   "cell_type": "code",
   "execution_count": 34,
   "metadata": {},
   "outputs": [],
   "source": [
    "X= Corpus['Normalized_Text']\n",
    "y = Corpus['Sentiment']"
   ]
  },
  {
   "cell_type": "markdown",
   "metadata": {},
   "source": [
    "# Label Encoder"
   ]
  },
  {
   "cell_type": "code",
   "execution_count": 35,
   "metadata": {},
   "outputs": [],
   "source": [
    "y = LabelEncoder().fit_transform(y)"
   ]
  },
  {
   "cell_type": "markdown",
   "metadata": {},
   "source": [
    "# Split The Dataset Into Training And Testing"
   ]
  },
  {
   "cell_type": "code",
   "execution_count": 36,
   "metadata": {},
   "outputs": [],
   "source": [
    "X_train, X_test, y_train, y_test = train_test_split(X, y, test_size=0.30, random_state=30)"
   ]
  },
  {
   "cell_type": "markdown",
   "metadata": {},
   "source": [
    "# TfidfVectorizer"
   ]
  },
  {
   "cell_type": "code",
   "execution_count": 37,
   "metadata": {},
   "outputs": [],
   "source": [
    "Tfidf = TfidfVectorizer()\n",
    "X_train_Tfidf = Tfidf.fit_transform(X_train)\n",
    "X_test_Tfidf = Tfidf.transform(X_test)"
   ]
  },
  {
   "cell_type": "code",
   "execution_count": 38,
   "metadata": {},
   "outputs": [
    {
     "data": {
      "text/plain": [
       "{'قراء': 32932,\n",
       " 'روايه': 20672,\n",
       " 'تستند': 11122,\n",
       " 'تعتقد': 11912,\n",
       " 'زوج': 22097,\n",
       " 'واب': 51328,\n",
       " 'فيلم': 32595,\n",
       " 'سقط': 24432,\n",
       " 'طريق': 28936,\n",
       " 'كتاب': 33927,\n",
       " 'استعداد': 2826,\n",
       " 'كلم': 34917,\n",
       " 'جيد': 15622,\n",
       " 'كبير': 33920,\n",
       " 'دقه': 18218,\n",
       " 'يصور': 57730,\n",
       " 'فوض': 32438,\n",
       " 'انش': 6233,\n",
       " 'غزو': 30694,\n",
       " 'سوفيت': 25291,\n",
       " 'افغانست': 4323,\n",
       " 'سرع': 24257,\n",
       " 'عرض': 29619,\n",
       " 'نظام': 48515,\n",
       " 'طالب': 28808,\n",
       " 'متسامح': 39452,\n",
       " 'ساقوم': 22700,\n",
       " 'تقييم': 12470,\n",
       " 'قصه': 33122,\n",
       " 'بشريه': 8434,\n",
       " 'امريكيه': 5532,\n",
       " 'افغانيه': 4324,\n",
       " 'عاد': 29246,\n",
       " 'بلاد': 8661,\n",
       " 'انقاذ': 6408,\n",
       " 'نجل': 47912,\n",
       " 'زميل': 22026,\n",
       " 'مرحل': 41623,\n",
       " 'طفوله': 28982,\n",
       " 'اجراء': 869,\n",
       " 'عدد': 29534,\n",
       " 'وان': 53223,\n",
       " 'اخبر': 1264,\n",
       " 'اقناع': 4561,\n",
       " 'كثير': 34009,\n",
       " 'جزء': 14814,\n",
       " 'اكثر': 4654,\n",
       " 'اثار': 745,\n",
       " 'مسابق': 42005,\n",
       " 'ورقيه': 54177,\n",
       " 'ابول': 333,\n",
       " 'لاحق': 35703,\n",
       " 'مصغر': 42995,\n",
       " 'يفورن': 58156,\n",
       " 'تعادل': 11853,\n",
       " 'ارق': 2140,\n",
       " 'مال': 38578,\n",
       " 'احبب': 1003,\n",
       " 'لسبب': 36552,\n",
       " 'جيف': 15716,\n",
       " 'امشاط': 5552,\n",
       " 'رايع': 19862,\n",
       " 'يلعب': 58572,\n",
       " 'دور': 18521,\n",
       " 'معالج': 43420,\n",
       " 'حديث': 16194,\n",
       " 'راء': 19334,\n",
       " 'ساعد': 22619,\n",
       " 'هام': 49835,\n",
       " 'لعب': 36800,\n",
       " 'ادوار': 1626,\n",
       " 'استمتع': 2936,\n",
       " 'ماج': 37978,\n",
       " 'صحوه': 28074,\n",
       " 'اظهر': 3826,\n",
       " 'مختلف': 40972,\n",
       " 'لقح': 36973,\n",
       " 'احزاب': 1145,\n",
       " 'ضرب': 28627,\n",
       " 'جانب': 14377,\n",
       " 'تحف': 10230,\n",
       " 'تتميز': 9880,\n",
       " 'ممتع': 45036,\n",
       " 'موامره': 46078,\n",
       " 'سريع': 24304,\n",
       " 'حركه': 16290,\n",
       " 'خريط': 17177,\n",
       " 'ساط': 22591,\n",
       " 'خاصه': 16936,\n",
       " 'ميزانيه': 46930,\n",
       " 'منخفضه': 45444,\n",
       " 'رنامج': 20549,\n",
       " 'النص': 5279,\n",
       " 'يوجد': 59444,\n",
       " 'ممتاز': 45022,\n",
       " 'يتم': 56238,\n",
       " 'قيام': 33472,\n",
       " 'سيء': 25430,\n",
       " 'والجب': 52887,\n",
       " 'اماك': 5378,\n",
       " 'صحيحه': 28077,\n",
       " 'قضاء': 33136,\n",
       " 'امس': 5540,\n",
       " 'يلم': 58607,\n",
       " 'مثل': 40211,\n",
       " 'العل': 5138,\n",
       " 'مفقوده': 44068,\n",
       " 'رحل': 20036,\n",
       " 'احل': 1202,\n",
       " 'عوده': 30168,\n",
       " 'تدور': 10499,\n",
       " 'ايجاد': 7339,\n",
       " 'حيا': 16842,\n",
       " 'افضل': 4310,\n",
       " 'يريد': 57183,\n",
       " 'رجل': 19997,\n",
       " 'ديفيد': 18920,\n",
       " 'دوتشوف': 18483,\n",
       " 'جرايم': 14654,\n",
       " 'شهيره': 27499,\n",
       " 'حدث': 16170,\n",
       " 'امر': 5503,\n",
       " 'فتا': 31691,\n",
       " 'مصور': 43052,\n",
       " 'ياخذ': 55507,\n",
       " 'صور': 28465,\n",
       " 'ضعو': 28663,\n",
       " 'درب': 17991,\n",
       " 'قتل': 32839,\n",
       " 'يعرف': 57912,\n",
       " 'ينتظر': 58954,\n",
       " 'مشار': 42565,\n",
       " 'نفق': 48712,\n",
       " 'رحله': 20038,\n",
       " 'قررو': 32967,\n",
       " 'عثور': 29484,\n",
       " 'اخر': 1349,\n",
       " 'وضع': 54532,\n",
       " 'اعل': 3992,\n",
       " 'يجيب': 56474,\n",
       " 'مجرد': 40351,\n",
       " 'اغرب': 4094,\n",
       " 'ازواج': 2495,\n",
       " 'مض': 43064,\n",
       " 'فتاه': 31696,\n",
       " 'مخلوق': 41122,\n",
       " 'ساذج': 22433,\n",
       " 'هدوء': 50137,\n",
       " 'يحلم': 56603,\n",
       " 'يحب': 56496,\n",
       " 'صبار': 28010,\n",
       " 'عكس': 29931,\n",
       " 'قاتل': 32663,\n",
       " 'قاس': 32710,\n",
       " 'نتعلم': 47807,\n",
       " 'مبكر': 39066,\n",
       " 'نتبع': 47746,\n",
       " 'طول': 29122,\n",
       " 'يافورن': 55552,\n",
       " 'معتاد': 43456,\n",
       " 'يرمز': 57114,\n",
       " 'خيانه': 17582,\n",
       " 'هزيم': 50285,\n",
       " 'تعط': 11994,\n",
       " 'عملاء': 30034,\n",
       " 'متوقع': 40126,\n",
       " 'عروض': 29644,\n",
       " 'مراع': 41465,\n",
       " 'تصوير': 11704,\n",
       " 'احد': 1100,\n",
       " 'نجم': 47915,\n",
       " 'فوتوغراف': 32412,\n",
       " 'مذهل': 41397,\n",
       " 'ظلام': 29190,\n",
       " 'يغط': 58020,\n",
       " 'اعظم': 3978,\n",
       " 'اجزاء': 888,\n",
       " 'موسيق': 46367,\n",
       " 'تناسب': 12900,\n",
       " 'طابع': 28756,\n",
       " 'مظلم': 43350,\n",
       " 'تفو': 12286,\n",
       " 'تفكر': 12271,\n",
       " 'تاخذ': 9189,\n",
       " 'غريب': 30609,\n",
       " 'سيار': 25445,\n",
       " 'غاز': 30311,\n",
       " 'متع': 39640,\n",
       " 'كليشيه': 34955,\n",
       " 'واسو': 52204,\n",
       " 'كوميد': 35414,\n",
       " 'رومانسيه': 21076,\n",
       " 'را': 19333,\n",
       " 'مشهد': 42799,\n",
       " 'والجه': 52895,\n",
       " 'فاعله': 31461,\n",
       " 'رصاصه': 20212,\n",
       " 'كور': 35297,\n",
       " 'ودا': 53950,\n",
       " 'مزعج': 41949,\n",
       " 'غب': 30431,\n",
       " 'سذاج': 24199,\n",
       " 'ينبغ': 58912,\n",
       " 'تستمع': 11115,\n",
       " 'وعود': 54591,\n",
       " 'خاطيه': 16956,\n",
       " 'دان': 17760,\n",
       " 'نف': 48641,\n",
       " 'امبيل': 5455,\n",
       " 'اسطوره': 3111,\n",
       " 'حضريه': 16475,\n",
       " 'الصف': 5102,\n",
       " 'مسترده': 42172,\n",
       " 'وحيده': 53926,\n",
       " 'محاوله': 40539,\n",
       " 'سييه': 26567,\n",
       " 'دها': 18396,\n",
       " 'فقر': 32148,\n",
       " 'ثلاثين': 13997,\n",
       " 'وفت': 54634,\n",
       " 'يحاول': 56495,\n",
       " 'نوم': 49236,\n",
       " 'تزال': 10947,\n",
       " 'كليه': 34971,\n",
       " 'استرال': 2737,\n",
       " 'يسم': 57500,\n",
       " 'ناعم': 47535,\n",
       " 'سلس': 24657,\n",
       " 'تجنب': 10078,\n",
       " 'يقع': 58271,\n",
       " 'مسقط': 42429,\n",
       " 'راس': 19508,\n",
       " 'حقيق': 16582,\n",
       " 'ريا': 21218,\n",
       " 'دن': 18332,\n",
       " 'ربش': 19923,\n",
       " 'فالس': 31517,\n",
       " 'فال': 31503,\n",
       " 'قاء': 32643,\n",
       " 'صديق': 28143,\n",
       " 'عام': 29347,\n",
       " 'ير': 56873,\n",
       " 'توسع': 13505,\n",
       " 'بيره': 9070,\n",
       " 'معد': 43508,\n",
       " 'شعر': 27152,\n",
       " 'مسم': 42472,\n",
       " 'يدع': 56786,\n",
       " 'غيره': 31125,\n",
       " 'محاول': 40538,\n",
       " 'يايس': 55624,\n",
       " 'معرف': 43545,\n",
       " 'حقيقه': 16583,\n",
       " 'يجر': 56424,\n",
       " 'يدفع': 56795,\n",
       " 'اصدقاء': 3579,\n",
       " 'لكسر': 37047,\n",
       " 'منزل': 45472,\n",
       " 'وانتاج': 53241,\n",
       " 'دليل': 18279,\n",
       " 'قضيه': 33153,\n",
       " 'نتايج': 47744,\n",
       " 'كارث': 33635,\n",
       " 'حد': 16157,\n",
       " 'معن': 43696,\n",
       " 'وجد': 53857,\n",
       " 'مضح': 43102,\n",
       " 'مروح': 41802,\n",
       " 'اجمال': 912,\n",
       " 'محافظ': 40511,\n",
       " 'اجر': 866,\n",
       " 'يجب': 56412,\n",
       " 'يقال': 58197,\n",
       " 'فكاهه': 32168,\n",
       " 'تضيع': 11760,\n",
       " 'محتمل': 40600,\n",
       " 'مسبق': 42084,\n",
       " 'مرور': 41806,\n",
       " 'مارجار': 38103,\n",
       " 'مجنو': 40423,\n",
       " 'وميد': 55080,\n",
       " 'يحتو': 56529,\n",
       " 'اهتمام': 6578,\n",
       " 'مزلج': 41966,\n",
       " 'متزلج': 39434,\n",
       " 'مظهر': 43359,\n",
       " 'حجاب': 16130,\n",
       " 'اسطور': 3110,\n",
       " 'تزلج': 10977,\n",
       " 'تون': 13638,\n",
       " 'هوك': 50708,\n",
       " 'ضابط': 28533,\n",
       " 'شرط': 27036,\n",
       " 'اباء': 60,\n",
       " 'معاناه': 43426,\n",
       " 'طويل': 29131,\n",
       " 'فيل': 32582,\n",
       " 'تشمل': 11466,\n",
       " 'يضم': 57779,\n",
       " 'طبول': 28876,\n",
       " 'فرقه': 31891,\n",
       " 'مفضله': 44055,\n",
       " 'شخص': 26949,\n",
       " 'اسم': 3229,\n",
       " 'ثايق': 13912,\n",
       " 'ملخص': 44860,\n",
       " 'قلت': 33251,\n",
       " 'سيكو': 26164,\n",
       " 'اهم': 6610,\n",
       " 'اساس': 2553,\n",
       " 'اجهزه': 950,\n",
       " 'عجايب': 29490,\n",
       " 'لكن': 37061,\n",
       " 'اشعر': 3450,\n",
       " 'وشر': 54469,\n",
       " 'بذل': 8143,\n",
       " 'جهد': 15195,\n",
       " 'واحد': 51632,\n",
       " 'تتعثر': 9775,\n",
       " 'مفاج': 43901,\n",
       " 'نطاق': 48479,\n",
       " 'مفاجء': 43902,\n",
       " 'ستقيم': 23788,\n",
       " 'مثاب': 40141,\n",
       " 'حوض': 16831,\n",
       " 'استحمام': 2689,\n",
       " 'ساخ': 22378,\n",
       " 'جيس': 15690,\n",
       " 'البا': 4860,\n",
       " 'جود': 15307,\n",
       " 'فرق': 31890,\n",
       " 'تتكو': 9850,\n",
       " 'تلعب': 12666,\n",
       " 'ليل': 37819,\n",
       " 'سبب': 23029,\n",
       " 'سيفاجء': 26061,\n",
       " 'ضييله': 28752,\n",
       " 'لد': 36373,\n",
       " 'استرل': 2763,\n",
       " 'واسط': 52169,\n",
       " 'زملاء': 22019,\n",
       " 'اراد': 1760,\n",
       " 'تجرب': 10024,\n",
       " 'انتج': 5827,\n",
       " 'بقع': 8601,\n",
       " 'يبد': 55655,\n",
       " 'سهول': 25099,\n",
       " 'ميزان': 46929,\n",
       " 'تعد': 11933,\n",
       " 'سيط': 25993,\n",
       " 'طاقم': 28804,\n",
       " 'مرتزقه': 41566,\n",
       " 'يحمل': 56610,\n",
       " 'سج': 24074,\n",
       " 'خطير': 17344,\n",
       " 'فضاء': 32039,\n",
       " 'يتعرض': 56124,\n",
       " 'هجوم': 50105,\n",
       " 'تضطر': 11740,\n",
       " 'تحطم': 10221,\n",
       " 'ارض': 2099,\n",
       " 'كوكب': 35361,\n",
       " 'مقيف': 44402,\n",
       " 'قريب': 33005,\n",
       " 'شيك': 27796,\n",
       " 'موجود': 46178,\n",
       " 'وفق': 54647,\n",
       " 'مخطط': 41064,\n",
       " 'نجوم': 47924,\n",
       " 'وحد': 53904,\n",
       " 'شيء': 27653,\n",
       " 'ود': 53949,\n",
       " 'اختيار': 1332,\n",
       " 'تلو': 12714,\n",
       " 'عناصر': 30076,\n",
       " 'خلط': 17410,\n",
       " 'خيال': 17575,\n",
       " 'علم': 29968,\n",
       " 'قياسيه': 33471,\n",
       " 'اجانب': 831,\n",
       " 'مفترس': 43965,\n",
       " 'ملعب': 44892,\n",
       " 'اسود': 3288,\n",
       " 'يجعل': 56443,\n",
       " 'يشعر': 57623,\n",
       " 'طازجه': 28783,\n",
       " 'اصل': 3621,\n",
       " 'يطلق': 57823,\n",
       " 'موقع': 46447,\n",
       " 'استفاد': 2857,\n",
       " 'شاطء': 26676,\n",
       " 'ابرد': 194,\n",
       " 'الحد': 4969,\n",
       " 'اقص': 4516,\n",
       " 'تشعر': 11431,\n",
       " 'عالم': 29338,\n",
       " 'غريبه': 30611,\n",
       " 'تنت': 12947,\n",
       " 'كثب': 33994,\n",
       " 'رمليه': 20514,\n",
       " 'تاثير': 9172,\n",
       " 'اضاءه': 3656,\n",
       " 'ذكيه': 19274,\n",
       " 'شعور': 27167,\n",
       " 'قاتم': 32666,\n",
       " 'يقطع': 58264,\n",
       " 'سبل': 23071,\n",
       " 'اجنب': 924,\n",
       " 'تسلسل': 11197,\n",
       " 'اعتداء': 3871,\n",
       " 'افتتاح': 4209,\n",
       " 'سف': 24389,\n",
       " 'شحن': 26934,\n",
       " 'عظيم': 29847,\n",
       " 'تحقيق': 10242,\n",
       " 'موثر': 46150,\n",
       " 'اطفاء': 3767,\n",
       " 'اعاد': 3834,\n",
       " 'تصرخ': 11648,\n",
       " 'فريق': 31939,\n",
       " 'يلق': 58594,\n",
       " 'مستقل': 42260,\n",
       " 'منخفض': 45443,\n",
       " 'الصب': 5099,\n",
       " 'منافذ': 45277,\n",
       " 'اعلام': 3996,\n",
       " 'محليه': 40790,\n",
       " 'اختار': 1275,\n",
       " 'ممكنه': 45140,\n",
       " 'مستقبل': 42250,\n",
       " 'منشء': 45507,\n",
       " 'جسم': 14865,\n",
       " 'محل': 40777,\n",
       " 'ما': 37900,\n",
       " 'ميتشل': 46756,\n",
       " 'فتح': 31698,\n",
       " 'ممثل': 45069,\n",
       " 'طبيع': 28879,\n",
       " 'زعيم': 21964,\n",
       " 'ارن': 2228,\n",
       " 'نيس': 49371,\n",
       " 'بق': 8579,\n",
       " 'مصبوب': 42928,\n",
       " 'متفوقه': 39831,\n",
       " 'اتر': 484,\n",
       " 'كثا': 33987,\n",
       " 'قياده': 33466,\n",
       " 'اعتبار': 3867,\n",
       " 'مهندس': 45956,\n",
       " 'خام': 16988,\n",
       " 'جاهز': 14412,\n",
       " 'ينس': 59085,\n",
       " 'خطوط': 17337,\n",
       " 'كلق': 34913,\n",
       " 'سكو': 24541,\n",
       " 'قليل': 33283,\n",
       " 'اداء': 1477,\n",
       " 'يعط': 57934,\n",
       " 'مدور': 41342,\n",
       " 'كبرد': 33888,\n",
       " 'ثلج': 14004,\n",
       " 'مخرج': 41008,\n",
       " 'مار': 38067,\n",
       " 'ستيرت': 23993,\n",
       " 'خور': 17546,\n",
       " 'حقق': 16560,\n",
       " 'يظهر': 57855,\n",
       " 'سين': 26314,\n",
       " 'اسكتلنديه': 3167,\n",
       " 'تحتاج': 10133,\n",
       " 'كيلد': 35570,\n",
       " 'افلام': 4345,\n",
       " 'احياء': 1231,\n",
       " 'فقيره': 32160,\n",
       " 'عقاقير': 29886,\n",
       " 'طازج': 28782,\n",
       " 'مبتكر': 38961,\n",
       " 'لعنه': 36846,\n",
       " 'اسكتلند': 3166,\n",
       " 'نكه': 48861,\n",
       " 'شرقيه': 27051,\n",
       " 'اساسيه': 2555,\n",
       " 'ثناء': 14038,\n",
       " 'للجه': 37113,\n",
       " 'مدير': 41353,\n",
       " 'حفاظ': 16521,\n",
       " 'لهج': 37441,\n",
       " 'سليمه': 24750,\n",
       " 'تضيف': 11761,\n",
       " 'سحر': 24127,\n",
       " 'قطعه': 33175,\n",
       " 'قيود': 33512,\n",
       " 'تظهر': 11847,\n",
       " 'الخ': 4985,\n",
       " 'وحيد': 53925,\n",
       " 'يمك': 58814,\n",
       " 'يستحق': 57335,\n",
       " 'نجاح': 47884,\n",
       " 'يحصل': 56575,\n",
       " 'حصول': 16457,\n",
       " 'علام': 29948,\n",
       " 'امن': 5601,\n",
       " 'كلاء': 34872,\n",
       " 'مهن': 45954,\n",
       " 'تصنيف': 11698,\n",
       " 'اخطار': 1397,\n",
       " 'جريء': 14742,\n",
       " 'جديد': 14565,\n",
       " 'انتصار': 5884,\n",
       " 'مراجع': 41425,\n",
       " 'واخبار': 51685,\n",
       " 'ورا': 54028,\n",
       " 'مثيل': 40254,\n",
       " 'ركل': 20437,\n",
       " 'حمار': 16678,\n",
       " 'اقول': 4576,\n",
       " 'لوضع': 37573,\n",
       " 'بساط': 8389,\n",
       " 'امتص': 5468,\n",
       " 'اسو': 3277,\n",
       " 'اتباع': 424,\n",
       " 'يحدث': 56538,\n",
       " 'سيم': 26264,\n",
       " 'رييس': 21760,\n",
       " 'ارد': 2000,\n",
       " 'يقتل': 58226,\n",
       " 'طفل': 28974,\n",
       " 'بوس': 8940,\n",
       " 'شك': 27278,\n",
       " 'ينتج': 58920,\n",
       " 'اعطاء': 3969,\n",
       " 'دقيق': 18220,\n",
       " 'ملحم': 44841,\n",
       " 'حرب': 16254,\n",
       " 'عالميه': 29342,\n",
       " 'ولند': 54911,\n",
       " 'صادق': 27930,\n",
       " 'نصف': 48424,\n",
       " 'وثايقيه': 53818,\n",
       " 'تقدم': 12354,\n",
       " 'وجه': 53880,\n",
       " 'نظر': 48520,\n",
       " 'نزاع': 48180,\n",
       " 'بشر': 8432,\n",
       " 'تغاض': 12082,\n",
       " 'تكتيك': 12510,\n",
       " 'معارك': 43393,\n",
       " 'واهم': 53443,\n",
       " 'مفصل': 44047,\n",
       " 'خاص': 16935,\n",
       " 'نقاط': 48746,\n",
       " 'عاليه': 29346,\n",
       " 'تحول': 10269,\n",
       " 'ثرو': 13936,\n",
       " 'حلفاء': 16636,\n",
       " 'ثناب': 14039,\n",
       " 'ريطان': 21537,\n",
       " 'تركيز': 10787,\n",
       " 'روس': 20902,\n",
       " 'وامير': 53220,\n",
       " 'تخطء': 10357,\n",
       " 'ميزه': 46936,\n",
       " 'سلسل': 24658,\n",
       " 'ذكر': 19264,\n",
       " 'نتيجه': 47864,\n",
       " 'كامل': 33807,\n",
       " 'وثم': 53830,\n",
       " 'اضطراب': 3686,\n",
       " 'نضال': 48454,\n",
       " 'مثابر': 40142,\n",
       " 'تتر': 9664,\n",
       " 'سلسله': 24660,\n",
       " 'مشاهد': 42596,\n",
       " 'ادن': 1612,\n",
       " 'مشقه': 42743,\n",
       " 'يواج': 59405,\n",
       " 'الم': 5239,\n",
       " 'ناء': 47329,\n",
       " 'ذرو': 19240,\n",
       " 'حلق': 16637,\n",
       " 'تعمل': 12040,\n",
       " 'طبق': 28866,\n",
       " 'خشنه': 17241,\n",
       " 'الكل': 5218,\n",
       " 'واسع': 52174,\n",
       " 'ذهب': 19290,\n",
       " 'مقدار': 44239,\n",
       " 'اعضاء': 3966,\n",
       " 'جيل': 15737,\n",
       " 'اعتقد': 3893,\n",
       " 'سياق': 25456,\n",
       " 'تغط': 12114,\n",
       " 'ملصق': 44876,\n",
       " 'اود': 6744,\n",
       " 'اكتب': 4620,\n",
       " 'لاول': 35968,\n",
       " 'نظم': 48529,\n",
       " 'مدر': 41236,\n",
       " 'لرء': 36448,\n",
       " 'مشروع': 42705,\n",
       " 'جميع': 15074,\n",
       " 'طبع': 28863,\n",
       " 'متحمس': 39303,\n",
       " 'مدرس': 41245,\n",
       " 'نكن': 48860,\n",
       " 'نعرف': 48578,\n",
       " 'وشك': 54478,\n",
       " 'خبره': 17024,\n",
       " 'يوم': 59578,\n",
       " 'زلت': 21992,\n",
       " 'اتذكر': 482,\n",
       " 'مشاعر': 42581,\n",
       " 'استدع': 2716,\n",
       " 'تذكر': 10520,\n",
       " 'بكاء': 8618,\n",
       " 'افكر': 4334,\n",
       " 'عمر': 30015,\n",
       " 'مثير': 40248,\n",
       " 'صدمه': 28133,\n",
       " 'غاضب': 30329,\n",
       " 'بحق': 8065,\n",
       " 'شاب': 26578,\n",
       " 'انضمم': 6283,\n",
       " 'حرك': 16288,\n",
       " 'مكافح': 44433,\n",
       " 'فصل': 32025,\n",
       " 'عنصر': 30108,\n",
       " 'خدم': 17085,\n",
       " 'غرض': 30561,\n",
       " 'حال': 16012,\n",
       " 'مخيب': 41156,\n",
       " 'امال': 5379,\n",
       " 'تكمله': 12565,\n",
       " 'متوقب': 40122,\n",
       " 'كلاس': 34881,\n",
       " 'يتعلق': 56133,\n",
       " 'مزح': 41897,\n",
       " 'عريضه': 29657,\n",
       " 'حوار': 16793,\n",
       " 'مميز': 45195,\n",
       " 'ممتثل': 45026,\n",
       " 'نقع': 48791,\n",
       " 'فرع': 31886,\n",
       " 'سخيف': 24180,\n",
       " 'سخريه': 24170,\n",
       " 'مقنع': 44381,\n",
       " 'ناه': 47630,\n",
       " 'اساليب': 2576,\n",
       " 'تعامل': 11877,\n",
       " 'ثلث': 14001,\n",
       " 'يسار': 57290,\n",
       " 'اذكر': 1713,\n",
       " 'عرجاء': 29607,\n",
       " 'مفترض': 43967,\n",
       " 'رعب': 20282,\n",
       " 'غباء': 30433,\n",
       " 'سخ': 24148,\n",
       " 'طلب': 29018,\n",
       " 'لذوب': 36439,\n",
       " 'اريس': 2343,\n",
       " 'انواع': 6495,\n",
       " 'والصف': 53000,\n",
       " 'معيار': 43725,\n",
       " 'نموذج': 48940,\n",
       " 'لعمل': 36841,\n",
       " 'هوليوود': 50801,\n",
       " 'موسم': 46355,\n",
       " 'اوسكار': 6936,\n",
       " 'مسيل': 42538,\n",
       " 'دموع': 18322,\n",
       " 'تلب': 12616,\n",
       " 'مع': 43368,\n",
       " 'صاب': 27905,\n",
       " 'اتلق': 648,\n",
       " 'ارتباك': 1860,\n",
       " 'نلتق': 48876,\n",
       " 'عامل': 29355,\n",
       " 'صال': 27968,\n",
       " 'تدليك': 10484,\n",
       " 'يجذب': 56422,\n",
       " 'صالو': 27973,\n",
       " 'شاعر': 26681,\n",
       " 'عذراء': 29575,\n",
       " 'هار': 49632,\n",
       " 'يات': 55497,\n",
       " 'الحب': 4966,\n",
       " 'عديد': 29559,\n",
       " 'منعطف': 45631,\n",
       " 'الق': 5180,\n",
       " 'تقود': 12450,\n",
       " 'مكا': 44406,\n",
       " 'علقو': 29964,\n",
       " 'مثيره': 40249,\n",
       " 'جدل': 14550,\n",
       " 'عاهر': 29373,\n",
       " 'اسيو': 3337,\n",
       " 'استغلال': 2852,\n",
       " 'ابيض': 373,\n",
       " 'ضع': 28652,\n",
       " 'صنع': 28417,\n",
       " 'احضار': 1177,\n",
       " 'ضوء': 28716,\n",
       " 'ينجح': 58993,\n",
       " 'يهم': 59372,\n",
       " 'متناول': 40010,\n",
       " 'اليد': 5341,\n",
       " 'فشل': 32004,\n",
       " 'اتوقع': 706,\n",
       " 'صعب': 28218,\n",
       " 'اشار': 3345,\n",
       " 'عاطف': 29310,\n",
       " 'فضفاضه': 32051,\n",
       " 'متوسط': 40105,\n",
       " 'متمثله': 39946,\n",
       " 'والاس': 52836,\n",
       " 'يصنع': 57725,\n",
       " 'درا': 17944,\n",
       " 'يسقط': 57480,\n",
       " 'نغمه': 48631,\n",
       " 'تفشل': 12248,\n",
       " 'صخل': 28093,\n",
       " 'ضجر': 28583,\n",
       " 'انحاء': 6041,\n",
       " 'استطع': 2808,\n",
       " 'اجابه': 818,\n",
       " 'سوال': 25123,\n",
       " 'دفع': 18173,\n",
       " 'فارغ': 31314,\n",
       " 'لاسر': 35768,\n",
       " 'جمهور': 15064,\n",
       " 'معدل': 43513,\n",
       " 'درام': 17969,\n",
       " 'صلاح': 28317,\n",
       " 'صداقه': 28109,\n",
       " 'عنو': 30128,\n",
       " 'تتم': 9865,\n",
       " 'مقارن': 44145,\n",
       " 'جنس': 15133,\n",
       " 'والمد': 53103,\n",
       " 'اقارب': 4412,\n",
       " 'تبد': 9500,\n",
       " 'مريم': 41851,\n",
       " 'ميغ': 46997,\n",
       " 'نساء': 48234,\n",
       " 'يحسد': 56567,\n",
       " 'متزوج': 39436,\n",
       " 'سعاد': 24357,\n",
       " 'ابن': 291,\n",
       " 'واصدقاء': 52320,\n",
       " 'حياه': 16856,\n",
       " 'مثاليه': 40149,\n",
       " 'تكتشف': 12502,\n",
       " 'يخو': 56726,\n",
       " 'لوريس': 37553,\n",
       " 'حواء': 16787,\n",
       " 'زاك': 21805,\n",
       " 'حير': 16866,\n",
       " 'تفعل': 12263,\n",
       " 'اربعه': 1835,\n",
       " 'سيلف': 26212,\n",
       " 'ان': 5713,\n",
       " 'روب': 20674,\n",
       " 'ايد': 7352,\n",
       " 'ديبر': 18784,\n",
       " 'عبث': 29414,\n",
       " 'يكس': 58370,\n",
       " 'جاد': 14158,\n",
       " 'بيك': 9102,\n",
       " 'سميث': 24849,\n",
       " 'حاول': 16041,\n",
       " 'اريد': 2331,\n",
       " 'اعط': 3967,\n",
       " 'نرا': 48116,\n",
       " 'شاشه': 26673,\n",
       " 'يتخبط': 55866,\n",
       " 'وبق': 53682,\n",
       " 'مقصوفه': 44313,\n",
       " 'مينديز': 47245,\n",
       " 'ريستال': 21460,\n",
       " 'منار': 45226,\n",
       " 'ارضاء': 2100,\n",
       " 'احب': 998,\n",
       " 'مربع': 41520,\n",
       " 'صغير': 28245,\n",
       " 'تذهب': 10531,\n",
       " 'شظ': 27130,\n",
       " 'تطوير': 11825,\n",
       " 'احرف': 1135,\n",
       " 'يكف': 58396,\n",
       " 'لسوء': 36606,\n",
       " 'الحظ': 4976,\n",
       " 'توفر': 13558,\n",
       " 'فريسه': 31937,\n",
       " 'اكو': 4781,\n",
       " 'شطر': 27117,\n",
       " 'ستضطر': 23667,\n",
       " 'تر': 10541,\n",
       " 'نحصل': 47967,\n",
       " 'يقفو': 58279,\n",
       " 'تبحث': 9493,\n",
       " 'حرج': 16260,\n",
       " 'مهجوره': 45866,\n",
       " 'سيناريو': 26337,\n",
       " 'خارج': 16911,\n",
       " 'دعوه': 18135,\n",
       " 'اسماء': 3232,\n",
       " 'غابه': 30250,\n",
       " 'يقول': 58298,\n",
       " 'اشخاص': 3409,\n",
       " 'موضوع': 46398,\n",
       " 'يفسر': 58116,\n",
       " 'حرف': 16275,\n",
       " 'اور': 6762,\n",
       " 'محص': 40708,\n",
       " 'وضوح': 54538,\n",
       " 'معسكر': 43569,\n",
       " 'نيرا': 49353,\n",
       " 'قديم': 32900,\n",
       " 'تمل': 12850,\n",
       " 'مصوره': 43053,\n",
       " 'انتظار': 5891,\n",
       " 'اوق': 7006,\n",
       " 'واقع': 52733,\n",
       " 'مريره': 41839,\n",
       " 'ميكروف': 47050,\n",
       " 'بوم': 9008,\n",
       " 'عيد': 30207,\n",
       " 'نسمع': 48317,\n",
       " 'اكمل': 4769,\n",
       " 'تمرير': 12803,\n",
       " 'الجه': 4956,\n",
       " 'عمد': 30012,\n",
       " 'بجد': 8032,\n",
       " 'مزيد': 41991,\n",
       " 'صام': 27978,\n",
       " 'مخرجاء': 41009,\n",
       " 'جلسو': 14965,\n",
       " 'رانش': 19733,\n",
       " 'وكامونج': 54727,\n",
       " 'جنو': 15153,\n",
       " 'قذار': 32908,\n",
       " 'ثمانين': 14020,\n",
       " 'نظرو': 48524,\n",
       " 'قال': 32738,\n",
       " 'مهل': 45933,\n",
       " 'فكر': 32172,\n",
       " 'حلو': 16652,\n",
       " 'لفج': 36905,\n",
       " 'مقطع': 44325,\n",
       " 'دعن': 18126,\n",
       " 'ميز': 46927,\n",
       " 'حسن': 16380,\n",
       " 'علو': 29978,\n",
       " 'لتكو': 36151,\n",
       " 'عادل': 29254,\n",
       " 'نوع': 49195,\n",
       " 'كاتب': 33553,\n",
       " 'متن': 39967,\n",
       " 'طايره': 28834,\n",
       " 'يتراجع': 55923,\n",
       " 'تسم': 11213,\n",
       " 'صحف': 28065,\n",
       " 'يوميه': 59586,\n",
       " 'مقتنع': 44234,\n",
       " 'تحرير': 10191,\n",
       " 'توقف': 13569,\n",
       " 'موشر': 46378,\n",
       " 'مناسب': 45236,\n",
       " 'ممل': 45141,\n",
       " 'صفر': 28261,\n",
       " 'طرف': 28923,\n",
       " 'يحظ': 56582,\n",
       " 'صانع': 27992,\n",
       " 'برنامج': 8292,\n",
       " 'يملا': 58820,\n",
       " 'تشغيل': 11435,\n",
       " 'شامل': 26742,\n",
       " 'نبات': 47685,\n",
       " 'حيوان': 16888,\n",
       " 'تعيش': 12072,\n",
       " 'مراهق': 41497,\n",
       " 'بريه': 8376,\n",
       " 'مجن': 40412,\n",
       " 'شرايح': 27012,\n",
       " 'مكعب': 44618,\n",
       " 'مباشر': 38911,\n",
       " 'نهار': 49028,\n",
       " 'ازياء': 2510,\n",
       " 'محجوزه': 40619,\n",
       " 'غلاف': 30789,\n",
       " 'الجو': 4957,\n",
       " 'علوم': 29981,\n",
       " 'متاكد': 39150,\n",
       " 'لقط': 36998,\n",
       " 'اسهم': 3275,\n",
       " 'عداد': 29522,\n",
       " 'مفقود': 44067,\n",
       " 'سرد': 24240,\n",
       " 'خانق': 16999,\n",
       " 'درم': 18024,\n",
       " 'جغراف': 14911,\n",
       " 'وطن': 54553,\n",
       " 'تجول': 10097,\n",
       " 'لطف': 36763,\n",
       " 'طابق': 28759,\n",
       " 'غرف': 30571,\n",
       " 'قطع': 33170,\n",
       " 'يناقش': 58888,\n",
       " 'شطاير': 27113,\n",
       " 'جبن': 14472,\n",
       " 'خيار': 17568,\n",
       " 'كريم': 34433,\n",
       " 'يختف': 56656,\n",
       " 'داعم': 17697,\n",
       " 'انج': 5978,\n",
       " 'بنيه': 8846,\n",
       " 'التزام': 4902,\n",
       " 'سلطه': 24670,\n",
       " 'سليليه': 24748,\n",
       " 'لتبد': 36079,\n",
       " 'ادراج': 1528,\n",
       " 'خفض': 17364,\n",
       " 'ذهاب': 19287,\n",
       " 'رجال': 19989,\n",
       " 'ايجاز': 7344,\n",
       " 'قروض': 33002,\n",
       " 'ضحا': 28589,\n",
       " 'مسلخ': 42456,\n",
       " 'مسلم': 42463,\n",
       " 'يلتقط': 58521,\n",
       " 'بخار': 8077,\n",
       " 'نسب': 48249,\n",
       " 'مذبحه': 41369,\n",
       " 'مكثف': 44547,\n",
       " 'تمزيق': 12816,\n",
       " 'سلاسل': 24618,\n",
       " 'قرع': 32982,\n",
       " 'سيل': 26179,\n",
       " 'تخفيض': 10371,\n",
       " 'انبوب': 5804,\n",
       " 'بار': 7800,\n",
       " 'رينجر': 21688,\n",
       " 'اخير': 1465,\n",
       " 'تصدق': 11637,\n",
       " 'لحظ': 36298,\n",
       " 'لطيف': 36782,\n",
       " 'رقبه': 20385,\n",
       " 'رايحه': 19839,\n",
       " 'نصق': 48426,\n",
       " 'مذكور': 41387,\n",
       " 'مكياج': 44721,\n",
       " 'مستخدمه': 42144,\n",
       " 'اريل': 2381,\n",
       " 'سترويس': 23558,\n",
       " 'اوس': 6907,\n",
       " 'عايل': 29384,\n",
       " 'عال': 29333,\n",
       " 'هج': 50070,\n",
       " 'شباب': 26825,\n",
       " 'جيسو': 15703,\n",
       " 'ورهيس': 54228,\n",
       " 'فريد': 31925,\n",
       " 'روجر': 20787,\n",
       " 'تحب': 10126,\n",
       " 'نها': 49024,\n",
       " 'حقل': 16564,\n",
       " 'اكبر': 4611,\n",
       " 'مستقيم': 42266,\n",
       " 'ايسر': 7464,\n",
       " 'تحقق': 10239,\n",
       " 'كيف': 35560,\n",
       " 'تفاف': 12179,\n",
       " 'جرو': 14714,\n",
       " 'بصق': 8456,\n",
       " 'اعد': 3919,\n",
       " 'موجوده': 46179,\n",
       " 'مستو': 42316,\n",
       " 'كفاءه': 34737,\n",
       " 'ارباع': 1821,\n",
       " 'تفسد': 12242,\n",
       " 'باق': 7918,\n",
       " 'علاق': 29944,\n",
       " 'شهر': 27480,\n",
       " 'نر': 48115,\n",
       " 'منهكه': 45777,\n",
       " 'نفعل': 48709,\n",
       " 'انفس': 6377,\n",
       " 'جو': 15213,\n",
       " 'استيفيز': 3037,\n",
       " 'يقض': 58258,\n",
       " 'مخب': 40911,\n",
       " 'ناجح': 47389,\n",
       " 'ظهور': 29217,\n",
       " 'يتجول': 55829,\n",
       " 'يرتد': 56928,\n",
       " 'ملابس': 44748,\n",
       " 'سوداء': 25200,\n",
       " 'مزاج': 41859,\n",
       " 'اوامر': 6649,\n",
       " 'انتفاخ': 5901,\n",
       " ...}"
      ]
     },
     "execution_count": 38,
     "metadata": {},
     "output_type": "execute_result"
    }
   ],
   "source": [
    "vocab = Tfidf.vocabulary_\n",
    "vocab"
   ]
  },
  {
   "cell_type": "markdown",
   "metadata": {},
   "source": [
    "# Models"
   ]
  },
  {
   "cell_type": "code",
   "execution_count": 39,
   "metadata": {},
   "outputs": [],
   "source": [
    "def models_(model_name):\n",
    "    model = model_name\n",
    "    model.fit(X_train_Tfidf, y_train)\n",
    "    y_pred = model.predict(X_test_Tfidf)\n",
    "    return y_pred"
   ]
  },
  {
   "cell_type": "markdown",
   "metadata": {},
   "source": [
    "# Confusion Matrix"
   ]
  },
  {
   "cell_type": "code",
   "execution_count": 40,
   "metadata": {},
   "outputs": [],
   "source": [
    "def confusion_matrix_(Real, Prediction):\n",
    "        ConfusionMatrix = confusion_matrix(Real, Prediction)\n",
    "        return ConfusionMatrix"
   ]
  },
  {
   "cell_type": "markdown",
   "metadata": {},
   "source": [
    "# Generate True Positive, False Positive, True Negative, False Negative"
   ]
  },
  {
   "cell_type": "code",
   "execution_count": 41,
   "metadata": {},
   "outputs": [],
   "source": [
    "def positive_negative(Confusin_Matrix):\n",
    "    False_Postive = Confusin_Matrix[0, 1]\n",
    "\n",
    "    True_Positive = Confusin_Matrix[0, 0]\n",
    "\n",
    "    False_Negative = Confusin_Matrix[1, 0]\n",
    "    \n",
    "    True_Negative = Confusin_Matrix[1, 1]\n",
    "\n",
    "    return False_Postive, True_Positive, False_Negative, True_Negative"
   ]
  },
  {
   "cell_type": "markdown",
   "metadata": {},
   "source": [
    "# Performance Merics"
   ]
  },
  {
   "cell_type": "code",
   "execution_count": 42,
   "metadata": {},
   "outputs": [],
   "source": [
    "def performance_metrics(False_Postive, True_Positive, False_Negative, True_Negative):\n",
    "     Accuracy = (True_Positive + True_Negative) / (True_Positive + True_Negative + False_Postive + False_Negative)\n",
    "     Precision = True_Positive / (True_Positive+ False_Postive)\n",
    "     Sensitivity = True_Positive / (True_Positive  + False_Negative)\n",
    "     Specificity = True_Negative / (True_Negative + False_Negative)\n",
    "     F1Score = (True_Positive) / ((True_Positive) + (0.5 *(False_Postive + False_Negative)))\n",
    "     Error = 1 - Accuracy\n",
    "     MetricsValues = pd.DataFrame(index=['Accuracy', 'Precision', 'Sensitivity', 'Specificity', 'F1Score', 'Error'], columns=['Values'], data=[Accuracy, Precision, Sensitivity, Specificity, F1Score, Error])\n",
    "     return MetricsValues\n"
   ]
  },
  {
   "cell_type": "markdown",
   "metadata": {},
   "source": [
    "# Machine Learning"
   ]
  },
  {
   "cell_type": "markdown",
   "metadata": {},
   "source": [
    "**1. Naive Bayes**"
   ]
  },
  {
   "cell_type": "code",
   "execution_count": 43,
   "metadata": {},
   "outputs": [],
   "source": [
    "model_name1 = MultinomialNB()\n",
    "y_pred1 = models_(model_name1)"
   ]
  },
  {
   "cell_type": "code",
   "execution_count": 44,
   "metadata": {},
   "outputs": [],
   "source": [
    "cm1 = confusion_matrix_(y_test, y_pred1)"
   ]
  },
  {
   "cell_type": "code",
   "execution_count": 45,
   "metadata": {},
   "outputs": [],
   "source": [
    "False_Postive, True_Positive, False_Negative, True_Negative = positive_negative(cm1)"
   ]
  },
  {
   "cell_type": "code",
   "execution_count": 46,
   "metadata": {},
   "outputs": [],
   "source": [
    "MetricsValues1 = performance_metrics(False_Postive, True_Positive, False_Negative, True_Negative)"
   ]
  },
  {
   "cell_type": "code",
   "execution_count": 47,
   "metadata": {},
   "outputs": [
    {
     "data": {
      "text/html": [
       "<div>\n",
       "<style scoped>\n",
       "    .dataframe tbody tr th:only-of-type {\n",
       "        vertical-align: middle;\n",
       "    }\n",
       "\n",
       "    .dataframe tbody tr th {\n",
       "        vertical-align: top;\n",
       "    }\n",
       "\n",
       "    .dataframe thead th {\n",
       "        text-align: right;\n",
       "    }\n",
       "</style>\n",
       "<table border=\"1\" class=\"dataframe\">\n",
       "  <thead>\n",
       "    <tr style=\"text-align: right;\">\n",
       "      <th></th>\n",
       "      <th>Values</th>\n",
       "    </tr>\n",
       "  </thead>\n",
       "  <tbody>\n",
       "    <tr>\n",
       "      <th>Accuracy</th>\n",
       "      <td>0.841533</td>\n",
       "    </tr>\n",
       "    <tr>\n",
       "      <th>Precision</th>\n",
       "      <td>0.834826</td>\n",
       "    </tr>\n",
       "    <tr>\n",
       "      <th>Sensitivity</th>\n",
       "      <td>0.849484</td>\n",
       "    </tr>\n",
       "    <tr>\n",
       "      <th>Specificity</th>\n",
       "      <td>0.848407</td>\n",
       "    </tr>\n",
       "    <tr>\n",
       "      <th>F1Score</th>\n",
       "      <td>0.842091</td>\n",
       "    </tr>\n",
       "    <tr>\n",
       "      <th>Error</th>\n",
       "      <td>0.158467</td>\n",
       "    </tr>\n",
       "  </tbody>\n",
       "</table>\n",
       "</div>"
      ],
      "text/plain": [
       "               Values\n",
       "Accuracy     0.841533\n",
       "Precision    0.834826\n",
       "Sensitivity  0.849484\n",
       "Specificity  0.848407\n",
       "F1Score      0.842091\n",
       "Error        0.158467"
      ]
     },
     "execution_count": 47,
     "metadata": {},
     "output_type": "execute_result"
    }
   ],
   "source": [
    "MetricsValues1"
   ]
  },
  {
   "cell_type": "markdown",
   "metadata": {},
   "source": [
    "**2. Logistic Regression**"
   ]
  },
  {
   "cell_type": "code",
   "execution_count": 48,
   "metadata": {},
   "outputs": [],
   "source": [
    "model_name2 = LogisticRegression()\n",
    "y_pred2 = models_(model_name2)"
   ]
  },
  {
   "cell_type": "code",
   "execution_count": 49,
   "metadata": {},
   "outputs": [],
   "source": [
    "cm2 = confusion_matrix_(y_test, y_pred2)"
   ]
  },
  {
   "cell_type": "code",
   "execution_count": 50,
   "metadata": {},
   "outputs": [
    {
     "data": {
      "text/html": [
       "<div>\n",
       "<style scoped>\n",
       "    .dataframe tbody tr th:only-of-type {\n",
       "        vertical-align: middle;\n",
       "    }\n",
       "\n",
       "    .dataframe tbody tr th {\n",
       "        vertical-align: top;\n",
       "    }\n",
       "\n",
       "    .dataframe thead th {\n",
       "        text-align: right;\n",
       "    }\n",
       "</style>\n",
       "<table border=\"1\" class=\"dataframe\">\n",
       "  <thead>\n",
       "    <tr style=\"text-align: right;\">\n",
       "      <th></th>\n",
       "      <th>Values</th>\n",
       "    </tr>\n",
       "  </thead>\n",
       "  <tbody>\n",
       "    <tr>\n",
       "      <th>Accuracy</th>\n",
       "      <td>0.869600</td>\n",
       "    </tr>\n",
       "    <tr>\n",
       "      <th>Precision</th>\n",
       "      <td>0.852081</td>\n",
       "    </tr>\n",
       "    <tr>\n",
       "      <th>Sensitivity</th>\n",
       "      <td>0.885922</td>\n",
       "    </tr>\n",
       "    <tr>\n",
       "      <th>Specificity</th>\n",
       "      <td>0.887554</td>\n",
       "    </tr>\n",
       "    <tr>\n",
       "      <th>F1Score</th>\n",
       "      <td>0.868672</td>\n",
       "    </tr>\n",
       "    <tr>\n",
       "      <th>Error</th>\n",
       "      <td>0.130400</td>\n",
       "    </tr>\n",
       "  </tbody>\n",
       "</table>\n",
       "</div>"
      ],
      "text/plain": [
       "               Values\n",
       "Accuracy     0.869600\n",
       "Precision    0.852081\n",
       "Sensitivity  0.885922\n",
       "Specificity  0.887554\n",
       "F1Score      0.868672\n",
       "Error        0.130400"
      ]
     },
     "execution_count": 50,
     "metadata": {},
     "output_type": "execute_result"
    }
   ],
   "source": [
    "False_Postive2, True_Positive2, False_Negative2, True_Negative2 = positive_negative(cm2)\n",
    "MetricsValues2 = performance_metrics(False_Postive2, True_Positive2, False_Negative2, True_Negative2)\n",
    "MetricsValues2"
   ]
  },
  {
   "cell_type": "markdown",
   "metadata": {},
   "source": [
    "**3. Decision Tree**"
   ]
  },
  {
   "cell_type": "code",
   "execution_count": 51,
   "metadata": {},
   "outputs": [],
   "source": [
    "model_name3 = DecisionTreeClassifier(criterion = 'entropy')\n",
    "y_pred3 = models_(model_name3)"
   ]
  },
  {
   "cell_type": "code",
   "execution_count": 52,
   "metadata": {},
   "outputs": [],
   "source": [
    "cm3 = confusion_matrix_(y_test, y_pred3)"
   ]
  },
  {
   "cell_type": "code",
   "execution_count": 53,
   "metadata": {},
   "outputs": [
    {
     "data": {
      "text/html": [
       "<div>\n",
       "<style scoped>\n",
       "    .dataframe tbody tr th:only-of-type {\n",
       "        vertical-align: middle;\n",
       "    }\n",
       "\n",
       "    .dataframe tbody tr th {\n",
       "        vertical-align: top;\n",
       "    }\n",
       "\n",
       "    .dataframe thead th {\n",
       "        text-align: right;\n",
       "    }\n",
       "</style>\n",
       "<table border=\"1\" class=\"dataframe\">\n",
       "  <thead>\n",
       "    <tr style=\"text-align: right;\">\n",
       "      <th></th>\n",
       "      <th>Values</th>\n",
       "    </tr>\n",
       "  </thead>\n",
       "  <tbody>\n",
       "    <tr>\n",
       "      <th>Accuracy</th>\n",
       "      <td>0.713333</td>\n",
       "    </tr>\n",
       "    <tr>\n",
       "      <th>Precision</th>\n",
       "      <td>0.714041</td>\n",
       "    </tr>\n",
       "    <tr>\n",
       "      <th>Sensitivity</th>\n",
       "      <td>0.718013</td>\n",
       "    </tr>\n",
       "    <tr>\n",
       "      <th>Specificity</th>\n",
       "      <td>0.712608</td>\n",
       "    </tr>\n",
       "    <tr>\n",
       "      <th>F1Score</th>\n",
       "      <td>0.716022</td>\n",
       "    </tr>\n",
       "    <tr>\n",
       "      <th>Error</th>\n",
       "      <td>0.286667</td>\n",
       "    </tr>\n",
       "  </tbody>\n",
       "</table>\n",
       "</div>"
      ],
      "text/plain": [
       "               Values\n",
       "Accuracy     0.713333\n",
       "Precision    0.714041\n",
       "Sensitivity  0.718013\n",
       "Specificity  0.712608\n",
       "F1Score      0.716022\n",
       "Error        0.286667"
      ]
     },
     "execution_count": 53,
     "metadata": {},
     "output_type": "execute_result"
    }
   ],
   "source": [
    "False_Postive3, True_Positive3, False_Negative3, True_Negative3 = positive_negative(cm3)\n",
    "MetricsValues3 = performance_metrics(False_Postive3, True_Positive3, False_Negative3, True_Negative3)\n",
    "MetricsValues3"
   ]
  },
  {
   "cell_type": "markdown",
   "metadata": {},
   "source": [
    "**4. K Nearest Neighbor**"
   ]
  },
  {
   "cell_type": "code",
   "execution_count": 54,
   "metadata": {},
   "outputs": [],
   "source": [
    "model_name4 = KNeighborsClassifier(metric='cosine', n_neighbors=5)\n",
    "y_pred4 = models_(model_name4)"
   ]
  },
  {
   "cell_type": "code",
   "execution_count": 55,
   "metadata": {},
   "outputs": [],
   "source": [
    "cm4 = confusion_matrix_(y_test, y_pred4)"
   ]
  },
  {
   "cell_type": "code",
   "execution_count": 56,
   "metadata": {},
   "outputs": [
    {
     "data": {
      "text/html": [
       "<div>\n",
       "<style scoped>\n",
       "    .dataframe tbody tr th:only-of-type {\n",
       "        vertical-align: middle;\n",
       "    }\n",
       "\n",
       "    .dataframe tbody tr th {\n",
       "        vertical-align: top;\n",
       "    }\n",
       "\n",
       "    .dataframe thead th {\n",
       "        text-align: right;\n",
       "    }\n",
       "</style>\n",
       "<table border=\"1\" class=\"dataframe\">\n",
       "  <thead>\n",
       "    <tr style=\"text-align: right;\">\n",
       "      <th></th>\n",
       "      <th>Values</th>\n",
       "    </tr>\n",
       "  </thead>\n",
       "  <tbody>\n",
       "    <tr>\n",
       "      <th>Accuracy</th>\n",
       "      <td>0.733733</td>\n",
       "    </tr>\n",
       "    <tr>\n",
       "      <th>Precision</th>\n",
       "      <td>0.659905</td>\n",
       "    </tr>\n",
       "    <tr>\n",
       "      <th>Sensitivity</th>\n",
       "      <td>0.780131</td>\n",
       "    </tr>\n",
       "    <tr>\n",
       "      <th>Specificity</th>\n",
       "      <td>0.809395</td>\n",
       "    </tr>\n",
       "    <tr>\n",
       "      <th>F1Score</th>\n",
       "      <td>0.714999</td>\n",
       "    </tr>\n",
       "    <tr>\n",
       "      <th>Error</th>\n",
       "      <td>0.266267</td>\n",
       "    </tr>\n",
       "  </tbody>\n",
       "</table>\n",
       "</div>"
      ],
      "text/plain": [
       "               Values\n",
       "Accuracy     0.733733\n",
       "Precision    0.659905\n",
       "Sensitivity  0.780131\n",
       "Specificity  0.809395\n",
       "F1Score      0.714999\n",
       "Error        0.266267"
      ]
     },
     "execution_count": 56,
     "metadata": {},
     "output_type": "execute_result"
    }
   ],
   "source": [
    "False_Postive4, True_Positive4, False_Negative4, True_Negative4 = positive_negative(cm4)\n",
    "MetricsValues4 = performance_metrics(False_Postive4, True_Positive4, False_Negative4, True_Negative4)\n",
    "MetricsValues4"
   ]
  },
  {
   "cell_type": "markdown",
   "metadata": {},
   "source": [
    "**5. Random Forest**"
   ]
  },
  {
   "cell_type": "code",
   "execution_count": 57,
   "metadata": {},
   "outputs": [],
   "source": [
    "model_name5 = RandomForestClassifier(criterion = 'entropy', n_estimators=100)\n",
    "y_pred5 = models_(model_name5)"
   ]
  },
  {
   "cell_type": "code",
   "execution_count": 58,
   "metadata": {},
   "outputs": [],
   "source": [
    "cm5 = confusion_matrix_(y_test, y_pred5)"
   ]
  },
  {
   "cell_type": "code",
   "execution_count": 59,
   "metadata": {},
   "outputs": [
    {
     "data": {
      "text/html": [
       "<div>\n",
       "<style scoped>\n",
       "    .dataframe tbody tr th:only-of-type {\n",
       "        vertical-align: middle;\n",
       "    }\n",
       "\n",
       "    .dataframe tbody tr th {\n",
       "        vertical-align: top;\n",
       "    }\n",
       "\n",
       "    .dataframe thead th {\n",
       "        text-align: right;\n",
       "    }\n",
       "</style>\n",
       "<table border=\"1\" class=\"dataframe\">\n",
       "  <thead>\n",
       "    <tr style=\"text-align: right;\">\n",
       "      <th></th>\n",
       "      <th>Values</th>\n",
       "    </tr>\n",
       "  </thead>\n",
       "  <tbody>\n",
       "    <tr>\n",
       "      <th>Accuracy</th>\n",
       "      <td>0.836867</td>\n",
       "    </tr>\n",
       "    <tr>\n",
       "      <th>Precision</th>\n",
       "      <td>0.836802</td>\n",
       "    </tr>\n",
       "    <tr>\n",
       "      <th>Sensitivity</th>\n",
       "      <td>0.840233</td>\n",
       "    </tr>\n",
       "    <tr>\n",
       "      <th>Specificity</th>\n",
       "      <td>0.836933</td>\n",
       "    </tr>\n",
       "    <tr>\n",
       "      <th>F1Score</th>\n",
       "      <td>0.838514</td>\n",
       "    </tr>\n",
       "    <tr>\n",
       "      <th>Error</th>\n",
       "      <td>0.163133</td>\n",
       "    </tr>\n",
       "  </tbody>\n",
       "</table>\n",
       "</div>"
      ],
      "text/plain": [
       "               Values\n",
       "Accuracy     0.836867\n",
       "Precision    0.836802\n",
       "Sensitivity  0.840233\n",
       "Specificity  0.836933\n",
       "F1Score      0.838514\n",
       "Error        0.163133"
      ]
     },
     "execution_count": 59,
     "metadata": {},
     "output_type": "execute_result"
    }
   ],
   "source": [
    "False_Postive5, True_Positive5, False_Negative5, True_Negative5 = positive_negative(cm5)\n",
    "MetricsValues5 = performance_metrics(False_Postive5, True_Positive5, False_Negative5, True_Negative5)\n",
    "MetricsValues5"
   ]
  },
  {
   "cell_type": "markdown",
   "metadata": {},
   "source": [
    "**6.SGD Classifier**"
   ]
  },
  {
   "cell_type": "code",
   "execution_count": 60,
   "metadata": {},
   "outputs": [],
   "source": [
    "model_name6 = SGDClassifier(loss='hinge')\n",
    "y_pred6 = models_(model_name6)"
   ]
  },
  {
   "cell_type": "code",
   "execution_count": 61,
   "metadata": {},
   "outputs": [],
   "source": [
    "cm6 = confusion_matrix_(y_test, y_pred6)"
   ]
  },
  {
   "cell_type": "code",
   "execution_count": 62,
   "metadata": {},
   "outputs": [
    {
     "data": {
      "text/html": [
       "<div>\n",
       "<style scoped>\n",
       "    .dataframe tbody tr th:only-of-type {\n",
       "        vertical-align: middle;\n",
       "    }\n",
       "\n",
       "    .dataframe tbody tr th {\n",
       "        vertical-align: top;\n",
       "    }\n",
       "\n",
       "    .dataframe thead th {\n",
       "        text-align: right;\n",
       "    }\n",
       "</style>\n",
       "<table border=\"1\" class=\"dataframe\">\n",
       "  <thead>\n",
       "    <tr style=\"text-align: right;\">\n",
       "      <th></th>\n",
       "      <th>Values</th>\n",
       "    </tr>\n",
       "  </thead>\n",
       "  <tbody>\n",
       "    <tr>\n",
       "      <th>Accuracy</th>\n",
       "      <td>0.867467</td>\n",
       "    </tr>\n",
       "    <tr>\n",
       "      <th>Precision</th>\n",
       "      <td>0.842334</td>\n",
       "    </tr>\n",
       "    <tr>\n",
       "      <th>Sensitivity</th>\n",
       "      <td>0.889925</td>\n",
       "    </tr>\n",
       "    <tr>\n",
       "      <th>Specificity</th>\n",
       "      <td>0.893224</td>\n",
       "    </tr>\n",
       "    <tr>\n",
       "      <th>F1Score</th>\n",
       "      <td>0.865476</td>\n",
       "    </tr>\n",
       "    <tr>\n",
       "      <th>Error</th>\n",
       "      <td>0.132533</td>\n",
       "    </tr>\n",
       "  </tbody>\n",
       "</table>\n",
       "</div>"
      ],
      "text/plain": [
       "               Values\n",
       "Accuracy     0.867467\n",
       "Precision    0.842334\n",
       "Sensitivity  0.889925\n",
       "Specificity  0.893224\n",
       "F1Score      0.865476\n",
       "Error        0.132533"
      ]
     },
     "execution_count": 62,
     "metadata": {},
     "output_type": "execute_result"
    }
   ],
   "source": [
    "False_Postive6, True_Positive6, False_Negative6, True_Negative6 = positive_negative(cm6)\n",
    "MetricsValues6 = performance_metrics(False_Postive6, True_Positive6, False_Negative6, True_Negative6)\n",
    "MetricsValues6"
   ]
  },
  {
   "cell_type": "markdown",
   "metadata": {},
   "source": [
    "# Deep Learning"
   ]
  },
  {
   "cell_type": "code",
   "execution_count": 63,
   "metadata": {},
   "outputs": [],
   "source": [
    "tokenizer = Tokenizer()\n",
    "tokenizer.fit_on_texts(X_train)\n",
    "embedding_dim = 16\n",
    "vocab_size = len(tokenizer.word_index) + 1"
   ]
  },
  {
   "cell_type": "code",
   "execution_count": 64,
   "metadata": {},
   "outputs": [
    {
     "data": {
      "text/plain": [
       "59680"
      ]
     },
     "execution_count": 64,
     "metadata": {},
     "output_type": "execute_result"
    }
   ],
   "source": [
    "vocab_size"
   ]
  },
  {
   "cell_type": "code",
   "execution_count": 65,
   "metadata": {},
   "outputs": [],
   "source": [
    "X_train_seqs = tokenizer.texts_to_sequences(X_train)\n",
    "X_test_seqs = tokenizer.texts_to_sequences(X_test)\n",
    "max_length = len(max(X_train_seqs, key=len))"
   ]
  },
  {
   "cell_type": "code",
   "execution_count": 66,
   "metadata": {},
   "outputs": [
    {
     "data": {
      "text/plain": [
       "1121"
      ]
     },
     "execution_count": 66,
     "metadata": {},
     "output_type": "execute_result"
    }
   ],
   "source": [
    "max_length"
   ]
  },
  {
   "cell_type": "code",
   "execution_count": 67,
   "metadata": {},
   "outputs": [],
   "source": [
    "encoded_X_train = sequence.pad_sequences(X_train_seqs, maxlen=max_length)\n",
    "encoded_X_test = sequence.pad_sequences(X_test_seqs, maxlen=max_length)"
   ]
  },
  {
   "cell_type": "code",
   "execution_count": 68,
   "metadata": {},
   "outputs": [],
   "source": [
    "Callback = tf.keras.callbacks.EarlyStopping(\n",
    "                    monitor=\"accuracy\",\n",
    "                    mode=\"max\",\n",
    "                    start_from_epoch=5\n",
    "                )"
   ]
  },
  {
   "cell_type": "markdown",
   "metadata": {},
   "source": [
    "**8-Convolutional Neural Network**"
   ]
  },
  {
   "cell_type": "code",
   "execution_count": 69,
   "metadata": {},
   "outputs": [],
   "source": [
    "model = tf.keras.Sequential([\n",
    "                Embedding(input_dim=vocab_size, output_dim=embedding_dim, input_length=max_length),\n",
    "                Conv1D(filters=32, kernel_size = 3, activation='relu'),\n",
    "                GlobalAveragePooling1D(),\n",
    "                Dropout(0.8),\n",
    "                Dense(1, activation= 'sigmoid')\n",
    "                ])"
   ]
  },
  {
   "cell_type": "code",
   "execution_count": 70,
   "metadata": {},
   "outputs": [],
   "source": [
    "model.compile(optimizer='adam',\n",
    "              loss='binary_crossentropy',\n",
    "              metrics=['accuracy'])\n"
   ]
  },
  {
   "cell_type": "code",
   "execution_count": 71,
   "metadata": {},
   "outputs": [
    {
     "name": "stdout",
     "output_type": "stream",
     "text": [
      "Epoch 1/15\n",
      "2188/2188 [==============================] - 123s 56ms/step - loss: 0.5632 - accuracy: 0.7279 - val_loss: 0.3966 - val_accuracy: 0.8572\n",
      "Epoch 2/15\n",
      "2188/2188 [==============================] - 88s 40ms/step - loss: 0.3462 - accuracy: 0.8641 - val_loss: 0.3377 - val_accuracy: 0.8685\n",
      "Epoch 3/15\n",
      "2188/2188 [==============================] - 61s 28ms/step - loss: 0.2879 - accuracy: 0.8892 - val_loss: 0.3239 - val_accuracy: 0.8710\n",
      "Epoch 4/15\n",
      "2188/2188 [==============================] - 36s 16ms/step - loss: 0.2506 - accuracy: 0.9053 - val_loss: 0.3163 - val_accuracy: 0.8723\n",
      "Epoch 5/15\n",
      "2188/2188 [==============================] - 36s 16ms/step - loss: 0.2199 - accuracy: 0.9207 - val_loss: 0.3199 - val_accuracy: 0.8714\n",
      "Epoch 6/15\n",
      "2188/2188 [==============================] - 35s 16ms/step - loss: 0.1972 - accuracy: 0.9282 - val_loss: 0.3259 - val_accuracy: 0.8691\n",
      "Epoch 7/15\n",
      "2188/2188 [==============================] - 35s 16ms/step - loss: 0.1756 - accuracy: 0.9385 - val_loss: 0.3377 - val_accuracy: 0.8669\n",
      "Epoch 8/15\n",
      "2188/2188 [==============================] - 34s 16ms/step - loss: 0.1554 - accuracy: 0.9470 - val_loss: 0.3546 - val_accuracy: 0.8637\n",
      "Epoch 9/15\n",
      "2188/2188 [==============================] - 34s 16ms/step - loss: 0.1377 - accuracy: 0.9535 - val_loss: 0.3774 - val_accuracy: 0.8597\n",
      "Epoch 10/15\n",
      "2188/2188 [==============================] - 34s 16ms/step - loss: 0.1246 - accuracy: 0.9585 - val_loss: 0.4020 - val_accuracy: 0.8568\n",
      "Epoch 11/15\n",
      "2188/2188 [==============================] - 34s 15ms/step - loss: 0.1118 - accuracy: 0.9642 - val_loss: 0.4249 - val_accuracy: 0.8560\n",
      "Epoch 12/15\n",
      "2188/2188 [==============================] - 34s 16ms/step - loss: 0.1005 - accuracy: 0.9684 - val_loss: 0.4514 - val_accuracy: 0.8525\n",
      "Epoch 13/15\n",
      "2188/2188 [==============================] - 36s 16ms/step - loss: 0.0926 - accuracy: 0.9713 - val_loss: 0.4849 - val_accuracy: 0.8497\n",
      "Epoch 14/15\n",
      "2188/2188 [==============================] - 37s 17ms/step - loss: 0.0815 - accuracy: 0.9747 - val_loss: 0.5176 - val_accuracy: 0.8492\n",
      "Epoch 15/15\n",
      "2188/2188 [==============================] - 38s 18ms/step - loss: 0.0751 - accuracy: 0.9763 - val_loss: 0.5487 - val_accuracy: 0.8466\n"
     ]
    }
   ],
   "source": [
    "history = model.fit(encoded_X_train, y_train,\n",
    "                    epochs=15,\n",
    "                    validation_data=(encoded_X_test, y_test),\n",
    "                    batch_size=16,\n",
    "                    callbacks=[Callback])"
   ]
  },
  {
   "cell_type": "code",
   "execution_count": 72,
   "metadata": {},
   "outputs": [
    {
     "data": {
      "image/png": "[encoded data removed]",
      "text/plain": [
       "<Figure size 640x480 with 1 Axes>"
      ]
     },
     "metadata": {},
     "output_type": "display_data"
    }
   ],
   "source": [
    "val_acc = history.history['val_accuracy']\n",
    "val_loss = history.history['val_loss']\n",
    "\n",
    "plt.plot(val_acc, label='Accuracy')\n",
    "plt.plot(val_loss, label='Loss')\n",
    "plt.legend()\n",
    "plt.show()"
   ]
  },
  {
   "cell_type": "code",
   "execution_count": 73,
   "metadata": {},
   "outputs": [
    {
     "data": {
      "image/png": "[encoded data removed]",
      "text/plain": [
       "<Figure size 640x480 with 1 Axes>"
      ]
     },
     "metadata": {},
     "output_type": "display_data"
    }
   ],
   "source": [
    "acc = history.history['accuracy']\n",
    "loss = history.history['loss']\n",
    "\n",
    "plt.plot(acc, label='Accuracy')\n",
    "plt.plot(loss, label='Loss')\n",
    "plt.legend()\n",
    "plt.show()"
   ]
  },
  {
   "cell_type": "code",
   "execution_count": 74,
   "metadata": {},
   "outputs": [
    {
     "name": "stdout",
     "output_type": "stream",
     "text": [
      "Training Accuracy: 0.9935\n",
      "Testing Accuracy:  0.8466\n"
     ]
    }
   ],
   "source": [
    "loss, accuracy = model.evaluate(encoded_X_train, y_train, verbose=False)\n",
    "print(\"Training Accuracy: {:.4f}\".format(accuracy))\n",
    "loss, accuracy = model.evaluate(encoded_X_test, y_test, verbose=False)\n",
    "print(\"Testing Accuracy:  {:.4f}\".format(accuracy))"
   ]
  },
  {
   "cell_type": "markdown",
   "metadata": {},
   "source": [
    "**9-Recurrent Neural Networks**"
   ]
  },
  {
   "cell_type": "code",
   "execution_count": 75,
   "metadata": {},
   "outputs": [],
   "source": [
    "model = tf.keras.Sequential([\n",
    "        Embedding(input_dim=vocab_size, output_dim=embedding_dim, input_length=max_length),\n",
    "        LSTM(32, return_sequences=False),  \n",
    "        Dropout(0.2),      \n",
    "        Dense(1, activation='sigmoid')])"
   ]
  },
  {
   "cell_type": "code",
   "execution_count": 76,
   "metadata": {},
   "outputs": [],
   "source": [
    "model.compile(optimizer='adam',\n",
    "              loss='binary_crossentropy',\n",
    "              metrics=['accuracy'])"
   ]
  },
  {
   "cell_type": "code",
   "execution_count": 77,
   "metadata": {},
   "outputs": [
    {
     "name": "stdout",
     "output_type": "stream",
     "text": [
      "Epoch 1/15\n",
      "2188/2188 [==============================] - 245s 111ms/step - loss: 0.3969 - accuracy: 0.8167 - val_loss: 0.3397 - val_accuracy: 0.8542\n",
      "Epoch 2/15\n",
      "2188/2188 [==============================] - 221s 101ms/step - loss: 0.2375 - accuracy: 0.9079 - val_loss: 0.3372 - val_accuracy: 0.8564\n",
      "Epoch 3/15\n",
      "2188/2188 [==============================] - 211s 97ms/step - loss: 0.1626 - accuracy: 0.9389 - val_loss: 0.3868 - val_accuracy: 0.8502\n",
      "Epoch 4/15\n",
      "2188/2188 [==============================] - 209s 96ms/step - loss: 0.1100 - accuracy: 0.9604 - val_loss: 0.4463 - val_accuracy: 0.8446\n",
      "Epoch 5/15\n",
      "2188/2188 [==============================] - 210s 96ms/step - loss: 0.0776 - accuracy: 0.9727 - val_loss: 0.5389 - val_accuracy: 0.8446\n",
      "Epoch 6/15\n",
      "2188/2188 [==============================] - 215s 98ms/step - loss: 0.0644 - accuracy: 0.9791 - val_loss: 0.5793 - val_accuracy: 0.8408\n",
      "Epoch 7/15\n",
      "2188/2188 [==============================] - 215s 98ms/step - loss: 0.0359 - accuracy: 0.9882 - val_loss: 0.6883 - val_accuracy: 0.8373\n",
      "Epoch 8/15\n",
      "2188/2188 [==============================] - 216s 99ms/step - loss: 0.0320 - accuracy: 0.9903 - val_loss: 0.7661 - val_accuracy: 0.8309\n",
      "Epoch 9/15\n",
      "2188/2188 [==============================] - 219s 100ms/step - loss: 0.0245 - accuracy: 0.9929 - val_loss: 0.6500 - val_accuracy: 0.8276\n",
      "Epoch 10/15\n",
      "2188/2188 [==============================] - 222s 101ms/step - loss: 0.0263 - accuracy: 0.9925 - val_loss: 0.7403 - val_accuracy: 0.8251\n"
     ]
    }
   ],
   "source": [
    "history = model.fit(encoded_X_train, y_train,\n",
    "                    epochs=15,\n",
    "                    validation_data=(encoded_X_test, y_test),\n",
    "                    batch_size=16,\n",
    "                    callbacks=[Callback])"
   ]
  },
  {
   "cell_type": "code",
   "execution_count": 78,
   "metadata": {},
   "outputs": [
    {
     "data": {
      "image/png": "[encoded data removed]",
      "text/plain": [
       "<Figure size 640x480 with 1 Axes>"
      ]
     },
     "metadata": {},
     "output_type": "display_data"
    }
   ],
   "source": [
    "val_acc = history.history['val_accuracy']\n",
    "val_loss = history.history['val_loss']\n",
    "\n",
    "plt.plot(val_acc, label='Accuracy')\n",
    "plt.plot(val_loss, label='Loss')\n",
    "plt.legend()\n",
    "plt.show()"
   ]
  },
  {
   "cell_type": "code",
   "execution_count": 79,
   "metadata": {},
   "outputs": [
    {
     "data": {
      "image/png": "[encoded data removed]",
      "text/plain": [
       "<Figure size 640x480 with 1 Axes>"
      ]
     },
     "metadata": {},
     "output_type": "display_data"
    }
   ],
   "source": [
    "acc = history.history['accuracy']\n",
    "loss = history.history['loss']\n",
    "\n",
    "plt.plot(acc, label='Accuracy')\n",
    "plt.plot(loss, label='Loss')\n",
    "plt.legend()\n",
    "plt.show()"
   ]
  },
  {
   "cell_type": "code",
   "execution_count": 80,
   "metadata": {},
   "outputs": [
    {
     "name": "stdout",
     "output_type": "stream",
     "text": [
      "Training Accuracy: 0.9951\n",
      "Testing Accuracy:  0.8251\n"
     ]
    }
   ],
   "source": [
    "loss, accuracy = model.evaluate(encoded_X_train, y_train, verbose=False)\n",
    "print(\"Training Accuracy: {:.4f}\".format(accuracy))\n",
    "loss, accuracy = model.evaluate(encoded_X_test, y_test, verbose=False)\n",
    "print(\"Testing Accuracy:  {:.4f}\".format(accuracy))"
   ]
  },
  {
   "cell_type": "code",
   "execution_count": null,
   "metadata": {},
   "outputs": [],
   "source": []
  }
 ],
 "metadata": {
  "kernelspec": {
   "display_name": "Python 3",
   "language": "python",
   "name": "python3"
  },
  "language_info": {
   "codemirror_mode": {
    "name": "ipython",
    "version": 3
   },
   "file_extension": ".py",
   "mimetype": "text/x-python",
   "name": "python",
   "nbconvert_exporter": "python",
   "pygments_lexer": "ipython3",
   "version": "3.11.4"
  },
  "orig_nbformat": 4
 },
 "nbformat": 4,
 "nbformat_minor": 2
}
