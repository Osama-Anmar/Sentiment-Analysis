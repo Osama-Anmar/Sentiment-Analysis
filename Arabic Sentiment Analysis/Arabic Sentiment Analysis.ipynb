{
 "cells": [
  {
   "cell_type": "markdown",
   "metadata": {},
   "source": [
    "# Import Libraries\n"
   ]
  },
  {
   "cell_type": "code",
   "execution_count": 1,
   "metadata": {},
   "outputs": [],
   "source": [
    "import pandas as pd\n",
    "import numpy as np\n",
    "import os\n",
    "import nltk\n",
    "import tensorflow as tf\n",
    "from keras.layers import *\n",
    "from tensorflow import *\n",
    "from keras.preprocessing.sequence import pad_sequences\n",
    "from keras.preprocessing.text import Tokenizer\n",
    "from keras.preprocessing import *\n",
    "from nltk.tokenize import word_tokenize, sent_tokenize\n",
    "from sklearn.tree import DecisionTreeClassifier\n",
    "from sklearn.naive_bayes import MultinomialNB\n",
    "from sklearn.neighbors import KNeighborsClassifier\n",
    "from sklearn.linear_model import LogisticRegression\n",
    "from sklearn.ensemble import RandomForestClassifier\n",
    "from sklearn.svm import SVC\n",
    "from sklearn.neural_network import MLPClassifier\n",
    "from sklearn.linear_model import SGDClassifier\n",
    "from sklearn.model_selection import train_test_split\n",
    "from sklearn.feature_extraction.text import  CountVectorizer\n",
    "from sklearn.preprocessing import LabelEncoder\n",
    "import warnings\n",
    "import csv\n",
    "import random\n",
    "from collections import Counter\n",
    "from utils.textnormalization import TextNormalization\n",
    "from utils.machinelearning import machine_learning_model, fit_model, metrics_values, confusion_matrix_\n",
    "from utils.deeplearning import convolutional_neural_network_1d, model_compile, model_fit, evaluate, plot_accuracy_loss, lstm_, gru_\n",
    "from utils.sentiment_information import sentiment_percentage, sentiment_counts\n",
    "from utils.wordcloud import wordcloud\n",
    "from utils.most_frequent_word_plot import go_figure , bar_plot\n",
    "from utils.deep_learning_preprocessimg import deeplearning_preprcosesing_\n",
    "pd.options.display.max_rows = 100\n",
    "pd.options.display.max_columns =None \n",
    "import arabic_reshaper\n",
    "from bidi.algorithm import get_display\n",
    "tf.keras.utils.set_random_seed(1)\n",
    "tf.config.experimental.enable_op_determinism()"
   ]
  },
  {
   "cell_type": "markdown",
   "metadata": {},
   "source": [
    "# Download Some Packages"
   ]
  },
  {
   "cell_type": "code",
   "execution_count": 2,
   "metadata": {},
   "outputs": [
    {
     "name": "stderr",
     "output_type": "stream",
     "text": [
      "[nltk_data] Downloading package punkt to\n",
      "[nltk_data]     /Users/osamaanmar/nltk_data...\n",
      "[nltk_data]   Package punkt is already up-to-date!\n",
      "[nltk_data] Downloading package wordnet to\n",
      "[nltk_data]     /Users/osamaanmar/nltk_data...\n",
      "[nltk_data]   Package wordnet is already up-to-date!\n",
      "[nltk_data] Downloading package stopwords to\n",
      "[nltk_data]     /Users/osamaanmar/nltk_data...\n",
      "[nltk_data]   Package stopwords is already up-to-date!\n",
      "[nltk_data] Downloading package averaged_perceptron_tagger to\n",
      "[nltk_data]     /Users/osamaanmar/nltk_data...\n",
      "[nltk_data]   Package averaged_perceptron_tagger is already up-to-\n",
      "[nltk_data]       date!\n"
     ]
    },
    {
     "data": {
      "text/plain": [
       "True"
      ]
     },
     "execution_count": 2,
     "metadata": {},
     "output_type": "execute_result"
    }
   ],
   "source": [
    "nltk.download('punkt')\n",
    "nltk.download('wordnet')\n",
    "nltk.download('stopwords')\n",
    "nltk.download('averaged_perceptron_tagger')"
   ]
  },
  {
   "cell_type": "markdown",
   "metadata": {},
   "source": [
    "# Ignore Warnings"
   ]
  },
  {
   "cell_type": "code",
   "execution_count": 3,
   "metadata": {},
   "outputs": [],
   "source": [
    "os.environ['TF_CPP_MIN_LOG_LEVEL'] = '3'\n",
    "warnings.filterwarnings(action='ignore')"
   ]
  },
  {
   "cell_type": "markdown",
   "metadata": {},
   "source": [
    "# Read Data"
   ]
  },
  {
   "cell_type": "code",
   "execution_count": 4,
   "metadata": {},
   "outputs": [
    {
     "data": {
      "text/html": [
       "<div>\n",
       "<style scoped>\n",
       "    .dataframe tbody tr th:only-of-type {\n",
       "        vertical-align: middle;\n",
       "    }\n",
       "\n",
       "    .dataframe tbody tr th {\n",
       "        vertical-align: top;\n",
       "    }\n",
       "\n",
       "    .dataframe thead th {\n",
       "        text-align: right;\n",
       "    }\n",
       "</style>\n",
       "<table border=\"1\" class=\"dataframe\">\n",
       "  <thead>\n",
       "    <tr style=\"text-align: right;\">\n",
       "      <th></th>\n",
       "      <th>Sentiment</th>\n",
       "      <th>Review</th>\n",
       "    </tr>\n",
       "  </thead>\n",
       "  <tbody>\n",
       "    <tr>\n",
       "      <th>16434</th>\n",
       "      <td>Negative</td>\n",
       "      <td>بين الشفقة و العطف أقيم هذه الرواية يؤسفني جد...</td>\n",
       "    </tr>\n",
       "    <tr>\n",
       "      <th>16435</th>\n",
       "      <td>Negative</td>\n",
       "      <td>أوصيك بالدقة . لا بالوضوح . \" فاليري\" تقريباً...</td>\n",
       "    </tr>\n",
       "    <tr>\n",
       "      <th>16436</th>\n",
       "      <td>Negative</td>\n",
       "      <td>للاسف الشديد لم يعجبني الكتاب ، شعرت بالملل م...</td>\n",
       "    </tr>\n",
       "    <tr>\n",
       "      <th>16437</th>\n",
       "      <td>Positive</td>\n",
       "      <td>من بداية الرواية وانا احاول تمالك نفسي ولكن ت...</td>\n",
       "    </tr>\n",
       "    <tr>\n",
       "      <th>16438</th>\n",
       "      <td>Negative</td>\n",
       "      <td>خذلتنى هذه الرواية كثيرا لم يعجبنى ابدا تداخل...</td>\n",
       "    </tr>\n",
       "  </tbody>\n",
       "</table>\n",
       "</div>"
      ],
      "text/plain": [
       "      Sentiment                                             Review\n",
       "16434  Negative   بين الشفقة و العطف أقيم هذه الرواية يؤسفني جد...\n",
       "16435  Negative   أوصيك بالدقة . لا بالوضوح . \" فاليري\" تقريباً...\n",
       "16436  Negative   للاسف الشديد لم يعجبني الكتاب ، شعرت بالملل م...\n",
       "16437  Positive   من بداية الرواية وانا احاول تمالك نفسي ولكن ت...\n",
       "16438  Negative   خذلتنى هذه الرواية كثيرا لم يعجبنى ابدا تداخل..."
      ]
     },
     "execution_count": 4,
     "metadata": {},
     "output_type": "execute_result"
    }
   ],
   "source": [
    "df1 = pd.read_csv('dev.csv')\n",
    "df2 = pd.read_csv('train.csv')\n",
    "df3 = pd.read_csv('test.csv')\n",
    "Corpus = pd.concat([df1, df2, df3], ignore_index=True)\n",
    "Corpus.drop('clean_txt', inplace=True, axis=1)\n",
    "Corpus.rename(columns={'sentiment': 'Sentiment', 'txt': 'Review'}, inplace=True)\n",
    "Corpus.tail(5)"
   ]
  },
  {
   "cell_type": "markdown",
   "metadata": {},
   "source": [
    "# Sentiment Information"
   ]
  },
  {
   "cell_type": "code",
   "execution_count": 5,
   "metadata": {},
   "outputs": [
    {
     "data": {
      "image/png": "[encoded data removed]",
      "text/plain": [
       "<Figure size 600x600 with 1 Axes>"
      ]
     },
     "metadata": {},
     "output_type": "display_data"
    }
   ],
   "source": [
    "sentiment_percentage(Corpus, 'Sentiment', (6, 6))"
   ]
  },
  {
   "cell_type": "code",
   "execution_count": 6,
   "metadata": {},
   "outputs": [
    {
     "data": {
      "image/png": "[encoded data removed]",
      "text/plain": [
       "<Figure size 600x600 with 1 Axes>"
      ]
     },
     "metadata": {},
     "output_type": "display_data"
    }
   ],
   "source": [
    "sentiment_counts(Corpus, 'Sentiment', (6, 6))"
   ]
  },
  {
   "cell_type": "markdown",
   "metadata": {},
   "source": [
    "# Number Of Sentences"
   ]
  },
  {
   "cell_type": "code",
   "execution_count": 7,
   "metadata": {},
   "outputs": [],
   "source": [
    "Corpus['NumberOfSentences'] = Corpus['Review'].apply(lambda n:len(sent_tokenize(n)))\n",
    "Corpus.drop(Corpus[Corpus[\"NumberOfSentences\"] == 0].index, inplace = True)\n"
   ]
  },
  {
   "cell_type": "code",
   "execution_count": 8,
   "metadata": {},
   "outputs": [
    {
     "data": {
      "text/plain": [
       "48524"
      ]
     },
     "execution_count": 8,
     "metadata": {},
     "output_type": "execute_result"
    }
   ],
   "source": [
    "Corpus['NumberOfSentences'].sum()"
   ]
  },
  {
   "cell_type": "markdown",
   "metadata": {},
   "source": [
    "# Average Number Of Sentences"
   ]
  },
  {
   "cell_type": "code",
   "execution_count": 9,
   "metadata": {},
   "outputs": [
    {
     "data": {
      "text/plain": [
       "3"
      ]
     },
     "execution_count": 9,
     "metadata": {},
     "output_type": "execute_result"
    }
   ],
   "source": [
    "AverageNumberOfSentence = int(np.round(Corpus[\"NumberOfSentences\"].mean()))\n",
    "AverageNumberOfSentence"
   ]
  },
  {
   "cell_type": "markdown",
   "metadata": {},
   "source": [
    "# Maximum Number Of Sentences"
   ]
  },
  {
   "cell_type": "code",
   "execution_count": 10,
   "metadata": {},
   "outputs": [
    {
     "data": {
      "text/plain": [
       "326"
      ]
     },
     "execution_count": 10,
     "metadata": {},
     "output_type": "execute_result"
    }
   ],
   "source": [
    "MaximumNumberOfSentence = Corpus[\"NumberOfSentences\"].max()\n",
    "MaximumNumberOfSentence"
   ]
  },
  {
   "cell_type": "markdown",
   "metadata": {},
   "source": [
    "# Minimum Number Of Sentences"
   ]
  },
  {
   "cell_type": "code",
   "execution_count": 11,
   "metadata": {},
   "outputs": [
    {
     "data": {
      "text/plain": [
       "1"
      ]
     },
     "execution_count": 11,
     "metadata": {},
     "output_type": "execute_result"
    }
   ],
   "source": [
    "MinimumNumberOfSentence = Corpus[\"NumberOfSentences\"].min()\n",
    "MinimumNumberOfSentence"
   ]
  },
  {
   "cell_type": "markdown",
   "metadata": {},
   "source": [
    "# Text Normalization"
   ]
  },
  {
   "cell_type": "code",
   "execution_count": 12,
   "metadata": {},
   "outputs": [],
   "source": [
    "text_normalization = TextNormalization(_remove_emojis = True,\n",
    "                                        _remove_hashtags = False,\n",
    "                                        _remove_emails = False ,\n",
    "                                        _remove_url = False,\n",
    "                                        _remove_mention = False,\n",
    "                                        _remove_duplicate_char = True,\n",
    "                                        _remove_single_char = True,\n",
    "                                        _remove_special_character_ = True,\n",
    "                                        _remove_new_line_char = True,\n",
    "                                        _remove_number = True,\n",
    "                                        _remove_html_tags = True,\n",
    "                                        _remove_arabic_diacritics_ = True,\n",
    "                                        _normalize_arabic_unicode_ = True,\n",
    "                                        _normalize_alef_maksura_ar_ = True,\n",
    "                                        _normalize_alef_ar_ = True,\n",
    "                                        _normalize_teh_marbuta_ar_ = True,\n",
    "                                        _remove_non_arabic = True,\n",
    "                                        _remove_whitespace_ = True,\n",
    "                                        _remove_unicode_characters_ = True,\n",
    "                                        _remove_longest_than_ = True,\n",
    "                                        _remove_stop_words = True,\n",
    "                                        _lemmatizer_ = False,\n",
    "                                        _stemmer_ = False)"
   ]
  },
  {
   "cell_type": "code",
   "execution_count": 13,
   "metadata": {},
   "outputs": [
    {
     "data": {
      "text/html": [
       "<div>\n",
       "<style scoped>\n",
       "    .dataframe tbody tr th:only-of-type {\n",
       "        vertical-align: middle;\n",
       "    }\n",
       "\n",
       "    .dataframe tbody tr th {\n",
       "        vertical-align: top;\n",
       "    }\n",
       "\n",
       "    .dataframe thead th {\n",
       "        text-align: right;\n",
       "    }\n",
       "</style>\n",
       "<table border=\"1\" class=\"dataframe\">\n",
       "  <thead>\n",
       "    <tr style=\"text-align: right;\">\n",
       "      <th></th>\n",
       "      <th>Sentiment</th>\n",
       "      <th>Review</th>\n",
       "      <th>NumberOfSentences</th>\n",
       "      <th>Normalized_Review</th>\n",
       "    </tr>\n",
       "  </thead>\n",
       "  <tbody>\n",
       "    <tr>\n",
       "      <th>16434</th>\n",
       "      <td>Negative</td>\n",
       "      <td>بين الشفقة و العطف أقيم هذه الرواية يؤسفني جد...</td>\n",
       "      <td>1</td>\n",
       "      <td>الشفقه العطف اقيم الروايه يؤسفني معاناه محمد ش...</td>\n",
       "    </tr>\n",
       "    <tr>\n",
       "      <th>16435</th>\n",
       "      <td>Negative</td>\n",
       "      <td>أوصيك بالدقة . لا بالوضوح . \" فاليري\" تقريباً...</td>\n",
       "      <td>3</td>\n",
       "      <td>اوصيك بالدقه بالوضوح فاليري ابراهيم اصلان نفذ ...</td>\n",
       "    </tr>\n",
       "    <tr>\n",
       "      <th>16436</th>\n",
       "      <td>Negative</td>\n",
       "      <td>للاسف الشديد لم يعجبني الكتاب ، شعرت بالملل م...</td>\n",
       "      <td>2</td>\n",
       "      <td>للاسف الشديد يعجبني الكتاب شعرت بالملل الصفحات...</td>\n",
       "    </tr>\n",
       "    <tr>\n",
       "      <th>16437</th>\n",
       "      <td>Positive</td>\n",
       "      <td>من بداية الرواية وانا احاول تمالك نفسي ولكن ت...</td>\n",
       "      <td>14</td>\n",
       "      <td>بدايه الروايه وانا احاول تمالك تعاندني عبرات م...</td>\n",
       "    </tr>\n",
       "    <tr>\n",
       "      <th>16438</th>\n",
       "      <td>Negative</td>\n",
       "      <td>خذلتنى هذه الرواية كثيرا لم يعجبنى ابدا تداخل...</td>\n",
       "      <td>1</td>\n",
       "      <td>خذلتني الروايه يعجبني ابدا تداخل قصتي الكاتب و...</td>\n",
       "    </tr>\n",
       "  </tbody>\n",
       "</table>\n",
       "</div>"
      ],
      "text/plain": [
       "      Sentiment                                             Review  \\\n",
       "16434  Negative   بين الشفقة و العطف أقيم هذه الرواية يؤسفني جد...   \n",
       "16435  Negative   أوصيك بالدقة . لا بالوضوح . \" فاليري\" تقريباً...   \n",
       "16436  Negative   للاسف الشديد لم يعجبني الكتاب ، شعرت بالملل م...   \n",
       "16437  Positive   من بداية الرواية وانا احاول تمالك نفسي ولكن ت...   \n",
       "16438  Negative   خذلتنى هذه الرواية كثيرا لم يعجبنى ابدا تداخل...   \n",
       "\n",
       "       NumberOfSentences                                  Normalized_Review  \n",
       "16434                  1  الشفقه العطف اقيم الروايه يؤسفني معاناه محمد ش...  \n",
       "16435                  3  اوصيك بالدقه بالوضوح فاليري ابراهيم اصلان نفذ ...  \n",
       "16436                  2  للاسف الشديد يعجبني الكتاب شعرت بالملل الصفحات...  \n",
       "16437                 14  بدايه الروايه وانا احاول تمالك تعاندني عبرات م...  \n",
       "16438                  1  خذلتني الروايه يعجبني ابدا تداخل قصتي الكاتب و...  "
      ]
     },
     "execution_count": 13,
     "metadata": {},
     "output_type": "execute_result"
    }
   ],
   "source": [
    "Corpus['Normalized_Review'] = Corpus['Review'].apply(lambda x: text_normalization.normalization(x))\n",
    "Corpus.tail(5)"
   ]
  },
  {
   "cell_type": "markdown",
   "metadata": {},
   "source": [
    "# Number Of Unique Words"
   ]
  },
  {
   "cell_type": "code",
   "execution_count": 14,
   "metadata": {},
   "outputs": [
    {
     "data": {
      "text/plain": [
       "74034"
      ]
     },
     "execution_count": 14,
     "metadata": {},
     "output_type": "execute_result"
    }
   ],
   "source": [
    "UniqueWords = set()\n",
    "for word in Corpus['Normalized_Review'].str.split():\n",
    "    UniqueWords.update(word)\n",
    "\n",
    "len(UniqueWords)"
   ]
  },
  {
   "cell_type": "markdown",
   "metadata": {},
   "source": [
    "# WordCloud"
   ]
  },
  {
   "cell_type": "code",
   "execution_count": 15,
   "metadata": {},
   "outputs": [
    {
     "data": {
      "image/png": "[encoded data removed]",
      "text/plain": [
       "<Figure size 640x480 with 1 Axes>"
      ]
     },
     "metadata": {},
     "output_type": "display_data"
    }
   ],
   "source": [
    "wordcloud(data=Corpus, target='Negative', width=2000, hieght=1000, text='Normalized_Review')"
   ]
  },
  {
   "cell_type": "code",
   "execution_count": 16,
   "metadata": {},
   "outputs": [
    {
     "data": {
      "image/png": "[encoded data removed]",
      "text/plain": [
       "<Figure size 640x480 with 1 Axes>"
      ]
     },
     "metadata": {},
     "output_type": "display_data"
    }
   ],
   "source": [
    "wordcloud(data=Corpus, target='Positive', width=2000, hieght=1000, text='Normalized_Review')"
   ]
  },
  {
   "cell_type": "markdown",
   "metadata": {},
   "source": [
    "# Most Frequent Words "
   ]
  },
  {
   "cell_type": "code",
   "execution_count": 17,
   "metadata": {},
   "outputs": [
    {
     "data": {
      "text/html": [
       "<div>\n",
       "<style scoped>\n",
       "    .dataframe tbody tr th:only-of-type {\n",
       "        vertical-align: middle;\n",
       "    }\n",
       "\n",
       "    .dataframe tbody tr th {\n",
       "        vertical-align: top;\n",
       "    }\n",
       "\n",
       "    .dataframe thead th {\n",
       "        text-align: right;\n",
       "    }\n",
       "</style>\n",
       "<table border=\"1\" class=\"dataframe\">\n",
       "  <thead>\n",
       "    <tr style=\"text-align: right;\">\n",
       "      <th></th>\n",
       "      <th>Word</th>\n",
       "      <th>Count</th>\n",
       "    </tr>\n",
       "  </thead>\n",
       "  <tbody>\n",
       "    <tr>\n",
       "      <th>0</th>\n",
       "      <td>الروايه</td>\n",
       "      <td>7347</td>\n",
       "    </tr>\n",
       "    <tr>\n",
       "      <th>1</th>\n",
       "      <td>الكتاب</td>\n",
       "      <td>6617</td>\n",
       "    </tr>\n",
       "    <tr>\n",
       "      <th>2</th>\n",
       "      <td>كتاب</td>\n",
       "      <td>3828</td>\n",
       "    </tr>\n",
       "    <tr>\n",
       "      <th>3</th>\n",
       "      <td>روايه</td>\n",
       "      <td>3154</td>\n",
       "    </tr>\n",
       "    <tr>\n",
       "      <th>4</th>\n",
       "      <td>الكاتب</td>\n",
       "      <td>2793</td>\n",
       "    </tr>\n",
       "    <tr>\n",
       "      <th>5</th>\n",
       "      <td>الله</td>\n",
       "      <td>2312</td>\n",
       "    </tr>\n",
       "    <tr>\n",
       "      <th>6</th>\n",
       "      <td>اللي</td>\n",
       "      <td>1878</td>\n",
       "    </tr>\n",
       "    <tr>\n",
       "      <th>7</th>\n",
       "      <td>مش</td>\n",
       "      <td>1444</td>\n",
       "    </tr>\n",
       "    <tr>\n",
       "      <th>8</th>\n",
       "      <td>رائع</td>\n",
       "      <td>1431</td>\n",
       "    </tr>\n",
       "    <tr>\n",
       "      <th>9</th>\n",
       "      <td>الاحداث</td>\n",
       "      <td>1247</td>\n",
       "    </tr>\n",
       "    <tr>\n",
       "      <th>10</th>\n",
       "      <td>اسلوب</td>\n",
       "      <td>1187</td>\n",
       "    </tr>\n",
       "    <tr>\n",
       "      <th>11</th>\n",
       "      <td>رائعه</td>\n",
       "      <td>1077</td>\n",
       "    </tr>\n",
       "    <tr>\n",
       "      <th>12</th>\n",
       "      <td>قرات</td>\n",
       "      <td>1070</td>\n",
       "    </tr>\n",
       "    <tr>\n",
       "      <th>13</th>\n",
       "      <td>الكثير</td>\n",
       "      <td>1070</td>\n",
       "    </tr>\n",
       "    <tr>\n",
       "      <th>14</th>\n",
       "      <td>الحياه</td>\n",
       "      <td>986</td>\n",
       "    </tr>\n",
       "  </tbody>\n",
       "</table>\n",
       "</div>"
      ],
      "text/plain": [
       "       Word  Count\n",
       "0   الروايه   7347\n",
       "1    الكتاب   6617\n",
       "2      كتاب   3828\n",
       "3     روايه   3154\n",
       "4    الكاتب   2793\n",
       "5      الله   2312\n",
       "6      اللي   1878\n",
       "7        مش   1444\n",
       "8      رائع   1431\n",
       "9   الاحداث   1247\n",
       "10    اسلوب   1187\n",
       "11    رائعه   1077\n",
       "12     قرات   1070\n",
       "13   الكثير   1070\n",
       "14   الحياه    986"
      ]
     },
     "execution_count": 17,
     "metadata": {},
     "output_type": "execute_result"
    }
   ],
   "source": [
    "MostFrequentWord = Counter((Corpus['Normalized_Review']).str.split().explode()).most_common(15)\n",
    "MostFrequentWordDF = pd.DataFrame(MostFrequentWord, columns=('Word', 'Count'))\n",
    "MostFrequentWordDF"
   ]
  },
  {
   "cell_type": "code",
   "execution_count": 18,
   "metadata": {},
   "outputs": [
    {
     "data": {
      "application/vnd.plotly.v1+json": {
       "config": {
        "plotlyServerURL": "https://plot.ly"
       },
       "data": [
        {
         "marker": {
          "color": [
           "Salmon",
           "FireBrick",
           "MediumVioletRed",
           "Tomato",
           "Orange",
           "Gold",
           "DarkKhaki",
           "Lavender",
           "Plum",
           "LimeGreen",
           "MediumSpringGreen",
           "Green",
           "DeepSkyBlue",
           "Aquamarine",
           "MediumSlateBlue"
          ]
         },
         "type": "funnel",
         "x": [
          7347,
          6617,
          3828,
          3154,
          2793,
          2312,
          1878,
          1444,
          1431,
          1247,
          1187,
          1077,
          1070,
          1070,
          986
         ],
         "y": [
          "الروايه",
          "الكتاب",
          "كتاب",
          "روايه",
          "الكاتب",
          "الله",
          "اللي",
          "مش",
          "رائع",
          "الاحداث",
          "اسلوب",
          "رائعه",
          "قرات",
          "الكثير",
          "الحياه"
         ]
        }
       ],
       "layout": {
        "template": {
         "data": {
          "bar": [
           {
            "error_x": {
             "color": "#2a3f5f"
            },
            "error_y": {
             "color": "#2a3f5f"
            },
            "marker": {
             "line": {
              "color": "#E5ECF6",
              "width": 0.5
             },
             "pattern": {
              "fillmode": "overlay",
              "size": 10,
              "solidity": 0.2
             }
            },
            "type": "bar"
           }
          ],
          "barpolar": [
           {
            "marker": {
             "line": {
              "color": "#E5ECF6",
              "width": 0.5
             },
             "pattern": {
              "fillmode": "overlay",
              "size": 10,
              "solidity": 0.2
             }
            },
            "type": "barpolar"
           }
          ],
          "carpet": [
           {
            "aaxis": {
             "endlinecolor": "#2a3f5f",
             "gridcolor": "white",
             "linecolor": "white",
             "minorgridcolor": "white",
             "startlinecolor": "#2a3f5f"
            },
            "baxis": {
             "endlinecolor": "#2a3f5f",
             "gridcolor": "white",
             "linecolor": "white",
             "minorgridcolor": "white",
             "startlinecolor": "#2a3f5f"
            },
            "type": "carpet"
           }
          ],
          "choropleth": [
           {
            "colorbar": {
             "outlinewidth": 0,
             "ticks": ""
            },
            "type": "choropleth"
           }
          ],
          "contour": [
           {
            "colorbar": {
             "outlinewidth": 0,
             "ticks": ""
            },
            "colorscale": [
             [
              0,
              "#0d0887"
             ],
             [
              0.1111111111111111,
              "#46039f"
             ],
             [
              0.2222222222222222,
              "#7201a8"
             ],
             [
              0.3333333333333333,
              "#9c179e"
             ],
             [
              0.4444444444444444,
              "#bd3786"
             ],
             [
              0.5555555555555556,
              "#d8576b"
             ],
             [
              0.6666666666666666,
              "#ed7953"
             ],
             [
              0.7777777777777778,
              "#fb9f3a"
             ],
             [
              0.8888888888888888,
              "#fdca26"
             ],
             [
              1,
              "#f0f921"
             ]
            ],
            "type": "contour"
           }
          ],
          "contourcarpet": [
           {
            "colorbar": {
             "outlinewidth": 0,
             "ticks": ""
            },
            "type": "contourcarpet"
           }
          ],
          "heatmap": [
           {
            "colorbar": {
             "outlinewidth": 0,
             "ticks": ""
            },
            "colorscale": [
             [
              0,
              "#0d0887"
             ],
             [
              0.1111111111111111,
              "#46039f"
             ],
             [
              0.2222222222222222,
              "#7201a8"
             ],
             [
              0.3333333333333333,
              "#9c179e"
             ],
             [
              0.4444444444444444,
              "#bd3786"
             ],
             [
              0.5555555555555556,
              "#d8576b"
             ],
             [
              0.6666666666666666,
              "#ed7953"
             ],
             [
              0.7777777777777778,
              "#fb9f3a"
             ],
             [
              0.8888888888888888,
              "#fdca26"
             ],
             [
              1,
              "#f0f921"
             ]
            ],
            "type": "heatmap"
           }
          ],
          "heatmapgl": [
           {
            "colorbar": {
             "outlinewidth": 0,
             "ticks": ""
            },
            "colorscale": [
             [
              0,
              "#0d0887"
             ],
             [
              0.1111111111111111,
              "#46039f"
             ],
             [
              0.2222222222222222,
              "#7201a8"
             ],
             [
              0.3333333333333333,
              "#9c179e"
             ],
             [
              0.4444444444444444,
              "#bd3786"
             ],
             [
              0.5555555555555556,
              "#d8576b"
             ],
             [
              0.6666666666666666,
              "#ed7953"
             ],
             [
              0.7777777777777778,
              "#fb9f3a"
             ],
             [
              0.8888888888888888,
              "#fdca26"
             ],
             [
              1,
              "#f0f921"
             ]
            ],
            "type": "heatmapgl"
           }
          ],
          "histogram": [
           {
            "marker": {
             "pattern": {
              "fillmode": "overlay",
              "size": 10,
              "solidity": 0.2
             }
            },
            "type": "histogram"
           }
          ],
          "histogram2d": [
           {
            "colorbar": {
             "outlinewidth": 0,
             "ticks": ""
            },
            "colorscale": [
             [
              0,
              "#0d0887"
             ],
             [
              0.1111111111111111,
              "#46039f"
             ],
             [
              0.2222222222222222,
              "#7201a8"
             ],
             [
              0.3333333333333333,
              "#9c179e"
             ],
             [
              0.4444444444444444,
              "#bd3786"
             ],
             [
              0.5555555555555556,
              "#d8576b"
             ],
             [
              0.6666666666666666,
              "#ed7953"
             ],
             [
              0.7777777777777778,
              "#fb9f3a"
             ],
             [
              0.8888888888888888,
              "#fdca26"
             ],
             [
              1,
              "#f0f921"
             ]
            ],
            "type": "histogram2d"
           }
          ],
          "histogram2dcontour": [
           {
            "colorbar": {
             "outlinewidth": 0,
             "ticks": ""
            },
            "colorscale": [
             [
              0,
              "#0d0887"
             ],
             [
              0.1111111111111111,
              "#46039f"
             ],
             [
              0.2222222222222222,
              "#7201a8"
             ],
             [
              0.3333333333333333,
              "#9c179e"
             ],
             [
              0.4444444444444444,
              "#bd3786"
             ],
             [
              0.5555555555555556,
              "#d8576b"
             ],
             [
              0.6666666666666666,
              "#ed7953"
             ],
             [
              0.7777777777777778,
              "#fb9f3a"
             ],
             [
              0.8888888888888888,
              "#fdca26"
             ],
             [
              1,
              "#f0f921"
             ]
            ],
            "type": "histogram2dcontour"
           }
          ],
          "mesh3d": [
           {
            "colorbar": {
             "outlinewidth": 0,
             "ticks": ""
            },
            "type": "mesh3d"
           }
          ],
          "parcoords": [
           {
            "line": {
             "colorbar": {
              "outlinewidth": 0,
              "ticks": ""
             }
            },
            "type": "parcoords"
           }
          ],
          "pie": [
           {
            "automargin": true,
            "type": "pie"
           }
          ],
          "scatter": [
           {
            "fillpattern": {
             "fillmode": "overlay",
             "size": 10,
             "solidity": 0.2
            },
            "type": "scatter"
           }
          ],
          "scatter3d": [
           {
            "line": {
             "colorbar": {
              "outlinewidth": 0,
              "ticks": ""
             }
            },
            "marker": {
             "colorbar": {
              "outlinewidth": 0,
              "ticks": ""
             }
            },
            "type": "scatter3d"
           }
          ],
          "scattercarpet": [
           {
            "marker": {
             "colorbar": {
              "outlinewidth": 0,
              "ticks": ""
             }
            },
            "type": "scattercarpet"
           }
          ],
          "scattergeo": [
           {
            "marker": {
             "colorbar": {
              "outlinewidth": 0,
              "ticks": ""
             }
            },
            "type": "scattergeo"
           }
          ],
          "scattergl": [
           {
            "marker": {
             "colorbar": {
              "outlinewidth": 0,
              "ticks": ""
             }
            },
            "type": "scattergl"
           }
          ],
          "scattermapbox": [
           {
            "marker": {
             "colorbar": {
              "outlinewidth": 0,
              "ticks": ""
             }
            },
            "type": "scattermapbox"
           }
          ],
          "scatterpolar": [
           {
            "marker": {
             "colorbar": {
              "outlinewidth": 0,
              "ticks": ""
             }
            },
            "type": "scatterpolar"
           }
          ],
          "scatterpolargl": [
           {
            "marker": {
             "colorbar": {
              "outlinewidth": 0,
              "ticks": ""
             }
            },
            "type": "scatterpolargl"
           }
          ],
          "scatterternary": [
           {
            "marker": {
             "colorbar": {
              "outlinewidth": 0,
              "ticks": ""
             }
            },
            "type": "scatterternary"
           }
          ],
          "surface": [
           {
            "colorbar": {
             "outlinewidth": 0,
             "ticks": ""
            },
            "colorscale": [
             [
              0,
              "#0d0887"
             ],
             [
              0.1111111111111111,
              "#46039f"
             ],
             [
              0.2222222222222222,
              "#7201a8"
             ],
             [
              0.3333333333333333,
              "#9c179e"
             ],
             [
              0.4444444444444444,
              "#bd3786"
             ],
             [
              0.5555555555555556,
              "#d8576b"
             ],
             [
              0.6666666666666666,
              "#ed7953"
             ],
             [
              0.7777777777777778,
              "#fb9f3a"
             ],
             [
              0.8888888888888888,
              "#fdca26"
             ],
             [
              1,
              "#f0f921"
             ]
            ],
            "type": "surface"
           }
          ],
          "table": [
           {
            "cells": {
             "fill": {
              "color": "#EBF0F8"
             },
             "line": {
              "color": "white"
             }
            },
            "header": {
             "fill": {
              "color": "#C8D4E3"
             },
             "line": {
              "color": "white"
             }
            },
            "type": "table"
           }
          ]
         },
         "layout": {
          "annotationdefaults": {
           "arrowcolor": "#2a3f5f",
           "arrowhead": 0,
           "arrowwidth": 1
          },
          "autotypenumbers": "strict",
          "coloraxis": {
           "colorbar": {
            "outlinewidth": 0,
            "ticks": ""
           }
          },
          "colorscale": {
           "diverging": [
            [
             0,
             "#8e0152"
            ],
            [
             0.1,
             "#c51b7d"
            ],
            [
             0.2,
             "#de77ae"
            ],
            [
             0.3,
             "#f1b6da"
            ],
            [
             0.4,
             "#fde0ef"
            ],
            [
             0.5,
             "#f7f7f7"
            ],
            [
             0.6,
             "#e6f5d0"
            ],
            [
             0.7,
             "#b8e186"
            ],
            [
             0.8,
             "#7fbc41"
            ],
            [
             0.9,
             "#4d9221"
            ],
            [
             1,
             "#276419"
            ]
           ],
           "sequential": [
            [
             0,
             "#0d0887"
            ],
            [
             0.1111111111111111,
             "#46039f"
            ],
            [
             0.2222222222222222,
             "#7201a8"
            ],
            [
             0.3333333333333333,
             "#9c179e"
            ],
            [
             0.4444444444444444,
             "#bd3786"
            ],
            [
             0.5555555555555556,
             "#d8576b"
            ],
            [
             0.6666666666666666,
             "#ed7953"
            ],
            [
             0.7777777777777778,
             "#fb9f3a"
            ],
            [
             0.8888888888888888,
             "#fdca26"
            ],
            [
             1,
             "#f0f921"
            ]
           ],
           "sequentialminus": [
            [
             0,
             "#0d0887"
            ],
            [
             0.1111111111111111,
             "#46039f"
            ],
            [
             0.2222222222222222,
             "#7201a8"
            ],
            [
             0.3333333333333333,
             "#9c179e"
            ],
            [
             0.4444444444444444,
             "#bd3786"
            ],
            [
             0.5555555555555556,
             "#d8576b"
            ],
            [
             0.6666666666666666,
             "#ed7953"
            ],
            [
             0.7777777777777778,
             "#fb9f3a"
            ],
            [
             0.8888888888888888,
             "#fdca26"
            ],
            [
             1,
             "#f0f921"
            ]
           ]
          },
          "colorway": [
           "#636efa",
           "#EF553B",
           "#00cc96",
           "#ab63fa",
           "#FFA15A",
           "#19d3f3",
           "#FF6692",
           "#B6E880",
           "#FF97FF",
           "#FECB52"
          ],
          "font": {
           "color": "#2a3f5f"
          },
          "geo": {
           "bgcolor": "white",
           "lakecolor": "white",
           "landcolor": "#E5ECF6",
           "showlakes": true,
           "showland": true,
           "subunitcolor": "white"
          },
          "hoverlabel": {
           "align": "left"
          },
          "hovermode": "closest",
          "mapbox": {
           "style": "light"
          },
          "paper_bgcolor": "white",
          "plot_bgcolor": "#E5ECF6",
          "polar": {
           "angularaxis": {
            "gridcolor": "white",
            "linecolor": "white",
            "ticks": ""
           },
           "bgcolor": "#E5ECF6",
           "radialaxis": {
            "gridcolor": "white",
            "linecolor": "white",
            "ticks": ""
           }
          },
          "scene": {
           "xaxis": {
            "backgroundcolor": "#E5ECF6",
            "gridcolor": "white",
            "gridwidth": 2,
            "linecolor": "white",
            "showbackground": true,
            "ticks": "",
            "zerolinecolor": "white"
           },
           "yaxis": {
            "backgroundcolor": "#E5ECF6",
            "gridcolor": "white",
            "gridwidth": 2,
            "linecolor": "white",
            "showbackground": true,
            "ticks": "",
            "zerolinecolor": "white"
           },
           "zaxis": {
            "backgroundcolor": "#E5ECF6",
            "gridcolor": "white",
            "gridwidth": 2,
            "linecolor": "white",
            "showbackground": true,
            "ticks": "",
            "zerolinecolor": "white"
           }
          },
          "shapedefaults": {
           "line": {
            "color": "#2a3f5f"
           }
          },
          "ternary": {
           "aaxis": {
            "gridcolor": "white",
            "linecolor": "white",
            "ticks": ""
           },
           "baxis": {
            "gridcolor": "white",
            "linecolor": "white",
            "ticks": ""
           },
           "bgcolor": "#E5ECF6",
           "caxis": {
            "gridcolor": "white",
            "linecolor": "white",
            "ticks": ""
           }
          },
          "title": {
           "x": 0.05
          },
          "xaxis": {
           "automargin": true,
           "gridcolor": "white",
           "linecolor": "white",
           "ticks": "",
           "title": {
            "standoff": 15
           },
           "zerolinecolor": "white",
           "zerolinewidth": 2
          },
          "yaxis": {
           "automargin": true,
           "gridcolor": "white",
           "linecolor": "white",
           "ticks": "",
           "title": {
            "standoff": 15
           },
           "zerolinecolor": "white",
           "zerolinewidth": 2
          }
         }
        }
       }
      }
     },
     "metadata": {},
     "output_type": "display_data"
    }
   ],
   "source": [
    "go_figure(data=MostFrequentWordDF)"
   ]
  },
  {
   "cell_type": "code",
   "execution_count": 19,
   "metadata": {},
   "outputs": [
    {
     "data": {
      "application/vnd.plotly.v1+json": {
       "config": {
        "plotlyServerURL": "https://plot.ly"
       },
       "data": [
        {
         "alignmentgroup": "True",
         "hovertemplate": "Count=%{x}<br>Word=%{y}<extra></extra>",
         "legendgroup": "",
         "marker": {
          "color": "#636efa",
          "pattern": {
           "shape": ""
          }
         },
         "name": "",
         "offsetgroup": "",
         "orientation": "h",
         "showlegend": false,
         "textposition": "auto",
         "type": "bar",
         "x": [
          7347,
          6617,
          3828,
          3154,
          2793,
          2312,
          1878,
          1444,
          1431,
          1247,
          1187,
          1077,
          1070,
          1070,
          986
         ],
         "xaxis": "x",
         "y": [
          "الروايه",
          "الكتاب",
          "كتاب",
          "روايه",
          "الكاتب",
          "الله",
          "اللي",
          "مش",
          "رائع",
          "الاحداث",
          "اسلوب",
          "رائعه",
          "قرات",
          "الكثير",
          "الحياه"
         ],
         "yaxis": "y"
        }
       ],
       "layout": {
        "barmode": "relative",
        "legend": {
         "tracegroupgap": 0
        },
        "margin": {
         "t": 60
        },
        "template": {
         "data": {
          "bar": [
           {
            "error_x": {
             "color": "#2a3f5f"
            },
            "error_y": {
             "color": "#2a3f5f"
            },
            "marker": {
             "line": {
              "color": "#E5ECF6",
              "width": 0.5
             },
             "pattern": {
              "fillmode": "overlay",
              "size": 10,
              "solidity": 0.2
             }
            },
            "type": "bar"
           }
          ],
          "barpolar": [
           {
            "marker": {
             "line": {
              "color": "#E5ECF6",
              "width": 0.5
             },
             "pattern": {
              "fillmode": "overlay",
              "size": 10,
              "solidity": 0.2
             }
            },
            "type": "barpolar"
           }
          ],
          "carpet": [
           {
            "aaxis": {
             "endlinecolor": "#2a3f5f",
             "gridcolor": "white",
             "linecolor": "white",
             "minorgridcolor": "white",
             "startlinecolor": "#2a3f5f"
            },
            "baxis": {
             "endlinecolor": "#2a3f5f",
             "gridcolor": "white",
             "linecolor": "white",
             "minorgridcolor": "white",
             "startlinecolor": "#2a3f5f"
            },
            "type": "carpet"
           }
          ],
          "choropleth": [
           {
            "colorbar": {
             "outlinewidth": 0,
             "ticks": ""
            },
            "type": "choropleth"
           }
          ],
          "contour": [
           {
            "colorbar": {
             "outlinewidth": 0,
             "ticks": ""
            },
            "colorscale": [
             [
              0,
              "#0d0887"
             ],
             [
              0.1111111111111111,
              "#46039f"
             ],
             [
              0.2222222222222222,
              "#7201a8"
             ],
             [
              0.3333333333333333,
              "#9c179e"
             ],
             [
              0.4444444444444444,
              "#bd3786"
             ],
             [
              0.5555555555555556,
              "#d8576b"
             ],
             [
              0.6666666666666666,
              "#ed7953"
             ],
             [
              0.7777777777777778,
              "#fb9f3a"
             ],
             [
              0.8888888888888888,
              "#fdca26"
             ],
             [
              1,
              "#f0f921"
             ]
            ],
            "type": "contour"
           }
          ],
          "contourcarpet": [
           {
            "colorbar": {
             "outlinewidth": 0,
             "ticks": ""
            },
            "type": "contourcarpet"
           }
          ],
          "heatmap": [
           {
            "colorbar": {
             "outlinewidth": 0,
             "ticks": ""
            },
            "colorscale": [
             [
              0,
              "#0d0887"
             ],
             [
              0.1111111111111111,
              "#46039f"
             ],
             [
              0.2222222222222222,
              "#7201a8"
             ],
             [
              0.3333333333333333,
              "#9c179e"
             ],
             [
              0.4444444444444444,
              "#bd3786"
             ],
             [
              0.5555555555555556,
              "#d8576b"
             ],
             [
              0.6666666666666666,
              "#ed7953"
             ],
             [
              0.7777777777777778,
              "#fb9f3a"
             ],
             [
              0.8888888888888888,
              "#fdca26"
             ],
             [
              1,
              "#f0f921"
             ]
            ],
            "type": "heatmap"
           }
          ],
          "heatmapgl": [
           {
            "colorbar": {
             "outlinewidth": 0,
             "ticks": ""
            },
            "colorscale": [
             [
              0,
              "#0d0887"
             ],
             [
              0.1111111111111111,
              "#46039f"
             ],
             [
              0.2222222222222222,
              "#7201a8"
             ],
             [
              0.3333333333333333,
              "#9c179e"
             ],
             [
              0.4444444444444444,
              "#bd3786"
             ],
             [
              0.5555555555555556,
              "#d8576b"
             ],
             [
              0.6666666666666666,
              "#ed7953"
             ],
             [
              0.7777777777777778,
              "#fb9f3a"
             ],
             [
              0.8888888888888888,
              "#fdca26"
             ],
             [
              1,
              "#f0f921"
             ]
            ],
            "type": "heatmapgl"
           }
          ],
          "histogram": [
           {
            "marker": {
             "pattern": {
              "fillmode": "overlay",
              "size": 10,
              "solidity": 0.2
             }
            },
            "type": "histogram"
           }
          ],
          "histogram2d": [
           {
            "colorbar": {
             "outlinewidth": 0,
             "ticks": ""
            },
            "colorscale": [
             [
              0,
              "#0d0887"
             ],
             [
              0.1111111111111111,
              "#46039f"
             ],
             [
              0.2222222222222222,
              "#7201a8"
             ],
             [
              0.3333333333333333,
              "#9c179e"
             ],
             [
              0.4444444444444444,
              "#bd3786"
             ],
             [
              0.5555555555555556,
              "#d8576b"
             ],
             [
              0.6666666666666666,
              "#ed7953"
             ],
             [
              0.7777777777777778,
              "#fb9f3a"
             ],
             [
              0.8888888888888888,
              "#fdca26"
             ],
             [
              1,
              "#f0f921"
             ]
            ],
            "type": "histogram2d"
           }
          ],
          "histogram2dcontour": [
           {
            "colorbar": {
             "outlinewidth": 0,
             "ticks": ""
            },
            "colorscale": [
             [
              0,
              "#0d0887"
             ],
             [
              0.1111111111111111,
              "#46039f"
             ],
             [
              0.2222222222222222,
              "#7201a8"
             ],
             [
              0.3333333333333333,
              "#9c179e"
             ],
             [
              0.4444444444444444,
              "#bd3786"
             ],
             [
              0.5555555555555556,
              "#d8576b"
             ],
             [
              0.6666666666666666,
              "#ed7953"
             ],
             [
              0.7777777777777778,
              "#fb9f3a"
             ],
             [
              0.8888888888888888,
              "#fdca26"
             ],
             [
              1,
              "#f0f921"
             ]
            ],
            "type": "histogram2dcontour"
           }
          ],
          "mesh3d": [
           {
            "colorbar": {
             "outlinewidth": 0,
             "ticks": ""
            },
            "type": "mesh3d"
           }
          ],
          "parcoords": [
           {
            "line": {
             "colorbar": {
              "outlinewidth": 0,
              "ticks": ""
             }
            },
            "type": "parcoords"
           }
          ],
          "pie": [
           {
            "automargin": true,
            "type": "pie"
           }
          ],
          "scatter": [
           {
            "fillpattern": {
             "fillmode": "overlay",
             "size": 10,
             "solidity": 0.2
            },
            "type": "scatter"
           }
          ],
          "scatter3d": [
           {
            "line": {
             "colorbar": {
              "outlinewidth": 0,
              "ticks": ""
             }
            },
            "marker": {
             "colorbar": {
              "outlinewidth": 0,
              "ticks": ""
             }
            },
            "type": "scatter3d"
           }
          ],
          "scattercarpet": [
           {
            "marker": {
             "colorbar": {
              "outlinewidth": 0,
              "ticks": ""
             }
            },
            "type": "scattercarpet"
           }
          ],
          "scattergeo": [
           {
            "marker": {
             "colorbar": {
              "outlinewidth": 0,
              "ticks": ""
             }
            },
            "type": "scattergeo"
           }
          ],
          "scattergl": [
           {
            "marker": {
             "colorbar": {
              "outlinewidth": 0,
              "ticks": ""
             }
            },
            "type": "scattergl"
           }
          ],
          "scattermapbox": [
           {
            "marker": {
             "colorbar": {
              "outlinewidth": 0,
              "ticks": ""
             }
            },
            "type": "scattermapbox"
           }
          ],
          "scatterpolar": [
           {
            "marker": {
             "colorbar": {
              "outlinewidth": 0,
              "ticks": ""
             }
            },
            "type": "scatterpolar"
           }
          ],
          "scatterpolargl": [
           {
            "marker": {
             "colorbar": {
              "outlinewidth": 0,
              "ticks": ""
             }
            },
            "type": "scatterpolargl"
           }
          ],
          "scatterternary": [
           {
            "marker": {
             "colorbar": {
              "outlinewidth": 0,
              "ticks": ""
             }
            },
            "type": "scatterternary"
           }
          ],
          "surface": [
           {
            "colorbar": {
             "outlinewidth": 0,
             "ticks": ""
            },
            "colorscale": [
             [
              0,
              "#0d0887"
             ],
             [
              0.1111111111111111,
              "#46039f"
             ],
             [
              0.2222222222222222,
              "#7201a8"
             ],
             [
              0.3333333333333333,
              "#9c179e"
             ],
             [
              0.4444444444444444,
              "#bd3786"
             ],
             [
              0.5555555555555556,
              "#d8576b"
             ],
             [
              0.6666666666666666,
              "#ed7953"
             ],
             [
              0.7777777777777778,
              "#fb9f3a"
             ],
             [
              0.8888888888888888,
              "#fdca26"
             ],
             [
              1,
              "#f0f921"
             ]
            ],
            "type": "surface"
           }
          ],
          "table": [
           {
            "cells": {
             "fill": {
              "color": "#EBF0F8"
             },
             "line": {
              "color": "white"
             }
            },
            "header": {
             "fill": {
              "color": "#C8D4E3"
             },
             "line": {
              "color": "white"
             }
            },
            "type": "table"
           }
          ]
         },
         "layout": {
          "annotationdefaults": {
           "arrowcolor": "#2a3f5f",
           "arrowhead": 0,
           "arrowwidth": 1
          },
          "autotypenumbers": "strict",
          "coloraxis": {
           "colorbar": {
            "outlinewidth": 0,
            "ticks": ""
           }
          },
          "colorscale": {
           "diverging": [
            [
             0,
             "#8e0152"
            ],
            [
             0.1,
             "#c51b7d"
            ],
            [
             0.2,
             "#de77ae"
            ],
            [
             0.3,
             "#f1b6da"
            ],
            [
             0.4,
             "#fde0ef"
            ],
            [
             0.5,
             "#f7f7f7"
            ],
            [
             0.6,
             "#e6f5d0"
            ],
            [
             0.7,
             "#b8e186"
            ],
            [
             0.8,
             "#7fbc41"
            ],
            [
             0.9,
             "#4d9221"
            ],
            [
             1,
             "#276419"
            ]
           ],
           "sequential": [
            [
             0,
             "#0d0887"
            ],
            [
             0.1111111111111111,
             "#46039f"
            ],
            [
             0.2222222222222222,
             "#7201a8"
            ],
            [
             0.3333333333333333,
             "#9c179e"
            ],
            [
             0.4444444444444444,
             "#bd3786"
            ],
            [
             0.5555555555555556,
             "#d8576b"
            ],
            [
             0.6666666666666666,
             "#ed7953"
            ],
            [
             0.7777777777777778,
             "#fb9f3a"
            ],
            [
             0.8888888888888888,
             "#fdca26"
            ],
            [
             1,
             "#f0f921"
            ]
           ],
           "sequentialminus": [
            [
             0,
             "#0d0887"
            ],
            [
             0.1111111111111111,
             "#46039f"
            ],
            [
             0.2222222222222222,
             "#7201a8"
            ],
            [
             0.3333333333333333,
             "#9c179e"
            ],
            [
             0.4444444444444444,
             "#bd3786"
            ],
            [
             0.5555555555555556,
             "#d8576b"
            ],
            [
             0.6666666666666666,
             "#ed7953"
            ],
            [
             0.7777777777777778,
             "#fb9f3a"
            ],
            [
             0.8888888888888888,
             "#fdca26"
            ],
            [
             1,
             "#f0f921"
            ]
           ]
          },
          "colorway": [
           "#636efa",
           "#EF553B",
           "#00cc96",
           "#ab63fa",
           "#FFA15A",
           "#19d3f3",
           "#FF6692",
           "#B6E880",
           "#FF97FF",
           "#FECB52"
          ],
          "font": {
           "color": "#2a3f5f"
          },
          "geo": {
           "bgcolor": "white",
           "lakecolor": "white",
           "landcolor": "#E5ECF6",
           "showlakes": true,
           "showland": true,
           "subunitcolor": "white"
          },
          "hoverlabel": {
           "align": "left"
          },
          "hovermode": "closest",
          "mapbox": {
           "style": "light"
          },
          "paper_bgcolor": "white",
          "plot_bgcolor": "#E5ECF6",
          "polar": {
           "angularaxis": {
            "gridcolor": "white",
            "linecolor": "white",
            "ticks": ""
           },
           "bgcolor": "#E5ECF6",
           "radialaxis": {
            "gridcolor": "white",
            "linecolor": "white",
            "ticks": ""
           }
          },
          "scene": {
           "xaxis": {
            "backgroundcolor": "#E5ECF6",
            "gridcolor": "white",
            "gridwidth": 2,
            "linecolor": "white",
            "showbackground": true,
            "ticks": "",
            "zerolinecolor": "white"
           },
           "yaxis": {
            "backgroundcolor": "#E5ECF6",
            "gridcolor": "white",
            "gridwidth": 2,
            "linecolor": "white",
            "showbackground": true,
            "ticks": "",
            "zerolinecolor": "white"
           },
           "zaxis": {
            "backgroundcolor": "#E5ECF6",
            "gridcolor": "white",
            "gridwidth": 2,
            "linecolor": "white",
            "showbackground": true,
            "ticks": "",
            "zerolinecolor": "white"
           }
          },
          "shapedefaults": {
           "line": {
            "color": "#2a3f5f"
           }
          },
          "ternary": {
           "aaxis": {
            "gridcolor": "white",
            "linecolor": "white",
            "ticks": ""
           },
           "baxis": {
            "gridcolor": "white",
            "linecolor": "white",
            "ticks": ""
           },
           "bgcolor": "#E5ECF6",
           "caxis": {
            "gridcolor": "white",
            "linecolor": "white",
            "ticks": ""
           }
          },
          "title": {
           "x": 0.05
          },
          "xaxis": {
           "automargin": true,
           "gridcolor": "white",
           "linecolor": "white",
           "ticks": "",
           "title": {
            "standoff": 15
           },
           "zerolinecolor": "white",
           "zerolinewidth": 2
          },
          "yaxis": {
           "automargin": true,
           "gridcolor": "white",
           "linecolor": "white",
           "ticks": "",
           "title": {
            "standoff": 15
           },
           "zerolinecolor": "white",
           "zerolinewidth": 2
          }
         }
        },
        "xaxis": {
         "anchor": "y",
         "domain": [
          0,
          1
         ],
         "title": {
          "text": "Count"
         }
        },
        "yaxis": {
         "anchor": "x",
         "domain": [
          0,
          1
         ],
         "title": {
          "text": "Word"
         }
        }
       }
      }
     },
     "metadata": {},
     "output_type": "display_data"
    }
   ],
   "source": [
    "bar_plot(data=MostFrequentWordDF)"
   ]
  },
  {
   "cell_type": "markdown",
   "metadata": {},
   "source": [
    "# Number Of Words "
   ]
  },
  {
   "cell_type": "code",
   "execution_count": 20,
   "metadata": {},
   "outputs": [
    {
     "data": {
      "text/plain": [
       "569184"
      ]
     },
     "execution_count": 20,
     "metadata": {},
     "output_type": "execute_result"
    }
   ],
   "source": [
    "Corpus[\"Number of Words\"] = Corpus[\"Normalized_Review\"].apply(lambda n:len(word_tokenize(n)))\n",
    "Corpus.drop(Corpus[ Corpus[\"Number of Words\"] == 0].index, inplace = True)\n",
    "Corpus[\"Number of Words\"].sum()"
   ]
  },
  {
   "cell_type": "markdown",
   "metadata": {},
   "source": [
    "# Number Of Charachters "
   ]
  },
  {
   "cell_type": "code",
   "execution_count": 21,
   "metadata": {},
   "outputs": [
    {
     "data": {
      "text/plain": [
       "3543446"
      ]
     },
     "execution_count": 21,
     "metadata": {},
     "output_type": "execute_result"
    }
   ],
   "source": [
    "Corpus[\"Number of Charachters\"] = Corpus[\"Normalized_Review\"].str.len()\n",
    "Corpus[\"Number of Charachters\"].sum()"
   ]
  },
  {
   "cell_type": "markdown",
   "metadata": {},
   "source": [
    "# Average Number Of Words "
   ]
  },
  {
   "cell_type": "code",
   "execution_count": 22,
   "metadata": {},
   "outputs": [
    {
     "data": {
      "text/plain": [
       "35"
      ]
     },
     "execution_count": 22,
     "metadata": {},
     "output_type": "execute_result"
    }
   ],
   "source": [
    "AverageNaumberOfWords = int(np.round((Corpus[\"Number of Words\"].mean())))\n",
    "AverageNaumberOfWords"
   ]
  },
  {
   "cell_type": "markdown",
   "metadata": {},
   "source": [
    "# Average Number Of Charachters "
   ]
  },
  {
   "cell_type": "code",
   "execution_count": 23,
   "metadata": {},
   "outputs": [
    {
     "data": {
      "text/plain": [
       "216"
      ]
     },
     "execution_count": 23,
     "metadata": {},
     "output_type": "execute_result"
    }
   ],
   "source": [
    "AverageNumberOfCharachters = int(np.round(Corpus[\"Number of Charachters\"].mean()))\n",
    "AverageNumberOfCharachters"
   ]
  },
  {
   "cell_type": "markdown",
   "metadata": {},
   "source": [
    "# Maximum Number Of Word"
   ]
  },
  {
   "cell_type": "code",
   "execution_count": 24,
   "metadata": {},
   "outputs": [
    {
     "data": {
      "text/plain": [
       "1853"
      ]
     },
     "execution_count": 24,
     "metadata": {},
     "output_type": "execute_result"
    }
   ],
   "source": [
    "MaximumNaumberOfWords = Corpus[\"Number of Words\"].max()\n",
    "MaximumNaumberOfWords"
   ]
  },
  {
   "cell_type": "markdown",
   "metadata": {},
   "source": [
    "# Maximum Number Of Charachters "
   ]
  },
  {
   "cell_type": "code",
   "execution_count": 25,
   "metadata": {},
   "outputs": [
    {
     "data": {
      "text/plain": [
       "11593"
      ]
     },
     "execution_count": 25,
     "metadata": {},
     "output_type": "execute_result"
    }
   ],
   "source": [
    "MaximumNumberOfCharachters = Corpus['Number of Charachters'].max() \n",
    "MaximumNumberOfCharachters"
   ]
  },
  {
   "cell_type": "markdown",
   "metadata": {},
   "source": [
    "# Minimum Number Of Words"
   ]
  },
  {
   "cell_type": "code",
   "execution_count": 26,
   "metadata": {},
   "outputs": [
    {
     "data": {
      "text/plain": [
       "1"
      ]
     },
     "execution_count": 26,
     "metadata": {},
     "output_type": "execute_result"
    }
   ],
   "source": [
    "MimimumNaumberOfWords = Corpus[\"Number of Words\"].min()\n",
    "MimimumNaumberOfWords"
   ]
  },
  {
   "cell_type": "markdown",
   "metadata": {},
   "source": [
    "# Minimum Number Of Charachters "
   ]
  },
  {
   "cell_type": "code",
   "execution_count": 27,
   "metadata": {},
   "outputs": [
    {
     "data": {
      "text/plain": [
       "3"
      ]
     },
     "execution_count": 27,
     "metadata": {},
     "output_type": "execute_result"
    }
   ],
   "source": [
    "MinimumNumberOfCharachters = Corpus['Number of Charachters'].min() \n",
    "MinimumNumberOfCharachters"
   ]
  },
  {
   "cell_type": "markdown",
   "metadata": {},
   "source": [
    "# Split The Dataset Into X And y"
   ]
  },
  {
   "cell_type": "code",
   "execution_count": 28,
   "metadata": {},
   "outputs": [],
   "source": [
    "X, y = Corpus['Normalized_Review'], Corpus['Sentiment']\n",
    "le = LabelEncoder()\n",
    "y =le.fit_transform(y)"
   ]
  },
  {
   "cell_type": "markdown",
   "metadata": {},
   "source": [
    "# Split The Dataset Into Training And Testing"
   ]
  },
  {
   "cell_type": "code",
   "execution_count": 29,
   "metadata": {},
   "outputs": [],
   "source": [
    "X_train, X_test, y_train, y_test = train_test_split(X, y, test_size=0.3, random_state=44)"
   ]
  },
  {
   "cell_type": "markdown",
   "metadata": {},
   "source": [
    "# CountVectorizer"
   ]
  },
  {
   "cell_type": "code",
   "execution_count": 30,
   "metadata": {},
   "outputs": [],
   "source": [
    "CountVectorizer_ = CountVectorizer()\n",
    "X_train_CV_ = CountVectorizer_.fit_transform(X_train)\n",
    "X_test_CV_ = CountVectorizer_.transform(X_test)"
   ]
  },
  {
   "cell_type": "code",
   "execution_count": 31,
   "metadata": {},
   "outputs": [
    {
     "data": {
      "text/plain": [
       "{'سيناريو': 30772,\n",
       " 'فيلم': 35960,\n",
       " 'عربي': 33000,\n",
       " 'ساذج': 29583,\n",
       " 'فشل': 35146,\n",
       " 'روايه': 29154,\n",
       " 'مثيره': 44379,\n",
       " 'استمتعت': 2533,\n",
       " 'جيد': 26175,\n",
       " 'قراءه': 36337,\n",
       " 'الروايه': 8265,\n",
       " 'اكره': 4350,\n",
       " 'البطل': 5895,\n",
       " 'جاء': 25442,\n",
       " 'التقييم': 6584,\n",
       " 'درااما': 27927,\n",
       " 'ملهاش': 46924,\n",
       " 'اي': 15373,\n",
       " 'لازمه': 38398,\n",
       " 'تعجبني': 23588,\n",
       " 'ابدا': 141,\n",
       " 'كتبت': 37242,\n",
       " 'طريقه': 32284,\n",
       " 'الخواطر': 7732,\n",
       " 'غازي': 33689,\n",
       " 'القصيبي': 10712,\n",
       " 'اجتر': 790,\n",
       " 'طوال': 32387,\n",
       " 'القصه': 10707,\n",
       " 'مليئه': 46950,\n",
       " 'بالمعاناه': 17159,\n",
       " 'والماساه': 52883,\n",
       " 'يوجد': 63935,\n",
       " 'احداث': 1084,\n",
       " 'تشد': 23064,\n",
       " 'انتباه': 14482,\n",
       " 'القارئ': 10538,\n",
       " 'مجرد': 44459,\n",
       " 'مذكرات': 45036,\n",
       " 'لمصاب': 42171,\n",
       " 'بالزهايمر': 16623,\n",
       " 'اسوا': 2803,\n",
       " 'قرات': 36356,\n",
       " 'لغازي': 40318,\n",
       " 'الاسف': 4934,\n",
       " 'حاولت': 26331,\n",
       " 'اتحشي': 365,\n",
       " 'الكتاب': 10896,\n",
       " 'لشعوري': 40046,\n",
       " 'بسيط': 18907,\n",
       " 'اضطررت': 3185,\n",
       " 'لقراءته': 40489,\n",
       " 'بناء': 20167,\n",
       " 'طلب': 32345,\n",
       " 'البوك': 6003,\n",
       " 'كلاب': 37666,\n",
       " 'اللي': 11234,\n",
       " 'مشتركه': 45690,\n",
       " 'كتاب': 37209,\n",
       " 'خفيف': 27593,\n",
       " 'للعامه': 41461,\n",
       " 'يرصد': 61882,\n",
       " 'مظاهر': 45975,\n",
       " 'المجتمع': 11742,\n",
       " 'السعودي': 8597,\n",
       " 'افكار': 3949,\n",
       " 'خاطئه': 27256,\n",
       " 'بالقليله': 16993,\n",
       " 'الردود': 8123,\n",
       " 'ثغرات': 25340,\n",
       " 'وبحاجه': 53902,\n",
       " 'توضيح': 25192,\n",
       " 'كنت': 37865,\n",
       " 'متلهفه': 44222,\n",
       " 'جدا': 25618,\n",
       " 'لقراءه': 40492,\n",
       " 'السيره': 8794,\n",
       " 'الذاتيه': 7956,\n",
       " 'خاصه': 27246,\n",
       " 'العوده': 9993,\n",
       " 'كتب': 37239,\n",
       " 'نالت': 47931,\n",
       " 'استحساني': 2258,\n",
       " 'الدافع': 7781,\n",
       " 'رغبتي': 28967,\n",
       " 'قراءته': 36333,\n",
       " 'حسنا': 26663,\n",
       " 'اولا': 15332,\n",
       " 'محض': 44699,\n",
       " 'فضول': 35225,\n",
       " 'شخصيه': 31029,\n",
       " 'والبيئه': 51536,\n",
       " 'نشا': 48512,\n",
       " 'ببساطه': 17519,\n",
       " 'اردت': 1940,\n",
       " 'اعرف': 3535,\n",
       " 'ثانيا': 25316,\n",
       " 'اعترف': 3421,\n",
       " 'شدني': 31041,\n",
       " 'طبيعه': 32225,\n",
       " 'الكتابه': 10902,\n",
       " 'الادبيه': 4686,\n",
       " 'امتاز': 14223,\n",
       " 'كتابه': 37226,\n",
       " 'سقف': 30168,\n",
       " 'توقعاتي': 25227,\n",
       " 'مرتفع': 45144,\n",
       " 'حقا': 26811,\n",
       " 'خيب': 27780,\n",
       " 'ظنوني': 32502,\n",
       " 'الحد': 7263,\n",
       " 'استسغ': 2339,\n",
       " 'متابعه': 43831,\n",
       " 'بقيه': 19628,\n",
       " 'يحتوي': 61358,\n",
       " 'صفحه': 31778,\n",
       " 'تقريبا': 24176,\n",
       " 'وجدتني': 55337,\n",
       " 'اغوص': 3786,\n",
       " 'اعماق': 3634,\n",
       " 'غني': 33940,\n",
       " 'واخرج': 50288,\n",
       " 'بالكثير': 17015,\n",
       " 'التساؤلات': 6311,\n",
       " 'يكتب': 63280,\n",
       " 'بصراحه': 19043,\n",
       " 'دائما': 27813,\n",
       " 'الكثير': 10926,\n",
       " 'الغموض': 10137,\n",
       " 'يلتف': 63385,\n",
       " 'نصوصه': 48614,\n",
       " 'الجانب': 6928,\n",
       " 'الجيد': 7159,\n",
       " 'يفضي': 63026,\n",
       " 'اثاره': 692,\n",
       " 'وتشويقه': 54695,\n",
       " 'السيئ': 8771,\n",
       " 'يجعلك': 61229,\n",
       " 'تشعر': 23098,\n",
       " 'قراءتك': 36331,\n",
       " 'مضيعه': 45919,\n",
       " 'للوقت': 41989,\n",
       " 'المبالغه': 11372,\n",
       " 'والاكثار': 51359,\n",
       " 'التشبيهات': 6348,\n",
       " 'البلاغيه': 5940,\n",
       " 'زادت': 29262,\n",
       " 'الطين': 9504,\n",
       " 'بله': 19850,\n",
       " 'استحسن': 2259,\n",
       " 'بالمره': 17116,\n",
       " 'اقدر': 4119,\n",
       " 'الجهود': 7134,\n",
       " 'المبذوله': 11397,\n",
       " 'كتابته': 37221,\n",
       " 'والدقه': 52075,\n",
       " 'وصف': 56800,\n",
       " 'المكان': 12920,\n",
       " 'وتذكر': 54508,\n",
       " 'الاسماء': 4962,\n",
       " 'يعجبني': 62746,\n",
       " 'الاقل': 5248,\n",
       " 'وجهه': 55453,\n",
       " 'نظري': 48702,\n",
       " 'وذائقتي': 55997,\n",
       " 'تعرفت': 23627,\n",
       " 'اسماء': 2749,\n",
       " 'اكن': 4389,\n",
       " 'اسمع': 2768,\n",
       " 'لصحابه': 40090,\n",
       " 'رسول': 28887,\n",
       " 'الله': 11212,\n",
       " 'صلي': 31817,\n",
       " 'وسلم': 56477,\n",
       " 'ماخذين': 43251,\n",
       " 'الكاتب': 10836,\n",
       " 'يغرق': 62914,\n",
       " 'استخدام': 2279,\n",
       " 'الفاظ': 10214,\n",
       " 'صعبه': 31730,\n",
       " 'الوصف': 14022,\n",
       " 'يؤثر': 60385,\n",
       " 'احيانا': 1278,\n",
       " 'كثيره': 37318,\n",
       " 'المضمون': 12532,\n",
       " 'لدرجه': 39741,\n",
       " 'القصص': 10703,\n",
       " 'ممله': 47039,\n",
       " 'مبالغته': 43710,\n",
       " 'الثاني': 6824,\n",
       " 'لجوء': 39546,\n",
       " 'لاستخدام': 38412,\n",
       " 'اسلوب': 2735,\n",
       " 'التقويم': 6574,\n",
       " 'افعال': 3914,\n",
       " 'الصحابه': 9149,\n",
       " 'وخصوصا': 55796,\n",
       " 'موقفه': 47670,\n",
       " 'سيدنا': 30626,\n",
       " 'معاويه': 46051,\n",
       " 'ذكر': 28394,\n",
       " 'كلاما': 37678,\n",
       " 'يليق': 63460,\n",
       " 'بسيدنا': 18902,\n",
       " 'الفتنه': 10250,\n",
       " 'حدثت': 26461,\n",
       " 'صحابي': 31579,\n",
       " 'جليل': 25930,\n",
       " 'نساوي': 48407,\n",
       " 'بجواره': 18132,\n",
       " 'النبي': 13508,\n",
       " 'انفقنا': 14907,\n",
       " 'ذهبا': 28460,\n",
       " 'بلغنا': 19827,\n",
       " 'مد': 44921,\n",
       " 'احدهم': 1113,\n",
       " 'نصيفه': 48627,\n",
       " 'يتهم': 61101,\n",
       " 'رضي': 28939,\n",
       " 'الفئه': 10168,\n",
       " 'الباغيه': 5740,\n",
       " 'اهل': 15110,\n",
       " 'الدنيا': 7893,\n",
       " 'افضل': 3905,\n",
       " 'الكتب': 10908,\n",
       " 'حوار': 27069,\n",
       " 'هاديء': 49322,\n",
       " 'مصطفي': 45833,\n",
       " 'محمود': 44753,\n",
       " 'وصديق': 56773,\n",
       " 'ملحد': 46845,\n",
       " 'يفند': 63052,\n",
       " 'شكوك': 31299,\n",
       " 'واسئله': 50459,\n",
       " 'المتشككين': 11544,\n",
       " 'والظالمين': 52460,\n",
       " 'لانفسهم': 38762,\n",
       " 'الملحدين': 12998,\n",
       " 'يرد': 61860,\n",
       " 'بادب': 15678,\n",
       " 'جم': 25933,\n",
       " 'وعقل': 57242,\n",
       " 'راجح': 28559,\n",
       " 'وقلب': 57718,\n",
       " 'عطوف': 33212,\n",
       " 'عساه': 33098,\n",
       " 'يرده': 61867,\n",
       " 'الحق': 7372,\n",
       " 'ويدله': 59925,\n",
       " 'الخير': 7750,\n",
       " 'ينقل': 63801,\n",
       " 'اخر': 1462,\n",
       " 'صفحات': 31769,\n",
       " 'تهدي': 25032,\n",
       " 'احببت': 959,\n",
       " 'حاول': 26330,\n",
       " 'الصديق': 9195,\n",
       " 'بماضيه': 19885,\n",
       " 'اشد': 2918,\n",
       " 'الحادا': 7186,\n",
       " 'فاجابه': 34063,\n",
       " 'تواضع': 25102,\n",
       " 'يغير': 62957,\n",
       " 'يتغير': 60967,\n",
       " 'وينهي': 60348,\n",
       " 'محاولاته': 44555,\n",
       " 'بسؤاله': 18791,\n",
       " 'الحال': 7221,\n",
       " 'اخطات': 1509,\n",
       " 'حساباتك': 26627,\n",
       " 'وانتهيت': 53529,\n",
       " 'عمر': 33429,\n",
       " 'موت': 47534,\n",
       " 'وتراب': 54524,\n",
       " 'شيء': 31421,\n",
       " 'فيجيبه': 35829,\n",
       " 'اكون': 4397,\n",
       " 'خسرت': 27458,\n",
       " 'شيئا': 31423,\n",
       " 'عشت': 33119,\n",
       " 'حياتي': 27128,\n",
       " 'اعرض': 3534,\n",
       " 'واسعد': 50603,\n",
       " 'واحفل': 50217,\n",
       " 'الحياه': 7488,\n",
       " 'تخسرون': 22163,\n",
       " 'اصابت': 3001,\n",
       " 'حساباتي': 26630,\n",
       " 'وصدقت': 56763,\n",
       " 'لصادقه': 40082,\n",
       " 'مفاجئه': 46335,\n",
       " 'هائله': 49278,\n",
       " 'صاحبي': 31487,\n",
       " 'رحمه': 28803,\n",
       " 'دكتور': 28101,\n",
       " 'واسكن': 50615,\n",
       " 'فسيح': 35124,\n",
       " 'جناته': 26005,\n",
       " 'مرشحه': 45181,\n",
       " 'جائزه': 25456,\n",
       " 'فيه': 35993,\n",
       " 'الامتاع': 5383,\n",
       " 'الطيب': 9495,\n",
       " 'صالح': 31526,\n",
       " 'تجذبني': 21720,\n",
       " 'الاحداث': 4595,\n",
       " 'والمحور': 52969,\n",
       " 'شكل': 31287,\n",
       " 'اساسه': 2153,\n",
       " 'سحر': 29991,\n",
       " 'الكلمات': 10992,\n",
       " 'وبساطه': 53982,\n",
       " 'الاسلوب': 4959,\n",
       " 'عنوان': 33539,\n",
       " 'مقطفات': 46608,\n",
       " 'اعجبتني': 3486,\n",
       " 'ولد': 58056,\n",
       " 'فراخا': 34931,\n",
       " 'تطير': 23466,\n",
       " 'بالسرور': 16651,\n",
       " 'الشر': 8920,\n",
       " 'انبت': 14452,\n",
       " 'شجرا': 30980,\n",
       " 'اشواكه': 2987,\n",
       " 'الحسره': 7337,\n",
       " 'وثمره': 55283,\n",
       " 'الندم': 13544,\n",
       " 'فرحم': 34976,\n",
       " 'امرءا': 14290,\n",
       " 'اغضي': 3746,\n",
       " 'الاخطاء': 4659,\n",
       " 'واستمتع': 50562,\n",
       " 'بالظاهر': 16802,\n",
       " 'ساحيا': 29551,\n",
       " 'اناس': 14435,\n",
       " 'قليلين': 36674,\n",
       " 'احب': 950,\n",
       " 'ابقي': 210,\n",
       " 'اطول': 3302,\n",
       " 'ولان': 57998,\n",
       " 'واجبات': 50087,\n",
       " 'اؤديها': 9,\n",
       " 'موفق': 47661,\n",
       " 'ممتع': 46986,\n",
       " 'مغرقه': 46292,\n",
       " 'السوداويه': 8748,\n",
       " 'والكابه': 52789,\n",
       " 'تمنيت': 24689,\n",
       " 'يميزها': 63577,\n",
       " 'لغه': 40352,\n",
       " 'بهاء': 20357,\n",
       " 'البسيطه': 5868,\n",
       " 'السلسه': 8648,\n",
       " 'حلوه': 26959,\n",
       " 'جداا': 25619,\n",
       " 'عجبتني': 32884,\n",
       " 'النهايه': 13719,\n",
       " 'اكتر': 4290,\n",
       " 'الفيل': 10498,\n",
       " 'الازرق': 4789,\n",
       " 'الشخصيه': 8909,\n",
       " 'الرئيسيه': 8008,\n",
       " 'للقصه': 41625,\n",
       " 'تحولت': 22064,\n",
       " 'لشخص': 40014,\n",
       " 'الحبكه': 7239,\n",
       " 'رائعه': 28533,\n",
       " 'احمد': 1257,\n",
       " 'مراد': 45077,\n",
       " 'ابدع': 156,\n",
       " 'السرد': 8564,\n",
       " 'والتفاصيل': 51706,\n",
       " 'ليه': 42962,\n",
       " 'التحفظ': 6174,\n",
       " 'المبالغات': 11371,\n",
       " 'المشاهد': 12395,\n",
       " 'الالفاظ': 5330,\n",
       " 'المجمل': 11769,\n",
       " 'تستحق': 22781,\n",
       " 'نجوم': 48188,\n",
       " 'التشويق': 6368,\n",
       " 'لمحبي': 42080,\n",
       " 'التنميه': 6718,\n",
       " 'البشريه': 5875,\n",
       " 'ومقتنعيها': 58923,\n",
       " 'يبان': 60589,\n",
       " 'جميل': 25995,\n",
       " 'بالنسبه': 17245,\n",
       " 'ليا': 42639,\n",
       " 'ماحبش': 43224,\n",
       " 'اظلمه': 3318,\n",
       " 'لاني': 38786,\n",
       " 'مش': 45636,\n",
       " 'محبي': 44600,\n",
       " 'النوع': 13741,\n",
       " 'حساه': 26641,\n",
       " 'عباره': 32786,\n",
       " 'كلام': 37677,\n",
       " 'ورق': 56174,\n",
       " 'نصايح': 48570,\n",
       " 'مثاليه': 44352,\n",
       " 'يعني': 62858,\n",
       " 'مبيعيشناش': 43820,\n",
       " 'ارض': 1976,\n",
       " 'الواقع': 13918,\n",
       " 'نفسيه': 48849,\n",
       " 'الانسان': 5524,\n",
       " 'تقدر': 24111,\n",
       " 'تعمل': 23743,\n",
       " 'ده': 28198,\n",
       " 'الكلام': 10986,\n",
       " 'اللو': 11221,\n",
       " 'اوي': 15369,\n",
       " 'وجميل': 55423,\n",
       " 'وتحسه': 54416,\n",
       " 'مقنع': 46626,\n",
       " 'رائيي': 28542,\n",
       " 'اوائل': 15151,\n",
       " 'قراتها': 36363,\n",
       " 'الاحترام': 4574,\n",
       " 'والتقدير': 51724,\n",
       " 'محمد': 44744,\n",
       " 'العريفي': 9754,\n",
       " 'رائع': 28528,\n",
       " 'ينتقد': 63645,\n",
       " 'ظواهرنا': 32521,\n",
       " 'الاجتماعيه': 4526,\n",
       " 'السلبيه': 8643,\n",
       " 'بطريقه': 19158,\n",
       " 'فنيه': 35690,\n",
       " 'ومميزه': 59016,\n",
       " 'انصح': 14791,\n",
       " 'الجميع': 7094,\n",
       " 'بقرائته': 19554,\n",
       " 'اقرا': 4138,\n",
       " 'لكاتب': 40571,\n",
       " 'خليجي': 27683,\n",
       " 'اماراتي': 14185,\n",
       " 'وكبدايه': 57812,\n",
       " 'مبشره': 43779,\n",
       " 'المقالات': 12839,\n",
       " 'الطبيعه': 9419,\n",
       " 'السرديه': 8568,\n",
       " 'المتنوعه': 11667,\n",
       " 'تشترك': 23038,\n",
       " 'اعتبارها': 3378,\n",
       " 'دعوه': 28031,\n",
       " 'للتدبر': 40951,\n",
       " 'امور': 14408,\n",
       " 'تتدبر': 21359,\n",
       " 'وافعالك': 50942,\n",
       " 'الناس': 13470,\n",
       " 'الكون': 11052,\n",
       " 'ونواميسه': 59428,\n",
       " 'اكثرها': 4338,\n",
       " 'المشاعر': 12391,\n",
       " 'الانسانيه': 5528,\n",
       " 'الانماط': 5574,\n",
       " 'الحياتيه': 7484,\n",
       " 'العامه': 9616,\n",
       " 'جيده': 26178,\n",
       " 'وممتازه': 59001,\n",
       " 'سيمر': 30761,\n",
       " 'كالبرق': 36979,\n",
       " 'فرط': 35017,\n",
       " 'بساطته': 18802,\n",
       " 'وعدم': 57155,\n",
       " 'جدواه': 25664,\n",
       " 'يعتمد': 62733,\n",
       " 'خلفيه': 27654,\n",
       " 'ومخزونه': 58585,\n",
       " 'الفكري': 10403,\n",
       " 'ممل': 47033,\n",
       " 'لنوع': 42474,\n",
       " 'بالطبع': 16786,\n",
       " 'يقوي': 63255,\n",
       " 'العلاقه': 9888,\n",
       " 'بالله': 17051,\n",
       " 'يسمو': 62259,\n",
       " 'بروح': 18736,\n",
       " 'اسئله': 2140,\n",
       " 'تتبادر': 21282,\n",
       " 'الاذهان': 4725,\n",
       " 'سلس': 30249,\n",
       " 'عميق': 33492,\n",
       " 'رحم': 28798,\n",
       " 'الدكتور': 7865,\n",
       " 'ميزان': 47740,\n",
       " 'حسناته': 26667,\n",
       " 'اخالف': 1297,\n",
       " 'قليلا': 36669,\n",
       " 'الاراء': 4728,\n",
       " 'فالروايه': 34372,\n",
       " 'مجملها': 44491,\n",
       " 'تعكس': 23691,\n",
       " 'الضجه': 9319,\n",
       " 'المثار': 11702,\n",
       " 'احترم': 1024,\n",
       " 'اول': 15330,\n",
       " 'للكاتب': 41649,\n",
       " 'واول': 53711,\n",
       " 'اعلمها': 3625,\n",
       " 'عالاقل': 32669,\n",
       " 'تكتب': 24315,\n",
       " 'مجال': 44396,\n",
       " 'المؤامرات': 11249,\n",
       " 'والتشويق': 51657,\n",
       " 'التاريخي': 6058,\n",
       " 'المستند': 12307,\n",
       " 'شواهد': 31391,\n",
       " 'عابها': 32551,\n",
       " 'يكاد': 63270,\n",
       " 'يخلو': 61629,\n",
       " 'البلاغه': 5938,\n",
       " 'حكايه': 26892,\n",
       " 'تاثر': 20991,\n",
       " 'بدان': 18419,\n",
       " 'براون': 18614,\n",
       " 'الفصول': 10347,\n",
       " 'القصيره': 10716,\n",
       " 'ووضع': 59630,\n",
       " 'الغاز': 10029,\n",
       " 'رقميه': 29031,\n",
       " 'اري': 2061,\n",
       " 'ضروره': 32018,\n",
       " 'اصلا': 3094,\n",
       " 'قصر': 36510,\n",
       " 'سلبي': 30240,\n",
       " 'نمو': 49078,\n",
       " 'الشخصيات': 8904,\n",
       " 'وتفاعل': 54897,\n",
       " 'معاها': 46044,\n",
       " 'نعلم': 48758,\n",
       " 'شئ': 30804,\n",
       " 'كتاريخ': 37236,\n",
       " 'مواقف': 47521,\n",
       " 'وايضا': 53735,\n",
       " 'تفاعل': 23902,\n",
       " 'متناسق': 44251,\n",
       " 'يعرف': 62771,\n",
       " 'القاهره': 10573,\n",
       " 'يصل': 62488,\n",
       " 'فتحكي': 34652,\n",
       " 'سابق': 29516,\n",
       " 'معرفه': 46154,\n",
       " 'ضعف': 32023,\n",
       " 'موضوع': 47628,\n",
       " 'الحلم': 7415,\n",
       " 'والرجل': 52139,\n",
       " 'الجالس': 6914,\n",
       " 'البستان': 5860,\n",
       " 'وينتظر': 60314,\n",
       " 'يكرر': 63302,\n",
       " 'مره': 45221,\n",
       " 'لسان': 39942,\n",
       " 'بطل': 19166,\n",
       " 'اعجبني': 3491,\n",
       " 'التبادل': 6099,\n",
       " 'الحاضر': 7209,\n",
       " 'والمستقبل': 53035,\n",
       " 'والكشف': 52808,\n",
       " 'المتوازي': 11676,\n",
       " 'واعجبني': 50837,\n",
       " 'وجود': 55463,\n",
       " 'تجربه': 21736,\n",
       " 'عربيه': 33004,\n",
       " 'المجال': 11732,\n",
       " 'شاء': 30809,\n",
       " 'عوده': 33592,\n",
       " 'الغائب': 10018,\n",
       " 'علها': 33384,\n",
       " 'باذن': 15700,\n",
       " 'انهيت': 15014,\n",
       " 'قراءتها': 36334,\n",
       " 'طريقي': 32289,\n",
       " 'قنا': 36701,\n",
       " 'ساعات': 29632,\n",
       " 'متواصله': 44298,\n",
       " 'كالعاده': 37056,\n",
       " 'وغائصه': 57348,\n",
       " 'اذكر': 1769,\n",
       " 'الراكب': 8051,\n",
       " 'بجواري': 18134,\n",
       " 'يدي': 61747,\n",
       " 'الدخول': 7802,\n",
       " 'عقيم': 33300,\n",
       " 'علاء': 33314,\n",
       " 'اسوان': 2809,\n",
       " 'واعماله': 50875,\n",
       " 'المكشوفه': 12949,\n",
       " 'نظرت': 48686,\n",
       " 'ود': 55871,\n",
       " 'واعطيته': 50865,\n",
       " 'الوش': 14018,\n",
       " 'الخشب': 7607,\n",
       " 'فتراجع': 34675,\n",
       " 'الفور': 10472,\n",
       " 'نقيم': 48983,\n",
       " 'الارباب': 4733,\n",
       " 'النجمات': 13528,\n",
       " 'تضيء': 23368,\n",
       " 'كلامي': 37688,\n",
       " 'العالمين': 9604,\n",
       " 'ربي': 28721,\n",
       " 'احبك': 987,\n",
       " 'واحب': 50148,\n",
       " 'كلامك': 37682,\n",
       " 'اللهم': 11219,\n",
       " 'زدني': 29314,\n",
       " 'محبه': 44588,\n",
       " 'وتعلقا': 54845,\n",
       " 'وخوفا': 55852,\n",
       " 'وخضوعا': 55799,\n",
       " 'وفقها': 57503,\n",
       " 'بكتابك': 19669,\n",
       " 'وعلما': 57278,\n",
       " 'اله': 13757,\n",
       " 'للعالمين': 41459,\n",
       " 'النصف': 13609,\n",
       " 'تحدث': 21896,\n",
       " 'رحلته': 28792,\n",
       " 'المنتجعات': 13142,\n",
       " 'الهند': 13853,\n",
       " 'ايام': 15380,\n",
       " 'الشقيري': 9014,\n",
       " 'تبهرني': 21257,\n",
       " 'عبرت': 32821,\n",
       " 'المراجعات': 12084,\n",
       " 'اكتشفت': 4309,\n",
       " 'ان': 14424,\n",
       " 'صيتها': 31917,\n",
       " 'وقراها': 57654,\n",
       " 'الاغلبيه': 5164,\n",
       " 'شهره': 31357,\n",
       " 'مسبقه': 45381,\n",
       " 'اثر': 701,\n",
       " 'رايهم': 28679,\n",
       " 'واستحسانهم': 50491,\n",
       " 'شان': 30898,\n",
       " 'امر': 14289,\n",
       " 'توغل': 25202,\n",
       " 'توقعه': 25233,\n",
       " 'يجيء': 61270,\n",
       " 'عاديا': 32596,\n",
       " 'وقعت': 57703,\n",
       " 'بالصدفه': 16741,\n",
       " 'اك': 4265,\n",
       " 'احمل': 1261,\n",
       " 'توقع': 25222,\n",
       " 'مسبق': 45379,\n",
       " 'اظنها': 3323,\n",
       " 'واسبغت': 50476,\n",
       " 'جوا': 26088,\n",
       " 'مغايرا': 46280,\n",
       " 'جميلا': 25996,\n",
       " 'الابداع': 4442,\n",
       " 'يصدق': 62451,\n",
       " 'تتركها': 21389,\n",
       " 'بدات': 18405,\n",
       " 'مقدمه': 46559,\n",
       " 'المترجم': 11510,\n",
       " 'جعلتني': 25866,\n",
       " 'اشك': 2956,\n",
       " 'ترجمه': 22502,\n",
       " 'حقيقهلمدونات': 26862,\n",
       " 'الراهب': 8054,\n",
       " 'هيبا': 49819,\n",
       " 'التاريخيه': 6060,\n",
       " 'بالروايه': 16607,\n",
       " 'ملخص': 46863,\n",
       " 'عزازيل': 33059,\n",
       " 'يشبه': 62310,\n",
       " 'البشر': 5870,\n",
       " 'وجه': 55439,\n",
       " 'الارض': 4759,\n",
       " 'دايما': 27888,\n",
       " 'ينازعه': 63589,\n",
       " 'الشيطان': 9082,\n",
       " 'الطرق': 9439,\n",
       " 'لينحرف': 42942,\n",
       " 'الدين': 7942,\n",
       " 'حديث': 26483,\n",
       " 'الرسول': 8142,\n",
       " 'يجري': 61219,\n",
       " 'مجري': 44468,\n",
       " 'الدم': 7878,\n",
       " 'يوسف': 63964,\n",
       " 'زيدان': 29459,\n",
       " 'روائي': 29123,\n",
       " 'محترف': 44618,\n",
       " 'يجعل': 61228,\n",
       " 'القاريء': 10545,\n",
       " 'يستشعر': 62090,\n",
       " 'كلمه': 37726,\n",
       " 'متقنه': 44188,\n",
       " 'وسلسه': 56474,\n",
       " 'بدت': 18438,\n",
       " 'تصوير': 23299,\n",
       " 'عبقري': 32832,\n",
       " 'للاماكن': 40809,\n",
       " 'والشخصيات': 52318,\n",
       " 'والاجمل': 51129,\n",
       " 'الطريقه': 9446,\n",
       " 'الفلسفيه': 10434,\n",
       " 'الحواربين': 7470,\n",
       " 'الاساقفه': 4814,\n",
       " 'والرهبان': 52168,\n",
       " 'الوهيه': 14099,\n",
       " 'المسيح': 12371,\n",
       " 'المفتوحه': 12784,\n",
       " 'جاءت': 25443,\n",
       " 'متوقعه': 44328,\n",
       " 'تماماوكنت': 24573,\n",
       " 'اتمني': 627,\n",
       " 'حدث': 26459,\n",
       " 'لهيبا': 42521,\n",
       " 'الوحيده': 13977,\n",
       " 'حسيت': 26676,\n",
       " 'شويه': 31419,\n",
       " 'الاطلاق': 5079,\n",
       " 'شكرا': 31281,\n",
       " 'القراءه': 10635,\n",
       " 'اشاهد': 2848,\n",
       " 'فيلما': 35961,\n",
       " 'لخالد': 39675,\n",
       " 'العشوائيات': 9797,\n",
       " 'والفقر': 52679,\n",
       " 'وفقدان': 57495,\n",
       " 'الامل': 5410,\n",
       " 'وانعدام': 53582,\n",
       " 'الامن': 5414,\n",
       " 'وغياب': 57407,\n",
       " 'الاخلاق': 4662,\n",
       " 'وترك': 54562,\n",
       " 'الزمام': 8380,\n",
       " 'لشهوه': 40065,\n",
       " 'سيستغرق': 30655,\n",
       " 'ساعتين': 29636,\n",
       " 'اضعت': 3194,\n",
       " 'قررت': 36411,\n",
       " 'اقراه': 4155,\n",
       " 'عشان': 33116,\n",
       " 'اخلص': 1540,\n",
       " 'الجدل': 6974,\n",
       " 'بسمعه': 18876,\n",
       " 'واقفه': 51029,\n",
       " 'صديقين': 31685,\n",
       " 'بيقول': 20837,\n",
       " 'تحفه': 21998,\n",
       " 'فظيع': 35260,\n",
       " 'جاامد': 25458,\n",
       " 'وواحده': 59547,\n",
       " 'بتقول': 17923,\n",
       " 'زبااله': 29291,\n",
       " 'حد': 26450,\n",
       " 'يشوفه': 62408,\n",
       " 'ايدي': 15423,\n",
       " 'يدلي': 61723,\n",
       " 'بدلوه': 18469,\n",
       " 'الموضوع': 13393,\n",
       " 'عجبني': 32888,\n",
       " 'الراقي': 8049,\n",
       " 'والجهد': 51873,\n",
       " 'الفظيع': 10373,\n",
       " 'بذله': 18559,\n",
       " 'يظهر': 62657,\n",
       " 'بالشكل': 16721,\n",
       " 'تقدم': 24114,\n",
       " 'اضايق': 3156,\n",
       " 'المفصل': 12803,\n",
       " 'اعتراف': 3410,\n",
       " 'نوع': 49220,\n",
       " 'يعتقد': 62727,\n",
       " 'يكفر': 63329,\n",
       " 'خطاياه': 27532,\n",
       " 'الاعتراف': 5097,\n",
       " 'يحمل': 61469,\n",
       " 'اوزارنا': 15249,\n",
       " 'ويطلقها': 60106,\n",
       " 'فضاء': 35202,\n",
       " 'ورقه': 56179,\n",
       " 'بيضاء': 20751,\n",
       " 'فتحمله': 34655,\n",
       " 'دفع': 28055,\n",
       " 'لكتابه': 40592,\n",
       " 'حياته': 27123,\n",
       " 'الشكل': 9021,\n",
       " 'البعد': 5907,\n",
       " 'عنا': 33496,\n",
       " 'ونستخدم': 59245,\n",
       " 'ازدرائنا': 2085,\n",
       " 'كنوع': 37898,\n",
       " 'التبرير': 6107,\n",
       " 'عشتها': 33122,\n",
       " 'الاربعون': 4737,\n",
       " 'سرد': 30047,\n",
       " 'تفاصيل': 23897,\n",
       " 'ايامها': 15386,\n",
       " 'اعتقد': 3443,\n",
       " 'احلامه': 1241,\n",
       " 'طبيبا': 32214,\n",
       " 'ماهرا': 43559,\n",
       " 'راهبا': 28645,\n",
       " 'تقيا': 24279,\n",
       " 'اراد': 1820,\n",
       " 'يهرب': 63873,\n",
       " 'ويبرر': 59716,\n",
       " 'مذنبا': 45044,\n",
       " 'الملاك': 12977,\n",
       " 'فالراهب': 34365,\n",
       " 'التقي': 6575,\n",
       " 'الورع': 13994,\n",
       " 'يقدم': 63136,\n",
       " 'الخطايا': 7637,\n",
       " 'ويصبح': 60069,\n",
       " 'عبدا': 32799,\n",
       " 'لشهواته': 40061,\n",
       " 'السبب': 8508,\n",
       " 'صديقي': 31684,\n",
       " 'موضع': 47624,\n",
       " 'موجود': 47568,\n",
       " 'مسجون': 45524,\n",
       " 'هارب': 49326,\n",
       " 'مواجهه': 47492,\n",
       " 'تنقصك': 24941,\n",
       " 'الشجاعه': 8890,\n",
       " 'عقودك': 33290,\n",
       " 'الاربعه': 4736,\n",
       " 'ادري': 1660,\n",
       " 'اوجدتها': 15193,\n",
       " 'صرت': 31702,\n",
       " 'حرا': 26505,\n",
       " 'طليقا': 32359,\n",
       " 'ام': 14180,\n",
       " 'عاودت': 32741,\n",
       " 'لاداء': 38343,\n",
       " 'دور': 28236,\n",
       " 'الضحيه': 9331,\n",
       " 'مكان': 46663,\n",
       " 'تجذبك': 21719,\n",
       " 'عالمها': 32697,\n",
       " 'فتعيش': 34727,\n",
       " 'حاله': 26315,\n",
       " 'لممازحه': 42269,\n",
       " 'النسيان': 13582,\n",
       " 'تقولها': 24263,\n",
       " 'احلام': 1236,\n",
       " 'صفحاتها': 31771,\n",
       " 'ساخر': 29559,\n",
       " 'كتبته': 37243,\n",
       " 'مختلفه': 44826,\n",
       " 'كليا': 37739,\n",
       " 'ثلاثيتها': 25380,\n",
       " 'قالو': 36140,\n",
       " 'النقاد': 13666,\n",
       " 'عقبه': 33263,\n",
       " 'طريقها': 32285,\n",
       " 'وصلت': 56827,\n",
       " 'لسقف': 39969,\n",
       " 'الكمال': 11004,\n",
       " 'رايي': 28680,\n",
       " 'اجد': 809,\n",
       " 'توجهه': 25139,\n",
       " 'مختلف': 44822,\n",
       " 'الروايات': 8262,\n",
       " 'والغرض': 52599,\n",
       " 'يعجب': 62744,\n",
       " 'فعلا': 35293,\n",
       " 'قرائيه': 36353,\n",
       " 'جميله': 25999,\n",
       " 'زمنذ': 29377,\n",
       " 'زمن': 29375,\n",
       " 'انادي': 14429,\n",
       " 'بالنسيان': 17249,\n",
       " 'اوقات': 15309,\n",
       " 'اساند': 2180,\n",
       " 'صديقات': 31669,\n",
       " 'اوقعهن': 15314,\n",
       " 'الحظ': 7366,\n",
       " 'العاثر': 9549,\n",
       " 'مهب': 47415,\n",
       " 'الفقد': 10378,\n",
       " 'يتفق': 60976,\n",
       " 'واتفق': 50027,\n",
       " 'هوا': 49759,\n",
       " 'كتالوج': 37237,\n",
       " 'للنسيان': 41915,\n",
       " 'وصفه': 56816,\n",
       " 'اكتبها': 4288,\n",
       " 'تاتي': 20986,\n",
       " 'شاكيه': 30886,\n",
       " 'الي': 14102,\n",
       " 'اتكبد': 585,\n",
       " 'عناء': 33497,\n",
       " 'النصح': 13603,\n",
       " 'نسيانكم': 48495,\n",
       " 'تواطئ': 25104,\n",
       " 'خفي': 27590,\n",
       " 'يجمع': 61248,\n",
       " 'نساء': 48389,\n",
       " 'العالم': 9601,\n",
       " 'ليكون': 42902,\n",
       " 'لانفسهن': 38763,\n",
       " 'ترياقا': 22644,\n",
       " 'خاصا': 27240,\n",
       " 'مانضعه': 43539,\n",
       " 'جيوب': 26194,\n",
       " 'الحقائب': 7373,\n",
       " 'السفر': 8609,\n",
       " 'نخرج': 48266,\n",
       " 'لنشرب': 42394,\n",
       " 'قهوتنا': 36725,\n",
       " 'نفترق': 48812,\n",
       " 'قرانا': 36378,\n",
       " 'محفز': 44714,\n",
       " 'النجاح': 13520,\n",
       " 'ومؤلفات': 58286,\n",
       " 'تحفزنا': 21989,\n",
       " 'للامل': 40819,\n",
       " 'للسعي': 41314,\n",
       " 'نحتاج': 48202,\n",
       " 'نعيش': 48770,\n",
       " 'بامان': 17340,\n",
       " 'وبالرغم': 53814,\n",
       " 'درع': 27970,\n",
       " 'مهم': 47460,\n",
       " 'الالم': 5339,\n",
       " 'للمره': 41764,\n",
       " 'الاولي': 5651,\n",
       " 'نجد': 48156,\n",
       " 'احداهن': 1099,\n",
       " 'تشجعنا': 23054,\n",
       " 'وتواجهنا': 55194,\n",
       " 'بخيباتنا': 18379,\n",
       " 'لنكون': 42451,\n",
       " 'تناسب': 24726,\n",
       " 'طردي': 32256,\n",
       " 'والنسيان': 53276,\n",
       " 'كلمات': 37712,\n",
       " 'تجعلنا': 21769,\n",
       " 'نقلب': 48956,\n",
       " 'هم': 49686,\n",
       " 'الذكري': 7970,\n",
       " 'لنضحك': 42412,\n",
       " 'مانتذكر': 43525,\n",
       " 'نقرا': 48929,\n",
       " 'نتعثر': 48077,\n",
       " 'الحفره': 7368,\n",
       " 'نسحب': 48453,\n",
       " 'صديقه': 31680,\n",
       " 'قديمه': 36303,\n",
       " 'نتبادل': 48021,\n",
       " 'الادوار': 4707,\n",
       " 'نصبح': 48572,\n",
       " 'داخل': 27824,\n",
       " 'وتصبح': 54701,\n",
       " 'تمد': 24604,\n",
       " 'يدها': 61731,\n",
       " 'تتكرر': 21521,\n",
       " 'وتتكرر': 54311,\n",
       " 'يصبح': 62435,\n",
       " 'حضور': 26747,\n",
       " 'الخيبه': 7749,\n",
       " 'ثيم': 25434,\n",
       " 'خاص': 27239,\n",
       " 'نسميه': 48486,\n",
       " 'السقوط': 8622,\n",
       " 'ونتبادله': 59175,\n",
       " 'مكشوفه': 46736,\n",
       " 'انتهيت': 14608,\n",
       " 'ضحكت': 31985,\n",
       " 'همم': 49700,\n",
       " 'تمددت': 24605,\n",
       " 'وانا': 53480,\n",
       " 'اراقب': 1834,\n",
       " 'السقف': 8621,\n",
       " 'منزل': 47223,\n",
       " 'جدتي': 25641,\n",
       " 'الجميل': 7095,\n",
       " 'فكرت': 35439,\n",
       " 'نخشي': 48268,\n",
       " 'نعترف': 48736,\n",
       " 'تركنا': 22590,\n",
       " 'قارعه': 36089,\n",
       " 'وحيدات': 55733,\n",
       " 'وجدنا': 55340,\n",
       " 'يشاركنا': 62298,\n",
       " 'الاحساس': 4607,\n",
       " 'يعلن': 62844,\n",
       " 'الكل': 10980,\n",
       " 'يخفي': 61614,\n",
       " 'قناعه': 36708,\n",
       " 'جرحا': 25746,\n",
       " 'خيبه': 27785,\n",
       " 'طعنه': 32301,\n",
       " 'ينتظر': 63636,\n",
       " 'يطمئن': 62636,\n",
       " 'ليرفع': 42763,\n",
       " 'ويعترف': 60135,\n",
       " 'استطعت': 2384,\n",
       " ...}"
      ]
     },
     "execution_count": 31,
     "metadata": {},
     "output_type": "execute_result"
    }
   ],
   "source": [
    "Vocabulary = CountVectorizer_.vocabulary_\n",
    "Vocabulary"
   ]
  },
  {
   "cell_type": "markdown",
   "metadata": {},
   "source": [
    "# Machine Learning"
   ]
  },
  {
   "cell_type": "markdown",
   "metadata": {},
   "source": [
    "**1-Naive Bayes**"
   ]
  },
  {
   "cell_type": "code",
   "execution_count": 32,
   "metadata": {},
   "outputs": [
    {
     "data": {
      "image/png": "[encoded data removed]",
      "text/plain": [
       "<Figure size 640x480 with 1 Axes>"
      ]
     },
     "metadata": {},
     "output_type": "display_data"
    }
   ],
   "source": [
    "Algorithm = MultinomialNB(alpha= 1)\n",
    "Naive_Bayes = machine_learning_model(algorithm=Algorithm)\n",
    "fit_model(model=Naive_Bayes, X_train=X_train_CV_, y_train=y_train)\n",
    "confusion_matrix_(model=Naive_Bayes, X_test=X_test_CV_, y_test=y_test, name='Naive Bayes')"
   ]
  },
  {
   "cell_type": "code",
   "execution_count": 33,
   "metadata": {},
   "outputs": [
    {
     "data": {
      "text/html": [
       "<div>\n",
       "<style scoped>\n",
       "    .dataframe tbody tr th:only-of-type {\n",
       "        vertical-align: middle;\n",
       "    }\n",
       "\n",
       "    .dataframe tbody tr th {\n",
       "        vertical-align: top;\n",
       "    }\n",
       "\n",
       "    .dataframe thead th {\n",
       "        text-align: right;\n",
       "    }\n",
       "</style>\n",
       "<table border=\"1\" class=\"dataframe\">\n",
       "  <thead>\n",
       "    <tr style=\"text-align: right;\">\n",
       "      <th></th>\n",
       "      <th>Values</th>\n",
       "    </tr>\n",
       "  </thead>\n",
       "  <tbody>\n",
       "    <tr>\n",
       "      <th>Accuracy</th>\n",
       "      <td>0.881947</td>\n",
       "    </tr>\n",
       "    <tr>\n",
       "      <th>Precision</th>\n",
       "      <td>0.890704</td>\n",
       "    </tr>\n",
       "    <tr>\n",
       "      <th>Recall</th>\n",
       "      <td>0.868873</td>\n",
       "    </tr>\n",
       "    <tr>\n",
       "      <th>F1Score</th>\n",
       "      <td>0.879653</td>\n",
       "    </tr>\n",
       "    <tr>\n",
       "      <th>Error</th>\n",
       "      <td>0.118053</td>\n",
       "    </tr>\n",
       "  </tbody>\n",
       "</table>\n",
       "</div>"
      ],
      "text/plain": [
       "             Values\n",
       "Accuracy   0.881947\n",
       "Precision  0.890704\n",
       "Recall     0.868873\n",
       "F1Score    0.879653\n",
       "Error      0.118053"
      ]
     },
     "execution_count": 33,
     "metadata": {},
     "output_type": "execute_result"
    }
   ],
   "source": [
    "metrics_values(model= Naive_Bayes, X_test=X_test_CV_, y_test=y_test)"
   ]
  },
  {
   "cell_type": "markdown",
   "metadata": {},
   "source": [
    "**2-Logistic Regression**"
   ]
  },
  {
   "cell_type": "code",
   "execution_count": 34,
   "metadata": {},
   "outputs": [
    {
     "data": {
      "image/png": "[encoded data removed]",
      "text/plain": [
       "<Figure size 640x480 with 1 Axes>"
      ]
     },
     "metadata": {},
     "output_type": "display_data"
    }
   ],
   "source": [
    "Algorithm = LogisticRegression()\n",
    "Logistic_Regression = machine_learning_model(algorithm=Algorithm)\n",
    "fit_model(model=Logistic_Regression, X_train=X_train_CV_, y_train=y_train)\n",
    "confusion_matrix_(Logistic_Regression, X_test=X_test_CV_, y_test=y_test, name='Logistic Regression')"
   ]
  },
  {
   "cell_type": "code",
   "execution_count": 35,
   "metadata": {},
   "outputs": [
    {
     "data": {
      "text/html": [
       "<div>\n",
       "<style scoped>\n",
       "    .dataframe tbody tr th:only-of-type {\n",
       "        vertical-align: middle;\n",
       "    }\n",
       "\n",
       "    .dataframe tbody tr th {\n",
       "        vertical-align: top;\n",
       "    }\n",
       "\n",
       "    .dataframe thead th {\n",
       "        text-align: right;\n",
       "    }\n",
       "</style>\n",
       "<table border=\"1\" class=\"dataframe\">\n",
       "  <thead>\n",
       "    <tr style=\"text-align: right;\">\n",
       "      <th></th>\n",
       "      <th>Values</th>\n",
       "    </tr>\n",
       "  </thead>\n",
       "  <tbody>\n",
       "    <tr>\n",
       "      <th>Accuracy</th>\n",
       "      <td>0.896755</td>\n",
       "    </tr>\n",
       "    <tr>\n",
       "      <th>Precision</th>\n",
       "      <td>0.889514</td>\n",
       "    </tr>\n",
       "    <tr>\n",
       "      <th>Recall</th>\n",
       "      <td>0.904412</td>\n",
       "    </tr>\n",
       "    <tr>\n",
       "      <th>F1Score</th>\n",
       "      <td>0.896901</td>\n",
       "    </tr>\n",
       "    <tr>\n",
       "      <th>Error</th>\n",
       "      <td>0.103245</td>\n",
       "    </tr>\n",
       "  </tbody>\n",
       "</table>\n",
       "</div>"
      ],
      "text/plain": [
       "             Values\n",
       "Accuracy   0.896755\n",
       "Precision  0.889514\n",
       "Recall     0.904412\n",
       "F1Score    0.896901\n",
       "Error      0.103245"
      ]
     },
     "execution_count": 35,
     "metadata": {},
     "output_type": "execute_result"
    }
   ],
   "source": [
    "metrics_values(model= Logistic_Regression, X_test=X_test_CV_, y_test=y_test)"
   ]
  },
  {
   "cell_type": "markdown",
   "metadata": {},
   "source": [
    "**3-Decision Tree**"
   ]
  },
  {
   "cell_type": "code",
   "execution_count": 36,
   "metadata": {},
   "outputs": [
    {
     "data": {
      "image/png": "[encoded data removed]",
      "text/plain": [
       "<Figure size 640x480 with 1 Axes>"
      ]
     },
     "metadata": {},
     "output_type": "display_data"
    }
   ],
   "source": [
    "Algorithm = DecisionTreeClassifier(criterion='entropy')\n",
    "Decision_Tree = machine_learning_model(algorithm=Algorithm)\n",
    "fit_model(model=Decision_Tree, X_train=X_train_CV_, y_train=y_train)\n",
    "confusion_matrix_(model=Decision_Tree, X_test=X_test_CV_, y_test=y_test, name='Decision Tree')"
   ]
  },
  {
   "cell_type": "code",
   "execution_count": 37,
   "metadata": {},
   "outputs": [
    {
     "data": {
      "text/html": [
       "<div>\n",
       "<style scoped>\n",
       "    .dataframe tbody tr th:only-of-type {\n",
       "        vertical-align: middle;\n",
       "    }\n",
       "\n",
       "    .dataframe tbody tr th {\n",
       "        vertical-align: top;\n",
       "    }\n",
       "\n",
       "    .dataframe thead th {\n",
       "        text-align: right;\n",
       "    }\n",
       "</style>\n",
       "<table border=\"1\" class=\"dataframe\">\n",
       "  <thead>\n",
       "    <tr style=\"text-align: right;\">\n",
       "      <th></th>\n",
       "      <th>Values</th>\n",
       "    </tr>\n",
       "  </thead>\n",
       "  <tbody>\n",
       "    <tr>\n",
       "      <th>Accuracy</th>\n",
       "      <td>0.842394</td>\n",
       "    </tr>\n",
       "    <tr>\n",
       "      <th>Precision</th>\n",
       "      <td>0.840881</td>\n",
       "    </tr>\n",
       "    <tr>\n",
       "      <th>Recall</th>\n",
       "      <td>0.841912</td>\n",
       "    </tr>\n",
       "    <tr>\n",
       "      <th>F1Score</th>\n",
       "      <td>0.841396</td>\n",
       "    </tr>\n",
       "    <tr>\n",
       "      <th>Error</th>\n",
       "      <td>0.157606</td>\n",
       "    </tr>\n",
       "  </tbody>\n",
       "</table>\n",
       "</div>"
      ],
      "text/plain": [
       "             Values\n",
       "Accuracy   0.842394\n",
       "Precision  0.840881\n",
       "Recall     0.841912\n",
       "F1Score    0.841396\n",
       "Error      0.157606"
      ]
     },
     "execution_count": 37,
     "metadata": {},
     "output_type": "execute_result"
    }
   ],
   "source": [
    "metrics_values(model= Decision_Tree, X_test=X_test_CV_, y_test=y_test)"
   ]
  },
  {
   "cell_type": "markdown",
   "metadata": {},
   "source": [
    "**4-K Nearest Neighbors**"
   ]
  },
  {
   "cell_type": "code",
   "execution_count": 38,
   "metadata": {},
   "outputs": [
    {
     "data": {
      "image/png": "[encoded data removed]",
      "text/plain": [
       "<Figure size 640x480 with 1 Axes>"
      ]
     },
     "metadata": {},
     "output_type": "display_data"
    }
   ],
   "source": [
    "Algorithm =KNeighborsClassifier(metric='cosine', n_neighbors=5)\n",
    "K_Nearest_Neighbors = machine_learning_model(algorithm=Algorithm)\n",
    "fit_model(model=K_Nearest_Neighbors, X_train=X_train_CV_, y_train=y_train)\n",
    "confusion_matrix_(model=K_Nearest_Neighbors, X_test=X_test_CV_, y_test=y_test, name='K Nearest Neighbors')"
   ]
  },
  {
   "cell_type": "code",
   "execution_count": 39,
   "metadata": {},
   "outputs": [
    {
     "data": {
      "text/html": [
       "<div>\n",
       "<style scoped>\n",
       "    .dataframe tbody tr th:only-of-type {\n",
       "        vertical-align: middle;\n",
       "    }\n",
       "\n",
       "    .dataframe tbody tr th {\n",
       "        vertical-align: top;\n",
       "    }\n",
       "\n",
       "    .dataframe thead th {\n",
       "        text-align: right;\n",
       "    }\n",
       "</style>\n",
       "<table border=\"1\" class=\"dataframe\">\n",
       "  <thead>\n",
       "    <tr style=\"text-align: right;\">\n",
       "      <th></th>\n",
       "      <th>Values</th>\n",
       "    </tr>\n",
       "  </thead>\n",
       "  <tbody>\n",
       "    <tr>\n",
       "      <th>Accuracy</th>\n",
       "      <td>0.758418</td>\n",
       "    </tr>\n",
       "    <tr>\n",
       "      <th>Precision</th>\n",
       "      <td>0.727965</td>\n",
       "    </tr>\n",
       "    <tr>\n",
       "      <th>Recall</th>\n",
       "      <td>0.819853</td>\n",
       "    </tr>\n",
       "    <tr>\n",
       "      <th>F1Score</th>\n",
       "      <td>0.771182</td>\n",
       "    </tr>\n",
       "    <tr>\n",
       "      <th>Error</th>\n",
       "      <td>0.241582</td>\n",
       "    </tr>\n",
       "  </tbody>\n",
       "</table>\n",
       "</div>"
      ],
      "text/plain": [
       "             Values\n",
       "Accuracy   0.758418\n",
       "Precision  0.727965\n",
       "Recall     0.819853\n",
       "F1Score    0.771182\n",
       "Error      0.241582"
      ]
     },
     "execution_count": 39,
     "metadata": {},
     "output_type": "execute_result"
    }
   ],
   "source": [
    "metrics_values(model= K_Nearest_Neighbors, X_test=X_test_CV_, y_test=y_test)"
   ]
  },
  {
   "cell_type": "markdown",
   "metadata": {},
   "source": [
    "**5-Random Forest**"
   ]
  },
  {
   "cell_type": "code",
   "execution_count": 40,
   "metadata": {},
   "outputs": [
    {
     "data": {
      "image/png": "[encoded data removed]",
      "text/plain": [
       "<Figure size 640x480 with 1 Axes>"
      ]
     },
     "metadata": {},
     "output_type": "display_data"
    }
   ],
   "source": [
    "Algorithm = RandomForestClassifier(criterion = 'entropy', n_estimators=100)\n",
    "Random_Forest = machine_learning_model(algorithm=Algorithm)\n",
    "fit_model(model=Random_Forest, X_train=X_train_CV_, y_train=y_train)\n",
    "confusion_matrix_(model=Random_Forest, X_test=X_test_CV_, y_test=y_test, name='Random Forest')"
   ]
  },
  {
   "cell_type": "code",
   "execution_count": 41,
   "metadata": {},
   "outputs": [
    {
     "data": {
      "text/html": [
       "<div>\n",
       "<style scoped>\n",
       "    .dataframe tbody tr th:only-of-type {\n",
       "        vertical-align: middle;\n",
       "    }\n",
       "\n",
       "    .dataframe tbody tr th {\n",
       "        vertical-align: top;\n",
       "    }\n",
       "\n",
       "    .dataframe thead th {\n",
       "        text-align: right;\n",
       "    }\n",
       "</style>\n",
       "<table border=\"1\" class=\"dataframe\">\n",
       "  <thead>\n",
       "    <tr style=\"text-align: right;\">\n",
       "      <th></th>\n",
       "      <th>Values</th>\n",
       "    </tr>\n",
       "  </thead>\n",
       "  <tbody>\n",
       "    <tr>\n",
       "      <th>Accuracy</th>\n",
       "      <td>0.891886</td>\n",
       "    </tr>\n",
       "    <tr>\n",
       "      <th>Precision</th>\n",
       "      <td>0.889703</td>\n",
       "    </tr>\n",
       "    <tr>\n",
       "      <th>Recall</th>\n",
       "      <td>0.892974</td>\n",
       "    </tr>\n",
       "    <tr>\n",
       "      <th>F1Score</th>\n",
       "      <td>0.891335</td>\n",
       "    </tr>\n",
       "    <tr>\n",
       "      <th>Error</th>\n",
       "      <td>0.108114</td>\n",
       "    </tr>\n",
       "  </tbody>\n",
       "</table>\n",
       "</div>"
      ],
      "text/plain": [
       "             Values\n",
       "Accuracy   0.891886\n",
       "Precision  0.889703\n",
       "Recall     0.892974\n",
       "F1Score    0.891335\n",
       "Error      0.108114"
      ]
     },
     "execution_count": 41,
     "metadata": {},
     "output_type": "execute_result"
    }
   ],
   "source": [
    "metrics_values(model= Random_Forest, X_test=X_test_CV_, y_test=y_test)"
   ]
  },
  {
   "cell_type": "markdown",
   "metadata": {},
   "source": [
    "**6-SGD Classifier**"
   ]
  },
  {
   "cell_type": "code",
   "execution_count": 42,
   "metadata": {},
   "outputs": [
    {
     "data": {
      "image/png": "[encoded data removed]",
      "text/plain": [
       "<Figure size 640x480 with 1 Axes>"
      ]
     },
     "metadata": {},
     "output_type": "display_data"
    }
   ],
   "source": [
    "Algorithm = SGDClassifier(loss='hinge')\n",
    "SGD = machine_learning_model(algorithm=Algorithm)\n",
    "fit_model(model=SGD, X_train=X_train_CV_, y_train=y_train)\n",
    "confusion_matrix_(model=SGD, X_test=X_test_CV_, y_test=y_test, name='SGD Classifier')"
   ]
  },
  {
   "cell_type": "code",
   "execution_count": 43,
   "metadata": {},
   "outputs": [
    {
     "data": {
      "text/html": [
       "<div>\n",
       "<style scoped>\n",
       "    .dataframe tbody tr th:only-of-type {\n",
       "        vertical-align: middle;\n",
       "    }\n",
       "\n",
       "    .dataframe tbody tr th {\n",
       "        vertical-align: top;\n",
       "    }\n",
       "\n",
       "    .dataframe thead th {\n",
       "        text-align: right;\n",
       "    }\n",
       "</style>\n",
       "<table border=\"1\" class=\"dataframe\">\n",
       "  <thead>\n",
       "    <tr style=\"text-align: right;\">\n",
       "      <th></th>\n",
       "      <th>Values</th>\n",
       "    </tr>\n",
       "  </thead>\n",
       "  <tbody>\n",
       "    <tr>\n",
       "      <th>Accuracy</th>\n",
       "      <td>0.894929</td>\n",
       "    </tr>\n",
       "    <tr>\n",
       "      <th>Precision</th>\n",
       "      <td>0.886929</td>\n",
       "    </tr>\n",
       "    <tr>\n",
       "      <th>Recall</th>\n",
       "      <td>0.903595</td>\n",
       "    </tr>\n",
       "    <tr>\n",
       "      <th>F1Score</th>\n",
       "      <td>0.895184</td>\n",
       "    </tr>\n",
       "    <tr>\n",
       "      <th>Error</th>\n",
       "      <td>0.105071</td>\n",
       "    </tr>\n",
       "  </tbody>\n",
       "</table>\n",
       "</div>"
      ],
      "text/plain": [
       "             Values\n",
       "Accuracy   0.894929\n",
       "Precision  0.886929\n",
       "Recall     0.903595\n",
       "F1Score    0.895184\n",
       "Error      0.105071"
      ]
     },
     "execution_count": 43,
     "metadata": {},
     "output_type": "execute_result"
    }
   ],
   "source": [
    "metrics_values(model= SGD, X_test=X_test_CV_, y_test=y_test)"
   ]
  },
  {
   "cell_type": "markdown",
   "metadata": {},
   "source": [
    "**7-Multilayer Perceptron**"
   ]
  },
  {
   "cell_type": "code",
   "execution_count": 44,
   "metadata": {},
   "outputs": [
    {
     "data": {
      "image/png": "[encoded data removed]",
      "text/plain": [
       "<Figure size 640x480 with 1 Axes>"
      ]
     },
     "metadata": {},
     "output_type": "display_data"
    }
   ],
   "source": [
    "Algorithm = MLPClassifier(hidden_layer_sizes=16)\n",
    "MLP = machine_learning_model(algorithm=Algorithm)\n",
    "fit_model(model=MLP, X_train=X_train_CV_, y_train=y_train)\n",
    "confusion_matrix_(model=MLP, X_test=X_test_CV_, y_test=y_test, name='Multilayer Perceptron')"
   ]
  },
  {
   "cell_type": "code",
   "execution_count": 45,
   "metadata": {},
   "outputs": [
    {
     "data": {
      "text/html": [
       "<div>\n",
       "<style scoped>\n",
       "    .dataframe tbody tr th:only-of-type {\n",
       "        vertical-align: middle;\n",
       "    }\n",
       "\n",
       "    .dataframe tbody tr th {\n",
       "        vertical-align: top;\n",
       "    }\n",
       "\n",
       "    .dataframe thead th {\n",
       "        text-align: right;\n",
       "    }\n",
       "</style>\n",
       "<table border=\"1\" class=\"dataframe\">\n",
       "  <thead>\n",
       "    <tr style=\"text-align: right;\">\n",
       "      <th></th>\n",
       "      <th>Values</th>\n",
       "    </tr>\n",
       "  </thead>\n",
       "  <tbody>\n",
       "    <tr>\n",
       "      <th>Accuracy</th>\n",
       "      <td>0.883976</td>\n",
       "    </tr>\n",
       "    <tr>\n",
       "      <th>Precision</th>\n",
       "      <td>0.870166</td>\n",
       "    </tr>\n",
       "    <tr>\n",
       "      <th>Recall</th>\n",
       "      <td>0.900735</td>\n",
       "    </tr>\n",
       "    <tr>\n",
       "      <th>F1Score</th>\n",
       "      <td>0.885187</td>\n",
       "    </tr>\n",
       "    <tr>\n",
       "      <th>Error</th>\n",
       "      <td>0.116024</td>\n",
       "    </tr>\n",
       "  </tbody>\n",
       "</table>\n",
       "</div>"
      ],
      "text/plain": [
       "             Values\n",
       "Accuracy   0.883976\n",
       "Precision  0.870166\n",
       "Recall     0.900735\n",
       "F1Score    0.885187\n",
       "Error      0.116024"
      ]
     },
     "execution_count": 45,
     "metadata": {},
     "output_type": "execute_result"
    }
   ],
   "source": [
    "metrics_values(model= MLP, X_test=X_test_CV_, y_test=y_test)"
   ]
  },
  {
   "cell_type": "markdown",
   "metadata": {},
   "source": [
    "**8-Suport Vector Machine**"
   ]
  },
  {
   "cell_type": "code",
   "execution_count": 46,
   "metadata": {},
   "outputs": [
    {
     "data": {
      "image/png": "[encoded data removed]",
      "text/plain": [
       "<Figure size 640x480 with 1 Axes>"
      ]
     },
     "metadata": {},
     "output_type": "display_data"
    }
   ],
   "source": [
    "Algorithm = SVC(kernel='linear')\n",
    "SVM = machine_learning_model(algorithm=Algorithm)\n",
    "fit_model(model=SVM, X_train=X_train_CV_, y_train=y_train)\n",
    "confusion_matrix_(model=SVM, X_test=X_test_CV_, y_test=y_test, name='Support Vector Machine')"
   ]
  },
  {
   "cell_type": "code",
   "execution_count": 47,
   "metadata": {},
   "outputs": [
    {
     "data": {
      "text/html": [
       "<div>\n",
       "<style scoped>\n",
       "    .dataframe tbody tr th:only-of-type {\n",
       "        vertical-align: middle;\n",
       "    }\n",
       "\n",
       "    .dataframe tbody tr th {\n",
       "        vertical-align: top;\n",
       "    }\n",
       "\n",
       "    .dataframe thead th {\n",
       "        text-align: right;\n",
       "    }\n",
       "</style>\n",
       "<table border=\"1\" class=\"dataframe\">\n",
       "  <thead>\n",
       "    <tr style=\"text-align: right;\">\n",
       "      <th></th>\n",
       "      <th>Values</th>\n",
       "    </tr>\n",
       "  </thead>\n",
       "  <tbody>\n",
       "    <tr>\n",
       "      <th>Accuracy</th>\n",
       "      <td>0.886207</td>\n",
       "    </tr>\n",
       "    <tr>\n",
       "      <th>Precision</th>\n",
       "      <td>0.876948</td>\n",
       "    </tr>\n",
       "    <tr>\n",
       "      <th>Recall</th>\n",
       "      <td>0.896650</td>\n",
       "    </tr>\n",
       "    <tr>\n",
       "      <th>F1Score</th>\n",
       "      <td>0.886690</td>\n",
       "    </tr>\n",
       "    <tr>\n",
       "      <th>Error</th>\n",
       "      <td>0.113793</td>\n",
       "    </tr>\n",
       "  </tbody>\n",
       "</table>\n",
       "</div>"
      ],
      "text/plain": [
       "             Values\n",
       "Accuracy   0.886207\n",
       "Precision  0.876948\n",
       "Recall     0.896650\n",
       "F1Score    0.886690\n",
       "Error      0.113793"
      ]
     },
     "execution_count": 47,
     "metadata": {},
     "output_type": "execute_result"
    }
   ],
   "source": [
    "metrics_values(model= SVM, X_test=X_test_CV_, y_test=y_test)"
   ]
  },
  {
   "cell_type": "markdown",
   "metadata": {},
   "source": [
    "# Deep Learning"
   ]
  },
  {
   "cell_type": "code",
   "execution_count": 48,
   "metadata": {},
   "outputs": [],
   "source": [
    "embedding_dim = 16\n",
    "vocab_size, max_length, encoded_X_train , encoded_X_test = deeplearning_preprcosesing_(X_train=X_train, X_test=X_test, truncating='pre', padding='pre')"
   ]
  },
  {
   "cell_type": "code",
   "execution_count": 49,
   "metadata": {},
   "outputs": [
    {
     "name": "stdout",
     "output_type": "stream",
     "text": [
      "The Vocab Size Is : 64050\n",
      "\n",
      "The Max Length Is : 1853\n"
     ]
    }
   ],
   "source": [
    "print('The Vocab Size Is :',vocab_size)\n",
    "print('')\n",
    "print('The Max Length Is :', max_length)"
   ]
  },
  {
   "cell_type": "code",
   "execution_count": 50,
   "metadata": {},
   "outputs": [],
   "source": [
    "Callback = tf.keras.callbacks.EarlyStopping(\n",
    "                    monitor=\"accuracy\",\n",
    "                    mode=\"max\",\n",
    "                    patience=3\n",
    "                )"
   ]
  },
  {
   "cell_type": "markdown",
   "metadata": {},
   "source": [
    "**9-Convolutional Neural Network**"
   ]
  },
  {
   "cell_type": "code",
   "execution_count": 51,
   "metadata": {},
   "outputs": [
    {
     "name": "stdout",
     "output_type": "stream",
     "text": [
      "Epoch 1/10\n",
      "360/360 [==============================] - 145s 394ms/step - loss: 0.6931 - accuracy: 0.5093 - val_loss: 0.6910 - val_accuracy: 0.7306\n",
      "Epoch 2/10\n",
      "360/360 [==============================] - 53s 147ms/step - loss: 0.6723 - accuracy: 0.7037 - val_loss: 0.6420 - val_accuracy: 0.8045\n",
      "Epoch 3/10\n",
      "360/360 [==============================] - 48s 133ms/step - loss: 0.5515 - accuracy: 0.8310 - val_loss: 0.4954 - val_accuracy: 0.8568\n",
      "Epoch 4/10\n",
      "360/360 [==============================] - 38s 105ms/step - loss: 0.3989 - accuracy: 0.8879 - val_loss: 0.3849 - val_accuracy: 0.8781\n",
      "Epoch 5/10\n",
      "360/360 [==============================] - 20s 55ms/step - loss: 0.2971 - accuracy: 0.9193 - val_loss: 0.3279 - val_accuracy: 0.8838\n",
      "Epoch 6/10\n",
      "360/360 [==============================] - 10s 27ms/step - loss: 0.2312 - accuracy: 0.9379 - val_loss: 0.2974 - val_accuracy: 0.8903\n",
      "Epoch 7/10\n",
      "360/360 [==============================] - 12s 35ms/step - loss: 0.1868 - accuracy: 0.9510 - val_loss: 0.2830 - val_accuracy: 0.8929\n",
      "Epoch 8/10\n",
      "360/360 [==============================] - 10s 27ms/step - loss: 0.1536 - accuracy: 0.9607 - val_loss: 0.2773 - val_accuracy: 0.8953\n",
      "Epoch 9/10\n",
      "360/360 [==============================] - 10s 27ms/step - loss: 0.1298 - accuracy: 0.9672 - val_loss: 0.2772 - val_accuracy: 0.8949\n",
      "Epoch 10/10\n",
      "360/360 [==============================] - 9s 25ms/step - loss: 0.1111 - accuracy: 0.9724 - val_loss: 0.2806 - val_accuracy: 0.8994\n"
     ]
    },
    {
     "data": {
      "image/png": "[encoded data removed]",
      "text/plain": [
       "<Figure size 640x480 with 1 Axes>"
      ]
     },
     "metadata": {},
     "output_type": "display_data"
    },
    {
     "name": "stdout",
     "output_type": "stream",
     "text": [
      " \n",
      "The Training Loss is 0.0784, And Training Accuracy is 0.9807\n",
      " \n",
      "The Testing Loss is 0.2806, And Testing Accuracy is 0.8994\n"
     ]
    }
   ],
   "source": [
    "convolutional_neural_network = convolutional_neural_network_1d(vocab_size=vocab_size, embedding_dim=embedding_dim, max_length=max_length, dropout=0.8, kernel=8, filters=32, strides=2, padding='same')\n",
    "model_compile(model=convolutional_neural_network)\n",
    "history = model_fit(model=convolutional_neural_network, X_train=encoded_X_train, y_train=y_train, epochs=10, X_test=encoded_X_test, y_test=y_test, batch_size=32, Callback=Callback, shuffle=False)\n",
    "plot_accuracy_loss(histoty=history)\n",
    "evaluate(model=convolutional_neural_network, x=encoded_X_train, y=y_train, train_test='Training')\n",
    "evaluate(model=convolutional_neural_network, x=encoded_X_test, y=y_test, train_test='Testing')"
   ]
  },
  {
   "cell_type": "markdown",
   "metadata": {},
   "source": [
    "**10-LSTM**"
   ]
  },
  {
   "cell_type": "code",
   "execution_count": 52,
   "metadata": {},
   "outputs": [
    {
     "name": "stdout",
     "output_type": "stream",
     "text": [
      "Epoch 1/5\n",
      "360/360 [==============================] - 129s 335ms/step - loss: 0.5921 - accuracy: 0.6994 - val_loss: 0.4277 - val_accuracy: 0.8000\n",
      "Epoch 2/5\n",
      "360/360 [==============================] - 96s 268ms/step - loss: 0.2166 - accuracy: 0.9168 - val_loss: 0.2896 - val_accuracy: 0.8862\n",
      "Epoch 3/5\n",
      "360/360 [==============================] - 90s 251ms/step - loss: 0.0834 - accuracy: 0.9735 - val_loss: 0.3229 - val_accuracy: 0.8854\n",
      "Epoch 4/5\n",
      "360/360 [==============================] - 84s 235ms/step - loss: 0.0433 - accuracy: 0.9861 - val_loss: 0.3779 - val_accuracy: 0.8888\n",
      "Epoch 5/5\n",
      "360/360 [==============================] - 77s 214ms/step - loss: 0.0265 - accuracy: 0.9922 - val_loss: 0.4405 - val_accuracy: 0.8817\n"
     ]
    },
    {
     "data": {
      "image/png": "[encoded data removed]",
      "text/plain": [
       "<Figure size 640x480 with 1 Axes>"
      ]
     },
     "metadata": {},
     "output_type": "display_data"
    },
    {
     "name": "stdout",
     "output_type": "stream",
     "text": [
      " \n",
      "The Training Loss is 0.0157, And Training Accuracy is 0.9949\n",
      " \n",
      "The Testing Loss is 0.4405, And Testing Accuracy is 0.8817\n"
     ]
    }
   ],
   "source": [
    "LSTM =lstm_(vocab_size= vocab_size, embedding_dim= embedding_dim, max_length= max_length, dropout=0.3, units=64, lstm_dropout=0.3)\n",
    "model_compile(model=LSTM)\n",
    "history = model_fit(model=LSTM, X_train=encoded_X_train, y_train=y_train, epochs=5, X_test=encoded_X_test, y_test=y_test, batch_size=32, Callback=Callback, shuffle=True)\n",
    "plot_accuracy_loss(histoty=history)\n",
    "evaluate(model=LSTM, x=encoded_X_train, y=y_train, train_test='Training')\n",
    "evaluate(model=LSTM, x=encoded_X_test,y= y_test, train_test='Testing')"
   ]
  },
  {
   "cell_type": "markdown",
   "metadata": {},
   "source": [
    "**11-GRU**"
   ]
  },
  {
   "cell_type": "code",
   "execution_count": 53,
   "metadata": {},
   "outputs": [
    {
     "name": "stdout",
     "output_type": "stream",
     "text": [
      "Epoch 1/5\n",
      "360/360 [==============================] - 131s 339ms/step - loss: 0.5650 - accuracy: 0.6911 - val_loss: 0.3340 - val_accuracy: 0.8596\n",
      "Epoch 2/5\n",
      "360/360 [==============================] - 98s 273ms/step - loss: 0.1811 - accuracy: 0.9326 - val_loss: 0.3017 - val_accuracy: 0.8809\n",
      "Epoch 3/5\n",
      "360/360 [==============================] - 82s 229ms/step - loss: 0.0656 - accuracy: 0.9784 - val_loss: 0.3435 - val_accuracy: 0.8832\n",
      "Epoch 4/5\n",
      "360/360 [==============================] - 77s 214ms/step - loss: 0.0315 - accuracy: 0.9893 - val_loss: 0.4205 - val_accuracy: 0.8905\n",
      "Epoch 5/5\n",
      "360/360 [==============================] - 65s 180ms/step - loss: 0.0240 - accuracy: 0.9923 - val_loss: 0.4751 - val_accuracy: 0.8842\n"
     ]
    },
    {
     "data": {
      "image/png": "[encoded data removed]",
      "text/plain": [
       "<Figure size 640x480 with 1 Axes>"
      ]
     },
     "metadata": {},
     "output_type": "display_data"
    },
    {
     "name": "stdout",
     "output_type": "stream",
     "text": [
      " \n",
      "The Training Loss is 0.0139, And Training Accuracy is 0.9953\n",
      " \n",
      "The Testing Loss is 0.4751, And Testing Accuracy is 0.8842\n"
     ]
    }
   ],
   "source": [
    "GRU_=gru_(vocab_size= vocab_size, embedding_dim= embedding_dim, max_length= max_length, dropout=0.3, units=32, gru_dropout=0.3)\n",
    "model_compile(model=GRU_)\n",
    "history = model_fit(model=GRU_, X_train=encoded_X_train, y_train=y_train, epochs=5, X_test=encoded_X_test, y_test=y_test, batch_size=32, Callback=Callback, shuffle=True)\n",
    "plot_accuracy_loss(histoty=history)\n",
    "evaluate(model=GRU_, x=encoded_X_train, y=y_train, train_test='Training')\n",
    "evaluate(model=GRU_, x=encoded_X_test,y= y_test, train_test='Testing')"
   ]
  },
  {
   "cell_type": "code",
   "execution_count": null,
   "metadata": {},
   "outputs": [],
   "source": []
  }
 ],
 "metadata": {
  "kernelspec": {
   "display_name": "Python 3 (ipykernel)",
   "language": "python",
   "name": "python3"
  },
  "language_info": {
   "codemirror_mode": {
    "name": "ipython",
    "version": 3
   },
   "file_extension": ".py",
   "mimetype": "text/x-python",
   "name": "python",
   "nbconvert_exporter": "python",
   "pygments_lexer": "ipython3",
   "version": "3.11.6"
  }
 },
 "nbformat": 4,
 "nbformat_minor": 4
}
