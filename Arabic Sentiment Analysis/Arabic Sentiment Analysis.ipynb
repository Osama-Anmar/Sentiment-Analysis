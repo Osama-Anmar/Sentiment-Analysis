{
 "cells": [
  {
   "cell_type": "markdown",
   "metadata": {},
   "source": [
    "# Import Libraries\n"
   ]
  },
  {
   "cell_type": "code",
   "execution_count": 1,
   "metadata": {},
   "outputs": [],
   "source": [
    "import pandas as pd\n",
    "import numpy as np\n",
    "import nltk\n",
    "import tensorflow as tf\n",
    "from keras.layers import *\n",
    "from tensorflow import *\n",
    "from keras.preprocessing.text import Tokenizer\n",
    "from keras.preprocessing import *\n",
    "import arabicstopwords.arabicstopwords as stp\n",
    "from keras.preprocessing.sequence import pad_sequences\n",
    "import re\n",
    "import os\n",
    "from camel_tools.tokenizers.word import simple_word_tokenize\n",
    "import matplotlib.pyplot as plt\n",
    "import seaborn as sns\n",
    "from sklearn.tree import DecisionTreeClassifier\n",
    "from sklearn.naive_bayes import MultinomialNB\n",
    "from sklearn.neighbors import KNeighborsClassifier\n",
    "from sklearn.linear_model import LogisticRegression\n",
    "from sklearn.ensemble import RandomForestClassifier\n",
    "from sklearn.model_selection import train_test_split\n",
    "from sklearn.metrics import confusion_matrix\n",
    "from sklearn.feature_extraction.text import  CountVectorizer\n",
    "from sklearn.linear_model import SGDClassifier\n",
    "from sklearn.preprocessing import LabelEncoder\n",
    "import warnings\n",
    "from camel_tools.utils.dediac import dediac_ar\n",
    "from camel_tools.utils.normalize import normalize_unicode\n",
    "from camel_tools.utils.normalize import normalize_alef_maksura_ar\n",
    "from camel_tools.utils.normalize import normalize_alef_ar\n",
    "from camel_tools.utils.normalize import normalize_teh_marbuta_ar\n",
    "import random\n",
    "import emoji\n",
    "import qalsadi.lemmatizer\n",
    "from wordcloud import WordCloud\n",
    "import plotly.express as px\n",
    "import arabic_reshaper\n",
    "from bidi.algorithm import get_display\n",
    "from plotly import graph_objects as go\n",
    "from collections import Counter\n",
    "import string\n",
    "pd.options.display.max_rows = 100\n",
    "pd.options.display.max_columns =None \n",
    "random.seed(10)"
   ]
  },
  {
   "cell_type": "code",
   "execution_count": 2,
   "metadata": {},
   "outputs": [],
   "source": [
    "colors1 = ['#c7dd93','#b7d374']\n",
    "colors2 = ['#e0ebc8', '#c8db9c']\n",
    "color3 = ['Salmon', 'FireBrick', 'MediumVioletRed', 'Tomato', 'Orange', 'Gold', 'DarkKhaki', 'Lavender', 'Plum', 'LimeGreen', 'MediumSpringGreen', 'Green', 'DeepSkyBlue', 'Aquamarine', 'MediumSlateBlue']"
   ]
  },
  {
   "cell_type": "markdown",
   "metadata": {},
   "source": [
    "# Download Some Packages"
   ]
  },
  {
   "cell_type": "code",
   "execution_count": 3,
   "metadata": {},
   "outputs": [
    {
     "name": "stderr",
     "output_type": "stream",
     "text": [
      "[nltk_data] Downloading package punkt to\n",
      "[nltk_data]     /Users/osamaanmar/nltk_data...\n",
      "[nltk_data]   Package punkt is already up-to-date!\n",
      "[nltk_data] Downloading package wordnet to\n",
      "[nltk_data]     /Users/osamaanmar/nltk_data...\n",
      "[nltk_data]   Package wordnet is already up-to-date!\n",
      "[nltk_data] Downloading package stopwords to\n",
      "[nltk_data]     /Users/osamaanmar/nltk_data...\n",
      "[nltk_data]   Package stopwords is already up-to-date!\n",
      "[nltk_data] Downloading package averaged_perceptron_tagger to\n",
      "[nltk_data]     /Users/osamaanmar/nltk_data...\n",
      "[nltk_data]   Package averaged_perceptron_tagger is already up-to-\n",
      "[nltk_data]       date!\n"
     ]
    },
    {
     "data": {
      "text/plain": [
       "True"
      ]
     },
     "execution_count": 3,
     "metadata": {},
     "output_type": "execute_result"
    }
   ],
   "source": [
    "nltk.download('punkt')\n",
    "nltk.download('wordnet')\n",
    "nltk.download('stopwords')\n",
    "nltk.download('averaged_perceptron_tagger')"
   ]
  },
  {
   "cell_type": "markdown",
   "metadata": {},
   "source": [
    "# Ignore Warnings"
   ]
  },
  {
   "cell_type": "code",
   "execution_count": 4,
   "metadata": {},
   "outputs": [],
   "source": [
    "os.environ['TF_CPP_MIN_LOG_LEVEL'] = '3'\n",
    "warnings.filterwarnings(action='ignore')"
   ]
  },
  {
   "cell_type": "markdown",
   "metadata": {},
   "source": [
    "# Read Data"
   ]
  },
  {
   "cell_type": "code",
   "execution_count": 5,
   "metadata": {},
   "outputs": [
    {
     "data": {
      "text/html": [
       "<div>\n",
       "<style scoped>\n",
       "    .dataframe tbody tr th:only-of-type {\n",
       "        vertical-align: middle;\n",
       "    }\n",
       "\n",
       "    .dataframe tbody tr th {\n",
       "        vertical-align: top;\n",
       "    }\n",
       "\n",
       "    .dataframe thead th {\n",
       "        text-align: right;\n",
       "    }\n",
       "</style>\n",
       "<table border=\"1\" class=\"dataframe\">\n",
       "  <thead>\n",
       "    <tr style=\"text-align: right;\">\n",
       "      <th></th>\n",
       "      <th>Sentiment</th>\n",
       "      <th>Text</th>\n",
       "    </tr>\n",
       "  </thead>\n",
       "  <tbody>\n",
       "    <tr>\n",
       "      <th>0</th>\n",
       "      <td>Positive</td>\n",
       "      <td>بالنسبالي دي احسن رواية كتبها احمد مراد</td>\n",
       "    </tr>\n",
       "    <tr>\n",
       "      <th>1</th>\n",
       "      <td>Negative</td>\n",
       "      <td>الرواية ممتعة (كأحداث) ولكن يعيبها ما يلي : 1-...</td>\n",
       "    </tr>\n",
       "    <tr>\n",
       "      <th>2</th>\n",
       "      <td>Positive</td>\n",
       "      <td>كتآب أنيق ف حسب .</td>\n",
       "    </tr>\n",
       "    <tr>\n",
       "      <th>3</th>\n",
       "      <td>Negative</td>\n",
       "      <td>مش مقتنعه بصراحه بالجو بتاعه ده:)</td>\n",
       "    </tr>\n",
       "    <tr>\n",
       "      <th>4</th>\n",
       "      <td>Negative</td>\n",
       "      <td>قرأت 100 ورقة ووقفت . كلام تقيل جدًا ومش فاهمه...</td>\n",
       "    </tr>\n",
       "    <tr>\n",
       "      <th>...</th>\n",
       "      <td>...</td>\n",
       "      <td>...</td>\n",
       "    </tr>\n",
       "    <tr>\n",
       "      <th>16434</th>\n",
       "      <td>Negative</td>\n",
       "      <td>بين الشفقة و العطف أقيم هذه الرواية يؤسفني جد...</td>\n",
       "    </tr>\n",
       "    <tr>\n",
       "      <th>16435</th>\n",
       "      <td>Negative</td>\n",
       "      <td>أوصيك بالدقة . لا بالوضوح . \" فاليري\" تقريباً...</td>\n",
       "    </tr>\n",
       "    <tr>\n",
       "      <th>16436</th>\n",
       "      <td>Negative</td>\n",
       "      <td>للاسف الشديد لم يعجبني الكتاب ، شعرت بالملل م...</td>\n",
       "    </tr>\n",
       "    <tr>\n",
       "      <th>16437</th>\n",
       "      <td>Positive</td>\n",
       "      <td>من بداية الرواية وانا احاول تمالك نفسي ولكن ت...</td>\n",
       "    </tr>\n",
       "    <tr>\n",
       "      <th>16438</th>\n",
       "      <td>Negative</td>\n",
       "      <td>خذلتنى هذه الرواية كثيرا لم يعجبنى ابدا تداخل...</td>\n",
       "    </tr>\n",
       "  </tbody>\n",
       "</table>\n",
       "<p>16439 rows × 2 columns</p>\n",
       "</div>"
      ],
      "text/plain": [
       "      Sentiment                                               Text\n",
       "0      Positive            بالنسبالي دي احسن رواية كتبها احمد مراد\n",
       "1      Negative  الرواية ممتعة (كأحداث) ولكن يعيبها ما يلي : 1-...\n",
       "2      Positive                                  كتآب أنيق ف حسب .\n",
       "3      Negative                  مش مقتنعه بصراحه بالجو بتاعه ده:)\n",
       "4      Negative  قرأت 100 ورقة ووقفت . كلام تقيل جدًا ومش فاهمه...\n",
       "...         ...                                                ...\n",
       "16434  Negative   بين الشفقة و العطف أقيم هذه الرواية يؤسفني جد...\n",
       "16435  Negative   أوصيك بالدقة . لا بالوضوح . \" فاليري\" تقريباً...\n",
       "16436  Negative   للاسف الشديد لم يعجبني الكتاب ، شعرت بالملل م...\n",
       "16437  Positive   من بداية الرواية وانا احاول تمالك نفسي ولكن ت...\n",
       "16438  Negative   خذلتنى هذه الرواية كثيرا لم يعجبنى ابدا تداخل...\n",
       "\n",
       "[16439 rows x 2 columns]"
      ]
     },
     "execution_count": 5,
     "metadata": {},
     "output_type": "execute_result"
    }
   ],
   "source": [
    "df1 = pd.read_csv('dev.csv')\n",
    "df2 = pd.read_csv('train.csv')\n",
    "df3 = pd.read_csv('test.csv')\n",
    "Corpus = pd.concat([df1, df2, df3], ignore_index=True)\n",
    "Corpus.drop('clean_txt', axis=1, inplace=True)\n",
    "Corpus.rename(columns={'sentiment': 'Sentiment', 'txt': 'Text'}, inplace=True)\n",
    "Corpus"
   ]
  },
  {
   "cell_type": "markdown",
   "metadata": {},
   "source": [
    "# Percantage Of Each Sentiment"
   ]
  },
  {
   "cell_type": "code",
   "execution_count": 6,
   "metadata": {},
   "outputs": [
    {
     "data": {
      "image/png": "[encoded data removed]",
      "text/plain": [
       "<Figure size 600x600 with 1 Axes>"
      ]
     },
     "metadata": {},
     "output_type": "display_data"
    }
   ],
   "source": [
    "Corpus['Sentiment'].value_counts().plot.pie(autopct = '%0.1f%%',\n",
    "                                                    textprops = {'size': 'large'},\n",
    "                                                    title = 'Sentiment Percentage',\n",
    "                                                    figsize = (6,6),\n",
    "                                                    colors = colors1,\n",
    "                                                    ylabel = ' ');"
   ]
  },
  {
   "cell_type": "markdown",
   "metadata": {},
   "source": [
    "# Count Of Each Sentiment"
   ]
  },
  {
   "cell_type": "code",
   "execution_count": 7,
   "metadata": {},
   "outputs": [
    {
     "data": {
      "image/png": "[encoded data removed]",
      "text/plain": [
       "<Figure size 600x600 with 1 Axes>"
      ]
     },
     "metadata": {},
     "output_type": "display_data"
    }
   ],
   "source": [
    "ax, fig = plt.subplots(figsize = (6,6))\n",
    "ax =sns.countplot(x='Sentiment', data=Corpus, dodge=False, hue='Sentiment',  order= Corpus['Sentiment'].value_counts().index, hue_order =Corpus['Sentiment'].value_counts().index,  palette=colors2);\n",
    "ax.set(xticklabels=[]) \n",
    "ax.set(ylabel=None) \n",
    "plt.title('Sentiment Count')\n",
    "sns.move_legend(ax, \"upper left\", bbox_to_anchor=(1, 1))\n",
    "plt.show()"
   ]
  },
  {
   "cell_type": "markdown",
   "metadata": {},
   "source": [
    "# Number Of Sentences"
   ]
  },
  {
   "cell_type": "code",
   "execution_count": 8,
   "metadata": {},
   "outputs": [
    {
     "data": {
      "text/plain": [
       "48524"
      ]
     },
     "execution_count": 8,
     "metadata": {},
     "output_type": "execute_result"
    }
   ],
   "source": [
    "Corpus['NumberOfSentences'] = Corpus['Text'].apply(lambda n:len(nltk.tokenize.sent_tokenize(n)))\n",
    "Corpus.drop(Corpus[ Corpus[\"NumberOfSentences\"] == 0].index, inplace = True)\n",
    "Corpus['NumberOfSentences'].sum()"
   ]
  },
  {
   "cell_type": "markdown",
   "metadata": {},
   "source": [
    "# Average Number Of Sentences"
   ]
  },
  {
   "cell_type": "code",
   "execution_count": 9,
   "metadata": {},
   "outputs": [
    {
     "data": {
      "text/plain": [
       "3"
      ]
     },
     "execution_count": 9,
     "metadata": {},
     "output_type": "execute_result"
    }
   ],
   "source": [
    "AverageNumberOfSentence = int(np.round(Corpus[\"NumberOfSentences\"].mean()))\n",
    "AverageNumberOfSentence"
   ]
  },
  {
   "cell_type": "markdown",
   "metadata": {},
   "source": [
    "# Maximum Number Of Sentences"
   ]
  },
  {
   "cell_type": "code",
   "execution_count": 10,
   "metadata": {},
   "outputs": [
    {
     "data": {
      "text/plain": [
       "326"
      ]
     },
     "execution_count": 10,
     "metadata": {},
     "output_type": "execute_result"
    }
   ],
   "source": [
    "MaximumNumberOfSentence = Corpus[\"NumberOfSentences\"].max()\n",
    "MaximumNumberOfSentence"
   ]
  },
  {
   "cell_type": "markdown",
   "metadata": {},
   "source": [
    "# Minimum Number Of Sentences"
   ]
  },
  {
   "cell_type": "code",
   "execution_count": 11,
   "metadata": {},
   "outputs": [
    {
     "data": {
      "text/plain": [
       "1"
      ]
     },
     "execution_count": 11,
     "metadata": {},
     "output_type": "execute_result"
    }
   ],
   "source": [
    "MinimumNumberOfSentence = Corpus[\"NumberOfSentences\"].min()\n",
    "MinimumNumberOfSentence"
   ]
  },
  {
   "cell_type": "markdown",
   "metadata": {},
   "source": [
    "# Text Normalization"
   ]
  },
  {
   "cell_type": "code",
   "execution_count": 12,
   "metadata": {},
   "outputs": [],
   "source": [
    "def remove_emojis(text):\n",
    "     \"Remove All Emojis From Text\"\n",
    "     text = emoji.replace_emoji(text, replace=\"\")\n",
    "     return text\n",
    "\n",
    "def remove_hashtags(text):\n",
    "     \"Remove All Hashtags From Text\"\n",
    "     text =  re.sub(\"#[ا-ي٠-٩a-zA-Z0-9]+\",\"\", text)\n",
    "     return text   \n",
    "\n",
    "def remove_emails(text):\n",
    "     \"Remove All Emails From Text\"\n",
    "     text = re.sub(\"[a-zA-Z0-9-_.]+@[a-zA-Z]+.[a-zA-Z]+\",\"\", text)  \n",
    "     return text    \n",
    "\n",
    "def remove_url(text):\n",
    "     \"Remove All URL From Text\"\n",
    "     text = re.sub(r'http\\S+', '', text, flags=re.MULTILINE)\n",
    "     return text\n",
    "\n",
    "def remove_mention(text):\n",
    "     \"Remove All Mention From Text\"\n",
    "     text = re.sub(\"@[ا-ي٠-٩a-zA-Z0-9]+\",\"\", text)\n",
    "     return text\n",
    "\n",
    "def remove_duplicate_char(text):\n",
    "     \"Remove Chars Word Has More Than 2 Same Following Char\"\n",
    "     text = re.sub(r'(.)\\1+', r'\\1\\1', text)\n",
    "     return text\n",
    "\n",
    "def remove_single_char(text):\n",
    "     \"Remove Alone Chars From Text\"\n",
    "     text = ' '.join( [w for w in text.split() if len(w)>1] )\n",
    "     return text\n",
    "\n",
    "def remove_special_character_(text):\n",
    "     \"Remove Special Character From Text\"\n",
    "     Punctuations = '`؛،؟.,«»÷-' + string.punctuation\n",
    "     for punctuation in Punctuations:\n",
    "        text = text.replace(punctuation, ' ')\n",
    "     return text   \n",
    "\n",
    "def remove_new_line_char(text):\n",
    "     \"Remove New Line Symbols From Text\"\n",
    "     text = text.replace('\\n', ' ')\n",
    "     return text  \n",
    " \n",
    "def remove_number(text):\n",
    "     \"Remove All Number From Text\"\n",
    "     text = re.sub(r'\\d+', '', text)\n",
    "     return text\n",
    "\n",
    "def remove_html_tags(text):\n",
    "    \"Remove All HTL Tags From Text\"\n",
    "    text = re.sub(\"<.*?>\", ' ', text)\n",
    "    return text\n",
    "\n",
    "def remove_arabic_diacritics_(text):\n",
    "     \"Remove Arabic Dediacritization\"\n",
    "     text = dediac_ar(text)\n",
    "     return text\n",
    "\n",
    "def normalize_arabic_unicode_(text):\n",
    "     \"Converts A Composed Character Into Its Decomposed Form\"\n",
    "     text = normalize_unicode(text)\n",
    "     return text\n",
    "\n",
    "def normalize_alef_maksura_ar_(text):\n",
    "     \"Normalize alef maksura 'ى' to yeh 'ي'\"\n",
    "     text = normalize_alef_maksura_ar(text)\n",
    "     return text\n",
    "\n",
    "def normalize_alef_ar_(text):\n",
    "     \"Normalize alef variants to 'ا'\"\n",
    "     text = normalize_alef_ar(text)\n",
    "     return text\n",
    "\n",
    "def normalize_teh_marbuta_ar_(text):\n",
    "     \"Normalize teh marbuta 'ة' to heh 'ه'\"\n",
    "     text = normalize_teh_marbuta_ar(text)\n",
    "     return text\n",
    "\n",
    "def remove_non_arabic(text):\n",
    "    \"Remove Non Arabic Word And Char\"\n",
    "    text = re.sub('[a-zA-Z]', '', text)\n",
    "    return text\n",
    "\n",
    "def remove_whitespace(text):\n",
    "     \"Remove Extra WhiteSpace\"\n",
    "     text = text.strip()\n",
    "     return text \n",
    "\n",
    "def remove_unicode_characters_(text):\n",
    "     \"Remove Unicode Char\"\n",
    "     for character in text:\n",
    "        if (ord(character) < 47) or ((ord(character) > 123 and ord(character) < 1568)) or ((ord(character) > 1641 and ord(character) < 8239)) :\n",
    "         text = text.replace(character, ' ')\n",
    "     return text\n",
    "\n",
    "def lemmatizer_(text):\n",
    "     \"Lowers Inflection In Words To Their Root Forms\"\n",
    "     lemma = qalsadi.lemmatizer.Lemmatizer()\n",
    "     text = \" \".join([lemma.lemmatize(word, pos='v') for word in text.split()])\n",
    "     return text\n",
    "\n",
    "\n",
    "def remove_longest_than_(text):\n",
    "     \"Remove All Words That Longest Than The Longest Word In Arabic\"\n",
    "     for word in text.split():\n",
    "          if len(word) >=16:\n",
    "               text = text.replace(word, '')\n",
    "     return text\n",
    "\n",
    "def remove_stop_words(text):\n",
    "     \"Remove StopWords From Text\"\n",
    "     StopWords1 = set(stp.stopwords_list())\n",
    "     StopWords2 = set(open('ArabicStopWord.txt','r', encoding='Utf-8').read().split('\\n'))\n",
    "     StopWords = StopWords1.union(StopWords2)\n",
    "     text = simple_word_tokenize(text)\n",
    "     text = [word for word in text if word not in StopWords]\n",
    "     return ' '.join(text)"
   ]
  },
  {
   "cell_type": "code",
   "execution_count": 13,
   "metadata": {},
   "outputs": [],
   "source": [
    "def text_normalization(text):\n",
    "    text = remove_emojis(text) \n",
    "    text = remove_non_arabic(text)\n",
    "    text = remove_duplicate_char(text)\n",
    "    text = remove_number(text)\n",
    "    text = remove_html_tags(text)\n",
    "    text = normalize_arabic_unicode_(text)\n",
    "    text = remove_single_char(text)\n",
    "    text = remove_special_character_(text)\n",
    "    text = remove_stop_words(text)\n",
    "    text = normalize_alef_ar(text)\n",
    "    text = normalize_alef_maksura_ar(text)\n",
    "    text = normalize_teh_marbuta_ar(text)\n",
    "    text = remove_arabic_diacritics_(text)\n",
    "    text = remove_longest_than_(text)\n",
    "    text = remove_new_line_char(text)\n",
    "    text = remove_whitespace(text)\n",
    "    return ''.join(text)"
   ]
  },
  {
   "cell_type": "code",
   "execution_count": 14,
   "metadata": {},
   "outputs": [
    {
     "data": {
      "text/html": [
       "<div>\n",
       "<style scoped>\n",
       "    .dataframe tbody tr th:only-of-type {\n",
       "        vertical-align: middle;\n",
       "    }\n",
       "\n",
       "    .dataframe tbody tr th {\n",
       "        vertical-align: top;\n",
       "    }\n",
       "\n",
       "    .dataframe thead th {\n",
       "        text-align: right;\n",
       "    }\n",
       "</style>\n",
       "<table border=\"1\" class=\"dataframe\">\n",
       "  <thead>\n",
       "    <tr style=\"text-align: right;\">\n",
       "      <th></th>\n",
       "      <th>Sentiment</th>\n",
       "      <th>Text</th>\n",
       "      <th>NumberOfSentences</th>\n",
       "      <th>Normalized_Text</th>\n",
       "    </tr>\n",
       "  </thead>\n",
       "  <tbody>\n",
       "    <tr>\n",
       "      <th>0</th>\n",
       "      <td>Positive</td>\n",
       "      <td>بالنسبالي دي احسن رواية كتبها احمد مراد</td>\n",
       "      <td>1</td>\n",
       "      <td>بالنسبالي دي احسن روايه كتبها احمد مراد</td>\n",
       "    </tr>\n",
       "    <tr>\n",
       "      <th>1</th>\n",
       "      <td>Negative</td>\n",
       "      <td>الرواية ممتعة (كأحداث) ولكن يعيبها ما يلي : 1-...</td>\n",
       "      <td>3</td>\n",
       "      <td>الروايه ممتعه كاحداث يعيبها الاسلوب يستخدم الف...</td>\n",
       "    </tr>\n",
       "    <tr>\n",
       "      <th>2</th>\n",
       "      <td>Positive</td>\n",
       "      <td>كتآب أنيق ف حسب .</td>\n",
       "      <td>1</td>\n",
       "      <td>كتاب انيق</td>\n",
       "    </tr>\n",
       "    <tr>\n",
       "      <th>3</th>\n",
       "      <td>Negative</td>\n",
       "      <td>مش مقتنعه بصراحه بالجو بتاعه ده:)</td>\n",
       "      <td>1</td>\n",
       "      <td>مش مقتنعه بصراحه بالجو بتاعه ده</td>\n",
       "    </tr>\n",
       "    <tr>\n",
       "      <th>4</th>\n",
       "      <td>Negative</td>\n",
       "      <td>قرأت 100 ورقة ووقفت . كلام تقيل جدًا ومش فاهمه...</td>\n",
       "      <td>2</td>\n",
       "      <td>قرات ورقه ووقفت كلام تقيل جدا ومش فاهمه مش قاد...</td>\n",
       "    </tr>\n",
       "    <tr>\n",
       "      <th>...</th>\n",
       "      <td>...</td>\n",
       "      <td>...</td>\n",
       "      <td>...</td>\n",
       "      <td>...</td>\n",
       "    </tr>\n",
       "    <tr>\n",
       "      <th>16434</th>\n",
       "      <td>Negative</td>\n",
       "      <td>بين الشفقة و العطف أقيم هذه الرواية يؤسفني جد...</td>\n",
       "      <td>1</td>\n",
       "      <td>الشفقه العطف اقيم الروايه يؤسفني معاناه محمد ش...</td>\n",
       "    </tr>\n",
       "    <tr>\n",
       "      <th>16435</th>\n",
       "      <td>Negative</td>\n",
       "      <td>أوصيك بالدقة . لا بالوضوح . \" فاليري\" تقريباً...</td>\n",
       "      <td>3</td>\n",
       "      <td>اوصيك بالدقه بالوضوح فاليري ابراهيم اصلان نفذ ...</td>\n",
       "    </tr>\n",
       "    <tr>\n",
       "      <th>16436</th>\n",
       "      <td>Negative</td>\n",
       "      <td>للاسف الشديد لم يعجبني الكتاب ، شعرت بالملل م...</td>\n",
       "      <td>2</td>\n",
       "      <td>للاسف الشديد يعجبني الكتاب شعرت بالملل الصفحات...</td>\n",
       "    </tr>\n",
       "    <tr>\n",
       "      <th>16437</th>\n",
       "      <td>Positive</td>\n",
       "      <td>من بداية الرواية وانا احاول تمالك نفسي ولكن ت...</td>\n",
       "      <td>14</td>\n",
       "      <td>بدايه الروايه وانا احاول تمالك تعاندني عبرات م...</td>\n",
       "    </tr>\n",
       "    <tr>\n",
       "      <th>16438</th>\n",
       "      <td>Negative</td>\n",
       "      <td>خذلتنى هذه الرواية كثيرا لم يعجبنى ابدا تداخل...</td>\n",
       "      <td>1</td>\n",
       "      <td>خذلتني الروايه يعجبني ابدا تداخل قصتي الكاتب و...</td>\n",
       "    </tr>\n",
       "  </tbody>\n",
       "</table>\n",
       "<p>16439 rows × 4 columns</p>\n",
       "</div>"
      ],
      "text/plain": [
       "      Sentiment                                               Text  \\\n",
       "0      Positive            بالنسبالي دي احسن رواية كتبها احمد مراد   \n",
       "1      Negative  الرواية ممتعة (كأحداث) ولكن يعيبها ما يلي : 1-...   \n",
       "2      Positive                                  كتآب أنيق ف حسب .   \n",
       "3      Negative                  مش مقتنعه بصراحه بالجو بتاعه ده:)   \n",
       "4      Negative  قرأت 100 ورقة ووقفت . كلام تقيل جدًا ومش فاهمه...   \n",
       "...         ...                                                ...   \n",
       "16434  Negative   بين الشفقة و العطف أقيم هذه الرواية يؤسفني جد...   \n",
       "16435  Negative   أوصيك بالدقة . لا بالوضوح . \" فاليري\" تقريباً...   \n",
       "16436  Negative   للاسف الشديد لم يعجبني الكتاب ، شعرت بالملل م...   \n",
       "16437  Positive   من بداية الرواية وانا احاول تمالك نفسي ولكن ت...   \n",
       "16438  Negative   خذلتنى هذه الرواية كثيرا لم يعجبنى ابدا تداخل...   \n",
       "\n",
       "       NumberOfSentences                                    Normalized_Text  \n",
       "0                      1            بالنسبالي دي احسن روايه كتبها احمد مراد  \n",
       "1                      3  الروايه ممتعه كاحداث يعيبها الاسلوب يستخدم الف...  \n",
       "2                      1                                          كتاب انيق  \n",
       "3                      1                    مش مقتنعه بصراحه بالجو بتاعه ده  \n",
       "4                      2  قرات ورقه ووقفت كلام تقيل جدا ومش فاهمه مش قاد...  \n",
       "...                  ...                                                ...  \n",
       "16434                  1  الشفقه العطف اقيم الروايه يؤسفني معاناه محمد ش...  \n",
       "16435                  3  اوصيك بالدقه بالوضوح فاليري ابراهيم اصلان نفذ ...  \n",
       "16436                  2  للاسف الشديد يعجبني الكتاب شعرت بالملل الصفحات...  \n",
       "16437                 14  بدايه الروايه وانا احاول تمالك تعاندني عبرات م...  \n",
       "16438                  1  خذلتني الروايه يعجبني ابدا تداخل قصتي الكاتب و...  \n",
       "\n",
       "[16439 rows x 4 columns]"
      ]
     },
     "execution_count": 14,
     "metadata": {},
     "output_type": "execute_result"
    }
   ],
   "source": [
    "Corpus['Normalized_Text'] = Corpus['Text'].apply(text_normalization)\n",
    "Corpus"
   ]
  },
  {
   "cell_type": "markdown",
   "metadata": {},
   "source": [
    "# Number Of Unique Words"
   ]
  },
  {
   "cell_type": "code",
   "execution_count": 15,
   "metadata": {},
   "outputs": [
    {
     "data": {
      "text/plain": [
       "74035"
      ]
     },
     "execution_count": 15,
     "metadata": {},
     "output_type": "execute_result"
    }
   ],
   "source": [
    "UniqueWords = set()\n",
    "for word in Corpus['Normalized_Text'].str.split():\n",
    "    UniqueWords.update(word)\n",
    "len(UniqueWords)"
   ]
  },
  {
   "cell_type": "markdown",
   "metadata": {},
   "source": [
    "# WordCloud"
   ]
  },
  {
   "cell_type": "code",
   "execution_count": 16,
   "metadata": {},
   "outputs": [],
   "source": [
    "def word_cloud_(Sentiment):\n",
    "    text = str(Corpus[Corpus['Sentiment'] == Sentiment]['Normalized_Text'])\n",
    "    text = arabic_reshaper.reshape(text)\n",
    "    text = get_display(text)\n",
    "    wordcloud = WordCloud(font_path='arial.ttf',background_color='white', mode='RGB',width=1200,height=600).generate(text)\n",
    "    plt.figure()\n",
    "    plt.imshow(wordcloud, interpolation='catrom')\n",
    "    plt.axis(\"off\")\n",
    "    plt.title('Word Cloud For {} Sentiment'.format(Sentiment))\n",
    "    plt.show()"
   ]
  },
  {
   "cell_type": "markdown",
   "metadata": {},
   "source": [
    "**1-Positive**"
   ]
  },
  {
   "cell_type": "code",
   "execution_count": 17,
   "metadata": {},
   "outputs": [
    {
     "data": {
      "image/png": "[encoded data removed]",
      "text/plain": [
       "<Figure size 640x480 with 1 Axes>"
      ]
     },
     "metadata": {},
     "output_type": "display_data"
    }
   ],
   "source": [
    "word_cloud_('Positive')"
   ]
  },
  {
   "cell_type": "markdown",
   "metadata": {},
   "source": [
    "**2-Negative**"
   ]
  },
  {
   "cell_type": "code",
   "execution_count": 18,
   "metadata": {},
   "outputs": [
    {
     "data": {
      "image/png": "[encoded data removed]",
      "text/plain": [
       "<Figure size 640x480 with 1 Axes>"
      ]
     },
     "metadata": {},
     "output_type": "display_data"
    }
   ],
   "source": [
    "word_cloud_('Negative')"
   ]
  },
  {
   "cell_type": "markdown",
   "metadata": {},
   "source": [
    "# Most Frequent Words "
   ]
  },
  {
   "cell_type": "code",
   "execution_count": 19,
   "metadata": {},
   "outputs": [
    {
     "data": {
      "text/html": [
       "<div>\n",
       "<style scoped>\n",
       "    .dataframe tbody tr th:only-of-type {\n",
       "        vertical-align: middle;\n",
       "    }\n",
       "\n",
       "    .dataframe tbody tr th {\n",
       "        vertical-align: top;\n",
       "    }\n",
       "\n",
       "    .dataframe thead th {\n",
       "        text-align: right;\n",
       "    }\n",
       "</style>\n",
       "<table border=\"1\" class=\"dataframe\">\n",
       "  <thead>\n",
       "    <tr style=\"text-align: right;\">\n",
       "      <th></th>\n",
       "      <th>Word</th>\n",
       "      <th>Count</th>\n",
       "    </tr>\n",
       "  </thead>\n",
       "  <tbody>\n",
       "    <tr>\n",
       "      <th>0</th>\n",
       "      <td>الروايه</td>\n",
       "      <td>7347</td>\n",
       "    </tr>\n",
       "    <tr>\n",
       "      <th>1</th>\n",
       "      <td>الكتاب</td>\n",
       "      <td>6617</td>\n",
       "    </tr>\n",
       "    <tr>\n",
       "      <th>2</th>\n",
       "      <td>كتاب</td>\n",
       "      <td>3828</td>\n",
       "    </tr>\n",
       "    <tr>\n",
       "      <th>3</th>\n",
       "      <td>روايه</td>\n",
       "      <td>3154</td>\n",
       "    </tr>\n",
       "    <tr>\n",
       "      <th>4</th>\n",
       "      <td>الكاتب</td>\n",
       "      <td>2793</td>\n",
       "    </tr>\n",
       "    <tr>\n",
       "      <th>5</th>\n",
       "      <td>الله</td>\n",
       "      <td>2312</td>\n",
       "    </tr>\n",
       "    <tr>\n",
       "      <th>6</th>\n",
       "      <td>اللي</td>\n",
       "      <td>1878</td>\n",
       "    </tr>\n",
       "    <tr>\n",
       "      <th>7</th>\n",
       "      <td>مش</td>\n",
       "      <td>1444</td>\n",
       "    </tr>\n",
       "    <tr>\n",
       "      <th>8</th>\n",
       "      <td>رائع</td>\n",
       "      <td>1431</td>\n",
       "    </tr>\n",
       "    <tr>\n",
       "      <th>9</th>\n",
       "      <td>الاحداث</td>\n",
       "      <td>1247</td>\n",
       "    </tr>\n",
       "    <tr>\n",
       "      <th>10</th>\n",
       "      <td>اسلوب</td>\n",
       "      <td>1187</td>\n",
       "    </tr>\n",
       "    <tr>\n",
       "      <th>11</th>\n",
       "      <td>رائعه</td>\n",
       "      <td>1077</td>\n",
       "    </tr>\n",
       "    <tr>\n",
       "      <th>12</th>\n",
       "      <td>قرات</td>\n",
       "      <td>1070</td>\n",
       "    </tr>\n",
       "    <tr>\n",
       "      <th>13</th>\n",
       "      <td>الكثير</td>\n",
       "      <td>1070</td>\n",
       "    </tr>\n",
       "    <tr>\n",
       "      <th>14</th>\n",
       "      <td>الحياه</td>\n",
       "      <td>986</td>\n",
       "    </tr>\n",
       "  </tbody>\n",
       "</table>\n",
       "</div>"
      ],
      "text/plain": [
       "       Word  Count\n",
       "0   الروايه   7347\n",
       "1    الكتاب   6617\n",
       "2      كتاب   3828\n",
       "3     روايه   3154\n",
       "4    الكاتب   2793\n",
       "5      الله   2312\n",
       "6      اللي   1878\n",
       "7        مش   1444\n",
       "8      رائع   1431\n",
       "9   الاحداث   1247\n",
       "10    اسلوب   1187\n",
       "11    رائعه   1077\n",
       "12     قرات   1070\n",
       "13   الكثير   1070\n",
       "14   الحياه    986"
      ]
     },
     "execution_count": 19,
     "metadata": {},
     "output_type": "execute_result"
    }
   ],
   "source": [
    "MostFrequentWord = Counter((Corpus['Normalized_Text']).str.split().explode()).most_common(15)\n",
    "MostFrequentWordDF = pd.DataFrame(MostFrequentWord, columns=('Word', 'Count'))\n",
    "MostFrequentWordDF"
   ]
  },
  {
   "cell_type": "code",
   "execution_count": 20,
   "metadata": {},
   "outputs": [
    {
     "data": {
      "application/vnd.plotly.v1+json": {
       "config": {
        "plotlyServerURL": "https://plot.ly"
       },
       "data": [
        {
         "marker": {
          "color": [
           "Salmon",
           "FireBrick",
           "MediumVioletRed",
           "Tomato",
           "Orange",
           "Gold",
           "DarkKhaki",
           "Lavender",
           "Plum",
           "LimeGreen",
           "MediumSpringGreen",
           "Green",
           "DeepSkyBlue",
           "Aquamarine",
           "MediumSlateBlue"
          ]
         },
         "type": "funnel",
         "x": [
          7347,
          6617,
          3828,
          3154,
          2793,
          2312,
          1878,
          1444,
          1431,
          1247,
          1187,
          1077,
          1070,
          1070,
          986
         ],
         "y": [
          "الروايه",
          "الكتاب",
          "كتاب",
          "روايه",
          "الكاتب",
          "الله",
          "اللي",
          "مش",
          "رائع",
          "الاحداث",
          "اسلوب",
          "رائعه",
          "قرات",
          "الكثير",
          "الحياه"
         ]
        }
       ],
       "layout": {
        "template": {
         "data": {
          "bar": [
           {
            "error_x": {
             "color": "#2a3f5f"
            },
            "error_y": {
             "color": "#2a3f5f"
            },
            "marker": {
             "line": {
              "color": "#E5ECF6",
              "width": 0.5
             },
             "pattern": {
              "fillmode": "overlay",
              "size": 10,
              "solidity": 0.2
             }
            },
            "type": "bar"
           }
          ],
          "barpolar": [
           {
            "marker": {
             "line": {
              "color": "#E5ECF6",
              "width": 0.5
             },
             "pattern": {
              "fillmode": "overlay",
              "size": 10,
              "solidity": 0.2
             }
            },
            "type": "barpolar"
           }
          ],
          "carpet": [
           {
            "aaxis": {
             "endlinecolor": "#2a3f5f",
             "gridcolor": "white",
             "linecolor": "white",
             "minorgridcolor": "white",
             "startlinecolor": "#2a3f5f"
            },
            "baxis": {
             "endlinecolor": "#2a3f5f",
             "gridcolor": "white",
             "linecolor": "white",
             "minorgridcolor": "white",
             "startlinecolor": "#2a3f5f"
            },
            "type": "carpet"
           }
          ],
          "choropleth": [
           {
            "colorbar": {
             "outlinewidth": 0,
             "ticks": ""
            },
            "type": "choropleth"
           }
          ],
          "contour": [
           {
            "colorbar": {
             "outlinewidth": 0,
             "ticks": ""
            },
            "colorscale": [
             [
              0,
              "#0d0887"
             ],
             [
              0.1111111111111111,
              "#46039f"
             ],
             [
              0.2222222222222222,
              "#7201a8"
             ],
             [
              0.3333333333333333,
              "#9c179e"
             ],
             [
              0.4444444444444444,
              "#bd3786"
             ],
             [
              0.5555555555555556,
              "#d8576b"
             ],
             [
              0.6666666666666666,
              "#ed7953"
             ],
             [
              0.7777777777777778,
              "#fb9f3a"
             ],
             [
              0.8888888888888888,
              "#fdca26"
             ],
             [
              1,
              "#f0f921"
             ]
            ],
            "type": "contour"
           }
          ],
          "contourcarpet": [
           {
            "colorbar": {
             "outlinewidth": 0,
             "ticks": ""
            },
            "type": "contourcarpet"
           }
          ],
          "heatmap": [
           {
            "colorbar": {
             "outlinewidth": 0,
             "ticks": ""
            },
            "colorscale": [
             [
              0,
              "#0d0887"
             ],
             [
              0.1111111111111111,
              "#46039f"
             ],
             [
              0.2222222222222222,
              "#7201a8"
             ],
             [
              0.3333333333333333,
              "#9c179e"
             ],
             [
              0.4444444444444444,
              "#bd3786"
             ],
             [
              0.5555555555555556,
              "#d8576b"
             ],
             [
              0.6666666666666666,
              "#ed7953"
             ],
             [
              0.7777777777777778,
              "#fb9f3a"
             ],
             [
              0.8888888888888888,
              "#fdca26"
             ],
             [
              1,
              "#f0f921"
             ]
            ],
            "type": "heatmap"
           }
          ],
          "heatmapgl": [
           {
            "colorbar": {
             "outlinewidth": 0,
             "ticks": ""
            },
            "colorscale": [
             [
              0,
              "#0d0887"
             ],
             [
              0.1111111111111111,
              "#46039f"
             ],
             [
              0.2222222222222222,
              "#7201a8"
             ],
             [
              0.3333333333333333,
              "#9c179e"
             ],
             [
              0.4444444444444444,
              "#bd3786"
             ],
             [
              0.5555555555555556,
              "#d8576b"
             ],
             [
              0.6666666666666666,
              "#ed7953"
             ],
             [
              0.7777777777777778,
              "#fb9f3a"
             ],
             [
              0.8888888888888888,
              "#fdca26"
             ],
             [
              1,
              "#f0f921"
             ]
            ],
            "type": "heatmapgl"
           }
          ],
          "histogram": [
           {
            "marker": {
             "pattern": {
              "fillmode": "overlay",
              "size": 10,
              "solidity": 0.2
             }
            },
            "type": "histogram"
           }
          ],
          "histogram2d": [
           {
            "colorbar": {
             "outlinewidth": 0,
             "ticks": ""
            },
            "colorscale": [
             [
              0,
              "#0d0887"
             ],
             [
              0.1111111111111111,
              "#46039f"
             ],
             [
              0.2222222222222222,
              "#7201a8"
             ],
             [
              0.3333333333333333,
              "#9c179e"
             ],
             [
              0.4444444444444444,
              "#bd3786"
             ],
             [
              0.5555555555555556,
              "#d8576b"
             ],
             [
              0.6666666666666666,
              "#ed7953"
             ],
             [
              0.7777777777777778,
              "#fb9f3a"
             ],
             [
              0.8888888888888888,
              "#fdca26"
             ],
             [
              1,
              "#f0f921"
             ]
            ],
            "type": "histogram2d"
           }
          ],
          "histogram2dcontour": [
           {
            "colorbar": {
             "outlinewidth": 0,
             "ticks": ""
            },
            "colorscale": [
             [
              0,
              "#0d0887"
             ],
             [
              0.1111111111111111,
              "#46039f"
             ],
             [
              0.2222222222222222,
              "#7201a8"
             ],
             [
              0.3333333333333333,
              "#9c179e"
             ],
             [
              0.4444444444444444,
              "#bd3786"
             ],
             [
              0.5555555555555556,
              "#d8576b"
             ],
             [
              0.6666666666666666,
              "#ed7953"
             ],
             [
              0.7777777777777778,
              "#fb9f3a"
             ],
             [
              0.8888888888888888,
              "#fdca26"
             ],
             [
              1,
              "#f0f921"
             ]
            ],
            "type": "histogram2dcontour"
           }
          ],
          "mesh3d": [
           {
            "colorbar": {
             "outlinewidth": 0,
             "ticks": ""
            },
            "type": "mesh3d"
           }
          ],
          "parcoords": [
           {
            "line": {
             "colorbar": {
              "outlinewidth": 0,
              "ticks": ""
             }
            },
            "type": "parcoords"
           }
          ],
          "pie": [
           {
            "automargin": true,
            "type": "pie"
           }
          ],
          "scatter": [
           {
            "fillpattern": {
             "fillmode": "overlay",
             "size": 10,
             "solidity": 0.2
            },
            "type": "scatter"
           }
          ],
          "scatter3d": [
           {
            "line": {
             "colorbar": {
              "outlinewidth": 0,
              "ticks": ""
             }
            },
            "marker": {
             "colorbar": {
              "outlinewidth": 0,
              "ticks": ""
             }
            },
            "type": "scatter3d"
           }
          ],
          "scattercarpet": [
           {
            "marker": {
             "colorbar": {
              "outlinewidth": 0,
              "ticks": ""
             }
            },
            "type": "scattercarpet"
           }
          ],
          "scattergeo": [
           {
            "marker": {
             "colorbar": {
              "outlinewidth": 0,
              "ticks": ""
             }
            },
            "type": "scattergeo"
           }
          ],
          "scattergl": [
           {
            "marker": {
             "colorbar": {
              "outlinewidth": 0,
              "ticks": ""
             }
            },
            "type": "scattergl"
           }
          ],
          "scattermapbox": [
           {
            "marker": {
             "colorbar": {
              "outlinewidth": 0,
              "ticks": ""
             }
            },
            "type": "scattermapbox"
           }
          ],
          "scatterpolar": [
           {
            "marker": {
             "colorbar": {
              "outlinewidth": 0,
              "ticks": ""
             }
            },
            "type": "scatterpolar"
           }
          ],
          "scatterpolargl": [
           {
            "marker": {
             "colorbar": {
              "outlinewidth": 0,
              "ticks": ""
             }
            },
            "type": "scatterpolargl"
           }
          ],
          "scatterternary": [
           {
            "marker": {
             "colorbar": {
              "outlinewidth": 0,
              "ticks": ""
             }
            },
            "type": "scatterternary"
           }
          ],
          "surface": [
           {
            "colorbar": {
             "outlinewidth": 0,
             "ticks": ""
            },
            "colorscale": [
             [
              0,
              "#0d0887"
             ],
             [
              0.1111111111111111,
              "#46039f"
             ],
             [
              0.2222222222222222,
              "#7201a8"
             ],
             [
              0.3333333333333333,
              "#9c179e"
             ],
             [
              0.4444444444444444,
              "#bd3786"
             ],
             [
              0.5555555555555556,
              "#d8576b"
             ],
             [
              0.6666666666666666,
              "#ed7953"
             ],
             [
              0.7777777777777778,
              "#fb9f3a"
             ],
             [
              0.8888888888888888,
              "#fdca26"
             ],
             [
              1,
              "#f0f921"
             ]
            ],
            "type": "surface"
           }
          ],
          "table": [
           {
            "cells": {
             "fill": {
              "color": "#EBF0F8"
             },
             "line": {
              "color": "white"
             }
            },
            "header": {
             "fill": {
              "color": "#C8D4E3"
             },
             "line": {
              "color": "white"
             }
            },
            "type": "table"
           }
          ]
         },
         "layout": {
          "annotationdefaults": {
           "arrowcolor": "#2a3f5f",
           "arrowhead": 0,
           "arrowwidth": 1
          },
          "autotypenumbers": "strict",
          "coloraxis": {
           "colorbar": {
            "outlinewidth": 0,
            "ticks": ""
           }
          },
          "colorscale": {
           "diverging": [
            [
             0,
             "#8e0152"
            ],
            [
             0.1,
             "#c51b7d"
            ],
            [
             0.2,
             "#de77ae"
            ],
            [
             0.3,
             "#f1b6da"
            ],
            [
             0.4,
             "#fde0ef"
            ],
            [
             0.5,
             "#f7f7f7"
            ],
            [
             0.6,
             "#e6f5d0"
            ],
            [
             0.7,
             "#b8e186"
            ],
            [
             0.8,
             "#7fbc41"
            ],
            [
             0.9,
             "#4d9221"
            ],
            [
             1,
             "#276419"
            ]
           ],
           "sequential": [
            [
             0,
             "#0d0887"
            ],
            [
             0.1111111111111111,
             "#46039f"
            ],
            [
             0.2222222222222222,
             "#7201a8"
            ],
            [
             0.3333333333333333,
             "#9c179e"
            ],
            [
             0.4444444444444444,
             "#bd3786"
            ],
            [
             0.5555555555555556,
             "#d8576b"
            ],
            [
             0.6666666666666666,
             "#ed7953"
            ],
            [
             0.7777777777777778,
             "#fb9f3a"
            ],
            [
             0.8888888888888888,
             "#fdca26"
            ],
            [
             1,
             "#f0f921"
            ]
           ],
           "sequentialminus": [
            [
             0,
             "#0d0887"
            ],
            [
             0.1111111111111111,
             "#46039f"
            ],
            [
             0.2222222222222222,
             "#7201a8"
            ],
            [
             0.3333333333333333,
             "#9c179e"
            ],
            [
             0.4444444444444444,
             "#bd3786"
            ],
            [
             0.5555555555555556,
             "#d8576b"
            ],
            [
             0.6666666666666666,
             "#ed7953"
            ],
            [
             0.7777777777777778,
             "#fb9f3a"
            ],
            [
             0.8888888888888888,
             "#fdca26"
            ],
            [
             1,
             "#f0f921"
            ]
           ]
          },
          "colorway": [
           "#636efa",
           "#EF553B",
           "#00cc96",
           "#ab63fa",
           "#FFA15A",
           "#19d3f3",
           "#FF6692",
           "#B6E880",
           "#FF97FF",
           "#FECB52"
          ],
          "font": {
           "color": "#2a3f5f"
          },
          "geo": {
           "bgcolor": "white",
           "lakecolor": "white",
           "landcolor": "#E5ECF6",
           "showlakes": true,
           "showland": true,
           "subunitcolor": "white"
          },
          "hoverlabel": {
           "align": "left"
          },
          "hovermode": "closest",
          "mapbox": {
           "style": "light"
          },
          "paper_bgcolor": "white",
          "plot_bgcolor": "#E5ECF6",
          "polar": {
           "angularaxis": {
            "gridcolor": "white",
            "linecolor": "white",
            "ticks": ""
           },
           "bgcolor": "#E5ECF6",
           "radialaxis": {
            "gridcolor": "white",
            "linecolor": "white",
            "ticks": ""
           }
          },
          "scene": {
           "xaxis": {
            "backgroundcolor": "#E5ECF6",
            "gridcolor": "white",
            "gridwidth": 2,
            "linecolor": "white",
            "showbackground": true,
            "ticks": "",
            "zerolinecolor": "white"
           },
           "yaxis": {
            "backgroundcolor": "#E5ECF6",
            "gridcolor": "white",
            "gridwidth": 2,
            "linecolor": "white",
            "showbackground": true,
            "ticks": "",
            "zerolinecolor": "white"
           },
           "zaxis": {
            "backgroundcolor": "#E5ECF6",
            "gridcolor": "white",
            "gridwidth": 2,
            "linecolor": "white",
            "showbackground": true,
            "ticks": "",
            "zerolinecolor": "white"
           }
          },
          "shapedefaults": {
           "line": {
            "color": "#2a3f5f"
           }
          },
          "ternary": {
           "aaxis": {
            "gridcolor": "white",
            "linecolor": "white",
            "ticks": ""
           },
           "baxis": {
            "gridcolor": "white",
            "linecolor": "white",
            "ticks": ""
           },
           "bgcolor": "#E5ECF6",
           "caxis": {
            "gridcolor": "white",
            "linecolor": "white",
            "ticks": ""
           }
          },
          "title": {
           "x": 0.05
          },
          "xaxis": {
           "automargin": true,
           "gridcolor": "white",
           "linecolor": "white",
           "ticks": "",
           "title": {
            "standoff": 15
           },
           "zerolinecolor": "white",
           "zerolinewidth": 2
          },
          "yaxis": {
           "automargin": true,
           "gridcolor": "white",
           "linecolor": "white",
           "ticks": "",
           "title": {
            "standoff": 15
           },
           "zerolinecolor": "white",
           "zerolinewidth": 2
          }
         }
        }
       }
      }
     },
     "metadata": {},
     "output_type": "display_data"
    }
   ],
   "source": [
    "fig = go.Figure(go.Funnel(\n",
    "    y = MostFrequentWordDF['Word'].tolist(),\n",
    "    x = MostFrequentWordDF['Count'].tolist(),\n",
    "    marker = {\"color\": color3}))\n",
    "fig.show()"
   ]
  },
  {
   "cell_type": "code",
   "execution_count": 21,
   "metadata": {},
   "outputs": [
    {
     "data": {
      "application/vnd.plotly.v1+json": {
       "config": {
        "plotlyServerURL": "https://plot.ly"
       },
       "data": [
        {
         "alignmentgroup": "True",
         "hovertemplate": "Count=%{x}<br>Word=%{y}<extra></extra>",
         "legendgroup": "",
         "marker": {
          "color": "#636efa",
          "pattern": {
           "shape": ""
          }
         },
         "name": "",
         "offsetgroup": "",
         "orientation": "h",
         "showlegend": false,
         "textposition": "auto",
         "type": "bar",
         "x": [
          7347,
          6617,
          3828,
          3154,
          2793,
          2312,
          1878,
          1444,
          1431,
          1247,
          1187,
          1077,
          1070,
          1070,
          986
         ],
         "xaxis": "x",
         "y": [
          "الروايه",
          "الكتاب",
          "كتاب",
          "روايه",
          "الكاتب",
          "الله",
          "اللي",
          "مش",
          "رائع",
          "الاحداث",
          "اسلوب",
          "رائعه",
          "قرات",
          "الكثير",
          "الحياه"
         ],
         "yaxis": "y"
        }
       ],
       "layout": {
        "barmode": "relative",
        "legend": {
         "tracegroupgap": 0
        },
        "margin": {
         "t": 60
        },
        "template": {
         "data": {
          "bar": [
           {
            "error_x": {
             "color": "#2a3f5f"
            },
            "error_y": {
             "color": "#2a3f5f"
            },
            "marker": {
             "line": {
              "color": "#E5ECF6",
              "width": 0.5
             },
             "pattern": {
              "fillmode": "overlay",
              "size": 10,
              "solidity": 0.2
             }
            },
            "type": "bar"
           }
          ],
          "barpolar": [
           {
            "marker": {
             "line": {
              "color": "#E5ECF6",
              "width": 0.5
             },
             "pattern": {
              "fillmode": "overlay",
              "size": 10,
              "solidity": 0.2
             }
            },
            "type": "barpolar"
           }
          ],
          "carpet": [
           {
            "aaxis": {
             "endlinecolor": "#2a3f5f",
             "gridcolor": "white",
             "linecolor": "white",
             "minorgridcolor": "white",
             "startlinecolor": "#2a3f5f"
            },
            "baxis": {
             "endlinecolor": "#2a3f5f",
             "gridcolor": "white",
             "linecolor": "white",
             "minorgridcolor": "white",
             "startlinecolor": "#2a3f5f"
            },
            "type": "carpet"
           }
          ],
          "choropleth": [
           {
            "colorbar": {
             "outlinewidth": 0,
             "ticks": ""
            },
            "type": "choropleth"
           }
          ],
          "contour": [
           {
            "colorbar": {
             "outlinewidth": 0,
             "ticks": ""
            },
            "colorscale": [
             [
              0,
              "#0d0887"
             ],
             [
              0.1111111111111111,
              "#46039f"
             ],
             [
              0.2222222222222222,
              "#7201a8"
             ],
             [
              0.3333333333333333,
              "#9c179e"
             ],
             [
              0.4444444444444444,
              "#bd3786"
             ],
             [
              0.5555555555555556,
              "#d8576b"
             ],
             [
              0.6666666666666666,
              "#ed7953"
             ],
             [
              0.7777777777777778,
              "#fb9f3a"
             ],
             [
              0.8888888888888888,
              "#fdca26"
             ],
             [
              1,
              "#f0f921"
             ]
            ],
            "type": "contour"
           }
          ],
          "contourcarpet": [
           {
            "colorbar": {
             "outlinewidth": 0,
             "ticks": ""
            },
            "type": "contourcarpet"
           }
          ],
          "heatmap": [
           {
            "colorbar": {
             "outlinewidth": 0,
             "ticks": ""
            },
            "colorscale": [
             [
              0,
              "#0d0887"
             ],
             [
              0.1111111111111111,
              "#46039f"
             ],
             [
              0.2222222222222222,
              "#7201a8"
             ],
             [
              0.3333333333333333,
              "#9c179e"
             ],
             [
              0.4444444444444444,
              "#bd3786"
             ],
             [
              0.5555555555555556,
              "#d8576b"
             ],
             [
              0.6666666666666666,
              "#ed7953"
             ],
             [
              0.7777777777777778,
              "#fb9f3a"
             ],
             [
              0.8888888888888888,
              "#fdca26"
             ],
             [
              1,
              "#f0f921"
             ]
            ],
            "type": "heatmap"
           }
          ],
          "heatmapgl": [
           {
            "colorbar": {
             "outlinewidth": 0,
             "ticks": ""
            },
            "colorscale": [
             [
              0,
              "#0d0887"
             ],
             [
              0.1111111111111111,
              "#46039f"
             ],
             [
              0.2222222222222222,
              "#7201a8"
             ],
             [
              0.3333333333333333,
              "#9c179e"
             ],
             [
              0.4444444444444444,
              "#bd3786"
             ],
             [
              0.5555555555555556,
              "#d8576b"
             ],
             [
              0.6666666666666666,
              "#ed7953"
             ],
             [
              0.7777777777777778,
              "#fb9f3a"
             ],
             [
              0.8888888888888888,
              "#fdca26"
             ],
             [
              1,
              "#f0f921"
             ]
            ],
            "type": "heatmapgl"
           }
          ],
          "histogram": [
           {
            "marker": {
             "pattern": {
              "fillmode": "overlay",
              "size": 10,
              "solidity": 0.2
             }
            },
            "type": "histogram"
           }
          ],
          "histogram2d": [
           {
            "colorbar": {
             "outlinewidth": 0,
             "ticks": ""
            },
            "colorscale": [
             [
              0,
              "#0d0887"
             ],
             [
              0.1111111111111111,
              "#46039f"
             ],
             [
              0.2222222222222222,
              "#7201a8"
             ],
             [
              0.3333333333333333,
              "#9c179e"
             ],
             [
              0.4444444444444444,
              "#bd3786"
             ],
             [
              0.5555555555555556,
              "#d8576b"
             ],
             [
              0.6666666666666666,
              "#ed7953"
             ],
             [
              0.7777777777777778,
              "#fb9f3a"
             ],
             [
              0.8888888888888888,
              "#fdca26"
             ],
             [
              1,
              "#f0f921"
             ]
            ],
            "type": "histogram2d"
           }
          ],
          "histogram2dcontour": [
           {
            "colorbar": {
             "outlinewidth": 0,
             "ticks": ""
            },
            "colorscale": [
             [
              0,
              "#0d0887"
             ],
             [
              0.1111111111111111,
              "#46039f"
             ],
             [
              0.2222222222222222,
              "#7201a8"
             ],
             [
              0.3333333333333333,
              "#9c179e"
             ],
             [
              0.4444444444444444,
              "#bd3786"
             ],
             [
              0.5555555555555556,
              "#d8576b"
             ],
             [
              0.6666666666666666,
              "#ed7953"
             ],
             [
              0.7777777777777778,
              "#fb9f3a"
             ],
             [
              0.8888888888888888,
              "#fdca26"
             ],
             [
              1,
              "#f0f921"
             ]
            ],
            "type": "histogram2dcontour"
           }
          ],
          "mesh3d": [
           {
            "colorbar": {
             "outlinewidth": 0,
             "ticks": ""
            },
            "type": "mesh3d"
           }
          ],
          "parcoords": [
           {
            "line": {
             "colorbar": {
              "outlinewidth": 0,
              "ticks": ""
             }
            },
            "type": "parcoords"
           }
          ],
          "pie": [
           {
            "automargin": true,
            "type": "pie"
           }
          ],
          "scatter": [
           {
            "fillpattern": {
             "fillmode": "overlay",
             "size": 10,
             "solidity": 0.2
            },
            "type": "scatter"
           }
          ],
          "scatter3d": [
           {
            "line": {
             "colorbar": {
              "outlinewidth": 0,
              "ticks": ""
             }
            },
            "marker": {
             "colorbar": {
              "outlinewidth": 0,
              "ticks": ""
             }
            },
            "type": "scatter3d"
           }
          ],
          "scattercarpet": [
           {
            "marker": {
             "colorbar": {
              "outlinewidth": 0,
              "ticks": ""
             }
            },
            "type": "scattercarpet"
           }
          ],
          "scattergeo": [
           {
            "marker": {
             "colorbar": {
              "outlinewidth": 0,
              "ticks": ""
             }
            },
            "type": "scattergeo"
           }
          ],
          "scattergl": [
           {
            "marker": {
             "colorbar": {
              "outlinewidth": 0,
              "ticks": ""
             }
            },
            "type": "scattergl"
           }
          ],
          "scattermapbox": [
           {
            "marker": {
             "colorbar": {
              "outlinewidth": 0,
              "ticks": ""
             }
            },
            "type": "scattermapbox"
           }
          ],
          "scatterpolar": [
           {
            "marker": {
             "colorbar": {
              "outlinewidth": 0,
              "ticks": ""
             }
            },
            "type": "scatterpolar"
           }
          ],
          "scatterpolargl": [
           {
            "marker": {
             "colorbar": {
              "outlinewidth": 0,
              "ticks": ""
             }
            },
            "type": "scatterpolargl"
           }
          ],
          "scatterternary": [
           {
            "marker": {
             "colorbar": {
              "outlinewidth": 0,
              "ticks": ""
             }
            },
            "type": "scatterternary"
           }
          ],
          "surface": [
           {
            "colorbar": {
             "outlinewidth": 0,
             "ticks": ""
            },
            "colorscale": [
             [
              0,
              "#0d0887"
             ],
             [
              0.1111111111111111,
              "#46039f"
             ],
             [
              0.2222222222222222,
              "#7201a8"
             ],
             [
              0.3333333333333333,
              "#9c179e"
             ],
             [
              0.4444444444444444,
              "#bd3786"
             ],
             [
              0.5555555555555556,
              "#d8576b"
             ],
             [
              0.6666666666666666,
              "#ed7953"
             ],
             [
              0.7777777777777778,
              "#fb9f3a"
             ],
             [
              0.8888888888888888,
              "#fdca26"
             ],
             [
              1,
              "#f0f921"
             ]
            ],
            "type": "surface"
           }
          ],
          "table": [
           {
            "cells": {
             "fill": {
              "color": "#EBF0F8"
             },
             "line": {
              "color": "white"
             }
            },
            "header": {
             "fill": {
              "color": "#C8D4E3"
             },
             "line": {
              "color": "white"
             }
            },
            "type": "table"
           }
          ]
         },
         "layout": {
          "annotationdefaults": {
           "arrowcolor": "#2a3f5f",
           "arrowhead": 0,
           "arrowwidth": 1
          },
          "autotypenumbers": "strict",
          "coloraxis": {
           "colorbar": {
            "outlinewidth": 0,
            "ticks": ""
           }
          },
          "colorscale": {
           "diverging": [
            [
             0,
             "#8e0152"
            ],
            [
             0.1,
             "#c51b7d"
            ],
            [
             0.2,
             "#de77ae"
            ],
            [
             0.3,
             "#f1b6da"
            ],
            [
             0.4,
             "#fde0ef"
            ],
            [
             0.5,
             "#f7f7f7"
            ],
            [
             0.6,
             "#e6f5d0"
            ],
            [
             0.7,
             "#b8e186"
            ],
            [
             0.8,
             "#7fbc41"
            ],
            [
             0.9,
             "#4d9221"
            ],
            [
             1,
             "#276419"
            ]
           ],
           "sequential": [
            [
             0,
             "#0d0887"
            ],
            [
             0.1111111111111111,
             "#46039f"
            ],
            [
             0.2222222222222222,
             "#7201a8"
            ],
            [
             0.3333333333333333,
             "#9c179e"
            ],
            [
             0.4444444444444444,
             "#bd3786"
            ],
            [
             0.5555555555555556,
             "#d8576b"
            ],
            [
             0.6666666666666666,
             "#ed7953"
            ],
            [
             0.7777777777777778,
             "#fb9f3a"
            ],
            [
             0.8888888888888888,
             "#fdca26"
            ],
            [
             1,
             "#f0f921"
            ]
           ],
           "sequentialminus": [
            [
             0,
             "#0d0887"
            ],
            [
             0.1111111111111111,
             "#46039f"
            ],
            [
             0.2222222222222222,
             "#7201a8"
            ],
            [
             0.3333333333333333,
             "#9c179e"
            ],
            [
             0.4444444444444444,
             "#bd3786"
            ],
            [
             0.5555555555555556,
             "#d8576b"
            ],
            [
             0.6666666666666666,
             "#ed7953"
            ],
            [
             0.7777777777777778,
             "#fb9f3a"
            ],
            [
             0.8888888888888888,
             "#fdca26"
            ],
            [
             1,
             "#f0f921"
            ]
           ]
          },
          "colorway": [
           "#636efa",
           "#EF553B",
           "#00cc96",
           "#ab63fa",
           "#FFA15A",
           "#19d3f3",
           "#FF6692",
           "#B6E880",
           "#FF97FF",
           "#FECB52"
          ],
          "font": {
           "color": "#2a3f5f"
          },
          "geo": {
           "bgcolor": "white",
           "lakecolor": "white",
           "landcolor": "#E5ECF6",
           "showlakes": true,
           "showland": true,
           "subunitcolor": "white"
          },
          "hoverlabel": {
           "align": "left"
          },
          "hovermode": "closest",
          "mapbox": {
           "style": "light"
          },
          "paper_bgcolor": "white",
          "plot_bgcolor": "#E5ECF6",
          "polar": {
           "angularaxis": {
            "gridcolor": "white",
            "linecolor": "white",
            "ticks": ""
           },
           "bgcolor": "#E5ECF6",
           "radialaxis": {
            "gridcolor": "white",
            "linecolor": "white",
            "ticks": ""
           }
          },
          "scene": {
           "xaxis": {
            "backgroundcolor": "#E5ECF6",
            "gridcolor": "white",
            "gridwidth": 2,
            "linecolor": "white",
            "showbackground": true,
            "ticks": "",
            "zerolinecolor": "white"
           },
           "yaxis": {
            "backgroundcolor": "#E5ECF6",
            "gridcolor": "white",
            "gridwidth": 2,
            "linecolor": "white",
            "showbackground": true,
            "ticks": "",
            "zerolinecolor": "white"
           },
           "zaxis": {
            "backgroundcolor": "#E5ECF6",
            "gridcolor": "white",
            "gridwidth": 2,
            "linecolor": "white",
            "showbackground": true,
            "ticks": "",
            "zerolinecolor": "white"
           }
          },
          "shapedefaults": {
           "line": {
            "color": "#2a3f5f"
           }
          },
          "ternary": {
           "aaxis": {
            "gridcolor": "white",
            "linecolor": "white",
            "ticks": ""
           },
           "baxis": {
            "gridcolor": "white",
            "linecolor": "white",
            "ticks": ""
           },
           "bgcolor": "#E5ECF6",
           "caxis": {
            "gridcolor": "white",
            "linecolor": "white",
            "ticks": ""
           }
          },
          "title": {
           "x": 0.05
          },
          "xaxis": {
           "automargin": true,
           "gridcolor": "white",
           "linecolor": "white",
           "ticks": "",
           "title": {
            "standoff": 15
           },
           "zerolinecolor": "white",
           "zerolinewidth": 2
          },
          "yaxis": {
           "automargin": true,
           "gridcolor": "white",
           "linecolor": "white",
           "ticks": "",
           "title": {
            "standoff": 15
           },
           "zerolinecolor": "white",
           "zerolinewidth": 2
          }
         }
        },
        "xaxis": {
         "anchor": "y",
         "domain": [
          0,
          1
         ],
         "title": {
          "text": "Count"
         }
        },
        "yaxis": {
         "anchor": "x",
         "domain": [
          0,
          1
         ],
         "title": {
          "text": "Word"
         }
        }
       }
      }
     },
     "metadata": {},
     "output_type": "display_data"
    }
   ],
   "source": [
    "fig = px.bar(MostFrequentWordDF, y='Word', x='Count',  orientation='h')\n",
    "fig.show()"
   ]
  },
  {
   "cell_type": "markdown",
   "metadata": {},
   "source": [
    "# Number Of Words "
   ]
  },
  {
   "cell_type": "code",
   "execution_count": 22,
   "metadata": {},
   "outputs": [
    {
     "data": {
      "text/plain": [
       "569211"
      ]
     },
     "execution_count": 22,
     "metadata": {},
     "output_type": "execute_result"
    }
   ],
   "source": [
    "Corpus[\"Number of Words\"] = Corpus[\"Normalized_Text\"].apply(lambda n:len(simple_word_tokenize(n)))\n",
    "Corpus.drop(Corpus[ Corpus[\"Number of Words\"] == 0].index, inplace = True)\n",
    "Corpus[\"Number of Words\"].sum()"
   ]
  },
  {
   "cell_type": "markdown",
   "metadata": {},
   "source": [
    "# Number Of Charachters "
   ]
  },
  {
   "cell_type": "code",
   "execution_count": 23,
   "metadata": {},
   "outputs": [
    {
     "data": {
      "text/plain": [
       "3543446"
      ]
     },
     "execution_count": 23,
     "metadata": {},
     "output_type": "execute_result"
    }
   ],
   "source": [
    "Corpus[\"Number of Charachters\"] = Corpus[\"Normalized_Text\"].str.len()\n",
    "Corpus[\"Number of Charachters\"].sum()"
   ]
  },
  {
   "cell_type": "markdown",
   "metadata": {},
   "source": [
    "# Average Number Of Words "
   ]
  },
  {
   "cell_type": "code",
   "execution_count": 24,
   "metadata": {},
   "outputs": [
    {
     "data": {
      "text/plain": [
       "35"
      ]
     },
     "execution_count": 24,
     "metadata": {},
     "output_type": "execute_result"
    }
   ],
   "source": [
    "AverageNaumberOfWords = int(np.round((Corpus[\"Number of Words\"].mean())))\n",
    "AverageNaumberOfWords"
   ]
  },
  {
   "cell_type": "markdown",
   "metadata": {},
   "source": [
    "# Average Number Of Charachters "
   ]
  },
  {
   "cell_type": "code",
   "execution_count": 25,
   "metadata": {},
   "outputs": [
    {
     "data": {
      "text/plain": [
       "216"
      ]
     },
     "execution_count": 25,
     "metadata": {},
     "output_type": "execute_result"
    }
   ],
   "source": [
    "AverageNumberOfCharachters = int(np.round(Corpus[\"Number of Charachters\"].mean()))\n",
    "AverageNumberOfCharachters"
   ]
  },
  {
   "cell_type": "markdown",
   "metadata": {},
   "source": [
    "# Maximum Number Of Word"
   ]
  },
  {
   "cell_type": "code",
   "execution_count": 26,
   "metadata": {},
   "outputs": [
    {
     "data": {
      "text/plain": [
       "1853"
      ]
     },
     "execution_count": 26,
     "metadata": {},
     "output_type": "execute_result"
    }
   ],
   "source": [
    "MaximumNaumberOfWords = Corpus[\"Number of Words\"].max()\n",
    "MaximumNaumberOfWords"
   ]
  },
  {
   "cell_type": "markdown",
   "metadata": {},
   "source": [
    "# Maximum Number Of Charachters "
   ]
  },
  {
   "cell_type": "code",
   "execution_count": 27,
   "metadata": {},
   "outputs": [
    {
     "data": {
      "text/plain": [
       "11593"
      ]
     },
     "execution_count": 27,
     "metadata": {},
     "output_type": "execute_result"
    }
   ],
   "source": [
    "MaximumNumberOfCharachters = Corpus['Number of Charachters'].max() \n",
    "MaximumNumberOfCharachters"
   ]
  },
  {
   "cell_type": "markdown",
   "metadata": {},
   "source": [
    "# Minimum Number Of Words"
   ]
  },
  {
   "cell_type": "code",
   "execution_count": 28,
   "metadata": {},
   "outputs": [
    {
     "data": {
      "text/plain": [
       "1"
      ]
     },
     "execution_count": 28,
     "metadata": {},
     "output_type": "execute_result"
    }
   ],
   "source": [
    "MimimumNaumberOfWords = Corpus[\"Number of Words\"].min()\n",
    "MimimumNaumberOfWords"
   ]
  },
  {
   "cell_type": "markdown",
   "metadata": {},
   "source": [
    "# Minimum Number Of Charachters "
   ]
  },
  {
   "cell_type": "code",
   "execution_count": 29,
   "metadata": {},
   "outputs": [
    {
     "data": {
      "text/plain": [
       "215"
      ]
     },
     "execution_count": 29,
     "metadata": {},
     "output_type": "execute_result"
    }
   ],
   "source": [
    "MinimumNumberOfCharachters = int(Corpus['Number of Charachters'].mean() )\n",
    "MinimumNumberOfCharachters"
   ]
  },
  {
   "cell_type": "markdown",
   "metadata": {},
   "source": [
    "# Split The DataSet Into Independent Variables , And Dependent Variable (Y)"
   ]
  },
  {
   "cell_type": "code",
   "execution_count": 30,
   "metadata": {},
   "outputs": [],
   "source": [
    "X= Corpus['Normalized_Text']\n",
    "y = Corpus['Sentiment']"
   ]
  },
  {
   "cell_type": "markdown",
   "metadata": {},
   "source": [
    "# Label Encoder"
   ]
  },
  {
   "cell_type": "code",
   "execution_count": 31,
   "metadata": {},
   "outputs": [],
   "source": [
    "y = LabelEncoder().fit_transform(y)"
   ]
  },
  {
   "cell_type": "markdown",
   "metadata": {},
   "source": [
    "# Split The Dataset Into Training And Testing"
   ]
  },
  {
   "cell_type": "code",
   "execution_count": 32,
   "metadata": {},
   "outputs": [],
   "source": [
    "X_train, X_test, y_train, y_test = train_test_split(X, y, test_size=0.15, random_state=40)"
   ]
  },
  {
   "cell_type": "markdown",
   "metadata": {},
   "source": [
    "# CountVectorizer"
   ]
  },
  {
   "cell_type": "code",
   "execution_count": 33,
   "metadata": {},
   "outputs": [],
   "source": [
    "CV = CountVectorizer()\n",
    "X_train_CV = CV.fit_transform(X_train)\n",
    "X_test_CV = CV.transform(X_test)"
   ]
  },
  {
   "cell_type": "code",
   "execution_count": 34,
   "metadata": {},
   "outputs": [
    {
     "data": {
      "text/plain": [
       "{'تقييمي': 25977,\n",
       " 'للكتاب': 44489,\n",
       " 'نجمتين': 51475,\n",
       " 'ونص': 63644,\n",
       " 'شاهدت': 33009,\n",
       " 'المسلسل': 13164,\n",
       " 'الكتاب': 11587,\n",
       " 'اسمع': 2928,\n",
       " 'المدونهالا': 12831,\n",
       " 'الموقع': 14291,\n",
       " 'دمه': 30076,\n",
       " 'خفيف': 29474,\n",
       " 'اوي': 16365,\n",
       " 'شربات': 33183,\n",
       " 'قول': 39245,\n",
       " 'المصريين': 13312,\n",
       " 'يضحك': 67151,\n",
       " 'يبكي': 65164,\n",
       " 'تعليق': 25362,\n",
       " 'عجبتني': 35098,\n",
       " 'مقاله': 49716,\n",
       " 'الانسان': 5873,\n",
       " 'يتكلم': 65543,\n",
       " 'بكلمه': 21083,\n",
       " 'ويظن': 64568,\n",
       " 'عادي': 34797,\n",
       " 'بتاثر': 18753,\n",
       " 'بقوه': 20973,\n",
       " 'الكلمات': 11687,\n",
       " 'الاحيان': 4915,\n",
       " 'تاثير': 22502,\n",
       " 'مدمر': 48102,\n",
       " 'ارزقنا': 2068,\n",
       " 'بالازواج': 17110,\n",
       " 'الصالحيين': 9720,\n",
       " 'بدايه': 19691,\n",
       " 'قراءتي': 38799,\n",
       " 'البدايه': 6163,\n",
       " 'جميله': 27777,\n",
       " 'اشعر': 3107,\n",
       " 'افكاره': 4202,\n",
       " 'مفيده': 49671,\n",
       " 'مقنعه': 49870,\n",
       " 'يوتوبيا': 68663,\n",
       " 'مكرره': 49966,\n",
       " 'تفتقر': 25573,\n",
       " 'للعمق': 44341,\n",
       " 'لمبرر': 44895,\n",
       " 'الصراع': 9799,\n",
       " 'الواضح': 14849,\n",
       " 'سوداويه': 32552,\n",
       " 'محتمله': 47722,\n",
       " 'محاوله': 47648,\n",
       " 'استنساخ': 2710,\n",
       " 'لعمل': 43018,\n",
       " 'سابق': 31503,\n",
       " 'تنبا': 26466,\n",
       " 'بثوره': 19289,\n",
       " 'فاورد': 36867,\n",
       " 'عمل': 35683,\n",
       " 'لاحق': 40867,\n",
       " 'الثوره': 7324,\n",
       " 'كانه': 39664,\n",
       " 'تاكيد': 22593,\n",
       " 'نبوئته': 51280,\n",
       " 'مقحمه': 49771,\n",
       " 'النص': 14511,\n",
       " 'فج': 37137,\n",
       " 'الماساوي': 12048,\n",
       " 'يحتمل': 65891,\n",
       " 'اطار': 3407,\n",
       " 'النذير': 14460,\n",
       " 'اليقظه': 15087,\n",
       " 'الوصف': 14965,\n",
       " 'التهاويم': 7155,\n",
       " 'حلم': 28781,\n",
       " 'محتمل': 47720,\n",
       " 'مشهد': 48912,\n",
       " 'الاغتصاب': 5471,\n",
       " 'لمسني': 45027,\n",
       " 'بشده': 20248,\n",
       " 'وانتظرت': 57259,\n",
       " 'تفتحا': 25565,\n",
       " 'للنهايه': 44784,\n",
       " 'الاقل': 5579,\n",
       " 'سئ': 31465,\n",
       " 'النهايهكانت': 14635,\n",
       " 'اسوا': 2964,\n",
       " 'يبدا': 65113,\n",
       " 'وينتهي': 64793,\n",
       " 'نقاط': 52245,\n",
       " 'احمد': 1333,\n",
       " 'خالد': 29139,\n",
       " 'توفيق': 26949,\n",
       " 'يصلح': 67105,\n",
       " 'كروائي': 39988,\n",
       " 'طراز': 34416,\n",
       " 'الواقع': 14857,\n",
       " 'والنفس': 57028,\n",
       " 'بارع': 16765,\n",
       " 'منطقه': 50523,\n",
       " 'الفانتازيا': 10851,\n",
       " 'مهدر': 50692,\n",
       " 'شعرت': 33291,\n",
       " 'حديث': 28290,\n",
       " 'النفس': 14561,\n",
       " 'جاء': 27194,\n",
       " 'كتب': 39756,\n",
       " 'بتوقيت': 19258,\n",
       " 'دفعه': 29971,\n",
       " 'واحده': 53637,\n",
       " 'مريد': 48378,\n",
       " 'اغلق': 3988,\n",
       " 'حاله': 28113,\n",
       " 'الباب': 6061,\n",
       " 'صم': 33963,\n",
       " 'اذنه': 1887,\n",
       " 'فراحت': 37274,\n",
       " 'ذكرياتها': 30338,\n",
       " 'تنسي': 26562,\n",
       " 'واقعها': 54554,\n",
       " 'تخط': 23736,\n",
       " 'تتعدد': 22984,\n",
       " 'الاسماء': 5273,\n",
       " 'الشخصيات': 9482,\n",
       " 'كثرتها': 39826,\n",
       " 'تشعرك': 24706,\n",
       " 'بالضجر': 17884,\n",
       " 'بالتشتت': 17372,\n",
       " 'العكس': 10492,\n",
       " 'تماما': 26261,\n",
       " 'يشبه': 66910,\n",
       " 'فوضي': 38189,\n",
       " 'الذكريات': 8484,\n",
       " 'تتخبط': 22857,\n",
       " 'تتعرف': 22988,\n",
       " 'اصدقاء': 3223,\n",
       " 'عائله': 34737,\n",
       " 'تشعر': 24705,\n",
       " 'صحبه': 33721,\n",
       " 'طيبه': 34627,\n",
       " 'سافرت': 31653,\n",
       " 'رحله': 30730,\n",
       " 'مميزه': 50308,\n",
       " 'رام': 30569,\n",
       " 'الله': 11931,\n",
       " 'ديرغسانه': 30211,\n",
       " 'قطر': 39062,\n",
       " 'فرنسا': 37392,\n",
       " 'بودابست': 21912,\n",
       " 'القاهره': 11233,\n",
       " 'رايت': 30592,\n",
       " 'ذكر': 30314,\n",
       " 'دربا': 29851,\n",
       " 'الوفاء': 14997,\n",
       " 'احببته': 1028,\n",
       " 'يزعجني': 66558,\n",
       " 'يحمل': 66016,\n",
       " 'صدق': 33774,\n",
       " 'المشاعر': 13212,\n",
       " 'طياته': 34620,\n",
       " 'تملك': 26353,\n",
       " 'تصدقه': 24820,\n",
       " 'فتتفق': 36961,\n",
       " 'بطريقه': 20478,\n",
       " 'باخري': 16687,\n",
       " 'الكثير': 11618,\n",
       " 'الشذرات': 9494,\n",
       " 'الممتعه': 13929,\n",
       " 'بقدر': 20878,\n",
       " 'حقيقتها': 28693,\n",
       " 'المؤلمه': 11998,\n",
       " 'بالكتاب': 18146,\n",
       " 'بجانب': 19297,\n",
       " 'الحديث': 7737,\n",
       " 'القضيه': 11396,\n",
       " 'الفلسطينيه': 11075,\n",
       " 'سياسيه': 32608,\n",
       " 'البته': 6134,\n",
       " 'باسلوب': 16843,\n",
       " 'مواطن': 50777,\n",
       " 'فلسطيني': 37906,\n",
       " 'عاش': 34822,\n",
       " 'الشتات': 9462,\n",
       " 'بكثير': 21040,\n",
       " 'الانحاء': 5849,\n",
       " 'موت': 50799,\n",
       " 'منيف': 50652,\n",
       " 'المرافق': 12878,\n",
       " 'للاحداث': 43437,\n",
       " 'طوال': 34583,\n",
       " 'للجميع': 43879,\n",
       " 'للمواطن': 44719,\n",
       " 'الفلسطيني': 11073,\n",
       " 'بصفه': 20384,\n",
       " 'للمغترب': 44662,\n",
       " 'يملك': 68250,\n",
       " 'حس': 28444,\n",
       " 'مرهف': 48352,\n",
       " 'سيجد': 32659,\n",
       " 'جزء': 27558,\n",
       " 'يحاكي': 65834,\n",
       " 'الغربه': 10702,\n",
       " 'تفعله': 25650,\n",
       " 'المرء': 12859,\n",
       " 'تعود': 25410,\n",
       " 'لطبيعتها': 42879,\n",
       " 'يشفيها': 66990,\n",
       " 'سقم': 32206,\n",
       " 'الرجوع': 8611,\n",
       " 'الوطن': 14982,\n",
       " 'يستحق': 66637,\n",
       " 'القراءه': 11302,\n",
       " 'يصر': 67077,\n",
       " 'نجيب': 51488,\n",
       " 'محفوظ': 47813,\n",
       " 'اظهار': 3524,\n",
       " 'تناقض': 26435,\n",
       " 'البشر': 6242,\n",
       " 'فالانسان': 36612,\n",
       " 'محترم': 47709,\n",
       " 'سكير': 32249,\n",
       " 'مؤمن': 45995,\n",
       " 'بالقدر': 18097,\n",
       " 'ملحد': 50092,\n",
       " 'كسير': 40041,\n",
       " 'جبار': 27328,\n",
       " 'الكاتب': 11524,\n",
       " 'يقفز': 67900,\n",
       " 'فجاه': 37147,\n",
       " 'موقف': 50940,\n",
       " 'فيحيك': 38261,\n",
       " 'الروايه': 8792,\n",
       " 'لتصبح': 41932,\n",
       " 'الكلمه': 11689,\n",
       " 'هي': 53218,\n",
       " 'السنجه': 9270,\n",
       " 'تصبح': 24802,\n",
       " 'السرنجه': 9124,\n",
       " 'السرجه': 9114,\n",
       " 'السيجه': 9355,\n",
       " 'عفاف': 35460,\n",
       " 'تعمل': 25389,\n",
       " 'كوافير': 40485,\n",
       " 'بائعه': 16545,\n",
       " 'دجاج': 29797,\n",
       " 'محل': 47831,\n",
       " 'لبيع': 41692,\n",
       " 'الطرح': 10039,\n",
       " 'صفحه': 33918,\n",
       " 'تقف': 25884,\n",
       " 'ضدي': 34159,\n",
       " 'تعقد': 25322,\n",
       " 'فهمي': 38134,\n",
       " 'تركي': 24185,\n",
       " 'للروايه': 44094,\n",
       " 'منتصفها': 50402,\n",
       " 'اكملها': 4660,\n",
       " 'خرجت': 29291,\n",
       " 'اعرف': 3750,\n",
       " 'صحيحا': 33742,\n",
       " 'فكنت': 37853,\n",
       " 'احاول': 1011,\n",
       " 'اجد': 869,\n",
       " 'مخرج': 47952,\n",
       " 'يجلي': 65777,\n",
       " 'الضبابيه': 9913,\n",
       " 'وجدت': 59303,\n",
       " 'اخرجت': 1562,\n",
       " 'الشكل': 9607,\n",
       " 'لنتسائل': 45245,\n",
       " 'يهم': 68622,\n",
       " 'ابراهيم': 191,\n",
       " 'حي': 28968,\n",
       " 'ميت': 50984,\n",
       " 'المهم': 14175,\n",
       " 'حدث': 28265,\n",
       " 'سيحدث': 32674,\n",
       " 'باختلاف': 16677,\n",
       " 'عملها': 35699,\n",
       " 'يحدث': 65909,\n",
       " 'الاحياء': 4914,\n",
       " 'نعيشه': 52108,\n",
       " 'روايه': 31109,\n",
       " 'فلسفيه': 37921,\n",
       " 'غلا': 36153,\n",
       " 'لغتها': 43062,\n",
       " 'سيئه': 32589,\n",
       " 'فالمصريه': 36775,\n",
       " 'كلهجه': 40281,\n",
       " 'منطوقه': 50532,\n",
       " 'ومسموعه': 63005,\n",
       " 'مستلطفه': 48621,\n",
       " 'وجميله': 59411,\n",
       " 'مقروءه': 49813,\n",
       " 'قيل': 39290,\n",
       " 'طه': 34573,\n",
       " 'حسين': 28503,\n",
       " 'اثني': 796,\n",
       " 'وانني': 57388,\n",
       " 'يجعلني': 65763,\n",
       " 'انبهر': 15428,\n",
       " 'واعجب': 54365,\n",
       " 'قراءتها': 38796,\n",
       " 'متعسره': 47164,\n",
       " 'جدا': 27378,\n",
       " 'بت': 18748,\n",
       " 'اخذها': 1547,\n",
       " 'مكان': 49907,\n",
       " 'لاتخلص': 40710,\n",
       " 'واقراها': 54535,\n",
       " 'فراغ': 37287,\n",
       " 'اضفته': 3389,\n",
       " 'ادخلتني': 1731,\n",
       " 'الحاره': 7654,\n",
       " 'المصريه': 13310,\n",
       " 'بعمق': 20675,\n",
       " 'باجواء': 16621,\n",
       " 'الفقر': 11025,\n",
       " 'الامه': 5765,\n",
       " 'وبساطه': 57781,\n",
       " 'الناس': 14363,\n",
       " 'وتالفهم': 58059,\n",
       " 'الحسنه': 7804,\n",
       " 'الابداع': 4725,\n",
       " 'عمري': 35676,\n",
       " 'ماكنت': 46468,\n",
       " 'اتخيل': 428,\n",
       " 'حد': 28256,\n",
       " 'يكتب': 67973,\n",
       " 'الحاجات': 7634,\n",
       " 'اللي': 11952,\n",
       " 'بيحس': 22107,\n",
       " 'بيها': 22407,\n",
       " 'شخص': 33110,\n",
       " 'تاني': 22635,\n",
       " 'بالطريقه': 17908,\n",
       " 'دي': 30197,\n",
       " 'متعمق': 47180,\n",
       " 'جوه': 27941,\n",
       " 'مشاعر': 48814,\n",
       " 'افكار': 4195,\n",
       " 'هيبا': 53226,\n",
       " 'فظيعه': 37631,\n",
       " 'خياليه': 29662,\n",
       " 'لدرجه': 42445,\n",
       " 'تصدق': 24819,\n",
       " 'مخططوطات': 47977,\n",
       " 'حقيقيه': 28698,\n",
       " 'مش': 48795,\n",
       " 'مجرد': 47536,\n",
       " 'صادمه': 33633,\n",
       " 'افكاار': 4194,\n",
       " 'كتيير': 39819,\n",
       " 'تخليك': 23792,\n",
       " 'تفكر': 25659,\n",
       " 'غنيه': 36216,\n",
       " 'مليانه': 50201,\n",
       " 'بالمعاني': 18315,\n",
       " 'التعبيرات': 6856,\n",
       " 'التشبيهات': 6756,\n",
       " 'علشان': 35579,\n",
       " 'كده': 39913,\n",
       " 'اخدت': 1526,\n",
       " 'قرايتها': 38859,\n",
       " 'لاني': 41401,\n",
       " 'مركز': 48340,\n",
       " 'مستمتع': 48622,\n",
       " 'متشوق': 47101,\n",
       " 'اني': 16021,\n",
       " 'الاحداث': 4885,\n",
       " 'مسيحي': 48781,\n",
       " 'لكني': 43391,\n",
       " 'ماحسيتش': 46219,\n",
       " 'ضيق': 34272,\n",
       " 'تبدو': 22695,\n",
       " 'غريبه': 36085,\n",
       " 'الفني': 11109,\n",
       " 'يقاس': 67762,\n",
       " 'متاكد': 46880,\n",
       " 'الوقائع': 15005,\n",
       " 'المذكوره': 12845,\n",
       " 'لكب': 43338,\n",
       " 'ده': 30111,\n",
       " 'اثرش': 771,\n",
       " 'اعجابي': 3691,\n",
       " 'بالروايه': 17717,\n",
       " 'متناقضه': 47322,\n",
       " 'زي': 31415,\n",
       " 'التباس': 6493,\n",
       " 'ممتعه': 50239,\n",
       " 'مشوقه': 48925,\n",
       " 'عميقه': 35733,\n",
       " 'جداا': 27379,\n",
       " 'انصح': 15772,\n",
       " 'يقراها': 67837,\n",
       " 'اويد': 16366,\n",
       " 'طرحه': 34425,\n",
       " 'الجزء': 7463,\n",
       " 'افكاراو': 4199,\n",
       " 'حلول': 28796,\n",
       " 'نواجهه': 52534,\n",
       " 'مشاكل': 48823,\n",
       " 'زمننا': 31353,\n",
       " 'يعتبر': 67345,\n",
       " 'نوعا': 52580,\n",
       " 'يريدون': 66539,\n",
       " 'لقرائته': 43252,\n",
       " 'متن': 47305,\n",
       " 'الطائره': 9976,\n",
       " 'اجمل': 939,\n",
       " 'اقتباسات': 4281,\n",
       " 'غاندي': 35977,\n",
       " 'وتعليق': 58775,\n",
       " 'الاستاذ': 5132,\n",
       " 'شقيري': 33388,\n",
       " 'ومقارنتها': 63223,\n",
       " 'بوضعنا': 21959,\n",
       " 'رفيقه': 30961,\n",
       " 'الليل': 11960,\n",
       " 'مقعدي': 49856,\n",
       " 'الدائري': 8265,\n",
       " 'الاحمر': 4910,\n",
       " 'كنت': 40420,\n",
       " 'اشعرني': 3109,\n",
       " 'احتضن': 1100,\n",
       " 'احميها': 1341,\n",
       " 'انتقالها': 15532,\n",
       " 'سطر': 32122,\n",
       " 'مخافه': 47894,\n",
       " 'تعلوني': 25360,\n",
       " 'اطالها': 3419,\n",
       " 'انزلق': 15700,\n",
       " 'فاتوه': 36333,\n",
       " 'جنون': 27817,\n",
       " 'لست': 42671,\n",
       " 'قده': 38756,\n",
       " 'اخذني': 1545,\n",
       " 'افواه': 4232,\n",
       " 'المواطنين': 14217,\n",
       " 'الغلابه': 10743,\n",
       " 'روائح': 31074,\n",
       " 'البرتقال': 6203,\n",
       " 'العبقه': 10267,\n",
       " 'شجره': 33086,\n",
       " 'الدار': 8272,\n",
       " 'العجوز': 10301,\n",
       " 'قل': 39098,\n",
       " 'سيره': 32719,\n",
       " 'ادبيه': 1719,\n",
       " 'تمل': 26344,\n",
       " 'استمتعت': 2680,\n",
       " 'بقراءه': 20897,\n",
       " 'حبيت': 28185,\n",
       " 'جزئيه': 27573,\n",
       " 'اللون': 11950,\n",
       " 'كويلو': 40556,\n",
       " 'لفتت': 43116,\n",
       " 'نظري': 52032,\n",
       " 'هالنقطه': 52744,\n",
       " 'يحققوا': 65988,\n",
       " 'حياتهم': 28981,\n",
       " 'يركزون': 66494,\n",
       " 'ضعفهم': 34194,\n",
       " 'ويحاولون': 64252,\n",
       " 'جاهدين': 27303,\n",
       " 'تقويتها': 25948,\n",
       " 'متناسين': 47315,\n",
       " 'قوتهم': 39237,\n",
       " 'وتكون': 58969,\n",
       " 'النتيجه': 14419,\n",
       " 'تقوي': 25946,\n",
       " 'لتوازي': 42121,\n",
       " 'تبقي': 22746,\n",
       " 'حالها': 28114,\n",
       " 'ليصبح': 45750,\n",
       " 'عاديا': 34798,\n",
       " 'مادري': 46252,\n",
       " 'خلتني': 29504,\n",
       " 'افكر': 4207,\n",
       " 'جد': 27377,\n",
       " 'اسوي': 2979,\n",
       " 'والا': 54630,\n",
       " 'المفروض': 13639,\n",
       " 'اركز': 2132,\n",
       " 'قوتي': 39238,\n",
       " 'اول': 16324,\n",
       " 'كتاب': 39726,\n",
       " 'قراته': 38826,\n",
       " 'لمصطفي': 45058,\n",
       " 'محمود': 47853,\n",
       " 'بدا': 19652,\n",
       " 'اعجابا': 3686,\n",
       " 'الشديد': 9491,\n",
       " 'وبكتبه': 57874,\n",
       " 'لي': 45538,\n",
       " 'مصطفي': 49002,\n",
       " 'اقراها': 4409,\n",
       " 'واستمتع': 54059,\n",
       " 'واستفيد': 54046,\n",
       " 'ماحبيتها': 46210,\n",
       " 'وكفي': 62086,\n",
       " 'رائع': 30453,\n",
       " 'يخلوا': 66191,\n",
       " 'مكتبه': 49938,\n",
       " 'مسلم': 48739,\n",
       " 'طبقناه': 34385,\n",
       " 'ستختلف': 31869,\n",
       " 'حياتنا': 28978,\n",
       " 'يستعرض': 66697,\n",
       " 'الشيخ': 9666,\n",
       " 'محمد': 47843,\n",
       " 'العريفي': 10369,\n",
       " 'مهارات': 50667,\n",
       " 'تطوير': 25091,\n",
       " 'الذات': 8465,\n",
       " 'هدي': 52937,\n",
       " 'السنه': 9273,\n",
       " 'النبويه': 14408,\n",
       " 'افعال': 4161,\n",
       " 'الرسول': 8666,\n",
       " 'صلي': 33960,\n",
       " 'سلم': 32312,\n",
       " 'فجزاه': 37156,\n",
       " 'خيرا': 29679,\n",
       " 'الرائع': 8529,\n",
       " 'ماخذ': 46232,\n",
       " 'صغير': 33890,\n",
       " 'تكراره': 26022,\n",
       " 'للمواقف': 44720,\n",
       " 'موضع': 50897,\n",
       " 'الفكره': 11049,\n",
       " 'بطرق': 20468,\n",
       " 'مختلفه': 47937,\n",
       " 'تجنب': 23331,\n",
       " 'التكرار': 7018,\n",
       " 'القارئ': 11193,\n",
       " 'الصفحات': 9830,\n",
       " 'الدائره': 8264,\n",
       " 'يمنع': 68270,\n",
       " 'مفيد': 49669,\n",
       " 'جميل': 27773,\n",
       " 'وخفيف': 59840,\n",
       " 'واسلوب': 54128,\n",
       " 'ممتع': 50236,\n",
       " 'اعتقد': 3654,\n",
       " 'الحرافيش': 7755,\n",
       " 'وصف': 60901,\n",
       " 'داخلي': 29724,\n",
       " 'خارجي': 29088,\n",
       " 'لاشخاص': 41056,\n",
       " 'عاشوا': 34838,\n",
       " 'ارض': 2093,\n",
       " 'مصر': 48984,\n",
       " 'ينطبق': 68472,\n",
       " 'لفظ': 43154,\n",
       " 'انسان': 15709,\n",
       " 'تحوي': 23625,\n",
       " 'معاني': 49237,\n",
       " 'وياريت': 64091,\n",
       " 'تتعمل': 22996,\n",
       " 'فيلم': 38398,\n",
       " 'محزنه': 47761,\n",
       " 'سلسه': 32291,\n",
       " 'متكلفه': 47255,\n",
       " 'تحفه': 23546,\n",
       " 'لفيت': 43193,\n",
       " 'انيس': 16024,\n",
       " 'منصور': 50516,\n",
       " 'العالم': 10215,\n",
       " 'واعجبني': 54368,\n",
       " 'زيلرته': 31442,\n",
       " 'لليابان': 44850,\n",
       " 'وهيولود': 63930,\n",
       " 'يستحقون': 66642,\n",
       " 'تراب': 23994,\n",
       " 'الماس': 12045,\n",
       " 'يحاسب': 65819,\n",
       " 'فلسفه': 37917,\n",
       " 'التاريخ': 6450,\n",
       " 'كابسط': 39331,\n",
       " 'واجمل': 53568,\n",
       " 'قصص': 38990,\n",
       " 'قصيره': 39023,\n",
       " 'يسميها': 66857,\n",
       " 'خيال': 29650,\n",
       " 'واسع': 54105,\n",
       " 'انكر': 15932,\n",
       " 'اسلوب': 2896,\n",
       " 'شيق': 33573,\n",
       " 'وافكاره': 54490,\n",
       " 'جيده': 27964,\n",
       " 'قصه': 39008,\n",
       " 'لائقه': 40604,\n",
       " 'بنظري': 21702,\n",
       " 'اطلق': 3479,\n",
       " 'كلمه': 40273,\n",
       " 'نبي': 51289,\n",
       " 'واظنه': 54318,\n",
       " 'شطح': 33258,\n",
       " 'خياله': 29657,\n",
       " 'قصصه': 38994,\n",
       " 'جمالا': 27721,\n",
       " 'الاختراع': 4925,\n",
       " 'العجيب': 10303,\n",
       " 'ميلاد': 51060,\n",
       " 'فكره': 37834,\n",
       " 'واري': 53929,\n",
       " 'كافيه': 39449,\n",
       " 'انضب': 15790,\n",
       " 'رضوي': 30886,\n",
       " 'عشت': 35339,\n",
       " 'عالم': 34891,\n",
       " 'اروع': 2164,\n",
       " 'حقبه': 28655,\n",
       " 'تاريخيه': 22558,\n",
       " 'اعشقها': 3768,\n",
       " 'جهلي': 27856,\n",
       " 'بتفاصيلها': 19079,\n",
       " 'الخمس': 8204,\n",
       " 'نجوم': 51483,\n",
       " 'قليله': 39153,\n",
       " 'الصراحهه': 9795,\n",
       " 'عارف': 34805,\n",
       " 'بتصنف': 19013,\n",
       " 'افضل': 4152,\n",
       " 'روايات': 31092,\n",
       " 'بهاء': 21796,\n",
       " 'طاهر': 34345,\n",
       " 'ماستحملتش': 46318,\n",
       " 'نهايتها': 52492,\n",
       " 'عندي': 35761,\n",
       " 'احساس': 1229,\n",
       " 'قوي': 39262,\n",
       " 'لسه': 42714,\n",
       " 'القصه': 11378,\n",
       " 'ماخلصتش': 46241,\n",
       " 'وفي': 61721,\n",
       " 'صفحات': 33908,\n",
       " 'ناقصه': 51195,\n",
       " 'غلطه': 36178,\n",
       " 'طباعه': 34358,\n",
       " 'بقي': 20974,\n",
       " 'عيب': 35860,\n",
       " 'نسخه': 51784,\n",
       " 'حاجه': 28021,\n",
       " 'تانيه': 22637,\n",
       " 'النهايه': 14634,\n",
       " 'انهي': 15997,\n",
       " 'احداث': 1151,\n",
       " 'روايته': 31102,\n",
       " 'واوصاف': 57477,\n",
       " 'المحبين': 12595,\n",
       " 'رائعه': 30458,\n",
       " 'والتشبيهات': 55249,\n",
       " 'متميزه': 47303,\n",
       " 'تعجبني': 25224,\n",
       " 'ابيات': 302,\n",
       " 'الشعر': 9563,\n",
       " 'الوارده': 14841,\n",
       " 'وايضا': 57520,\n",
       " 'الجنسيه': 7558,\n",
       " 'صياغه': 34061,\n",
       " 'كلمات': 40260,\n",
       " 'نديه': 51624,\n",
       " 'مشوق': 48923,\n",
       " 'للاسف': 43497,\n",
       " 'وشخصياتها': 60699,\n",
       " 'مستفزه': 48601,\n",
       " 'يروقني': 66519,\n",
       " 'شخصيه': 33130,\n",
       " 'الرجل': 8610,\n",
       " 'النرجسي': 14461,\n",
       " 'يتصنع': 65417,\n",
       " 'الرومانسيه': 8823,\n",
       " 'هاله': 52748,\n",
       " 'تتصنع': 22956,\n",
       " 'الكبرياء': 11577,\n",
       " 'وقعت': 61886,\n",
       " 'ذليله': 30357,\n",
       " 'غروره': 36080,\n",
       " 'ونرجسيته': 63583,\n",
       " 'المفرطه': 13637,\n",
       " 'الواضحه': 14850,\n",
       " 'عذرا': 35193,\n",
       " 'املك': 15324,\n",
       " 'الشجاعه': 9467,\n",
       " 'لقراءه': 43248,\n",
       " 'لاحلام': 40875,\n",
       " 'مستغانمي': 48586,\n",
       " 'الاحباط': 4851,\n",
       " 'اصبت': 3194,\n",
       " 'قراءه': 38800,\n",
       " 'احلي': 1331,\n",
       " 'نفسه': 52179,\n",
       " 'الالبوم': 5644,\n",
       " 'بناع': 21612,\n",
       " 'جاهده': 27301,\n",
       " 'وهبي': 63843,\n",
       " 'النسيان': 14493,\n",
       " 'هبني': 52810,\n",
       " 'قبلتك': 38650,\n",
       " 'ابدا': 158,\n",
       " 'تنساني': 26551,\n",
       " 'جيد': 27962,\n",
       " 'لطفل': 42890,\n",
       " 'الحاديه': 7648,\n",
       " 'عمره': 35672,\n",
       " 'اسعي': 2834,\n",
       " 'هذيان': 52959,\n",
       " 'الاطفال': 5387,\n",
       " 'عبقريا': 35040,\n",
       " 'احب': 1013,\n",
       " 'اقرا': 4393,\n",
       " 'الكبار': 11569,\n",
       " 'اطفالا': 3451,\n",
       " 'تظهر': 25110,\n",
       " 'الاحترافيه': 4858,\n",
       " 'توقعت': 26966,\n",
       " 'اعجبني': 3705,\n",
       " 'الفصل': 10984,\n",
       " 'الاخير': 4967,\n",
       " 'انتهيت': 15581,\n",
       " 'اخذت': 1537,\n",
       " 'حيزا': 29020,\n",
       " 'اكبر': 4539,\n",
       " 'حجمها': 28252,\n",
       " 'لمست': 45008,\n",
       " 'ضحاله': 34132,\n",
       " 'خللا': 29558,\n",
       " 'الترجمه': 6678,\n",
       " 'افتقارها': 4075,\n",
       " 'كليا': 40287,\n",
       " 'الروايات': 8789,\n",
       " 'تحديدا': 23452,\n",
       " 'اشعرتني': 3108,\n",
       " 'اشاهد': 3011,\n",
       " 'فيلما': 38399,\n",
       " 'ممجوجا': 50263,\n",
       " 'يمنعني': 68274,\n",
       " 'تركها': 24182,\n",
       " 'جبلت': 27349,\n",
       " 'عاده': 34794,\n",
       " 'انهاء': 15962,\n",
       " 'يعجبني': 67388,\n",
       " 'يصدر': 67066,\n",
       " 'حكمي': 28739,\n",
       " 'متكاملا': 47248,\n",
       " 'وجهه': 59439,\n",
       " 'مقالات': 49708,\n",
       " 'تجارب': 23177,\n",
       " 'كتبت': 39761,\n",
       " 'استعراضي': 2551,\n",
       " 'تضخيم': 24960,\n",
       " 'القائله': 11167,\n",
       " 'المجتمع': 12506,\n",
       " 'منخرط': 50454,\n",
       " 'بالعالم': 17930,\n",
       " 'الافتراضي': 5504,\n",
       " 'نسيانه': 51820,\n",
       " 'الكلي': 11692,\n",
       " 'للواقع': 44819,\n",
       " 'فرضيه': 37367,\n",
       " 'تافهه': 22580,\n",
       " 'صحيحه': 33743,\n",
       " 'فكرته': 37825,\n",
       " 'المرتادين': 12898,\n",
       " 'الكوول': 11757,\n",
       " 'ستار': 31818,\n",
       " 'بكس': 21069,\n",
       " 'سطحيه': 32120,\n",
       " 'استغرب': 2579,\n",
       " 'تعميمه': 25401,\n",
       " 'الكبير': 11581,\n",
       " 'استشهاداته': 2506,\n",
       " 'بالامثال': 17223,\n",
       " 'لايهتم': 41600,\n",
       " 'فقدت': 37745,\n",
       " 'اهتمامي': 16058,\n",
       " 'بالقراءه': 18101,\n",
       " 'الصفحه': 9832,\n",
       " 'اكملته': 4657,\n",
       " 'ايه': 16518,\n",
       " 'اسخف': 2769,\n",
       " 'السخيف': 9099,\n",
       " 'تشدك': 24675,\n",
       " 'قريه': 38925,\n",
       " 'ومتعلم': 62726,\n",
       " 'يبحث': 65105,\n",
       " 'امر': 15240,\n",
       " 'صعب': 33862,\n",
       " 'خصوصا': 29368,\n",
       " 'ايقاع': 16470,\n",
       " 'هادئ': 52677,\n",
       " 'ولغه': 62347,\n",
       " 'شعريه': 33301,\n",
       " 'معتدله': 49270,\n",
       " 'تبعث': 22727,\n",
       " 'المعاني': 13444,\n",
       " 'جديد': 27432,\n",
       " 'كثير': 39836,\n",
       " 'الاصدقاء': 5340,\n",
       " 'مدحها': 48057,\n",
       " 'وكثير': 62044,\n",
       " 'ذمها': 30361,\n",
       " 'وموقفي': 63455,\n",
       " 'ادبي': 1715,\n",
       " 'فني': 38105,\n",
       " 'رفيع': 30953,\n",
       " 'توصل': 26909,\n",
       " 'مقاربه': 49690,\n",
       " 'وموازنه': 63411,\n",
       " 'ناجحه': 51108,\n",
       " 'لمزج': 45001,\n",
       " 'العناصر': 10570,\n",
       " 'الفنيه': 11110,\n",
       " 'وبثها': 57692,\n",
       " 'تناغم': 26426,\n",
       " 'بديع': 19771,\n",
       " 'تستحق': 24378,\n",
       " 'تظلمها': 25105,\n",
       " 'بقراءتها': 20895,\n",
       " 'اجواء': 967,\n",
       " 'مناسبه': 50329,\n",
       " 'يجدر': 65724,\n",
       " 'بالكاتب': 18141,\n",
       " 'يطلق': 67261,\n",
       " 'كتابه': 39743,\n",
       " 'عنوان': 35782,\n",
       " 'حوار': 28922,\n",
       " 'صديقي': 33820,\n",
       " 'المختل': 12723,\n",
       " 'بدلا': 19725,\n",
       " 'الملحد': 13854,\n",
       " 'لاختزاله': 40890,\n",
       " 'للالحاد': 43567,\n",
       " 'بمجموعه': 21298,\n",
       " 'الاسئله': 5108,\n",
       " 'التافهه': 6461,\n",
       " 'تخطر': 23743,\n",
       " 'بال': 17034,\n",
       " 'مراهق': 48229,\n",
       " 'مشتت': 48845,\n",
       " 'الفكر': 11047,\n",
       " 'يناقش': 68310,\n",
       " 'افكارا': 4196,\n",
       " 'ياجج': 64946,\n",
       " 'عواطفا': 35818,\n",
       " 'فالمؤمن': 36759,\n",
       " 'يزداد': 66554,\n",
       " 'احتقارا': 1112,\n",
       " 'للملحد': 44687,\n",
       " 'يتضاعف': 65424,\n",
       " 'نفور': 52216,\n",
       " 'الاسلام': 5262,\n",
       " 'برايي': 19890,\n",
       " 'اجحاف': 867,\n",
       " 'بحق': 19490,\n",
       " 'باختزاله': 16671,\n",
       " 'التجربه': 6527,\n",
       " 'الروحيه': 8814,\n",
       " 'بالعاطفه': 17928,\n",
       " 'الغبيه': 10679,\n",
       " 'المادي': 12030,\n",
       " 'الالحادي': 5658,\n",
       " 'اساء': 2259,\n",
       " 'فهمه': 38129,\n",
       " 'اعتبر': 3587,\n",
       " 'ابليس': 245,\n",
       " 'بجلد': 19341,\n",
       " 'بشر': 20250,\n",
       " 'بسيط': 20206,\n",
       " 'سلس': 32285,\n",
       " 'اسلوبه': 2899,\n",
       " 'يحتوي': 65894,\n",
       " 'معلومات': 49438,\n",
       " 'يقراء': 67830,\n",
       " 'للمتعه': 44553,\n",
       " 'ماموقع': 46517,\n",
       " 'الاعراب': 5429,\n",
       " 'ياتري': 64932,\n",
       " 'خطيئه': 29449,\n",
       " 'يتسلل': 65388,\n",
       " 'الحبيب': 7701,\n",
       " 'منزل': 50476,\n",
       " 'معشوقته': 49388,\n",
       " 'مستغفرا': 48591,\n",
       " 'عظم': 35443,\n",
       " 'الذنب': 8495,\n",
       " 'تتزوج': 22911,\n",
       " 'وتتركه': 58138,\n",
       " 'مريضا': 48385,\n",
       " 'يشفيه': 66989,\n",
       " 'ليتفنن': 45598,\n",
       " 'تعذيب': 25259,\n",
       " 'وجلد': 59381,\n",
       " 'فائده': 36288,\n",
       " 'تمنيت': 26382,\n",
       " 'اكتفيت': 4583,\n",
       " 'الاقتباسات': 5543,\n",
       " 'البريئه': 6223,\n",
       " 'اعجبتني': 3700,\n",
       " 'لغه': 43087,\n",
       " 'ياعلوان': 65001,\n",
       " 'موهبه': 50971,\n",
       " 'وضعت': 61016,\n",
       " 'سياق': 32613,\n",
       " 'يستساغ': 66674,\n",
       " 'اطيق': 3502,\n",
       " 'تصنيفها': 24899,\n",
       " 'الرويات': 8831,\n",
       " 'الرومنسيه': 8827,\n",
       " 'اغتيال': 3936,\n",
       " 'لمعني': 45108,\n",
       " 'الحب': 7689,\n",
       " 'قاموسي': 38610,\n",
       " 'المتواضع': 12437,\n",
       " 'حلو': 28794,\n",
       " 'تخالفي': 23667,\n",
       " 'الجميع': 7543,\n",
       " 'وتثبتي': 58184,\n",
       " 'للمجتمع': 44560,\n",
       " 'تاخر': 22526,\n",
       " 'سن': 32423,\n",
       " 'الزواج': 8947,\n",
       " 'مصيبه': 49037,\n",
       " 'بنشوف': 21678,\n",
       " 'دايما': 29781,\n",
       " 'الافلام': 5528,\n",
       " 'والمسلسلات': 56763,\n",
       " 'نصيبها': 51955,\n",
       " 'مجاش': 47465,\n",
       " 'مفروض': 49616,\n",
       " 'تداري': 23848,\n",
       " 'وشها': 60788,\n",
       " 'اذنبت': 1885,\n",
       " 'ذنب': 30365,\n",
       " 'يغتفر': 67561,\n",
       " 'بجد': 19306,\n",
       " 'احييكي': 1367,\n",
       " 'روحك': 31129,\n",
       " 'العاليه': 10222,\n",
       " 'قريته': 38914,\n",
       " 'حياتي': 28984,\n",
       " 'صغيره': 33892,\n",
       " 'حاسه': 28056,\n",
       " 'الغريب': 10718,\n",
       " 'ناس': 51145,\n",
       " 'كتير': 39816,\n",
       " 'علاقتهم': 35562,\n",
       " 'وسردها': 60467,\n",
       " 'ممل': 50284,\n",
       " 'يوجد': 68669,\n",
       " 'عقده': 35498,\n",
       " 'وحل': 59696,\n",
       " 'مهمه': 50729,\n",
       " 'مافيها': 46417,\n",
       " 'عزيز': 35308,\n",
       " 'وانا': 57227,\n",
       " 'قلت': 39120,\n",
       " 'وتجلب': 58226,\n",
       " 'البؤس': 6052,\n",
       " 'والهم': 57088,\n",
       " 'اتوقع': 720,\n",
       " 'الكاتبه': 11526,\n",
       " 'شويه': 33541,\n",
       " 'مملين': 50293,\n",
       " 'حاجات': 28009,\n",
       " 'تلمس': 26205,\n",
       " 'القلب': 11427,\n",
       " 'فذلكه': 37266,\n",
       " 'يعني': 67511,\n",
       " 'مقالين': 49719,\n",
       " 'بحالهم': 19393,\n",
       " 'يختصرهم': 66101,\n",
       " 'جمله': 27757,\n",
       " 'لاقي': 41228,\n",
       " 'اكتبها': 4551,\n",
       " 'جدعان': 27413,\n",
       " 'صراحه': 33825,\n",
       " 'اضاف': 3320,\n",
       " 'ليش': 45741,\n",
       " 'اي': 16370,\n",
       " 'شئ': 32898,\n",
       " 'تسالي': 24346,\n",
       " 'تقضيه': 25872,\n",
       " 'اضافه': 3326,\n",
       " 'اصلا': 3268,\n",
       " 'مشجعي': 48860,\n",
       " 'الكتابه': 11593,\n",
       " 'بالعاميه': 17932,\n",
       " 'المختلطه': 12726,\n",
       " 'لاا': 40606,\n",
       " 'عزاء': 35273,\n",
       " 'للي': 44849,\n",
       " 'اشتروه': 3036,\n",
       " 'نجمه': 51478,\n",
       " 'عشان': 35336,\n",
       " 'خاطر': 29123,\n",
       " 'كام': 39628,\n",
       " ...}"
      ]
     },
     "execution_count": 34,
     "metadata": {},
     "output_type": "execute_result"
    }
   ],
   "source": [
    "vocab = CV.vocabulary_\n",
    "vocab"
   ]
  },
  {
   "cell_type": "markdown",
   "metadata": {},
   "source": [
    "# Models"
   ]
  },
  {
   "cell_type": "code",
   "execution_count": 35,
   "metadata": {},
   "outputs": [],
   "source": [
    "def models_(model_name):\n",
    "    model = model_name\n",
    "    model.fit(X_train_CV, y_train)\n",
    "    y_pred = model.predict(X_test_CV)\n",
    "    return y_pred"
   ]
  },
  {
   "cell_type": "markdown",
   "metadata": {},
   "source": [
    "# Confusion Matrix"
   ]
  },
  {
   "cell_type": "code",
   "execution_count": 36,
   "metadata": {},
   "outputs": [],
   "source": [
    "def confusion_matrix_(Real, Prediction):\n",
    "        ConfusionMatrix = confusion_matrix(Real, Prediction)\n",
    "        return ConfusionMatrix"
   ]
  },
  {
   "cell_type": "markdown",
   "metadata": {},
   "source": [
    "# Generate True Positive, False Positive, True Negative, False Negative"
   ]
  },
  {
   "cell_type": "code",
   "execution_count": 37,
   "metadata": {},
   "outputs": [],
   "source": [
    "def positive_negative(Confusin_Matrix):\n",
    "    False_Postive = Confusin_Matrix[0, 1]\n",
    "\n",
    "    True_Positive = Confusin_Matrix[0, 0]\n",
    "\n",
    "    False_Negative = Confusin_Matrix[1, 0]\n",
    "    \n",
    "    True_Negative = Confusin_Matrix[1, 1]\n",
    "\n",
    "    return False_Postive, True_Positive, False_Negative, True_Negative"
   ]
  },
  {
   "cell_type": "markdown",
   "metadata": {},
   "source": [
    "# Performance Merics"
   ]
  },
  {
   "cell_type": "code",
   "execution_count": 38,
   "metadata": {},
   "outputs": [],
   "source": [
    "def performance_metrics(False_Postive, True_Positive, False_Negative, True_Negative):\n",
    "     Accuracy = (True_Positive + True_Negative) / (True_Positive + True_Negative + False_Postive + False_Negative)\n",
    "     Precision = True_Positive / (True_Positive+ False_Postive)\n",
    "     Sensitivity = True_Positive / (True_Positive  + False_Negative)\n",
    "     Specificity = True_Negative / (True_Negative + False_Negative)\n",
    "     F1Score = (True_Positive) / ((True_Positive) + (0.5 *(False_Postive + False_Negative)))\n",
    "     Error = 1 - Accuracy\n",
    "     MetricsValues = pd.DataFrame(index=['Accuracy', 'Precision', 'Sensitivity', 'Specificity', 'F1Score', 'Error'], columns=['Values'], data=[Accuracy, Precision, Sensitivity, Specificity, F1Score, Error])\n",
    "     return MetricsValues\n"
   ]
  },
  {
   "cell_type": "markdown",
   "metadata": {},
   "source": [
    "# Machine Learning"
   ]
  },
  {
   "cell_type": "markdown",
   "metadata": {},
   "source": [
    "**1. Naive Bayes**"
   ]
  },
  {
   "cell_type": "code",
   "execution_count": 39,
   "metadata": {},
   "outputs": [],
   "source": [
    "model_name1 = MultinomialNB()\n",
    "y_pred1 = models_(model_name1)"
   ]
  },
  {
   "cell_type": "code",
   "execution_count": 40,
   "metadata": {},
   "outputs": [],
   "source": [
    "cm1 = confusion_matrix_(y_test, y_pred1)"
   ]
  },
  {
   "cell_type": "code",
   "execution_count": 41,
   "metadata": {},
   "outputs": [],
   "source": [
    "False_Postive, True_Positive, False_Negative, True_Negative = positive_negative(cm1)"
   ]
  },
  {
   "cell_type": "code",
   "execution_count": 42,
   "metadata": {},
   "outputs": [],
   "source": [
    "MetricsValues1 = performance_metrics(False_Postive, True_Positive, False_Negative, True_Negative)"
   ]
  },
  {
   "cell_type": "code",
   "execution_count": 43,
   "metadata": {},
   "outputs": [
    {
     "data": {
      "text/html": [
       "<div>\n",
       "<style scoped>\n",
       "    .dataframe tbody tr th:only-of-type {\n",
       "        vertical-align: middle;\n",
       "    }\n",
       "\n",
       "    .dataframe tbody tr th {\n",
       "        vertical-align: top;\n",
       "    }\n",
       "\n",
       "    .dataframe thead th {\n",
       "        text-align: right;\n",
       "    }\n",
       "</style>\n",
       "<table border=\"1\" class=\"dataframe\">\n",
       "  <thead>\n",
       "    <tr style=\"text-align: right;\">\n",
       "      <th></th>\n",
       "      <th>Values</th>\n",
       "    </tr>\n",
       "  </thead>\n",
       "  <tbody>\n",
       "    <tr>\n",
       "      <th>Accuracy</th>\n",
       "      <td>0.888844</td>\n",
       "    </tr>\n",
       "    <tr>\n",
       "      <th>Precision</th>\n",
       "      <td>0.915410</td>\n",
       "    </tr>\n",
       "    <tr>\n",
       "      <th>Sensitivity</th>\n",
       "      <td>0.863349</td>\n",
       "    </tr>\n",
       "    <tr>\n",
       "      <th>Specificity</th>\n",
       "      <td>0.863887</td>\n",
       "    </tr>\n",
       "    <tr>\n",
       "      <th>F1Score</th>\n",
       "      <td>0.888618</td>\n",
       "    </tr>\n",
       "    <tr>\n",
       "      <th>Error</th>\n",
       "      <td>0.111156</td>\n",
       "    </tr>\n",
       "  </tbody>\n",
       "</table>\n",
       "</div>"
      ],
      "text/plain": [
       "               Values\n",
       "Accuracy     0.888844\n",
       "Precision    0.915410\n",
       "Sensitivity  0.863349\n",
       "Specificity  0.863887\n",
       "F1Score      0.888618\n",
       "Error        0.111156"
      ]
     },
     "execution_count": 43,
     "metadata": {},
     "output_type": "execute_result"
    }
   ],
   "source": [
    "MetricsValues1"
   ]
  },
  {
   "cell_type": "markdown",
   "metadata": {},
   "source": [
    "**2. Logistic Regression**"
   ]
  },
  {
   "cell_type": "code",
   "execution_count": 44,
   "metadata": {},
   "outputs": [],
   "source": [
    "model_name2 = LogisticRegression()\n",
    "y_pred2 = models_(model_name2)"
   ]
  },
  {
   "cell_type": "code",
   "execution_count": 45,
   "metadata": {},
   "outputs": [],
   "source": [
    "cm2 = confusion_matrix_(y_test, y_pred2)"
   ]
  },
  {
   "cell_type": "code",
   "execution_count": 46,
   "metadata": {},
   "outputs": [
    {
     "data": {
      "text/html": [
       "<div>\n",
       "<style scoped>\n",
       "    .dataframe tbody tr th:only-of-type {\n",
       "        vertical-align: middle;\n",
       "    }\n",
       "\n",
       "    .dataframe tbody tr th {\n",
       "        vertical-align: top;\n",
       "    }\n",
       "\n",
       "    .dataframe thead th {\n",
       "        text-align: right;\n",
       "    }\n",
       "</style>\n",
       "<table border=\"1\" class=\"dataframe\">\n",
       "  <thead>\n",
       "    <tr style=\"text-align: right;\">\n",
       "      <th></th>\n",
       "      <th>Values</th>\n",
       "    </tr>\n",
       "  </thead>\n",
       "  <tbody>\n",
       "    <tr>\n",
       "      <th>Accuracy</th>\n",
       "      <td>0.897769</td>\n",
       "    </tr>\n",
       "    <tr>\n",
       "      <th>Precision</th>\n",
       "      <td>0.901173</td>\n",
       "    </tr>\n",
       "    <tr>\n",
       "      <th>Sensitivity</th>\n",
       "      <td>0.889256</td>\n",
       "    </tr>\n",
       "    <tr>\n",
       "      <th>Specificity</th>\n",
       "      <td>0.894571</td>\n",
       "    </tr>\n",
       "    <tr>\n",
       "      <th>F1Score</th>\n",
       "      <td>0.895175</td>\n",
       "    </tr>\n",
       "    <tr>\n",
       "      <th>Error</th>\n",
       "      <td>0.102231</td>\n",
       "    </tr>\n",
       "  </tbody>\n",
       "</table>\n",
       "</div>"
      ],
      "text/plain": [
       "               Values\n",
       "Accuracy     0.897769\n",
       "Precision    0.901173\n",
       "Sensitivity  0.889256\n",
       "Specificity  0.894571\n",
       "F1Score      0.895175\n",
       "Error        0.102231"
      ]
     },
     "execution_count": 46,
     "metadata": {},
     "output_type": "execute_result"
    }
   ],
   "source": [
    "False_Postive2, True_Positive2, False_Negative2, True_Negative2 = positive_negative(cm2)\n",
    "MetricsValues2 = performance_metrics(False_Postive2, True_Positive2, False_Negative2, True_Negative2)\n",
    "MetricsValues2"
   ]
  },
  {
   "cell_type": "markdown",
   "metadata": {},
   "source": [
    "**3. Decision Tree**"
   ]
  },
  {
   "cell_type": "code",
   "execution_count": 47,
   "metadata": {},
   "outputs": [],
   "source": [
    "model_name3 = DecisionTreeClassifier(criterion = 'entropy')\n",
    "y_pred3 = models_(model_name3)"
   ]
  },
  {
   "cell_type": "code",
   "execution_count": 48,
   "metadata": {},
   "outputs": [],
   "source": [
    "cm3 = confusion_matrix_(y_test, y_pred3)"
   ]
  },
  {
   "cell_type": "code",
   "execution_count": 49,
   "metadata": {},
   "outputs": [
    {
     "data": {
      "text/html": [
       "<div>\n",
       "<style scoped>\n",
       "    .dataframe tbody tr th:only-of-type {\n",
       "        vertical-align: middle;\n",
       "    }\n",
       "\n",
       "    .dataframe tbody tr th {\n",
       "        vertical-align: top;\n",
       "    }\n",
       "\n",
       "    .dataframe thead th {\n",
       "        text-align: right;\n",
       "    }\n",
       "</style>\n",
       "<table border=\"1\" class=\"dataframe\">\n",
       "  <thead>\n",
       "    <tr style=\"text-align: right;\">\n",
       "      <th></th>\n",
       "      <th>Values</th>\n",
       "    </tr>\n",
       "  </thead>\n",
       "  <tbody>\n",
       "    <tr>\n",
       "      <th>Accuracy</th>\n",
       "      <td>0.853550</td>\n",
       "    </tr>\n",
       "    <tr>\n",
       "      <th>Precision</th>\n",
       "      <td>0.860134</td>\n",
       "    </tr>\n",
       "    <tr>\n",
       "      <th>Sensitivity</th>\n",
       "      <td>0.841114</td>\n",
       "    </tr>\n",
       "    <tr>\n",
       "      <th>Specificity</th>\n",
       "      <td>0.847364</td>\n",
       "    </tr>\n",
       "    <tr>\n",
       "      <th>F1Score</th>\n",
       "      <td>0.850518</td>\n",
       "    </tr>\n",
       "    <tr>\n",
       "      <th>Error</th>\n",
       "      <td>0.146450</td>\n",
       "    </tr>\n",
       "  </tbody>\n",
       "</table>\n",
       "</div>"
      ],
      "text/plain": [
       "               Values\n",
       "Accuracy     0.853550\n",
       "Precision    0.860134\n",
       "Sensitivity  0.841114\n",
       "Specificity  0.847364\n",
       "F1Score      0.850518\n",
       "Error        0.146450"
      ]
     },
     "execution_count": 49,
     "metadata": {},
     "output_type": "execute_result"
    }
   ],
   "source": [
    "False_Postive3, True_Positive3, False_Negative3, True_Negative3 = positive_negative(cm3)\n",
    "MetricsValues3 = performance_metrics(False_Postive3, True_Positive3, False_Negative3, True_Negative3)\n",
    "MetricsValues3"
   ]
  },
  {
   "cell_type": "markdown",
   "metadata": {},
   "source": [
    "**4. K Nearest Neighbor**"
   ]
  },
  {
   "cell_type": "code",
   "execution_count": 50,
   "metadata": {},
   "outputs": [],
   "source": [
    "model_name4 = KNeighborsClassifier(metric='cosine', n_neighbors=5)\n",
    "y_pred4 = models_(model_name4)"
   ]
  },
  {
   "cell_type": "code",
   "execution_count": 51,
   "metadata": {},
   "outputs": [],
   "source": [
    "cm4 = confusion_matrix_(y_test, y_pred4)"
   ]
  },
  {
   "cell_type": "code",
   "execution_count": 52,
   "metadata": {},
   "outputs": [
    {
     "data": {
      "text/html": [
       "<div>\n",
       "<style scoped>\n",
       "    .dataframe tbody tr th:only-of-type {\n",
       "        vertical-align: middle;\n",
       "    }\n",
       "\n",
       "    .dataframe tbody tr th {\n",
       "        vertical-align: top;\n",
       "    }\n",
       "\n",
       "    .dataframe thead th {\n",
       "        text-align: right;\n",
       "    }\n",
       "</style>\n",
       "<table border=\"1\" class=\"dataframe\">\n",
       "  <thead>\n",
       "    <tr style=\"text-align: right;\">\n",
       "      <th></th>\n",
       "      <th>Values</th>\n",
       "    </tr>\n",
       "  </thead>\n",
       "  <tbody>\n",
       "    <tr>\n",
       "      <th>Accuracy</th>\n",
       "      <td>0.781744</td>\n",
       "    </tr>\n",
       "    <tr>\n",
       "      <th>Precision</th>\n",
       "      <td>0.704355</td>\n",
       "    </tr>\n",
       "    <tr>\n",
       "      <th>Sensitivity</th>\n",
       "      <td>0.819688</td>\n",
       "    </tr>\n",
       "    <tr>\n",
       "      <th>Specificity</th>\n",
       "      <td>0.854445</td>\n",
       "    </tr>\n",
       "    <tr>\n",
       "      <th>F1Score</th>\n",
       "      <td>0.757658</td>\n",
       "    </tr>\n",
       "    <tr>\n",
       "      <th>Error</th>\n",
       "      <td>0.218256</td>\n",
       "    </tr>\n",
       "  </tbody>\n",
       "</table>\n",
       "</div>"
      ],
      "text/plain": [
       "               Values\n",
       "Accuracy     0.781744\n",
       "Precision    0.704355\n",
       "Sensitivity  0.819688\n",
       "Specificity  0.854445\n",
       "F1Score      0.757658\n",
       "Error        0.218256"
      ]
     },
     "execution_count": 52,
     "metadata": {},
     "output_type": "execute_result"
    }
   ],
   "source": [
    "False_Postive4, True_Positive4, False_Negative4, True_Negative4 = positive_negative(cm4)\n",
    "MetricsValues4 = performance_metrics(False_Postive4, True_Positive4, False_Negative4, True_Negative4)\n",
    "MetricsValues4"
   ]
  },
  {
   "cell_type": "markdown",
   "metadata": {},
   "source": [
    "**5. Random Forest**"
   ]
  },
  {
   "cell_type": "code",
   "execution_count": 53,
   "metadata": {},
   "outputs": [],
   "source": [
    "model_name5 = RandomForestClassifier(criterion = 'entropy', n_estimators=100)\n",
    "y_pred5 = models_(model_name5)"
   ]
  },
  {
   "cell_type": "code",
   "execution_count": 54,
   "metadata": {},
   "outputs": [],
   "source": [
    "cm5 = confusion_matrix_(y_test, y_pred5)"
   ]
  },
  {
   "cell_type": "code",
   "execution_count": 55,
   "metadata": {},
   "outputs": [
    {
     "data": {
      "text/html": [
       "<div>\n",
       "<style scoped>\n",
       "    .dataframe tbody tr th:only-of-type {\n",
       "        vertical-align: middle;\n",
       "    }\n",
       "\n",
       "    .dataframe tbody tr th {\n",
       "        vertical-align: top;\n",
       "    }\n",
       "\n",
       "    .dataframe thead th {\n",
       "        text-align: right;\n",
       "    }\n",
       "</style>\n",
       "<table border=\"1\" class=\"dataframe\">\n",
       "  <thead>\n",
       "    <tr style=\"text-align: right;\">\n",
       "      <th></th>\n",
       "      <th>Values</th>\n",
       "    </tr>\n",
       "  </thead>\n",
       "  <tbody>\n",
       "    <tr>\n",
       "      <th>Accuracy</th>\n",
       "      <td>0.901014</td>\n",
       "    </tr>\n",
       "    <tr>\n",
       "      <th>Precision</th>\n",
       "      <td>0.906198</td>\n",
       "    </tr>\n",
       "    <tr>\n",
       "      <th>Sensitivity</th>\n",
       "      <td>0.891269</td>\n",
       "    </tr>\n",
       "    <tr>\n",
       "      <th>Specificity</th>\n",
       "      <td>0.896145</td>\n",
       "    </tr>\n",
       "    <tr>\n",
       "      <th>F1Score</th>\n",
       "      <td>0.898671</td>\n",
       "    </tr>\n",
       "    <tr>\n",
       "      <th>Error</th>\n",
       "      <td>0.098986</td>\n",
       "    </tr>\n",
       "  </tbody>\n",
       "</table>\n",
       "</div>"
      ],
      "text/plain": [
       "               Values\n",
       "Accuracy     0.901014\n",
       "Precision    0.906198\n",
       "Sensitivity  0.891269\n",
       "Specificity  0.896145\n",
       "F1Score      0.898671\n",
       "Error        0.098986"
      ]
     },
     "execution_count": 55,
     "metadata": {},
     "output_type": "execute_result"
    }
   ],
   "source": [
    "False_Postive5, True_Positive5, False_Negative5, True_Negative5 = positive_negative(cm5)\n",
    "MetricsValues5 = performance_metrics(False_Postive5, True_Positive5, False_Negative5, True_Negative5)\n",
    "MetricsValues5"
   ]
  },
  {
   "cell_type": "markdown",
   "metadata": {},
   "source": [
    "**6.SGD Classifier**"
   ]
  },
  {
   "cell_type": "code",
   "execution_count": 56,
   "metadata": {},
   "outputs": [],
   "source": [
    "model_name6 = SGDClassifier(loss='hinge')\n",
    "y_pred6 = models_(model_name6)"
   ]
  },
  {
   "cell_type": "code",
   "execution_count": 57,
   "metadata": {},
   "outputs": [],
   "source": [
    "cm6 = confusion_matrix_(y_test, y_pred6)"
   ]
  },
  {
   "cell_type": "code",
   "execution_count": 58,
   "metadata": {},
   "outputs": [
    {
     "data": {
      "text/html": [
       "<div>\n",
       "<style scoped>\n",
       "    .dataframe tbody tr th:only-of-type {\n",
       "        vertical-align: middle;\n",
       "    }\n",
       "\n",
       "    .dataframe tbody tr th {\n",
       "        vertical-align: top;\n",
       "    }\n",
       "\n",
       "    .dataframe thead th {\n",
       "        text-align: right;\n",
       "    }\n",
       "</style>\n",
       "<table border=\"1\" class=\"dataframe\">\n",
       "  <thead>\n",
       "    <tr style=\"text-align: right;\">\n",
       "      <th></th>\n",
       "      <th>Values</th>\n",
       "    </tr>\n",
       "  </thead>\n",
       "  <tbody>\n",
       "    <tr>\n",
       "      <th>Accuracy</th>\n",
       "      <td>0.901420</td>\n",
       "    </tr>\n",
       "    <tr>\n",
       "      <th>Precision</th>\n",
       "      <td>0.892797</td>\n",
       "    </tr>\n",
       "    <tr>\n",
       "      <th>Sensitivity</th>\n",
       "      <td>0.902625</td>\n",
       "    </tr>\n",
       "    <tr>\n",
       "      <th>Specificity</th>\n",
       "      <td>0.909520</td>\n",
       "    </tr>\n",
       "    <tr>\n",
       "      <th>F1Score</th>\n",
       "      <td>0.897684</td>\n",
       "    </tr>\n",
       "    <tr>\n",
       "      <th>Error</th>\n",
       "      <td>0.098580</td>\n",
       "    </tr>\n",
       "  </tbody>\n",
       "</table>\n",
       "</div>"
      ],
      "text/plain": [
       "               Values\n",
       "Accuracy     0.901420\n",
       "Precision    0.892797\n",
       "Sensitivity  0.902625\n",
       "Specificity  0.909520\n",
       "F1Score      0.897684\n",
       "Error        0.098580"
      ]
     },
     "execution_count": 58,
     "metadata": {},
     "output_type": "execute_result"
    }
   ],
   "source": [
    "False_Postive6, True_Positive6, False_Negative6, True_Negative6 = positive_negative(cm6)\n",
    "MetricsValues6 = performance_metrics(False_Postive6, True_Positive6, False_Negative6, True_Negative6)\n",
    "MetricsValues6"
   ]
  },
  {
   "cell_type": "markdown",
   "metadata": {},
   "source": [
    "# Deep Learning"
   ]
  },
  {
   "cell_type": "code",
   "execution_count": 59,
   "metadata": {},
   "outputs": [],
   "source": [
    "tokenizer = Tokenizer()\n",
    "tokenizer.fit_on_texts(X_train)\n",
    "embedding_dim = 16\n",
    "vocab_size = len(tokenizer.word_index) + 1"
   ]
  },
  {
   "cell_type": "code",
   "execution_count": 60,
   "metadata": {},
   "outputs": [
    {
     "data": {
      "text/plain": [
       "68792"
      ]
     },
     "execution_count": 60,
     "metadata": {},
     "output_type": "execute_result"
    }
   ],
   "source": [
    "vocab_size"
   ]
  },
  {
   "cell_type": "code",
   "execution_count": 61,
   "metadata": {},
   "outputs": [],
   "source": [
    "X_train_seqs = tokenizer.texts_to_sequences(X_train)\n",
    "X_test_seqs = tokenizer.texts_to_sequences(X_test)\n",
    "max_length = len(max(X_train_seqs, key=len))"
   ]
  },
  {
   "cell_type": "code",
   "execution_count": 62,
   "metadata": {},
   "outputs": [
    {
     "data": {
      "text/plain": [
       "1853"
      ]
     },
     "execution_count": 62,
     "metadata": {},
     "output_type": "execute_result"
    }
   ],
   "source": [
    "max_length"
   ]
  },
  {
   "cell_type": "code",
   "execution_count": 63,
   "metadata": {},
   "outputs": [],
   "source": [
    "encoded_X_train = pad_sequences(X_train_seqs, maxlen=max_length)\n",
    "encoded_X_test = pad_sequences(X_test_seqs, maxlen=max_length)"
   ]
  },
  {
   "cell_type": "code",
   "execution_count": 64,
   "metadata": {},
   "outputs": [],
   "source": [
    "Callback = tf.keras.callbacks.EarlyStopping(\n",
    "                    monitor=\"accuracy\",\n",
    "                    mode=\"max\",\n",
    "                    start_from_epoch=5\n",
    "                )"
   ]
  },
  {
   "cell_type": "markdown",
   "metadata": {},
   "source": [
    "**8-Convolutional Neural Network**"
   ]
  },
  {
   "cell_type": "code",
   "execution_count": 65,
   "metadata": {},
   "outputs": [],
   "source": [
    "model = tf.keras.Sequential([\n",
    "                Embedding(input_dim=vocab_size, output_dim=embedding_dim, input_length=max_length),\n",
    "                Conv1D(filters=32, kernel_size = 3, activation='relu'),\n",
    "                GlobalAveragePooling1D(),\n",
    "                Dropout(0.8),\n",
    "                Dense(1, activation= 'sigmoid')\n",
    "                ])"
   ]
  },
  {
   "cell_type": "code",
   "execution_count": 66,
   "metadata": {},
   "outputs": [],
   "source": [
    "model.compile(optimizer='adam',\n",
    "              loss='binary_crossentropy',\n",
    "              metrics=['accuracy'])\n"
   ]
  },
  {
   "cell_type": "code",
   "execution_count": 67,
   "metadata": {},
   "outputs": [
    {
     "name": "stdout",
     "output_type": "stream",
     "text": [
      "Epoch 1/50\n",
      "873/873 [==============================] - 115s 131ms/step - loss: 0.6924 - accuracy: 0.5212 - val_loss: 0.6874 - val_accuracy: 0.5635\n",
      "Epoch 2/50\n",
      "873/873 [==============================] - 77s 88ms/step - loss: 0.6580 - accuracy: 0.6776 - val_loss: 0.6096 - val_accuracy: 0.8199\n",
      "Epoch 3/50\n",
      "873/873 [==============================] - 41s 47ms/step - loss: 0.5183 - accuracy: 0.8328 - val_loss: 0.4636 - val_accuracy: 0.8722\n",
      "Epoch 4/50\n",
      "873/873 [==============================] - 65s 75ms/step - loss: 0.3624 - accuracy: 0.9008 - val_loss: 0.3675 - val_accuracy: 0.8828\n",
      "Epoch 5/50\n",
      "873/873 [==============================] - 66s 75ms/step - loss: 0.2675 - accuracy: 0.9274 - val_loss: 0.3186 - val_accuracy: 0.8888\n",
      "Epoch 6/50\n",
      "873/873 [==============================] - 66s 75ms/step - loss: 0.2100 - accuracy: 0.9441 - val_loss: 0.2924 - val_accuracy: 0.8994\n",
      "Epoch 7/50\n",
      "873/873 [==============================] - 65s 74ms/step - loss: 0.1718 - accuracy: 0.9555 - val_loss: 0.2781 - val_accuracy: 0.9051\n",
      "Epoch 8/50\n",
      "873/873 [==============================] - 65s 74ms/step - loss: 0.1432 - accuracy: 0.9621 - val_loss: 0.2706 - val_accuracy: 0.9103\n",
      "Epoch 9/50\n",
      "873/873 [==============================] - 64s 73ms/step - loss: 0.1201 - accuracy: 0.9684 - val_loss: 0.2717 - val_accuracy: 0.9108\n",
      "Epoch 10/50\n",
      "873/873 [==============================] - 61s 70ms/step - loss: 0.1060 - accuracy: 0.9725 - val_loss: 0.2697 - val_accuracy: 0.9095\n",
      "Epoch 11/50\n",
      "873/873 [==============================] - 61s 70ms/step - loss: 0.0907 - accuracy: 0.9766 - val_loss: 0.2768 - val_accuracy: 0.9087\n",
      "Epoch 12/50\n",
      "873/873 [==============================] - 61s 69ms/step - loss: 0.0812 - accuracy: 0.9802 - val_loss: 0.2852 - val_accuracy: 0.9079\n",
      "Epoch 13/50\n",
      "873/873 [==============================] - 60s 68ms/step - loss: 0.0696 - accuracy: 0.9821 - val_loss: 0.2912 - val_accuracy: 0.9079\n",
      "Epoch 14/50\n",
      "873/873 [==============================] - 60s 68ms/step - loss: 0.0631 - accuracy: 0.9842 - val_loss: 0.3025 - val_accuracy: 0.9063\n",
      "Epoch 15/50\n",
      "873/873 [==============================] - 58s 66ms/step - loss: 0.0555 - accuracy: 0.9859 - val_loss: 0.3130 - val_accuracy: 0.9083\n",
      "Epoch 16/50\n",
      "873/873 [==============================] - 57s 65ms/step - loss: 0.0495 - accuracy: 0.9873 - val_loss: 0.3274 - val_accuracy: 0.9108\n",
      "Epoch 17/50\n",
      "873/873 [==============================] - 56s 65ms/step - loss: 0.0448 - accuracy: 0.9893 - val_loss: 0.3397 - val_accuracy: 0.9124\n",
      "Epoch 18/50\n",
      "873/873 [==============================] - 73s 84ms/step - loss: 0.0397 - accuracy: 0.9902 - val_loss: 0.3556 - val_accuracy: 0.9140\n",
      "Epoch 19/50\n",
      "873/873 [==============================] - 64s 74ms/step - loss: 0.0361 - accuracy: 0.9918 - val_loss: 0.3703 - val_accuracy: 0.9148\n",
      "Epoch 20/50\n",
      "873/873 [==============================] - 54s 62ms/step - loss: 0.0338 - accuracy: 0.9913 - val_loss: 0.3826 - val_accuracy: 0.9120\n"
     ]
    }
   ],
   "source": [
    "history = model.fit(encoded_X_train, y_train,\n",
    "                    epochs=50,\n",
    "                    validation_data=(encoded_X_test, y_test),\n",
    "                    batch_size=16,\n",
    "                    callbacks=[Callback])"
   ]
  },
  {
   "cell_type": "code",
   "execution_count": 68,
   "metadata": {},
   "outputs": [
    {
     "data": {
      "image/png": "[encoded data removed]",
      "text/plain": [
       "<Figure size 640x480 with 1 Axes>"
      ]
     },
     "metadata": {},
     "output_type": "display_data"
    }
   ],
   "source": [
    "val_acc = history.history['val_accuracy']\n",
    "val_loss = history.history['val_loss']\n",
    "\n",
    "plt.plot(val_acc, label='Accuracy')\n",
    "plt.plot(val_loss, label='Loss')\n",
    "plt.legend()\n",
    "plt.show()"
   ]
  },
  {
   "cell_type": "code",
   "execution_count": 69,
   "metadata": {},
   "outputs": [
    {
     "data": {
      "image/png": "[encoded data removed]",
      "text/plain": [
       "<Figure size 640x480 with 1 Axes>"
      ]
     },
     "metadata": {},
     "output_type": "display_data"
    }
   ],
   "source": [
    "acc = history.history['accuracy']\n",
    "loss = history.history['loss']\n",
    "\n",
    "plt.plot(acc, label='Accuracy')\n",
    "plt.plot(loss, label='Loss')\n",
    "plt.legend()\n",
    "plt.show()"
   ]
  },
  {
   "cell_type": "code",
   "execution_count": 70,
   "metadata": {},
   "outputs": [
    {
     "name": "stdout",
     "output_type": "stream",
     "text": [
      "Training Accuracy: 0.9930\n",
      "Testing Accuracy:  0.9120\n"
     ]
    }
   ],
   "source": [
    "loss, accuracy = model.evaluate(encoded_X_train, y_train, verbose=False)\n",
    "print(\"Training Accuracy: {:.4f}\".format(accuracy))\n",
    "loss, accuracy = model.evaluate(encoded_X_test, y_test, verbose=False)\n",
    "print(\"Testing Accuracy:  {:.4f}\".format(accuracy))"
   ]
  },
  {
   "cell_type": "markdown",
   "metadata": {},
   "source": [
    "**9-Recurrent Neural Networks**"
   ]
  },
  {
   "cell_type": "code",
   "execution_count": 71,
   "metadata": {},
   "outputs": [],
   "source": [
    "model = tf.keras.Sequential([\n",
    "        Embedding(input_dim=vocab_size, output_dim=embedding_dim, input_length=max_length),\n",
    "        LSTM(32, return_sequences=False),  \n",
    "        Dropout(0.2),      \n",
    "        Dense(1, activation='sigmoid')])"
   ]
  },
  {
   "cell_type": "code",
   "execution_count": 72,
   "metadata": {},
   "outputs": [],
   "source": [
    "model.compile(optimizer='adam',\n",
    "              loss='binary_crossentropy',\n",
    "              metrics=['accuracy'])"
   ]
  },
  {
   "cell_type": "code",
   "execution_count": 73,
   "metadata": {},
   "outputs": [
    {
     "name": "stdout",
     "output_type": "stream",
     "text": [
      "Epoch 1/50\n",
      "873/873 [==============================] - 125s 140ms/step - loss: 0.4534 - accuracy: 0.7864 - val_loss: 0.2696 - val_accuracy: 0.8917\n",
      "Epoch 2/50\n",
      "873/873 [==============================] - 129s 148ms/step - loss: 0.1156 - accuracy: 0.9608 - val_loss: 0.2837 - val_accuracy: 0.9087\n",
      "Epoch 3/50\n",
      "873/873 [==============================] - 152s 174ms/step - loss: 0.0395 - accuracy: 0.9863 - val_loss: 0.2976 - val_accuracy: 0.9034\n",
      "Epoch 4/50\n",
      "873/873 [==============================] - 129s 147ms/step - loss: 0.0503 - accuracy: 0.9850 - val_loss: 0.3537 - val_accuracy: 0.8970\n",
      "Epoch 5/50\n",
      "873/873 [==============================] - 134s 154ms/step - loss: 0.0149 - accuracy: 0.9952 - val_loss: 0.4560 - val_accuracy: 0.8966\n",
      "Epoch 6/50\n",
      "873/873 [==============================] - 131s 150ms/step - loss: 0.0194 - accuracy: 0.9939 - val_loss: 0.4499 - val_accuracy: 0.8811\n",
      "Epoch 7/50\n",
      "873/873 [==============================] - 141s 162ms/step - loss: 0.0102 - accuracy: 0.9968 - val_loss: 0.4705 - val_accuracy: 0.8933\n",
      "Epoch 8/50\n",
      "873/873 [==============================] - 183s 210ms/step - loss: 0.0064 - accuracy: 0.9976 - val_loss: 0.5300 - val_accuracy: 0.8966\n",
      "Epoch 9/50\n",
      "873/873 [==============================] - 179s 205ms/step - loss: 0.0135 - accuracy: 0.9953 - val_loss: 0.4908 - val_accuracy: 0.8892\n"
     ]
    }
   ],
   "source": [
    "history = model.fit(encoded_X_train, y_train,\n",
    "                    epochs=50,\n",
    "                    validation_data=(encoded_X_test, y_test),\n",
    "                    batch_size=16,\n",
    "                    callbacks=[Callback])"
   ]
  },
  {
   "cell_type": "code",
   "execution_count": 74,
   "metadata": {},
   "outputs": [
    {
     "data": {
      "image/png": "[encoded data removed]",
      "text/plain": [
       "<Figure size 640x480 with 1 Axes>"
      ]
     },
     "metadata": {},
     "output_type": "display_data"
    }
   ],
   "source": [
    "val_acc = history.history['val_accuracy']\n",
    "val_loss = history.history['val_loss']\n",
    "\n",
    "plt.plot(val_acc, label='Accuracy')\n",
    "plt.plot(val_loss, label='Loss')\n",
    "plt.legend()\n",
    "plt.show()"
   ]
  },
  {
   "cell_type": "code",
   "execution_count": 75,
   "metadata": {},
   "outputs": [
    {
     "data": {
      "image/png": "[encoded data removed]",
      "text/plain": [
       "<Figure size 640x480 with 1 Axes>"
      ]
     },
     "metadata": {},
     "output_type": "display_data"
    }
   ],
   "source": [
    "acc = history.history['accuracy']\n",
    "loss = history.history['loss']\n",
    "\n",
    "plt.plot(acc, label='Accuracy')\n",
    "plt.plot(loss, label='Loss')\n",
    "plt.legend()\n",
    "plt.show()"
   ]
  },
  {
   "cell_type": "code",
   "execution_count": 76,
   "metadata": {},
   "outputs": [
    {
     "name": "stdout",
     "output_type": "stream",
     "text": [
      "Training Accuracy: 0.9978\n",
      "Testing Accuracy:  0.8892\n"
     ]
    }
   ],
   "source": [
    "loss, accuracy = model.evaluate(encoded_X_train, y_train, verbose=False)\n",
    "print(\"Training Accuracy: {:.4f}\".format(accuracy))\n",
    "loss, accuracy = model.evaluate(encoded_X_test, y_test, verbose=False)\n",
    "print(\"Testing Accuracy:  {:.4f}\".format(accuracy))"
   ]
  }
 ],
 "metadata": {
  "kernelspec": {
   "display_name": "Python 3",
   "language": "python",
   "name": "python3"
  },
  "language_info": {
   "codemirror_mode": {
    "name": "ipython",
    "version": 3
   },
   "file_extension": ".py",
   "mimetype": "text/x-python",
   "name": "python",
   "nbconvert_exporter": "python",
   "pygments_lexer": "ipython3",
   "version": "3.11.5"
  },
  "orig_nbformat": 4
 },
 "nbformat": 4,
 "nbformat_minor": 2
}
