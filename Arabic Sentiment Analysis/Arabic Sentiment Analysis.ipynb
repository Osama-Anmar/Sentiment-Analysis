{
 "cells": [
  {
   "cell_type": "markdown",
   "metadata": {},
   "source": [
    "# Import Libraries\n"
   ]
  },
  {
   "cell_type": "code",
   "execution_count": 1,
   "metadata": {},
   "outputs": [],
   "source": [
    "import pandas as pd\n",
    "import numpy as np\n",
    "import nltk\n",
    "import tensorflow as tf\n",
    "from keras.layers import *\n",
    "from tensorflow import *\n",
    "from keras.preprocessing.text import Tokenizer\n",
    "from keras.preprocessing import *\n",
    "import arabicstopwords.arabicstopwords as stp\n",
    "from keras.preprocessing.sequence import pad_sequences\n",
    "from nltk.stem import SnowballStemmer\n",
    "import re\n",
    "import os\n",
    "from camel_tools.tokenizers.word import simple_word_tokenize\n",
    "import matplotlib.pyplot as plt\n",
    "import seaborn as sns\n",
    "from sklearn.svm import SVC\n",
    "from sklearn.tree import DecisionTreeClassifier\n",
    "from sklearn.naive_bayes import MultinomialNB\n",
    "from sklearn.neighbors import KNeighborsClassifier\n",
    "from sklearn.linear_model import LogisticRegression\n",
    "from sklearn.ensemble import RandomForestClassifier\n",
    "from sklearn.model_selection import train_test_split\n",
    "from sklearn.metrics import confusion_matrix\n",
    "from sklearn.feature_extraction.text import  TfidfVectorizer\n",
    "from sklearn.neural_network import MLPClassifier\n",
    "from sklearn.linear_model import SGDClassifier\n",
    "from tashaphyne.stemming import ArabicLightStemmer\n",
    "from sklearn.preprocessing import LabelEncoder\n",
    "import warnings\n",
    "from camel_tools.utils.dediac import dediac_ar\n",
    "from camel_tools.utils.normalize import normalize_unicode\n",
    "from camel_tools.utils.normalize import normalize_alef_maksura_ar\n",
    "from camel_tools.utils.normalize import normalize_alef_ar\n",
    "from camel_tools.utils.normalize import normalize_teh_marbuta_ar\n",
    "import random\n",
    "import emoji\n",
    "from wordcloud import WordCloud\n",
    "import plotly.express as px\n",
    "import arabic_reshaper\n",
    "from bidi.algorithm import get_display\n",
    "from nltk import pos_tag\n",
    "from plotly import graph_objects as go\n",
    "from collections import Counter\n",
    "import string\n",
    "pd.options.display.max_rows = 100\n",
    "pd.options.display.max_columns =None \n",
    "random.seed(10)"
   ]
  },
  {
   "cell_type": "code",
   "execution_count": 2,
   "metadata": {},
   "outputs": [],
   "source": [
    "colors1 = ['#c0d0a2','#a7bd7c']\n",
    "colors2 = ['#bdd390', '#e9f0da']\n",
    "color3 = ['Salmon', 'FireBrick', 'MediumVioletRed', 'Tomato', 'Orange', 'Gold', 'DarkKhaki', 'Lavender', 'Plum', 'LimeGreen', 'MediumSpringGreen', 'Green', 'DeepSkyBlue', 'Aquamarine', 'MediumSlateBlue']"
   ]
  },
  {
   "cell_type": "markdown",
   "metadata": {},
   "source": [
    "# Download Some Packages"
   ]
  },
  {
   "cell_type": "code",
   "execution_count": 3,
   "metadata": {},
   "outputs": [
    {
     "name": "stderr",
     "output_type": "stream",
     "text": [
      "[nltk_data] Downloading package punkt to\n",
      "[nltk_data]     /Users/osamaanmar/nltk_data...\n",
      "[nltk_data]   Package punkt is already up-to-date!\n",
      "[nltk_data] Downloading package wordnet to\n",
      "[nltk_data]     /Users/osamaanmar/nltk_data...\n",
      "[nltk_data]   Package wordnet is already up-to-date!\n",
      "[nltk_data] Downloading package stopwords to\n",
      "[nltk_data]     /Users/osamaanmar/nltk_data...\n",
      "[nltk_data]   Package stopwords is already up-to-date!\n",
      "[nltk_data] Downloading package averaged_perceptron_tagger to\n",
      "[nltk_data]     /Users/osamaanmar/nltk_data...\n",
      "[nltk_data]   Package averaged_perceptron_tagger is already up-to-\n",
      "[nltk_data]       date!\n"
     ]
    },
    {
     "data": {
      "text/plain": [
       "True"
      ]
     },
     "execution_count": 3,
     "metadata": {},
     "output_type": "execute_result"
    }
   ],
   "source": [
    "nltk.download('punkt')\n",
    "nltk.download('wordnet')\n",
    "nltk.download('stopwords')\n",
    "nltk.download('averaged_perceptron_tagger')"
   ]
  },
  {
   "cell_type": "markdown",
   "metadata": {},
   "source": [
    "# Ignore Warnings"
   ]
  },
  {
   "cell_type": "code",
   "execution_count": 4,
   "metadata": {},
   "outputs": [],
   "source": [
    "os.environ['TF_CPP_MIN_LOG_LEVEL'] = '3'\n",
    "warnings.filterwarnings(action='ignore')"
   ]
  },
  {
   "cell_type": "markdown",
   "metadata": {},
   "source": [
    "# Read Data"
   ]
  },
  {
   "cell_type": "code",
   "execution_count": 5,
   "metadata": {},
   "outputs": [
    {
     "data": {
      "text/html": [
       "<div>\n",
       "<style scoped>\n",
       "    .dataframe tbody tr th:only-of-type {\n",
       "        vertical-align: middle;\n",
       "    }\n",
       "\n",
       "    .dataframe tbody tr th {\n",
       "        vertical-align: top;\n",
       "    }\n",
       "\n",
       "    .dataframe thead th {\n",
       "        text-align: right;\n",
       "    }\n",
       "</style>\n",
       "<table border=\"1\" class=\"dataframe\">\n",
       "  <thead>\n",
       "    <tr style=\"text-align: right;\">\n",
       "      <th></th>\n",
       "      <th>Sentiment</th>\n",
       "      <th>Text</th>\n",
       "    </tr>\n",
       "  </thead>\n",
       "  <tbody>\n",
       "    <tr>\n",
       "      <th>0</th>\n",
       "      <td>Negative</td>\n",
       "      <td>مقتطفات من كتاب سأخون وطني للكاتب محمد الماغو...</td>\n",
       "    </tr>\n",
       "    <tr>\n",
       "      <th>1</th>\n",
       "      <td>Positive</td>\n",
       "      <td>كتاب جدا ً رائع يتكلم عن التعامل مع الاخرين ب...</td>\n",
       "    </tr>\n",
       "    <tr>\n",
       "      <th>2</th>\n",
       "      <td>Positive</td>\n",
       "      <td>كتاب واقعي جدا,كُتب باسلوب مُعاصر وحديث.استمت...</td>\n",
       "    </tr>\n",
       "    <tr>\n",
       "      <th>3</th>\n",
       "      <td>Positive</td>\n",
       "      <td>وبما انى من المولعين ب د.مصطفى محمود ومن أوائ...</td>\n",
       "    </tr>\n",
       "    <tr>\n",
       "      <th>4</th>\n",
       "      <td>Positive</td>\n",
       "      <td>اول حاجة طبعا في تعليقي لازم يكون عن الاسلوب ...</td>\n",
       "    </tr>\n",
       "    <tr>\n",
       "      <th>...</th>\n",
       "      <td>...</td>\n",
       "      <td>...</td>\n",
       "    </tr>\n",
       "    <tr>\n",
       "      <th>16434</th>\n",
       "      <td>Negative</td>\n",
       "      <td>بين الشفقة و العطف أقيم هذه الرواية يؤسفني جد...</td>\n",
       "    </tr>\n",
       "    <tr>\n",
       "      <th>16435</th>\n",
       "      <td>Negative</td>\n",
       "      <td>أوصيك بالدقة . لا بالوضوح . \" فاليري\" تقريباً...</td>\n",
       "    </tr>\n",
       "    <tr>\n",
       "      <th>16436</th>\n",
       "      <td>Negative</td>\n",
       "      <td>للاسف الشديد لم يعجبني الكتاب ، شعرت بالملل م...</td>\n",
       "    </tr>\n",
       "    <tr>\n",
       "      <th>16437</th>\n",
       "      <td>Positive</td>\n",
       "      <td>من بداية الرواية وانا احاول تمالك نفسي ولكن ت...</td>\n",
       "    </tr>\n",
       "    <tr>\n",
       "      <th>16438</th>\n",
       "      <td>Negative</td>\n",
       "      <td>خذلتنى هذه الرواية كثيرا لم يعجبنى ابدا تداخل...</td>\n",
       "    </tr>\n",
       "  </tbody>\n",
       "</table>\n",
       "<p>16439 rows × 2 columns</p>\n",
       "</div>"
      ],
      "text/plain": [
       "      Sentiment                                               Text\n",
       "0      Negative   مقتطفات من كتاب سأخون وطني للكاتب محمد الماغو...\n",
       "1      Positive   كتاب جدا ً رائع يتكلم عن التعامل مع الاخرين ب...\n",
       "2      Positive   كتاب واقعي جدا,كُتب باسلوب مُعاصر وحديث.استمت...\n",
       "3      Positive   وبما انى من المولعين ب د.مصطفى محمود ومن أوائ...\n",
       "4      Positive   اول حاجة طبعا في تعليقي لازم يكون عن الاسلوب ...\n",
       "...         ...                                                ...\n",
       "16434  Negative   بين الشفقة و العطف أقيم هذه الرواية يؤسفني جد...\n",
       "16435  Negative   أوصيك بالدقة . لا بالوضوح . \" فاليري\" تقريباً...\n",
       "16436  Negative   للاسف الشديد لم يعجبني الكتاب ، شعرت بالملل م...\n",
       "16437  Positive   من بداية الرواية وانا احاول تمالك نفسي ولكن ت...\n",
       "16438  Negative   خذلتنى هذه الرواية كثيرا لم يعجبنى ابدا تداخل...\n",
       "\n",
       "[16439 rows x 2 columns]"
      ]
     },
     "execution_count": 5,
     "metadata": {},
     "output_type": "execute_result"
    }
   ],
   "source": [
    "df1 = pd.read_csv('train.csv')\n",
    "df2 = pd.read_csv('dev.csv')\n",
    "df3 = pd.read_csv('test.csv')\n",
    "Corpus = pd.concat([df1, df2, df3], ignore_index=True)\n",
    "Corpus.rename(columns={'txt': 'Text', 'sentiment': 'Sentiment'}, inplace=True)\n",
    "Corpus.drop('clean_txt', axis=1, inplace=True)\n",
    "Corpus"
   ]
  },
  {
   "cell_type": "markdown",
   "metadata": {},
   "source": [
    "# Percantage Of Each Sentiment"
   ]
  },
  {
   "cell_type": "code",
   "execution_count": 6,
   "metadata": {},
   "outputs": [
    {
     "data": {
      "image/png": "[encoded data removed]",
      "text/plain": [
       "<Figure size 600x600 with 1 Axes>"
      ]
     },
     "metadata": {},
     "output_type": "display_data"
    }
   ],
   "source": [
    "Corpus['Sentiment'].value_counts().plot.pie(autopct = '%0.1f%%',\n",
    "                                                    textprops = {'size': 'large'},\n",
    "                                                    title = 'Sentiment Percentage',\n",
    "                                                    figsize = (6,6),\n",
    "                                                    colors = colors1,\n",
    "                                                    ylabel = ' ');"
   ]
  },
  {
   "cell_type": "markdown",
   "metadata": {},
   "source": [
    "# Count Of Each Sentiment"
   ]
  },
  {
   "cell_type": "code",
   "execution_count": 7,
   "metadata": {},
   "outputs": [
    {
     "data": {
      "image/png": "[encoded data removed]",
      "text/plain": [
       "<Figure size 600x600 with 1 Axes>"
      ]
     },
     "metadata": {},
     "output_type": "display_data"
    }
   ],
   "source": [
    "ax, fig = plt.subplots(figsize = (6,6))\n",
    "ax =sns.countplot(x='Sentiment', data=Corpus, dodge=False, hue='Sentiment',  order= Corpus['Sentiment'].value_counts().index, hue_order =Corpus['Sentiment'].value_counts().index,  palette=colors2);\n",
    "ax.set(xticklabels=[]) \n",
    "ax.set(ylabel=None) \n",
    "plt.title('Sentiment Count')\n",
    "sns.move_legend(ax, \"upper left\", bbox_to_anchor=(1, 1))\n",
    "plt.show()"
   ]
  },
  {
   "cell_type": "markdown",
   "metadata": {},
   "source": [
    "# Number Of Sentences"
   ]
  },
  {
   "cell_type": "code",
   "execution_count": 8,
   "metadata": {},
   "outputs": [
    {
     "data": {
      "text/plain": [
       "48524"
      ]
     },
     "execution_count": 8,
     "metadata": {},
     "output_type": "execute_result"
    }
   ],
   "source": [
    "Corpus['NumberOfSentences'] = Corpus['Text'].apply(lambda n:len(nltk.tokenize.sent_tokenize(n)))\n",
    "Corpus.drop(Corpus[ Corpus[\"NumberOfSentences\"] == 0].index, inplace = True)\n",
    "Corpus['NumberOfSentences'].sum()"
   ]
  },
  {
   "cell_type": "markdown",
   "metadata": {},
   "source": [
    "# Average Number Of Sentences"
   ]
  },
  {
   "cell_type": "code",
   "execution_count": 9,
   "metadata": {},
   "outputs": [
    {
     "data": {
      "text/plain": [
       "3"
      ]
     },
     "execution_count": 9,
     "metadata": {},
     "output_type": "execute_result"
    }
   ],
   "source": [
    "AverageNumberOfSentence = int(np.round(Corpus[\"NumberOfSentences\"].mean()))\n",
    "AverageNumberOfSentence"
   ]
  },
  {
   "cell_type": "markdown",
   "metadata": {},
   "source": [
    "# Maximum Number Of Sentences"
   ]
  },
  {
   "cell_type": "code",
   "execution_count": 10,
   "metadata": {},
   "outputs": [
    {
     "data": {
      "text/plain": [
       "326"
      ]
     },
     "execution_count": 10,
     "metadata": {},
     "output_type": "execute_result"
    }
   ],
   "source": [
    "MaximumNumberOfSentence = Corpus[\"NumberOfSentences\"].max()\n",
    "MaximumNumberOfSentence"
   ]
  },
  {
   "cell_type": "markdown",
   "metadata": {},
   "source": [
    "# Minimum Number Of Sentences"
   ]
  },
  {
   "cell_type": "code",
   "execution_count": 11,
   "metadata": {},
   "outputs": [
    {
     "data": {
      "text/plain": [
       "1"
      ]
     },
     "execution_count": 11,
     "metadata": {},
     "output_type": "execute_result"
    }
   ],
   "source": [
    "MinimumNumberOfSentence = Corpus[\"NumberOfSentences\"].min()\n",
    "MinimumNumberOfSentence"
   ]
  },
  {
   "cell_type": "markdown",
   "metadata": {},
   "source": [
    "# POS Tagging (Parts of Speech Tagging)"
   ]
  },
  {
   "cell_type": "code",
   "execution_count": 12,
   "metadata": {},
   "outputs": [
    {
     "data": {
      "text/html": [
       "<div>\n",
       "<style scoped>\n",
       "    .dataframe tbody tr th:only-of-type {\n",
       "        vertical-align: middle;\n",
       "    }\n",
       "\n",
       "    .dataframe tbody tr th {\n",
       "        vertical-align: top;\n",
       "    }\n",
       "\n",
       "    .dataframe thead th {\n",
       "        text-align: right;\n",
       "    }\n",
       "</style>\n",
       "<table border=\"1\" class=\"dataframe\">\n",
       "  <thead>\n",
       "    <tr style=\"text-align: right;\">\n",
       "      <th></th>\n",
       "      <th>Sentiment</th>\n",
       "      <th>Text</th>\n",
       "      <th>NumberOfSentences</th>\n",
       "      <th>Tagged</th>\n",
       "    </tr>\n",
       "  </thead>\n",
       "  <tbody>\n",
       "    <tr>\n",
       "      <th>0</th>\n",
       "      <td>Negative</td>\n",
       "      <td>مقتطفات من كتاب سأخون وطني للكاتب محمد الماغو...</td>\n",
       "      <td>31</td>\n",
       "      <td>[(مقتطفات, JJ), (من, NNP), (كتاب, NNP), (سأخون...</td>\n",
       "    </tr>\n",
       "    <tr>\n",
       "      <th>1</th>\n",
       "      <td>Positive</td>\n",
       "      <td>كتاب جدا ً رائع يتكلم عن التعامل مع الاخرين ب...</td>\n",
       "      <td>2</td>\n",
       "      <td>[(كتاب, JJ), (جدا, NNP), (ً, NNP), (رائع, NNP)...</td>\n",
       "    </tr>\n",
       "    <tr>\n",
       "      <th>2</th>\n",
       "      <td>Positive</td>\n",
       "      <td>كتاب واقعي جدا,كُتب باسلوب مُعاصر وحديث.استمت...</td>\n",
       "      <td>1</td>\n",
       "      <td>[(كتاب, JJ), (واقعي, NNP), (جدا,كُتب, NNP), (ب...</td>\n",
       "    </tr>\n",
       "    <tr>\n",
       "      <th>3</th>\n",
       "      <td>Positive</td>\n",
       "      <td>وبما انى من المولعين ب د.مصطفى محمود ومن أوائ...</td>\n",
       "      <td>3</td>\n",
       "      <td>[(وبما, JJ), (انى, NNP), (من, NNP), (المولعين,...</td>\n",
       "    </tr>\n",
       "    <tr>\n",
       "      <th>4</th>\n",
       "      <td>Positive</td>\n",
       "      <td>اول حاجة طبعا في تعليقي لازم يكون عن الاسلوب ...</td>\n",
       "      <td>4</td>\n",
       "      <td>[(اول, JJ), (حاجة, NNP), (طبعا, NNP), (في, NNP...</td>\n",
       "    </tr>\n",
       "    <tr>\n",
       "      <th>...</th>\n",
       "      <td>...</td>\n",
       "      <td>...</td>\n",
       "      <td>...</td>\n",
       "      <td>...</td>\n",
       "    </tr>\n",
       "    <tr>\n",
       "      <th>16434</th>\n",
       "      <td>Negative</td>\n",
       "      <td>بين الشفقة و العطف أقيم هذه الرواية يؤسفني جد...</td>\n",
       "      <td>1</td>\n",
       "      <td>[(بين, JJ), (الشفقة, NNP), (و, NNP), (العطف, N...</td>\n",
       "    </tr>\n",
       "    <tr>\n",
       "      <th>16435</th>\n",
       "      <td>Negative</td>\n",
       "      <td>أوصيك بالدقة . لا بالوضوح . \" فاليري\" تقريباً...</td>\n",
       "      <td>3</td>\n",
       "      <td>[(أوصيك, JJ), (بالدقة, NNP), (., .), (لا, NN),...</td>\n",
       "    </tr>\n",
       "    <tr>\n",
       "      <th>16436</th>\n",
       "      <td>Negative</td>\n",
       "      <td>للاسف الشديد لم يعجبني الكتاب ، شعرت بالملل م...</td>\n",
       "      <td>2</td>\n",
       "      <td>[(للاسف, JJ), (الشديد, NNP), (لم, NNP), (يعجبن...</td>\n",
       "    </tr>\n",
       "    <tr>\n",
       "      <th>16437</th>\n",
       "      <td>Positive</td>\n",
       "      <td>من بداية الرواية وانا احاول تمالك نفسي ولكن ت...</td>\n",
       "      <td>14</td>\n",
       "      <td>[(من, JJ), (بداية, NNP), (الرواية, NNP), (وانا...</td>\n",
       "    </tr>\n",
       "    <tr>\n",
       "      <th>16438</th>\n",
       "      <td>Negative</td>\n",
       "      <td>خذلتنى هذه الرواية كثيرا لم يعجبنى ابدا تداخل...</td>\n",
       "      <td>1</td>\n",
       "      <td>[(خذلتنى, JJ), (هذه, NNP), (الرواية, NNP), (كث...</td>\n",
       "    </tr>\n",
       "  </tbody>\n",
       "</table>\n",
       "<p>16439 rows × 4 columns</p>\n",
       "</div>"
      ],
      "text/plain": [
       "      Sentiment                                               Text  \\\n",
       "0      Negative   مقتطفات من كتاب سأخون وطني للكاتب محمد الماغو...   \n",
       "1      Positive   كتاب جدا ً رائع يتكلم عن التعامل مع الاخرين ب...   \n",
       "2      Positive   كتاب واقعي جدا,كُتب باسلوب مُعاصر وحديث.استمت...   \n",
       "3      Positive   وبما انى من المولعين ب د.مصطفى محمود ومن أوائ...   \n",
       "4      Positive   اول حاجة طبعا في تعليقي لازم يكون عن الاسلوب ...   \n",
       "...         ...                                                ...   \n",
       "16434  Negative   بين الشفقة و العطف أقيم هذه الرواية يؤسفني جد...   \n",
       "16435  Negative   أوصيك بالدقة . لا بالوضوح . \" فاليري\" تقريباً...   \n",
       "16436  Negative   للاسف الشديد لم يعجبني الكتاب ، شعرت بالملل م...   \n",
       "16437  Positive   من بداية الرواية وانا احاول تمالك نفسي ولكن ت...   \n",
       "16438  Negative   خذلتنى هذه الرواية كثيرا لم يعجبنى ابدا تداخل...   \n",
       "\n",
       "       NumberOfSentences                                             Tagged  \n",
       "0                     31  [(مقتطفات, JJ), (من, NNP), (كتاب, NNP), (سأخون...  \n",
       "1                      2  [(كتاب, JJ), (جدا, NNP), (ً, NNP), (رائع, NNP)...  \n",
       "2                      1  [(كتاب, JJ), (واقعي, NNP), (جدا,كُتب, NNP), (ب...  \n",
       "3                      3  [(وبما, JJ), (انى, NNP), (من, NNP), (المولعين,...  \n",
       "4                      4  [(اول, JJ), (حاجة, NNP), (طبعا, NNP), (في, NNP...  \n",
       "...                  ...                                                ...  \n",
       "16434                  1  [(بين, JJ), (الشفقة, NNP), (و, NNP), (العطف, N...  \n",
       "16435                  3  [(أوصيك, JJ), (بالدقة, NNP), (., .), (لا, NN),...  \n",
       "16436                  2  [(للاسف, JJ), (الشديد, NNP), (لم, NNP), (يعجبن...  \n",
       "16437                 14  [(من, JJ), (بداية, NNP), (الرواية, NNP), (وانا...  \n",
       "16438                  1  [(خذلتنى, JJ), (هذه, NNP), (الرواية, NNP), (كث...  \n",
       "\n",
       "[16439 rows x 4 columns]"
      ]
     },
     "execution_count": 12,
     "metadata": {},
     "output_type": "execute_result"
    }
   ],
   "source": [
    "Corpus['Tagged'] = Corpus['Text'].str.split().apply(pos_tag)\n",
    "Corpus.reset_index(inplace=True, drop=True)\n",
    "Corpus"
   ]
  },
  {
   "cell_type": "markdown",
   "metadata": {},
   "source": [
    "# WordCloud"
   ]
  },
  {
   "cell_type": "code",
   "execution_count": 13,
   "metadata": {},
   "outputs": [],
   "source": [
    "def word_cloud_(Sentiment):\n",
    "    text = str(Corpus[Corpus['Sentiment'] == Sentiment])\n",
    "    text = arabic_reshaper.reshape(text)\n",
    "    text = get_display(text)\n",
    "    wordcloud = WordCloud(font_path='arial.ttf',background_color='white', mode='RGB',width=1200,height=600).generate(text)\n",
    "    plt.figure()\n",
    "    plt.imshow(wordcloud, interpolation='catrom')\n",
    "    plt.axis(\"off\")\n",
    "    plt.title('Word Cloud For {} Sentiment'.format(Sentiment))\n",
    "    plt.show()"
   ]
  },
  {
   "cell_type": "markdown",
   "metadata": {},
   "source": [
    "**1-Positive**"
   ]
  },
  {
   "cell_type": "code",
   "execution_count": 14,
   "metadata": {},
   "outputs": [
    {
     "data": {
      "image/png": "[encoded data removed]",
      "text/plain": [
       "<Figure size 640x480 with 1 Axes>"
      ]
     },
     "metadata": {},
     "output_type": "display_data"
    }
   ],
   "source": [
    "word_cloud_('Positive')"
   ]
  },
  {
   "cell_type": "markdown",
   "metadata": {},
   "source": [
    "**2-Negative**"
   ]
  },
  {
   "cell_type": "code",
   "execution_count": 15,
   "metadata": {},
   "outputs": [
    {
     "data": {
      "image/png": "[encoded data removed]",
      "text/plain": [
       "<Figure size 640x480 with 1 Axes>"
      ]
     },
     "metadata": {},
     "output_type": "display_data"
    }
   ],
   "source": [
    "word_cloud_('Negative')"
   ]
  },
  {
   "cell_type": "markdown",
   "metadata": {},
   "source": [
    "# Text Normalization"
   ]
  },
  {
   "cell_type": "code",
   "execution_count": 16,
   "metadata": {},
   "outputs": [],
   "source": [
    "def remove_emojis(text):\n",
    "     text = emoji.replace_emoji(text, replace=\"\")\n",
    "     return text\n",
    "\n",
    "def remove_hashtags(text):\n",
    "     text =  re.sub(\"#[ا-ي٠-٩a-zA-Z0-9]+\",\"\", text)\n",
    "     return text   \n",
    "\n",
    "def remove_emails(text):\n",
    "     text = re.sub(\"[a-zA-Z0-9-_.]+@[a-zA-Z]+.[a-zA-Z]+\",\"\", text)  \n",
    "     return text    \n",
    "\n",
    "def remove_url(text):\n",
    "     text = re.sub(r'http\\S+', '', text, flags=re.MULTILINE)\n",
    "     return text\n",
    "\n",
    "def remove_mention(text):\n",
    "     text = re.sub(\"@[ا-ي٠-٩a-zA-Z0-9]+\",\"\", text)\n",
    "     return text\n",
    "\n",
    "def remove_duplicate_char(text):\n",
    "     text = re.sub(r'(.)\\1+', r'\\1\\1', text)\n",
    "     return text\n",
    "\n",
    "def remove_single_char(text):\n",
    "     text = ' '.join( [w for w in text.split() if len(w)>1] )\n",
    "     return text\n",
    "\n",
    "def remove_special_charachter_(text):\n",
    "     Punctuations = '`؛،؟.,«»÷-' + string.punctuation\n",
    "     for punctuation in Punctuations:\n",
    "        text = text.replace(punctuation, ' ')\n",
    "     return text   \n",
    "\n",
    "def remove_new_line_char(text):\n",
    "     text = text.replace('\\n', ' ')\n",
    "     return text  \n",
    " \n",
    "def remove_number(text):\n",
    "     text = re.sub(r'\\d+', '', text)\n",
    "     return text\n",
    "\n",
    "def remove_html_tags(text):\n",
    "    text = re.sub(\"<.*?>\", ' ', text)\n",
    "    return text\n",
    "\n",
    "def remove_arabic_diacritics_(text):\n",
    "     text = dediac_ar(text)\n",
    "     return text\n",
    "\n",
    "def normalize_arabic_unicode_(text):\n",
    "     text = normalize_unicode(text)\n",
    "     return text\n",
    "\n",
    "def normalize_alef_maksura_ar_(text):\n",
    "     text = normalize_alef_maksura_ar(text)\n",
    "     return text\n",
    "\n",
    "def normalize_alef_ar_(text):\n",
    "     text = normalize_alef_ar(text)\n",
    "     return text\n",
    "\n",
    "def normalize_teh_marbuta_ar_(text):\n",
    "     text = normalize_teh_marbuta_ar(text)\n",
    "     return text\n",
    "\n",
    "def remove_non_arabic(text):\n",
    "    text = re.sub('[a-zA-Z]', '', text)\n",
    "    return text\n",
    "\n",
    "def remove_whitespace(text):\n",
    "     text = text.strip()\n",
    "     return text \n",
    "\n",
    "def remove_unicode_characters_(text):\n",
    "     for character in text:\n",
    "        if (ord(character) < 47) or ((ord(character) > 123 and ord(character) < 1568)) or ((ord(character) > 1641 and ord(character) < 8239)) :\n",
    "         text = text.replace(character, ' ')\n",
    "     return text\n",
    "\n",
    "def stemmer_(text):\n",
    "     stemmer = SnowballStemmer('arabic')\n",
    "     text = [stemmer.stem(word) for word in text]\n",
    "     return text\n",
    "\n",
    "\n",
    "def remove_longest_than_(text):\n",
    "     \"Remove All Words That Longest Than The Longest Word In Arabic\"\n",
    "     for word in text.split():\n",
    "          if len(word) >=16:\n",
    "               text = text.replace(word, '')\n",
    "     return text\n",
    "\n",
    "def remove_stop_words(text):\n",
    "     StopWords1 = set(stp.stopwords_list())\n",
    "     StopWords2 = set(open('ArabicStopWord.txt','r', encoding='Utf-8').read().split('\\n'))\n",
    "     StopWords = StopWords1.union(StopWords2)\n",
    "     text = simple_word_tokenize(text)\n",
    "     text = [word for word in text if word not in StopWords]\n",
    "     return ' '.join(text)"
   ]
  },
  {
   "cell_type": "code",
   "execution_count": 17,
   "metadata": {},
   "outputs": [],
   "source": [
    "def text_normalization(text):\n",
    "    text = remove_non_arabic(text)\n",
    "    text = remove_emojis(text)\n",
    "    text = remove_hashtags(text)\n",
    "    text = remove_emails(text)\n",
    "    text = remove_url(text)\n",
    "    text = remove_mention(text)\n",
    "    text = remove_html_tags(text)\n",
    "    text = remove_duplicate_char(text)\n",
    "    text = remove_number(text)\n",
    "    text = normalize_arabic_unicode_(text)\n",
    "    text = remove_single_char(text)\n",
    "    text = remove_special_charachter_(text)\n",
    "    text = remove_stop_words(text)\n",
    "    text = normalize_alef_ar(text)\n",
    "    text = normalize_alef_maksura_ar(text)\n",
    "    text = normalize_teh_marbuta_ar(text)\n",
    "    text = remove_arabic_diacritics_(text)\n",
    "    text = remove_longest_than_(text)\n",
    "    text = remove_new_line_char(text)\n",
    "    text = remove_unicode_characters_(text)\n",
    "    text = remove_whitespace(text)\n",
    "    text = stemmer_(text)\n",
    "    return ''.join(text)"
   ]
  },
  {
   "cell_type": "code",
   "execution_count": 18,
   "metadata": {},
   "outputs": [],
   "source": [
    "Corpus['Normalized_Text'] = Corpus['Text'].apply(text_normalization)"
   ]
  },
  {
   "cell_type": "markdown",
   "metadata": {},
   "source": [
    "# Bigrams"
   ]
  },
  {
   "cell_type": "code",
   "execution_count": 19,
   "metadata": {},
   "outputs": [
    {
     "data": {
      "text/plain": [
       "[('روايه', 'ممتعه'),\n",
       " ('ممتعه', 'وربط'),\n",
       " ('وربط', 'متميز'),\n",
       " ('متميز', 'الشخصيات'),\n",
       " ('الشخصيات', 'يعيبها'),\n",
       " ('يعيبها', 'كثره'),\n",
       " ('كثره', 'المشاهد'),\n",
       " ('المشاهد', 'الجنسيه'),\n",
       " ('الجنسيه', 'تخدم'),\n",
       " ('تخدم', 'الروايه'),\n",
       " ('الروايه', 'وجهه'),\n",
       " ('وجهه', 'نظري'),\n",
       " ('نظري', 'المتواضعه'),\n",
       " ('المتواضعه', 'طبعا')]"
      ]
     },
     "execution_count": 19,
     "metadata": {},
     "output_type": "execute_result"
    }
   ],
   "source": [
    "Corpus['Bigrams'] = Corpus['Normalized_Text'].apply(lambda x: list(nltk.bigrams(x.split( ))))\n",
    "Corpus['Bigrams'][100]"
   ]
  },
  {
   "cell_type": "markdown",
   "metadata": {},
   "source": [
    "# Trigrams"
   ]
  },
  {
   "cell_type": "code",
   "execution_count": 20,
   "metadata": {},
   "outputs": [
    {
     "data": {
      "text/plain": [
       "[('روايه', 'ممتعه', 'وربط'),\n",
       " ('ممتعه', 'وربط', 'متميز'),\n",
       " ('وربط', 'متميز', 'الشخصيات'),\n",
       " ('متميز', 'الشخصيات', 'يعيبها'),\n",
       " ('الشخصيات', 'يعيبها', 'كثره'),\n",
       " ('يعيبها', 'كثره', 'المشاهد'),\n",
       " ('كثره', 'المشاهد', 'الجنسيه'),\n",
       " ('المشاهد', 'الجنسيه', 'تخدم'),\n",
       " ('الجنسيه', 'تخدم', 'الروايه'),\n",
       " ('تخدم', 'الروايه', 'وجهه'),\n",
       " ('الروايه', 'وجهه', 'نظري'),\n",
       " ('وجهه', 'نظري', 'المتواضعه'),\n",
       " ('نظري', 'المتواضعه', 'طبعا')]"
      ]
     },
     "execution_count": 20,
     "metadata": {},
     "output_type": "execute_result"
    }
   ],
   "source": [
    "Corpus['Trigrams'] = Corpus['Normalized_Text'].apply(lambda x: list(nltk.trigrams(x.split( ))))\n",
    "Corpus['Trigrams'][100]"
   ]
  },
  {
   "cell_type": "markdown",
   "metadata": {},
   "source": [
    "# Ngrams"
   ]
  },
  {
   "cell_type": "code",
   "execution_count": 21,
   "metadata": {},
   "outputs": [
    {
     "data": {
      "text/plain": [
       "[('روايه', 'ممتعه', 'وربط', 'متميز'),\n",
       " ('ممتعه', 'وربط', 'متميز', 'الشخصيات'),\n",
       " ('وربط', 'متميز', 'الشخصيات', 'يعيبها'),\n",
       " ('متميز', 'الشخصيات', 'يعيبها', 'كثره'),\n",
       " ('الشخصيات', 'يعيبها', 'كثره', 'المشاهد'),\n",
       " ('يعيبها', 'كثره', 'المشاهد', 'الجنسيه'),\n",
       " ('كثره', 'المشاهد', 'الجنسيه', 'تخدم'),\n",
       " ('المشاهد', 'الجنسيه', 'تخدم', 'الروايه'),\n",
       " ('الجنسيه', 'تخدم', 'الروايه', 'وجهه'),\n",
       " ('تخدم', 'الروايه', 'وجهه', 'نظري'),\n",
       " ('الروايه', 'وجهه', 'نظري', 'المتواضعه'),\n",
       " ('وجهه', 'نظري', 'المتواضعه', 'طبعا')]"
      ]
     },
     "execution_count": 21,
     "metadata": {},
     "output_type": "execute_result"
    }
   ],
   "source": [
    "Corpus['Ngrams'] = Corpus['Normalized_Text'].apply(lambda x: list(nltk.ngrams(x.split( ), 4)))\n",
    "Corpus['Ngrams'][100]"
   ]
  },
  {
   "cell_type": "markdown",
   "metadata": {},
   "source": [
    "# Most Frequent Words "
   ]
  },
  {
   "cell_type": "code",
   "execution_count": 22,
   "metadata": {},
   "outputs": [
    {
     "data": {
      "text/html": [
       "<div>\n",
       "<style scoped>\n",
       "    .dataframe tbody tr th:only-of-type {\n",
       "        vertical-align: middle;\n",
       "    }\n",
       "\n",
       "    .dataframe tbody tr th {\n",
       "        vertical-align: top;\n",
       "    }\n",
       "\n",
       "    .dataframe thead th {\n",
       "        text-align: right;\n",
       "    }\n",
       "</style>\n",
       "<table border=\"1\" class=\"dataframe\">\n",
       "  <thead>\n",
       "    <tr style=\"text-align: right;\">\n",
       "      <th></th>\n",
       "      <th>Word</th>\n",
       "      <th>Count</th>\n",
       "    </tr>\n",
       "  </thead>\n",
       "  <tbody>\n",
       "    <tr>\n",
       "      <th>0</th>\n",
       "      <td>الروايه</td>\n",
       "      <td>7347</td>\n",
       "    </tr>\n",
       "    <tr>\n",
       "      <th>1</th>\n",
       "      <td>الكتاب</td>\n",
       "      <td>6617</td>\n",
       "    </tr>\n",
       "    <tr>\n",
       "      <th>2</th>\n",
       "      <td>كتاب</td>\n",
       "      <td>3828</td>\n",
       "    </tr>\n",
       "    <tr>\n",
       "      <th>3</th>\n",
       "      <td>روايه</td>\n",
       "      <td>3154</td>\n",
       "    </tr>\n",
       "    <tr>\n",
       "      <th>4</th>\n",
       "      <td>الكاتب</td>\n",
       "      <td>2793</td>\n",
       "    </tr>\n",
       "    <tr>\n",
       "      <th>5</th>\n",
       "      <td>الله</td>\n",
       "      <td>2312</td>\n",
       "    </tr>\n",
       "    <tr>\n",
       "      <th>6</th>\n",
       "      <td>اللي</td>\n",
       "      <td>1878</td>\n",
       "    </tr>\n",
       "    <tr>\n",
       "      <th>7</th>\n",
       "      <td>مش</td>\n",
       "      <td>1444</td>\n",
       "    </tr>\n",
       "    <tr>\n",
       "      <th>8</th>\n",
       "      <td>رائع</td>\n",
       "      <td>1431</td>\n",
       "    </tr>\n",
       "    <tr>\n",
       "      <th>9</th>\n",
       "      <td>الاحداث</td>\n",
       "      <td>1247</td>\n",
       "    </tr>\n",
       "    <tr>\n",
       "      <th>10</th>\n",
       "      <td>اسلوب</td>\n",
       "      <td>1187</td>\n",
       "    </tr>\n",
       "    <tr>\n",
       "      <th>11</th>\n",
       "      <td>رائعه</td>\n",
       "      <td>1077</td>\n",
       "    </tr>\n",
       "    <tr>\n",
       "      <th>12</th>\n",
       "      <td>قرات</td>\n",
       "      <td>1070</td>\n",
       "    </tr>\n",
       "    <tr>\n",
       "      <th>13</th>\n",
       "      <td>الكثير</td>\n",
       "      <td>1070</td>\n",
       "    </tr>\n",
       "    <tr>\n",
       "      <th>14</th>\n",
       "      <td>الحياه</td>\n",
       "      <td>986</td>\n",
       "    </tr>\n",
       "  </tbody>\n",
       "</table>\n",
       "</div>"
      ],
      "text/plain": [
       "       Word  Count\n",
       "0   الروايه   7347\n",
       "1    الكتاب   6617\n",
       "2      كتاب   3828\n",
       "3     روايه   3154\n",
       "4    الكاتب   2793\n",
       "5      الله   2312\n",
       "6      اللي   1878\n",
       "7        مش   1444\n",
       "8      رائع   1431\n",
       "9   الاحداث   1247\n",
       "10    اسلوب   1187\n",
       "11    رائعه   1077\n",
       "12     قرات   1070\n",
       "13   الكثير   1070\n",
       "14   الحياه    986"
      ]
     },
     "execution_count": 22,
     "metadata": {},
     "output_type": "execute_result"
    }
   ],
   "source": [
    "MostFrequentWord = Counter((Corpus['Normalized_Text']).str.split().explode()).most_common(15)\n",
    "MostFrequentWordDF = pd.DataFrame(MostFrequentWord, columns=('Word', 'Count'))\n",
    "MostFrequentWordDF"
   ]
  },
  {
   "cell_type": "code",
   "execution_count": 23,
   "metadata": {},
   "outputs": [
    {
     "data": {
      "application/vnd.plotly.v1+json": {
       "config": {
        "plotlyServerURL": "https://plot.ly"
       },
       "data": [
        {
         "marker": {
          "color": [
           "Salmon",
           "FireBrick",
           "MediumVioletRed",
           "Tomato",
           "Orange",
           "Gold",
           "DarkKhaki",
           "Lavender",
           "Plum",
           "LimeGreen",
           "MediumSpringGreen",
           "Green",
           "DeepSkyBlue",
           "Aquamarine",
           "MediumSlateBlue"
          ]
         },
         "type": "funnel",
         "x": [
          7347,
          6617,
          3828,
          3154,
          2793,
          2312,
          1878,
          1444,
          1431,
          1247,
          1187,
          1077,
          1070,
          1070,
          986
         ],
         "y": [
          "الروايه",
          "الكتاب",
          "كتاب",
          "روايه",
          "الكاتب",
          "الله",
          "اللي",
          "مش",
          "رائع",
          "الاحداث",
          "اسلوب",
          "رائعه",
          "قرات",
          "الكثير",
          "الحياه"
         ]
        }
       ],
       "layout": {
        "template": {
         "data": {
          "bar": [
           {
            "error_x": {
             "color": "#2a3f5f"
            },
            "error_y": {
             "color": "#2a3f5f"
            },
            "marker": {
             "line": {
              "color": "#E5ECF6",
              "width": 0.5
             },
             "pattern": {
              "fillmode": "overlay",
              "size": 10,
              "solidity": 0.2
             }
            },
            "type": "bar"
           }
          ],
          "barpolar": [
           {
            "marker": {
             "line": {
              "color": "#E5ECF6",
              "width": 0.5
             },
             "pattern": {
              "fillmode": "overlay",
              "size": 10,
              "solidity": 0.2
             }
            },
            "type": "barpolar"
           }
          ],
          "carpet": [
           {
            "aaxis": {
             "endlinecolor": "#2a3f5f",
             "gridcolor": "white",
             "linecolor": "white",
             "minorgridcolor": "white",
             "startlinecolor": "#2a3f5f"
            },
            "baxis": {
             "endlinecolor": "#2a3f5f",
             "gridcolor": "white",
             "linecolor": "white",
             "minorgridcolor": "white",
             "startlinecolor": "#2a3f5f"
            },
            "type": "carpet"
           }
          ],
          "choropleth": [
           {
            "colorbar": {
             "outlinewidth": 0,
             "ticks": ""
            },
            "type": "choropleth"
           }
          ],
          "contour": [
           {
            "colorbar": {
             "outlinewidth": 0,
             "ticks": ""
            },
            "colorscale": [
             [
              0,
              "#0d0887"
             ],
             [
              0.1111111111111111,
              "#46039f"
             ],
             [
              0.2222222222222222,
              "#7201a8"
             ],
             [
              0.3333333333333333,
              "#9c179e"
             ],
             [
              0.4444444444444444,
              "#bd3786"
             ],
             [
              0.5555555555555556,
              "#d8576b"
             ],
             [
              0.6666666666666666,
              "#ed7953"
             ],
             [
              0.7777777777777778,
              "#fb9f3a"
             ],
             [
              0.8888888888888888,
              "#fdca26"
             ],
             [
              1,
              "#f0f921"
             ]
            ],
            "type": "contour"
           }
          ],
          "contourcarpet": [
           {
            "colorbar": {
             "outlinewidth": 0,
             "ticks": ""
            },
            "type": "contourcarpet"
           }
          ],
          "heatmap": [
           {
            "colorbar": {
             "outlinewidth": 0,
             "ticks": ""
            },
            "colorscale": [
             [
              0,
              "#0d0887"
             ],
             [
              0.1111111111111111,
              "#46039f"
             ],
             [
              0.2222222222222222,
              "#7201a8"
             ],
             [
              0.3333333333333333,
              "#9c179e"
             ],
             [
              0.4444444444444444,
              "#bd3786"
             ],
             [
              0.5555555555555556,
              "#d8576b"
             ],
             [
              0.6666666666666666,
              "#ed7953"
             ],
             [
              0.7777777777777778,
              "#fb9f3a"
             ],
             [
              0.8888888888888888,
              "#fdca26"
             ],
             [
              1,
              "#f0f921"
             ]
            ],
            "type": "heatmap"
           }
          ],
          "heatmapgl": [
           {
            "colorbar": {
             "outlinewidth": 0,
             "ticks": ""
            },
            "colorscale": [
             [
              0,
              "#0d0887"
             ],
             [
              0.1111111111111111,
              "#46039f"
             ],
             [
              0.2222222222222222,
              "#7201a8"
             ],
             [
              0.3333333333333333,
              "#9c179e"
             ],
             [
              0.4444444444444444,
              "#bd3786"
             ],
             [
              0.5555555555555556,
              "#d8576b"
             ],
             [
              0.6666666666666666,
              "#ed7953"
             ],
             [
              0.7777777777777778,
              "#fb9f3a"
             ],
             [
              0.8888888888888888,
              "#fdca26"
             ],
             [
              1,
              "#f0f921"
             ]
            ],
            "type": "heatmapgl"
           }
          ],
          "histogram": [
           {
            "marker": {
             "pattern": {
              "fillmode": "overlay",
              "size": 10,
              "solidity": 0.2
             }
            },
            "type": "histogram"
           }
          ],
          "histogram2d": [
           {
            "colorbar": {
             "outlinewidth": 0,
             "ticks": ""
            },
            "colorscale": [
             [
              0,
              "#0d0887"
             ],
             [
              0.1111111111111111,
              "#46039f"
             ],
             [
              0.2222222222222222,
              "#7201a8"
             ],
             [
              0.3333333333333333,
              "#9c179e"
             ],
             [
              0.4444444444444444,
              "#bd3786"
             ],
             [
              0.5555555555555556,
              "#d8576b"
             ],
             [
              0.6666666666666666,
              "#ed7953"
             ],
             [
              0.7777777777777778,
              "#fb9f3a"
             ],
             [
              0.8888888888888888,
              "#fdca26"
             ],
             [
              1,
              "#f0f921"
             ]
            ],
            "type": "histogram2d"
           }
          ],
          "histogram2dcontour": [
           {
            "colorbar": {
             "outlinewidth": 0,
             "ticks": ""
            },
            "colorscale": [
             [
              0,
              "#0d0887"
             ],
             [
              0.1111111111111111,
              "#46039f"
             ],
             [
              0.2222222222222222,
              "#7201a8"
             ],
             [
              0.3333333333333333,
              "#9c179e"
             ],
             [
              0.4444444444444444,
              "#bd3786"
             ],
             [
              0.5555555555555556,
              "#d8576b"
             ],
             [
              0.6666666666666666,
              "#ed7953"
             ],
             [
              0.7777777777777778,
              "#fb9f3a"
             ],
             [
              0.8888888888888888,
              "#fdca26"
             ],
             [
              1,
              "#f0f921"
             ]
            ],
            "type": "histogram2dcontour"
           }
          ],
          "mesh3d": [
           {
            "colorbar": {
             "outlinewidth": 0,
             "ticks": ""
            },
            "type": "mesh3d"
           }
          ],
          "parcoords": [
           {
            "line": {
             "colorbar": {
              "outlinewidth": 0,
              "ticks": ""
             }
            },
            "type": "parcoords"
           }
          ],
          "pie": [
           {
            "automargin": true,
            "type": "pie"
           }
          ],
          "scatter": [
           {
            "fillpattern": {
             "fillmode": "overlay",
             "size": 10,
             "solidity": 0.2
            },
            "type": "scatter"
           }
          ],
          "scatter3d": [
           {
            "line": {
             "colorbar": {
              "outlinewidth": 0,
              "ticks": ""
             }
            },
            "marker": {
             "colorbar": {
              "outlinewidth": 0,
              "ticks": ""
             }
            },
            "type": "scatter3d"
           }
          ],
          "scattercarpet": [
           {
            "marker": {
             "colorbar": {
              "outlinewidth": 0,
              "ticks": ""
             }
            },
            "type": "scattercarpet"
           }
          ],
          "scattergeo": [
           {
            "marker": {
             "colorbar": {
              "outlinewidth": 0,
              "ticks": ""
             }
            },
            "type": "scattergeo"
           }
          ],
          "scattergl": [
           {
            "marker": {
             "colorbar": {
              "outlinewidth": 0,
              "ticks": ""
             }
            },
            "type": "scattergl"
           }
          ],
          "scattermapbox": [
           {
            "marker": {
             "colorbar": {
              "outlinewidth": 0,
              "ticks": ""
             }
            },
            "type": "scattermapbox"
           }
          ],
          "scatterpolar": [
           {
            "marker": {
             "colorbar": {
              "outlinewidth": 0,
              "ticks": ""
             }
            },
            "type": "scatterpolar"
           }
          ],
          "scatterpolargl": [
           {
            "marker": {
             "colorbar": {
              "outlinewidth": 0,
              "ticks": ""
             }
            },
            "type": "scatterpolargl"
           }
          ],
          "scatterternary": [
           {
            "marker": {
             "colorbar": {
              "outlinewidth": 0,
              "ticks": ""
             }
            },
            "type": "scatterternary"
           }
          ],
          "surface": [
           {
            "colorbar": {
             "outlinewidth": 0,
             "ticks": ""
            },
            "colorscale": [
             [
              0,
              "#0d0887"
             ],
             [
              0.1111111111111111,
              "#46039f"
             ],
             [
              0.2222222222222222,
              "#7201a8"
             ],
             [
              0.3333333333333333,
              "#9c179e"
             ],
             [
              0.4444444444444444,
              "#bd3786"
             ],
             [
              0.5555555555555556,
              "#d8576b"
             ],
             [
              0.6666666666666666,
              "#ed7953"
             ],
             [
              0.7777777777777778,
              "#fb9f3a"
             ],
             [
              0.8888888888888888,
              "#fdca26"
             ],
             [
              1,
              "#f0f921"
             ]
            ],
            "type": "surface"
           }
          ],
          "table": [
           {
            "cells": {
             "fill": {
              "color": "#EBF0F8"
             },
             "line": {
              "color": "white"
             }
            },
            "header": {
             "fill": {
              "color": "#C8D4E3"
             },
             "line": {
              "color": "white"
             }
            },
            "type": "table"
           }
          ]
         },
         "layout": {
          "annotationdefaults": {
           "arrowcolor": "#2a3f5f",
           "arrowhead": 0,
           "arrowwidth": 1
          },
          "autotypenumbers": "strict",
          "coloraxis": {
           "colorbar": {
            "outlinewidth": 0,
            "ticks": ""
           }
          },
          "colorscale": {
           "diverging": [
            [
             0,
             "#8e0152"
            ],
            [
             0.1,
             "#c51b7d"
            ],
            [
             0.2,
             "#de77ae"
            ],
            [
             0.3,
             "#f1b6da"
            ],
            [
             0.4,
             "#fde0ef"
            ],
            [
             0.5,
             "#f7f7f7"
            ],
            [
             0.6,
             "#e6f5d0"
            ],
            [
             0.7,
             "#b8e186"
            ],
            [
             0.8,
             "#7fbc41"
            ],
            [
             0.9,
             "#4d9221"
            ],
            [
             1,
             "#276419"
            ]
           ],
           "sequential": [
            [
             0,
             "#0d0887"
            ],
            [
             0.1111111111111111,
             "#46039f"
            ],
            [
             0.2222222222222222,
             "#7201a8"
            ],
            [
             0.3333333333333333,
             "#9c179e"
            ],
            [
             0.4444444444444444,
             "#bd3786"
            ],
            [
             0.5555555555555556,
             "#d8576b"
            ],
            [
             0.6666666666666666,
             "#ed7953"
            ],
            [
             0.7777777777777778,
             "#fb9f3a"
            ],
            [
             0.8888888888888888,
             "#fdca26"
            ],
            [
             1,
             "#f0f921"
            ]
           ],
           "sequentialminus": [
            [
             0,
             "#0d0887"
            ],
            [
             0.1111111111111111,
             "#46039f"
            ],
            [
             0.2222222222222222,
             "#7201a8"
            ],
            [
             0.3333333333333333,
             "#9c179e"
            ],
            [
             0.4444444444444444,
             "#bd3786"
            ],
            [
             0.5555555555555556,
             "#d8576b"
            ],
            [
             0.6666666666666666,
             "#ed7953"
            ],
            [
             0.7777777777777778,
             "#fb9f3a"
            ],
            [
             0.8888888888888888,
             "#fdca26"
            ],
            [
             1,
             "#f0f921"
            ]
           ]
          },
          "colorway": [
           "#636efa",
           "#EF553B",
           "#00cc96",
           "#ab63fa",
           "#FFA15A",
           "#19d3f3",
           "#FF6692",
           "#B6E880",
           "#FF97FF",
           "#FECB52"
          ],
          "font": {
           "color": "#2a3f5f"
          },
          "geo": {
           "bgcolor": "white",
           "lakecolor": "white",
           "landcolor": "#E5ECF6",
           "showlakes": true,
           "showland": true,
           "subunitcolor": "white"
          },
          "hoverlabel": {
           "align": "left"
          },
          "hovermode": "closest",
          "mapbox": {
           "style": "light"
          },
          "paper_bgcolor": "white",
          "plot_bgcolor": "#E5ECF6",
          "polar": {
           "angularaxis": {
            "gridcolor": "white",
            "linecolor": "white",
            "ticks": ""
           },
           "bgcolor": "#E5ECF6",
           "radialaxis": {
            "gridcolor": "white",
            "linecolor": "white",
            "ticks": ""
           }
          },
          "scene": {
           "xaxis": {
            "backgroundcolor": "#E5ECF6",
            "gridcolor": "white",
            "gridwidth": 2,
            "linecolor": "white",
            "showbackground": true,
            "ticks": "",
            "zerolinecolor": "white"
           },
           "yaxis": {
            "backgroundcolor": "#E5ECF6",
            "gridcolor": "white",
            "gridwidth": 2,
            "linecolor": "white",
            "showbackground": true,
            "ticks": "",
            "zerolinecolor": "white"
           },
           "zaxis": {
            "backgroundcolor": "#E5ECF6",
            "gridcolor": "white",
            "gridwidth": 2,
            "linecolor": "white",
            "showbackground": true,
            "ticks": "",
            "zerolinecolor": "white"
           }
          },
          "shapedefaults": {
           "line": {
            "color": "#2a3f5f"
           }
          },
          "ternary": {
           "aaxis": {
            "gridcolor": "white",
            "linecolor": "white",
            "ticks": ""
           },
           "baxis": {
            "gridcolor": "white",
            "linecolor": "white",
            "ticks": ""
           },
           "bgcolor": "#E5ECF6",
           "caxis": {
            "gridcolor": "white",
            "linecolor": "white",
            "ticks": ""
           }
          },
          "title": {
           "x": 0.05
          },
          "xaxis": {
           "automargin": true,
           "gridcolor": "white",
           "linecolor": "white",
           "ticks": "",
           "title": {
            "standoff": 15
           },
           "zerolinecolor": "white",
           "zerolinewidth": 2
          },
          "yaxis": {
           "automargin": true,
           "gridcolor": "white",
           "linecolor": "white",
           "ticks": "",
           "title": {
            "standoff": 15
           },
           "zerolinecolor": "white",
           "zerolinewidth": 2
          }
         }
        }
       }
      }
     },
     "metadata": {},
     "output_type": "display_data"
    }
   ],
   "source": [
    "fig = go.Figure(go.Funnel(\n",
    "    y = MostFrequentWordDF['Word'].tolist(),\n",
    "    x = MostFrequentWordDF['Count'].tolist(),\n",
    "    marker = {\"color\": color3}))\n",
    "fig.show()"
   ]
  },
  {
   "cell_type": "code",
   "execution_count": 24,
   "metadata": {},
   "outputs": [
    {
     "data": {
      "application/vnd.plotly.v1+json": {
       "config": {
        "plotlyServerURL": "https://plot.ly"
       },
       "data": [
        {
         "alignmentgroup": "True",
         "hovertemplate": "Count=%{x}<br>Word=%{y}<extra></extra>",
         "legendgroup": "",
         "marker": {
          "color": "#636efa",
          "pattern": {
           "shape": ""
          }
         },
         "name": "",
         "offsetgroup": "",
         "orientation": "h",
         "showlegend": false,
         "textposition": "auto",
         "type": "bar",
         "x": [
          7347,
          6617,
          3828,
          3154,
          2793,
          2312,
          1878,
          1444,
          1431,
          1247,
          1187,
          1077,
          1070,
          1070,
          986
         ],
         "xaxis": "x",
         "y": [
          "الروايه",
          "الكتاب",
          "كتاب",
          "روايه",
          "الكاتب",
          "الله",
          "اللي",
          "مش",
          "رائع",
          "الاحداث",
          "اسلوب",
          "رائعه",
          "قرات",
          "الكثير",
          "الحياه"
         ],
         "yaxis": "y"
        }
       ],
       "layout": {
        "barmode": "relative",
        "legend": {
         "tracegroupgap": 0
        },
        "margin": {
         "t": 60
        },
        "template": {
         "data": {
          "bar": [
           {
            "error_x": {
             "color": "#2a3f5f"
            },
            "error_y": {
             "color": "#2a3f5f"
            },
            "marker": {
             "line": {
              "color": "#E5ECF6",
              "width": 0.5
             },
             "pattern": {
              "fillmode": "overlay",
              "size": 10,
              "solidity": 0.2
             }
            },
            "type": "bar"
           }
          ],
          "barpolar": [
           {
            "marker": {
             "line": {
              "color": "#E5ECF6",
              "width": 0.5
             },
             "pattern": {
              "fillmode": "overlay",
              "size": 10,
              "solidity": 0.2
             }
            },
            "type": "barpolar"
           }
          ],
          "carpet": [
           {
            "aaxis": {
             "endlinecolor": "#2a3f5f",
             "gridcolor": "white",
             "linecolor": "white",
             "minorgridcolor": "white",
             "startlinecolor": "#2a3f5f"
            },
            "baxis": {
             "endlinecolor": "#2a3f5f",
             "gridcolor": "white",
             "linecolor": "white",
             "minorgridcolor": "white",
             "startlinecolor": "#2a3f5f"
            },
            "type": "carpet"
           }
          ],
          "choropleth": [
           {
            "colorbar": {
             "outlinewidth": 0,
             "ticks": ""
            },
            "type": "choropleth"
           }
          ],
          "contour": [
           {
            "colorbar": {
             "outlinewidth": 0,
             "ticks": ""
            },
            "colorscale": [
             [
              0,
              "#0d0887"
             ],
             [
              0.1111111111111111,
              "#46039f"
             ],
             [
              0.2222222222222222,
              "#7201a8"
             ],
             [
              0.3333333333333333,
              "#9c179e"
             ],
             [
              0.4444444444444444,
              "#bd3786"
             ],
             [
              0.5555555555555556,
              "#d8576b"
             ],
             [
              0.6666666666666666,
              "#ed7953"
             ],
             [
              0.7777777777777778,
              "#fb9f3a"
             ],
             [
              0.8888888888888888,
              "#fdca26"
             ],
             [
              1,
              "#f0f921"
             ]
            ],
            "type": "contour"
           }
          ],
          "contourcarpet": [
           {
            "colorbar": {
             "outlinewidth": 0,
             "ticks": ""
            },
            "type": "contourcarpet"
           }
          ],
          "heatmap": [
           {
            "colorbar": {
             "outlinewidth": 0,
             "ticks": ""
            },
            "colorscale": [
             [
              0,
              "#0d0887"
             ],
             [
              0.1111111111111111,
              "#46039f"
             ],
             [
              0.2222222222222222,
              "#7201a8"
             ],
             [
              0.3333333333333333,
              "#9c179e"
             ],
             [
              0.4444444444444444,
              "#bd3786"
             ],
             [
              0.5555555555555556,
              "#d8576b"
             ],
             [
              0.6666666666666666,
              "#ed7953"
             ],
             [
              0.7777777777777778,
              "#fb9f3a"
             ],
             [
              0.8888888888888888,
              "#fdca26"
             ],
             [
              1,
              "#f0f921"
             ]
            ],
            "type": "heatmap"
           }
          ],
          "heatmapgl": [
           {
            "colorbar": {
             "outlinewidth": 0,
             "ticks": ""
            },
            "colorscale": [
             [
              0,
              "#0d0887"
             ],
             [
              0.1111111111111111,
              "#46039f"
             ],
             [
              0.2222222222222222,
              "#7201a8"
             ],
             [
              0.3333333333333333,
              "#9c179e"
             ],
             [
              0.4444444444444444,
              "#bd3786"
             ],
             [
              0.5555555555555556,
              "#d8576b"
             ],
             [
              0.6666666666666666,
              "#ed7953"
             ],
             [
              0.7777777777777778,
              "#fb9f3a"
             ],
             [
              0.8888888888888888,
              "#fdca26"
             ],
             [
              1,
              "#f0f921"
             ]
            ],
            "type": "heatmapgl"
           }
          ],
          "histogram": [
           {
            "marker": {
             "pattern": {
              "fillmode": "overlay",
              "size": 10,
              "solidity": 0.2
             }
            },
            "type": "histogram"
           }
          ],
          "histogram2d": [
           {
            "colorbar": {
             "outlinewidth": 0,
             "ticks": ""
            },
            "colorscale": [
             [
              0,
              "#0d0887"
             ],
             [
              0.1111111111111111,
              "#46039f"
             ],
             [
              0.2222222222222222,
              "#7201a8"
             ],
             [
              0.3333333333333333,
              "#9c179e"
             ],
             [
              0.4444444444444444,
              "#bd3786"
             ],
             [
              0.5555555555555556,
              "#d8576b"
             ],
             [
              0.6666666666666666,
              "#ed7953"
             ],
             [
              0.7777777777777778,
              "#fb9f3a"
             ],
             [
              0.8888888888888888,
              "#fdca26"
             ],
             [
              1,
              "#f0f921"
             ]
            ],
            "type": "histogram2d"
           }
          ],
          "histogram2dcontour": [
           {
            "colorbar": {
             "outlinewidth": 0,
             "ticks": ""
            },
            "colorscale": [
             [
              0,
              "#0d0887"
             ],
             [
              0.1111111111111111,
              "#46039f"
             ],
             [
              0.2222222222222222,
              "#7201a8"
             ],
             [
              0.3333333333333333,
              "#9c179e"
             ],
             [
              0.4444444444444444,
              "#bd3786"
             ],
             [
              0.5555555555555556,
              "#d8576b"
             ],
             [
              0.6666666666666666,
              "#ed7953"
             ],
             [
              0.7777777777777778,
              "#fb9f3a"
             ],
             [
              0.8888888888888888,
              "#fdca26"
             ],
             [
              1,
              "#f0f921"
             ]
            ],
            "type": "histogram2dcontour"
           }
          ],
          "mesh3d": [
           {
            "colorbar": {
             "outlinewidth": 0,
             "ticks": ""
            },
            "type": "mesh3d"
           }
          ],
          "parcoords": [
           {
            "line": {
             "colorbar": {
              "outlinewidth": 0,
              "ticks": ""
             }
            },
            "type": "parcoords"
           }
          ],
          "pie": [
           {
            "automargin": true,
            "type": "pie"
           }
          ],
          "scatter": [
           {
            "fillpattern": {
             "fillmode": "overlay",
             "size": 10,
             "solidity": 0.2
            },
            "type": "scatter"
           }
          ],
          "scatter3d": [
           {
            "line": {
             "colorbar": {
              "outlinewidth": 0,
              "ticks": ""
             }
            },
            "marker": {
             "colorbar": {
              "outlinewidth": 0,
              "ticks": ""
             }
            },
            "type": "scatter3d"
           }
          ],
          "scattercarpet": [
           {
            "marker": {
             "colorbar": {
              "outlinewidth": 0,
              "ticks": ""
             }
            },
            "type": "scattercarpet"
           }
          ],
          "scattergeo": [
           {
            "marker": {
             "colorbar": {
              "outlinewidth": 0,
              "ticks": ""
             }
            },
            "type": "scattergeo"
           }
          ],
          "scattergl": [
           {
            "marker": {
             "colorbar": {
              "outlinewidth": 0,
              "ticks": ""
             }
            },
            "type": "scattergl"
           }
          ],
          "scattermapbox": [
           {
            "marker": {
             "colorbar": {
              "outlinewidth": 0,
              "ticks": ""
             }
            },
            "type": "scattermapbox"
           }
          ],
          "scatterpolar": [
           {
            "marker": {
             "colorbar": {
              "outlinewidth": 0,
              "ticks": ""
             }
            },
            "type": "scatterpolar"
           }
          ],
          "scatterpolargl": [
           {
            "marker": {
             "colorbar": {
              "outlinewidth": 0,
              "ticks": ""
             }
            },
            "type": "scatterpolargl"
           }
          ],
          "scatterternary": [
           {
            "marker": {
             "colorbar": {
              "outlinewidth": 0,
              "ticks": ""
             }
            },
            "type": "scatterternary"
           }
          ],
          "surface": [
           {
            "colorbar": {
             "outlinewidth": 0,
             "ticks": ""
            },
            "colorscale": [
             [
              0,
              "#0d0887"
             ],
             [
              0.1111111111111111,
              "#46039f"
             ],
             [
              0.2222222222222222,
              "#7201a8"
             ],
             [
              0.3333333333333333,
              "#9c179e"
             ],
             [
              0.4444444444444444,
              "#bd3786"
             ],
             [
              0.5555555555555556,
              "#d8576b"
             ],
             [
              0.6666666666666666,
              "#ed7953"
             ],
             [
              0.7777777777777778,
              "#fb9f3a"
             ],
             [
              0.8888888888888888,
              "#fdca26"
             ],
             [
              1,
              "#f0f921"
             ]
            ],
            "type": "surface"
           }
          ],
          "table": [
           {
            "cells": {
             "fill": {
              "color": "#EBF0F8"
             },
             "line": {
              "color": "white"
             }
            },
            "header": {
             "fill": {
              "color": "#C8D4E3"
             },
             "line": {
              "color": "white"
             }
            },
            "type": "table"
           }
          ]
         },
         "layout": {
          "annotationdefaults": {
           "arrowcolor": "#2a3f5f",
           "arrowhead": 0,
           "arrowwidth": 1
          },
          "autotypenumbers": "strict",
          "coloraxis": {
           "colorbar": {
            "outlinewidth": 0,
            "ticks": ""
           }
          },
          "colorscale": {
           "diverging": [
            [
             0,
             "#8e0152"
            ],
            [
             0.1,
             "#c51b7d"
            ],
            [
             0.2,
             "#de77ae"
            ],
            [
             0.3,
             "#f1b6da"
            ],
            [
             0.4,
             "#fde0ef"
            ],
            [
             0.5,
             "#f7f7f7"
            ],
            [
             0.6,
             "#e6f5d0"
            ],
            [
             0.7,
             "#b8e186"
            ],
            [
             0.8,
             "#7fbc41"
            ],
            [
             0.9,
             "#4d9221"
            ],
            [
             1,
             "#276419"
            ]
           ],
           "sequential": [
            [
             0,
             "#0d0887"
            ],
            [
             0.1111111111111111,
             "#46039f"
            ],
            [
             0.2222222222222222,
             "#7201a8"
            ],
            [
             0.3333333333333333,
             "#9c179e"
            ],
            [
             0.4444444444444444,
             "#bd3786"
            ],
            [
             0.5555555555555556,
             "#d8576b"
            ],
            [
             0.6666666666666666,
             "#ed7953"
            ],
            [
             0.7777777777777778,
             "#fb9f3a"
            ],
            [
             0.8888888888888888,
             "#fdca26"
            ],
            [
             1,
             "#f0f921"
            ]
           ],
           "sequentialminus": [
            [
             0,
             "#0d0887"
            ],
            [
             0.1111111111111111,
             "#46039f"
            ],
            [
             0.2222222222222222,
             "#7201a8"
            ],
            [
             0.3333333333333333,
             "#9c179e"
            ],
            [
             0.4444444444444444,
             "#bd3786"
            ],
            [
             0.5555555555555556,
             "#d8576b"
            ],
            [
             0.6666666666666666,
             "#ed7953"
            ],
            [
             0.7777777777777778,
             "#fb9f3a"
            ],
            [
             0.8888888888888888,
             "#fdca26"
            ],
            [
             1,
             "#f0f921"
            ]
           ]
          },
          "colorway": [
           "#636efa",
           "#EF553B",
           "#00cc96",
           "#ab63fa",
           "#FFA15A",
           "#19d3f3",
           "#FF6692",
           "#B6E880",
           "#FF97FF",
           "#FECB52"
          ],
          "font": {
           "color": "#2a3f5f"
          },
          "geo": {
           "bgcolor": "white",
           "lakecolor": "white",
           "landcolor": "#E5ECF6",
           "showlakes": true,
           "showland": true,
           "subunitcolor": "white"
          },
          "hoverlabel": {
           "align": "left"
          },
          "hovermode": "closest",
          "mapbox": {
           "style": "light"
          },
          "paper_bgcolor": "white",
          "plot_bgcolor": "#E5ECF6",
          "polar": {
           "angularaxis": {
            "gridcolor": "white",
            "linecolor": "white",
            "ticks": ""
           },
           "bgcolor": "#E5ECF6",
           "radialaxis": {
            "gridcolor": "white",
            "linecolor": "white",
            "ticks": ""
           }
          },
          "scene": {
           "xaxis": {
            "backgroundcolor": "#E5ECF6",
            "gridcolor": "white",
            "gridwidth": 2,
            "linecolor": "white",
            "showbackground": true,
            "ticks": "",
            "zerolinecolor": "white"
           },
           "yaxis": {
            "backgroundcolor": "#E5ECF6",
            "gridcolor": "white",
            "gridwidth": 2,
            "linecolor": "white",
            "showbackground": true,
            "ticks": "",
            "zerolinecolor": "white"
           },
           "zaxis": {
            "backgroundcolor": "#E5ECF6",
            "gridcolor": "white",
            "gridwidth": 2,
            "linecolor": "white",
            "showbackground": true,
            "ticks": "",
            "zerolinecolor": "white"
           }
          },
          "shapedefaults": {
           "line": {
            "color": "#2a3f5f"
           }
          },
          "ternary": {
           "aaxis": {
            "gridcolor": "white",
            "linecolor": "white",
            "ticks": ""
           },
           "baxis": {
            "gridcolor": "white",
            "linecolor": "white",
            "ticks": ""
           },
           "bgcolor": "#E5ECF6",
           "caxis": {
            "gridcolor": "white",
            "linecolor": "white",
            "ticks": ""
           }
          },
          "title": {
           "x": 0.05
          },
          "xaxis": {
           "automargin": true,
           "gridcolor": "white",
           "linecolor": "white",
           "ticks": "",
           "title": {
            "standoff": 15
           },
           "zerolinecolor": "white",
           "zerolinewidth": 2
          },
          "yaxis": {
           "automargin": true,
           "gridcolor": "white",
           "linecolor": "white",
           "ticks": "",
           "title": {
            "standoff": 15
           },
           "zerolinecolor": "white",
           "zerolinewidth": 2
          }
         }
        },
        "xaxis": {
         "anchor": "y",
         "domain": [
          0,
          1
         ],
         "title": {
          "text": "Count"
         }
        },
        "yaxis": {
         "anchor": "x",
         "domain": [
          0,
          1
         ],
         "title": {
          "text": "Word"
         }
        }
       }
      }
     },
     "metadata": {},
     "output_type": "display_data"
    }
   ],
   "source": [
    "fig = px.bar(MostFrequentWordDF, y='Word', x='Count',  orientation='h')\n",
    "fig.show()"
   ]
  },
  {
   "cell_type": "markdown",
   "metadata": {},
   "source": [
    "# Number Of Words "
   ]
  },
  {
   "cell_type": "code",
   "execution_count": 25,
   "metadata": {},
   "outputs": [
    {
     "data": {
      "text/plain": [
       "569175"
      ]
     },
     "execution_count": 25,
     "metadata": {},
     "output_type": "execute_result"
    }
   ],
   "source": [
    "Corpus[\"Number of Words\"] = Corpus[\"Normalized_Text\"].apply(lambda n:len(simple_word_tokenize(n)))\n",
    "Corpus.drop(Corpus[ Corpus[\"Number of Words\"] == 0].index, inplace = True)\n",
    "Corpus[\"Number of Words\"].sum()"
   ]
  },
  {
   "cell_type": "markdown",
   "metadata": {},
   "source": [
    "# Number Of Charachters "
   ]
  },
  {
   "cell_type": "code",
   "execution_count": 26,
   "metadata": {},
   "outputs": [
    {
     "data": {
      "text/plain": [
       "3543392"
      ]
     },
     "execution_count": 26,
     "metadata": {},
     "output_type": "execute_result"
    }
   ],
   "source": [
    "Corpus[\"Number of Charachters\"] = Corpus[\"Normalized_Text\"].str.len()\n",
    "Corpus[\"Number of Charachters\"].sum()"
   ]
  },
  {
   "cell_type": "markdown",
   "metadata": {},
   "source": [
    "# Average Number Of Words "
   ]
  },
  {
   "cell_type": "code",
   "execution_count": 27,
   "metadata": {},
   "outputs": [
    {
     "data": {
      "text/plain": [
       "35.0"
      ]
     },
     "execution_count": 27,
     "metadata": {},
     "output_type": "execute_result"
    }
   ],
   "source": [
    "AverageNaumberOfWords = np.round((Corpus[\"Number of Words\"].mean()))\n",
    "AverageNaumberOfWords"
   ]
  },
  {
   "cell_type": "markdown",
   "metadata": {},
   "source": [
    "# Average Number Of Charachters "
   ]
  },
  {
   "cell_type": "code",
   "execution_count": 28,
   "metadata": {},
   "outputs": [
    {
     "data": {
      "text/plain": [
       "216.0"
      ]
     },
     "execution_count": 28,
     "metadata": {},
     "output_type": "execute_result"
    }
   ],
   "source": [
    "AverageNumberOfCharachters = np.round(Corpus[\"Number of Charachters\"].mean())\n",
    "AverageNumberOfCharachters"
   ]
  },
  {
   "cell_type": "markdown",
   "metadata": {},
   "source": [
    "# Maximum Number Of Word"
   ]
  },
  {
   "cell_type": "code",
   "execution_count": 29,
   "metadata": {},
   "outputs": [
    {
     "data": {
      "text/plain": [
       "1853"
      ]
     },
     "execution_count": 29,
     "metadata": {},
     "output_type": "execute_result"
    }
   ],
   "source": [
    "MaximumNaumberOfWords = Corpus[\"Number of Words\"].max()\n",
    "MaximumNaumberOfWords"
   ]
  },
  {
   "cell_type": "markdown",
   "metadata": {},
   "source": [
    "# Maximum Number Of Charachters "
   ]
  },
  {
   "cell_type": "code",
   "execution_count": 30,
   "metadata": {},
   "outputs": [
    {
     "data": {
      "text/plain": [
       "11593"
      ]
     },
     "execution_count": 30,
     "metadata": {},
     "output_type": "execute_result"
    }
   ],
   "source": [
    "MaximumNumberOfCharachters = Corpus['Number of Charachters'].max() \n",
    "MaximumNumberOfCharachters"
   ]
  },
  {
   "cell_type": "markdown",
   "metadata": {},
   "source": [
    "# Minimum Number Of Words"
   ]
  },
  {
   "cell_type": "code",
   "execution_count": 31,
   "metadata": {},
   "outputs": [
    {
     "data": {
      "text/plain": [
       "1"
      ]
     },
     "execution_count": 31,
     "metadata": {},
     "output_type": "execute_result"
    }
   ],
   "source": [
    "MimimumNaumberOfWords = Corpus[\"Number of Words\"].min()\n",
    "MimimumNaumberOfWords"
   ]
  },
  {
   "cell_type": "markdown",
   "metadata": {},
   "source": [
    "# Minimum Number Of Charachters "
   ]
  },
  {
   "cell_type": "code",
   "execution_count": 32,
   "metadata": {},
   "outputs": [
    {
     "data": {
      "text/plain": [
       "215"
      ]
     },
     "execution_count": 32,
     "metadata": {},
     "output_type": "execute_result"
    }
   ],
   "source": [
    "MinimumNumberOfCharachters = int(Corpus['Number of Charachters'].mean() )\n",
    "MinimumNumberOfCharachters"
   ]
  },
  {
   "cell_type": "markdown",
   "metadata": {},
   "source": [
    "# Split The DataSet Into Independent Variables , And Dependent Variable (Y)"
   ]
  },
  {
   "cell_type": "code",
   "execution_count": 33,
   "metadata": {},
   "outputs": [],
   "source": [
    "Corpus = Corpus[['Normalized_Text', 'Sentiment']]"
   ]
  },
  {
   "cell_type": "code",
   "execution_count": 34,
   "metadata": {},
   "outputs": [],
   "source": [
    "X= Corpus['Normalized_Text']\n",
    "y = Corpus['Sentiment']"
   ]
  },
  {
   "cell_type": "markdown",
   "metadata": {},
   "source": [
    "# Label Encoder"
   ]
  },
  {
   "cell_type": "code",
   "execution_count": 35,
   "metadata": {},
   "outputs": [],
   "source": [
    "y = LabelEncoder().fit_transform(y)"
   ]
  },
  {
   "cell_type": "markdown",
   "metadata": {},
   "source": [
    "# Split The Dataset Into Training And Testing"
   ]
  },
  {
   "cell_type": "code",
   "execution_count": 36,
   "metadata": {},
   "outputs": [],
   "source": [
    "X_train, X_test, y_train, y_test = train_test_split(X, y, test_size=0.2, random_state=22)"
   ]
  },
  {
   "cell_type": "markdown",
   "metadata": {},
   "source": [
    "# TfidfVectorizer"
   ]
  },
  {
   "cell_type": "code",
   "execution_count": 37,
   "metadata": {},
   "outputs": [],
   "source": [
    "Tfidf = TfidfVectorizer()\n",
    "X_train_Tfidf = Tfidf.fit_transform(X_train)\n",
    "X_test_Tfidf = Tfidf.transform(X_test)"
   ]
  },
  {
   "cell_type": "code",
   "execution_count": 38,
   "metadata": {},
   "outputs": [
    {
     "data": {
      "text/plain": [
       "{'كتاب': 38992,\n",
       " 'رائع': 29888,\n",
       " 'ايقظ': 16208,\n",
       " 'بداخلي': 19352,\n",
       " 'مشاعر': 47959,\n",
       " 'الحمي': 7788,\n",
       " 'ممتلاكات': 49375,\n",
       " 'المسلمين': 12948,\n",
       " 'الكتاب': 11392,\n",
       " 'يصبح': 65883,\n",
       " 'النثر': 14172,\n",
       " 'شعرا': 32673,\n",
       " 'يقف': 66703,\n",
       " 'المسافه': 12808,\n",
       " 'الاساليب': 5003,\n",
       " 'الادبيه': 4867,\n",
       " 'روايه': 30530,\n",
       " 'ديوان': 29675,\n",
       " 'وكفي': 60981,\n",
       " 'اعتقد': 3582,\n",
       " 'الضجه': 9756,\n",
       " 'اللي': 11752,\n",
       " 'اثارتها': 724,\n",
       " 'الروايه': 8652,\n",
       " 'اكبر': 4436,\n",
       " 'حجم': 27732,\n",
       " 'استمتع': 2630,\n",
       " 'اطلاقا': 3397,\n",
       " 'بالثلاث': 17163,\n",
       " 'ارباع': 1924,\n",
       " 'اسلوبه': 2845,\n",
       " 'طفولي': 33875,\n",
       " 'السرد': 8966,\n",
       " 'الشخصيات': 9322,\n",
       " 'باهته': 18304,\n",
       " 'عميقه': 35099,\n",
       " 'بالمره': 17961,\n",
       " 'اني': 15759,\n",
       " 'يومين': 67562,\n",
       " 'قراءه': 38075,\n",
       " 'اتذكر': 421,\n",
       " 'اسماء': 2856,\n",
       " 'القليله': 11251,\n",
       " 'الاحداث': 4778,\n",
       " 'والاسلوب': 53824,\n",
       " 'يتكرران': 64389,\n",
       " 'البدايه': 6035,\n",
       " 'ممل': 49417,\n",
       " 'يستخدم': 65504,\n",
       " 'الجمل': 7404,\n",
       " 'التعبيريه': 6721,\n",
       " 'مرارا': 47365,\n",
       " 'وتكرارا': 57891,\n",
       " 'حد': 27740,\n",
       " 'يدفعك': 65126,\n",
       " 'الجنون': 7433,\n",
       " 'وفكرت': 60590,\n",
       " 'التوقف': 7093,\n",
       " 'القراءه': 11122,\n",
       " 'مره': 47497,\n",
       " 'عادتي': 34146,\n",
       " 'الجزء': 7332,\n",
       " 'الاخير': 4853,\n",
       " 'القصه': 11196,\n",
       " 'جيد': 27437,\n",
       " 'اعرف': 3675,\n",
       " 'سعيد': 31581,\n",
       " 'صلاح': 33326,\n",
       " 'بدا': 19333,\n",
       " 'التعافي': 6707,\n",
       " 'واني': 56385,\n",
       " 'تعاطفت': 24678,\n",
       " 'اسرته': 2738,\n",
       " 'ام': 14865,\n",
       " 'لاني': 40662,\n",
       " 'بقرب': 20558,\n",
       " 'انتهاء': 15291,\n",
       " 'ادبيا': 1684,\n",
       " 'ممتعه': 49369,\n",
       " 'وانا': 56212,\n",
       " 'باني': 18297,\n",
       " 'ارزق': 2039,\n",
       " 'اعطيها': 3734,\n",
       " 'لتتحدث': 40989,\n",
       " 'مني': 49785,\n",
       " 'اضرار': 3287,\n",
       " 'الادمان': 4880,\n",
       " 'وتحذره': 57227,\n",
       " 'غرض': 35399,\n",
       " 'نجح': 50567,\n",
       " 'الكاتب': 11332,\n",
       " 'اخفق': 1588,\n",
       " 'المستوي': 12906,\n",
       " 'الادبي': 4865,\n",
       " 'دراما': 29295,\n",
       " 'حبكه': 27646,\n",
       " 'مقبوله': 48881,\n",
       " 'مستوي': 47819,\n",
       " 'اللغه': 11704,\n",
       " 'ضعيف': 33573,\n",
       " 'واسلوب': 53142,\n",
       " 'بدائي': 19336,\n",
       " 'وسطحي': 59415,\n",
       " 'لدرجه': 41668,\n",
       " 'استطع': 2475,\n",
       " 'اكمالها': 4545,\n",
       " 'للمؤلف': 43728,\n",
       " 'ارجو': 2007,\n",
       " 'يتمكن': 64434,\n",
       " 'تحسين': 23087,\n",
       " 'لغته': 42288,\n",
       " 'اسلوب': 2842,\n",
       " 'احمد': 1304,\n",
       " 'مراد': 47357,\n",
       " 'سينمائي': 32259,\n",
       " 'ادبي': 1683,\n",
       " 'الاسلوب': 5157,\n",
       " 'مميزاته': 49437,\n",
       " 'وعيوبه': 60415,\n",
       " 'واضحه': 53279,\n",
       " 'التشويق': 6641,\n",
       " 'الاثاره': 4673,\n",
       " 'عيوبه': 35261,\n",
       " 'تتجلي': 22414,\n",
       " 'تربط': 23611,\n",
       " 'باجزاء': 16346,\n",
       " 'افلام': 4116,\n",
       " 'مختلفه': 47093,\n",
       " 'كتب': 39024,\n",
       " 'الافلام': 5415,\n",
       " 'بدات': 19342,\n",
       " 'فيلم': 37681,\n",
       " 'قفز': 38349,\n",
       " 'ذهني': 29824,\n",
       " 'ضربه': 33544,\n",
       " 'شمس': 32816,\n",
       " 'لنور': 44570,\n",
       " 'الشريف': 9381,\n",
       " 'والعيب': 55243,\n",
       " 'الثاني': 7131,\n",
       " 'الواضح': 14584,\n",
       " 'رسم': 30249,\n",
       " 'بطريقه': 20131,\n",
       " 'جيده': 27440,\n",
       " 'رغبه': 30344,\n",
       " 'وضع': 59943,\n",
       " 'لمسه': 44227,\n",
       " 'انثويه': 15321,\n",
       " 'حذفها': 27795,\n",
       " 'سهوله': 31920,\n",
       " 'شخصيه': 32514,\n",
       " 'غاده': 35285,\n",
       " 'بالطبع': 17611,\n",
       " 'اتحدث': 366,\n",
       " 'الانحدار': 5727,\n",
       " 'اللغوي': 11707,\n",
       " 'الحديث': 7604,\n",
       " 'الموضوع': 14035,\n",
       " 'يطول': 66102,\n",
       " 'تقرا': 25339,\n",
       " 'للراحه': 43259,\n",
       " 'الكتب': 11405,\n",
       " 'الثقيله': 7155,\n",
       " 'ترغب': 23712,\n",
       " 'رؤيه': 29862,\n",
       " 'الورق': 14672,\n",
       " 'اباحي': 65,\n",
       " 'اغبي': 3841,\n",
       " 'العالم': 10040,\n",
       " 'انتهائي': 15297,\n",
       " 'اعتبرها': 3519,\n",
       " 'قصيره': 38289,\n",
       " 'موجزه': 49954,\n",
       " 'حكمت': 28202,\n",
       " 'باحكام': 16385,\n",
       " 'مجريات': 46713,\n",
       " 'حقيقيه': 28169,\n",
       " 'كنت': 39686,\n",
       " 'اسمعها': 2878,\n",
       " 'حكايات': 28182,\n",
       " 'جدتي': 26905,\n",
       " 'يسافر': 65457,\n",
       " 'ولد': 61183,\n",
       " 'بعمر': 20322,\n",
       " 'ابتغاء': 110,\n",
       " 'للعمل': 43549,\n",
       " 'الخارج': 7870,\n",
       " 'ومساعده': 61842,\n",
       " 'الاسره': 5121,\n",
       " 'المعيشه': 13315,\n",
       " 'امل': 15044,\n",
       " 'سيطر': 32158,\n",
       " 'قلوب': 38407,\n",
       " 'وعقول': 60313,\n",
       " 'اهل': 15840,\n",
       " 'واطفال': 53306,\n",
       " 'فلسطين': 37214,\n",
       " 'بالهجره': 18156,\n",
       " 'المؤقته': 11790,\n",
       " 'لابتغاء': 39906,\n",
       " 'العيش': 10455,\n",
       " 'الكريم': 11454,\n",
       " 'ولاهله': 61127,\n",
       " 'سيطرت': 32159,\n",
       " 'تفكيري': 25204,\n",
       " 'واثرت': 52544,\n",
       " 'فيني': 37717,\n",
       " 'تاثيرا': 22097,\n",
       " 'عظيما': 34822,\n",
       " 'تخيلتهم': 23413,\n",
       " 'اقاربي': 4155,\n",
       " 'تروي': 23800,\n",
       " 'مغامراتهم': 48633,\n",
       " 'متحملين': 46153,\n",
       " 'مشقه': 48042,\n",
       " 'السفر': 9015,\n",
       " 'لوحدهم': 44662,\n",
       " 'تاركين': 22140,\n",
       " 'الوطن': 14716,\n",
       " 'اسي': 2926,\n",
       " 'وحزن': 58522,\n",
       " 'الاهل': 5834,\n",
       " 'لفراقهم': 42355,\n",
       " 'بحثا': 19116,\n",
       " 'سبيل': 31224,\n",
       " 'للعيش': 43559,\n",
       " 'سطحيه': 31536,\n",
       " 'وملهاش': 62192,\n",
       " 'اي': 16109,\n",
       " 'تلاتين': 25626,\n",
       " 'لازمه': 40245,\n",
       " 'والضجه': 55078,\n",
       " 'مش': 47943,\n",
       " 'ليه': 45094,\n",
       " 'والله': 55545,\n",
       " 'اعلم': 3758,\n",
       " 'علشان': 34948,\n",
       " 'استخدام': 2371,\n",
       " 'الاسواني': 5174,\n",
       " 'للثالوث': 43051,\n",
       " 'المحرم': 12408,\n",
       " 'الدين': 8314,\n",
       " 'والجنس': 54483,\n",
       " 'والسياسه': 54938,\n",
       " 'وتركيزه': 57420,\n",
       " 'المزج': 12758,\n",
       " 'المشاهد': 12990,\n",
       " 'الجنسيه': 7428,\n",
       " 'الكتير': 11417,\n",
       " 'والكلام': 55500,\n",
       " 'الجنسي': 7425,\n",
       " 'المبالغ': 11896,\n",
       " 'والحشو': 54551,\n",
       " 'جعلته': 27131,\n",
       " 'يستغني': 65570,\n",
       " 'بالجنس': 17207,\n",
       " 'الكثير': 11422,\n",
       " 'تفاصيل': 25091,\n",
       " 'حياتيه': 28443,\n",
       " 'للشخصيات': 43381,\n",
       " 'والثنائيات': 54436,\n",
       " 'ركبها': 30425,\n",
       " 'عجل': 34475,\n",
       " 'تكشف': 25571,\n",
       " 'عمق': 35044,\n",
       " 'وجروحها': 58261,\n",
       " 'افضل': 4060,\n",
       " 'البهارات': 6236,\n",
       " 'والاسواني': 53832,\n",
       " 'يعتمد': 66200,\n",
       " 'روايته': 30523,\n",
       " 'مشاهد': 47975,\n",
       " 'السياسه': 9193,\n",
       " 'المثيره': 12272,\n",
       " 'معارضه': 48340,\n",
       " 'النظام': 14286,\n",
       " 'واعتمد': 53364,\n",
       " 'كجزء': 39123,\n",
       " 'حملته': 28325,\n",
       " 'لتسويق': 41156,\n",
       " 'استعملها': 2521,\n",
       " 'سطحي': 31533,\n",
       " 'استخدمه': 2380,\n",
       " 'بصورته': 20058,\n",
       " 'طبقا': 33739,\n",
       " 'لفهم': 42406,\n",
       " 'اليساريين': 14818,\n",
       " 'طوال': 33943,\n",
       " 'وسيله': 59563,\n",
       " 'للوصول': 44048,\n",
       " 'للسلطه': 43351,\n",
       " 'للنفوذ': 43986,\n",
       " 'نموزج': 51515,\n",
       " 'دنانه': 29537,\n",
       " 'الكئيب': 11323,\n",
       " 'الجانب': 7240,\n",
       " 'الاخر': 4830,\n",
       " 'تجربه': 22854,\n",
       " 'شيماء': 32964,\n",
       " 'وطارق': 59991,\n",
       " 'عاده': 34150,\n",
       " 'عباده': 34342,\n",
       " 'تنفع': 26139,\n",
       " 'بشيء': 19982,\n",
       " 'الاغواء': 5381,\n",
       " 'الشيطاني': 9510,\n",
       " 'النهايه': 14377,\n",
       " 'نظرتي': 51117,\n",
       " 'طلعت': 33904,\n",
       " 'محلها': 46999,\n",
       " 'مكنتش': 49134,\n",
       " 'عاوز': 34306,\n",
       " 'اقراها': 4310,\n",
       " 'فيهااول': 37728,\n",
       " 'نزلت': 50795,\n",
       " 'وركنتها': 59169,\n",
       " 'صفحه': 33298,\n",
       " 'وكونت': 61020,\n",
       " 'تصلح': 24432,\n",
       " 'رجعت': 30117,\n",
       " 'وقلت': 60812,\n",
       " 'اكملها': 4552,\n",
       " 'السنه': 9122,\n",
       " 'دي': 29634,\n",
       " 'وفي': 60626,\n",
       " 'هي': 52264,\n",
       " 'اراء': 1877,\n",
       " 'حلوه': 28268,\n",
       " 'اسهل': 2902,\n",
       " 'وانسيابي': 56301,\n",
       " 'طريقته': 33827,\n",
       " 'الكتابه': 11398,\n",
       " 'اعطتني': 3716,\n",
       " 'احساس': 1204,\n",
       " 'المكان': 13538,\n",
       " 'يحكي': 64845,\n",
       " 'القصص': 11192,\n",
       " 'عجبني': 34460,\n",
       " 'تشبيهه': 24200,\n",
       " 'للاشياء': 42743,\n",
       " 'مقاله': 48860,\n",
       " 'يرحلون': 65277,\n",
       " 'مكه': 49145,\n",
       " 'يتحدث': 64132,\n",
       " 'الرحلات': 8485,\n",
       " 'المدن': 12598,\n",
       " 'وصفها': 59844,\n",
       " 'ينصف': 67263,\n",
       " 'وصف': 59828,\n",
       " 'البلدان': 6194,\n",
       " 'اضاف': 3260,\n",
       " 'كلمات': 39522,\n",
       " 'جعلتني': 27130,\n",
       " 'انصدم': 15517,\n",
       " 'ظننت': 34052,\n",
       " 'ساقرا': 31090,\n",
       " 'شيئا': 32928,\n",
       " 'خارقا': 28551,\n",
       " 'الحقيقه': 7722,\n",
       " 'احتمال': 1100,\n",
       " 'قرات': 38095,\n",
       " 'نصفه': 51022,\n",
       " 'يعجبني': 66212,\n",
       " 'اره': 2122,\n",
       " 'رائعا': 29889,\n",
       " 'يقال': 66573,\n",
       " 'مزاج': 47548,\n",
       " 'لقراءته': 42462,\n",
       " 'اعاود': 3486,\n",
       " 'قراءته': 38070,\n",
       " 'اعجبني': 3632,\n",
       " 'فصل': 36862,\n",
       " 'سخيفه': 31468,\n",
       " 'والاحداث': 53700,\n",
       " 'مفتعله': 48723,\n",
       " 'لايوجد': 40858,\n",
       " 'سرد': 31492,\n",
       " 'احداث': 1127,\n",
       " 'المفروض': 13401,\n",
       " 'مذكرات': 47311,\n",
       " 'للراوي': 43263,\n",
       " 'لاتتطرق': 39953,\n",
       " 'عالم': 34245,\n",
       " 'الراوي': 8441,\n",
       " 'الداخلي': 8135,\n",
       " 'اقرائها': 4298,\n",
       " 'لصنع': 42077,\n",
       " 'الله': 11733,\n",
       " 'واظنها': 53323,\n",
       " 'الاخيره': 4855,\n",
       " 'لاف': 40430,\n",
       " 'لاود': 40693,\n",
       " 'الاطلاق': 5279,\n",
       " 'الاستهتار': 5095,\n",
       " 'بالموت': 18080,\n",
       " 'اراد': 1893,\n",
       " 'يوسف': 67496,\n",
       " 'السباعي': 8902,\n",
       " 'التحقير': 6445,\n",
       " 'شان': 32386,\n",
       " 'الموت': 13992,\n",
       " 'يري': 65380,\n",
       " 'هدم': 51979,\n",
       " 'للخوف': 43200,\n",
       " 'مبرر': 45957,\n",
       " 'فشل': 36829,\n",
       " 'نوع': 51650,\n",
       " 'انواع': 15749,\n",
       " 'الاستهبال': 5094,\n",
       " 'يوما': 67547,\n",
       " 'ليقول': 45017,\n",
       " 'حدث': 27748,\n",
       " 'يعرف': 66240,\n",
       " 'شكل': 32789,\n",
       " 'عرزائيل': 34579,\n",
       " 'يتكلم': 64393,\n",
       " 'الملائكه': 13586,\n",
       " 'نسب': 50828,\n",
       " 'صفات': 33280,\n",
       " 'فيهفالمعروف': 37734,\n",
       " 'يخطئوا': 65006,\n",
       " 'شهوات': 32868,\n",
       " 'جنسيه': 27300,\n",
       " 'البشر': 6113,\n",
       " 'يجيء': 64648,\n",
       " 'موت': 49928,\n",
       " 'البطل': 6138,\n",
       " 'يقول': 66738,\n",
       " 'عزائيل': 34638,\n",
       " 'ساعطي': 31060,\n",
       " 'لتكفر': 41291,\n",
       " 'ذنوبك': 29805,\n",
       " 'لا': 39864,\n",
       " 'بجد': 19003,\n",
       " 'كده': 39174,\n",
       " 'يدخل': 65084,\n",
       " 'الجنه': 7429,\n",
       " 'كنش': 39706,\n",
       " 'غلب': 35512,\n",
       " 'وسعت': 59431,\n",
       " 'عايزه': 34317,\n",
       " 'اديله': 1819,\n",
       " 'نجمه': 50597,\n",
       " 'ربنا': 30077,\n",
       " 'يرحمه': 65283,\n",
       " 'جميل': 27261,\n",
       " 'واقع': 53550,\n",
       " 'نعيش': 51203,\n",
       " 'وواقع': 62815,\n",
       " 'المبتعثين': 11908,\n",
       " 'ننزعج': 51537,\n",
       " 'طلاسم': 33890,\n",
       " 'متكلف': 46427,\n",
       " 'احبها': 1031,\n",
       " 'ستر': 31297,\n",
       " 'وسترفع': 59367,\n",
       " 'فووق': 37500,\n",
       " 'المكتبه': 13548,\n",
       " 'اشعار': 3042,\n",
       " 'اللهم': 11738,\n",
       " 'صل': 33322,\n",
       " 'وسلم': 59478,\n",
       " 'وبارك': 56537,\n",
       " 'علي': 34994,\n",
       " 'حبيبي': 27665,\n",
       " 'سيدنا': 32099,\n",
       " 'محمد': 47001,\n",
       " 'وعلي': 60351,\n",
       " 'اله': 14418,\n",
       " 'واصحابه': 53235,\n",
       " 'اجمعين': 918,\n",
       " 'انفصام': 15611,\n",
       " 'نهايته': 51568,\n",
       " 'شكرا': 32782,\n",
       " 'اينشتاين': 16243,\n",
       " 'كروايه': 39252,\n",
       " 'اولي': 16081,\n",
       " 'لكاتب': 42548,\n",
       " 'فهي': 37440,\n",
       " 'شغاله': 32709,\n",
       " 'للحقيقه': 43140,\n",
       " 'قويه': 38530,\n",
       " 'اوي': 16104,\n",
       " 'امم': 15060,\n",
       " 'عارفه': 34166,\n",
       " 'حسيت': 27977,\n",
       " 'هدفه': 51975,\n",
       " 'الاساسي': 4997,\n",
       " 'الوصف': 14699,\n",
       " 'شاطر': 32342,\n",
       " 'الصراحه': 9630,\n",
       " 'الاستدراك': 5039,\n",
       " 'ده': 29553,\n",
       " 'زياده': 30838,\n",
       " 'ضيعت': 33632,\n",
       " 'عقده': 34868,\n",
       " 'اصلا': 3206,\n",
       " 'يعني': 66331,\n",
       " 'يجي': 64647,\n",
       " 'اول': 16061,\n",
       " 'مفيش': 48814,\n",
       " 'حاجه': 27496,\n",
       " 'الحادثه': 7511,\n",
       " 'صفحتين': 33297,\n",
       " 'تلاته': 25625,\n",
       " 'راعي': 29965,\n",
       " 'النقطه': 14337,\n",
       " 'التانيه': 6352,\n",
       " 'تراب': 23573,\n",
       " 'الماس': 11843,\n",
       " 'الحبكه': 7563,\n",
       " 'محكمه': 46984,\n",
       " 'اكتر': 4450,\n",
       " 'الالفاظ': 5551,\n",
       " 'بذاءه': 19474,\n",
       " 'هتقارن': 51917,\n",
       " 'الروايتين': 8651,\n",
       " 'العلم': 10340,\n",
       " 'الاتنين': 4664,\n",
       " 'ماشيين': 45546,\n",
       " 'الخط': 7987,\n",
       " 'خط': 28836,\n",
       " 'الجريمه': 7331,\n",
       " 'والفارس': 55303,\n",
       " 'بيحل': 21716,\n",
       " 'القضيه': 11215,\n",
       " 'فهتلاقي': 37417,\n",
       " 'فرتيجو': 36632,\n",
       " 'كحبكه': 39136,\n",
       " 'وعقده': 60303,\n",
       " 'ضعيفه': 33575,\n",
       " 'وكاسهاب': 60883,\n",
       " 'مبالغ': 45899,\n",
       " 'حده': 27761,\n",
       " 'ناحيه': 50240,\n",
       " 'روايات': 30513,\n",
       " 'لتعيش': 41236,\n",
       " 'لزمن': 41859,\n",
       " 'واحده': 52673,\n",
       " 'وجهه': 58357,\n",
       " 'نظري': 51126,\n",
       " 'قريته': 38183,\n",
       " 'الثوره': 7194,\n",
       " 'تقييمي': 25504,\n",
       " 'هيكون': 52353,\n",
       " 'نجمات': 50589,\n",
       " 'سيئه': 31991,\n",
       " 'جدا': 26882,\n",
       " 'عهدت': 35161,\n",
       " 'رضوي': 30314,\n",
       " 'عاشور': 34194,\n",
       " 'اعظم': 3735,\n",
       " 'وارقي': 52936,\n",
       " 'وابدع': 52416,\n",
       " 'جزء': 27055,\n",
       " 'حياتها': 28438,\n",
       " 'مقيده': 49025,\n",
       " 'بسيرتها': 19866,\n",
       " 'شجر': 32465,\n",
       " 'كبيره': 38984,\n",
       " 'عملت': 35055,\n",
       " 'نسخه': 50880,\n",
       " 'اخري': 1547,\n",
       " 'الابداع': 4617,\n",
       " 'قيود': 38568,\n",
       " 'السيره': 9208,\n",
       " 'الذاتيه': 8330,\n",
       " 'ستظل': 31337,\n",
       " 'كاتبتي': 38614,\n",
       " 'المفضله': 13410,\n",
       " 'المبدعه': 11918,\n",
       " 'املني': 15054,\n",
       " 'ذكريات': 29769,\n",
       " 'القريه': 11161,\n",
       " 'وحده': 58480,\n",
       " 'امريكا': 15000,\n",
       " 'بوصف': 21543,\n",
       " 'زائد': 30629,\n",
       " 'اللزوم': 11679,\n",
       " 'الاغلب': 5374,\n",
       " 'عاشتها': 34181,\n",
       " 'الكاتبه': 11334,\n",
       " 'انصح': 15510,\n",
       " 'بقراءته': 20535,\n",
       " 'ايه': 16249,\n",
       " 'يازينك': 63833,\n",
       " 'ساكت': 31107,\n",
       " 'الجميل': 7412,\n",
       " 'اعترف': 3558,\n",
       " 'ماعنده': 45584,\n",
       " 'سالفه': 31130,\n",
       " 'وانه': 56364,\n",
       " 'مايعرف': 45830,\n",
       " 'يكتب': 66775,\n",
       " 'رائعه': 29893,\n",
       " 'امسكت': 15011,\n",
       " 'لاقراها': 40478,\n",
       " 'تنتابني': 25997,\n",
       " 'لحظات': 41540,\n",
       " 'اكتئاب': 4438,\n",
       " 'ماسويه': 45528,\n",
       " 'فاتركها': 35652,\n",
       " 'قليلا': 38413,\n",
       " 'فتلح': 36412,\n",
       " 'نفسي': 51270,\n",
       " 'للعوده': 43557,\n",
       " 'لمتابعه': 44111,\n",
       " 'ينزع': 67209,\n",
       " 'راسي': 29952,\n",
       " 'فكره': 37149,\n",
       " 'يغرس': 66393,\n",
       " 'يستحق': 65492,\n",
       " 'تقدير': 25314,\n",
       " 'واعجاب': 53368,\n",
       " 'رشاقه': 30268,\n",
       " 'الكلمات': 11490,\n",
       " 'وعمق': 60359,\n",
       " 'مغزاها': 48660,\n",
       " 'رسمت': 30251,\n",
       " 'الملامح': 13604,\n",
       " 'لخطتي': 41620,\n",
       " 'المستقبليه': 12881,\n",
       " 'الحياه': 7835,\n",
       " 'جميله': 27265,\n",
       " 'واكتفي': 53608,\n",
       " 'مسرحيه': 47849,\n",
       " 'طوله': 33962,\n",
       " 'قصص': 38258,\n",
       " 'حزينه': 27922,\n",
       " 'نوعا': 51651,\n",
       " 'لرؤيه': 41757,\n",
       " 'التخلف': 6480,\n",
       " 'الناس': 14117,\n",
       " 'مجتمعنا': 46681,\n",
       " 'المتاخر': 11959,\n",
       " 'سهل': 31911,\n",
       " 'جعلني': 27136,\n",
       " 'متفائله': 46375,\n",
       " 'ومتوقه': 61640,\n",
       " 'ماسيصل': 45531,\n",
       " 'تطور': 24626,\n",
       " 'شاءالله': 32290,\n",
       " 'خياليه': 29114,\n",
       " 'ينتقد': 67157,\n",
       " 'المساوئ': 12816,\n",
       " 'تفشت': 25154,\n",
       " 'فالمجتمع': 36091,\n",
       " 'خداع': 28686,\n",
       " 'ونفاق': 62583,\n",
       " 'ورياء': 59213,\n",
       " 'طريق': 33822,\n",
       " 'حبوب': 27654,\n",
       " 'وجدها': 58235,\n",
       " 'مصادفه': 48098,\n",
       " 'محل': 46990,\n",
       " 'ناء': 50205,\n",
       " 'لشيخ': 42026,\n",
       " 'عجوز': 34480,\n",
       " 'يتناول': 64457,\n",
       " 'للصفات': 43430,\n",
       " 'الكريمه': 11455,\n",
       " 'ضررها': 33549,\n",
       " 'نفعها': 51290,\n",
       " 'فالمجمل': 36092,\n",
       " 'يروقني': 65373,\n",
       " 'تطرف': 24591,\n",
       " 'فالصفات': 36031,\n",
       " 'فشجاعته': 36819,\n",
       " 'شجاعه': 32464,\n",
       " 'مطلقه': 48293,\n",
       " 'توصف': 26417,\n",
       " 'سوي': 31970,\n",
       " 'بالحماقه': 17281,\n",
       " 'والمروءه': 55723,\n",
       " 'مروءه': 47506,\n",
       " 'والمجتمع': 55636,\n",
       " 'مجتمع': 46674,\n",
       " 'باكمله': 16736,\n",
       " 'منافق': 49478,\n",
       " 'جبان': 26837,\n",
       " 'انتقد': 15265,\n",
       " 'ارض': 2067,\n",
       " 'النفاق': 14303,\n",
       " 'بارض': 16486,\n",
       " 'الحماقه': 7772,\n",
       " 'للاسف': 42719,\n",
       " 'عجبتني': 34455,\n",
       " 'ابداا': 149,\n",
       " 'احترامي': 1059,\n",
       " 'الاراء': 4910,\n",
       " 'مو': 49880,\n",
       " 'الشهره': 9475,\n",
       " 'وصلتها': 59863,\n",
       " 'نص': 50984,\n",
       " 'عطيتها': 34808,\n",
       " 'حياءا': 28429,\n",
       " 'الحبر': 7559,\n",
       " 'بالصفحات': 17578,\n",
       " 'مانع': 45729,\n",
       " 'اقرا': 4293,\n",
       " 'الشطحات': 9388,\n",
       " 'الواضحه': 14585,\n",
       " 'فمبايرز': 37296,\n",
       " 'رجال': 30108,\n",
       " 'يطير': 66105,\n",
       " 'اشياء': 3105,\n",
       " 'بعيده': 20353,\n",
       " 'العقيده': 10321,\n",
       " 'والدين': 54744,\n",
       " 'يدسوا': 65107,\n",
       " 'السم': 9081,\n",
       " 'بالعسل': 17670,\n",
       " 'اطيقها': 3431,\n",
       " 'وخاصه': 58696,\n",
       " 'اسلام': 2821,\n",
       " 'ومسلمين': 61879,\n",
       " 'اجزاء': 876,\n",
       " 'معينه': 48618,\n",
       " 'توضح': 26432,\n",
       " 'كلامي': 39498,\n",
       " 'العربي': 10175,\n",
       " 'يقوله': 66741,\n",
       " 'فرح': 36638,\n",
       " 'نصدقك': 51009,\n",
       " 'مسكوه': 47876,\n",
       " 'وقالو': 60670,\n",
       " 'رح': 30140,\n",
       " 'نقتلكم': 51344,\n",
       " 'فقالهم': 37052,\n",
       " 'الخيميائي': 8122,\n",
       " 'يتحول': 64152,\n",
       " 'ريح': 30606,\n",
       " 'بثلاث': 18976,\n",
       " 'ويطير': 63429,\n",
       " 'مخيمهم': 47186,\n",
       " 'فوقف': 37493,\n",
       " 'وكلم': 60990,\n",
       " 'الريح': 8708,\n",
       " 'وصارت': 59760,\n",
       " 'تتحرك': 22435,\n",
       " 'بقوه': 20615,\n",
       " 'شوي': 32922,\n",
       " 'وتطيرهم': 57625,\n",
       " 'قالوا': 37873,\n",
       " 'للعربي': 43516,\n",
       " 'صديقه': 33197,\n",
       " 'للمعلوميه': 43869,\n",
       " 'خلاص': 28931,\n",
       " 'خليه': 29031,\n",
       " 'يوقف': 67538,\n",
       " 'خافوا': 28587,\n",
       " 'هذاك': 52003,\n",
       " 'المسلم': 12944,\n",
       " 'قائد': 37751,\n",
       " 'ابي': 288,\n",
       " 'اشوف': 3100,\n",
       " 'قدره': 38001,\n",
       " 'كانه': 38927,\n",
       " 'شاف': 32358,\n",
       " 'معجزه': 48461,\n",
       " 'حب': 27615,\n",
       " 'مسلمه': 47893,\n",
       " 'وعادي': 60129,\n",
       " 'بيتزوجها': 21645,\n",
       " 'طبعا': 33728,\n",
       " 'افكاره': 4106,\n",
       " 'واضح': 53273,\n",
       " 'متاثر': 46034,\n",
       " 'بدينا': 19462,\n",
       " 'خصوصا': 28818,\n",
       " 'يو': 67438,\n",
       " 'شي': 32925,\n",
       " 'مكتوب': 49083,\n",
       " 'الرب': 8446,\n",
       " 'يسر': 65640,\n",
       " 'الطريق': 9887,\n",
       " 'للشي': 43407,\n",
       " 'الصح': 9574,\n",
       " 'والمشكله': 55775,\n",
       " 'نعرفها': 51177,\n",
       " 'قرون': 38170,\n",
       " 'والناس': 55975,\n",
       " 'مسلمين': 47896,\n",
       " 'حسوه': 27975,\n",
       " 'مكتشف': 49073,\n",
       " 'وملاك': 62172,\n",
       " 'وعظيم': 60286,\n",
       " 'قالها': 37871,\n",
       " 'للروايه': 43304,\n",
       " 'استغربه': 2536,\n",
       " 'ناس': 50268,\n",
       " 'استفادوا': 2562,\n",
       " 'وانها': 56365,\n",
       " 'غيرت': 35592,\n",
       " 'حياتهم': 28439,\n",
       " 'ودي': 58944,\n",
       " 'دخل': 29261,\n",
       " 'الاسلام': 5149,\n",
       " 'وتكلم': 57902,\n",
       " 'تقبلتها': 25278,\n",
       " 'واعتبرتها': 53343,\n",
       " 'الروايات': 8649,\n",
       " 'تهدف': 26248,\n",
       " 'لاقناع': 40484,\n",
       " 'بالايجابيه': 16974,\n",
       " 'السعي': 9009,\n",
       " 'الطموح': 9917,\n",
       " 'شريت': 32622,\n",
       " 'لباولو': 40868,\n",
       " 'الخيمائي': 8120,\n",
       " 'واعجبني': 53375,\n",
       " 'اسوبله': 2917,\n",
       " 'كاتب': 38609,\n",
       " 'بطل': 20140,\n",
       " 'يبعد': 63998,\n",
       " 'الدينيه': 8318,\n",
       " 'والروحانيه': 54824,\n",
       " 'وخصوصا': 58748,\n",
       " 'بدين': 19461,\n",
       " 'يفهم': 66540,\n",
       " 'معلوماته': 48577,\n",
       " 'غلط': 35517,\n",
       " 'تنقصها': 26163,\n",
       " 'اسلوبها': 2846,\n",
       " 'يشبه': 65752,\n",
       " 'الفارق': 10648,\n",
       " 'تاكسي': 22184,\n",
       " 'وبالتالي': 56570,\n",
       " 'الطبيعي': 9862,\n",
       " 'يخرج': 64980,\n",
       " 'اشعر': 3049,\n",
       " 'شعرت': 32676,\n",
       " 'انني': 15697,\n",
       " 'جريده': 27047,\n",
       " 'تعمق': 24928,\n",
       " 'اعش': 3689,\n",
       " 'جو': 27349,\n",
       " 'شيء': 32926,\n",
       " 'لانني': 40648,\n",
       " 'ار': 1876,\n",
       " 'جوا': 27350,\n",
       " 'الاساس': 4996,\n",
       " 'تعتمد': 24759,\n",
       " 'الهجره': 14461,\n",
       " 'مصر': 48128,\n",
       " 'وتطوراتها': 57618,\n",
       " 'وانواعها': 56382,\n",
       " 'يشعرك': 65805,\n",
       " 'الشعب': 9395,\n",
       " 'المصري': 13084,\n",
       " 'فئاته': 35618,\n",
       " 'الفقيره': 10863,\n",
       " 'والمجرمه': 55639,\n",
       " 'والغنيه': 55284,\n",
       " 'والمثقفه': 55625,\n",
       " 'تريد': 23812,\n",
       " 'الوحيده': 14652,\n",
       " 'اهاجر': 15773,\n",
       " 'الثلث': 7170,\n",
       " 'بمنتهي': 21150,\n",
       " 'الملل': 13652,\n",
       " 'تكرار': 25547,\n",
       " 'الفكره': 10872,\n",
       " 'كانني': 38926,\n",
       " 'حصه': 28027,\n",
       " 'حصص': 28014,\n",
       " 'المدرسه': 12580,\n",
       " 'ارتباط': 1948,\n",
       " 'بالروايه': 17425,\n",
       " 'عامل': 34271,\n",
       " 'زي': 30834,\n",
       " 'لعبه': 42183,\n",
       " 'قله': 38406,\n",
       " 'قلتين': 38386,\n",
       " 'قلات': 38362,\n",
       " 'شفت': 32734,\n",
       " 'الفار': 10641,\n",
       " 'السندق': 9120,\n",
       " 'وبعدين': 56802,\n",
       " 'القطه': 11228,\n",
       " 'الكلاب': 11480,\n",
       " 'سمي': 31820,\n",
       " 'الشيء': 9498,\n",
       " 'سائقي': 30905,\n",
       " 'المفضل': 13408,\n",
       " 'يزرع': 65410,\n",
       " 'مسك': 47867,\n",
       " 'الليل': 11760,\n",
       " 'بيته': 21673,\n",
       " 'تؤمن': 22064,\n",
       " 'بعقلك': 20295,\n",
       " 'اقرب': 4319,\n",
       " 'لليقين': 44067,\n",
       " 'يبين': 64041,\n",
       " 'اثر': 740,\n",
       " 'غياب': 35574,\n",
       " 'الاخلاق': 4843,\n",
       " 'المجتمع': 12289,\n",
       " 'تردي': 23685,\n",
       " 'السيئه': 9187,\n",
       " 'حسن': 27962,\n",
       " 'الخلق': 8047,\n",
       " 'ضرب': 33536,\n",
       " 'يجذبني': 64583,\n",
       " 'المقاطع': 13445,\n",
       " 'استطاع': 2468,\n",
       " 'عرضها': 34592,\n",
       " 'كمشهد': 39621,\n",
       " 'تلفازي': 25694,\n",
       " 'تخللها': 23368,\n",
       " 'تفصيل': 25161,\n",
       " 'مملل': 49422,\n",
       " 'بعيد': 20349,\n",
       " 'المركزه': 12727,\n",
       " 'للكتاب': 43697,\n",
       " 'اثار': 719,\n",
       " 'استغرابي': 2530,\n",
       " 'الخلل': 8050,\n",
       " 'تحاول': 22971,\n",
       " 'علاجه': 34921,\n",
       " 'زالت': 30660,\n",
       " 'المشاكل': 12989,\n",
       " 'منتشره': 49525,\n",
       " 'الزمن': 8783,\n",
       " 'يتجمد': 64114,\n",
       " 'بلادنا': 20752,\n",
       " 'محتوي': 46889,\n",
       " 'العنوان': 10417,\n",
       " 'تجد': 22818,\n",
       " 'كاتبا': 38610,\n",
       " 'استهواه': 2687,\n",
       " 'مصطلح': 48147,\n",
       " 'اتي': 710,\n",
       " 'اخترعه': 1407,\n",
       " 'حاول': 27609,\n",
       " 'اسقاطه': 2799,\n",
       " 'فاعلم': 35859,\n",
       " 'انجرف': 15338,\n",
       " 'العجب': 10120,\n",
       " 'وخديعه': 58720,\n",
       " 'تفريغ': 25142,\n",
       " 'لمحاضره': 44147,\n",
       " 'القاها': 11052,\n",
       " 'شريعتي': 32631,\n",
       " 'ايران': 16174,\n",
       " 'افرغت': 4034,\n",
       " 'تسجيلها': 24029,\n",
       " 'اشرطه': 3037,\n",
       " 'ادري': 1725,\n",
       " 'اعجب': 3622,\n",
       " 'اعجبته': 3628,\n",
       " 'المحاضره': 12348,\n",
       " 'بتفريغها': 18781,\n",
       " 'اعجبه': 3633,\n",
       " 'فاعطاه': 35855,\n",
       " 'تقييما': 25499,\n",
       " 'مرتفعا': 47421,\n",
       " 'برايي': 19563,\n",
       " 'عباره': 34350,\n",
       " 'تجميع': 22915,\n",
       " 'لافكار': 40446,\n",
       " 'شخص': 32494,\n",
       " 'ناقم': 50327,\n",
       " 'مجتمعه': 46682,\n",
       " 'سمح': 31792,\n",
       " 'فتكلم': 36405,\n",
       " 'خطر': 28866,\n",
       " 'بباله': 18370,\n",
       " 'ترتيب': 23646,\n",
       " 'مراعاه': 47370,\n",
       " 'الحضور': 7697,\n",
       " 'الافكار': 5411,\n",
       " 'عنوانا': 35145,\n",
       " 'يجذب': 64580,\n",
       " 'الانتباه': 5687,\n",
       " 'يصب': 65882,\n",
       " 'قالب': 37863,\n",
       " 'العامه': 10054,\n",
       " 'بجديده': 19007,\n",
       " 'يريد': 65385,\n",
       " 'نكون': 51446,\n",
       " 'مثقفين': 46598,\n",
       " 'واعين': 53430,\n",
       " 'ننتبه': 51526,\n",
       " 'يحاك': 64676,\n",
       " 'الامه': 5646,\n",
       " 'مكائد': 49029,\n",
       " 'لتبقي': 40979,\n",
       " 'غارقه': 35293,\n",
       " 'مشاكلها': 47972,\n",
       " 'ترتقي': 23642,\n",
       " 'كباقي': 38951,\n",
       " 'الامم': 5638,\n",
       " 'يبدا': 63961,\n",
       " 'بتقديس': 18805,\n",
       " 'الانسان': 5750,\n",
       " 'اللازم': 11602,\n",
       " 'وامر': 56186,\n",
       " 'ملائكته': 49159,\n",
       " 'بالسجود': 17455,\n",
       " ...}"
      ]
     },
     "execution_count": 38,
     "metadata": {},
     "output_type": "execute_result"
    }
   ],
   "source": [
    "vocab = Tfidf.vocabulary_\n",
    "vocab"
   ]
  },
  {
   "cell_type": "markdown",
   "metadata": {},
   "source": [
    "# Models"
   ]
  },
  {
   "cell_type": "code",
   "execution_count": 39,
   "metadata": {},
   "outputs": [],
   "source": [
    "def models_(model_name):\n",
    "    model = model_name\n",
    "    model.fit(X_train_Tfidf, y_train)\n",
    "    y_pred = model.predict(X_test_Tfidf)\n",
    "    return y_pred"
   ]
  },
  {
   "cell_type": "markdown",
   "metadata": {},
   "source": [
    "# Confusion Matrix"
   ]
  },
  {
   "cell_type": "code",
   "execution_count": 40,
   "metadata": {},
   "outputs": [],
   "source": [
    "def confusion_matrix_(Real, Prediction):\n",
    "        ConfusionMatrix = confusion_matrix(Real, Prediction)\n",
    "        return ConfusionMatrix"
   ]
  },
  {
   "cell_type": "markdown",
   "metadata": {},
   "source": [
    "# Generate True Positive, False Positive, True Negative, False Negative"
   ]
  },
  {
   "cell_type": "code",
   "execution_count": 41,
   "metadata": {},
   "outputs": [],
   "source": [
    "def positive_negative(Confusin_Matrix):\n",
    "    False_Postive = Confusin_Matrix[0, 1]\n",
    "\n",
    "    True_Positive = Confusin_Matrix[0, 0]\n",
    "\n",
    "    False_Negative = Confusin_Matrix[1, 0]\n",
    "    \n",
    "    True_Negative = Confusin_Matrix[1, 1]\n",
    "\n",
    "    return False_Postive, True_Positive, False_Negative, True_Negative"
   ]
  },
  {
   "cell_type": "markdown",
   "metadata": {},
   "source": [
    "# Performance Merics"
   ]
  },
  {
   "cell_type": "code",
   "execution_count": 42,
   "metadata": {},
   "outputs": [],
   "source": [
    "def performance_metrics(False_Postive, True_Positive, False_Negative, True_Negative):\n",
    "     Accuracy = (True_Positive + True_Negative) / (True_Positive + True_Negative + False_Postive + False_Negative)\n",
    "     Precision = True_Positive / (True_Positive+ False_Postive)\n",
    "     Sensitivity = True_Positive / (True_Positive  + False_Negative)\n",
    "     Specificity = True_Negative / (True_Negative + False_Negative)\n",
    "     F1Score = (True_Positive) / ((True_Positive) + (0.5 *(False_Postive + False_Negative)))\n",
    "     Error = 1 - Accuracy\n",
    "     MetricsValues = pd.DataFrame(index=['Accuracy', 'Precision', 'Sensitivity', 'Specificity', 'F1Score', 'Error'], columns=['Values'], data=[Accuracy, Precision, Sensitivity, Specificity, F1Score, Error])\n",
    "     return MetricsValues\n"
   ]
  },
  {
   "cell_type": "markdown",
   "metadata": {},
   "source": [
    "# Machine Learning"
   ]
  },
  {
   "cell_type": "markdown",
   "metadata": {},
   "source": [
    "**1. Naive Bayes**"
   ]
  },
  {
   "cell_type": "code",
   "execution_count": 43,
   "metadata": {},
   "outputs": [],
   "source": [
    "model_name1 = MultinomialNB()\n",
    "y_pred1 = models_(model_name1)"
   ]
  },
  {
   "cell_type": "code",
   "execution_count": 44,
   "metadata": {},
   "outputs": [],
   "source": [
    "cm1 = confusion_matrix_(y_test, y_pred1)"
   ]
  },
  {
   "cell_type": "code",
   "execution_count": 45,
   "metadata": {},
   "outputs": [],
   "source": [
    "False_Postive, True_Positive, False_Negative, True_Negative = positive_negative(cm1)"
   ]
  },
  {
   "cell_type": "code",
   "execution_count": 46,
   "metadata": {},
   "outputs": [],
   "source": [
    "MetricsValues1 = performance_metrics(False_Postive, True_Positive, False_Negative, True_Negative)"
   ]
  },
  {
   "cell_type": "code",
   "execution_count": 47,
   "metadata": {},
   "outputs": [
    {
     "data": {
      "text/html": [
       "<div>\n",
       "<style scoped>\n",
       "    .dataframe tbody tr th:only-of-type {\n",
       "        vertical-align: middle;\n",
       "    }\n",
       "\n",
       "    .dataframe tbody tr th {\n",
       "        vertical-align: top;\n",
       "    }\n",
       "\n",
       "    .dataframe thead th {\n",
       "        text-align: right;\n",
       "    }\n",
       "</style>\n",
       "<table border=\"1\" class=\"dataframe\">\n",
       "  <thead>\n",
       "    <tr style=\"text-align: right;\">\n",
       "      <th></th>\n",
       "      <th>Values</th>\n",
       "    </tr>\n",
       "  </thead>\n",
       "  <tbody>\n",
       "    <tr>\n",
       "      <th>Accuracy</th>\n",
       "      <td>0.898692</td>\n",
       "    </tr>\n",
       "    <tr>\n",
       "      <th>Precision</th>\n",
       "      <td>0.889773</td>\n",
       "    </tr>\n",
       "    <tr>\n",
       "      <th>Sensitivity</th>\n",
       "      <td>0.904732</td>\n",
       "    </tr>\n",
       "    <tr>\n",
       "      <th>Specificity</th>\n",
       "      <td>0.907497</td>\n",
       "    </tr>\n",
       "    <tr>\n",
       "      <th>F1Score</th>\n",
       "      <td>0.897190</td>\n",
       "    </tr>\n",
       "    <tr>\n",
       "      <th>Error</th>\n",
       "      <td>0.101308</td>\n",
       "    </tr>\n",
       "  </tbody>\n",
       "</table>\n",
       "</div>"
      ],
      "text/plain": [
       "               Values\n",
       "Accuracy     0.898692\n",
       "Precision    0.889773\n",
       "Sensitivity  0.904732\n",
       "Specificity  0.907497\n",
       "F1Score      0.897190\n",
       "Error        0.101308"
      ]
     },
     "execution_count": 47,
     "metadata": {},
     "output_type": "execute_result"
    }
   ],
   "source": [
    "MetricsValues1"
   ]
  },
  {
   "cell_type": "markdown",
   "metadata": {},
   "source": [
    "**2. Logistic Regression**"
   ]
  },
  {
   "cell_type": "code",
   "execution_count": 48,
   "metadata": {},
   "outputs": [],
   "source": [
    "model_name2 = LogisticRegression()\n",
    "y_pred2 = models_(model_name2)"
   ]
  },
  {
   "cell_type": "code",
   "execution_count": 49,
   "metadata": {},
   "outputs": [],
   "source": [
    "cm2 = confusion_matrix_(y_test, y_pred2)"
   ]
  },
  {
   "cell_type": "code",
   "execution_count": 50,
   "metadata": {},
   "outputs": [
    {
     "data": {
      "text/html": [
       "<div>\n",
       "<style scoped>\n",
       "    .dataframe tbody tr th:only-of-type {\n",
       "        vertical-align: middle;\n",
       "    }\n",
       "\n",
       "    .dataframe tbody tr th {\n",
       "        vertical-align: top;\n",
       "    }\n",
       "\n",
       "    .dataframe thead th {\n",
       "        text-align: right;\n",
       "    }\n",
       "</style>\n",
       "<table border=\"1\" class=\"dataframe\">\n",
       "  <thead>\n",
       "    <tr style=\"text-align: right;\">\n",
       "      <th></th>\n",
       "      <th>Values</th>\n",
       "    </tr>\n",
       "  </thead>\n",
       "  <tbody>\n",
       "    <tr>\n",
       "      <th>Accuracy</th>\n",
       "      <td>0.895345</td>\n",
       "    </tr>\n",
       "    <tr>\n",
       "      <th>Precision</th>\n",
       "      <td>0.898959</td>\n",
       "    </tr>\n",
       "    <tr>\n",
       "      <th>Sensitivity</th>\n",
       "      <td>0.891318</td>\n",
       "    </tr>\n",
       "    <tr>\n",
       "      <th>Specificity</th>\n",
       "      <td>0.891778</td>\n",
       "    </tr>\n",
       "    <tr>\n",
       "      <th>F1Score</th>\n",
       "      <td>0.895122</td>\n",
       "    </tr>\n",
       "    <tr>\n",
       "      <th>Error</th>\n",
       "      <td>0.104655</td>\n",
       "    </tr>\n",
       "  </tbody>\n",
       "</table>\n",
       "</div>"
      ],
      "text/plain": [
       "               Values\n",
       "Accuracy     0.895345\n",
       "Precision    0.898959\n",
       "Sensitivity  0.891318\n",
       "Specificity  0.891778\n",
       "F1Score      0.895122\n",
       "Error        0.104655"
      ]
     },
     "execution_count": 50,
     "metadata": {},
     "output_type": "execute_result"
    }
   ],
   "source": [
    "False_Postive2, True_Positive2, False_Negative2, True_Negative2 = positive_negative(cm2)\n",
    "MetricsValues2 = performance_metrics(False_Postive2, True_Positive2, False_Negative2, True_Negative2)\n",
    "MetricsValues2"
   ]
  },
  {
   "cell_type": "markdown",
   "metadata": {},
   "source": [
    "**3. Decision Tree**"
   ]
  },
  {
   "cell_type": "code",
   "execution_count": 51,
   "metadata": {},
   "outputs": [],
   "source": [
    "model_name3 = DecisionTreeClassifier(criterion = 'entropy')\n",
    "y_pred3 = models_(model_name3)"
   ]
  },
  {
   "cell_type": "code",
   "execution_count": 52,
   "metadata": {},
   "outputs": [],
   "source": [
    "cm3 = confusion_matrix_(y_test, y_pred3)"
   ]
  },
  {
   "cell_type": "code",
   "execution_count": 53,
   "metadata": {},
   "outputs": [
    {
     "data": {
      "text/html": [
       "<div>\n",
       "<style scoped>\n",
       "    .dataframe tbody tr th:only-of-type {\n",
       "        vertical-align: middle;\n",
       "    }\n",
       "\n",
       "    .dataframe tbody tr th {\n",
       "        vertical-align: top;\n",
       "    }\n",
       "\n",
       "    .dataframe thead th {\n",
       "        text-align: right;\n",
       "    }\n",
       "</style>\n",
       "<table border=\"1\" class=\"dataframe\">\n",
       "  <thead>\n",
       "    <tr style=\"text-align: right;\">\n",
       "      <th></th>\n",
       "      <th>Values</th>\n",
       "    </tr>\n",
       "  </thead>\n",
       "  <tbody>\n",
       "    <tr>\n",
       "      <th>Accuracy</th>\n",
       "      <td>0.860055</td>\n",
       "    </tr>\n",
       "    <tr>\n",
       "      <th>Precision</th>\n",
       "      <td>0.848132</td>\n",
       "    </tr>\n",
       "    <tr>\n",
       "      <th>Sensitivity</th>\n",
       "      <td>0.867251</td>\n",
       "    </tr>\n",
       "    <tr>\n",
       "      <th>Specificity</th>\n",
       "      <td>0.871826</td>\n",
       "    </tr>\n",
       "    <tr>\n",
       "      <th>F1Score</th>\n",
       "      <td>0.857585</td>\n",
       "    </tr>\n",
       "    <tr>\n",
       "      <th>Error</th>\n",
       "      <td>0.139945</td>\n",
       "    </tr>\n",
       "  </tbody>\n",
       "</table>\n",
       "</div>"
      ],
      "text/plain": [
       "               Values\n",
       "Accuracy     0.860055\n",
       "Precision    0.848132\n",
       "Sensitivity  0.867251\n",
       "Specificity  0.871826\n",
       "F1Score      0.857585\n",
       "Error        0.139945"
      ]
     },
     "execution_count": 53,
     "metadata": {},
     "output_type": "execute_result"
    }
   ],
   "source": [
    "False_Postive3, True_Positive3, False_Negative3, True_Negative3 = positive_negative(cm3)\n",
    "MetricsValues3 = performance_metrics(False_Postive3, True_Positive3, False_Negative3, True_Negative3)\n",
    "MetricsValues3"
   ]
  },
  {
   "cell_type": "markdown",
   "metadata": {},
   "source": [
    "**4. K Nearest Neighbor**"
   ]
  },
  {
   "cell_type": "code",
   "execution_count": 54,
   "metadata": {},
   "outputs": [],
   "source": [
    "model_name4 = KNeighborsClassifier(metric='cosine', n_neighbors=5)\n",
    "y_pred4 = models_(model_name4)"
   ]
  },
  {
   "cell_type": "code",
   "execution_count": 55,
   "metadata": {},
   "outputs": [],
   "source": [
    "cm4 = confusion_matrix_(y_test, y_pred4)"
   ]
  },
  {
   "cell_type": "code",
   "execution_count": 56,
   "metadata": {},
   "outputs": [
    {
     "data": {
      "text/html": [
       "<div>\n",
       "<style scoped>\n",
       "    .dataframe tbody tr th:only-of-type {\n",
       "        vertical-align: middle;\n",
       "    }\n",
       "\n",
       "    .dataframe tbody tr th {\n",
       "        vertical-align: top;\n",
       "    }\n",
       "\n",
       "    .dataframe thead th {\n",
       "        text-align: right;\n",
       "    }\n",
       "</style>\n",
       "<table border=\"1\" class=\"dataframe\">\n",
       "  <thead>\n",
       "    <tr style=\"text-align: right;\">\n",
       "      <th></th>\n",
       "      <th>Values</th>\n",
       "    </tr>\n",
       "  </thead>\n",
       "  <tbody>\n",
       "    <tr>\n",
       "      <th>Accuracy</th>\n",
       "      <td>0.815029</td>\n",
       "    </tr>\n",
       "    <tr>\n",
       "      <th>Precision</th>\n",
       "      <td>0.752603</td>\n",
       "    </tr>\n",
       "    <tr>\n",
       "      <th>Sensitivity</th>\n",
       "      <td>0.857641</td>\n",
       "    </tr>\n",
       "    <tr>\n",
       "      <th>Specificity</th>\n",
       "      <td>0.876663</td>\n",
       "    </tr>\n",
       "    <tr>\n",
       "      <th>F1Score</th>\n",
       "      <td>0.801696</td>\n",
       "    </tr>\n",
       "    <tr>\n",
       "      <th>Error</th>\n",
       "      <td>0.184971</td>\n",
       "    </tr>\n",
       "  </tbody>\n",
       "</table>\n",
       "</div>"
      ],
      "text/plain": [
       "               Values\n",
       "Accuracy     0.815029\n",
       "Precision    0.752603\n",
       "Sensitivity  0.857641\n",
       "Specificity  0.876663\n",
       "F1Score      0.801696\n",
       "Error        0.184971"
      ]
     },
     "execution_count": 56,
     "metadata": {},
     "output_type": "execute_result"
    }
   ],
   "source": [
    "False_Postive4, True_Positive4, False_Negative4, True_Negative4 = positive_negative(cm4)\n",
    "MetricsValues4 = performance_metrics(False_Postive4, True_Positive4, False_Negative4, True_Negative4)\n",
    "MetricsValues4"
   ]
  },
  {
   "cell_type": "markdown",
   "metadata": {},
   "source": [
    "**5. Random Forest**"
   ]
  },
  {
   "cell_type": "code",
   "execution_count": 57,
   "metadata": {},
   "outputs": [],
   "source": [
    "model_name5 = RandomForestClassifier(criterion = 'entropy', n_estimators=100)\n",
    "y_pred5 = models_(model_name5)"
   ]
  },
  {
   "cell_type": "code",
   "execution_count": 58,
   "metadata": {},
   "outputs": [],
   "source": [
    "cm5 = confusion_matrix_(y_test, y_pred5)"
   ]
  },
  {
   "cell_type": "code",
   "execution_count": 59,
   "metadata": {},
   "outputs": [
    {
     "data": {
      "text/html": [
       "<div>\n",
       "<style scoped>\n",
       "    .dataframe tbody tr th:only-of-type {\n",
       "        vertical-align: middle;\n",
       "    }\n",
       "\n",
       "    .dataframe tbody tr th {\n",
       "        vertical-align: top;\n",
       "    }\n",
       "\n",
       "    .dataframe thead th {\n",
       "        text-align: right;\n",
       "    }\n",
       "</style>\n",
       "<table border=\"1\" class=\"dataframe\">\n",
       "  <thead>\n",
       "    <tr style=\"text-align: right;\">\n",
       "      <th></th>\n",
       "      <th>Values</th>\n",
       "    </tr>\n",
       "  </thead>\n",
       "  <tbody>\n",
       "    <tr>\n",
       "      <th>Accuracy</th>\n",
       "      <td>0.902038</td>\n",
       "    </tr>\n",
       "    <tr>\n",
       "      <th>Precision</th>\n",
       "      <td>0.916718</td>\n",
       "    </tr>\n",
       "    <tr>\n",
       "      <th>Sensitivity</th>\n",
       "      <td>0.889483</td>\n",
       "    </tr>\n",
       "    <tr>\n",
       "      <th>Specificity</th>\n",
       "      <td>0.887545</td>\n",
       "    </tr>\n",
       "    <tr>\n",
       "      <th>F1Score</th>\n",
       "      <td>0.902895</td>\n",
       "    </tr>\n",
       "    <tr>\n",
       "      <th>Error</th>\n",
       "      <td>0.097962</td>\n",
       "    </tr>\n",
       "  </tbody>\n",
       "</table>\n",
       "</div>"
      ],
      "text/plain": [
       "               Values\n",
       "Accuracy     0.902038\n",
       "Precision    0.916718\n",
       "Sensitivity  0.889483\n",
       "Specificity  0.887545\n",
       "F1Score      0.902895\n",
       "Error        0.097962"
      ]
     },
     "execution_count": 59,
     "metadata": {},
     "output_type": "execute_result"
    }
   ],
   "source": [
    "False_Postive5, True_Positive5, False_Negative5, True_Negative5 = positive_negative(cm5)\n",
    "MetricsValues5 = performance_metrics(False_Postive5, True_Positive5, False_Negative5, True_Negative5)\n",
    "MetricsValues5"
   ]
  },
  {
   "cell_type": "markdown",
   "metadata": {},
   "source": [
    "**6.SGD Classifier**"
   ]
  },
  {
   "cell_type": "code",
   "execution_count": 60,
   "metadata": {},
   "outputs": [],
   "source": [
    "model_name6 = SGDClassifier(loss='hinge')\n",
    "y_pred6 = models_(model_name6)"
   ]
  },
  {
   "cell_type": "code",
   "execution_count": 61,
   "metadata": {},
   "outputs": [],
   "source": [
    "cm6 = confusion_matrix_(y_test, y_pred6)"
   ]
  },
  {
   "cell_type": "code",
   "execution_count": 62,
   "metadata": {},
   "outputs": [
    {
     "data": {
      "text/html": [
       "<div>\n",
       "<style scoped>\n",
       "    .dataframe tbody tr th:only-of-type {\n",
       "        vertical-align: middle;\n",
       "    }\n",
       "\n",
       "    .dataframe tbody tr th {\n",
       "        vertical-align: top;\n",
       "    }\n",
       "\n",
       "    .dataframe thead th {\n",
       "        text-align: right;\n",
       "    }\n",
       "</style>\n",
       "<table border=\"1\" class=\"dataframe\">\n",
       "  <thead>\n",
       "    <tr style=\"text-align: right;\">\n",
       "      <th></th>\n",
       "      <th>Values</th>\n",
       "    </tr>\n",
       "  </thead>\n",
       "  <tbody>\n",
       "    <tr>\n",
       "      <th>Accuracy</th>\n",
       "      <td>0.905081</td>\n",
       "    </tr>\n",
       "    <tr>\n",
       "      <th>Precision</th>\n",
       "      <td>0.902021</td>\n",
       "    </tr>\n",
       "    <tr>\n",
       "      <th>Sensitivity</th>\n",
       "      <td>0.906462</td>\n",
       "    </tr>\n",
       "    <tr>\n",
       "      <th>Specificity</th>\n",
       "      <td>0.908102</td>\n",
       "    </tr>\n",
       "    <tr>\n",
       "      <th>F1Score</th>\n",
       "      <td>0.904236</td>\n",
       "    </tr>\n",
       "    <tr>\n",
       "      <th>Error</th>\n",
       "      <td>0.094919</td>\n",
       "    </tr>\n",
       "  </tbody>\n",
       "</table>\n",
       "</div>"
      ],
      "text/plain": [
       "               Values\n",
       "Accuracy     0.905081\n",
       "Precision    0.902021\n",
       "Sensitivity  0.906462\n",
       "Specificity  0.908102\n",
       "F1Score      0.904236\n",
       "Error        0.094919"
      ]
     },
     "execution_count": 62,
     "metadata": {},
     "output_type": "execute_result"
    }
   ],
   "source": [
    "False_Postive6, True_Positive6, False_Negative6, True_Negative6 = positive_negative(cm6)\n",
    "MetricsValues6 = performance_metrics(False_Postive6, True_Positive6, False_Negative6, True_Negative6)\n",
    "MetricsValues6"
   ]
  },
  {
   "cell_type": "markdown",
   "metadata": {},
   "source": [
    "**7.Support  Vector Machine**"
   ]
  },
  {
   "cell_type": "code",
   "execution_count": 63,
   "metadata": {},
   "outputs": [],
   "source": [
    "model_name7 = SVC(kernel='rbf')\n",
    "y_pred7 = models_(model_name7)"
   ]
  },
  {
   "cell_type": "code",
   "execution_count": 64,
   "metadata": {},
   "outputs": [],
   "source": [
    "cm7 = confusion_matrix_(y_test, y_pred7)"
   ]
  },
  {
   "cell_type": "code",
   "execution_count": 65,
   "metadata": {},
   "outputs": [
    {
     "data": {
      "text/html": [
       "<div>\n",
       "<style scoped>\n",
       "    .dataframe tbody tr th:only-of-type {\n",
       "        vertical-align: middle;\n",
       "    }\n",
       "\n",
       "    .dataframe tbody tr th {\n",
       "        vertical-align: top;\n",
       "    }\n",
       "\n",
       "    .dataframe thead th {\n",
       "        text-align: right;\n",
       "    }\n",
       "</style>\n",
       "<table border=\"1\" class=\"dataframe\">\n",
       "  <thead>\n",
       "    <tr style=\"text-align: right;\">\n",
       "      <th></th>\n",
       "      <th>Values</th>\n",
       "    </tr>\n",
       "  </thead>\n",
       "  <tbody>\n",
       "    <tr>\n",
       "      <th>Accuracy</th>\n",
       "      <td>0.913903</td>\n",
       "    </tr>\n",
       "    <tr>\n",
       "      <th>Precision</th>\n",
       "      <td>0.912431</td>\n",
       "    </tr>\n",
       "    <tr>\n",
       "      <th>Sensitivity</th>\n",
       "      <td>0.914110</td>\n",
       "    </tr>\n",
       "    <tr>\n",
       "      <th>Specificity</th>\n",
       "      <td>0.915357</td>\n",
       "    </tr>\n",
       "    <tr>\n",
       "      <th>F1Score</th>\n",
       "      <td>0.913270</td>\n",
       "    </tr>\n",
       "    <tr>\n",
       "      <th>Error</th>\n",
       "      <td>0.086097</td>\n",
       "    </tr>\n",
       "  </tbody>\n",
       "</table>\n",
       "</div>"
      ],
      "text/plain": [
       "               Values\n",
       "Accuracy     0.913903\n",
       "Precision    0.912431\n",
       "Sensitivity  0.914110\n",
       "Specificity  0.915357\n",
       "F1Score      0.913270\n",
       "Error        0.086097"
      ]
     },
     "execution_count": 65,
     "metadata": {},
     "output_type": "execute_result"
    }
   ],
   "source": [
    "False_Postive7, True_Positive7, False_Negative7, True_Negative7 = positive_negative(cm7)\n",
    "MetricsValues7 = performance_metrics(False_Postive7, True_Positive7, False_Negative7, True_Negative7)\n",
    "MetricsValues7"
   ]
  },
  {
   "cell_type": "markdown",
   "metadata": {},
   "source": [
    "**8- Multilayer Perceptron (MLP) Classifier**"
   ]
  },
  {
   "cell_type": "code",
   "execution_count": 66,
   "metadata": {},
   "outputs": [],
   "source": [
    "model_name8 = MLPClassifier(hidden_layer_sizes = 16, activation='tanh')\n",
    "y_pred8 = models_(model_name8)"
   ]
  },
  {
   "cell_type": "code",
   "execution_count": 67,
   "metadata": {},
   "outputs": [],
   "source": [
    "cm8 = confusion_matrix_(y_test, y_pred8)"
   ]
  },
  {
   "cell_type": "code",
   "execution_count": 68,
   "metadata": {},
   "outputs": [
    {
     "data": {
      "text/html": [
       "<div>\n",
       "<style scoped>\n",
       "    .dataframe tbody tr th:only-of-type {\n",
       "        vertical-align: middle;\n",
       "    }\n",
       "\n",
       "    .dataframe tbody tr th {\n",
       "        vertical-align: top;\n",
       "    }\n",
       "\n",
       "    .dataframe thead th {\n",
       "        text-align: right;\n",
       "    }\n",
       "</style>\n",
       "<table border=\"1\" class=\"dataframe\">\n",
       "  <thead>\n",
       "    <tr style=\"text-align: right;\">\n",
       "      <th></th>\n",
       "      <th>Values</th>\n",
       "    </tr>\n",
       "  </thead>\n",
       "  <tbody>\n",
       "    <tr>\n",
       "      <th>Accuracy</th>\n",
       "      <td>0.912078</td>\n",
       "    </tr>\n",
       "    <tr>\n",
       "      <th>Precision</th>\n",
       "      <td>0.902633</td>\n",
       "    </tr>\n",
       "    <tr>\n",
       "      <th>Sensitivity</th>\n",
       "      <td>0.918953</td>\n",
       "    </tr>\n",
       "    <tr>\n",
       "      <th>Specificity</th>\n",
       "      <td>0.921403</td>\n",
       "    </tr>\n",
       "    <tr>\n",
       "      <th>F1Score</th>\n",
       "      <td>0.910720</td>\n",
       "    </tr>\n",
       "    <tr>\n",
       "      <th>Error</th>\n",
       "      <td>0.087922</td>\n",
       "    </tr>\n",
       "  </tbody>\n",
       "</table>\n",
       "</div>"
      ],
      "text/plain": [
       "               Values\n",
       "Accuracy     0.912078\n",
       "Precision    0.902633\n",
       "Sensitivity  0.918953\n",
       "Specificity  0.921403\n",
       "F1Score      0.910720\n",
       "Error        0.087922"
      ]
     },
     "execution_count": 68,
     "metadata": {},
     "output_type": "execute_result"
    }
   ],
   "source": [
    "False_Postive8, True_Positive8, False_Negative8, True_Negative8 = positive_negative(cm8)\n",
    "MetricsValues8 = performance_metrics(False_Postive8, True_Positive8, False_Negative8, True_Negative8)\n",
    "MetricsValues8"
   ]
  },
  {
   "cell_type": "markdown",
   "metadata": {},
   "source": [
    "# Deep Learning"
   ]
  },
  {
   "cell_type": "code",
   "execution_count": 69,
   "metadata": {},
   "outputs": [],
   "source": [
    "tokenizer = Tokenizer()\n",
    "tokenizer.fit_on_texts(X_train)\n",
    "vocab_size = len(tokenizer.word_index)+1\n",
    "embedding_dim = 16\n"
   ]
  },
  {
   "cell_type": "code",
   "execution_count": 70,
   "metadata": {},
   "outputs": [],
   "source": [
    "X_train_seqs = tokenizer.texts_to_sequences(X_train)\n",
    "X_test_seqs = tokenizer.texts_to_sequences(X_test)\n",
    "max_length = len(max(X_train_seqs, key=len))"
   ]
  },
  {
   "cell_type": "code",
   "execution_count": 71,
   "metadata": {},
   "outputs": [],
   "source": [
    "encoded_X_train = sequence.pad_sequences(X_train_seqs, maxlen=max_length)\n",
    "encoded_X_test = sequence.pad_sequences(X_test_seqs, maxlen=max_length)\n"
   ]
  },
  {
   "cell_type": "code",
   "execution_count": 72,
   "metadata": {},
   "outputs": [],
   "source": [
    "y_train_enc = keras.utils.to_categorical(y_train)\n",
    "y_test_enc = keras.utils.to_categorical(y_test)"
   ]
  },
  {
   "cell_type": "code",
   "execution_count": 73,
   "metadata": {},
   "outputs": [],
   "source": [
    "Callback = tf.keras.callbacks.EarlyStopping(\n",
    "                    monitor=\"accuracy\",\n",
    "                    mode=\"max\",\n",
    "                )"
   ]
  },
  {
   "cell_type": "markdown",
   "metadata": {},
   "source": [
    "**9-Convolutional Neural Network**"
   ]
  },
  {
   "cell_type": "code",
   "execution_count": 74,
   "metadata": {},
   "outputs": [],
   "source": [
    "model = tf.keras.Sequential([\n",
    "                Embedding(input_dim=vocab_size, output_dim=embedding_dim, input_length=max_length),\n",
    "                Conv1D(filters=32, kernel_size = 2, activation='relu'),\n",
    "                GlobalAveragePooling1D(),\n",
    "                Dropout(0.8),\n",
    "                Dense(1, activation= 'sigmoid')\n",
    "                ])"
   ]
  },
  {
   "cell_type": "code",
   "execution_count": 75,
   "metadata": {},
   "outputs": [],
   "source": [
    "model.compile(optimizer='adam',\n",
    "              loss='binary_crossentropy',\n",
    "              metrics=['accuracy'])\n"
   ]
  },
  {
   "cell_type": "code",
   "execution_count": 76,
   "metadata": {},
   "outputs": [
    {
     "name": "stdout",
     "output_type": "stream",
     "text": [
      "Epoch 1/50\n",
      "822/822 [==============================] - 57s 69ms/step - loss: 0.6918 - accuracy: 0.5329 - val_loss: 0.6870 - val_accuracy: 0.6507\n",
      "Epoch 2/50\n",
      "822/822 [==============================] - 59s 72ms/step - loss: 0.6479 - accuracy: 0.6879 - val_loss: 0.5978 - val_accuracy: 0.8357\n",
      "Epoch 3/50\n",
      "822/822 [==============================] - 41s 50ms/step - loss: 0.4971 - accuracy: 0.8389 - val_loss: 0.4542 - val_accuracy: 0.8710\n",
      "Epoch 4/50\n",
      "822/822 [==============================] - 33s 40ms/step - loss: 0.3698 - accuracy: 0.8889 - val_loss: 0.3674 - val_accuracy: 0.8902\n",
      "Epoch 5/50\n",
      "822/822 [==============================] - 33s 40ms/step - loss: 0.2830 - accuracy: 0.9140 - val_loss: 0.3158 - val_accuracy: 0.8981\n",
      "Epoch 6/50\n",
      "822/822 [==============================] - 32s 39ms/step - loss: 0.2303 - accuracy: 0.9312 - val_loss: 0.2839 - val_accuracy: 0.9026\n",
      "Epoch 7/50\n",
      "822/822 [==============================] - 31s 38ms/step - loss: 0.1951 - accuracy: 0.9399 - val_loss: 0.2616 - val_accuracy: 0.9045\n",
      "Epoch 8/50\n",
      "822/822 [==============================] - 33s 40ms/step - loss: 0.1681 - accuracy: 0.9522 - val_loss: 0.2463 - val_accuracy: 0.9057\n",
      "Epoch 9/50\n",
      "822/822 [==============================] - 31s 37ms/step - loss: 0.1441 - accuracy: 0.9579 - val_loss: 0.2387 - val_accuracy: 0.9045\n",
      "Epoch 10/50\n",
      "822/822 [==============================] - 30s 36ms/step - loss: 0.1280 - accuracy: 0.9635 - val_loss: 0.2346 - val_accuracy: 0.9057\n",
      "Epoch 11/50\n",
      "822/822 [==============================] - 29s 36ms/step - loss: 0.1133 - accuracy: 0.9664 - val_loss: 0.2324 - val_accuracy: 0.9066\n",
      "Epoch 12/50\n",
      "822/822 [==============================] - 28s 34ms/step - loss: 0.1038 - accuracy: 0.9698 - val_loss: 0.2345 - val_accuracy: 0.9081\n",
      "Epoch 13/50\n",
      "822/822 [==============================] - 29s 35ms/step - loss: 0.0919 - accuracy: 0.9738 - val_loss: 0.2380 - val_accuracy: 0.9103\n",
      "Epoch 14/50\n",
      "822/822 [==============================] - 28s 34ms/step - loss: 0.0873 - accuracy: 0.9740 - val_loss: 0.2432 - val_accuracy: 0.9066\n",
      "Epoch 15/50\n",
      "822/822 [==============================] - 28s 34ms/step - loss: 0.0772 - accuracy: 0.9777 - val_loss: 0.2510 - val_accuracy: 0.9075\n",
      "Epoch 16/50\n",
      "822/822 [==============================] - 27s 33ms/step - loss: 0.0712 - accuracy: 0.9795 - val_loss: 0.2574 - val_accuracy: 0.9060\n",
      "Epoch 17/50\n",
      "822/822 [==============================] - 26s 31ms/step - loss: 0.0685 - accuracy: 0.9803 - val_loss: 0.2640 - val_accuracy: 0.9090\n",
      "Epoch 18/50\n",
      "822/822 [==============================] - 26s 31ms/step - loss: 0.0638 - accuracy: 0.9801 - val_loss: 0.2739 - val_accuracy: 0.9054\n"
     ]
    }
   ],
   "source": [
    "history = model.fit(encoded_X_train, y_train,\n",
    "                    epochs=50,\n",
    "                    validation_data=(encoded_X_test, y_test),\n",
    "                    batch_size=16,\n",
    "                    callbacks=[Callback])"
   ]
  },
  {
   "cell_type": "code",
   "execution_count": 77,
   "metadata": {},
   "outputs": [
    {
     "data": {
      "image/png": "[encoded data removed]",
      "text/plain": [
       "<Figure size 640x480 with 1 Axes>"
      ]
     },
     "metadata": {},
     "output_type": "display_data"
    }
   ],
   "source": [
    "val_acc = history.history['val_accuracy']\n",
    "val_loss = history.history['val_loss']\n",
    "\n",
    "plt.plot(val_acc, label='Accuracy')\n",
    "plt.plot(val_loss, label='Loss')\n",
    "plt.legend()\n",
    "plt.show()"
   ]
  },
  {
   "cell_type": "code",
   "execution_count": 78,
   "metadata": {},
   "outputs": [
    {
     "data": {
      "image/png": "[encoded data removed]",
      "text/plain": [
       "<Figure size 640x480 with 1 Axes>"
      ]
     },
     "metadata": {},
     "output_type": "display_data"
    }
   ],
   "source": [
    "acc = history.history['accuracy']\n",
    "loss = history.history['loss']\n",
    "\n",
    "plt.plot(acc, label='Accuracy')\n",
    "plt.plot(loss, label='Loss')\n",
    "plt.legend()\n",
    "plt.show()"
   ]
  },
  {
   "cell_type": "code",
   "execution_count": 79,
   "metadata": {},
   "outputs": [
    {
     "name": "stdout",
     "output_type": "stream",
     "text": [
      "Training Accuracy: 0.9908\n",
      "Testing Accuracy:  0.9054\n"
     ]
    }
   ],
   "source": [
    "loss, accuracy = model.evaluate(encoded_X_train, y_train, verbose=False)\n",
    "print(\"Training Accuracy: {:.4f}\".format(accuracy))\n",
    "loss, accuracy = model.evaluate(encoded_X_test, y_test, verbose=False)\n",
    "print(\"Testing Accuracy:  {:.4f}\".format(accuracy))"
   ]
  },
  {
   "cell_type": "markdown",
   "metadata": {},
   "source": [
    "**10-Deep Neural Network**"
   ]
  },
  {
   "cell_type": "code",
   "execution_count": 80,
   "metadata": {},
   "outputs": [],
   "source": [
    "model = tf.keras.Sequential([\n",
    "        Embedding(input_dim=vocab_size, output_dim=embedding_dim, input_length=max_length),\n",
    "        Dropout(0.2),\n",
    "        GlobalAveragePooling1D(),\n",
    "        Dropout(0.3),\n",
    "        Dense(8, activation=\"relu\"),\n",
    "        Dense(1, activation='sigmoid')])"
   ]
  },
  {
   "cell_type": "code",
   "execution_count": 81,
   "metadata": {},
   "outputs": [],
   "source": [
    "model.compile(optimizer='adam',\n",
    "              loss='binary_crossentropy',\n",
    "              metrics=['accuracy'])\n"
   ]
  },
  {
   "cell_type": "code",
   "execution_count": 82,
   "metadata": {},
   "outputs": [
    {
     "name": "stdout",
     "output_type": "stream",
     "text": [
      "Epoch 1/50\n",
      "822/822 [==============================] - 65s 78ms/step - loss: 0.6929 - accuracy: 0.5074 - val_loss: 0.6919 - val_accuracy: 0.5041\n",
      "Epoch 2/50\n",
      "822/822 [==============================] - 57s 70ms/step - loss: 0.6881 - accuracy: 0.5561 - val_loss: 0.6814 - val_accuracy: 0.5902\n",
      "Epoch 3/50\n",
      "822/822 [==============================] - 58s 70ms/step - loss: 0.6514 - accuracy: 0.6706 - val_loss: 0.6168 - val_accuracy: 0.8077\n",
      "Epoch 4/50\n",
      "822/822 [==============================] - 55s 67ms/step - loss: 0.5384 - accuracy: 0.7941 - val_loss: 0.4977 - val_accuracy: 0.8470\n",
      "Epoch 5/50\n",
      "822/822 [==============================] - 56s 68ms/step - loss: 0.4132 - accuracy: 0.8531 - val_loss: 0.4068 - val_accuracy: 0.8616\n",
      "Epoch 6/50\n",
      "822/822 [==============================] - 55s 67ms/step - loss: 0.3293 - accuracy: 0.8839 - val_loss: 0.3518 - val_accuracy: 0.8704\n",
      "Epoch 7/50\n",
      "822/822 [==============================] - 55s 67ms/step - loss: 0.2730 - accuracy: 0.8975 - val_loss: 0.3238 - val_accuracy: 0.8689\n",
      "Epoch 8/50\n",
      "822/822 [==============================] - 54s 65ms/step - loss: 0.2322 - accuracy: 0.9128 - val_loss: 0.2984 - val_accuracy: 0.8810\n",
      "Epoch 9/50\n",
      "822/822 [==============================] - 54s 65ms/step - loss: 0.2017 - accuracy: 0.9264 - val_loss: 0.2923 - val_accuracy: 0.8844\n",
      "Epoch 10/50\n",
      "822/822 [==============================] - 54s 65ms/step - loss: 0.1788 - accuracy: 0.9342 - val_loss: 0.2695 - val_accuracy: 0.8941\n",
      "Epoch 11/50\n",
      "822/822 [==============================] - 53s 64ms/step - loss: 0.1606 - accuracy: 0.9392 - val_loss: 0.2754 - val_accuracy: 0.8883\n",
      "Epoch 12/50\n",
      "822/822 [==============================] - 52s 63ms/step - loss: 0.1449 - accuracy: 0.9455 - val_loss: 0.2577 - val_accuracy: 0.9002\n",
      "Epoch 13/50\n",
      "822/822 [==============================] - 52s 63ms/step - loss: 0.1297 - accuracy: 0.9532 - val_loss: 0.2567 - val_accuracy: 0.9020\n",
      "Epoch 14/50\n",
      "822/822 [==============================] - 52s 63ms/step - loss: 0.1231 - accuracy: 0.9534 - val_loss: 0.2524 - val_accuracy: 0.9026\n",
      "Epoch 15/50\n",
      "822/822 [==============================] - 51s 62ms/step - loss: 0.1122 - accuracy: 0.9573 - val_loss: 0.2580 - val_accuracy: 0.9020\n",
      "Epoch 16/50\n",
      "822/822 [==============================] - 50s 61ms/step - loss: 0.1026 - accuracy: 0.9613 - val_loss: 0.2869 - val_accuracy: 0.8923\n",
      "Epoch 17/50\n",
      "822/822 [==============================] - 51s 62ms/step - loss: 0.0963 - accuracy: 0.9628 - val_loss: 0.2625 - val_accuracy: 0.9078\n",
      "Epoch 18/50\n",
      "822/822 [==============================] - 54s 66ms/step - loss: 0.0897 - accuracy: 0.9658 - val_loss: 0.2676 - val_accuracy: 0.9084\n",
      "Epoch 19/50\n",
      "822/822 [==============================] - 65s 79ms/step - loss: 0.0842 - accuracy: 0.9719 - val_loss: 0.2619 - val_accuracy: 0.9087\n",
      "Epoch 20/50\n",
      "822/822 [==============================] - 51s 62ms/step - loss: 0.0757 - accuracy: 0.9718 - val_loss: 0.2602 - val_accuracy: 0.9099\n"
     ]
    }
   ],
   "source": [
    "history = model.fit(encoded_X_train, y_train,\n",
    "                    epochs=50,\n",
    "                    validation_data=(encoded_X_test, y_test),\n",
    "                    batch_size=16,\n",
    "                    callbacks=[Callback])"
   ]
  },
  {
   "cell_type": "code",
   "execution_count": 83,
   "metadata": {},
   "outputs": [
    {
     "data": {
      "image/png": "[encoded data removed]",
      "text/plain": [
       "<Figure size 640x480 with 1 Axes>"
      ]
     },
     "metadata": {},
     "output_type": "display_data"
    }
   ],
   "source": [
    "val_acc = history.history['val_accuracy']\n",
    "val_loss = history.history['val_loss']\n",
    "\n",
    "plt.plot(val_acc, label='Accuracy')\n",
    "plt.plot(val_loss, label='Loss')\n",
    "plt.legend()\n",
    "plt.show()"
   ]
  },
  {
   "cell_type": "code",
   "execution_count": 84,
   "metadata": {},
   "outputs": [
    {
     "data": {
      "image/png": "[encoded data removed]",
      "text/plain": [
       "<Figure size 640x480 with 1 Axes>"
      ]
     },
     "metadata": {},
     "output_type": "display_data"
    }
   ],
   "source": [
    "acc = history.history['accuracy']\n",
    "loss = history.history['loss']\n",
    "\n",
    "plt.plot(acc, label='Accuracy')\n",
    "plt.plot(loss, label='Loss')\n",
    "plt.legend()\n",
    "plt.show()"
   ]
  },
  {
   "cell_type": "code",
   "execution_count": 85,
   "metadata": {},
   "outputs": [
    {
     "name": "stdout",
     "output_type": "stream",
     "text": [
      "Training Accuracy: 0.9804\n",
      "Testing Accuracy:  0.9099\n"
     ]
    }
   ],
   "source": [
    "loss, accuracy = model.evaluate(encoded_X_train, y_train, verbose=False)\n",
    "print(\"Training Accuracy: {:.4f}\".format(accuracy))\n",
    "loss, accuracy = model.evaluate(encoded_X_test, y_test, verbose=False)\n",
    "print(\"Testing Accuracy:  {:.4f}\".format(accuracy))"
   ]
  },
  {
   "cell_type": "markdown",
   "metadata": {},
   "source": [
    "**11-Recurrent Neural Networks**"
   ]
  },
  {
   "cell_type": "code",
   "execution_count": 86,
   "metadata": {},
   "outputs": [],
   "source": [
    "model = tf.keras.Sequential([\n",
    "        Embedding(input_dim=vocab_size, output_dim=embedding_dim, input_length=max_length),\n",
    "        LSTM(32, return_sequences=False),  \n",
    "        Dropout(0.2),      \n",
    "        Dense(1, activation='sigmoid')])"
   ]
  },
  {
   "cell_type": "code",
   "execution_count": 87,
   "metadata": {},
   "outputs": [],
   "source": [
    "model.compile(optimizer='adam',\n",
    "              loss='binary_crossentropy',\n",
    "              metrics=['accuracy'])"
   ]
  },
  {
   "cell_type": "code",
   "execution_count": 88,
   "metadata": {},
   "outputs": [
    {
     "name": "stdout",
     "output_type": "stream",
     "text": [
      "Epoch 1/50\n",
      "822/822 [==============================] - 108s 125ms/step - loss: 0.4478 - accuracy: 0.7881 - val_loss: 0.2675 - val_accuracy: 0.8935\n",
      "Epoch 2/50\n",
      "822/822 [==============================] - 101s 123ms/step - loss: 0.1275 - accuracy: 0.9538 - val_loss: 0.2457 - val_accuracy: 0.9112\n",
      "Epoch 3/50\n",
      "822/822 [==============================] - 96s 117ms/step - loss: 0.0415 - accuracy: 0.9871 - val_loss: 0.2835 - val_accuracy: 0.9115\n",
      "Epoch 4/50\n",
      "822/822 [==============================] - 99s 121ms/step - loss: 0.0187 - accuracy: 0.9944 - val_loss: 0.3441 - val_accuracy: 0.9133\n",
      "Epoch 5/50\n",
      "822/822 [==============================] - 91s 111ms/step - loss: 0.0121 - accuracy: 0.9956 - val_loss: 0.4070 - val_accuracy: 0.9084\n",
      "Epoch 6/50\n",
      "822/822 [==============================] - 102s 124ms/step - loss: 0.0082 - accuracy: 0.9972 - val_loss: 0.4206 - val_accuracy: 0.9081\n",
      "Epoch 7/50\n",
      "822/822 [==============================] - 104s 127ms/step - loss: 0.0071 - accuracy: 0.9976 - val_loss: 0.4624 - val_accuracy: 0.9118\n",
      "Epoch 8/50\n",
      "822/822 [==============================] - 93s 113ms/step - loss: 0.0053 - accuracy: 0.9983 - val_loss: 0.5923 - val_accuracy: 0.9054\n",
      "Epoch 9/50\n",
      "822/822 [==============================] - 89s 108ms/step - loss: 0.0101 - accuracy: 0.9969 - val_loss: 0.4881 - val_accuracy: 0.9057\n"
     ]
    }
   ],
   "source": [
    "history = model.fit(encoded_X_train, y_train,\n",
    "                    epochs=50,\n",
    "                    validation_data=(encoded_X_test, y_test),\n",
    "                    batch_size=16,\n",
    "                    callbacks=[Callback])"
   ]
  },
  {
   "cell_type": "code",
   "execution_count": 89,
   "metadata": {},
   "outputs": [
    {
     "name": "stdout",
     "output_type": "stream",
     "text": [
      "Training Accuracy: 0.9987\n",
      "Testing Accuracy:  0.9057\n"
     ]
    }
   ],
   "source": [
    "loss, accuracy = model.evaluate(encoded_X_train, y_train, verbose=False)\n",
    "print(\"Training Accuracy: {:.4f}\".format(accuracy))\n",
    "loss, accuracy = model.evaluate(encoded_X_test, y_test, verbose=False)\n",
    "print(\"Testing Accuracy:  {:.4f}\".format(accuracy))"
   ]
  },
  {
   "cell_type": "code",
   "execution_count": null,
   "metadata": {},
   "outputs": [],
   "source": []
  }
 ],
 "metadata": {
  "kernelspec": {
   "display_name": "Python 3",
   "language": "python",
   "name": "python3"
  },
  "language_info": {
   "codemirror_mode": {
    "name": "ipython",
    "version": 3
   },
   "file_extension": ".py",
   "mimetype": "text/x-python",
   "name": "python",
   "nbconvert_exporter": "python",
   "pygments_lexer": "ipython3",
   "version": "3.11.4"
  },
  "orig_nbformat": 4
 },
 "nbformat": 4,
 "nbformat_minor": 2
}
