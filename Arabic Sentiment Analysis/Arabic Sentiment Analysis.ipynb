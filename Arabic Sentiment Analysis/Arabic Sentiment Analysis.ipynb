{
 "cells": [
  {
   "cell_type": "markdown",
   "metadata": {},
   "source": [
    "# Import Libraries\n"
   ]
  },
  {
   "cell_type": "code",
   "execution_count": 1,
   "metadata": {},
   "outputs": [],
   "source": [
    "import pandas as pd\n",
    "import numpy as np\n",
    "import os\n",
    "import nltk\n",
    "import tensorflow as tf\n",
    "from keras.layers import *\n",
    "from tensorflow import *\n",
    "from keras.preprocessing.sequence import pad_sequences\n",
    "from keras.preprocessing.text import Tokenizer\n",
    "from keras.preprocessing import *\n",
    "from nltk.tokenize import word_tokenize, sent_tokenize\n",
    "from sklearn.tree import DecisionTreeClassifier\n",
    "from sklearn.naive_bayes import MultinomialNB\n",
    "from sklearn.neighbors import KNeighborsClassifier\n",
    "from sklearn.linear_model import LogisticRegression\n",
    "from sklearn.ensemble import RandomForestClassifier\n",
    "from sklearn.svm import SVC\n",
    "from sklearn.neural_network import MLPClassifier\n",
    "from sklearn.linear_model import SGDClassifier\n",
    "from sklearn.model_selection import train_test_split\n",
    "from sklearn.feature_extraction.text import  CountVectorizer\n",
    "from sklearn.preprocessing import LabelEncoder, OneHotEncoder\n",
    "import warnings\n",
    "import csv\n",
    "import random\n",
    "from collections import Counter\n",
    "from utils.textnormalization import TextNormalization\n",
    "from utils.machinelearning import machine_learning_model, fit_model, metrics_values, confusion_matrix_\n",
    "from utils.deeplearning import convolutional_neural_network_1d, model_compile, model_fit, evaluate, plot_accuracy_loss, lstm_, gru_\n",
    "from utils.sentimentinformation import sentiment_percentage, sentiment_counts\n",
    "from utils.wordcloud import wordcloud\n",
    "from utils.most_frequent_word_plot import go_figure , bar_plot\n",
    "from utils.deeplearning_preprcosesing import  deeplearning_preprcosesing_\n",
    "pd.options.display.max_rows = 100\n",
    "pd.options.display.max_columns =None \n",
    "import arabic_reshaper\n",
    "from bidi.algorithm import get_display\n",
    "tf.keras.utils.set_random_seed(1)\n",
    "tf.config.experimental.enable_op_determinism()"
   ]
  },
  {
   "cell_type": "markdown",
   "metadata": {},
   "source": [
    "# Download Some Packages"
   ]
  },
  {
   "cell_type": "code",
   "execution_count": 2,
   "metadata": {},
   "outputs": [
    {
     "name": "stderr",
     "output_type": "stream",
     "text": [
      "[nltk_data] Downloading package punkt to\n",
      "[nltk_data]     /Users/osamaanmar/nltk_data...\n",
      "[nltk_data]   Package punkt is already up-to-date!\n",
      "[nltk_data] Downloading package wordnet to\n",
      "[nltk_data]     /Users/osamaanmar/nltk_data...\n",
      "[nltk_data]   Package wordnet is already up-to-date!\n",
      "[nltk_data] Downloading package stopwords to\n",
      "[nltk_data]     /Users/osamaanmar/nltk_data...\n",
      "[nltk_data]   Package stopwords is already up-to-date!\n",
      "[nltk_data] Downloading package averaged_perceptron_tagger to\n",
      "[nltk_data]     /Users/osamaanmar/nltk_data...\n",
      "[nltk_data]   Package averaged_perceptron_tagger is already up-to-\n",
      "[nltk_data]       date!\n"
     ]
    },
    {
     "data": {
      "text/plain": [
       "True"
      ]
     },
     "execution_count": 2,
     "metadata": {},
     "output_type": "execute_result"
    }
   ],
   "source": [
    "nltk.download('punkt')\n",
    "nltk.download('wordnet')\n",
    "nltk.download('stopwords')\n",
    "nltk.download('averaged_perceptron_tagger')"
   ]
  },
  {
   "cell_type": "markdown",
   "metadata": {},
   "source": [
    "# Ignore Warnings"
   ]
  },
  {
   "cell_type": "code",
   "execution_count": 3,
   "metadata": {},
   "outputs": [],
   "source": [
    "os.environ['TF_CPP_MIN_LOG_LEVEL'] = '3'\n",
    "warnings.filterwarnings(action='ignore')"
   ]
  },
  {
   "cell_type": "markdown",
   "metadata": {},
   "source": [
    "# Read Data"
   ]
  },
  {
   "cell_type": "code",
   "execution_count": 4,
   "metadata": {},
   "outputs": [
    {
     "data": {
      "text/html": [
       "<div>\n",
       "<style scoped>\n",
       "    .dataframe tbody tr th:only-of-type {\n",
       "        vertical-align: middle;\n",
       "    }\n",
       "\n",
       "    .dataframe tbody tr th {\n",
       "        vertical-align: top;\n",
       "    }\n",
       "\n",
       "    .dataframe thead th {\n",
       "        text-align: right;\n",
       "    }\n",
       "</style>\n",
       "<table border=\"1\" class=\"dataframe\">\n",
       "  <thead>\n",
       "    <tr style=\"text-align: right;\">\n",
       "      <th></th>\n",
       "      <th>Review</th>\n",
       "      <th>Sentiment</th>\n",
       "    </tr>\n",
       "  </thead>\n",
       "  <tbody>\n",
       "    <tr>\n",
       "      <th>21758</th>\n",
       "      <td>Nbiii Fridaays♡.♡!!!!</td>\n",
       "      <td>Neutral</td>\n",
       "    </tr>\n",
       "    <tr>\n",
       "      <th>36230</th>\n",
       "      <td>ينفع وقت اليوع</td>\n",
       "      <td>Positive</td>\n",
       "    </tr>\n",
       "    <tr>\n",
       "      <th>31228</th>\n",
       "      <td>ممتاز يمش</td>\n",
       "      <td>Negative</td>\n",
       "    </tr>\n",
       "    <tr>\n",
       "      <th>43757</th>\n",
       "      <td>البرنامج  رائع جدا جدا جدا</td>\n",
       "      <td>Positive</td>\n",
       "    </tr>\n",
       "    <tr>\n",
       "      <th>7751</th>\n",
       "      <td>لا للتسعيره الجديده</td>\n",
       "      <td>Negative</td>\n",
       "    </tr>\n",
       "    <tr>\n",
       "      <th>49100</th>\n",
       "      <td>لا جديد يذكر ... عزيز زي ما هو ندل وجمانه ضعيف...</td>\n",
       "      <td>Neutral</td>\n",
       "    </tr>\n",
       "    <tr>\n",
       "      <th>20609</th>\n",
       "      <td>مقابل مسجد الجوزاء</td>\n",
       "      <td>Neutral</td>\n",
       "    </tr>\n",
       "    <tr>\n",
       "      <th>21440</th>\n",
       "      <td>بناية مطعم كاس الخليج فرع الفطائر</td>\n",
       "      <td>Positive</td>\n",
       "    </tr>\n",
       "    <tr>\n",
       "      <th>50057</th>\n",
       "      <td>مرضي. الباص للحرم.</td>\n",
       "      <td>Neutral</td>\n",
       "    </tr>\n",
       "    <tr>\n",
       "      <th>5192</th>\n",
       "      <td>عايز اطلب والتطبيق مش بيفتح</td>\n",
       "      <td>Negative</td>\n",
       "    </tr>\n",
       "  </tbody>\n",
       "</table>\n",
       "</div>"
      ],
      "text/plain": [
       "                                                  Review Sentiment\n",
       "21758                              Nbiii Fridaays♡.♡!!!!   Neutral\n",
       "36230                                     ينفع وقت اليوع  Positive\n",
       "31228                                          ممتاز يمش  Negative\n",
       "43757                         البرنامج  رائع جدا جدا جدا  Positive\n",
       "7751                                 لا للتسعيره الجديده  Negative\n",
       "49100  لا جديد يذكر ... عزيز زي ما هو ندل وجمانه ضعيف...   Neutral\n",
       "20609                                 مقابل مسجد الجوزاء   Neutral\n",
       "21440                  بناية مطعم كاس الخليج فرع الفطائر  Positive\n",
       "50057                                 مرضي. الباص للحرم.   Neutral\n",
       "5192                         عايز اطلب والتطبيق مش بيفتح  Negative"
      ]
     },
     "execution_count": 4,
     "metadata": {},
     "output_type": "execute_result"
    }
   ],
   "source": [
    "Corpus = pd.read_excel('original_dataset.xlsx')\n",
    "Corpus.rename(columns={'rating': 'Sentiment', 'review_description': 'Review'}, inplace=True)\n",
    "Corpus['Review'] = Corpus['Review'].astype(str)\n",
    "Corpus.drop(columns=['Unnamed: 0', 'company'], axis=1, inplace=True)\n",
    "Corpus = Corpus.sample(frac = 1)\n",
    "Corpus.tail(10)"
   ]
  },
  {
   "cell_type": "markdown",
   "metadata": {},
   "source": [
    "# Sentiment Information"
   ]
  },
  {
   "cell_type": "code",
   "execution_count": 5,
   "metadata": {},
   "outputs": [
    {
     "data": {
      "image/png": "[encoded data removed]",
      "text/plain": [
       "<Figure size 600x600 with 1 Axes>"
      ]
     },
     "metadata": {},
     "output_type": "display_data"
    }
   ],
   "source": [
    "sentiment_percentage(Corpus, 'Sentiment', (6, 6))"
   ]
  },
  {
   "cell_type": "code",
   "execution_count": 6,
   "metadata": {},
   "outputs": [
    {
     "data": {
      "image/png": "[encoded data removed]",
      "text/plain": [
       "<Figure size 600x600 with 1 Axes>"
      ]
     },
     "metadata": {},
     "output_type": "display_data"
    }
   ],
   "source": [
    "sentiment_counts(Corpus, 'Sentiment', (6, 6))"
   ]
  },
  {
   "cell_type": "markdown",
   "metadata": {},
   "source": [
    "# Number Of Sentences"
   ]
  },
  {
   "cell_type": "code",
   "execution_count": 7,
   "metadata": {},
   "outputs": [],
   "source": [
    "Corpus['NumberOfSentences'] = Corpus['Review'].apply(lambda n:len(sent_tokenize(n)))\n",
    "Corpus.drop(Corpus[Corpus[\"NumberOfSentences\"] == 0].index, inplace = True)\n"
   ]
  },
  {
   "cell_type": "code",
   "execution_count": 8,
   "metadata": {},
   "outputs": [
    {
     "data": {
      "text/plain": [
       "121704"
      ]
     },
     "execution_count": 8,
     "metadata": {},
     "output_type": "execute_result"
    }
   ],
   "source": [
    "Corpus['NumberOfSentences'].sum()"
   ]
  },
  {
   "cell_type": "markdown",
   "metadata": {},
   "source": [
    "# Average Number Of Sentences"
   ]
  },
  {
   "cell_type": "code",
   "execution_count": 9,
   "metadata": {},
   "outputs": [
    {
     "data": {
      "text/plain": [
       "2"
      ]
     },
     "execution_count": 9,
     "metadata": {},
     "output_type": "execute_result"
    }
   ],
   "source": [
    "AverageNumberOfSentence = int(np.round(Corpus[\"NumberOfSentences\"].mean()))\n",
    "AverageNumberOfSentence"
   ]
  },
  {
   "cell_type": "markdown",
   "metadata": {},
   "source": [
    "# Maximum Number Of Sentences"
   ]
  },
  {
   "cell_type": "code",
   "execution_count": 10,
   "metadata": {},
   "outputs": [
    {
     "data": {
      "text/plain": [
       "176"
      ]
     },
     "execution_count": 10,
     "metadata": {},
     "output_type": "execute_result"
    }
   ],
   "source": [
    "MaximumNumberOfSentence = Corpus[\"NumberOfSentences\"].max()\n",
    "MaximumNumberOfSentence"
   ]
  },
  {
   "cell_type": "markdown",
   "metadata": {},
   "source": [
    "# Minimum Number Of Sentences"
   ]
  },
  {
   "cell_type": "code",
   "execution_count": 11,
   "metadata": {},
   "outputs": [
    {
     "data": {
      "text/plain": [
       "1"
      ]
     },
     "execution_count": 11,
     "metadata": {},
     "output_type": "execute_result"
    }
   ],
   "source": [
    "MinimumNumberOfSentence = Corpus[\"NumberOfSentences\"].min()\n",
    "MinimumNumberOfSentence"
   ]
  },
  {
   "cell_type": "markdown",
   "metadata": {},
   "source": [
    "# Text Normalization"
   ]
  },
  {
   "cell_type": "code",
   "execution_count": 12,
   "metadata": {},
   "outputs": [],
   "source": [
    "text_normalization = TextNormalization(_remove_emojis = True,\n",
    "                                        _remove_hashtags = True,\n",
    "                                        _remove_emails = True ,\n",
    "                                        _remove_url = True,\n",
    "                                        _remove_mention = True,\n",
    "                                        _remove_duplicate_char = True,\n",
    "                                        _remove_single_char = True,\n",
    "                                        _remove_special_character_ = True,\n",
    "                                        _remove_new_line_char = True,\n",
    "                                        _remove_number = True,\n",
    "                                        _remove_html_tags = True,\n",
    "                                        _remove_arabic_diacritics_ = True,\n",
    "                                        _normalize_arabic_unicode_ = True,\n",
    "                                        _normalize_alef_maksura_ar_ = True,\n",
    "                                        _normalize_alef_ar_ = True,\n",
    "                                        _normalize_teh_marbuta_ar_ = True,\n",
    "                                        _remove_non_arabic = True,\n",
    "                                        _remove_whitespace_ = True,\n",
    "                                        _remove_unicode_characters_ = True,\n",
    "                                        _remove_longest_than_ = True,\n",
    "                                        _remove_stop_words = True,\n",
    "                                        _lemmatizer_ = False,\n",
    "                                        _stemmer_ = False)"
   ]
  },
  {
   "cell_type": "code",
   "execution_count": 13,
   "metadata": {},
   "outputs": [
    {
     "data": {
      "text/html": [
       "<div>\n",
       "<style scoped>\n",
       "    .dataframe tbody tr th:only-of-type {\n",
       "        vertical-align: middle;\n",
       "    }\n",
       "\n",
       "    .dataframe tbody tr th {\n",
       "        vertical-align: top;\n",
       "    }\n",
       "\n",
       "    .dataframe thead th {\n",
       "        text-align: right;\n",
       "    }\n",
       "</style>\n",
       "<table border=\"1\" class=\"dataframe\">\n",
       "  <thead>\n",
       "    <tr style=\"text-align: right;\">\n",
       "      <th></th>\n",
       "      <th>Review</th>\n",
       "      <th>Sentiment</th>\n",
       "      <th>NumberOfSentences</th>\n",
       "      <th>Normalized_Review</th>\n",
       "    </tr>\n",
       "  </thead>\n",
       "  <tbody>\n",
       "    <tr>\n",
       "      <th>49100</th>\n",
       "      <td>لا جديد يذكر ... عزيز زي ما هو ندل وجمانه ضعيف...</td>\n",
       "      <td>Neutral</td>\n",
       "      <td>1</td>\n",
       "      <td>جديد عزيز زي ندل وجمانه ضعيفه وسلبيه وكمان غبيه</td>\n",
       "    </tr>\n",
       "    <tr>\n",
       "      <th>20609</th>\n",
       "      <td>مقابل مسجد الجوزاء</td>\n",
       "      <td>Neutral</td>\n",
       "      <td>1</td>\n",
       "      <td>مسجد الجوزاء</td>\n",
       "    </tr>\n",
       "    <tr>\n",
       "      <th>21440</th>\n",
       "      <td>بناية مطعم كاس الخليج فرع الفطائر</td>\n",
       "      <td>Positive</td>\n",
       "      <td>1</td>\n",
       "      <td>بنايه مطعم كاس الخليج فرع الفطائر</td>\n",
       "    </tr>\n",
       "    <tr>\n",
       "      <th>50057</th>\n",
       "      <td>مرضي. الباص للحرم.</td>\n",
       "      <td>Neutral</td>\n",
       "      <td>2</td>\n",
       "      <td>مرضي الباص للحرم</td>\n",
       "    </tr>\n",
       "    <tr>\n",
       "      <th>5192</th>\n",
       "      <td>عايز اطلب والتطبيق مش بيفتح</td>\n",
       "      <td>Negative</td>\n",
       "      <td>1</td>\n",
       "      <td>عايز اطلب والتطبيق مش بيفتح</td>\n",
       "    </tr>\n",
       "  </tbody>\n",
       "</table>\n",
       "</div>"
      ],
      "text/plain": [
       "                                                  Review Sentiment  \\\n",
       "49100  لا جديد يذكر ... عزيز زي ما هو ندل وجمانه ضعيف...   Neutral   \n",
       "20609                                 مقابل مسجد الجوزاء   Neutral   \n",
       "21440                  بناية مطعم كاس الخليج فرع الفطائر  Positive   \n",
       "50057                                 مرضي. الباص للحرم.   Neutral   \n",
       "5192                         عايز اطلب والتطبيق مش بيفتح  Negative   \n",
       "\n",
       "       NumberOfSentences                                Normalized_Review  \n",
       "49100                  1  جديد عزيز زي ندل وجمانه ضعيفه وسلبيه وكمان غبيه  \n",
       "20609                  1                                     مسجد الجوزاء  \n",
       "21440                  1                بنايه مطعم كاس الخليج فرع الفطائر  \n",
       "50057                  2                                 مرضي الباص للحرم  \n",
       "5192                   1                      عايز اطلب والتطبيق مش بيفتح  "
      ]
     },
     "execution_count": 13,
     "metadata": {},
     "output_type": "execute_result"
    }
   ],
   "source": [
    "Corpus['Normalized_Review'] = Corpus['Review'].apply(lambda x: text_normalization.normalization(x))\n",
    "Corpus.tail(5)"
   ]
  },
  {
   "cell_type": "code",
   "execution_count": 14,
   "metadata": {},
   "outputs": [],
   "source": [
    "Corpus.dropna(axis=1, inplace=True)"
   ]
  },
  {
   "cell_type": "markdown",
   "metadata": {},
   "source": [
    "# Number Of Unique Words"
   ]
  },
  {
   "cell_type": "code",
   "execution_count": 15,
   "metadata": {},
   "outputs": [
    {
     "data": {
      "text/plain": [
       "136658"
      ]
     },
     "execution_count": 15,
     "metadata": {},
     "output_type": "execute_result"
    }
   ],
   "source": [
    "UniqueWords = set()\n",
    "for word in Corpus['Normalized_Review'].str.split():\n",
    "    UniqueWords.update(word)\n",
    "\n",
    "len(UniqueWords)"
   ]
  },
  {
   "cell_type": "markdown",
   "metadata": {},
   "source": [
    "# WordCloud"
   ]
  },
  {
   "cell_type": "code",
   "execution_count": 16,
   "metadata": {},
   "outputs": [
    {
     "data": {
      "image/png": "[encoded data removed]",
      "text/plain": [
       "<Figure size 640x480 with 1 Axes>"
      ]
     },
     "metadata": {},
     "output_type": "display_data"
    }
   ],
   "source": [
    "wordcloud(data=Corpus, target='Negative', width=2000, hieght=1000, text='Normalized_Review')"
   ]
  },
  {
   "cell_type": "code",
   "execution_count": 17,
   "metadata": {},
   "outputs": [
    {
     "data": {
      "image/png": "[encoded data removed]",
      "text/plain": [
       "<Figure size 640x480 with 1 Axes>"
      ]
     },
     "metadata": {},
     "output_type": "display_data"
    }
   ],
   "source": [
    "wordcloud(data=Corpus, target='Positive', width=2000, hieght=1000, text='Normalized_Review')"
   ]
  },
  {
   "cell_type": "markdown",
   "metadata": {},
   "source": [
    "# Most Frequent Words "
   ]
  },
  {
   "cell_type": "code",
   "execution_count": 18,
   "metadata": {},
   "outputs": [
    {
     "data": {
      "text/html": [
       "<div>\n",
       "<style scoped>\n",
       "    .dataframe tbody tr th:only-of-type {\n",
       "        vertical-align: middle;\n",
       "    }\n",
       "\n",
       "    .dataframe tbody tr th {\n",
       "        vertical-align: top;\n",
       "    }\n",
       "\n",
       "    .dataframe thead th {\n",
       "        text-align: right;\n",
       "    }\n",
       "</style>\n",
       "<table border=\"1\" class=\"dataframe\">\n",
       "  <thead>\n",
       "    <tr style=\"text-align: right;\">\n",
       "      <th></th>\n",
       "      <th>Word</th>\n",
       "      <th>Count</th>\n",
       "    </tr>\n",
       "  </thead>\n",
       "  <tbody>\n",
       "    <tr>\n",
       "      <th>0</th>\n",
       "      <td>التطبيق</td>\n",
       "      <td>5878</td>\n",
       "    </tr>\n",
       "    <tr>\n",
       "      <th>1</th>\n",
       "      <td>الروايه</td>\n",
       "      <td>5684</td>\n",
       "    </tr>\n",
       "    <tr>\n",
       "      <th>2</th>\n",
       "      <td>الكتاب</td>\n",
       "      <td>5492</td>\n",
       "    </tr>\n",
       "    <tr>\n",
       "      <th>3</th>\n",
       "      <td>تطبيق</td>\n",
       "      <td>4652</td>\n",
       "    </tr>\n",
       "    <tr>\n",
       "      <th>4</th>\n",
       "      <td>مش</td>\n",
       "      <td>3793</td>\n",
       "    </tr>\n",
       "    <tr>\n",
       "      <th>5</th>\n",
       "      <td>ممتاز</td>\n",
       "      <td>3480</td>\n",
       "    </tr>\n",
       "    <tr>\n",
       "      <th>6</th>\n",
       "      <td>الفندق</td>\n",
       "      <td>3357</td>\n",
       "    </tr>\n",
       "    <tr>\n",
       "      <th>7</th>\n",
       "      <td>الله</td>\n",
       "      <td>3330</td>\n",
       "    </tr>\n",
       "    <tr>\n",
       "      <th>8</th>\n",
       "      <td>اللي</td>\n",
       "      <td>3272</td>\n",
       "    </tr>\n",
       "    <tr>\n",
       "      <th>9</th>\n",
       "      <td>البرنامج</td>\n",
       "      <td>3102</td>\n",
       "    </tr>\n",
       "    <tr>\n",
       "      <th>10</th>\n",
       "      <td>جيد</td>\n",
       "      <td>3071</td>\n",
       "    </tr>\n",
       "    <tr>\n",
       "      <th>11</th>\n",
       "      <td>جميل</td>\n",
       "      <td>2806</td>\n",
       "    </tr>\n",
       "    <tr>\n",
       "      <th>12</th>\n",
       "      <td>خدمه</td>\n",
       "      <td>2795</td>\n",
       "    </tr>\n",
       "    <tr>\n",
       "      <th>13</th>\n",
       "      <td>الكاتب</td>\n",
       "      <td>2628</td>\n",
       "    </tr>\n",
       "    <tr>\n",
       "      <th>14</th>\n",
       "      <td>برنامج</td>\n",
       "      <td>2605</td>\n",
       "    </tr>\n",
       "  </tbody>\n",
       "</table>\n",
       "</div>"
      ],
      "text/plain": [
       "        Word  Count\n",
       "0    التطبيق   5878\n",
       "1    الروايه   5684\n",
       "2     الكتاب   5492\n",
       "3      تطبيق   4652\n",
       "4         مش   3793\n",
       "5      ممتاز   3480\n",
       "6     الفندق   3357\n",
       "7       الله   3330\n",
       "8       اللي   3272\n",
       "9   البرنامج   3102\n",
       "10       جيد   3071\n",
       "11      جميل   2806\n",
       "12      خدمه   2795\n",
       "13    الكاتب   2628\n",
       "14    برنامج   2605"
      ]
     },
     "execution_count": 18,
     "metadata": {},
     "output_type": "execute_result"
    }
   ],
   "source": [
    "MostFrequentWord = Counter((Corpus['Normalized_Review']).str.split().explode()).most_common(15)\n",
    "MostFrequentWordDF = pd.DataFrame(MostFrequentWord, columns=('Word', 'Count'))\n",
    "MostFrequentWordDF"
   ]
  },
  {
   "cell_type": "code",
   "execution_count": 19,
   "metadata": {},
   "outputs": [
    {
     "data": {
      "application/vnd.plotly.v1+json": {
       "config": {
        "plotlyServerURL": "https://plot.ly"
       },
       "data": [
        {
         "marker": {
          "color": [
           "Salmon",
           "FireBrick",
           "MediumVioletRed",
           "Tomato",
           "Orange",
           "Gold",
           "DarkKhaki",
           "Lavender",
           "Plum",
           "LimeGreen",
           "MediumSpringGreen",
           "Green",
           "DeepSkyBlue",
           "Aquamarine",
           "MediumSlateBlue"
          ]
         },
         "type": "funnel",
         "x": [
          5878,
          5684,
          5492,
          4652,
          3793,
          3480,
          3357,
          3330,
          3272,
          3102,
          3071,
          2806,
          2795,
          2628,
          2605
         ],
         "y": [
          "التطبيق",
          "الروايه",
          "الكتاب",
          "تطبيق",
          "مش",
          "ممتاز",
          "الفندق",
          "الله",
          "اللي",
          "البرنامج",
          "جيد",
          "جميل",
          "خدمه",
          "الكاتب",
          "برنامج"
         ]
        }
       ],
       "layout": {
        "template": {
         "data": {
          "bar": [
           {
            "error_x": {
             "color": "#2a3f5f"
            },
            "error_y": {
             "color": "#2a3f5f"
            },
            "marker": {
             "line": {
              "color": "#E5ECF6",
              "width": 0.5
             },
             "pattern": {
              "fillmode": "overlay",
              "size": 10,
              "solidity": 0.2
             }
            },
            "type": "bar"
           }
          ],
          "barpolar": [
           {
            "marker": {
             "line": {
              "color": "#E5ECF6",
              "width": 0.5
             },
             "pattern": {
              "fillmode": "overlay",
              "size": 10,
              "solidity": 0.2
             }
            },
            "type": "barpolar"
           }
          ],
          "carpet": [
           {
            "aaxis": {
             "endlinecolor": "#2a3f5f",
             "gridcolor": "white",
             "linecolor": "white",
             "minorgridcolor": "white",
             "startlinecolor": "#2a3f5f"
            },
            "baxis": {
             "endlinecolor": "#2a3f5f",
             "gridcolor": "white",
             "linecolor": "white",
             "minorgridcolor": "white",
             "startlinecolor": "#2a3f5f"
            },
            "type": "carpet"
           }
          ],
          "choropleth": [
           {
            "colorbar": {
             "outlinewidth": 0,
             "ticks": ""
            },
            "type": "choropleth"
           }
          ],
          "contour": [
           {
            "colorbar": {
             "outlinewidth": 0,
             "ticks": ""
            },
            "colorscale": [
             [
              0,
              "#0d0887"
             ],
             [
              0.1111111111111111,
              "#46039f"
             ],
             [
              0.2222222222222222,
              "#7201a8"
             ],
             [
              0.3333333333333333,
              "#9c179e"
             ],
             [
              0.4444444444444444,
              "#bd3786"
             ],
             [
              0.5555555555555556,
              "#d8576b"
             ],
             [
              0.6666666666666666,
              "#ed7953"
             ],
             [
              0.7777777777777778,
              "#fb9f3a"
             ],
             [
              0.8888888888888888,
              "#fdca26"
             ],
             [
              1,
              "#f0f921"
             ]
            ],
            "type": "contour"
           }
          ],
          "contourcarpet": [
           {
            "colorbar": {
             "outlinewidth": 0,
             "ticks": ""
            },
            "type": "contourcarpet"
           }
          ],
          "heatmap": [
           {
            "colorbar": {
             "outlinewidth": 0,
             "ticks": ""
            },
            "colorscale": [
             [
              0,
              "#0d0887"
             ],
             [
              0.1111111111111111,
              "#46039f"
             ],
             [
              0.2222222222222222,
              "#7201a8"
             ],
             [
              0.3333333333333333,
              "#9c179e"
             ],
             [
              0.4444444444444444,
              "#bd3786"
             ],
             [
              0.5555555555555556,
              "#d8576b"
             ],
             [
              0.6666666666666666,
              "#ed7953"
             ],
             [
              0.7777777777777778,
              "#fb9f3a"
             ],
             [
              0.8888888888888888,
              "#fdca26"
             ],
             [
              1,
              "#f0f921"
             ]
            ],
            "type": "heatmap"
           }
          ],
          "heatmapgl": [
           {
            "colorbar": {
             "outlinewidth": 0,
             "ticks": ""
            },
            "colorscale": [
             [
              0,
              "#0d0887"
             ],
             [
              0.1111111111111111,
              "#46039f"
             ],
             [
              0.2222222222222222,
              "#7201a8"
             ],
             [
              0.3333333333333333,
              "#9c179e"
             ],
             [
              0.4444444444444444,
              "#bd3786"
             ],
             [
              0.5555555555555556,
              "#d8576b"
             ],
             [
              0.6666666666666666,
              "#ed7953"
             ],
             [
              0.7777777777777778,
              "#fb9f3a"
             ],
             [
              0.8888888888888888,
              "#fdca26"
             ],
             [
              1,
              "#f0f921"
             ]
            ],
            "type": "heatmapgl"
           }
          ],
          "histogram": [
           {
            "marker": {
             "pattern": {
              "fillmode": "overlay",
              "size": 10,
              "solidity": 0.2
             }
            },
            "type": "histogram"
           }
          ],
          "histogram2d": [
           {
            "colorbar": {
             "outlinewidth": 0,
             "ticks": ""
            },
            "colorscale": [
             [
              0,
              "#0d0887"
             ],
             [
              0.1111111111111111,
              "#46039f"
             ],
             [
              0.2222222222222222,
              "#7201a8"
             ],
             [
              0.3333333333333333,
              "#9c179e"
             ],
             [
              0.4444444444444444,
              "#bd3786"
             ],
             [
              0.5555555555555556,
              "#d8576b"
             ],
             [
              0.6666666666666666,
              "#ed7953"
             ],
             [
              0.7777777777777778,
              "#fb9f3a"
             ],
             [
              0.8888888888888888,
              "#fdca26"
             ],
             [
              1,
              "#f0f921"
             ]
            ],
            "type": "histogram2d"
           }
          ],
          "histogram2dcontour": [
           {
            "colorbar": {
             "outlinewidth": 0,
             "ticks": ""
            },
            "colorscale": [
             [
              0,
              "#0d0887"
             ],
             [
              0.1111111111111111,
              "#46039f"
             ],
             [
              0.2222222222222222,
              "#7201a8"
             ],
             [
              0.3333333333333333,
              "#9c179e"
             ],
             [
              0.4444444444444444,
              "#bd3786"
             ],
             [
              0.5555555555555556,
              "#d8576b"
             ],
             [
              0.6666666666666666,
              "#ed7953"
             ],
             [
              0.7777777777777778,
              "#fb9f3a"
             ],
             [
              0.8888888888888888,
              "#fdca26"
             ],
             [
              1,
              "#f0f921"
             ]
            ],
            "type": "histogram2dcontour"
           }
          ],
          "mesh3d": [
           {
            "colorbar": {
             "outlinewidth": 0,
             "ticks": ""
            },
            "type": "mesh3d"
           }
          ],
          "parcoords": [
           {
            "line": {
             "colorbar": {
              "outlinewidth": 0,
              "ticks": ""
             }
            },
            "type": "parcoords"
           }
          ],
          "pie": [
           {
            "automargin": true,
            "type": "pie"
           }
          ],
          "scatter": [
           {
            "fillpattern": {
             "fillmode": "overlay",
             "size": 10,
             "solidity": 0.2
            },
            "type": "scatter"
           }
          ],
          "scatter3d": [
           {
            "line": {
             "colorbar": {
              "outlinewidth": 0,
              "ticks": ""
             }
            },
            "marker": {
             "colorbar": {
              "outlinewidth": 0,
              "ticks": ""
             }
            },
            "type": "scatter3d"
           }
          ],
          "scattercarpet": [
           {
            "marker": {
             "colorbar": {
              "outlinewidth": 0,
              "ticks": ""
             }
            },
            "type": "scattercarpet"
           }
          ],
          "scattergeo": [
           {
            "marker": {
             "colorbar": {
              "outlinewidth": 0,
              "ticks": ""
             }
            },
            "type": "scattergeo"
           }
          ],
          "scattergl": [
           {
            "marker": {
             "colorbar": {
              "outlinewidth": 0,
              "ticks": ""
             }
            },
            "type": "scattergl"
           }
          ],
          "scattermapbox": [
           {
            "marker": {
             "colorbar": {
              "outlinewidth": 0,
              "ticks": ""
             }
            },
            "type": "scattermapbox"
           }
          ],
          "scatterpolar": [
           {
            "marker": {
             "colorbar": {
              "outlinewidth": 0,
              "ticks": ""
             }
            },
            "type": "scatterpolar"
           }
          ],
          "scatterpolargl": [
           {
            "marker": {
             "colorbar": {
              "outlinewidth": 0,
              "ticks": ""
             }
            },
            "type": "scatterpolargl"
           }
          ],
          "scatterternary": [
           {
            "marker": {
             "colorbar": {
              "outlinewidth": 0,
              "ticks": ""
             }
            },
            "type": "scatterternary"
           }
          ],
          "surface": [
           {
            "colorbar": {
             "outlinewidth": 0,
             "ticks": ""
            },
            "colorscale": [
             [
              0,
              "#0d0887"
             ],
             [
              0.1111111111111111,
              "#46039f"
             ],
             [
              0.2222222222222222,
              "#7201a8"
             ],
             [
              0.3333333333333333,
              "#9c179e"
             ],
             [
              0.4444444444444444,
              "#bd3786"
             ],
             [
              0.5555555555555556,
              "#d8576b"
             ],
             [
              0.6666666666666666,
              "#ed7953"
             ],
             [
              0.7777777777777778,
              "#fb9f3a"
             ],
             [
              0.8888888888888888,
              "#fdca26"
             ],
             [
              1,
              "#f0f921"
             ]
            ],
            "type": "surface"
           }
          ],
          "table": [
           {
            "cells": {
             "fill": {
              "color": "#EBF0F8"
             },
             "line": {
              "color": "white"
             }
            },
            "header": {
             "fill": {
              "color": "#C8D4E3"
             },
             "line": {
              "color": "white"
             }
            },
            "type": "table"
           }
          ]
         },
         "layout": {
          "annotationdefaults": {
           "arrowcolor": "#2a3f5f",
           "arrowhead": 0,
           "arrowwidth": 1
          },
          "autotypenumbers": "strict",
          "coloraxis": {
           "colorbar": {
            "outlinewidth": 0,
            "ticks": ""
           }
          },
          "colorscale": {
           "diverging": [
            [
             0,
             "#8e0152"
            ],
            [
             0.1,
             "#c51b7d"
            ],
            [
             0.2,
             "#de77ae"
            ],
            [
             0.3,
             "#f1b6da"
            ],
            [
             0.4,
             "#fde0ef"
            ],
            [
             0.5,
             "#f7f7f7"
            ],
            [
             0.6,
             "#e6f5d0"
            ],
            [
             0.7,
             "#b8e186"
            ],
            [
             0.8,
             "#7fbc41"
            ],
            [
             0.9,
             "#4d9221"
            ],
            [
             1,
             "#276419"
            ]
           ],
           "sequential": [
            [
             0,
             "#0d0887"
            ],
            [
             0.1111111111111111,
             "#46039f"
            ],
            [
             0.2222222222222222,
             "#7201a8"
            ],
            [
             0.3333333333333333,
             "#9c179e"
            ],
            [
             0.4444444444444444,
             "#bd3786"
            ],
            [
             0.5555555555555556,
             "#d8576b"
            ],
            [
             0.6666666666666666,
             "#ed7953"
            ],
            [
             0.7777777777777778,
             "#fb9f3a"
            ],
            [
             0.8888888888888888,
             "#fdca26"
            ],
            [
             1,
             "#f0f921"
            ]
           ],
           "sequentialminus": [
            [
             0,
             "#0d0887"
            ],
            [
             0.1111111111111111,
             "#46039f"
            ],
            [
             0.2222222222222222,
             "#7201a8"
            ],
            [
             0.3333333333333333,
             "#9c179e"
            ],
            [
             0.4444444444444444,
             "#bd3786"
            ],
            [
             0.5555555555555556,
             "#d8576b"
            ],
            [
             0.6666666666666666,
             "#ed7953"
            ],
            [
             0.7777777777777778,
             "#fb9f3a"
            ],
            [
             0.8888888888888888,
             "#fdca26"
            ],
            [
             1,
             "#f0f921"
            ]
           ]
          },
          "colorway": [
           "#636efa",
           "#EF553B",
           "#00cc96",
           "#ab63fa",
           "#FFA15A",
           "#19d3f3",
           "#FF6692",
           "#B6E880",
           "#FF97FF",
           "#FECB52"
          ],
          "font": {
           "color": "#2a3f5f"
          },
          "geo": {
           "bgcolor": "white",
           "lakecolor": "white",
           "landcolor": "#E5ECF6",
           "showlakes": true,
           "showland": true,
           "subunitcolor": "white"
          },
          "hoverlabel": {
           "align": "left"
          },
          "hovermode": "closest",
          "mapbox": {
           "style": "light"
          },
          "paper_bgcolor": "white",
          "plot_bgcolor": "#E5ECF6",
          "polar": {
           "angularaxis": {
            "gridcolor": "white",
            "linecolor": "white",
            "ticks": ""
           },
           "bgcolor": "#E5ECF6",
           "radialaxis": {
            "gridcolor": "white",
            "linecolor": "white",
            "ticks": ""
           }
          },
          "scene": {
           "xaxis": {
            "backgroundcolor": "#E5ECF6",
            "gridcolor": "white",
            "gridwidth": 2,
            "linecolor": "white",
            "showbackground": true,
            "ticks": "",
            "zerolinecolor": "white"
           },
           "yaxis": {
            "backgroundcolor": "#E5ECF6",
            "gridcolor": "white",
            "gridwidth": 2,
            "linecolor": "white",
            "showbackground": true,
            "ticks": "",
            "zerolinecolor": "white"
           },
           "zaxis": {
            "backgroundcolor": "#E5ECF6",
            "gridcolor": "white",
            "gridwidth": 2,
            "linecolor": "white",
            "showbackground": true,
            "ticks": "",
            "zerolinecolor": "white"
           }
          },
          "shapedefaults": {
           "line": {
            "color": "#2a3f5f"
           }
          },
          "ternary": {
           "aaxis": {
            "gridcolor": "white",
            "linecolor": "white",
            "ticks": ""
           },
           "baxis": {
            "gridcolor": "white",
            "linecolor": "white",
            "ticks": ""
           },
           "bgcolor": "#E5ECF6",
           "caxis": {
            "gridcolor": "white",
            "linecolor": "white",
            "ticks": ""
           }
          },
          "title": {
           "x": 0.05
          },
          "xaxis": {
           "automargin": true,
           "gridcolor": "white",
           "linecolor": "white",
           "ticks": "",
           "title": {
            "standoff": 15
           },
           "zerolinecolor": "white",
           "zerolinewidth": 2
          },
          "yaxis": {
           "automargin": true,
           "gridcolor": "white",
           "linecolor": "white",
           "ticks": "",
           "title": {
            "standoff": 15
           },
           "zerolinecolor": "white",
           "zerolinewidth": 2
          }
         }
        }
       }
      }
     },
     "metadata": {},
     "output_type": "display_data"
    }
   ],
   "source": [
    "go_figure(data=MostFrequentWordDF)"
   ]
  },
  {
   "cell_type": "code",
   "execution_count": 20,
   "metadata": {},
   "outputs": [
    {
     "data": {
      "application/vnd.plotly.v1+json": {
       "config": {
        "plotlyServerURL": "https://plot.ly"
       },
       "data": [
        {
         "alignmentgroup": "True",
         "hovertemplate": "Count=%{x}<br>Word=%{y}<extra></extra>",
         "legendgroup": "",
         "marker": {
          "color": "#636efa",
          "pattern": {
           "shape": ""
          }
         },
         "name": "",
         "offsetgroup": "",
         "orientation": "h",
         "showlegend": false,
         "textposition": "auto",
         "type": "bar",
         "x": [
          5878,
          5684,
          5492,
          4652,
          3793,
          3480,
          3357,
          3330,
          3272,
          3102,
          3071,
          2806,
          2795,
          2628,
          2605
         ],
         "xaxis": "x",
         "y": [
          "التطبيق",
          "الروايه",
          "الكتاب",
          "تطبيق",
          "مش",
          "ممتاز",
          "الفندق",
          "الله",
          "اللي",
          "البرنامج",
          "جيد",
          "جميل",
          "خدمه",
          "الكاتب",
          "برنامج"
         ],
         "yaxis": "y"
        }
       ],
       "layout": {
        "barmode": "relative",
        "legend": {
         "tracegroupgap": 0
        },
        "margin": {
         "t": 60
        },
        "template": {
         "data": {
          "bar": [
           {
            "error_x": {
             "color": "#2a3f5f"
            },
            "error_y": {
             "color": "#2a3f5f"
            },
            "marker": {
             "line": {
              "color": "#E5ECF6",
              "width": 0.5
             },
             "pattern": {
              "fillmode": "overlay",
              "size": 10,
              "solidity": 0.2
             }
            },
            "type": "bar"
           }
          ],
          "barpolar": [
           {
            "marker": {
             "line": {
              "color": "#E5ECF6",
              "width": 0.5
             },
             "pattern": {
              "fillmode": "overlay",
              "size": 10,
              "solidity": 0.2
             }
            },
            "type": "barpolar"
           }
          ],
          "carpet": [
           {
            "aaxis": {
             "endlinecolor": "#2a3f5f",
             "gridcolor": "white",
             "linecolor": "white",
             "minorgridcolor": "white",
             "startlinecolor": "#2a3f5f"
            },
            "baxis": {
             "endlinecolor": "#2a3f5f",
             "gridcolor": "white",
             "linecolor": "white",
             "minorgridcolor": "white",
             "startlinecolor": "#2a3f5f"
            },
            "type": "carpet"
           }
          ],
          "choropleth": [
           {
            "colorbar": {
             "outlinewidth": 0,
             "ticks": ""
            },
            "type": "choropleth"
           }
          ],
          "contour": [
           {
            "colorbar": {
             "outlinewidth": 0,
             "ticks": ""
            },
            "colorscale": [
             [
              0,
              "#0d0887"
             ],
             [
              0.1111111111111111,
              "#46039f"
             ],
             [
              0.2222222222222222,
              "#7201a8"
             ],
             [
              0.3333333333333333,
              "#9c179e"
             ],
             [
              0.4444444444444444,
              "#bd3786"
             ],
             [
              0.5555555555555556,
              "#d8576b"
             ],
             [
              0.6666666666666666,
              "#ed7953"
             ],
             [
              0.7777777777777778,
              "#fb9f3a"
             ],
             [
              0.8888888888888888,
              "#fdca26"
             ],
             [
              1,
              "#f0f921"
             ]
            ],
            "type": "contour"
           }
          ],
          "contourcarpet": [
           {
            "colorbar": {
             "outlinewidth": 0,
             "ticks": ""
            },
            "type": "contourcarpet"
           }
          ],
          "heatmap": [
           {
            "colorbar": {
             "outlinewidth": 0,
             "ticks": ""
            },
            "colorscale": [
             [
              0,
              "#0d0887"
             ],
             [
              0.1111111111111111,
              "#46039f"
             ],
             [
              0.2222222222222222,
              "#7201a8"
             ],
             [
              0.3333333333333333,
              "#9c179e"
             ],
             [
              0.4444444444444444,
              "#bd3786"
             ],
             [
              0.5555555555555556,
              "#d8576b"
             ],
             [
              0.6666666666666666,
              "#ed7953"
             ],
             [
              0.7777777777777778,
              "#fb9f3a"
             ],
             [
              0.8888888888888888,
              "#fdca26"
             ],
             [
              1,
              "#f0f921"
             ]
            ],
            "type": "heatmap"
           }
          ],
          "heatmapgl": [
           {
            "colorbar": {
             "outlinewidth": 0,
             "ticks": ""
            },
            "colorscale": [
             [
              0,
              "#0d0887"
             ],
             [
              0.1111111111111111,
              "#46039f"
             ],
             [
              0.2222222222222222,
              "#7201a8"
             ],
             [
              0.3333333333333333,
              "#9c179e"
             ],
             [
              0.4444444444444444,
              "#bd3786"
             ],
             [
              0.5555555555555556,
              "#d8576b"
             ],
             [
              0.6666666666666666,
              "#ed7953"
             ],
             [
              0.7777777777777778,
              "#fb9f3a"
             ],
             [
              0.8888888888888888,
              "#fdca26"
             ],
             [
              1,
              "#f0f921"
             ]
            ],
            "type": "heatmapgl"
           }
          ],
          "histogram": [
           {
            "marker": {
             "pattern": {
              "fillmode": "overlay",
              "size": 10,
              "solidity": 0.2
             }
            },
            "type": "histogram"
           }
          ],
          "histogram2d": [
           {
            "colorbar": {
             "outlinewidth": 0,
             "ticks": ""
            },
            "colorscale": [
             [
              0,
              "#0d0887"
             ],
             [
              0.1111111111111111,
              "#46039f"
             ],
             [
              0.2222222222222222,
              "#7201a8"
             ],
             [
              0.3333333333333333,
              "#9c179e"
             ],
             [
              0.4444444444444444,
              "#bd3786"
             ],
             [
              0.5555555555555556,
              "#d8576b"
             ],
             [
              0.6666666666666666,
              "#ed7953"
             ],
             [
              0.7777777777777778,
              "#fb9f3a"
             ],
             [
              0.8888888888888888,
              "#fdca26"
             ],
             [
              1,
              "#f0f921"
             ]
            ],
            "type": "histogram2d"
           }
          ],
          "histogram2dcontour": [
           {
            "colorbar": {
             "outlinewidth": 0,
             "ticks": ""
            },
            "colorscale": [
             [
              0,
              "#0d0887"
             ],
             [
              0.1111111111111111,
              "#46039f"
             ],
             [
              0.2222222222222222,
              "#7201a8"
             ],
             [
              0.3333333333333333,
              "#9c179e"
             ],
             [
              0.4444444444444444,
              "#bd3786"
             ],
             [
              0.5555555555555556,
              "#d8576b"
             ],
             [
              0.6666666666666666,
              "#ed7953"
             ],
             [
              0.7777777777777778,
              "#fb9f3a"
             ],
             [
              0.8888888888888888,
              "#fdca26"
             ],
             [
              1,
              "#f0f921"
             ]
            ],
            "type": "histogram2dcontour"
           }
          ],
          "mesh3d": [
           {
            "colorbar": {
             "outlinewidth": 0,
             "ticks": ""
            },
            "type": "mesh3d"
           }
          ],
          "parcoords": [
           {
            "line": {
             "colorbar": {
              "outlinewidth": 0,
              "ticks": ""
             }
            },
            "type": "parcoords"
           }
          ],
          "pie": [
           {
            "automargin": true,
            "type": "pie"
           }
          ],
          "scatter": [
           {
            "fillpattern": {
             "fillmode": "overlay",
             "size": 10,
             "solidity": 0.2
            },
            "type": "scatter"
           }
          ],
          "scatter3d": [
           {
            "line": {
             "colorbar": {
              "outlinewidth": 0,
              "ticks": ""
             }
            },
            "marker": {
             "colorbar": {
              "outlinewidth": 0,
              "ticks": ""
             }
            },
            "type": "scatter3d"
           }
          ],
          "scattercarpet": [
           {
            "marker": {
             "colorbar": {
              "outlinewidth": 0,
              "ticks": ""
             }
            },
            "type": "scattercarpet"
           }
          ],
          "scattergeo": [
           {
            "marker": {
             "colorbar": {
              "outlinewidth": 0,
              "ticks": ""
             }
            },
            "type": "scattergeo"
           }
          ],
          "scattergl": [
           {
            "marker": {
             "colorbar": {
              "outlinewidth": 0,
              "ticks": ""
             }
            },
            "type": "scattergl"
           }
          ],
          "scattermapbox": [
           {
            "marker": {
             "colorbar": {
              "outlinewidth": 0,
              "ticks": ""
             }
            },
            "type": "scattermapbox"
           }
          ],
          "scatterpolar": [
           {
            "marker": {
             "colorbar": {
              "outlinewidth": 0,
              "ticks": ""
             }
            },
            "type": "scatterpolar"
           }
          ],
          "scatterpolargl": [
           {
            "marker": {
             "colorbar": {
              "outlinewidth": 0,
              "ticks": ""
             }
            },
            "type": "scatterpolargl"
           }
          ],
          "scatterternary": [
           {
            "marker": {
             "colorbar": {
              "outlinewidth": 0,
              "ticks": ""
             }
            },
            "type": "scatterternary"
           }
          ],
          "surface": [
           {
            "colorbar": {
             "outlinewidth": 0,
             "ticks": ""
            },
            "colorscale": [
             [
              0,
              "#0d0887"
             ],
             [
              0.1111111111111111,
              "#46039f"
             ],
             [
              0.2222222222222222,
              "#7201a8"
             ],
             [
              0.3333333333333333,
              "#9c179e"
             ],
             [
              0.4444444444444444,
              "#bd3786"
             ],
             [
              0.5555555555555556,
              "#d8576b"
             ],
             [
              0.6666666666666666,
              "#ed7953"
             ],
             [
              0.7777777777777778,
              "#fb9f3a"
             ],
             [
              0.8888888888888888,
              "#fdca26"
             ],
             [
              1,
              "#f0f921"
             ]
            ],
            "type": "surface"
           }
          ],
          "table": [
           {
            "cells": {
             "fill": {
              "color": "#EBF0F8"
             },
             "line": {
              "color": "white"
             }
            },
            "header": {
             "fill": {
              "color": "#C8D4E3"
             },
             "line": {
              "color": "white"
             }
            },
            "type": "table"
           }
          ]
         },
         "layout": {
          "annotationdefaults": {
           "arrowcolor": "#2a3f5f",
           "arrowhead": 0,
           "arrowwidth": 1
          },
          "autotypenumbers": "strict",
          "coloraxis": {
           "colorbar": {
            "outlinewidth": 0,
            "ticks": ""
           }
          },
          "colorscale": {
           "diverging": [
            [
             0,
             "#8e0152"
            ],
            [
             0.1,
             "#c51b7d"
            ],
            [
             0.2,
             "#de77ae"
            ],
            [
             0.3,
             "#f1b6da"
            ],
            [
             0.4,
             "#fde0ef"
            ],
            [
             0.5,
             "#f7f7f7"
            ],
            [
             0.6,
             "#e6f5d0"
            ],
            [
             0.7,
             "#b8e186"
            ],
            [
             0.8,
             "#7fbc41"
            ],
            [
             0.9,
             "#4d9221"
            ],
            [
             1,
             "#276419"
            ]
           ],
           "sequential": [
            [
             0,
             "#0d0887"
            ],
            [
             0.1111111111111111,
             "#46039f"
            ],
            [
             0.2222222222222222,
             "#7201a8"
            ],
            [
             0.3333333333333333,
             "#9c179e"
            ],
            [
             0.4444444444444444,
             "#bd3786"
            ],
            [
             0.5555555555555556,
             "#d8576b"
            ],
            [
             0.6666666666666666,
             "#ed7953"
            ],
            [
             0.7777777777777778,
             "#fb9f3a"
            ],
            [
             0.8888888888888888,
             "#fdca26"
            ],
            [
             1,
             "#f0f921"
            ]
           ],
           "sequentialminus": [
            [
             0,
             "#0d0887"
            ],
            [
             0.1111111111111111,
             "#46039f"
            ],
            [
             0.2222222222222222,
             "#7201a8"
            ],
            [
             0.3333333333333333,
             "#9c179e"
            ],
            [
             0.4444444444444444,
             "#bd3786"
            ],
            [
             0.5555555555555556,
             "#d8576b"
            ],
            [
             0.6666666666666666,
             "#ed7953"
            ],
            [
             0.7777777777777778,
             "#fb9f3a"
            ],
            [
             0.8888888888888888,
             "#fdca26"
            ],
            [
             1,
             "#f0f921"
            ]
           ]
          },
          "colorway": [
           "#636efa",
           "#EF553B",
           "#00cc96",
           "#ab63fa",
           "#FFA15A",
           "#19d3f3",
           "#FF6692",
           "#B6E880",
           "#FF97FF",
           "#FECB52"
          ],
          "font": {
           "color": "#2a3f5f"
          },
          "geo": {
           "bgcolor": "white",
           "lakecolor": "white",
           "landcolor": "#E5ECF6",
           "showlakes": true,
           "showland": true,
           "subunitcolor": "white"
          },
          "hoverlabel": {
           "align": "left"
          },
          "hovermode": "closest",
          "mapbox": {
           "style": "light"
          },
          "paper_bgcolor": "white",
          "plot_bgcolor": "#E5ECF6",
          "polar": {
           "angularaxis": {
            "gridcolor": "white",
            "linecolor": "white",
            "ticks": ""
           },
           "bgcolor": "#E5ECF6",
           "radialaxis": {
            "gridcolor": "white",
            "linecolor": "white",
            "ticks": ""
           }
          },
          "scene": {
           "xaxis": {
            "backgroundcolor": "#E5ECF6",
            "gridcolor": "white",
            "gridwidth": 2,
            "linecolor": "white",
            "showbackground": true,
            "ticks": "",
            "zerolinecolor": "white"
           },
           "yaxis": {
            "backgroundcolor": "#E5ECF6",
            "gridcolor": "white",
            "gridwidth": 2,
            "linecolor": "white",
            "showbackground": true,
            "ticks": "",
            "zerolinecolor": "white"
           },
           "zaxis": {
            "backgroundcolor": "#E5ECF6",
            "gridcolor": "white",
            "gridwidth": 2,
            "linecolor": "white",
            "showbackground": true,
            "ticks": "",
            "zerolinecolor": "white"
           }
          },
          "shapedefaults": {
           "line": {
            "color": "#2a3f5f"
           }
          },
          "ternary": {
           "aaxis": {
            "gridcolor": "white",
            "linecolor": "white",
            "ticks": ""
           },
           "baxis": {
            "gridcolor": "white",
            "linecolor": "white",
            "ticks": ""
           },
           "bgcolor": "#E5ECF6",
           "caxis": {
            "gridcolor": "white",
            "linecolor": "white",
            "ticks": ""
           }
          },
          "title": {
           "x": 0.05
          },
          "xaxis": {
           "automargin": true,
           "gridcolor": "white",
           "linecolor": "white",
           "ticks": "",
           "title": {
            "standoff": 15
           },
           "zerolinecolor": "white",
           "zerolinewidth": 2
          },
          "yaxis": {
           "automargin": true,
           "gridcolor": "white",
           "linecolor": "white",
           "ticks": "",
           "title": {
            "standoff": 15
           },
           "zerolinecolor": "white",
           "zerolinewidth": 2
          }
         }
        },
        "xaxis": {
         "anchor": "y",
         "domain": [
          0,
          1
         ],
         "title": {
          "text": "Count"
         }
        },
        "yaxis": {
         "anchor": "x",
         "domain": [
          0,
          1
         ],
         "title": {
          "text": "Word"
         }
        }
       }
      }
     },
     "metadata": {},
     "output_type": "display_data"
    }
   ],
   "source": [
    "bar_plot(data=MostFrequentWordDF)"
   ]
  },
  {
   "cell_type": "markdown",
   "metadata": {},
   "source": [
    "# Number Of Words "
   ]
  },
  {
   "cell_type": "code",
   "execution_count": 21,
   "metadata": {},
   "outputs": [
    {
     "data": {
      "text/plain": [
       "1039837"
      ]
     },
     "execution_count": 21,
     "metadata": {},
     "output_type": "execute_result"
    }
   ],
   "source": [
    "Corpus[\"Number of Words\"] = Corpus[\"Normalized_Review\"].apply(lambda n:len(word_tokenize(n)))\n",
    "Corpus.drop(Corpus[ Corpus[\"Number of Words\"] == 0].index, inplace = True)\n",
    "Corpus[\"Number of Words\"].sum()"
   ]
  },
  {
   "cell_type": "markdown",
   "metadata": {},
   "source": [
    "# Number Of Charachters "
   ]
  },
  {
   "cell_type": "code",
   "execution_count": 22,
   "metadata": {},
   "outputs": [
    {
     "data": {
      "text/plain": [
       "6403749"
      ]
     },
     "execution_count": 22,
     "metadata": {},
     "output_type": "execute_result"
    }
   ],
   "source": [
    "Corpus[\"Number of Charachters\"] = Corpus[\"Normalized_Review\"].str.len()\n",
    "Corpus[\"Number of Charachters\"].sum()"
   ]
  },
  {
   "cell_type": "markdown",
   "metadata": {},
   "source": [
    "# Average Number Of Words "
   ]
  },
  {
   "cell_type": "code",
   "execution_count": 23,
   "metadata": {},
   "outputs": [
    {
     "data": {
      "text/plain": [
       "16"
      ]
     },
     "execution_count": 23,
     "metadata": {},
     "output_type": "execute_result"
    }
   ],
   "source": [
    "AverageNaumberOfWords = int(np.round((Corpus[\"Number of Words\"].mean())))\n",
    "AverageNaumberOfWords"
   ]
  },
  {
   "cell_type": "markdown",
   "metadata": {},
   "source": [
    "# Average Number Of Charachters "
   ]
  },
  {
   "cell_type": "code",
   "execution_count": 24,
   "metadata": {},
   "outputs": [
    {
     "data": {
      "text/plain": [
       "98"
      ]
     },
     "execution_count": 24,
     "metadata": {},
     "output_type": "execute_result"
    }
   ],
   "source": [
    "AverageNumberOfCharachters = int(np.round(Corpus[\"Number of Charachters\"].mean()))\n",
    "AverageNumberOfCharachters"
   ]
  },
  {
   "cell_type": "markdown",
   "metadata": {},
   "source": [
    "# Maximum Number Of Word"
   ]
  },
  {
   "cell_type": "code",
   "execution_count": 25,
   "metadata": {},
   "outputs": [
    {
     "data": {
      "text/plain": [
       "922"
      ]
     },
     "execution_count": 25,
     "metadata": {},
     "output_type": "execute_result"
    }
   ],
   "source": [
    "MaximumNaumberOfWords = Corpus[\"Number of Words\"].max()\n",
    "MaximumNaumberOfWords"
   ]
  },
  {
   "cell_type": "markdown",
   "metadata": {},
   "source": [
    "# Maximum Number Of Charachters "
   ]
  },
  {
   "cell_type": "code",
   "execution_count": 26,
   "metadata": {},
   "outputs": [
    {
     "data": {
      "text/plain": [
       "6112"
      ]
     },
     "execution_count": 26,
     "metadata": {},
     "output_type": "execute_result"
    }
   ],
   "source": [
    "MaximumNumberOfCharachters = Corpus['Number of Charachters'].max() \n",
    "MaximumNumberOfCharachters"
   ]
  },
  {
   "cell_type": "markdown",
   "metadata": {},
   "source": [
    "# Minimum Number Of Words"
   ]
  },
  {
   "cell_type": "code",
   "execution_count": 27,
   "metadata": {},
   "outputs": [
    {
     "data": {
      "text/plain": [
       "1"
      ]
     },
     "execution_count": 27,
     "metadata": {},
     "output_type": "execute_result"
    }
   ],
   "source": [
    "MimimumNaumberOfWords = Corpus[\"Number of Words\"].min()\n",
    "MimimumNaumberOfWords"
   ]
  },
  {
   "cell_type": "markdown",
   "metadata": {},
   "source": [
    "# Minimum Number Of Charachters "
   ]
  },
  {
   "cell_type": "code",
   "execution_count": 28,
   "metadata": {},
   "outputs": [
    {
     "data": {
      "text/plain": [
       "1"
      ]
     },
     "execution_count": 28,
     "metadata": {},
     "output_type": "execute_result"
    }
   ],
   "source": [
    "MinimumNumberOfCharachters = Corpus['Number of Charachters'].min() \n",
    "MinimumNumberOfCharachters"
   ]
  },
  {
   "cell_type": "markdown",
   "metadata": {},
   "source": [
    "# Split The Dataset Into X And y"
   ]
  },
  {
   "cell_type": "code",
   "execution_count": 29,
   "metadata": {},
   "outputs": [],
   "source": [
    "X, y = Corpus['Normalized_Review'], Corpus['Sentiment']\n",
    "le = LabelEncoder()\n",
    "y = le.fit_transform(y)"
   ]
  },
  {
   "cell_type": "markdown",
   "metadata": {},
   "source": [
    "# Split The Dataset Into Training And Testing"
   ]
  },
  {
   "cell_type": "code",
   "execution_count": 30,
   "metadata": {},
   "outputs": [],
   "source": [
    "X_train, X_test, y_train, y_test = train_test_split(X, y, test_size=0.30, random_state=33)"
   ]
  },
  {
   "cell_type": "markdown",
   "metadata": {},
   "source": [
    "# CountVectorizer"
   ]
  },
  {
   "cell_type": "code",
   "execution_count": 31,
   "metadata": {},
   "outputs": [],
   "source": [
    "CountVectorizer_ = CountVectorizer()\n",
    "X_train_CV_ = CountVectorizer_.fit_transform(X_train)\n",
    "X_test_CV_ = CountVectorizer_.transform(X_test)"
   ]
  },
  {
   "cell_type": "code",
   "execution_count": 32,
   "metadata": {},
   "outputs": [
    {
     "data": {
      "text/plain": [
       "{'حلو': 45609,\n",
       " 'لزوم': 67407,\n",
       " 'الترقيه': 10307,\n",
       " 'الموقع': 22293,\n",
       " 'دورات': 47818,\n",
       " 'المياه': 22371,\n",
       " 'هوز': 85081,\n",
       " 'ني': 83983,\n",
       " 'استخدمت': 3707,\n",
       " 'سطل': 51191,\n",
       " 'تطبيق': 39600,\n",
       " 'لايفتح': 65815,\n",
       " 'اصف': 4999,\n",
       " 'قراءتي': 61418,\n",
       " 'الروايه': 13716,\n",
       " 'استمتعت': 4114,\n",
       " 'مات': 72900,\n",
       " 'بدا': 31010,\n",
       " 'الملل': 21685,\n",
       " 'يتسلل': 105257,\n",
       " 'قراءه': 61420,\n",
       " 'جميله': 43879,\n",
       " 'وممتعه': 101634,\n",
       " 'مقبول': 79322,\n",
       " 'الفندق': 17393,\n",
       " 'مقبل': 79315,\n",
       " 'السعر': 14303,\n",
       " 'مدخل': 76431,\n",
       " 'والغرف': 90004,\n",
       " 'يحتاج': 105975,\n",
       " 'تجديد': 37062,\n",
       " 'اثاث': 1284,\n",
       " 'طلبات': 55056,\n",
       " 'جديد': 43382,\n",
       " 'ممتاز': 80079,\n",
       " 'وجميل': 94919,\n",
       " 'يحكي': 106189,\n",
       " 'احمد': 2096,\n",
       " 'خليل': 46874,\n",
       " 'الكتاب': 18155,\n",
       " 'كشاب': 63384,\n",
       " 'تربي': 38205,\n",
       " 'بيئه': 34922,\n",
       " 'متدينه': 74772,\n",
       " 'محافظه': 75777,\n",
       " 'ومتصله': 100551,\n",
       " 'بالمسجد': 28597,\n",
       " 'كبر': 62758,\n",
       " 'يحمل': 106219,\n",
       " 'اسلاميته': 4434,\n",
       " 'ضلوعه': 54558,\n",
       " 'فتراه': 58979,\n",
       " 'يميل': 109535,\n",
       " 'للسلفيه': 69773,\n",
       " 'للاخوان': 68652,\n",
       " 'وكوضع': 99410,\n",
       " 'طبيعي': 54843,\n",
       " 'يحضتنه': 106128,\n",
       " 'الاخوان': 7381,\n",
       " 'فيجد': 60663,\n",
       " 'يرضيه': 106884,\n",
       " 'يلبث': 109214,\n",
       " 'ويكتشف': 104086,\n",
       " 'ثغراتهم': 42664,\n",
       " 'وينتقد': 104235,\n",
       " 'اساليبهم': 3535,\n",
       " 'التربويه': 10274,\n",
       " 'والفكريه': 90138,\n",
       " 'والتنظيميه': 88551,\n",
       " 'يعيش': 108474,\n",
       " 'تجربه': 37095,\n",
       " 'الاسلام': 7894,\n",
       " 'الحضاري': 12156,\n",
       " 'نخبه': 82451,\n",
       " 'المفكرين': 21355,\n",
       " 'والشباب': 89488,\n",
       " 'المثقف': 19524,\n",
       " 'ويستحضر': 103619,\n",
       " 'موقف': 81392,\n",
       " 'اعتقاله': 5535,\n",
       " 'واحداث': 85859,\n",
       " 'الثوره': 11310,\n",
       " 'المصريه': 20828,\n",
       " 'عايشها': 55857,\n",
       " 'وجدت': 94781,\n",
       " 'الكثير': 18202,\n",
       " 'المشترك': 20684,\n",
       " 'صاحب': 53591,\n",
       " 'والسلفيين': 89407,\n",
       " 'وانفتاحه': 91754,\n",
       " 'افق': 6258,\n",
       " 'تتجاوز': 36483,\n",
       " 'التنظيمات': 11019,\n",
       " 'الاسلاميه': 7898,\n",
       " 'شق': 53141,\n",
       " 'طريقه': 54931,\n",
       " 'للحياه': 69488,\n",
       " 'والمعرفه': 90888,\n",
       " 'طرح': 54874,\n",
       " 'الاسئله': 7613,\n",
       " 'وتشغيل': 93759,\n",
       " 'العقل': 16426,\n",
       " 'ماقراته': 73614,\n",
       " 'طاهر': 54758,\n",
       " 'بودل': 34734,\n",
       " 'سئ': 50104,\n",
       " 'اللي': 18780,\n",
       " 'اعجبني': 5596,\n",
       " 'يسكنون': 107451,\n",
       " 'عزاب': 56328,\n",
       " 'جني': 43989,\n",
       " 'غرف': 57539,\n",
       " 'العوائل': 16610,\n",
       " 'اتصلت': 923,\n",
       " 'موظف': 81314,\n",
       " 'الاستقبال': 7762,\n",
       " 'اسمه': 4506,\n",
       " 'طه': 55174,\n",
       " 'واشتكيت': 86706,\n",
       " 'ازعاج': 3402,\n",
       " 'العزاب': 16273,\n",
       " 'مافي': 73577,\n",
       " 'نظام': 83130,\n",
       " 'يخلي': 106489,\n",
       " 'لحاله': 66860,\n",
       " 'والعوائل': 89957,\n",
       " 'لحالهم': 66862,\n",
       " 'احترام': 1769,\n",
       " 'للعوائل': 70158,\n",
       " 'والله': 90473,\n",
       " 'ماقول': 73628,\n",
       " 'شهيد': 53373,\n",
       " 'مره': 76963,\n",
       " 'بطل': 32428,\n",
       " 'انصحكم': 24668,\n",
       " 'نظريه': 83172,\n",
       " 'العالم': 16027,\n",
       " 'الموازي': 22132,\n",
       " 'الهمت': 23163,\n",
       " 'العلماء': 16471,\n",
       " 'وحتي': 95113,\n",
       " 'العامه': 16058,\n",
       " 'امثالنا': 23855,\n",
       " 'تفكير': 40577,\n",
       " 'الكون': 18453,\n",
       " 'متعدد': 75025,\n",
       " 'الاكوان': 8465,\n",
       " 'يعني': 108427,\n",
       " 'الارض': 7535,\n",
       " 'متفرعه': 75104,\n",
       " 'كون': 64193,\n",
       " 'اخر': 2388,\n",
       " 'والخ': 88910,\n",
       " 'الوجود': 23358,\n",
       " 'المتمثل': 19416,\n",
       " 'يشبه': 107573,\n",
       " 'لحد': 66893,\n",
       " 'المتفرع': 19372,\n",
       " 'الاختلافات': 7325,\n",
       " 'البسيطه': 9524,\n",
       " 'طالب': 54732,\n",
       " 'هتلر': 84508,\n",
       " 'الاخر': 7338,\n",
       " 'هه': 85032,\n",
       " 'الاسطوره': 7868,\n",
       " 'خيال': 46998,\n",
       " 'دكتور': 47596,\n",
       " 'خالد': 46134,\n",
       " 'التوفيق': 11156,\n",
       " 'التفكير': 10732,\n",
       " 'الامر': 8591,\n",
       " 'ممتع': 80153,\n",
       " 'الصراحه': 15353,\n",
       " 'حالك': 44561,\n",
       " 'ياانا': 104453,\n",
       " 'بحبك': 30627,\n",
       " 'نخاطب': 82442,\n",
       " 'اكيد': 6944,\n",
       " 'مش': 77730,\n",
       " 'فاضي': 58198,\n",
       " 'يكتب': 109068,\n",
       " 'ريفيو': 49608,\n",
       " 'حاجات': 44396,\n",
       " 'رهيبه': 49321,\n",
       " 'يكتشف': 109089,\n",
       " 'موفق': 81364,\n",
       " 'تجربتي': 37092,\n",
       " 'الاولي': 9038,\n",
       " 'غسان': 57610,\n",
       " 'كنفاني': 64018,\n",
       " 'جيده': 44277,\n",
       " 'ومؤلمه': 100140,\n",
       " 'اسوء': 4542,\n",
       " 'لصوص': 67771,\n",
       " 'انصح': 24665,\n",
       " 'بتنزيله': 30277,\n",
       " 'سرقوني': 51122,\n",
       " 'عودتي': 57216,\n",
       " 'دبي': 47257,\n",
       " 'طريق': 54920,\n",
       " 'بطاقه': 32362,\n",
       " 'الصراف': 15360,\n",
       " 'يتعامل': 105338,\n",
       " 'مجموعه': 75685,\n",
       " 'القصاصات': 17819,\n",
       " 'جمل': 43831,\n",
       " 'قصيره': 61734,\n",
       " 'معاني': 78572,\n",
       " 'كتيير': 62948,\n",
       " 'عارفه': 55561,\n",
       " 'افضل': 6208,\n",
       " 'ماتنزلش': 73097,\n",
       " 'ككتاب': 63634,\n",
       " 'يتاخر': 104981,\n",
       " 'تئخير': 35914,\n",
       " 'يع': 108113,\n",
       " 'بقرف': 33121,\n",
       " 'طلبت': 55070,\n",
       " 'ساعات': 50333,\n",
       " 'وصل': 97469,\n",
       " 'قديم': 61362,\n",
       " 'يستحق': 107177,\n",
       " 'المبلغ': 19081,\n",
       " 'قيمه': 62181,\n",
       " 'المكان': 21519,\n",
       " 'الافطار': 8294,\n",
       " 'جيد': 44220,\n",
       " 'التكييف': 10863,\n",
       " 'الفرش': 17154,\n",
       " 'يوجد': 110078,\n",
       " 'مواقف': 81091,\n",
       " 'سيارات': 52020,\n",
       " 'فل': 60085,\n",
       " 'يبعد': 104881,\n",
       " 'دقائق': 47557,\n",
       " 'قيل': 62167,\n",
       " 'احببت': 1702,\n",
       " 'فكره': 60051,\n",
       " 'تكتب': 40999,\n",
       " 'اللذي': 18652,\n",
       " 'جرحك': 43518,\n",
       " 'لاجله': 64720,\n",
       " 'ساجربها': 50203,\n",
       " 'يوما': 110234,\n",
       " 'يتيح': 105683,\n",
       " 'العديد': 16185,\n",
       " 'الخيرات': 12846,\n",
       " 'الواقع': 23296,\n",
       " 'وخيال': 95733,\n",
       " 'المحتله': 19721,\n",
       " 'سابقا': 50163,\n",
       " 'يصول': 107874,\n",
       " 'ويجول': 103293,\n",
       " 'القارئ': 17587,\n",
       " 'تفاصيل': 40411,\n",
       " 'سيناء': 52390,\n",
       " 'والعريش': 89862,\n",
       " 'والشيخ': 89582,\n",
       " 'زويد': 50025,\n",
       " 'اجمل': 1590,\n",
       " 'الزيتون': 13999,\n",
       " 'والتوابل': 88573,\n",
       " 'والجندي': 88727,\n",
       " 'محمولا': 76125,\n",
       " 'الهايكستب': 23061,\n",
       " 'اسبوع': 3567,\n",
       " 'والذكريات': 89117,\n",
       " 'المريره': 20267,\n",
       " 'لحرب': 66905,\n",
       " 'الخليج': 12759,\n",
       " 'والنكسه': 91274,\n",
       " 'فاشل': 58152,\n",
       " 'مادخلت': 73259,\n",
       " 'معلق': 78853,\n",
       " 'ارجعو': 3086,\n",
       " 'لتطبيق': 66443,\n",
       " 'للاول': 68964,\n",
       " 'جميل': 43864,\n",
       " 'خاصتا': 46083,\n",
       " 'التوصيل': 11140,\n",
       " 'المجاني': 19560,\n",
       " 'للبقاله': 69032,\n",
       " 'شي': 53467,\n",
       " 'الباركنق': 9201,\n",
       " 'يستاهل': 107150,\n",
       " 'نجمه': 82311,\n",
       " 'وحده': 95163,\n",
       " 'يصلح': 107837,\n",
       " 'للنوم': 70936,\n",
       " 'واحده': 85875,\n",
       " 'رووعه': 49514,\n",
       " 'مرضي': 76892,\n",
       " 'رائع': 48327,\n",
       " 'ولنضافه': 100036,\n",
       " 'للفندق': 70295,\n",
       " 'رائعه': 48344,\n",
       " 'والبركه': 88083,\n",
       " 'حلوو': 45634,\n",
       " 'موقعها': 81385,\n",
       " 'موعد': 81340,\n",
       " 'الخرووج': 12618,\n",
       " 'ازعجوني': 3421,\n",
       " 'بتصالتهم': 29886,\n",
       " 'الساعه': 14081,\n",
       " 'التاسعه': 9953,\n",
       " 'ساعه': 50368,\n",
       " 'يتصلون': 105305,\n",
       " 'المفروض': 21328,\n",
       " 'الموضوع': 22259,\n",
       " 'حقيقه': 45462,\n",
       " 'اريد': 3342,\n",
       " 'اسكن': 4408,\n",
       " 'اخرا': 2390,\n",
       " 'اضطررت': 5158,\n",
       " 'لادفع': 64871,\n",
       " 'المزيد': 20314,\n",
       " 'يوصف': 110132,\n",
       " 'صغيره': 54035,\n",
       " 'المساحه': 20355,\n",
       " 'تفاوت': 40431,\n",
       " 'اسعار': 4344,\n",
       " 'المطعم': 20959,\n",
       " 'المنطقه': 21967,\n",
       " 'زياده': 50032,\n",
       " 'العروض': 16254,\n",
       " 'لتشجيع': 66382,\n",
       " 'الزبون': 13867,\n",
       " 'يبحث': 104816,\n",
       " 'المنخفض': 21904,\n",
       " 'اقامه': 6366,\n",
       " 'عاديه': 55540,\n",
       " 'وبصراحه': 92483,\n",
       " 'اخذه': 2379,\n",
       " 'سيئه': 51962,\n",
       " 'وشقق': 97208,\n",
       " 'والمكيفات': 90994,\n",
       " 'شباك': 52674,\n",
       " 'ودوره': 95949,\n",
       " 'نظيفه': 83204,\n",
       " 'وللاسف': 99926,\n",
       " 'دفعت': 47529,\n",
       " 'حق': 45387,\n",
       " 'ليلتين': 72492,\n",
       " 'سكن': 51361,\n",
       " 'تامين': 36171,\n",
       " 'خرجت': 46426,\n",
       " 'تاخذ': 36003,\n",
       " 'ورسوم': 96245,\n",
       " 'خدمه': 46318,\n",
       " 'ليش': 72327,\n",
       " 'ماادري': 72729,\n",
       " 'وسعر': 96787,\n",
       " 'مبالغ': 74293,\n",
       " 'انتظرت': 24269,\n",
       " 'الاو': 8950,\n",
       " 'رد': 48843,\n",
       " 'اكتر': 6732,\n",
       " 'وفي': 98749,\n",
       " 'يتلغي': 105527,\n",
       " 'ويتحسب': 103124,\n",
       " 'عليا': 56852,\n",
       " 'وادمت': 86153,\n",
       " 'شكوي': 53234,\n",
       " 'واخرهم': 86053,\n",
       " 'يعتزروا': 108204,\n",
       " 'ومافيش': 100308,\n",
       " 'حاجه': 44419,\n",
       " 'تتحل': 36522,\n",
       " 'ومش': 101124,\n",
       " 'اول': 25510,\n",
       " 'التطبيق': 10520,\n",
       " 'جدا': 43155,\n",
       " 'اسجل': 4248,\n",
       " 'الدخول': 12937,\n",
       " 'يقول': 109000,\n",
       " 'خطئ': 46605,\n",
       " 'النظام': 22783,\n",
       " 'روايه': 49380,\n",
       " 'قريتها': 61589,\n",
       " 'لنور': 71771,\n",
       " 'المجيد': 19646,\n",
       " 'الفراق': 17137,\n",
       " 'استفزني': 3995,\n",
       " 'اهتمامها': 25091,\n",
       " 'بتفصيل': 30081,\n",
       " 'اللبس': 18602,\n",
       " 'والبرفان': 88081,\n",
       " 'والماركات': 90513,\n",
       " 'لقيتها': 68426,\n",
       " 'دي': 47900,\n",
       " 'كمان': 63816,\n",
       " 'مركزه': 76944,\n",
       " 'اووي': 25583,\n",
       " 'عالتفاصيل': 55674,\n",
       " 'فهمت': 60460,\n",
       " 'حابه': 44389,\n",
       " 'تتميز': 36864,\n",
       " 'بكده': 33321,\n",
       " 'بصراحه': 32194,\n",
       " 'عميقه': 57053,\n",
       " 'وكمان': 99370,\n",
       " 'الحبكات': 11898,\n",
       " 'مظبوطه': 78439,\n",
       " 'فاصيل': 58183,\n",
       " 'تعتبر': 39897,\n",
       " 'لجريئه': 66769,\n",
       " 'المبالغه': 19020,\n",
       " 'الخيال': 12833,\n",
       " 'الجمال': 11603,\n",
       " 'والشكل': 89555,\n",
       " 'والثروه': 88619,\n",
       " 'بيبعدنا': 34976,\n",
       " 'واقع': 87256,\n",
       " 'معظمنا': 78814,\n",
       " 'عجبتني': 56037,\n",
       " 'الفكره': 17313,\n",
       " 'بتقوم': 30149,\n",
       " 'وشايفه': 97085,\n",
       " 'المشهد': 20758,\n",
       " 'بتاع': 29401,\n",
       " 'حوار': 45818,\n",
       " 'ماجي': 73176,\n",
       " 'فريده': 59483,\n",
       " 'مرض': 76882,\n",
       " 'مصطفي': 78127,\n",
       " 'الدرس': 12977,\n",
       " 'والهدف': 91316,\n",
       " 'وعجبتني': 97976,\n",
       " 'تحليل': 37585,\n",
       " 'الاكستريزم': 8445,\n",
       " 'نبالغ': 81986,\n",
       " 'حبنا': 44651,\n",
       " 'وكرهنا': 99276,\n",
       " 'وفرحنا': 98557,\n",
       " 'ده': 47763,\n",
       " 'سبب': 50575,\n",
       " 'عذابنا': 56173,\n",
       " 'واننا': 91791,\n",
       " 'نعيش': 83307,\n",
       " 'احساس': 1966,\n",
       " 'منوصلش': 80839,\n",
       " 'للتطرف': 69180,\n",
       " 'والاهم': 87976,\n",
       " 'نرضا': 82584,\n",
       " 'ونحمد': 102096,\n",
       " 'ربنا': 48660,\n",
       " 'النهايه': 22929,\n",
       " 'المفتوحه': 21308,\n",
       " 'للروايه': 69674,\n",
       " 'تحيه': 37681,\n",
       " 'طيب': 55252,\n",
       " 'نور': 83916,\n",
       " 'برنامج': 31549,\n",
       " 'روعه': 49466,\n",
       " 'البدايه': 9348,\n",
       " 'لانو': 65550,\n",
       " 'بطلب': 32436,\n",
       " 'الخضراوات': 12676,\n",
       " 'وبتيجي': 92274,\n",
       " 'خربانه': 46399,\n",
       " 'صالحه': 53686,\n",
       " 'للاستخدام': 68708,\n",
       " 'ريت': 49557,\n",
       " 'تحسنو': 37474,\n",
       " 'قصه': 61718,\n",
       " 'بنهايه': 34482,\n",
       " 'تعيسه': 40248,\n",
       " 'امقت': 23956,\n",
       " 'النهايات': 22928,\n",
       " 'والبرنامج': 88086,\n",
       " 'والتوصيل': 88593,\n",
       " 'واايد': 85397,\n",
       " 'سهل': 51753,\n",
       " 'اللبات': 18599,\n",
       " 'توصل': 42329,\n",
       " 'عالوقت': 55759,\n",
       " 'مشكله': 77921,\n",
       " 'مراات': 76641,\n",
       " 'يقرون': 108901,\n",
       " 'التوصيات': 11138,\n",
       " 'تتنفذ': 36888,\n",
       " 'سيء': 51912,\n",
       " 'مصداقيه': 78081,\n",
       " 'التحديث': 10110,\n",
       " 'الاخير': 7390,\n",
       " 'مشاكل': 77770,\n",
       " 'كثيره': 62996,\n",
       " 'لازم': 64934,\n",
       " 'تطلب': 39661,\n",
       " 'اشياء': 4852,\n",
       " 'مو': 81018,\n",
       " 'بحاجتها': 30595,\n",
       " 'عشان': 56421,\n",
       " 'يقبلوا': 108798,\n",
       " 'يوصلولك': 110148,\n",
       " 'الطلب': 15818,\n",
       " 'شو': 53382,\n",
       " 'اشتري': 4663,\n",
       " 'اغراض': 5961,\n",
       " 'واكبها': 87312,\n",
       " 'تقبلوا': 40686,\n",
       " 'اشي': 4850,\n",
       " 'الاسعار': 7874,\n",
       " 'بتوصل': 30336,\n",
       " 'ضعف': 54471,\n",
       " 'ضعفين': 54481,\n",
       " 'سعرها': 51233,\n",
       " 'العادي': 15983,\n",
       " 'المحل': 19812,\n",
       " 'طلبا': 55053,\n",
       " 'وانتظرت': 91599,\n",
       " 'لساعات': 67440,\n",
       " 'يصلني': 107849,\n",
       " 'احذف': 1923,\n",
       " 'سريع': 51150,\n",
       " 'الطبيق': 15740,\n",
       " 'محتاج': 75858,\n",
       " 'اضافه': 5102,\n",
       " 'ميزه': 81597,\n",
       " 'الامان': 8566,\n",
       " 'بالبصمه': 27045,\n",
       " 'متاح': 74537,\n",
       " 'الاماكن': 8559,\n",
       " 'ودا': 95751,\n",
       " 'بيخليه': 35241,\n",
       " 'الفيوم': 17544,\n",
       " 'موجوده': 81163,\n",
       " 'تحديد': 37377,\n",
       " 'الخريطه': 12621,\n",
       " 'التجربه': 10070,\n",
       " 'مناسبه': 80313,\n",
       " 'التطيبيق': 10553,\n",
       " 'وندعو': 102116,\n",
       " 'صمم': 54179,\n",
       " 'هالتطبيق': 84201,\n",
       " 'وحبولي': 95100,\n",
       " 'خشمه': 46518,\n",
       " 'انهيت': 25008,\n",
       " 'قراءته': 61413,\n",
       " 'اجهل': 1620,\n",
       " 'يتعلق': 105384,\n",
       " 'تازمامارت': 36077,\n",
       " 'سمعت': 51565,\n",
       " 'السجن': 14180,\n",
       " 'نشرات': 82904,\n",
       " 'الاخبار': 7309,\n",
       " 'المرزوقي': 20188,\n",
       " 'معاناته': 78560,\n",
       " 'لكنني': 68534,\n",
       " 'علا': 56744,\n",
       " 'جهل': 44034,\n",
       " 'تام': 36154,\n",
       " 'بالتفاصيل': 27235,\n",
       " 'زج': 49729,\n",
       " 'شخص': 52779,\n",
       " 'الصحراء': 15291,\n",
       " 'محاوله': 75814,\n",
       " 'انقلاب': 24881,\n",
       " 'فاشله': 58160,\n",
       " 'حكم': 45507,\n",
       " 'سنين': 51739,\n",
       " 'سجنا': 50957,\n",
       " 'قضي': 61751,\n",
       " 'يقارب': 108773,\n",
       " 'العقدين': 16422,\n",
       " 'تزمامارت': 38541,\n",
       " 'اقبل': 6377,\n",
       " 'بفكره': 32963,\n",
       " 'النقلاب': 22870,\n",
       " 'ارفضها': 3237,\n",
       " 'رفضا': 49114,\n",
       " 'قاطعا': 61083,\n",
       " 'اري': 3333,\n",
       " 'المعقول': 21165,\n",
       " 'الانسانيه': 8802,\n",
       " 'معاقبه': 78520,\n",
       " 'ادمي': 2756,\n",
       " 'الطريقه': 15773,\n",
       " 'التازمامارتيه': 9949,\n",
       " 'جرمه': 43535,\n",
       " 'ويرفض': 103559,\n",
       " 'كلمه': 63742,\n",
       " 'السر': 14227,\n",
       " 'وهي': 102695,\n",
       " 'صحيحه': 53803,\n",
       " 'معامله': 78554,\n",
       " 'راقيه': 48543,\n",
       " 'وحسن': 95251,\n",
       " 'تعامل': 39811,\n",
       " 'العميل': 16563,\n",
       " 'تفعيل': 40557,\n",
       " 'المظلم': 21007,\n",
       " 'بالوقت': 28943,\n",
       " 'المناسب': 21802,\n",
       " 'لاتوجد': 64673,\n",
       " 'غالبيه': 57396,\n",
       " 'المطاعم': 20919,\n",
       " 'هع': 84772,\n",
       " 'شغل': 53071,\n",
       " 'مررتب': 76847,\n",
       " 'وافضله': 87165,\n",
       " 'التطبيقات': 10522,\n",
       " 'المنافسه': 21826,\n",
       " 'اشتماله': 4686,\n",
       " 'قصيده': 61729,\n",
       " 'موال': 81103,\n",
       " 'عيون': 57329,\n",
       " 'الموتي': 22184,\n",
       " 'الابواب': 7064,\n",
       " 'القصائد': 17816,\n",
       " 'الديوان': 13228,\n",
       " 'كتب': 62850,\n",
       " 'محمود': 76117,\n",
       " 'درويش': 47400,\n",
       " 'سييه': 52433,\n",
       " 'البنك': 9740,\n",
       " 'الاسوء': 7933,\n",
       " 'الخدمه': 12569,\n",
       " 'والماكينات': 90526,\n",
       " 'بايظه': 29207,\n",
       " 'سرقه': 51118,\n",
       " 'فلوس': 60209,\n",
       " 'الماكينه': 18956,\n",
       " 'شهرين': 53349,\n",
       " 'ومعرفتش': 101328,\n",
       " 'تعملو': 40185,\n",
       " 'جرد': 43521,\n",
       " 'واتصلت': 85583,\n",
       " 'اعمل': 5848,\n",
       " 'الجرد': 11485,\n",
       " 'فلوسي': 60220,\n",
       " 'انسرقت': 24608,\n",
       " 'مديرين': 76569,\n",
       " 'منتهي': 80467,\n",
       " 'قله': 61922,\n",
       " 'الذوق': 13300,\n",
       " 'يتم': 105544,\n",
       " 'الله': 18735,\n",
       " 'الوكيل': 23541,\n",
       " 'دا': 47069,\n",
       " 'بنك': 34443,\n",
       " 'انقاض': 24846,\n",
       " 'السفاره': 14334,\n",
       " 'الخرطوم': 12601,\n",
       " 'السودان': 14561,\n",
       " 'يجلس': 105841,\n",
       " 'يحاول': 105953,\n",
       " 'يصرخ': 107797,\n",
       " 'يسمعه': 107478,\n",
       " 'رجال': 48708,\n",
       " 'الانقاذ': 8871,\n",
       " 'ويتم': 103215,\n",
       " 'انقاذه': 24843,\n",
       " 'جدوي': 43377,\n",
       " 'فيبدا': 60624,\n",
       " 'مكانه': 79589,\n",
       " 'يسترجع': 107214,\n",
       " 'ضابط': 54319,\n",
       " 'مخابرات': 76164,\n",
       " 'كسرته': 63356,\n",
       " 'النكسه': 22891,\n",
       " 'صحفي': 53784,\n",
       " 'شريفا': 52946,\n",
       " 'كسر': 63353,\n",
       " 'قلمه': 61914,\n",
       " 'بتحول': 29654,\n",
       " 'رئيسا': 48292,\n",
       " 'لتحرير': 66212,\n",
       " 'المجله': 19614,\n",
       " 'طرد': 54885,\n",
       " 'محامي': 75792,\n",
       " 'مسيحي': 77708,\n",
       " 'احب': 1685,\n",
       " 'بلاده': 33427,\n",
       " 'وعاش': 97898,\n",
       " 'رافضا': 48504,\n",
       " 'يظل': 108098,\n",
       " 'بفرنسا': 32927,\n",
       " 'كمدرس': 63851,\n",
       " 'بالسوربون': 27834,\n",
       " 'ومحاميه': 100726,\n",
       " 'بدات': 31020,\n",
       " 'التشدد': 10422,\n",
       " 'لابتداع': 64410,\n",
       " 'قضايا': 61744,\n",
       " 'للحسبه': 69440,\n",
       " 'وتري': 93590,\n",
       " 'اذت': 2850,\n",
       " 'قضاياها': 61746,\n",
       " 'كتاب': 62814,\n",
       " 'تاريخي': 36070,\n",
       " 'يكشف': 109138,\n",
       " 'حقبه': 45403,\n",
       " 'زمنيه': 49906,\n",
       " 'وجماعات': 94898,\n",
       " 'وسياسه': 96967,\n",
       " 'ارهاب': 3291,\n",
       " 'احداث': 1877,\n",
       " 'مرت': 76743,\n",
       " 'مصر': 78104,\n",
       " 'تزال': 38504,\n",
       " 'تعانيها': 39834,\n",
       " 'وبسيط': 92456,\n",
       " 'وااو': 85393,\n",
       " 'تكثر': 41021,\n",
       " 'الثرثره': 11236,\n",
       " 'الاحداث': 7257,\n",
       " 'بالنوع': 28869,\n",
       " 'يستهويني': 107346,\n",
       " 'سيما': 52380,\n",
       " 'تفتقر': 40458,\n",
       " 'عنصر': 57108,\n",
       " 'التشويق': 10446,\n",
       " 'والمفاجاه': 90921,\n",
       " 'العقده': 16420,\n",
       " 'بساطه': 31745,\n",
       " 'لغتها': 68100,\n",
       " 'اسماء': 4466,\n",
       " 'ابطالها': 393,\n",
       " 'صعبه': 53992,\n",
       " 'الحفظ': 12181,\n",
       " 'وبالتالي': 92082,\n",
       " 'يصعب': 107812,\n",
       " 'فهمها': 60470,\n",
       " 'اجد': 1480,\n",
       " 'دافعا': 47163,\n",
       " 'يدفعني': 106604,\n",
       " 'لانهائها': 65543,\n",
       " 'لاري': 64926,\n",
       " 'ستصبح': 50804,\n",
       " 'حماسه': 45677,\n",
       " 'تصبح': 39289,\n",
       " 'خصم': 46549,\n",
       " 'البطاقه': 9573,\n",
       " 'احصل': 2016,\n",
       " 'ويجب': 103256,\n",
       " 'الانتظار': 8713,\n",
       " 'لاسترجاع': 64986,\n",
       " 'توفر': 42398,\n",
       " 'الطعام': 15778,\n",
       " 'عرضه': 56249,\n",
       " 'صفحات': 54067,\n",
       " 'دافئه': 47161,\n",
       " 'عبارات': 55880,\n",
       " 'قويه': 62128,\n",
       " 'برقه': 31498,\n",
       " 'امل': 23981,\n",
       " 'اعادته': 5409,\n",
       " 'قرب': 61500,\n",
       " 'الحرم': 12031,\n",
       " 'وجود': 94984,\n",
       " 'تسريبات': 38866,\n",
       " 'مياه': 81499,\n",
       " 'كرسي': 63229,\n",
       " 'التسريحه': 10368,\n",
       " 'نظيف': 83194,\n",
       " 'ومقززعدم': 101485,\n",
       " 'رفع': 49125,\n",
       " 'بقايا': 33045,\n",
       " 'الاكل': 8452,\n",
       " 'التالي': 9975,\n",
       " 'صلاه': 54132,\n",
       " 'المغرب': 21241,\n",
       " 'اتمني': 1188,\n",
       " 'تصليح': 39411,\n",
       " 'المشاكل': 20666,\n",
       " 'عايز': 55840,\n",
       " 'ينزل': 109714,\n",
       " 'الاساس': 7615,\n",
       " 'الجهاز': 11699,\n",
       " 'معجبتنيش': 78660,\n",
       " 'اوي': 25584,\n",
       " 'رضوي': 49044,\n",
       " 'عاشور': 55600,\n",
       " 'ميلان': 81686,\n",
       " 'كونديرا': 64201,\n",
       " 'يواصل': 110063,\n",
       " 'اسلوبه': 4457,\n",
       " 'الكتابي': 18173,\n",
       " 'المعتاد': 21068,\n",
       " 'افكار': 6276,\n",
       " 'للنقاش': 70913,\n",
       " 'قليله': 61944,\n",
       " 'للقراءه': 70366,\n",
       " 'الجهل': 11709,\n",
       " 'بالوطن': 28934,\n",
       " 'الاغتراب': 8220,\n",
       " 'الحالات': 11859,\n",
       " 'النفسيه': 22829,\n",
       " 'تصيبنا': 39456,\n",
       " 'زال': 49674,\n",
       " 'قادرا': 61021,\n",
       " 'وضع': 97598,\n",
       " 'الكلمات': 18329,\n",
       " 'بقوه': 33222,\n",
       " 'الصفحات': 15415,\n",
       " 'مجبر': 75563,\n",
       " 'التصادم': 10455,\n",
       " 'افكاره': 6280,\n",
       " 'لطيفه': 67889,\n",
       " 'اعترف': 5510,\n",
       " 'احسست': 1987,\n",
       " 'بالملل': 28713,\n",
       " 'الاحيان': 7302,\n",
       " 'قرائتها': 61431,\n",
       " 'لوز': 71958,\n",
       " 'التطبق': 10515,\n",
       " 'سيي': 52426,\n",
       " 'مواكبه': 81101,\n",
       " 'التقدم': 10760,\n",
       " 'والازدهار': 87575,\n",
       " 'يعلق': 108375,\n",
       " 'يرسل': 106853,\n",
       " 'الرمز': 13659,\n",
       " 'واذا': 86176,\n",
       " 'ارسل': 3157,\n",
       " 'تدخله': 37955,\n",
       " 'يقبل': 108793,\n",
       " 'خطا': 46609,\n",
       " 'المصادقه': 20792,\n",
       " 'ياليت': 104713,\n",
       " 'تحدثو': 37345,\n",
       " 'رحله': 48793,\n",
       " 'ممتعه': 80159,\n",
       " 'وسائق': 96548,\n",
       " 'شكرا': 53179,\n",
       " 'سوي': 51887,\n",
       " 'مواعيد': 81074,\n",
       " 'الخطوط': 12701,\n",
       " 'خط': 46603,\n",
       " 'بحري': 30717,\n",
       " 'بوابه': 34652,\n",
       " 'اسيد': 4584,\n",
       " 'يااما': 104452,\n",
       " 'مافيش': 73580,\n",
       " 'ياريت': 104579,\n",
       " 'تزويد': 38565,\n",
       " 'المواعيد': 22152,\n",
       " 'وشكرا': 97214,\n",
       " 'ابتسامه': 228,\n",
       " 'بحجم': 30671,\n",
       " 'تمتمه': 41444,\n",
       " 'بالدعاء': 27601,\n",
       " 'للانصاري': 68940,\n",
       " 'يرحمه': 106825,\n",
       " 'يحسن': 106108,\n",
       " 'وبيشدك': 92871,\n",
       " 'باكواد': 26642,\n",
       " 'خصومات': 46582,\n",
       " 'وهميه': 102656,\n",
       " 'جيت': 44213,\n",
       " 'علشان': 56791,\n",
       " 'احط': 2032,\n",
       " 'الكود': 18416,\n",
       " 'ماطلبت': 73489,\n",
       " 'الاوردر': 8992,\n",
       " 'لقيت': 68423,\n",
       " 'كامل': 62657,\n",
       " 'كلمت': 63726,\n",
       " 'شات': 52477,\n",
       " 'المساعده': 20364,\n",
       " 'محدش': 75940,\n",
       " 'حل': 45547,\n",
       " 'زفت': 49831,\n",
       " 'ممتازه': 80116,\n",
       " 'ومفيده': 101431,\n",
       " 'دايما': 47234,\n",
       " 'ولانقدر': 99630,\n",
       " 'نحول': 82424,\n",
       " 'وحشه': 95275,\n",
       " 'مفيش': 79240,\n",
       " 'قسم': 61629,\n",
       " 'اطلب': 5312,\n",
       " 'ميوصلش': 81724,\n",
       " 'اداره': 2618,\n",
       " 'قربه': 61510,\n",
       " 'الخدماتوجود': 12566,\n",
       " 'للنزلاء': 70886,\n",
       " 'الشقق': 15007,\n",
       " 'شقتي': 53152,\n",
       " 'تطل': 39660,\n",
       " 'الشارع': 14728,\n",
       " 'العام': 16042,\n",
       " 'السيارات': 14626,\n",
       " 'عاليعدم': 55763,\n",
       " 'مانع': 73825,\n",
       " 'الضوء': 15615,\n",
       " 'الستائر': 14148,\n",
       " 'الاثاث': 7111,\n",
       " 'ويحتاج': 103322,\n",
       " 'تجديدتلفزيون': 37065,\n",
       " 'الصاله': 15244,\n",
       " 'جداالممرات': 43204,\n",
       " 'المؤديه': 18829,\n",
       " 'فرشها': 59401,\n",
       " 'يسبب': 107130,\n",
       " 'روائح': 49330,\n",
       " 'سيئهمكيفات': 51980,\n",
       " 'الشباك': 14796,\n",
       " 'قديمه': 61381,\n",
       " 'ومزعجه': 101013,\n",
       " 'مراا': 76640,\n",
       " 'ماشاالله': 73435,\n",
       " 'مرا': 76638,\n",
       " 'دجاج': 47267,\n",
       " 'كنتاكي': 63970,\n",
       " 'وصلني': 97494,\n",
       " 'الوكت': 23538,\n",
       " 'الشيقه': 15190,\n",
       " 'والممتعه': 91030,\n",
       " 'اسلوب': 4451,\n",
       " 'الكاتب': 18049,\n",
       " 'وطريقه': 97733,\n",
       " 'ترتيب': 38234,\n",
       " 'الجمل': 11622,\n",
       " 'اجهدتني': 1611,\n",
       " 'وقتلت': 98856,\n",
       " 'متعتي': 75018,\n",
       " 'القراءه': 17726,\n",
       " 'قراتها': 61455,\n",
       " 'مرحله': 76830,\n",
       " 'الطفوله': 15798,\n",
       " 'حازت': 44463,\n",
       " 'اعجابي': 5582,\n",
       " 'بدايتي': 31057,\n",
       " 'عالم': 55722,\n",
       " 'الروايات': 13711,\n",
       " 'لاحظت': 64773,\n",
       " 'الصدف': 15331,\n",
       " 'تحدث': 37339,\n",
       " 'متكرر': 75177,\n",
       " 'ساذج': 50259,\n",
       " 'يلاحظ': 109201,\n",
       " 'المتكرره': 19398,\n",
       " 'للمراهقين': 70613,\n",
       " 'معقده': 78832,\n",
       " 'والحبكه': 88772,\n",
       " 'بالافلام': 26859,\n",
       " 'تضم': 39538,\n",
       " 'مشاعر': 77758,\n",
       " 'الام': 8550,\n",
       " 'العظيمه': 16391,\n",
       " 'اظن': 5382,\n",
       " 'طفله': 55002,\n",
       " 'لتطوير': 66454,\n",
       " 'والتاكد': 88196,\n",
       " 'جوده': 44117,\n",
       " 'لحيانا': 67023,\n",
       " 'يوصل': 110135,\n",
       " 'طازج': 54700,\n",
       " 'وجبات': 94754,\n",
       " 'الكنتاكي': 18374,\n",
       " 'مغسله': 79026,\n",
       " 'الملابس': 21607,\n",
       " 'والسوبر': 89435,\n",
       " 'ماركت': 73336,\n",
       " 'يعتبر': 108180,\n",
       " 'غالي': 57401,\n",
       " 'بمقارنه': 33987,\n",
       " 'المنظر': 21971,\n",
       " 'البحري': 9314,\n",
       " 'الغرف': 16767,\n",
       " 'الملاصقه': 21622,\n",
       " 'فالعوازل': 58550,\n",
       " 'ضعيفهازدواجيه': 54500,\n",
       " 'القرار': 17740,\n",
       " 'خدمات': 46296,\n",
       " 'فاحدهم': 57996,\n",
       " 'والثاني': 88613,\n",
       " 'نعماتصل': 83282,\n",
       " 'بالاستقبال': 26780,\n",
       " 'وموظف': 101866,\n",
       " 'والاوردر': 87987,\n",
       " 'بيتاخر': 34991,\n",
       " 'وكلمتهم': 99352,\n",
       " 'ويقولولي': 104063,\n",
       " 'السائق': 14024,\n",
       " 'هيتواصل': 85182,\n",
       " 'معاكي': 78531,\n",
       " 'ومفيش': 101432,\n",
       " 'تحسين': 37483,\n",
       " 'كويس': 64226,\n",
       " 'وصف': 97443,\n",
       " 'لوجبات': 71908,\n",
       " 'مطابق': 78290,\n",
       " 'للحقيقه': 69460,\n",
       " 'اجمالي': 1579,\n",
       " 'لاباس': 64408,\n",
       " 'فااشل': 57894,\n",
       " 'استطيع': 3853,\n",
       " 'التسجيل': 10364,\n",
       " 'مرارا': 76674,\n",
       " 'وتكرارا': 94270,\n",
       " 'المرور': 20252,\n",
       " 'مستخدمه': 77341,\n",
       " 'غيرتها': 57828,\n",
       " 'الاشكال': 7988,\n",
       " 'احرف': 1944,\n",
       " 'وارقام': 86292,\n",
       " 'ونجمه': 102081,\n",
       " ...}"
      ]
     },
     "execution_count": 32,
     "metadata": {},
     "output_type": "execute_result"
    }
   ],
   "source": [
    "Vocabulary = CountVectorizer_.vocabulary_\n",
    "Vocabulary"
   ]
  },
  {
   "cell_type": "markdown",
   "metadata": {},
   "source": [
    "# Machine Learning"
   ]
  },
  {
   "cell_type": "markdown",
   "metadata": {},
   "source": [
    "**1-Naive Bayes**"
   ]
  },
  {
   "cell_type": "code",
   "execution_count": 33,
   "metadata": {},
   "outputs": [
    {
     "data": {
      "image/png": "[encoded data removed]",
      "text/plain": [
       "<Figure size 640x480 with 1 Axes>"
      ]
     },
     "metadata": {},
     "output_type": "display_data"
    }
   ],
   "source": [
    "Algorithm = MultinomialNB(alpha= 1)\n",
    "Naive_Bayes = machine_learning_model(algorithm=Algorithm)\n",
    "fit_model(model=Naive_Bayes, X_train=X_train_CV_, y_train=y_train)\n",
    "confusion_matrix_(model=Naive_Bayes, X_test=X_test_CV_, y_test=y_test, name='Naive Bayes')"
   ]
  },
  {
   "cell_type": "code",
   "execution_count": 34,
   "metadata": {},
   "outputs": [
    {
     "data": {
      "text/html": [
       "<div>\n",
       "<style scoped>\n",
       "    .dataframe tbody tr th:only-of-type {\n",
       "        vertical-align: middle;\n",
       "    }\n",
       "\n",
       "    .dataframe tbody tr th {\n",
       "        vertical-align: top;\n",
       "    }\n",
       "\n",
       "    .dataframe thead th {\n",
       "        text-align: right;\n",
       "    }\n",
       "</style>\n",
       "<table border=\"1\" class=\"dataframe\">\n",
       "  <thead>\n",
       "    <tr style=\"text-align: right;\">\n",
       "      <th></th>\n",
       "      <th>Values</th>\n",
       "    </tr>\n",
       "  </thead>\n",
       "  <tbody>\n",
       "    <tr>\n",
       "      <th>Accuracy</th>\n",
       "      <td>0.863980</td>\n",
       "    </tr>\n",
       "    <tr>\n",
       "      <th>Precision</th>\n",
       "      <td>0.867717</td>\n",
       "    </tr>\n",
       "    <tr>\n",
       "      <th>Recall</th>\n",
       "      <td>0.858916</td>\n",
       "    </tr>\n",
       "    <tr>\n",
       "      <th>F1Score</th>\n",
       "      <td>0.861023</td>\n",
       "    </tr>\n",
       "    <tr>\n",
       "      <th>Error</th>\n",
       "      <td>0.136020</td>\n",
       "    </tr>\n",
       "  </tbody>\n",
       "</table>\n",
       "</div>"
      ],
      "text/plain": [
       "             Values\n",
       "Accuracy   0.863980\n",
       "Precision  0.867717\n",
       "Recall     0.858916\n",
       "F1Score    0.861023\n",
       "Error      0.136020"
      ]
     },
     "execution_count": 34,
     "metadata": {},
     "output_type": "execute_result"
    }
   ],
   "source": [
    "metrics_values(model= Naive_Bayes, X_test=X_test_CV_, y_test=y_test)"
   ]
  },
  {
   "cell_type": "markdown",
   "metadata": {},
   "source": [
    "**2-Logistic Regression**"
   ]
  },
  {
   "cell_type": "code",
   "execution_count": 35,
   "metadata": {},
   "outputs": [
    {
     "data": {
      "image/png": "[encoded data removed]",
      "text/plain": [
       "<Figure size 640x480 with 1 Axes>"
      ]
     },
     "metadata": {},
     "output_type": "display_data"
    }
   ],
   "source": [
    "Algorithm = LogisticRegression()\n",
    "Logistic_Regression = machine_learning_model(algorithm=Algorithm)\n",
    "fit_model(model=Logistic_Regression, X_train=X_train_CV_, y_train=y_train)\n",
    "confusion_matrix_(Logistic_Regression, X_test=X_test_CV_, y_test=y_test, name='Logistic Regression')"
   ]
  },
  {
   "cell_type": "code",
   "execution_count": 36,
   "metadata": {},
   "outputs": [
    {
     "data": {
      "text/html": [
       "<div>\n",
       "<style scoped>\n",
       "    .dataframe tbody tr th:only-of-type {\n",
       "        vertical-align: middle;\n",
       "    }\n",
       "\n",
       "    .dataframe tbody tr th {\n",
       "        vertical-align: top;\n",
       "    }\n",
       "\n",
       "    .dataframe thead th {\n",
       "        text-align: right;\n",
       "    }\n",
       "</style>\n",
       "<table border=\"1\" class=\"dataframe\">\n",
       "  <thead>\n",
       "    <tr style=\"text-align: right;\">\n",
       "      <th></th>\n",
       "      <th>Values</th>\n",
       "    </tr>\n",
       "  </thead>\n",
       "  <tbody>\n",
       "    <tr>\n",
       "      <th>Accuracy</th>\n",
       "      <td>0.866483</td>\n",
       "    </tr>\n",
       "    <tr>\n",
       "      <th>Precision</th>\n",
       "      <td>0.867472</td>\n",
       "    </tr>\n",
       "    <tr>\n",
       "      <th>Recall</th>\n",
       "      <td>0.868221</td>\n",
       "    </tr>\n",
       "    <tr>\n",
       "      <th>F1Score</th>\n",
       "      <td>0.865802</td>\n",
       "    </tr>\n",
       "    <tr>\n",
       "      <th>Error</th>\n",
       "      <td>0.133517</td>\n",
       "    </tr>\n",
       "  </tbody>\n",
       "</table>\n",
       "</div>"
      ],
      "text/plain": [
       "             Values\n",
       "Accuracy   0.866483\n",
       "Precision  0.867472\n",
       "Recall     0.868221\n",
       "F1Score    0.865802\n",
       "Error      0.133517"
      ]
     },
     "execution_count": 36,
     "metadata": {},
     "output_type": "execute_result"
    }
   ],
   "source": [
    "metrics_values(model= Logistic_Regression, X_test=X_test_CV_, y_test=y_test)"
   ]
  },
  {
   "cell_type": "markdown",
   "metadata": {},
   "source": [
    "**3-Decision Tree**"
   ]
  },
  {
   "cell_type": "code",
   "execution_count": 37,
   "metadata": {},
   "outputs": [
    {
     "data": {
      "image/png": "[encoded data removed]",
      "text/plain": [
       "<Figure size 640x480 with 1 Axes>"
      ]
     },
     "metadata": {},
     "output_type": "display_data"
    }
   ],
   "source": [
    "Algorithm = DecisionTreeClassifier(criterion='gini')\n",
    "Decision_Tree = machine_learning_model(algorithm=Algorithm)\n",
    "fit_model(model=Decision_Tree, X_train=X_train_CV_, y_train=y_train)\n",
    "confusion_matrix_(model=Decision_Tree, X_test=X_test_CV_, y_test=y_test, name='Decision Tree')"
   ]
  },
  {
   "cell_type": "code",
   "execution_count": 38,
   "metadata": {},
   "outputs": [
    {
     "data": {
      "text/html": [
       "<div>\n",
       "<style scoped>\n",
       "    .dataframe tbody tr th:only-of-type {\n",
       "        vertical-align: middle;\n",
       "    }\n",
       "\n",
       "    .dataframe tbody tr th {\n",
       "        vertical-align: top;\n",
       "    }\n",
       "\n",
       "    .dataframe thead th {\n",
       "        text-align: right;\n",
       "    }\n",
       "</style>\n",
       "<table border=\"1\" class=\"dataframe\">\n",
       "  <thead>\n",
       "    <tr style=\"text-align: right;\">\n",
       "      <th></th>\n",
       "      <th>Values</th>\n",
       "    </tr>\n",
       "  </thead>\n",
       "  <tbody>\n",
       "    <tr>\n",
       "      <th>Accuracy</th>\n",
       "      <td>0.784861</td>\n",
       "    </tr>\n",
       "    <tr>\n",
       "      <th>Precision</th>\n",
       "      <td>0.783018</td>\n",
       "    </tr>\n",
       "    <tr>\n",
       "      <th>Recall</th>\n",
       "      <td>0.782873</td>\n",
       "    </tr>\n",
       "    <tr>\n",
       "      <th>F1Score</th>\n",
       "      <td>0.782915</td>\n",
       "    </tr>\n",
       "    <tr>\n",
       "      <th>Error</th>\n",
       "      <td>0.215139</td>\n",
       "    </tr>\n",
       "  </tbody>\n",
       "</table>\n",
       "</div>"
      ],
      "text/plain": [
       "             Values\n",
       "Accuracy   0.784861\n",
       "Precision  0.783018\n",
       "Recall     0.782873\n",
       "F1Score    0.782915\n",
       "Error      0.215139"
      ]
     },
     "execution_count": 38,
     "metadata": {},
     "output_type": "execute_result"
    }
   ],
   "source": [
    "metrics_values(model= Decision_Tree, X_test=X_test_CV_, y_test=y_test)"
   ]
  },
  {
   "cell_type": "markdown",
   "metadata": {},
   "source": [
    "**4-K Nearest Neighbors**"
   ]
  },
  {
   "cell_type": "code",
   "execution_count": 39,
   "metadata": {},
   "outputs": [
    {
     "data": {
      "image/png": "[encoded data removed]",
      "text/plain": [
       "<Figure size 640x480 with 1 Axes>"
      ]
     },
     "metadata": {},
     "output_type": "display_data"
    }
   ],
   "source": [
    "Algorithm =KNeighborsClassifier(metric='euclidean', n_neighbors=5)\n",
    "K_Nearest_Neighbors = machine_learning_model(algorithm=Algorithm)\n",
    "fit_model(model=K_Nearest_Neighbors, X_train=X_train_CV_, y_train=y_train)\n",
    "confusion_matrix_(model=K_Nearest_Neighbors, X_test=X_test_CV_, y_test=y_test, name='K Nearest Neighbors')"
   ]
  },
  {
   "cell_type": "code",
   "execution_count": 40,
   "metadata": {},
   "outputs": [
    {
     "data": {
      "text/html": [
       "<div>\n",
       "<style scoped>\n",
       "    .dataframe tbody tr th:only-of-type {\n",
       "        vertical-align: middle;\n",
       "    }\n",
       "\n",
       "    .dataframe tbody tr th {\n",
       "        vertical-align: top;\n",
       "    }\n",
       "\n",
       "    .dataframe thead th {\n",
       "        text-align: right;\n",
       "    }\n",
       "</style>\n",
       "<table border=\"1\" class=\"dataframe\">\n",
       "  <thead>\n",
       "    <tr style=\"text-align: right;\">\n",
       "      <th></th>\n",
       "      <th>Values</th>\n",
       "    </tr>\n",
       "  </thead>\n",
       "  <tbody>\n",
       "    <tr>\n",
       "      <th>Accuracy</th>\n",
       "      <td>0.673358</td>\n",
       "    </tr>\n",
       "    <tr>\n",
       "      <th>Precision</th>\n",
       "      <td>0.681922</td>\n",
       "    </tr>\n",
       "    <tr>\n",
       "      <th>Recall</th>\n",
       "      <td>0.681302</td>\n",
       "    </tr>\n",
       "    <tr>\n",
       "      <th>F1Score</th>\n",
       "      <td>0.670819</td>\n",
       "    </tr>\n",
       "    <tr>\n",
       "      <th>Error</th>\n",
       "      <td>0.326642</td>\n",
       "    </tr>\n",
       "  </tbody>\n",
       "</table>\n",
       "</div>"
      ],
      "text/plain": [
       "             Values\n",
       "Accuracy   0.673358\n",
       "Precision  0.681922\n",
       "Recall     0.681302\n",
       "F1Score    0.670819\n",
       "Error      0.326642"
      ]
     },
     "execution_count": 40,
     "metadata": {},
     "output_type": "execute_result"
    }
   ],
   "source": [
    "metrics_values(model= K_Nearest_Neighbors, X_test=X_test_CV_, y_test=y_test)"
   ]
  },
  {
   "cell_type": "markdown",
   "metadata": {},
   "source": [
    "**5-Random Forest**"
   ]
  },
  {
   "cell_type": "code",
   "execution_count": 41,
   "metadata": {},
   "outputs": [
    {
     "data": {
      "image/png": "[encoded data removed]",
      "text/plain": [
       "<Figure size 640x480 with 1 Axes>"
      ]
     },
     "metadata": {},
     "output_type": "display_data"
    }
   ],
   "source": [
    "Algorithm = RandomForestClassifier(criterion = 'entropy', n_estimators=300)\n",
    "Random_Forest = machine_learning_model(algorithm=Algorithm)\n",
    "fit_model(model=Random_Forest, X_train=X_train_CV_, y_train=y_train)\n",
    "confusion_matrix_(model=Random_Forest, X_test=X_test_CV_, y_test=y_test, name='Random Forest')"
   ]
  },
  {
   "cell_type": "code",
   "execution_count": 42,
   "metadata": {},
   "outputs": [
    {
     "data": {
      "text/html": [
       "<div>\n",
       "<style scoped>\n",
       "    .dataframe tbody tr th:only-of-type {\n",
       "        vertical-align: middle;\n",
       "    }\n",
       "\n",
       "    .dataframe tbody tr th {\n",
       "        vertical-align: top;\n",
       "    }\n",
       "\n",
       "    .dataframe thead th {\n",
       "        text-align: right;\n",
       "    }\n",
       "</style>\n",
       "<table border=\"1\" class=\"dataframe\">\n",
       "  <thead>\n",
       "    <tr style=\"text-align: right;\">\n",
       "      <th></th>\n",
       "      <th>Values</th>\n",
       "    </tr>\n",
       "  </thead>\n",
       "  <tbody>\n",
       "    <tr>\n",
       "      <th>Accuracy</th>\n",
       "      <td>0.839463</td>\n",
       "    </tr>\n",
       "    <tr>\n",
       "      <th>Precision</th>\n",
       "      <td>0.837603</td>\n",
       "    </tr>\n",
       "    <tr>\n",
       "      <th>Recall</th>\n",
       "      <td>0.838075</td>\n",
       "    </tr>\n",
       "    <tr>\n",
       "      <th>F1Score</th>\n",
       "      <td>0.837818</td>\n",
       "    </tr>\n",
       "    <tr>\n",
       "      <th>Error</th>\n",
       "      <td>0.160537</td>\n",
       "    </tr>\n",
       "  </tbody>\n",
       "</table>\n",
       "</div>"
      ],
      "text/plain": [
       "             Values\n",
       "Accuracy   0.839463\n",
       "Precision  0.837603\n",
       "Recall     0.838075\n",
       "F1Score    0.837818\n",
       "Error      0.160537"
      ]
     },
     "execution_count": 42,
     "metadata": {},
     "output_type": "execute_result"
    }
   ],
   "source": [
    "metrics_values(model= Random_Forest, X_test=X_test_CV_, y_test=y_test)"
   ]
  },
  {
   "cell_type": "markdown",
   "metadata": {},
   "source": [
    "**6-SGD Classifier**"
   ]
  },
  {
   "cell_type": "code",
   "execution_count": 43,
   "metadata": {},
   "outputs": [
    {
     "data": {
      "image/png": "[encoded data removed]",
      "text/plain": [
       "<Figure size 640x480 with 1 Axes>"
      ]
     },
     "metadata": {},
     "output_type": "display_data"
    }
   ],
   "source": [
    "Algorithm = SGDClassifier(loss='hinge')\n",
    "SGD = machine_learning_model(algorithm=Algorithm)\n",
    "fit_model(model=SGD, X_train=X_train_CV_, y_train=y_train)\n",
    "confusion_matrix_(model=SGD, X_test=X_test_CV_, y_test=y_test, name='SGD Classifier')"
   ]
  },
  {
   "cell_type": "code",
   "execution_count": 44,
   "metadata": {},
   "outputs": [
    {
     "data": {
      "text/html": [
       "<div>\n",
       "<style scoped>\n",
       "    .dataframe tbody tr th:only-of-type {\n",
       "        vertical-align: middle;\n",
       "    }\n",
       "\n",
       "    .dataframe tbody tr th {\n",
       "        vertical-align: top;\n",
       "    }\n",
       "\n",
       "    .dataframe thead th {\n",
       "        text-align: right;\n",
       "    }\n",
       "</style>\n",
       "<table border=\"1\" class=\"dataframe\">\n",
       "  <thead>\n",
       "    <tr style=\"text-align: right;\">\n",
       "      <th></th>\n",
       "      <th>Values</th>\n",
       "    </tr>\n",
       "  </thead>\n",
       "  <tbody>\n",
       "    <tr>\n",
       "      <th>Accuracy</th>\n",
       "      <td>0.865666</td>\n",
       "    </tr>\n",
       "    <tr>\n",
       "      <th>Precision</th>\n",
       "      <td>0.868868</td>\n",
       "    </tr>\n",
       "    <tr>\n",
       "      <th>Recall</th>\n",
       "      <td>0.867981</td>\n",
       "    </tr>\n",
       "    <tr>\n",
       "      <th>F1Score</th>\n",
       "      <td>0.865079</td>\n",
       "    </tr>\n",
       "    <tr>\n",
       "      <th>Error</th>\n",
       "      <td>0.134334</td>\n",
       "    </tr>\n",
       "  </tbody>\n",
       "</table>\n",
       "</div>"
      ],
      "text/plain": [
       "             Values\n",
       "Accuracy   0.865666\n",
       "Precision  0.868868\n",
       "Recall     0.867981\n",
       "F1Score    0.865079\n",
       "Error      0.134334"
      ]
     },
     "execution_count": 44,
     "metadata": {},
     "output_type": "execute_result"
    }
   ],
   "source": [
    "metrics_values(model= SGD, X_test=X_test_CV_, y_test=y_test)"
   ]
  },
  {
   "cell_type": "markdown",
   "metadata": {},
   "source": [
    "# Deep Learning"
   ]
  },
  {
   "cell_type": "code",
   "execution_count": 45,
   "metadata": {},
   "outputs": [],
   "source": [
    "embedding_dim = 32\n",
    "vocab_size, max_length, encoded_X_train , encoded_X_test = deeplearning_preprcosesing_(X_train=X_train, X_test=X_test,  truncating='pre', padding='pre')"
   ]
  },
  {
   "cell_type": "code",
   "execution_count": 46,
   "metadata": {},
   "outputs": [
    {
     "name": "stdout",
     "output_type": "stream",
     "text": [
      "The Vocab Size Is : 110329\n",
      "\n",
      "The Max Length Is : 919\n"
     ]
    }
   ],
   "source": [
    "print('The Vocab Size Is :',vocab_size)\n",
    "print('')\n",
    "print('The Max Length Is :', max_length)"
   ]
  },
  {
   "cell_type": "code",
   "execution_count": 47,
   "metadata": {},
   "outputs": [],
   "source": [
    "y_train = tf.keras.utils.to_categorical(y_train)\n",
    "y_test = tf.keras.utils.to_categorical(y_test)"
   ]
  },
  {
   "cell_type": "code",
   "execution_count": 48,
   "metadata": {},
   "outputs": [],
   "source": [
    "Callback = tf.keras.callbacks.EarlyStopping(\n",
    "                    monitor=\"accuracy\",\n",
    "                    mode=\"max\",\n",
    "                    patience=3\n",
    "                )"
   ]
  },
  {
   "cell_type": "markdown",
   "metadata": {},
   "source": [
    "**7-Convolutional Neural Network**"
   ]
  },
  {
   "cell_type": "code",
   "execution_count": 49,
   "metadata": {},
   "outputs": [
    {
     "name": "stdout",
     "output_type": "stream",
     "text": [
      "Epoch 1/10\n",
      "1428/1428 [==============================] - 149s 104ms/step - loss: 0.8256 - accuracy: 0.5595 - val_loss: 0.6640 - val_accuracy: 0.6282\n",
      "Epoch 2/10\n",
      "1428/1428 [==============================] - 39s 27ms/step - loss: 0.5697 - accuracy: 0.7590 - val_loss: 0.5242 - val_accuracy: 0.8003\n",
      "Epoch 3/10\n",
      "1428/1428 [==============================] - 38s 26ms/step - loss: 0.4513 - accuracy: 0.8277 - val_loss: 0.5170 - val_accuracy: 0.8114\n",
      "Epoch 4/10\n",
      "1428/1428 [==============================] - 40s 28ms/step - loss: 0.3913 - accuracy: 0.8575 - val_loss: 0.5307 - val_accuracy: 0.8091\n",
      "Epoch 5/10\n",
      "1428/1428 [==============================] - 37s 26ms/step - loss: 0.3383 - accuracy: 0.8824 - val_loss: 0.5191 - val_accuracy: 0.8198\n",
      "Epoch 6/10\n",
      "1428/1428 [==============================] - 35s 24ms/step - loss: 0.2915 - accuracy: 0.9020 - val_loss: 0.5237 - val_accuracy: 0.8206\n",
      "Epoch 7/10\n",
      "1428/1428 [==============================] - 34s 24ms/step - loss: 0.2584 - accuracy: 0.9132 - val_loss: 0.5379 - val_accuracy: 0.8204\n",
      "Epoch 8/10\n",
      "1428/1428 [==============================] - 34s 24ms/step - loss: 0.2473 - accuracy: 0.9176 - val_loss: 0.5516 - val_accuracy: 0.8181\n",
      "Epoch 9/10\n",
      "1428/1428 [==============================] - 34s 24ms/step - loss: 0.2362 - accuracy: 0.9199 - val_loss: 0.5644 - val_accuracy: 0.8185\n",
      "Epoch 10/10\n",
      "1428/1428 [==============================] - 34s 24ms/step - loss: 0.2225 - accuracy: 0.9281 - val_loss: 0.5929 - val_accuracy: 0.8178\n"
     ]
    },
    {
     "data": {
      "image/png": "[encoded data removed]",
      "text/plain": [
       "<Figure size 640x480 with 1 Axes>"
      ]
     },
     "metadata": {},
     "output_type": "display_data"
    },
    {
     "name": "stdout",
     "output_type": "stream",
     "text": [
      " \n",
      "The Training Loss is 0.1634, And Training Accuracy is 0.9526\n",
      " \n",
      "The Testing Loss is 0.5929, And Testing Accuracy is 0.8178\n"
     ]
    }
   ],
   "source": [
    "convolutional_neural_network = convolutional_neural_network_1d(vocab_size=vocab_size + 1, embedding_dim=embedding_dim, max_length=max_length, dropout=0.6, kernel=2, filters=32, strides=3, padding='same')\n",
    "model_compile(model=convolutional_neural_network)\n",
    "history = model_fit(model=convolutional_neural_network, X_train=encoded_X_train, y_train=y_train, epochs=10, X_test=encoded_X_test, y_test=y_test, batch_size=32, Callback=Callback, shuffle=True)\n",
    "plot_accuracy_loss(histoty=history)\n",
    "evaluate(model=convolutional_neural_network, x=encoded_X_train, y=y_train, train_test='Training')\n",
    "evaluate(model=convolutional_neural_network, x=encoded_X_test, y=y_test, train_test='Testing')"
   ]
  },
  {
   "cell_type": "markdown",
   "metadata": {},
   "source": [
    "**8-LSTM**"
   ]
  },
  {
   "cell_type": "markdown",
   "metadata": {},
   "source": []
  },
  {
   "cell_type": "code",
   "execution_count": 50,
   "metadata": {},
   "outputs": [
    {
     "name": "stdout",
     "output_type": "stream",
     "text": [
      "Epoch 1/5\n",
      "714/714 [==============================] - 173s 240ms/step - loss: 0.4841 - accuracy: 0.8101 - val_loss: 0.3432 - val_accuracy: 0.8749\n",
      "Epoch 2/5\n",
      "714/714 [==============================] - 138s 193ms/step - loss: 0.3728 - accuracy: 0.8734 - val_loss: 0.3724 - val_accuracy: 0.8582\n",
      "Epoch 3/5\n",
      "714/714 [==============================] - 131s 183ms/step - loss: 0.2185 - accuracy: 0.9273 - val_loss: 0.3767 - val_accuracy: 0.8687\n",
      "Epoch 4/5\n",
      "714/714 [==============================] - 110s 154ms/step - loss: 0.1481 - accuracy: 0.9546 - val_loss: 0.4215 - val_accuracy: 0.8619\n",
      "Epoch 5/5\n",
      "714/714 [==============================] - 130s 182ms/step - loss: 0.1129 - accuracy: 0.9659 - val_loss: 0.4795 - val_accuracy: 0.8557\n"
     ]
    },
    {
     "data": {
      "image/png": "[encoded data removed]",
      "text/plain": [
       "<Figure size 640x480 with 1 Axes>"
      ]
     },
     "metadata": {},
     "output_type": "display_data"
    },
    {
     "name": "stdout",
     "output_type": "stream",
     "text": [
      " \n",
      "The Training Loss is 0.0794, And Training Accuracy is 0.9771\n",
      " \n",
      "The Testing Loss is 0.4795, And Testing Accuracy is 0.8557\n"
     ]
    }
   ],
   "source": [
    "LSTM =lstm_(vocab_size= vocab_size + 1, embedding_dim= embedding_dim, max_length= max_length, dropout=0.5, units=64)\n",
    "model_compile(model=LSTM)\n",
    "history = model_fit(model=LSTM, X_train=encoded_X_train, y_train=y_train, epochs=5, X_test=encoded_X_test, y_test=y_test, batch_size=64, Callback=Callback, shuffle=True)\n",
    "plot_accuracy_loss(histoty=history)\n",
    "evaluate(model=LSTM, x=encoded_X_train, y=y_train, train_test='Training')\n",
    "evaluate(model=LSTM, x=encoded_X_test,y= y_test, train_test='Testing')"
   ]
  },
  {
   "cell_type": "markdown",
   "metadata": {},
   "source": [
    "**9-GRU**"
   ]
  },
  {
   "cell_type": "code",
   "execution_count": 51,
   "metadata": {},
   "outputs": [
    {
     "name": "stdout",
     "output_type": "stream",
     "text": [
      "Epoch 1/5\n",
      "714/714 [==============================] - 127s 175ms/step - loss: 0.4682 - accuracy: 0.8127 - val_loss: 0.3468 - val_accuracy: 0.8751\n",
      "Epoch 2/5\n",
      "714/714 [==============================] - 125s 175ms/step - loss: 0.2400 - accuracy: 0.9168 - val_loss: 0.3590 - val_accuracy: 0.8682\n",
      "Epoch 3/5\n",
      "714/714 [==============================] - 112s 156ms/step - loss: 0.1539 - accuracy: 0.9512 - val_loss: 0.4139 - val_accuracy: 0.8630\n",
      "Epoch 4/5\n",
      "714/714 [==============================] - 108s 152ms/step - loss: 0.1097 - accuracy: 0.9644 - val_loss: 0.4738 - val_accuracy: 0.8604\n",
      "Epoch 5/5\n",
      "714/714 [==============================] - 109s 152ms/step - loss: 0.0876 - accuracy: 0.9710 - val_loss: 0.5106 - val_accuracy: 0.8433\n"
     ]
    },
    {
     "data": {
      "image/png": "[encoded data removed]",
      "text/plain": [
       "<Figure size 640x480 with 1 Axes>"
      ]
     },
     "metadata": {},
     "output_type": "display_data"
    },
    {
     "name": "stdout",
     "output_type": "stream",
     "text": [
      " \n",
      "The Training Loss is 0.0642, And Training Accuracy is 0.9802\n",
      " \n",
      "The Testing Loss is 0.5106, And Testing Accuracy is 0.8433\n"
     ]
    }
   ],
   "source": [
    "GRU_=gru_(vocab_size= vocab_size + 1, embedding_dim= embedding_dim, max_length= max_length, dropout=0.3, units=64)\n",
    "model_compile(model=GRU_)\n",
    "history = model_fit(model=GRU_, X_train=encoded_X_train, y_train=y_train, epochs=5, X_test=encoded_X_test, y_test=y_test, batch_size=64, Callback=Callback, shuffle=True)\n",
    "plot_accuracy_loss(histoty=history)\n",
    "evaluate(model=GRU_, x=encoded_X_train, y=y_train, train_test='Training')\n",
    "evaluate(model=GRU_, x=encoded_X_test,y= y_test, train_test='Testing')"
   ]
  },
  {
   "cell_type": "markdown",
   "metadata": {},
   "source": [
    "* In Future Work I Wiil Try To Decrease The Loss Values\n",
    "* Using Transformer "
   ]
  },
  {
   "cell_type": "markdown",
   "metadata": {},
   "source": []
  }
 ],
 "metadata": {
  "kernelspec": {
   "display_name": "Python 3 (ipykernel)",
   "language": "python",
   "name": "python3"
  },
  "language_info": {
   "codemirror_mode": {
    "name": "ipython",
    "version": 3
   },
   "file_extension": ".py",
   "mimetype": "text/x-python",
   "name": "python",
   "nbconvert_exporter": "python",
   "pygments_lexer": "ipython3",
   "version": "3.11.7"
  }
 },
 "nbformat": 4,
 "nbformat_minor": 4
}
