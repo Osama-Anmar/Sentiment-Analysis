{
 "cells": [
  {
   "cell_type": "markdown",
   "metadata": {},
   "source": [
    "# Import Libraries\n"
   ]
  },
  {
   "cell_type": "code",
   "execution_count": 1,
   "metadata": {},
   "outputs": [],
   "source": [
    "import pandas as pd\n",
    "import numpy as np\n",
    "import nltk\n",
    "import tensorflow as tf\n",
    "from keras.layers import *\n",
    "from tensorflow import *\n",
    "from keras.preprocessing.sequence import pad_sequences\n",
    "from keras.preprocessing.text import Tokenizer\n",
    "from keras.preprocessing import *\n",
    "from nltk.stem import  WordNetLemmatizer\n",
    "from nltk.corpus import stopwords\n",
    "import re\n",
    "import os\n",
    "from nltk.tokenize import word_tokenize, sent_tokenize\n",
    "import matplotlib.pyplot as plt\n",
    "import seaborn as sns\n",
    "from sklearn.tree import DecisionTreeClassifier\n",
    "from sklearn.naive_bayes import MultinomialNB\n",
    "from sklearn.neighbors import KNeighborsClassifier\n",
    "from sklearn.linear_model import LogisticRegression\n",
    "from sklearn.ensemble import RandomForestClassifier\n",
    "from sklearn.model_selection import train_test_split\n",
    "from sklearn.metrics import confusion_matrix\n",
    "from sklearn.feature_extraction.text import  TfidfVectorizer\n",
    "from sklearn.linear_model import SGDClassifier\n",
    "from sklearn.preprocessing import LabelEncoder\n",
    "import warnings\n",
    "import random\n",
    "import emoji\n",
    "from wordcloud import WordCloud\n",
    "import plotly.express as px\n",
    "from nltk import pos_tag\n",
    "from plotly import graph_objects as go\n",
    "from collections import Counter\n",
    "import string\n",
    "pd.options.display.max_rows = 100\n",
    "pd.options.display.max_columns =None \n",
    "random.seed(10)"
   ]
  },
  {
   "cell_type": "code",
   "execution_count": 2,
   "metadata": {},
   "outputs": [],
   "source": [
    "colors1 = ['#ecf5e6','#8ec86d']\n",
    "colors2 = ['#c6e9bb', '#b3e2a4']\n",
    "color3 = ['Salmon', 'FireBrick', 'MediumVioletRed', 'Tomato', 'Orange', 'Gold', 'DarkKhaki', 'Lavender', 'Plum', 'LimeGreen', 'MediumSpringGreen', 'Green', 'DeepSkyBlue', 'Aquamarine', 'MediumSlateBlue']"
   ]
  },
  {
   "cell_type": "markdown",
   "metadata": {},
   "source": [
    "# Download Some Packages"
   ]
  },
  {
   "cell_type": "code",
   "execution_count": 3,
   "metadata": {},
   "outputs": [
    {
     "name": "stderr",
     "output_type": "stream",
     "text": [
      "[nltk_data] Downloading package punkt to\n",
      "[nltk_data]     /Users/osamaanmar/nltk_data...\n",
      "[nltk_data]   Package punkt is already up-to-date!\n",
      "[nltk_data] Downloading package wordnet to\n",
      "[nltk_data]     /Users/osamaanmar/nltk_data...\n",
      "[nltk_data]   Package wordnet is already up-to-date!\n",
      "[nltk_data] Downloading package stopwords to\n",
      "[nltk_data]     /Users/osamaanmar/nltk_data...\n",
      "[nltk_data]   Package stopwords is already up-to-date!\n",
      "[nltk_data] Downloading package averaged_perceptron_tagger to\n",
      "[nltk_data]     /Users/osamaanmar/nltk_data...\n",
      "[nltk_data]   Package averaged_perceptron_tagger is already up-to-\n",
      "[nltk_data]       date!\n"
     ]
    },
    {
     "data": {
      "text/plain": [
       "True"
      ]
     },
     "execution_count": 3,
     "metadata": {},
     "output_type": "execute_result"
    }
   ],
   "source": [
    "nltk.download('punkt')\n",
    "nltk.download('wordnet')\n",
    "nltk.download('stopwords')\n",
    "nltk.download('averaged_perceptron_tagger')"
   ]
  },
  {
   "cell_type": "markdown",
   "metadata": {},
   "source": [
    "# Ignore Warnings"
   ]
  },
  {
   "cell_type": "code",
   "execution_count": 4,
   "metadata": {},
   "outputs": [],
   "source": [
    "os.environ['TF_CPP_MIN_LOG_LEVEL'] = '3'\n",
    "warnings.filterwarnings(action='ignore')"
   ]
  },
  {
   "cell_type": "markdown",
   "metadata": {},
   "source": [
    "# Read Data"
   ]
  },
  {
   "cell_type": "code",
   "execution_count": 5,
   "metadata": {},
   "outputs": [
    {
     "data": {
      "text/html": [
       "<div>\n",
       "<style scoped>\n",
       "    .dataframe tbody tr th:only-of-type {\n",
       "        vertical-align: middle;\n",
       "    }\n",
       "\n",
       "    .dataframe tbody tr th {\n",
       "        vertical-align: top;\n",
       "    }\n",
       "\n",
       "    .dataframe thead th {\n",
       "        text-align: right;\n",
       "    }\n",
       "</style>\n",
       "<table border=\"1\" class=\"dataframe\">\n",
       "  <thead>\n",
       "    <tr style=\"text-align: right;\">\n",
       "      <th></th>\n",
       "      <th>Sentiment</th>\n",
       "      <th>Review</th>\n",
       "    </tr>\n",
       "  </thead>\n",
       "  <tbody>\n",
       "    <tr>\n",
       "      <th>0</th>\n",
       "      <td>Positive</td>\n",
       "      <td>With all this stuff going down at the moment w...</td>\n",
       "    </tr>\n",
       "    <tr>\n",
       "      <th>1</th>\n",
       "      <td>Positive</td>\n",
       "      <td>'The Classic War of the Worlds' by Timothy Hin...</td>\n",
       "    </tr>\n",
       "    <tr>\n",
       "      <th>2</th>\n",
       "      <td>Negative</td>\n",
       "      <td>The film starts with a manager (Nicholas Bell)...</td>\n",
       "    </tr>\n",
       "    <tr>\n",
       "      <th>3</th>\n",
       "      <td>Negative</td>\n",
       "      <td>It must be assumed that those who praised this...</td>\n",
       "    </tr>\n",
       "    <tr>\n",
       "      <th>4</th>\n",
       "      <td>Positive</td>\n",
       "      <td>Superbly trashy and wondrously unpretentious 8...</td>\n",
       "    </tr>\n",
       "    <tr>\n",
       "      <th>...</th>\n",
       "      <td>...</td>\n",
       "      <td>...</td>\n",
       "    </tr>\n",
       "    <tr>\n",
       "      <th>24995</th>\n",
       "      <td>Negative</td>\n",
       "      <td>It seems like more consideration has gone into...</td>\n",
       "    </tr>\n",
       "    <tr>\n",
       "      <th>24996</th>\n",
       "      <td>Negative</td>\n",
       "      <td>I don't believe they made this film. Completel...</td>\n",
       "    </tr>\n",
       "    <tr>\n",
       "      <th>24997</th>\n",
       "      <td>Negative</td>\n",
       "      <td>Guy is a loser. Can't get girls, needs to buil...</td>\n",
       "    </tr>\n",
       "    <tr>\n",
       "      <th>24998</th>\n",
       "      <td>Negative</td>\n",
       "      <td>This 30 minute documentary Buñuel made in the ...</td>\n",
       "    </tr>\n",
       "    <tr>\n",
       "      <th>24999</th>\n",
       "      <td>Positive</td>\n",
       "      <td>I saw this movie as a child and it broke my he...</td>\n",
       "    </tr>\n",
       "  </tbody>\n",
       "</table>\n",
       "<p>25000 rows × 2 columns</p>\n",
       "</div>"
      ],
      "text/plain": [
       "      Sentiment                                             Review\n",
       "0      Positive  With all this stuff going down at the moment w...\n",
       "1      Positive  'The Classic War of the Worlds' by Timothy Hin...\n",
       "2      Negative  The film starts with a manager (Nicholas Bell)...\n",
       "3      Negative  It must be assumed that those who praised this...\n",
       "4      Positive  Superbly trashy and wondrously unpretentious 8...\n",
       "...         ...                                                ...\n",
       "24995  Negative  It seems like more consideration has gone into...\n",
       "24996  Negative  I don't believe they made this film. Completel...\n",
       "24997  Negative  Guy is a loser. Can't get girls, needs to buil...\n",
       "24998  Negative  This 30 minute documentary Buñuel made in the ...\n",
       "24999  Positive  I saw this movie as a child and it broke my he...\n",
       "\n",
       "[25000 rows x 2 columns]"
      ]
     },
     "execution_count": 5,
     "metadata": {},
     "output_type": "execute_result"
    }
   ],
   "source": [
    "Corpus = pd.read_csv('MovieReviewTrainingDatabase.csv')\n",
    "Corpus.rename(columns={'review': 'Review', 'sentiment': 'Sentiment'}, inplace=True)\n",
    "Corpus\n"
   ]
  },
  {
   "cell_type": "markdown",
   "metadata": {},
   "source": [
    "# Percantage Of Each Sentiment"
   ]
  },
  {
   "cell_type": "code",
   "execution_count": 6,
   "metadata": {},
   "outputs": [
    {
     "data": {
      "image/png": "[encoded data removed]",
      "text/plain": [
       "<Figure size 600x600 with 1 Axes>"
      ]
     },
     "metadata": {},
     "output_type": "display_data"
    }
   ],
   "source": [
    "Corpus['Sentiment'].value_counts().plot.pie(autopct = '%0.1f%%',\n",
    "                                                    textprops = {'size': 'large'},\n",
    "                                                    title = 'Sentiment Percentage',\n",
    "                                                    figsize = (6,6),\n",
    "                                                    colors = colors1,\n",
    "                                                    ylabel = ' ');"
   ]
  },
  {
   "cell_type": "markdown",
   "metadata": {},
   "source": [
    "# Count Of Each Sentiment"
   ]
  },
  {
   "cell_type": "code",
   "execution_count": 7,
   "metadata": {},
   "outputs": [
    {
     "data": {
      "image/png": "[encoded data removed]",
      "text/plain": [
       "<Figure size 600x600 with 1 Axes>"
      ]
     },
     "metadata": {},
     "output_type": "display_data"
    }
   ],
   "source": [
    "ax, fig = plt.subplots(figsize = (6,6))\n",
    "ax =sns.countplot(x='Sentiment', data=Corpus, dodge=False, hue='Sentiment',  order= Corpus['Sentiment'].value_counts().index, hue_order =Corpus['Sentiment'].value_counts().index,  palette=colors2);\n",
    "ax.set(xticklabels=[]) \n",
    "ax.set(ylabel=None) \n",
    "plt.title('Sentiment Count')\n",
    "sns.move_legend(ax, \"upper left\", bbox_to_anchor=(1, 1))\n",
    "plt.show()"
   ]
  },
  {
   "cell_type": "markdown",
   "metadata": {},
   "source": [
    "# Number Of Sentences"
   ]
  },
  {
   "cell_type": "code",
   "execution_count": 8,
   "metadata": {},
   "outputs": [],
   "source": [
    "Corpus['NumberOfSentences'] = Corpus['Review'].apply(lambda n:len(sent_tokenize(n)))\n",
    "Corpus.drop(Corpus[ Corpus[\"NumberOfSentences\"] == 0].index, inplace = True)\n"
   ]
  },
  {
   "cell_type": "code",
   "execution_count": 9,
   "metadata": {},
   "outputs": [
    {
     "data": {
      "text/plain": [
       "311468"
      ]
     },
     "execution_count": 9,
     "metadata": {},
     "output_type": "execute_result"
    }
   ],
   "source": [
    "Corpus['NumberOfSentences'].sum()"
   ]
  },
  {
   "cell_type": "markdown",
   "metadata": {},
   "source": [
    "# Average Number Of Sentences"
   ]
  },
  {
   "cell_type": "code",
   "execution_count": 10,
   "metadata": {},
   "outputs": [
    {
     "data": {
      "text/plain": [
       "12"
      ]
     },
     "execution_count": 10,
     "metadata": {},
     "output_type": "execute_result"
    }
   ],
   "source": [
    "AverageNumberOfSentence = int(np.round(Corpus[\"NumberOfSentences\"].mean()))\n",
    "AverageNumberOfSentence"
   ]
  },
  {
   "cell_type": "markdown",
   "metadata": {},
   "source": [
    "# Maximum Number Of Sentences"
   ]
  },
  {
   "cell_type": "code",
   "execution_count": 11,
   "metadata": {},
   "outputs": [
    {
     "data": {
      "text/plain": [
       "282"
      ]
     },
     "execution_count": 11,
     "metadata": {},
     "output_type": "execute_result"
    }
   ],
   "source": [
    "MaximumNumberOfSentence = Corpus[\"NumberOfSentences\"].max()\n",
    "MaximumNumberOfSentence"
   ]
  },
  {
   "cell_type": "markdown",
   "metadata": {},
   "source": [
    "# Minimum Number Of Sentences"
   ]
  },
  {
   "cell_type": "code",
   "execution_count": 12,
   "metadata": {},
   "outputs": [
    {
     "data": {
      "text/plain": [
       "1"
      ]
     },
     "execution_count": 12,
     "metadata": {},
     "output_type": "execute_result"
    }
   ],
   "source": [
    "MinimumNumberOfSentence = Corpus[\"NumberOfSentences\"].min()\n",
    "MinimumNumberOfSentence"
   ]
  },
  {
   "cell_type": "markdown",
   "metadata": {},
   "source": [
    "# Text Normalization"
   ]
  },
  {
   "cell_type": "code",
   "execution_count": 13,
   "metadata": {},
   "outputs": [],
   "source": [
    "def remove_emojis(text):\n",
    "     \"Remove All Emojis From Text\"\n",
    "     text = emoji.replace_emoji(text, replace=\"\")\n",
    "     return text\n",
    "\n",
    "def remove_duplicate_char(text):\n",
    "     \"Remove Chars Word Has More Than 2 Same Following Char\"\n",
    "     text = re.sub(r'(.)\\1+', r'\\1\\1', text)\n",
    "     return text\n",
    "\n",
    "def remove_single_char(text):\n",
    "     \"Remove Alone Chars From Text\"\n",
    "     text = ' '.join( [w for w in text.split() if len(w)>1] )\n",
    "     return text\n",
    "\n",
    "def remove_special_character_(text):\n",
    "     \"Remove Special Character From Text\"\n",
    "     Punctuations = '`؛،؟.,«»÷-' + string.punctuation\n",
    "     for punctuation in Punctuations:\n",
    "        text = text.replace(punctuation, ' ')\n",
    "     return text   \n",
    "\n",
    "def remove_new_line_char(text):\n",
    "     \"Remove New Line Symbols From Text\"\n",
    "     text = text.replace('\\n', ' ')\n",
    "     return text  \n",
    " \n",
    "def remove_number(text):\n",
    "     \"Remove All Number From Text\"\n",
    "     text = re.sub(r'[0-9٠-٩]', '', text)\n",
    "     return text\n",
    "\n",
    "def remove_html_tags(text):\n",
    "    \"Remove All HTL Tags From Text\"\n",
    "    text = re.sub(\"<.*?>\", ' ', text)\n",
    "    return text\n",
    "\n",
    "def remove_non_english(text):\n",
    "    \"Remove Non English Word And Char\"\n",
    "    char = set(string.printable)\n",
    "    for c in text:\n",
    "        if c not in char:\n",
    "            text = text.replace(c, ' ')\n",
    "    return text\n",
    "\n",
    "def remove_whitespace(text):\n",
    "     \"Remove Extra WhiteSpace\"\n",
    "     text = text.strip()\n",
    "     return text \n",
    "\n",
    "def remove_unicode_characters_(text):\n",
    "     \"Remove Unicode Char\"\n",
    "     for character in text:\n",
    "        if (ord(character) < 47) or ((ord(character) > 123 and ord(character) < 1568)) or ((ord(character) > 1641 and ord(character) < 8239)) :\n",
    "         text = text.replace(character, ' ')\n",
    "     return text\n",
    "\n",
    "def remove_stop_words(text):\n",
    "     \"Remove StopWords From Text\"\n",
    "     StopWords1 = set(stopwords.words('english'))\n",
    "     StopWords2 = set(open('EnglishStopWords.txt','r').read().split('\\n'))\n",
    "     StopWords = StopWords1.union(StopWords2)\n",
    "     text = word_tokenize(text)\n",
    "     text = [word for word in text if word not in StopWords]\n",
    "     return ' '.join(text)\n",
    "\n",
    "def remove_longest_than_(text):\n",
    "     \"Remove All Words That Longest Than The Longest Word In Englis\"\n",
    "     for word in text.split():\n",
    "          if len(word) >=46:\n",
    "               text = text.replace(word, '')\n",
    "     return text\n",
    "\n",
    "def lemmatizer_(text):\n",
    "     \"Lowers Inflection In Words To Their Root Forms\"\n",
    "     lemmatizer = WordNetLemmatizer()\n",
    "     text = \" \".join([lemmatizer.lemmatize(word, pos='v') for word in text.split()])\n",
    "     return text\n"
   ]
  },
  {
   "cell_type": "code",
   "execution_count": 14,
   "metadata": {},
   "outputs": [],
   "source": [
    "def text_normalization(text):\n",
    "    text = text.lower()\n",
    "    text = remove_emojis(text)\n",
    "    text = remove_html_tags(text)\n",
    "    text = remove_duplicate_char(text)\n",
    "    text = remove_number(text)\n",
    "    text = remove_single_char(text)\n",
    "    text = remove_non_english(text)\n",
    "    text = remove_unicode_characters_(text)\n",
    "    text = remove_special_character_(text)\n",
    "    text = remove_stop_words(text)\n",
    "    text = remove_new_line_char(text)\n",
    "    text = remove_longest_than_(text)\n",
    "    text = remove_whitespace(text)\n",
    "    text = lemmatizer_(text)\n",
    "    return ''.join(text)"
   ]
  },
  {
   "cell_type": "code",
   "execution_count": 15,
   "metadata": {},
   "outputs": [
    {
     "data": {
      "text/html": [
       "<div>\n",
       "<style scoped>\n",
       "    .dataframe tbody tr th:only-of-type {\n",
       "        vertical-align: middle;\n",
       "    }\n",
       "\n",
       "    .dataframe tbody tr th {\n",
       "        vertical-align: top;\n",
       "    }\n",
       "\n",
       "    .dataframe thead th {\n",
       "        text-align: right;\n",
       "    }\n",
       "</style>\n",
       "<table border=\"1\" class=\"dataframe\">\n",
       "  <thead>\n",
       "    <tr style=\"text-align: right;\">\n",
       "      <th></th>\n",
       "      <th>Sentiment</th>\n",
       "      <th>Review</th>\n",
       "      <th>NumberOfSentences</th>\n",
       "      <th>Normalized_Review</th>\n",
       "    </tr>\n",
       "  </thead>\n",
       "  <tbody>\n",
       "    <tr>\n",
       "      <th>0</th>\n",
       "      <td>Positive</td>\n",
       "      <td>With all this stuff going down at the moment w...</td>\n",
       "      <td>19</td>\n",
       "      <td>stuff go moment mj start listen music watch od...</td>\n",
       "    </tr>\n",
       "    <tr>\n",
       "      <th>1</th>\n",
       "      <td>Positive</td>\n",
       "      <td>'The Classic War of the Worlds' by Timothy Hin...</td>\n",
       "      <td>10</td>\n",
       "      <td>classic war worlds timothy hines entertain fil...</td>\n",
       "    </tr>\n",
       "    <tr>\n",
       "      <th>2</th>\n",
       "      <td>Negative</td>\n",
       "      <td>The film starts with a manager (Nicholas Bell)...</td>\n",
       "      <td>14</td>\n",
       "      <td>film start manager nicholas bell give welcome ...</td>\n",
       "    </tr>\n",
       "    <tr>\n",
       "      <th>3</th>\n",
       "      <td>Negative</td>\n",
       "      <td>It must be assumed that those who praised this...</td>\n",
       "      <td>7</td>\n",
       "      <td>assume praise film greatest film opera read ca...</td>\n",
       "    </tr>\n",
       "    <tr>\n",
       "      <th>4</th>\n",
       "      <td>Positive</td>\n",
       "      <td>Superbly trashy and wondrously unpretentious 8...</td>\n",
       "      <td>16</td>\n",
       "      <td>superbly trashy wondrously unpretentious explo...</td>\n",
       "    </tr>\n",
       "    <tr>\n",
       "      <th>...</th>\n",
       "      <td>...</td>\n",
       "      <td>...</td>\n",
       "      <td>...</td>\n",
       "      <td>...</td>\n",
       "    </tr>\n",
       "    <tr>\n",
       "      <th>24995</th>\n",
       "      <td>Negative</td>\n",
       "      <td>It seems like more consideration has gone into...</td>\n",
       "      <td>8</td>\n",
       "      <td>like consideration imdb review film go source ...</td>\n",
       "    </tr>\n",
       "    <tr>\n",
       "      <th>24996</th>\n",
       "      <td>Negative</td>\n",
       "      <td>I don't believe they made this film. Completel...</td>\n",
       "      <td>15</td>\n",
       "      <td>believe make film completely unnecessary first...</td>\n",
       "    </tr>\n",
       "    <tr>\n",
       "      <th>24997</th>\n",
       "      <td>Negative</td>\n",
       "      <td>Guy is a loser. Can't get girls, needs to buil...</td>\n",
       "      <td>16</td>\n",
       "      <td>guy loser girls need build pick stronger succe...</td>\n",
       "    </tr>\n",
       "    <tr>\n",
       "      <th>24998</th>\n",
       "      <td>Negative</td>\n",
       "      <td>This 30 minute documentary Buñuel made in the ...</td>\n",
       "      <td>9</td>\n",
       "      <td>minute documentary bu uel make early spain poo...</td>\n",
       "    </tr>\n",
       "    <tr>\n",
       "      <th>24999</th>\n",
       "      <td>Positive</td>\n",
       "      <td>I saw this movie as a child and it broke my he...</td>\n",
       "      <td>10</td>\n",
       "      <td>saw movie child break heart story unfinished e...</td>\n",
       "    </tr>\n",
       "  </tbody>\n",
       "</table>\n",
       "<p>25000 rows × 4 columns</p>\n",
       "</div>"
      ],
      "text/plain": [
       "      Sentiment                                             Review  \\\n",
       "0      Positive  With all this stuff going down at the moment w...   \n",
       "1      Positive  'The Classic War of the Worlds' by Timothy Hin...   \n",
       "2      Negative  The film starts with a manager (Nicholas Bell)...   \n",
       "3      Negative  It must be assumed that those who praised this...   \n",
       "4      Positive  Superbly trashy and wondrously unpretentious 8...   \n",
       "...         ...                                                ...   \n",
       "24995  Negative  It seems like more consideration has gone into...   \n",
       "24996  Negative  I don't believe they made this film. Completel...   \n",
       "24997  Negative  Guy is a loser. Can't get girls, needs to buil...   \n",
       "24998  Negative  This 30 minute documentary Buñuel made in the ...   \n",
       "24999  Positive  I saw this movie as a child and it broke my he...   \n",
       "\n",
       "       NumberOfSentences                                  Normalized_Review  \n",
       "0                     19  stuff go moment mj start listen music watch od...  \n",
       "1                     10  classic war worlds timothy hines entertain fil...  \n",
       "2                     14  film start manager nicholas bell give welcome ...  \n",
       "3                      7  assume praise film greatest film opera read ca...  \n",
       "4                     16  superbly trashy wondrously unpretentious explo...  \n",
       "...                  ...                                                ...  \n",
       "24995                  8  like consideration imdb review film go source ...  \n",
       "24996                 15  believe make film completely unnecessary first...  \n",
       "24997                 16  guy loser girls need build pick stronger succe...  \n",
       "24998                  9  minute documentary bu uel make early spain poo...  \n",
       "24999                 10  saw movie child break heart story unfinished e...  \n",
       "\n",
       "[25000 rows x 4 columns]"
      ]
     },
     "execution_count": 15,
     "metadata": {},
     "output_type": "execute_result"
    }
   ],
   "source": [
    "Corpus['Normalized_Review'] = Corpus['Review'].apply(text_normalization)\n",
    "Corpus"
   ]
  },
  {
   "cell_type": "markdown",
   "metadata": {},
   "source": [
    "# Number Of Unique Words"
   ]
  },
  {
   "cell_type": "code",
   "execution_count": 16,
   "metadata": {},
   "outputs": [
    {
     "data": {
      "text/plain": [
       "61533"
      ]
     },
     "execution_count": 16,
     "metadata": {},
     "output_type": "execute_result"
    }
   ],
   "source": [
    "UniqueWords = set()\n",
    "for word in Corpus['Normalized_Review'].str.split():\n",
    "    UniqueWords.update(word)\n",
    "\n",
    "len(UniqueWords)"
   ]
  },
  {
   "cell_type": "markdown",
   "metadata": {},
   "source": [
    "# WordCloud"
   ]
  },
  {
   "cell_type": "code",
   "execution_count": 17,
   "metadata": {},
   "outputs": [],
   "source": [
    "def word_cloud_(Sentiment):\n",
    "    text = str(Corpus[Corpus['Sentiment'] == Sentiment]['Normalized_Review'])\n",
    "    wordcloud = WordCloud(background_color='white', mode='RGB',width=1500,height=800).generate(text)\n",
    "    plt.figure()\n",
    "    plt.imshow(wordcloud, interpolation='catrom')\n",
    "    plt.axis(\"off\")\n",
    "    plt.title('Word Cloud For {} Sentiment'.format(Sentiment))\n",
    "    plt.show()"
   ]
  },
  {
   "cell_type": "markdown",
   "metadata": {},
   "source": [
    "**1-Negative**"
   ]
  },
  {
   "cell_type": "code",
   "execution_count": 18,
   "metadata": {},
   "outputs": [
    {
     "data": {
      "image/png": "[encoded data removed]",
      "text/plain": [
       "<Figure size 640x480 with 1 Axes>"
      ]
     },
     "metadata": {},
     "output_type": "display_data"
    }
   ],
   "source": [
    "word_cloud_('Negative')"
   ]
  },
  {
   "cell_type": "markdown",
   "metadata": {},
   "source": [
    "**2-Positive**"
   ]
  },
  {
   "cell_type": "code",
   "execution_count": 19,
   "metadata": {},
   "outputs": [
    {
     "data": {
      "image/png": "[encoded data removed]",
      "text/plain": [
       "<Figure size 640x480 with 1 Axes>"
      ]
     },
     "metadata": {},
     "output_type": "display_data"
    }
   ],
   "source": [
    "word_cloud_('Positive')"
   ]
  },
  {
   "cell_type": "markdown",
   "metadata": {},
   "source": [
    "# Most Frequent Words "
   ]
  },
  {
   "cell_type": "code",
   "execution_count": 20,
   "metadata": {},
   "outputs": [
    {
     "data": {
      "text/html": [
       "<div>\n",
       "<style scoped>\n",
       "    .dataframe tbody tr th:only-of-type {\n",
       "        vertical-align: middle;\n",
       "    }\n",
       "\n",
       "    .dataframe tbody tr th {\n",
       "        vertical-align: top;\n",
       "    }\n",
       "\n",
       "    .dataframe thead th {\n",
       "        text-align: right;\n",
       "    }\n",
       "</style>\n",
       "<table border=\"1\" class=\"dataframe\">\n",
       "  <thead>\n",
       "    <tr style=\"text-align: right;\">\n",
       "      <th></th>\n",
       "      <th>Word</th>\n",
       "      <th>Count</th>\n",
       "    </tr>\n",
       "  </thead>\n",
       "  <tbody>\n",
       "    <tr>\n",
       "      <th>0</th>\n",
       "      <td>film</td>\n",
       "      <td>48211</td>\n",
       "    </tr>\n",
       "    <tr>\n",
       "      <th>1</th>\n",
       "      <td>movie</td>\n",
       "      <td>44047</td>\n",
       "    </tr>\n",
       "    <tr>\n",
       "      <th>2</th>\n",
       "      <td>like</td>\n",
       "      <td>22372</td>\n",
       "    </tr>\n",
       "    <tr>\n",
       "      <th>3</th>\n",
       "      <td>see</td>\n",
       "      <td>20814</td>\n",
       "    </tr>\n",
       "    <tr>\n",
       "      <th>4</th>\n",
       "      <td>time</td>\n",
       "      <td>16177</td>\n",
       "    </tr>\n",
       "    <tr>\n",
       "      <th>5</th>\n",
       "      <td>make</td>\n",
       "      <td>15551</td>\n",
       "    </tr>\n",
       "    <tr>\n",
       "      <th>6</th>\n",
       "      <td>character</td>\n",
       "      <td>14183</td>\n",
       "    </tr>\n",
       "    <tr>\n",
       "      <th>7</th>\n",
       "      <td>watch</td>\n",
       "      <td>13940</td>\n",
       "    </tr>\n",
       "    <tr>\n",
       "      <th>8</th>\n",
       "      <td>think</td>\n",
       "      <td>12352</td>\n",
       "    </tr>\n",
       "    <tr>\n",
       "      <th>9</th>\n",
       "      <td>story</td>\n",
       "      <td>11990</td>\n",
       "    </tr>\n",
       "    <tr>\n",
       "      <th>10</th>\n",
       "      <td>well</td>\n",
       "      <td>11048</td>\n",
       "    </tr>\n",
       "    <tr>\n",
       "      <th>11</th>\n",
       "      <td>show</td>\n",
       "      <td>10872</td>\n",
       "    </tr>\n",
       "    <tr>\n",
       "      <th>12</th>\n",
       "      <td>look</td>\n",
       "      <td>10054</td>\n",
       "    </tr>\n",
       "    <tr>\n",
       "      <th>13</th>\n",
       "      <td>end</td>\n",
       "      <td>9654</td>\n",
       "    </tr>\n",
       "    <tr>\n",
       "      <th>14</th>\n",
       "      <td>know</td>\n",
       "      <td>9493</td>\n",
       "    </tr>\n",
       "  </tbody>\n",
       "</table>\n",
       "</div>"
      ],
      "text/plain": [
       "         Word  Count\n",
       "0        film  48211\n",
       "1       movie  44047\n",
       "2        like  22372\n",
       "3         see  20814\n",
       "4        time  16177\n",
       "5        make  15551\n",
       "6   character  14183\n",
       "7       watch  13940\n",
       "8       think  12352\n",
       "9       story  11990\n",
       "10       well  11048\n",
       "11       show  10872\n",
       "12       look  10054\n",
       "13        end   9654\n",
       "14       know   9493"
      ]
     },
     "execution_count": 20,
     "metadata": {},
     "output_type": "execute_result"
    }
   ],
   "source": [
    "MostFrequentWord = Counter((Corpus['Normalized_Review']).str.split().explode()).most_common(15)\n",
    "MostFrequentWordDF = pd.DataFrame(MostFrequentWord, columns=('Word', 'Count'))\n",
    "MostFrequentWordDF"
   ]
  },
  {
   "cell_type": "code",
   "execution_count": 21,
   "metadata": {},
   "outputs": [
    {
     "data": {
      "application/vnd.plotly.v1+json": {
       "config": {
        "plotlyServerURL": "https://plot.ly"
       },
       "data": [
        {
         "marker": {
          "color": [
           "Salmon",
           "FireBrick",
           "MediumVioletRed",
           "Tomato",
           "Orange",
           "Gold",
           "DarkKhaki",
           "Lavender",
           "Plum",
           "LimeGreen",
           "MediumSpringGreen",
           "Green",
           "DeepSkyBlue",
           "Aquamarine",
           "MediumSlateBlue"
          ]
         },
         "type": "funnel",
         "x": [
          48211,
          44047,
          22372,
          20814,
          16177,
          15551,
          14183,
          13940,
          12352,
          11990,
          11048,
          10872,
          10054,
          9654,
          9493
         ],
         "y": [
          "film",
          "movie",
          "like",
          "see",
          "time",
          "make",
          "character",
          "watch",
          "think",
          "story",
          "well",
          "show",
          "look",
          "end",
          "know"
         ]
        }
       ],
       "layout": {
        "template": {
         "data": {
          "bar": [
           {
            "error_x": {
             "color": "#2a3f5f"
            },
            "error_y": {
             "color": "#2a3f5f"
            },
            "marker": {
             "line": {
              "color": "#E5ECF6",
              "width": 0.5
             },
             "pattern": {
              "fillmode": "overlay",
              "size": 10,
              "solidity": 0.2
             }
            },
            "type": "bar"
           }
          ],
          "barpolar": [
           {
            "marker": {
             "line": {
              "color": "#E5ECF6",
              "width": 0.5
             },
             "pattern": {
              "fillmode": "overlay",
              "size": 10,
              "solidity": 0.2
             }
            },
            "type": "barpolar"
           }
          ],
          "carpet": [
           {
            "aaxis": {
             "endlinecolor": "#2a3f5f",
             "gridcolor": "white",
             "linecolor": "white",
             "minorgridcolor": "white",
             "startlinecolor": "#2a3f5f"
            },
            "baxis": {
             "endlinecolor": "#2a3f5f",
             "gridcolor": "white",
             "linecolor": "white",
             "minorgridcolor": "white",
             "startlinecolor": "#2a3f5f"
            },
            "type": "carpet"
           }
          ],
          "choropleth": [
           {
            "colorbar": {
             "outlinewidth": 0,
             "ticks": ""
            },
            "type": "choropleth"
           }
          ],
          "contour": [
           {
            "colorbar": {
             "outlinewidth": 0,
             "ticks": ""
            },
            "colorscale": [
             [
              0,
              "#0d0887"
             ],
             [
              0.1111111111111111,
              "#46039f"
             ],
             [
              0.2222222222222222,
              "#7201a8"
             ],
             [
              0.3333333333333333,
              "#9c179e"
             ],
             [
              0.4444444444444444,
              "#bd3786"
             ],
             [
              0.5555555555555556,
              "#d8576b"
             ],
             [
              0.6666666666666666,
              "#ed7953"
             ],
             [
              0.7777777777777778,
              "#fb9f3a"
             ],
             [
              0.8888888888888888,
              "#fdca26"
             ],
             [
              1,
              "#f0f921"
             ]
            ],
            "type": "contour"
           }
          ],
          "contourcarpet": [
           {
            "colorbar": {
             "outlinewidth": 0,
             "ticks": ""
            },
            "type": "contourcarpet"
           }
          ],
          "heatmap": [
           {
            "colorbar": {
             "outlinewidth": 0,
             "ticks": ""
            },
            "colorscale": [
             [
              0,
              "#0d0887"
             ],
             [
              0.1111111111111111,
              "#46039f"
             ],
             [
              0.2222222222222222,
              "#7201a8"
             ],
             [
              0.3333333333333333,
              "#9c179e"
             ],
             [
              0.4444444444444444,
              "#bd3786"
             ],
             [
              0.5555555555555556,
              "#d8576b"
             ],
             [
              0.6666666666666666,
              "#ed7953"
             ],
             [
              0.7777777777777778,
              "#fb9f3a"
             ],
             [
              0.8888888888888888,
              "#fdca26"
             ],
             [
              1,
              "#f0f921"
             ]
            ],
            "type": "heatmap"
           }
          ],
          "heatmapgl": [
           {
            "colorbar": {
             "outlinewidth": 0,
             "ticks": ""
            },
            "colorscale": [
             [
              0,
              "#0d0887"
             ],
             [
              0.1111111111111111,
              "#46039f"
             ],
             [
              0.2222222222222222,
              "#7201a8"
             ],
             [
              0.3333333333333333,
              "#9c179e"
             ],
             [
              0.4444444444444444,
              "#bd3786"
             ],
             [
              0.5555555555555556,
              "#d8576b"
             ],
             [
              0.6666666666666666,
              "#ed7953"
             ],
             [
              0.7777777777777778,
              "#fb9f3a"
             ],
             [
              0.8888888888888888,
              "#fdca26"
             ],
             [
              1,
              "#f0f921"
             ]
            ],
            "type": "heatmapgl"
           }
          ],
          "histogram": [
           {
            "marker": {
             "pattern": {
              "fillmode": "overlay",
              "size": 10,
              "solidity": 0.2
             }
            },
            "type": "histogram"
           }
          ],
          "histogram2d": [
           {
            "colorbar": {
             "outlinewidth": 0,
             "ticks": ""
            },
            "colorscale": [
             [
              0,
              "#0d0887"
             ],
             [
              0.1111111111111111,
              "#46039f"
             ],
             [
              0.2222222222222222,
              "#7201a8"
             ],
             [
              0.3333333333333333,
              "#9c179e"
             ],
             [
              0.4444444444444444,
              "#bd3786"
             ],
             [
              0.5555555555555556,
              "#d8576b"
             ],
             [
              0.6666666666666666,
              "#ed7953"
             ],
             [
              0.7777777777777778,
              "#fb9f3a"
             ],
             [
              0.8888888888888888,
              "#fdca26"
             ],
             [
              1,
              "#f0f921"
             ]
            ],
            "type": "histogram2d"
           }
          ],
          "histogram2dcontour": [
           {
            "colorbar": {
             "outlinewidth": 0,
             "ticks": ""
            },
            "colorscale": [
             [
              0,
              "#0d0887"
             ],
             [
              0.1111111111111111,
              "#46039f"
             ],
             [
              0.2222222222222222,
              "#7201a8"
             ],
             [
              0.3333333333333333,
              "#9c179e"
             ],
             [
              0.4444444444444444,
              "#bd3786"
             ],
             [
              0.5555555555555556,
              "#d8576b"
             ],
             [
              0.6666666666666666,
              "#ed7953"
             ],
             [
              0.7777777777777778,
              "#fb9f3a"
             ],
             [
              0.8888888888888888,
              "#fdca26"
             ],
             [
              1,
              "#f0f921"
             ]
            ],
            "type": "histogram2dcontour"
           }
          ],
          "mesh3d": [
           {
            "colorbar": {
             "outlinewidth": 0,
             "ticks": ""
            },
            "type": "mesh3d"
           }
          ],
          "parcoords": [
           {
            "line": {
             "colorbar": {
              "outlinewidth": 0,
              "ticks": ""
             }
            },
            "type": "parcoords"
           }
          ],
          "pie": [
           {
            "automargin": true,
            "type": "pie"
           }
          ],
          "scatter": [
           {
            "fillpattern": {
             "fillmode": "overlay",
             "size": 10,
             "solidity": 0.2
            },
            "type": "scatter"
           }
          ],
          "scatter3d": [
           {
            "line": {
             "colorbar": {
              "outlinewidth": 0,
              "ticks": ""
             }
            },
            "marker": {
             "colorbar": {
              "outlinewidth": 0,
              "ticks": ""
             }
            },
            "type": "scatter3d"
           }
          ],
          "scattercarpet": [
           {
            "marker": {
             "colorbar": {
              "outlinewidth": 0,
              "ticks": ""
             }
            },
            "type": "scattercarpet"
           }
          ],
          "scattergeo": [
           {
            "marker": {
             "colorbar": {
              "outlinewidth": 0,
              "ticks": ""
             }
            },
            "type": "scattergeo"
           }
          ],
          "scattergl": [
           {
            "marker": {
             "colorbar": {
              "outlinewidth": 0,
              "ticks": ""
             }
            },
            "type": "scattergl"
           }
          ],
          "scattermapbox": [
           {
            "marker": {
             "colorbar": {
              "outlinewidth": 0,
              "ticks": ""
             }
            },
            "type": "scattermapbox"
           }
          ],
          "scatterpolar": [
           {
            "marker": {
             "colorbar": {
              "outlinewidth": 0,
              "ticks": ""
             }
            },
            "type": "scatterpolar"
           }
          ],
          "scatterpolargl": [
           {
            "marker": {
             "colorbar": {
              "outlinewidth": 0,
              "ticks": ""
             }
            },
            "type": "scatterpolargl"
           }
          ],
          "scatterternary": [
           {
            "marker": {
             "colorbar": {
              "outlinewidth": 0,
              "ticks": ""
             }
            },
            "type": "scatterternary"
           }
          ],
          "surface": [
           {
            "colorbar": {
             "outlinewidth": 0,
             "ticks": ""
            },
            "colorscale": [
             [
              0,
              "#0d0887"
             ],
             [
              0.1111111111111111,
              "#46039f"
             ],
             [
              0.2222222222222222,
              "#7201a8"
             ],
             [
              0.3333333333333333,
              "#9c179e"
             ],
             [
              0.4444444444444444,
              "#bd3786"
             ],
             [
              0.5555555555555556,
              "#d8576b"
             ],
             [
              0.6666666666666666,
              "#ed7953"
             ],
             [
              0.7777777777777778,
              "#fb9f3a"
             ],
             [
              0.8888888888888888,
              "#fdca26"
             ],
             [
              1,
              "#f0f921"
             ]
            ],
            "type": "surface"
           }
          ],
          "table": [
           {
            "cells": {
             "fill": {
              "color": "#EBF0F8"
             },
             "line": {
              "color": "white"
             }
            },
            "header": {
             "fill": {
              "color": "#C8D4E3"
             },
             "line": {
              "color": "white"
             }
            },
            "type": "table"
           }
          ]
         },
         "layout": {
          "annotationdefaults": {
           "arrowcolor": "#2a3f5f",
           "arrowhead": 0,
           "arrowwidth": 1
          },
          "autotypenumbers": "strict",
          "coloraxis": {
           "colorbar": {
            "outlinewidth": 0,
            "ticks": ""
           }
          },
          "colorscale": {
           "diverging": [
            [
             0,
             "#8e0152"
            ],
            [
             0.1,
             "#c51b7d"
            ],
            [
             0.2,
             "#de77ae"
            ],
            [
             0.3,
             "#f1b6da"
            ],
            [
             0.4,
             "#fde0ef"
            ],
            [
             0.5,
             "#f7f7f7"
            ],
            [
             0.6,
             "#e6f5d0"
            ],
            [
             0.7,
             "#b8e186"
            ],
            [
             0.8,
             "#7fbc41"
            ],
            [
             0.9,
             "#4d9221"
            ],
            [
             1,
             "#276419"
            ]
           ],
           "sequential": [
            [
             0,
             "#0d0887"
            ],
            [
             0.1111111111111111,
             "#46039f"
            ],
            [
             0.2222222222222222,
             "#7201a8"
            ],
            [
             0.3333333333333333,
             "#9c179e"
            ],
            [
             0.4444444444444444,
             "#bd3786"
            ],
            [
             0.5555555555555556,
             "#d8576b"
            ],
            [
             0.6666666666666666,
             "#ed7953"
            ],
            [
             0.7777777777777778,
             "#fb9f3a"
            ],
            [
             0.8888888888888888,
             "#fdca26"
            ],
            [
             1,
             "#f0f921"
            ]
           ],
           "sequentialminus": [
            [
             0,
             "#0d0887"
            ],
            [
             0.1111111111111111,
             "#46039f"
            ],
            [
             0.2222222222222222,
             "#7201a8"
            ],
            [
             0.3333333333333333,
             "#9c179e"
            ],
            [
             0.4444444444444444,
             "#bd3786"
            ],
            [
             0.5555555555555556,
             "#d8576b"
            ],
            [
             0.6666666666666666,
             "#ed7953"
            ],
            [
             0.7777777777777778,
             "#fb9f3a"
            ],
            [
             0.8888888888888888,
             "#fdca26"
            ],
            [
             1,
             "#f0f921"
            ]
           ]
          },
          "colorway": [
           "#636efa",
           "#EF553B",
           "#00cc96",
           "#ab63fa",
           "#FFA15A",
           "#19d3f3",
           "#FF6692",
           "#B6E880",
           "#FF97FF",
           "#FECB52"
          ],
          "font": {
           "color": "#2a3f5f"
          },
          "geo": {
           "bgcolor": "white",
           "lakecolor": "white",
           "landcolor": "#E5ECF6",
           "showlakes": true,
           "showland": true,
           "subunitcolor": "white"
          },
          "hoverlabel": {
           "align": "left"
          },
          "hovermode": "closest",
          "mapbox": {
           "style": "light"
          },
          "paper_bgcolor": "white",
          "plot_bgcolor": "#E5ECF6",
          "polar": {
           "angularaxis": {
            "gridcolor": "white",
            "linecolor": "white",
            "ticks": ""
           },
           "bgcolor": "#E5ECF6",
           "radialaxis": {
            "gridcolor": "white",
            "linecolor": "white",
            "ticks": ""
           }
          },
          "scene": {
           "xaxis": {
            "backgroundcolor": "#E5ECF6",
            "gridcolor": "white",
            "gridwidth": 2,
            "linecolor": "white",
            "showbackground": true,
            "ticks": "",
            "zerolinecolor": "white"
           },
           "yaxis": {
            "backgroundcolor": "#E5ECF6",
            "gridcolor": "white",
            "gridwidth": 2,
            "linecolor": "white",
            "showbackground": true,
            "ticks": "",
            "zerolinecolor": "white"
           },
           "zaxis": {
            "backgroundcolor": "#E5ECF6",
            "gridcolor": "white",
            "gridwidth": 2,
            "linecolor": "white",
            "showbackground": true,
            "ticks": "",
            "zerolinecolor": "white"
           }
          },
          "shapedefaults": {
           "line": {
            "color": "#2a3f5f"
           }
          },
          "ternary": {
           "aaxis": {
            "gridcolor": "white",
            "linecolor": "white",
            "ticks": ""
           },
           "baxis": {
            "gridcolor": "white",
            "linecolor": "white",
            "ticks": ""
           },
           "bgcolor": "#E5ECF6",
           "caxis": {
            "gridcolor": "white",
            "linecolor": "white",
            "ticks": ""
           }
          },
          "title": {
           "x": 0.05
          },
          "xaxis": {
           "automargin": true,
           "gridcolor": "white",
           "linecolor": "white",
           "ticks": "",
           "title": {
            "standoff": 15
           },
           "zerolinecolor": "white",
           "zerolinewidth": 2
          },
          "yaxis": {
           "automargin": true,
           "gridcolor": "white",
           "linecolor": "white",
           "ticks": "",
           "title": {
            "standoff": 15
           },
           "zerolinecolor": "white",
           "zerolinewidth": 2
          }
         }
        }
       }
      }
     },
     "metadata": {},
     "output_type": "display_data"
    }
   ],
   "source": [
    "fig = go.Figure(go.Funnel(\n",
    "    y = MostFrequentWordDF['Word'].tolist(),\n",
    "    x = MostFrequentWordDF['Count'].tolist(),\n",
    "    marker = {\"color\": color3}))\n",
    "fig.show()"
   ]
  },
  {
   "cell_type": "code",
   "execution_count": 22,
   "metadata": {},
   "outputs": [
    {
     "data": {
      "application/vnd.plotly.v1+json": {
       "config": {
        "plotlyServerURL": "https://plot.ly"
       },
       "data": [
        {
         "alignmentgroup": "True",
         "hovertemplate": "Count=%{x}<br>Word=%{y}<extra></extra>",
         "legendgroup": "",
         "marker": {
          "color": "#636efa",
          "pattern": {
           "shape": ""
          }
         },
         "name": "",
         "offsetgroup": "",
         "orientation": "h",
         "showlegend": false,
         "textposition": "auto",
         "type": "bar",
         "x": [
          48211,
          44047,
          22372,
          20814,
          16177,
          15551,
          14183,
          13940,
          12352,
          11990,
          11048,
          10872,
          10054,
          9654,
          9493
         ],
         "xaxis": "x",
         "y": [
          "film",
          "movie",
          "like",
          "see",
          "time",
          "make",
          "character",
          "watch",
          "think",
          "story",
          "well",
          "show",
          "look",
          "end",
          "know"
         ],
         "yaxis": "y"
        }
       ],
       "layout": {
        "barmode": "relative",
        "legend": {
         "tracegroupgap": 0
        },
        "margin": {
         "t": 60
        },
        "template": {
         "data": {
          "bar": [
           {
            "error_x": {
             "color": "#2a3f5f"
            },
            "error_y": {
             "color": "#2a3f5f"
            },
            "marker": {
             "line": {
              "color": "#E5ECF6",
              "width": 0.5
             },
             "pattern": {
              "fillmode": "overlay",
              "size": 10,
              "solidity": 0.2
             }
            },
            "type": "bar"
           }
          ],
          "barpolar": [
           {
            "marker": {
             "line": {
              "color": "#E5ECF6",
              "width": 0.5
             },
             "pattern": {
              "fillmode": "overlay",
              "size": 10,
              "solidity": 0.2
             }
            },
            "type": "barpolar"
           }
          ],
          "carpet": [
           {
            "aaxis": {
             "endlinecolor": "#2a3f5f",
             "gridcolor": "white",
             "linecolor": "white",
             "minorgridcolor": "white",
             "startlinecolor": "#2a3f5f"
            },
            "baxis": {
             "endlinecolor": "#2a3f5f",
             "gridcolor": "white",
             "linecolor": "white",
             "minorgridcolor": "white",
             "startlinecolor": "#2a3f5f"
            },
            "type": "carpet"
           }
          ],
          "choropleth": [
           {
            "colorbar": {
             "outlinewidth": 0,
             "ticks": ""
            },
            "type": "choropleth"
           }
          ],
          "contour": [
           {
            "colorbar": {
             "outlinewidth": 0,
             "ticks": ""
            },
            "colorscale": [
             [
              0,
              "#0d0887"
             ],
             [
              0.1111111111111111,
              "#46039f"
             ],
             [
              0.2222222222222222,
              "#7201a8"
             ],
             [
              0.3333333333333333,
              "#9c179e"
             ],
             [
              0.4444444444444444,
              "#bd3786"
             ],
             [
              0.5555555555555556,
              "#d8576b"
             ],
             [
              0.6666666666666666,
              "#ed7953"
             ],
             [
              0.7777777777777778,
              "#fb9f3a"
             ],
             [
              0.8888888888888888,
              "#fdca26"
             ],
             [
              1,
              "#f0f921"
             ]
            ],
            "type": "contour"
           }
          ],
          "contourcarpet": [
           {
            "colorbar": {
             "outlinewidth": 0,
             "ticks": ""
            },
            "type": "contourcarpet"
           }
          ],
          "heatmap": [
           {
            "colorbar": {
             "outlinewidth": 0,
             "ticks": ""
            },
            "colorscale": [
             [
              0,
              "#0d0887"
             ],
             [
              0.1111111111111111,
              "#46039f"
             ],
             [
              0.2222222222222222,
              "#7201a8"
             ],
             [
              0.3333333333333333,
              "#9c179e"
             ],
             [
              0.4444444444444444,
              "#bd3786"
             ],
             [
              0.5555555555555556,
              "#d8576b"
             ],
             [
              0.6666666666666666,
              "#ed7953"
             ],
             [
              0.7777777777777778,
              "#fb9f3a"
             ],
             [
              0.8888888888888888,
              "#fdca26"
             ],
             [
              1,
              "#f0f921"
             ]
            ],
            "type": "heatmap"
           }
          ],
          "heatmapgl": [
           {
            "colorbar": {
             "outlinewidth": 0,
             "ticks": ""
            },
            "colorscale": [
             [
              0,
              "#0d0887"
             ],
             [
              0.1111111111111111,
              "#46039f"
             ],
             [
              0.2222222222222222,
              "#7201a8"
             ],
             [
              0.3333333333333333,
              "#9c179e"
             ],
             [
              0.4444444444444444,
              "#bd3786"
             ],
             [
              0.5555555555555556,
              "#d8576b"
             ],
             [
              0.6666666666666666,
              "#ed7953"
             ],
             [
              0.7777777777777778,
              "#fb9f3a"
             ],
             [
              0.8888888888888888,
              "#fdca26"
             ],
             [
              1,
              "#f0f921"
             ]
            ],
            "type": "heatmapgl"
           }
          ],
          "histogram": [
           {
            "marker": {
             "pattern": {
              "fillmode": "overlay",
              "size": 10,
              "solidity": 0.2
             }
            },
            "type": "histogram"
           }
          ],
          "histogram2d": [
           {
            "colorbar": {
             "outlinewidth": 0,
             "ticks": ""
            },
            "colorscale": [
             [
              0,
              "#0d0887"
             ],
             [
              0.1111111111111111,
              "#46039f"
             ],
             [
              0.2222222222222222,
              "#7201a8"
             ],
             [
              0.3333333333333333,
              "#9c179e"
             ],
             [
              0.4444444444444444,
              "#bd3786"
             ],
             [
              0.5555555555555556,
              "#d8576b"
             ],
             [
              0.6666666666666666,
              "#ed7953"
             ],
             [
              0.7777777777777778,
              "#fb9f3a"
             ],
             [
              0.8888888888888888,
              "#fdca26"
             ],
             [
              1,
              "#f0f921"
             ]
            ],
            "type": "histogram2d"
           }
          ],
          "histogram2dcontour": [
           {
            "colorbar": {
             "outlinewidth": 0,
             "ticks": ""
            },
            "colorscale": [
             [
              0,
              "#0d0887"
             ],
             [
              0.1111111111111111,
              "#46039f"
             ],
             [
              0.2222222222222222,
              "#7201a8"
             ],
             [
              0.3333333333333333,
              "#9c179e"
             ],
             [
              0.4444444444444444,
              "#bd3786"
             ],
             [
              0.5555555555555556,
              "#d8576b"
             ],
             [
              0.6666666666666666,
              "#ed7953"
             ],
             [
              0.7777777777777778,
              "#fb9f3a"
             ],
             [
              0.8888888888888888,
              "#fdca26"
             ],
             [
              1,
              "#f0f921"
             ]
            ],
            "type": "histogram2dcontour"
           }
          ],
          "mesh3d": [
           {
            "colorbar": {
             "outlinewidth": 0,
             "ticks": ""
            },
            "type": "mesh3d"
           }
          ],
          "parcoords": [
           {
            "line": {
             "colorbar": {
              "outlinewidth": 0,
              "ticks": ""
             }
            },
            "type": "parcoords"
           }
          ],
          "pie": [
           {
            "automargin": true,
            "type": "pie"
           }
          ],
          "scatter": [
           {
            "fillpattern": {
             "fillmode": "overlay",
             "size": 10,
             "solidity": 0.2
            },
            "type": "scatter"
           }
          ],
          "scatter3d": [
           {
            "line": {
             "colorbar": {
              "outlinewidth": 0,
              "ticks": ""
             }
            },
            "marker": {
             "colorbar": {
              "outlinewidth": 0,
              "ticks": ""
             }
            },
            "type": "scatter3d"
           }
          ],
          "scattercarpet": [
           {
            "marker": {
             "colorbar": {
              "outlinewidth": 0,
              "ticks": ""
             }
            },
            "type": "scattercarpet"
           }
          ],
          "scattergeo": [
           {
            "marker": {
             "colorbar": {
              "outlinewidth": 0,
              "ticks": ""
             }
            },
            "type": "scattergeo"
           }
          ],
          "scattergl": [
           {
            "marker": {
             "colorbar": {
              "outlinewidth": 0,
              "ticks": ""
             }
            },
            "type": "scattergl"
           }
          ],
          "scattermapbox": [
           {
            "marker": {
             "colorbar": {
              "outlinewidth": 0,
              "ticks": ""
             }
            },
            "type": "scattermapbox"
           }
          ],
          "scatterpolar": [
           {
            "marker": {
             "colorbar": {
              "outlinewidth": 0,
              "ticks": ""
             }
            },
            "type": "scatterpolar"
           }
          ],
          "scatterpolargl": [
           {
            "marker": {
             "colorbar": {
              "outlinewidth": 0,
              "ticks": ""
             }
            },
            "type": "scatterpolargl"
           }
          ],
          "scatterternary": [
           {
            "marker": {
             "colorbar": {
              "outlinewidth": 0,
              "ticks": ""
             }
            },
            "type": "scatterternary"
           }
          ],
          "surface": [
           {
            "colorbar": {
             "outlinewidth": 0,
             "ticks": ""
            },
            "colorscale": [
             [
              0,
              "#0d0887"
             ],
             [
              0.1111111111111111,
              "#46039f"
             ],
             [
              0.2222222222222222,
              "#7201a8"
             ],
             [
              0.3333333333333333,
              "#9c179e"
             ],
             [
              0.4444444444444444,
              "#bd3786"
             ],
             [
              0.5555555555555556,
              "#d8576b"
             ],
             [
              0.6666666666666666,
              "#ed7953"
             ],
             [
              0.7777777777777778,
              "#fb9f3a"
             ],
             [
              0.8888888888888888,
              "#fdca26"
             ],
             [
              1,
              "#f0f921"
             ]
            ],
            "type": "surface"
           }
          ],
          "table": [
           {
            "cells": {
             "fill": {
              "color": "#EBF0F8"
             },
             "line": {
              "color": "white"
             }
            },
            "header": {
             "fill": {
              "color": "#C8D4E3"
             },
             "line": {
              "color": "white"
             }
            },
            "type": "table"
           }
          ]
         },
         "layout": {
          "annotationdefaults": {
           "arrowcolor": "#2a3f5f",
           "arrowhead": 0,
           "arrowwidth": 1
          },
          "autotypenumbers": "strict",
          "coloraxis": {
           "colorbar": {
            "outlinewidth": 0,
            "ticks": ""
           }
          },
          "colorscale": {
           "diverging": [
            [
             0,
             "#8e0152"
            ],
            [
             0.1,
             "#c51b7d"
            ],
            [
             0.2,
             "#de77ae"
            ],
            [
             0.3,
             "#f1b6da"
            ],
            [
             0.4,
             "#fde0ef"
            ],
            [
             0.5,
             "#f7f7f7"
            ],
            [
             0.6,
             "#e6f5d0"
            ],
            [
             0.7,
             "#b8e186"
            ],
            [
             0.8,
             "#7fbc41"
            ],
            [
             0.9,
             "#4d9221"
            ],
            [
             1,
             "#276419"
            ]
           ],
           "sequential": [
            [
             0,
             "#0d0887"
            ],
            [
             0.1111111111111111,
             "#46039f"
            ],
            [
             0.2222222222222222,
             "#7201a8"
            ],
            [
             0.3333333333333333,
             "#9c179e"
            ],
            [
             0.4444444444444444,
             "#bd3786"
            ],
            [
             0.5555555555555556,
             "#d8576b"
            ],
            [
             0.6666666666666666,
             "#ed7953"
            ],
            [
             0.7777777777777778,
             "#fb9f3a"
            ],
            [
             0.8888888888888888,
             "#fdca26"
            ],
            [
             1,
             "#f0f921"
            ]
           ],
           "sequentialminus": [
            [
             0,
             "#0d0887"
            ],
            [
             0.1111111111111111,
             "#46039f"
            ],
            [
             0.2222222222222222,
             "#7201a8"
            ],
            [
             0.3333333333333333,
             "#9c179e"
            ],
            [
             0.4444444444444444,
             "#bd3786"
            ],
            [
             0.5555555555555556,
             "#d8576b"
            ],
            [
             0.6666666666666666,
             "#ed7953"
            ],
            [
             0.7777777777777778,
             "#fb9f3a"
            ],
            [
             0.8888888888888888,
             "#fdca26"
            ],
            [
             1,
             "#f0f921"
            ]
           ]
          },
          "colorway": [
           "#636efa",
           "#EF553B",
           "#00cc96",
           "#ab63fa",
           "#FFA15A",
           "#19d3f3",
           "#FF6692",
           "#B6E880",
           "#FF97FF",
           "#FECB52"
          ],
          "font": {
           "color": "#2a3f5f"
          },
          "geo": {
           "bgcolor": "white",
           "lakecolor": "white",
           "landcolor": "#E5ECF6",
           "showlakes": true,
           "showland": true,
           "subunitcolor": "white"
          },
          "hoverlabel": {
           "align": "left"
          },
          "hovermode": "closest",
          "mapbox": {
           "style": "light"
          },
          "paper_bgcolor": "white",
          "plot_bgcolor": "#E5ECF6",
          "polar": {
           "angularaxis": {
            "gridcolor": "white",
            "linecolor": "white",
            "ticks": ""
           },
           "bgcolor": "#E5ECF6",
           "radialaxis": {
            "gridcolor": "white",
            "linecolor": "white",
            "ticks": ""
           }
          },
          "scene": {
           "xaxis": {
            "backgroundcolor": "#E5ECF6",
            "gridcolor": "white",
            "gridwidth": 2,
            "linecolor": "white",
            "showbackground": true,
            "ticks": "",
            "zerolinecolor": "white"
           },
           "yaxis": {
            "backgroundcolor": "#E5ECF6",
            "gridcolor": "white",
            "gridwidth": 2,
            "linecolor": "white",
            "showbackground": true,
            "ticks": "",
            "zerolinecolor": "white"
           },
           "zaxis": {
            "backgroundcolor": "#E5ECF6",
            "gridcolor": "white",
            "gridwidth": 2,
            "linecolor": "white",
            "showbackground": true,
            "ticks": "",
            "zerolinecolor": "white"
           }
          },
          "shapedefaults": {
           "line": {
            "color": "#2a3f5f"
           }
          },
          "ternary": {
           "aaxis": {
            "gridcolor": "white",
            "linecolor": "white",
            "ticks": ""
           },
           "baxis": {
            "gridcolor": "white",
            "linecolor": "white",
            "ticks": ""
           },
           "bgcolor": "#E5ECF6",
           "caxis": {
            "gridcolor": "white",
            "linecolor": "white",
            "ticks": ""
           }
          },
          "title": {
           "x": 0.05
          },
          "xaxis": {
           "automargin": true,
           "gridcolor": "white",
           "linecolor": "white",
           "ticks": "",
           "title": {
            "standoff": 15
           },
           "zerolinecolor": "white",
           "zerolinewidth": 2
          },
          "yaxis": {
           "automargin": true,
           "gridcolor": "white",
           "linecolor": "white",
           "ticks": "",
           "title": {
            "standoff": 15
           },
           "zerolinecolor": "white",
           "zerolinewidth": 2
          }
         }
        },
        "xaxis": {
         "anchor": "y",
         "domain": [
          0,
          1
         ],
         "title": {
          "text": "Count"
         }
        },
        "yaxis": {
         "anchor": "x",
         "domain": [
          0,
          1
         ],
         "title": {
          "text": "Word"
         }
        }
       }
      }
     },
     "metadata": {},
     "output_type": "display_data"
    }
   ],
   "source": [
    "fig = px.bar(MostFrequentWordDF, y='Word', x='Count',  orientation='h')\n",
    "fig.show()"
   ]
  },
  {
   "cell_type": "markdown",
   "metadata": {},
   "source": [
    "# Number Of Words "
   ]
  },
  {
   "cell_type": "code",
   "execution_count": 23,
   "metadata": {},
   "outputs": [
    {
     "data": {
      "text/plain": [
       "2595981"
      ]
     },
     "execution_count": 23,
     "metadata": {},
     "output_type": "execute_result"
    }
   ],
   "source": [
    "Corpus[\"Number of Words\"] = Corpus[\"Normalized_Review\"].apply(lambda n:len(word_tokenize(n)))\n",
    "Corpus.drop(Corpus[ Corpus[\"Number of Words\"] == 0].index, inplace = True)\n",
    "Corpus[\"Number of Words\"].sum()"
   ]
  },
  {
   "cell_type": "markdown",
   "metadata": {},
   "source": [
    "# Number Of Charachters "
   ]
  },
  {
   "cell_type": "code",
   "execution_count": 24,
   "metadata": {},
   "outputs": [
    {
     "data": {
      "text/plain": [
       "17369402"
      ]
     },
     "execution_count": 24,
     "metadata": {},
     "output_type": "execute_result"
    }
   ],
   "source": [
    "Corpus[\"Number of Charachters\"] = Corpus[\"Normalized_Review\"].str.len()\n",
    "Corpus[\"Number of Charachters\"].sum()"
   ]
  },
  {
   "cell_type": "markdown",
   "metadata": {},
   "source": [
    "# Average Number Of Words "
   ]
  },
  {
   "cell_type": "code",
   "execution_count": 25,
   "metadata": {},
   "outputs": [
    {
     "data": {
      "text/plain": [
       "104"
      ]
     },
     "execution_count": 25,
     "metadata": {},
     "output_type": "execute_result"
    }
   ],
   "source": [
    "AverageNaumberOfWords = int(np.round((Corpus[\"Number of Words\"].mean())))\n",
    "AverageNaumberOfWords"
   ]
  },
  {
   "cell_type": "markdown",
   "metadata": {},
   "source": [
    "# Average Number Of Charachters "
   ]
  },
  {
   "cell_type": "code",
   "execution_count": 26,
   "metadata": {},
   "outputs": [
    {
     "data": {
      "text/plain": [
       "695"
      ]
     },
     "execution_count": 26,
     "metadata": {},
     "output_type": "execute_result"
    }
   ],
   "source": [
    "AverageNumberOfCharachters = int(np.round(Corpus[\"Number of Charachters\"].mean()))\n",
    "AverageNumberOfCharachters"
   ]
  },
  {
   "cell_type": "markdown",
   "metadata": {},
   "source": [
    "# Maximum Number Of Word"
   ]
  },
  {
   "cell_type": "code",
   "execution_count": 27,
   "metadata": {},
   "outputs": [
    {
     "data": {
      "text/plain": [
       "1275"
      ]
     },
     "execution_count": 27,
     "metadata": {},
     "output_type": "execute_result"
    }
   ],
   "source": [
    "MaximumNaumberOfWords = Corpus[\"Number of Words\"].max()\n",
    "MaximumNaumberOfWords"
   ]
  },
  {
   "cell_type": "markdown",
   "metadata": {},
   "source": [
    "# Maximum Number Of Charachters "
   ]
  },
  {
   "cell_type": "code",
   "execution_count": 28,
   "metadata": {},
   "outputs": [
    {
     "data": {
      "text/plain": [
       "7937"
      ]
     },
     "execution_count": 28,
     "metadata": {},
     "output_type": "execute_result"
    }
   ],
   "source": [
    "MaximumNumberOfCharachters = Corpus['Number of Charachters'].max() \n",
    "MaximumNumberOfCharachters"
   ]
  },
  {
   "cell_type": "markdown",
   "metadata": {},
   "source": [
    "# Minimum Number Of Words"
   ]
  },
  {
   "cell_type": "code",
   "execution_count": 29,
   "metadata": {},
   "outputs": [
    {
     "data": {
      "text/plain": [
       "3"
      ]
     },
     "execution_count": 29,
     "metadata": {},
     "output_type": "execute_result"
    }
   ],
   "source": [
    "MimimumNaumberOfWords = Corpus[\"Number of Words\"].min()\n",
    "MimimumNaumberOfWords"
   ]
  },
  {
   "cell_type": "markdown",
   "metadata": {},
   "source": [
    "# Minimum Number Of Charachters "
   ]
  },
  {
   "cell_type": "code",
   "execution_count": 30,
   "metadata": {},
   "outputs": [
    {
     "data": {
      "text/plain": [
       "21"
      ]
     },
     "execution_count": 30,
     "metadata": {},
     "output_type": "execute_result"
    }
   ],
   "source": [
    "MinimumNumberOfCharachters = Corpus['Number of Charachters'].min() \n",
    "MinimumNumberOfCharachters"
   ]
  },
  {
   "cell_type": "markdown",
   "metadata": {},
   "source": [
    "# Split The DataSet Into Independent Variables (X) And Dependent Variable (Y)"
   ]
  },
  {
   "cell_type": "code",
   "execution_count": 31,
   "metadata": {},
   "outputs": [],
   "source": [
    "X= Corpus['Normalized_Review']\n",
    "y = Corpus['Sentiment']"
   ]
  },
  {
   "cell_type": "markdown",
   "metadata": {},
   "source": [
    "# Label Encoder"
   ]
  },
  {
   "cell_type": "code",
   "execution_count": 32,
   "metadata": {},
   "outputs": [],
   "source": [
    "y = LabelEncoder().fit_transform(y)"
   ]
  },
  {
   "cell_type": "markdown",
   "metadata": {},
   "source": [
    "# Split The Dataset Into Training And Testing"
   ]
  },
  {
   "cell_type": "code",
   "execution_count": 33,
   "metadata": {},
   "outputs": [],
   "source": [
    "X_train, X_test, y_train, y_test = train_test_split(X, y, test_size=0.15, random_state=44)"
   ]
  },
  {
   "cell_type": "markdown",
   "metadata": {},
   "source": [
    "# TfidfVectorizer"
   ]
  },
  {
   "cell_type": "code",
   "execution_count": 34,
   "metadata": {},
   "outputs": [],
   "source": [
    "Tfid = TfidfVectorizer()\n",
    "X_train_Tfid = Tfid.fit_transform(X_train)\n",
    "X_test_Tfid = Tfid.transform(X_test)"
   ]
  },
  {
   "cell_type": "code",
   "execution_count": 35,
   "metadata": {},
   "outputs": [
    {
     "data": {
      "text/plain": [
       "{'movie': 33813,\n",
       " 'write': 56498,\n",
       " 'direct': 13536,\n",
       " 'produce': 39822,\n",
       " 'intention': 25472,\n",
       " 'create': 11114,\n",
       " 'bad': 3531,\n",
       " 'cult': 11525,\n",
       " 'classic': 9091,\n",
       " 'say': 44155,\n",
       " 'hit': 23153,\n",
       " 'watch': 55303,\n",
       " 'absolutely': 174,\n",
       " 'awful': 3345,\n",
       " 'fascinate': 17471,\n",
       " 'term': 50405,\n",
       " 'fault': 17541,\n",
       " 'well': 55543,\n",
       " 'act': 392,\n",
       " 'cast': 7730,\n",
       " 'nominate': 35242,\n",
       " 'worst': 56413,\n",
       " 'performance': 37840,\n",
       " 'award': 3331,\n",
       " 'hard': 22111,\n",
       " 'find': 18041,\n",
       " 'film': 17969,\n",
       " 'kind': 27596,\n",
       " 'production': 39827,\n",
       " 'budget': 6608,\n",
       " 'contain': 10370,\n",
       " 'little': 29593,\n",
       " 'value': 54096,\n",
       " 'whole': 55794,\n",
       " 'open': 36173,\n",
       " 'scenes': 44279,\n",
       " 'defy': 12503,\n",
       " 'logic': 29750,\n",
       " 'dialogue': 13241,\n",
       " 'completely': 9896,\n",
       " 'unbelievable': 52742,\n",
       " 'illogical': 24358,\n",
       " 'ditto': 13955,\n",
       " 'behaviour': 4400,\n",
       " 'general': 19894,\n",
       " 'storyline': 48373,\n",
       " 'mind': 32749,\n",
       " 'boggle': 5558,\n",
       " 'buffoons': 6629,\n",
       " 'boardroom': 5469,\n",
       " 'actually': 432,\n",
       " 'make': 30725,\n",
       " 'decisions': 12312,\n",
       " 'spend': 47469,\n",
       " 'money': 33334,\n",
       " 'piece': 38364,\n",
       " 'trash': 51767,\n",
       " 'wow': 56436,\n",
       " 'movies': 33827,\n",
       " 'release': 41851,\n",
       " 'type': 52463,\n",
       " 'situation': 46273,\n",
       " 'think': 50738,\n",
       " 'amaze': 1465,\n",
       " 'hear': 22465,\n",
       " 'speak': 47380,\n",
       " 'reminisce': 41934,\n",
       " 'wonderful': 56251,\n",
       " 'happen': 22080,\n",
       " 'possibility': 39203,\n",
       " 'occur': 35815,\n",
       " 'like': 29358,\n",
       " 'imply': 24579,\n",
       " 'peace': 37562,\n",
       " 'memories': 32169,\n",
       " 'fan': 17321,\n",
       " 'hang': 22028,\n",
       " 'ask': 2788,\n",
       " 'selfish': 44895,\n",
       " 'comedic': 9691,\n",
       " 'aspects': 2799,\n",
       " 'patch': 37393,\n",
       " 'way': 55376,\n",
       " 'comfort': 9707,\n",
       " 'people': 37766,\n",
       " 'wish': 56104,\n",
       " 'chance': 8180,\n",
       " 'clear': 9150,\n",
       " 'air': 960,\n",
       " 'see': 44816,\n",
       " 'john': 26608,\n",
       " 'care': 7476,\n",
       " 'lay': 28790,\n",
       " 'back': 3478,\n",
       " 'character': 8250,\n",
       " 'refresh': 41663,\n",
       " 'entire': 16125,\n",
       " 'weissmuller': 55531,\n",
       " 'tarzan': 49982,\n",
       " 'series': 45122,\n",
       " 'dvd': 15000,\n",
       " 'fully': 19277,\n",
       " 'restore': 42293,\n",
       " 'editions': 15276,\n",
       " 'tire': 51105,\n",
       " 'personal': 37946,\n",
       " 'favorite': 17560,\n",
       " 'mate': 31474,\n",
       " 'due': 14791,\n",
       " 'entirely': 16127,\n",
       " 'maureen': 31579,\n",
       " 'sullivan': 48967,\n",
       " 'costume': 10822,\n",
       " 'occasional': 35790,\n",
       " 'flash': 18254,\n",
       " 'genital': 19938,\n",
       " 'area': 2439,\n",
       " 'leather': 28862,\n",
       " 'flap': 18250,\n",
       " 'front': 19174,\n",
       " 'claim': 9036,\n",
       " 'look': 29858,\n",
       " 'let': 29135,\n",
       " 'numerous': 35548,\n",
       " 'time': 51024,\n",
       " 'high': 22977,\n",
       " 'zoom': 57286,\n",
       " 'mode': 33172,\n",
       " 'trust': 52146,\n",
       " 'naked': 34335,\n",
       " 'especially': 16431,\n",
       " 'lion': 29503,\n",
       " 'attack': 3032,\n",
       " 'end': 15924,\n",
       " 'careful': 7480,\n",
       " 'view': 54589,\n",
       " 'slow': 46600,\n",
       " 'motion': 33726,\n",
       " 'maximum': 31608,\n",
       " 'reveal': 42386,\n",
       " 'shave': 45464,\n",
       " 'tiny': 51090,\n",
       " 'dark': 11990,\n",
       " 'hair': 21813,\n",
       " 'cover': 10945,\n",
       " 'labia': 28254,\n",
       " 'mistake': 33051,\n",
       " 'swim': 49457,\n",
       " 'scene': 44274,\n",
       " 'body': 5519,\n",
       " 'double': 14408,\n",
       " 'skin': 46363,\n",
       " 'suit': 48939,\n",
       " 'yes': 56811,\n",
       " 'wear': 55415,\n",
       " 'show': 45813,\n",
       " 'want': 55194,\n",
       " 'controversy': 10488,\n",
       " 'move': 33803,\n",
       " 'actual': 426,\n",
       " 'script': 44614,\n",
       " 'tightly': 50991,\n",
       " 'action': 398,\n",
       " 'sequence': 45065,\n",
       " 'simply': 46147,\n",
       " 'great': 21102,\n",
       " 'obviously': 35780,\n",
       " 'stuntman': 48640,\n",
       " 'rid': 42588,\n",
       " 'rhino': 42516,\n",
       " 'wrestle': 56472,\n",
       " 'big': 4875,\n",
       " 'male': 30782,\n",
       " 'background': 3492,\n",
       " 'shots': 45799,\n",
       " 'second': 44759,\n",
       " 'unit': 53304,\n",
       " 'stuff': 48624,\n",
       " 'africa': 777,\n",
       " 'blend': 5267,\n",
       " 'studio': 48617,\n",
       " 'locations': 29701,\n",
       " 'tell': 50255,\n",
       " 'complain': 9884,\n",
       " 'remember': 41920,\n",
       " 'phony': 38237,\n",
       " 'anyway': 2113,\n",
       " 'relax': 41846,\n",
       " 'enjoy': 16027,\n",
       " 'damn': 11869,\n",
       " 'bowl': 5957,\n",
       " 'popcorn': 39060,\n",
       " 'cold': 9524,\n",
       " 'beer': 4356,\n",
       " 'fresh': 19067,\n",
       " 'pack': 36858,\n",
       " 'smoke': 46705,\n",
       " 'sexy': 45253,\n",
       " 'will': 55936,\n",
       " 'girlfriend': 20312,\n",
       " 'wife': 55879,\n",
       " 'line': 29456,\n",
       " 'lol': 29777,\n",
       " 'final': 18026,\n",
       " 'word': 56339,\n",
       " 'nudity': 35509,\n",
       " 'begin': 4385,\n",
       " 'white': 55748,\n",
       " 'hunters': 23977,\n",
       " 'keep': 27291,\n",
       " 'eye': 17101,\n",
       " 'extras': 17063,\n",
       " 'nude': 35502,\n",
       " 'african': 778,\n",
       " 'girls': 20322,\n",
       " 'shoot': 45748,\n",
       " 'location': 29698,\n",
       " 'racist': 40786,\n",
       " 'standards': 47887,\n",
       " 'color': 9623,\n",
       " 'portray': 39159,\n",
       " 'shaft': 45298,\n",
       " 'audiences': 3104,\n",
       " 'accept': 242,\n",
       " 'portrayals': 39161,\n",
       " 'history': 23149,\n",
       " 'safaris': 43638,\n",
       " 'natives': 34494,\n",
       " 'carry': 7632,\n",
       " 'luggage': 30160,\n",
       " 'head': 22413,\n",
       " 'die': 13329,\n",
       " 'heroic': 22825,\n",
       " 'death': 12208,\n",
       " 'try': 52157,\n",
       " 'save': 44118,\n",
       " 'jane': 26171,\n",
       " 'matter': 31544,\n",
       " 'gene': 19890,\n",
       " 'autry': 3243,\n",
       " 'treat': 51824,\n",
       " 'native': 34493,\n",
       " 'americans': 1529,\n",
       " 'westerns': 55611,\n",
       " 'real': 41295,\n",
       " 'human': 23877,\n",
       " 'be': 4191,\n",
       " 'hollywood': 23339,\n",
       " 'okay': 35984,\n",
       " 'hi': 22923,\n",
       " 'saw': 44136,\n",
       " 'sing': 46177,\n",
       " 'rain': 40898,\n",
       " 'kelly': 27332,\n",
       " 'dance': 11889,\n",
       " 'number': 35536,\n",
       " 'donald': 14235,\n",
       " 'connor': 10219,\n",
       " 'em': 15701,\n",
       " 'laugh': 28697,\n",
       " 'royal': 43294,\n",
       " 'wed': 55449,\n",
       " 'fred': 18997,\n",
       " 'astaire': 2893,\n",
       " 'ceiling': 7959,\n",
       " 'jailhouse': 26133,\n",
       " 'rock': 42900,\n",
       " 'title': 51137,\n",
       " 'choreograph': 8719,\n",
       " 'king': 27623,\n",
       " 'miss': 33016,\n",
       " 'blockbuster': 5318,\n",
       " 'presentation': 39572,\n",
       " 'closest': 9281,\n",
       " 'chuck': 8810,\n",
       " 'mcgowan': 31772,\n",
       " 'mere': 32271,\n",
       " 'talented': 49786,\n",
       " 'stage': 47811,\n",
       " 'richard': 42561,\n",
       " 'attenborough': 3040,\n",
       " 'blame': 5189,\n",
       " 'failure': 17213,\n",
       " 'point': 38860,\n",
       " 'camera': 7207,\n",
       " 'yell': 56789,\n",
       " 'audition': 3109,\n",
       " 'part': 37285,\n",
       " 'broadway': 6377,\n",
       " 'entertainment': 16110,\n",
       " 'michael': 32491,\n",
       " 'douglas': 14432,\n",
       " 'badly': 3557,\n",
       " 'western': 55604,\n",
       " 'comedy': 9698,\n",
       " 'ok': 35980,\n",
       " 'work': 56350,\n",
       " 'course': 10913,\n",
       " 'use': 53915,\n",
       " 'songs': 47098,\n",
       " 'next': 34912,\n",
       " 'hope': 23530,\n",
       " 'call': 7144,\n",
       " 'first': 18139,\n",
       " 'tom': 51261,\n",
       " 'willett': 55944,\n",
       " 'small': 46643,\n",
       " 'hundred': 23952,\n",
       " 'gun': 21549,\n",
       " 'fire': 18094,\n",
       " 'dozen': 14492,\n",
       " 'explosions': 16964,\n",
       " 'woo': 56266,\n",
       " 'performances': 37841,\n",
       " 'roy': 43293,\n",
       " 'scheider': 44315,\n",
       " 'guy': 21642,\n",
       " 'frankenheimer': 18928,\n",
       " 'luck': 30123,\n",
       " 'productions': 39828,\n",
       " 'days': 12125,\n",
       " 'easy': 15155,\n",
       " 'story': 48366,\n",
       " 'yarn': 56723,\n",
       " 'wash': 55270,\n",
       " 'machine': 30432,\n",
       " 'go': 20540,\n",
       " 'worse': 56403,\n",
       " 'plot': 38754,\n",
       " 'thicken': 50705,\n",
       " 'positive': 39185,\n",
       " 'read': 41274,\n",
       " 'elmore': 15652,\n",
       " 'leonard': 29071,\n",
       " 'book': 5741,\n",
       " 'feel': 17645,\n",
       " 'squeamish': 47733,\n",
       " 'year': 56763,\n",
       " 'old': 36007,\n",
       " 'luke': 30175,\n",
       " 'benward': 4594,\n",
       " 'billy': 4957,\n",
       " 'worm': 56391,\n",
       " 'boy': 5972,\n",
       " 'forrester': 18743,\n",
       " 'new': 34853,\n",
       " 'town': 51531,\n",
       " 'school': 44413,\n",
       " 'young': 56911,\n",
       " 'pick': 38321,\n",
       " 'boys': 5984,\n",
       " 'put': 40461,\n",
       " 'thermos': 50676,\n",
       " 'gag': 19452,\n",
       " 'reflex': 41648,\n",
       " 'control': 10482,\n",
       " 'toss': 51460,\n",
       " 'freckle': 18996,\n",
       " 'face': 17155,\n",
       " 'bully': 6714,\n",
       " 'adam': 451,\n",
       " 'hicks': 22944,\n",
       " 'joe': 26581,\n",
       " 'guire': 21505,\n",
       " 'bet': 4728,\n",
       " 'eat': 15158,\n",
       " 'day': 12115,\n",
       " 'regurgitation': 41742,\n",
       " 'tall': 49810,\n",
       " 'tease': 50118,\n",
       " 'hallie': 21887,\n",
       " 'kate': 27172,\n",
       " 'eisenberg': 15456,\n",
       " 'erika': 16321,\n",
       " 'erk': 16328,\n",
       " 'tansy': 49903,\n",
       " 'archery': 2398,\n",
       " 'skills': 46357,\n",
       " 'help': 22682,\n",
       " 'director': 13548,\n",
       " 'sctv': 44648,\n",
       " 'writer': 56500,\n",
       " 'bob': 5481,\n",
       " 'dolman': 14180,\n",
       " 'promise': 39929,\n",
       " 'harm': 22175,\n",
       " 'note': 35392,\n",
       " 'star': 47921,\n",
       " 'andrea': 1743,\n",
       " 'martin': 31317,\n",
       " 'funny': 19326,\n",
       " 'fry': 19213,\n",
       " 'loosely': 29887,\n",
       " 'base': 4013,\n",
       " 'thomas': 50779,\n",
       " 'rockwell': 42918,\n",
       " 'popular': 39083,\n",
       " 'novel': 35440,\n",
       " 'pre': 39379,\n",
       " 'teen': 50168,\n",
       " 'kid': 27512,\n",
       " 'gross': 21303,\n",
       " 'alexander': 1171,\n",
       " 'gould': 20864,\n",
       " 'pokemon': 38883,\n",
       " 'legendary': 28929,\n",
       " 'come': 9685,\n",
       " 'strong': 48562,\n",
       " 'celebi': 7969,\n",
       " 'turn': 52313,\n",
       " 'evil': 16670,\n",
       " 'suicune': 48937,\n",
       " 'appearance': 2217,\n",
       " 'powerful': 39305,\n",
       " 'marauder': 31093,\n",
       " 'taranitar': 49933,\n",
       " 'fight': 17930,\n",
       " 'ash': 2746,\n",
       " 'pikachu': 38402,\n",
       " 'meet': 32025,\n",
       " 'younger': 56915,\n",
       " 'professor': 39848,\n",
       " 'oak': 35643,\n",
       " 'realise': 41300,\n",
       " 'misty': 33067,\n",
       " 'close': 9277,\n",
       " 'credit': 11136,\n",
       " 'expect': 16890,\n",
       " 'far': 17390,\n",
       " 'usual': 53937,\n",
       " 'eerie': 15321,\n",
       " 'lynch': 30323,\n",
       " 'appreciate': 2280,\n",
       " 'grow': 21344,\n",
       " 'run': 43421,\n",
       " 'mill': 32686,\n",
       " 'overt': 36766,\n",
       " 'sentimentalism': 45030,\n",
       " 'oprah': 36238,\n",
       " 'ish': 25906,\n",
       " 'semantics': 44925,\n",
       " 'tho': 50772,\n",
       " 'right': 42646,\n",
       " 'unfold': 53144,\n",
       " 'flawlessly': 18305,\n",
       " 'take': 49758,\n",
       " 'journey': 26722,\n",
       " 'believe': 4465,\n",
       " 'recognize': 41454,\n",
       " 'compassionate': 9849,\n",
       " 'existentialist': 16857,\n",
       " 'amend': 1512,\n",
       " 'past': 37368,\n",
       " 'approach': 2292,\n",
       " 'ourt': 36513,\n",
       " 'inevitable': 25023,\n",
       " 'demise': 12672,\n",
       " 'cinematography': 8938,\n",
       " 'likewise': 29367,\n",
       " 'occasionally': 35791,\n",
       " 'brilliant': 6302,\n",
       " 'leave': 28868,\n",
       " 'viewer': 54592,\n",
       " 'grasp': 21044,\n",
       " 'detail': 13048,\n",
       " 'od': 35844,\n",
       " 'warm': 55235,\n",
       " 'excessively': 16761,\n",
       " 'sentimental': 45028,\n",
       " 'friend': 19107,\n",
       " 'rent': 42012,\n",
       " 'agree': 886,\n",
       " 'count': 10867,\n",
       " 'waste': 55291,\n",
       " 'start': 47966,\n",
       " 'suicide': 48934,\n",
       " 'car': 7436,\n",
       " 'crash': 11072,\n",
       " 'guess': 21447,\n",
       " 'depend': 12816,\n",
       " 'choose': 8702,\n",
       " 'gabriele': 19417,\n",
       " 'muccino': 33887,\n",
       " 'give': 20355,\n",
       " 'ability': 96,\n",
       " 'enter': 16098,\n",
       " 'pound': 39283,\n",
       " 'prefer': 39473,\n",
       " 'events': 16626,\n",
       " 'lead': 28829,\n",
       " 'heartbreaking': 22480,\n",
       " 'maybe': 31618,\n",
       " 'softy': 46961,\n",
       " 'dramas': 14534,\n",
       " 'ilk': 24340,\n",
       " 'drip': 14652,\n",
       " 'weighty': 55500,\n",
       " 'moments': 33298,\n",
       " 'chock': 8669,\n",
       " 'full': 19269,\n",
       " 'devastate': 13110,\n",
       " 'best': 4716,\n",
       " 'truly': 52132,\n",
       " 'touch': 51487,\n",
       " 'linger': 29475,\n",
       " 'hours': 23711,\n",
       " 'theatre': 50588,\n",
       " 'team': 50102,\n",
       " 'bring': 6314,\n",
       " 'overrate': 36731,\n",
       " 'sappy': 43951,\n",
       " 'redeem': 41542,\n",
       " 'pursuit': 40439,\n",
       " 'happiness': 22089,\n",
       " 'anticipation': 2021,\n",
       " 'closely': 9278,\n",
       " 'guard': 21414,\n",
       " 'letdown': 29137,\n",
       " 'frame': 18878,\n",
       " 'roll': 43003,\n",
       " 'figure': 17943,\n",
       " 'smith': 46694,\n",
       " 'secret': 44767,\n",
       " 'mission': 33027,\n",
       " 'complete': 9894,\n",
       " 'fulfill': 19265,\n",
       " 'penance': 37701,\n",
       " 'shin': 45626,\n",
       " 'bright': 6284,\n",
       " 'tear': 50110,\n",
       " 'fill': 17959,\n",
       " 'smile': 46683,\n",
       " 'entry': 16157,\n",
       " 'bite': 5074,\n",
       " 'jar': 26227,\n",
       " 'kilter': 27578,\n",
       " 'comprehend': 9943,\n",
       " 'list': 29550,\n",
       " 'name': 34346,\n",
       " 'know': 27858,\n",
       " 'attempt': 3039,\n",
       " 'follow': 18557,\n",
       " 'audit': 3108,\n",
       " 'irs': 25884,\n",
       " 'allow': 1281,\n",
       " 'access': 250,\n",
       " 'strangers': 48427,\n",
       " 'glimpse': 20445,\n",
       " 'live': 29604,\n",
       " 'order': 36309,\n",
       " 'worthy': 56422,\n",
       " 'gift': 20201,\n",
       " 'power': 39303,\n",
       " 'alter': 1369,\n",
       " 'circumstances': 8982,\n",
       " 'childhood': 8585,\n",
       " 'barry': 3981,\n",
       " 'pepper': 37775,\n",
       " 'remind': 41929,\n",
       " 'decision': 12311,\n",
       " 'change': 8202,\n",
       " 'role': 42997,\n",
       " 'utter': 53967,\n",
       " 'grief': 21196,\n",
       " 'hold': 23293,\n",
       " 'aloft': 1314,\n",
       " 'encompass': 15904,\n",
       " 'primal': 39682,\n",
       " 'level': 29169,\n",
       " 'emotion': 15818,\n",
       " 'deal': 12181,\n",
       " 'breakdowns': 6146,\n",
       " 'streak': 48467,\n",
       " 'compose': 9928,\n",
       " 'hand': 21978,\n",
       " 'convulsions': 10536,\n",
       " 'bond': 5666,\n",
       " 'men': 32175,\n",
       " 'stand': 47881,\n",
       " 'test': 50474,\n",
       " 'circumstance': 8981,\n",
       " 'phone': 38228,\n",
       " 'sort': 47183,\n",
       " 'alleviate': 1262,\n",
       " 'monetary': 33331,\n",
       " 'trouble': 52073,\n",
       " 'mortally': 33647,\n",
       " 'ill': 24343,\n",
       " 'folk': 18547,\n",
       " 'stay': 48022,\n",
       " 'afloat': 767,\n",
       " 'heavy': 22529,\n",
       " 'burden': 6767,\n",
       " 'medical': 31975,\n",
       " 'bill': 4938,\n",
       " 'survival': 49276,\n",
       " 'progression': 39883,\n",
       " 'blind': 5285,\n",
       " 'vegan': 54261,\n",
       " 'meat': 31916,\n",
       " 'salesman': 43731,\n",
       " 'berate': 4603,\n",
       " 'explode': 16945,\n",
       " 'phase': 38119,\n",
       " 'donor': 14275,\n",
       " 'necessity': 34630,\n",
       " 'heart': 22474,\n",
       " 'patient': 37427,\n",
       " 'unable': 52654,\n",
       " 'print': 39720,\n",
       " 'stationary': 47995,\n",
       " 'dane': 11905,\n",
       " 'duke': 14821,\n",
       " 'abuse': 207,\n",
       " 'scar': 44214,\n",
       " 'latino': 28667,\n",
       " 'mother': 33714,\n",
       " 'afraid': 776,\n",
       " 'boyfriend': 5978,\n",
       " 'hockey': 23238,\n",
       " 'coach': 9353,\n",
       " 'instill': 25381,\n",
       " 'faith': 17240,\n",
       " 'downtrodden': 14480,\n",
       " 'youth': 56932,\n",
       " 'community': 9816,\n",
       " 'need': 34658,\n",
       " 'bone': 5675,\n",
       " 'marrow': 31287,\n",
       " 'transplant': 51735,\n",
       " 'pain': 36914,\n",
       " 'future': 19376,\n",
       " 'disposition': 13836,\n",
       " 'cherish': 8481,\n",
       " 'beat': 4240,\n",
       " 'cut': 11651,\n",
       " 'corner': 10683,\n",
       " 'expense': 16911,\n",
       " 'style': 48675,\n",
       " 'weed': 55456,\n",
       " 'mix': 33091,\n",
       " 'deserve': 12955,\n",
       " 'unknown': 53338,\n",
       " 'man': 30873,\n",
       " 'flashbacks': 18257,\n",
       " 'aeronautical': 690,\n",
       " 'engineer': 15992,\n",
       " 'beautiful': 4274,\n",
       " 'huge': 23840,\n",
       " 'beachfront': 4198,\n",
       " 'home': 23381,\n",
       " 'motel': 33709,\n",
       " 'drive': 14657,\n",
       " 'door': 14310,\n",
       " 'stumble': 48630,\n",
       " 'job': 26556,\n",
       " 'quest': 40650,\n",
       " 'long': 29820,\n",
       " 'painful': 36917,\n",
       " 'temper': 50273,\n",
       " 'clarity': 9079,\n",
       " 'honest': 23453,\n",
       " 'compassion': 9848,\n",
       " 'mean': 31887,\n",
       " 'seriously': 45125,\n",
       " 'cross': 11327,\n",
       " 'undeserving': 53001,\n",
       " 'nth': 35485,\n",
       " 'degree': 12514,\n",
       " 'fun': 19288,\n",
       " 'step': 48122,\n",
       " 'suffer': 48897,\n",
       " 'away': 3335,\n",
       " 'soul': 47206,\n",
       " 'fate': 17513,\n",
       " 'saint': 43688,\n",
       " 'redemption': 41547,\n",
       " 'summer': 48994,\n",
       " 'tentpoles': 50377,\n",
       " 'win': 55993,\n",
       " 'oscar': 36438,\n",
       " 'travesty': 51798,\n",
       " 'least': 28858,\n",
       " 'rest': 42281,\n",
       " 'stellar': 48112,\n",
       " 'across': 390,\n",
       " 'board': 5464,\n",
       " 'woody': 56306,\n",
       " 'harrelson': 22208,\n",
       " 'pitch': 38538,\n",
       " 'perfect': 37824,\n",
       " 'handicap': 21995,\n",
       " 'joy': 26739,\n",
       " 'life': 29303,\n",
       " 'shy': 45918,\n",
       " 'belief': 4459,\n",
       " 'humanity': 23891,\n",
       " 'sit': 46262,\n",
       " 'diner': 13475,\n",
       " 'pie': 38363,\n",
       " 'piano': 38307,\n",
       " 'park': 37234,\n",
       " 'play': 38672,\n",
       " 'listen': 29551,\n",
       " 'elpidia': 15663,\n",
       " 'carrillo': 7622,\n",
       " 'fantastic': 17373,\n",
       " 'evolution': 16685,\n",
       " 'prideful': 39668,\n",
       " 'overwhelm': 36783,\n",
       " 'kindness': 27608,\n",
       " 'stranger': 48426,\n",
       " 'family': 17312,\n",
       " 'finally': 18033,\n",
       " 'safe': 43641,\n",
       " 'rosario': 43131,\n",
       " 'dawson': 12112,\n",
       " 'hot': 23668,\n",
       " 'woman': 56232,\n",
       " 'break': 6139,\n",
       " 'lengthy': 29037,\n",
       " 'hospital': 23653,\n",
       " 'love': 30006,\n",
       " 'introduction': 25657,\n",
       " 'free': 19010,\n",
       " 'spirit': 47537,\n",
       " 'sexual': 45244,\n",
       " 'creature': 11125,\n",
       " 'fear': 17596,\n",
       " 'wonder': 56248,\n",
       " 'last': 28634,\n",
       " 'earth': 15121,\n",
       " 'sweet': 49426,\n",
       " 'unique': 53295,\n",
       " 'similar': 46112,\n",
       " 'brashear': 6084,\n",
       " 'train': 51622,\n",
       " 'american': 1522,\n",
       " 'navy': 34564,\n",
       " 'diver': 13966,\n",
       " 'tale': 49783,\n",
       " 'develop': 13115,\n",
       " 'nicely': 34951,\n",
       " 'typical': 52471,\n",
       " 'underdog': 52916,\n",
       " 'surprise': 49251,\n",
       " 'hey': 22911,\n",
       " 'dramatic': 14535,\n",
       " 'adversity': 656,\n",
       " 'inspirational': 25355,\n",
       " 'dream': 14582,\n",
       " 'excellent': 16746,\n",
       " 'deniro': 12749,\n",
       " 'gooding': 20730,\n",
       " 'jr': 26753,\n",
       " 'shine': 45631,\n",
       " 'screen': 44580,\n",
       " 'rapaport': 41065,\n",
       " 'marvelous': 31344,\n",
       " 'credible': 11133,\n",
       " 'consistent': 10289,\n",
       " 'edit': 15272,\n",
       " 'feature': 17612,\n",
       " 'fairly': 17229,\n",
       " 'convince': 10526,\n",
       " 'transport': 51737,\n",
       " 'consider': 10273,\n",
       " 'responsible': 42275,\n",
       " 'moderate': 33177,\n",
       " 'amount': 1597,\n",
       " 'language': 28518,\n",
       " 'offensive': 35905,\n",
       " 'material': 31480,\n",
       " 'recommend': 41466,\n",
       " 'subject': 48724,\n",
       " 'interest': 25511,\n",
       " 'episode': 16228,\n",
       " 'simpsons': 46150,\n",
       " 'joke': 26633,\n",
       " 'news': 34884,\n",
       " 'report': 42092,\n",
       " 'refer': 41633,\n",
       " 'army': 2564,\n",
       " 'killbot': 27559,\n",
       " 'factory': 17188,\n",
       " 'comment': 9745,\n",
       " 'throwaway': 50871,\n",
       " 'patricia': 37444,\n",
       " 'foulkrod': 18804,\n",
       " 'documentary': 14079,\n",
       " 'scarily': 44233,\n",
       " 'truth': 52152,\n",
       " 'world': 56378,\n",
       " 'war': 55201,\n",
       " 'decide': 12303,\n",
       " 'tackle': 49684,\n",
       " 'problem': 39782,\n",
       " 'soldier': 46989,\n",
       " 'battle': 4123,\n",
       " 'totally': 51470,\n",
       " 'kill': 27557,\n",
       " 'process': 39795,\n",
       " 'remove': 41961,\n",
       " 'moral': 33529,\n",
       " 'scruple': 44639,\n",
       " 'recruit': 41509,\n",
       " 'combatants': 9670,\n",
       " 'unnatural': 53408,\n",
       " 'state': 47980,\n",
       " 'sustainable': 49318,\n",
       " 'urge': 53872,\n",
       " 'antiwar': 2053,\n",
       " 'certainly': 8069,\n",
       " 'paint': 36925,\n",
       " 'light': 29335,\n",
       " 'focus': 18515,\n",
       " 'aspect': 2798,\n",
       " 'media': 31965,\n",
       " 'attention': 3047,\n",
       " 'debate': 12232,\n",
       " 'legality': 28922,\n",
       " 'physical': 38281,\n",
       " 'successes': 48837,\n",
       " 'failures': 17214,\n",
       " 'affect': 716,\n",
       " 'person': 37941,\n",
       " 'paradox': 37142,\n",
       " 'defend': 12427,\n",
       " 'society': 46903,\n",
       " 'unsuitable': 53659,\n",
       " 'examples': 16729,\n",
       " 'interviewees': 25612,\n",
       " 'current': 11597,\n",
       " 'middle': 32551,\n",
       " 'east': 15142,\n",
       " 'conflict': 10127,\n",
       " 'link': 29484,\n",
       " 'vietnam': 54585,\n",
       " 'painfully': 36919,\n",
       " 'problems': 39785,\n",
       " 'cause': 7878,\n",
       " 'structurally': 48583,\n",
       " 'split': 47586,\n",
       " 'section': 44780,\n",
       " 'draw': 14566,\n",
       " 'receive': 41407,\n",
       " 'combat': 9668,\n",
       " 'reach': 41261,\n",
       " 'target': 49948,\n",
       " 'policies': 38918,\n",
       " 'inherent': 25179,\n",
       " 'arm': 2533,\n",
       " 'force': 18642,\n",
       " 'place': 38584,\n",
       " 'affective': 726,\n",
       " 'individuals': 24956,\n",
       " 'interview': 25610,\n",
       " 'clean': 9141,\n",
       " 'simple': 46134,\n",
       " 'democracy': 12677,\n",
       " 'freedom': 19015,\n",
       " 'band': 3770,\n",
       " 'enemy': 15962,\n",
       " 'destroy': 13031,\n",
       " 'ingrain': 25163,\n",
       " 'idea': 24211,\n",
       " 'soon': 47122,\n",
       " 'closer': 9280,\n",
       " 'political': 38929,\n",
       " 'social': 46891,\n",
       " 'ideals': 24220,\n",
       " 'grind': 21239,\n",
       " 'goal': 20543,\n",
       " 'highlight': 22993,\n",
       " 'discard': 13626,\n",
       " 'country': 10890,\n",
       " 'return': 42372,\n",
       " 'rehabilitation': 41748,\n",
       " 'cope': 10586,\n",
       " 'sure': 49218,\n",
       " 'legal': 28919,\n",
       " 'responsibility': 42273,\n",
       " 'psychological': 40200,\n",
       " 'indignity': 24933,\n",
       " 'flaw': 18303,\n",
       " 'side': 45971,\n",
       " 'argument': 2472,\n",
       " 'impression': 24609,\n",
       " 'single': 46188,\n",
       " 'post': 39206,\n",
       " 'traumatic': 51780,\n",
       " 'stress': 48501,\n",
       " 'syndrome': 49600,\n",
       " 'liberal': 29243,\n",
       " 'upbringing': 53788,\n",
       " 'opinions': 36202,\n",
       " 'handle': 21999,\n",
       " 'expertly': 16923,\n",
       " 'craft': 11017,\n",
       " 'stock': 48287,\n",
       " 'footage': 18605,\n",
       " 'music': 34111,\n",
       " 'perfectly': 37829,\n",
       " 'utilise': 53955,\n",
       " 'pass': 37341,\n",
       " 'discuss': 13692,\n",
       " 'fallout': 17271,\n",
       " 'define': 12468,\n",
       " 'true': 52117,\n",
       " 'depth': 12864,\n",
       " 'emotions': 15824,\n",
       " 'drain': 14524,\n",
       " 'vivah': 54830,\n",
       " 'ddlj': 12147,\n",
       " 'saajan': 43539,\n",
       " 'lamhey': 28435,\n",
       " 'bollywood': 5619,\n",
       " 'pinnacle': 38473,\n",
       " 'wrong': 56506,\n",
       " 'store': 48347,\n",
       " 'buy': 6934,\n",
       " 'groceries': 21280,\n",
       " 'compare': 9838,\n",
       " 'ab': 34,\n",
       " 'shahrukh': 45311,\n",
       " 'meaningless': 31902,\n",
       " 'realize': 41313,\n",
       " 'rat': 41136,\n",
       " 'happy': 22091,\n",
       " 'scantily': 44207,\n",
       " 'clothe': 9289,\n",
       " 'women': 56244,\n",
       " 'opportunity': 36221,\n",
       " 'bed': 4310,\n",
       " 'actress': 423,\n",
       " 'minutes': 32855,\n",
       " 'shahid': 45308,\n",
       " 'kapor': 27069,\n",
       " 'gain': 19478,\n",
       " 'fame': 17299,\n",
       " 'accomplish': 280,\n",
       " 'actor': 418,\n",
       " 'grab': 20907,\n",
       " 'vanish': 54152,\n",
       " 'traditions': 51602,\n",
       " 'brave': 6108,\n",
       " 'generation': 19904,\n",
       " 'concept': 10001,\n",
       " 'arrange': 2595,\n",
       " 'marriage': 31284,\n",
       " 'conviction': 10523,\n",
       " 'felt': 17704,\n",
       " 'score': 44513,\n",
       " 'still': 48231,\n",
       " 'push': 40446,\n",
       " 'welcome': 55536,\n",
       " 'addition': 482,\n",
       " 'ajay': 1021,\n",
       " 'devgan': 13126,\n",
       " 'company': 9831,\n",
       " 'salman': 43756,\n",
       " 'groove': 21296,\n",
       " 'hum': 23876,\n",
       " 'aapkey': 20,\n",
       " 'hain': 21809,\n",
       " 'kaun': 27221,\n",
       " 'kappor': 27072,\n",
       " 'jump': 26837,\n",
       " 'actors': 420,\n",
       " 'entertainers': 16108,\n",
       " 'adjust': 532,\n",
       " 'nice': 34950,\n",
       " 'rich': 42558,\n",
       " 'basketball': 4049,\n",
       " 'dunk': 14898,\n",
       " 'indian': 24903,\n",
       " 'england': 15994,\n",
       " 'countries': 10889,\n",
       " 'believable': 4463,\n",
       " 'amrita': 1626,\n",
       " 'rao': 41060,\n",
       " 'compete': 9865,\n",
       " 'hinder': 23072,\n",
       " 'cry': 11429,\n",
       " 'knowledge': 27861,\n",
       " 'memorable': 32159,\n",
       " 'rani': 41040,\n",
       " 'girl': 20309,\n",
       " 'decent': 12291,\n",
       " 'directors': 13551,\n",
       " 'torch': 51390,\n",
       " 'voice': 54887,\n",
       " 'exude': 17093,\n",
       " 'innocence': 25250,\n",
       " 'fat': 17500,\n",
       " 'hurt': 24004,\n",
       " 'challenge': 8154,\n",
       " 'sonali': 47084,\n",
       " 'enamor': 15882,\n",
       " 'beauty': 4280,\n",
       " ...}"
      ]
     },
     "execution_count": 35,
     "metadata": {},
     "output_type": "execute_result"
    }
   ],
   "source": [
    "vocab = Tfid.vocabulary_\n",
    "vocab"
   ]
  },
  {
   "cell_type": "markdown",
   "metadata": {},
   "source": [
    "# Models"
   ]
  },
  {
   "cell_type": "code",
   "execution_count": 36,
   "metadata": {},
   "outputs": [],
   "source": [
    "def models_(model_name):\n",
    "    model = model_name\n",
    "    model.fit(X_train_Tfid, y_train)\n",
    "    y_pred = model.predict(X_test_Tfid)\n",
    "    return y_pred"
   ]
  },
  {
   "cell_type": "markdown",
   "metadata": {},
   "source": [
    "# Confusion Matrix"
   ]
  },
  {
   "cell_type": "code",
   "execution_count": 37,
   "metadata": {},
   "outputs": [],
   "source": [
    "def confusion_matrix_(Real, Prediction):\n",
    "        ConfusionMatrix = confusion_matrix(Real, Prediction)\n",
    "        return ConfusionMatrix"
   ]
  },
  {
   "cell_type": "markdown",
   "metadata": {},
   "source": [
    "# Generate True Positive, False Positive, True Negative, False Negative"
   ]
  },
  {
   "cell_type": "code",
   "execution_count": 38,
   "metadata": {},
   "outputs": [],
   "source": [
    "def positive_negative(Confusin_Matrix):\n",
    "    False_Postive = Confusin_Matrix[0, 1]\n",
    "\n",
    "    True_Positive = Confusin_Matrix[0, 0]\n",
    "\n",
    "    False_Negative = Confusin_Matrix[1, 0]\n",
    "    \n",
    "    True_Negative = Confusin_Matrix[1, 1]\n",
    "\n",
    "    return False_Postive, True_Positive, False_Negative, True_Negative"
   ]
  },
  {
   "cell_type": "markdown",
   "metadata": {},
   "source": [
    "# Performance Merics"
   ]
  },
  {
   "cell_type": "code",
   "execution_count": 39,
   "metadata": {},
   "outputs": [],
   "source": [
    "def performance_metrics(False_Postive, True_Positive, False_Negative, True_Negative):\n",
    "     Accuracy = (True_Positive + True_Negative) / (True_Positive + True_Negative + False_Postive + False_Negative)\n",
    "     Precision = True_Positive / (True_Positive+ False_Postive)\n",
    "     Sensitivity = True_Positive / (True_Positive  + False_Negative)\n",
    "     Specificity = True_Negative / (True_Negative + False_Negative)\n",
    "     F1Score = (True_Positive) / ((True_Positive) + (0.5 *(False_Postive + False_Negative)))\n",
    "     Error = 1 - Accuracy\n",
    "     MetricsValues = pd.DataFrame(index=['Accuracy', 'Precision', 'Sensitivity', 'Specificity', 'F1Score', 'Error'], columns=['Values'], data=[Accuracy, Precision, Sensitivity, Specificity, F1Score, Error])\n",
    "     return MetricsValues\n"
   ]
  },
  {
   "cell_type": "markdown",
   "metadata": {},
   "source": [
    "# Machine Learning"
   ]
  },
  {
   "cell_type": "markdown",
   "metadata": {},
   "source": [
    "**1. Naive Bayes**"
   ]
  },
  {
   "cell_type": "code",
   "execution_count": 40,
   "metadata": {},
   "outputs": [],
   "source": [
    "model_name1 = MultinomialNB()\n",
    "y_pred1 = models_(model_name1)"
   ]
  },
  {
   "cell_type": "code",
   "execution_count": 41,
   "metadata": {},
   "outputs": [],
   "source": [
    "cm1 = confusion_matrix_(y_test, y_pred1)"
   ]
  },
  {
   "cell_type": "code",
   "execution_count": 42,
   "metadata": {},
   "outputs": [],
   "source": [
    "False_Postive, True_Positive, False_Negative, True_Negative = positive_negative(cm1)"
   ]
  },
  {
   "cell_type": "code",
   "execution_count": 43,
   "metadata": {},
   "outputs": [],
   "source": [
    "MetricsValues1 = performance_metrics(False_Postive, True_Positive, False_Negative, True_Negative)"
   ]
  },
  {
   "cell_type": "code",
   "execution_count": 44,
   "metadata": {},
   "outputs": [
    {
     "data": {
      "text/html": [
       "<div>\n",
       "<style scoped>\n",
       "    .dataframe tbody tr th:only-of-type {\n",
       "        vertical-align: middle;\n",
       "    }\n",
       "\n",
       "    .dataframe tbody tr th {\n",
       "        vertical-align: top;\n",
       "    }\n",
       "\n",
       "    .dataframe thead th {\n",
       "        text-align: right;\n",
       "    }\n",
       "</style>\n",
       "<table border=\"1\" class=\"dataframe\">\n",
       "  <thead>\n",
       "    <tr style=\"text-align: right;\">\n",
       "      <th></th>\n",
       "      <th>Values</th>\n",
       "    </tr>\n",
       "  </thead>\n",
       "  <tbody>\n",
       "    <tr>\n",
       "      <th>Accuracy</th>\n",
       "      <td>0.861867</td>\n",
       "    </tr>\n",
       "    <tr>\n",
       "      <th>Precision</th>\n",
       "      <td>0.873990</td>\n",
       "    </tr>\n",
       "    <tr>\n",
       "      <th>Sensitivity</th>\n",
       "      <td>0.851075</td>\n",
       "    </tr>\n",
       "    <tr>\n",
       "      <th>Specificity</th>\n",
       "      <td>0.849974</td>\n",
       "    </tr>\n",
       "    <tr>\n",
       "      <th>F1Score</th>\n",
       "      <td>0.862380</td>\n",
       "    </tr>\n",
       "    <tr>\n",
       "      <th>Error</th>\n",
       "      <td>0.138133</td>\n",
       "    </tr>\n",
       "  </tbody>\n",
       "</table>\n",
       "</div>"
      ],
      "text/plain": [
       "               Values\n",
       "Accuracy     0.861867\n",
       "Precision    0.873990\n",
       "Sensitivity  0.851075\n",
       "Specificity  0.849974\n",
       "F1Score      0.862380\n",
       "Error        0.138133"
      ]
     },
     "execution_count": 44,
     "metadata": {},
     "output_type": "execute_result"
    }
   ],
   "source": [
    "MetricsValues1"
   ]
  },
  {
   "cell_type": "markdown",
   "metadata": {},
   "source": [
    "**2. Logistic Regression**"
   ]
  },
  {
   "cell_type": "code",
   "execution_count": 45,
   "metadata": {},
   "outputs": [],
   "source": [
    "model_name2 = LogisticRegression()\n",
    "y_pred2 = models_(model_name2)"
   ]
  },
  {
   "cell_type": "code",
   "execution_count": 46,
   "metadata": {},
   "outputs": [],
   "source": [
    "cm2 = confusion_matrix_(y_test, y_pred2)"
   ]
  },
  {
   "cell_type": "code",
   "execution_count": 47,
   "metadata": {},
   "outputs": [
    {
     "data": {
      "text/html": [
       "<div>\n",
       "<style scoped>\n",
       "    .dataframe tbody tr th:only-of-type {\n",
       "        vertical-align: middle;\n",
       "    }\n",
       "\n",
       "    .dataframe tbody tr th {\n",
       "        vertical-align: top;\n",
       "    }\n",
       "\n",
       "    .dataframe thead th {\n",
       "        text-align: right;\n",
       "    }\n",
       "</style>\n",
       "<table border=\"1\" class=\"dataframe\">\n",
       "  <thead>\n",
       "    <tr style=\"text-align: right;\">\n",
       "      <th></th>\n",
       "      <th>Values</th>\n",
       "    </tr>\n",
       "  </thead>\n",
       "  <tbody>\n",
       "    <tr>\n",
       "      <th>Accuracy</th>\n",
       "      <td>0.885067</td>\n",
       "    </tr>\n",
       "    <tr>\n",
       "      <th>Precision</th>\n",
       "      <td>0.864836</td>\n",
       "    </tr>\n",
       "    <tr>\n",
       "      <th>Sensitivity</th>\n",
       "      <td>0.899216</td>\n",
       "    </tr>\n",
       "    <tr>\n",
       "      <th>Specificity</th>\n",
       "      <td>0.904913</td>\n",
       "    </tr>\n",
       "    <tr>\n",
       "      <th>F1Score</th>\n",
       "      <td>0.881691</td>\n",
       "    </tr>\n",
       "    <tr>\n",
       "      <th>Error</th>\n",
       "      <td>0.114933</td>\n",
       "    </tr>\n",
       "  </tbody>\n",
       "</table>\n",
       "</div>"
      ],
      "text/plain": [
       "               Values\n",
       "Accuracy     0.885067\n",
       "Precision    0.864836\n",
       "Sensitivity  0.899216\n",
       "Specificity  0.904913\n",
       "F1Score      0.881691\n",
       "Error        0.114933"
      ]
     },
     "execution_count": 47,
     "metadata": {},
     "output_type": "execute_result"
    }
   ],
   "source": [
    "False_Postive2, True_Positive2, False_Negative2, True_Negative2 = positive_negative(cm2)\n",
    "MetricsValues2 = performance_metrics(False_Postive2, True_Positive2, False_Negative2, True_Negative2)\n",
    "MetricsValues2"
   ]
  },
  {
   "cell_type": "markdown",
   "metadata": {},
   "source": [
    "**3. Decision Tree**"
   ]
  },
  {
   "cell_type": "code",
   "execution_count": 48,
   "metadata": {},
   "outputs": [],
   "source": [
    "model_name3 = DecisionTreeClassifier(criterion = 'entropy')\n",
    "y_pred3 = models_(model_name3)"
   ]
  },
  {
   "cell_type": "code",
   "execution_count": 49,
   "metadata": {},
   "outputs": [],
   "source": [
    "cm3 = confusion_matrix_(y_test, y_pred3)"
   ]
  },
  {
   "cell_type": "code",
   "execution_count": 50,
   "metadata": {},
   "outputs": [
    {
     "data": {
      "text/html": [
       "<div>\n",
       "<style scoped>\n",
       "    .dataframe tbody tr th:only-of-type {\n",
       "        vertical-align: middle;\n",
       "    }\n",
       "\n",
       "    .dataframe tbody tr th {\n",
       "        vertical-align: top;\n",
       "    }\n",
       "\n",
       "    .dataframe thead th {\n",
       "        text-align: right;\n",
       "    }\n",
       "</style>\n",
       "<table border=\"1\" class=\"dataframe\">\n",
       "  <thead>\n",
       "    <tr style=\"text-align: right;\">\n",
       "      <th></th>\n",
       "      <th>Values</th>\n",
       "    </tr>\n",
       "  </thead>\n",
       "  <tbody>\n",
       "    <tr>\n",
       "      <th>Accuracy</th>\n",
       "      <td>0.707733</td>\n",
       "    </tr>\n",
       "    <tr>\n",
       "      <th>Precision</th>\n",
       "      <td>0.710824</td>\n",
       "    </tr>\n",
       "    <tr>\n",
       "      <th>Sensitivity</th>\n",
       "      <td>0.702501</td>\n",
       "    </tr>\n",
       "    <tr>\n",
       "      <th>Specificity</th>\n",
       "      <td>0.704702</td>\n",
       "    </tr>\n",
       "    <tr>\n",
       "      <th>F1Score</th>\n",
       "      <td>0.706638</td>\n",
       "    </tr>\n",
       "    <tr>\n",
       "      <th>Error</th>\n",
       "      <td>0.292267</td>\n",
       "    </tr>\n",
       "  </tbody>\n",
       "</table>\n",
       "</div>"
      ],
      "text/plain": [
       "               Values\n",
       "Accuracy     0.707733\n",
       "Precision    0.710824\n",
       "Sensitivity  0.702501\n",
       "Specificity  0.704702\n",
       "F1Score      0.706638\n",
       "Error        0.292267"
      ]
     },
     "execution_count": 50,
     "metadata": {},
     "output_type": "execute_result"
    }
   ],
   "source": [
    "False_Postive3, True_Positive3, False_Negative3, True_Negative3 = positive_negative(cm3)\n",
    "MetricsValues3 = performance_metrics(False_Postive3, True_Positive3, False_Negative3, True_Negative3)\n",
    "MetricsValues3"
   ]
  },
  {
   "cell_type": "markdown",
   "metadata": {},
   "source": [
    "**4. K Nearest Neighbor**"
   ]
  },
  {
   "cell_type": "code",
   "execution_count": 51,
   "metadata": {},
   "outputs": [],
   "source": [
    "model_name4 = KNeighborsClassifier(metric='cosine', n_neighbors=5)\n",
    "y_pred4 = models_(model_name4)"
   ]
  },
  {
   "cell_type": "code",
   "execution_count": 52,
   "metadata": {},
   "outputs": [],
   "source": [
    "cm4 = confusion_matrix_(y_test, y_pred4)"
   ]
  },
  {
   "cell_type": "code",
   "execution_count": 53,
   "metadata": {},
   "outputs": [
    {
     "data": {
      "text/html": [
       "<div>\n",
       "<style scoped>\n",
       "    .dataframe tbody tr th:only-of-type {\n",
       "        vertical-align: middle;\n",
       "    }\n",
       "\n",
       "    .dataframe tbody tr th {\n",
       "        vertical-align: top;\n",
       "    }\n",
       "\n",
       "    .dataframe thead th {\n",
       "        text-align: right;\n",
       "    }\n",
       "</style>\n",
       "<table border=\"1\" class=\"dataframe\">\n",
       "  <thead>\n",
       "    <tr style=\"text-align: right;\">\n",
       "      <th></th>\n",
       "      <th>Values</th>\n",
       "    </tr>\n",
       "  </thead>\n",
       "  <tbody>\n",
       "    <tr>\n",
       "      <th>Accuracy</th>\n",
       "      <td>0.791467</td>\n",
       "    </tr>\n",
       "    <tr>\n",
       "      <th>Precision</th>\n",
       "      <td>0.735057</td>\n",
       "    </tr>\n",
       "    <tr>\n",
       "      <th>Sensitivity</th>\n",
       "      <td>0.824773</td>\n",
       "    </tr>\n",
       "    <tr>\n",
       "      <th>Specificity</th>\n",
       "      <td>0.846804</td>\n",
       "    </tr>\n",
       "    <tr>\n",
       "      <th>F1Score</th>\n",
       "      <td>0.777335</td>\n",
       "    </tr>\n",
       "    <tr>\n",
       "      <th>Error</th>\n",
       "      <td>0.208533</td>\n",
       "    </tr>\n",
       "  </tbody>\n",
       "</table>\n",
       "</div>"
      ],
      "text/plain": [
       "               Values\n",
       "Accuracy     0.791467\n",
       "Precision    0.735057\n",
       "Sensitivity  0.824773\n",
       "Specificity  0.846804\n",
       "F1Score      0.777335\n",
       "Error        0.208533"
      ]
     },
     "execution_count": 53,
     "metadata": {},
     "output_type": "execute_result"
    }
   ],
   "source": [
    "False_Postive4, True_Positive4, False_Negative4, True_Negative4 = positive_negative(cm4)\n",
    "MetricsValues4 = performance_metrics(False_Postive4, True_Positive4, False_Negative4, True_Negative4)\n",
    "MetricsValues4"
   ]
  },
  {
   "cell_type": "markdown",
   "metadata": {},
   "source": [
    "**5. Random Forest**"
   ]
  },
  {
   "cell_type": "code",
   "execution_count": 54,
   "metadata": {},
   "outputs": [],
   "source": [
    "model_name5 = RandomForestClassifier(criterion = 'entropy', n_estimators=100)\n",
    "y_pred5 = models_(model_name5)"
   ]
  },
  {
   "cell_type": "code",
   "execution_count": 55,
   "metadata": {},
   "outputs": [],
   "source": [
    "cm5 = confusion_matrix_(y_test, y_pred5)"
   ]
  },
  {
   "cell_type": "code",
   "execution_count": 56,
   "metadata": {},
   "outputs": [
    {
     "data": {
      "text/html": [
       "<div>\n",
       "<style scoped>\n",
       "    .dataframe tbody tr th:only-of-type {\n",
       "        vertical-align: middle;\n",
       "    }\n",
       "\n",
       "    .dataframe tbody tr th {\n",
       "        vertical-align: top;\n",
       "    }\n",
       "\n",
       "    .dataframe thead th {\n",
       "        text-align: right;\n",
       "    }\n",
       "</style>\n",
       "<table border=\"1\" class=\"dataframe\">\n",
       "  <thead>\n",
       "    <tr style=\"text-align: right;\">\n",
       "      <th></th>\n",
       "      <th>Values</th>\n",
       "    </tr>\n",
       "  </thead>\n",
       "  <tbody>\n",
       "    <tr>\n",
       "      <th>Accuracy</th>\n",
       "      <td>0.852533</td>\n",
       "    </tr>\n",
       "    <tr>\n",
       "      <th>Precision</th>\n",
       "      <td>0.845988</td>\n",
       "    </tr>\n",
       "    <tr>\n",
       "      <th>Sensitivity</th>\n",
       "      <td>0.854733</td>\n",
       "    </tr>\n",
       "    <tr>\n",
       "      <th>Specificity</th>\n",
       "      <td>0.858954</td>\n",
       "    </tr>\n",
       "    <tr>\n",
       "      <th>F1Score</th>\n",
       "      <td>0.850338</td>\n",
       "    </tr>\n",
       "    <tr>\n",
       "      <th>Error</th>\n",
       "      <td>0.147467</td>\n",
       "    </tr>\n",
       "  </tbody>\n",
       "</table>\n",
       "</div>"
      ],
      "text/plain": [
       "               Values\n",
       "Accuracy     0.852533\n",
       "Precision    0.845988\n",
       "Sensitivity  0.854733\n",
       "Specificity  0.858954\n",
       "F1Score      0.850338\n",
       "Error        0.147467"
      ]
     },
     "execution_count": 56,
     "metadata": {},
     "output_type": "execute_result"
    }
   ],
   "source": [
    "False_Postive5, True_Positive5, False_Negative5, True_Negative5 = positive_negative(cm5)\n",
    "MetricsValues5 = performance_metrics(False_Postive5, True_Positive5, False_Negative5, True_Negative5)\n",
    "MetricsValues5"
   ]
  },
  {
   "cell_type": "markdown",
   "metadata": {},
   "source": [
    "**6.SGD Classifier**"
   ]
  },
  {
   "cell_type": "code",
   "execution_count": 57,
   "metadata": {},
   "outputs": [],
   "source": [
    "model_name6 = SGDClassifier(loss='hinge')\n",
    "y_pred6 = models_(model_name6)"
   ]
  },
  {
   "cell_type": "code",
   "execution_count": 58,
   "metadata": {},
   "outputs": [],
   "source": [
    "cm6 = confusion_matrix_(y_test, y_pred6)"
   ]
  },
  {
   "cell_type": "code",
   "execution_count": 59,
   "metadata": {},
   "outputs": [
    {
     "data": {
      "text/html": [
       "<div>\n",
       "<style scoped>\n",
       "    .dataframe tbody tr th:only-of-type {\n",
       "        vertical-align: middle;\n",
       "    }\n",
       "\n",
       "    .dataframe tbody tr th {\n",
       "        vertical-align: top;\n",
       "    }\n",
       "\n",
       "    .dataframe thead th {\n",
       "        text-align: right;\n",
       "    }\n",
       "</style>\n",
       "<table border=\"1\" class=\"dataframe\">\n",
       "  <thead>\n",
       "    <tr style=\"text-align: right;\">\n",
       "      <th></th>\n",
       "      <th>Values</th>\n",
       "    </tr>\n",
       "  </thead>\n",
       "  <tbody>\n",
       "    <tr>\n",
       "      <th>Accuracy</th>\n",
       "      <td>0.889600</td>\n",
       "    </tr>\n",
       "    <tr>\n",
       "      <th>Precision</th>\n",
       "      <td>0.869682</td>\n",
       "    </tr>\n",
       "    <tr>\n",
       "      <th>Sensitivity</th>\n",
       "      <td>0.903749</td>\n",
       "    </tr>\n",
       "    <tr>\n",
       "      <th>Specificity</th>\n",
       "      <td>0.909139</td>\n",
       "    </tr>\n",
       "    <tr>\n",
       "      <th>F1Score</th>\n",
       "      <td>0.886389</td>\n",
       "    </tr>\n",
       "    <tr>\n",
       "      <th>Error</th>\n",
       "      <td>0.110400</td>\n",
       "    </tr>\n",
       "  </tbody>\n",
       "</table>\n",
       "</div>"
      ],
      "text/plain": [
       "               Values\n",
       "Accuracy     0.889600\n",
       "Precision    0.869682\n",
       "Sensitivity  0.903749\n",
       "Specificity  0.909139\n",
       "F1Score      0.886389\n",
       "Error        0.110400"
      ]
     },
     "execution_count": 59,
     "metadata": {},
     "output_type": "execute_result"
    }
   ],
   "source": [
    "False_Postive6, True_Positive6, False_Negative6, True_Negative6 = positive_negative(cm6)\n",
    "MetricsValues6 = performance_metrics(False_Postive6, True_Positive6, False_Negative6, True_Negative6)\n",
    "MetricsValues6"
   ]
  },
  {
   "cell_type": "markdown",
   "metadata": {},
   "source": [
    "# Deep Learning"
   ]
  },
  {
   "cell_type": "code",
   "execution_count": 60,
   "metadata": {},
   "outputs": [],
   "source": [
    "tokenizer = Tokenizer()\n",
    "tokenizer.fit_on_texts(X_train)\n",
    "embedding_dim = 16\n",
    "vocab_size = len(tokenizer.word_index) + 1"
   ]
  },
  {
   "cell_type": "code",
   "execution_count": 61,
   "metadata": {},
   "outputs": [
    {
     "data": {
      "text/plain": [
       "57333"
      ]
     },
     "execution_count": 61,
     "metadata": {},
     "output_type": "execute_result"
    }
   ],
   "source": [
    "vocab_size"
   ]
  },
  {
   "cell_type": "code",
   "execution_count": 62,
   "metadata": {},
   "outputs": [],
   "source": [
    "X_train_seqs = tokenizer.texts_to_sequences(X_train)\n",
    "X_test_seqs = tokenizer.texts_to_sequences(X_test)\n",
    "max_length = len(max(X_train_seqs, key=len))"
   ]
  },
  {
   "cell_type": "code",
   "execution_count": 63,
   "metadata": {},
   "outputs": [
    {
     "data": {
      "text/plain": [
       "830"
      ]
     },
     "execution_count": 63,
     "metadata": {},
     "output_type": "execute_result"
    }
   ],
   "source": [
    "max_length"
   ]
  },
  {
   "cell_type": "code",
   "execution_count": 64,
   "metadata": {},
   "outputs": [],
   "source": [
    "encoded_X_train = sequence.pad_sequences(X_train_seqs, maxlen=max_length)\n",
    "encoded_X_test = sequence.pad_sequences(X_test_seqs, maxlen=max_length)"
   ]
  },
  {
   "cell_type": "code",
   "execution_count": 65,
   "metadata": {},
   "outputs": [],
   "source": [
    "Callback = tf.keras.callbacks.EarlyStopping(\n",
    "                    monitor=\"accuracy\",\n",
    "                    mode=\"max\",\n",
    "                    start_from_epoch=5\n",
    "                )"
   ]
  },
  {
   "cell_type": "markdown",
   "metadata": {},
   "source": [
    "**7-Convolutional Neural Network**"
   ]
  },
  {
   "cell_type": "code",
   "execution_count": 66,
   "metadata": {},
   "outputs": [],
   "source": [
    "model = tf.keras.Sequential([\n",
    "                Embedding(input_dim=vocab_size, output_dim=embedding_dim, input_length=max_length),\n",
    "                Conv1D(filters=32, kernel_size = 3, activation='relu'),\n",
    "                GlobalAveragePooling1D(),\n",
    "                Dropout(0.2),\n",
    "                Dense(1, activation= 'sigmoid')\n",
    "                ])"
   ]
  },
  {
   "cell_type": "code",
   "execution_count": 67,
   "metadata": {},
   "outputs": [],
   "source": [
    "model.compile(optimizer='adam',\n",
    "              loss='binary_crossentropy',\n",
    "              metrics=['accuracy'])"
   ]
  },
  {
   "cell_type": "code",
   "execution_count": 68,
   "metadata": {},
   "outputs": [
    {
     "name": "stdout",
     "output_type": "stream",
     "text": [
      "Epoch 1/50\n",
      "1329/1329 [==============================] - 73s 55ms/step - loss: 0.5336 - accuracy: 0.7560 - val_loss: 0.3488 - val_accuracy: 0.8749\n",
      "Epoch 2/50\n",
      "1329/1329 [==============================] - 22s 16ms/step - loss: 0.2721 - accuracy: 0.9020 - val_loss: 0.2946 - val_accuracy: 0.8915\n",
      "Epoch 3/50\n",
      "1329/1329 [==============================] - 22s 17ms/step - loss: 0.1972 - accuracy: 0.9309 - val_loss: 0.2909 - val_accuracy: 0.8893\n",
      "Epoch 4/50\n",
      "1329/1329 [==============================] - 21s 16ms/step - loss: 0.1465 - accuracy: 0.9503 - val_loss: 0.2968 - val_accuracy: 0.8901\n",
      "Epoch 5/50\n",
      "1329/1329 [==============================] - 21s 16ms/step - loss: 0.1111 - accuracy: 0.9642 - val_loss: 0.3207 - val_accuracy: 0.8853\n",
      "Epoch 6/50\n",
      "1329/1329 [==============================] - 21s 16ms/step - loss: 0.0854 - accuracy: 0.9736 - val_loss: 0.3333 - val_accuracy: 0.8899\n",
      "Epoch 7/50\n",
      "1329/1329 [==============================] - 20s 15ms/step - loss: 0.0637 - accuracy: 0.9815 - val_loss: 0.3814 - val_accuracy: 0.8835\n",
      "Epoch 8/50\n",
      "1329/1329 [==============================] - 19s 15ms/step - loss: 0.0480 - accuracy: 0.9867 - val_loss: 0.4101 - val_accuracy: 0.8840\n",
      "Epoch 9/50\n",
      "1329/1329 [==============================] - 19s 14ms/step - loss: 0.0350 - accuracy: 0.9909 - val_loss: 0.4555 - val_accuracy: 0.8808\n",
      "Epoch 10/50\n",
      "1329/1329 [==============================] - 20s 15ms/step - loss: 0.0268 - accuracy: 0.9944 - val_loss: 0.4992 - val_accuracy: 0.8787\n",
      "Epoch 11/50\n",
      "1329/1329 [==============================] - 20s 15ms/step - loss: 0.0200 - accuracy: 0.9952 - val_loss: 0.5587 - val_accuracy: 0.8728\n",
      "Epoch 12/50\n",
      "1329/1329 [==============================] - 18s 14ms/step - loss: 0.0160 - accuracy: 0.9969 - val_loss: 0.5851 - val_accuracy: 0.8771\n",
      "Epoch 13/50\n",
      "1329/1329 [==============================] - 19s 14ms/step - loss: 0.0121 - accuracy: 0.9975 - val_loss: 0.6337 - val_accuracy: 0.8704\n",
      "Epoch 14/50\n",
      "1329/1329 [==============================] - 19s 14ms/step - loss: 0.0092 - accuracy: 0.9984 - val_loss: 0.6779 - val_accuracy: 0.8701\n",
      "Epoch 15/50\n",
      "1329/1329 [==============================] - 19s 14ms/step - loss: 0.0069 - accuracy: 0.9989 - val_loss: 0.7109 - val_accuracy: 0.8677\n",
      "Epoch 16/50\n",
      "1329/1329 [==============================] - 22s 16ms/step - loss: 0.0069 - accuracy: 0.9989 - val_loss: 0.7117 - val_accuracy: 0.8752\n"
     ]
    }
   ],
   "source": [
    "history = model.fit(encoded_X_train, y_train,\n",
    "                    epochs=50,\n",
    "                    validation_data=(encoded_X_test, y_test),\n",
    "                    batch_size=16,\n",
    "                    callbacks=[Callback])"
   ]
  },
  {
   "cell_type": "code",
   "execution_count": 69,
   "metadata": {},
   "outputs": [
    {
     "data": {
      "image/png": "[encoded data removed]",
      "text/plain": [
       "<Figure size 640x480 with 1 Axes>"
      ]
     },
     "metadata": {},
     "output_type": "display_data"
    }
   ],
   "source": [
    "val_acc = history.history['val_accuracy']\n",
    "val_loss = history.history['val_loss']\n",
    "\n",
    "plt.plot(val_acc, label='Accuracy')\n",
    "plt.plot(val_loss, label='Loss')\n",
    "plt.legend()\n",
    "plt.show()"
   ]
  },
  {
   "cell_type": "code",
   "execution_count": 70,
   "metadata": {},
   "outputs": [
    {
     "data": {
      "image/png": "[encoded data removed]",
      "text/plain": [
       "<Figure size 640x480 with 1 Axes>"
      ]
     },
     "metadata": {},
     "output_type": "display_data"
    }
   ],
   "source": [
    "acc = history.history['accuracy']\n",
    "loss = history.history['loss']\n",
    "\n",
    "plt.plot(acc, label='Accuracy')\n",
    "plt.plot(loss, label='Loss')\n",
    "plt.legend()\n",
    "plt.show()"
   ]
  },
  {
   "cell_type": "code",
   "execution_count": 71,
   "metadata": {},
   "outputs": [
    {
     "name": "stdout",
     "output_type": "stream",
     "text": [
      "Training Accuracy: 0.9995\n",
      "Testing Accuracy:  0.8752\n"
     ]
    }
   ],
   "source": [
    "loss, accuracy = model.evaluate(encoded_X_train, y_train, verbose=False)\n",
    "print(\"Training Accuracy: {:.4f}\".format(accuracy))\n",
    "loss, accuracy = model.evaluate(encoded_X_test, y_test, verbose=False)\n",
    "print(\"Testing Accuracy:  {:.4f}\".format(accuracy))"
   ]
  },
  {
   "cell_type": "markdown",
   "metadata": {},
   "source": [
    "**8-Recurrent Neural Networks**"
   ]
  },
  {
   "cell_type": "code",
   "execution_count": 72,
   "metadata": {},
   "outputs": [],
   "source": [
    "model = tf.keras.Sequential([\n",
    "        Embedding(input_dim=vocab_size, output_dim=embedding_dim, input_length=max_length),\n",
    "        LSTM(32, return_sequences=False),  \n",
    "        Dropout(0.2),      \n",
    "        Dense(1, activation='sigmoid')])"
   ]
  },
  {
   "cell_type": "code",
   "execution_count": 73,
   "metadata": {},
   "outputs": [],
   "source": [
    "model.compile(optimizer='adam',\n",
    "              loss='binary_crossentropy',\n",
    "              metrics=['accuracy'])"
   ]
  },
  {
   "cell_type": "code",
   "execution_count": 74,
   "metadata": {},
   "outputs": [
    {
     "name": "stdout",
     "output_type": "stream",
     "text": [
      "Epoch 1/50\n",
      "1329/1329 [==============================] - 114s 84ms/step - loss: 0.3795 - accuracy: 0.8264 - val_loss: 0.2996 - val_accuracy: 0.8811\n",
      "Epoch 2/50\n",
      "1329/1329 [==============================] - 98s 74ms/step - loss: 0.1761 - accuracy: 0.9367 - val_loss: 0.3222 - val_accuracy: 0.8837\n",
      "Epoch 3/50\n",
      "1329/1329 [==============================] - 96s 72ms/step - loss: 0.1007 - accuracy: 0.9656 - val_loss: 0.4013 - val_accuracy: 0.8755\n",
      "Epoch 4/50\n",
      "1329/1329 [==============================] - 93s 70ms/step - loss: 0.0698 - accuracy: 0.9770 - val_loss: 0.4320 - val_accuracy: 0.8659\n",
      "Epoch 5/50\n",
      "1329/1329 [==============================] - 92s 69ms/step - loss: 0.0477 - accuracy: 0.9848 - val_loss: 0.4644 - val_accuracy: 0.8677\n",
      "Epoch 6/50\n",
      "1329/1329 [==============================] - 93s 70ms/step - loss: 0.0258 - accuracy: 0.9924 - val_loss: 0.6463 - val_accuracy: 0.8589\n",
      "Epoch 7/50\n",
      "1329/1329 [==============================] - 91s 68ms/step - loss: 0.0245 - accuracy: 0.9931 - val_loss: 0.5755 - val_accuracy: 0.8611\n",
      "Epoch 8/50\n",
      "1329/1329 [==============================] - 91s 68ms/step - loss: 0.0201 - accuracy: 0.9943 - val_loss: 0.6175 - val_accuracy: 0.8619\n",
      "Epoch 9/50\n",
      "1329/1329 [==============================] - 90s 68ms/step - loss: 0.0232 - accuracy: 0.9933 - val_loss: 0.5721 - val_accuracy: 0.8555\n"
     ]
    }
   ],
   "source": [
    "history = model.fit(encoded_X_train, y_train,\n",
    "                    epochs=50,\n",
    "                    validation_data=(encoded_X_test, y_test),\n",
    "                    batch_size=16,\n",
    "                    callbacks=[Callback])"
   ]
  },
  {
   "cell_type": "code",
   "execution_count": 75,
   "metadata": {},
   "outputs": [
    {
     "data": {
      "image/png": "[encoded data removed]",
      "text/plain": [
       "<Figure size 640x480 with 1 Axes>"
      ]
     },
     "metadata": {},
     "output_type": "display_data"
    }
   ],
   "source": [
    "val_acc = history.history['val_accuracy']\n",
    "val_loss = history.history['val_loss']\n",
    "\n",
    "plt.plot(val_acc, label='Accuracy')\n",
    "plt.plot(val_loss, label='Loss')\n",
    "plt.legend()\n",
    "plt.show()"
   ]
  },
  {
   "cell_type": "code",
   "execution_count": 76,
   "metadata": {},
   "outputs": [
    {
     "data": {
      "image/png": "[encoded data removed]",
      "text/plain": [
       "<Figure size 640x480 with 1 Axes>"
      ]
     },
     "metadata": {},
     "output_type": "display_data"
    }
   ],
   "source": [
    "acc = history.history['accuracy']\n",
    "loss = history.history['loss']\n",
    "\n",
    "plt.plot(acc, label='Accuracy')\n",
    "plt.plot(loss, label='Loss')\n",
    "plt.legend()\n",
    "plt.show()"
   ]
  },
  {
   "cell_type": "code",
   "execution_count": 77,
   "metadata": {},
   "outputs": [
    {
     "name": "stdout",
     "output_type": "stream",
     "text": [
      "Training Accuracy: 0.9952\n",
      "Testing Accuracy:  0.8555\n"
     ]
    }
   ],
   "source": [
    "loss, accuracy = model.evaluate(encoded_X_train, y_train, verbose=False)\n",
    "print(\"Training Accuracy: {:.4f}\".format(accuracy))\n",
    "loss, accuracy = model.evaluate(encoded_X_test, y_test, verbose=False)\n",
    "print(\"Testing Accuracy:  {:.4f}\".format(accuracy))"
   ]
  },
  {
   "cell_type": "code",
   "execution_count": null,
   "metadata": {},
   "outputs": [],
   "source": []
  }
 ],
 "metadata": {
  "kernelspec": {
   "display_name": "Python 3",
   "language": "python",
   "name": "python3"
  },
  "language_info": {
   "codemirror_mode": {
    "name": "ipython",
    "version": 3
   },
   "file_extension": ".py",
   "mimetype": "text/x-python",
   "name": "python",
   "nbconvert_exporter": "python",
   "pygments_lexer": "ipython3",
   "version": "3.11.5"
  },
  "orig_nbformat": 4
 },
 "nbformat": 4,
 "nbformat_minor": 2
}
