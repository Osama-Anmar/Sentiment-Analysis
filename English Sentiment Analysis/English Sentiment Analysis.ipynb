{
 "cells": [
  {
   "cell_type": "markdown",
   "metadata": {},
   "source": [
    "# Import Libraries\n"
   ]
  },
  {
   "cell_type": "code",
   "execution_count": 1,
   "metadata": {},
   "outputs": [],
   "source": [
    "import pandas as pd\n",
    "import numpy as np\n",
    "import os\n",
    "import nltk\n",
    "import tensorflow as tf\n",
    "from keras.layers import *\n",
    "from tensorflow import *\n",
    "from keras.preprocessing.sequence import pad_sequences\n",
    "from keras.preprocessing.text import Tokenizer\n",
    "from keras.preprocessing import *\n",
    "from nltk.tokenize import word_tokenize, sent_tokenize\n",
    "from sklearn.tree import DecisionTreeClassifier\n",
    "from sklearn.naive_bayes import MultinomialNB\n",
    "from sklearn.neighbors import KNeighborsClassifier\n",
    "from sklearn.linear_model import LogisticRegression\n",
    "from sklearn.ensemble import RandomForestClassifier\n",
    "from sklearn.svm import SVC\n",
    "from sklearn.neural_network import MLPClassifier\n",
    "from sklearn.linear_model import SGDClassifier\n",
    "from sklearn.model_selection import train_test_split\n",
    "from sklearn.feature_extraction.text import  CountVectorizer\n",
    "from sklearn.preprocessing import LabelEncoder\n",
    "import warnings\n",
    "import csv\n",
    "import random\n",
    "from collections import Counter\n",
    "from source.textnormalization import TextNormalization\n",
    "from source.machinelearning import machine_learning_model, fit_model, metrics_values, confusion_matrix_\n",
    "from source.deeplearning import convolutional_neural_network_1d, model_compile, model_fit, evaluate, plot_accuracy_loss, lstm_\n",
    "from source.sentimentinformation import sentiment_percentage, sentiment_counts\n",
    "from source.wordcloud import wordcloud\n",
    "from source.most_frequent_word_plot import go_figure, bar_plot\n",
    "pd.options.display.max_rows = 100\n",
    "pd.options.display.max_columns =None \n",
    "random.seed(40)\n",
    "tf.random.set_seed(40)"
   ]
  },
  {
   "cell_type": "markdown",
   "metadata": {},
   "source": [
    "# Download Some Packages"
   ]
  },
  {
   "cell_type": "code",
   "execution_count": 2,
   "metadata": {},
   "outputs": [
    {
     "name": "stderr",
     "output_type": "stream",
     "text": [
      "[nltk_data] Downloading package punkt to\n",
      "[nltk_data]     /Users/osamaanmar/nltk_data...\n",
      "[nltk_data]   Package punkt is already up-to-date!\n",
      "[nltk_data] Downloading package wordnet to\n",
      "[nltk_data]     /Users/osamaanmar/nltk_data...\n",
      "[nltk_data]   Package wordnet is already up-to-date!\n",
      "[nltk_data] Downloading package stopwords to\n",
      "[nltk_data]     /Users/osamaanmar/nltk_data...\n",
      "[nltk_data]   Package stopwords is already up-to-date!\n",
      "[nltk_data] Downloading package averaged_perceptron_tagger to\n",
      "[nltk_data]     /Users/osamaanmar/nltk_data...\n",
      "[nltk_data]   Package averaged_perceptron_tagger is already up-to-\n",
      "[nltk_data]       date!\n"
     ]
    },
    {
     "data": {
      "text/plain": [
       "True"
      ]
     },
     "execution_count": 2,
     "metadata": {},
     "output_type": "execute_result"
    }
   ],
   "source": [
    "nltk.download('punkt')\n",
    "nltk.download('wordnet')\n",
    "nltk.download('stopwords')\n",
    "nltk.download('averaged_perceptron_tagger')"
   ]
  },
  {
   "cell_type": "markdown",
   "metadata": {},
   "source": [
    "# Ignore Warnings"
   ]
  },
  {
   "cell_type": "code",
   "execution_count": 3,
   "metadata": {},
   "outputs": [],
   "source": [
    "os.environ['TF_CPP_MIN_LOG_LEVEL'] = '3'\n",
    "warnings.filterwarnings(action='ignore')"
   ]
  },
  {
   "cell_type": "markdown",
   "metadata": {},
   "source": [
    "# Read Data"
   ]
  },
  {
   "cell_type": "code",
   "execution_count": 4,
   "metadata": {},
   "outputs": [
    {
     "data": {
      "text/html": [
       "<div>\n",
       "<style scoped>\n",
       "    .dataframe tbody tr th:only-of-type {\n",
       "        vertical-align: middle;\n",
       "    }\n",
       "\n",
       "    .dataframe tbody tr th {\n",
       "        vertical-align: top;\n",
       "    }\n",
       "\n",
       "    .dataframe thead th {\n",
       "        text-align: right;\n",
       "    }\n",
       "</style>\n",
       "<table border=\"1\" class=\"dataframe\">\n",
       "  <thead>\n",
       "    <tr style=\"text-align: right;\">\n",
       "      <th></th>\n",
       "      <th>Review</th>\n",
       "      <th>Sentiment</th>\n",
       "    </tr>\n",
       "  </thead>\n",
       "  <tbody>\n",
       "    <tr>\n",
       "      <th>0</th>\n",
       "      <td>Now, I won't deny that when I purchased this o...</td>\n",
       "      <td>Negative</td>\n",
       "    </tr>\n",
       "    <tr>\n",
       "      <th>1</th>\n",
       "      <td>The saddest thing about this \"tribute\" is that...</td>\n",
       "      <td>Negative</td>\n",
       "    </tr>\n",
       "    <tr>\n",
       "      <th>2</th>\n",
       "      <td>Last night I decided to watch the prequel or s...</td>\n",
       "      <td>Negative</td>\n",
       "    </tr>\n",
       "    <tr>\n",
       "      <th>3</th>\n",
       "      <td>I have to admit that i liked the first half of...</td>\n",
       "      <td>Negative</td>\n",
       "    </tr>\n",
       "    <tr>\n",
       "      <th>4</th>\n",
       "      <td>I was not impressed about this film especially...</td>\n",
       "      <td>Negative</td>\n",
       "    </tr>\n",
       "  </tbody>\n",
       "</table>\n",
       "</div>"
      ],
      "text/plain": [
       "                                              Review Sentiment\n",
       "0  Now, I won't deny that when I purchased this o...  Negative\n",
       "1  The saddest thing about this \"tribute\" is that...  Negative\n",
       "2  Last night I decided to watch the prequel or s...  Negative\n",
       "3  I have to admit that i liked the first half of...  Negative\n",
       "4  I was not impressed about this film especially...  Negative"
      ]
     },
     "execution_count": 4,
     "metadata": {},
     "output_type": "execute_result"
    }
   ],
   "source": [
    "df1 = pd.read_csv('train.csv')\n",
    "df2 = pd.read_csv('test.csv')\n",
    "Corpus = pd.concat([df1, df2], ignore_index=True)\n",
    "Corpus.rename(columns={'text': 'Review', 'sentiment': 'Sentiment'}, inplace=True)\n",
    "Corpus['Sentiment'] = Corpus['Sentiment'].map({'neg': 'Negative', 'pos': 'Positive'})\n",
    "Corpus.head(5)"
   ]
  },
  {
   "cell_type": "markdown",
   "metadata": {},
   "source": [
    "# Sentiment Information"
   ]
  },
  {
   "cell_type": "code",
   "execution_count": 5,
   "metadata": {},
   "outputs": [
    {
     "data": {
      "image/png": "[encoded data removed]",
      "text/plain": [
       "<Figure size 600x600 with 1 Axes>"
      ]
     },
     "metadata": {},
     "output_type": "display_data"
    }
   ],
   "source": [
    "sentiment_percentage(Corpus, 'Sentiment', (6, 6))"
   ]
  },
  {
   "cell_type": "code",
   "execution_count": 6,
   "metadata": {},
   "outputs": [
    {
     "data": {
      "image/png": "[encoded data removed]",
      "text/plain": [
       "<Figure size 600x600 with 1 Axes>"
      ]
     },
     "metadata": {},
     "output_type": "display_data"
    }
   ],
   "source": [
    "sentiment_counts(Corpus, 'Sentiment', (6, 6))"
   ]
  },
  {
   "cell_type": "markdown",
   "metadata": {},
   "source": [
    "# Number Of Sentences"
   ]
  },
  {
   "cell_type": "code",
   "execution_count": 7,
   "metadata": {},
   "outputs": [],
   "source": [
    "Corpus['NumberOfSentences'] = Corpus['Review'].apply(lambda n:len(sent_tokenize(n)))\n",
    "Corpus.drop(Corpus[Corpus[\"NumberOfSentences\"] == 0].index, inplace = True)\n"
   ]
  },
  {
   "cell_type": "code",
   "execution_count": 8,
   "metadata": {},
   "outputs": [
    {
     "data": {
      "text/plain": [
       "537072"
      ]
     },
     "execution_count": 8,
     "metadata": {},
     "output_type": "execute_result"
    }
   ],
   "source": [
    "Corpus['NumberOfSentences'].sum()"
   ]
  },
  {
   "cell_type": "markdown",
   "metadata": {},
   "source": [
    "# Average Number Of Sentences"
   ]
  },
  {
   "cell_type": "code",
   "execution_count": 9,
   "metadata": {},
   "outputs": [
    {
     "data": {
      "text/plain": [
       "11"
      ]
     },
     "execution_count": 9,
     "metadata": {},
     "output_type": "execute_result"
    }
   ],
   "source": [
    "AverageNumberOfSentence = int(np.round(Corpus[\"NumberOfSentences\"].mean()))\n",
    "AverageNumberOfSentence"
   ]
  },
  {
   "cell_type": "markdown",
   "metadata": {},
   "source": [
    "# Maximum Number Of Sentences"
   ]
  },
  {
   "cell_type": "code",
   "execution_count": 10,
   "metadata": {},
   "outputs": [
    {
     "data": {
      "text/plain": [
       "282"
      ]
     },
     "execution_count": 10,
     "metadata": {},
     "output_type": "execute_result"
    }
   ],
   "source": [
    "MaximumNumberOfSentence = Corpus[\"NumberOfSentences\"].max()\n",
    "MaximumNumberOfSentence"
   ]
  },
  {
   "cell_type": "markdown",
   "metadata": {},
   "source": [
    "# Minimum Number Of Sentences"
   ]
  },
  {
   "cell_type": "code",
   "execution_count": 11,
   "metadata": {},
   "outputs": [
    {
     "data": {
      "text/plain": [
       "1"
      ]
     },
     "execution_count": 11,
     "metadata": {},
     "output_type": "execute_result"
    }
   ],
   "source": [
    "MinimumNumberOfSentence = Corpus[\"NumberOfSentences\"].min()\n",
    "MinimumNumberOfSentence"
   ]
  },
  {
   "cell_type": "markdown",
   "metadata": {},
   "source": [
    "# Text Normalization"
   ]
  },
  {
   "cell_type": "code",
   "execution_count": 12,
   "metadata": {},
   "outputs": [],
   "source": [
    "text_normalization = TextNormalization(_string_lower = True, \n",
    "                        _remove_emojis = True, \n",
    "                        _remove_hashtags = False, \n",
    "                        _remove_emails = False,\n",
    "                        _remove_url = True, \n",
    "                        _remove_mention = True, \n",
    "                        _remove_duplicate_char = True,\n",
    "                        _remove_single_char = True, \n",
    "                        _remove_new_line_char = True, \n",
    "                        _remove_number = True, \n",
    "                        _remove_html_tags = True, \n",
    "                        _remove_special_character = True, \n",
    "                        _remove_longest_than = True, \n",
    "                        _remove_whitespace = True, \n",
    "                        _remove_unicode_characters = True,\n",
    "                        _stemmer = False, \n",
    "                        _remove_non_english = True, \n",
    "                        _remove_stop_words = True, \n",
    "                        _lemmatizer = True)"
   ]
  },
  {
   "cell_type": "code",
   "execution_count": 13,
   "metadata": {},
   "outputs": [
    {
     "data": {
      "text/html": [
       "<div>\n",
       "<style scoped>\n",
       "    .dataframe tbody tr th:only-of-type {\n",
       "        vertical-align: middle;\n",
       "    }\n",
       "\n",
       "    .dataframe tbody tr th {\n",
       "        vertical-align: top;\n",
       "    }\n",
       "\n",
       "    .dataframe thead th {\n",
       "        text-align: right;\n",
       "    }\n",
       "</style>\n",
       "<table border=\"1\" class=\"dataframe\">\n",
       "  <thead>\n",
       "    <tr style=\"text-align: right;\">\n",
       "      <th></th>\n",
       "      <th>Review</th>\n",
       "      <th>Sentiment</th>\n",
       "      <th>NumberOfSentences</th>\n",
       "      <th>Normalized_Review</th>\n",
       "    </tr>\n",
       "  </thead>\n",
       "  <tbody>\n",
       "    <tr>\n",
       "      <th>0</th>\n",
       "      <td>Now, I won't deny that when I purchased this o...</td>\n",
       "      <td>Negative</td>\n",
       "      <td>8</td>\n",
       "      <td>deny purchase ebay high expectations incredibl...</td>\n",
       "    </tr>\n",
       "    <tr>\n",
       "      <th>1</th>\n",
       "      <td>The saddest thing about this \"tribute\" is that...</td>\n",
       "      <td>Negative</td>\n",
       "      <td>7</td>\n",
       "      <td>saddest tribute singers include incredibly tal...</td>\n",
       "    </tr>\n",
       "    <tr>\n",
       "      <th>2</th>\n",
       "      <td>Last night I decided to watch the prequel or s...</td>\n",
       "      <td>Negative</td>\n",
       "      <td>6</td>\n",
       "      <td>last night decide watch prequel say call prequ...</td>\n",
       "    </tr>\n",
       "    <tr>\n",
       "      <th>3</th>\n",
       "      <td>I have to admit that i liked the first half of...</td>\n",
       "      <td>Negative</td>\n",
       "      <td>13</td>\n",
       "      <td>admit like first half sleepers look act story ...</td>\n",
       "    </tr>\n",
       "    <tr>\n",
       "      <th>4</th>\n",
       "      <td>I was not impressed about this film especially...</td>\n",
       "      <td>Negative</td>\n",
       "      <td>5</td>\n",
       "      <td>impress film especially go cinema family faith...</td>\n",
       "    </tr>\n",
       "    <tr>\n",
       "      <th>...</th>\n",
       "      <td>...</td>\n",
       "      <td>...</td>\n",
       "      <td>...</td>\n",
       "      <td>...</td>\n",
       "    </tr>\n",
       "    <tr>\n",
       "      <th>49995</th>\n",
       "      <td>For one thing, he produced this movie. It has ...</td>\n",
       "      <td>Negative</td>\n",
       "      <td>10</td>\n",
       "      <td>produce movie feel later movies international ...</td>\n",
       "    </tr>\n",
       "    <tr>\n",
       "      <th>49996</th>\n",
       "      <td>The title comes from an alteration an adolesce...</td>\n",
       "      <td>Positive</td>\n",
       "      <td>23</td>\n",
       "      <td>title come alteration adolescent inmate correc...</td>\n",
       "    </tr>\n",
       "    <tr>\n",
       "      <th>49997</th>\n",
       "      <td>Christopher Nolan's first film is a 'no budget...</td>\n",
       "      <td>Positive</td>\n",
       "      <td>4</td>\n",
       "      <td>christopher nolan first film budget black whit...</td>\n",
       "    </tr>\n",
       "    <tr>\n",
       "      <th>49998</th>\n",
       "      <td>The story is shortly about the faith-lacking b...</td>\n",
       "      <td>Negative</td>\n",
       "      <td>11</td>\n",
       "      <td>story shortly faith lack business man priest d...</td>\n",
       "    </tr>\n",
       "    <tr>\n",
       "      <th>49999</th>\n",
       "      <td>I found parts of this movie rather slow, espec...</td>\n",
       "      <td>Positive</td>\n",
       "      <td>6</td>\n",
       "      <td>find part movie slow especially first part sec...</td>\n",
       "    </tr>\n",
       "  </tbody>\n",
       "</table>\n",
       "<p>50000 rows × 4 columns</p>\n",
       "</div>"
      ],
      "text/plain": [
       "                                                  Review Sentiment  \\\n",
       "0      Now, I won't deny that when I purchased this o...  Negative   \n",
       "1      The saddest thing about this \"tribute\" is that...  Negative   \n",
       "2      Last night I decided to watch the prequel or s...  Negative   \n",
       "3      I have to admit that i liked the first half of...  Negative   \n",
       "4      I was not impressed about this film especially...  Negative   \n",
       "...                                                  ...       ...   \n",
       "49995  For one thing, he produced this movie. It has ...  Negative   \n",
       "49996  The title comes from an alteration an adolesce...  Positive   \n",
       "49997  Christopher Nolan's first film is a 'no budget...  Positive   \n",
       "49998  The story is shortly about the faith-lacking b...  Negative   \n",
       "49999  I found parts of this movie rather slow, espec...  Positive   \n",
       "\n",
       "       NumberOfSentences                                  Normalized_Review  \n",
       "0                      8  deny purchase ebay high expectations incredibl...  \n",
       "1                      7  saddest tribute singers include incredibly tal...  \n",
       "2                      6  last night decide watch prequel say call prequ...  \n",
       "3                     13  admit like first half sleepers look act story ...  \n",
       "4                      5  impress film especially go cinema family faith...  \n",
       "...                  ...                                                ...  \n",
       "49995                 10  produce movie feel later movies international ...  \n",
       "49996                 23  title come alteration adolescent inmate correc...  \n",
       "49997                  4  christopher nolan first film budget black whit...  \n",
       "49998                 11  story shortly faith lack business man priest d...  \n",
       "49999                  6  find part movie slow especially first part sec...  \n",
       "\n",
       "[50000 rows x 4 columns]"
      ]
     },
     "execution_count": 13,
     "metadata": {},
     "output_type": "execute_result"
    }
   ],
   "source": [
    "Corpus['Normalized_Review'] = Corpus['Review'].apply(lambda x: text_normalization.normalization(x))\n",
    "Corpus"
   ]
  },
  {
   "cell_type": "markdown",
   "metadata": {},
   "source": [
    "# Number Of Unique Words"
   ]
  },
  {
   "cell_type": "code",
   "execution_count": 14,
   "metadata": {},
   "outputs": [
    {
     "data": {
      "text/plain": [
       "85404"
      ]
     },
     "execution_count": 14,
     "metadata": {},
     "output_type": "execute_result"
    }
   ],
   "source": [
    "UniqueWords = set()\n",
    "for word in Corpus['Normalized_Review'].str.split():\n",
    "    UniqueWords.update(word)\n",
    "\n",
    "len(UniqueWords)"
   ]
  },
  {
   "cell_type": "markdown",
   "metadata": {},
   "source": [
    "# WordCloud"
   ]
  },
  {
   "cell_type": "code",
   "execution_count": 15,
   "metadata": {},
   "outputs": [
    {
     "data": {
      "image/png": "[encoded data removed]",
      "text/plain": [
       "<Figure size 640x480 with 1 Axes>"
      ]
     },
     "metadata": {},
     "output_type": "display_data"
    }
   ],
   "source": [
    "wordcloud(data=Corpus, target='Negative', width=1500, hieght=800, text='Normalized_Review')"
   ]
  },
  {
   "cell_type": "code",
   "execution_count": 16,
   "metadata": {},
   "outputs": [
    {
     "data": {
      "image/png": "[encoded data removed]",
      "text/plain": [
       "<Figure size 640x480 with 1 Axes>"
      ]
     },
     "metadata": {},
     "output_type": "display_data"
    }
   ],
   "source": [
    "wordcloud(data=Corpus, target='Positive', width=1500, hieght=800, text='Normalized_Review')"
   ]
  },
  {
   "cell_type": "markdown",
   "metadata": {},
   "source": [
    "# Most Frequent Words "
   ]
  },
  {
   "cell_type": "code",
   "execution_count": 17,
   "metadata": {},
   "outputs": [
    {
     "data": {
      "text/html": [
       "<div>\n",
       "<style scoped>\n",
       "    .dataframe tbody tr th:only-of-type {\n",
       "        vertical-align: middle;\n",
       "    }\n",
       "\n",
       "    .dataframe tbody tr th {\n",
       "        vertical-align: top;\n",
       "    }\n",
       "\n",
       "    .dataframe thead th {\n",
       "        text-align: right;\n",
       "    }\n",
       "</style>\n",
       "<table border=\"1\" class=\"dataframe\">\n",
       "  <thead>\n",
       "    <tr style=\"text-align: right;\">\n",
       "      <th></th>\n",
       "      <th>Word</th>\n",
       "      <th>Count</th>\n",
       "    </tr>\n",
       "  </thead>\n",
       "  <tbody>\n",
       "    <tr>\n",
       "      <th>0</th>\n",
       "      <td>film</td>\n",
       "      <td>95883</td>\n",
       "    </tr>\n",
       "    <tr>\n",
       "      <th>1</th>\n",
       "      <td>movie</td>\n",
       "      <td>87971</td>\n",
       "    </tr>\n",
       "    <tr>\n",
       "      <th>2</th>\n",
       "      <td>like</td>\n",
       "      <td>44311</td>\n",
       "    </tr>\n",
       "    <tr>\n",
       "      <th>3</th>\n",
       "      <td>see</td>\n",
       "      <td>41665</td>\n",
       "    </tr>\n",
       "    <tr>\n",
       "      <th>4</th>\n",
       "      <td>time</td>\n",
       "      <td>31920</td>\n",
       "    </tr>\n",
       "    <tr>\n",
       "      <th>5</th>\n",
       "      <td>make</td>\n",
       "      <td>30288</td>\n",
       "    </tr>\n",
       "    <tr>\n",
       "      <th>6</th>\n",
       "      <td>character</td>\n",
       "      <td>28361</td>\n",
       "    </tr>\n",
       "    <tr>\n",
       "      <th>7</th>\n",
       "      <td>watch</td>\n",
       "      <td>27863</td>\n",
       "    </tr>\n",
       "    <tr>\n",
       "      <th>8</th>\n",
       "      <td>think</td>\n",
       "      <td>24483</td>\n",
       "    </tr>\n",
       "    <tr>\n",
       "      <th>9</th>\n",
       "      <td>story</td>\n",
       "      <td>23121</td>\n",
       "    </tr>\n",
       "    <tr>\n",
       "      <th>10</th>\n",
       "      <td>show</td>\n",
       "      <td>21944</td>\n",
       "    </tr>\n",
       "    <tr>\n",
       "      <th>11</th>\n",
       "      <td>well</td>\n",
       "      <td>21794</td>\n",
       "    </tr>\n",
       "    <tr>\n",
       "      <th>12</th>\n",
       "      <td>look</td>\n",
       "      <td>19951</td>\n",
       "    </tr>\n",
       "    <tr>\n",
       "      <th>13</th>\n",
       "      <td>know</td>\n",
       "      <td>19225</td>\n",
       "    </tr>\n",
       "    <tr>\n",
       "      <th>14</th>\n",
       "      <td>end</td>\n",
       "      <td>19099</td>\n",
       "    </tr>\n",
       "  </tbody>\n",
       "</table>\n",
       "</div>"
      ],
      "text/plain": [
       "         Word  Count\n",
       "0        film  95883\n",
       "1       movie  87971\n",
       "2        like  44311\n",
       "3         see  41665\n",
       "4        time  31920\n",
       "5        make  30288\n",
       "6   character  28361\n",
       "7       watch  27863\n",
       "8       think  24483\n",
       "9       story  23121\n",
       "10       show  21944\n",
       "11       well  21794\n",
       "12       look  19951\n",
       "13       know  19225\n",
       "14        end  19099"
      ]
     },
     "execution_count": 17,
     "metadata": {},
     "output_type": "execute_result"
    }
   ],
   "source": [
    "MostFrequentWord = Counter((Corpus['Normalized_Review']).str.split().explode()).most_common(15)\n",
    "MostFrequentWordDF = pd.DataFrame(MostFrequentWord, columns=('Word', 'Count'))\n",
    "MostFrequentWordDF"
   ]
  },
  {
   "cell_type": "code",
   "execution_count": 18,
   "metadata": {},
   "outputs": [
    {
     "data": {
      "application/vnd.plotly.v1+json": {
       "config": {
        "plotlyServerURL": "https://plot.ly"
       },
       "data": [
        {
         "marker": {
          "color": [
           "Salmon",
           "FireBrick",
           "MediumVioletRed",
           "Tomato",
           "Orange",
           "Gold",
           "DarkKhaki",
           "Lavender",
           "Plum",
           "LimeGreen",
           "MediumSpringGreen",
           "Green",
           "DeepSkyBlue",
           "Aquamarine",
           "MediumSlateBlue"
          ]
         },
         "type": "funnel",
         "x": [
          95883,
          87971,
          44311,
          41665,
          31920,
          30288,
          28361,
          27863,
          24483,
          23121,
          21944,
          21794,
          19951,
          19225,
          19099
         ],
         "y": [
          "film",
          "movie",
          "like",
          "see",
          "time",
          "make",
          "character",
          "watch",
          "think",
          "story",
          "show",
          "well",
          "look",
          "know",
          "end"
         ]
        }
       ],
       "layout": {
        "template": {
         "data": {
          "bar": [
           {
            "error_x": {
             "color": "#2a3f5f"
            },
            "error_y": {
             "color": "#2a3f5f"
            },
            "marker": {
             "line": {
              "color": "#E5ECF6",
              "width": 0.5
             },
             "pattern": {
              "fillmode": "overlay",
              "size": 10,
              "solidity": 0.2
             }
            },
            "type": "bar"
           }
          ],
          "barpolar": [
           {
            "marker": {
             "line": {
              "color": "#E5ECF6",
              "width": 0.5
             },
             "pattern": {
              "fillmode": "overlay",
              "size": 10,
              "solidity": 0.2
             }
            },
            "type": "barpolar"
           }
          ],
          "carpet": [
           {
            "aaxis": {
             "endlinecolor": "#2a3f5f",
             "gridcolor": "white",
             "linecolor": "white",
             "minorgridcolor": "white",
             "startlinecolor": "#2a3f5f"
            },
            "baxis": {
             "endlinecolor": "#2a3f5f",
             "gridcolor": "white",
             "linecolor": "white",
             "minorgridcolor": "white",
             "startlinecolor": "#2a3f5f"
            },
            "type": "carpet"
           }
          ],
          "choropleth": [
           {
            "colorbar": {
             "outlinewidth": 0,
             "ticks": ""
            },
            "type": "choropleth"
           }
          ],
          "contour": [
           {
            "colorbar": {
             "outlinewidth": 0,
             "ticks": ""
            },
            "colorscale": [
             [
              0,
              "#0d0887"
             ],
             [
              0.1111111111111111,
              "#46039f"
             ],
             [
              0.2222222222222222,
              "#7201a8"
             ],
             [
              0.3333333333333333,
              "#9c179e"
             ],
             [
              0.4444444444444444,
              "#bd3786"
             ],
             [
              0.5555555555555556,
              "#d8576b"
             ],
             [
              0.6666666666666666,
              "#ed7953"
             ],
             [
              0.7777777777777778,
              "#fb9f3a"
             ],
             [
              0.8888888888888888,
              "#fdca26"
             ],
             [
              1,
              "#f0f921"
             ]
            ],
            "type": "contour"
           }
          ],
          "contourcarpet": [
           {
            "colorbar": {
             "outlinewidth": 0,
             "ticks": ""
            },
            "type": "contourcarpet"
           }
          ],
          "heatmap": [
           {
            "colorbar": {
             "outlinewidth": 0,
             "ticks": ""
            },
            "colorscale": [
             [
              0,
              "#0d0887"
             ],
             [
              0.1111111111111111,
              "#46039f"
             ],
             [
              0.2222222222222222,
              "#7201a8"
             ],
             [
              0.3333333333333333,
              "#9c179e"
             ],
             [
              0.4444444444444444,
              "#bd3786"
             ],
             [
              0.5555555555555556,
              "#d8576b"
             ],
             [
              0.6666666666666666,
              "#ed7953"
             ],
             [
              0.7777777777777778,
              "#fb9f3a"
             ],
             [
              0.8888888888888888,
              "#fdca26"
             ],
             [
              1,
              "#f0f921"
             ]
            ],
            "type": "heatmap"
           }
          ],
          "heatmapgl": [
           {
            "colorbar": {
             "outlinewidth": 0,
             "ticks": ""
            },
            "colorscale": [
             [
              0,
              "#0d0887"
             ],
             [
              0.1111111111111111,
              "#46039f"
             ],
             [
              0.2222222222222222,
              "#7201a8"
             ],
             [
              0.3333333333333333,
              "#9c179e"
             ],
             [
              0.4444444444444444,
              "#bd3786"
             ],
             [
              0.5555555555555556,
              "#d8576b"
             ],
             [
              0.6666666666666666,
              "#ed7953"
             ],
             [
              0.7777777777777778,
              "#fb9f3a"
             ],
             [
              0.8888888888888888,
              "#fdca26"
             ],
             [
              1,
              "#f0f921"
             ]
            ],
            "type": "heatmapgl"
           }
          ],
          "histogram": [
           {
            "marker": {
             "pattern": {
              "fillmode": "overlay",
              "size": 10,
              "solidity": 0.2
             }
            },
            "type": "histogram"
           }
          ],
          "histogram2d": [
           {
            "colorbar": {
             "outlinewidth": 0,
             "ticks": ""
            },
            "colorscale": [
             [
              0,
              "#0d0887"
             ],
             [
              0.1111111111111111,
              "#46039f"
             ],
             [
              0.2222222222222222,
              "#7201a8"
             ],
             [
              0.3333333333333333,
              "#9c179e"
             ],
             [
              0.4444444444444444,
              "#bd3786"
             ],
             [
              0.5555555555555556,
              "#d8576b"
             ],
             [
              0.6666666666666666,
              "#ed7953"
             ],
             [
              0.7777777777777778,
              "#fb9f3a"
             ],
             [
              0.8888888888888888,
              "#fdca26"
             ],
             [
              1,
              "#f0f921"
             ]
            ],
            "type": "histogram2d"
           }
          ],
          "histogram2dcontour": [
           {
            "colorbar": {
             "outlinewidth": 0,
             "ticks": ""
            },
            "colorscale": [
             [
              0,
              "#0d0887"
             ],
             [
              0.1111111111111111,
              "#46039f"
             ],
             [
              0.2222222222222222,
              "#7201a8"
             ],
             [
              0.3333333333333333,
              "#9c179e"
             ],
             [
              0.4444444444444444,
              "#bd3786"
             ],
             [
              0.5555555555555556,
              "#d8576b"
             ],
             [
              0.6666666666666666,
              "#ed7953"
             ],
             [
              0.7777777777777778,
              "#fb9f3a"
             ],
             [
              0.8888888888888888,
              "#fdca26"
             ],
             [
              1,
              "#f0f921"
             ]
            ],
            "type": "histogram2dcontour"
           }
          ],
          "mesh3d": [
           {
            "colorbar": {
             "outlinewidth": 0,
             "ticks": ""
            },
            "type": "mesh3d"
           }
          ],
          "parcoords": [
           {
            "line": {
             "colorbar": {
              "outlinewidth": 0,
              "ticks": ""
             }
            },
            "type": "parcoords"
           }
          ],
          "pie": [
           {
            "automargin": true,
            "type": "pie"
           }
          ],
          "scatter": [
           {
            "fillpattern": {
             "fillmode": "overlay",
             "size": 10,
             "solidity": 0.2
            },
            "type": "scatter"
           }
          ],
          "scatter3d": [
           {
            "line": {
             "colorbar": {
              "outlinewidth": 0,
              "ticks": ""
             }
            },
            "marker": {
             "colorbar": {
              "outlinewidth": 0,
              "ticks": ""
             }
            },
            "type": "scatter3d"
           }
          ],
          "scattercarpet": [
           {
            "marker": {
             "colorbar": {
              "outlinewidth": 0,
              "ticks": ""
             }
            },
            "type": "scattercarpet"
           }
          ],
          "scattergeo": [
           {
            "marker": {
             "colorbar": {
              "outlinewidth": 0,
              "ticks": ""
             }
            },
            "type": "scattergeo"
           }
          ],
          "scattergl": [
           {
            "marker": {
             "colorbar": {
              "outlinewidth": 0,
              "ticks": ""
             }
            },
            "type": "scattergl"
           }
          ],
          "scattermapbox": [
           {
            "marker": {
             "colorbar": {
              "outlinewidth": 0,
              "ticks": ""
             }
            },
            "type": "scattermapbox"
           }
          ],
          "scatterpolar": [
           {
            "marker": {
             "colorbar": {
              "outlinewidth": 0,
              "ticks": ""
             }
            },
            "type": "scatterpolar"
           }
          ],
          "scatterpolargl": [
           {
            "marker": {
             "colorbar": {
              "outlinewidth": 0,
              "ticks": ""
             }
            },
            "type": "scatterpolargl"
           }
          ],
          "scatterternary": [
           {
            "marker": {
             "colorbar": {
              "outlinewidth": 0,
              "ticks": ""
             }
            },
            "type": "scatterternary"
           }
          ],
          "surface": [
           {
            "colorbar": {
             "outlinewidth": 0,
             "ticks": ""
            },
            "colorscale": [
             [
              0,
              "#0d0887"
             ],
             [
              0.1111111111111111,
              "#46039f"
             ],
             [
              0.2222222222222222,
              "#7201a8"
             ],
             [
              0.3333333333333333,
              "#9c179e"
             ],
             [
              0.4444444444444444,
              "#bd3786"
             ],
             [
              0.5555555555555556,
              "#d8576b"
             ],
             [
              0.6666666666666666,
              "#ed7953"
             ],
             [
              0.7777777777777778,
              "#fb9f3a"
             ],
             [
              0.8888888888888888,
              "#fdca26"
             ],
             [
              1,
              "#f0f921"
             ]
            ],
            "type": "surface"
           }
          ],
          "table": [
           {
            "cells": {
             "fill": {
              "color": "#EBF0F8"
             },
             "line": {
              "color": "white"
             }
            },
            "header": {
             "fill": {
              "color": "#C8D4E3"
             },
             "line": {
              "color": "white"
             }
            },
            "type": "table"
           }
          ]
         },
         "layout": {
          "annotationdefaults": {
           "arrowcolor": "#2a3f5f",
           "arrowhead": 0,
           "arrowwidth": 1
          },
          "autotypenumbers": "strict",
          "coloraxis": {
           "colorbar": {
            "outlinewidth": 0,
            "ticks": ""
           }
          },
          "colorscale": {
           "diverging": [
            [
             0,
             "#8e0152"
            ],
            [
             0.1,
             "#c51b7d"
            ],
            [
             0.2,
             "#de77ae"
            ],
            [
             0.3,
             "#f1b6da"
            ],
            [
             0.4,
             "#fde0ef"
            ],
            [
             0.5,
             "#f7f7f7"
            ],
            [
             0.6,
             "#e6f5d0"
            ],
            [
             0.7,
             "#b8e186"
            ],
            [
             0.8,
             "#7fbc41"
            ],
            [
             0.9,
             "#4d9221"
            ],
            [
             1,
             "#276419"
            ]
           ],
           "sequential": [
            [
             0,
             "#0d0887"
            ],
            [
             0.1111111111111111,
             "#46039f"
            ],
            [
             0.2222222222222222,
             "#7201a8"
            ],
            [
             0.3333333333333333,
             "#9c179e"
            ],
            [
             0.4444444444444444,
             "#bd3786"
            ],
            [
             0.5555555555555556,
             "#d8576b"
            ],
            [
             0.6666666666666666,
             "#ed7953"
            ],
            [
             0.7777777777777778,
             "#fb9f3a"
            ],
            [
             0.8888888888888888,
             "#fdca26"
            ],
            [
             1,
             "#f0f921"
            ]
           ],
           "sequentialminus": [
            [
             0,
             "#0d0887"
            ],
            [
             0.1111111111111111,
             "#46039f"
            ],
            [
             0.2222222222222222,
             "#7201a8"
            ],
            [
             0.3333333333333333,
             "#9c179e"
            ],
            [
             0.4444444444444444,
             "#bd3786"
            ],
            [
             0.5555555555555556,
             "#d8576b"
            ],
            [
             0.6666666666666666,
             "#ed7953"
            ],
            [
             0.7777777777777778,
             "#fb9f3a"
            ],
            [
             0.8888888888888888,
             "#fdca26"
            ],
            [
             1,
             "#f0f921"
            ]
           ]
          },
          "colorway": [
           "#636efa",
           "#EF553B",
           "#00cc96",
           "#ab63fa",
           "#FFA15A",
           "#19d3f3",
           "#FF6692",
           "#B6E880",
           "#FF97FF",
           "#FECB52"
          ],
          "font": {
           "color": "#2a3f5f"
          },
          "geo": {
           "bgcolor": "white",
           "lakecolor": "white",
           "landcolor": "#E5ECF6",
           "showlakes": true,
           "showland": true,
           "subunitcolor": "white"
          },
          "hoverlabel": {
           "align": "left"
          },
          "hovermode": "closest",
          "mapbox": {
           "style": "light"
          },
          "paper_bgcolor": "white",
          "plot_bgcolor": "#E5ECF6",
          "polar": {
           "angularaxis": {
            "gridcolor": "white",
            "linecolor": "white",
            "ticks": ""
           },
           "bgcolor": "#E5ECF6",
           "radialaxis": {
            "gridcolor": "white",
            "linecolor": "white",
            "ticks": ""
           }
          },
          "scene": {
           "xaxis": {
            "backgroundcolor": "#E5ECF6",
            "gridcolor": "white",
            "gridwidth": 2,
            "linecolor": "white",
            "showbackground": true,
            "ticks": "",
            "zerolinecolor": "white"
           },
           "yaxis": {
            "backgroundcolor": "#E5ECF6",
            "gridcolor": "white",
            "gridwidth": 2,
            "linecolor": "white",
            "showbackground": true,
            "ticks": "",
            "zerolinecolor": "white"
           },
           "zaxis": {
            "backgroundcolor": "#E5ECF6",
            "gridcolor": "white",
            "gridwidth": 2,
            "linecolor": "white",
            "showbackground": true,
            "ticks": "",
            "zerolinecolor": "white"
           }
          },
          "shapedefaults": {
           "line": {
            "color": "#2a3f5f"
           }
          },
          "ternary": {
           "aaxis": {
            "gridcolor": "white",
            "linecolor": "white",
            "ticks": ""
           },
           "baxis": {
            "gridcolor": "white",
            "linecolor": "white",
            "ticks": ""
           },
           "bgcolor": "#E5ECF6",
           "caxis": {
            "gridcolor": "white",
            "linecolor": "white",
            "ticks": ""
           }
          },
          "title": {
           "x": 0.05
          },
          "xaxis": {
           "automargin": true,
           "gridcolor": "white",
           "linecolor": "white",
           "ticks": "",
           "title": {
            "standoff": 15
           },
           "zerolinecolor": "white",
           "zerolinewidth": 2
          },
          "yaxis": {
           "automargin": true,
           "gridcolor": "white",
           "linecolor": "white",
           "ticks": "",
           "title": {
            "standoff": 15
           },
           "zerolinecolor": "white",
           "zerolinewidth": 2
          }
         }
        }
       }
      }
     },
     "metadata": {},
     "output_type": "display_data"
    }
   ],
   "source": [
    "go_figure(data=MostFrequentWordDF)"
   ]
  },
  {
   "cell_type": "code",
   "execution_count": 19,
   "metadata": {},
   "outputs": [
    {
     "data": {
      "application/vnd.plotly.v1+json": {
       "config": {
        "plotlyServerURL": "https://plot.ly"
       },
       "data": [
        {
         "alignmentgroup": "True",
         "hovertemplate": "Count=%{x}<br>Word=%{y}<extra></extra>",
         "legendgroup": "",
         "marker": {
          "color": "#636efa",
          "pattern": {
           "shape": ""
          }
         },
         "name": "",
         "offsetgroup": "",
         "orientation": "h",
         "showlegend": false,
         "textposition": "auto",
         "type": "bar",
         "x": [
          95883,
          87971,
          44311,
          41665,
          31920,
          30288,
          28361,
          27863,
          24483,
          23121,
          21944,
          21794,
          19951,
          19225,
          19099
         ],
         "xaxis": "x",
         "y": [
          "film",
          "movie",
          "like",
          "see",
          "time",
          "make",
          "character",
          "watch",
          "think",
          "story",
          "show",
          "well",
          "look",
          "know",
          "end"
         ],
         "yaxis": "y"
        }
       ],
       "layout": {
        "barmode": "relative",
        "legend": {
         "tracegroupgap": 0
        },
        "margin": {
         "t": 60
        },
        "template": {
         "data": {
          "bar": [
           {
            "error_x": {
             "color": "#2a3f5f"
            },
            "error_y": {
             "color": "#2a3f5f"
            },
            "marker": {
             "line": {
              "color": "#E5ECF6",
              "width": 0.5
             },
             "pattern": {
              "fillmode": "overlay",
              "size": 10,
              "solidity": 0.2
             }
            },
            "type": "bar"
           }
          ],
          "barpolar": [
           {
            "marker": {
             "line": {
              "color": "#E5ECF6",
              "width": 0.5
             },
             "pattern": {
              "fillmode": "overlay",
              "size": 10,
              "solidity": 0.2
             }
            },
            "type": "barpolar"
           }
          ],
          "carpet": [
           {
            "aaxis": {
             "endlinecolor": "#2a3f5f",
             "gridcolor": "white",
             "linecolor": "white",
             "minorgridcolor": "white",
             "startlinecolor": "#2a3f5f"
            },
            "baxis": {
             "endlinecolor": "#2a3f5f",
             "gridcolor": "white",
             "linecolor": "white",
             "minorgridcolor": "white",
             "startlinecolor": "#2a3f5f"
            },
            "type": "carpet"
           }
          ],
          "choropleth": [
           {
            "colorbar": {
             "outlinewidth": 0,
             "ticks": ""
            },
            "type": "choropleth"
           }
          ],
          "contour": [
           {
            "colorbar": {
             "outlinewidth": 0,
             "ticks": ""
            },
            "colorscale": [
             [
              0,
              "#0d0887"
             ],
             [
              0.1111111111111111,
              "#46039f"
             ],
             [
              0.2222222222222222,
              "#7201a8"
             ],
             [
              0.3333333333333333,
              "#9c179e"
             ],
             [
              0.4444444444444444,
              "#bd3786"
             ],
             [
              0.5555555555555556,
              "#d8576b"
             ],
             [
              0.6666666666666666,
              "#ed7953"
             ],
             [
              0.7777777777777778,
              "#fb9f3a"
             ],
             [
              0.8888888888888888,
              "#fdca26"
             ],
             [
              1,
              "#f0f921"
             ]
            ],
            "type": "contour"
           }
          ],
          "contourcarpet": [
           {
            "colorbar": {
             "outlinewidth": 0,
             "ticks": ""
            },
            "type": "contourcarpet"
           }
          ],
          "heatmap": [
           {
            "colorbar": {
             "outlinewidth": 0,
             "ticks": ""
            },
            "colorscale": [
             [
              0,
              "#0d0887"
             ],
             [
              0.1111111111111111,
              "#46039f"
             ],
             [
              0.2222222222222222,
              "#7201a8"
             ],
             [
              0.3333333333333333,
              "#9c179e"
             ],
             [
              0.4444444444444444,
              "#bd3786"
             ],
             [
              0.5555555555555556,
              "#d8576b"
             ],
             [
              0.6666666666666666,
              "#ed7953"
             ],
             [
              0.7777777777777778,
              "#fb9f3a"
             ],
             [
              0.8888888888888888,
              "#fdca26"
             ],
             [
              1,
              "#f0f921"
             ]
            ],
            "type": "heatmap"
           }
          ],
          "heatmapgl": [
           {
            "colorbar": {
             "outlinewidth": 0,
             "ticks": ""
            },
            "colorscale": [
             [
              0,
              "#0d0887"
             ],
             [
              0.1111111111111111,
              "#46039f"
             ],
             [
              0.2222222222222222,
              "#7201a8"
             ],
             [
              0.3333333333333333,
              "#9c179e"
             ],
             [
              0.4444444444444444,
              "#bd3786"
             ],
             [
              0.5555555555555556,
              "#d8576b"
             ],
             [
              0.6666666666666666,
              "#ed7953"
             ],
             [
              0.7777777777777778,
              "#fb9f3a"
             ],
             [
              0.8888888888888888,
              "#fdca26"
             ],
             [
              1,
              "#f0f921"
             ]
            ],
            "type": "heatmapgl"
           }
          ],
          "histogram": [
           {
            "marker": {
             "pattern": {
              "fillmode": "overlay",
              "size": 10,
              "solidity": 0.2
             }
            },
            "type": "histogram"
           }
          ],
          "histogram2d": [
           {
            "colorbar": {
             "outlinewidth": 0,
             "ticks": ""
            },
            "colorscale": [
             [
              0,
              "#0d0887"
             ],
             [
              0.1111111111111111,
              "#46039f"
             ],
             [
              0.2222222222222222,
              "#7201a8"
             ],
             [
              0.3333333333333333,
              "#9c179e"
             ],
             [
              0.4444444444444444,
              "#bd3786"
             ],
             [
              0.5555555555555556,
              "#d8576b"
             ],
             [
              0.6666666666666666,
              "#ed7953"
             ],
             [
              0.7777777777777778,
              "#fb9f3a"
             ],
             [
              0.8888888888888888,
              "#fdca26"
             ],
             [
              1,
              "#f0f921"
             ]
            ],
            "type": "histogram2d"
           }
          ],
          "histogram2dcontour": [
           {
            "colorbar": {
             "outlinewidth": 0,
             "ticks": ""
            },
            "colorscale": [
             [
              0,
              "#0d0887"
             ],
             [
              0.1111111111111111,
              "#46039f"
             ],
             [
              0.2222222222222222,
              "#7201a8"
             ],
             [
              0.3333333333333333,
              "#9c179e"
             ],
             [
              0.4444444444444444,
              "#bd3786"
             ],
             [
              0.5555555555555556,
              "#d8576b"
             ],
             [
              0.6666666666666666,
              "#ed7953"
             ],
             [
              0.7777777777777778,
              "#fb9f3a"
             ],
             [
              0.8888888888888888,
              "#fdca26"
             ],
             [
              1,
              "#f0f921"
             ]
            ],
            "type": "histogram2dcontour"
           }
          ],
          "mesh3d": [
           {
            "colorbar": {
             "outlinewidth": 0,
             "ticks": ""
            },
            "type": "mesh3d"
           }
          ],
          "parcoords": [
           {
            "line": {
             "colorbar": {
              "outlinewidth": 0,
              "ticks": ""
             }
            },
            "type": "parcoords"
           }
          ],
          "pie": [
           {
            "automargin": true,
            "type": "pie"
           }
          ],
          "scatter": [
           {
            "fillpattern": {
             "fillmode": "overlay",
             "size": 10,
             "solidity": 0.2
            },
            "type": "scatter"
           }
          ],
          "scatter3d": [
           {
            "line": {
             "colorbar": {
              "outlinewidth": 0,
              "ticks": ""
             }
            },
            "marker": {
             "colorbar": {
              "outlinewidth": 0,
              "ticks": ""
             }
            },
            "type": "scatter3d"
           }
          ],
          "scattercarpet": [
           {
            "marker": {
             "colorbar": {
              "outlinewidth": 0,
              "ticks": ""
             }
            },
            "type": "scattercarpet"
           }
          ],
          "scattergeo": [
           {
            "marker": {
             "colorbar": {
              "outlinewidth": 0,
              "ticks": ""
             }
            },
            "type": "scattergeo"
           }
          ],
          "scattergl": [
           {
            "marker": {
             "colorbar": {
              "outlinewidth": 0,
              "ticks": ""
             }
            },
            "type": "scattergl"
           }
          ],
          "scattermapbox": [
           {
            "marker": {
             "colorbar": {
              "outlinewidth": 0,
              "ticks": ""
             }
            },
            "type": "scattermapbox"
           }
          ],
          "scatterpolar": [
           {
            "marker": {
             "colorbar": {
              "outlinewidth": 0,
              "ticks": ""
             }
            },
            "type": "scatterpolar"
           }
          ],
          "scatterpolargl": [
           {
            "marker": {
             "colorbar": {
              "outlinewidth": 0,
              "ticks": ""
             }
            },
            "type": "scatterpolargl"
           }
          ],
          "scatterternary": [
           {
            "marker": {
             "colorbar": {
              "outlinewidth": 0,
              "ticks": ""
             }
            },
            "type": "scatterternary"
           }
          ],
          "surface": [
           {
            "colorbar": {
             "outlinewidth": 0,
             "ticks": ""
            },
            "colorscale": [
             [
              0,
              "#0d0887"
             ],
             [
              0.1111111111111111,
              "#46039f"
             ],
             [
              0.2222222222222222,
              "#7201a8"
             ],
             [
              0.3333333333333333,
              "#9c179e"
             ],
             [
              0.4444444444444444,
              "#bd3786"
             ],
             [
              0.5555555555555556,
              "#d8576b"
             ],
             [
              0.6666666666666666,
              "#ed7953"
             ],
             [
              0.7777777777777778,
              "#fb9f3a"
             ],
             [
              0.8888888888888888,
              "#fdca26"
             ],
             [
              1,
              "#f0f921"
             ]
            ],
            "type": "surface"
           }
          ],
          "table": [
           {
            "cells": {
             "fill": {
              "color": "#EBF0F8"
             },
             "line": {
              "color": "white"
             }
            },
            "header": {
             "fill": {
              "color": "#C8D4E3"
             },
             "line": {
              "color": "white"
             }
            },
            "type": "table"
           }
          ]
         },
         "layout": {
          "annotationdefaults": {
           "arrowcolor": "#2a3f5f",
           "arrowhead": 0,
           "arrowwidth": 1
          },
          "autotypenumbers": "strict",
          "coloraxis": {
           "colorbar": {
            "outlinewidth": 0,
            "ticks": ""
           }
          },
          "colorscale": {
           "diverging": [
            [
             0,
             "#8e0152"
            ],
            [
             0.1,
             "#c51b7d"
            ],
            [
             0.2,
             "#de77ae"
            ],
            [
             0.3,
             "#f1b6da"
            ],
            [
             0.4,
             "#fde0ef"
            ],
            [
             0.5,
             "#f7f7f7"
            ],
            [
             0.6,
             "#e6f5d0"
            ],
            [
             0.7,
             "#b8e186"
            ],
            [
             0.8,
             "#7fbc41"
            ],
            [
             0.9,
             "#4d9221"
            ],
            [
             1,
             "#276419"
            ]
           ],
           "sequential": [
            [
             0,
             "#0d0887"
            ],
            [
             0.1111111111111111,
             "#46039f"
            ],
            [
             0.2222222222222222,
             "#7201a8"
            ],
            [
             0.3333333333333333,
             "#9c179e"
            ],
            [
             0.4444444444444444,
             "#bd3786"
            ],
            [
             0.5555555555555556,
             "#d8576b"
            ],
            [
             0.6666666666666666,
             "#ed7953"
            ],
            [
             0.7777777777777778,
             "#fb9f3a"
            ],
            [
             0.8888888888888888,
             "#fdca26"
            ],
            [
             1,
             "#f0f921"
            ]
           ],
           "sequentialminus": [
            [
             0,
             "#0d0887"
            ],
            [
             0.1111111111111111,
             "#46039f"
            ],
            [
             0.2222222222222222,
             "#7201a8"
            ],
            [
             0.3333333333333333,
             "#9c179e"
            ],
            [
             0.4444444444444444,
             "#bd3786"
            ],
            [
             0.5555555555555556,
             "#d8576b"
            ],
            [
             0.6666666666666666,
             "#ed7953"
            ],
            [
             0.7777777777777778,
             "#fb9f3a"
            ],
            [
             0.8888888888888888,
             "#fdca26"
            ],
            [
             1,
             "#f0f921"
            ]
           ]
          },
          "colorway": [
           "#636efa",
           "#EF553B",
           "#00cc96",
           "#ab63fa",
           "#FFA15A",
           "#19d3f3",
           "#FF6692",
           "#B6E880",
           "#FF97FF",
           "#FECB52"
          ],
          "font": {
           "color": "#2a3f5f"
          },
          "geo": {
           "bgcolor": "white",
           "lakecolor": "white",
           "landcolor": "#E5ECF6",
           "showlakes": true,
           "showland": true,
           "subunitcolor": "white"
          },
          "hoverlabel": {
           "align": "left"
          },
          "hovermode": "closest",
          "mapbox": {
           "style": "light"
          },
          "paper_bgcolor": "white",
          "plot_bgcolor": "#E5ECF6",
          "polar": {
           "angularaxis": {
            "gridcolor": "white",
            "linecolor": "white",
            "ticks": ""
           },
           "bgcolor": "#E5ECF6",
           "radialaxis": {
            "gridcolor": "white",
            "linecolor": "white",
            "ticks": ""
           }
          },
          "scene": {
           "xaxis": {
            "backgroundcolor": "#E5ECF6",
            "gridcolor": "white",
            "gridwidth": 2,
            "linecolor": "white",
            "showbackground": true,
            "ticks": "",
            "zerolinecolor": "white"
           },
           "yaxis": {
            "backgroundcolor": "#E5ECF6",
            "gridcolor": "white",
            "gridwidth": 2,
            "linecolor": "white",
            "showbackground": true,
            "ticks": "",
            "zerolinecolor": "white"
           },
           "zaxis": {
            "backgroundcolor": "#E5ECF6",
            "gridcolor": "white",
            "gridwidth": 2,
            "linecolor": "white",
            "showbackground": true,
            "ticks": "",
            "zerolinecolor": "white"
           }
          },
          "shapedefaults": {
           "line": {
            "color": "#2a3f5f"
           }
          },
          "ternary": {
           "aaxis": {
            "gridcolor": "white",
            "linecolor": "white",
            "ticks": ""
           },
           "baxis": {
            "gridcolor": "white",
            "linecolor": "white",
            "ticks": ""
           },
           "bgcolor": "#E5ECF6",
           "caxis": {
            "gridcolor": "white",
            "linecolor": "white",
            "ticks": ""
           }
          },
          "title": {
           "x": 0.05
          },
          "xaxis": {
           "automargin": true,
           "gridcolor": "white",
           "linecolor": "white",
           "ticks": "",
           "title": {
            "standoff": 15
           },
           "zerolinecolor": "white",
           "zerolinewidth": 2
          },
          "yaxis": {
           "automargin": true,
           "gridcolor": "white",
           "linecolor": "white",
           "ticks": "",
           "title": {
            "standoff": 15
           },
           "zerolinecolor": "white",
           "zerolinewidth": 2
          }
         }
        },
        "xaxis": {
         "anchor": "y",
         "domain": [
          0,
          1
         ],
         "title": {
          "text": "Count"
         }
        },
        "yaxis": {
         "anchor": "x",
         "domain": [
          0,
          1
         ],
         "title": {
          "text": "Word"
         }
        }
       }
      }
     },
     "metadata": {},
     "output_type": "display_data"
    }
   ],
   "source": [
    "bar_plot(data=MostFrequentWordDF)"
   ]
  },
  {
   "cell_type": "markdown",
   "metadata": {},
   "source": [
    "# Number Of Words "
   ]
  },
  {
   "cell_type": "code",
   "execution_count": 20,
   "metadata": {},
   "outputs": [
    {
     "data": {
      "text/plain": [
       "5129594"
      ]
     },
     "execution_count": 20,
     "metadata": {},
     "output_type": "execute_result"
    }
   ],
   "source": [
    "Corpus[\"Number of Words\"] = Corpus[\"Normalized_Review\"].apply(lambda n:len(word_tokenize(n)))\n",
    "Corpus.drop(Corpus[ Corpus[\"Number of Words\"] == 0].index, inplace = True)\n",
    "Corpus[\"Number of Words\"].sum()"
   ]
  },
  {
   "cell_type": "markdown",
   "metadata": {},
   "source": [
    "# Number Of Charachters "
   ]
  },
  {
   "cell_type": "code",
   "execution_count": 21,
   "metadata": {},
   "outputs": [
    {
     "data": {
      "text/plain": [
       "34301984"
      ]
     },
     "execution_count": 21,
     "metadata": {},
     "output_type": "execute_result"
    }
   ],
   "source": [
    "Corpus[\"Number of Charachters\"] = Corpus[\"Normalized_Review\"].str.len()\n",
    "Corpus[\"Number of Charachters\"].sum()"
   ]
  },
  {
   "cell_type": "markdown",
   "metadata": {},
   "source": [
    "# Average Number Of Words "
   ]
  },
  {
   "cell_type": "code",
   "execution_count": 22,
   "metadata": {},
   "outputs": [
    {
     "data": {
      "text/plain": [
       "103"
      ]
     },
     "execution_count": 22,
     "metadata": {},
     "output_type": "execute_result"
    }
   ],
   "source": [
    "AverageNaumberOfWords = int(np.round((Corpus[\"Number of Words\"].mean())))\n",
    "AverageNaumberOfWords"
   ]
  },
  {
   "cell_type": "markdown",
   "metadata": {},
   "source": [
    "# Average Number Of Charachters "
   ]
  },
  {
   "cell_type": "code",
   "execution_count": 23,
   "metadata": {},
   "outputs": [
    {
     "data": {
      "text/plain": [
       "686"
      ]
     },
     "execution_count": 23,
     "metadata": {},
     "output_type": "execute_result"
    }
   ],
   "source": [
    "AverageNumberOfCharachters = int(np.round(Corpus[\"Number of Charachters\"].mean()))\n",
    "AverageNumberOfCharachters"
   ]
  },
  {
   "cell_type": "markdown",
   "metadata": {},
   "source": [
    "# Maximum Number Of Word"
   ]
  },
  {
   "cell_type": "code",
   "execution_count": 24,
   "metadata": {},
   "outputs": [
    {
     "data": {
      "text/plain": [
       "1275"
      ]
     },
     "execution_count": 24,
     "metadata": {},
     "output_type": "execute_result"
    }
   ],
   "source": [
    "MaximumNaumberOfWords = Corpus[\"Number of Words\"].max()\n",
    "MaximumNaumberOfWords"
   ]
  },
  {
   "cell_type": "markdown",
   "metadata": {},
   "source": [
    "# Maximum Number Of Charachters "
   ]
  },
  {
   "cell_type": "code",
   "execution_count": 25,
   "metadata": {},
   "outputs": [
    {
     "data": {
      "text/plain": [
       "7937"
      ]
     },
     "execution_count": 25,
     "metadata": {},
     "output_type": "execute_result"
    }
   ],
   "source": [
    "MaximumNumberOfCharachters = Corpus['Number of Charachters'].max() \n",
    "MaximumNumberOfCharachters"
   ]
  },
  {
   "cell_type": "markdown",
   "metadata": {},
   "source": [
    "# Minimum Number Of Words"
   ]
  },
  {
   "cell_type": "code",
   "execution_count": 26,
   "metadata": {},
   "outputs": [
    {
     "data": {
      "text/plain": [
       "3"
      ]
     },
     "execution_count": 26,
     "metadata": {},
     "output_type": "execute_result"
    }
   ],
   "source": [
    "MimimumNaumberOfWords = Corpus[\"Number of Words\"].min()\n",
    "MimimumNaumberOfWords"
   ]
  },
  {
   "cell_type": "markdown",
   "metadata": {},
   "source": [
    "# Minimum Number Of Charachters "
   ]
  },
  {
   "cell_type": "code",
   "execution_count": 27,
   "metadata": {},
   "outputs": [
    {
     "data": {
      "text/plain": [
       "17"
      ]
     },
     "execution_count": 27,
     "metadata": {},
     "output_type": "execute_result"
    }
   ],
   "source": [
    "MinimumNumberOfCharachters = Corpus['Number of Charachters'].min() \n",
    "MinimumNumberOfCharachters"
   ]
  },
  {
   "cell_type": "markdown",
   "metadata": {},
   "source": [
    "# Split The Dataset Into X And y"
   ]
  },
  {
   "cell_type": "code",
   "execution_count": 28,
   "metadata": {},
   "outputs": [],
   "source": [
    "X, y = Corpus['Normalized_Review'], Corpus['Sentiment']\n",
    "le = LabelEncoder()\n",
    "y =le.fit_transform(y)"
   ]
  },
  {
   "cell_type": "markdown",
   "metadata": {},
   "source": [
    "# Split The Dataset Into Training And Testing"
   ]
  },
  {
   "cell_type": "code",
   "execution_count": 29,
   "metadata": {},
   "outputs": [],
   "source": [
    "X_train, X_test, y_train, y_test = train_test_split(X, y, train_size=0.7, shuffle=True, random_state=33, stratify=y)"
   ]
  },
  {
   "cell_type": "markdown",
   "metadata": {},
   "source": [
    "# CountVectorizer"
   ]
  },
  {
   "cell_type": "code",
   "execution_count": 30,
   "metadata": {},
   "outputs": [],
   "source": [
    "CountVectorizer_ = CountVectorizer()\n",
    "X_train_CV_ = CountVectorizer_.fit_transform(X_train)\n",
    "X_test_CV_ = CountVectorizer_.transform(X_test)"
   ]
  },
  {
   "cell_type": "code",
   "execution_count": 31,
   "metadata": {},
   "outputs": [
    {
     "data": {
      "text/plain": [
       "{'time': 64876,\n",
       " 'see': 57033,\n",
       " 'film': 22816,\n",
       " 'maybe': 40203,\n",
       " 'zabriskie': 72477,\n",
       " 'point': 49555,\n",
       " 'felt': 22475,\n",
       " 'way': 70384,\n",
       " 'woody': 71598,\n",
       " 'allen': 1605,\n",
       " 'like': 37313,\n",
       " 'year': 72162,\n",
       " 'period': 48274,\n",
       " 'realize': 52617,\n",
       " 'filmmaker': 22850,\n",
       " 'ahead': 1156,\n",
       " 'go': 26095,\n",
       " 'michelangelo': 41352,\n",
       " 'antonioni': 2637,\n",
       " 'try': 66362,\n",
       " 'make': 39066,\n",
       " 'inside': 32070,\n",
       " 'red': 52867,\n",
       " 'desert': 16525,\n",
       " 'blow': 6896,\n",
       " 'china': 11113,\n",
       " 'passenger': 47620,\n",
       " 'native': 43928,\n",
       " 'italy': 32870,\n",
       " 'sense': 57262,\n",
       " 'learn': 36659,\n",
       " 'ways': 70398,\n",
       " 'country': 13931,\n",
       " 'mastery': 39972,\n",
       " 'medium': 40696,\n",
       " 'result': 53795,\n",
       " 'show': 58266,\n",
       " 'lack': 35948,\n",
       " 'mean': 40573,\n",
       " 'present': 50481,\n",
       " 'image': 30994,\n",
       " 'feel': 22396,\n",
       " 'tone': 65267,\n",
       " 'color': 12389,\n",
       " 'sound': 60093,\n",
       " 'visual': 69640,\n",
       " 'representation': 53555,\n",
       " 'era': 20664,\n",
       " 'director': 17274,\n",
       " 'job': 33617,\n",
       " 'state': 61037,\n",
       " 'disappoint': 17331,\n",
       " 'admirer': 709,\n",
       " 'post': 50039,\n",
       " 'fifties': 22760,\n",
       " 'work': 71657,\n",
       " 'say': 56197,\n",
       " 'avventura': 4207,\n",
       " 'least': 36669,\n",
       " 'kind': 34995,\n",
       " 'bring': 8122,\n",
       " 'eclipse': 19348,\n",
       " 'character': 10626,\n",
       " 'theme': 64389,\n",
       " 'forth': 23810,\n",
       " 'consciousness': 13127,\n",
       " 'case': 9899,\n",
       " 'actors': 528,\n",
       " 'conviction': 13454,\n",
       " 'purpose': 51516,\n",
       " 'come': 12463,\n",
       " 'school': 56526,\n",
       " 'hard': 28084,\n",
       " 'knock': 35300,\n",
       " 'neo': 44259,\n",
       " 'realistic': 52608,\n",
       " 'non': 44938,\n",
       " 'professional': 50809,\n",
       " 'cast': 9959,\n",
       " 'look': 37935,\n",
       " 'real': 52598,\n",
       " 'subjugate': 61971,\n",
       " 'roles': 54691,\n",
       " 'corporate': 13695,\n",
       " 'star': 60954,\n",
       " 'mark': 39694,\n",
       " 'frechette': 24098,\n",
       " 'daria': 15326,\n",
       " 'halprin': 27851,\n",
       " 'direct': 17261,\n",
       " 'story': 61511,\n",
       " 'split': 60539,\n",
       " 'act': 497,\n",
       " 'thankfully': 64312,\n",
       " 'confuse': 13002,\n",
       " 'escape': 20789,\n",
       " 'existence': 21393,\n",
       " 'boil': 7143,\n",
       " 'dangerous': 15245,\n",
       " 'campus': 9332,\n",
       " 'life': 37242,\n",
       " 'late': 36399,\n",
       " 'la': 35891,\n",
       " 'area': 3093,\n",
       " 'drive': 18638,\n",
       " 'phoenix': 48743,\n",
       " 'business': 8839,\n",
       " 'meet': 40732,\n",
       " 'chance': 10544,\n",
       " 'plane': 49242,\n",
       " 'know': 35317,\n",
       " 'little': 37597,\n",
       " 'background': 4422,\n",
       " 'car': 9562,\n",
       " 'spend': 60384,\n",
       " 'existential': 21398,\n",
       " 'groove': 27060,\n",
       " 'stylistically': 61918,\n",
       " 'mesmerize': 41137,\n",
       " 'bizarre': 6521,\n",
       " 'sex': 57546,\n",
       " 'scene': 56344,\n",
       " 'terribly': 64148,\n",
       " 'interest': 32302,\n",
       " 'lead': 36631,\n",
       " 'fair': 21854,\n",
       " 'exactly': 21221,\n",
       " 'draw': 18519,\n",
       " 'curiosity': 14809,\n",
       " 'ideas': 30767,\n",
       " 'part': 47532,\n",
       " 'screenplay': 56767,\n",
       " 'write': 71824,\n",
       " 'sam': 55725,\n",
       " 'shepard': 57934,\n",
       " 'reveal': 53895,\n",
       " 'brief': 8058,\n",
       " 'instant': 32133,\n",
       " 'drug': 18691,\n",
       " 'reality': 52612,\n",
       " 'head': 28487,\n",
       " 'third': 64539,\n",
       " 'decide': 15715,\n",
       " 'right': 54230,\n",
       " 'disastrous': 17353,\n",
       " 'circumstances': 11586,\n",
       " 'arrive': 3308,\n",
       " 'boss': 7514,\n",
       " 'place': 49204,\n",
       " 'full': 24471,\n",
       " 'disillusionment': 17504,\n",
       " 'take': 63270,\n",
       " 'account': 362,\n",
       " 'infamous': 31747,\n",
       " 'last': 36389,\n",
       " 'minutes': 41829,\n",
       " 'tell': 63931,\n",
       " 'problem': 50742,\n",
       " 'engage': 20296,\n",
       " 'viewer': 69379,\n",
       " 'understand': 67393,\n",
       " 'empathize': 20122,\n",
       " 'doubt': 18333,\n",
       " 'fear': 22334,\n",
       " 'well': 70586,\n",
       " 'self': 57132,\n",
       " 'confidence': 12966,\n",
       " 'anti': 2564,\n",
       " 'establishment': 20891,\n",
       " 'entirely': 20482,\n",
       " 'fully': 24484,\n",
       " 'aware': 4221,\n",
       " 'scenes': 56351,\n",
       " 'editor': 19432,\n",
       " 'astound': 3679,\n",
       " 'cinematography': 11537,\n",
       " 'alfio': 1507,\n",
       " 'contini': 13327,\n",
       " 'find': 22903,\n",
       " 'scenery': 56350,\n",
       " 'enlighten': 20363,\n",
       " 'fixate': 23101,\n",
       " 'people': 48160,\n",
       " 'foreground': 23685,\n",
       " 'technical': 63770,\n",
       " 'side': 58481,\n",
       " 'involve': 32588,\n",
       " 'degree': 15967,\n",
       " 'drowsy': 18683,\n",
       " 'far': 22064,\n",
       " 'greater': 26807,\n",
       " 'documentary': 17903,\n",
       " 'theatrical': 64351,\n",
       " 'francis': 23975,\n",
       " 'ford': 23666,\n",
       " 'coppola': 13553,\n",
       " 'sky': 59041,\n",
       " 'city': 11616,\n",
       " 'face': 21762,\n",
       " 'close': 11958,\n",
       " 'eye': 21690,\n",
       " 'love': 38115,\n",
       " 'art': 3344,\n",
       " 'frame': 23952,\n",
       " 'soundtrack': 60108,\n",
       " 'equally': 20639,\n",
       " 'compel': 12666,\n",
       " 'master': 39951,\n",
       " 'stroke': 61762,\n",
       " 'include': 31418,\n",
       " 'sweet': 62844,\n",
       " 'roll': 54696,\n",
       " 'stone': 61450,\n",
       " 'song': 59929,\n",
       " 'crush': 14604,\n",
       " 'surreal': 62627,\n",
       " 'pink': 49040,\n",
       " 'floyd': 23426,\n",
       " 'title': 65022,\n",
       " 'careful': 9634,\n",
       " 'axe': 4260,\n",
       " 'eugene': 20994,\n",
       " 'best': 6045,\n",
       " 'pre': 50249,\n",
       " 'dark': 15333,\n",
       " 'explosion': 21527,\n",
       " 'sequence': 57343,\n",
       " 'performances': 48251,\n",
       " 'par': 47338,\n",
       " 'unconventional': 67256,\n",
       " 'genius': 25339,\n",
       " 'hand': 27930,\n",
       " 'bore': 7439,\n",
       " 'hippie': 29350,\n",
       " 'radical': 52005,\n",
       " 'movement': 43029,\n",
       " 'hey': 29104,\n",
       " 'american': 1953,\n",
       " 'bear': 5398,\n",
       " 'eighties': 19640,\n",
       " 'ask': 3537,\n",
       " 'discard': 17366,\n",
       " 'away': 4224,\n",
       " 'view': 69376,\n",
       " 'pleasure': 49374,\n",
       " 'rhode': 54059,\n",
       " 'island': 32806,\n",
       " 'international': 32355,\n",
       " 'festival': 22612,\n",
       " 'impress': 31240,\n",
       " 'tess': 64199,\n",
       " 'nanavati': 43760,\n",
       " 'clearly': 11804,\n",
       " 'great': 26806,\n",
       " 'screenwriter': 56772,\n",
       " 'budget': 8504,\n",
       " 'anxious': 2674,\n",
       " 'major': 39051,\n",
       " 'picture': 48892,\n",
       " 'kudos': 35753,\n",
       " 'terrific': 64152,\n",
       " 'girl': 25814,\n",
       " 'gold': 26230,\n",
       " 'compose': 12745,\n",
       " 'music': 43433,\n",
       " 'warp': 70216,\n",
       " 'row': 55042,\n",
       " 'boat': 6994,\n",
       " 'creative': 14233,\n",
       " 'hope': 29906,\n",
       " 'video': 69313,\n",
       " 'dvd': 19083,\n",
       " 'buy': 8915,\n",
       " 'second': 56970,\n",
       " 'definitely': 15917,\n",
       " 'fred': 24100,\n",
       " 'carpenter': 9780,\n",
       " 'movies': 43059,\n",
       " 'showtime': 58297,\n",
       " 'pay': 47844,\n",
       " 'enjoy': 20353,\n",
       " 'especially': 20842,\n",
       " 'beers': 5576,\n",
       " 'entertain': 20450,\n",
       " 'eddie': 19387,\n",
       " 'monroe': 42524,\n",
       " 'murder': 43367,\n",
       " 'innocence': 31982,\n",
       " 'favorites': 22289,\n",
       " 'recently': 52730,\n",
       " 'promo': 50916,\n",
       " 'storyline': 61519,\n",
       " 'smoothly': 59441,\n",
       " 'doug': 18348,\n",
       " 'brown': 8312,\n",
       " 'score': 56679,\n",
       " 'sensational': 57251,\n",
       " 'frank': 23996,\n",
       " 'sivero': 58883,\n",
       " 'goodfellas': 26345,\n",
       " 'new': 44397,\n",
       " 'york': 72322,\n",
       " 'wed': 70471,\n",
       " 'singer': 58755,\n",
       " 'amaze': 1877,\n",
       " 'underrate': 67382,\n",
       " 'actor': 525,\n",
       " 'performance': 48250,\n",
       " 'paul': 47790,\n",
       " 'vario': 68864,\n",
       " 'play': 49310,\n",
       " 'uncle': 67199,\n",
       " 'benny': 5862,\n",
       " 'credit': 14253,\n",
       " 'imdb': 31028,\n",
       " 'first': 23034,\n",
       " 'role': 54687,\n",
       " 'guy': 27501,\n",
       " 'give': 25872,\n",
       " 'discover': 17417,\n",
       " 'talent': 63308,\n",
       " 'matter': 40100,\n",
       " 'costarring': 13819,\n",
       " 'pacino': 46991,\n",
       " 'deniro': 16270,\n",
       " 'mention': 40996,\n",
       " 'limit': 37379,\n",
       " 'produce': 50787,\n",
       " 'read': 52573,\n",
       " 'vent': 69061,\n",
       " 'magazine': 38852,\n",
       " 'interview': 32425,\n",
       " 'movie': 43035,\n",
       " 'dollars': 18020,\n",
       " 'watch': 70288,\n",
       " 'saw': 56174,\n",
       " 'rocky': 54594,\n",
       " 'balboa': 4639,\n",
       " 'shepherd': 57937,\n",
       " 'ride': 54155,\n",
       " 'surprise': 62623,\n",
       " 'end': 20231,\n",
       " 'script': 56796,\n",
       " 'entire': 20479,\n",
       " 'craig': 14113,\n",
       " 'morris': 42805,\n",
       " 'wait': 70016,\n",
       " 'happen': 28054,\n",
       " 'actress': 530,\n",
       " 'jessica': 33449,\n",
       " 'tsunis': 66404,\n",
       " 'hot': 30083,\n",
       " 'direction': 17265,\n",
       " 'comment': 12541,\n",
       " 'common': 12590,\n",
       " 'cost': 13810,\n",
       " 'hundred': 30444,\n",
       " 'grand': 26650,\n",
       " 'drink': 18626,\n",
       " 'beer': 5570,\n",
       " 'okay': 45862,\n",
       " 'book': 7341,\n",
       " 'miscast': 41897,\n",
       " 'simple': 58688,\n",
       " 'miniseries': 41772,\n",
       " 'grow': 27117,\n",
       " 'irritate': 32740,\n",
       " 'mannerisms': 39439,\n",
       " 'gesture': 25521,\n",
       " 'fannie': 22022,\n",
       " 'price': 50588,\n",
       " 'person': 48371,\n",
       " 'stick': 61303,\n",
       " 'mud': 43157,\n",
       " 'creature': 14239,\n",
       " 'disdain': 17444,\n",
       " 'gaze': 25155,\n",
       " 'overdo': 46736,\n",
       " 'susan': 62659,\n",
       " 'anthony': 2548,\n",
       " 'profile': 50829,\n",
       " 'resolute': 53705,\n",
       " 'refuse': 53057,\n",
       " 'edmond': 19441,\n",
       " 'pour': 50140,\n",
       " 'heart': 28571,\n",
       " 'straight': 61567,\n",
       " 'whole': 70910,\n",
       " 'force': 23657,\n",
       " 'awkward': 4246,\n",
       " 'fathom': 22234,\n",
       " 'let': 37029,\n",
       " 'alone': 1702,\n",
       " 'henry': 28907,\n",
       " 'true': 66307,\n",
       " 'believe': 5713,\n",
       " 'jane': 33126,\n",
       " 'austen': 4003,\n",
       " 'create': 14227,\n",
       " 'heroine': 29007,\n",
       " 'possible': 50036,\n",
       " 'put': 51554,\n",
       " 'succeed': 62095,\n",
       " 'earn': 19206,\n",
       " 'trust': 66345,\n",
       " 'endearment': 20237,\n",
       " 'portrayal': 49976,\n",
       " 'defend': 15858,\n",
       " 'frisk': 24298,\n",
       " 'project': 50874,\n",
       " 'todd': 65111,\n",
       " 'verow': 69161,\n",
       " 'map': 39524,\n",
       " 'appreciate': 2905,\n",
       " 'gut': 27481,\n",
       " 'dennis': 16285,\n",
       " 'cooper': 13516,\n",
       " 'back': 4407,\n",
       " 'material': 40023,\n",
       " 'fairly': 21869,\n",
       " 'judge': 33898,\n",
       " 'suit': 62223,\n",
       " 'type': 66759,\n",
       " 'vacationland': 68618,\n",
       " 'teen': 63825,\n",
       " 'misguide': 41952,\n",
       " 'unintentional': 67761,\n",
       " 'comedy': 12475,\n",
       " 'report': 53540,\n",
       " 'hero': 28995,\n",
       " 'high': 29188,\n",
       " 'senior': 57239,\n",
       " 'joe': 33652,\n",
       " 'old': 45899,\n",
       " 'appearance': 2834,\n",
       " 'later': 36408,\n",
       " 'man': 39266,\n",
       " 'suppose': 62535,\n",
       " 'teacher': 63725,\n",
       " 'sweaty': 62827,\n",
       " 'younger': 72356,\n",
       " 'student': 61832,\n",
       " 'teach': 63723,\n",
       " 'mother': 42909,\n",
       " 'older': 45903,\n",
       " 'open': 46110,\n",
       " 'actually': 537,\n",
       " 'experience': 21467,\n",
       " 'mental': 40987,\n",
       " 'challenge': 10510,\n",
       " 'figure': 22784,\n",
       " 'young': 72352,\n",
       " 'weird': 70549,\n",
       " 'care': 9627,\n",
       " 'extend': 21590,\n",
       " 'bite': 6499,\n",
       " 'men': 40915,\n",
       " 'toilet': 65148,\n",
       " 'room': 54816,\n",
       " 'absolutely': 230,\n",
       " 'superfluous': 62414,\n",
       " 'subplot': 62004,\n",
       " 'rite': 54372,\n",
       " 'passage': 47611,\n",
       " 'minute': 41826,\n",
       " 'nervously': 44308,\n",
       " 'bathroom': 5234,\n",
       " 'stall': 60882,\n",
       " 'un': 67006,\n",
       " 'erotic': 20737,\n",
       " 'truly': 66327,\n",
       " 'wonder': 71525,\n",
       " 'practice': 50198,\n",
       " 'next': 44477,\n",
       " 'expert': 21475,\n",
       " 'sexual': 57573,\n",
       " 'blackmail': 6578,\n",
       " 'violent': 69529,\n",
       " 'double': 18326,\n",
       " 'cross': 14492,\n",
       " 'follow': 23559,\n",
       " 'andrew': 2246,\n",
       " 'apparently': 2824,\n",
       " 'gay': 25129,\n",
       " 'cram': 14120,\n",
       " 'run': 55253,\n",
       " 'long': 37895,\n",
       " 'imagine': 31006,\n",
       " 'mind': 41695,\n",
       " 'numbingly': 45301,\n",
       " 'pointless': 49562,\n",
       " 'delete': 16051,\n",
       " 'walk': 70060,\n",
       " 'sub': 61936,\n",
       " 'plot': 49424,\n",
       " 'cop': 13531,\n",
       " 'gods': 26172,\n",
       " 'monsters': 42537,\n",
       " 'age': 1029,\n",
       " 'patron': 47762,\n",
       " 'spout': 60627,\n",
       " 'rhetoric': 54033,\n",
       " 'appros': 2927,\n",
       " 'pos': 49991,\n",
       " 'obviously': 45602,\n",
       " 'remember': 53330,\n",
       " 'line': 37427,\n",
       " 'conveniently': 13424,\n",
       " 'dispatch': 17578,\n",
       " 'dickens': 16953,\n",
       " 'slow': 59285,\n",
       " 'week': 70483,\n",
       " 'mix': 42118,\n",
       " 'match': 40004,\n",
       " 'boys': 7690,\n",
       " 'girlfriends': 25820,\n",
       " 'bash': 5132,\n",
       " 'tramp': 65709,\n",
       " 'wise': 71322,\n",
       " 'sage': 55548,\n",
       " 'form': 23750,\n",
       " 'nellie': 44238,\n",
       " 'queen': 51766,\n",
       " 'suddenly': 62150,\n",
       " 'hooker': 29869,\n",
       " 'tire': 64981,\n",
       " 'stereo': 61245,\n",
       " 'exist': 21390,\n",
       " 'degrade': 15965,\n",
       " 'theft': 64364,\n",
       " 'alcohol': 1431,\n",
       " 'consumption': 13260,\n",
       " 'abuse': 268,\n",
       " 'loop': 37962,\n",
       " 'software': 59751,\n",
       " 'record': 52824,\n",
       " 'interior': 32318,\n",
       " 'establish': 20890,\n",
       " 'shots': 58245,\n",
       " 'expect': 21437,\n",
       " 'airport': 1258,\n",
       " 'grocery': 27038,\n",
       " 'store': 61488,\n",
       " 'office': 45768,\n",
       " 'classroom': 11739,\n",
       " 'locations': 37742,\n",
       " 'consist': 13171,\n",
       " 'poorly': 49830,\n",
       " 'edit': 19426,\n",
       " 'soundscapes': 60106,\n",
       " 'convey': 13450,\n",
       " 'idea': 30756,\n",
       " 'locales': 37730,\n",
       " 'production': 50792,\n",
       " 'able': 139,\n",
       " 'afford': 938,\n",
       " 'actual': 532,\n",
       " 'bar': 4886,\n",
       " 'worst': 71731,\n",
       " 'world': 71691,\n",
       " 'bangor': 4824,\n",
       " 'maine': 38997,\n",
       " 'patrons': 47770,\n",
       " 'chuckle': 11379,\n",
       " 'yell': 72194,\n",
       " 'dance': 15205,\n",
       " 'speakers': 60285,\n",
       " 'drone': 18657,\n",
       " 'emotions': 20115,\n",
       " 'unreadable': 68030,\n",
       " 'dialog': 16880,\n",
       " 'inspire': 32118,\n",
       " 'speak': 60281,\n",
       " 'humans': 30381,\n",
       " 'talk': 63322,\n",
       " 'impossible': 31220,\n",
       " 'al': 1355,\n",
       " 'ether': 20953,\n",
       " 'day': 15494,\n",
       " 'simply': 58704,\n",
       " 'cease': 10228,\n",
       " 'certainly': 10405,\n",
       " 'sister': 58849,\n",
       " 'wannabee': 70148,\n",
       " 'jennifer': 33394,\n",
       " 'grey': 26910,\n",
       " 'bohemia': 7131,\n",
       " 'crazy': 14214,\n",
       " 'visually': 69646,\n",
       " 'testament': 64206,\n",
       " 'developments': 16733,\n",
       " 'hi': 29123,\n",
       " 'def': 15835,\n",
       " 'suspect': 62678,\n",
       " 'pretty': 50560,\n",
       " 'clunky': 12032,\n",
       " 'pose': 49994,\n",
       " 'naked': 43725,\n",
       " 'want': 70152,\n",
       " 'sport': 60606,\n",
       " 'cut': 14887,\n",
       " 'shoot': 58187,\n",
       " 'butt': 8884,\n",
       " 'ha': 27576,\n",
       " 'composition': 12752,\n",
       " 'odd': 45691,\n",
       " 'think': 64524,\n",
       " 'sctv': 56829,\n",
       " 'parody': 47506,\n",
       " 'persona': 48372,\n",
       " 'bed': 5511,\n",
       " 'nose': 45097,\n",
       " 'restrain': 53782,\n",
       " 'naughtier': 43974,\n",
       " 'rougher': 54993,\n",
       " 'hold': 29598,\n",
       " 'frothy': 24361,\n",
       " 'toothpaste': 65330,\n",
       " 'fantasy': 22052,\n",
       " 'nicely': 44521,\n",
       " 'touch': 65495,\n",
       " 'rest': 53764,\n",
       " 'sensitive': 57275,\n",
       " 'herschell': 29030,\n",
       " 'gordon': 26420,\n",
       " 'lewis': 37110,\n",
       " 'gore': 26423,\n",
       " 'porn': 49912,\n",
       " 'unintended': 67757,\n",
       " 'laugh': 36464,\n",
       " 'catch': 10038,\n",
       " 'tv': 66645,\n",
       " 'fourth': 23888,\n",
       " 'omen': 45975,\n",
       " 'series': 57408,\n",
       " 'stand': 60904,\n",
       " 'mediocre': 40683,\n",
       " 'sequel': 57340,\n",
       " 'masterpiece': 39963,\n",
       " 'travesty': 65899,\n",
       " 'route': 55031,\n",
       " 'change': 10569,\n",
       " 'male': 39129,\n",
       " 'female': 22478,\n",
       " 'obvious': 45601,\n",
       " 'television': 63923,\n",
       " 'standard': 60907,\n",
       " 'gruesome': 27148,\n",
       " 'previous': 50577,\n",
       " 'keep': 34577,\n",
       " 'bloodless': 6846,\n",
       " 'minimum': 41763,\n",
       " 'thread': 64638,\n",
       " 'original': 46336,\n",
       " 'revelation': 53901,\n",
       " 'aspects': 3556,\n",
       " 'basics': 5148,\n",
       " 'largely': 36302,\n",
       " 'copy': 13568,\n",
       " 'richard': 54108,\n",
       " 'donner': 18136,\n",
       " 'couple': 13945,\n",
       " 'adopt': 747,\n",
       " 'child': 11061,\n",
       " 'name': 43740,\n",
       " 'delia': 16057,\n",
       " 'damiella': 15174,\n",
       " 'damiana': 15170,\n",
       " 'fortunately': 23830,\n",
       " 'big': 6249,\n",
       " 'dog': 17946,\n",
       " 'minder': 41700,\n",
       " 'soon': 59965,\n",
       " 'wife': 71021,\n",
       " 'start': 61020,\n",
       " 'normal': 45047,\n",
       " 'menstruate': 40984,\n",
       " 'years': 72170,\n",
       " 'suffer': 62170,\n",
       " 'illnesses': 30947,\n",
       " 'sequels': 57342,\n",
       " 'bad': 4477,\n",
       " 'number': 45300,\n",
       " 'guess': 27253,\n",
       " 'money': 42424,\n",
       " 'artistic': 3401,\n",
       " 'reason': 52651,\n",
       " 'table': 63139,\n",
       " 'term': 64115,\n",
       " 'originality': 46338,\n",
       " 'likely': 37320,\n",
       " 'annoy': 2464,\n",
       " 'fan': 21983,\n",
       " 'trouble': 66254,\n",
       " 'upbringing': 68371,\n",
       " 'asia': 3525,\n",
       " 'vieira': 69356,\n",
       " 'bitch': 6493,\n",
       " 'convince': 13459,\n",
       " 'antichrist': 2571,\n",
       " 'redundant': 52945,\n",
       " 'evil': 21171,\n",
       " 'laughable': 36465,\n",
       " 'faye': 22310,\n",
       " 'grant': 26704,\n",
       " 'meatiest': 40612,\n",
       " 'regret': 53111,\n",
       " 'agree': 1114,\n",
       " 'awful': 4238,\n",
       " 'waste': 70274,\n",
       " 'tune': 66496,\n",
       " 'course': 13959,\n",
       " 'rip': 54320,\n",
       " 'overuse': 46878,\n",
       " 'worth': 71733,\n",
       " 'deliver': 16090,\n",
       " 'famous': 21981,\n",
       " 'justice': 34043,\n",
       " 'weaker': 70416,\n",
       " 'stowaways': 61546,\n",
       " 'russian': 55307,\n",
       " 'ship': 58071,\n",
       " 'bind': 6358,\n",
       " 'france': 23961,\n",
       " 'live': 37611,\n",
       " 'mate': 40015,\n",
       " 'henchmen': 28870,\n",
       " 'captive': 9552,\n",
       " 'base': 5117,\n",
       " 'spoilers': 60554,\n",
       " 'alert': 1475,\n",
       " 'homeward': 29760,\n",
       " 'incredible': 31500,\n",
       " 'journey': 33820,\n",
       " 'important': 31207,\n",
       " 'cinema': 11508,\n",
       " 'home': 29714,\n",
       " 'town': 65560,\n",
       " 'scamp': 56245,\n",
       " 'sheila': 57891,\n",
       " 'burnford': 8766,\n",
       " 'novel': 45180,\n",
       " 'brainless': 7765,\n",
       " 'lassie': 36384,\n",
       " 'clone': 11948,\n",
       " 'basic': 5143,\n",
       " 'cat': 10005,\n",
       " 'happily': 28061,\n",
       " 'seaver': 56945,\n",
       " 'family': 21975,\n",
       " 'husband': 30511,\n",
       " 'children': 11076,\n",
       " 'temporarily': 63979,\n",
       " 'move': 43023,\n",
       " 'inner': 31973,\n",
       " 'san': 55792,\n",
       " 'francisco': 23979,\n",
       " 'animals': 2367,\n",
       " 'ranch': 52254,\n",
       " 'months': 42594,\n",
       " 'bond': 7254,\n",
       " 'strong': 61770,\n",
       " 'shadow': 57622,\n",
       " 'golden': 26239,\n",
       " 'retriever': 53856,\n",
       " 'sassy': 56029,\n",
       " 'himalayan': 29298,\n",
       " 'heartbroken': 28583,\n",
       " 'happy': 28065,\n",
       " 'lucky': 38281,\n",
       " 'bulldog': 8596,\n",
       " 'concern': 12841,\n",
       " 'cynical': 14986,\n",
       " 'due': 18812,\n",
       " 'voice': 69750,\n",
       " 'explain': 21485,\n",
       " 'abandon': 57,\n",
       " 'pup': 51447,\n",
       " 'pick': 48856,\n",
       " 'animal': 2363,\n",
       " 'shelter': 57912,\n",
       " 'growth': 27125,\n",
       " 'storytelling': 61528,\n",
       " 'pet': 48478,\n",
       " 'wide': 70988,\n",
       " 'wilderness': 71064,\n",
       " 'fantastic': 22046,\n",
       " 'settings': 57490,\n",
       " 'instincts': 32154,\n",
       " 'peril': 48266,\n",
       " 'hop': 29903,\n",
       " 'host': 30075,\n",
       " 'disappearance': 17328,\n",
       " 'funny': 24548,\n",
       " 'moments': 42375,\n",
       " 'dialogue': 16884,\n",
       " 'hilarious': 29252,\n",
       " 'memorable': 40899,\n",
       " 'quote': 51905,\n",
       " 'comradeship': 12799,\n",
       " 'punctuate': 51413,\n",
       " 'sadness': 55515,\n",
       " 'arrogance': 3310,\n",
       " 'river': 54405,\n",
       " 'wet': 70690,\n",
       " 'cause': 10149,\n",
       " 'fall': 21915,\n",
       " 'wash': 70250,\n",
       " 'waterfall': 70319,\n",
       " 'leave': 36683,\n",
       " 'moment': 42370,\n",
       " 'loss': 38028,\n",
       " 'deeply': 15817,\n",
       " 'viewers': 69380,\n",
       " 'fail': 21846,\n",
       " 'inclusion': 31419,\n",
       " 'save': 56147,\n",
       " 'lose': 38023,\n",
       " 'add': 594,\n",
       " 'unnecessary': 67916,\n",
       " 'crank': 14134,\n",
       " 'stake': 60859,\n",
       " 'higher': 29196,\n",
       " 'pit': 49137,\n",
       " 'trainyard': 65694,\n",
       " 'hurt': 30507,\n",
       " 'leg': 36766,\n",
       " 'exhaust': 21369,\n",
       " 'climb': 11892,\n",
       " 'persuade': 48405,\n",
       " 'push': 51539,\n",
       " 'throw': 64680,\n",
       " 'easily': 19245,\n",
       " 'brilliantly': 8110,\n",
       " 'conclude': 12863,\n",
       " 'ambiguity': 1900,\n",
       " 'carry': 9835,\n",
       " 'final': 22884,\n",
       " 'return': 53871,\n",
       " 'slowly': 59291,\n",
       " 'reunite': 53882,\n",
       " 'conclusion': 12864,\n",
       " 'develop': 16726,\n",
       " 'fellows': 22466,\n",
       " 'realisation': 52603,\n",
       " 'fine': 22908,\n",
       " 'epilogue': 20588,\n",
       " 'demonstrate': 16220,\n",
       " 'hang': 27991,\n",
       " 'cry': 14619,\n",
       " 'anyway': 2694,\n",
       " 'pretend': 50538,\n",
       " 'differences': 17028,\n",
       " 'lie': 37222,\n",
       " 'tot': 65467,\n",
       " 'suggest': 62200,\n",
       " 'avoid': 4189,\n",
       " 'review': 53938,\n",
       " 'ii': 30886,\n",
       " 'premise': 50416,\n",
       " 'worthwhile': 71741,\n",
       " 'clever': 11858,\n",
       " 'shame': 57705,\n",
       " 'christian': 11311,\n",
       " 'core': 13611,\n",
       " 'bible': 6211,\n",
       " 'belt': 5776,\n",
       " 'christians': 11317,\n",
       " 'message': 41148,\n",
       " 'wider': 70992,\n",
       " 'audience': 3921,\n",
       " 'subtle': 62062,\n",
       " 'dad': 15039,\n",
       " 'wave': 70368,\n",
       " 'ridiculous': 54171,\n",
       " 'poor': 49826,\n",
       " 'miss': 42017,\n",
       " 'terrify': 64156,\n",
       " 'clothe': 11971,\n",
       " 'grind': 26982,\n",
       " 'remind': 53340,\n",
       " 'ed': 19382,\n",
       " 'wood': 71553,\n",
       " 'god': 26133,\n",
       " 'stupid': 61875,\n",
       " 'relative': 53239,\n",
       " 'scream': 56746,\n",
       " 'disappear': 17327,\n",
       " 'denial': 16261,\n",
       " 'jump': 33975,\n",
       " 'jodie': 33648,\n",
       " 'foster': 23855,\n",
       " 'flightplan': 23311,\n",
       " 'favorite': 22288,\n",
       " 'sit': 58858,\n",
       " 'lawn': 36559,\n",
       " 'pile': 48973,\n",
       " 'boot': 7395,\n",
       " 'fell': 22452,\n",
       " 'couch': 13858,\n",
       " 'distract': 17711,\n",
       " 'composer': 12746,\n",
       " 'thriller': 64659,\n",
       " 'action': 503,\n",
       " 'jam': 33097,\n",
       " 'covell': 13995,\n",
       " 'support': 62529,\n",
       " 'screen': 56760,\n",
       " 'need': 44146,\n",
       " 'bland': 6650,\n",
       " 'captain': 9545,\n",
       " 'kirk': 35091,\n",
       " 'cameron': 9274,\n",
       " 'chelsea': 10885,\n",
       " 'worse': 71722,\n",
       " 'brad': 7724,\n",
       " 'johnson': 33692,\n",
       " 'christ': 11304,\n",
       " 'sorry': 60041,\n",
       " 'answer': 2508,\n",
       " 'question': 51796,\n",
       " 'producers': 50790,\n",
       " 'filmmakers': 22851,\n",
       " 'delude': 16127,\n",
       " 'gon': 26308,\n",
       " 'na': 43610,\n",
       " 'reach': 52561,\n",
       " 'audiences': 3923,\n",
       " 'hollywood': 29659,\n",
       " 'heck': 28647,\n",
       " 'commend': 12535,\n",
       " 'effort': 19536,\n",
       " 'awake': 4214,\n",
       " 'sign': 58543,\n",
       " 'contact': 13263,\n",
       " 'passion': 47629,\n",
       " 'brother': 8298,\n",
       " 'bottom': 7553,\n",
       " 'vision': 69621,\n",
       " 'unfortunately': 67622,\n",
       " 'damn': 15184,\n",
       " 'episode': 20597,\n",
       " 'receive': 52726,\n",
       " 'camera': 9261,\n",
       " 'splendid': 60525,\n",
       " 'atmosphere': 3794,\n",
       " 'costume': 13833,\n",
       " 'guest': 27256,\n",
       " 'minus': 41822,\n",
       " 'helpless': 28830,\n",
       " 'victims': 69294,\n",
       " 'unexplained': 67549,\n",
       " 'alien': 1541,\n",
       " 'mythology': 43605,\n",
       " 'hole': 29608,\n",
       " 'bother': 7537,\n",
       " 'still': 61342,\n",
       " 'ruin': 55209,\n",
       " 'entertainment': 20458,\n",
       " 'president': 50495,\n",
       " 'consider': 13156,\n",
       " 'issue': 32847,\n",
       " 'sort': 60042,\n",
       " 'recommend': 52798,\n",
       " 'widely': 70990,\n",
       " 'raise': 52142,\n",
       " 'curious': 14810,\n",
       " 'mistreat': 42067,\n",
       " 'plan': 49238,\n",
       " 'visit': 69628,\n",
       " 'lena': 36899,\n",
       " 'pioneer': 49081,\n",
       " 'modern': 42233,\n",
       " 'riot': 54316,\n",
       " 'grrl': 27129,\n",
       " 'confusion': 13006,\n",
       " 'wit': 71359,\n",
       " 'attribute': 3882,\n",
       " 'occasionally': 45613,\n",
       " 'angry': 2342,\n",
       " 'fest': 22608,\n",
       " 'build': 8555,\n",
       " 'suspense': 62683,\n",
       " 'manage': 39268,\n",
       " 'maintain': 39018,\n",
       " 'impressive': 31248,\n",
       " 'achievement': 413,\n",
       " 'solid': 59812,\n",
       " 'situation': 58875,\n",
       " 'directors': 17278,\n",
       " 'pull': 51370,\n",
       " 'admirably': 703,\n",
       " 'excellent': 21265,\n",
       " 'prefer': 50367,\n",
       " 'development': 16730,\n",
       " 'accidentally': 327,\n",
       " 'kill': 34937,\n",
       " 'cover': 13999,\n",
       " 'crime': 14336,\n",
       " 'deal': 15571,\n",
       " ...}"
      ]
     },
     "execution_count": 31,
     "metadata": {},
     "output_type": "execute_result"
    }
   ],
   "source": [
    "Vocabulary = CountVectorizer_.vocabulary_\n",
    "Vocabulary"
   ]
  },
  {
   "cell_type": "markdown",
   "metadata": {},
   "source": [
    "# Machine Learning"
   ]
  },
  {
   "cell_type": "markdown",
   "metadata": {},
   "source": [
    "**1-Naive Bayes**"
   ]
  },
  {
   "cell_type": "code",
   "execution_count": 32,
   "metadata": {},
   "outputs": [
    {
     "data": {
      "image/png": "[encoded data removed]",
      "text/plain": [
       "<Figure size 640x480 with 1 Axes>"
      ]
     },
     "metadata": {},
     "output_type": "display_data"
    }
   ],
   "source": [
    "Algorithm = MultinomialNB(alpha= 1)\n",
    "Naive_Bayes = machine_learning_model(algorithm=Algorithm)\n",
    "fit_model(model=Naive_Bayes, X_train=X_train_CV_, y_train=y_train)\n",
    "confusion_matrix_(model=Naive_Bayes, X_test=X_test_CV_, y_test=y_test, name='Naive Bayes')"
   ]
  },
  {
   "cell_type": "code",
   "execution_count": 33,
   "metadata": {},
   "outputs": [
    {
     "data": {
      "text/html": [
       "<div>\n",
       "<style scoped>\n",
       "    .dataframe tbody tr th:only-of-type {\n",
       "        vertical-align: middle;\n",
       "    }\n",
       "\n",
       "    .dataframe tbody tr th {\n",
       "        vertical-align: top;\n",
       "    }\n",
       "\n",
       "    .dataframe thead th {\n",
       "        text-align: right;\n",
       "    }\n",
       "</style>\n",
       "<table border=\"1\" class=\"dataframe\">\n",
       "  <thead>\n",
       "    <tr style=\"text-align: right;\">\n",
       "      <th></th>\n",
       "      <th>Values</th>\n",
       "    </tr>\n",
       "  </thead>\n",
       "  <tbody>\n",
       "    <tr>\n",
       "      <th>Accuracy</th>\n",
       "      <td>0.853467</td>\n",
       "    </tr>\n",
       "    <tr>\n",
       "      <th>Precision</th>\n",
       "      <td>0.868502</td>\n",
       "    </tr>\n",
       "    <tr>\n",
       "      <th>Recall</th>\n",
       "      <td>0.833067</td>\n",
       "    </tr>\n",
       "    <tr>\n",
       "      <th>F1Score</th>\n",
       "      <td>0.850415</td>\n",
       "    </tr>\n",
       "    <tr>\n",
       "      <th>Error</th>\n",
       "      <td>0.146533</td>\n",
       "    </tr>\n",
       "  </tbody>\n",
       "</table>\n",
       "</div>"
      ],
      "text/plain": [
       "             Values\n",
       "Accuracy   0.853467\n",
       "Precision  0.868502\n",
       "Recall     0.833067\n",
       "F1Score    0.850415\n",
       "Error      0.146533"
      ]
     },
     "execution_count": 33,
     "metadata": {},
     "output_type": "execute_result"
    }
   ],
   "source": [
    "metrics_values(model= Naive_Bayes, X_test=X_test_CV_, y_test=y_test)"
   ]
  },
  {
   "cell_type": "markdown",
   "metadata": {},
   "source": [
    "**2-Logistic Regression**"
   ]
  },
  {
   "cell_type": "code",
   "execution_count": 34,
   "metadata": {},
   "outputs": [
    {
     "data": {
      "image/png": "[encoded data removed]",
      "text/plain": [
       "<Figure size 640x480 with 1 Axes>"
      ]
     },
     "metadata": {},
     "output_type": "display_data"
    }
   ],
   "source": [
    "Algorithm = LogisticRegression()\n",
    "Logistic_Regression = machine_learning_model(algorithm=Algorithm)\n",
    "fit_model(model=Logistic_Regression, X_train=X_train_CV_, y_train=y_train)\n",
    "confusion_matrix_(Logistic_Regression, X_test=X_test_CV_, y_test=y_test, name='Logistic Regression')"
   ]
  },
  {
   "cell_type": "code",
   "execution_count": 35,
   "metadata": {},
   "outputs": [
    {
     "data": {
      "text/html": [
       "<div>\n",
       "<style scoped>\n",
       "    .dataframe tbody tr th:only-of-type {\n",
       "        vertical-align: middle;\n",
       "    }\n",
       "\n",
       "    .dataframe tbody tr th {\n",
       "        vertical-align: top;\n",
       "    }\n",
       "\n",
       "    .dataframe thead th {\n",
       "        text-align: right;\n",
       "    }\n",
       "</style>\n",
       "<table border=\"1\" class=\"dataframe\">\n",
       "  <thead>\n",
       "    <tr style=\"text-align: right;\">\n",
       "      <th></th>\n",
       "      <th>Values</th>\n",
       "    </tr>\n",
       "  </thead>\n",
       "  <tbody>\n",
       "    <tr>\n",
       "      <th>Accuracy</th>\n",
       "      <td>0.881133</td>\n",
       "    </tr>\n",
       "    <tr>\n",
       "      <th>Precision</th>\n",
       "      <td>0.873611</td>\n",
       "    </tr>\n",
       "    <tr>\n",
       "      <th>Recall</th>\n",
       "      <td>0.891200</td>\n",
       "    </tr>\n",
       "    <tr>\n",
       "      <th>F1Score</th>\n",
       "      <td>0.882318</td>\n",
       "    </tr>\n",
       "    <tr>\n",
       "      <th>Error</th>\n",
       "      <td>0.118867</td>\n",
       "    </tr>\n",
       "  </tbody>\n",
       "</table>\n",
       "</div>"
      ],
      "text/plain": [
       "             Values\n",
       "Accuracy   0.881133\n",
       "Precision  0.873611\n",
       "Recall     0.891200\n",
       "F1Score    0.882318\n",
       "Error      0.118867"
      ]
     },
     "execution_count": 35,
     "metadata": {},
     "output_type": "execute_result"
    }
   ],
   "source": [
    "metrics_values(model= Logistic_Regression, X_test=X_test_CV_, y_test=y_test)"
   ]
  },
  {
   "cell_type": "markdown",
   "metadata": {},
   "source": [
    "**3-Decision Tree**"
   ]
  },
  {
   "cell_type": "code",
   "execution_count": 36,
   "metadata": {},
   "outputs": [
    {
     "data": {
      "image/png": "[encoded data removed]",
      "text/plain": [
       "<Figure size 640x480 with 1 Axes>"
      ]
     },
     "metadata": {},
     "output_type": "display_data"
    }
   ],
   "source": [
    "Algorithm = DecisionTreeClassifier(criterion='entropy')\n",
    "Decision_Tree = machine_learning_model(algorithm=Algorithm)\n",
    "fit_model(model=Decision_Tree, X_train=X_train_CV_, y_train=y_train)\n",
    "confusion_matrix_(model=Decision_Tree, X_test=X_test_CV_, y_test=y_test, name='Decision Tree')"
   ]
  },
  {
   "cell_type": "code",
   "execution_count": 37,
   "metadata": {},
   "outputs": [
    {
     "data": {
      "text/html": [
       "<div>\n",
       "<style scoped>\n",
       "    .dataframe tbody tr th:only-of-type {\n",
       "        vertical-align: middle;\n",
       "    }\n",
       "\n",
       "    .dataframe tbody tr th {\n",
       "        vertical-align: top;\n",
       "    }\n",
       "\n",
       "    .dataframe thead th {\n",
       "        text-align: right;\n",
       "    }\n",
       "</style>\n",
       "<table border=\"1\" class=\"dataframe\">\n",
       "  <thead>\n",
       "    <tr style=\"text-align: right;\">\n",
       "      <th></th>\n",
       "      <th>Values</th>\n",
       "    </tr>\n",
       "  </thead>\n",
       "  <tbody>\n",
       "    <tr>\n",
       "      <th>Accuracy</th>\n",
       "      <td>0.722733</td>\n",
       "    </tr>\n",
       "    <tr>\n",
       "      <th>Precision</th>\n",
       "      <td>0.722882</td>\n",
       "    </tr>\n",
       "    <tr>\n",
       "      <th>Recall</th>\n",
       "      <td>0.722400</td>\n",
       "    </tr>\n",
       "    <tr>\n",
       "      <th>F1Score</th>\n",
       "      <td>0.722641</td>\n",
       "    </tr>\n",
       "    <tr>\n",
       "      <th>Error</th>\n",
       "      <td>0.277267</td>\n",
       "    </tr>\n",
       "  </tbody>\n",
       "</table>\n",
       "</div>"
      ],
      "text/plain": [
       "             Values\n",
       "Accuracy   0.722733\n",
       "Precision  0.722882\n",
       "Recall     0.722400\n",
       "F1Score    0.722641\n",
       "Error      0.277267"
      ]
     },
     "execution_count": 37,
     "metadata": {},
     "output_type": "execute_result"
    }
   ],
   "source": [
    "metrics_values(model= Decision_Tree, X_test=X_test_CV_, y_test=y_test)"
   ]
  },
  {
   "cell_type": "markdown",
   "metadata": {},
   "source": [
    "**4-K Nearest Neighbors**"
   ]
  },
  {
   "cell_type": "code",
   "execution_count": 38,
   "metadata": {},
   "outputs": [
    {
     "data": {
      "image/png": "[encoded data removed]",
      "text/plain": [
       "<Figure size 640x480 with 1 Axes>"
      ]
     },
     "metadata": {},
     "output_type": "display_data"
    }
   ],
   "source": [
    "Algorithm =KNeighborsClassifier(metric='manhattan', n_neighbors=5)\n",
    "K_Nearest_Neighbors = machine_learning_model(algorithm=Algorithm)\n",
    "fit_model(model=K_Nearest_Neighbors, X_train=X_train_CV_, y_train=y_train)\n",
    "confusion_matrix_(model=K_Nearest_Neighbors, X_test=X_test_CV_, y_test=y_test, name='K Nearest Neighbors')"
   ]
  },
  {
   "cell_type": "code",
   "execution_count": 39,
   "metadata": {},
   "outputs": [
    {
     "data": {
      "text/html": [
       "<div>\n",
       "<style scoped>\n",
       "    .dataframe tbody tr th:only-of-type {\n",
       "        vertical-align: middle;\n",
       "    }\n",
       "\n",
       "    .dataframe tbody tr th {\n",
       "        vertical-align: top;\n",
       "    }\n",
       "\n",
       "    .dataframe thead th {\n",
       "        text-align: right;\n",
       "    }\n",
       "</style>\n",
       "<table border=\"1\" class=\"dataframe\">\n",
       "  <thead>\n",
       "    <tr style=\"text-align: right;\">\n",
       "      <th></th>\n",
       "      <th>Values</th>\n",
       "    </tr>\n",
       "  </thead>\n",
       "  <tbody>\n",
       "    <tr>\n",
       "      <th>Accuracy</th>\n",
       "      <td>0.575733</td>\n",
       "    </tr>\n",
       "    <tr>\n",
       "      <th>Precision</th>\n",
       "      <td>0.600602</td>\n",
       "    </tr>\n",
       "    <tr>\n",
       "      <th>Recall</th>\n",
       "      <td>0.452133</td>\n",
       "    </tr>\n",
       "    <tr>\n",
       "      <th>F1Score</th>\n",
       "      <td>0.515898</td>\n",
       "    </tr>\n",
       "    <tr>\n",
       "      <th>Error</th>\n",
       "      <td>0.424267</td>\n",
       "    </tr>\n",
       "  </tbody>\n",
       "</table>\n",
       "</div>"
      ],
      "text/plain": [
       "             Values\n",
       "Accuracy   0.575733\n",
       "Precision  0.600602\n",
       "Recall     0.452133\n",
       "F1Score    0.515898\n",
       "Error      0.424267"
      ]
     },
     "execution_count": 39,
     "metadata": {},
     "output_type": "execute_result"
    }
   ],
   "source": [
    "metrics_values(model= K_Nearest_Neighbors, X_test=X_test_CV_, y_test=y_test)"
   ]
  },
  {
   "cell_type": "markdown",
   "metadata": {},
   "source": [
    "**5-Random Forest**"
   ]
  },
  {
   "cell_type": "code",
   "execution_count": 40,
   "metadata": {},
   "outputs": [
    {
     "data": {
      "image/png": "[encoded data removed]",
      "text/plain": [
       "<Figure size 640x480 with 1 Axes>"
      ]
     },
     "metadata": {},
     "output_type": "display_data"
    }
   ],
   "source": [
    "Algorithm = RandomForestClassifier(criterion = 'gini', n_estimators=100)\n",
    "Random_Forest = machine_learning_model(algorithm=Algorithm)\n",
    "fit_model(model=Random_Forest, X_train=X_train_CV_, y_train=y_train)\n",
    "confusion_matrix_(model=Random_Forest, X_test=X_test_CV_, y_test=y_test, name='Random Forest')"
   ]
  },
  {
   "cell_type": "code",
   "execution_count": 41,
   "metadata": {},
   "outputs": [
    {
     "data": {
      "text/html": [
       "<div>\n",
       "<style scoped>\n",
       "    .dataframe tbody tr th:only-of-type {\n",
       "        vertical-align: middle;\n",
       "    }\n",
       "\n",
       "    .dataframe tbody tr th {\n",
       "        vertical-align: top;\n",
       "    }\n",
       "\n",
       "    .dataframe thead th {\n",
       "        text-align: right;\n",
       "    }\n",
       "</style>\n",
       "<table border=\"1\" class=\"dataframe\">\n",
       "  <thead>\n",
       "    <tr style=\"text-align: right;\">\n",
       "      <th></th>\n",
       "      <th>Values</th>\n",
       "    </tr>\n",
       "  </thead>\n",
       "  <tbody>\n",
       "    <tr>\n",
       "      <th>Accuracy</th>\n",
       "      <td>0.856867</td>\n",
       "    </tr>\n",
       "    <tr>\n",
       "      <th>Precision</th>\n",
       "      <td>0.855303</td>\n",
       "    </tr>\n",
       "    <tr>\n",
       "      <th>Recall</th>\n",
       "      <td>0.859067</td>\n",
       "    </tr>\n",
       "    <tr>\n",
       "      <th>F1Score</th>\n",
       "      <td>0.857181</td>\n",
       "    </tr>\n",
       "    <tr>\n",
       "      <th>Error</th>\n",
       "      <td>0.143133</td>\n",
       "    </tr>\n",
       "  </tbody>\n",
       "</table>\n",
       "</div>"
      ],
      "text/plain": [
       "             Values\n",
       "Accuracy   0.856867\n",
       "Precision  0.855303\n",
       "Recall     0.859067\n",
       "F1Score    0.857181\n",
       "Error      0.143133"
      ]
     },
     "execution_count": 41,
     "metadata": {},
     "output_type": "execute_result"
    }
   ],
   "source": [
    "metrics_values(model= Random_Forest, X_test=X_test_CV_, y_test=y_test)"
   ]
  },
  {
   "cell_type": "markdown",
   "metadata": {},
   "source": [
    "**6-SGD Classifier**"
   ]
  },
  {
   "cell_type": "code",
   "execution_count": 42,
   "metadata": {},
   "outputs": [
    {
     "data": {
      "image/png": "[encoded data removed]",
      "text/plain": [
       "<Figure size 640x480 with 1 Axes>"
      ]
     },
     "metadata": {},
     "output_type": "display_data"
    }
   ],
   "source": [
    "Algorithm = SGDClassifier(loss='hinge')\n",
    "SGD = machine_learning_model(algorithm=Algorithm)\n",
    "fit_model(model=SGD, X_train=X_train_CV_, y_train=y_train)\n",
    "confusion_matrix_(model=SGD, X_test=X_test_CV_, y_test=y_test, name='SGD Classifier')"
   ]
  },
  {
   "cell_type": "code",
   "execution_count": 43,
   "metadata": {},
   "outputs": [
    {
     "data": {
      "text/html": [
       "<div>\n",
       "<style scoped>\n",
       "    .dataframe tbody tr th:only-of-type {\n",
       "        vertical-align: middle;\n",
       "    }\n",
       "\n",
       "    .dataframe tbody tr th {\n",
       "        vertical-align: top;\n",
       "    }\n",
       "\n",
       "    .dataframe thead th {\n",
       "        text-align: right;\n",
       "    }\n",
       "</style>\n",
       "<table border=\"1\" class=\"dataframe\">\n",
       "  <thead>\n",
       "    <tr style=\"text-align: right;\">\n",
       "      <th></th>\n",
       "      <th>Values</th>\n",
       "    </tr>\n",
       "  </thead>\n",
       "  <tbody>\n",
       "    <tr>\n",
       "      <th>Accuracy</th>\n",
       "      <td>0.874467</td>\n",
       "    </tr>\n",
       "    <tr>\n",
       "      <th>Precision</th>\n",
       "      <td>0.874517</td>\n",
       "    </tr>\n",
       "    <tr>\n",
       "      <th>Recall</th>\n",
       "      <td>0.874400</td>\n",
       "    </tr>\n",
       "    <tr>\n",
       "      <th>F1Score</th>\n",
       "      <td>0.874458</td>\n",
       "    </tr>\n",
       "    <tr>\n",
       "      <th>Error</th>\n",
       "      <td>0.125533</td>\n",
       "    </tr>\n",
       "  </tbody>\n",
       "</table>\n",
       "</div>"
      ],
      "text/plain": [
       "             Values\n",
       "Accuracy   0.874467\n",
       "Precision  0.874517\n",
       "Recall     0.874400\n",
       "F1Score    0.874458\n",
       "Error      0.125533"
      ]
     },
     "execution_count": 43,
     "metadata": {},
     "output_type": "execute_result"
    }
   ],
   "source": [
    "metrics_values(model= SGD, X_test=X_test_CV_, y_test=y_test)"
   ]
  },
  {
   "cell_type": "markdown",
   "metadata": {},
   "source": [
    "**7-Multilayer Perceptron**"
   ]
  },
  {
   "cell_type": "code",
   "execution_count": 44,
   "metadata": {},
   "outputs": [
    {
     "data": {
      "image/png": "[encoded data removed]",
      "text/plain": [
       "<Figure size 640x480 with 1 Axes>"
      ]
     },
     "metadata": {},
     "output_type": "display_data"
    }
   ],
   "source": [
    "Algorithm = MLPClassifier(hidden_layer_sizes=16)\n",
    "MLP = machine_learning_model(algorithm=Algorithm)\n",
    "fit_model(model=MLP, X_train=X_train_CV_, y_train=y_train)\n",
    "confusion_matrix_(model=MLP, X_test=X_test_CV_, y_test=y_test, name='Multilayer Perceptron')"
   ]
  },
  {
   "cell_type": "code",
   "execution_count": 45,
   "metadata": {},
   "outputs": [
    {
     "data": {
      "text/html": [
       "<div>\n",
       "<style scoped>\n",
       "    .dataframe tbody tr th:only-of-type {\n",
       "        vertical-align: middle;\n",
       "    }\n",
       "\n",
       "    .dataframe tbody tr th {\n",
       "        vertical-align: top;\n",
       "    }\n",
       "\n",
       "    .dataframe thead th {\n",
       "        text-align: right;\n",
       "    }\n",
       "</style>\n",
       "<table border=\"1\" class=\"dataframe\">\n",
       "  <thead>\n",
       "    <tr style=\"text-align: right;\">\n",
       "      <th></th>\n",
       "      <th>Values</th>\n",
       "    </tr>\n",
       "  </thead>\n",
       "  <tbody>\n",
       "    <tr>\n",
       "      <th>Accuracy</th>\n",
       "      <td>0.863800</td>\n",
       "    </tr>\n",
       "    <tr>\n",
       "      <th>Precision</th>\n",
       "      <td>0.861056</td>\n",
       "    </tr>\n",
       "    <tr>\n",
       "      <th>Recall</th>\n",
       "      <td>0.867600</td>\n",
       "    </tr>\n",
       "    <tr>\n",
       "      <th>F1Score</th>\n",
       "      <td>0.864316</td>\n",
       "    </tr>\n",
       "    <tr>\n",
       "      <th>Error</th>\n",
       "      <td>0.136200</td>\n",
       "    </tr>\n",
       "  </tbody>\n",
       "</table>\n",
       "</div>"
      ],
      "text/plain": [
       "             Values\n",
       "Accuracy   0.863800\n",
       "Precision  0.861056\n",
       "Recall     0.867600\n",
       "F1Score    0.864316\n",
       "Error      0.136200"
      ]
     },
     "execution_count": 45,
     "metadata": {},
     "output_type": "execute_result"
    }
   ],
   "source": [
    "metrics_values(model= MLP, X_test=X_test_CV_, y_test=y_test)"
   ]
  },
  {
   "cell_type": "markdown",
   "metadata": {},
   "source": [
    "# Deep Learning"
   ]
  },
  {
   "cell_type": "code",
   "execution_count": 46,
   "metadata": {},
   "outputs": [
    {
     "data": {
      "text/plain": [
       "72930"
      ]
     },
     "execution_count": 46,
     "metadata": {},
     "output_type": "execute_result"
    }
   ],
   "source": [
    "tokenizer = Tokenizer(oov_token='<oov>')\n",
    "tokenizer.fit_on_texts(X_train)\n",
    "embedding_dim = 16\n",
    "vocab_size = len(tokenizer.word_index)\n",
    "vocab_size"
   ]
  },
  {
   "cell_type": "code",
   "execution_count": 47,
   "metadata": {},
   "outputs": [
    {
     "data": {
      "text/plain": [
       "1004"
      ]
     },
     "execution_count": 47,
     "metadata": {},
     "output_type": "execute_result"
    }
   ],
   "source": [
    "X_train_seqs = tokenizer.texts_to_sequences(X_train)\n",
    "X_test_seqs = tokenizer.texts_to_sequences(X_test)\n",
    "max_length =  max([len(x) for x in X_train_seqs])\n",
    "max_length"
   ]
  },
  {
   "cell_type": "code",
   "execution_count": 48,
   "metadata": {},
   "outputs": [],
   "source": [
    "encoded_X_train = pad_sequences(X_train_seqs, maxlen=max_length, padding='pre', truncating='pre')\n",
    "encoded_X_test = pad_sequences(X_test_seqs, maxlen=max_length, padding='pre', truncating='pre')"
   ]
  },
  {
   "cell_type": "code",
   "execution_count": 49,
   "metadata": {},
   "outputs": [],
   "source": [
    "Callback = tf.keras.callbacks.EarlyStopping(\n",
    "                    monitor=\"accuracy\",\n",
    "                    mode=\"max\",\n",
    "                    patience=0\n",
    "                )"
   ]
  },
  {
   "cell_type": "markdown",
   "metadata": {},
   "source": [
    "**8-Convolutional Neural Network**"
   ]
  },
  {
   "cell_type": "code",
   "execution_count": 50,
   "metadata": {},
   "outputs": [
    {
     "name": "stdout",
     "output_type": "stream",
     "text": [
      "Epoch 1/20\n",
      "1094/1094 [==============================] - 317s 285ms/step - loss: 0.5743 - accuracy: 0.7055 - val_loss: 0.4061 - val_accuracy: 0.8611\n",
      "Epoch 2/20\n",
      "1094/1094 [==============================] - 174s 159ms/step - loss: 0.3890 - accuracy: 0.8497 - val_loss: 0.3324 - val_accuracy: 0.8750\n",
      "Epoch 3/20\n",
      "1094/1094 [==============================] - 99s 90ms/step - loss: 0.3259 - accuracy: 0.8750 - val_loss: 0.3046 - val_accuracy: 0.8807\n",
      "Epoch 4/20\n",
      "1094/1094 [==============================] - 78s 71ms/step - loss: 0.2817 - accuracy: 0.8966 - val_loss: 0.2919 - val_accuracy: 0.8802\n",
      "Epoch 5/20\n",
      "1094/1094 [==============================] - 72s 65ms/step - loss: 0.2555 - accuracy: 0.9074 - val_loss: 0.2888 - val_accuracy: 0.8860\n",
      "Epoch 6/20\n",
      "1094/1094 [==============================] - 75s 68ms/step - loss: 0.2312 - accuracy: 0.9177 - val_loss: 0.2873 - val_accuracy: 0.8815\n",
      "Epoch 7/20\n",
      "1094/1094 [==============================] - 72s 66ms/step - loss: 0.2158 - accuracy: 0.9229 - val_loss: 0.2912 - val_accuracy: 0.8818\n",
      "Epoch 8/20\n",
      "1094/1094 [==============================] - 72s 65ms/step - loss: 0.1983 - accuracy: 0.9317 - val_loss: 0.2945 - val_accuracy: 0.8811\n",
      "Epoch 9/20\n",
      "1094/1094 [==============================] - 66s 61ms/step - loss: 0.1844 - accuracy: 0.9355 - val_loss: 0.3015 - val_accuracy: 0.8765\n",
      "Epoch 10/20\n",
      "1094/1094 [==============================] - 62s 57ms/step - loss: 0.1739 - accuracy: 0.9407 - val_loss: 0.3110 - val_accuracy: 0.8791\n",
      "Epoch 11/20\n",
      "1094/1094 [==============================] - 70s 64ms/step - loss: 0.1645 - accuracy: 0.9443 - val_loss: 0.3102 - val_accuracy: 0.8769\n",
      "Epoch 12/20\n",
      "1094/1094 [==============================] - 55s 50ms/step - loss: 0.1539 - accuracy: 0.9471 - val_loss: 0.3288 - val_accuracy: 0.8717\n",
      "Epoch 13/20\n",
      "1094/1094 [==============================] - 40s 36ms/step - loss: 0.1455 - accuracy: 0.9508 - val_loss: 0.3383 - val_accuracy: 0.8699\n",
      "Epoch 14/20\n",
      "1094/1094 [==============================] - 46s 42ms/step - loss: 0.1397 - accuracy: 0.9533 - val_loss: 0.3471 - val_accuracy: 0.8719\n",
      "Epoch 15/20\n",
      "1094/1094 [==============================] - 53s 48ms/step - loss: 0.1325 - accuracy: 0.9552 - val_loss: 0.3593 - val_accuracy: 0.8714\n",
      "Epoch 16/20\n",
      "1094/1094 [==============================] - 61s 55ms/step - loss: 0.1243 - accuracy: 0.9584 - val_loss: 0.3693 - val_accuracy: 0.8717\n",
      "Epoch 17/20\n",
      "1094/1094 [==============================] - 59s 54ms/step - loss: 0.1191 - accuracy: 0.9602 - val_loss: 0.3821 - val_accuracy: 0.8695\n",
      "Epoch 18/20\n",
      "1094/1094 [==============================] - 62s 57ms/step - loss: 0.1139 - accuracy: 0.9626 - val_loss: 0.3929 - val_accuracy: 0.8685\n",
      "Epoch 19/20\n",
      "1094/1094 [==============================] - 69s 63ms/step - loss: 0.1120 - accuracy: 0.9627 - val_loss: 0.4003 - val_accuracy: 0.8672\n",
      "Epoch 20/20\n",
      "1094/1094 [==============================] - 78s 72ms/step - loss: 0.1106 - accuracy: 0.9635 - val_loss: 0.4076 - val_accuracy: 0.8661\n"
     ]
    },
    {
     "data": {
      "image/png": "[encoded data removed]",
      "text/plain": [
       "<Figure size 640x480 with 1 Axes>"
      ]
     },
     "metadata": {},
     "output_type": "display_data"
    },
    {
     "name": "stdout",
     "output_type": "stream",
     "text": [
      " \n",
      "The Training Loss is 0.0332, And Training Accuracy is 0.9932\n",
      " \n",
      "The Testing Loss is 0.4076, And Testing Accuracy is 0.8661\n"
     ]
    }
   ],
   "source": [
    "convolutional_neural_network = convolutional_neural_network_1d(vocab_size=vocab_size, embedding_dim=embedding_dim, max_length=max_length, dropout=0.8, kernel=8, filters=32)\n",
    "model_compile(model=convolutional_neural_network)\n",
    "history = model_fit(model=convolutional_neural_network, X_train=encoded_X_train, y_train=y_train, epochs=20, X_test=encoded_X_test, y_test=y_test, batch_size=32, Callback=Callback)\n",
    "plot_accuracy_loss(histoty=history)\n",
    "evaluate(model=convolutional_neural_network, x=encoded_X_train, y=y_train, train_test='Training')\n",
    "evaluate(model=convolutional_neural_network, x=encoded_X_test, y=y_test, train_test='Testing')"
   ]
  },
  {
   "cell_type": "markdown",
   "metadata": {},
   "source": [
    "**9-LSTM**"
   ]
  },
  {
   "cell_type": "code",
   "execution_count": 51,
   "metadata": {},
   "outputs": [
    {
     "name": "stdout",
     "output_type": "stream",
     "text": [
      "Epoch 1/10\n",
      "1094/1094 [==============================] - 414s 365ms/step - loss: 0.3996 - accuracy: 0.8152 - val_loss: 0.3076 - val_accuracy: 0.8749\n",
      "Epoch 2/10\n",
      "1094/1094 [==============================] - 247s 226ms/step - loss: 0.2082 - accuracy: 0.9226 - val_loss: 0.3374 - val_accuracy: 0.8661\n",
      "Epoch 3/10\n",
      "1094/1094 [==============================] - 203s 186ms/step - loss: 0.1265 - accuracy: 0.9559 - val_loss: 0.3340 - val_accuracy: 0.8766\n",
      "Epoch 4/10\n",
      "1094/1094 [==============================] - 194s 178ms/step - loss: 0.0807 - accuracy: 0.9729 - val_loss: 0.4307 - val_accuracy: 0.8747\n",
      "Epoch 5/10\n",
      "1094/1094 [==============================] - 182s 166ms/step - loss: 0.0566 - accuracy: 0.9811 - val_loss: 0.5340 - val_accuracy: 0.8649\n",
      "Epoch 6/10\n",
      "1094/1094 [==============================] - 188s 171ms/step - loss: 0.0443 - accuracy: 0.9853 - val_loss: 0.5270 - val_accuracy: 0.8679\n",
      "Epoch 7/10\n",
      "1094/1094 [==============================] - 178s 163ms/step - loss: 0.0335 - accuracy: 0.9893 - val_loss: 0.5835 - val_accuracy: 0.8671\n",
      "Epoch 8/10\n",
      "1094/1094 [==============================] - 178s 162ms/step - loss: 0.0270 - accuracy: 0.9915 - val_loss: 0.6252 - val_accuracy: 0.8661\n",
      "Epoch 9/10\n",
      "1094/1094 [==============================] - 197s 180ms/step - loss: 0.0223 - accuracy: 0.9931 - val_loss: 0.7238 - val_accuracy: 0.8517\n",
      "Epoch 10/10\n",
      "1094/1094 [==============================] - 243s 222ms/step - loss: 0.0107 - accuracy: 0.9967 - val_loss: 0.6930 - val_accuracy: 0.8606\n"
     ]
    },
    {
     "data": {
      "image/png": "[encoded data removed]",
      "text/plain": [
       "<Figure size 640x480 with 1 Axes>"
      ]
     },
     "metadata": {},
     "output_type": "display_data"
    },
    {
     "name": "stdout",
     "output_type": "stream",
     "text": [
      " \n",
      "The Training Loss is 0.0058, And Training Accuracy is 0.9988\n",
      " \n",
      "The Testing Loss is 0.6930, And Testing Accuracy is 0.8606\n"
     ]
    }
   ],
   "source": [
    "LSTM = lstm_(vocab_size= vocab_size, embedding_dim= embedding_dim, max_length= max_length, dropout=0.2, units=128)\n",
    "model_compile(model=LSTM)\n",
    "history = model_fit(model=LSTM, X_train=encoded_X_train, y_train=y_train, epochs=10, X_test=encoded_X_test, y_test=y_test, batch_size=32, Callback=Callback)\n",
    "plot_accuracy_loss(histoty=history)\n",
    "evaluate(model=LSTM, x=encoded_X_train, y=y_train, train_test='Training')\n",
    "evaluate(model=LSTM, x=encoded_X_test,y= y_test, train_test='Testing')"
   ]
  }
 ],
 "metadata": {
  "kernelspec": {
   "display_name": "Python 3",
   "language": "python",
   "name": "python3"
  },
  "language_info": {
   "codemirror_mode": {
    "name": "ipython",
    "version": 3
   },
   "file_extension": ".py",
   "mimetype": "text/x-python",
   "name": "python",
   "nbconvert_exporter": "python",
   "pygments_lexer": "ipython3",
   "version": "3.11.6"
  },
  "orig_nbformat": 4
 },
 "nbformat": 4,
 "nbformat_minor": 2
}
