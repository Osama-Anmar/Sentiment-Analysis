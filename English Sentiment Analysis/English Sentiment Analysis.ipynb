{
 "cells": [
  {
   "cell_type": "markdown",
   "metadata": {},
   "source": [
    "# Import Libraries\n"
   ]
  },
  {
   "cell_type": "code",
   "execution_count": null,
   "metadata": {},
   "outputs": [],
   "source": [
    "import pandas as pd\n",
    "import numpy as np\n",
    "import os\n",
    "import nltk\n",
    "import tensorflow as tf\n",
    "from keras.layers import *\n",
    "from tensorflow import *\n",
    "from keras.preprocessing.sequence import pad_sequences\n",
    "from keras.preprocessing.text import Tokenizer\n",
    "from keras.preprocessing import *\n",
    "from nltk.tokenize import word_tokenize, sent_tokenize\n",
    "from sklearn.tree import DecisionTreeClassifier\n",
    "from sklearn.naive_bayes import MultinomialNB\n",
    "from sklearn.neighbors import KNeighborsClassifier\n",
    "from sklearn.linear_model import LogisticRegression\n",
    "from sklearn.ensemble import RandomForestClassifier\n",
    "from sklearn.svm import SVC\n",
    "from sklearn.neural_network import MLPClassifier\n",
    "from sklearn.linear_model import SGDClassifier\n",
    "from sklearn.model_selection import train_test_split\n",
    "from sklearn.feature_extraction.text import  CountVectorizer\n",
    "from sklearn.preprocessing import LabelEncoder\n",
    "import warnings\n",
    "import csv\n",
    "import random\n",
    "from gensim.models import Word2Vec\n",
    "from collections import Counter\n",
    "from utils.textnormalization import TextNormalization\n",
    "from utils.machinelearning import machine_learning_model, fit_model, metrics_values, confusion_matrix_\n",
    "from utils.deeplearning import convolutional_neural_network_1d, model_compile, model_fit, evaluate, plot_accuracy_loss, lstm_, gru_\n",
    "from utils.sentimentinformation import sentiment_percentage, sentiment_counts\n",
    "from utils.wordcloud import wordcloud\n",
    "from utils.most_frequent_word_plot import go_figure , bar_plot\n",
    "from utils.deeplearning_preprcosesing import  deeplearning_preprcosesing_\n",
    "from utils.word_2_vec import word_2_vec_\n",
    "import itertools\n",
    "pd.options.display.max_rows = 100\n",
    "pd.options.display.max_columns =None \n",
    "random.seed(40)\n",
    "tf.random.set_seed(40)"
   ]
  },
  {
   "cell_type": "markdown",
   "metadata": {},
   "source": [
    "# Download Some Packages"
   ]
  },
  {
   "cell_type": "code",
   "execution_count": null,
   "metadata": {},
   "outputs": [],
   "source": [
    "nltk.download('punkt')\n",
    "nltk.download('wordnet')\n",
    "nltk.download('stopwords')\n",
    "nltk.download('averaged_perceptron_tagger')"
   ]
  },
  {
   "cell_type": "markdown",
   "metadata": {},
   "source": [
    "# Ignore Warnings"
   ]
  },
  {
   "cell_type": "code",
   "execution_count": null,
   "metadata": {},
   "outputs": [],
   "source": [
    "os.environ['TF_CPP_MIN_LOG_LEVEL'] = '3'\n",
    "warnings.filterwarnings(action='ignore')"
   ]
  },
  {
   "cell_type": "markdown",
   "metadata": {},
   "source": [
    "# Read Data"
   ]
  },
  {
   "cell_type": "code",
   "execution_count": null,
   "metadata": {},
   "outputs": [],
   "source": [
    "Train = pd.read_csv('Yelp_Train.csv', header=None)\n",
    "Train.rename(columns={1: 'Review', 0: 'Sentiment'}, inplace=True)\n",
    "Train = Train.sample(frac=0.20, random_state=44, ignore_index=True)\n",
    "Train.head()"
   ]
  },
  {
   "cell_type": "code",
   "execution_count": null,
   "metadata": {},
   "outputs": [],
   "source": [
    "Test = pd.read_csv('Yelp_Test.csv', header=None)\n",
    "Test.rename(columns={1: 'Review', 0: 'Sentiment'}, inplace=True)\n",
    "Test.head()"
   ]
  },
  {
   "cell_type": "code",
   "execution_count": null,
   "metadata": {},
   "outputs": [],
   "source": [
    "Data1 = pd.read_csv('train.csv', header = None) \n",
    "Data2 = pd.read_csv('test.csv', header = None) \n",
    "Data = pd.concat([Data1, Data2], axis=0, ignore_index=True)\n",
    "Data = Data[[2]]\n",
    "Data.rename(columns={2: 'Review'}, inplace=True)\n",
    "Data.head()"
   ]
  },
  {
   "cell_type": "markdown",
   "metadata": {},
   "source": [
    "# Sentiment Information"
   ]
  },
  {
   "cell_type": "markdown",
   "metadata": {},
   "source": [
    "**1-Train Set**"
   ]
  },
  {
   "cell_type": "code",
   "execution_count": null,
   "metadata": {},
   "outputs": [],
   "source": [
    "sentiment_percentage(Train, 'Sentiment', (6, 6))"
   ]
  },
  {
   "cell_type": "code",
   "execution_count": null,
   "metadata": {},
   "outputs": [],
   "source": [
    "sentiment_counts(Train, 'Sentiment', (6, 6))"
   ]
  },
  {
   "cell_type": "markdown",
   "metadata": {},
   "source": [
    "**2-Test Set**"
   ]
  },
  {
   "cell_type": "code",
   "execution_count": null,
   "metadata": {},
   "outputs": [],
   "source": [
    "sentiment_percentage(Test, 'Sentiment', (6, 6))"
   ]
  },
  {
   "cell_type": "code",
   "execution_count": null,
   "metadata": {},
   "outputs": [],
   "source": [
    "sentiment_counts(Test, 'Sentiment', (6, 6))"
   ]
  },
  {
   "cell_type": "markdown",
   "metadata": {},
   "source": [
    "# Number Of Sentences"
   ]
  },
  {
   "cell_type": "markdown",
   "metadata": {},
   "source": [
    "**1-Train**"
   ]
  },
  {
   "cell_type": "code",
   "execution_count": null,
   "metadata": {},
   "outputs": [],
   "source": [
    "Train['NumberOfSentences'] = Train['Review'].apply(lambda n:len(sent_tokenize(n)))\n",
    "Train.drop(Train[Train[\"NumberOfSentences\"] == 0].index, inplace = True)\n"
   ]
  },
  {
   "cell_type": "code",
   "execution_count": null,
   "metadata": {},
   "outputs": [],
   "source": [
    "Train['NumberOfSentences'].sum()"
   ]
  },
  {
   "cell_type": "markdown",
   "metadata": {},
   "source": [
    "**2-Test**"
   ]
  },
  {
   "cell_type": "code",
   "execution_count": null,
   "metadata": {},
   "outputs": [],
   "source": [
    "Test['NumberOfSentences'] = Test['Review'].apply(lambda n:len(sent_tokenize(n)))\n",
    "Test.drop(Test[Test[\"NumberOfSentences\"] == 0].index, inplace = True)"
   ]
  },
  {
   "cell_type": "code",
   "execution_count": null,
   "metadata": {},
   "outputs": [],
   "source": [
    "Test['NumberOfSentences'].sum()"
   ]
  },
  {
   "cell_type": "markdown",
   "metadata": {},
   "source": [
    "# Average Number Of Sentences"
   ]
  },
  {
   "cell_type": "markdown",
   "metadata": {},
   "source": [
    "**1-Train Set**"
   ]
  },
  {
   "cell_type": "code",
   "execution_count": null,
   "metadata": {},
   "outputs": [],
   "source": [
    "AverageNumberOfSentence_Train = int(np.round(Train[\"NumberOfSentences\"].mean()))\n",
    "AverageNumberOfSentence_Train"
   ]
  },
  {
   "cell_type": "markdown",
   "metadata": {},
   "source": [
    "**2-Test Set**"
   ]
  },
  {
   "cell_type": "code",
   "execution_count": null,
   "metadata": {},
   "outputs": [],
   "source": [
    "AverageNumberOfSentence_Test = int(np.round(Test[\"NumberOfSentences\"].mean()))\n",
    "AverageNumberOfSentence_Test"
   ]
  },
  {
   "cell_type": "markdown",
   "metadata": {},
   "source": [
    "# Maximum Number Of Sentences"
   ]
  },
  {
   "cell_type": "markdown",
   "metadata": {},
   "source": [
    "**1-Train Set**"
   ]
  },
  {
   "cell_type": "code",
   "execution_count": null,
   "metadata": {},
   "outputs": [],
   "source": [
    "MaximumNumberOfSentence_Train = Train[\"NumberOfSentences\"].max()\n",
    "MaximumNumberOfSentence_Train"
   ]
  },
  {
   "cell_type": "markdown",
   "metadata": {},
   "source": [
    "**2-Test Set**"
   ]
  },
  {
   "cell_type": "code",
   "execution_count": null,
   "metadata": {},
   "outputs": [],
   "source": [
    "MaximumNumberOfSentence_Test = Test[\"NumberOfSentences\"].max()\n",
    "MaximumNumberOfSentence_Test"
   ]
  },
  {
   "cell_type": "markdown",
   "metadata": {},
   "source": [
    "# Minimum Number Of Sentences"
   ]
  },
  {
   "cell_type": "markdown",
   "metadata": {},
   "source": [
    "**1-Train Set**"
   ]
  },
  {
   "cell_type": "code",
   "execution_count": null,
   "metadata": {},
   "outputs": [],
   "source": [
    "MinimumNumberOfSentence_Train = Train[\"NumberOfSentences\"].min()\n",
    "MinimumNumberOfSentence_Train"
   ]
  },
  {
   "cell_type": "markdown",
   "metadata": {},
   "source": [
    "**2-Test Set**"
   ]
  },
  {
   "cell_type": "code",
   "execution_count": null,
   "metadata": {},
   "outputs": [],
   "source": [
    "MinimumNumberOfSentence_Test = Test[\"NumberOfSentences\"].min()\n",
    "MinimumNumberOfSentence_Test"
   ]
  },
  {
   "cell_type": "markdown",
   "metadata": {},
   "source": [
    "# Text Normalization"
   ]
  },
  {
   "cell_type": "code",
   "execution_count": null,
   "metadata": {},
   "outputs": [],
   "source": [
    "text_normalization = TextNormalization(_string_lower = True, \n",
    "                        _remove_emojis = True, \n",
    "                        _remove_hashtags = True, \n",
    "                        _remove_emails = True,\n",
    "                        _remove_url = True, \n",
    "                        _remove_mention = True, \n",
    "                        _remove_duplicate_char = True,\n",
    "                        _remove_single_char = True, \n",
    "                        _remove_new_line_char = True, \n",
    "                        _remove_number = True, \n",
    "                        _remove_html_tags = True, \n",
    "                        _remove_special_character = True, \n",
    "                        _remove_longest_than = True, \n",
    "                        _remove_whitespace = True, \n",
    "                        _remove_unicode_characters = True,\n",
    "                        _stemmer = False, \n",
    "                        _remove_non_english = True, \n",
    "                        _remove_stop_words = True, \n",
    "                        _lemmatizer = False)"
   ]
  },
  {
   "cell_type": "markdown",
   "metadata": {},
   "source": [
    "**1-Train Set**"
   ]
  },
  {
   "cell_type": "code",
   "execution_count": null,
   "metadata": {},
   "outputs": [],
   "source": [
    "Train['Normalized_Review'] = Train['Review'].apply(lambda x: text_normalization.normalization(x))\n",
    "Train"
   ]
  },
  {
   "cell_type": "markdown",
   "metadata": {},
   "source": [
    "**2-Test Set**"
   ]
  },
  {
   "cell_type": "code",
   "execution_count": null,
   "metadata": {},
   "outputs": [],
   "source": [
    "Test['Normalized_Review'] = Test['Review'].apply(lambda x: text_normalization.normalization(x))\n",
    "Test"
   ]
  },
  {
   "cell_type": "markdown",
   "metadata": {},
   "source": [
    "# Number Of Unique Words"
   ]
  },
  {
   "cell_type": "markdown",
   "metadata": {},
   "source": [
    "**1-Train Set**"
   ]
  },
  {
   "cell_type": "code",
   "execution_count": null,
   "metadata": {},
   "outputs": [],
   "source": [
    "UniqueWords_Train = set()\n",
    "for word in Train['Normalized_Review'].str.split():\n",
    "    UniqueWords_Train.update(word)\n",
    "len(UniqueWords_Train)"
   ]
  },
  {
   "cell_type": "markdown",
   "metadata": {},
   "source": [
    "**2-Test Set**"
   ]
  },
  {
   "cell_type": "code",
   "execution_count": null,
   "metadata": {},
   "outputs": [],
   "source": [
    "UniqueWords_Test = set()\n",
    "for word in Test['Normalized_Review'].str.split():\n",
    "    UniqueWords_Test.update(word)\n",
    "len(UniqueWords_Test)"
   ]
  },
  {
   "cell_type": "markdown",
   "metadata": {},
   "source": [
    "# WordCloud"
   ]
  },
  {
   "cell_type": "markdown",
   "metadata": {},
   "source": [
    "**1-Train Set**"
   ]
  },
  {
   "cell_type": "code",
   "execution_count": null,
   "metadata": {},
   "outputs": [],
   "source": [
    "wordcloud(data=Train, target='Negative', width=1500, hieght=800, text='Normalized_Review')"
   ]
  },
  {
   "cell_type": "code",
   "execution_count": null,
   "metadata": {},
   "outputs": [],
   "source": [
    "wordcloud(data=Train, target='Positive', width=1500, hieght=800, text='Normalized_Review')"
   ]
  },
  {
   "cell_type": "markdown",
   "metadata": {},
   "source": [
    "**2-Test Set**"
   ]
  },
  {
   "cell_type": "code",
   "execution_count": null,
   "metadata": {},
   "outputs": [],
   "source": [
    "wordcloud(data=Test, target='Negative', width=1500, hieght=800, text='Normalized_Review')"
   ]
  },
  {
   "cell_type": "code",
   "execution_count": null,
   "metadata": {},
   "outputs": [],
   "source": [
    "wordcloud(data=Test, target='Positive', width=1500, hieght=800, text='Normalized_Review')"
   ]
  },
  {
   "cell_type": "markdown",
   "metadata": {},
   "source": [
    "# Most Frequent Words "
   ]
  },
  {
   "cell_type": "markdown",
   "metadata": {},
   "source": [
    "**1-Train Set**"
   ]
  },
  {
   "cell_type": "code",
   "execution_count": null,
   "metadata": {},
   "outputs": [],
   "source": [
    "MostFrequentWord_Train = Counter((Train['Normalized_Review']).str.split().explode()).most_common(15)\n",
    "MostFrequentWordDF_Train = pd.DataFrame(MostFrequentWord_Train, columns=('Word', 'Count'))\n",
    "MostFrequentWordDF_Train"
   ]
  },
  {
   "cell_type": "code",
   "execution_count": null,
   "metadata": {},
   "outputs": [],
   "source": [
    "go_figure(data=MostFrequentWordDF_Train)"
   ]
  },
  {
   "cell_type": "code",
   "execution_count": null,
   "metadata": {},
   "outputs": [],
   "source": [
    "bar_plot(data=MostFrequentWordDF_Train)"
   ]
  },
  {
   "cell_type": "markdown",
   "metadata": {},
   "source": [
    "**2-Test Set**"
   ]
  },
  {
   "cell_type": "code",
   "execution_count": null,
   "metadata": {},
   "outputs": [],
   "source": [
    "MostFrequentWord_Test = Counter((Test['Normalized_Review']).str.split().explode()).most_common(15)\n",
    "MostFrequentWordDF_Test = pd.DataFrame(MostFrequentWord_Test, columns=('Word', 'Count'))\n",
    "MostFrequentWordDF_Test"
   ]
  },
  {
   "cell_type": "code",
   "execution_count": null,
   "metadata": {},
   "outputs": [],
   "source": [
    "go_figure(data=MostFrequentWordDF_Test)"
   ]
  },
  {
   "cell_type": "code",
   "execution_count": null,
   "metadata": {},
   "outputs": [],
   "source": [
    "bar_plot(data=MostFrequentWordDF_Test)"
   ]
  },
  {
   "cell_type": "markdown",
   "metadata": {},
   "source": [
    "# Number Of Words "
   ]
  },
  {
   "cell_type": "markdown",
   "metadata": {},
   "source": [
    "**1-Train Set**"
   ]
  },
  {
   "cell_type": "code",
   "execution_count": null,
   "metadata": {},
   "outputs": [],
   "source": [
    "Train[\"Number of Words\"] = Train[\"Normalized_Review\"].apply(lambda n:len(word_tokenize(n)))\n",
    "Train[\"Number of Words\"].sum()"
   ]
  },
  {
   "cell_type": "code",
   "execution_count": null,
   "metadata": {},
   "outputs": [],
   "source": [
    "Train.drop(Train[Train[\"Number of Words\"] == 0].index, inplace = True)"
   ]
  },
  {
   "cell_type": "markdown",
   "metadata": {},
   "source": [
    "**2-Test Set**"
   ]
  },
  {
   "cell_type": "code",
   "execution_count": null,
   "metadata": {},
   "outputs": [],
   "source": [
    "Test[\"Number of Words\"] = Test[\"Normalized_Review\"].apply(lambda n:len(word_tokenize(n)))\n",
    "Test[\"Number of Words\"].sum()"
   ]
  },
  {
   "cell_type": "code",
   "execution_count": null,
   "metadata": {},
   "outputs": [],
   "source": [
    "Test.drop(Test[Test[\"Number of Words\"] == 0].index, inplace = True)"
   ]
  },
  {
   "cell_type": "markdown",
   "metadata": {},
   "source": [
    "# Number Of Charachters "
   ]
  },
  {
   "cell_type": "markdown",
   "metadata": {},
   "source": [
    "**1-Train Test**"
   ]
  },
  {
   "cell_type": "code",
   "execution_count": null,
   "metadata": {},
   "outputs": [],
   "source": [
    "Train[\"Number of Charachters\"] = Train[\"Normalized_Review\"].str.len()\n",
    "Train[\"Number of Charachters\"].sum()"
   ]
  },
  {
   "cell_type": "markdown",
   "metadata": {},
   "source": [
    "**2-Test Set**"
   ]
  },
  {
   "cell_type": "code",
   "execution_count": null,
   "metadata": {},
   "outputs": [],
   "source": [
    "Test[\"Number of Charachters\"] = Test[\"Normalized_Review\"].str.len()\n",
    "Test[\"Number of Charachters\"].sum()"
   ]
  },
  {
   "cell_type": "markdown",
   "metadata": {},
   "source": [
    "# Average Number Of Words "
   ]
  },
  {
   "cell_type": "markdown",
   "metadata": {},
   "source": [
    "**1-Train Set**"
   ]
  },
  {
   "cell_type": "code",
   "execution_count": null,
   "metadata": {},
   "outputs": [],
   "source": [
    "AverageNaumberOfWords_Train = int(np.round((Train[\"Number of Words\"].mean())))\n",
    "AverageNaumberOfWords_Train"
   ]
  },
  {
   "cell_type": "markdown",
   "metadata": {},
   "source": [
    "**2-Test Set**"
   ]
  },
  {
   "cell_type": "code",
   "execution_count": null,
   "metadata": {},
   "outputs": [],
   "source": [
    "AverageNaumberOfWords_Test = int(np.round((Test[\"Number of Words\"].mean())))\n",
    "AverageNaumberOfWords_Test"
   ]
  },
  {
   "cell_type": "markdown",
   "metadata": {},
   "source": [
    "# Average Number Of Charachters "
   ]
  },
  {
   "cell_type": "markdown",
   "metadata": {},
   "source": [
    "**1-Train Set**"
   ]
  },
  {
   "cell_type": "code",
   "execution_count": null,
   "metadata": {},
   "outputs": [],
   "source": [
    "AverageNumberOfCharachters_Train = int(np.round(Train[\"Number of Charachters\"].mean()))\n",
    "AverageNumberOfCharachters_Train"
   ]
  },
  {
   "cell_type": "markdown",
   "metadata": {},
   "source": [
    "**2-Test Set**"
   ]
  },
  {
   "cell_type": "code",
   "execution_count": null,
   "metadata": {},
   "outputs": [],
   "source": [
    "AverageNumberOfCharachters_Test = int(np.round(Test[\"Number of Charachters\"].mean()))\n",
    "AverageNumberOfCharachters_Test"
   ]
  },
  {
   "cell_type": "markdown",
   "metadata": {},
   "source": [
    "# Maximum Number Of Word"
   ]
  },
  {
   "cell_type": "markdown",
   "metadata": {},
   "source": [
    "**1-Train Set**"
   ]
  },
  {
   "cell_type": "code",
   "execution_count": null,
   "metadata": {},
   "outputs": [],
   "source": [
    "MaximumNaumberOfWords_Train = Train[\"Number of Words\"].max()\n",
    "MaximumNaumberOfWords_Train"
   ]
  },
  {
   "cell_type": "markdown",
   "metadata": {},
   "source": [
    "**2-Test Set**"
   ]
  },
  {
   "cell_type": "code",
   "execution_count": null,
   "metadata": {},
   "outputs": [],
   "source": [
    "MaximumNaumberOfWords_Test = Test[\"Number of Words\"].max()\n",
    "MaximumNaumberOfWords_Test"
   ]
  },
  {
   "cell_type": "markdown",
   "metadata": {},
   "source": [
    "# Maximum Number Of Charachters "
   ]
  },
  {
   "cell_type": "markdown",
   "metadata": {},
   "source": [
    "**1-Train Set**"
   ]
  },
  {
   "cell_type": "code",
   "execution_count": null,
   "metadata": {},
   "outputs": [],
   "source": [
    "MaximumNumberOfCharachters_Train = Train['Number of Charachters'].max() \n",
    "MaximumNumberOfCharachters_Train"
   ]
  },
  {
   "cell_type": "markdown",
   "metadata": {},
   "source": [
    "**2-Test Set**"
   ]
  },
  {
   "cell_type": "code",
   "execution_count": null,
   "metadata": {},
   "outputs": [],
   "source": [
    "MaximumNumberOfCharachters_Test = Test['Number of Charachters'].max() \n",
    "MaximumNumberOfCharachters_Test"
   ]
  },
  {
   "cell_type": "markdown",
   "metadata": {},
   "source": [
    "# Minimum Number Of Words"
   ]
  },
  {
   "cell_type": "markdown",
   "metadata": {},
   "source": [
    "**1-Train Set**"
   ]
  },
  {
   "cell_type": "code",
   "execution_count": null,
   "metadata": {},
   "outputs": [],
   "source": [
    "MimimumNaumberOfWords_Train = Train[\"Number of Words\"].min()\n",
    "MimimumNaumberOfWords_Train"
   ]
  },
  {
   "cell_type": "markdown",
   "metadata": {},
   "source": [
    "**2-Test Set**"
   ]
  },
  {
   "cell_type": "code",
   "execution_count": null,
   "metadata": {},
   "outputs": [],
   "source": [
    "MimimumNaumberOfWords_Test = Test[\"Number of Words\"].min()\n",
    "MimimumNaumberOfWords_Test"
   ]
  },
  {
   "cell_type": "markdown",
   "metadata": {},
   "source": [
    "# Minimum Number Of Charachters "
   ]
  },
  {
   "cell_type": "markdown",
   "metadata": {},
   "source": [
    "**1-Train Set**"
   ]
  },
  {
   "cell_type": "code",
   "execution_count": null,
   "metadata": {},
   "outputs": [],
   "source": [
    "MinimumNumberOfCharachters_Train = Train['Number of Charachters'].min() \n",
    "MinimumNumberOfCharachters_Train"
   ]
  },
  {
   "cell_type": "markdown",
   "metadata": {},
   "source": [
    "**2-Test Set**"
   ]
  },
  {
   "cell_type": "code",
   "execution_count": null,
   "metadata": {},
   "outputs": [],
   "source": [
    "MinimumNumberOfCharachters_Test = Test['Number of Charachters'].min() \n",
    "MinimumNumberOfCharachters_Test"
   ]
  },
  {
   "cell_type": "markdown",
   "metadata": {},
   "source": [
    "# Split The Dataset Into Training And Testing"
   ]
  },
  {
   "cell_type": "code",
   "execution_count": null,
   "metadata": {},
   "outputs": [],
   "source": [
    "X_train, X_test, y_train, y_test = Train['Normalized_Review'], Test['Normalized_Review'], Train['Sentiment'], Test['Sentiment']"
   ]
  },
  {
   "cell_type": "markdown",
   "metadata": {},
   "source": [
    "# Encoding Dependent Variables (Y) Into Integer"
   ]
  },
  {
   "cell_type": "code",
   "execution_count": null,
   "metadata": {},
   "outputs": [],
   "source": [
    "le = LabelEncoder()\n",
    "y_train = le.fit_transform(y_train)\n",
    "y_test = le.transform(y_test)"
   ]
  },
  {
   "cell_type": "markdown",
   "metadata": {},
   "source": [
    "# CountVectorizer"
   ]
  },
  {
   "cell_type": "code",
   "execution_count": null,
   "metadata": {},
   "outputs": [],
   "source": [
    "CountVectorizer_ = CountVectorizer()\n",
    "X_train_CV_ = CountVectorizer_.fit_transform(X_train)\n",
    "X_test_CV_ = CountVectorizer_.transform(X_test)"
   ]
  },
  {
   "cell_type": "code",
   "execution_count": null,
   "metadata": {},
   "outputs": [],
   "source": [
    "Voc = CountVectorizer_.vocabulary_\n",
    "Voc"
   ]
  },
  {
   "cell_type": "markdown",
   "metadata": {},
   "source": [
    "# Machine Learning"
   ]
  },
  {
   "cell_type": "markdown",
   "metadata": {},
   "source": [
    "**1-Naive Bayes**"
   ]
  },
  {
   "cell_type": "code",
   "execution_count": null,
   "metadata": {},
   "outputs": [],
   "source": [
    "Algorithm = MultinomialNB(alpha= 1)\n",
    "Naive_Bayes = machine_learning_model(algorithm=Algorithm)\n",
    "fit_model(model=Naive_Bayes, X_train=X_train_CV_, y_train=y_train)\n",
    "confusion_matrix_(model=Naive_Bayes, X_test=X_test_CV_, y_test=y_test, name='Naive Bayes')"
   ]
  },
  {
   "cell_type": "code",
   "execution_count": null,
   "metadata": {},
   "outputs": [],
   "source": [
    "metrics_values(model= Naive_Bayes, X_test=X_test_CV_, y_test=y_test)"
   ]
  },
  {
   "cell_type": "markdown",
   "metadata": {},
   "source": [
    "**2-Logistic Regression**"
   ]
  },
  {
   "cell_type": "code",
   "execution_count": null,
   "metadata": {},
   "outputs": [],
   "source": [
    "Algorithm = LogisticRegression()\n",
    "Logistic_Regression = machine_learning_model(algorithm=Algorithm)\n",
    "fit_model(model=Logistic_Regression, X_train=X_train_CV_, y_train=y_train)\n",
    "confusion_matrix_(Logistic_Regression, X_test=X_test_CV_, y_test=y_test, name='Logistic Regression')"
   ]
  },
  {
   "cell_type": "code",
   "execution_count": null,
   "metadata": {},
   "outputs": [],
   "source": [
    "metrics_values(model= Logistic_Regression, X_test=X_test_CV_, y_test=y_test)"
   ]
  },
  {
   "cell_type": "markdown",
   "metadata": {},
   "source": [
    "**3-Decision Tree**"
   ]
  },
  {
   "cell_type": "code",
   "execution_count": null,
   "metadata": {},
   "outputs": [],
   "source": [
    "Algorithm = DecisionTreeClassifier(criterion='gini')\n",
    "Decision_Tree = machine_learning_model(algorithm=Algorithm)\n",
    "fit_model(model=Decision_Tree, X_train=X_train_CV_, y_train=y_train)\n",
    "confusion_matrix_(model=Decision_Tree, X_test=X_test_CV_, y_test=y_test, name='Decision Tree')"
   ]
  },
  {
   "cell_type": "code",
   "execution_count": null,
   "metadata": {},
   "outputs": [],
   "source": [
    "metrics_values(model= Decision_Tree, X_test=X_test_CV_, y_test=y_test)"
   ]
  },
  {
   "cell_type": "markdown",
   "metadata": {},
   "source": [
    "**4-K Nearest Neighbors**"
   ]
  },
  {
   "cell_type": "code",
   "execution_count": null,
   "metadata": {},
   "outputs": [],
   "source": [
    "Algorithm =KNeighborsClassifier(metric='manhattan', n_neighbors=5)\n",
    "K_Nearest_Neighbors = machine_learning_model(algorithm=Algorithm)\n",
    "fit_model(model=K_Nearest_Neighbors, X_train=X_train_CV_, y_train=y_train)\n",
    "confusion_matrix_(model=K_Nearest_Neighbors, X_test=X_test_CV_, y_test=y_test, name='K Nearest Neighbors')"
   ]
  },
  {
   "cell_type": "code",
   "execution_count": null,
   "metadata": {},
   "outputs": [],
   "source": [
    "metrics_values(model= K_Nearest_Neighbors, X_test=X_test_CV_, y_test=y_test)"
   ]
  },
  {
   "cell_type": "markdown",
   "metadata": {},
   "source": [
    "**5-Random Forest**"
   ]
  },
  {
   "cell_type": "code",
   "execution_count": null,
   "metadata": {},
   "outputs": [],
   "source": [
    "Algorithm = RandomForestClassifier(criterion = 'entropy', n_estimators=200)\n",
    "Random_Forest = machine_learning_model(algorithm=Algorithm)\n",
    "fit_model(model=Random_Forest, X_train=X_train_CV_, y_train=y_train)\n",
    "confusion_matrix_(model=Random_Forest, X_test=X_test_CV_, y_test=y_test, name='Random Forest')"
   ]
  },
  {
   "cell_type": "code",
   "execution_count": null,
   "metadata": {},
   "outputs": [],
   "source": [
    "metrics_values(model= Random_Forest, X_test=X_test_CV_, y_test=y_test)"
   ]
  },
  {
   "cell_type": "markdown",
   "metadata": {},
   "source": [
    "**6-SGD Classifier**"
   ]
  },
  {
   "cell_type": "code",
   "execution_count": null,
   "metadata": {},
   "outputs": [],
   "source": [
    "Algorithm = SGDClassifier(loss='hinge')\n",
    "SGD = machine_learning_model(algorithm=Algorithm)\n",
    "fit_model(model=SGD, X_train=X_train_CV_, y_train=y_train)\n",
    "confusion_matrix_(model=SGD, X_test=X_test_CV_, y_test=y_test, name='SGD Classifier')"
   ]
  },
  {
   "cell_type": "code",
   "execution_count": null,
   "metadata": {},
   "outputs": [],
   "source": [
    "metrics_values(model= SGD, X_test=X_test_CV_, y_test=y_test)"
   ]
  },
  {
   "cell_type": "markdown",
   "metadata": {},
   "source": [
    "# Build Word2Vec"
   ]
  },
  {
   "cell_type": "code",
   "execution_count": 71,
   "metadata": {},
   "outputs": [],
   "source": [
    "word_2_vec_(data = Data['Review'], vector_size=300, sg = 0, name = 'Word2Vec300D')"
   ]
  },
  {
   "cell_type": "markdown",
   "metadata": {},
   "source": [
    "# Deep Learning"
   ]
  },
  {
   "cell_type": "code",
   "execution_count": 72,
   "metadata": {},
   "outputs": [],
   "source": [
    "tokenizer, vocab_size, max_length, encoded_X_train , encoded_X_test = deeplearning_preprcosesing_(X_train=X_train, X_test=X_test,  truncating='pre', padding='pre')\n",
    "embedding_dim = 300"
   ]
  },
  {
   "cell_type": "code",
   "execution_count": 73,
   "metadata": {},
   "outputs": [],
   "source": [
    "Word_2_Vec_300D = './Word2Vec300D.txt'\n",
    "embedding_dic = {}\n",
    "with open(Word_2_Vec_300D) as f:\n",
    "    for line in f:\n",
    "        values = line.split()\n",
    "        word = values[0]\n",
    "        x = np.asarray(values[1:], dtype='float32')\n",
    "        embedding_dic[word] = x"
   ]
  },
  {
   "cell_type": "code",
   "execution_count": 74,
   "metadata": {},
   "outputs": [],
   "source": [
    "embedding_matrix = np.zeros((vocab_size+1, embedding_dim))\n",
    "for word, i in tokenizer.word_index.items():\n",
    "    embedding_vector = embedding_dic.get(word)\n",
    "    if embedding_vector is not None:\n",
    "        embedding_matrix[i] = embedding_vector"
   ]
  },
  {
   "cell_type": "code",
   "execution_count": 75,
   "metadata": {},
   "outputs": [
    {
     "name": "stdout",
     "output_type": "stream",
     "text": [
      "The Vocab Size Is : 94719\n",
      "\n",
      "The Max Length Is : 678\n"
     ]
    }
   ],
   "source": [
    "print('The Vocab Size Is :',vocab_size)\n",
    "print('')\n",
    "print('The Max Length Is :', max_length)"
   ]
  },
  {
   "cell_type": "code",
   "execution_count": 76,
   "metadata": {},
   "outputs": [],
   "source": [
    "Callback = tf.keras.callbacks.EarlyStopping(\n",
    "                    monitor=\"accuracy\",\n",
    "                    mode=\"max\",\n",
    "                    patience=3\n",
    "                )"
   ]
  },
  {
   "cell_type": "markdown",
   "metadata": {},
   "source": [
    "**7-Convolutional Neural Network**"
   ]
  },
  {
   "cell_type": "code",
   "execution_count": 77,
   "metadata": {},
   "outputs": [
    {
     "name": "stdout",
     "output_type": "stream",
     "text": [
      "Epoch 1/10\n",
      "3500/3500 [==============================] - 40s 11ms/step - loss: 0.3250 - accuracy: 0.8732 - val_loss: 0.2698 - val_accuracy: 0.8956\n",
      "Epoch 2/10\n",
      "3500/3500 [==============================] - 38s 11ms/step - loss: 0.2776 - accuracy: 0.8942 - val_loss: 0.2638 - val_accuracy: 0.8990\n",
      "Epoch 3/10\n",
      "3500/3500 [==============================] - 37s 11ms/step - loss: 0.2694 - accuracy: 0.8969 - val_loss: 0.2697 - val_accuracy: 0.8948\n",
      "Epoch 4/10\n",
      "3500/3500 [==============================] - 36s 10ms/step - loss: 0.2668 - accuracy: 0.8981 - val_loss: 0.2517 - val_accuracy: 0.9037\n",
      "Epoch 5/10\n",
      "3500/3500 [==============================] - 36s 10ms/step - loss: 0.2643 - accuracy: 0.8986 - val_loss: 0.2549 - val_accuracy: 0.9044\n",
      "Epoch 6/10\n",
      "3500/3500 [==============================] - 36s 10ms/step - loss: 0.2633 - accuracy: 0.8995 - val_loss: 0.2554 - val_accuracy: 0.9042\n",
      "Epoch 7/10\n",
      "3500/3500 [==============================] - 37s 11ms/step - loss: 0.2636 - accuracy: 0.8994 - val_loss: 0.2483 - val_accuracy: 0.9072\n",
      "Epoch 8/10\n",
      "3500/3500 [==============================] - 36s 10ms/step - loss: 0.2657 - accuracy: 0.8993 - val_loss: 0.2525 - val_accuracy: 0.9035\n",
      "Epoch 9/10\n",
      "3500/3500 [==============================] - 36s 10ms/step - loss: 0.2665 - accuracy: 0.8983 - val_loss: 0.2566 - val_accuracy: 0.9045\n"
     ]
    },
    {
     "data": {
      "image/png": "[encoded data removed]",
      "text/plain": [
       "<Figure size 640x480 with 1 Axes>"
      ]
     },
     "metadata": {},
     "output_type": "display_data"
    },
    {
     "name": "stdout",
     "output_type": "stream",
     "text": [
      " \n",
      "The Training Loss is 0.2455, And Training Accuracy is 0.9082\n",
      " \n",
      "The Testing Loss is 0.2566, And Testing Accuracy is 0.9045\n"
     ]
    }
   ],
   "source": [
    "convolutional_neural_network = convolutional_neural_network_1d(vocab_size=vocab_size + 1, embedding_dim=embedding_dim, max_length=max_length, dropout=0.1, kernel=2, filters=32, strides=2, padding='valid', embeddings_matrix = embedding_matrix)\n",
    "model_compile(model=convolutional_neural_network)\n",
    "history = model_fit(model=convolutional_neural_network, X_train=encoded_X_train, y_train=y_train, epochs=10, X_test=encoded_X_test, y_test=y_test, batch_size=32, Callback=Callback)\n",
    "plot_accuracy_loss(histoty=history)\n",
    "evaluate(model=convolutional_neural_network, x=encoded_X_train, y=y_train, train_test='Training')\n",
    "evaluate(model=convolutional_neural_network, x=encoded_X_test, y=y_test, train_test='Testing')"
   ]
  },
  {
   "cell_type": "markdown",
   "metadata": {},
   "source": [
    "**8-LSTM**"
   ]
  },
  {
   "cell_type": "code",
   "execution_count": 78,
   "metadata": {},
   "outputs": [
    {
     "name": "stdout",
     "output_type": "stream",
     "text": [
      "Epoch 1/15\n",
      "3500/3500 [==============================] - 185s 52ms/step - loss: 0.2654 - accuracy: 0.8894 - val_loss: 0.2415 - val_accuracy: 0.8974\n",
      "Epoch 2/15\n",
      "3500/3500 [==============================] - 181s 52ms/step - loss: 0.2280 - accuracy: 0.9066 - val_loss: 0.2654 - val_accuracy: 0.8882\n",
      "Epoch 3/15\n",
      "3500/3500 [==============================] - 181s 52ms/step - loss: 0.2230 - accuracy: 0.9083 - val_loss: 0.2208 - val_accuracy: 0.9098\n",
      "Epoch 4/15\n",
      "3500/3500 [==============================] - 193s 55ms/step - loss: 0.2073 - accuracy: 0.9145 - val_loss: 0.2198 - val_accuracy: 0.9101\n",
      "Epoch 5/15\n",
      "3500/3500 [==============================] - 194s 55ms/step - loss: 0.2019 - accuracy: 0.9163 - val_loss: 0.2166 - val_accuracy: 0.9137\n",
      "Epoch 6/15\n",
      "3500/3500 [==============================] - 194s 55ms/step - loss: 0.1964 - accuracy: 0.9191 - val_loss: 0.2216 - val_accuracy: 0.9102\n",
      "Epoch 7/15\n",
      "3500/3500 [==============================] - 194s 56ms/step - loss: 0.1969 - accuracy: 0.9187 - val_loss: 0.2260 - val_accuracy: 0.9090\n",
      "Epoch 8/15\n",
      "3500/3500 [==============================] - 194s 55ms/step - loss: 0.2013 - accuracy: 0.9176 - val_loss: 0.2267 - val_accuracy: 0.9088\n",
      "Epoch 9/15\n",
      "3500/3500 [==============================] - 195s 56ms/step - loss: 0.2042 - accuracy: 0.9169 - val_loss: 0.2332 - val_accuracy: 0.9054\n"
     ]
    },
    {
     "data": {
      "image/png": "[encoded data removed]",
      "text/plain": [
       "<Figure size 640x480 with 1 Axes>"
      ]
     },
     "metadata": {},
     "output_type": "display_data"
    },
    {
     "name": "stdout",
     "output_type": "stream",
     "text": [
      " \n",
      "The Training Loss is 0.1977, And Training Accuracy is 0.9199\n",
      " \n",
      "The Testing Loss is 0.2332, And Testing Accuracy is 0.9054\n"
     ]
    }
   ],
   "source": [
    "LSTM =lstm_(vocab_size= vocab_size + 1, embedding_dim= embedding_dim, max_length= max_length, dropout=0.1, units=64, embeddings_matrix = embedding_matrix)\n",
    "model_compile(model=LSTM)\n",
    "history = model_fit(model=LSTM, X_train=encoded_X_train, y_train=y_train, epochs=15, X_test=encoded_X_test, y_test=y_test, batch_size=32, Callback=Callback)\n",
    "plot_accuracy_loss(histoty=history)\n",
    "evaluate(model=LSTM, x=encoded_X_train, y=y_train, train_test='Training')\n",
    "evaluate(model=LSTM, x=encoded_X_test,y= y_test, train_test='Testing')"
   ]
  },
  {
   "cell_type": "markdown",
   "metadata": {},
   "source": [
    "**9-GRU**"
   ]
  },
  {
   "cell_type": "code",
   "execution_count": 79,
   "metadata": {},
   "outputs": [
    {
     "name": "stdout",
     "output_type": "stream",
     "text": [
      "Epoch 1/15\n",
      "1750/1750 [==============================] - 139s 78ms/step - loss: 0.3050 - accuracy: 0.8678 - val_loss: 0.2183 - val_accuracy: 0.9119\n",
      "Epoch 2/15\n",
      "1750/1750 [==============================] - 136s 78ms/step - loss: 0.2159 - accuracy: 0.9134 - val_loss: 0.2113 - val_accuracy: 0.9152\n",
      "Epoch 3/15\n",
      "1750/1750 [==============================] - 137s 78ms/step - loss: 0.2199 - accuracy: 0.9107 - val_loss: 0.2161 - val_accuracy: 0.9123\n",
      "Epoch 4/15\n",
      "1750/1750 [==============================] - 133s 76ms/step - loss: 0.2113 - accuracy: 0.9139 - val_loss: 0.2231 - val_accuracy: 0.9092\n",
      "Epoch 5/15\n",
      "1750/1750 [==============================] - 129s 73ms/step - loss: 0.2355 - accuracy: 0.9021 - val_loss: 0.2287 - val_accuracy: 0.9073\n",
      "Epoch 6/15\n",
      "1750/1750 [==============================] - 129s 73ms/step - loss: 0.2212 - accuracy: 0.9099 - val_loss: 0.2127 - val_accuracy: 0.9130\n",
      "Epoch 7/15\n",
      "1750/1750 [==============================] - 129s 74ms/step - loss: 0.2044 - accuracy: 0.9170 - val_loss: 0.2098 - val_accuracy: 0.9154\n",
      "Epoch 8/15\n",
      "1750/1750 [==============================] - 129s 74ms/step - loss: 0.1907 - accuracy: 0.9228 - val_loss: 0.2095 - val_accuracy: 0.9158\n",
      "Epoch 9/15\n",
      "1750/1750 [==============================] - 140s 80ms/step - loss: 0.1909 - accuracy: 0.9227 - val_loss: 0.2314 - val_accuracy: 0.9053\n",
      "Epoch 10/15\n",
      "1750/1750 [==============================] - 132s 76ms/step - loss: 0.2119 - accuracy: 0.9145 - val_loss: 0.2341 - val_accuracy: 0.9051\n",
      "Epoch 11/15\n",
      "1750/1750 [==============================] - 129s 74ms/step - loss: 0.2335 - accuracy: 0.9044 - val_loss: 0.2483 - val_accuracy: 0.8987\n"
     ]
    },
    {
     "data": {
      "image/png": "[encoded data removed]",
      "text/plain": [
       "<Figure size 640x480 with 1 Axes>"
      ]
     },
     "metadata": {},
     "output_type": "display_data"
    },
    {
     "name": "stdout",
     "output_type": "stream",
     "text": [
      " \n",
      "The Training Loss is 0.2279, And Training Accuracy is 0.9069\n",
      " \n",
      "The Testing Loss is 0.2483, And Testing Accuracy is 0.8987\n"
     ]
    }
   ],
   "source": [
    "GRU_=gru_(vocab_size= vocab_size + 1, embedding_dim= embedding_dim, max_length= max_length, dropout=0.2, units=64, embeddings_matrix = embedding_matrix)\n",
    "model_compile(model=GRU_)\n",
    "history = model_fit(model=GRU_, X_train=encoded_X_train, y_train=y_train, epochs=15, X_test=encoded_X_test, y_test=y_test, batch_size=64, Callback=Callback)\n",
    "plot_accuracy_loss(histoty=history)\n",
    "evaluate(model=GRU_, x=encoded_X_train, y=y_train, train_test='Training')\n",
    "evaluate(model=GRU_, x=encoded_X_test,y= y_test, train_test='Testing')  "
   ]
  },
  {
   "cell_type": "code",
   "execution_count": null,
   "metadata": {},
   "outputs": [],
   "source": []
  }
 ],
 "metadata": {
  "kernelspec": {
   "display_name": "Python 3",
   "language": "python",
   "name": "python3"
  },
  "language_info": {
   "codemirror_mode": {
    "name": "ipython",
    "version": 3
   },
   "file_extension": ".py",
   "mimetype": "text/x-python",
   "name": "python",
   "nbconvert_exporter": "python",
   "pygments_lexer": "ipython3",
   "version": "3.11.7"
  },
  "orig_nbformat": 4
 },
 "nbformat": 4,
 "nbformat_minor": 2
}
