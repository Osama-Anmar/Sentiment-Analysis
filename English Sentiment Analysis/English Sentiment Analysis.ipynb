{
 "cells": [
  {
   "cell_type": "markdown",
   "metadata": {},
   "source": [
    "# Import Libraries\n"
   ]
  },
  {
   "cell_type": "code",
   "execution_count": 1,
   "metadata": {},
   "outputs": [],
   "source": [
    "import pandas as pd\n",
    "import numpy as np\n",
    "import nltk\n",
    "import tensorflow as tf\n",
    "from keras.layers import *\n",
    "from tensorflow import *\n",
    "from keras.preprocessing.text import Tokenizer\n",
    "from keras.preprocessing import *\n",
    "from nltk.stem import  WordNetLemmatizer\n",
    "from nltk.corpus import stopwords\n",
    "import re\n",
    "import os\n",
    "from nltk.tokenize import word_tokenize, sent_tokenize\n",
    "import matplotlib.pyplot as plt\n",
    "import seaborn as sns\n",
    "from sklearn.tree import DecisionTreeClassifier\n",
    "from sklearn.naive_bayes import MultinomialNB\n",
    "from sklearn.neighbors import KNeighborsClassifier\n",
    "from sklearn.linear_model import LogisticRegression\n",
    "from sklearn.ensemble import RandomForestClassifier\n",
    "from sklearn.model_selection import train_test_split\n",
    "from sklearn.metrics import confusion_matrix\n",
    "from sklearn.feature_extraction.text import  TfidfVectorizer\n",
    "from sklearn.linear_model import SGDClassifier\n",
    "from sklearn.preprocessing import LabelEncoder\n",
    "import warnings\n",
    "import random\n",
    "import emoji\n",
    "from wordcloud import WordCloud\n",
    "import plotly.express as px\n",
    "from nltk import pos_tag\n",
    "from plotly import graph_objects as go\n",
    "from collections import Counter\n",
    "import string\n",
    "pd.options.display.max_rows = 100\n",
    "pd.options.display.max_columns =None \n",
    "random.seed(10)"
   ]
  },
  {
   "cell_type": "code",
   "execution_count": 2,
   "metadata": {},
   "outputs": [],
   "source": [
    "colors1 = ['#ecf5e6','#8ec86d']\n",
    "colors2 = ['#c6e9bb', '#b3e2a4']\n",
    "color3 = ['Salmon', 'FireBrick', 'MediumVioletRed', 'Tomato', 'Orange', 'Gold', 'DarkKhaki', 'Lavender', 'Plum', 'LimeGreen', 'MediumSpringGreen', 'Green', 'DeepSkyBlue', 'Aquamarine', 'MediumSlateBlue']"
   ]
  },
  {
   "cell_type": "markdown",
   "metadata": {},
   "source": [
    "# Download Some Packages"
   ]
  },
  {
   "cell_type": "code",
   "execution_count": 3,
   "metadata": {},
   "outputs": [
    {
     "name": "stderr",
     "output_type": "stream",
     "text": [
      "[nltk_data] Downloading package punkt to\n",
      "[nltk_data]     /Users/osamaanmar/nltk_data...\n",
      "[nltk_data]   Package punkt is already up-to-date!\n",
      "[nltk_data] Downloading package wordnet to\n",
      "[nltk_data]     /Users/osamaanmar/nltk_data...\n",
      "[nltk_data]   Package wordnet is already up-to-date!\n",
      "[nltk_data] Downloading package stopwords to\n",
      "[nltk_data]     /Users/osamaanmar/nltk_data...\n",
      "[nltk_data]   Package stopwords is already up-to-date!\n",
      "[nltk_data] Downloading package averaged_perceptron_tagger to\n",
      "[nltk_data]     /Users/osamaanmar/nltk_data...\n",
      "[nltk_data]   Package averaged_perceptron_tagger is already up-to-\n",
      "[nltk_data]       date!\n"
     ]
    },
    {
     "data": {
      "text/plain": [
       "True"
      ]
     },
     "execution_count": 3,
     "metadata": {},
     "output_type": "execute_result"
    }
   ],
   "source": [
    "nltk.download('punkt')\n",
    "nltk.download('wordnet')\n",
    "nltk.download('stopwords')\n",
    "nltk.download('averaged_perceptron_tagger')"
   ]
  },
  {
   "cell_type": "markdown",
   "metadata": {},
   "source": [
    "# Ignore Warnings"
   ]
  },
  {
   "cell_type": "code",
   "execution_count": 4,
   "metadata": {},
   "outputs": [],
   "source": [
    "os.environ['TF_CPP_MIN_LOG_LEVEL'] = '3'\n",
    "warnings.filterwarnings(action='ignore')"
   ]
  },
  {
   "cell_type": "markdown",
   "metadata": {},
   "source": [
    "# Read Data"
   ]
  },
  {
   "cell_type": "code",
   "execution_count": 5,
   "metadata": {},
   "outputs": [
    {
     "data": {
      "text/html": [
       "<div>\n",
       "<style scoped>\n",
       "    .dataframe tbody tr th:only-of-type {\n",
       "        vertical-align: middle;\n",
       "    }\n",
       "\n",
       "    .dataframe tbody tr th {\n",
       "        vertical-align: top;\n",
       "    }\n",
       "\n",
       "    .dataframe thead th {\n",
       "        text-align: right;\n",
       "    }\n",
       "</style>\n",
       "<table border=\"1\" class=\"dataframe\">\n",
       "  <thead>\n",
       "    <tr style=\"text-align: right;\">\n",
       "      <th></th>\n",
       "      <th>Sentiment</th>\n",
       "      <th>Review</th>\n",
       "    </tr>\n",
       "  </thead>\n",
       "  <tbody>\n",
       "    <tr>\n",
       "      <th>0</th>\n",
       "      <td>Positive</td>\n",
       "      <td>With all this stuff going down at the moment w...</td>\n",
       "    </tr>\n",
       "    <tr>\n",
       "      <th>1</th>\n",
       "      <td>Positive</td>\n",
       "      <td>'The Classic War of the Worlds' by Timothy Hin...</td>\n",
       "    </tr>\n",
       "    <tr>\n",
       "      <th>2</th>\n",
       "      <td>Negative</td>\n",
       "      <td>The film starts with a manager (Nicholas Bell)...</td>\n",
       "    </tr>\n",
       "    <tr>\n",
       "      <th>3</th>\n",
       "      <td>Negative</td>\n",
       "      <td>It must be assumed that those who praised this...</td>\n",
       "    </tr>\n",
       "    <tr>\n",
       "      <th>4</th>\n",
       "      <td>Positive</td>\n",
       "      <td>Superbly trashy and wondrously unpretentious 8...</td>\n",
       "    </tr>\n",
       "    <tr>\n",
       "      <th>...</th>\n",
       "      <td>...</td>\n",
       "      <td>...</td>\n",
       "    </tr>\n",
       "    <tr>\n",
       "      <th>24995</th>\n",
       "      <td>Negative</td>\n",
       "      <td>It seems like more consideration has gone into...</td>\n",
       "    </tr>\n",
       "    <tr>\n",
       "      <th>24996</th>\n",
       "      <td>Negative</td>\n",
       "      <td>I don't believe they made this film. Completel...</td>\n",
       "    </tr>\n",
       "    <tr>\n",
       "      <th>24997</th>\n",
       "      <td>Negative</td>\n",
       "      <td>Guy is a loser. Can't get girls, needs to buil...</td>\n",
       "    </tr>\n",
       "    <tr>\n",
       "      <th>24998</th>\n",
       "      <td>Negative</td>\n",
       "      <td>This 30 minute documentary Buñuel made in the ...</td>\n",
       "    </tr>\n",
       "    <tr>\n",
       "      <th>24999</th>\n",
       "      <td>Positive</td>\n",
       "      <td>I saw this movie as a child and it broke my he...</td>\n",
       "    </tr>\n",
       "  </tbody>\n",
       "</table>\n",
       "<p>25000 rows × 2 columns</p>\n",
       "</div>"
      ],
      "text/plain": [
       "      Sentiment                                             Review\n",
       "0      Positive  With all this stuff going down at the moment w...\n",
       "1      Positive  'The Classic War of the Worlds' by Timothy Hin...\n",
       "2      Negative  The film starts with a manager (Nicholas Bell)...\n",
       "3      Negative  It must be assumed that those who praised this...\n",
       "4      Positive  Superbly trashy and wondrously unpretentious 8...\n",
       "...         ...                                                ...\n",
       "24995  Negative  It seems like more consideration has gone into...\n",
       "24996  Negative  I don't believe they made this film. Completel...\n",
       "24997  Negative  Guy is a loser. Can't get girls, needs to buil...\n",
       "24998  Negative  This 30 minute documentary Buñuel made in the ...\n",
       "24999  Positive  I saw this movie as a child and it broke my he...\n",
       "\n",
       "[25000 rows x 2 columns]"
      ]
     },
     "execution_count": 5,
     "metadata": {},
     "output_type": "execute_result"
    }
   ],
   "source": [
    "Corpus = pd.read_csv('MovieReviewTrainingDatabase.csv')\n",
    "Corpus.rename(columns={'review': 'Review', 'sentiment': 'Sentiment'}, inplace=True)\n",
    "Corpus\n"
   ]
  },
  {
   "cell_type": "markdown",
   "metadata": {},
   "source": [
    "# Percantage Of Each Sentiment"
   ]
  },
  {
   "cell_type": "code",
   "execution_count": 6,
   "metadata": {},
   "outputs": [
    {
     "data": {
      "image/png": "[encoded data removed]",
      "text/plain": [
       "<Figure size 600x600 with 1 Axes>"
      ]
     },
     "metadata": {},
     "output_type": "display_data"
    }
   ],
   "source": [
    "Corpus['Sentiment'].value_counts().plot.pie(autopct = '%0.1f%%',\n",
    "                                                    textprops = {'size': 'large'},\n",
    "                                                    title = 'Sentiment Percentage',\n",
    "                                                    figsize = (6,6),\n",
    "                                                    colors = colors1,\n",
    "                                                    ylabel = ' ');"
   ]
  },
  {
   "cell_type": "markdown",
   "metadata": {},
   "source": [
    "# Count Of Each Sentiment"
   ]
  },
  {
   "cell_type": "code",
   "execution_count": 7,
   "metadata": {},
   "outputs": [
    {
     "data": {
      "image/png": "[encoded data removed]",
      "text/plain": [
       "<Figure size 600x600 with 1 Axes>"
      ]
     },
     "metadata": {},
     "output_type": "display_data"
    }
   ],
   "source": [
    "ax, fig = plt.subplots(figsize = (6,6))\n",
    "ax =sns.countplot(x='Sentiment', data=Corpus, dodge=False, hue='Sentiment',  order= Corpus['Sentiment'].value_counts().index, hue_order =Corpus['Sentiment'].value_counts().index,  palette=colors2);\n",
    "ax.set(xticklabels=[]) \n",
    "ax.set(ylabel=None) \n",
    "plt.title('Sentiment Count')\n",
    "sns.move_legend(ax, \"upper left\", bbox_to_anchor=(1, 1))\n",
    "plt.show()"
   ]
  },
  {
   "cell_type": "markdown",
   "metadata": {},
   "source": [
    "# Number Of Sentences"
   ]
  },
  {
   "cell_type": "code",
   "execution_count": 8,
   "metadata": {},
   "outputs": [],
   "source": [
    "Corpus['NumberOfSentences'] = Corpus['Review'].apply(lambda n:len(sent_tokenize(n)))\n",
    "Corpus.drop(Corpus[ Corpus[\"NumberOfSentences\"] == 0].index, inplace = True)\n"
   ]
  },
  {
   "cell_type": "code",
   "execution_count": 9,
   "metadata": {},
   "outputs": [
    {
     "data": {
      "text/plain": [
       "311468"
      ]
     },
     "execution_count": 9,
     "metadata": {},
     "output_type": "execute_result"
    }
   ],
   "source": [
    "Corpus['NumberOfSentences'].sum()"
   ]
  },
  {
   "cell_type": "markdown",
   "metadata": {},
   "source": [
    "# Average Number Of Sentences"
   ]
  },
  {
   "cell_type": "code",
   "execution_count": 10,
   "metadata": {},
   "outputs": [
    {
     "data": {
      "text/plain": [
       "12"
      ]
     },
     "execution_count": 10,
     "metadata": {},
     "output_type": "execute_result"
    }
   ],
   "source": [
    "AverageNumberOfSentence = int(np.round(Corpus[\"NumberOfSentences\"].mean()))\n",
    "AverageNumberOfSentence"
   ]
  },
  {
   "cell_type": "markdown",
   "metadata": {},
   "source": [
    "# Maximum Number Of Sentences"
   ]
  },
  {
   "cell_type": "code",
   "execution_count": 11,
   "metadata": {},
   "outputs": [
    {
     "data": {
      "text/plain": [
       "282"
      ]
     },
     "execution_count": 11,
     "metadata": {},
     "output_type": "execute_result"
    }
   ],
   "source": [
    "MaximumNumberOfSentence = Corpus[\"NumberOfSentences\"].max()\n",
    "MaximumNumberOfSentence"
   ]
  },
  {
   "cell_type": "markdown",
   "metadata": {},
   "source": [
    "# Minimum Number Of Sentences"
   ]
  },
  {
   "cell_type": "code",
   "execution_count": 12,
   "metadata": {},
   "outputs": [
    {
     "data": {
      "text/plain": [
       "1"
      ]
     },
     "execution_count": 12,
     "metadata": {},
     "output_type": "execute_result"
    }
   ],
   "source": [
    "MinimumNumberOfSentence = Corpus[\"NumberOfSentences\"].min()\n",
    "MinimumNumberOfSentence"
   ]
  },
  {
   "cell_type": "markdown",
   "metadata": {},
   "source": [
    "# POS Tagging (Parts of Speech Tagging)"
   ]
  },
  {
   "cell_type": "code",
   "execution_count": 13,
   "metadata": {},
   "outputs": [
    {
     "data": {
      "text/html": [
       "<div>\n",
       "<style scoped>\n",
       "    .dataframe tbody tr th:only-of-type {\n",
       "        vertical-align: middle;\n",
       "    }\n",
       "\n",
       "    .dataframe tbody tr th {\n",
       "        vertical-align: top;\n",
       "    }\n",
       "\n",
       "    .dataframe thead th {\n",
       "        text-align: right;\n",
       "    }\n",
       "</style>\n",
       "<table border=\"1\" class=\"dataframe\">\n",
       "  <thead>\n",
       "    <tr style=\"text-align: right;\">\n",
       "      <th></th>\n",
       "      <th>Sentiment</th>\n",
       "      <th>Review</th>\n",
       "      <th>NumberOfSentences</th>\n",
       "      <th>Tagged</th>\n",
       "    </tr>\n",
       "  </thead>\n",
       "  <tbody>\n",
       "    <tr>\n",
       "      <th>0</th>\n",
       "      <td>Positive</td>\n",
       "      <td>With all this stuff going down at the moment w...</td>\n",
       "      <td>19</td>\n",
       "      <td>[(With, IN), (all, PDT), (this, DT), (stuff, N...</td>\n",
       "    </tr>\n",
       "    <tr>\n",
       "      <th>1</th>\n",
       "      <td>Positive</td>\n",
       "      <td>'The Classic War of the Worlds' by Timothy Hin...</td>\n",
       "      <td>10</td>\n",
       "      <td>[('The, JJ), (Classic, NNP), (War, NNP), (of, ...</td>\n",
       "    </tr>\n",
       "    <tr>\n",
       "      <th>2</th>\n",
       "      <td>Negative</td>\n",
       "      <td>The film starts with a manager (Nicholas Bell)...</td>\n",
       "      <td>14</td>\n",
       "      <td>[(The, DT), (film, NN), (starts, VBZ), (with, ...</td>\n",
       "    </tr>\n",
       "    <tr>\n",
       "      <th>3</th>\n",
       "      <td>Negative</td>\n",
       "      <td>It must be assumed that those who praised this...</td>\n",
       "      <td>7</td>\n",
       "      <td>[(It, PRP), (must, MD), (be, VB), (assumed, VB...</td>\n",
       "    </tr>\n",
       "    <tr>\n",
       "      <th>4</th>\n",
       "      <td>Positive</td>\n",
       "      <td>Superbly trashy and wondrously unpretentious 8...</td>\n",
       "      <td>16</td>\n",
       "      <td>[(Superbly, RB), (trashy, JJ), (and, CC), (won...</td>\n",
       "    </tr>\n",
       "    <tr>\n",
       "      <th>...</th>\n",
       "      <td>...</td>\n",
       "      <td>...</td>\n",
       "      <td>...</td>\n",
       "      <td>...</td>\n",
       "    </tr>\n",
       "    <tr>\n",
       "      <th>24995</th>\n",
       "      <td>Negative</td>\n",
       "      <td>It seems like more consideration has gone into...</td>\n",
       "      <td>8</td>\n",
       "      <td>[(It, PRP), (seems, VBZ), (like, IN), (more, J...</td>\n",
       "    </tr>\n",
       "    <tr>\n",
       "      <th>24996</th>\n",
       "      <td>Negative</td>\n",
       "      <td>I don't believe they made this film. Completel...</td>\n",
       "      <td>15</td>\n",
       "      <td>[(I, PRP), (don't, VBP), (believe, VBP), (they...</td>\n",
       "    </tr>\n",
       "    <tr>\n",
       "      <th>24997</th>\n",
       "      <td>Negative</td>\n",
       "      <td>Guy is a loser. Can't get girls, needs to buil...</td>\n",
       "      <td>16</td>\n",
       "      <td>[(Guy, NNP), (is, VBZ), (a, DT), (loser., NN),...</td>\n",
       "    </tr>\n",
       "    <tr>\n",
       "      <th>24998</th>\n",
       "      <td>Negative</td>\n",
       "      <td>This 30 minute documentary Buñuel made in the ...</td>\n",
       "      <td>9</td>\n",
       "      <td>[(This, DT), (30, CD), (minute, NN), (document...</td>\n",
       "    </tr>\n",
       "    <tr>\n",
       "      <th>24999</th>\n",
       "      <td>Positive</td>\n",
       "      <td>I saw this movie as a child and it broke my he...</td>\n",
       "      <td>10</td>\n",
       "      <td>[(I, PRP), (saw, VBD), (this, DT), (movie, NN)...</td>\n",
       "    </tr>\n",
       "  </tbody>\n",
       "</table>\n",
       "<p>25000 rows × 4 columns</p>\n",
       "</div>"
      ],
      "text/plain": [
       "      Sentiment                                             Review  \\\n",
       "0      Positive  With all this stuff going down at the moment w...   \n",
       "1      Positive  'The Classic War of the Worlds' by Timothy Hin...   \n",
       "2      Negative  The film starts with a manager (Nicholas Bell)...   \n",
       "3      Negative  It must be assumed that those who praised this...   \n",
       "4      Positive  Superbly trashy and wondrously unpretentious 8...   \n",
       "...         ...                                                ...   \n",
       "24995  Negative  It seems like more consideration has gone into...   \n",
       "24996  Negative  I don't believe they made this film. Completel...   \n",
       "24997  Negative  Guy is a loser. Can't get girls, needs to buil...   \n",
       "24998  Negative  This 30 minute documentary Buñuel made in the ...   \n",
       "24999  Positive  I saw this movie as a child and it broke my he...   \n",
       "\n",
       "       NumberOfSentences                                             Tagged  \n",
       "0                     19  [(With, IN), (all, PDT), (this, DT), (stuff, N...  \n",
       "1                     10  [('The, JJ), (Classic, NNP), (War, NNP), (of, ...  \n",
       "2                     14  [(The, DT), (film, NN), (starts, VBZ), (with, ...  \n",
       "3                      7  [(It, PRP), (must, MD), (be, VB), (assumed, VB...  \n",
       "4                     16  [(Superbly, RB), (trashy, JJ), (and, CC), (won...  \n",
       "...                  ...                                                ...  \n",
       "24995                  8  [(It, PRP), (seems, VBZ), (like, IN), (more, J...  \n",
       "24996                 15  [(I, PRP), (don't, VBP), (believe, VBP), (they...  \n",
       "24997                 16  [(Guy, NNP), (is, VBZ), (a, DT), (loser., NN),...  \n",
       "24998                  9  [(This, DT), (30, CD), (minute, NN), (document...  \n",
       "24999                 10  [(I, PRP), (saw, VBD), (this, DT), (movie, NN)...  \n",
       "\n",
       "[25000 rows x 4 columns]"
      ]
     },
     "execution_count": 13,
     "metadata": {},
     "output_type": "execute_result"
    }
   ],
   "source": [
    "Corpus['Tagged'] = Corpus['Review'].str.split().apply(pos_tag)\n",
    "Corpus.reset_index(inplace=True, drop=True)\n",
    "Corpus"
   ]
  },
  {
   "cell_type": "markdown",
   "metadata": {},
   "source": [
    "# Text Normalization"
   ]
  },
  {
   "cell_type": "code",
   "execution_count": 14,
   "metadata": {},
   "outputs": [],
   "source": [
    "def remove_emojis(text):\n",
    "     \"Remove All Emojis From Text\"\n",
    "     text = emoji.replace_emoji(text, replace=\"\")\n",
    "     return text\n",
    "\n",
    "def remove_duplicate_char(text):\n",
    "     \"Remove Chars Word Has More Than 2 Same Following Char\"\n",
    "     text = re.sub(r'(.)\\1+', r'\\1\\1', text)\n",
    "     return text\n",
    "\n",
    "def remove_single_char(text):\n",
    "     \"Remove Alone Chars From Text\"\n",
    "     text = ' '.join( [w for w in text.split() if len(w)>1] )\n",
    "     return text\n",
    "\n",
    "def remove_special_character_(text):\n",
    "     \"Remove Special Character From Text\"\n",
    "     Punctuations = '`؛،؟.,«»÷-' + string.punctuation\n",
    "     for punctuation in Punctuations:\n",
    "        text = text.replace(punctuation, ' ')\n",
    "     return text   \n",
    "\n",
    "def remove_new_line_char(text):\n",
    "     \"Remove New Line Symbols From Text\"\n",
    "     text = text.replace('\\n', ' ')\n",
    "     return text  \n",
    " \n",
    "def remove_number(text):\n",
    "     \"Remove All Number From Text\"\n",
    "     text = re.sub(r'[0-9٠-٩]', '', text)\n",
    "     return text\n",
    "\n",
    "def remove_html_tags(text):\n",
    "    \"Remove All HTL Tags From Text\"\n",
    "    text = re.sub(\"<.*?>\", ' ', text)\n",
    "    return text\n",
    "\n",
    "def remove_non_english(text):\n",
    "    \"Remove Non English Word And Char\"\n",
    "    char = set(string.printable)\n",
    "    for c in text:\n",
    "        if c not in char:\n",
    "            text = text.replace(c, ' ')\n",
    "    return text\n",
    "\n",
    "def remove_whitespace(text):\n",
    "     \"Remove Extra WhiteSpace\"\n",
    "     text = text.strip()\n",
    "     return text \n",
    "\n",
    "def remove_unicode_characters_(text):\n",
    "     \"Remove Unicode Char\"\n",
    "     for character in text:\n",
    "        if (ord(character) < 47) or ((ord(character) > 123 and ord(character) < 1568)) or ((ord(character) > 1641 and ord(character) < 8239)) :\n",
    "         text = text.replace(character, ' ')\n",
    "     return text\n",
    "\n",
    "def remove_stop_words(text):\n",
    "     \"Remove StopWords From Text\"\n",
    "     StopWords1 = set(stopwords.words('english'))\n",
    "     StopWords2 = set(open('EnglishStopWords.txt','r').read().split('\\n'))\n",
    "     StopWords = StopWords1.union(StopWords2)\n",
    "     text = word_tokenize(text)\n",
    "     text = [word for word in text if word not in StopWords]\n",
    "     return ' '.join(text)\n",
    "\n",
    "def remove_longest_than_(text):\n",
    "     \"Remove All Words That Longest Than The Longest Word In Englis\"\n",
    "     for word in text.split():\n",
    "          if len(word) >=46:\n",
    "               text = text.replace(word, '')\n",
    "     return text\n",
    "\n",
    "def lemmatizer_(text):\n",
    "     \"Lowers Inflection In Words To Their Root Forms\"\n",
    "     lemmatizer = WordNetLemmatizer()\n",
    "     text = \" \".join([lemmatizer.lemmatize(word, pos='v') for word in text.split()])\n",
    "     return text\n"
   ]
  },
  {
   "cell_type": "code",
   "execution_count": 15,
   "metadata": {},
   "outputs": [],
   "source": [
    "def text_normalization(text):\n",
    "    text = text.lower()\n",
    "    text = remove_emojis(text)\n",
    "    text = remove_html_tags(text)\n",
    "    text = remove_duplicate_char(text)\n",
    "    text = remove_number(text)\n",
    "    text = remove_single_char(text)\n",
    "    text = remove_non_english(text)\n",
    "    text = remove_unicode_characters_(text)\n",
    "    text = remove_special_character_(text)\n",
    "    text = remove_stop_words(text)\n",
    "    text = remove_new_line_char(text)\n",
    "    text = remove_longest_than_(text)\n",
    "    text = remove_whitespace(text)\n",
    "    text = lemmatizer_(text)\n",
    "    return ''.join(text)"
   ]
  },
  {
   "cell_type": "code",
   "execution_count": 16,
   "metadata": {},
   "outputs": [
    {
     "data": {
      "text/html": [
       "<div>\n",
       "<style scoped>\n",
       "    .dataframe tbody tr th:only-of-type {\n",
       "        vertical-align: middle;\n",
       "    }\n",
       "\n",
       "    .dataframe tbody tr th {\n",
       "        vertical-align: top;\n",
       "    }\n",
       "\n",
       "    .dataframe thead th {\n",
       "        text-align: right;\n",
       "    }\n",
       "</style>\n",
       "<table border=\"1\" class=\"dataframe\">\n",
       "  <thead>\n",
       "    <tr style=\"text-align: right;\">\n",
       "      <th></th>\n",
       "      <th>Sentiment</th>\n",
       "      <th>Review</th>\n",
       "      <th>NumberOfSentences</th>\n",
       "      <th>Tagged</th>\n",
       "      <th>Normalized_Review</th>\n",
       "    </tr>\n",
       "  </thead>\n",
       "  <tbody>\n",
       "    <tr>\n",
       "      <th>0</th>\n",
       "      <td>Positive</td>\n",
       "      <td>With all this stuff going down at the moment w...</td>\n",
       "      <td>19</td>\n",
       "      <td>[(With, IN), (all, PDT), (this, DT), (stuff, N...</td>\n",
       "      <td>stuff go moment mj start listen music watch od...</td>\n",
       "    </tr>\n",
       "    <tr>\n",
       "      <th>1</th>\n",
       "      <td>Positive</td>\n",
       "      <td>'The Classic War of the Worlds' by Timothy Hin...</td>\n",
       "      <td>10</td>\n",
       "      <td>[('The, JJ), (Classic, NNP), (War, NNP), (of, ...</td>\n",
       "      <td>classic war worlds timothy hines entertain fil...</td>\n",
       "    </tr>\n",
       "    <tr>\n",
       "      <th>2</th>\n",
       "      <td>Negative</td>\n",
       "      <td>The film starts with a manager (Nicholas Bell)...</td>\n",
       "      <td>14</td>\n",
       "      <td>[(The, DT), (film, NN), (starts, VBZ), (with, ...</td>\n",
       "      <td>film start manager nicholas bell give welcome ...</td>\n",
       "    </tr>\n",
       "    <tr>\n",
       "      <th>3</th>\n",
       "      <td>Negative</td>\n",
       "      <td>It must be assumed that those who praised this...</td>\n",
       "      <td>7</td>\n",
       "      <td>[(It, PRP), (must, MD), (be, VB), (assumed, VB...</td>\n",
       "      <td>assume praise film greatest film opera read ca...</td>\n",
       "    </tr>\n",
       "    <tr>\n",
       "      <th>4</th>\n",
       "      <td>Positive</td>\n",
       "      <td>Superbly trashy and wondrously unpretentious 8...</td>\n",
       "      <td>16</td>\n",
       "      <td>[(Superbly, RB), (trashy, JJ), (and, CC), (won...</td>\n",
       "      <td>superbly trashy wondrously unpretentious explo...</td>\n",
       "    </tr>\n",
       "    <tr>\n",
       "      <th>...</th>\n",
       "      <td>...</td>\n",
       "      <td>...</td>\n",
       "      <td>...</td>\n",
       "      <td>...</td>\n",
       "      <td>...</td>\n",
       "    </tr>\n",
       "    <tr>\n",
       "      <th>24995</th>\n",
       "      <td>Negative</td>\n",
       "      <td>It seems like more consideration has gone into...</td>\n",
       "      <td>8</td>\n",
       "      <td>[(It, PRP), (seems, VBZ), (like, IN), (more, J...</td>\n",
       "      <td>like consideration imdb review film go source ...</td>\n",
       "    </tr>\n",
       "    <tr>\n",
       "      <th>24996</th>\n",
       "      <td>Negative</td>\n",
       "      <td>I don't believe they made this film. Completel...</td>\n",
       "      <td>15</td>\n",
       "      <td>[(I, PRP), (don't, VBP), (believe, VBP), (they...</td>\n",
       "      <td>believe make film completely unnecessary first...</td>\n",
       "    </tr>\n",
       "    <tr>\n",
       "      <th>24997</th>\n",
       "      <td>Negative</td>\n",
       "      <td>Guy is a loser. Can't get girls, needs to buil...</td>\n",
       "      <td>16</td>\n",
       "      <td>[(Guy, NNP), (is, VBZ), (a, DT), (loser., NN),...</td>\n",
       "      <td>guy loser girls need build pick stronger succe...</td>\n",
       "    </tr>\n",
       "    <tr>\n",
       "      <th>24998</th>\n",
       "      <td>Negative</td>\n",
       "      <td>This 30 minute documentary Buñuel made in the ...</td>\n",
       "      <td>9</td>\n",
       "      <td>[(This, DT), (30, CD), (minute, NN), (document...</td>\n",
       "      <td>minute documentary bu uel make early spain poo...</td>\n",
       "    </tr>\n",
       "    <tr>\n",
       "      <th>24999</th>\n",
       "      <td>Positive</td>\n",
       "      <td>I saw this movie as a child and it broke my he...</td>\n",
       "      <td>10</td>\n",
       "      <td>[(I, PRP), (saw, VBD), (this, DT), (movie, NN)...</td>\n",
       "      <td>saw movie child break heart story unfinished e...</td>\n",
       "    </tr>\n",
       "  </tbody>\n",
       "</table>\n",
       "<p>25000 rows × 5 columns</p>\n",
       "</div>"
      ],
      "text/plain": [
       "      Sentiment                                             Review  \\\n",
       "0      Positive  With all this stuff going down at the moment w...   \n",
       "1      Positive  'The Classic War of the Worlds' by Timothy Hin...   \n",
       "2      Negative  The film starts with a manager (Nicholas Bell)...   \n",
       "3      Negative  It must be assumed that those who praised this...   \n",
       "4      Positive  Superbly trashy and wondrously unpretentious 8...   \n",
       "...         ...                                                ...   \n",
       "24995  Negative  It seems like more consideration has gone into...   \n",
       "24996  Negative  I don't believe they made this film. Completel...   \n",
       "24997  Negative  Guy is a loser. Can't get girls, needs to buil...   \n",
       "24998  Negative  This 30 minute documentary Buñuel made in the ...   \n",
       "24999  Positive  I saw this movie as a child and it broke my he...   \n",
       "\n",
       "       NumberOfSentences                                             Tagged  \\\n",
       "0                     19  [(With, IN), (all, PDT), (this, DT), (stuff, N...   \n",
       "1                     10  [('The, JJ), (Classic, NNP), (War, NNP), (of, ...   \n",
       "2                     14  [(The, DT), (film, NN), (starts, VBZ), (with, ...   \n",
       "3                      7  [(It, PRP), (must, MD), (be, VB), (assumed, VB...   \n",
       "4                     16  [(Superbly, RB), (trashy, JJ), (and, CC), (won...   \n",
       "...                  ...                                                ...   \n",
       "24995                  8  [(It, PRP), (seems, VBZ), (like, IN), (more, J...   \n",
       "24996                 15  [(I, PRP), (don't, VBP), (believe, VBP), (they...   \n",
       "24997                 16  [(Guy, NNP), (is, VBZ), (a, DT), (loser., NN),...   \n",
       "24998                  9  [(This, DT), (30, CD), (minute, NN), (document...   \n",
       "24999                 10  [(I, PRP), (saw, VBD), (this, DT), (movie, NN)...   \n",
       "\n",
       "                                       Normalized_Review  \n",
       "0      stuff go moment mj start listen music watch od...  \n",
       "1      classic war worlds timothy hines entertain fil...  \n",
       "2      film start manager nicholas bell give welcome ...  \n",
       "3      assume praise film greatest film opera read ca...  \n",
       "4      superbly trashy wondrously unpretentious explo...  \n",
       "...                                                  ...  \n",
       "24995  like consideration imdb review film go source ...  \n",
       "24996  believe make film completely unnecessary first...  \n",
       "24997  guy loser girls need build pick stronger succe...  \n",
       "24998  minute documentary bu uel make early spain poo...  \n",
       "24999  saw movie child break heart story unfinished e...  \n",
       "\n",
       "[25000 rows x 5 columns]"
      ]
     },
     "execution_count": 16,
     "metadata": {},
     "output_type": "execute_result"
    }
   ],
   "source": [
    "Corpus['Normalized_Review'] = Corpus['Review'].apply(text_normalization)\n",
    "Corpus"
   ]
  },
  {
   "cell_type": "markdown",
   "metadata": {},
   "source": [
    "# Number Of Unique Words"
   ]
  },
  {
   "cell_type": "code",
   "execution_count": 17,
   "metadata": {},
   "outputs": [
    {
     "data": {
      "text/plain": [
       "61533"
      ]
     },
     "execution_count": 17,
     "metadata": {},
     "output_type": "execute_result"
    }
   ],
   "source": [
    "UniqueWords = set()\n",
    "for word in Corpus['Normalized_Review'].str.split():\n",
    "    UniqueWords.update(word)\n",
    "\n",
    "len(UniqueWords)"
   ]
  },
  {
   "cell_type": "markdown",
   "metadata": {},
   "source": [
    "# WordCloud"
   ]
  },
  {
   "cell_type": "code",
   "execution_count": 18,
   "metadata": {},
   "outputs": [],
   "source": [
    "def word_cloud_(Sentiment):\n",
    "    text = str(Corpus[Corpus['Sentiment'] == Sentiment])\n",
    "    wordcloud = WordCloud(background_color='white', mode='RGB',width=1500,height=800).generate(text)\n",
    "    plt.figure()\n",
    "    plt.imshow(wordcloud, interpolation='catrom')\n",
    "    plt.axis(\"off\")\n",
    "    plt.title('Word Cloud For {} Sentiment'.format(Sentiment))\n",
    "    plt.show()"
   ]
  },
  {
   "cell_type": "markdown",
   "metadata": {},
   "source": [
    "**1-Negative**"
   ]
  },
  {
   "cell_type": "code",
   "execution_count": 19,
   "metadata": {},
   "outputs": [
    {
     "data": {
      "image/png": "[encoded data removed]",
      "text/plain": [
       "<Figure size 640x480 with 1 Axes>"
      ]
     },
     "metadata": {},
     "output_type": "display_data"
    }
   ],
   "source": [
    "word_cloud_('Negative')"
   ]
  },
  {
   "cell_type": "markdown",
   "metadata": {},
   "source": [
    "**2-Positive**"
   ]
  },
  {
   "cell_type": "code",
   "execution_count": 20,
   "metadata": {},
   "outputs": [
    {
     "data": {
      "image/png": "[encoded data removed]",
      "text/plain": [
       "<Figure size 640x480 with 1 Axes>"
      ]
     },
     "metadata": {},
     "output_type": "display_data"
    }
   ],
   "source": [
    "word_cloud_('Positive')"
   ]
  },
  {
   "cell_type": "markdown",
   "metadata": {},
   "source": [
    "# Bigrams"
   ]
  },
  {
   "cell_type": "code",
   "execution_count": 21,
   "metadata": {},
   "outputs": [
    {
     "data": {
      "text/plain": [
       "[('ask', 'remember'),\n",
       " ('remember', 'song'),\n",
       " ('song', 'film'),\n",
       " ('film', 'yester'),\n",
       " ('yester', 'years'),\n",
       " ('years', 'chalo'),\n",
       " ('chalo', 'di'),\n",
       " ('di', 'daar'),\n",
       " ('daar', 'chalo'),\n",
       " ('chalo', 'chand'),\n",
       " ('chand', 'ke'),\n",
       " ('ke', 'paar'),\n",
       " ('paar', 'chalo'),\n",
       " ('chalo', 'mean'),\n",
       " ('mean', 'way'),\n",
       " ('way', 'sing'),\n",
       " ('sing', 'lata'),\n",
       " ('lata', 'mangeshkar'),\n",
       " ('mangeshkar', 'mohd'),\n",
       " ('mohd', 'rafi'),\n",
       " ('rafi', 'lyric'),\n",
       " ('lyric', 'kaif'),\n",
       " ('kaif', 'bhopali'),\n",
       " ('bhopali', 'mention'),\n",
       " ('mention', 'cinema'),\n",
       " ('cinema', 'photography'),\n",
       " ('photography', 'sail'),\n",
       " ('sail', 'boat'),\n",
       " ('boat', 'go'),\n",
       " ('go', 'black'),\n",
       " ('black', 'background'),\n",
       " ('background', 'shin'),\n",
       " ('shin', 'star'),\n",
       " ('star', 'chalte'),\n",
       " ('chalte', 'chalte'),\n",
       " ('chalte', 'pakeezah'),\n",
       " ('pakeezah', 'meena'),\n",
       " ('meena', 'kumari'),\n",
       " ('kumari', 'last'),\n",
       " ('last', 'film'),\n",
       " ('film', 'die'),\n",
       " ('die', 'amount'),\n",
       " ('amount', 'time'),\n",
       " ('time', 'take'),\n",
       " ('take', 'see'),\n",
       " ('see', 'screen'),\n",
       " ('screen', 'songs'),\n",
       " ('songs', 'picturised'),\n",
       " ('picturised', 'look'),\n",
       " ('look', 'young'),\n",
       " ('young', 'actor'),\n",
       " ('actor', 'change'),\n",
       " ('change', 'look'),\n",
       " ('look', 'late'),\n",
       " ('late', 'raj'),\n",
       " ('raj', 'kumar'),\n",
       " ('kumar', 'fall'),\n",
       " ('fall', 'love'),\n",
       " ('love', 'especially'),\n",
       " ('especially', 'feet'),\n",
       " ('feet', 'accidentally'),\n",
       " ('accidentally', 'go'),\n",
       " ('go', 'train'),\n",
       " ('train', 'cabin'),\n",
       " ('cabin', 'see'),\n",
       " ('see', 'leave'),\n",
       " ('leave', 'note'),\n",
       " ('note', 'beautiful'),\n",
       " ('beautiful', 'conclusion'),\n",
       " ('conclusion', 'pakeezah'),\n",
       " ('pakeezah', 'beautiful'),\n",
       " ('beautiful', 'romantic'),\n",
       " ('romantic', 'story'),\n",
       " ('story', 'possible'),\n",
       " ('possible', 'view'),\n",
       " ('view', 'large'),\n",
       " ('large', 'screen'),\n",
       " ('screen', 'sake'),\n",
       " ('sake', 'cinema'),\n",
       " ('cinema', 'photography'),\n",
       " ('photography', 'songs'),\n",
       " ('songs', 'movie'),\n",
       " ('movie', 'star'),\n",
       " ('star', 'meena'),\n",
       " ('meena', 'kumari'),\n",
       " ('kumari', 'raj'),\n",
       " ('raj', 'kumar'),\n",
       " ('kumar', 'ashok'),\n",
       " ('ashok', 'kumar'),\n",
       " ('kumar', 'direct'),\n",
       " ('direct', 'kamal'),\n",
       " ('kamal', 'amrohi'),\n",
       " ('amrohi', 'kamal'),\n",
       " ('kamal', 'amrohi'),\n",
       " ('amrohi', 'grandson'),\n",
       " ('grandson', 'start'),\n",
       " ('start', 'revive'),\n",
       " ('revive', 'grand'),\n",
       " ('grand', 'father'),\n",
       " ('father', 'studio'),\n",
       " ('studio', 'make'),\n",
       " ('make', 'comedy'),\n",
       " ('comedy', 'movie')]"
      ]
     },
     "execution_count": 21,
     "metadata": {},
     "output_type": "execute_result"
    }
   ],
   "source": [
    "Corpus['Bigrams'] = Corpus['Normalized_Review'].apply(lambda x: list(nltk.bigrams(x.split( ))))\n",
    "Corpus['Bigrams'][300]"
   ]
  },
  {
   "cell_type": "markdown",
   "metadata": {},
   "source": [
    "# Trigrams"
   ]
  },
  {
   "cell_type": "code",
   "execution_count": 22,
   "metadata": {},
   "outputs": [
    {
     "data": {
      "text/plain": [
       "'ask remember song film yester years chalo di daar chalo chand ke paar chalo mean way sing lata mangeshkar mohd rafi lyric kaif bhopali mention cinema photography sail boat go black background shin star chalte chalte pakeezah meena kumari last film die amount time take see screen songs picturised look young actor change look late raj kumar fall love especially feet accidentally go train cabin see leave note beautiful conclusion pakeezah beautiful romantic story possible view large screen sake cinema photography songs movie star meena kumari raj kumar ashok kumar direct kamal amrohi kamal amrohi grandson start revive grand father studio make comedy movie'"
      ]
     },
     "execution_count": 22,
     "metadata": {},
     "output_type": "execute_result"
    }
   ],
   "source": [
    "Corpus['Trigrams'] = Corpus['Normalized_Review'].apply(lambda x: list(nltk.trigrams(x.split( ))))\n",
    "Corpus['Normalized_Review'][300]"
   ]
  },
  {
   "cell_type": "markdown",
   "metadata": {},
   "source": [
    "# Ngrams"
   ]
  },
  {
   "cell_type": "code",
   "execution_count": 23,
   "metadata": {},
   "outputs": [
    {
     "data": {
      "text/plain": [
       "[('ask', 'remember', 'song', 'film'),\n",
       " ('remember', 'song', 'film', 'yester'),\n",
       " ('song', 'film', 'yester', 'years'),\n",
       " ('film', 'yester', 'years', 'chalo'),\n",
       " ('yester', 'years', 'chalo', 'di'),\n",
       " ('years', 'chalo', 'di', 'daar'),\n",
       " ('chalo', 'di', 'daar', 'chalo'),\n",
       " ('di', 'daar', 'chalo', 'chand'),\n",
       " ('daar', 'chalo', 'chand', 'ke'),\n",
       " ('chalo', 'chand', 'ke', 'paar'),\n",
       " ('chand', 'ke', 'paar', 'chalo'),\n",
       " ('ke', 'paar', 'chalo', 'mean'),\n",
       " ('paar', 'chalo', 'mean', 'way'),\n",
       " ('chalo', 'mean', 'way', 'sing'),\n",
       " ('mean', 'way', 'sing', 'lata'),\n",
       " ('way', 'sing', 'lata', 'mangeshkar'),\n",
       " ('sing', 'lata', 'mangeshkar', 'mohd'),\n",
       " ('lata', 'mangeshkar', 'mohd', 'rafi'),\n",
       " ('mangeshkar', 'mohd', 'rafi', 'lyric'),\n",
       " ('mohd', 'rafi', 'lyric', 'kaif'),\n",
       " ('rafi', 'lyric', 'kaif', 'bhopali'),\n",
       " ('lyric', 'kaif', 'bhopali', 'mention'),\n",
       " ('kaif', 'bhopali', 'mention', 'cinema'),\n",
       " ('bhopali', 'mention', 'cinema', 'photography'),\n",
       " ('mention', 'cinema', 'photography', 'sail'),\n",
       " ('cinema', 'photography', 'sail', 'boat'),\n",
       " ('photography', 'sail', 'boat', 'go'),\n",
       " ('sail', 'boat', 'go', 'black'),\n",
       " ('boat', 'go', 'black', 'background'),\n",
       " ('go', 'black', 'background', 'shin'),\n",
       " ('black', 'background', 'shin', 'star'),\n",
       " ('background', 'shin', 'star', 'chalte'),\n",
       " ('shin', 'star', 'chalte', 'chalte'),\n",
       " ('star', 'chalte', 'chalte', 'pakeezah'),\n",
       " ('chalte', 'chalte', 'pakeezah', 'meena'),\n",
       " ('chalte', 'pakeezah', 'meena', 'kumari'),\n",
       " ('pakeezah', 'meena', 'kumari', 'last'),\n",
       " ('meena', 'kumari', 'last', 'film'),\n",
       " ('kumari', 'last', 'film', 'die'),\n",
       " ('last', 'film', 'die', 'amount'),\n",
       " ('film', 'die', 'amount', 'time'),\n",
       " ('die', 'amount', 'time', 'take'),\n",
       " ('amount', 'time', 'take', 'see'),\n",
       " ('time', 'take', 'see', 'screen'),\n",
       " ('take', 'see', 'screen', 'songs'),\n",
       " ('see', 'screen', 'songs', 'picturised'),\n",
       " ('screen', 'songs', 'picturised', 'look'),\n",
       " ('songs', 'picturised', 'look', 'young'),\n",
       " ('picturised', 'look', 'young', 'actor'),\n",
       " ('look', 'young', 'actor', 'change'),\n",
       " ('young', 'actor', 'change', 'look'),\n",
       " ('actor', 'change', 'look', 'late'),\n",
       " ('change', 'look', 'late', 'raj'),\n",
       " ('look', 'late', 'raj', 'kumar'),\n",
       " ('late', 'raj', 'kumar', 'fall'),\n",
       " ('raj', 'kumar', 'fall', 'love'),\n",
       " ('kumar', 'fall', 'love', 'especially'),\n",
       " ('fall', 'love', 'especially', 'feet'),\n",
       " ('love', 'especially', 'feet', 'accidentally'),\n",
       " ('especially', 'feet', 'accidentally', 'go'),\n",
       " ('feet', 'accidentally', 'go', 'train'),\n",
       " ('accidentally', 'go', 'train', 'cabin'),\n",
       " ('go', 'train', 'cabin', 'see'),\n",
       " ('train', 'cabin', 'see', 'leave'),\n",
       " ('cabin', 'see', 'leave', 'note'),\n",
       " ('see', 'leave', 'note', 'beautiful'),\n",
       " ('leave', 'note', 'beautiful', 'conclusion'),\n",
       " ('note', 'beautiful', 'conclusion', 'pakeezah'),\n",
       " ('beautiful', 'conclusion', 'pakeezah', 'beautiful'),\n",
       " ('conclusion', 'pakeezah', 'beautiful', 'romantic'),\n",
       " ('pakeezah', 'beautiful', 'romantic', 'story'),\n",
       " ('beautiful', 'romantic', 'story', 'possible'),\n",
       " ('romantic', 'story', 'possible', 'view'),\n",
       " ('story', 'possible', 'view', 'large'),\n",
       " ('possible', 'view', 'large', 'screen'),\n",
       " ('view', 'large', 'screen', 'sake'),\n",
       " ('large', 'screen', 'sake', 'cinema'),\n",
       " ('screen', 'sake', 'cinema', 'photography'),\n",
       " ('sake', 'cinema', 'photography', 'songs'),\n",
       " ('cinema', 'photography', 'songs', 'movie'),\n",
       " ('photography', 'songs', 'movie', 'star'),\n",
       " ('songs', 'movie', 'star', 'meena'),\n",
       " ('movie', 'star', 'meena', 'kumari'),\n",
       " ('star', 'meena', 'kumari', 'raj'),\n",
       " ('meena', 'kumari', 'raj', 'kumar'),\n",
       " ('kumari', 'raj', 'kumar', 'ashok'),\n",
       " ('raj', 'kumar', 'ashok', 'kumar'),\n",
       " ('kumar', 'ashok', 'kumar', 'direct'),\n",
       " ('ashok', 'kumar', 'direct', 'kamal'),\n",
       " ('kumar', 'direct', 'kamal', 'amrohi'),\n",
       " ('direct', 'kamal', 'amrohi', 'kamal'),\n",
       " ('kamal', 'amrohi', 'kamal', 'amrohi'),\n",
       " ('amrohi', 'kamal', 'amrohi', 'grandson'),\n",
       " ('kamal', 'amrohi', 'grandson', 'start'),\n",
       " ('amrohi', 'grandson', 'start', 'revive'),\n",
       " ('grandson', 'start', 'revive', 'grand'),\n",
       " ('start', 'revive', 'grand', 'father'),\n",
       " ('revive', 'grand', 'father', 'studio'),\n",
       " ('grand', 'father', 'studio', 'make'),\n",
       " ('father', 'studio', 'make', 'comedy'),\n",
       " ('studio', 'make', 'comedy', 'movie')]"
      ]
     },
     "execution_count": 23,
     "metadata": {},
     "output_type": "execute_result"
    }
   ],
   "source": [
    "Corpus['Ngrams'] = Corpus['Normalized_Review'].apply(lambda x: list(nltk.ngrams(x.split( ), 4)))\n",
    "Corpus['Ngrams'][300]"
   ]
  },
  {
   "cell_type": "markdown",
   "metadata": {},
   "source": [
    "# Most Frequent Words "
   ]
  },
  {
   "cell_type": "code",
   "execution_count": 24,
   "metadata": {},
   "outputs": [
    {
     "data": {
      "text/html": [
       "<div>\n",
       "<style scoped>\n",
       "    .dataframe tbody tr th:only-of-type {\n",
       "        vertical-align: middle;\n",
       "    }\n",
       "\n",
       "    .dataframe tbody tr th {\n",
       "        vertical-align: top;\n",
       "    }\n",
       "\n",
       "    .dataframe thead th {\n",
       "        text-align: right;\n",
       "    }\n",
       "</style>\n",
       "<table border=\"1\" class=\"dataframe\">\n",
       "  <thead>\n",
       "    <tr style=\"text-align: right;\">\n",
       "      <th></th>\n",
       "      <th>Word</th>\n",
       "      <th>Count</th>\n",
       "    </tr>\n",
       "  </thead>\n",
       "  <tbody>\n",
       "    <tr>\n",
       "      <th>0</th>\n",
       "      <td>film</td>\n",
       "      <td>48211</td>\n",
       "    </tr>\n",
       "    <tr>\n",
       "      <th>1</th>\n",
       "      <td>movie</td>\n",
       "      <td>44047</td>\n",
       "    </tr>\n",
       "    <tr>\n",
       "      <th>2</th>\n",
       "      <td>like</td>\n",
       "      <td>22372</td>\n",
       "    </tr>\n",
       "    <tr>\n",
       "      <th>3</th>\n",
       "      <td>see</td>\n",
       "      <td>20814</td>\n",
       "    </tr>\n",
       "    <tr>\n",
       "      <th>4</th>\n",
       "      <td>time</td>\n",
       "      <td>16177</td>\n",
       "    </tr>\n",
       "    <tr>\n",
       "      <th>5</th>\n",
       "      <td>make</td>\n",
       "      <td>15551</td>\n",
       "    </tr>\n",
       "    <tr>\n",
       "      <th>6</th>\n",
       "      <td>character</td>\n",
       "      <td>14183</td>\n",
       "    </tr>\n",
       "    <tr>\n",
       "      <th>7</th>\n",
       "      <td>watch</td>\n",
       "      <td>13940</td>\n",
       "    </tr>\n",
       "    <tr>\n",
       "      <th>8</th>\n",
       "      <td>think</td>\n",
       "      <td>12352</td>\n",
       "    </tr>\n",
       "    <tr>\n",
       "      <th>9</th>\n",
       "      <td>story</td>\n",
       "      <td>11990</td>\n",
       "    </tr>\n",
       "    <tr>\n",
       "      <th>10</th>\n",
       "      <td>well</td>\n",
       "      <td>11048</td>\n",
       "    </tr>\n",
       "    <tr>\n",
       "      <th>11</th>\n",
       "      <td>show</td>\n",
       "      <td>10872</td>\n",
       "    </tr>\n",
       "    <tr>\n",
       "      <th>12</th>\n",
       "      <td>look</td>\n",
       "      <td>10054</td>\n",
       "    </tr>\n",
       "    <tr>\n",
       "      <th>13</th>\n",
       "      <td>end</td>\n",
       "      <td>9654</td>\n",
       "    </tr>\n",
       "    <tr>\n",
       "      <th>14</th>\n",
       "      <td>know</td>\n",
       "      <td>9493</td>\n",
       "    </tr>\n",
       "  </tbody>\n",
       "</table>\n",
       "</div>"
      ],
      "text/plain": [
       "         Word  Count\n",
       "0        film  48211\n",
       "1       movie  44047\n",
       "2        like  22372\n",
       "3         see  20814\n",
       "4        time  16177\n",
       "5        make  15551\n",
       "6   character  14183\n",
       "7       watch  13940\n",
       "8       think  12352\n",
       "9       story  11990\n",
       "10       well  11048\n",
       "11       show  10872\n",
       "12       look  10054\n",
       "13        end   9654\n",
       "14       know   9493"
      ]
     },
     "execution_count": 24,
     "metadata": {},
     "output_type": "execute_result"
    }
   ],
   "source": [
    "MostFrequentWord = Counter((Corpus['Normalized_Review']).str.split().explode()).most_common(15)\n",
    "MostFrequentWordDF = pd.DataFrame(MostFrequentWord, columns=('Word', 'Count'))\n",
    "MostFrequentWordDF"
   ]
  },
  {
   "cell_type": "code",
   "execution_count": 25,
   "metadata": {},
   "outputs": [
    {
     "data": {
      "application/vnd.plotly.v1+json": {
       "config": {
        "plotlyServerURL": "https://plot.ly"
       },
       "data": [
        {
         "marker": {
          "color": [
           "Salmon",
           "FireBrick",
           "MediumVioletRed",
           "Tomato",
           "Orange",
           "Gold",
           "DarkKhaki",
           "Lavender",
           "Plum",
           "LimeGreen",
           "MediumSpringGreen",
           "Green",
           "DeepSkyBlue",
           "Aquamarine",
           "MediumSlateBlue"
          ]
         },
         "type": "funnel",
         "x": [
          48211,
          44047,
          22372,
          20814,
          16177,
          15551,
          14183,
          13940,
          12352,
          11990,
          11048,
          10872,
          10054,
          9654,
          9493
         ],
         "y": [
          "film",
          "movie",
          "like",
          "see",
          "time",
          "make",
          "character",
          "watch",
          "think",
          "story",
          "well",
          "show",
          "look",
          "end",
          "know"
         ]
        }
       ],
       "layout": {
        "template": {
         "data": {
          "bar": [
           {
            "error_x": {
             "color": "#2a3f5f"
            },
            "error_y": {
             "color": "#2a3f5f"
            },
            "marker": {
             "line": {
              "color": "#E5ECF6",
              "width": 0.5
             },
             "pattern": {
              "fillmode": "overlay",
              "size": 10,
              "solidity": 0.2
             }
            },
            "type": "bar"
           }
          ],
          "barpolar": [
           {
            "marker": {
             "line": {
              "color": "#E5ECF6",
              "width": 0.5
             },
             "pattern": {
              "fillmode": "overlay",
              "size": 10,
              "solidity": 0.2
             }
            },
            "type": "barpolar"
           }
          ],
          "carpet": [
           {
            "aaxis": {
             "endlinecolor": "#2a3f5f",
             "gridcolor": "white",
             "linecolor": "white",
             "minorgridcolor": "white",
             "startlinecolor": "#2a3f5f"
            },
            "baxis": {
             "endlinecolor": "#2a3f5f",
             "gridcolor": "white",
             "linecolor": "white",
             "minorgridcolor": "white",
             "startlinecolor": "#2a3f5f"
            },
            "type": "carpet"
           }
          ],
          "choropleth": [
           {
            "colorbar": {
             "outlinewidth": 0,
             "ticks": ""
            },
            "type": "choropleth"
           }
          ],
          "contour": [
           {
            "colorbar": {
             "outlinewidth": 0,
             "ticks": ""
            },
            "colorscale": [
             [
              0,
              "#0d0887"
             ],
             [
              0.1111111111111111,
              "#46039f"
             ],
             [
              0.2222222222222222,
              "#7201a8"
             ],
             [
              0.3333333333333333,
              "#9c179e"
             ],
             [
              0.4444444444444444,
              "#bd3786"
             ],
             [
              0.5555555555555556,
              "#d8576b"
             ],
             [
              0.6666666666666666,
              "#ed7953"
             ],
             [
              0.7777777777777778,
              "#fb9f3a"
             ],
             [
              0.8888888888888888,
              "#fdca26"
             ],
             [
              1,
              "#f0f921"
             ]
            ],
            "type": "contour"
           }
          ],
          "contourcarpet": [
           {
            "colorbar": {
             "outlinewidth": 0,
             "ticks": ""
            },
            "type": "contourcarpet"
           }
          ],
          "heatmap": [
           {
            "colorbar": {
             "outlinewidth": 0,
             "ticks": ""
            },
            "colorscale": [
             [
              0,
              "#0d0887"
             ],
             [
              0.1111111111111111,
              "#46039f"
             ],
             [
              0.2222222222222222,
              "#7201a8"
             ],
             [
              0.3333333333333333,
              "#9c179e"
             ],
             [
              0.4444444444444444,
              "#bd3786"
             ],
             [
              0.5555555555555556,
              "#d8576b"
             ],
             [
              0.6666666666666666,
              "#ed7953"
             ],
             [
              0.7777777777777778,
              "#fb9f3a"
             ],
             [
              0.8888888888888888,
              "#fdca26"
             ],
             [
              1,
              "#f0f921"
             ]
            ],
            "type": "heatmap"
           }
          ],
          "heatmapgl": [
           {
            "colorbar": {
             "outlinewidth": 0,
             "ticks": ""
            },
            "colorscale": [
             [
              0,
              "#0d0887"
             ],
             [
              0.1111111111111111,
              "#46039f"
             ],
             [
              0.2222222222222222,
              "#7201a8"
             ],
             [
              0.3333333333333333,
              "#9c179e"
             ],
             [
              0.4444444444444444,
              "#bd3786"
             ],
             [
              0.5555555555555556,
              "#d8576b"
             ],
             [
              0.6666666666666666,
              "#ed7953"
             ],
             [
              0.7777777777777778,
              "#fb9f3a"
             ],
             [
              0.8888888888888888,
              "#fdca26"
             ],
             [
              1,
              "#f0f921"
             ]
            ],
            "type": "heatmapgl"
           }
          ],
          "histogram": [
           {
            "marker": {
             "pattern": {
              "fillmode": "overlay",
              "size": 10,
              "solidity": 0.2
             }
            },
            "type": "histogram"
           }
          ],
          "histogram2d": [
           {
            "colorbar": {
             "outlinewidth": 0,
             "ticks": ""
            },
            "colorscale": [
             [
              0,
              "#0d0887"
             ],
             [
              0.1111111111111111,
              "#46039f"
             ],
             [
              0.2222222222222222,
              "#7201a8"
             ],
             [
              0.3333333333333333,
              "#9c179e"
             ],
             [
              0.4444444444444444,
              "#bd3786"
             ],
             [
              0.5555555555555556,
              "#d8576b"
             ],
             [
              0.6666666666666666,
              "#ed7953"
             ],
             [
              0.7777777777777778,
              "#fb9f3a"
             ],
             [
              0.8888888888888888,
              "#fdca26"
             ],
             [
              1,
              "#f0f921"
             ]
            ],
            "type": "histogram2d"
           }
          ],
          "histogram2dcontour": [
           {
            "colorbar": {
             "outlinewidth": 0,
             "ticks": ""
            },
            "colorscale": [
             [
              0,
              "#0d0887"
             ],
             [
              0.1111111111111111,
              "#46039f"
             ],
             [
              0.2222222222222222,
              "#7201a8"
             ],
             [
              0.3333333333333333,
              "#9c179e"
             ],
             [
              0.4444444444444444,
              "#bd3786"
             ],
             [
              0.5555555555555556,
              "#d8576b"
             ],
             [
              0.6666666666666666,
              "#ed7953"
             ],
             [
              0.7777777777777778,
              "#fb9f3a"
             ],
             [
              0.8888888888888888,
              "#fdca26"
             ],
             [
              1,
              "#f0f921"
             ]
            ],
            "type": "histogram2dcontour"
           }
          ],
          "mesh3d": [
           {
            "colorbar": {
             "outlinewidth": 0,
             "ticks": ""
            },
            "type": "mesh3d"
           }
          ],
          "parcoords": [
           {
            "line": {
             "colorbar": {
              "outlinewidth": 0,
              "ticks": ""
             }
            },
            "type": "parcoords"
           }
          ],
          "pie": [
           {
            "automargin": true,
            "type": "pie"
           }
          ],
          "scatter": [
           {
            "fillpattern": {
             "fillmode": "overlay",
             "size": 10,
             "solidity": 0.2
            },
            "type": "scatter"
           }
          ],
          "scatter3d": [
           {
            "line": {
             "colorbar": {
              "outlinewidth": 0,
              "ticks": ""
             }
            },
            "marker": {
             "colorbar": {
              "outlinewidth": 0,
              "ticks": ""
             }
            },
            "type": "scatter3d"
           }
          ],
          "scattercarpet": [
           {
            "marker": {
             "colorbar": {
              "outlinewidth": 0,
              "ticks": ""
             }
            },
            "type": "scattercarpet"
           }
          ],
          "scattergeo": [
           {
            "marker": {
             "colorbar": {
              "outlinewidth": 0,
              "ticks": ""
             }
            },
            "type": "scattergeo"
           }
          ],
          "scattergl": [
           {
            "marker": {
             "colorbar": {
              "outlinewidth": 0,
              "ticks": ""
             }
            },
            "type": "scattergl"
           }
          ],
          "scattermapbox": [
           {
            "marker": {
             "colorbar": {
              "outlinewidth": 0,
              "ticks": ""
             }
            },
            "type": "scattermapbox"
           }
          ],
          "scatterpolar": [
           {
            "marker": {
             "colorbar": {
              "outlinewidth": 0,
              "ticks": ""
             }
            },
            "type": "scatterpolar"
           }
          ],
          "scatterpolargl": [
           {
            "marker": {
             "colorbar": {
              "outlinewidth": 0,
              "ticks": ""
             }
            },
            "type": "scatterpolargl"
           }
          ],
          "scatterternary": [
           {
            "marker": {
             "colorbar": {
              "outlinewidth": 0,
              "ticks": ""
             }
            },
            "type": "scatterternary"
           }
          ],
          "surface": [
           {
            "colorbar": {
             "outlinewidth": 0,
             "ticks": ""
            },
            "colorscale": [
             [
              0,
              "#0d0887"
             ],
             [
              0.1111111111111111,
              "#46039f"
             ],
             [
              0.2222222222222222,
              "#7201a8"
             ],
             [
              0.3333333333333333,
              "#9c179e"
             ],
             [
              0.4444444444444444,
              "#bd3786"
             ],
             [
              0.5555555555555556,
              "#d8576b"
             ],
             [
              0.6666666666666666,
              "#ed7953"
             ],
             [
              0.7777777777777778,
              "#fb9f3a"
             ],
             [
              0.8888888888888888,
              "#fdca26"
             ],
             [
              1,
              "#f0f921"
             ]
            ],
            "type": "surface"
           }
          ],
          "table": [
           {
            "cells": {
             "fill": {
              "color": "#EBF0F8"
             },
             "line": {
              "color": "white"
             }
            },
            "header": {
             "fill": {
              "color": "#C8D4E3"
             },
             "line": {
              "color": "white"
             }
            },
            "type": "table"
           }
          ]
         },
         "layout": {
          "annotationdefaults": {
           "arrowcolor": "#2a3f5f",
           "arrowhead": 0,
           "arrowwidth": 1
          },
          "autotypenumbers": "strict",
          "coloraxis": {
           "colorbar": {
            "outlinewidth": 0,
            "ticks": ""
           }
          },
          "colorscale": {
           "diverging": [
            [
             0,
             "#8e0152"
            ],
            [
             0.1,
             "#c51b7d"
            ],
            [
             0.2,
             "#de77ae"
            ],
            [
             0.3,
             "#f1b6da"
            ],
            [
             0.4,
             "#fde0ef"
            ],
            [
             0.5,
             "#f7f7f7"
            ],
            [
             0.6,
             "#e6f5d0"
            ],
            [
             0.7,
             "#b8e186"
            ],
            [
             0.8,
             "#7fbc41"
            ],
            [
             0.9,
             "#4d9221"
            ],
            [
             1,
             "#276419"
            ]
           ],
           "sequential": [
            [
             0,
             "#0d0887"
            ],
            [
             0.1111111111111111,
             "#46039f"
            ],
            [
             0.2222222222222222,
             "#7201a8"
            ],
            [
             0.3333333333333333,
             "#9c179e"
            ],
            [
             0.4444444444444444,
             "#bd3786"
            ],
            [
             0.5555555555555556,
             "#d8576b"
            ],
            [
             0.6666666666666666,
             "#ed7953"
            ],
            [
             0.7777777777777778,
             "#fb9f3a"
            ],
            [
             0.8888888888888888,
             "#fdca26"
            ],
            [
             1,
             "#f0f921"
            ]
           ],
           "sequentialminus": [
            [
             0,
             "#0d0887"
            ],
            [
             0.1111111111111111,
             "#46039f"
            ],
            [
             0.2222222222222222,
             "#7201a8"
            ],
            [
             0.3333333333333333,
             "#9c179e"
            ],
            [
             0.4444444444444444,
             "#bd3786"
            ],
            [
             0.5555555555555556,
             "#d8576b"
            ],
            [
             0.6666666666666666,
             "#ed7953"
            ],
            [
             0.7777777777777778,
             "#fb9f3a"
            ],
            [
             0.8888888888888888,
             "#fdca26"
            ],
            [
             1,
             "#f0f921"
            ]
           ]
          },
          "colorway": [
           "#636efa",
           "#EF553B",
           "#00cc96",
           "#ab63fa",
           "#FFA15A",
           "#19d3f3",
           "#FF6692",
           "#B6E880",
           "#FF97FF",
           "#FECB52"
          ],
          "font": {
           "color": "#2a3f5f"
          },
          "geo": {
           "bgcolor": "white",
           "lakecolor": "white",
           "landcolor": "#E5ECF6",
           "showlakes": true,
           "showland": true,
           "subunitcolor": "white"
          },
          "hoverlabel": {
           "align": "left"
          },
          "hovermode": "closest",
          "mapbox": {
           "style": "light"
          },
          "paper_bgcolor": "white",
          "plot_bgcolor": "#E5ECF6",
          "polar": {
           "angularaxis": {
            "gridcolor": "white",
            "linecolor": "white",
            "ticks": ""
           },
           "bgcolor": "#E5ECF6",
           "radialaxis": {
            "gridcolor": "white",
            "linecolor": "white",
            "ticks": ""
           }
          },
          "scene": {
           "xaxis": {
            "backgroundcolor": "#E5ECF6",
            "gridcolor": "white",
            "gridwidth": 2,
            "linecolor": "white",
            "showbackground": true,
            "ticks": "",
            "zerolinecolor": "white"
           },
           "yaxis": {
            "backgroundcolor": "#E5ECF6",
            "gridcolor": "white",
            "gridwidth": 2,
            "linecolor": "white",
            "showbackground": true,
            "ticks": "",
            "zerolinecolor": "white"
           },
           "zaxis": {
            "backgroundcolor": "#E5ECF6",
            "gridcolor": "white",
            "gridwidth": 2,
            "linecolor": "white",
            "showbackground": true,
            "ticks": "",
            "zerolinecolor": "white"
           }
          },
          "shapedefaults": {
           "line": {
            "color": "#2a3f5f"
           }
          },
          "ternary": {
           "aaxis": {
            "gridcolor": "white",
            "linecolor": "white",
            "ticks": ""
           },
           "baxis": {
            "gridcolor": "white",
            "linecolor": "white",
            "ticks": ""
           },
           "bgcolor": "#E5ECF6",
           "caxis": {
            "gridcolor": "white",
            "linecolor": "white",
            "ticks": ""
           }
          },
          "title": {
           "x": 0.05
          },
          "xaxis": {
           "automargin": true,
           "gridcolor": "white",
           "linecolor": "white",
           "ticks": "",
           "title": {
            "standoff": 15
           },
           "zerolinecolor": "white",
           "zerolinewidth": 2
          },
          "yaxis": {
           "automargin": true,
           "gridcolor": "white",
           "linecolor": "white",
           "ticks": "",
           "title": {
            "standoff": 15
           },
           "zerolinecolor": "white",
           "zerolinewidth": 2
          }
         }
        }
       }
      }
     },
     "metadata": {},
     "output_type": "display_data"
    }
   ],
   "source": [
    "fig = go.Figure(go.Funnel(\n",
    "    y = MostFrequentWordDF['Word'].tolist(),\n",
    "    x = MostFrequentWordDF['Count'].tolist(),\n",
    "    marker = {\"color\": color3}))\n",
    "fig.show()"
   ]
  },
  {
   "cell_type": "code",
   "execution_count": 26,
   "metadata": {},
   "outputs": [
    {
     "data": {
      "application/vnd.plotly.v1+json": {
       "config": {
        "plotlyServerURL": "https://plot.ly"
       },
       "data": [
        {
         "alignmentgroup": "True",
         "hovertemplate": "Count=%{x}<br>Word=%{y}<extra></extra>",
         "legendgroup": "",
         "marker": {
          "color": "#636efa",
          "pattern": {
           "shape": ""
          }
         },
         "name": "",
         "offsetgroup": "",
         "orientation": "h",
         "showlegend": false,
         "textposition": "auto",
         "type": "bar",
         "x": [
          48211,
          44047,
          22372,
          20814,
          16177,
          15551,
          14183,
          13940,
          12352,
          11990,
          11048,
          10872,
          10054,
          9654,
          9493
         ],
         "xaxis": "x",
         "y": [
          "film",
          "movie",
          "like",
          "see",
          "time",
          "make",
          "character",
          "watch",
          "think",
          "story",
          "well",
          "show",
          "look",
          "end",
          "know"
         ],
         "yaxis": "y"
        }
       ],
       "layout": {
        "barmode": "relative",
        "legend": {
         "tracegroupgap": 0
        },
        "margin": {
         "t": 60
        },
        "template": {
         "data": {
          "bar": [
           {
            "error_x": {
             "color": "#2a3f5f"
            },
            "error_y": {
             "color": "#2a3f5f"
            },
            "marker": {
             "line": {
              "color": "#E5ECF6",
              "width": 0.5
             },
             "pattern": {
              "fillmode": "overlay",
              "size": 10,
              "solidity": 0.2
             }
            },
            "type": "bar"
           }
          ],
          "barpolar": [
           {
            "marker": {
             "line": {
              "color": "#E5ECF6",
              "width": 0.5
             },
             "pattern": {
              "fillmode": "overlay",
              "size": 10,
              "solidity": 0.2
             }
            },
            "type": "barpolar"
           }
          ],
          "carpet": [
           {
            "aaxis": {
             "endlinecolor": "#2a3f5f",
             "gridcolor": "white",
             "linecolor": "white",
             "minorgridcolor": "white",
             "startlinecolor": "#2a3f5f"
            },
            "baxis": {
             "endlinecolor": "#2a3f5f",
             "gridcolor": "white",
             "linecolor": "white",
             "minorgridcolor": "white",
             "startlinecolor": "#2a3f5f"
            },
            "type": "carpet"
           }
          ],
          "choropleth": [
           {
            "colorbar": {
             "outlinewidth": 0,
             "ticks": ""
            },
            "type": "choropleth"
           }
          ],
          "contour": [
           {
            "colorbar": {
             "outlinewidth": 0,
             "ticks": ""
            },
            "colorscale": [
             [
              0,
              "#0d0887"
             ],
             [
              0.1111111111111111,
              "#46039f"
             ],
             [
              0.2222222222222222,
              "#7201a8"
             ],
             [
              0.3333333333333333,
              "#9c179e"
             ],
             [
              0.4444444444444444,
              "#bd3786"
             ],
             [
              0.5555555555555556,
              "#d8576b"
             ],
             [
              0.6666666666666666,
              "#ed7953"
             ],
             [
              0.7777777777777778,
              "#fb9f3a"
             ],
             [
              0.8888888888888888,
              "#fdca26"
             ],
             [
              1,
              "#f0f921"
             ]
            ],
            "type": "contour"
           }
          ],
          "contourcarpet": [
           {
            "colorbar": {
             "outlinewidth": 0,
             "ticks": ""
            },
            "type": "contourcarpet"
           }
          ],
          "heatmap": [
           {
            "colorbar": {
             "outlinewidth": 0,
             "ticks": ""
            },
            "colorscale": [
             [
              0,
              "#0d0887"
             ],
             [
              0.1111111111111111,
              "#46039f"
             ],
             [
              0.2222222222222222,
              "#7201a8"
             ],
             [
              0.3333333333333333,
              "#9c179e"
             ],
             [
              0.4444444444444444,
              "#bd3786"
             ],
             [
              0.5555555555555556,
              "#d8576b"
             ],
             [
              0.6666666666666666,
              "#ed7953"
             ],
             [
              0.7777777777777778,
              "#fb9f3a"
             ],
             [
              0.8888888888888888,
              "#fdca26"
             ],
             [
              1,
              "#f0f921"
             ]
            ],
            "type": "heatmap"
           }
          ],
          "heatmapgl": [
           {
            "colorbar": {
             "outlinewidth": 0,
             "ticks": ""
            },
            "colorscale": [
             [
              0,
              "#0d0887"
             ],
             [
              0.1111111111111111,
              "#46039f"
             ],
             [
              0.2222222222222222,
              "#7201a8"
             ],
             [
              0.3333333333333333,
              "#9c179e"
             ],
             [
              0.4444444444444444,
              "#bd3786"
             ],
             [
              0.5555555555555556,
              "#d8576b"
             ],
             [
              0.6666666666666666,
              "#ed7953"
             ],
             [
              0.7777777777777778,
              "#fb9f3a"
             ],
             [
              0.8888888888888888,
              "#fdca26"
             ],
             [
              1,
              "#f0f921"
             ]
            ],
            "type": "heatmapgl"
           }
          ],
          "histogram": [
           {
            "marker": {
             "pattern": {
              "fillmode": "overlay",
              "size": 10,
              "solidity": 0.2
             }
            },
            "type": "histogram"
           }
          ],
          "histogram2d": [
           {
            "colorbar": {
             "outlinewidth": 0,
             "ticks": ""
            },
            "colorscale": [
             [
              0,
              "#0d0887"
             ],
             [
              0.1111111111111111,
              "#46039f"
             ],
             [
              0.2222222222222222,
              "#7201a8"
             ],
             [
              0.3333333333333333,
              "#9c179e"
             ],
             [
              0.4444444444444444,
              "#bd3786"
             ],
             [
              0.5555555555555556,
              "#d8576b"
             ],
             [
              0.6666666666666666,
              "#ed7953"
             ],
             [
              0.7777777777777778,
              "#fb9f3a"
             ],
             [
              0.8888888888888888,
              "#fdca26"
             ],
             [
              1,
              "#f0f921"
             ]
            ],
            "type": "histogram2d"
           }
          ],
          "histogram2dcontour": [
           {
            "colorbar": {
             "outlinewidth": 0,
             "ticks": ""
            },
            "colorscale": [
             [
              0,
              "#0d0887"
             ],
             [
              0.1111111111111111,
              "#46039f"
             ],
             [
              0.2222222222222222,
              "#7201a8"
             ],
             [
              0.3333333333333333,
              "#9c179e"
             ],
             [
              0.4444444444444444,
              "#bd3786"
             ],
             [
              0.5555555555555556,
              "#d8576b"
             ],
             [
              0.6666666666666666,
              "#ed7953"
             ],
             [
              0.7777777777777778,
              "#fb9f3a"
             ],
             [
              0.8888888888888888,
              "#fdca26"
             ],
             [
              1,
              "#f0f921"
             ]
            ],
            "type": "histogram2dcontour"
           }
          ],
          "mesh3d": [
           {
            "colorbar": {
             "outlinewidth": 0,
             "ticks": ""
            },
            "type": "mesh3d"
           }
          ],
          "parcoords": [
           {
            "line": {
             "colorbar": {
              "outlinewidth": 0,
              "ticks": ""
             }
            },
            "type": "parcoords"
           }
          ],
          "pie": [
           {
            "automargin": true,
            "type": "pie"
           }
          ],
          "scatter": [
           {
            "fillpattern": {
             "fillmode": "overlay",
             "size": 10,
             "solidity": 0.2
            },
            "type": "scatter"
           }
          ],
          "scatter3d": [
           {
            "line": {
             "colorbar": {
              "outlinewidth": 0,
              "ticks": ""
             }
            },
            "marker": {
             "colorbar": {
              "outlinewidth": 0,
              "ticks": ""
             }
            },
            "type": "scatter3d"
           }
          ],
          "scattercarpet": [
           {
            "marker": {
             "colorbar": {
              "outlinewidth": 0,
              "ticks": ""
             }
            },
            "type": "scattercarpet"
           }
          ],
          "scattergeo": [
           {
            "marker": {
             "colorbar": {
              "outlinewidth": 0,
              "ticks": ""
             }
            },
            "type": "scattergeo"
           }
          ],
          "scattergl": [
           {
            "marker": {
             "colorbar": {
              "outlinewidth": 0,
              "ticks": ""
             }
            },
            "type": "scattergl"
           }
          ],
          "scattermapbox": [
           {
            "marker": {
             "colorbar": {
              "outlinewidth": 0,
              "ticks": ""
             }
            },
            "type": "scattermapbox"
           }
          ],
          "scatterpolar": [
           {
            "marker": {
             "colorbar": {
              "outlinewidth": 0,
              "ticks": ""
             }
            },
            "type": "scatterpolar"
           }
          ],
          "scatterpolargl": [
           {
            "marker": {
             "colorbar": {
              "outlinewidth": 0,
              "ticks": ""
             }
            },
            "type": "scatterpolargl"
           }
          ],
          "scatterternary": [
           {
            "marker": {
             "colorbar": {
              "outlinewidth": 0,
              "ticks": ""
             }
            },
            "type": "scatterternary"
           }
          ],
          "surface": [
           {
            "colorbar": {
             "outlinewidth": 0,
             "ticks": ""
            },
            "colorscale": [
             [
              0,
              "#0d0887"
             ],
             [
              0.1111111111111111,
              "#46039f"
             ],
             [
              0.2222222222222222,
              "#7201a8"
             ],
             [
              0.3333333333333333,
              "#9c179e"
             ],
             [
              0.4444444444444444,
              "#bd3786"
             ],
             [
              0.5555555555555556,
              "#d8576b"
             ],
             [
              0.6666666666666666,
              "#ed7953"
             ],
             [
              0.7777777777777778,
              "#fb9f3a"
             ],
             [
              0.8888888888888888,
              "#fdca26"
             ],
             [
              1,
              "#f0f921"
             ]
            ],
            "type": "surface"
           }
          ],
          "table": [
           {
            "cells": {
             "fill": {
              "color": "#EBF0F8"
             },
             "line": {
              "color": "white"
             }
            },
            "header": {
             "fill": {
              "color": "#C8D4E3"
             },
             "line": {
              "color": "white"
             }
            },
            "type": "table"
           }
          ]
         },
         "layout": {
          "annotationdefaults": {
           "arrowcolor": "#2a3f5f",
           "arrowhead": 0,
           "arrowwidth": 1
          },
          "autotypenumbers": "strict",
          "coloraxis": {
           "colorbar": {
            "outlinewidth": 0,
            "ticks": ""
           }
          },
          "colorscale": {
           "diverging": [
            [
             0,
             "#8e0152"
            ],
            [
             0.1,
             "#c51b7d"
            ],
            [
             0.2,
             "#de77ae"
            ],
            [
             0.3,
             "#f1b6da"
            ],
            [
             0.4,
             "#fde0ef"
            ],
            [
             0.5,
             "#f7f7f7"
            ],
            [
             0.6,
             "#e6f5d0"
            ],
            [
             0.7,
             "#b8e186"
            ],
            [
             0.8,
             "#7fbc41"
            ],
            [
             0.9,
             "#4d9221"
            ],
            [
             1,
             "#276419"
            ]
           ],
           "sequential": [
            [
             0,
             "#0d0887"
            ],
            [
             0.1111111111111111,
             "#46039f"
            ],
            [
             0.2222222222222222,
             "#7201a8"
            ],
            [
             0.3333333333333333,
             "#9c179e"
            ],
            [
             0.4444444444444444,
             "#bd3786"
            ],
            [
             0.5555555555555556,
             "#d8576b"
            ],
            [
             0.6666666666666666,
             "#ed7953"
            ],
            [
             0.7777777777777778,
             "#fb9f3a"
            ],
            [
             0.8888888888888888,
             "#fdca26"
            ],
            [
             1,
             "#f0f921"
            ]
           ],
           "sequentialminus": [
            [
             0,
             "#0d0887"
            ],
            [
             0.1111111111111111,
             "#46039f"
            ],
            [
             0.2222222222222222,
             "#7201a8"
            ],
            [
             0.3333333333333333,
             "#9c179e"
            ],
            [
             0.4444444444444444,
             "#bd3786"
            ],
            [
             0.5555555555555556,
             "#d8576b"
            ],
            [
             0.6666666666666666,
             "#ed7953"
            ],
            [
             0.7777777777777778,
             "#fb9f3a"
            ],
            [
             0.8888888888888888,
             "#fdca26"
            ],
            [
             1,
             "#f0f921"
            ]
           ]
          },
          "colorway": [
           "#636efa",
           "#EF553B",
           "#00cc96",
           "#ab63fa",
           "#FFA15A",
           "#19d3f3",
           "#FF6692",
           "#B6E880",
           "#FF97FF",
           "#FECB52"
          ],
          "font": {
           "color": "#2a3f5f"
          },
          "geo": {
           "bgcolor": "white",
           "lakecolor": "white",
           "landcolor": "#E5ECF6",
           "showlakes": true,
           "showland": true,
           "subunitcolor": "white"
          },
          "hoverlabel": {
           "align": "left"
          },
          "hovermode": "closest",
          "mapbox": {
           "style": "light"
          },
          "paper_bgcolor": "white",
          "plot_bgcolor": "#E5ECF6",
          "polar": {
           "angularaxis": {
            "gridcolor": "white",
            "linecolor": "white",
            "ticks": ""
           },
           "bgcolor": "#E5ECF6",
           "radialaxis": {
            "gridcolor": "white",
            "linecolor": "white",
            "ticks": ""
           }
          },
          "scene": {
           "xaxis": {
            "backgroundcolor": "#E5ECF6",
            "gridcolor": "white",
            "gridwidth": 2,
            "linecolor": "white",
            "showbackground": true,
            "ticks": "",
            "zerolinecolor": "white"
           },
           "yaxis": {
            "backgroundcolor": "#E5ECF6",
            "gridcolor": "white",
            "gridwidth": 2,
            "linecolor": "white",
            "showbackground": true,
            "ticks": "",
            "zerolinecolor": "white"
           },
           "zaxis": {
            "backgroundcolor": "#E5ECF6",
            "gridcolor": "white",
            "gridwidth": 2,
            "linecolor": "white",
            "showbackground": true,
            "ticks": "",
            "zerolinecolor": "white"
           }
          },
          "shapedefaults": {
           "line": {
            "color": "#2a3f5f"
           }
          },
          "ternary": {
           "aaxis": {
            "gridcolor": "white",
            "linecolor": "white",
            "ticks": ""
           },
           "baxis": {
            "gridcolor": "white",
            "linecolor": "white",
            "ticks": ""
           },
           "bgcolor": "#E5ECF6",
           "caxis": {
            "gridcolor": "white",
            "linecolor": "white",
            "ticks": ""
           }
          },
          "title": {
           "x": 0.05
          },
          "xaxis": {
           "automargin": true,
           "gridcolor": "white",
           "linecolor": "white",
           "ticks": "",
           "title": {
            "standoff": 15
           },
           "zerolinecolor": "white",
           "zerolinewidth": 2
          },
          "yaxis": {
           "automargin": true,
           "gridcolor": "white",
           "linecolor": "white",
           "ticks": "",
           "title": {
            "standoff": 15
           },
           "zerolinecolor": "white",
           "zerolinewidth": 2
          }
         }
        },
        "xaxis": {
         "anchor": "y",
         "domain": [
          0,
          1
         ],
         "title": {
          "text": "Count"
         }
        },
        "yaxis": {
         "anchor": "x",
         "domain": [
          0,
          1
         ],
         "title": {
          "text": "Word"
         }
        }
       }
      }
     },
     "metadata": {},
     "output_type": "display_data"
    }
   ],
   "source": [
    "fig = px.bar(MostFrequentWordDF, y='Word', x='Count',  orientation='h')\n",
    "fig.show()"
   ]
  },
  {
   "cell_type": "markdown",
   "metadata": {},
   "source": [
    "# Number Of Words "
   ]
  },
  {
   "cell_type": "code",
   "execution_count": 27,
   "metadata": {},
   "outputs": [
    {
     "data": {
      "text/plain": [
       "2595981"
      ]
     },
     "execution_count": 27,
     "metadata": {},
     "output_type": "execute_result"
    }
   ],
   "source": [
    "Corpus[\"Number of Words\"] = Corpus[\"Normalized_Review\"].apply(lambda n:len(word_tokenize(n)))\n",
    "Corpus.drop(Corpus[ Corpus[\"Number of Words\"] == 0].index, inplace = True)\n",
    "Corpus[\"Number of Words\"].sum()"
   ]
  },
  {
   "cell_type": "markdown",
   "metadata": {},
   "source": [
    "# Number Of Charachters "
   ]
  },
  {
   "cell_type": "code",
   "execution_count": 28,
   "metadata": {},
   "outputs": [
    {
     "data": {
      "text/plain": [
       "17369402"
      ]
     },
     "execution_count": 28,
     "metadata": {},
     "output_type": "execute_result"
    }
   ],
   "source": [
    "Corpus[\"Number of Charachters\"] = Corpus[\"Normalized_Review\"].str.len()\n",
    "Corpus[\"Number of Charachters\"].sum()"
   ]
  },
  {
   "cell_type": "markdown",
   "metadata": {},
   "source": [
    "# Average Number Of Words "
   ]
  },
  {
   "cell_type": "code",
   "execution_count": 29,
   "metadata": {},
   "outputs": [
    {
     "data": {
      "text/plain": [
       "104"
      ]
     },
     "execution_count": 29,
     "metadata": {},
     "output_type": "execute_result"
    }
   ],
   "source": [
    "AverageNaumberOfWords = int(np.round((Corpus[\"Number of Words\"].mean())))\n",
    "AverageNaumberOfWords"
   ]
  },
  {
   "cell_type": "markdown",
   "metadata": {},
   "source": [
    "# Average Number Of Charachters "
   ]
  },
  {
   "cell_type": "code",
   "execution_count": 30,
   "metadata": {},
   "outputs": [
    {
     "data": {
      "text/plain": [
       "695"
      ]
     },
     "execution_count": 30,
     "metadata": {},
     "output_type": "execute_result"
    }
   ],
   "source": [
    "AverageNumberOfCharachters = int(np.round(Corpus[\"Number of Charachters\"].mean()))\n",
    "AverageNumberOfCharachters"
   ]
  },
  {
   "cell_type": "markdown",
   "metadata": {},
   "source": [
    "# Maximum Number Of Word"
   ]
  },
  {
   "cell_type": "code",
   "execution_count": 31,
   "metadata": {},
   "outputs": [
    {
     "data": {
      "text/plain": [
       "1275"
      ]
     },
     "execution_count": 31,
     "metadata": {},
     "output_type": "execute_result"
    }
   ],
   "source": [
    "MaximumNaumberOfWords = Corpus[\"Number of Words\"].max()\n",
    "MaximumNaumberOfWords"
   ]
  },
  {
   "cell_type": "markdown",
   "metadata": {},
   "source": [
    "# Maximum Number Of Charachters "
   ]
  },
  {
   "cell_type": "code",
   "execution_count": 32,
   "metadata": {},
   "outputs": [
    {
     "data": {
      "text/plain": [
       "7937"
      ]
     },
     "execution_count": 32,
     "metadata": {},
     "output_type": "execute_result"
    }
   ],
   "source": [
    "MaximumNumberOfCharachters = Corpus['Number of Charachters'].max() \n",
    "MaximumNumberOfCharachters"
   ]
  },
  {
   "cell_type": "markdown",
   "metadata": {},
   "source": [
    "# Minimum Number Of Words"
   ]
  },
  {
   "cell_type": "code",
   "execution_count": 33,
   "metadata": {},
   "outputs": [
    {
     "data": {
      "text/plain": [
       "3"
      ]
     },
     "execution_count": 33,
     "metadata": {},
     "output_type": "execute_result"
    }
   ],
   "source": [
    "MimimumNaumberOfWords = Corpus[\"Number of Words\"].min()\n",
    "MimimumNaumberOfWords"
   ]
  },
  {
   "cell_type": "markdown",
   "metadata": {},
   "source": [
    "# Minimum Number Of Charachters "
   ]
  },
  {
   "cell_type": "code",
   "execution_count": 34,
   "metadata": {},
   "outputs": [
    {
     "data": {
      "text/plain": [
       "21"
      ]
     },
     "execution_count": 34,
     "metadata": {},
     "output_type": "execute_result"
    }
   ],
   "source": [
    "MinimumNumberOfCharachters = Corpus['Number of Charachters'].min() \n",
    "MinimumNumberOfCharachters"
   ]
  },
  {
   "cell_type": "markdown",
   "metadata": {},
   "source": [
    "# Split The DataSet Into Independent Variables (X) And Dependent Variable (Y)"
   ]
  },
  {
   "cell_type": "code",
   "execution_count": 35,
   "metadata": {},
   "outputs": [],
   "source": [
    "X= Corpus['Normalized_Review']\n",
    "y = Corpus['Sentiment']"
   ]
  },
  {
   "cell_type": "markdown",
   "metadata": {},
   "source": [
    "# Label Encoder"
   ]
  },
  {
   "cell_type": "code",
   "execution_count": 36,
   "metadata": {},
   "outputs": [],
   "source": [
    "y = LabelEncoder().fit_transform(y)"
   ]
  },
  {
   "cell_type": "markdown",
   "metadata": {},
   "source": [
    "# Split The Dataset Into Training And Testing"
   ]
  },
  {
   "cell_type": "code",
   "execution_count": 37,
   "metadata": {},
   "outputs": [],
   "source": [
    "X_train, X_test, y_train, y_test = train_test_split(X, y, test_size=0.30, random_state=30)"
   ]
  },
  {
   "cell_type": "markdown",
   "metadata": {},
   "source": [
    "# TfidfVectorizer"
   ]
  },
  {
   "cell_type": "code",
   "execution_count": 38,
   "metadata": {},
   "outputs": [],
   "source": [
    "Tfid = TfidfVectorizer()\n",
    "X_train_Tfid = Tfid.fit_transform(X_train)\n",
    "X_test_Tfid = Tfid.transform(X_test)"
   ]
  },
  {
   "cell_type": "code",
   "execution_count": 39,
   "metadata": {},
   "outputs": [
    {
     "data": {
      "text/plain": [
       "{'bo': 4997,\n",
       " 'derek': 11876,\n",
       " 'movie': 31242,\n",
       " 'audience': 2830,\n",
       " 'expect': 15650,\n",
       " 'paper': 34306,\n",
       " 'thin': 47022,\n",
       " 'plot': 35849,\n",
       " 'shots': 42407,\n",
       " 'mrs': 31290,\n",
       " 'clothe': 8536,\n",
       " 'ghost': 18656,\n",
       " 'first': 16809,\n",
       " 'fifteen': 16610,\n",
       " 'minutes': 30377,\n",
       " 'ordinary': 33560,\n",
       " 'tv': 48528,\n",
       " 'drama': 13431,\n",
       " 'long': 27576,\n",
       " 'scott': 41250,\n",
       " 'anthony': 1825,\n",
       " 'quinn': 37670,\n",
       " 'still': 44694,\n",
       " 'alive': 1125,\n",
       " 'actor': 375,\n",
       " 'experience': 15672,\n",
       " 'roles': 39826,\n",
       " 'famous': 16050,\n",
       " 'need': 32040,\n",
       " 'work': 52194,\n",
       " 'money': 30800,\n",
       " 'opposite': 33475,\n",
       " 'play': 35767,\n",
       " 'strikingly': 44963,\n",
       " 'handsome': 20388,\n",
       " 'young': 52701,\n",
       " 'woman': 52081,\n",
       " 'complete': 9112,\n",
       " 'waste': 51207,\n",
       " 'time': 47297,\n",
       " 'want': 51113,\n",
       " 'see': 41499,\n",
       " 'rent': 38891,\n",
       " 'lawrence': 26626,\n",
       " 'arabia': 2128,\n",
       " 'la': 26130,\n",
       " 'strada': 44845,\n",
       " 'nude': 32814,\n",
       " 'women': 52091,\n",
       " 'bad': 3218,\n",
       " 'act': 349,\n",
       " 'porno': 36182,\n",
       " 'lose': 27680,\n",
       " 'control': 9663,\n",
       " 'offer': 33185,\n",
       " 'erotic': 15119,\n",
       " 'thriller': 47133,\n",
       " 'genre': 18496,\n",
       " 'consider': 9474,\n",
       " 'pulp': 37317,\n",
       " 'fiction': 16569,\n",
       " 'film': 16655,\n",
       " 'world': 52218,\n",
       " 'involve': 23863,\n",
       " 'roundabout': 40056,\n",
       " 'route': 40073,\n",
       " 'murderous': 31471,\n",
       " 'intent': 23592,\n",
       " 'intersperse': 23715,\n",
       " 'copious': 9765,\n",
       " 'disrobe': 12781,\n",
       " 'complaint': 9106,\n",
       " 'especially': 15199,\n",
       " 'stunningly': 45058,\n",
       " 'beautiful': 3891,\n",
       " 'invariably': 23805,\n",
       " 'inhabit': 23310,\n",
       " 'believe': 4062,\n",
       " 'kim': 25523,\n",
       " 'ward': 51126,\n",
       " 'kira': 25598,\n",
       " 'reed': 38505,\n",
       " 'suffer': 45300,\n",
       " 'bout': 5434,\n",
       " 'writer': 52330,\n",
       " 'block': 4865,\n",
       " 'chance': 7499,\n",
       " 'meet': 29621,\n",
       " 'man': 28555,\n",
       " 'doug': 13332,\n",
       " 'jeffery': 24396,\n",
       " 'engage': 14777,\n",
       " 'risky': 39584,\n",
       " 'sexual': 41896,\n",
       " 'encounter': 14707,\n",
       " 'refuse': 38579,\n",
       " 'divulge': 12917,\n",
       " 'steadfastly': 44515,\n",
       " 'affair': 646,\n",
       " 'agent': 751,\n",
       " 'alexa': 1066,\n",
       " 'anneliza': 1746,\n",
       " 'think': 47027,\n",
       " 'wonder': 52095,\n",
       " 'book': 5262,\n",
       " 'sales': 40516,\n",
       " 'type': 48611,\n",
       " 'denouement': 11772,\n",
       " 'come': 8911,\n",
       " 'near': 31990,\n",
       " 'end': 14721,\n",
       " 'add': 424,\n",
       " 'kind': 25539,\n",
       " 'change': 7521,\n",
       " 'like': 27159,\n",
       " 'undemanding': 49011,\n",
       " 'performances': 34999,\n",
       " 'cast': 7095,\n",
       " 'vary': 50210,\n",
       " 'carry': 7007,\n",
       " 'psycho': 37198,\n",
       " 'sociopath': 43465,\n",
       " 'cross': 10450,\n",
       " 'look': 27607,\n",
       " 'fail': 15945,\n",
       " 'convince': 9705,\n",
       " 'peril': 35008,\n",
       " 'clay': 8390,\n",
       " 'greenbush': 19560,\n",
       " 'pi': 35414,\n",
       " 'finally': 16713,\n",
       " 'note': 32717,\n",
       " 'caution': 7227,\n",
       " 'dvd': 13876,\n",
       " 'review': 39267,\n",
       " 'cover': 10092,\n",
       " 'disc': 12568,\n",
       " 'state': 44468,\n",
       " 'rat': 38084,\n",
       " 'run': 40228,\n",
       " 'explain': 15689,\n",
       " 'sex': 41876,\n",
       " 'scenes': 41021,\n",
       " 'truncate': 48317,\n",
       " 'jennifer': 24431,\n",
       " 'ludlow': 27879,\n",
       " 'performance': 34998,\n",
       " 'cut': 10749,\n",
       " 'short': 42377,\n",
       " 'start': 44454,\n",
       " 'star': 44415,\n",
       " 'deadly': 11231,\n",
       " 'venoms': 50327,\n",
       " 'bloody': 4919,\n",
       " 'violent': 50669,\n",
       " 'story': 44813,\n",
       " 'ricky': 39423,\n",
       " 'super': 45460,\n",
       " 'ninjas': 32460,\n",
       " 'feature': 16325,\n",
       " 'best': 4303,\n",
       " 'hand': 20357,\n",
       " 'fight': 16620,\n",
       " 'sequence': 41726,\n",
       " 'hong': 21731,\n",
       " 'kong': 25843,\n",
       " 'history': 21449,\n",
       " 'director': 12498,\n",
       " 'chang': 7519,\n",
       " 'cheh': 7755,\n",
       " 'create': 10249,\n",
       " 'masterpiece': 29083,\n",
       " 'launch': 26571,\n",
       " 'career': 6862,\n",
       " 'men': 29764,\n",
       " 'meng': 29794,\n",
       " 'lo': 27426,\n",
       " 'ass': 2554,\n",
       " 'kuo': 26070,\n",
       " 'chui': 8092,\n",
       " 'philip': 35303,\n",
       " 'kwok': 26110,\n",
       " 'hard': 20473,\n",
       " 'boil': 5113,\n",
       " 'chop': 7990,\n",
       " 'socky': 43473,\n",
       " 'fan': 16052,\n",
       " 'apperciate': 2031,\n",
       " 'make': 28423,\n",
       " 'great': 19537,\n",
       " 'silent': 42653,\n",
       " 'least': 26703,\n",
       " 'big': 4451,\n",
       " 'sort': 43721,\n",
       " 'way': 51289,\n",
       " 'huge': 22078,\n",
       " 'line': 27242,\n",
       " 'profound': 36900,\n",
       " 'scene': 41016,\n",
       " 'shatter': 42088,\n",
       " 'human': 22115,\n",
       " 'tragedy': 47828,\n",
       " 'felt': 16412,\n",
       " 'gag': 18042,\n",
       " 'train': 47840,\n",
       " 'wreck': 52299,\n",
       " 'tear': 46468,\n",
       " 'eye': 15843,\n",
       " 'away': 3044,\n",
       " 'dialogue': 12216,\n",
       " 'stage': 44311,\n",
       " 'doubt': 13321,\n",
       " 'screen': 41291,\n",
       " 'clutter': 8582,\n",
       " 'haphazard': 20441,\n",
       " 'hackneyed': 20137,\n",
       " 'pretty': 36684,\n",
       " 'stereotypical': 44624,\n",
       " 'negative': 32058,\n",
       " 'adjective': 474,\n",
       " 'dramatic': 13434,\n",
       " 'enjoy': 14819,\n",
       " 'melodrama': 29716,\n",
       " 'heap': 20805,\n",
       " 'dose': 13299,\n",
       " 'prepare': 36580,\n",
       " 'wait': 51017,\n",
       " 'sure': 45619,\n",
       " 'plod': 35845,\n",
       " 'pace': 34056,\n",
       " 'script': 41321,\n",
       " 'sound': 43757,\n",
       " 'actors': 377,\n",
       " 'read': 38210,\n",
       " 'simply': 42734,\n",
       " 'deliver': 11629,\n",
       " 'front': 17792,\n",
       " 'camera': 6606,\n",
       " 'imdb': 22620,\n",
       " 'disservice': 12806,\n",
       " 'use': 49943,\n",
       " 'goofy': 19222,\n",
       " 'computer': 9179,\n",
       " 'weight': 51394,\n",
       " 'score': 41233,\n",
       " 'curse': 10708,\n",
       " 'starve': 44461,\n",
       " 'class': 8347,\n",
       " 'deserve': 11954,\n",
       " 'character': 7568,\n",
       " 'drive': 13551,\n",
       " 'develop': 12104,\n",
       " 'push': 37442,\n",
       " 'hoop': 21770,\n",
       " 'plausible': 35765,\n",
       " 'explanation': 15692,\n",
       " 'maturation': 29196,\n",
       " 'evolution': 15458,\n",
       " 'development': 12107,\n",
       " 'motivation': 31163,\n",
       " 'drink': 13542,\n",
       " 'wake': 51022,\n",
       " 'field': 16593,\n",
       " 'contrivance': 9659,\n",
       " 'stay': 44505,\n",
       " 'watch': 51221,\n",
       " 'mute': 31564,\n",
       " 'amusement': 1499,\n",
       " 'arm': 2292,\n",
       " 'wave': 51279,\n",
       " 'word': 52184,\n",
       " 'wise': 51949,\n",
       " 'prove': 37108,\n",
       " 'truly': 48309,\n",
       " 'artsy': 2455,\n",
       " 'jam': 24221,\n",
       " 'woods': 52142,\n",
       " 'dangly': 11010,\n",
       " 'male': 28475,\n",
       " 'figurative': 16628,\n",
       " 'literal': 27345,\n",
       " 'representation': 38978,\n",
       " 'naked': 31727,\n",
       " 'vulnerability': 50943,\n",
       " 'glory': 18983,\n",
       " 'say': 40902,\n",
       " 'warn': 51160,\n",
       " 'saw': 40887,\n",
       " 'exterminators': 15780,\n",
       " 'year': 52562,\n",
       " 'expectations': 15654,\n",
       " 'italian': 24063,\n",
       " 'version': 50411,\n",
       " 'roadwarrior': 39671,\n",
       " 'italy': 24070,\n",
       " 'include': 22930,\n",
       " 'venantino': 50303,\n",
       " 'venantini': 50302,\n",
       " 'elisa': 14424,\n",
       " 'briganti': 5755,\n",
       " 'dardano': 11057,\n",
       " 'sacchetti': 40372,\n",
       " 'responsible': 39132,\n",
       " 'zombie': 53020,\n",
       " 'flesh': 17000,\n",
       " 'eaters': 14024,\n",
       " 'link': 27269,\n",
       " 'horror': 21862,\n",
       " 'movies': 31256,\n",
       " 'luca': 27834,\n",
       " 'role': 39825,\n",
       " 'tommy': 47551,\n",
       " 'kid': 25462,\n",
       " 'paura': 34675,\n",
       " 'nella': 32106,\n",
       " 'citta': 8268,\n",
       " 'dei': 11561,\n",
       " 'morti': 31100,\n",
       " 'viventi': 50789,\n",
       " 'city': 8269,\n",
       " 'live': 27378,\n",
       " 'dead': 11219,\n",
       " 'aka': 938,\n",
       " 'gate': 18307,\n",
       " 'hell': 20980,\n",
       " 'john': 24630,\n",
       " 'robbins': 39690,\n",
       " 'cannibal': 6712,\n",
       " 'apocalypse': 1968,\n",
       " 'mary': 29002,\n",
       " 'brother': 5909,\n",
       " 'entertain': 14897,\n",
       " 'dull': 13720,\n",
       " 'part': 34471,\n",
       " 'madhur': 28237,\n",
       " 'give': 18856,\n",
       " 'powerful': 36368,\n",
       " 'chandni': 7510,\n",
       " 'bar': 3490,\n",
       " 'past': 34553,\n",
       " 'next': 32273,\n",
       " 'page': 34110,\n",
       " 'worst': 52252,\n",
       " 'apparently': 2009,\n",
       " 'tell': 46598,\n",
       " 'high': 21288,\n",
       " 'people': 34928,\n",
       " 'india': 23058,\n",
       " 'force': 17284,\n",
       " 'reason': 38272,\n",
       " 'spit': 44065,\n",
       " 'break': 5622,\n",
       " 'coincidently': 8737,\n",
       " 'contain': 9559,\n",
       " 'child': 7880,\n",
       " 'pornography': 36187,\n",
       " 'molestation': 30739,\n",
       " 'literally': 27347,\n",
       " 'vomit': 50883,\n",
       " 'shock': 42318,\n",
       " 'show': 42421,\n",
       " 'children': 7890,\n",
       " 'disturb': 12861,\n",
       " 'stuff': 45044,\n",
       " 'fully': 17884,\n",
       " 'rich': 39395,\n",
       " 'guy': 20053,\n",
       " 'kidnap': 25473,\n",
       " 'poor': 36128,\n",
       " 'sell': 41579,\n",
       " 'foreign': 17309,\n",
       " 'british': 5817,\n",
       " 'know': 25775,\n",
       " 'hit': 21453,\n",
       " 'flop': 17071,\n",
       " 'uk': 48713,\n",
       " 'usa': 49933,\n",
       " 'australia': 2894,\n",
       " 'sick': 42550,\n",
       " 'release': 38741,\n",
       " 'largely': 26437,\n",
       " 'write': 52329,\n",
       " 'number': 32844,\n",
       " 'list': 27329,\n",
       " 'kinda': 25540,\n",
       " 'lucky': 27866,\n",
       " 'pay': 34696,\n",
       " 'pound': 36347,\n",
       " 'shop': 42361,\n",
       " 'angry': 1679,\n",
       " 'fair': 15952,\n",
       " 'opinion': 33454,\n",
       " 'higher': 21292,\n",
       " 'criminal': 10335,\n",
       " 'summary': 45394,\n",
       " 'friends': 17733,\n",
       " 'tramp': 47865,\n",
       " 'promise': 36964,\n",
       " 'well': 51439,\n",
       " 'magic': 28289,\n",
       " 'ability': 91,\n",
       " 'hero': 21142,\n",
       " 'cunningly': 10661,\n",
       " 'turn': 48473,\n",
       " 'teenage': 46524,\n",
       " 'girl': 18816,\n",
       " 'join': 24646,\n",
       " 'gang': 18171,\n",
       " 'sit': 42848,\n",
       " 'swing': 45862,\n",
       " 'baby': 3145,\n",
       " 'kill': 25504,\n",
       " 'track': 47801,\n",
       " 'find': 16721,\n",
       " 'police': 35999,\n",
       " 'begin': 3992,\n",
       " 'compare': 9058,\n",
       " 'school': 41138,\n",
       " 'production': 36866,\n",
       " 'worse': 52242,\n",
       " 'buy': 6352,\n",
       " 'previously': 36701,\n",
       " 'ban': 3418,\n",
       " 'company': 9051,\n",
       " 'vipco': 50677,\n",
       " 'disappoint': 12538,\n",
       " 'okay': 33257,\n",
       " 'sense': 41658,\n",
       " 'point': 35951,\n",
       " 'gore': 19257,\n",
       " 'breats': 5655,\n",
       " 'titillation': 47398,\n",
       " 'true': 48294,\n",
       " 'charm': 7624,\n",
       " 'unique': 49370,\n",
       " 'naffness': 31685,\n",
       " 'potential': 36318,\n",
       " 'buyer': 6353,\n",
       " 'watcher': 51227,\n",
       " 'fairly': 15963,\n",
       " 'advise': 605,\n",
       " 'worth': 52254,\n",
       " 'let': 26951,\n",
       " 'betty': 4344,\n",
       " 'grable': 19364,\n",
       " 'argentine': 2222,\n",
       " 'disaster': 12553,\n",
       " 'round': 40055,\n",
       " 'frankly': 17561,\n",
       " 'whole': 51666,\n",
       " 'embarrassment': 14543,\n",
       " 'costarred': 9964,\n",
       " 'douglas': 13339,\n",
       " 'fairbanks': 15953,\n",
       " 'jnr': 24577,\n",
       " 'desperate': 11989,\n",
       " 'colour': 8865,\n",
       " 'far': 16117,\n",
       " 'old': 33276,\n",
       " 'standbys': 44383,\n",
       " 'harry': 20581,\n",
       " 'davenport': 11159,\n",
       " 'reginald': 38610,\n",
       " 'gardiner': 18238,\n",
       " 'try': 48333,\n",
       " 'stimulate': 44705,\n",
       " 'interest': 23631,\n",
       " 'success': 45242,\n",
       " 'music': 31516,\n",
       " 'woeful': 52053,\n",
       " 'tune': 48419,\n",
       " 'memorable': 29750,\n",
       " 'miss': 30519,\n",
       " 'wish': 51963,\n",
       " 'michael': 30040,\n",
       " 'stearns': 44541,\n",
       " 'mike': 30157,\n",
       " 'sexually': 41902,\n",
       " 'frustrate': 17818,\n",
       " 'individual': 23107,\n",
       " 'moral': 30973,\n",
       " 'attitude': 2790,\n",
       " 'sexuality': 41900,\n",
       " 'problem': 36825,\n",
       " 'ogle': 33220,\n",
       " 'dancers': 10981,\n",
       " 'actually': 385,\n",
       " 'innocence': 23376,\n",
       " 'beauty': 3895,\n",
       " 'stroll': 44989,\n",
       " 'hollywood': 21615,\n",
       " 'hill': 21340,\n",
       " 'stalk': 44354,\n",
       " 'lovemaking': 27769,\n",
       " 'couple': 10049,\n",
       " 'distance': 12820,\n",
       " 'ultimately': 48742,\n",
       " 'shoot': 42353,\n",
       " 'power': 36365,\n",
       " 'rifle': 39472,\n",
       " 'scope': 41225,\n",
       " 'seem': 41510,\n",
       " 'primary': 36733,\n",
       " 'existence': 15614,\n",
       " 'indulge': 23132,\n",
       " 'activity': 374,\n",
       " 'afterthought': 731,\n",
       " 'bind': 4534,\n",
       " 'happily': 20455,\n",
       " 'heterosexual': 21207,\n",
       " 'treat': 48032,\n",
       " 'protract': 37099,\n",
       " 'nudity': 32821,\n",
       " 'ladies': 26199,\n",
       " 'serve': 41802,\n",
       " 'major': 28412,\n",
       " 'course': 10060,\n",
       " 'deal': 11241,\n",
       " 'creepiness': 10290,\n",
       " 'factor': 15918,\n",
       " 'considerably': 9476,\n",
       " 'illustrate': 22571,\n",
       " 'compulsion': 9171,\n",
       " 'voyeurism': 50916,\n",
       " 'pull': 37311,\n",
       " 'trigger': 48146,\n",
       " 'underscore': 49071,\n",
       " 'intrusive': 23789,\n",
       " 'atmospheric': 2738,\n",
       " 'soundtrack': 43765,\n",
       " 'penchant': 34863,\n",
       " 'lurid': 27983,\n",
       " 'trash': 47977,\n",
       " 'degree': 11550,\n",
       " 'lesbian': 26932,\n",
       " 'tryst': 48336,\n",
       " 'confound': 9336,\n",
       " 'render': 38860,\n",
       " 'uncertain': 48901,\n",
       " 'react': 38200,\n",
       " 'unfold': 49237,\n",
       " 'slow': 43169,\n",
       " 'wrap': 52289,\n",
       " 'amuse': 1498,\n",
       " 'ironic': 23925,\n",
       " 'twist': 48577,\n",
       " 'kinky': 25579,\n",
       " 'rarity': 38057,\n",
       " 'go': 19023,\n",
       " 'definitely': 11509,\n",
       " 'keep': 25260,\n",
       " 'viewers': 50558,\n",
       " 'glue': 18995,\n",
       " 'extremely': 15820,\n",
       " 'difficult': 12327,\n",
       " 'hindsight': 21382,\n",
       " 'attempt': 2773,\n",
       " 'credit': 10271,\n",
       " 'admit': 510,\n",
       " 'last': 26500,\n",
       " 'hour': 21958,\n",
       " 'unfair': 49205,\n",
       " 'require': 39023,\n",
       " 'impressive': 22796,\n",
       " 'final': 16707,\n",
       " 'third': 47039,\n",
       " 'order': 33554,\n",
       " 'vicious': 50488,\n",
       " 'fear': 16311,\n",
       " 'joe': 24609,\n",
       " 'baker': 3299,\n",
       " 'greydon': 19616,\n",
       " 'clark': 8337,\n",
       " 'life': 27103,\n",
       " 'funny': 17929,\n",
       " 'take': 46140,\n",
       " 'seriously': 41780,\n",
       " 'downhill': 13364,\n",
       " 'repeat': 38920,\n",
       " 'ugly': 48701,\n",
       " 'shootout': 42359,\n",
       " 'roll': 39831,\n",
       " 'floor': 17066,\n",
       " 'laughter': 26565,\n",
       " 'yes': 52605,\n",
       " 'deputy': 11866,\n",
       " 'sheriff': 42187,\n",
       " 'texas': 46834,\n",
       " 'mafia': 28270,\n",
       " 'malta': 28524,\n",
       " 'rule': 40202,\n",
       " 'wear': 51326,\n",
       " 'cowboy': 10108,\n",
       " 'boot': 5301,\n",
       " 'sidearms': 42569,\n",
       " 'style': 45097,\n",
       " 'ahead': 831,\n",
       " 'move': 31232,\n",
       " 'someplace': 43602,\n",
       " 'johnston': 24640,\n",
       " 'found': 17446,\n",
       " 'industrial': 23138,\n",
       " 'light': 27135,\n",
       " 'war': 51120,\n",
       " 'producers': 36864,\n",
       " 'rack': 37754,\n",
       " 'brain': 5521,\n",
       " 'title': 47399,\n",
       " 'rocket': 39740,\n",
       " 'boys': 5481,\n",
       " 'guess': 19865,\n",
       " 'lack': 26175,\n",
       " 'day': 11184,\n",
       " 'mess': 29913,\n",
       " 'pc': 34721,\n",
       " 'program': 36913,\n",
       " 'form': 17354,\n",
       " 'series': 41777,\n",
       " 'mix': 30583,\n",
       " 'letter': 26965,\n",
       " 'technical': 46490,\n",
       " 'term': 46729,\n",
       " 'anagram': 1513,\n",
       " 'anyway': 1925,\n",
       " 'back': 3173,\n",
       " 'sky': 42978,\n",
       " 'sum': 45377,\n",
       " 'revolve': 39302,\n",
       " 'sputnik': 44214,\n",
       " 'homer': 21674,\n",
       " 'jr': 24762,\n",
       " 'idea': 22430,\n",
       " 'warm': 51152,\n",
       " 'poster': 36276,\n",
       " 'paperback': 34307,\n",
       " 'novel': 32760,\n",
       " 'dear': 11253,\n",
       " 'rarely': 38051,\n",
       " 'bore': 5328,\n",
       " 'laugh': 26555,\n",
       " 'spirit': 44052,\n",
       " 'intrigue': 23769,\n",
       " 'premise': 36563,\n",
       " 'descend': 11923,\n",
       " 'slasher': 43022,\n",
       " 'flick': 17011,\n",
       " 'supernatural': 45527,\n",
       " 'excellent': 15518,\n",
       " 'alice': 1101,\n",
       " 'krige': 25965,\n",
       " 'ludicrous': 27874,\n",
       " 'bother': 5390,\n",
       " 'community': 9038,\n",
       " 'theater': 46897,\n",
       " 'art': 2398,\n",
       " 'skewer': 42920,\n",
       " 'craft': 10156,\n",
       " 'mercilessly': 29844,\n",
       " 'dish': 12659,\n",
       " 'ham': 20307,\n",
       " 'location': 27463,\n",
       " 'bear': 3843,\n",
       " 'resemblance': 39043,\n",
       " 'dictator': 12278,\n",
       " 'die': 12298,\n",
       " 'heart': 20814,\n",
       " 'attack': 2765,\n",
       " 'food': 17235,\n",
       " 'lifetime': 27125,\n",
       " 'neo': 32120,\n",
       " 'nazi': 31963,\n",
       " 'head': 20759,\n",
       " 'secret': 41463,\n",
       " 'service': 41808,\n",
       " 'hilt': 21358,\n",
       " 'girlfriend': 18818,\n",
       " 'fall': 15995,\n",
       " 'love': 27748,\n",
       " 'vice': 50480,\n",
       " 'versa': 50402,\n",
       " 'table': 46042,\n",
       " 'captors': 6814,\n",
       " 'beautifully': 3894,\n",
       " 'shtick': 42482,\n",
       " 'lead': 26673,\n",
       " 'unknown': 49412,\n",
       " 'support': 45582,\n",
       " 'household': 21970,\n",
       " 'staff': 44306,\n",
       " 'members': 29741,\n",
       " 'palace': 34157,\n",
       " 'guard': 19834,\n",
       " 'fun': 17894,\n",
       " 'little': 27369,\n",
       " 'cameos': 6605,\n",
       " 'abound': 130,\n",
       " 'sammy': 40593,\n",
       " 'davis': 11170,\n",
       " 'jonathan': 24668,\n",
       " 'winter': 51925,\n",
       " 'semi': 41608,\n",
       " 'retire': 39198,\n",
       " 'american': 1390,\n",
       " 'businessman': 6295,\n",
       " 'raul': 38123,\n",
       " 'julia': 24822,\n",
       " 'sonia': 43647,\n",
       " 'braga': 5510,\n",
       " 'richard': 39398,\n",
       " 'dreyfuss': 13529,\n",
       " 'exceptional': 15524,\n",
       " 'dumb': 13735,\n",
       " 'locations': 27464,\n",
       " 'brazil': 5609,\n",
       " 'humorous': 22168,\n",
       " 'usual': 49966,\n",
       " 'existential': 15617,\n",
       " 'angst': 1680,\n",
       " 'reaper': 38260,\n",
       " 'ben': 4118,\n",
       " 'mezrich': 30012,\n",
       " 'fews': 16541,\n",
       " 'years': 52568,\n",
       " 'ago': 796,\n",
       " 'night': 32386,\n",
       " 'accidentally': 234,\n",
       " 'adaption': 421,\n",
       " 'differences': 12322,\n",
       " 'humongous': 22161,\n",
       " 'important': 22765,\n",
       " 'elements': 14382,\n",
       " 'basic': 3667,\n",
       " 'horrible': 21849,\n",
       " 'angelina': 1649,\n",
       " 'jolie': 24661,\n",
       " 'second': 41455,\n",
       " 'porsche': 36192,\n",
       " 'plain': 35702,\n",
       " 'suck': 45266,\n",
       " 'cars': 7009,\n",
       " 'race': 37733,\n",
       " 'cities': 8260,\n",
       " 'new': 32214,\n",
       " 'happyend': 20459,\n",
       " 'annoy': 1770,\n",
       " 'seldomly': 41563,\n",
       " 'construct': 9528,\n",
       " 'farce': 16122,\n",
       " 'name': 31740,\n",
       " 'grossly': 19737,\n",
       " 'mispronounce': 30511,\n",
       " 'gnarl': 19010,\n",
       " 'unrecognizable': 49582,\n",
       " 'literature': 27352,\n",
       " 'enthusiast': 14909,\n",
       " 'gall': 18092,\n",
       " 'beowulf': 4187,\n",
       " 'ridiculous': 39446,\n",
       " 'cannon': 6720,\n",
       " 'crossbow': 10451,\n",
       " 'weapon': 51323,\n",
       " 'poem': 35928,\n",
       " 'rip': 39554,\n",
       " 'grendel': 19603,\n",
       " 'bare': 3543,\n",
       " 'scriptwriters': 41329,\n",
       " 'portray': 36225,\n",
       " 'positive': 36249,\n",
       " 'english': 14794,\n",
       " 'teacher': 46452,\n",
       " 'insane': 23415,\n",
       " 'abomination': 110,\n",
       " 'epic': 14994,\n",
       " 'avoid': 3021,\n",
       " 'cost': 9958,\n",
       " 'recommend': 38387,\n",
       " 'surprisingly': 45653,\n",
       " 'screenplay': 41295,\n",
       " 'cheesie': 7738,\n",
       " 'stupendously': 45069,\n",
       " 'rest': 39138,\n",
       " 'quote': 37708,\n",
       " 'creative': 10254,\n",
       " 'suppose': 45588,\n",
       " 'arthouse': 2413,\n",
       " 'respect': 39111,\n",
       " 'frequently': 17681,\n",
       " 'request': 39021,\n",
       " 'online': 33379,\n",
       " 'forums': 17425,\n",
       " 'remember': 38805,\n",
       " 'follow': 17207,\n",
       " 'detail': 12036,\n",
       " 'description': 11936,\n",
       " 'able': 97,\n",
       " 'internet': 23683,\n",
       " 'typical': 48619,\n",
       " 'house': 21962,\n",
       " 'suburbia': 45226,\n",
       " 'bridget': 5736,\n",
       " 'narrate': 31812,\n",
       " 'suspect': 45702,\n",
       " 'andrew': 1606,\n",
       " 'present': 36617,\n",
       " 'parent': 34405,\n",
       " 'apparent': 2008,\n",
       " 'penguin': 34881,\n",
       " 'sweet': 45822,\n",
       " 'william': 51817,\n",
       " 'relatives': 38734,\n",
       " 'aunt': 2866,\n",
       " 'ruth': 40283,\n",
       " 'bossy': 5381,\n",
       " 'nurse': 32869,\n",
       " 'care': 6860,\n",
       " 'grandmother': 19450,\n",
       " 'grams': 19419,\n",
       " 'hug': 22077,\n",
       " 'dolls': 13088,\n",
       " 'sock': 43470,\n",
       " 'electronics': 14372,\n",
       " 'grumpy': 19804,\n",
       " 'hang': 20404,\n",
       " 'lieutenant': 27098,\n",
       " 'governor': 19333,\n",
       " 'family': 16043,\n",
       " 'eat': 14022,\n",
       " 'breakfast': 5632,\n",
       " 'adults': 574,\n",
       " 'discuss': 12630,\n",
       " 'retirement': 39200,\n",
       " 'home': 21652,\n",
       " 'awful': 3055,\n",
       " 'pancake': 34239,\n",
       " 'sandwich': 40656,\n",
       " 'cereal': 7386,\n",
       " 'egg': 14217,\n",
       " 'bacon': 3214,\n",
       " 'strawberries': 44905,\n",
       " 'syrup': 46019,\n",
       " 'incredulously': 23006,\n",
       " 'bluntly': 4970,\n",
       " 'put': 37455,\n",
       " 'pasture': 34571,\n",
       " 'talk': 46180,\n",
       " 'attic': 2785,\n",
       " 'tea': 46449,\n",
       " 'party': 34507,\n",
       " 'bedroom': 3940,\n",
       " 'doll': 13079,\n",
       " 'unexpectedly': 49193,\n",
       " 'pop': 36133,\n",
       " 'closet': 8530,\n",
       " 'mirror': 30404,\n",
       " 'acquaint': 327,\n",
       " 'curly': 10694,\n",
       " 'haired': 20213,\n",
       " 'female': 16415,\n",
       " 'huggins': 22085,\n",
       " 'huggaland': 22081,\n",
       " 'baseball': 3649,\n",
       " 'cap': 6748,\n",
       " 'room': 39917,\n",
       " 'hide': 21262,\n",
       " 'laundry': 26578,\n",
       " 'mother': 31146,\n",
       " 'throw': 47151,\n",
       " 'wash': 51184,\n",
       " 'machine': 28150,\n",
       " 'rescue': 39036,\n",
       " 'dry': 13623,\n",
       " 'hair': 20201,\n",
       " 'drier': 13532,\n",
       " 'bookworm': 5280,\n",
       " 'step': 44589,\n",
       " 'visit': 50742,\n",
       " 'tennis': 46683,\n",
       " 'shoe': 42332,\n",
       " 'lodge': 27488,\n",
       " 'walk': 51044,\n",
       " 'hugsy': 22093,\n",
       " 'boy': 5470,\n",
       " 'tickle': 47230,\n",
       " 'bubble': 6008,\n",
       " 'impkins': 22739,\n",
       " 'tweaker': 48544,\n",
       " 'sing': 42768,\n",
       " 'song': 43638,\n",
       " 'bridge': 5733,\n",
       " 'hugwagon': 22095,\n",
       " 'stack': 44299,\n",
       " 'giant': 18693,\n",
       " 'consult': 9539,\n",
       " 'encyclopedia': 14718,\n",
       " 'age': 745,\n",
       " 'cure': 10679,\n",
       " 'fruit': 17810,\n",
       " 'youngberry': 52703,\n",
       " 'tree': 48044,\n",
       " 'exist': 15611,\n",
       " 'country': 10041,\n",
       " 'shrug': 42478,\n",
       " 'mad': 28203,\n",
       " 'queen': 37603,\n",
       " 'quartz': 37581,\n",
       " 'travel': 47998,\n",
       " 'jump': 24842,\n",
       " 'deep': 11426,\n",
       " 'hole': 21582,\n",
       " 'locate': 27462,\n",
       " 'inside': 23444,\n",
       " 'nearby': 31991,\n",
       " 'gulp': 19947,\n",
       " 'tumble': 48403,\n",
       " 'soon': 43662,\n",
       " 'sideways': 42588,\n",
       " 'sidewalk': 42586,\n",
       " 'hear': 20806,\n",
       " 'sea': 41383,\n",
       " 'glass': 18906,\n",
       " 'gravity': 19522,\n",
       " 'hairy': 20222,\n",
       " 'behemoth': 4013,\n",
       " 'mastodon': 29093,\n",
       " 'tusk': 48503,\n",
       " 'breathe': 5647,\n",
       " 'fire': 16769,\n",
       " 'trunk': 48319,\n",
       " 'boldly': 5134,\n",
       " 'elephant': 14388,\n",
       " 'hodgepodge': 21535,\n",
       " 'spell': 43978,\n",
       " 'owe': 34015,\n",
       " 'favor': 16277,\n",
       " 'ride': 39434,\n",
       " 'castle': 7107,\n",
       " 'enter': 14890,\n",
       " 'surround': 45670,\n",
       " 'troll': 48221,\n",
       " 'be': 3813,\n",
       " 'admira': 498,\n",
       " 'ask': 2535,\n",
       " 'youngberries': 52702,\n",
       " 'brag': 5509,\n",
       " 'youthful': 52720,\n",
       " 'faint': 15949,\n",
       " 'digest': 12343,\n",
       " 'upset': 49865,\n",
       " 'mention': 29816,\n",
       " 'wicked': 51713,\n",
       " 'witch': 51978,\n",
       " 'warts': 51179,\n",
       " 'freeze': 17652,\n",
       " 'dungeon': 13782,\n",
       " 'carelessly': 6869,\n",
       " 'leave': 26714,\n",
       " 'key': 25386,\n",
       " 'dome': 13104,\n",
       " 'lock': 27468,\n",
       " 'lift': 27129,\n",
       " 'apparatus': 2007,\n",
       " 'noodle': 32627,\n",
       " 'jail': 24200,\n",
       " 'door': 13213,\n",
       " 'free': 17631,\n",
       " 'stand': 44376,\n",
       " 'petrify': 35190,\n",
       " 'cause': 7224,\n",
       " 'revive': 39286,\n",
       " 'flee': 16985,\n",
       " 'pick': 35437,\n",
       " 'glow': 18993,\n",
       " 'jar': 24287,\n",
       " 'catch': 7148,\n",
       " 'trap': 47970,\n",
       " 'reach': 38198,\n",
       " 'grind': 19667,\n",
       " 'suddenly': 45283,\n",
       " 'deprive': 11858,\n",
       " 'youth': 52719,\n",
       " 'berry': 4266,\n",
       " 'trip': 48170,\n",
       " 'bottom': 5397,\n",
       " 'spill': 44026,\n",
       " 'quickly': 37643,\n",
       " 'vanish': 50167,\n",
       " 'smoke': 43271,\n",
       " 'call': 6550,\n",
       " 'goodbye': 19183,\n",
       " 'drop': 13570,\n",
       " 'standoffish': 44386,\n",
       " 'facade': 15886,\n",
       " 'father': 16239,\n",
       " 'decide': 11352,\n",
       " 'cry': 10544,\n",
       " 'ruthie': 40285,\n",
       " 'person': 35095,\n",
       " 'pressure': 36645,\n",
       " 'st': 44289,\n",
       " 'louis': 27718,\n",
       " ...}"
      ]
     },
     "execution_count": 39,
     "metadata": {},
     "output_type": "execute_result"
    }
   ],
   "source": [
    "vocab = Tfid.vocabulary_\n",
    "vocab"
   ]
  },
  {
   "cell_type": "markdown",
   "metadata": {},
   "source": [
    "# Models"
   ]
  },
  {
   "cell_type": "code",
   "execution_count": 40,
   "metadata": {},
   "outputs": [],
   "source": [
    "def models_(model_name):\n",
    "    model = model_name\n",
    "    model.fit(X_train_Tfid, y_train)\n",
    "    y_pred = model.predict(X_test_Tfid)\n",
    "    return y_pred"
   ]
  },
  {
   "cell_type": "markdown",
   "metadata": {},
   "source": [
    "# Confusion Matrix"
   ]
  },
  {
   "cell_type": "code",
   "execution_count": 41,
   "metadata": {},
   "outputs": [],
   "source": [
    "def confusion_matrix_(Real, Prediction):\n",
    "        ConfusionMatrix = confusion_matrix(Real, Prediction)\n",
    "        return ConfusionMatrix"
   ]
  },
  {
   "cell_type": "markdown",
   "metadata": {},
   "source": [
    "# Generate True Positive, False Positive, True Negative, False Negative"
   ]
  },
  {
   "cell_type": "code",
   "execution_count": 42,
   "metadata": {},
   "outputs": [],
   "source": [
    "def positive_negative(Confusin_Matrix):\n",
    "    False_Postive = Confusin_Matrix[0, 1]\n",
    "\n",
    "    True_Positive = Confusin_Matrix[0, 0]\n",
    "\n",
    "    False_Negative = Confusin_Matrix[1, 0]\n",
    "    \n",
    "    True_Negative = Confusin_Matrix[1, 1]\n",
    "\n",
    "    return False_Postive, True_Positive, False_Negative, True_Negative"
   ]
  },
  {
   "cell_type": "markdown",
   "metadata": {},
   "source": [
    "# Performance Merics"
   ]
  },
  {
   "cell_type": "code",
   "execution_count": 43,
   "metadata": {},
   "outputs": [],
   "source": [
    "def performance_metrics(False_Postive, True_Positive, False_Negative, True_Negative):\n",
    "     Accuracy = (True_Positive + True_Negative) / (True_Positive + True_Negative + False_Postive + False_Negative)\n",
    "     Precision = True_Positive / (True_Positive+ False_Postive)\n",
    "     Sensitivity = True_Positive / (True_Positive  + False_Negative)\n",
    "     Specificity = True_Negative / (True_Negative + False_Negative)\n",
    "     F1Score = (True_Positive) / ((True_Positive) + (0.5 *(False_Postive + False_Negative)))\n",
    "     Error = 1 - Accuracy\n",
    "     MetricsValues = pd.DataFrame(index=['Accuracy', 'Precision', 'Sensitivity', 'Specificity', 'F1Score', 'Error'], columns=['Values'], data=[Accuracy, Precision, Sensitivity, Specificity, F1Score, Error])\n",
    "     return MetricsValues\n"
   ]
  },
  {
   "cell_type": "markdown",
   "metadata": {},
   "source": [
    "# Machine Learning"
   ]
  },
  {
   "cell_type": "markdown",
   "metadata": {},
   "source": [
    "**1. Naive Bayes**"
   ]
  },
  {
   "cell_type": "code",
   "execution_count": 44,
   "metadata": {},
   "outputs": [],
   "source": [
    "model_name1 = MultinomialNB()\n",
    "y_pred1 = models_(model_name1)"
   ]
  },
  {
   "cell_type": "code",
   "execution_count": 45,
   "metadata": {},
   "outputs": [],
   "source": [
    "cm1 = confusion_matrix_(y_test, y_pred1)"
   ]
  },
  {
   "cell_type": "code",
   "execution_count": 46,
   "metadata": {},
   "outputs": [],
   "source": [
    "False_Postive, True_Positive, False_Negative, True_Negative = positive_negative(cm1)"
   ]
  },
  {
   "cell_type": "code",
   "execution_count": 47,
   "metadata": {},
   "outputs": [],
   "source": [
    "MetricsValues1 = performance_metrics(False_Postive, True_Positive, False_Negative, True_Negative)"
   ]
  },
  {
   "cell_type": "code",
   "execution_count": 48,
   "metadata": {},
   "outputs": [
    {
     "data": {
      "text/html": [
       "<div>\n",
       "<style scoped>\n",
       "    .dataframe tbody tr th:only-of-type {\n",
       "        vertical-align: middle;\n",
       "    }\n",
       "\n",
       "    .dataframe tbody tr th {\n",
       "        vertical-align: top;\n",
       "    }\n",
       "\n",
       "    .dataframe thead th {\n",
       "        text-align: right;\n",
       "    }\n",
       "</style>\n",
       "<table border=\"1\" class=\"dataframe\">\n",
       "  <thead>\n",
       "    <tr style=\"text-align: right;\">\n",
       "      <th></th>\n",
       "      <th>Values</th>\n",
       "    </tr>\n",
       "  </thead>\n",
       "  <tbody>\n",
       "    <tr>\n",
       "      <th>Accuracy</th>\n",
       "      <td>0.855600</td>\n",
       "    </tr>\n",
       "    <tr>\n",
       "      <th>Precision</th>\n",
       "      <td>0.864901</td>\n",
       "    </tr>\n",
       "    <tr>\n",
       "      <th>Sensitivity</th>\n",
       "      <td>0.848334</td>\n",
       "    </tr>\n",
       "    <tr>\n",
       "      <th>Specificity</th>\n",
       "      <td>0.846358</td>\n",
       "    </tr>\n",
       "    <tr>\n",
       "      <th>F1Score</th>\n",
       "      <td>0.856537</td>\n",
       "    </tr>\n",
       "    <tr>\n",
       "      <th>Error</th>\n",
       "      <td>0.144400</td>\n",
       "    </tr>\n",
       "  </tbody>\n",
       "</table>\n",
       "</div>"
      ],
      "text/plain": [
       "               Values\n",
       "Accuracy     0.855600\n",
       "Precision    0.864901\n",
       "Sensitivity  0.848334\n",
       "Specificity  0.846358\n",
       "F1Score      0.856537\n",
       "Error        0.144400"
      ]
     },
     "execution_count": 48,
     "metadata": {},
     "output_type": "execute_result"
    }
   ],
   "source": [
    "MetricsValues1"
   ]
  },
  {
   "cell_type": "markdown",
   "metadata": {},
   "source": [
    "**2. Logistic Regression**"
   ]
  },
  {
   "cell_type": "code",
   "execution_count": 49,
   "metadata": {},
   "outputs": [],
   "source": [
    "model_name2 = LogisticRegression()\n",
    "y_pred2 = models_(model_name2)"
   ]
  },
  {
   "cell_type": "code",
   "execution_count": 50,
   "metadata": {},
   "outputs": [],
   "source": [
    "cm2 = confusion_matrix_(y_test, y_pred2)"
   ]
  },
  {
   "cell_type": "code",
   "execution_count": 51,
   "metadata": {},
   "outputs": [
    {
     "data": {
      "text/html": [
       "<div>\n",
       "<style scoped>\n",
       "    .dataframe tbody tr th:only-of-type {\n",
       "        vertical-align: middle;\n",
       "    }\n",
       "\n",
       "    .dataframe tbody tr th {\n",
       "        vertical-align: top;\n",
       "    }\n",
       "\n",
       "    .dataframe thead th {\n",
       "        text-align: right;\n",
       "    }\n",
       "</style>\n",
       "<table border=\"1\" class=\"dataframe\">\n",
       "  <thead>\n",
       "    <tr style=\"text-align: right;\">\n",
       "      <th></th>\n",
       "      <th>Values</th>\n",
       "    </tr>\n",
       "  </thead>\n",
       "  <tbody>\n",
       "    <tr>\n",
       "      <th>Accuracy</th>\n",
       "      <td>0.884667</td>\n",
       "    </tr>\n",
       "    <tr>\n",
       "      <th>Precision</th>\n",
       "      <td>0.880150</td>\n",
       "    </tr>\n",
       "    <tr>\n",
       "      <th>Sensitivity</th>\n",
       "      <td>0.887510</td>\n",
       "    </tr>\n",
       "    <tr>\n",
       "      <th>Specificity</th>\n",
       "      <td>0.889155</td>\n",
       "    </tr>\n",
       "    <tr>\n",
       "      <th>F1Score</th>\n",
       "      <td>0.883815</td>\n",
       "    </tr>\n",
       "    <tr>\n",
       "      <th>Error</th>\n",
       "      <td>0.115333</td>\n",
       "    </tr>\n",
       "  </tbody>\n",
       "</table>\n",
       "</div>"
      ],
      "text/plain": [
       "               Values\n",
       "Accuracy     0.884667\n",
       "Precision    0.880150\n",
       "Sensitivity  0.887510\n",
       "Specificity  0.889155\n",
       "F1Score      0.883815\n",
       "Error        0.115333"
      ]
     },
     "execution_count": 51,
     "metadata": {},
     "output_type": "execute_result"
    }
   ],
   "source": [
    "False_Postive2, True_Positive2, False_Negative2, True_Negative2 = positive_negative(cm2)\n",
    "MetricsValues2 = performance_metrics(False_Postive2, True_Positive2, False_Negative2, True_Negative2)\n",
    "MetricsValues2"
   ]
  },
  {
   "cell_type": "markdown",
   "metadata": {},
   "source": [
    "**3. Decision Tree**"
   ]
  },
  {
   "cell_type": "code",
   "execution_count": 52,
   "metadata": {},
   "outputs": [],
   "source": [
    "model_name3 = DecisionTreeClassifier(criterion = 'entropy')\n",
    "y_pred3 = models_(model_name3)"
   ]
  },
  {
   "cell_type": "code",
   "execution_count": 53,
   "metadata": {},
   "outputs": [],
   "source": [
    "cm3 = confusion_matrix_(y_test, y_pred3)"
   ]
  },
  {
   "cell_type": "code",
   "execution_count": 54,
   "metadata": {},
   "outputs": [
    {
     "data": {
      "text/html": [
       "<div>\n",
       "<style scoped>\n",
       "    .dataframe tbody tr th:only-of-type {\n",
       "        vertical-align: middle;\n",
       "    }\n",
       "\n",
       "    .dataframe tbody tr th {\n",
       "        vertical-align: top;\n",
       "    }\n",
       "\n",
       "    .dataframe thead th {\n",
       "        text-align: right;\n",
       "    }\n",
       "</style>\n",
       "<table border=\"1\" class=\"dataframe\">\n",
       "  <thead>\n",
       "    <tr style=\"text-align: right;\">\n",
       "      <th></th>\n",
       "      <th>Values</th>\n",
       "    </tr>\n",
       "  </thead>\n",
       "  <tbody>\n",
       "    <tr>\n",
       "      <th>Accuracy</th>\n",
       "      <td>0.710933</td>\n",
       "    </tr>\n",
       "    <tr>\n",
       "      <th>Precision</th>\n",
       "      <td>0.720974</td>\n",
       "    </tr>\n",
       "    <tr>\n",
       "      <th>Sensitivity</th>\n",
       "      <td>0.705497</td>\n",
       "    </tr>\n",
       "    <tr>\n",
       "      <th>Specificity</th>\n",
       "      <td>0.700957</td>\n",
       "    </tr>\n",
       "    <tr>\n",
       "      <th>F1Score</th>\n",
       "      <td>0.713152</td>\n",
       "    </tr>\n",
       "    <tr>\n",
       "      <th>Error</th>\n",
       "      <td>0.289067</td>\n",
       "    </tr>\n",
       "  </tbody>\n",
       "</table>\n",
       "</div>"
      ],
      "text/plain": [
       "               Values\n",
       "Accuracy     0.710933\n",
       "Precision    0.720974\n",
       "Sensitivity  0.705497\n",
       "Specificity  0.700957\n",
       "F1Score      0.713152\n",
       "Error        0.289067"
      ]
     },
     "execution_count": 54,
     "metadata": {},
     "output_type": "execute_result"
    }
   ],
   "source": [
    "False_Postive3, True_Positive3, False_Negative3, True_Negative3 = positive_negative(cm3)\n",
    "MetricsValues3 = performance_metrics(False_Postive3, True_Positive3, False_Negative3, True_Negative3)\n",
    "MetricsValues3"
   ]
  },
  {
   "cell_type": "markdown",
   "metadata": {},
   "source": [
    "**4. K Nearest Neighbor**"
   ]
  },
  {
   "cell_type": "code",
   "execution_count": 55,
   "metadata": {},
   "outputs": [],
   "source": [
    "model_name4 = KNeighborsClassifier(metric='cosine', n_neighbors=5)\n",
    "y_pred4 = models_(model_name4)"
   ]
  },
  {
   "cell_type": "code",
   "execution_count": 56,
   "metadata": {},
   "outputs": [],
   "source": [
    "cm4 = confusion_matrix_(y_test, y_pred4)"
   ]
  },
  {
   "cell_type": "code",
   "execution_count": 57,
   "metadata": {},
   "outputs": [
    {
     "data": {
      "text/html": [
       "<div>\n",
       "<style scoped>\n",
       "    .dataframe tbody tr th:only-of-type {\n",
       "        vertical-align: middle;\n",
       "    }\n",
       "\n",
       "    .dataframe tbody tr th {\n",
       "        vertical-align: top;\n",
       "    }\n",
       "\n",
       "    .dataframe thead th {\n",
       "        text-align: right;\n",
       "    }\n",
       "</style>\n",
       "<table border=\"1\" class=\"dataframe\">\n",
       "  <thead>\n",
       "    <tr style=\"text-align: right;\">\n",
       "      <th></th>\n",
       "      <th>Values</th>\n",
       "    </tr>\n",
       "  </thead>\n",
       "  <tbody>\n",
       "    <tr>\n",
       "      <th>Accuracy</th>\n",
       "      <td>0.774133</td>\n",
       "    </tr>\n",
       "    <tr>\n",
       "      <th>Precision</th>\n",
       "      <td>0.711343</td>\n",
       "    </tr>\n",
       "    <tr>\n",
       "      <th>Sensitivity</th>\n",
       "      <td>0.812156</td>\n",
       "    </tr>\n",
       "    <tr>\n",
       "      <th>Specificity</th>\n",
       "      <td>0.836523</td>\n",
       "    </tr>\n",
       "    <tr>\n",
       "      <th>F1Score</th>\n",
       "      <td>0.758414</td>\n",
       "    </tr>\n",
       "    <tr>\n",
       "      <th>Error</th>\n",
       "      <td>0.225867</td>\n",
       "    </tr>\n",
       "  </tbody>\n",
       "</table>\n",
       "</div>"
      ],
      "text/plain": [
       "               Values\n",
       "Accuracy     0.774133\n",
       "Precision    0.711343\n",
       "Sensitivity  0.812156\n",
       "Specificity  0.836523\n",
       "F1Score      0.758414\n",
       "Error        0.225867"
      ]
     },
     "execution_count": 57,
     "metadata": {},
     "output_type": "execute_result"
    }
   ],
   "source": [
    "False_Postive4, True_Positive4, False_Negative4, True_Negative4 = positive_negative(cm4)\n",
    "MetricsValues4 = performance_metrics(False_Postive4, True_Positive4, False_Negative4, True_Negative4)\n",
    "MetricsValues4"
   ]
  },
  {
   "cell_type": "markdown",
   "metadata": {},
   "source": [
    "**5. Random Forest**"
   ]
  },
  {
   "cell_type": "code",
   "execution_count": 58,
   "metadata": {},
   "outputs": [],
   "source": [
    "model_name5 = RandomForestClassifier(criterion = 'entropy', n_estimators=100)\n",
    "y_pred5 = models_(model_name5)"
   ]
  },
  {
   "cell_type": "code",
   "execution_count": 59,
   "metadata": {},
   "outputs": [],
   "source": [
    "cm5 = confusion_matrix_(y_test, y_pred5)"
   ]
  },
  {
   "cell_type": "code",
   "execution_count": 60,
   "metadata": {},
   "outputs": [
    {
     "data": {
      "text/html": [
       "<div>\n",
       "<style scoped>\n",
       "    .dataframe tbody tr th:only-of-type {\n",
       "        vertical-align: middle;\n",
       "    }\n",
       "\n",
       "    .dataframe tbody tr th {\n",
       "        vertical-align: top;\n",
       "    }\n",
       "\n",
       "    .dataframe thead th {\n",
       "        text-align: right;\n",
       "    }\n",
       "</style>\n",
       "<table border=\"1\" class=\"dataframe\">\n",
       "  <thead>\n",
       "    <tr style=\"text-align: right;\">\n",
       "      <th></th>\n",
       "      <th>Values</th>\n",
       "    </tr>\n",
       "  </thead>\n",
       "  <tbody>\n",
       "    <tr>\n",
       "      <th>Accuracy</th>\n",
       "      <td>0.846933</td>\n",
       "    </tr>\n",
       "    <tr>\n",
       "      <th>Precision</th>\n",
       "      <td>0.846174</td>\n",
       "    </tr>\n",
       "    <tr>\n",
       "      <th>Sensitivity</th>\n",
       "      <td>0.846627</td>\n",
       "    </tr>\n",
       "    <tr>\n",
       "      <th>Specificity</th>\n",
       "      <td>0.847687</td>\n",
       "    </tr>\n",
       "    <tr>\n",
       "      <th>F1Score</th>\n",
       "      <td>0.846401</td>\n",
       "    </tr>\n",
       "    <tr>\n",
       "      <th>Error</th>\n",
       "      <td>0.153067</td>\n",
       "    </tr>\n",
       "  </tbody>\n",
       "</table>\n",
       "</div>"
      ],
      "text/plain": [
       "               Values\n",
       "Accuracy     0.846933\n",
       "Precision    0.846174\n",
       "Sensitivity  0.846627\n",
       "Specificity  0.847687\n",
       "F1Score      0.846401\n",
       "Error        0.153067"
      ]
     },
     "execution_count": 60,
     "metadata": {},
     "output_type": "execute_result"
    }
   ],
   "source": [
    "False_Postive5, True_Positive5, False_Negative5, True_Negative5 = positive_negative(cm5)\n",
    "MetricsValues5 = performance_metrics(False_Postive5, True_Positive5, False_Negative5, True_Negative5)\n",
    "MetricsValues5"
   ]
  },
  {
   "cell_type": "markdown",
   "metadata": {},
   "source": [
    "**6.SGD Classifier**"
   ]
  },
  {
   "cell_type": "code",
   "execution_count": 61,
   "metadata": {},
   "outputs": [],
   "source": [
    "model_name6 = SGDClassifier(loss='hinge')\n",
    "y_pred6 = models_(model_name6)"
   ]
  },
  {
   "cell_type": "code",
   "execution_count": 62,
   "metadata": {},
   "outputs": [],
   "source": [
    "cm6 = confusion_matrix_(y_test, y_pred6)"
   ]
  },
  {
   "cell_type": "code",
   "execution_count": 63,
   "metadata": {},
   "outputs": [
    {
     "data": {
      "text/html": [
       "<div>\n",
       "<style scoped>\n",
       "    .dataframe tbody tr th:only-of-type {\n",
       "        vertical-align: middle;\n",
       "    }\n",
       "\n",
       "    .dataframe tbody tr th {\n",
       "        vertical-align: top;\n",
       "    }\n",
       "\n",
       "    .dataframe thead th {\n",
       "        text-align: right;\n",
       "    }\n",
       "</style>\n",
       "<table border=\"1\" class=\"dataframe\">\n",
       "  <thead>\n",
       "    <tr style=\"text-align: right;\">\n",
       "      <th></th>\n",
       "      <th>Values</th>\n",
       "    </tr>\n",
       "  </thead>\n",
       "  <tbody>\n",
       "    <tr>\n",
       "      <th>Accuracy</th>\n",
       "      <td>0.888000</td>\n",
       "    </tr>\n",
       "    <tr>\n",
       "      <th>Precision</th>\n",
       "      <td>0.883360</td>\n",
       "    </tr>\n",
       "    <tr>\n",
       "      <th>Sensitivity</th>\n",
       "      <td>0.890988</td>\n",
       "    </tr>\n",
       "    <tr>\n",
       "      <th>Specificity</th>\n",
       "      <td>0.892610</td>\n",
       "    </tr>\n",
       "    <tr>\n",
       "      <th>F1Score</th>\n",
       "      <td>0.887157</td>\n",
       "    </tr>\n",
       "    <tr>\n",
       "      <th>Error</th>\n",
       "      <td>0.112000</td>\n",
       "    </tr>\n",
       "  </tbody>\n",
       "</table>\n",
       "</div>"
      ],
      "text/plain": [
       "               Values\n",
       "Accuracy     0.888000\n",
       "Precision    0.883360\n",
       "Sensitivity  0.890988\n",
       "Specificity  0.892610\n",
       "F1Score      0.887157\n",
       "Error        0.112000"
      ]
     },
     "execution_count": 63,
     "metadata": {},
     "output_type": "execute_result"
    }
   ],
   "source": [
    "False_Postive6, True_Positive6, False_Negative6, True_Negative6 = positive_negative(cm6)\n",
    "MetricsValues6 = performance_metrics(False_Postive6, True_Positive6, False_Negative6, True_Negative6)\n",
    "MetricsValues6"
   ]
  },
  {
   "cell_type": "markdown",
   "metadata": {},
   "source": [
    "# Deep Learning"
   ]
  },
  {
   "cell_type": "code",
   "execution_count": 64,
   "metadata": {},
   "outputs": [],
   "source": [
    "tokenizer = Tokenizer()\n",
    "tokenizer.fit_on_texts(X_train)\n",
    "embedding_dim = 16\n",
    "vocab_size = len(tokenizer.word_index) + 1"
   ]
  },
  {
   "cell_type": "code",
   "execution_count": 65,
   "metadata": {},
   "outputs": [
    {
     "data": {
      "text/plain": [
       "53081"
      ]
     },
     "execution_count": 65,
     "metadata": {},
     "output_type": "execute_result"
    }
   ],
   "source": [
    "vocab_size"
   ]
  },
  {
   "cell_type": "code",
   "execution_count": 66,
   "metadata": {},
   "outputs": [],
   "source": [
    "X_train_seqs = tokenizer.texts_to_sequences(X_train)\n",
    "X_test_seqs = tokenizer.texts_to_sequences(X_test)\n",
    "max_length = len(max(X_train_seqs, key=len))"
   ]
  },
  {
   "cell_type": "code",
   "execution_count": 67,
   "metadata": {},
   "outputs": [
    {
     "data": {
      "text/plain": [
       "1275"
      ]
     },
     "execution_count": 67,
     "metadata": {},
     "output_type": "execute_result"
    }
   ],
   "source": [
    "max_length"
   ]
  },
  {
   "cell_type": "code",
   "execution_count": 68,
   "metadata": {},
   "outputs": [],
   "source": [
    "encoded_X_train = sequence.pad_sequences(X_train_seqs, maxlen=max_length)\n",
    "encoded_X_test = sequence.pad_sequences(X_test_seqs, maxlen=max_length)"
   ]
  },
  {
   "cell_type": "code",
   "execution_count": 69,
   "metadata": {},
   "outputs": [],
   "source": [
    "Callback = tf.keras.callbacks.EarlyStopping(\n",
    "                    monitor=\"accuracy\",\n",
    "                    mode=\"max\",\n",
    "                    start_from_epoch=5\n",
    "                )"
   ]
  },
  {
   "cell_type": "markdown",
   "metadata": {},
   "source": [
    "**7-Convolutional Neural Network**"
   ]
  },
  {
   "cell_type": "code",
   "execution_count": 70,
   "metadata": {},
   "outputs": [],
   "source": [
    "model = tf.keras.Sequential([\n",
    "                Embedding(input_dim=vocab_size, output_dim=embedding_dim, input_length=max_length),\n",
    "                Conv1D(filters=32, kernel_size = 3, activation='relu'),\n",
    "                GlobalAveragePooling1D(),\n",
    "                Dropout(0.2),\n",
    "                Dense(1, activation= 'sigmoid')\n",
    "                ])"
   ]
  },
  {
   "cell_type": "code",
   "execution_count": 71,
   "metadata": {},
   "outputs": [],
   "source": [
    "model.compile(optimizer='adam',\n",
    "              loss='binary_crossentropy',\n",
    "              metrics=['accuracy'])"
   ]
  },
  {
   "cell_type": "code",
   "execution_count": 72,
   "metadata": {},
   "outputs": [
    {
     "name": "stdout",
     "output_type": "stream",
     "text": [
      "Epoch 1/10\n",
      "1094/1094 [==============================] - 119s 108ms/step - loss: 0.5975 - accuracy: 0.7278 - val_loss: 0.4160 - val_accuracy: 0.8609\n",
      "Epoch 2/10\n",
      "1094/1094 [==============================] - 111s 102ms/step - loss: 0.3254 - accuracy: 0.8860 - val_loss: 0.3127 - val_accuracy: 0.8863\n",
      "Epoch 3/10\n",
      "1094/1094 [==============================] - 109s 100ms/step - loss: 0.2315 - accuracy: 0.9188 - val_loss: 0.2954 - val_accuracy: 0.8881\n",
      "Epoch 4/10\n",
      "1094/1094 [==============================] - 108s 99ms/step - loss: 0.1812 - accuracy: 0.9373 - val_loss: 0.2894 - val_accuracy: 0.8904\n",
      "Epoch 5/10\n",
      "1094/1094 [==============================] - 106s 97ms/step - loss: 0.1446 - accuracy: 0.9510 - val_loss: 0.2907 - val_accuracy: 0.8911\n",
      "Epoch 6/10\n",
      "1094/1094 [==============================] - 106s 97ms/step - loss: 0.1164 - accuracy: 0.9627 - val_loss: 0.3020 - val_accuracy: 0.8896\n",
      "Epoch 7/10\n",
      "1094/1094 [==============================] - 109s 100ms/step - loss: 0.0922 - accuracy: 0.9722 - val_loss: 0.3048 - val_accuracy: 0.8891\n",
      "Epoch 8/10\n",
      "1094/1094 [==============================] - 97s 88ms/step - loss: 0.0743 - accuracy: 0.9781 - val_loss: 0.3218 - val_accuracy: 0.8853\n",
      "Epoch 9/10\n",
      "1094/1094 [==============================] - 105s 96ms/step - loss: 0.0603 - accuracy: 0.9834 - val_loss: 0.3528 - val_accuracy: 0.8811\n",
      "Epoch 10/10\n",
      "1094/1094 [==============================] - 110s 100ms/step - loss: 0.0468 - accuracy: 0.9882 - val_loss: 0.3669 - val_accuracy: 0.8789\n"
     ]
    }
   ],
   "source": [
    "history = model.fit(encoded_X_train, y_train,\n",
    "                    epochs=10,\n",
    "                    validation_data=(encoded_X_test, y_test),\n",
    "                    batch_size=16,\n",
    "                    callbacks=[Callback])"
   ]
  },
  {
   "cell_type": "code",
   "execution_count": 73,
   "metadata": {},
   "outputs": [
    {
     "data": {
      "image/png": "[encoded data removed]",
      "text/plain": [
       "<Figure size 640x480 with 1 Axes>"
      ]
     },
     "metadata": {},
     "output_type": "display_data"
    }
   ],
   "source": [
    "val_acc = history.history['val_accuracy']\n",
    "val_loss = history.history['val_loss']\n",
    "\n",
    "plt.plot(val_acc, label='Accuracy')\n",
    "plt.plot(val_loss, label='Loss')\n",
    "plt.legend()\n",
    "plt.show()"
   ]
  },
  {
   "cell_type": "code",
   "execution_count": 74,
   "metadata": {},
   "outputs": [
    {
     "data": {
      "image/png": "[encoded data removed]",
      "text/plain": [
       "<Figure size 640x480 with 1 Axes>"
      ]
     },
     "metadata": {},
     "output_type": "display_data"
    }
   ],
   "source": [
    "acc = history.history['accuracy']\n",
    "loss = history.history['loss']\n",
    "\n",
    "plt.plot(acc, label='Accuracy')\n",
    "plt.plot(loss, label='Loss')\n",
    "plt.legend()\n",
    "plt.show()"
   ]
  },
  {
   "cell_type": "code",
   "execution_count": 75,
   "metadata": {},
   "outputs": [
    {
     "name": "stdout",
     "output_type": "stream",
     "text": [
      "Training Accuracy: 0.9930\n",
      "Testing Accuracy:  0.8789\n"
     ]
    }
   ],
   "source": [
    "loss, accuracy = model.evaluate(encoded_X_train, y_train, verbose=False)\n",
    "print(\"Training Accuracy: {:.4f}\".format(accuracy))\n",
    "loss, accuracy = model.evaluate(encoded_X_test, y_test, verbose=False)\n",
    "print(\"Testing Accuracy:  {:.4f}\".format(accuracy))"
   ]
  },
  {
   "cell_type": "markdown",
   "metadata": {},
   "source": [
    "**8-Recurrent Neural Networks**"
   ]
  },
  {
   "cell_type": "code",
   "execution_count": 76,
   "metadata": {},
   "outputs": [],
   "source": [
    "model = tf.keras.Sequential([\n",
    "        Embedding(input_dim=vocab_size, output_dim=embedding_dim, input_length=max_length),\n",
    "        LSTM(32, return_sequences=False),  \n",
    "        Dropout(0.2),      \n",
    "        Dense(1, activation='sigmoid')])"
   ]
  },
  {
   "cell_type": "code",
   "execution_count": 77,
   "metadata": {},
   "outputs": [],
   "source": [
    "model.compile(optimizer='adam',\n",
    "              loss='binary_crossentropy',\n",
    "              metrics=['accuracy'])"
   ]
  },
  {
   "cell_type": "code",
   "execution_count": 78,
   "metadata": {},
   "outputs": [
    {
     "name": "stdout",
     "output_type": "stream",
     "text": [
      "Epoch 1/10\n",
      "1094/1094 [==============================] - 127s 115ms/step - loss: 0.3957 - accuracy: 0.8178 - val_loss: 0.3305 - val_accuracy: 0.8717\n",
      "Epoch 2/10\n",
      "1094/1094 [==============================] - 124s 113ms/step - loss: 0.1750 - accuracy: 0.9386 - val_loss: 0.3295 - val_accuracy: 0.8737\n",
      "Epoch 3/10\n",
      "1094/1094 [==============================] - 109s 100ms/step - loss: 0.0905 - accuracy: 0.9705 - val_loss: 0.3914 - val_accuracy: 0.8500\n",
      "Epoch 4/10\n",
      "1094/1094 [==============================] - 105s 96ms/step - loss: 0.0511 - accuracy: 0.9842 - val_loss: 0.5392 - val_accuracy: 0.8592\n",
      "Epoch 5/10\n",
      "1094/1094 [==============================] - 104s 95ms/step - loss: 0.0345 - accuracy: 0.9905 - val_loss: 0.5431 - val_accuracy: 0.8543\n",
      "Epoch 6/10\n",
      "1094/1094 [==============================] - 103s 94ms/step - loss: 0.0349 - accuracy: 0.9895 - val_loss: 0.5859 - val_accuracy: 0.8551\n",
      "Epoch 7/10\n",
      "1094/1094 [==============================] - 103s 94ms/step - loss: 0.0268 - accuracy: 0.9919 - val_loss: 0.6270 - val_accuracy: 0.8507\n",
      "Epoch 8/10\n",
      "1094/1094 [==============================] - 149s 137ms/step - loss: 0.0198 - accuracy: 0.9941 - val_loss: 0.6395 - val_accuracy: 0.8475\n",
      "Epoch 9/10\n",
      "1094/1094 [==============================] - 128s 117ms/step - loss: 0.0187 - accuracy: 0.9946 - val_loss: 0.6670 - val_accuracy: 0.8535\n",
      "Epoch 10/10\n",
      "1094/1094 [==============================] - 122s 112ms/step - loss: 0.0102 - accuracy: 0.9970 - val_loss: 0.7423 - val_accuracy: 0.8507\n"
     ]
    }
   ],
   "source": [
    "history = model.fit(encoded_X_train, y_train,\n",
    "                    epochs=10,\n",
    "                    validation_data=(encoded_X_test, y_test),\n",
    "                    batch_size=16,\n",
    "                    callbacks=[Callback])"
   ]
  },
  {
   "cell_type": "code",
   "execution_count": 79,
   "metadata": {},
   "outputs": [
    {
     "data": {
      "image/png": "[encoded data removed]",
      "text/plain": [
       "<Figure size 640x480 with 1 Axes>"
      ]
     },
     "metadata": {},
     "output_type": "display_data"
    }
   ],
   "source": [
    "val_acc = history.history['val_accuracy']\n",
    "val_loss = history.history['val_loss']\n",
    "\n",
    "plt.plot(val_acc, label='Accuracy')\n",
    "plt.plot(val_loss, label='Loss')\n",
    "plt.legend()\n",
    "plt.show()"
   ]
  },
  {
   "cell_type": "code",
   "execution_count": 80,
   "metadata": {},
   "outputs": [
    {
     "data": {
      "image/png": "[encoded data removed]",
      "text/plain": [
       "<Figure size 640x480 with 1 Axes>"
      ]
     },
     "metadata": {},
     "output_type": "display_data"
    }
   ],
   "source": [
    "acc = history.history['accuracy']\n",
    "loss = history.history['loss']\n",
    "\n",
    "plt.plot(acc, label='Accuracy')\n",
    "plt.plot(loss, label='Loss')\n",
    "plt.legend()\n",
    "plt.show()"
   ]
  },
  {
   "cell_type": "code",
   "execution_count": 81,
   "metadata": {},
   "outputs": [
    {
     "name": "stdout",
     "output_type": "stream",
     "text": [
      "Training Accuracy: 0.9992\n",
      "Testing Accuracy:  0.8507\n"
     ]
    }
   ],
   "source": [
    "loss, accuracy = model.evaluate(encoded_X_train, y_train, verbose=False)\n",
    "print(\"Training Accuracy: {:.4f}\".format(accuracy))\n",
    "loss, accuracy = model.evaluate(encoded_X_test, y_test, verbose=False)\n",
    "print(\"Testing Accuracy:  {:.4f}\".format(accuracy))"
   ]
  },
  {
   "cell_type": "code",
   "execution_count": null,
   "metadata": {},
   "outputs": [],
   "source": []
  }
 ],
 "metadata": {
  "kernelspec": {
   "display_name": "Python 3",
   "language": "python",
   "name": "python3"
  },
  "language_info": {
   "codemirror_mode": {
    "name": "ipython",
    "version": 3
   },
   "file_extension": ".py",
   "mimetype": "text/x-python",
   "name": "python",
   "nbconvert_exporter": "python",
   "pygments_lexer": "ipython3",
   "version": "3.11.4"
  },
  "orig_nbformat": 4
 },
 "nbformat": 4,
 "nbformat_minor": 2
}
