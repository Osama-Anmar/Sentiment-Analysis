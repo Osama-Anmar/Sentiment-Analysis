{
 "cells": [
  {
   "cell_type": "markdown",
   "metadata": {},
   "source": [
    "# Import Libraries\n"
   ]
  },
  {
   "cell_type": "code",
   "execution_count": 1,
   "metadata": {},
   "outputs": [],
   "source": [
    "import pandas as pd\n",
    "import numpy as np\n",
    "import nltk\n",
    "import tensorflow as tf\n",
    "from keras.layers import *\n",
    "from tensorflow import *\n",
    "from keras.preprocessing.sequence import pad_sequences\n",
    "from keras.preprocessing.text import Tokenizer\n",
    "from keras.preprocessing import *\n",
    "from nltk.stem import  WordNetLemmatizer\n",
    "from nltk.corpus import stopwords\n",
    "import re\n",
    "import os\n",
    "from nltk.tokenize import word_tokenize, sent_tokenize\n",
    "import matplotlib.pyplot as plt\n",
    "import seaborn as sns\n",
    "from sklearn.tree import DecisionTreeClassifier\n",
    "from sklearn.naive_bayes import MultinomialNB\n",
    "from sklearn.neighbors import KNeighborsClassifier\n",
    "from sklearn.linear_model import LogisticRegression\n",
    "from sklearn.ensemble import RandomForestClassifier\n",
    "from sklearn.model_selection import train_test_split\n",
    "from sklearn.metrics import confusion_matrix\n",
    "from sklearn.feature_extraction.text import  TfidfVectorizer\n",
    "from sklearn.linear_model import SGDClassifier\n",
    "from sklearn.preprocessing import LabelEncoder\n",
    "import warnings\n",
    "import random\n",
    "import emoji\n",
    "from wordcloud import WordCloud\n",
    "import plotly.express as px\n",
    "from nltk import pos_tag\n",
    "from plotly import graph_objects as go\n",
    "from collections import Counter\n",
    "import string\n",
    "pd.options.display.max_rows = 100\n",
    "pd.options.display.max_columns =None \n",
    "random.seed(10)"
   ]
  },
  {
   "cell_type": "code",
   "execution_count": 2,
   "metadata": {},
   "outputs": [],
   "source": [
    "colors1 = ['#32d732','#008f00']\n",
    "colors2 = ['#003d00', '#ccf5cc']\n",
    "color3 = ['Salmon', 'FireBrick', 'MediumVioletRed', 'Tomato', 'Orange', 'Gold', 'DarkKhaki', 'Lavender', 'Plum', 'LimeGreen', 'MediumSpringGreen', 'Green', 'DeepSkyBlue', 'Aquamarine', 'MediumSlateBlue']"
   ]
  },
  {
   "cell_type": "markdown",
   "metadata": {},
   "source": [
    "# Download Some Packages"
   ]
  },
  {
   "cell_type": "code",
   "execution_count": 3,
   "metadata": {},
   "outputs": [
    {
     "name": "stderr",
     "output_type": "stream",
     "text": [
      "[nltk_data] Downloading package punkt to\n",
      "[nltk_data]     /Users/osamaanmar/nltk_data...\n",
      "[nltk_data]   Package punkt is already up-to-date!\n",
      "[nltk_data] Downloading package wordnet to\n",
      "[nltk_data]     /Users/osamaanmar/nltk_data...\n",
      "[nltk_data]   Package wordnet is already up-to-date!\n",
      "[nltk_data] Downloading package stopwords to\n",
      "[nltk_data]     /Users/osamaanmar/nltk_data...\n",
      "[nltk_data]   Package stopwords is already up-to-date!\n",
      "[nltk_data] Downloading package averaged_perceptron_tagger to\n",
      "[nltk_data]     /Users/osamaanmar/nltk_data...\n",
      "[nltk_data]   Package averaged_perceptron_tagger is already up-to-\n",
      "[nltk_data]       date!\n"
     ]
    },
    {
     "data": {
      "text/plain": [
       "True"
      ]
     },
     "execution_count": 3,
     "metadata": {},
     "output_type": "execute_result"
    }
   ],
   "source": [
    "nltk.download('punkt')\n",
    "nltk.download('wordnet')\n",
    "nltk.download('stopwords')\n",
    "nltk.download('averaged_perceptron_tagger')"
   ]
  },
  {
   "cell_type": "markdown",
   "metadata": {},
   "source": [
    "# Ignore Warnings"
   ]
  },
  {
   "cell_type": "code",
   "execution_count": 4,
   "metadata": {},
   "outputs": [],
   "source": [
    "os.environ['TF_CPP_MIN_LOG_LEVEL'] = '3'\n",
    "warnings.filterwarnings(action='ignore')"
   ]
  },
  {
   "cell_type": "markdown",
   "metadata": {},
   "source": [
    "# Read Data"
   ]
  },
  {
   "cell_type": "code",
   "execution_count": 5,
   "metadata": {},
   "outputs": [
    {
     "data": {
      "text/html": [
       "<div>\n",
       "<style scoped>\n",
       "    .dataframe tbody tr th:only-of-type {\n",
       "        vertical-align: middle;\n",
       "    }\n",
       "\n",
       "    .dataframe tbody tr th {\n",
       "        vertical-align: top;\n",
       "    }\n",
       "\n",
       "    .dataframe thead th {\n",
       "        text-align: right;\n",
       "    }\n",
       "</style>\n",
       "<table border=\"1\" class=\"dataframe\">\n",
       "  <thead>\n",
       "    <tr style=\"text-align: right;\">\n",
       "      <th></th>\n",
       "      <th>Sentiment</th>\n",
       "      <th>Review</th>\n",
       "    </tr>\n",
       "  </thead>\n",
       "  <tbody>\n",
       "    <tr>\n",
       "      <th>0</th>\n",
       "      <td>Positive</td>\n",
       "      <td>With all this stuff going down at the moment w...</td>\n",
       "    </tr>\n",
       "    <tr>\n",
       "      <th>1</th>\n",
       "      <td>Positive</td>\n",
       "      <td>'The Classic War of the Worlds' by Timothy Hin...</td>\n",
       "    </tr>\n",
       "    <tr>\n",
       "      <th>2</th>\n",
       "      <td>Negative</td>\n",
       "      <td>The film starts with a manager (Nicholas Bell)...</td>\n",
       "    </tr>\n",
       "    <tr>\n",
       "      <th>3</th>\n",
       "      <td>Negative</td>\n",
       "      <td>It must be assumed that those who praised this...</td>\n",
       "    </tr>\n",
       "    <tr>\n",
       "      <th>4</th>\n",
       "      <td>Positive</td>\n",
       "      <td>Superbly trashy and wondrously unpretentious 8...</td>\n",
       "    </tr>\n",
       "    <tr>\n",
       "      <th>...</th>\n",
       "      <td>...</td>\n",
       "      <td>...</td>\n",
       "    </tr>\n",
       "    <tr>\n",
       "      <th>24995</th>\n",
       "      <td>Negative</td>\n",
       "      <td>It seems like more consideration has gone into...</td>\n",
       "    </tr>\n",
       "    <tr>\n",
       "      <th>24996</th>\n",
       "      <td>Negative</td>\n",
       "      <td>I don't believe they made this film. Completel...</td>\n",
       "    </tr>\n",
       "    <tr>\n",
       "      <th>24997</th>\n",
       "      <td>Negative</td>\n",
       "      <td>Guy is a loser. Can't get girls, needs to buil...</td>\n",
       "    </tr>\n",
       "    <tr>\n",
       "      <th>24998</th>\n",
       "      <td>Negative</td>\n",
       "      <td>This 30 minute documentary Buñuel made in the ...</td>\n",
       "    </tr>\n",
       "    <tr>\n",
       "      <th>24999</th>\n",
       "      <td>Positive</td>\n",
       "      <td>I saw this movie as a child and it broke my he...</td>\n",
       "    </tr>\n",
       "  </tbody>\n",
       "</table>\n",
       "<p>25000 rows × 2 columns</p>\n",
       "</div>"
      ],
      "text/plain": [
       "      Sentiment                                             Review\n",
       "0      Positive  With all this stuff going down at the moment w...\n",
       "1      Positive  'The Classic War of the Worlds' by Timothy Hin...\n",
       "2      Negative  The film starts with a manager (Nicholas Bell)...\n",
       "3      Negative  It must be assumed that those who praised this...\n",
       "4      Positive  Superbly trashy and wondrously unpretentious 8...\n",
       "...         ...                                                ...\n",
       "24995  Negative  It seems like more consideration has gone into...\n",
       "24996  Negative  I don't believe they made this film. Completel...\n",
       "24997  Negative  Guy is a loser. Can't get girls, needs to buil...\n",
       "24998  Negative  This 30 minute documentary Buñuel made in the ...\n",
       "24999  Positive  I saw this movie as a child and it broke my he...\n",
       "\n",
       "[25000 rows x 2 columns]"
      ]
     },
     "execution_count": 5,
     "metadata": {},
     "output_type": "execute_result"
    }
   ],
   "source": [
    "Corpus = pd.read_csv('MovieReviewTrainingDatabase.csv')\n",
    "Corpus.rename(columns={'review': 'Review', 'sentiment': 'Sentiment'}, inplace=True)\n",
    "Corpus\n"
   ]
  },
  {
   "cell_type": "markdown",
   "metadata": {},
   "source": [
    "# Percantage Of Each Sentiment"
   ]
  },
  {
   "cell_type": "code",
   "execution_count": 6,
   "metadata": {},
   "outputs": [
    {
     "data": {
      "image/png": "[encoded data removed]",
      "text/plain": [
       "<Figure size 600x600 with 1 Axes>"
      ]
     },
     "metadata": {},
     "output_type": "display_data"
    }
   ],
   "source": [
    "Corpus['Sentiment'].value_counts().plot.pie(autopct = '%0.1f%%',\n",
    "                                                    textprops = {'size': 'large'},\n",
    "                                                    title = 'Sentiment Percentage',\n",
    "                                                    figsize = (6,6),\n",
    "                                                    colors = colors1,\n",
    "                                                    ylabel = ' ');"
   ]
  },
  {
   "cell_type": "markdown",
   "metadata": {},
   "source": [
    "# Count Of Each Sentiment"
   ]
  },
  {
   "cell_type": "code",
   "execution_count": 7,
   "metadata": {},
   "outputs": [
    {
     "data": {
      "image/png": "[encoded data removed]",
      "text/plain": [
       "<Figure size 600x600 with 1 Axes>"
      ]
     },
     "metadata": {},
     "output_type": "display_data"
    }
   ],
   "source": [
    "ax, fig = plt.subplots(figsize = (6,6))\n",
    "ax =sns.countplot(x='Sentiment', data=Corpus, dodge=False, hue='Sentiment',  order= Corpus['Sentiment'].value_counts().index, hue_order =Corpus['Sentiment'].value_counts().index,  palette=colors2);\n",
    "ax.set(xticklabels=[]) \n",
    "ax.set(ylabel=None) \n",
    "plt.title('Sentiment Count')\n",
    "sns.move_legend(ax, \"upper left\", bbox_to_anchor=(1, 1))\n",
    "plt.show()"
   ]
  },
  {
   "cell_type": "markdown",
   "metadata": {},
   "source": [
    "# Number Of Sentences"
   ]
  },
  {
   "cell_type": "code",
   "execution_count": 8,
   "metadata": {},
   "outputs": [],
   "source": [
    "Corpus['NumberOfSentences'] = Corpus['Review'].apply(lambda n:len(sent_tokenize(n)))\n",
    "Corpus.drop(Corpus[ Corpus[\"NumberOfSentences\"] == 0].index, inplace = True)\n"
   ]
  },
  {
   "cell_type": "code",
   "execution_count": 9,
   "metadata": {},
   "outputs": [
    {
     "data": {
      "text/plain": [
       "311468"
      ]
     },
     "execution_count": 9,
     "metadata": {},
     "output_type": "execute_result"
    }
   ],
   "source": [
    "Corpus['NumberOfSentences'].sum()"
   ]
  },
  {
   "cell_type": "markdown",
   "metadata": {},
   "source": [
    "# Average Number Of Sentences"
   ]
  },
  {
   "cell_type": "code",
   "execution_count": 10,
   "metadata": {},
   "outputs": [
    {
     "data": {
      "text/plain": [
       "12"
      ]
     },
     "execution_count": 10,
     "metadata": {},
     "output_type": "execute_result"
    }
   ],
   "source": [
    "AverageNumberOfSentence = int(np.round(Corpus[\"NumberOfSentences\"].mean()))\n",
    "AverageNumberOfSentence"
   ]
  },
  {
   "cell_type": "markdown",
   "metadata": {},
   "source": [
    "# Maximum Number Of Sentences"
   ]
  },
  {
   "cell_type": "code",
   "execution_count": 11,
   "metadata": {},
   "outputs": [
    {
     "data": {
      "text/plain": [
       "282"
      ]
     },
     "execution_count": 11,
     "metadata": {},
     "output_type": "execute_result"
    }
   ],
   "source": [
    "MaximumNumberOfSentence = Corpus[\"NumberOfSentences\"].max()\n",
    "MaximumNumberOfSentence"
   ]
  },
  {
   "cell_type": "markdown",
   "metadata": {},
   "source": [
    "# Minimum Number Of Sentences"
   ]
  },
  {
   "cell_type": "code",
   "execution_count": 12,
   "metadata": {},
   "outputs": [
    {
     "data": {
      "text/plain": [
       "1"
      ]
     },
     "execution_count": 12,
     "metadata": {},
     "output_type": "execute_result"
    }
   ],
   "source": [
    "MinimumNumberOfSentence = Corpus[\"NumberOfSentences\"].min()\n",
    "MinimumNumberOfSentence"
   ]
  },
  {
   "cell_type": "markdown",
   "metadata": {},
   "source": [
    "# Text Normalization"
   ]
  },
  {
   "cell_type": "code",
   "execution_count": 13,
   "metadata": {},
   "outputs": [],
   "source": [
    "def remove_emojis(text):\n",
    "     \"Remove All Emojis From Text\"\n",
    "     text = emoji.replace_emoji(text, replace=\"\")\n",
    "     return text\n",
    "\n",
    "def remove_duplicate_char(text):\n",
    "     \"Remove Chars Word Has More Than 2 Same Following Char\"\n",
    "     text = re.sub(r'(.)\\1+', r'\\1\\1', text)\n",
    "     return text\n",
    "\n",
    "def remove_single_char(text):\n",
    "     \"Remove Alone Chars From Text\"\n",
    "     text = ' '.join( [w for w in text.split() if len(w)>1] )\n",
    "     return text\n",
    "\n",
    "def remove_special_character_(text):\n",
    "     \"Remove Special Character From Text\"\n",
    "     Punctuations = '`؛،؟.,«»÷-' + string.punctuation\n",
    "     for punctuation in Punctuations:\n",
    "        text = text.replace(punctuation, ' ')\n",
    "     return text   \n",
    "\n",
    "def remove_new_line_char(text):\n",
    "     \"Remove New Line Symbols From Text\"\n",
    "     text = text.replace('\\n', ' ')\n",
    "     return text  \n",
    " \n",
    "def remove_number(text):\n",
    "     \"Remove All Number From Text\"\n",
    "     text = re.sub(r'[0-9٠-٩]', '', text)\n",
    "     return text\n",
    "\n",
    "def remove_html_tags(text):\n",
    "    \"Remove All HTL Tags From Text\"\n",
    "    text = re.sub(\"<.*?>\", ' ', text)\n",
    "    return text\n",
    "\n",
    "def remove_non_english(text):\n",
    "    \"Remove Non English Word And Char\"\n",
    "    char = set(string.printable)\n",
    "    for c in text:\n",
    "        if c not in char:\n",
    "            text = text.replace(c, ' ')\n",
    "    return text\n",
    "\n",
    "def remove_whitespace(text):\n",
    "     \"Remove Extra WhiteSpace\"\n",
    "     text = text.strip()\n",
    "     return text \n",
    "\n",
    "def remove_unicode_characters_(text):\n",
    "     \"Remove Unicode Char\"\n",
    "     for character in text:\n",
    "        if (ord(character) < 47) or ((ord(character) > 123 and ord(character) < 1568)) or ((ord(character) > 1641 and ord(character) < 8239)) :\n",
    "         text = text.replace(character, ' ')\n",
    "     return text\n",
    "\n",
    "def remove_stop_words(text):\n",
    "     \"Remove StopWords From Text\"\n",
    "     StopWords1 = set(stopwords.words('english'))\n",
    "     StopWords2 = set(open('EnglishStopWords.txt','r').read().split('\\n'))\n",
    "     StopWords = StopWords1.union(StopWords2)\n",
    "     text = word_tokenize(text)\n",
    "     text = [word for word in text if word not in StopWords]\n",
    "     return ' '.join(text)\n",
    "\n",
    "def remove_longest_than_(text):\n",
    "     \"Remove All Words That Longest Than The Longest Word In Englis\"\n",
    "     for word in text.split():\n",
    "          if len(word) >=46:\n",
    "               text = text.replace(word, '')\n",
    "     return text\n",
    "\n",
    "def lemmatizer_(text):\n",
    "     \"Lowers Inflection In Words To Their Root Forms\"\n",
    "     lemmatizer = WordNetLemmatizer()\n",
    "     text = \" \".join([lemmatizer.lemmatize(word, pos='v') for word in text.split()])\n",
    "     return text\n"
   ]
  },
  {
   "cell_type": "code",
   "execution_count": 14,
   "metadata": {},
   "outputs": [],
   "source": [
    "def text_normalization(text):\n",
    "    text = text.lower()\n",
    "    text = remove_emojis(text)\n",
    "    text = remove_html_tags(text)\n",
    "    text = remove_duplicate_char(text)\n",
    "    text = remove_number(text)\n",
    "    text = remove_single_char(text)\n",
    "    text = remove_non_english(text)\n",
    "    text = remove_unicode_characters_(text)\n",
    "    text = remove_special_character_(text)\n",
    "    text = remove_stop_words(text)\n",
    "    text = remove_new_line_char(text)\n",
    "    text = remove_longest_than_(text)\n",
    "    text = remove_whitespace(text)\n",
    "    text = lemmatizer_(text)\n",
    "    return ''.join(text)"
   ]
  },
  {
   "cell_type": "code",
   "execution_count": 15,
   "metadata": {},
   "outputs": [
    {
     "data": {
      "text/html": [
       "<div>\n",
       "<style scoped>\n",
       "    .dataframe tbody tr th:only-of-type {\n",
       "        vertical-align: middle;\n",
       "    }\n",
       "\n",
       "    .dataframe tbody tr th {\n",
       "        vertical-align: top;\n",
       "    }\n",
       "\n",
       "    .dataframe thead th {\n",
       "        text-align: right;\n",
       "    }\n",
       "</style>\n",
       "<table border=\"1\" class=\"dataframe\">\n",
       "  <thead>\n",
       "    <tr style=\"text-align: right;\">\n",
       "      <th></th>\n",
       "      <th>Sentiment</th>\n",
       "      <th>Review</th>\n",
       "      <th>NumberOfSentences</th>\n",
       "      <th>Normalized_Review</th>\n",
       "    </tr>\n",
       "  </thead>\n",
       "  <tbody>\n",
       "    <tr>\n",
       "      <th>0</th>\n",
       "      <td>Positive</td>\n",
       "      <td>With all this stuff going down at the moment w...</td>\n",
       "      <td>19</td>\n",
       "      <td>stuff go moment mj start listen music watch od...</td>\n",
       "    </tr>\n",
       "    <tr>\n",
       "      <th>1</th>\n",
       "      <td>Positive</td>\n",
       "      <td>'The Classic War of the Worlds' by Timothy Hin...</td>\n",
       "      <td>10</td>\n",
       "      <td>classic war worlds timothy hines entertain fil...</td>\n",
       "    </tr>\n",
       "    <tr>\n",
       "      <th>2</th>\n",
       "      <td>Negative</td>\n",
       "      <td>The film starts with a manager (Nicholas Bell)...</td>\n",
       "      <td>14</td>\n",
       "      <td>film start manager nicholas bell give welcome ...</td>\n",
       "    </tr>\n",
       "    <tr>\n",
       "      <th>3</th>\n",
       "      <td>Negative</td>\n",
       "      <td>It must be assumed that those who praised this...</td>\n",
       "      <td>7</td>\n",
       "      <td>assume praise film greatest film opera read ca...</td>\n",
       "    </tr>\n",
       "    <tr>\n",
       "      <th>4</th>\n",
       "      <td>Positive</td>\n",
       "      <td>Superbly trashy and wondrously unpretentious 8...</td>\n",
       "      <td>16</td>\n",
       "      <td>superbly trashy wondrously unpretentious explo...</td>\n",
       "    </tr>\n",
       "    <tr>\n",
       "      <th>...</th>\n",
       "      <td>...</td>\n",
       "      <td>...</td>\n",
       "      <td>...</td>\n",
       "      <td>...</td>\n",
       "    </tr>\n",
       "    <tr>\n",
       "      <th>24995</th>\n",
       "      <td>Negative</td>\n",
       "      <td>It seems like more consideration has gone into...</td>\n",
       "      <td>8</td>\n",
       "      <td>like consideration imdb review film go source ...</td>\n",
       "    </tr>\n",
       "    <tr>\n",
       "      <th>24996</th>\n",
       "      <td>Negative</td>\n",
       "      <td>I don't believe they made this film. Completel...</td>\n",
       "      <td>15</td>\n",
       "      <td>believe make film completely unnecessary first...</td>\n",
       "    </tr>\n",
       "    <tr>\n",
       "      <th>24997</th>\n",
       "      <td>Negative</td>\n",
       "      <td>Guy is a loser. Can't get girls, needs to buil...</td>\n",
       "      <td>16</td>\n",
       "      <td>guy loser girls need build pick stronger succe...</td>\n",
       "    </tr>\n",
       "    <tr>\n",
       "      <th>24998</th>\n",
       "      <td>Negative</td>\n",
       "      <td>This 30 minute documentary Buñuel made in the ...</td>\n",
       "      <td>9</td>\n",
       "      <td>minute documentary bu uel make early spain poo...</td>\n",
       "    </tr>\n",
       "    <tr>\n",
       "      <th>24999</th>\n",
       "      <td>Positive</td>\n",
       "      <td>I saw this movie as a child and it broke my he...</td>\n",
       "      <td>10</td>\n",
       "      <td>saw movie child break heart story unfinished e...</td>\n",
       "    </tr>\n",
       "  </tbody>\n",
       "</table>\n",
       "<p>25000 rows × 4 columns</p>\n",
       "</div>"
      ],
      "text/plain": [
       "      Sentiment                                             Review  \\\n",
       "0      Positive  With all this stuff going down at the moment w...   \n",
       "1      Positive  'The Classic War of the Worlds' by Timothy Hin...   \n",
       "2      Negative  The film starts with a manager (Nicholas Bell)...   \n",
       "3      Negative  It must be assumed that those who praised this...   \n",
       "4      Positive  Superbly trashy and wondrously unpretentious 8...   \n",
       "...         ...                                                ...   \n",
       "24995  Negative  It seems like more consideration has gone into...   \n",
       "24996  Negative  I don't believe they made this film. Completel...   \n",
       "24997  Negative  Guy is a loser. Can't get girls, needs to buil...   \n",
       "24998  Negative  This 30 minute documentary Buñuel made in the ...   \n",
       "24999  Positive  I saw this movie as a child and it broke my he...   \n",
       "\n",
       "       NumberOfSentences                                  Normalized_Review  \n",
       "0                     19  stuff go moment mj start listen music watch od...  \n",
       "1                     10  classic war worlds timothy hines entertain fil...  \n",
       "2                     14  film start manager nicholas bell give welcome ...  \n",
       "3                      7  assume praise film greatest film opera read ca...  \n",
       "4                     16  superbly trashy wondrously unpretentious explo...  \n",
       "...                  ...                                                ...  \n",
       "24995                  8  like consideration imdb review film go source ...  \n",
       "24996                 15  believe make film completely unnecessary first...  \n",
       "24997                 16  guy loser girls need build pick stronger succe...  \n",
       "24998                  9  minute documentary bu uel make early spain poo...  \n",
       "24999                 10  saw movie child break heart story unfinished e...  \n",
       "\n",
       "[25000 rows x 4 columns]"
      ]
     },
     "execution_count": 15,
     "metadata": {},
     "output_type": "execute_result"
    }
   ],
   "source": [
    "Corpus['Normalized_Review'] = Corpus['Review'].apply(lambda x: text_normalization(x))\n",
    "Corpus"
   ]
  },
  {
   "cell_type": "markdown",
   "metadata": {},
   "source": [
    "# Number Of Unique Words"
   ]
  },
  {
   "cell_type": "code",
   "execution_count": 16,
   "metadata": {},
   "outputs": [
    {
     "data": {
      "text/plain": [
       "61533"
      ]
     },
     "execution_count": 16,
     "metadata": {},
     "output_type": "execute_result"
    }
   ],
   "source": [
    "UniqueWords = set()\n",
    "for word in Corpus['Normalized_Review'].str.split():\n",
    "    UniqueWords.update(word)\n",
    "\n",
    "len(UniqueWords)"
   ]
  },
  {
   "cell_type": "markdown",
   "metadata": {},
   "source": [
    "# WordCloud"
   ]
  },
  {
   "cell_type": "code",
   "execution_count": 17,
   "metadata": {},
   "outputs": [],
   "source": [
    "def word_cloud_(Sentiment):\n",
    "    text = str(Corpus[Corpus['Sentiment'] == Sentiment]['Normalized_Review'])\n",
    "    wordcloud = WordCloud(background_color='white', mode='RGB',width=1500,height=800).generate(text)\n",
    "    plt.figure()\n",
    "    plt.imshow(wordcloud, interpolation='catrom')\n",
    "    plt.axis(\"off\")\n",
    "    plt.title('Word Cloud For {} Sentiment'.format(Sentiment))\n",
    "    plt.show()"
   ]
  },
  {
   "cell_type": "markdown",
   "metadata": {},
   "source": [
    "**1-Negative**"
   ]
  },
  {
   "cell_type": "code",
   "execution_count": 18,
   "metadata": {},
   "outputs": [
    {
     "data": {
      "image/png": "[encoded data removed]",
      "text/plain": [
       "<Figure size 640x480 with 1 Axes>"
      ]
     },
     "metadata": {},
     "output_type": "display_data"
    }
   ],
   "source": [
    "word_cloud_('Negative')"
   ]
  },
  {
   "cell_type": "markdown",
   "metadata": {},
   "source": [
    "**2-Positive**"
   ]
  },
  {
   "cell_type": "code",
   "execution_count": 19,
   "metadata": {},
   "outputs": [
    {
     "data": {
      "image/png": "[encoded data removed]",
      "text/plain": [
       "<Figure size 640x480 with 1 Axes>"
      ]
     },
     "metadata": {},
     "output_type": "display_data"
    }
   ],
   "source": [
    "word_cloud_('Positive')"
   ]
  },
  {
   "cell_type": "markdown",
   "metadata": {},
   "source": [
    "# Most Frequent Words "
   ]
  },
  {
   "cell_type": "code",
   "execution_count": 20,
   "metadata": {},
   "outputs": [
    {
     "data": {
      "text/html": [
       "<div>\n",
       "<style scoped>\n",
       "    .dataframe tbody tr th:only-of-type {\n",
       "        vertical-align: middle;\n",
       "    }\n",
       "\n",
       "    .dataframe tbody tr th {\n",
       "        vertical-align: top;\n",
       "    }\n",
       "\n",
       "    .dataframe thead th {\n",
       "        text-align: right;\n",
       "    }\n",
       "</style>\n",
       "<table border=\"1\" class=\"dataframe\">\n",
       "  <thead>\n",
       "    <tr style=\"text-align: right;\">\n",
       "      <th></th>\n",
       "      <th>Word</th>\n",
       "      <th>Count</th>\n",
       "    </tr>\n",
       "  </thead>\n",
       "  <tbody>\n",
       "    <tr>\n",
       "      <th>0</th>\n",
       "      <td>film</td>\n",
       "      <td>48211</td>\n",
       "    </tr>\n",
       "    <tr>\n",
       "      <th>1</th>\n",
       "      <td>movie</td>\n",
       "      <td>44047</td>\n",
       "    </tr>\n",
       "    <tr>\n",
       "      <th>2</th>\n",
       "      <td>like</td>\n",
       "      <td>22372</td>\n",
       "    </tr>\n",
       "    <tr>\n",
       "      <th>3</th>\n",
       "      <td>see</td>\n",
       "      <td>20814</td>\n",
       "    </tr>\n",
       "    <tr>\n",
       "      <th>4</th>\n",
       "      <td>time</td>\n",
       "      <td>16177</td>\n",
       "    </tr>\n",
       "    <tr>\n",
       "      <th>5</th>\n",
       "      <td>make</td>\n",
       "      <td>15551</td>\n",
       "    </tr>\n",
       "    <tr>\n",
       "      <th>6</th>\n",
       "      <td>character</td>\n",
       "      <td>14183</td>\n",
       "    </tr>\n",
       "    <tr>\n",
       "      <th>7</th>\n",
       "      <td>watch</td>\n",
       "      <td>13940</td>\n",
       "    </tr>\n",
       "    <tr>\n",
       "      <th>8</th>\n",
       "      <td>think</td>\n",
       "      <td>12352</td>\n",
       "    </tr>\n",
       "    <tr>\n",
       "      <th>9</th>\n",
       "      <td>story</td>\n",
       "      <td>11990</td>\n",
       "    </tr>\n",
       "    <tr>\n",
       "      <th>10</th>\n",
       "      <td>well</td>\n",
       "      <td>11048</td>\n",
       "    </tr>\n",
       "    <tr>\n",
       "      <th>11</th>\n",
       "      <td>show</td>\n",
       "      <td>10872</td>\n",
       "    </tr>\n",
       "    <tr>\n",
       "      <th>12</th>\n",
       "      <td>look</td>\n",
       "      <td>10054</td>\n",
       "    </tr>\n",
       "    <tr>\n",
       "      <th>13</th>\n",
       "      <td>end</td>\n",
       "      <td>9654</td>\n",
       "    </tr>\n",
       "    <tr>\n",
       "      <th>14</th>\n",
       "      <td>know</td>\n",
       "      <td>9493</td>\n",
       "    </tr>\n",
       "  </tbody>\n",
       "</table>\n",
       "</div>"
      ],
      "text/plain": [
       "         Word  Count\n",
       "0        film  48211\n",
       "1       movie  44047\n",
       "2        like  22372\n",
       "3         see  20814\n",
       "4        time  16177\n",
       "5        make  15551\n",
       "6   character  14183\n",
       "7       watch  13940\n",
       "8       think  12352\n",
       "9       story  11990\n",
       "10       well  11048\n",
       "11       show  10872\n",
       "12       look  10054\n",
       "13        end   9654\n",
       "14       know   9493"
      ]
     },
     "execution_count": 20,
     "metadata": {},
     "output_type": "execute_result"
    }
   ],
   "source": [
    "MostFrequentWord = Counter((Corpus['Normalized_Review']).str.split().explode()).most_common(15)\n",
    "MostFrequentWordDF = pd.DataFrame(MostFrequentWord, columns=('Word', 'Count'))\n",
    "MostFrequentWordDF"
   ]
  },
  {
   "cell_type": "code",
   "execution_count": 21,
   "metadata": {},
   "outputs": [
    {
     "data": {
      "application/vnd.plotly.v1+json": {
       "config": {
        "plotlyServerURL": "https://plot.ly"
       },
       "data": [
        {
         "marker": {
          "color": [
           "Salmon",
           "FireBrick",
           "MediumVioletRed",
           "Tomato",
           "Orange",
           "Gold",
           "DarkKhaki",
           "Lavender",
           "Plum",
           "LimeGreen",
           "MediumSpringGreen",
           "Green",
           "DeepSkyBlue",
           "Aquamarine",
           "MediumSlateBlue"
          ]
         },
         "type": "funnel",
         "x": [
          48211,
          44047,
          22372,
          20814,
          16177,
          15551,
          14183,
          13940,
          12352,
          11990,
          11048,
          10872,
          10054,
          9654,
          9493
         ],
         "y": [
          "film",
          "movie",
          "like",
          "see",
          "time",
          "make",
          "character",
          "watch",
          "think",
          "story",
          "well",
          "show",
          "look",
          "end",
          "know"
         ]
        }
       ],
       "layout": {
        "template": {
         "data": {
          "bar": [
           {
            "error_x": {
             "color": "#2a3f5f"
            },
            "error_y": {
             "color": "#2a3f5f"
            },
            "marker": {
             "line": {
              "color": "#E5ECF6",
              "width": 0.5
             },
             "pattern": {
              "fillmode": "overlay",
              "size": 10,
              "solidity": 0.2
             }
            },
            "type": "bar"
           }
          ],
          "barpolar": [
           {
            "marker": {
             "line": {
              "color": "#E5ECF6",
              "width": 0.5
             },
             "pattern": {
              "fillmode": "overlay",
              "size": 10,
              "solidity": 0.2
             }
            },
            "type": "barpolar"
           }
          ],
          "carpet": [
           {
            "aaxis": {
             "endlinecolor": "#2a3f5f",
             "gridcolor": "white",
             "linecolor": "white",
             "minorgridcolor": "white",
             "startlinecolor": "#2a3f5f"
            },
            "baxis": {
             "endlinecolor": "#2a3f5f",
             "gridcolor": "white",
             "linecolor": "white",
             "minorgridcolor": "white",
             "startlinecolor": "#2a3f5f"
            },
            "type": "carpet"
           }
          ],
          "choropleth": [
           {
            "colorbar": {
             "outlinewidth": 0,
             "ticks": ""
            },
            "type": "choropleth"
           }
          ],
          "contour": [
           {
            "colorbar": {
             "outlinewidth": 0,
             "ticks": ""
            },
            "colorscale": [
             [
              0,
              "#0d0887"
             ],
             [
              0.1111111111111111,
              "#46039f"
             ],
             [
              0.2222222222222222,
              "#7201a8"
             ],
             [
              0.3333333333333333,
              "#9c179e"
             ],
             [
              0.4444444444444444,
              "#bd3786"
             ],
             [
              0.5555555555555556,
              "#d8576b"
             ],
             [
              0.6666666666666666,
              "#ed7953"
             ],
             [
              0.7777777777777778,
              "#fb9f3a"
             ],
             [
              0.8888888888888888,
              "#fdca26"
             ],
             [
              1,
              "#f0f921"
             ]
            ],
            "type": "contour"
           }
          ],
          "contourcarpet": [
           {
            "colorbar": {
             "outlinewidth": 0,
             "ticks": ""
            },
            "type": "contourcarpet"
           }
          ],
          "heatmap": [
           {
            "colorbar": {
             "outlinewidth": 0,
             "ticks": ""
            },
            "colorscale": [
             [
              0,
              "#0d0887"
             ],
             [
              0.1111111111111111,
              "#46039f"
             ],
             [
              0.2222222222222222,
              "#7201a8"
             ],
             [
              0.3333333333333333,
              "#9c179e"
             ],
             [
              0.4444444444444444,
              "#bd3786"
             ],
             [
              0.5555555555555556,
              "#d8576b"
             ],
             [
              0.6666666666666666,
              "#ed7953"
             ],
             [
              0.7777777777777778,
              "#fb9f3a"
             ],
             [
              0.8888888888888888,
              "#fdca26"
             ],
             [
              1,
              "#f0f921"
             ]
            ],
            "type": "heatmap"
           }
          ],
          "heatmapgl": [
           {
            "colorbar": {
             "outlinewidth": 0,
             "ticks": ""
            },
            "colorscale": [
             [
              0,
              "#0d0887"
             ],
             [
              0.1111111111111111,
              "#46039f"
             ],
             [
              0.2222222222222222,
              "#7201a8"
             ],
             [
              0.3333333333333333,
              "#9c179e"
             ],
             [
              0.4444444444444444,
              "#bd3786"
             ],
             [
              0.5555555555555556,
              "#d8576b"
             ],
             [
              0.6666666666666666,
              "#ed7953"
             ],
             [
              0.7777777777777778,
              "#fb9f3a"
             ],
             [
              0.8888888888888888,
              "#fdca26"
             ],
             [
              1,
              "#f0f921"
             ]
            ],
            "type": "heatmapgl"
           }
          ],
          "histogram": [
           {
            "marker": {
             "pattern": {
              "fillmode": "overlay",
              "size": 10,
              "solidity": 0.2
             }
            },
            "type": "histogram"
           }
          ],
          "histogram2d": [
           {
            "colorbar": {
             "outlinewidth": 0,
             "ticks": ""
            },
            "colorscale": [
             [
              0,
              "#0d0887"
             ],
             [
              0.1111111111111111,
              "#46039f"
             ],
             [
              0.2222222222222222,
              "#7201a8"
             ],
             [
              0.3333333333333333,
              "#9c179e"
             ],
             [
              0.4444444444444444,
              "#bd3786"
             ],
             [
              0.5555555555555556,
              "#d8576b"
             ],
             [
              0.6666666666666666,
              "#ed7953"
             ],
             [
              0.7777777777777778,
              "#fb9f3a"
             ],
             [
              0.8888888888888888,
              "#fdca26"
             ],
             [
              1,
              "#f0f921"
             ]
            ],
            "type": "histogram2d"
           }
          ],
          "histogram2dcontour": [
           {
            "colorbar": {
             "outlinewidth": 0,
             "ticks": ""
            },
            "colorscale": [
             [
              0,
              "#0d0887"
             ],
             [
              0.1111111111111111,
              "#46039f"
             ],
             [
              0.2222222222222222,
              "#7201a8"
             ],
             [
              0.3333333333333333,
              "#9c179e"
             ],
             [
              0.4444444444444444,
              "#bd3786"
             ],
             [
              0.5555555555555556,
              "#d8576b"
             ],
             [
              0.6666666666666666,
              "#ed7953"
             ],
             [
              0.7777777777777778,
              "#fb9f3a"
             ],
             [
              0.8888888888888888,
              "#fdca26"
             ],
             [
              1,
              "#f0f921"
             ]
            ],
            "type": "histogram2dcontour"
           }
          ],
          "mesh3d": [
           {
            "colorbar": {
             "outlinewidth": 0,
             "ticks": ""
            },
            "type": "mesh3d"
           }
          ],
          "parcoords": [
           {
            "line": {
             "colorbar": {
              "outlinewidth": 0,
              "ticks": ""
             }
            },
            "type": "parcoords"
           }
          ],
          "pie": [
           {
            "automargin": true,
            "type": "pie"
           }
          ],
          "scatter": [
           {
            "fillpattern": {
             "fillmode": "overlay",
             "size": 10,
             "solidity": 0.2
            },
            "type": "scatter"
           }
          ],
          "scatter3d": [
           {
            "line": {
             "colorbar": {
              "outlinewidth": 0,
              "ticks": ""
             }
            },
            "marker": {
             "colorbar": {
              "outlinewidth": 0,
              "ticks": ""
             }
            },
            "type": "scatter3d"
           }
          ],
          "scattercarpet": [
           {
            "marker": {
             "colorbar": {
              "outlinewidth": 0,
              "ticks": ""
             }
            },
            "type": "scattercarpet"
           }
          ],
          "scattergeo": [
           {
            "marker": {
             "colorbar": {
              "outlinewidth": 0,
              "ticks": ""
             }
            },
            "type": "scattergeo"
           }
          ],
          "scattergl": [
           {
            "marker": {
             "colorbar": {
              "outlinewidth": 0,
              "ticks": ""
             }
            },
            "type": "scattergl"
           }
          ],
          "scattermapbox": [
           {
            "marker": {
             "colorbar": {
              "outlinewidth": 0,
              "ticks": ""
             }
            },
            "type": "scattermapbox"
           }
          ],
          "scatterpolar": [
           {
            "marker": {
             "colorbar": {
              "outlinewidth": 0,
              "ticks": ""
             }
            },
            "type": "scatterpolar"
           }
          ],
          "scatterpolargl": [
           {
            "marker": {
             "colorbar": {
              "outlinewidth": 0,
              "ticks": ""
             }
            },
            "type": "scatterpolargl"
           }
          ],
          "scatterternary": [
           {
            "marker": {
             "colorbar": {
              "outlinewidth": 0,
              "ticks": ""
             }
            },
            "type": "scatterternary"
           }
          ],
          "surface": [
           {
            "colorbar": {
             "outlinewidth": 0,
             "ticks": ""
            },
            "colorscale": [
             [
              0,
              "#0d0887"
             ],
             [
              0.1111111111111111,
              "#46039f"
             ],
             [
              0.2222222222222222,
              "#7201a8"
             ],
             [
              0.3333333333333333,
              "#9c179e"
             ],
             [
              0.4444444444444444,
              "#bd3786"
             ],
             [
              0.5555555555555556,
              "#d8576b"
             ],
             [
              0.6666666666666666,
              "#ed7953"
             ],
             [
              0.7777777777777778,
              "#fb9f3a"
             ],
             [
              0.8888888888888888,
              "#fdca26"
             ],
             [
              1,
              "#f0f921"
             ]
            ],
            "type": "surface"
           }
          ],
          "table": [
           {
            "cells": {
             "fill": {
              "color": "#EBF0F8"
             },
             "line": {
              "color": "white"
             }
            },
            "header": {
             "fill": {
              "color": "#C8D4E3"
             },
             "line": {
              "color": "white"
             }
            },
            "type": "table"
           }
          ]
         },
         "layout": {
          "annotationdefaults": {
           "arrowcolor": "#2a3f5f",
           "arrowhead": 0,
           "arrowwidth": 1
          },
          "autotypenumbers": "strict",
          "coloraxis": {
           "colorbar": {
            "outlinewidth": 0,
            "ticks": ""
           }
          },
          "colorscale": {
           "diverging": [
            [
             0,
             "#8e0152"
            ],
            [
             0.1,
             "#c51b7d"
            ],
            [
             0.2,
             "#de77ae"
            ],
            [
             0.3,
             "#f1b6da"
            ],
            [
             0.4,
             "#fde0ef"
            ],
            [
             0.5,
             "#f7f7f7"
            ],
            [
             0.6,
             "#e6f5d0"
            ],
            [
             0.7,
             "#b8e186"
            ],
            [
             0.8,
             "#7fbc41"
            ],
            [
             0.9,
             "#4d9221"
            ],
            [
             1,
             "#276419"
            ]
           ],
           "sequential": [
            [
             0,
             "#0d0887"
            ],
            [
             0.1111111111111111,
             "#46039f"
            ],
            [
             0.2222222222222222,
             "#7201a8"
            ],
            [
             0.3333333333333333,
             "#9c179e"
            ],
            [
             0.4444444444444444,
             "#bd3786"
            ],
            [
             0.5555555555555556,
             "#d8576b"
            ],
            [
             0.6666666666666666,
             "#ed7953"
            ],
            [
             0.7777777777777778,
             "#fb9f3a"
            ],
            [
             0.8888888888888888,
             "#fdca26"
            ],
            [
             1,
             "#f0f921"
            ]
           ],
           "sequentialminus": [
            [
             0,
             "#0d0887"
            ],
            [
             0.1111111111111111,
             "#46039f"
            ],
            [
             0.2222222222222222,
             "#7201a8"
            ],
            [
             0.3333333333333333,
             "#9c179e"
            ],
            [
             0.4444444444444444,
             "#bd3786"
            ],
            [
             0.5555555555555556,
             "#d8576b"
            ],
            [
             0.6666666666666666,
             "#ed7953"
            ],
            [
             0.7777777777777778,
             "#fb9f3a"
            ],
            [
             0.8888888888888888,
             "#fdca26"
            ],
            [
             1,
             "#f0f921"
            ]
           ]
          },
          "colorway": [
           "#636efa",
           "#EF553B",
           "#00cc96",
           "#ab63fa",
           "#FFA15A",
           "#19d3f3",
           "#FF6692",
           "#B6E880",
           "#FF97FF",
           "#FECB52"
          ],
          "font": {
           "color": "#2a3f5f"
          },
          "geo": {
           "bgcolor": "white",
           "lakecolor": "white",
           "landcolor": "#E5ECF6",
           "showlakes": true,
           "showland": true,
           "subunitcolor": "white"
          },
          "hoverlabel": {
           "align": "left"
          },
          "hovermode": "closest",
          "mapbox": {
           "style": "light"
          },
          "paper_bgcolor": "white",
          "plot_bgcolor": "#E5ECF6",
          "polar": {
           "angularaxis": {
            "gridcolor": "white",
            "linecolor": "white",
            "ticks": ""
           },
           "bgcolor": "#E5ECF6",
           "radialaxis": {
            "gridcolor": "white",
            "linecolor": "white",
            "ticks": ""
           }
          },
          "scene": {
           "xaxis": {
            "backgroundcolor": "#E5ECF6",
            "gridcolor": "white",
            "gridwidth": 2,
            "linecolor": "white",
            "showbackground": true,
            "ticks": "",
            "zerolinecolor": "white"
           },
           "yaxis": {
            "backgroundcolor": "#E5ECF6",
            "gridcolor": "white",
            "gridwidth": 2,
            "linecolor": "white",
            "showbackground": true,
            "ticks": "",
            "zerolinecolor": "white"
           },
           "zaxis": {
            "backgroundcolor": "#E5ECF6",
            "gridcolor": "white",
            "gridwidth": 2,
            "linecolor": "white",
            "showbackground": true,
            "ticks": "",
            "zerolinecolor": "white"
           }
          },
          "shapedefaults": {
           "line": {
            "color": "#2a3f5f"
           }
          },
          "ternary": {
           "aaxis": {
            "gridcolor": "white",
            "linecolor": "white",
            "ticks": ""
           },
           "baxis": {
            "gridcolor": "white",
            "linecolor": "white",
            "ticks": ""
           },
           "bgcolor": "#E5ECF6",
           "caxis": {
            "gridcolor": "white",
            "linecolor": "white",
            "ticks": ""
           }
          },
          "title": {
           "x": 0.05
          },
          "xaxis": {
           "automargin": true,
           "gridcolor": "white",
           "linecolor": "white",
           "ticks": "",
           "title": {
            "standoff": 15
           },
           "zerolinecolor": "white",
           "zerolinewidth": 2
          },
          "yaxis": {
           "automargin": true,
           "gridcolor": "white",
           "linecolor": "white",
           "ticks": "",
           "title": {
            "standoff": 15
           },
           "zerolinecolor": "white",
           "zerolinewidth": 2
          }
         }
        }
       }
      }
     },
     "metadata": {},
     "output_type": "display_data"
    }
   ],
   "source": [
    "fig = go.Figure(go.Funnel(\n",
    "    y = MostFrequentWordDF['Word'].tolist(),\n",
    "    x = MostFrequentWordDF['Count'].tolist(),\n",
    "    marker = {\"color\": color3}))\n",
    "fig.show()"
   ]
  },
  {
   "cell_type": "code",
   "execution_count": 22,
   "metadata": {},
   "outputs": [
    {
     "data": {
      "application/vnd.plotly.v1+json": {
       "config": {
        "plotlyServerURL": "https://plot.ly"
       },
       "data": [
        {
         "alignmentgroup": "True",
         "hovertemplate": "Count=%{x}<br>Word=%{y}<extra></extra>",
         "legendgroup": "",
         "marker": {
          "color": "#636efa",
          "pattern": {
           "shape": ""
          }
         },
         "name": "",
         "offsetgroup": "",
         "orientation": "h",
         "showlegend": false,
         "textposition": "auto",
         "type": "bar",
         "x": [
          48211,
          44047,
          22372,
          20814,
          16177,
          15551,
          14183,
          13940,
          12352,
          11990,
          11048,
          10872,
          10054,
          9654,
          9493
         ],
         "xaxis": "x",
         "y": [
          "film",
          "movie",
          "like",
          "see",
          "time",
          "make",
          "character",
          "watch",
          "think",
          "story",
          "well",
          "show",
          "look",
          "end",
          "know"
         ],
         "yaxis": "y"
        }
       ],
       "layout": {
        "barmode": "relative",
        "legend": {
         "tracegroupgap": 0
        },
        "margin": {
         "t": 60
        },
        "template": {
         "data": {
          "bar": [
           {
            "error_x": {
             "color": "#2a3f5f"
            },
            "error_y": {
             "color": "#2a3f5f"
            },
            "marker": {
             "line": {
              "color": "#E5ECF6",
              "width": 0.5
             },
             "pattern": {
              "fillmode": "overlay",
              "size": 10,
              "solidity": 0.2
             }
            },
            "type": "bar"
           }
          ],
          "barpolar": [
           {
            "marker": {
             "line": {
              "color": "#E5ECF6",
              "width": 0.5
             },
             "pattern": {
              "fillmode": "overlay",
              "size": 10,
              "solidity": 0.2
             }
            },
            "type": "barpolar"
           }
          ],
          "carpet": [
           {
            "aaxis": {
             "endlinecolor": "#2a3f5f",
             "gridcolor": "white",
             "linecolor": "white",
             "minorgridcolor": "white",
             "startlinecolor": "#2a3f5f"
            },
            "baxis": {
             "endlinecolor": "#2a3f5f",
             "gridcolor": "white",
             "linecolor": "white",
             "minorgridcolor": "white",
             "startlinecolor": "#2a3f5f"
            },
            "type": "carpet"
           }
          ],
          "choropleth": [
           {
            "colorbar": {
             "outlinewidth": 0,
             "ticks": ""
            },
            "type": "choropleth"
           }
          ],
          "contour": [
           {
            "colorbar": {
             "outlinewidth": 0,
             "ticks": ""
            },
            "colorscale": [
             [
              0,
              "#0d0887"
             ],
             [
              0.1111111111111111,
              "#46039f"
             ],
             [
              0.2222222222222222,
              "#7201a8"
             ],
             [
              0.3333333333333333,
              "#9c179e"
             ],
             [
              0.4444444444444444,
              "#bd3786"
             ],
             [
              0.5555555555555556,
              "#d8576b"
             ],
             [
              0.6666666666666666,
              "#ed7953"
             ],
             [
              0.7777777777777778,
              "#fb9f3a"
             ],
             [
              0.8888888888888888,
              "#fdca26"
             ],
             [
              1,
              "#f0f921"
             ]
            ],
            "type": "contour"
           }
          ],
          "contourcarpet": [
           {
            "colorbar": {
             "outlinewidth": 0,
             "ticks": ""
            },
            "type": "contourcarpet"
           }
          ],
          "heatmap": [
           {
            "colorbar": {
             "outlinewidth": 0,
             "ticks": ""
            },
            "colorscale": [
             [
              0,
              "#0d0887"
             ],
             [
              0.1111111111111111,
              "#46039f"
             ],
             [
              0.2222222222222222,
              "#7201a8"
             ],
             [
              0.3333333333333333,
              "#9c179e"
             ],
             [
              0.4444444444444444,
              "#bd3786"
             ],
             [
              0.5555555555555556,
              "#d8576b"
             ],
             [
              0.6666666666666666,
              "#ed7953"
             ],
             [
              0.7777777777777778,
              "#fb9f3a"
             ],
             [
              0.8888888888888888,
              "#fdca26"
             ],
             [
              1,
              "#f0f921"
             ]
            ],
            "type": "heatmap"
           }
          ],
          "heatmapgl": [
           {
            "colorbar": {
             "outlinewidth": 0,
             "ticks": ""
            },
            "colorscale": [
             [
              0,
              "#0d0887"
             ],
             [
              0.1111111111111111,
              "#46039f"
             ],
             [
              0.2222222222222222,
              "#7201a8"
             ],
             [
              0.3333333333333333,
              "#9c179e"
             ],
             [
              0.4444444444444444,
              "#bd3786"
             ],
             [
              0.5555555555555556,
              "#d8576b"
             ],
             [
              0.6666666666666666,
              "#ed7953"
             ],
             [
              0.7777777777777778,
              "#fb9f3a"
             ],
             [
              0.8888888888888888,
              "#fdca26"
             ],
             [
              1,
              "#f0f921"
             ]
            ],
            "type": "heatmapgl"
           }
          ],
          "histogram": [
           {
            "marker": {
             "pattern": {
              "fillmode": "overlay",
              "size": 10,
              "solidity": 0.2
             }
            },
            "type": "histogram"
           }
          ],
          "histogram2d": [
           {
            "colorbar": {
             "outlinewidth": 0,
             "ticks": ""
            },
            "colorscale": [
             [
              0,
              "#0d0887"
             ],
             [
              0.1111111111111111,
              "#46039f"
             ],
             [
              0.2222222222222222,
              "#7201a8"
             ],
             [
              0.3333333333333333,
              "#9c179e"
             ],
             [
              0.4444444444444444,
              "#bd3786"
             ],
             [
              0.5555555555555556,
              "#d8576b"
             ],
             [
              0.6666666666666666,
              "#ed7953"
             ],
             [
              0.7777777777777778,
              "#fb9f3a"
             ],
             [
              0.8888888888888888,
              "#fdca26"
             ],
             [
              1,
              "#f0f921"
             ]
            ],
            "type": "histogram2d"
           }
          ],
          "histogram2dcontour": [
           {
            "colorbar": {
             "outlinewidth": 0,
             "ticks": ""
            },
            "colorscale": [
             [
              0,
              "#0d0887"
             ],
             [
              0.1111111111111111,
              "#46039f"
             ],
             [
              0.2222222222222222,
              "#7201a8"
             ],
             [
              0.3333333333333333,
              "#9c179e"
             ],
             [
              0.4444444444444444,
              "#bd3786"
             ],
             [
              0.5555555555555556,
              "#d8576b"
             ],
             [
              0.6666666666666666,
              "#ed7953"
             ],
             [
              0.7777777777777778,
              "#fb9f3a"
             ],
             [
              0.8888888888888888,
              "#fdca26"
             ],
             [
              1,
              "#f0f921"
             ]
            ],
            "type": "histogram2dcontour"
           }
          ],
          "mesh3d": [
           {
            "colorbar": {
             "outlinewidth": 0,
             "ticks": ""
            },
            "type": "mesh3d"
           }
          ],
          "parcoords": [
           {
            "line": {
             "colorbar": {
              "outlinewidth": 0,
              "ticks": ""
             }
            },
            "type": "parcoords"
           }
          ],
          "pie": [
           {
            "automargin": true,
            "type": "pie"
           }
          ],
          "scatter": [
           {
            "fillpattern": {
             "fillmode": "overlay",
             "size": 10,
             "solidity": 0.2
            },
            "type": "scatter"
           }
          ],
          "scatter3d": [
           {
            "line": {
             "colorbar": {
              "outlinewidth": 0,
              "ticks": ""
             }
            },
            "marker": {
             "colorbar": {
              "outlinewidth": 0,
              "ticks": ""
             }
            },
            "type": "scatter3d"
           }
          ],
          "scattercarpet": [
           {
            "marker": {
             "colorbar": {
              "outlinewidth": 0,
              "ticks": ""
             }
            },
            "type": "scattercarpet"
           }
          ],
          "scattergeo": [
           {
            "marker": {
             "colorbar": {
              "outlinewidth": 0,
              "ticks": ""
             }
            },
            "type": "scattergeo"
           }
          ],
          "scattergl": [
           {
            "marker": {
             "colorbar": {
              "outlinewidth": 0,
              "ticks": ""
             }
            },
            "type": "scattergl"
           }
          ],
          "scattermapbox": [
           {
            "marker": {
             "colorbar": {
              "outlinewidth": 0,
              "ticks": ""
             }
            },
            "type": "scattermapbox"
           }
          ],
          "scatterpolar": [
           {
            "marker": {
             "colorbar": {
              "outlinewidth": 0,
              "ticks": ""
             }
            },
            "type": "scatterpolar"
           }
          ],
          "scatterpolargl": [
           {
            "marker": {
             "colorbar": {
              "outlinewidth": 0,
              "ticks": ""
             }
            },
            "type": "scatterpolargl"
           }
          ],
          "scatterternary": [
           {
            "marker": {
             "colorbar": {
              "outlinewidth": 0,
              "ticks": ""
             }
            },
            "type": "scatterternary"
           }
          ],
          "surface": [
           {
            "colorbar": {
             "outlinewidth": 0,
             "ticks": ""
            },
            "colorscale": [
             [
              0,
              "#0d0887"
             ],
             [
              0.1111111111111111,
              "#46039f"
             ],
             [
              0.2222222222222222,
              "#7201a8"
             ],
             [
              0.3333333333333333,
              "#9c179e"
             ],
             [
              0.4444444444444444,
              "#bd3786"
             ],
             [
              0.5555555555555556,
              "#d8576b"
             ],
             [
              0.6666666666666666,
              "#ed7953"
             ],
             [
              0.7777777777777778,
              "#fb9f3a"
             ],
             [
              0.8888888888888888,
              "#fdca26"
             ],
             [
              1,
              "#f0f921"
             ]
            ],
            "type": "surface"
           }
          ],
          "table": [
           {
            "cells": {
             "fill": {
              "color": "#EBF0F8"
             },
             "line": {
              "color": "white"
             }
            },
            "header": {
             "fill": {
              "color": "#C8D4E3"
             },
             "line": {
              "color": "white"
             }
            },
            "type": "table"
           }
          ]
         },
         "layout": {
          "annotationdefaults": {
           "arrowcolor": "#2a3f5f",
           "arrowhead": 0,
           "arrowwidth": 1
          },
          "autotypenumbers": "strict",
          "coloraxis": {
           "colorbar": {
            "outlinewidth": 0,
            "ticks": ""
           }
          },
          "colorscale": {
           "diverging": [
            [
             0,
             "#8e0152"
            ],
            [
             0.1,
             "#c51b7d"
            ],
            [
             0.2,
             "#de77ae"
            ],
            [
             0.3,
             "#f1b6da"
            ],
            [
             0.4,
             "#fde0ef"
            ],
            [
             0.5,
             "#f7f7f7"
            ],
            [
             0.6,
             "#e6f5d0"
            ],
            [
             0.7,
             "#b8e186"
            ],
            [
             0.8,
             "#7fbc41"
            ],
            [
             0.9,
             "#4d9221"
            ],
            [
             1,
             "#276419"
            ]
           ],
           "sequential": [
            [
             0,
             "#0d0887"
            ],
            [
             0.1111111111111111,
             "#46039f"
            ],
            [
             0.2222222222222222,
             "#7201a8"
            ],
            [
             0.3333333333333333,
             "#9c179e"
            ],
            [
             0.4444444444444444,
             "#bd3786"
            ],
            [
             0.5555555555555556,
             "#d8576b"
            ],
            [
             0.6666666666666666,
             "#ed7953"
            ],
            [
             0.7777777777777778,
             "#fb9f3a"
            ],
            [
             0.8888888888888888,
             "#fdca26"
            ],
            [
             1,
             "#f0f921"
            ]
           ],
           "sequentialminus": [
            [
             0,
             "#0d0887"
            ],
            [
             0.1111111111111111,
             "#46039f"
            ],
            [
             0.2222222222222222,
             "#7201a8"
            ],
            [
             0.3333333333333333,
             "#9c179e"
            ],
            [
             0.4444444444444444,
             "#bd3786"
            ],
            [
             0.5555555555555556,
             "#d8576b"
            ],
            [
             0.6666666666666666,
             "#ed7953"
            ],
            [
             0.7777777777777778,
             "#fb9f3a"
            ],
            [
             0.8888888888888888,
             "#fdca26"
            ],
            [
             1,
             "#f0f921"
            ]
           ]
          },
          "colorway": [
           "#636efa",
           "#EF553B",
           "#00cc96",
           "#ab63fa",
           "#FFA15A",
           "#19d3f3",
           "#FF6692",
           "#B6E880",
           "#FF97FF",
           "#FECB52"
          ],
          "font": {
           "color": "#2a3f5f"
          },
          "geo": {
           "bgcolor": "white",
           "lakecolor": "white",
           "landcolor": "#E5ECF6",
           "showlakes": true,
           "showland": true,
           "subunitcolor": "white"
          },
          "hoverlabel": {
           "align": "left"
          },
          "hovermode": "closest",
          "mapbox": {
           "style": "light"
          },
          "paper_bgcolor": "white",
          "plot_bgcolor": "#E5ECF6",
          "polar": {
           "angularaxis": {
            "gridcolor": "white",
            "linecolor": "white",
            "ticks": ""
           },
           "bgcolor": "#E5ECF6",
           "radialaxis": {
            "gridcolor": "white",
            "linecolor": "white",
            "ticks": ""
           }
          },
          "scene": {
           "xaxis": {
            "backgroundcolor": "#E5ECF6",
            "gridcolor": "white",
            "gridwidth": 2,
            "linecolor": "white",
            "showbackground": true,
            "ticks": "",
            "zerolinecolor": "white"
           },
           "yaxis": {
            "backgroundcolor": "#E5ECF6",
            "gridcolor": "white",
            "gridwidth": 2,
            "linecolor": "white",
            "showbackground": true,
            "ticks": "",
            "zerolinecolor": "white"
           },
           "zaxis": {
            "backgroundcolor": "#E5ECF6",
            "gridcolor": "white",
            "gridwidth": 2,
            "linecolor": "white",
            "showbackground": true,
            "ticks": "",
            "zerolinecolor": "white"
           }
          },
          "shapedefaults": {
           "line": {
            "color": "#2a3f5f"
           }
          },
          "ternary": {
           "aaxis": {
            "gridcolor": "white",
            "linecolor": "white",
            "ticks": ""
           },
           "baxis": {
            "gridcolor": "white",
            "linecolor": "white",
            "ticks": ""
           },
           "bgcolor": "#E5ECF6",
           "caxis": {
            "gridcolor": "white",
            "linecolor": "white",
            "ticks": ""
           }
          },
          "title": {
           "x": 0.05
          },
          "xaxis": {
           "automargin": true,
           "gridcolor": "white",
           "linecolor": "white",
           "ticks": "",
           "title": {
            "standoff": 15
           },
           "zerolinecolor": "white",
           "zerolinewidth": 2
          },
          "yaxis": {
           "automargin": true,
           "gridcolor": "white",
           "linecolor": "white",
           "ticks": "",
           "title": {
            "standoff": 15
           },
           "zerolinecolor": "white",
           "zerolinewidth": 2
          }
         }
        },
        "xaxis": {
         "anchor": "y",
         "domain": [
          0,
          1
         ],
         "title": {
          "text": "Count"
         }
        },
        "yaxis": {
         "anchor": "x",
         "domain": [
          0,
          1
         ],
         "title": {
          "text": "Word"
         }
        }
       }
      }
     },
     "metadata": {},
     "output_type": "display_data"
    }
   ],
   "source": [
    "fig = px.bar(MostFrequentWordDF, y='Word', x='Count',  orientation='h')\n",
    "fig.show()"
   ]
  },
  {
   "cell_type": "markdown",
   "metadata": {},
   "source": [
    "# Number Of Words "
   ]
  },
  {
   "cell_type": "code",
   "execution_count": 23,
   "metadata": {},
   "outputs": [
    {
     "data": {
      "text/plain": [
       "2595981"
      ]
     },
     "execution_count": 23,
     "metadata": {},
     "output_type": "execute_result"
    }
   ],
   "source": [
    "Corpus[\"Number of Words\"] = Corpus[\"Normalized_Review\"].apply(lambda n:len(word_tokenize(n)))\n",
    "Corpus.drop(Corpus[ Corpus[\"Number of Words\"] == 0].index, inplace = True)\n",
    "Corpus[\"Number of Words\"].sum()"
   ]
  },
  {
   "cell_type": "markdown",
   "metadata": {},
   "source": [
    "# Number Of Charachters "
   ]
  },
  {
   "cell_type": "code",
   "execution_count": 24,
   "metadata": {},
   "outputs": [
    {
     "data": {
      "text/plain": [
       "17369402"
      ]
     },
     "execution_count": 24,
     "metadata": {},
     "output_type": "execute_result"
    }
   ],
   "source": [
    "Corpus[\"Number of Charachters\"] = Corpus[\"Normalized_Review\"].str.len()\n",
    "Corpus[\"Number of Charachters\"].sum()"
   ]
  },
  {
   "cell_type": "markdown",
   "metadata": {},
   "source": [
    "# Average Number Of Words "
   ]
  },
  {
   "cell_type": "code",
   "execution_count": 25,
   "metadata": {},
   "outputs": [
    {
     "data": {
      "text/plain": [
       "104"
      ]
     },
     "execution_count": 25,
     "metadata": {},
     "output_type": "execute_result"
    }
   ],
   "source": [
    "AverageNaumberOfWords = int(np.round((Corpus[\"Number of Words\"].mean())))\n",
    "AverageNaumberOfWords"
   ]
  },
  {
   "cell_type": "markdown",
   "metadata": {},
   "source": [
    "# Average Number Of Charachters "
   ]
  },
  {
   "cell_type": "code",
   "execution_count": 26,
   "metadata": {},
   "outputs": [
    {
     "data": {
      "text/plain": [
       "695"
      ]
     },
     "execution_count": 26,
     "metadata": {},
     "output_type": "execute_result"
    }
   ],
   "source": [
    "AverageNumberOfCharachters = int(np.round(Corpus[\"Number of Charachters\"].mean()))\n",
    "AverageNumberOfCharachters"
   ]
  },
  {
   "cell_type": "markdown",
   "metadata": {},
   "source": [
    "# Maximum Number Of Word"
   ]
  },
  {
   "cell_type": "code",
   "execution_count": 27,
   "metadata": {},
   "outputs": [
    {
     "data": {
      "text/plain": [
       "1275"
      ]
     },
     "execution_count": 27,
     "metadata": {},
     "output_type": "execute_result"
    }
   ],
   "source": [
    "MaximumNaumberOfWords = Corpus[\"Number of Words\"].max()\n",
    "MaximumNaumberOfWords"
   ]
  },
  {
   "cell_type": "markdown",
   "metadata": {},
   "source": [
    "# Maximum Number Of Charachters "
   ]
  },
  {
   "cell_type": "code",
   "execution_count": 28,
   "metadata": {},
   "outputs": [
    {
     "data": {
      "text/plain": [
       "7937"
      ]
     },
     "execution_count": 28,
     "metadata": {},
     "output_type": "execute_result"
    }
   ],
   "source": [
    "MaximumNumberOfCharachters = Corpus['Number of Charachters'].max() \n",
    "MaximumNumberOfCharachters"
   ]
  },
  {
   "cell_type": "markdown",
   "metadata": {},
   "source": [
    "# Minimum Number Of Words"
   ]
  },
  {
   "cell_type": "code",
   "execution_count": 29,
   "metadata": {},
   "outputs": [
    {
     "data": {
      "text/plain": [
       "3"
      ]
     },
     "execution_count": 29,
     "metadata": {},
     "output_type": "execute_result"
    }
   ],
   "source": [
    "MimimumNaumberOfWords = Corpus[\"Number of Words\"].min()\n",
    "MimimumNaumberOfWords"
   ]
  },
  {
   "cell_type": "markdown",
   "metadata": {},
   "source": [
    "# Minimum Number Of Charachters "
   ]
  },
  {
   "cell_type": "code",
   "execution_count": 30,
   "metadata": {},
   "outputs": [
    {
     "data": {
      "text/plain": [
       "21"
      ]
     },
     "execution_count": 30,
     "metadata": {},
     "output_type": "execute_result"
    }
   ],
   "source": [
    "MinimumNumberOfCharachters = Corpus['Number of Charachters'].min() \n",
    "MinimumNumberOfCharachters"
   ]
  },
  {
   "cell_type": "markdown",
   "metadata": {},
   "source": [
    "# Split The DataSet Into Independent Variables (X) And Dependent Variable (Y)"
   ]
  },
  {
   "cell_type": "code",
   "execution_count": 31,
   "metadata": {},
   "outputs": [],
   "source": [
    "X= Corpus['Normalized_Review']\n",
    "y = Corpus['Sentiment']"
   ]
  },
  {
   "cell_type": "markdown",
   "metadata": {},
   "source": [
    "# Label Encoder"
   ]
  },
  {
   "cell_type": "code",
   "execution_count": 32,
   "metadata": {},
   "outputs": [],
   "source": [
    "y = y.map({'Negative': 0, 'Positive': 1})"
   ]
  },
  {
   "cell_type": "markdown",
   "metadata": {},
   "source": [
    "# Split The Dataset Into Training And Testing"
   ]
  },
  {
   "cell_type": "code",
   "execution_count": 33,
   "metadata": {},
   "outputs": [],
   "source": [
    "X_train, X_test, y_train, y_test = train_test_split(X, y, test_size=0.30, random_state=44)"
   ]
  },
  {
   "cell_type": "markdown",
   "metadata": {},
   "source": [
    "# TfidfVectorizer"
   ]
  },
  {
   "cell_type": "code",
   "execution_count": 34,
   "metadata": {},
   "outputs": [],
   "source": [
    "Tfid = TfidfVectorizer()\n",
    "X_train_Tfid = Tfid.fit_transform(X_train)\n",
    "X_test_Tfid = Tfid.transform(X_test)"
   ]
  },
  {
   "cell_type": "code",
   "execution_count": 35,
   "metadata": {},
   "outputs": [
    {
     "data": {
      "text/plain": [
       "{'highly': 21238,\n",
       " 'underrate': 48862,\n",
       " 'film': 16609,\n",
       " 'write': 52144,\n",
       " 'movie': 31167,\n",
       " 'kasdan': 25079,\n",
       " 'take': 45918,\n",
       " 'search': 41242,\n",
       " 'mean': 29408,\n",
       " 'live': 27317,\n",
       " 'lay': 26568,\n",
       " 'see': 41338,\n",
       " 'wonder': 51916,\n",
       " 'divide': 12904,\n",
       " 'people': 34814,\n",
       " 'create': 10241,\n",
       " 'insulate': 23478,\n",
       " 'violence': 50486,\n",
       " 'hatred': 20606,\n",
       " 'bigotry': 4500,\n",
       " 'everyday': 15367,\n",
       " 'life': 27042,\n",
       " 'way': 51108,\n",
       " 'ask': 2553,\n",
       " 'question': 37446,\n",
       " 'davis': 11148,\n",
       " 'steve': 44460,\n",
       " 'martin': 28892,\n",
       " 'great': 19502,\n",
       " 'beard': 3872,\n",
       " 'make': 28351,\n",
       " 'violent': 50487,\n",
       " 'extension': 15712,\n",
       " 'enjoyment': 14796,\n",
       " 'cause': 7234,\n",
       " 'society': 43284,\n",
       " 'claire': 8291,\n",
       " 'kind': 25484,\n",
       " 'world': 52032,\n",
       " 'throw': 46941,\n",
       " 'away': 3063,\n",
       " 'precious': 36300,\n",
       " 'human': 22051,\n",
       " 'mack': 28101,\n",
       " 'immune': 22609,\n",
       " 'possible': 36120,\n",
       " 'pass': 34419,\n",
       " 'bound': 5436,\n",
       " 'race': 37556,\n",
       " 'harder': 20440,\n",
       " 'step': 44407,\n",
       " 'finance': 16673,\n",
       " 'course': 10055,\n",
       " 'quote': 37524,\n",
       " 'generalities': 18397,\n",
       " 'honest': 21660,\n",
       " 'raise': 37700,\n",
       " 'answer': 1808,\n",
       " 'nature': 31819,\n",
       " 'strive': 44802,\n",
       " 'find': 16679,\n",
       " 'totally': 47497,\n",
       " 'case': 7060,\n",
       " 'fit': 16801,\n",
       " 'need': 31956,\n",
       " 'desire': 11954,\n",
       " 'humans': 22073,\n",
       " 'thrive': 46928,\n",
       " 'real': 38049,\n",
       " 'come': 8903,\n",
       " 'realize': 38067,\n",
       " 'easy': 13988,\n",
       " 'road': 39480,\n",
       " 'let': 26886,\n",
       " 'state': 44284,\n",
       " 'baby': 3168,\n",
       " 'place': 35554,\n",
       " 'responsibility': 38968,\n",
       " 'hand': 20302,\n",
       " 'light': 27070,\n",
       " 'decide': 11334,\n",
       " 'next': 32191,\n",
       " 'day': 11166,\n",
       " 'turn': 48264,\n",
       " 'dismiss': 12712,\n",
       " 'epiphany': 14971,\n",
       " 'subordinate': 44998,\n",
       " 'art': 2422,\n",
       " 'seek': 41345,\n",
       " 'simply': 42570,\n",
       " 'remind': 38647,\n",
       " 'keep': 25214,\n",
       " 'look': 27550,\n",
       " 'important': 22701,\n",
       " 'enjoyable': 14794,\n",
       " 'greek': 19516,\n",
       " 'last': 26429,\n",
       " 'years': 52387,\n",
       " 'excellent': 15458,\n",
       " 'performances': 34882,\n",
       " 'especially': 15157,\n",
       " 'yiannis': 52440,\n",
       " 'zouganelis': 52872,\n",
       " 'well': 51266,\n",
       " 'script': 41150,\n",
       " 'effective': 14157,\n",
       " 'direction': 12486,\n",
       " 'special': 43734,\n",
       " 'average': 3012,\n",
       " 'standards': 44199,\n",
       " 'auteur': 2931,\n",
       " 'obviously': 32988,\n",
       " 'influence': 23197,\n",
       " 'sam': 40391,\n",
       " 'peckinpah': 34672,\n",
       " 'straw': 44727,\n",
       " 'dog': 13034,\n",
       " 'masterpiece': 29000,\n",
       " 'avoid': 3038,\n",
       " 'evident': 15382,\n",
       " 'exaggerative': 15432,\n",
       " 'situations': 42690,\n",
       " 'symbolizations': 45731,\n",
       " 'end': 14695,\n",
       " 'deserve': 11942,\n",
       " 'attention': 2796,\n",
       " 'belong': 4129,\n",
       " 'rare': 37872,\n",
       " 'category': 7170,\n",
       " 'movies': 31181,\n",
       " 'watch': 51038,\n",
       " 'greece': 19513,\n",
       " 'shame': 41840,\n",
       " 'work': 52005,\n",
       " 'commercially': 8977,\n",
       " 'addition': 448,\n",
       " 'fake': 15932,\n",
       " 'cursory': 10699,\n",
       " 'big': 4478,\n",
       " 'productions': 36704,\n",
       " 'like': 27093,\n",
       " 'politiki': 35881,\n",
       " 'kouzina': 25872,\n",
       " 'hate': 20593,\n",
       " 'redneck': 38316,\n",
       " 'accent': 220,\n",
       " 'worse': 52056,\n",
       " 'patrick': 34518,\n",
       " 'swayze': 45584,\n",
       " 'try': 48120,\n",
       " 'stand': 44193,\n",
       " 'billy': 4556,\n",
       " 'bob': 5038,\n",
       " 'thornton': 46878,\n",
       " 'slingblade': 42941,\n",
       " 'annoy': 1776,\n",
       " 'name': 31664,\n",
       " 'lonnie': 27546,\n",
       " 'earl': 13934,\n",
       " 'hickish': 21187,\n",
       " 'storyline': 44640,\n",
       " 'stupid': 44903,\n",
       " 'judgemental': 24742,\n",
       " 'want': 50936,\n",
       " 'mom': 30693,\n",
       " 'wal': 50851,\n",
       " 'mart': 28881,\n",
       " 'figure': 16586,\n",
       " 'think': 46817,\n",
       " 'wrap': 52101,\n",
       " 'give': 18819,\n",
       " 'grandma': 19408,\n",
       " 'christmas': 8061,\n",
       " 'maybe': 29167,\n",
       " 'laugh': 26487,\n",
       " 'show': 42262,\n",
       " 'someones': 43427,\n",
       " 'finger': 16693,\n",
       " 'smash': 43064,\n",
       " 'accident': 240,\n",
       " 'read': 38029,\n",
       " 'comment': 8963,\n",
       " 'post': 36122,\n",
       " 'sure': 45415,\n",
       " 'bunch': 6188,\n",
       " 'rave': 37957,\n",
       " 'review': 39107,\n",
       " 'funny': 17879,\n",
       " 'sound': 43582,\n",
       " 'person': 34973,\n",
       " 'best': 4329,\n",
       " 'small': 43040,\n",
       " 'coordinate': 9738,\n",
       " 'group': 19715,\n",
       " 'open': 33354,\n",
       " 'house': 21901,\n",
       " 'groupies': 19718,\n",
       " 'truth': 48115,\n",
       " 'friends': 17689,\n",
       " 'truly': 48097,\n",
       " 'unwatchable': 49596,\n",
       " 'independent': 22983,\n",
       " 'free': 17589,\n",
       " 'go': 18997,\n",
       " 'musical': 31446,\n",
       " 'stage': 44126,\n",
       " 'broadway': 5861,\n",
       " 'local': 27393,\n",
       " 'community': 9030,\n",
       " 'playhouse': 35649,\n",
       " 'actors': 391,\n",
       " 'sing': 42599,\n",
       " 'dance': 10953,\n",
       " 'decent': 11322,\n",
       " 'equipment': 15011,\n",
       " 'score': 41060,\n",
       " 'lyric': 28002,\n",
       " 'witty': 51836,\n",
       " 'charm': 7633,\n",
       " 'anthony': 1834,\n",
       " 'rapp': 37855,\n",
       " 'save': 40693,\n",
       " 'unfortunate': 49046,\n",
       " 'experience': 15617,\n",
       " 'actually': 401,\n",
       " 'felt': 16364,\n",
       " 'deeply': 11417,\n",
       " 'embarrass': 14513,\n",
       " 'involve': 23784,\n",
       " 'past': 34444,\n",
       " 'favorite': 16224,\n",
       " 'pseudo': 37006,\n",
       " 'noir': 32463,\n",
       " 'thread': 46906,\n",
       " 'kazan': 25173,\n",
       " 'unique': 49173,\n",
       " 'separate': 41547,\n",
       " 'pleasures': 35681,\n",
       " 'domestic': 13111,\n",
       " 'chitchat': 7954,\n",
       " 'bel': 4063,\n",
       " 'geddes': 18341,\n",
       " 'widmark': 51563,\n",
       " 'movement': 31163,\n",
       " 'room': 39735,\n",
       " 'gesture': 18563,\n",
       " 'phone': 35234,\n",
       " 'book': 5272,\n",
       " 'barbara': 3538,\n",
       " 'chair': 7465,\n",
       " 'son': 43454,\n",
       " 'reach': 38017,\n",
       " 'table': 45827,\n",
       " 'intimate': 23664,\n",
       " 'exchange': 15475,\n",
       " 'husband': 22177,\n",
       " 'wife': 51577,\n",
       " 'craft': 10152,\n",
       " 'natural': 31812,\n",
       " 'love': 27688,\n",
       " 'porch': 36025,\n",
       " 'second': 41285,\n",
       " 'clear': 8398,\n",
       " 'spend': 43809,\n",
       " 'summer': 45222,\n",
       " 'time': 47082,\n",
       " 'professional': 36716,\n",
       " 'relationship': 38560,\n",
       " 'douglas': 13321,\n",
       " 'character': 7574,\n",
       " 'original': 33537,\n",
       " 'bite': 4661,\n",
       " 'blustery': 5003,\n",
       " 'across': 363,\n",
       " 'respectful': 38954,\n",
       " 'efficient': 14169,\n",
       " 'third': 46830,\n",
       " 'grungy': 19763,\n",
       " 'tale': 45943,\n",
       " 'blackie': 4718,\n",
       " 'tattered': 46160,\n",
       " 'little': 27307,\n",
       " 'gang': 18132,\n",
       " 'closest': 8515,\n",
       " 'dark': 11044,\n",
       " 'frighten': 17697,\n",
       " 'palance': 34061,\n",
       " 'cold': 8749,\n",
       " 'block': 4883,\n",
       " 'ice': 22329,\n",
       " 'self': 41410,\n",
       " 'proclaim': 36677,\n",
       " 'business': 6319,\n",
       " 'man': 28490,\n",
       " 'clearly': 8405,\n",
       " 'complexity': 9115,\n",
       " 'briefly': 5758,\n",
       " 'tap': 46068,\n",
       " 'continue': 9599,\n",
       " 'completely': 9101,\n",
       " 'satisfy': 40641,\n",
       " 'roommates': 39738,\n",
       " 'nearly': 31911,\n",
       " 'short': 42221,\n",
       " 'tv': 48319,\n",
       " 'numerous': 32774,\n",
       " 'spit': 43882,\n",
       " 'hilarious': 21268,\n",
       " 'piece': 35360,\n",
       " 'zen': 52725,\n",
       " 'dreck': 13490,\n",
       " 'campfest': 6655,\n",
       " 'age': 761,\n",
       " 'scan': 40762,\n",
       " 'late': 26437,\n",
       " 'night': 32298,\n",
       " 'list': 27268,\n",
       " 'elusive': 14474,\n",
       " 'turd': 48249,\n",
       " 'ago': 811,\n",
       " 'abc': 53,\n",
       " 'affiliate': 680,\n",
       " 'know': 25724,\n",
       " 'cool': 9717,\n",
       " 'flick': 16961,\n",
       " 'weekend': 51189,\n",
       " 'frog': 17735,\n",
       " 'lepus': 26855,\n",
       " 'happen': 20397,\n",
       " 'folks': 17155,\n",
       " 'disappoint': 12540,\n",
       " 'andy': 1625,\n",
       " 'griffith': 19604,\n",
       " 'silliest': 42503,\n",
       " 'unthreatening': 49551,\n",
       " 'bad': 3248,\n",
       " 'guy': 19997,\n",
       " 'jaye': 24284,\n",
       " 'davidson': 11144,\n",
       " 'stargate': 44247,\n",
       " 'william': 51643,\n",
       " 'shatner': 41931,\n",
       " 'sport': 43969,\n",
       " 'variety': 50009,\n",
       " 'head': 20707,\n",
       " 'faintly': 15902,\n",
       " 'resemble': 38879,\n",
       " 'hair': 20150,\n",
       " 'organic': 33496,\n",
       " 'matter': 29098,\n",
       " 'hear': 20752,\n",
       " 'jaw': 24270,\n",
       " 'droppingly': 13555,\n",
       " 'inane': 22789,\n",
       " 'psychobabble': 37047,\n",
       " 'chicken': 7862,\n",
       " 'soup': 43593,\n",
       " 'soul': 43567,\n",
       " 'bf': 4395,\n",
       " 'skinner': 42778,\n",
       " 'feel': 16308,\n",
       " 'content': 9572,\n",
       " 'decade': 11295,\n",
       " 'still': 44506,\n",
       " 'plot': 35708,\n",
       " 'surround': 45465,\n",
       " 'middle': 30010,\n",
       " 'class': 8342,\n",
       " 'mid': 30006,\n",
       " 'level': 26916,\n",
       " 'hole': 21514,\n",
       " 'suck': 45094,\n",
       " 'boss': 5394,\n",
       " 'join': 24595,\n",
       " 'cross': 10440,\n",
       " 'dessert': 11999,\n",
       " 'span': 43669,\n",
       " 'california': 6548,\n",
       " 'mexico': 29921,\n",
       " 'wear': 51146,\n",
       " 'leather': 26637,\n",
       " 'jacket': 24088,\n",
       " 'christopher': 8068,\n",
       " 'street': 44738,\n",
       " 'cantina': 6754,\n",
       " 'drink': 13526,\n",
       " 'smoke': 43096,\n",
       " 'joint': 24597,\n",
       " 'sight': 42453,\n",
       " 'robert': 39517,\n",
       " 'mike': 30071,\n",
       " 'brady': 5523,\n",
       " 'reed': 38345,\n",
       " 'image': 22525,\n",
       " 'soon': 43492,\n",
       " 'forget': 17296,\n",
       " 'start': 44271,\n",
       " 'fight': 16575,\n",
       " 'attempt': 2788,\n",
       " 'rape': 37839,\n",
       " 'act': 365,\n",
       " 'suburban': 45056,\n",
       " 'jack': 24082,\n",
       " 'copy': 9772,\n",
       " 'wish': 51786,\n",
       " 'release': 38572,\n",
       " 'video': 50342,\n",
       " 'whole': 51499,\n",
       " 'enjoy': 14792,\n",
       " 'half': 20192,\n",
       " 'bake': 3331,\n",
       " 'goofiness': 19187,\n",
       " 'bus': 6297,\n",
       " 'full': 17829,\n",
       " 'passengers': 34428,\n",
       " 'stick': 44479,\n",
       " 'snow': 43226,\n",
       " 'storm': 44623,\n",
       " 'police': 35853,\n",
       " 'close': 8511,\n",
       " 'bridge': 5748,\n",
       " 'say': 40725,\n",
       " 'unsafe': 49430,\n",
       " 'caf': 6478,\n",
       " 'boredom': 5345,\n",
       " 'concern': 9210,\n",
       " 'originally': 33539,\n",
       " 'alien': 1112,\n",
       " 'lead': 26605,\n",
       " 'conclusion': 9228,\n",
       " 'ironic': 23851,\n",
       " 'low': 27720,\n",
       " 'brow': 5938,\n",
       " 'fun': 17845,\n",
       " 'episodes': 14974,\n",
       " 'twilight': 48361,\n",
       " 'zone': 52856,\n",
       " 'typical': 48413,\n",
       " 'twist': 48371,\n",
       " 'social': 43272,\n",
       " 'commentary': 8965,\n",
       " 'feature': 16275,\n",
       " 'message': 29822,\n",
       " 'watchable': 51041,\n",
       " 'care': 6870,\n",
       " 'exactly': 15426,\n",
       " 'occur': 33019,\n",
       " 'star': 44230,\n",
       " 'john': 24578,\n",
       " 'hoyt': 21955,\n",
       " 'face': 15842,\n",
       " 'recognize': 38202,\n",
       " 'countless': 10029,\n",
       " 'old': 33198,\n",
       " 'play': 35635,\n",
       " 'grouch': 19703,\n",
       " 'charles': 7617,\n",
       " 'lane': 26308,\n",
       " 'era': 15022,\n",
       " 'boy': 5485,\n",
       " 'perfect': 34867,\n",
       " 'grouchy': 19705,\n",
       " 'persona': 34974,\n",
       " 'dad': 10833,\n",
       " 'serve': 41646,\n",
       " 'korea': 25828,\n",
       " 'admiration': 518,\n",
       " 'concentrate': 9198,\n",
       " 'period': 34898,\n",
       " 'interestingly': 23570,\n",
       " 'entire': 14885,\n",
       " 'epic': 14957,\n",
       " 'bio': 4583,\n",
       " 'pic': 35309,\n",
       " 'stagger': 44135,\n",
       " 'imagine': 22535,\n",
       " 'cost': 9952,\n",
       " 'production': 36703,\n",
       " 'posters': 36131,\n",
       " 'elude': 14473,\n",
       " 'flaw': 16922,\n",
       " 'characteristics': 7582,\n",
       " 'cheap': 7694,\n",
       " 'shots': 42249,\n",
       " 'theme': 46703,\n",
       " 'duty': 13839,\n",
       " 'honor': 21679,\n",
       " 'country': 10033,\n",
       " 'mere': 29756,\n",
       " 'word': 51996,\n",
       " 'blather': 4807,\n",
       " 'lips': 27248,\n",
       " 'high': 21222,\n",
       " 'brassed': 5593,\n",
       " 'officer': 33115,\n",
       " 'deep': 11411,\n",
       " 'declaration': 11352,\n",
       " 'total': 47491,\n",
       " 'devotion': 12149,\n",
       " 'ironically': 23853,\n",
       " 'peck': 34668,\n",
       " 'liberal': 26986,\n",
       " 'garner': 18213,\n",
       " 'understand': 48872,\n",
       " 'job': 24530,\n",
       " 'fearless': 16263,\n",
       " 'general': 18395,\n",
       " 'temper': 46384,\n",
       " 'humane': 22052,\n",
       " 'side': 42405,\n",
       " 'san': 40434,\n",
       " 'francisco': 17487,\n",
       " 'poor': 35982,\n",
       " 'dress': 13502,\n",
       " 'errol': 15094,\n",
       " 'flynn': 17100,\n",
       " 'jam': 24158,\n",
       " 'corbett': 9787,\n",
       " 'bank': 3488,\n",
       " 'attend': 2790,\n",
       " 'box': 5479,\n",
       " 'worker': 52011,\n",
       " 'buddy': 6073,\n",
       " 'carson': 7017,\n",
       " 'walter': 50909,\n",
       " 'lowrie': 27745,\n",
       " 'pretty': 36522,\n",
       " 'alexis': 1086,\n",
       " 'smith': 43087,\n",
       " 'victoria': 50329,\n",
       " 'ware': 50957,\n",
       " 'walk': 50871,\n",
       " 'comstock': 9180,\n",
       " 'mr': 31210,\n",
       " 'ms': 31217,\n",
       " 'elegant': 14352,\n",
       " 'beauty': 3926,\n",
       " 'offer': 33111,\n",
       " 'carry': 7015,\n",
       " 'withdrawal': 51813,\n",
       " 'purse': 37260,\n",
       " 'secretly': 41300,\n",
       " 'handsome': 20335,\n",
       " 'put': 37286,\n",
       " 'brashness': 5588,\n",
       " 'deed': 11402,\n",
       " 'pick': 35320,\n",
       " 'complimentary': 9125,\n",
       " 'membership': 29647,\n",
       " 'snooty': 43214,\n",
       " 'olympic': 33239,\n",
       " 'club': 8542,\n",
       " 'conveniently': 9667,\n",
       " 'include': 22867,\n",
       " 'gymnasium': 20027,\n",
       " 'presumptuous': 36496,\n",
       " 'manner': 28614,\n",
       " 'practical': 36232,\n",
       " 'joke': 24601,\n",
       " 'tickle': 47015,\n",
       " 'men': 29667,\n",
       " 'parallel': 34246,\n",
       " 'bar': 3523,\n",
       " 'irritate': 23906,\n",
       " 'members': 29646,\n",
       " 'english': 14764,\n",
       " 'champ': 7499,\n",
       " 'visit': 50562,\n",
       " 'endeavor': 14702,\n",
       " 'hopeful': 21734,\n",
       " 'resign': 38910,\n",
       " 'humiliate': 22086,\n",
       " 'defeat': 11438,\n",
       " 'win': 51684,\n",
       " 'first': 16774,\n",
       " 'producer': 36699,\n",
       " 'buckner': 6056,\n",
       " 'nice': 32224,\n",
       " 'package': 33975,\n",
       " 'warner': 50985,\n",
       " 'brothers': 5934,\n",
       " 'director': 12494,\n",
       " 'raoul': 37834,\n",
       " 'walsh': 50905,\n",
       " 'certainly': 7408,\n",
       " 'bask': 3711,\n",
       " 'success': 45073,\n",
       " 'contribution': 9642,\n",
       " 'screenplay': 41126,\n",
       " 'studio': 44870,\n",
       " 'brilliant': 5790,\n",
       " 'yankee': 52322,\n",
       " 'doodle': 13189,\n",
       " 'dandy': 10966,\n",
       " 'unfortunately': 49047,\n",
       " 'story': 44633,\n",
       " 'positively': 36102,\n",
       " 'ludicrous': 27817,\n",
       " 'gentleman': 18464,\n",
       " 'jim': 24481,\n",
       " 'supposedly': 45390,\n",
       " 'autobiography': 2957,\n",
       " 'roar': 39496,\n",
       " 'crowd': 10464,\n",
       " 'significantly': 42468,\n",
       " 'fictionalize': 16526,\n",
       " 'appeal': 2029,\n",
       " 'maneuver': 28535,\n",
       " 'lightly': 27080,\n",
       " 'early': 13940,\n",
       " 'actor': 389,\n",
       " 'characterizations': 7584,\n",
       " 'overlook': 33835,\n",
       " 'feminine': 16371,\n",
       " 'interest': 23567,\n",
       " 'deftly': 11516,\n",
       " 'transmit': 47725,\n",
       " 'emotions': 14601,\n",
       " 'viewer': 50380,\n",
       " 'silliness': 42504,\n",
       " 'smooth': 43107,\n",
       " 'extravagant': 15761,\n",
       " 'support': 45383,\n",
       " 'cast': 7103,\n",
       " 'treasure': 47813,\n",
       " 'trove': 48065,\n",
       " 'boisterous': 5128,\n",
       " 'alan': 996,\n",
       " 'hale': 20188,\n",
       " 'pat': 34461,\n",
       " 'lon': 27501,\n",
       " 'mccallister': 29223,\n",
       " 'page': 34011,\n",
       " 'loony': 27571,\n",
       " 'tune': 48215,\n",
       " 'venture': 50155,\n",
       " 'least': 26633,\n",
       " 'twice': 48357,\n",
       " 'future': 17925,\n",
       " 'brilliantly': 5792,\n",
       " 'duck': 13638,\n",
       " 'dodgers': 13015,\n",
       " 'um': 48553,\n",
       " 'effort': 14175,\n",
       " 'loonatics': 27561,\n",
       " 'unleash': 49216,\n",
       " 'merit': 29770,\n",
       " 'consider': 9455,\n",
       " 'product': 36702,\n",
       " 'quality': 37378,\n",
       " 'wb': 51125,\n",
       " 'cartoon': 7031,\n",
       " 'note': 32629,\n",
       " 'cheeky': 7724,\n",
       " 'humor': 22098,\n",
       " 'adults': 589,\n",
       " 'children': 7897,\n",
       " 'pedestrian': 34693,\n",
       " 'superhero': 45309,\n",
       " 'fail': 15896,\n",
       " 'convince': 9694,\n",
       " 'premise': 36405,\n",
       " 'series': 41621,\n",
       " 'ordinary': 33481,\n",
       " 'individuals': 23048,\n",
       " 'bunnies': 6199,\n",
       " 'tasmanian': 46133,\n",
       " 'devil': 12120,\n",
       " 'roadrunner': 39487,\n",
       " 'coyote': 10125,\n",
       " 'city': 8263,\n",
       " 'planet': 35582,\n",
       " 'acmetropolis': 331,\n",
       " 'acquire': 348,\n",
       " 'super': 45281,\n",
       " 'power': 36208,\n",
       " 'meteor': 29871,\n",
       " 'strike': 44786,\n",
       " 'confuse': 9336,\n",
       " 'title': 47189,\n",
       " 'section': 41305,\n",
       " 'count': 10011,\n",
       " 'st': 44104,\n",
       " 'century': 7392,\n",
       " 'cute': 10739,\n",
       " 'frelling': 17622,\n",
       " 'episode': 14973,\n",
       " 'sextet': 41734,\n",
       " 'mildly': 30099,\n",
       " 'amuse': 1508,\n",
       " 'essentially': 15190,\n",
       " 'banal': 3452,\n",
       " 'banter': 3511,\n",
       " 'villains': 50430,\n",
       " 'part': 34368,\n",
       " 'type': 48405,\n",
       " 'mediocre': 29500,\n",
       " 'adventure': 600,\n",
       " 'ones': 33288,\n",
       " 'far': 16063,\n",
       " 'seriously': 41624,\n",
       " 'context': 9583,\n",
       " 'usual': 49774,\n",
       " 'evil': 15386,\n",
       " 'predictable': 36339,\n",
       " 'evilly': 15389,\n",
       " 'opportunity': 33398,\n",
       " 'animate': 1703,\n",
       " 'material': 29041,\n",
       " 'sort': 43548,\n",
       " 'leave': 26642,\n",
       " 'laughter': 26497,\n",
       " 'exclusively': 15491,\n",
       " 'province': 36959,\n",
       " 'occasionally': 32998,\n",
       " 'henchpeople': 20992,\n",
       " 'henchthings': 20993,\n",
       " 'point': 35808,\n",
       " 'makers': 28356,\n",
       " 'miss': 30441,\n",
       " 'bet': 4340,\n",
       " 'right': 39322,\n",
       " 'superpowers': 45344,\n",
       " 'base': 3682,\n",
       " 'previous': 36534,\n",
       " 'normal': 32570,\n",
       " 'abilities': 85,\n",
       " 'problem': 36661,\n",
       " 'looniness': 27568,\n",
       " 'lexi': 26947,\n",
       " 'ace': 294,\n",
       " 'fairly': 15914,\n",
       " 'biologically': 4596,\n",
       " 'generate': 18403,\n",
       " 'energy': 14738,\n",
       " 'weapons': 51145,\n",
       " 'virtually': 50519,\n",
       " 'personality': 34980,\n",
       " 'traits': 47651,\n",
       " 'bug': 6101,\n",
       " 'basically': 3701,\n",
       " 'silly': 42505,\n",
       " 'drekish': 13498,\n",
       " 'teen': 46290,\n",
       " 'titans': 47180,\n",
       " 'overly': 33839,\n",
       " 'modern': 30591,\n",
       " 'animation': 1706,\n",
       " 'animals': 1701,\n",
       " 'feh': 16314,\n",
       " 'misstep': 30468,\n",
       " 'program': 36752,\n",
       " 'creators': 10251,\n",
       " 'terribly': 46530,\n",
       " 'imaginative': 22533,\n",
       " 'excessively': 15473,\n",
       " 'amazingly': 1345,\n",
       " 'writers': 52147,\n",
       " 'obvious': 32987,\n",
       " 'technique': 46266,\n",
       " 'stock': 44558,\n",
       " 'protagonists': 36906,\n",
       " 'add': 436,\n",
       " 'jupiter': 24828,\n",
       " 'fudd': 17797,\n",
       " 'hunt': 22146,\n",
       " 'wabbits': 50788,\n",
       " 'tech': 46253,\n",
       " 'convert': 9685,\n",
       " 'neurotic': 32112,\n",
       " 'villain': 50423,\n",
       " 'ah': 839,\n",
       " 'sadness': 40245,\n",
       " 'opportunities': 33397,\n",
       " 'sadly': 40244,\n",
       " 'overtime': 33895,\n",
       " 'nd': 31896,\n",
       " 'season': 41256,\n",
       " 'rejoice': 38546,\n",
       " 'new': 32135,\n",
       " 'rest': 38975,\n",
       " 'hope': 21733,\n",
       " 'rd': 38007,\n",
       " 'rent': 38726,\n",
       " 'year': 52380,\n",
       " 'eve': 15334,\n",
       " 'pointless': 35815,\n",
       " 'vulgar': 50761,\n",
       " 'harvey': 20555,\n",
       " 'keitel': 25234,\n",
       " 'curse': 10696,\n",
       " 'andie': 1594,\n",
       " 'mcdowell': 29277,\n",
       " 'surprisingly': 45448,\n",
       " 'roll': 39651,\n",
       " 'recommend': 38214,\n",
       " 'pound': 36191,\n",
       " 'ben': 4145,\n",
       " 'thomas': 46856,\n",
       " 'irs': 23910,\n",
       " 'collection': 8785,\n",
       " 'agent': 768,\n",
       " 'ulterior': 48537,\n",
       " 'motive': 31098,\n",
       " 'meet': 29534,\n",
       " 'tax': 46183,\n",
       " 'payments': 34601,\n",
       " 'deaths': 11254,\n",
       " 'drive': 13537,\n",
       " 'talk': 45957,\n",
       " 'follow': 17161,\n",
       " 'atone': 2764,\n",
       " 'frankly': 17520,\n",
       " 'unforgivable': 49036,\n",
       " 'crime': 10320,\n",
       " 'line': 27184,\n",
       " 'subtle': 45043,\n",
       " 'brick': 5735,\n",
       " 'green': 19519,\n",
       " 'window': 51702,\n",
       " 'titanic': 47177,\n",
       " 'surprise': 45447,\n",
       " 'compare': 9049,\n",
       " 'absolutely': 159,\n",
       " 'confusion': 9339,\n",
       " 'doubt': 13303,\n",
       " 'normally': 32573,\n",
       " 'boys': 5496,\n",
       " 'mode': 30581,\n",
       " 'gun': 19908,\n",
       " 'ford': 17251,\n",
       " 'gt': 19775,\n",
       " 'aw': 3051,\n",
       " 'hell': 20923,\n",
       " 'nah': 31621,\n",
       " 'pathetic': 34482,\n",
       " 'gain': 18018,\n",
       " 'oscar': 33595,\n",
       " 'desperate': 11976,\n",
       " 'reason': 38091,\n",
       " 'forward': 17379,\n",
       " 'understate': 48875,\n",
       " 'flash': 16878,\n",
       " 'comedy': 8916,\n",
       " 'performance': 34881,\n",
       " 'alone': 1210,\n",
       " 'fantastic': 16049,\n",
       " 'nominate': 32491,\n",
       " 'major': 28344,\n",
       " 'award': 3059,\n",
       " 'grand': 19383,\n",
       " 'rosario': 39772,\n",
       " 'dawson': 11163,\n",
       " 'door': 13210,\n",
       " 'woody': 51968,\n",
       " 'harrelson': 20517,\n",
       " 'barry': 3653,\n",
       " 'pepper': 34823,\n",
       " 'fine': 16684,\n",
       " 'players': 35641,\n",
       " 'weepy': 51205,\n",
       " 'clich': 8439,\n",
       " 'sentimental': 41534,\n",
       " 'violins': 50493,\n",
       " 'choice': 7974,\n",
       " 'cry': 10532,\n",
       " 'harden': 20439,\n",
       " 'heart': 20759,\n",
       " 'break': 5638,\n",
       " 'hard': 20428,\n",
       " 'press': 36478,\n",
       " 'move': 31160,\n",
       " 'drama': 13414,\n",
       " 'desperation': 11979,\n",
       " 'pursuit': 37266,\n",
       " 'happiness': 20406,\n",
       " 'tweedy': 48340,\n",
       " 'professor': 36724,\n",
       " 'inhabit': 23248,\n",
       " 'polynesia': 35919,\n",
       " 'descend': 11913,\n",
       " 'migratory': 30057,\n",
       " 'asians': 2545,\n",
       " 'intrepidly': 23682,\n",
       " 'east': 13976,\n",
       " 'island': 23955,\n",
       " 'eastward': 13985,\n",
       " 'tahiti': 45888,\n",
       " 'exotic': 15580,\n",
       " 'tropic': 48038,\n",
       " 'isles': 23960,\n",
       " 'south': 43603,\n",
       " 'pacific': 33963,\n",
       " 'thousands': 46900,\n",
       " 'establish': 15194,\n",
       " 'sit': 42679,\n",
       " 'young': 52520,\n",
       " 'norwegian': 32603,\n",
       " 'ethnographer': 15259,\n",
       " 'thor': 46869,\n",
       " 'heyerdahl': 21166,\n",
       " 'explanation': 15636,\n",
       " 'true': 48085,\n",
       " 'bear': 3868,\n",
       " 'breed': 5683,\n",
       " 'islands': 23958,\n",
       " 'traditions': 47617,\n",
       " 'artwork': 2480,\n",
       " 'physical': 35282,\n",
       " 'asia': 2543,\n",
       " 'america': 1395,\n",
       " 'vegetation': 50083,\n",
       " 'ecuador': 14065,\n",
       " 'peru': 35015,\n",
       " 'chile': 7901,\n",
       " 'thousand': 46899,\n",
       " 'miles': 30105,\n",
       " 'coincidence': 8728,\n",
       " 'islanders': 23957,\n",
       " 'sea': 41209,\n",
       " 'ancestors': 1568,\n",
       " 'tiki': 47060,\n",
       " 'equivalent': 15017,\n",
       " 'adam': 418,\n",
       " 'norwegians': 32604,\n",
       " 'speak': 43724,\n",
       " 'scandanavian': 40767,\n",
       " 'forerunners': 17279,\n",
       " 'chase': 7651,\n",
       " 'american': 1397,\n",
       " 'continent': 9590,\n",
       " 'colonize': 8842,\n",
       " 'native': 31802,\n",
       " 'befriend': 4013,\n",
       " 'set': 41662,\n",
       " 'west': 51315,\n",
       " 'amaze': 1343,\n",
       " 'amount': 1470,\n",
       " 'moxie': 31195,\n",
       " 'handful': 20313,\n",
       " 'crewmen': 10311,\n",
       " 'traditional': 47613,\n",
       " 'raft': 37635,\n",
       " 'build': 6116,\n",
       " 'expedition': 15604,\n",
       " 'begin': 4020,\n",
       " 'trip': 47965,\n",
       " 'imagination': 22531,\n",
       " 'scientific': 41027,\n",
       " 'demonstration': 11713,\n",
       " 'journey': 24688,\n",
       " 'basics': 3704,\n",
       " 'tool': 47373,\n",
       " 'seamanship': 41229,\n",
       " 'documentary': 12998,\n",
       " 'date': 11111,\n",
       " 'tone': 47345,\n",
       " 'anglo': 1675,\n",
       " 'ethnocentric': 15257,\n",
       " 'approach': 2094,\n",
       " 'soar': 43258,\n",
       " 'spirit': 43868,\n",
       " 'space': 43638,\n",
       " 'launch': 26503,\n",
       " 'later': 26445,\n",
       " 'will': 51630,\n",
       " 'risk': 39410,\n",
       " 'test': 46569,\n",
       " 'theory': 46733,\n",
       " 'wonderful': 51919,\n",
       " 'favor': 16220,\n",
       " 'turner': 48268,\n",
       " 'setup': 41683,\n",
       " 'newsreel': 32181,\n",
       " 'style': 44926,\n",
       " 'long': 27518,\n",
       " 'mary': 28924,\n",
       " 'kate': 25104,\n",
       " 'ashley': 2531,\n",
       " 'rob': 39500,\n",
       " 'excite': 15478,\n",
       " 'wait': 50844,\n",
       " 'charlie': 7624,\n",
       " 'angels': 1662,\n",
       " 'women': 51912,\n",
       " 'chain': 7459,\n",
       " 'navy': 31870,\n",
       " 'transport': 47736,\n",
       " 'formula': 17330,\n",
       " 'woman': 51900,\n",
       " 'introduce': 23695,\n",
       " 'picture': 35346,\n",
       " 'fall': 15945,\n",
       " 'scenes': 40838,\n",
       " 'crispen': 10354,\n",
       " 'glover': 18960,\n",
       " 'dennis': 11762,\n",
       " 'hopper': 21747,\n",
       " 'gary': 18238,\n",
       " 'busey': 6303,\n",
       " ...}"
      ]
     },
     "execution_count": 35,
     "metadata": {},
     "output_type": "execute_result"
    }
   ],
   "source": [
    "vocab = Tfid.vocabulary_\n",
    "vocab"
   ]
  },
  {
   "cell_type": "markdown",
   "metadata": {},
   "source": [
    "# Models"
   ]
  },
  {
   "cell_type": "code",
   "execution_count": 36,
   "metadata": {},
   "outputs": [],
   "source": [
    "def models_(model_name):\n",
    "    model = model_name\n",
    "    model.fit(X_train_Tfid, y_train)\n",
    "    y_pred = model.predict(X_test_Tfid)\n",
    "    return y_pred"
   ]
  },
  {
   "cell_type": "markdown",
   "metadata": {},
   "source": [
    "# Confusion Matrix"
   ]
  },
  {
   "cell_type": "code",
   "execution_count": 37,
   "metadata": {},
   "outputs": [],
   "source": [
    "def confusion_matrix_(y_pred):\n",
    "        ConfusionMatrix = confusion_matrix(y_test, y_pred)\n",
    "        return ConfusionMatrix"
   ]
  },
  {
   "cell_type": "markdown",
   "metadata": {},
   "source": [
    "# Generate True Positive, False Positive, True Negative, False Negative"
   ]
  },
  {
   "cell_type": "code",
   "execution_count": 38,
   "metadata": {},
   "outputs": [],
   "source": [
    "def positive_negative(Confusin_Matrix):\n",
    "    False_Postive = Confusin_Matrix[0, 1]\n",
    "\n",
    "    True_Positive = Confusin_Matrix[0, 0]\n",
    "\n",
    "    False_Negative = Confusin_Matrix[1, 0]\n",
    "    \n",
    "    True_Negative = Confusin_Matrix[1, 1]\n",
    "\n",
    "    return False_Postive, True_Positive, False_Negative, True_Negative"
   ]
  },
  {
   "cell_type": "markdown",
   "metadata": {},
   "source": [
    "# Performance Merics"
   ]
  },
  {
   "cell_type": "code",
   "execution_count": 39,
   "metadata": {},
   "outputs": [],
   "source": [
    "def performance_metrics(False_Postive, True_Positive, False_Negative, True_Negative):\n",
    "     Accuracy = (True_Positive + True_Negative) / (True_Positive + True_Negative + False_Postive + False_Negative)\n",
    "     Precision = True_Positive / (True_Positive+ False_Postive)\n",
    "     Sensitivity = True_Positive / (True_Positive  + False_Negative)\n",
    "     Specificity = True_Negative / (True_Negative + False_Negative)\n",
    "     F1Score = (True_Positive) / ((True_Positive) + (0.5 *(False_Postive + False_Negative)))\n",
    "     Error = 1 - Accuracy\n",
    "     MetricsValues = pd.DataFrame(index=['Accuracy', 'Precision', 'Sensitivity', 'Specificity', 'F1Score', 'Error'], columns=['Values'], data=[Accuracy, Precision, Sensitivity, Specificity, F1Score, Error])\n",
    "     return MetricsValues\n"
   ]
  },
  {
   "cell_type": "markdown",
   "metadata": {},
   "source": [
    "# Machine Learning"
   ]
  },
  {
   "cell_type": "markdown",
   "metadata": {},
   "source": [
    "**1. Naive Bayes**"
   ]
  },
  {
   "cell_type": "code",
   "execution_count": 40,
   "metadata": {},
   "outputs": [],
   "source": [
    "model_name1 = MultinomialNB()\n",
    "y_pred1 = models_(model_name1)"
   ]
  },
  {
   "cell_type": "code",
   "execution_count": 41,
   "metadata": {},
   "outputs": [],
   "source": [
    "cm1 = confusion_matrix_(y_pred1)"
   ]
  },
  {
   "cell_type": "code",
   "execution_count": 42,
   "metadata": {},
   "outputs": [],
   "source": [
    "False_Postive, True_Positive, False_Negative, True_Negative = positive_negative(cm1)"
   ]
  },
  {
   "cell_type": "code",
   "execution_count": 43,
   "metadata": {},
   "outputs": [],
   "source": [
    "MetricsValues1 = performance_metrics(False_Postive, True_Positive, False_Negative, True_Negative)"
   ]
  },
  {
   "cell_type": "code",
   "execution_count": 44,
   "metadata": {},
   "outputs": [
    {
     "data": {
      "text/html": [
       "<div>\n",
       "<style scoped>\n",
       "    .dataframe tbody tr th:only-of-type {\n",
       "        vertical-align: middle;\n",
       "    }\n",
       "\n",
       "    .dataframe tbody tr th {\n",
       "        vertical-align: top;\n",
       "    }\n",
       "\n",
       "    .dataframe thead th {\n",
       "        text-align: right;\n",
       "    }\n",
       "</style>\n",
       "<table border=\"1\" class=\"dataframe\">\n",
       "  <thead>\n",
       "    <tr style=\"text-align: right;\">\n",
       "      <th></th>\n",
       "      <th>Values</th>\n",
       "    </tr>\n",
       "  </thead>\n",
       "  <tbody>\n",
       "    <tr>\n",
       "      <th>Accuracy</th>\n",
       "      <td>0.857733</td>\n",
       "    </tr>\n",
       "    <tr>\n",
       "      <th>Precision</th>\n",
       "      <td>0.860453</td>\n",
       "    </tr>\n",
       "    <tr>\n",
       "      <th>Sensitivity</th>\n",
       "      <td>0.856121</td>\n",
       "    </tr>\n",
       "    <tr>\n",
       "      <th>Specificity</th>\n",
       "      <td>0.855007</td>\n",
       "    </tr>\n",
       "    <tr>\n",
       "      <th>F1Score</th>\n",
       "      <td>0.858281</td>\n",
       "    </tr>\n",
       "    <tr>\n",
       "      <th>Error</th>\n",
       "      <td>0.142267</td>\n",
       "    </tr>\n",
       "  </tbody>\n",
       "</table>\n",
       "</div>"
      ],
      "text/plain": [
       "               Values\n",
       "Accuracy     0.857733\n",
       "Precision    0.860453\n",
       "Sensitivity  0.856121\n",
       "Specificity  0.855007\n",
       "F1Score      0.858281\n",
       "Error        0.142267"
      ]
     },
     "execution_count": 44,
     "metadata": {},
     "output_type": "execute_result"
    }
   ],
   "source": [
    "MetricsValues1"
   ]
  },
  {
   "cell_type": "markdown",
   "metadata": {},
   "source": [
    "**2. Logistic Regression**"
   ]
  },
  {
   "cell_type": "code",
   "execution_count": 45,
   "metadata": {},
   "outputs": [],
   "source": [
    "model_name2 = LogisticRegression()\n",
    "y_pred2 = models_(model_name2)"
   ]
  },
  {
   "cell_type": "code",
   "execution_count": 46,
   "metadata": {},
   "outputs": [],
   "source": [
    "cm2 = confusion_matrix_(y_pred2)"
   ]
  },
  {
   "cell_type": "code",
   "execution_count": 47,
   "metadata": {},
   "outputs": [
    {
     "data": {
      "text/html": [
       "<div>\n",
       "<style scoped>\n",
       "    .dataframe tbody tr th:only-of-type {\n",
       "        vertical-align: middle;\n",
       "    }\n",
       "\n",
       "    .dataframe tbody tr th {\n",
       "        vertical-align: top;\n",
       "    }\n",
       "\n",
       "    .dataframe thead th {\n",
       "        text-align: right;\n",
       "    }\n",
       "</style>\n",
       "<table border=\"1\" class=\"dataframe\">\n",
       "  <thead>\n",
       "    <tr style=\"text-align: right;\">\n",
       "      <th></th>\n",
       "      <th>Values</th>\n",
       "    </tr>\n",
       "  </thead>\n",
       "  <tbody>\n",
       "    <tr>\n",
       "      <th>Accuracy</th>\n",
       "      <td>0.879467</td>\n",
       "    </tr>\n",
       "    <tr>\n",
       "      <th>Precision</th>\n",
       "      <td>0.861784</td>\n",
       "    </tr>\n",
       "    <tr>\n",
       "      <th>Sensitivity</th>\n",
       "      <td>0.893676</td>\n",
       "    </tr>\n",
       "    <tr>\n",
       "      <th>Specificity</th>\n",
       "      <td>0.897196</td>\n",
       "    </tr>\n",
       "    <tr>\n",
       "      <th>F1Score</th>\n",
       "      <td>0.877440</td>\n",
       "    </tr>\n",
       "    <tr>\n",
       "      <th>Error</th>\n",
       "      <td>0.120533</td>\n",
       "    </tr>\n",
       "  </tbody>\n",
       "</table>\n",
       "</div>"
      ],
      "text/plain": [
       "               Values\n",
       "Accuracy     0.879467\n",
       "Precision    0.861784\n",
       "Sensitivity  0.893676\n",
       "Specificity  0.897196\n",
       "F1Score      0.877440\n",
       "Error        0.120533"
      ]
     },
     "execution_count": 47,
     "metadata": {},
     "output_type": "execute_result"
    }
   ],
   "source": [
    "False_Postive2, True_Positive2, False_Negative2, True_Negative2 = positive_negative(cm2)\n",
    "MetricsValues2 = performance_metrics(False_Postive2, True_Positive2, False_Negative2, True_Negative2)\n",
    "MetricsValues2"
   ]
  },
  {
   "cell_type": "markdown",
   "metadata": {},
   "source": [
    "**3. Decision Tree**"
   ]
  },
  {
   "cell_type": "code",
   "execution_count": 48,
   "metadata": {},
   "outputs": [],
   "source": [
    "model_name3 = DecisionTreeClassifier(criterion = 'entropy')\n",
    "y_pred3 = models_(model_name3)"
   ]
  },
  {
   "cell_type": "code",
   "execution_count": 49,
   "metadata": {},
   "outputs": [],
   "source": [
    "cm3 = confusion_matrix_(y_pred3)"
   ]
  },
  {
   "cell_type": "code",
   "execution_count": 50,
   "metadata": {},
   "outputs": [
    {
     "data": {
      "text/html": [
       "<div>\n",
       "<style scoped>\n",
       "    .dataframe tbody tr th:only-of-type {\n",
       "        vertical-align: middle;\n",
       "    }\n",
       "\n",
       "    .dataframe tbody tr th {\n",
       "        vertical-align: top;\n",
       "    }\n",
       "\n",
       "    .dataframe thead th {\n",
       "        text-align: right;\n",
       "    }\n",
       "</style>\n",
       "<table border=\"1\" class=\"dataframe\">\n",
       "  <thead>\n",
       "    <tr style=\"text-align: right;\">\n",
       "      <th></th>\n",
       "      <th>Values</th>\n",
       "    </tr>\n",
       "  </thead>\n",
       "  <tbody>\n",
       "    <tr>\n",
       "      <th>Accuracy</th>\n",
       "      <td>0.710000</td>\n",
       "    </tr>\n",
       "    <tr>\n",
       "      <th>Precision</th>\n",
       "      <td>0.714514</td>\n",
       "    </tr>\n",
       "    <tr>\n",
       "      <th>Sensitivity</th>\n",
       "      <td>0.708663</td>\n",
       "    </tr>\n",
       "    <tr>\n",
       "      <th>Specificity</th>\n",
       "      <td>0.705474</td>\n",
       "    </tr>\n",
       "    <tr>\n",
       "      <th>F1Score</th>\n",
       "      <td>0.711577</td>\n",
       "    </tr>\n",
       "    <tr>\n",
       "      <th>Error</th>\n",
       "      <td>0.290000</td>\n",
       "    </tr>\n",
       "  </tbody>\n",
       "</table>\n",
       "</div>"
      ],
      "text/plain": [
       "               Values\n",
       "Accuracy     0.710000\n",
       "Precision    0.714514\n",
       "Sensitivity  0.708663\n",
       "Specificity  0.705474\n",
       "F1Score      0.711577\n",
       "Error        0.290000"
      ]
     },
     "execution_count": 50,
     "metadata": {},
     "output_type": "execute_result"
    }
   ],
   "source": [
    "False_Postive3, True_Positive3, False_Negative3, True_Negative3 = positive_negative(cm3)\n",
    "MetricsValues3 = performance_metrics(False_Postive3, True_Positive3, False_Negative3, True_Negative3)\n",
    "MetricsValues3"
   ]
  },
  {
   "cell_type": "markdown",
   "metadata": {},
   "source": [
    "**4. K Nearest Neighbor**"
   ]
  },
  {
   "cell_type": "code",
   "execution_count": 51,
   "metadata": {},
   "outputs": [],
   "source": [
    "model_name4 = KNeighborsClassifier(metric='cosine', n_neighbors=5)\n",
    "y_pred4 = models_(model_name4)"
   ]
  },
  {
   "cell_type": "code",
   "execution_count": 52,
   "metadata": {},
   "outputs": [],
   "source": [
    "cm4 = confusion_matrix_(y_pred4)"
   ]
  },
  {
   "cell_type": "code",
   "execution_count": 53,
   "metadata": {},
   "outputs": [
    {
     "data": {
      "text/html": [
       "<div>\n",
       "<style scoped>\n",
       "    .dataframe tbody tr th:only-of-type {\n",
       "        vertical-align: middle;\n",
       "    }\n",
       "\n",
       "    .dataframe tbody tr th {\n",
       "        vertical-align: top;\n",
       "    }\n",
       "\n",
       "    .dataframe thead th {\n",
       "        text-align: right;\n",
       "    }\n",
       "</style>\n",
       "<table border=\"1\" class=\"dataframe\">\n",
       "  <thead>\n",
       "    <tr style=\"text-align: right;\">\n",
       "      <th></th>\n",
       "      <th>Values</th>\n",
       "    </tr>\n",
       "  </thead>\n",
       "  <tbody>\n",
       "    <tr>\n",
       "      <th>Accuracy</th>\n",
       "      <td>0.780533</td>\n",
       "    </tr>\n",
       "    <tr>\n",
       "      <th>Precision</th>\n",
       "      <td>0.733422</td>\n",
       "    </tr>\n",
       "    <tr>\n",
       "      <th>Sensitivity</th>\n",
       "      <td>0.810238</td>\n",
       "    </tr>\n",
       "    <tr>\n",
       "      <th>Specificity</th>\n",
       "      <td>0.827770</td>\n",
       "    </tr>\n",
       "    <tr>\n",
       "      <th>F1Score</th>\n",
       "      <td>0.769919</td>\n",
       "    </tr>\n",
       "    <tr>\n",
       "      <th>Error</th>\n",
       "      <td>0.219467</td>\n",
       "    </tr>\n",
       "  </tbody>\n",
       "</table>\n",
       "</div>"
      ],
      "text/plain": [
       "               Values\n",
       "Accuracy     0.780533\n",
       "Precision    0.733422\n",
       "Sensitivity  0.810238\n",
       "Specificity  0.827770\n",
       "F1Score      0.769919\n",
       "Error        0.219467"
      ]
     },
     "execution_count": 53,
     "metadata": {},
     "output_type": "execute_result"
    }
   ],
   "source": [
    "False_Postive4, True_Positive4, False_Negative4, True_Negative4 = positive_negative(cm4)\n",
    "MetricsValues4 = performance_metrics(False_Postive4, True_Positive4, False_Negative4, True_Negative4)\n",
    "MetricsValues4"
   ]
  },
  {
   "cell_type": "markdown",
   "metadata": {},
   "source": [
    "**5. Random Forest**"
   ]
  },
  {
   "cell_type": "code",
   "execution_count": 54,
   "metadata": {},
   "outputs": [],
   "source": [
    "model_name5 = RandomForestClassifier(criterion = 'entropy', n_estimators=100)\n",
    "y_pred5 = models_(model_name5)"
   ]
  },
  {
   "cell_type": "code",
   "execution_count": 55,
   "metadata": {},
   "outputs": [],
   "source": [
    "cm5 = confusion_matrix_(y_pred5)"
   ]
  },
  {
   "cell_type": "code",
   "execution_count": 56,
   "metadata": {},
   "outputs": [
    {
     "data": {
      "text/html": [
       "<div>\n",
       "<style scoped>\n",
       "    .dataframe tbody tr th:only-of-type {\n",
       "        vertical-align: middle;\n",
       "    }\n",
       "\n",
       "    .dataframe tbody tr th {\n",
       "        vertical-align: top;\n",
       "    }\n",
       "\n",
       "    .dataframe thead th {\n",
       "        text-align: right;\n",
       "    }\n",
       "</style>\n",
       "<table border=\"1\" class=\"dataframe\">\n",
       "  <thead>\n",
       "    <tr style=\"text-align: right;\">\n",
       "      <th></th>\n",
       "      <th>Values</th>\n",
       "    </tr>\n",
       "  </thead>\n",
       "  <tbody>\n",
       "    <tr>\n",
       "      <th>Accuracy</th>\n",
       "      <td>0.844000</td>\n",
       "    </tr>\n",
       "    <tr>\n",
       "      <th>Precision</th>\n",
       "      <td>0.835153</td>\n",
       "    </tr>\n",
       "    <tr>\n",
       "      <th>Sensitivity</th>\n",
       "      <td>0.850556</td>\n",
       "    </tr>\n",
       "    <tr>\n",
       "      <th>Specificity</th>\n",
       "      <td>0.852870</td>\n",
       "    </tr>\n",
       "    <tr>\n",
       "      <th>F1Score</th>\n",
       "      <td>0.842784</td>\n",
       "    </tr>\n",
       "    <tr>\n",
       "      <th>Error</th>\n",
       "      <td>0.156000</td>\n",
       "    </tr>\n",
       "  </tbody>\n",
       "</table>\n",
       "</div>"
      ],
      "text/plain": [
       "               Values\n",
       "Accuracy     0.844000\n",
       "Precision    0.835153\n",
       "Sensitivity  0.850556\n",
       "Specificity  0.852870\n",
       "F1Score      0.842784\n",
       "Error        0.156000"
      ]
     },
     "execution_count": 56,
     "metadata": {},
     "output_type": "execute_result"
    }
   ],
   "source": [
    "False_Postive5, True_Positive5, False_Negative5, True_Negative5 = positive_negative(cm5)\n",
    "MetricsValues5 = performance_metrics(False_Postive5, True_Positive5, False_Negative5, True_Negative5)\n",
    "MetricsValues5"
   ]
  },
  {
   "cell_type": "markdown",
   "metadata": {},
   "source": [
    "**6.SGD Classifier**"
   ]
  },
  {
   "cell_type": "code",
   "execution_count": 57,
   "metadata": {},
   "outputs": [],
   "source": [
    "model_name6 = SGDClassifier(loss='hinge')\n",
    "y_pred6 = models_(model_name6)"
   ]
  },
  {
   "cell_type": "code",
   "execution_count": 58,
   "metadata": {},
   "outputs": [],
   "source": [
    "cm6 = confusion_matrix_(y_pred6)"
   ]
  },
  {
   "cell_type": "code",
   "execution_count": 59,
   "metadata": {},
   "outputs": [
    {
     "data": {
      "text/html": [
       "<div>\n",
       "<style scoped>\n",
       "    .dataframe tbody tr th:only-of-type {\n",
       "        vertical-align: middle;\n",
       "    }\n",
       "\n",
       "    .dataframe tbody tr th {\n",
       "        vertical-align: top;\n",
       "    }\n",
       "\n",
       "    .dataframe thead th {\n",
       "        text-align: right;\n",
       "    }\n",
       "</style>\n",
       "<table border=\"1\" class=\"dataframe\">\n",
       "  <thead>\n",
       "    <tr style=\"text-align: right;\">\n",
       "      <th></th>\n",
       "      <th>Values</th>\n",
       "    </tr>\n",
       "  </thead>\n",
       "  <tbody>\n",
       "    <tr>\n",
       "      <th>Accuracy</th>\n",
       "      <td>0.882933</td>\n",
       "    </tr>\n",
       "    <tr>\n",
       "      <th>Precision</th>\n",
       "      <td>0.866844</td>\n",
       "    </tr>\n",
       "    <tr>\n",
       "      <th>Sensitivity</th>\n",
       "      <td>0.895954</td>\n",
       "    </tr>\n",
       "    <tr>\n",
       "      <th>Specificity</th>\n",
       "      <td>0.899065</td>\n",
       "    </tr>\n",
       "    <tr>\n",
       "      <th>F1Score</th>\n",
       "      <td>0.881159</td>\n",
       "    </tr>\n",
       "    <tr>\n",
       "      <th>Error</th>\n",
       "      <td>0.117067</td>\n",
       "    </tr>\n",
       "  </tbody>\n",
       "</table>\n",
       "</div>"
      ],
      "text/plain": [
       "               Values\n",
       "Accuracy     0.882933\n",
       "Precision    0.866844\n",
       "Sensitivity  0.895954\n",
       "Specificity  0.899065\n",
       "F1Score      0.881159\n",
       "Error        0.117067"
      ]
     },
     "execution_count": 59,
     "metadata": {},
     "output_type": "execute_result"
    }
   ],
   "source": [
    "False_Postive6, True_Positive6, False_Negative6, True_Negative6 = positive_negative(cm6)\n",
    "MetricsValues6 = performance_metrics(False_Postive6, True_Positive6, False_Negative6, True_Negative6)\n",
    "MetricsValues6"
   ]
  },
  {
   "cell_type": "markdown",
   "metadata": {},
   "source": [
    "# Deep Learning"
   ]
  },
  {
   "cell_type": "code",
   "execution_count": 60,
   "metadata": {},
   "outputs": [],
   "source": [
    "tokenizer = Tokenizer()\n",
    "tokenizer.fit_on_texts(X)\n",
    "embedding_dim = 16\n",
    "vocab_size = len(tokenizer.word_index) + 1"
   ]
  },
  {
   "cell_type": "code",
   "execution_count": 61,
   "metadata": {},
   "outputs": [
    {
     "data": {
      "text/plain": [
       "61534"
      ]
     },
     "execution_count": 61,
     "metadata": {},
     "output_type": "execute_result"
    }
   ],
   "source": [
    "vocab_size"
   ]
  },
  {
   "cell_type": "code",
   "execution_count": 62,
   "metadata": {},
   "outputs": [],
   "source": [
    "X_train_seqs = tokenizer.texts_to_sequences(X_train)\n",
    "X_test_seqs = tokenizer.texts_to_sequences(X_test)\n",
    "max_length = len(max(X_train_seqs, key=len))"
   ]
  },
  {
   "cell_type": "code",
   "execution_count": 63,
   "metadata": {},
   "outputs": [
    {
     "data": {
      "text/plain": [
       "790"
      ]
     },
     "execution_count": 63,
     "metadata": {},
     "output_type": "execute_result"
    }
   ],
   "source": [
    "max_length"
   ]
  },
  {
   "cell_type": "code",
   "execution_count": 64,
   "metadata": {},
   "outputs": [],
   "source": [
    "encoded_X_train = sequence.pad_sequences(X_train_seqs, maxlen=max_length)\n",
    "encoded_X_test = sequence.pad_sequences(X_test_seqs, maxlen=max_length)"
   ]
  },
  {
   "cell_type": "code",
   "execution_count": 65,
   "metadata": {},
   "outputs": [],
   "source": [
    "Callback = tf.keras.callbacks.EarlyStopping(\n",
    "                    monitor=\"accuracy\",\n",
    "                    mode=\"max\",\n",
    "                    start_from_epoch=5\n",
    "                )"
   ]
  },
  {
   "cell_type": "markdown",
   "metadata": {},
   "source": [
    "**7-Convolutional Neural Network**"
   ]
  },
  {
   "cell_type": "code",
   "execution_count": 66,
   "metadata": {},
   "outputs": [],
   "source": [
    "model = tf.keras.Sequential([\n",
    "                Embedding(input_dim=vocab_size, output_dim=embedding_dim, input_length=max_length),\n",
    "                Conv1D(filters=32, kernel_size = 3, activation='relu'),\n",
    "                GlobalAveragePooling1D(),\n",
    "                Dropout(0.8),\n",
    "                Dense(1, activation= 'sigmoid')\n",
    "                ])"
   ]
  },
  {
   "cell_type": "code",
   "execution_count": 67,
   "metadata": {},
   "outputs": [],
   "source": [
    "model.compile(optimizer='adam',\n",
    "              loss='binary_crossentropy',\n",
    "              metrics=['accuracy'])"
   ]
  },
  {
   "cell_type": "code",
   "execution_count": 68,
   "metadata": {},
   "outputs": [
    {
     "name": "stdout",
     "output_type": "stream",
     "text": [
      "Epoch 1/20\n",
      "547/547 [==============================] - 63s 115ms/step - loss: 0.6739 - accuracy: 0.6103 - val_loss: 0.6044 - val_accuracy: 0.8292\n",
      "Epoch 2/20\n",
      "547/547 [==============================] - 56s 103ms/step - loss: 0.4961 - accuracy: 0.8026 - val_loss: 0.4078 - val_accuracy: 0.8645\n",
      "Epoch 3/20\n",
      "547/547 [==============================] - 37s 67ms/step - loss: 0.3896 - accuracy: 0.8455 - val_loss: 0.3486 - val_accuracy: 0.8752\n",
      "Epoch 4/20\n",
      "547/547 [==============================] - 25s 45ms/step - loss: 0.3301 - accuracy: 0.8740 - val_loss: 0.3197 - val_accuracy: 0.8819\n",
      "Epoch 5/20\n",
      "547/547 [==============================] - 13s 24ms/step - loss: 0.2982 - accuracy: 0.8867 - val_loss: 0.3056 - val_accuracy: 0.8829\n",
      "Epoch 6/20\n",
      "547/547 [==============================] - 13s 23ms/step - loss: 0.2686 - accuracy: 0.9012 - val_loss: 0.2937 - val_accuracy: 0.8876\n",
      "Epoch 7/20\n",
      "547/547 [==============================] - 11s 21ms/step - loss: 0.2548 - accuracy: 0.9079 - val_loss: 0.2907 - val_accuracy: 0.8869\n",
      "Epoch 8/20\n",
      "547/547 [==============================] - 11s 21ms/step - loss: 0.2352 - accuracy: 0.9159 - val_loss: 0.2891 - val_accuracy: 0.8887\n",
      "Epoch 9/20\n",
      "547/547 [==============================] - 14s 26ms/step - loss: 0.2213 - accuracy: 0.9238 - val_loss: 0.2866 - val_accuracy: 0.8905\n",
      "Epoch 10/20\n",
      "547/547 [==============================] - 14s 26ms/step - loss: 0.2042 - accuracy: 0.9291 - val_loss: 0.2840 - val_accuracy: 0.8916\n",
      "Epoch 11/20\n",
      "547/547 [==============================] - 13s 24ms/step - loss: 0.1920 - accuracy: 0.9329 - val_loss: 0.2857 - val_accuracy: 0.8905\n",
      "Epoch 12/20\n",
      "547/547 [==============================] - 11s 20ms/step - loss: 0.1863 - accuracy: 0.9370 - val_loss: 0.2886 - val_accuracy: 0.8892\n",
      "Epoch 13/20\n",
      "547/547 [==============================] - 10s 18ms/step - loss: 0.1733 - accuracy: 0.9413 - val_loss: 0.2933 - val_accuracy: 0.8891\n",
      "Epoch 14/20\n",
      "547/547 [==============================] - 10s 18ms/step - loss: 0.1648 - accuracy: 0.9449 - val_loss: 0.2968 - val_accuracy: 0.8904\n",
      "Epoch 15/20\n",
      "547/547 [==============================] - 10s 19ms/step - loss: 0.1573 - accuracy: 0.9462 - val_loss: 0.3011 - val_accuracy: 0.8915\n",
      "Epoch 16/20\n",
      "547/547 [==============================] - 10s 17ms/step - loss: 0.1481 - accuracy: 0.9499 - val_loss: 0.3087 - val_accuracy: 0.8879\n",
      "Epoch 17/20\n",
      "547/547 [==============================] - 10s 19ms/step - loss: 0.1500 - accuracy: 0.9489 - val_loss: 0.3129 - val_accuracy: 0.8883\n"
     ]
    }
   ],
   "source": [
    "history = model.fit(encoded_X_train, y_train,\n",
    "                    epochs=20,\n",
    "                    validation_data=(encoded_X_test, y_test),\n",
    "                    batch_size=32,\n",
    "                    callbacks=[Callback])"
   ]
  },
  {
   "cell_type": "code",
   "execution_count": 69,
   "metadata": {},
   "outputs": [
    {
     "data": {
      "image/png": "[encoded data removed]",
      "text/plain": [
       "<Figure size 640x480 with 1 Axes>"
      ]
     },
     "metadata": {},
     "output_type": "display_data"
    }
   ],
   "source": [
    "val_acc = history.history['val_accuracy']\n",
    "val_loss = history.history['val_loss']\n",
    "\n",
    "plt.plot(val_acc, label='Accuracy')\n",
    "plt.plot(val_loss, label='Loss')\n",
    "plt.legend()\n",
    "plt.show()"
   ]
  },
  {
   "cell_type": "code",
   "execution_count": 70,
   "metadata": {},
   "outputs": [
    {
     "data": {
      "image/png": "[encoded data removed]",
      "text/plain": [
       "<Figure size 640x480 with 1 Axes>"
      ]
     },
     "metadata": {},
     "output_type": "display_data"
    }
   ],
   "source": [
    "acc = history.history['accuracy']\n",
    "loss = history.history['loss']\n",
    "\n",
    "plt.plot(acc, label='Accuracy')\n",
    "plt.plot(loss, label='Loss')\n",
    "plt.legend()\n",
    "plt.show()"
   ]
  },
  {
   "cell_type": "code",
   "execution_count": 71,
   "metadata": {},
   "outputs": [
    {
     "name": "stdout",
     "output_type": "stream",
     "text": [
      "Training Accuracy: 0.9913\n",
      "Testing Accuracy:  0.8883\n"
     ]
    }
   ],
   "source": [
    "loss, accuracy = model.evaluate(encoded_X_train, y_train, verbose=False)\n",
    "print(\"Training Accuracy: {:.4f}\".format(accuracy))\n",
    "loss, accuracy = model.evaluate(encoded_X_test, y_test, verbose=False)\n",
    "print(\"Testing Accuracy:  {:.4f}\".format(accuracy))"
   ]
  },
  {
   "cell_type": "markdown",
   "metadata": {},
   "source": [
    "**8-Recurrent Neural Networks**"
   ]
  },
  {
   "cell_type": "code",
   "execution_count": 72,
   "metadata": {},
   "outputs": [],
   "source": [
    "model = tf.keras.Sequential([\n",
    "        Embedding(input_dim=vocab_size, output_dim=embedding_dim, input_length=max_length),\n",
    "        LSTM(32, return_sequences=False),  \n",
    "        Dropout(0.2),      \n",
    "        Dense(1, activation='sigmoid')])"
   ]
  },
  {
   "cell_type": "code",
   "execution_count": 73,
   "metadata": {},
   "outputs": [],
   "source": [
    "model.compile(optimizer='adam',\n",
    "              loss='binary_crossentropy',\n",
    "              metrics=['accuracy'])"
   ]
  },
  {
   "cell_type": "code",
   "execution_count": 74,
   "metadata": {},
   "outputs": [
    {
     "name": "stdout",
     "output_type": "stream",
     "text": [
      "Epoch 1/20\n",
      "547/547 [==============================] - 74s 132ms/step - loss: 0.4254 - accuracy: 0.7997 - val_loss: 0.3030 - val_accuracy: 0.8767\n",
      "Epoch 2/20\n",
      "547/547 [==============================] - 59s 107ms/step - loss: 0.2220 - accuracy: 0.9202 - val_loss: 0.4475 - val_accuracy: 0.7924\n",
      "Epoch 3/20\n",
      "547/547 [==============================] - 55s 101ms/step - loss: 0.1257 - accuracy: 0.9592 - val_loss: 0.3508 - val_accuracy: 0.8795\n",
      "Epoch 4/20\n",
      "547/547 [==============================] - 50s 92ms/step - loss: 0.0583 - accuracy: 0.9833 - val_loss: 0.4284 - val_accuracy: 0.8739\n",
      "Epoch 5/20\n",
      "547/547 [==============================] - 49s 89ms/step - loss: 0.0385 - accuracy: 0.9893 - val_loss: 0.5745 - val_accuracy: 0.8669\n",
      "Epoch 6/20\n",
      "547/547 [==============================] - 49s 89ms/step - loss: 0.0252 - accuracy: 0.9931 - val_loss: 0.5364 - val_accuracy: 0.8481\n",
      "Epoch 7/20\n",
      "547/547 [==============================] - 47s 87ms/step - loss: 0.0276 - accuracy: 0.9914 - val_loss: 0.6017 - val_accuracy: 0.8639\n"
     ]
    }
   ],
   "source": [
    "history = model.fit(encoded_X_train, y_train,\n",
    "                    epochs=20,\n",
    "                    validation_data=(encoded_X_test, y_test),\n",
    "                    batch_size=32,\n",
    "                    callbacks=[Callback])"
   ]
  },
  {
   "cell_type": "code",
   "execution_count": 75,
   "metadata": {},
   "outputs": [
    {
     "data": {
      "image/png": "[encoded data removed]",
      "text/plain": [
       "<Figure size 640x480 with 1 Axes>"
      ]
     },
     "metadata": {},
     "output_type": "display_data"
    }
   ],
   "source": [
    "val_acc = history.history['val_accuracy']\n",
    "val_loss = history.history['val_loss']\n",
    "\n",
    "plt.plot(val_acc, label='Accuracy')\n",
    "plt.plot(val_loss, label='Loss')\n",
    "plt.legend()\n",
    "plt.show()"
   ]
  },
  {
   "cell_type": "code",
   "execution_count": 76,
   "metadata": {},
   "outputs": [
    {
     "data": {
      "image/png": "[encoded data removed]",
      "text/plain": [
       "<Figure size 640x480 with 1 Axes>"
      ]
     },
     "metadata": {},
     "output_type": "display_data"
    }
   ],
   "source": [
    "acc = history.history['accuracy']\n",
    "loss = history.history['loss']\n",
    "\n",
    "plt.plot(acc, label='Accuracy')\n",
    "plt.plot(loss, label='Loss')\n",
    "plt.legend()\n",
    "plt.show()"
   ]
  },
  {
   "cell_type": "code",
   "execution_count": 77,
   "metadata": {},
   "outputs": [
    {
     "name": "stdout",
     "output_type": "stream",
     "text": [
      "Training Accuracy: 0.9975\n",
      "Testing Accuracy:  0.8639\n"
     ]
    }
   ],
   "source": [
    "loss, accuracy = model.evaluate(encoded_X_train, y_train, verbose=False)\n",
    "print(\"Training Accuracy: {:.4f}\".format(accuracy))\n",
    "loss, accuracy = model.evaluate(encoded_X_test, y_test, verbose=False)\n",
    "print(\"Testing Accuracy:  {:.4f}\".format(accuracy))"
   ]
  },
  {
   "cell_type": "code",
   "execution_count": null,
   "metadata": {},
   "outputs": [],
   "source": []
  }
 ],
 "metadata": {
  "kernelspec": {
   "display_name": "Python 3",
   "language": "python",
   "name": "python3"
  },
  "language_info": {
   "codemirror_mode": {
    "name": "ipython",
    "version": 3
   },
   "file_extension": ".py",
   "mimetype": "text/x-python",
   "name": "python",
   "nbconvert_exporter": "python",
   "pygments_lexer": "ipython3",
   "version": "3.11.5"
  },
  "orig_nbformat": 4
 },
 "nbformat": 4,
 "nbformat_minor": 2
}
