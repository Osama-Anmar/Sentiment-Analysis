{
 "cells": [
  {
   "cell_type": "markdown",
   "metadata": {},
   "source": [
    "# Import Libraries\n"
   ]
  },
  {
   "cell_type": "code",
   "execution_count": 1,
   "metadata": {},
   "outputs": [],
   "source": [
    "import pandas as pd\n",
    "import numpy as np\n",
    "import nltk\n",
    "import matplotlib.pyplot as plt\n",
    "import seaborn as sns\n",
    "from nltk.corpus import stopwords\n",
    "from wordcloud import WordCloud\n",
    "from sklearn.tree import DecisionTreeClassifier\n",
    "from sklearn.naive_bayes import MultinomialNB\n",
    "from sklearn.svm import SVC\n",
    "from sklearn.neural_network import MLPClassifier\n",
    "from sklearn.neighbors import KNeighborsClassifier\n",
    "from sklearn.linear_model import LogisticRegression\n",
    "from sklearn.ensemble import RandomForestClassifier\n",
    "from sklearn.linear_model import SGDClassifier\n",
    "from sklearn.model_selection import train_test_split\n",
    "from sklearn.metrics import confusion_matrix\n",
    "from sklearn.feature_extraction.text import TfidfVectorizer\n",
    "import collections as collections\n",
    "from collections import OrderedDict\n",
    "import plotly.express as px\n",
    "from nltk.tokenize import sent_tokenize, word_tokenize\n",
    "from nltk import pos_tag\n",
    "from plotly import graph_objects as go\n",
    "from nltk.stem import WordNetLemmatizer\n",
    "import contractions\n",
    "import emoji\n",
    "from collections import Counter\n",
    "from lxml import etree \n",
    "import string\n",
    "import re\n",
    "import os\n",
    "import warnings\n",
    "import random\n",
    "from bs4 import BeautifulSoup\n",
    "random.seed(33)\n",
    "pd.options.display.max_rows = 100\n",
    "pd.options.display.max_columns =None "
   ]
  },
  {
   "cell_type": "code",
   "execution_count": 2,
   "metadata": {},
   "outputs": [],
   "source": [
    "colors1=['#fe726f', '#e44744', '#b13735']\n",
    "colors2=['#f8ab91', '#f58a65', '#f26839']"
   ]
  },
  {
   "cell_type": "markdown",
   "metadata": {},
   "source": [
    "# Download Some Packages"
   ]
  },
  {
   "cell_type": "code",
   "execution_count": 3,
   "metadata": {},
   "outputs": [
    {
     "name": "stderr",
     "output_type": "stream",
     "text": [
      "[nltk_data] Downloading package punkt to\n",
      "[nltk_data]     /Users/osamaanmar/nltk_data...\n",
      "[nltk_data]   Package punkt is already up-to-date!\n",
      "[nltk_data] Downloading package wordnet to\n",
      "[nltk_data]     /Users/osamaanmar/nltk_data...\n",
      "[nltk_data]   Package wordnet is already up-to-date!\n",
      "[nltk_data] Downloading package stopwords to\n",
      "[nltk_data]     /Users/osamaanmar/nltk_data...\n",
      "[nltk_data]   Package stopwords is already up-to-date!\n",
      "[nltk_data] Downloading package averaged_perceptron_tagger to\n",
      "[nltk_data]     /Users/osamaanmar/nltk_data...\n",
      "[nltk_data]   Package averaged_perceptron_tagger is already up-to-\n",
      "[nltk_data]       date!\n"
     ]
    },
    {
     "data": {
      "text/plain": [
       "True"
      ]
     },
     "execution_count": 3,
     "metadata": {},
     "output_type": "execute_result"
    }
   ],
   "source": [
    "nltk.download('punkt')\n",
    "nltk.download('wordnet')\n",
    "nltk.download('stopwords')\n",
    "nltk.download('averaged_perceptron_tagger')"
   ]
  },
  {
   "cell_type": "markdown",
   "metadata": {},
   "source": [
    "# Ignore Warnings"
   ]
  },
  {
   "cell_type": "code",
   "execution_count": 4,
   "metadata": {},
   "outputs": [],
   "source": [
    "os.environ['TF_CPP_MIN_LOG_LEVEL'] = '3'\n",
    "warnings.filterwarnings(action='ignore')"
   ]
  },
  {
   "cell_type": "markdown",
   "metadata": {},
   "source": [
    "# Read Data"
   ]
  },
  {
   "cell_type": "code",
   "execution_count": 5,
   "metadata": {},
   "outputs": [
    {
     "data": {
      "text/html": [
       "<div>\n",
       "<style scoped>\n",
       "    .dataframe tbody tr th:only-of-type {\n",
       "        vertical-align: middle;\n",
       "    }\n",
       "\n",
       "    .dataframe tbody tr th {\n",
       "        vertical-align: top;\n",
       "    }\n",
       "\n",
       "    .dataframe thead th {\n",
       "        text-align: right;\n",
       "    }\n",
       "</style>\n",
       "<table border=\"1\" class=\"dataframe\">\n",
       "  <thead>\n",
       "    <tr style=\"text-align: right;\">\n",
       "      <th></th>\n",
       "      <th>Sentiment</th>\n",
       "      <th>Review</th>\n",
       "    </tr>\n",
       "  </thead>\n",
       "  <tbody>\n",
       "    <tr>\n",
       "      <th>0</th>\n",
       "      <td>Positive</td>\n",
       "      <td>Just what I needed for a party</td>\n",
       "    </tr>\n",
       "    <tr>\n",
       "      <th>1</th>\n",
       "      <td>Positive</td>\n",
       "      <td>Son loves it.  Decent quality.</td>\n",
       "    </tr>\n",
       "    <tr>\n",
       "      <th>2</th>\n",
       "      <td>Positive</td>\n",
       "      <td>My son wanted to dress like August Pullman fro...</td>\n",
       "    </tr>\n",
       "    <tr>\n",
       "      <th>3</th>\n",
       "      <td>Positive</td>\n",
       "      <td>awesome.</td>\n",
       "    </tr>\n",
       "    <tr>\n",
       "      <th>4</th>\n",
       "      <td>Positive</td>\n",
       "      <td>My daughter loves this item. My high score is ...</td>\n",
       "    </tr>\n",
       "    <tr>\n",
       "      <th>...</th>\n",
       "      <td>...</td>\n",
       "      <td>...</td>\n",
       "    </tr>\n",
       "    <tr>\n",
       "      <th>50372</th>\n",
       "      <td>Positive</td>\n",
       "      <td>What I wanted.</td>\n",
       "    </tr>\n",
       "    <tr>\n",
       "      <th>50373</th>\n",
       "      <td>Positive</td>\n",
       "      <td>Husband loves it, as he always dreamed of goin...</td>\n",
       "    </tr>\n",
       "    <tr>\n",
       "      <th>50374</th>\n",
       "      <td>Negative</td>\n",
       "      <td>Ugh. This shirt looked so good online, it look...</td>\n",
       "    </tr>\n",
       "    <tr>\n",
       "      <th>50375</th>\n",
       "      <td>Positive</td>\n",
       "      <td>Very comfortable to wear</td>\n",
       "    </tr>\n",
       "    <tr>\n",
       "      <th>50376</th>\n",
       "      <td>Positive</td>\n",
       "      <td>Love it love it love it</td>\n",
       "    </tr>\n",
       "  </tbody>\n",
       "</table>\n",
       "<p>50377 rows × 2 columns</p>\n",
       "</div>"
      ],
      "text/plain": [
       "      Sentiment                                             Review\n",
       "0      Positive                     Just what I needed for a party\n",
       "1      Positive                     Son loves it.  Decent quality.\n",
       "2      Positive  My son wanted to dress like August Pullman fro...\n",
       "3      Positive                                           awesome.\n",
       "4      Positive  My daughter loves this item. My high score is ...\n",
       "...         ...                                                ...\n",
       "50372  Positive                                     What I wanted.\n",
       "50373  Positive  Husband loves it, as he always dreamed of goin...\n",
       "50374  Negative  Ugh. This shirt looked so good online, it look...\n",
       "50375  Positive                           Very comfortable to wear\n",
       "50376  Positive                            Love it love it love it\n",
       "\n",
       "[50377 rows x 2 columns]"
      ]
     },
     "execution_count": 5,
     "metadata": {},
     "output_type": "execute_result"
    }
   ],
   "source": [
    "Corpus = pd.read_csv('18.csv')\n",
    "Corpus.rename(columns={'reviewText': 'Review', 'overall': 'Sentiment'}, inplace=True)\n",
    "Corpus.drop(['Unnamed: 0', 'reviewTime'], axis=1, inplace=True)\n",
    "Corpus['Sentiment'] = Corpus['Sentiment'].map({-1: 'Negative', 0: 'Neutral',  1: 'Positive'})\n",
    "Corpus"
   ]
  },
  {
   "cell_type": "markdown",
   "metadata": {},
   "source": [
    "# Percantage Of Each Sentiment"
   ]
  },
  {
   "cell_type": "code",
   "execution_count": 6,
   "metadata": {},
   "outputs": [
    {
     "data": {
      "image/png": "[encoded data removed]",
      "text/plain": [
       "<Figure size 600x600 with 1 Axes>"
      ]
     },
     "metadata": {},
     "output_type": "display_data"
    }
   ],
   "source": [
    "Corpus['Sentiment'].value_counts().plot.pie(autopct = '%0.1f%%',\n",
    "                                                    textprops = {'size': 'large'},\n",
    "                                                    title = 'Sentiment Pie Chart',\n",
    "                                                    figsize = (6,6),\n",
    "                                                    colors = colors1,\n",
    "                                                    ylabel = ' ');"
   ]
  },
  {
   "cell_type": "markdown",
   "metadata": {},
   "source": [
    "# Count Of Each Sentiment"
   ]
  },
  {
   "cell_type": "code",
   "execution_count": 7,
   "metadata": {},
   "outputs": [
    {
     "data": {
      "image/png": "[encoded data removed]",
      "text/plain": [
       "<Figure size 400x400 with 1 Axes>"
      ]
     },
     "metadata": {},
     "output_type": "display_data"
    }
   ],
   "source": [
    "ax, fig = plt.subplots(figsize =(4, 4))\n",
    "ax =sns.countplot(x='Sentiment', data=Corpus, dodge=False, hue='Sentiment',  order= Corpus['Sentiment'].value_counts().index, hue_order =Corpus['Sentiment'].value_counts().index,  palette=colors2);\n",
    "ax.set(xticklabels=[]) \n",
    "ax.set(ylabel=None) \n",
    "plt.title('Sentiment Count Plot')\n",
    "sns.move_legend(ax, \"upper left\", bbox_to_anchor=(1, 1))\n",
    "plt.show()"
   ]
  },
  {
   "cell_type": "markdown",
   "metadata": {},
   "source": [
    "# WordCloud"
   ]
  },
  {
   "cell_type": "code",
   "execution_count": 8,
   "metadata": {},
   "outputs": [],
   "source": [
    "def word_cloud_(Sentiment):\n",
    "    text = str(Corpus[Corpus['Sentiment'] == Sentiment])\n",
    "    wordcloud = WordCloud(background_color='white', mode='RGB',width=1500,height=800).generate(text)\n",
    "    plt.figure()\n",
    "    plt.imshow(wordcloud, interpolation='catrom')\n",
    "    plt.axis(\"off\")\n",
    "    plt.title('Word Cloud For {} Sentiment'.format(Sentiment))\n",
    "    plt.show()"
   ]
  },
  {
   "cell_type": "markdown",
   "metadata": {},
   "source": [
    "**1-Positive** "
   ]
  },
  {
   "cell_type": "code",
   "execution_count": 9,
   "metadata": {},
   "outputs": [
    {
     "data": {
      "image/png": "[encoded data removed]",
      "text/plain": [
       "<Figure size 640x480 with 1 Axes>"
      ]
     },
     "metadata": {},
     "output_type": "display_data"
    }
   ],
   "source": [
    "word_cloud_('Positive')"
   ]
  },
  {
   "cell_type": "markdown",
   "metadata": {},
   "source": [
    "**2-Negative**"
   ]
  },
  {
   "cell_type": "code",
   "execution_count": 10,
   "metadata": {},
   "outputs": [
    {
     "data": {
      "image/png": "[encoded data removed]",
      "text/plain": [
       "<Figure size 640x480 with 1 Axes>"
      ]
     },
     "metadata": {},
     "output_type": "display_data"
    }
   ],
   "source": [
    "word_cloud_('Negative')"
   ]
  },
  {
   "cell_type": "markdown",
   "metadata": {},
   "source": [
    "# Word Tokenize"
   ]
  },
  {
   "cell_type": "code",
   "execution_count": 11,
   "metadata": {},
   "outputs": [],
   "source": [
    "Corpus['Tokenized'] = Corpus['Review'].astype(str).apply(word_tokenize)"
   ]
  },
  {
   "cell_type": "code",
   "execution_count": 12,
   "metadata": {},
   "outputs": [
    {
     "data": {
      "text/plain": [
       "0                   [Just, what, I, needed, for, a, party]\n",
       "1                  [Son, loves, it, ., Decent, quality, .]\n",
       "2        [My, son, wanted, to, dress, like, August, Pul...\n",
       "3                                             [awesome, .]\n",
       "4        [My, daughter, loves, this, item, ., My, high,...\n",
       "                               ...                        \n",
       "50372                                 [What, I, wanted, .]\n",
       "50373    [Husband, loves, it, ,, as, he, always, dreame...\n",
       "50374    [Ugh, ., This, shirt, looked, so, good, online...\n",
       "50375                        [Very, comfortable, to, wear]\n",
       "50376                       [Love, it, love, it, love, it]\n",
       "Name: Tokenized, Length: 50377, dtype: object"
      ]
     },
     "execution_count": 12,
     "metadata": {},
     "output_type": "execute_result"
    }
   ],
   "source": [
    "Corpus['Tokenized']"
   ]
  },
  {
   "cell_type": "markdown",
   "metadata": {},
   "source": [
    "# Number Of Words Before Text Normalization"
   ]
  },
  {
   "cell_type": "code",
   "execution_count": 13,
   "metadata": {},
   "outputs": [
    {
     "data": {
      "text/plain": [
       "1358457"
      ]
     },
     "execution_count": 13,
     "metadata": {},
     "output_type": "execute_result"
    }
   ],
   "source": [
    "Corpus[\"Number of Words1\"] = Corpus[\"Tokenized\"].apply(lambda n:len(n))\n",
    "Corpus[\"Number of Words1\"].sum()"
   ]
  },
  {
   "cell_type": "markdown",
   "metadata": {},
   "source": [
    "# Number Of Charachters Before Text Normalization"
   ]
  },
  {
   "cell_type": "code",
   "execution_count": 14,
   "metadata": {},
   "outputs": [
    {
     "data": {
      "text/plain": [
       "6201348"
      ]
     },
     "execution_count": 14,
     "metadata": {},
     "output_type": "execute_result"
    }
   ],
   "source": [
    "Corpus[\"Number of Charachters1\"] = Corpus[\"Review\"].str.len()\n",
    "Corpus[\"Number of Charachters1\"].sum()"
   ]
  },
  {
   "cell_type": "markdown",
   "metadata": {},
   "source": [
    "# Number Of Sentences Before Text Normalization"
   ]
  },
  {
   "cell_type": "code",
   "execution_count": 15,
   "metadata": {},
   "outputs": [
    {
     "data": {
      "text/plain": [
       "121144"
      ]
     },
     "execution_count": 15,
     "metadata": {},
     "output_type": "execute_result"
    }
   ],
   "source": [
    "NumberOfTexts1 = Corpus['Review'].apply(lambda n:len(sent_tokenize(n)))\n",
    "NumberOfTexts1.sum()"
   ]
  },
  {
   "cell_type": "markdown",
   "metadata": {},
   "source": [
    "# Average Number Of Words Before Text Normalization"
   ]
  },
  {
   "cell_type": "code",
   "execution_count": 16,
   "metadata": {},
   "outputs": [
    {
     "data": {
      "text/plain": [
       "27"
      ]
     },
     "execution_count": 16,
     "metadata": {},
     "output_type": "execute_result"
    }
   ],
   "source": [
    "AverageNaumberOfWords1 = round(Corpus[\"Number of Words1\"].mean())\n",
    "AverageNaumberOfWords1"
   ]
  },
  {
   "cell_type": "markdown",
   "metadata": {},
   "source": [
    "# Average Number Of Charachters Before Text Normalization"
   ]
  },
  {
   "cell_type": "code",
   "execution_count": 17,
   "metadata": {},
   "outputs": [
    {
     "data": {
      "text/plain": [
       "123"
      ]
     },
     "execution_count": 17,
     "metadata": {},
     "output_type": "execute_result"
    }
   ],
   "source": [
    "AverageNumberOfCharachters1 = round(Corpus[\"Number of Charachters1\"].mean())\n",
    "AverageNumberOfCharachters1"
   ]
  },
  {
   "cell_type": "markdown",
   "metadata": {},
   "source": [
    "# Most Frequent Words Before Text Normalization"
   ]
  },
  {
   "cell_type": "code",
   "execution_count": 18,
   "metadata": {},
   "outputs": [
    {
     "data": {
      "text/html": [
       "<div>\n",
       "<style scoped>\n",
       "    .dataframe tbody tr th:only-of-type {\n",
       "        vertical-align: middle;\n",
       "    }\n",
       "\n",
       "    .dataframe tbody tr th {\n",
       "        vertical-align: top;\n",
       "    }\n",
       "\n",
       "    .dataframe thead th {\n",
       "        text-align: right;\n",
       "    }\n",
       "</style>\n",
       "<table border=\"1\" class=\"dataframe\">\n",
       "  <thead>\n",
       "    <tr style=\"text-align: right;\">\n",
       "      <th></th>\n",
       "      <th>Word</th>\n",
       "      <th>Count</th>\n",
       "    </tr>\n",
       "  </thead>\n",
       "  <tbody>\n",
       "    <tr>\n",
       "      <th>0</th>\n",
       "      <td>.</td>\n",
       "      <td>84780</td>\n",
       "    </tr>\n",
       "    <tr>\n",
       "      <th>1</th>\n",
       "      <td>I</td>\n",
       "      <td>43277</td>\n",
       "    </tr>\n",
       "    <tr>\n",
       "      <th>2</th>\n",
       "      <td>the</td>\n",
       "      <td>43231</td>\n",
       "    </tr>\n",
       "    <tr>\n",
       "      <th>3</th>\n",
       "      <td>and</td>\n",
       "      <td>36735</td>\n",
       "    </tr>\n",
       "    <tr>\n",
       "      <th>4</th>\n",
       "      <td>,</td>\n",
       "      <td>31502</td>\n",
       "    </tr>\n",
       "    <tr>\n",
       "      <th>5</th>\n",
       "      <td>a</td>\n",
       "      <td>30602</td>\n",
       "    </tr>\n",
       "    <tr>\n",
       "      <th>6</th>\n",
       "      <td>it</td>\n",
       "      <td>28488</td>\n",
       "    </tr>\n",
       "    <tr>\n",
       "      <th>7</th>\n",
       "      <td>to</td>\n",
       "      <td>22909</td>\n",
       "    </tr>\n",
       "    <tr>\n",
       "      <th>8</th>\n",
       "      <td>!</td>\n",
       "      <td>22189</td>\n",
       "    </tr>\n",
       "    <tr>\n",
       "      <th>9</th>\n",
       "      <td>is</td>\n",
       "      <td>17957</td>\n",
       "    </tr>\n",
       "  </tbody>\n",
       "</table>\n",
       "</div>"
      ],
      "text/plain": [
       "  Word  Count\n",
       "0    .  84780\n",
       "1    I  43277\n",
       "2  the  43231\n",
       "3  and  36735\n",
       "4    ,  31502\n",
       "5    a  30602\n",
       "6   it  28488\n",
       "7   to  22909\n",
       "8    !  22189\n",
       "9   is  17957"
      ]
     },
     "execution_count": 18,
     "metadata": {},
     "output_type": "execute_result"
    }
   ],
   "source": [
    "MostFrequentWord1 = Counter((Corpus['Tokenized']).explode()).most_common(10)\n",
    "MostFrequentWordDF1 = pd.DataFrame(MostFrequentWord1, columns=('Word', 'Count'))\n",
    "MostFrequentWordDF1"
   ]
  },
  {
   "cell_type": "code",
   "execution_count": 19,
   "metadata": {},
   "outputs": [
    {
     "data": {
      "application/vnd.plotly.v1+json": {
       "config": {
        "plotlyServerURL": "https://plot.ly"
       },
       "data": [
        {
         "marker": {
          "color": [
           "Salmon",
           "PaleVioletRed",
           "LightSalmon",
           "Moccasin",
           "Lavender",
           "DarkOliveGreen",
           "Turquoise",
           "Chocolate",
           "MistyRose",
           "Gainsboro"
          ]
         },
         "type": "funnel",
         "x": [
          84780,
          43277,
          43231,
          36735,
          31502,
          30602,
          28488,
          22909,
          22189,
          17957
         ],
         "y": [
          ".",
          "I",
          "the",
          "and",
          ",",
          "a",
          "it",
          "to",
          "!",
          "is"
         ]
        }
       ],
       "layout": {
        "template": {
         "data": {
          "bar": [
           {
            "error_x": {
             "color": "#2a3f5f"
            },
            "error_y": {
             "color": "#2a3f5f"
            },
            "marker": {
             "line": {
              "color": "#E5ECF6",
              "width": 0.5
             },
             "pattern": {
              "fillmode": "overlay",
              "size": 10,
              "solidity": 0.2
             }
            },
            "type": "bar"
           }
          ],
          "barpolar": [
           {
            "marker": {
             "line": {
              "color": "#E5ECF6",
              "width": 0.5
             },
             "pattern": {
              "fillmode": "overlay",
              "size": 10,
              "solidity": 0.2
             }
            },
            "type": "barpolar"
           }
          ],
          "carpet": [
           {
            "aaxis": {
             "endlinecolor": "#2a3f5f",
             "gridcolor": "white",
             "linecolor": "white",
             "minorgridcolor": "white",
             "startlinecolor": "#2a3f5f"
            },
            "baxis": {
             "endlinecolor": "#2a3f5f",
             "gridcolor": "white",
             "linecolor": "white",
             "minorgridcolor": "white",
             "startlinecolor": "#2a3f5f"
            },
            "type": "carpet"
           }
          ],
          "choropleth": [
           {
            "colorbar": {
             "outlinewidth": 0,
             "ticks": ""
            },
            "type": "choropleth"
           }
          ],
          "contour": [
           {
            "colorbar": {
             "outlinewidth": 0,
             "ticks": ""
            },
            "colorscale": [
             [
              0,
              "#0d0887"
             ],
             [
              0.1111111111111111,
              "#46039f"
             ],
             [
              0.2222222222222222,
              "#7201a8"
             ],
             [
              0.3333333333333333,
              "#9c179e"
             ],
             [
              0.4444444444444444,
              "#bd3786"
             ],
             [
              0.5555555555555556,
              "#d8576b"
             ],
             [
              0.6666666666666666,
              "#ed7953"
             ],
             [
              0.7777777777777778,
              "#fb9f3a"
             ],
             [
              0.8888888888888888,
              "#fdca26"
             ],
             [
              1,
              "#f0f921"
             ]
            ],
            "type": "contour"
           }
          ],
          "contourcarpet": [
           {
            "colorbar": {
             "outlinewidth": 0,
             "ticks": ""
            },
            "type": "contourcarpet"
           }
          ],
          "heatmap": [
           {
            "colorbar": {
             "outlinewidth": 0,
             "ticks": ""
            },
            "colorscale": [
             [
              0,
              "#0d0887"
             ],
             [
              0.1111111111111111,
              "#46039f"
             ],
             [
              0.2222222222222222,
              "#7201a8"
             ],
             [
              0.3333333333333333,
              "#9c179e"
             ],
             [
              0.4444444444444444,
              "#bd3786"
             ],
             [
              0.5555555555555556,
              "#d8576b"
             ],
             [
              0.6666666666666666,
              "#ed7953"
             ],
             [
              0.7777777777777778,
              "#fb9f3a"
             ],
             [
              0.8888888888888888,
              "#fdca26"
             ],
             [
              1,
              "#f0f921"
             ]
            ],
            "type": "heatmap"
           }
          ],
          "heatmapgl": [
           {
            "colorbar": {
             "outlinewidth": 0,
             "ticks": ""
            },
            "colorscale": [
             [
              0,
              "#0d0887"
             ],
             [
              0.1111111111111111,
              "#46039f"
             ],
             [
              0.2222222222222222,
              "#7201a8"
             ],
             [
              0.3333333333333333,
              "#9c179e"
             ],
             [
              0.4444444444444444,
              "#bd3786"
             ],
             [
              0.5555555555555556,
              "#d8576b"
             ],
             [
              0.6666666666666666,
              "#ed7953"
             ],
             [
              0.7777777777777778,
              "#fb9f3a"
             ],
             [
              0.8888888888888888,
              "#fdca26"
             ],
             [
              1,
              "#f0f921"
             ]
            ],
            "type": "heatmapgl"
           }
          ],
          "histogram": [
           {
            "marker": {
             "pattern": {
              "fillmode": "overlay",
              "size": 10,
              "solidity": 0.2
             }
            },
            "type": "histogram"
           }
          ],
          "histogram2d": [
           {
            "colorbar": {
             "outlinewidth": 0,
             "ticks": ""
            },
            "colorscale": [
             [
              0,
              "#0d0887"
             ],
             [
              0.1111111111111111,
              "#46039f"
             ],
             [
              0.2222222222222222,
              "#7201a8"
             ],
             [
              0.3333333333333333,
              "#9c179e"
             ],
             [
              0.4444444444444444,
              "#bd3786"
             ],
             [
              0.5555555555555556,
              "#d8576b"
             ],
             [
              0.6666666666666666,
              "#ed7953"
             ],
             [
              0.7777777777777778,
              "#fb9f3a"
             ],
             [
              0.8888888888888888,
              "#fdca26"
             ],
             [
              1,
              "#f0f921"
             ]
            ],
            "type": "histogram2d"
           }
          ],
          "histogram2dcontour": [
           {
            "colorbar": {
             "outlinewidth": 0,
             "ticks": ""
            },
            "colorscale": [
             [
              0,
              "#0d0887"
             ],
             [
              0.1111111111111111,
              "#46039f"
             ],
             [
              0.2222222222222222,
              "#7201a8"
             ],
             [
              0.3333333333333333,
              "#9c179e"
             ],
             [
              0.4444444444444444,
              "#bd3786"
             ],
             [
              0.5555555555555556,
              "#d8576b"
             ],
             [
              0.6666666666666666,
              "#ed7953"
             ],
             [
              0.7777777777777778,
              "#fb9f3a"
             ],
             [
              0.8888888888888888,
              "#fdca26"
             ],
             [
              1,
              "#f0f921"
             ]
            ],
            "type": "histogram2dcontour"
           }
          ],
          "mesh3d": [
           {
            "colorbar": {
             "outlinewidth": 0,
             "ticks": ""
            },
            "type": "mesh3d"
           }
          ],
          "parcoords": [
           {
            "line": {
             "colorbar": {
              "outlinewidth": 0,
              "ticks": ""
             }
            },
            "type": "parcoords"
           }
          ],
          "pie": [
           {
            "automargin": true,
            "type": "pie"
           }
          ],
          "scatter": [
           {
            "fillpattern": {
             "fillmode": "overlay",
             "size": 10,
             "solidity": 0.2
            },
            "type": "scatter"
           }
          ],
          "scatter3d": [
           {
            "line": {
             "colorbar": {
              "outlinewidth": 0,
              "ticks": ""
             }
            },
            "marker": {
             "colorbar": {
              "outlinewidth": 0,
              "ticks": ""
             }
            },
            "type": "scatter3d"
           }
          ],
          "scattercarpet": [
           {
            "marker": {
             "colorbar": {
              "outlinewidth": 0,
              "ticks": ""
             }
            },
            "type": "scattercarpet"
           }
          ],
          "scattergeo": [
           {
            "marker": {
             "colorbar": {
              "outlinewidth": 0,
              "ticks": ""
             }
            },
            "type": "scattergeo"
           }
          ],
          "scattergl": [
           {
            "marker": {
             "colorbar": {
              "outlinewidth": 0,
              "ticks": ""
             }
            },
            "type": "scattergl"
           }
          ],
          "scattermapbox": [
           {
            "marker": {
             "colorbar": {
              "outlinewidth": 0,
              "ticks": ""
             }
            },
            "type": "scattermapbox"
           }
          ],
          "scatterpolar": [
           {
            "marker": {
             "colorbar": {
              "outlinewidth": 0,
              "ticks": ""
             }
            },
            "type": "scatterpolar"
           }
          ],
          "scatterpolargl": [
           {
            "marker": {
             "colorbar": {
              "outlinewidth": 0,
              "ticks": ""
             }
            },
            "type": "scatterpolargl"
           }
          ],
          "scatterternary": [
           {
            "marker": {
             "colorbar": {
              "outlinewidth": 0,
              "ticks": ""
             }
            },
            "type": "scatterternary"
           }
          ],
          "surface": [
           {
            "colorbar": {
             "outlinewidth": 0,
             "ticks": ""
            },
            "colorscale": [
             [
              0,
              "#0d0887"
             ],
             [
              0.1111111111111111,
              "#46039f"
             ],
             [
              0.2222222222222222,
              "#7201a8"
             ],
             [
              0.3333333333333333,
              "#9c179e"
             ],
             [
              0.4444444444444444,
              "#bd3786"
             ],
             [
              0.5555555555555556,
              "#d8576b"
             ],
             [
              0.6666666666666666,
              "#ed7953"
             ],
             [
              0.7777777777777778,
              "#fb9f3a"
             ],
             [
              0.8888888888888888,
              "#fdca26"
             ],
             [
              1,
              "#f0f921"
             ]
            ],
            "type": "surface"
           }
          ],
          "table": [
           {
            "cells": {
             "fill": {
              "color": "#EBF0F8"
             },
             "line": {
              "color": "white"
             }
            },
            "header": {
             "fill": {
              "color": "#C8D4E3"
             },
             "line": {
              "color": "white"
             }
            },
            "type": "table"
           }
          ]
         },
         "layout": {
          "annotationdefaults": {
           "arrowcolor": "#2a3f5f",
           "arrowhead": 0,
           "arrowwidth": 1
          },
          "autotypenumbers": "strict",
          "coloraxis": {
           "colorbar": {
            "outlinewidth": 0,
            "ticks": ""
           }
          },
          "colorscale": {
           "diverging": [
            [
             0,
             "#8e0152"
            ],
            [
             0.1,
             "#c51b7d"
            ],
            [
             0.2,
             "#de77ae"
            ],
            [
             0.3,
             "#f1b6da"
            ],
            [
             0.4,
             "#fde0ef"
            ],
            [
             0.5,
             "#f7f7f7"
            ],
            [
             0.6,
             "#e6f5d0"
            ],
            [
             0.7,
             "#b8e186"
            ],
            [
             0.8,
             "#7fbc41"
            ],
            [
             0.9,
             "#4d9221"
            ],
            [
             1,
             "#276419"
            ]
           ],
           "sequential": [
            [
             0,
             "#0d0887"
            ],
            [
             0.1111111111111111,
             "#46039f"
            ],
            [
             0.2222222222222222,
             "#7201a8"
            ],
            [
             0.3333333333333333,
             "#9c179e"
            ],
            [
             0.4444444444444444,
             "#bd3786"
            ],
            [
             0.5555555555555556,
             "#d8576b"
            ],
            [
             0.6666666666666666,
             "#ed7953"
            ],
            [
             0.7777777777777778,
             "#fb9f3a"
            ],
            [
             0.8888888888888888,
             "#fdca26"
            ],
            [
             1,
             "#f0f921"
            ]
           ],
           "sequentialminus": [
            [
             0,
             "#0d0887"
            ],
            [
             0.1111111111111111,
             "#46039f"
            ],
            [
             0.2222222222222222,
             "#7201a8"
            ],
            [
             0.3333333333333333,
             "#9c179e"
            ],
            [
             0.4444444444444444,
             "#bd3786"
            ],
            [
             0.5555555555555556,
             "#d8576b"
            ],
            [
             0.6666666666666666,
             "#ed7953"
            ],
            [
             0.7777777777777778,
             "#fb9f3a"
            ],
            [
             0.8888888888888888,
             "#fdca26"
            ],
            [
             1,
             "#f0f921"
            ]
           ]
          },
          "colorway": [
           "#636efa",
           "#EF553B",
           "#00cc96",
           "#ab63fa",
           "#FFA15A",
           "#19d3f3",
           "#FF6692",
           "#B6E880",
           "#FF97FF",
           "#FECB52"
          ],
          "font": {
           "color": "#2a3f5f"
          },
          "geo": {
           "bgcolor": "white",
           "lakecolor": "white",
           "landcolor": "#E5ECF6",
           "showlakes": true,
           "showland": true,
           "subunitcolor": "white"
          },
          "hoverlabel": {
           "align": "left"
          },
          "hovermode": "closest",
          "mapbox": {
           "style": "light"
          },
          "paper_bgcolor": "white",
          "plot_bgcolor": "#E5ECF6",
          "polar": {
           "angularaxis": {
            "gridcolor": "white",
            "linecolor": "white",
            "ticks": ""
           },
           "bgcolor": "#E5ECF6",
           "radialaxis": {
            "gridcolor": "white",
            "linecolor": "white",
            "ticks": ""
           }
          },
          "scene": {
           "xaxis": {
            "backgroundcolor": "#E5ECF6",
            "gridcolor": "white",
            "gridwidth": 2,
            "linecolor": "white",
            "showbackground": true,
            "ticks": "",
            "zerolinecolor": "white"
           },
           "yaxis": {
            "backgroundcolor": "#E5ECF6",
            "gridcolor": "white",
            "gridwidth": 2,
            "linecolor": "white",
            "showbackground": true,
            "ticks": "",
            "zerolinecolor": "white"
           },
           "zaxis": {
            "backgroundcolor": "#E5ECF6",
            "gridcolor": "white",
            "gridwidth": 2,
            "linecolor": "white",
            "showbackground": true,
            "ticks": "",
            "zerolinecolor": "white"
           }
          },
          "shapedefaults": {
           "line": {
            "color": "#2a3f5f"
           }
          },
          "ternary": {
           "aaxis": {
            "gridcolor": "white",
            "linecolor": "white",
            "ticks": ""
           },
           "baxis": {
            "gridcolor": "white",
            "linecolor": "white",
            "ticks": ""
           },
           "bgcolor": "#E5ECF6",
           "caxis": {
            "gridcolor": "white",
            "linecolor": "white",
            "ticks": ""
           }
          },
          "title": {
           "x": 0.05
          },
          "xaxis": {
           "automargin": true,
           "gridcolor": "white",
           "linecolor": "white",
           "ticks": "",
           "title": {
            "standoff": 15
           },
           "zerolinecolor": "white",
           "zerolinewidth": 2
          },
          "yaxis": {
           "automargin": true,
           "gridcolor": "white",
           "linecolor": "white",
           "ticks": "",
           "title": {
            "standoff": 15
           },
           "zerolinecolor": "white",
           "zerolinewidth": 2
          }
         }
        }
       }
      }
     },
     "metadata": {},
     "output_type": "display_data"
    }
   ],
   "source": [
    "fig = go.Figure(go.Funnel(\n",
    "    y = MostFrequentWordDF1['Word'].tolist(),\n",
    "    x = MostFrequentWordDF1['Count'].tolist(),\n",
    "    marker = {\"color\": [\"Salmon\", \"PaleVioletRed\", \"LightSalmon\", \"Moccasin\", \"Lavender\", \"DarkOliveGreen\", \"Turquoise\", \"Chocolate\", \"MistyRose\", \"Gainsboro\"]}))\n",
    "fig.show()"
   ]
  },
  {
   "cell_type": "code",
   "execution_count": 20,
   "metadata": {},
   "outputs": [
    {
     "data": {
      "application/vnd.plotly.v1+json": {
       "config": {
        "plotlyServerURL": "https://plot.ly"
       },
       "data": [
        {
         "alignmentgroup": "True",
         "hovertemplate": "Word=%{x}<br>Count=%{y}<extra></extra>",
         "legendgroup": "",
         "marker": {
          "color": "#636efa",
          "pattern": {
           "shape": ""
          }
         },
         "name": "",
         "offsetgroup": "",
         "orientation": "v",
         "showlegend": false,
         "textposition": "auto",
         "type": "bar",
         "x": [
          ".",
          "I",
          "the",
          "and",
          ",",
          "a",
          "it",
          "to",
          "!",
          "is"
         ],
         "xaxis": "x",
         "y": [
          84780,
          43277,
          43231,
          36735,
          31502,
          30602,
          28488,
          22909,
          22189,
          17957
         ],
         "yaxis": "y"
        }
       ],
       "layout": {
        "barmode": "relative",
        "legend": {
         "tracegroupgap": 0
        },
        "margin": {
         "t": 60
        },
        "template": {
         "data": {
          "bar": [
           {
            "error_x": {
             "color": "#2a3f5f"
            },
            "error_y": {
             "color": "#2a3f5f"
            },
            "marker": {
             "line": {
              "color": "#E5ECF6",
              "width": 0.5
             },
             "pattern": {
              "fillmode": "overlay",
              "size": 10,
              "solidity": 0.2
             }
            },
            "type": "bar"
           }
          ],
          "barpolar": [
           {
            "marker": {
             "line": {
              "color": "#E5ECF6",
              "width": 0.5
             },
             "pattern": {
              "fillmode": "overlay",
              "size": 10,
              "solidity": 0.2
             }
            },
            "type": "barpolar"
           }
          ],
          "carpet": [
           {
            "aaxis": {
             "endlinecolor": "#2a3f5f",
             "gridcolor": "white",
             "linecolor": "white",
             "minorgridcolor": "white",
             "startlinecolor": "#2a3f5f"
            },
            "baxis": {
             "endlinecolor": "#2a3f5f",
             "gridcolor": "white",
             "linecolor": "white",
             "minorgridcolor": "white",
             "startlinecolor": "#2a3f5f"
            },
            "type": "carpet"
           }
          ],
          "choropleth": [
           {
            "colorbar": {
             "outlinewidth": 0,
             "ticks": ""
            },
            "type": "choropleth"
           }
          ],
          "contour": [
           {
            "colorbar": {
             "outlinewidth": 0,
             "ticks": ""
            },
            "colorscale": [
             [
              0,
              "#0d0887"
             ],
             [
              0.1111111111111111,
              "#46039f"
             ],
             [
              0.2222222222222222,
              "#7201a8"
             ],
             [
              0.3333333333333333,
              "#9c179e"
             ],
             [
              0.4444444444444444,
              "#bd3786"
             ],
             [
              0.5555555555555556,
              "#d8576b"
             ],
             [
              0.6666666666666666,
              "#ed7953"
             ],
             [
              0.7777777777777778,
              "#fb9f3a"
             ],
             [
              0.8888888888888888,
              "#fdca26"
             ],
             [
              1,
              "#f0f921"
             ]
            ],
            "type": "contour"
           }
          ],
          "contourcarpet": [
           {
            "colorbar": {
             "outlinewidth": 0,
             "ticks": ""
            },
            "type": "contourcarpet"
           }
          ],
          "heatmap": [
           {
            "colorbar": {
             "outlinewidth": 0,
             "ticks": ""
            },
            "colorscale": [
             [
              0,
              "#0d0887"
             ],
             [
              0.1111111111111111,
              "#46039f"
             ],
             [
              0.2222222222222222,
              "#7201a8"
             ],
             [
              0.3333333333333333,
              "#9c179e"
             ],
             [
              0.4444444444444444,
              "#bd3786"
             ],
             [
              0.5555555555555556,
              "#d8576b"
             ],
             [
              0.6666666666666666,
              "#ed7953"
             ],
             [
              0.7777777777777778,
              "#fb9f3a"
             ],
             [
              0.8888888888888888,
              "#fdca26"
             ],
             [
              1,
              "#f0f921"
             ]
            ],
            "type": "heatmap"
           }
          ],
          "heatmapgl": [
           {
            "colorbar": {
             "outlinewidth": 0,
             "ticks": ""
            },
            "colorscale": [
             [
              0,
              "#0d0887"
             ],
             [
              0.1111111111111111,
              "#46039f"
             ],
             [
              0.2222222222222222,
              "#7201a8"
             ],
             [
              0.3333333333333333,
              "#9c179e"
             ],
             [
              0.4444444444444444,
              "#bd3786"
             ],
             [
              0.5555555555555556,
              "#d8576b"
             ],
             [
              0.6666666666666666,
              "#ed7953"
             ],
             [
              0.7777777777777778,
              "#fb9f3a"
             ],
             [
              0.8888888888888888,
              "#fdca26"
             ],
             [
              1,
              "#f0f921"
             ]
            ],
            "type": "heatmapgl"
           }
          ],
          "histogram": [
           {
            "marker": {
             "pattern": {
              "fillmode": "overlay",
              "size": 10,
              "solidity": 0.2
             }
            },
            "type": "histogram"
           }
          ],
          "histogram2d": [
           {
            "colorbar": {
             "outlinewidth": 0,
             "ticks": ""
            },
            "colorscale": [
             [
              0,
              "#0d0887"
             ],
             [
              0.1111111111111111,
              "#46039f"
             ],
             [
              0.2222222222222222,
              "#7201a8"
             ],
             [
              0.3333333333333333,
              "#9c179e"
             ],
             [
              0.4444444444444444,
              "#bd3786"
             ],
             [
              0.5555555555555556,
              "#d8576b"
             ],
             [
              0.6666666666666666,
              "#ed7953"
             ],
             [
              0.7777777777777778,
              "#fb9f3a"
             ],
             [
              0.8888888888888888,
              "#fdca26"
             ],
             [
              1,
              "#f0f921"
             ]
            ],
            "type": "histogram2d"
           }
          ],
          "histogram2dcontour": [
           {
            "colorbar": {
             "outlinewidth": 0,
             "ticks": ""
            },
            "colorscale": [
             [
              0,
              "#0d0887"
             ],
             [
              0.1111111111111111,
              "#46039f"
             ],
             [
              0.2222222222222222,
              "#7201a8"
             ],
             [
              0.3333333333333333,
              "#9c179e"
             ],
             [
              0.4444444444444444,
              "#bd3786"
             ],
             [
              0.5555555555555556,
              "#d8576b"
             ],
             [
              0.6666666666666666,
              "#ed7953"
             ],
             [
              0.7777777777777778,
              "#fb9f3a"
             ],
             [
              0.8888888888888888,
              "#fdca26"
             ],
             [
              1,
              "#f0f921"
             ]
            ],
            "type": "histogram2dcontour"
           }
          ],
          "mesh3d": [
           {
            "colorbar": {
             "outlinewidth": 0,
             "ticks": ""
            },
            "type": "mesh3d"
           }
          ],
          "parcoords": [
           {
            "line": {
             "colorbar": {
              "outlinewidth": 0,
              "ticks": ""
             }
            },
            "type": "parcoords"
           }
          ],
          "pie": [
           {
            "automargin": true,
            "type": "pie"
           }
          ],
          "scatter": [
           {
            "fillpattern": {
             "fillmode": "overlay",
             "size": 10,
             "solidity": 0.2
            },
            "type": "scatter"
           }
          ],
          "scatter3d": [
           {
            "line": {
             "colorbar": {
              "outlinewidth": 0,
              "ticks": ""
             }
            },
            "marker": {
             "colorbar": {
              "outlinewidth": 0,
              "ticks": ""
             }
            },
            "type": "scatter3d"
           }
          ],
          "scattercarpet": [
           {
            "marker": {
             "colorbar": {
              "outlinewidth": 0,
              "ticks": ""
             }
            },
            "type": "scattercarpet"
           }
          ],
          "scattergeo": [
           {
            "marker": {
             "colorbar": {
              "outlinewidth": 0,
              "ticks": ""
             }
            },
            "type": "scattergeo"
           }
          ],
          "scattergl": [
           {
            "marker": {
             "colorbar": {
              "outlinewidth": 0,
              "ticks": ""
             }
            },
            "type": "scattergl"
           }
          ],
          "scattermapbox": [
           {
            "marker": {
             "colorbar": {
              "outlinewidth": 0,
              "ticks": ""
             }
            },
            "type": "scattermapbox"
           }
          ],
          "scatterpolar": [
           {
            "marker": {
             "colorbar": {
              "outlinewidth": 0,
              "ticks": ""
             }
            },
            "type": "scatterpolar"
           }
          ],
          "scatterpolargl": [
           {
            "marker": {
             "colorbar": {
              "outlinewidth": 0,
              "ticks": ""
             }
            },
            "type": "scatterpolargl"
           }
          ],
          "scatterternary": [
           {
            "marker": {
             "colorbar": {
              "outlinewidth": 0,
              "ticks": ""
             }
            },
            "type": "scatterternary"
           }
          ],
          "surface": [
           {
            "colorbar": {
             "outlinewidth": 0,
             "ticks": ""
            },
            "colorscale": [
             [
              0,
              "#0d0887"
             ],
             [
              0.1111111111111111,
              "#46039f"
             ],
             [
              0.2222222222222222,
              "#7201a8"
             ],
             [
              0.3333333333333333,
              "#9c179e"
             ],
             [
              0.4444444444444444,
              "#bd3786"
             ],
             [
              0.5555555555555556,
              "#d8576b"
             ],
             [
              0.6666666666666666,
              "#ed7953"
             ],
             [
              0.7777777777777778,
              "#fb9f3a"
             ],
             [
              0.8888888888888888,
              "#fdca26"
             ],
             [
              1,
              "#f0f921"
             ]
            ],
            "type": "surface"
           }
          ],
          "table": [
           {
            "cells": {
             "fill": {
              "color": "#EBF0F8"
             },
             "line": {
              "color": "white"
             }
            },
            "header": {
             "fill": {
              "color": "#C8D4E3"
             },
             "line": {
              "color": "white"
             }
            },
            "type": "table"
           }
          ]
         },
         "layout": {
          "annotationdefaults": {
           "arrowcolor": "#2a3f5f",
           "arrowhead": 0,
           "arrowwidth": 1
          },
          "autotypenumbers": "strict",
          "coloraxis": {
           "colorbar": {
            "outlinewidth": 0,
            "ticks": ""
           }
          },
          "colorscale": {
           "diverging": [
            [
             0,
             "#8e0152"
            ],
            [
             0.1,
             "#c51b7d"
            ],
            [
             0.2,
             "#de77ae"
            ],
            [
             0.3,
             "#f1b6da"
            ],
            [
             0.4,
             "#fde0ef"
            ],
            [
             0.5,
             "#f7f7f7"
            ],
            [
             0.6,
             "#e6f5d0"
            ],
            [
             0.7,
             "#b8e186"
            ],
            [
             0.8,
             "#7fbc41"
            ],
            [
             0.9,
             "#4d9221"
            ],
            [
             1,
             "#276419"
            ]
           ],
           "sequential": [
            [
             0,
             "#0d0887"
            ],
            [
             0.1111111111111111,
             "#46039f"
            ],
            [
             0.2222222222222222,
             "#7201a8"
            ],
            [
             0.3333333333333333,
             "#9c179e"
            ],
            [
             0.4444444444444444,
             "#bd3786"
            ],
            [
             0.5555555555555556,
             "#d8576b"
            ],
            [
             0.6666666666666666,
             "#ed7953"
            ],
            [
             0.7777777777777778,
             "#fb9f3a"
            ],
            [
             0.8888888888888888,
             "#fdca26"
            ],
            [
             1,
             "#f0f921"
            ]
           ],
           "sequentialminus": [
            [
             0,
             "#0d0887"
            ],
            [
             0.1111111111111111,
             "#46039f"
            ],
            [
             0.2222222222222222,
             "#7201a8"
            ],
            [
             0.3333333333333333,
             "#9c179e"
            ],
            [
             0.4444444444444444,
             "#bd3786"
            ],
            [
             0.5555555555555556,
             "#d8576b"
            ],
            [
             0.6666666666666666,
             "#ed7953"
            ],
            [
             0.7777777777777778,
             "#fb9f3a"
            ],
            [
             0.8888888888888888,
             "#fdca26"
            ],
            [
             1,
             "#f0f921"
            ]
           ]
          },
          "colorway": [
           "#636efa",
           "#EF553B",
           "#00cc96",
           "#ab63fa",
           "#FFA15A",
           "#19d3f3",
           "#FF6692",
           "#B6E880",
           "#FF97FF",
           "#FECB52"
          ],
          "font": {
           "color": "#2a3f5f"
          },
          "geo": {
           "bgcolor": "white",
           "lakecolor": "white",
           "landcolor": "#E5ECF6",
           "showlakes": true,
           "showland": true,
           "subunitcolor": "white"
          },
          "hoverlabel": {
           "align": "left"
          },
          "hovermode": "closest",
          "mapbox": {
           "style": "light"
          },
          "paper_bgcolor": "white",
          "plot_bgcolor": "#E5ECF6",
          "polar": {
           "angularaxis": {
            "gridcolor": "white",
            "linecolor": "white",
            "ticks": ""
           },
           "bgcolor": "#E5ECF6",
           "radialaxis": {
            "gridcolor": "white",
            "linecolor": "white",
            "ticks": ""
           }
          },
          "scene": {
           "xaxis": {
            "backgroundcolor": "#E5ECF6",
            "gridcolor": "white",
            "gridwidth": 2,
            "linecolor": "white",
            "showbackground": true,
            "ticks": "",
            "zerolinecolor": "white"
           },
           "yaxis": {
            "backgroundcolor": "#E5ECF6",
            "gridcolor": "white",
            "gridwidth": 2,
            "linecolor": "white",
            "showbackground": true,
            "ticks": "",
            "zerolinecolor": "white"
           },
           "zaxis": {
            "backgroundcolor": "#E5ECF6",
            "gridcolor": "white",
            "gridwidth": 2,
            "linecolor": "white",
            "showbackground": true,
            "ticks": "",
            "zerolinecolor": "white"
           }
          },
          "shapedefaults": {
           "line": {
            "color": "#2a3f5f"
           }
          },
          "ternary": {
           "aaxis": {
            "gridcolor": "white",
            "linecolor": "white",
            "ticks": ""
           },
           "baxis": {
            "gridcolor": "white",
            "linecolor": "white",
            "ticks": ""
           },
           "bgcolor": "#E5ECF6",
           "caxis": {
            "gridcolor": "white",
            "linecolor": "white",
            "ticks": ""
           }
          },
          "title": {
           "x": 0.05
          },
          "xaxis": {
           "automargin": true,
           "gridcolor": "white",
           "linecolor": "white",
           "ticks": "",
           "title": {
            "standoff": 15
           },
           "zerolinecolor": "white",
           "zerolinewidth": 2
          },
          "yaxis": {
           "automargin": true,
           "gridcolor": "white",
           "linecolor": "white",
           "ticks": "",
           "title": {
            "standoff": 15
           },
           "zerolinecolor": "white",
           "zerolinewidth": 2
          }
         }
        },
        "xaxis": {
         "anchor": "y",
         "domain": [
          0,
          1
         ],
         "title": {
          "text": "Word"
         }
        },
        "yaxis": {
         "anchor": "x",
         "domain": [
          0,
          1
         ],
         "title": {
          "text": "Count"
         }
        }
       }
      }
     },
     "metadata": {},
     "output_type": "display_data"
    }
   ],
   "source": [
    "fig = px.bar(MostFrequentWordDF1, x='Word', y='Count')\n",
    "fig.show()"
   ]
  },
  {
   "cell_type": "markdown",
   "metadata": {},
   "source": [
    "# POS Tagging (Parts of Speech Tagging)"
   ]
  },
  {
   "cell_type": "code",
   "execution_count": 21,
   "metadata": {},
   "outputs": [
    {
     "data": {
      "text/html": [
       "<div>\n",
       "<style scoped>\n",
       "    .dataframe tbody tr th:only-of-type {\n",
       "        vertical-align: middle;\n",
       "    }\n",
       "\n",
       "    .dataframe tbody tr th {\n",
       "        vertical-align: top;\n",
       "    }\n",
       "\n",
       "    .dataframe thead th {\n",
       "        text-align: right;\n",
       "    }\n",
       "</style>\n",
       "<table border=\"1\" class=\"dataframe\">\n",
       "  <thead>\n",
       "    <tr style=\"text-align: right;\">\n",
       "      <th></th>\n",
       "      <th>Sentiment</th>\n",
       "      <th>Review</th>\n",
       "      <th>Tokenized</th>\n",
       "      <th>Number of Words1</th>\n",
       "      <th>Number of Charachters1</th>\n",
       "      <th>Tagged</th>\n",
       "    </tr>\n",
       "  </thead>\n",
       "  <tbody>\n",
       "    <tr>\n",
       "      <th>0</th>\n",
       "      <td>Positive</td>\n",
       "      <td>Just what I needed for a party</td>\n",
       "      <td>[Just, what, I, needed, for, a, party]</td>\n",
       "      <td>7</td>\n",
       "      <td>30</td>\n",
       "      <td>[(Just, RB), (what, WP), (I, PRP), (needed, VB...</td>\n",
       "    </tr>\n",
       "    <tr>\n",
       "      <th>1</th>\n",
       "      <td>Positive</td>\n",
       "      <td>Son loves it.  Decent quality.</td>\n",
       "      <td>[Son, loves, it, ., Decent, quality, .]</td>\n",
       "      <td>7</td>\n",
       "      <td>30</td>\n",
       "      <td>[(Son, NNP), (loves, VBZ), (it, PRP), (., .), ...</td>\n",
       "    </tr>\n",
       "    <tr>\n",
       "      <th>2</th>\n",
       "      <td>Positive</td>\n",
       "      <td>My son wanted to dress like August Pullman fro...</td>\n",
       "      <td>[My, son, wanted, to, dress, like, August, Pul...</td>\n",
       "      <td>18</td>\n",
       "      <td>92</td>\n",
       "      <td>[(My, PRP$), (son, NN), (wanted, VBD), (to, TO...</td>\n",
       "    </tr>\n",
       "    <tr>\n",
       "      <th>3</th>\n",
       "      <td>Positive</td>\n",
       "      <td>awesome.</td>\n",
       "      <td>[awesome, .]</td>\n",
       "      <td>2</td>\n",
       "      <td>8</td>\n",
       "      <td>[(awesome, NN), (., .)]</td>\n",
       "    </tr>\n",
       "    <tr>\n",
       "      <th>4</th>\n",
       "      <td>Positive</td>\n",
       "      <td>My daughter loves this item. My high score is ...</td>\n",
       "      <td>[My, daughter, loves, this, item, ., My, high,...</td>\n",
       "      <td>61</td>\n",
       "      <td>243</td>\n",
       "      <td>[(My, PRP$), (daughter, NN), (loves, VBZ), (th...</td>\n",
       "    </tr>\n",
       "    <tr>\n",
       "      <th>...</th>\n",
       "      <td>...</td>\n",
       "      <td>...</td>\n",
       "      <td>...</td>\n",
       "      <td>...</td>\n",
       "      <td>...</td>\n",
       "      <td>...</td>\n",
       "    </tr>\n",
       "    <tr>\n",
       "      <th>50372</th>\n",
       "      <td>Positive</td>\n",
       "      <td>What I wanted.</td>\n",
       "      <td>[What, I, wanted, .]</td>\n",
       "      <td>4</td>\n",
       "      <td>14</td>\n",
       "      <td>[(What, WP), (I, PRP), (wanted, VBD), (., .)]</td>\n",
       "    </tr>\n",
       "    <tr>\n",
       "      <th>50373</th>\n",
       "      <td>Positive</td>\n",
       "      <td>Husband loves it, as he always dreamed of goin...</td>\n",
       "      <td>[Husband, loves, it, ,, as, he, always, dreame...</td>\n",
       "      <td>18</td>\n",
       "      <td>80</td>\n",
       "      <td>[(Husband, NNP), (loves, VBZ), (it, PRP), (,, ...</td>\n",
       "    </tr>\n",
       "    <tr>\n",
       "      <th>50374</th>\n",
       "      <td>Negative</td>\n",
       "      <td>Ugh. This shirt looked so good online, it look...</td>\n",
       "      <td>[Ugh, ., This, shirt, looked, so, good, online...</td>\n",
       "      <td>37</td>\n",
       "      <td>165</td>\n",
       "      <td>[(Ugh, NNP), (., .), (This, DT), (shirt, NN), ...</td>\n",
       "    </tr>\n",
       "    <tr>\n",
       "      <th>50375</th>\n",
       "      <td>Positive</td>\n",
       "      <td>Very comfortable to wear</td>\n",
       "      <td>[Very, comfortable, to, wear]</td>\n",
       "      <td>4</td>\n",
       "      <td>24</td>\n",
       "      <td>[(Very, RB), (comfortable, JJ), (to, TO), (wea...</td>\n",
       "    </tr>\n",
       "    <tr>\n",
       "      <th>50376</th>\n",
       "      <td>Positive</td>\n",
       "      <td>Love it love it love it</td>\n",
       "      <td>[Love, it, love, it, love, it]</td>\n",
       "      <td>6</td>\n",
       "      <td>23</td>\n",
       "      <td>[(Love, VB), (it, PRP), (love, VB), (it, PRP),...</td>\n",
       "    </tr>\n",
       "  </tbody>\n",
       "</table>\n",
       "<p>50377 rows × 6 columns</p>\n",
       "</div>"
      ],
      "text/plain": [
       "      Sentiment                                             Review  \\\n",
       "0      Positive                     Just what I needed for a party   \n",
       "1      Positive                     Son loves it.  Decent quality.   \n",
       "2      Positive  My son wanted to dress like August Pullman fro...   \n",
       "3      Positive                                           awesome.   \n",
       "4      Positive  My daughter loves this item. My high score is ...   \n",
       "...         ...                                                ...   \n",
       "50372  Positive                                     What I wanted.   \n",
       "50373  Positive  Husband loves it, as he always dreamed of goin...   \n",
       "50374  Negative  Ugh. This shirt looked so good online, it look...   \n",
       "50375  Positive                           Very comfortable to wear   \n",
       "50376  Positive                            Love it love it love it   \n",
       "\n",
       "                                               Tokenized  Number of Words1  \\\n",
       "0                 [Just, what, I, needed, for, a, party]                 7   \n",
       "1                [Son, loves, it, ., Decent, quality, .]                 7   \n",
       "2      [My, son, wanted, to, dress, like, August, Pul...                18   \n",
       "3                                           [awesome, .]                 2   \n",
       "4      [My, daughter, loves, this, item, ., My, high,...                61   \n",
       "...                                                  ...               ...   \n",
       "50372                               [What, I, wanted, .]                 4   \n",
       "50373  [Husband, loves, it, ,, as, he, always, dreame...                18   \n",
       "50374  [Ugh, ., This, shirt, looked, so, good, online...                37   \n",
       "50375                      [Very, comfortable, to, wear]                 4   \n",
       "50376                     [Love, it, love, it, love, it]                 6   \n",
       "\n",
       "       Number of Charachters1  \\\n",
       "0                          30   \n",
       "1                          30   \n",
       "2                          92   \n",
       "3                           8   \n",
       "4                         243   \n",
       "...                       ...   \n",
       "50372                      14   \n",
       "50373                      80   \n",
       "50374                     165   \n",
       "50375                      24   \n",
       "50376                      23   \n",
       "\n",
       "                                                  Tagged  \n",
       "0      [(Just, RB), (what, WP), (I, PRP), (needed, VB...  \n",
       "1      [(Son, NNP), (loves, VBZ), (it, PRP), (., .), ...  \n",
       "2      [(My, PRP$), (son, NN), (wanted, VBD), (to, TO...  \n",
       "3                                [(awesome, NN), (., .)]  \n",
       "4      [(My, PRP$), (daughter, NN), (loves, VBZ), (th...  \n",
       "...                                                  ...  \n",
       "50372      [(What, WP), (I, PRP), (wanted, VBD), (., .)]  \n",
       "50373  [(Husband, NNP), (loves, VBZ), (it, PRP), (,, ...  \n",
       "50374  [(Ugh, NNP), (., .), (This, DT), (shirt, NN), ...  \n",
       "50375  [(Very, RB), (comfortable, JJ), (to, TO), (wea...  \n",
       "50376  [(Love, VB), (it, PRP), (love, VB), (it, PRP),...  \n",
       "\n",
       "[50377 rows x 6 columns]"
      ]
     },
     "execution_count": 21,
     "metadata": {},
     "output_type": "execute_result"
    }
   ],
   "source": [
    "Corpus['Tagged'] = Corpus['Tokenized'].apply(pos_tag)\n",
    "Corpus.reset_index(inplace=True, drop=True)\n",
    "Corpus"
   ]
  },
  {
   "cell_type": "markdown",
   "metadata": {},
   "source": [
    "# Bigrams"
   ]
  },
  {
   "cell_type": "code",
   "execution_count": 22,
   "metadata": {},
   "outputs": [
    {
     "data": {
      "text/plain": [
       "[('Great', 'for'),\n",
       " ('for', 'my'),\n",
       " ('my', '11'),\n",
       " ('11', 'mo'),\n",
       " ('mo', 'old'),\n",
       " ('old', 'with'),\n",
       " ('with', 'a'),\n",
       " ('a', 'big'),\n",
       " ('big', 'head-'),\n",
       " ('head-', 'adjustable'),\n",
       " ('adjustable', 'too'),\n",
       " ('too', '!')]"
      ]
     },
     "execution_count": 22,
     "metadata": {},
     "output_type": "execute_result"
    }
   ],
   "source": [
    "Corpus['Bigrams'] = Corpus['Tokenized'].apply(lambda x: list(nltk.bigrams(x)))\n",
    "Corpus['Bigrams'][1000]"
   ]
  },
  {
   "cell_type": "markdown",
   "metadata": {},
   "source": [
    "# Trigrams"
   ]
  },
  {
   "cell_type": "code",
   "execution_count": 23,
   "metadata": {},
   "outputs": [
    {
     "data": {
      "text/plain": [
       "[('Great', 'for', 'my'),\n",
       " ('for', 'my', '11'),\n",
       " ('my', '11', 'mo'),\n",
       " ('11', 'mo', 'old'),\n",
       " ('mo', 'old', 'with'),\n",
       " ('old', 'with', 'a'),\n",
       " ('with', 'a', 'big'),\n",
       " ('a', 'big', 'head-'),\n",
       " ('big', 'head-', 'adjustable'),\n",
       " ('head-', 'adjustable', 'too'),\n",
       " ('adjustable', 'too', '!')]"
      ]
     },
     "execution_count": 23,
     "metadata": {},
     "output_type": "execute_result"
    }
   ],
   "source": [
    "Corpus['Trigrams'] = Corpus['Tokenized'].apply(lambda x: list(nltk.trigrams(x)))\n",
    "Corpus['Trigrams'][1000]"
   ]
  },
  {
   "cell_type": "markdown",
   "metadata": {},
   "source": [
    "# Ngrams"
   ]
  },
  {
   "cell_type": "code",
   "execution_count": 24,
   "metadata": {},
   "outputs": [
    {
     "data": {
      "text/plain": [
       "[('Great', 'for', 'my', '11'),\n",
       " ('for', 'my', '11', 'mo'),\n",
       " ('my', '11', 'mo', 'old'),\n",
       " ('11', 'mo', 'old', 'with'),\n",
       " ('mo', 'old', 'with', 'a'),\n",
       " ('old', 'with', 'a', 'big'),\n",
       " ('with', 'a', 'big', 'head-'),\n",
       " ('a', 'big', 'head-', 'adjustable'),\n",
       " ('big', 'head-', 'adjustable', 'too'),\n",
       " ('head-', 'adjustable', 'too', '!')]"
      ]
     },
     "execution_count": 24,
     "metadata": {},
     "output_type": "execute_result"
    }
   ],
   "source": [
    "Corpus['Ngrams'] = Corpus['Tokenized'].apply(lambda x: list(nltk.ngrams(x, 4)))\n",
    "Corpus['Ngrams'][1000]"
   ]
  },
  {
   "cell_type": "markdown",
   "metadata": {},
   "source": [
    "# Text Normalization"
   ]
  },
  {
   "cell_type": "code",
   "execution_count": 25,
   "metadata": {},
   "outputs": [],
   "source": [
    "def convert_emojis(text):\n",
    "     text = emoji.demojize(text)   \n",
    "     return text\n",
    "def contraction_expand(text):\n",
    "     text = contractions.fix(text)     \n",
    "     return text\n",
    "def remove_puncuation_special_charchater(text):\n",
    "       punctuations = '`؛،؟.,÷-' + string.punctuation\n",
    "       text = text.translate(text.maketrans('', '', punctuations))\n",
    "       return text                                                           \n",
    "def remove_whitespace(text):\n",
    "     text = text.replace('  ', ' ')\n",
    "     return text \n",
    "def remove_new_line_char(text):\n",
    "     text = text.replace('\\n', '')\n",
    "     return text   \n",
    "def remove_number(text):\n",
    "     text = ''.join([i for i in text if not i.isdigit()])\n",
    "     return text\n",
    "def remove_url(text):\n",
    "     text = re.sub(r\"http\\S+\", '', text)\n",
    "     return text\n",
    "def remove_html_tags(text):\n",
    "    text = re.sub(\"<.*?>\", \"\", text)\n",
    "    return text\n",
    "def remove_non_english(text):\n",
    "    ascii_chars = set(string.printable)\n",
    "    text = ''.join(filter(lambda x: x in ascii_chars, text))\n",
    "    return text\n",
    "def remove_stop_words(text):\n",
    "     stop_words = stopwords.words('english')\n",
    "     text = text.split() \n",
    "     text = ([word for word in text if word not in stop_words])\n",
    "     return text\n",
    "def lemmatizer_(text):\n",
    "       lemmatizer = WordNetLemmatizer()                                                  \n",
    "       text = [lemmatizer.lemmatize(word) for word in text]  \n",
    "       return text"
   ]
  },
  {
   "cell_type": "code",
   "execution_count": 26,
   "metadata": {},
   "outputs": [],
   "source": [
    "def text_normalization(text):\n",
    "    text = str(text)\n",
    "    text = text.lower() \n",
    "    text = convert_emojis(text)\n",
    "    text = contraction_expand(text)\n",
    "    text = remove_url(text)\n",
    "    text = remove_whitespace(text)\n",
    "    text = remove_new_line_char(text)\n",
    "    text = remove_html_tags(text)\n",
    "    text = remove_puncuation_special_charchater(text)\n",
    "    text = remove_number(text)\n",
    "    text = remove_non_english(text)\n",
    "    text = remove_stop_words(text)\n",
    "    text = lemmatizer_(text)\n",
    "    return ' '.join(text)"
   ]
  },
  {
   "cell_type": "code",
   "execution_count": 27,
   "metadata": {},
   "outputs": [],
   "source": [
    "Corpus['Normalized_Review'] =Corpus['Tokenized'].apply(text_normalization)"
   ]
  },
  {
   "cell_type": "code",
   "execution_count": 28,
   "metadata": {},
   "outputs": [
    {
     "data": {
      "text/html": [
       "<div>\n",
       "<style scoped>\n",
       "    .dataframe tbody tr th:only-of-type {\n",
       "        vertical-align: middle;\n",
       "    }\n",
       "\n",
       "    .dataframe tbody tr th {\n",
       "        vertical-align: top;\n",
       "    }\n",
       "\n",
       "    .dataframe thead th {\n",
       "        text-align: right;\n",
       "    }\n",
       "</style>\n",
       "<table border=\"1\" class=\"dataframe\">\n",
       "  <thead>\n",
       "    <tr style=\"text-align: right;\">\n",
       "      <th></th>\n",
       "      <th>Sentiment</th>\n",
       "      <th>Review</th>\n",
       "      <th>Tokenized</th>\n",
       "      <th>Number of Words1</th>\n",
       "      <th>Number of Charachters1</th>\n",
       "      <th>Tagged</th>\n",
       "      <th>Bigrams</th>\n",
       "      <th>Trigrams</th>\n",
       "      <th>Ngrams</th>\n",
       "      <th>Normalized_Review</th>\n",
       "    </tr>\n",
       "  </thead>\n",
       "  <tbody>\n",
       "    <tr>\n",
       "      <th>0</th>\n",
       "      <td>Positive</td>\n",
       "      <td>Just what I needed for a party</td>\n",
       "      <td>[Just, what, I, needed, for, a, party]</td>\n",
       "      <td>7</td>\n",
       "      <td>30</td>\n",
       "      <td>[(Just, RB), (what, WP), (I, PRP), (needed, VB...</td>\n",
       "      <td>[(Just, what), (what, I), (I, needed), (needed...</td>\n",
       "      <td>[(Just, what, I), (what, I, needed), (I, neede...</td>\n",
       "      <td>[(Just, what, I, needed), (what, I, needed, fo...</td>\n",
       "      <td>needed party</td>\n",
       "    </tr>\n",
       "    <tr>\n",
       "      <th>1</th>\n",
       "      <td>Positive</td>\n",
       "      <td>Son loves it.  Decent quality.</td>\n",
       "      <td>[Son, loves, it, ., Decent, quality, .]</td>\n",
       "      <td>7</td>\n",
       "      <td>30</td>\n",
       "      <td>[(Son, NNP), (loves, VBZ), (it, PRP), (., .), ...</td>\n",
       "      <td>[(Son, loves), (loves, it), (it, .), (., Decen...</td>\n",
       "      <td>[(Son, loves, it), (loves, it, .), (it, ., Dec...</td>\n",
       "      <td>[(Son, loves, it, .), (loves, it, ., Decent), ...</td>\n",
       "      <td>son love decent quality</td>\n",
       "    </tr>\n",
       "    <tr>\n",
       "      <th>2</th>\n",
       "      <td>Positive</td>\n",
       "      <td>My son wanted to dress like August Pullman fro...</td>\n",
       "      <td>[My, son, wanted, to, dress, like, August, Pul...</td>\n",
       "      <td>18</td>\n",
       "      <td>92</td>\n",
       "      <td>[(My, PRP$), (son, NN), (wanted, VBD), (to, TO...</td>\n",
       "      <td>[(My, son), (son, wanted), (wanted, to), (to, ...</td>\n",
       "      <td>[(My, son, wanted), (son, wanted, to), (wanted...</td>\n",
       "      <td>[(My, son, wanted, to), (son, wanted, to, dres...</td>\n",
       "      <td>son wanted dress like august pullman wonder li...</td>\n",
       "    </tr>\n",
       "    <tr>\n",
       "      <th>3</th>\n",
       "      <td>Positive</td>\n",
       "      <td>awesome.</td>\n",
       "      <td>[awesome, .]</td>\n",
       "      <td>2</td>\n",
       "      <td>8</td>\n",
       "      <td>[(awesome, NN), (., .)]</td>\n",
       "      <td>[(awesome, .)]</td>\n",
       "      <td>[]</td>\n",
       "      <td>[]</td>\n",
       "      <td>awesome</td>\n",
       "    </tr>\n",
       "    <tr>\n",
       "      <th>4</th>\n",
       "      <td>Positive</td>\n",
       "      <td>My daughter loves this item. My high score is ...</td>\n",
       "      <td>[My, daughter, loves, this, item, ., My, high,...</td>\n",
       "      <td>61</td>\n",
       "      <td>243</td>\n",
       "      <td>[(My, PRP$), (daughter, NN), (loves, VBZ), (th...</td>\n",
       "      <td>[(My, daughter), (daughter, loves), (loves, th...</td>\n",
       "      <td>[(My, daughter, loves), (daughter, loves, this...</td>\n",
       "      <td>[(My, daughter, loves, this), (daughter, loves...</td>\n",
       "      <td>daughter love item high score based feedback t...</td>\n",
       "    </tr>\n",
       "    <tr>\n",
       "      <th>...</th>\n",
       "      <td>...</td>\n",
       "      <td>...</td>\n",
       "      <td>...</td>\n",
       "      <td>...</td>\n",
       "      <td>...</td>\n",
       "      <td>...</td>\n",
       "      <td>...</td>\n",
       "      <td>...</td>\n",
       "      <td>...</td>\n",
       "      <td>...</td>\n",
       "    </tr>\n",
       "    <tr>\n",
       "      <th>50372</th>\n",
       "      <td>Positive</td>\n",
       "      <td>What I wanted.</td>\n",
       "      <td>[What, I, wanted, .]</td>\n",
       "      <td>4</td>\n",
       "      <td>14</td>\n",
       "      <td>[(What, WP), (I, PRP), (wanted, VBD), (., .)]</td>\n",
       "      <td>[(What, I), (I, wanted), (wanted, .)]</td>\n",
       "      <td>[(What, I, wanted), (I, wanted, .)]</td>\n",
       "      <td>[(What, I, wanted, .)]</td>\n",
       "      <td>wanted</td>\n",
       "    </tr>\n",
       "    <tr>\n",
       "      <th>50373</th>\n",
       "      <td>Positive</td>\n",
       "      <td>Husband loves it, as he always dreamed of goin...</td>\n",
       "      <td>[Husband, loves, it, ,, as, he, always, dreame...</td>\n",
       "      <td>18</td>\n",
       "      <td>80</td>\n",
       "      <td>[(Husband, NNP), (loves, VBZ), (it, PRP), (,, ...</td>\n",
       "      <td>[(Husband, loves), (loves, it), (it, ,), (,, a...</td>\n",
       "      <td>[(Husband, loves, it), (loves, it, ,), (it, ,,...</td>\n",
       "      <td>[(Husband, loves, it, ,), (loves, it, ,, as), ...</td>\n",
       "      <td>husband love always dreamed going princeton fa...</td>\n",
       "    </tr>\n",
       "    <tr>\n",
       "      <th>50374</th>\n",
       "      <td>Negative</td>\n",
       "      <td>Ugh. This shirt looked so good online, it look...</td>\n",
       "      <td>[Ugh, ., This, shirt, looked, so, good, online...</td>\n",
       "      <td>37</td>\n",
       "      <td>165</td>\n",
       "      <td>[(Ugh, NNP), (., .), (This, DT), (shirt, NN), ...</td>\n",
       "      <td>[(Ugh, .), (., This), (This, shirt), (shirt, l...</td>\n",
       "      <td>[(Ugh, ., This), (., This, shirt), (This, shir...</td>\n",
       "      <td>[(Ugh, ., This, shirt), (., This, shirt, looke...</td>\n",
       "      <td>ugh shirt looked good online look much differe...</td>\n",
       "    </tr>\n",
       "    <tr>\n",
       "      <th>50375</th>\n",
       "      <td>Positive</td>\n",
       "      <td>Very comfortable to wear</td>\n",
       "      <td>[Very, comfortable, to, wear]</td>\n",
       "      <td>4</td>\n",
       "      <td>24</td>\n",
       "      <td>[(Very, RB), (comfortable, JJ), (to, TO), (wea...</td>\n",
       "      <td>[(Very, comfortable), (comfortable, to), (to, ...</td>\n",
       "      <td>[(Very, comfortable, to), (comfortable, to, we...</td>\n",
       "      <td>[(Very, comfortable, to, wear)]</td>\n",
       "      <td>comfortable wear</td>\n",
       "    </tr>\n",
       "    <tr>\n",
       "      <th>50376</th>\n",
       "      <td>Positive</td>\n",
       "      <td>Love it love it love it</td>\n",
       "      <td>[Love, it, love, it, love, it]</td>\n",
       "      <td>6</td>\n",
       "      <td>23</td>\n",
       "      <td>[(Love, VB), (it, PRP), (love, VB), (it, PRP),...</td>\n",
       "      <td>[(Love, it), (it, love), (love, it), (it, love...</td>\n",
       "      <td>[(Love, it, love), (it, love, it), (love, it, ...</td>\n",
       "      <td>[(Love, it, love, it), (it, love, it, love), (...</td>\n",
       "      <td>love love love</td>\n",
       "    </tr>\n",
       "  </tbody>\n",
       "</table>\n",
       "<p>50377 rows × 10 columns</p>\n",
       "</div>"
      ],
      "text/plain": [
       "      Sentiment                                             Review  \\\n",
       "0      Positive                     Just what I needed for a party   \n",
       "1      Positive                     Son loves it.  Decent quality.   \n",
       "2      Positive  My son wanted to dress like August Pullman fro...   \n",
       "3      Positive                                           awesome.   \n",
       "4      Positive  My daughter loves this item. My high score is ...   \n",
       "...         ...                                                ...   \n",
       "50372  Positive                                     What I wanted.   \n",
       "50373  Positive  Husband loves it, as he always dreamed of goin...   \n",
       "50374  Negative  Ugh. This shirt looked so good online, it look...   \n",
       "50375  Positive                           Very comfortable to wear   \n",
       "50376  Positive                            Love it love it love it   \n",
       "\n",
       "                                               Tokenized  Number of Words1  \\\n",
       "0                 [Just, what, I, needed, for, a, party]                 7   \n",
       "1                [Son, loves, it, ., Decent, quality, .]                 7   \n",
       "2      [My, son, wanted, to, dress, like, August, Pul...                18   \n",
       "3                                           [awesome, .]                 2   \n",
       "4      [My, daughter, loves, this, item, ., My, high,...                61   \n",
       "...                                                  ...               ...   \n",
       "50372                               [What, I, wanted, .]                 4   \n",
       "50373  [Husband, loves, it, ,, as, he, always, dreame...                18   \n",
       "50374  [Ugh, ., This, shirt, looked, so, good, online...                37   \n",
       "50375                      [Very, comfortable, to, wear]                 4   \n",
       "50376                     [Love, it, love, it, love, it]                 6   \n",
       "\n",
       "       Number of Charachters1  \\\n",
       "0                          30   \n",
       "1                          30   \n",
       "2                          92   \n",
       "3                           8   \n",
       "4                         243   \n",
       "...                       ...   \n",
       "50372                      14   \n",
       "50373                      80   \n",
       "50374                     165   \n",
       "50375                      24   \n",
       "50376                      23   \n",
       "\n",
       "                                                  Tagged  \\\n",
       "0      [(Just, RB), (what, WP), (I, PRP), (needed, VB...   \n",
       "1      [(Son, NNP), (loves, VBZ), (it, PRP), (., .), ...   \n",
       "2      [(My, PRP$), (son, NN), (wanted, VBD), (to, TO...   \n",
       "3                                [(awesome, NN), (., .)]   \n",
       "4      [(My, PRP$), (daughter, NN), (loves, VBZ), (th...   \n",
       "...                                                  ...   \n",
       "50372      [(What, WP), (I, PRP), (wanted, VBD), (., .)]   \n",
       "50373  [(Husband, NNP), (loves, VBZ), (it, PRP), (,, ...   \n",
       "50374  [(Ugh, NNP), (., .), (This, DT), (shirt, NN), ...   \n",
       "50375  [(Very, RB), (comfortable, JJ), (to, TO), (wea...   \n",
       "50376  [(Love, VB), (it, PRP), (love, VB), (it, PRP),...   \n",
       "\n",
       "                                                 Bigrams  \\\n",
       "0      [(Just, what), (what, I), (I, needed), (needed...   \n",
       "1      [(Son, loves), (loves, it), (it, .), (., Decen...   \n",
       "2      [(My, son), (son, wanted), (wanted, to), (to, ...   \n",
       "3                                         [(awesome, .)]   \n",
       "4      [(My, daughter), (daughter, loves), (loves, th...   \n",
       "...                                                  ...   \n",
       "50372              [(What, I), (I, wanted), (wanted, .)]   \n",
       "50373  [(Husband, loves), (loves, it), (it, ,), (,, a...   \n",
       "50374  [(Ugh, .), (., This), (This, shirt), (shirt, l...   \n",
       "50375  [(Very, comfortable), (comfortable, to), (to, ...   \n",
       "50376  [(Love, it), (it, love), (love, it), (it, love...   \n",
       "\n",
       "                                                Trigrams  \\\n",
       "0      [(Just, what, I), (what, I, needed), (I, neede...   \n",
       "1      [(Son, loves, it), (loves, it, .), (it, ., Dec...   \n",
       "2      [(My, son, wanted), (son, wanted, to), (wanted...   \n",
       "3                                                     []   \n",
       "4      [(My, daughter, loves), (daughter, loves, this...   \n",
       "...                                                  ...   \n",
       "50372                [(What, I, wanted), (I, wanted, .)]   \n",
       "50373  [(Husband, loves, it), (loves, it, ,), (it, ,,...   \n",
       "50374  [(Ugh, ., This), (., This, shirt), (This, shir...   \n",
       "50375  [(Very, comfortable, to), (comfortable, to, we...   \n",
       "50376  [(Love, it, love), (it, love, it), (love, it, ...   \n",
       "\n",
       "                                                  Ngrams  \\\n",
       "0      [(Just, what, I, needed), (what, I, needed, fo...   \n",
       "1      [(Son, loves, it, .), (loves, it, ., Decent), ...   \n",
       "2      [(My, son, wanted, to), (son, wanted, to, dres...   \n",
       "3                                                     []   \n",
       "4      [(My, daughter, loves, this), (daughter, loves...   \n",
       "...                                                  ...   \n",
       "50372                             [(What, I, wanted, .)]   \n",
       "50373  [(Husband, loves, it, ,), (loves, it, ,, as), ...   \n",
       "50374  [(Ugh, ., This, shirt), (., This, shirt, looke...   \n",
       "50375                    [(Very, comfortable, to, wear)]   \n",
       "50376  [(Love, it, love, it), (it, love, it, love), (...   \n",
       "\n",
       "                                       Normalized_Review  \n",
       "0                                           needed party  \n",
       "1                                son love decent quality  \n",
       "2      son wanted dress like august pullman wonder li...  \n",
       "3                                                awesome  \n",
       "4      daughter love item high score based feedback t...  \n",
       "...                                                  ...  \n",
       "50372                                             wanted  \n",
       "50373  husband love always dreamed going princeton fa...  \n",
       "50374  ugh shirt looked good online look much differe...  \n",
       "50375                                   comfortable wear  \n",
       "50376                                     love love love  \n",
       "\n",
       "[50377 rows x 10 columns]"
      ]
     },
     "execution_count": 28,
     "metadata": {},
     "output_type": "execute_result"
    }
   ],
   "source": [
    "Corpus"
   ]
  },
  {
   "cell_type": "markdown",
   "metadata": {},
   "source": [
    "# Number Of Words After Text Normalization"
   ]
  },
  {
   "cell_type": "code",
   "execution_count": 29,
   "metadata": {},
   "outputs": [
    {
     "data": {
      "text/plain": [
       "590468"
      ]
     },
     "execution_count": 29,
     "metadata": {},
     "output_type": "execute_result"
    }
   ],
   "source": [
    "Corpus[\"Number of Words2\"] = Corpus[\"Normalized_Review\"].apply(lambda n:len(n.split( )))\n",
    "Corpus[\"Number of Words2\"].sum()"
   ]
  },
  {
   "cell_type": "markdown",
   "metadata": {},
   "source": [
    "# Number Of Charachters After Text Normalization"
   ]
  },
  {
   "cell_type": "code",
   "execution_count": 30,
   "metadata": {},
   "outputs": [
    {
     "data": {
      "text/plain": [
       "6201348"
      ]
     },
     "execution_count": 30,
     "metadata": {},
     "output_type": "execute_result"
    }
   ],
   "source": [
    "Corpus[\"Number of Charachters2\"] = Corpus[\"Review\"].str.len()\n",
    "Corpus[\"Number of Charachters2\"].sum()"
   ]
  },
  {
   "cell_type": "markdown",
   "metadata": {},
   "source": [
    "# Number Of Sentences After Text Normalization"
   ]
  },
  {
   "cell_type": "code",
   "execution_count": 31,
   "metadata": {},
   "outputs": [
    {
     "data": {
      "text/plain": [
       "50304"
      ]
     },
     "execution_count": 31,
     "metadata": {},
     "output_type": "execute_result"
    }
   ],
   "source": [
    "NumberOfTexts2 = Corpus['Normalized_Review'].apply(lambda n:len(sent_tokenize(n)))\n",
    "NumberOfTexts2.sum()"
   ]
  },
  {
   "cell_type": "markdown",
   "metadata": {},
   "source": [
    "# Average Number Of Words After Text Normalization"
   ]
  },
  {
   "cell_type": "code",
   "execution_count": 32,
   "metadata": {},
   "outputs": [
    {
     "data": {
      "text/plain": [
       "12"
      ]
     },
     "execution_count": 32,
     "metadata": {},
     "output_type": "execute_result"
    }
   ],
   "source": [
    "AverageNaumberOfWords2 = round(Corpus[\"Number of Words2\"].mean())\n",
    "AverageNaumberOfWords2"
   ]
  },
  {
   "cell_type": "markdown",
   "metadata": {},
   "source": [
    "# Average Number Of Charachters After Text Normalization"
   ]
  },
  {
   "cell_type": "code",
   "execution_count": 33,
   "metadata": {},
   "outputs": [
    {
     "data": {
      "text/plain": [
       "123"
      ]
     },
     "execution_count": 33,
     "metadata": {},
     "output_type": "execute_result"
    }
   ],
   "source": [
    "AverageNumberOfCharachters2 = round(Corpus[\"Number of Charachters2\"].mean())\n",
    "AverageNumberOfCharachters2"
   ]
  },
  {
   "cell_type": "markdown",
   "metadata": {},
   "source": [
    "# Most Frequent Words After Text Normalization"
   ]
  },
  {
   "cell_type": "code",
   "execution_count": 34,
   "metadata": {},
   "outputs": [
    {
     "data": {
      "text/html": [
       "<div>\n",
       "<style scoped>\n",
       "    .dataframe tbody tr th:only-of-type {\n",
       "        vertical-align: middle;\n",
       "    }\n",
       "\n",
       "    .dataframe tbody tr th {\n",
       "        vertical-align: top;\n",
       "    }\n",
       "\n",
       "    .dataframe thead th {\n",
       "        text-align: right;\n",
       "    }\n",
       "</style>\n",
       "<table border=\"1\" class=\"dataframe\">\n",
       "  <thead>\n",
       "    <tr style=\"text-align: right;\">\n",
       "      <th></th>\n",
       "      <th>Word</th>\n",
       "      <th>Count</th>\n",
       "    </tr>\n",
       "  </thead>\n",
       "  <tbody>\n",
       "    <tr>\n",
       "      <th>0</th>\n",
       "      <td>fit</td>\n",
       "      <td>11225</td>\n",
       "    </tr>\n",
       "    <tr>\n",
       "      <th>1</th>\n",
       "      <td>love</td>\n",
       "      <td>9639</td>\n",
       "    </tr>\n",
       "    <tr>\n",
       "      <th>2</th>\n",
       "      <td>great</td>\n",
       "      <td>9012</td>\n",
       "    </tr>\n",
       "    <tr>\n",
       "      <th>3</th>\n",
       "      <td>nt</td>\n",
       "      <td>7634</td>\n",
       "    </tr>\n",
       "    <tr>\n",
       "      <th>4</th>\n",
       "      <td>size</td>\n",
       "      <td>7230</td>\n",
       "    </tr>\n",
       "    <tr>\n",
       "      <th>5</th>\n",
       "      <td>like</td>\n",
       "      <td>6589</td>\n",
       "    </tr>\n",
       "    <tr>\n",
       "      <th>6</th>\n",
       "      <td>good</td>\n",
       "      <td>5314</td>\n",
       "    </tr>\n",
       "    <tr>\n",
       "      <th>7</th>\n",
       "      <td>quality</td>\n",
       "      <td>5071</td>\n",
       "    </tr>\n",
       "    <tr>\n",
       "      <th>8</th>\n",
       "      <td>would</td>\n",
       "      <td>5068</td>\n",
       "    </tr>\n",
       "    <tr>\n",
       "      <th>9</th>\n",
       "      <td>look</td>\n",
       "      <td>5049</td>\n",
       "    </tr>\n",
       "  </tbody>\n",
       "</table>\n",
       "</div>"
      ],
      "text/plain": [
       "      Word  Count\n",
       "0      fit  11225\n",
       "1     love   9639\n",
       "2    great   9012\n",
       "3       nt   7634\n",
       "4     size   7230\n",
       "5     like   6589\n",
       "6     good   5314\n",
       "7  quality   5071\n",
       "8    would   5068\n",
       "9     look   5049"
      ]
     },
     "execution_count": 34,
     "metadata": {},
     "output_type": "execute_result"
    }
   ],
   "source": [
    "MostFrequentWord2 = Counter((Corpus['Normalized_Review']).str.split().explode()).most_common(10)\n",
    "MostFrequentWordDF2 = pd.DataFrame(MostFrequentWord2, columns=('Word', 'Count'))\n",
    "MostFrequentWordDF2"
   ]
  },
  {
   "cell_type": "code",
   "execution_count": 35,
   "metadata": {},
   "outputs": [
    {
     "data": {
      "application/vnd.plotly.v1+json": {
       "config": {
        "plotlyServerURL": "https://plot.ly"
       },
       "data": [
        {
         "marker": {
          "color": [
           "Salmon",
           "PaleVioletRed",
           "LightSalmon",
           "Moccasin",
           "Lavender",
           "DarkOliveGreen",
           "Turquoise",
           "Chocolate",
           "MistyRose",
           "Gainsboro"
          ]
         },
         "type": "funnel",
         "x": [
          11225,
          9639,
          9012,
          7634,
          7230,
          6589,
          5314,
          5071,
          5068,
          5049
         ],
         "y": [
          "fit",
          "love",
          "great",
          "nt",
          "size",
          "like",
          "good",
          "quality",
          "would",
          "look"
         ]
        }
       ],
       "layout": {
        "template": {
         "data": {
          "bar": [
           {
            "error_x": {
             "color": "#2a3f5f"
            },
            "error_y": {
             "color": "#2a3f5f"
            },
            "marker": {
             "line": {
              "color": "#E5ECF6",
              "width": 0.5
             },
             "pattern": {
              "fillmode": "overlay",
              "size": 10,
              "solidity": 0.2
             }
            },
            "type": "bar"
           }
          ],
          "barpolar": [
           {
            "marker": {
             "line": {
              "color": "#E5ECF6",
              "width": 0.5
             },
             "pattern": {
              "fillmode": "overlay",
              "size": 10,
              "solidity": 0.2
             }
            },
            "type": "barpolar"
           }
          ],
          "carpet": [
           {
            "aaxis": {
             "endlinecolor": "#2a3f5f",
             "gridcolor": "white",
             "linecolor": "white",
             "minorgridcolor": "white",
             "startlinecolor": "#2a3f5f"
            },
            "baxis": {
             "endlinecolor": "#2a3f5f",
             "gridcolor": "white",
             "linecolor": "white",
             "minorgridcolor": "white",
             "startlinecolor": "#2a3f5f"
            },
            "type": "carpet"
           }
          ],
          "choropleth": [
           {
            "colorbar": {
             "outlinewidth": 0,
             "ticks": ""
            },
            "type": "choropleth"
           }
          ],
          "contour": [
           {
            "colorbar": {
             "outlinewidth": 0,
             "ticks": ""
            },
            "colorscale": [
             [
              0,
              "#0d0887"
             ],
             [
              0.1111111111111111,
              "#46039f"
             ],
             [
              0.2222222222222222,
              "#7201a8"
             ],
             [
              0.3333333333333333,
              "#9c179e"
             ],
             [
              0.4444444444444444,
              "#bd3786"
             ],
             [
              0.5555555555555556,
              "#d8576b"
             ],
             [
              0.6666666666666666,
              "#ed7953"
             ],
             [
              0.7777777777777778,
              "#fb9f3a"
             ],
             [
              0.8888888888888888,
              "#fdca26"
             ],
             [
              1,
              "#f0f921"
             ]
            ],
            "type": "contour"
           }
          ],
          "contourcarpet": [
           {
            "colorbar": {
             "outlinewidth": 0,
             "ticks": ""
            },
            "type": "contourcarpet"
           }
          ],
          "heatmap": [
           {
            "colorbar": {
             "outlinewidth": 0,
             "ticks": ""
            },
            "colorscale": [
             [
              0,
              "#0d0887"
             ],
             [
              0.1111111111111111,
              "#46039f"
             ],
             [
              0.2222222222222222,
              "#7201a8"
             ],
             [
              0.3333333333333333,
              "#9c179e"
             ],
             [
              0.4444444444444444,
              "#bd3786"
             ],
             [
              0.5555555555555556,
              "#d8576b"
             ],
             [
              0.6666666666666666,
              "#ed7953"
             ],
             [
              0.7777777777777778,
              "#fb9f3a"
             ],
             [
              0.8888888888888888,
              "#fdca26"
             ],
             [
              1,
              "#f0f921"
             ]
            ],
            "type": "heatmap"
           }
          ],
          "heatmapgl": [
           {
            "colorbar": {
             "outlinewidth": 0,
             "ticks": ""
            },
            "colorscale": [
             [
              0,
              "#0d0887"
             ],
             [
              0.1111111111111111,
              "#46039f"
             ],
             [
              0.2222222222222222,
              "#7201a8"
             ],
             [
              0.3333333333333333,
              "#9c179e"
             ],
             [
              0.4444444444444444,
              "#bd3786"
             ],
             [
              0.5555555555555556,
              "#d8576b"
             ],
             [
              0.6666666666666666,
              "#ed7953"
             ],
             [
              0.7777777777777778,
              "#fb9f3a"
             ],
             [
              0.8888888888888888,
              "#fdca26"
             ],
             [
              1,
              "#f0f921"
             ]
            ],
            "type": "heatmapgl"
           }
          ],
          "histogram": [
           {
            "marker": {
             "pattern": {
              "fillmode": "overlay",
              "size": 10,
              "solidity": 0.2
             }
            },
            "type": "histogram"
           }
          ],
          "histogram2d": [
           {
            "colorbar": {
             "outlinewidth": 0,
             "ticks": ""
            },
            "colorscale": [
             [
              0,
              "#0d0887"
             ],
             [
              0.1111111111111111,
              "#46039f"
             ],
             [
              0.2222222222222222,
              "#7201a8"
             ],
             [
              0.3333333333333333,
              "#9c179e"
             ],
             [
              0.4444444444444444,
              "#bd3786"
             ],
             [
              0.5555555555555556,
              "#d8576b"
             ],
             [
              0.6666666666666666,
              "#ed7953"
             ],
             [
              0.7777777777777778,
              "#fb9f3a"
             ],
             [
              0.8888888888888888,
              "#fdca26"
             ],
             [
              1,
              "#f0f921"
             ]
            ],
            "type": "histogram2d"
           }
          ],
          "histogram2dcontour": [
           {
            "colorbar": {
             "outlinewidth": 0,
             "ticks": ""
            },
            "colorscale": [
             [
              0,
              "#0d0887"
             ],
             [
              0.1111111111111111,
              "#46039f"
             ],
             [
              0.2222222222222222,
              "#7201a8"
             ],
             [
              0.3333333333333333,
              "#9c179e"
             ],
             [
              0.4444444444444444,
              "#bd3786"
             ],
             [
              0.5555555555555556,
              "#d8576b"
             ],
             [
              0.6666666666666666,
              "#ed7953"
             ],
             [
              0.7777777777777778,
              "#fb9f3a"
             ],
             [
              0.8888888888888888,
              "#fdca26"
             ],
             [
              1,
              "#f0f921"
             ]
            ],
            "type": "histogram2dcontour"
           }
          ],
          "mesh3d": [
           {
            "colorbar": {
             "outlinewidth": 0,
             "ticks": ""
            },
            "type": "mesh3d"
           }
          ],
          "parcoords": [
           {
            "line": {
             "colorbar": {
              "outlinewidth": 0,
              "ticks": ""
             }
            },
            "type": "parcoords"
           }
          ],
          "pie": [
           {
            "automargin": true,
            "type": "pie"
           }
          ],
          "scatter": [
           {
            "fillpattern": {
             "fillmode": "overlay",
             "size": 10,
             "solidity": 0.2
            },
            "type": "scatter"
           }
          ],
          "scatter3d": [
           {
            "line": {
             "colorbar": {
              "outlinewidth": 0,
              "ticks": ""
             }
            },
            "marker": {
             "colorbar": {
              "outlinewidth": 0,
              "ticks": ""
             }
            },
            "type": "scatter3d"
           }
          ],
          "scattercarpet": [
           {
            "marker": {
             "colorbar": {
              "outlinewidth": 0,
              "ticks": ""
             }
            },
            "type": "scattercarpet"
           }
          ],
          "scattergeo": [
           {
            "marker": {
             "colorbar": {
              "outlinewidth": 0,
              "ticks": ""
             }
            },
            "type": "scattergeo"
           }
          ],
          "scattergl": [
           {
            "marker": {
             "colorbar": {
              "outlinewidth": 0,
              "ticks": ""
             }
            },
            "type": "scattergl"
           }
          ],
          "scattermapbox": [
           {
            "marker": {
             "colorbar": {
              "outlinewidth": 0,
              "ticks": ""
             }
            },
            "type": "scattermapbox"
           }
          ],
          "scatterpolar": [
           {
            "marker": {
             "colorbar": {
              "outlinewidth": 0,
              "ticks": ""
             }
            },
            "type": "scatterpolar"
           }
          ],
          "scatterpolargl": [
           {
            "marker": {
             "colorbar": {
              "outlinewidth": 0,
              "ticks": ""
             }
            },
            "type": "scatterpolargl"
           }
          ],
          "scatterternary": [
           {
            "marker": {
             "colorbar": {
              "outlinewidth": 0,
              "ticks": ""
             }
            },
            "type": "scatterternary"
           }
          ],
          "surface": [
           {
            "colorbar": {
             "outlinewidth": 0,
             "ticks": ""
            },
            "colorscale": [
             [
              0,
              "#0d0887"
             ],
             [
              0.1111111111111111,
              "#46039f"
             ],
             [
              0.2222222222222222,
              "#7201a8"
             ],
             [
              0.3333333333333333,
              "#9c179e"
             ],
             [
              0.4444444444444444,
              "#bd3786"
             ],
             [
              0.5555555555555556,
              "#d8576b"
             ],
             [
              0.6666666666666666,
              "#ed7953"
             ],
             [
              0.7777777777777778,
              "#fb9f3a"
             ],
             [
              0.8888888888888888,
              "#fdca26"
             ],
             [
              1,
              "#f0f921"
             ]
            ],
            "type": "surface"
           }
          ],
          "table": [
           {
            "cells": {
             "fill": {
              "color": "#EBF0F8"
             },
             "line": {
              "color": "white"
             }
            },
            "header": {
             "fill": {
              "color": "#C8D4E3"
             },
             "line": {
              "color": "white"
             }
            },
            "type": "table"
           }
          ]
         },
         "layout": {
          "annotationdefaults": {
           "arrowcolor": "#2a3f5f",
           "arrowhead": 0,
           "arrowwidth": 1
          },
          "autotypenumbers": "strict",
          "coloraxis": {
           "colorbar": {
            "outlinewidth": 0,
            "ticks": ""
           }
          },
          "colorscale": {
           "diverging": [
            [
             0,
             "#8e0152"
            ],
            [
             0.1,
             "#c51b7d"
            ],
            [
             0.2,
             "#de77ae"
            ],
            [
             0.3,
             "#f1b6da"
            ],
            [
             0.4,
             "#fde0ef"
            ],
            [
             0.5,
             "#f7f7f7"
            ],
            [
             0.6,
             "#e6f5d0"
            ],
            [
             0.7,
             "#b8e186"
            ],
            [
             0.8,
             "#7fbc41"
            ],
            [
             0.9,
             "#4d9221"
            ],
            [
             1,
             "#276419"
            ]
           ],
           "sequential": [
            [
             0,
             "#0d0887"
            ],
            [
             0.1111111111111111,
             "#46039f"
            ],
            [
             0.2222222222222222,
             "#7201a8"
            ],
            [
             0.3333333333333333,
             "#9c179e"
            ],
            [
             0.4444444444444444,
             "#bd3786"
            ],
            [
             0.5555555555555556,
             "#d8576b"
            ],
            [
             0.6666666666666666,
             "#ed7953"
            ],
            [
             0.7777777777777778,
             "#fb9f3a"
            ],
            [
             0.8888888888888888,
             "#fdca26"
            ],
            [
             1,
             "#f0f921"
            ]
           ],
           "sequentialminus": [
            [
             0,
             "#0d0887"
            ],
            [
             0.1111111111111111,
             "#46039f"
            ],
            [
             0.2222222222222222,
             "#7201a8"
            ],
            [
             0.3333333333333333,
             "#9c179e"
            ],
            [
             0.4444444444444444,
             "#bd3786"
            ],
            [
             0.5555555555555556,
             "#d8576b"
            ],
            [
             0.6666666666666666,
             "#ed7953"
            ],
            [
             0.7777777777777778,
             "#fb9f3a"
            ],
            [
             0.8888888888888888,
             "#fdca26"
            ],
            [
             1,
             "#f0f921"
            ]
           ]
          },
          "colorway": [
           "#636efa",
           "#EF553B",
           "#00cc96",
           "#ab63fa",
           "#FFA15A",
           "#19d3f3",
           "#FF6692",
           "#B6E880",
           "#FF97FF",
           "#FECB52"
          ],
          "font": {
           "color": "#2a3f5f"
          },
          "geo": {
           "bgcolor": "white",
           "lakecolor": "white",
           "landcolor": "#E5ECF6",
           "showlakes": true,
           "showland": true,
           "subunitcolor": "white"
          },
          "hoverlabel": {
           "align": "left"
          },
          "hovermode": "closest",
          "mapbox": {
           "style": "light"
          },
          "paper_bgcolor": "white",
          "plot_bgcolor": "#E5ECF6",
          "polar": {
           "angularaxis": {
            "gridcolor": "white",
            "linecolor": "white",
            "ticks": ""
           },
           "bgcolor": "#E5ECF6",
           "radialaxis": {
            "gridcolor": "white",
            "linecolor": "white",
            "ticks": ""
           }
          },
          "scene": {
           "xaxis": {
            "backgroundcolor": "#E5ECF6",
            "gridcolor": "white",
            "gridwidth": 2,
            "linecolor": "white",
            "showbackground": true,
            "ticks": "",
            "zerolinecolor": "white"
           },
           "yaxis": {
            "backgroundcolor": "#E5ECF6",
            "gridcolor": "white",
            "gridwidth": 2,
            "linecolor": "white",
            "showbackground": true,
            "ticks": "",
            "zerolinecolor": "white"
           },
           "zaxis": {
            "backgroundcolor": "#E5ECF6",
            "gridcolor": "white",
            "gridwidth": 2,
            "linecolor": "white",
            "showbackground": true,
            "ticks": "",
            "zerolinecolor": "white"
           }
          },
          "shapedefaults": {
           "line": {
            "color": "#2a3f5f"
           }
          },
          "ternary": {
           "aaxis": {
            "gridcolor": "white",
            "linecolor": "white",
            "ticks": ""
           },
           "baxis": {
            "gridcolor": "white",
            "linecolor": "white",
            "ticks": ""
           },
           "bgcolor": "#E5ECF6",
           "caxis": {
            "gridcolor": "white",
            "linecolor": "white",
            "ticks": ""
           }
          },
          "title": {
           "x": 0.05
          },
          "xaxis": {
           "automargin": true,
           "gridcolor": "white",
           "linecolor": "white",
           "ticks": "",
           "title": {
            "standoff": 15
           },
           "zerolinecolor": "white",
           "zerolinewidth": 2
          },
          "yaxis": {
           "automargin": true,
           "gridcolor": "white",
           "linecolor": "white",
           "ticks": "",
           "title": {
            "standoff": 15
           },
           "zerolinecolor": "white",
           "zerolinewidth": 2
          }
         }
        }
       }
      }
     },
     "metadata": {},
     "output_type": "display_data"
    }
   ],
   "source": [
    "fig = go.Figure(go.Funnel(\n",
    "    y = MostFrequentWordDF2['Word'].tolist(),\n",
    "    x = MostFrequentWordDF2['Count'].tolist(),\n",
    "    marker = {\"color\": [\"Salmon\", \"PaleVioletRed\", \"LightSalmon\", \"Moccasin\", \"Lavender\", \"DarkOliveGreen\", \"Turquoise\", \"Chocolate\", \"MistyRose\", \"Gainsboro\"]}))\n",
    "fig.show()"
   ]
  },
  {
   "cell_type": "code",
   "execution_count": 36,
   "metadata": {},
   "outputs": [
    {
     "data": {
      "application/vnd.plotly.v1+json": {
       "config": {
        "plotlyServerURL": "https://plot.ly"
       },
       "data": [
        {
         "alignmentgroup": "True",
         "hovertemplate": "Word=%{x}<br>Count=%{y}<extra></extra>",
         "legendgroup": "",
         "marker": {
          "color": "#636efa",
          "pattern": {
           "shape": ""
          }
         },
         "name": "",
         "offsetgroup": "",
         "orientation": "v",
         "showlegend": false,
         "textposition": "auto",
         "type": "bar",
         "x": [
          "fit",
          "love",
          "great",
          "nt",
          "size",
          "like",
          "good",
          "quality",
          "would",
          "look"
         ],
         "xaxis": "x",
         "y": [
          11225,
          9639,
          9012,
          7634,
          7230,
          6589,
          5314,
          5071,
          5068,
          5049
         ],
         "yaxis": "y"
        }
       ],
       "layout": {
        "barmode": "relative",
        "legend": {
         "tracegroupgap": 0
        },
        "margin": {
         "t": 60
        },
        "template": {
         "data": {
          "bar": [
           {
            "error_x": {
             "color": "#2a3f5f"
            },
            "error_y": {
             "color": "#2a3f5f"
            },
            "marker": {
             "line": {
              "color": "#E5ECF6",
              "width": 0.5
             },
             "pattern": {
              "fillmode": "overlay",
              "size": 10,
              "solidity": 0.2
             }
            },
            "type": "bar"
           }
          ],
          "barpolar": [
           {
            "marker": {
             "line": {
              "color": "#E5ECF6",
              "width": 0.5
             },
             "pattern": {
              "fillmode": "overlay",
              "size": 10,
              "solidity": 0.2
             }
            },
            "type": "barpolar"
           }
          ],
          "carpet": [
           {
            "aaxis": {
             "endlinecolor": "#2a3f5f",
             "gridcolor": "white",
             "linecolor": "white",
             "minorgridcolor": "white",
             "startlinecolor": "#2a3f5f"
            },
            "baxis": {
             "endlinecolor": "#2a3f5f",
             "gridcolor": "white",
             "linecolor": "white",
             "minorgridcolor": "white",
             "startlinecolor": "#2a3f5f"
            },
            "type": "carpet"
           }
          ],
          "choropleth": [
           {
            "colorbar": {
             "outlinewidth": 0,
             "ticks": ""
            },
            "type": "choropleth"
           }
          ],
          "contour": [
           {
            "colorbar": {
             "outlinewidth": 0,
             "ticks": ""
            },
            "colorscale": [
             [
              0,
              "#0d0887"
             ],
             [
              0.1111111111111111,
              "#46039f"
             ],
             [
              0.2222222222222222,
              "#7201a8"
             ],
             [
              0.3333333333333333,
              "#9c179e"
             ],
             [
              0.4444444444444444,
              "#bd3786"
             ],
             [
              0.5555555555555556,
              "#d8576b"
             ],
             [
              0.6666666666666666,
              "#ed7953"
             ],
             [
              0.7777777777777778,
              "#fb9f3a"
             ],
             [
              0.8888888888888888,
              "#fdca26"
             ],
             [
              1,
              "#f0f921"
             ]
            ],
            "type": "contour"
           }
          ],
          "contourcarpet": [
           {
            "colorbar": {
             "outlinewidth": 0,
             "ticks": ""
            },
            "type": "contourcarpet"
           }
          ],
          "heatmap": [
           {
            "colorbar": {
             "outlinewidth": 0,
             "ticks": ""
            },
            "colorscale": [
             [
              0,
              "#0d0887"
             ],
             [
              0.1111111111111111,
              "#46039f"
             ],
             [
              0.2222222222222222,
              "#7201a8"
             ],
             [
              0.3333333333333333,
              "#9c179e"
             ],
             [
              0.4444444444444444,
              "#bd3786"
             ],
             [
              0.5555555555555556,
              "#d8576b"
             ],
             [
              0.6666666666666666,
              "#ed7953"
             ],
             [
              0.7777777777777778,
              "#fb9f3a"
             ],
             [
              0.8888888888888888,
              "#fdca26"
             ],
             [
              1,
              "#f0f921"
             ]
            ],
            "type": "heatmap"
           }
          ],
          "heatmapgl": [
           {
            "colorbar": {
             "outlinewidth": 0,
             "ticks": ""
            },
            "colorscale": [
             [
              0,
              "#0d0887"
             ],
             [
              0.1111111111111111,
              "#46039f"
             ],
             [
              0.2222222222222222,
              "#7201a8"
             ],
             [
              0.3333333333333333,
              "#9c179e"
             ],
             [
              0.4444444444444444,
              "#bd3786"
             ],
             [
              0.5555555555555556,
              "#d8576b"
             ],
             [
              0.6666666666666666,
              "#ed7953"
             ],
             [
              0.7777777777777778,
              "#fb9f3a"
             ],
             [
              0.8888888888888888,
              "#fdca26"
             ],
             [
              1,
              "#f0f921"
             ]
            ],
            "type": "heatmapgl"
           }
          ],
          "histogram": [
           {
            "marker": {
             "pattern": {
              "fillmode": "overlay",
              "size": 10,
              "solidity": 0.2
             }
            },
            "type": "histogram"
           }
          ],
          "histogram2d": [
           {
            "colorbar": {
             "outlinewidth": 0,
             "ticks": ""
            },
            "colorscale": [
             [
              0,
              "#0d0887"
             ],
             [
              0.1111111111111111,
              "#46039f"
             ],
             [
              0.2222222222222222,
              "#7201a8"
             ],
             [
              0.3333333333333333,
              "#9c179e"
             ],
             [
              0.4444444444444444,
              "#bd3786"
             ],
             [
              0.5555555555555556,
              "#d8576b"
             ],
             [
              0.6666666666666666,
              "#ed7953"
             ],
             [
              0.7777777777777778,
              "#fb9f3a"
             ],
             [
              0.8888888888888888,
              "#fdca26"
             ],
             [
              1,
              "#f0f921"
             ]
            ],
            "type": "histogram2d"
           }
          ],
          "histogram2dcontour": [
           {
            "colorbar": {
             "outlinewidth": 0,
             "ticks": ""
            },
            "colorscale": [
             [
              0,
              "#0d0887"
             ],
             [
              0.1111111111111111,
              "#46039f"
             ],
             [
              0.2222222222222222,
              "#7201a8"
             ],
             [
              0.3333333333333333,
              "#9c179e"
             ],
             [
              0.4444444444444444,
              "#bd3786"
             ],
             [
              0.5555555555555556,
              "#d8576b"
             ],
             [
              0.6666666666666666,
              "#ed7953"
             ],
             [
              0.7777777777777778,
              "#fb9f3a"
             ],
             [
              0.8888888888888888,
              "#fdca26"
             ],
             [
              1,
              "#f0f921"
             ]
            ],
            "type": "histogram2dcontour"
           }
          ],
          "mesh3d": [
           {
            "colorbar": {
             "outlinewidth": 0,
             "ticks": ""
            },
            "type": "mesh3d"
           }
          ],
          "parcoords": [
           {
            "line": {
             "colorbar": {
              "outlinewidth": 0,
              "ticks": ""
             }
            },
            "type": "parcoords"
           }
          ],
          "pie": [
           {
            "automargin": true,
            "type": "pie"
           }
          ],
          "scatter": [
           {
            "fillpattern": {
             "fillmode": "overlay",
             "size": 10,
             "solidity": 0.2
            },
            "type": "scatter"
           }
          ],
          "scatter3d": [
           {
            "line": {
             "colorbar": {
              "outlinewidth": 0,
              "ticks": ""
             }
            },
            "marker": {
             "colorbar": {
              "outlinewidth": 0,
              "ticks": ""
             }
            },
            "type": "scatter3d"
           }
          ],
          "scattercarpet": [
           {
            "marker": {
             "colorbar": {
              "outlinewidth": 0,
              "ticks": ""
             }
            },
            "type": "scattercarpet"
           }
          ],
          "scattergeo": [
           {
            "marker": {
             "colorbar": {
              "outlinewidth": 0,
              "ticks": ""
             }
            },
            "type": "scattergeo"
           }
          ],
          "scattergl": [
           {
            "marker": {
             "colorbar": {
              "outlinewidth": 0,
              "ticks": ""
             }
            },
            "type": "scattergl"
           }
          ],
          "scattermapbox": [
           {
            "marker": {
             "colorbar": {
              "outlinewidth": 0,
              "ticks": ""
             }
            },
            "type": "scattermapbox"
           }
          ],
          "scatterpolar": [
           {
            "marker": {
             "colorbar": {
              "outlinewidth": 0,
              "ticks": ""
             }
            },
            "type": "scatterpolar"
           }
          ],
          "scatterpolargl": [
           {
            "marker": {
             "colorbar": {
              "outlinewidth": 0,
              "ticks": ""
             }
            },
            "type": "scatterpolargl"
           }
          ],
          "scatterternary": [
           {
            "marker": {
             "colorbar": {
              "outlinewidth": 0,
              "ticks": ""
             }
            },
            "type": "scatterternary"
           }
          ],
          "surface": [
           {
            "colorbar": {
             "outlinewidth": 0,
             "ticks": ""
            },
            "colorscale": [
             [
              0,
              "#0d0887"
             ],
             [
              0.1111111111111111,
              "#46039f"
             ],
             [
              0.2222222222222222,
              "#7201a8"
             ],
             [
              0.3333333333333333,
              "#9c179e"
             ],
             [
              0.4444444444444444,
              "#bd3786"
             ],
             [
              0.5555555555555556,
              "#d8576b"
             ],
             [
              0.6666666666666666,
              "#ed7953"
             ],
             [
              0.7777777777777778,
              "#fb9f3a"
             ],
             [
              0.8888888888888888,
              "#fdca26"
             ],
             [
              1,
              "#f0f921"
             ]
            ],
            "type": "surface"
           }
          ],
          "table": [
           {
            "cells": {
             "fill": {
              "color": "#EBF0F8"
             },
             "line": {
              "color": "white"
             }
            },
            "header": {
             "fill": {
              "color": "#C8D4E3"
             },
             "line": {
              "color": "white"
             }
            },
            "type": "table"
           }
          ]
         },
         "layout": {
          "annotationdefaults": {
           "arrowcolor": "#2a3f5f",
           "arrowhead": 0,
           "arrowwidth": 1
          },
          "autotypenumbers": "strict",
          "coloraxis": {
           "colorbar": {
            "outlinewidth": 0,
            "ticks": ""
           }
          },
          "colorscale": {
           "diverging": [
            [
             0,
             "#8e0152"
            ],
            [
             0.1,
             "#c51b7d"
            ],
            [
             0.2,
             "#de77ae"
            ],
            [
             0.3,
             "#f1b6da"
            ],
            [
             0.4,
             "#fde0ef"
            ],
            [
             0.5,
             "#f7f7f7"
            ],
            [
             0.6,
             "#e6f5d0"
            ],
            [
             0.7,
             "#b8e186"
            ],
            [
             0.8,
             "#7fbc41"
            ],
            [
             0.9,
             "#4d9221"
            ],
            [
             1,
             "#276419"
            ]
           ],
           "sequential": [
            [
             0,
             "#0d0887"
            ],
            [
             0.1111111111111111,
             "#46039f"
            ],
            [
             0.2222222222222222,
             "#7201a8"
            ],
            [
             0.3333333333333333,
             "#9c179e"
            ],
            [
             0.4444444444444444,
             "#bd3786"
            ],
            [
             0.5555555555555556,
             "#d8576b"
            ],
            [
             0.6666666666666666,
             "#ed7953"
            ],
            [
             0.7777777777777778,
             "#fb9f3a"
            ],
            [
             0.8888888888888888,
             "#fdca26"
            ],
            [
             1,
             "#f0f921"
            ]
           ],
           "sequentialminus": [
            [
             0,
             "#0d0887"
            ],
            [
             0.1111111111111111,
             "#46039f"
            ],
            [
             0.2222222222222222,
             "#7201a8"
            ],
            [
             0.3333333333333333,
             "#9c179e"
            ],
            [
             0.4444444444444444,
             "#bd3786"
            ],
            [
             0.5555555555555556,
             "#d8576b"
            ],
            [
             0.6666666666666666,
             "#ed7953"
            ],
            [
             0.7777777777777778,
             "#fb9f3a"
            ],
            [
             0.8888888888888888,
             "#fdca26"
            ],
            [
             1,
             "#f0f921"
            ]
           ]
          },
          "colorway": [
           "#636efa",
           "#EF553B",
           "#00cc96",
           "#ab63fa",
           "#FFA15A",
           "#19d3f3",
           "#FF6692",
           "#B6E880",
           "#FF97FF",
           "#FECB52"
          ],
          "font": {
           "color": "#2a3f5f"
          },
          "geo": {
           "bgcolor": "white",
           "lakecolor": "white",
           "landcolor": "#E5ECF6",
           "showlakes": true,
           "showland": true,
           "subunitcolor": "white"
          },
          "hoverlabel": {
           "align": "left"
          },
          "hovermode": "closest",
          "mapbox": {
           "style": "light"
          },
          "paper_bgcolor": "white",
          "plot_bgcolor": "#E5ECF6",
          "polar": {
           "angularaxis": {
            "gridcolor": "white",
            "linecolor": "white",
            "ticks": ""
           },
           "bgcolor": "#E5ECF6",
           "radialaxis": {
            "gridcolor": "white",
            "linecolor": "white",
            "ticks": ""
           }
          },
          "scene": {
           "xaxis": {
            "backgroundcolor": "#E5ECF6",
            "gridcolor": "white",
            "gridwidth": 2,
            "linecolor": "white",
            "showbackground": true,
            "ticks": "",
            "zerolinecolor": "white"
           },
           "yaxis": {
            "backgroundcolor": "#E5ECF6",
            "gridcolor": "white",
            "gridwidth": 2,
            "linecolor": "white",
            "showbackground": true,
            "ticks": "",
            "zerolinecolor": "white"
           },
           "zaxis": {
            "backgroundcolor": "#E5ECF6",
            "gridcolor": "white",
            "gridwidth": 2,
            "linecolor": "white",
            "showbackground": true,
            "ticks": "",
            "zerolinecolor": "white"
           }
          },
          "shapedefaults": {
           "line": {
            "color": "#2a3f5f"
           }
          },
          "ternary": {
           "aaxis": {
            "gridcolor": "white",
            "linecolor": "white",
            "ticks": ""
           },
           "baxis": {
            "gridcolor": "white",
            "linecolor": "white",
            "ticks": ""
           },
           "bgcolor": "#E5ECF6",
           "caxis": {
            "gridcolor": "white",
            "linecolor": "white",
            "ticks": ""
           }
          },
          "title": {
           "x": 0.05
          },
          "xaxis": {
           "automargin": true,
           "gridcolor": "white",
           "linecolor": "white",
           "ticks": "",
           "title": {
            "standoff": 15
           },
           "zerolinecolor": "white",
           "zerolinewidth": 2
          },
          "yaxis": {
           "automargin": true,
           "gridcolor": "white",
           "linecolor": "white",
           "ticks": "",
           "title": {
            "standoff": 15
           },
           "zerolinecolor": "white",
           "zerolinewidth": 2
          }
         }
        },
        "xaxis": {
         "anchor": "y",
         "domain": [
          0,
          1
         ],
         "title": {
          "text": "Word"
         }
        },
        "yaxis": {
         "anchor": "x",
         "domain": [
          0,
          1
         ],
         "title": {
          "text": "Count"
         }
        }
       }
      }
     },
     "metadata": {},
     "output_type": "display_data"
    }
   ],
   "source": [
    "fig = px.bar(MostFrequentWordDF2, x='Word', y='Count')\n",
    "fig.show()"
   ]
  },
  {
   "cell_type": "markdown",
   "metadata": {},
   "source": [
    "# Split The DataSet Into Independent Variables (X) And Dependent Variable (Y)"
   ]
  },
  {
   "cell_type": "code",
   "execution_count": 37,
   "metadata": {},
   "outputs": [],
   "source": [
    "X= Corpus['Normalized_Review']\n",
    "y = Corpus['Sentiment']"
   ]
  },
  {
   "cell_type": "markdown",
   "metadata": {},
   "source": [
    "# Split The Dataset Into Training And Testing"
   ]
  },
  {
   "cell_type": "code",
   "execution_count": 38,
   "metadata": {},
   "outputs": [],
   "source": [
    "X_train, X_test, y_train, y_test = train_test_split(X, y, test_size=0.2, random_state=33)"
   ]
  },
  {
   "cell_type": "markdown",
   "metadata": {},
   "source": [
    "# TfidfVectorizer"
   ]
  },
  {
   "cell_type": "code",
   "execution_count": 39,
   "metadata": {},
   "outputs": [],
   "source": [
    "Tfidf = TfidfVectorizer()\n",
    "X_Train_Tfidf = Tfidf.fit_transform(X_train)\n",
    "X_test_Tfidf = Tfidf.transform(X_test)"
   ]
  },
  {
   "cell_type": "code",
   "execution_count": 40,
   "metadata": {},
   "outputs": [
    {
     "data": {
      "text/plain": [
       "{'comfy': 2707,\n",
       " 'long': 8098,\n",
       " 'absolutely': 32,\n",
       " 'love': 8214,\n",
       " 'product': 10817,\n",
       " 'workout': 16124,\n",
       " 'walking': 15674,\n",
       " 'around': 699,\n",
       " 'hanging': 6335,\n",
       " 'comfortable': 2692,\n",
       " 'rather': 11209,\n",
       " 'large': 7725,\n",
       " 'boob': 1539,\n",
       " 'one': 9562,\n",
       " 'best': 1265,\n",
       " 'sport': 13342,\n",
       " 'bra': 1626,\n",
       " 'purchased': 10990,\n",
       " 'flattering': 5315,\n",
       " 'get': 5841,\n",
       " 'wet': 15898,\n",
       " 'transparent': 14785,\n",
       " 'nipple': 9271,\n",
       " 'exposed': 4889,\n",
       " 'suoer': 13885,\n",
       " 'cute': 3389,\n",
       " 'pretty': 10742,\n",
       " 'buy': 1925,\n",
       " 'itvery': 7311,\n",
       " 'nice': 9232,\n",
       " 'glass': 5903,\n",
       " 'seem': 12302,\n",
       " 'little': 8030,\n",
       " 'flimsy': 5349,\n",
       " 'add': 149,\n",
       " 'weird': 15858,\n",
       " 'tint': 14572,\n",
       " 'looking': 8128,\n",
       " 'screen': 12219,\n",
       " 'fit': 5245,\n",
       " 'fabulously': 4952,\n",
       " 'though': 14438,\n",
       " 'pattern': 10020,\n",
       " 'person': 10194,\n",
       " 'shinier': 12545,\n",
       " 'wanted': 15697,\n",
       " 'amazinf': 424,\n",
       " 'far': 5016,\n",
       " 'great': 6125,\n",
       " 'fitting': 5258,\n",
       " 'would': 16153,\n",
       " 'rate': 11207,\n",
       " 'star': 13454,\n",
       " 'found': 5519,\n",
       " 'another': 512,\n",
       " 'brand': 1648,\n",
       " 'better': 1275,\n",
       " 'still': 13562,\n",
       " 'pleased': 10424,\n",
       " 'may': 8533,\n",
       " 'purchase': 10989,\n",
       " 'pair': 9890,\n",
       " 'soon': 13177,\n",
       " 'friggin': 5594,\n",
       " 'bag': 961,\n",
       " 'owned': 9832,\n",
       " 'fendi': 5129,\n",
       " 'michael': 8696,\n",
       " 'kor': 7649,\n",
       " 'coach': 2590,\n",
       " 'givenchy': 5889,\n",
       " 'fave': 5067,\n",
       " 'live': 8034,\n",
       " 'rural': 11992,\n",
       " 'alaska': 331,\n",
       " 'rainforest': 11156,\n",
       " 'precise': 10661,\n",
       " 'imagine': 6884,\n",
       " 'rain': 11149,\n",
       " 'day': 3521,\n",
       " 'year': 16293,\n",
       " 'active': 130,\n",
       " 'individual': 7012,\n",
       " 'nt': 9401,\n",
       " 'want': 15695,\n",
       " 'weather': 15819,\n",
       " 'dampen': 3461,\n",
       " 'yes': 16311,\n",
       " 'bad': 955,\n",
       " 'pun': 10973,\n",
       " 'intended': 7147,\n",
       " 'different': 3858,\n",
       " 'jacket': 7323,\n",
       " 'lacking': 7690,\n",
       " 'particular': 9974,\n",
       " 'quality': 11058,\n",
       " 'made': 8316,\n",
       " 'adventuring': 212,\n",
       " 'wilderness': 15999,\n",
       " 'le': 7801,\n",
       " 'ideal': 6821,\n",
       " 'ordered': 9659,\n",
       " 'knowing': 7635,\n",
       " 'columbia': 2668,\n",
       " 'usually': 15379,\n",
       " 'solid': 13140,\n",
       " 'disappointed': 3932,\n",
       " 'good': 5994,\n",
       " 'medium': 8589,\n",
       " 'fairly': 4983,\n",
       " 'shape': 12464,\n",
       " 'shirt': 12560,\n",
       " 'underneath': 15109,\n",
       " 'maneuverability': 8407,\n",
       " 'pocket': 10471,\n",
       " 'zippered': 16383,\n",
       " 'reference': 11405,\n",
       " 'carry': 2094,\n",
       " 'mm': 8851,\n",
       " 'hiking': 6575,\n",
       " 'hood': 6664,\n",
       " 'come': 2680,\n",
       " 'tightens': 14529,\n",
       " 'head': 6422,\n",
       " 'well': 15870,\n",
       " 'walked': 15671,\n",
       " 'mile': 8736,\n",
       " 'steady': 13499,\n",
       " 'today': 14607,\n",
       " 'bone': 1525,\n",
       " 'dry': 4263,\n",
       " 'stayed': 13493,\n",
       " 'place': 10370,\n",
       " 'wind': 16007,\n",
       " 'gust': 6232,\n",
       " 'sits': 12753,\n",
       " 'slightly': 12885,\n",
       " 'low': 8231,\n",
       " 'vision': 15580,\n",
       " 'blockage': 1442,\n",
       " 'held': 6487,\n",
       " 'upward': 15342,\n",
       " 'nitpicky': 9276,\n",
       " 'design': 3754,\n",
       " 'keep': 7526,\n",
       " 'warmth': 15719,\n",
       " 'moderate': 8873,\n",
       " 'acclimated': 81,\n",
       " 'chilly': 2347,\n",
       " 'perfect': 10139,\n",
       " 'degree': 3659,\n",
       " 'highly': 6556,\n",
       " 'recommend': 11347,\n",
       " 'expected': 4855,\n",
       " 'hard': 6358,\n",
       " 'find': 5195,\n",
       " 'work': 16115,\n",
       " 'glove': 5930,\n",
       " 'small': 12947,\n",
       " 'awesome': 897,\n",
       " 'bracelet': 1628,\n",
       " 'christian': 2390,\n",
       " 'man': 8393,\n",
       " 'look': 8120,\n",
       " 'old': 9538,\n",
       " 'school': 12175,\n",
       " 'dress': 4216,\n",
       " 'really': 11272,\n",
       " 'short': 12593,\n",
       " 'hoping': 6687,\n",
       " 'easter': 4364,\n",
       " 'way': 15781,\n",
       " 'booty': 1559,\n",
       " 'like': 7968,\n",
       " 'lot': 8196,\n",
       " 'crossfit': 3267,\n",
       " 'squat': 13383,\n",
       " 'kick': 7558,\n",
       " 'boxing': 1611,\n",
       " 'ride': 11806,\n",
       " 'served': 12399,\n",
       " 'wear': 15802,\n",
       " 'bought': 1589,\n",
       " 'renn': 11544,\n",
       " 'faire': 4982,\n",
       " 'got': 6027,\n",
       " 'home': 6642,\n",
       " 'realied': 11258,\n",
       " 'stitching': 13577,\n",
       " 'bust': 1889,\n",
       " 'elastic': 4451,\n",
       " 'undone': 15136,\n",
       " 'mess': 8659,\n",
       " 'string': 13693,\n",
       " 'barely': 1045,\n",
       " 'sock': 13102,\n",
       " 'fast': 5039,\n",
       " 'efficient': 4422,\n",
       " 'seller': 12336,\n",
       " 'aaaaa': 3,\n",
       " 'could': 3091,\n",
       " 'give': 5886,\n",
       " 'niece': 9248,\n",
       " 'foot': 5448,\n",
       " 'arm': 684,\n",
       " 'thing': 14399,\n",
       " 'took': 14644,\n",
       " 'forever': 5476,\n",
       " 'arrive': 706,\n",
       " 'worth': 16145,\n",
       " 'time': 14555,\n",
       " 'money': 8904,\n",
       " 'arrived': 707,\n",
       " 'needed': 9161,\n",
       " 'logo': 8087,\n",
       " 'color': 2647,\n",
       " 'lens': 7879,\n",
       " 'fall': 4994,\n",
       " 'easy': 4366,\n",
       " 'strong': 13711,\n",
       " 'impossible': 6916,\n",
       " 'anything': 548,\n",
       " 'use': 15364,\n",
       " 'super': 13887,\n",
       " 'fine': 5198,\n",
       " 'print': 10782,\n",
       " 'glad': 5893,\n",
       " 'sturdy': 13753,\n",
       " 'dropped': 4254,\n",
       " 'scratch': 12206,\n",
       " 'hoodie': 6666,\n",
       " 'mitten': 8837,\n",
       " 'think': 14402,\n",
       " 'size': 12767,\n",
       " 'also': 400,\n",
       " 'stay': 13491,\n",
       " 'baby': 924,\n",
       " 'girl': 5877,\n",
       " 'roomy': 11914,\n",
       " 'enough': 4615,\n",
       " 'completely': 2780,\n",
       " 'open': 9610,\n",
       " 'hand': 6299,\n",
       " 'material': 8501,\n",
       " 'recommending': 11350,\n",
       " 'friend': 5589,\n",
       " 'charm': 2252,\n",
       " 'lettering': 7903,\n",
       " 'defect': 3617,\n",
       " 'right': 11824,\n",
       " 'line': 7994,\n",
       " 'sight': 12675,\n",
       " 'bummed': 1845,\n",
       " 'except': 4792,\n",
       " 'defective': 3620,\n",
       " 'inside': 7096,\n",
       " 'middle': 8713,\n",
       " 'left': 7839,\n",
       " 'bright': 1710,\n",
       " 'sparkly': 13245,\n",
       " 'science': 12181,\n",
       " 'daughter': 3506,\n",
       " 'loved': 8215,\n",
       " 'reorder': 11550,\n",
       " 'probably': 10798,\n",
       " 'order': 9656,\n",
       " 'two': 14981,\n",
       " 'larger': 7730,\n",
       " 'package': 9852,\n",
       " 'price': 10757,\n",
       " 'sure': 13933,\n",
       " 'wife': 15991,\n",
       " 'slick': 12871,\n",
       " 'sexy': 12435,\n",
       " 'new': 9213,\n",
       " 'favorite': 5071,\n",
       " 'feel': 5105,\n",
       " 'break': 1665,\n",
       " 'put': 11028,\n",
       " 'power': 10629,\n",
       " 'customer': 3380,\n",
       " 'service': 12401,\n",
       " 'excellent': 4786,\n",
       " 'reading': 11249,\n",
       " 'went': 15889,\n",
       " 'room': 11907,\n",
       " 'top': 14662,\n",
       " 'review': 11758,\n",
       " 'decided': 3581,\n",
       " 'perfectly': 10147,\n",
       " 'thanks': 14325,\n",
       " 'diamond': 3829,\n",
       " 'part': 9964,\n",
       " 'promised': 10854,\n",
       " 'first': 5232,\n",
       " 'full': 5648,\n",
       " 'cotton': 3083,\n",
       " 'french': 5575,\n",
       " 'cuff': 3330,\n",
       " 'wingtip': 16025,\n",
       " 'collar': 2634,\n",
       " 'ever': 4731,\n",
       " 'yo': 16327,\n",
       " 'lb': 7798,\n",
       " 'huge': 6757,\n",
       " 'say': 12131,\n",
       " 'anyway': 550,\n",
       " 'soft': 13107,\n",
       " 'wash': 15735,\n",
       " 'wallet': 15679,\n",
       " 'every': 4738,\n",
       " 'plain': 10380,\n",
       " 'infant': 7027,\n",
       " 'tshirt': 14900,\n",
       " 'worked': 16120,\n",
       " 'heat': 6450,\n",
       " 'transfer': 14769,\n",
       " 'vinyl': 15558,\n",
       " 'definitely': 3641,\n",
       " 'tsa': 14899,\n",
       " 'never': 9207,\n",
       " 'question': 11088,\n",
       " 'bigger': 1309,\n",
       " 'quart': 11074,\n",
       " 'beautiful': 1146,\n",
       " 'make': 8370,\n",
       " 'gift': 5858,\n",
       " 'finishing': 5215,\n",
       " 'expensive': 4867,\n",
       " 'awesomelove': 898,\n",
       " 'second': 12282,\n",
       " 'cheaply': 2270,\n",
       " 'wore': 16113,\n",
       " 'yesterday': 16315,\n",
       " 'looked': 8123,\n",
       " 'adorable': 199,\n",
       " 'cozy': 3142,\n",
       " 'warm': 15713,\n",
       " 'bulky': 1833,\n",
       " 'touch': 14701,\n",
       " 'button': 1910,\n",
       " 'leg': 7842,\n",
       " 'change': 2223,\n",
       " 'diaper': 3832,\n",
       " 'without': 16060,\n",
       " 'undressing': 15140,\n",
       " 'others': 9706,\n",
       " 'shipping': 12557,\n",
       " 'prompt': 10863,\n",
       " 'packaging': 9854,\n",
       " 'done': 4130,\n",
       " 'safely': 12027,\n",
       " 'south': 13212,\n",
       " 'africa': 250,\n",
       " 'checkbook': 2279,\n",
       " 'need': 9159,\n",
       " 'inch': 6948,\n",
       " 'wider': 15979,\n",
       " 'realistic': 11262,\n",
       " 'nothing': 9376,\n",
       " 'photo': 10247,\n",
       " 'hot': 6717,\n",
       " 'pink': 10327,\n",
       " 'almost': 384,\n",
       " 'shrimp': 12641,\n",
       " 'dissapointed': 4026,\n",
       " 'trim': 14844,\n",
       " 'scissors': 12186,\n",
       " 'son': 13170,\n",
       " 'write': 16197,\n",
       " 'bathing': 1077,\n",
       " 'suit': 13840,\n",
       " 'adore': 201,\n",
       " 'however': 6736,\n",
       " 'tighter': 14530,\n",
       " 'ankle': 488,\n",
       " 'difficult': 3863,\n",
       " 'stretching': 13681,\n",
       " 'trouble': 14866,\n",
       " 'putting': 11031,\n",
       " 'gorgeous': 6020,\n",
       " 'swim': 14025,\n",
       " 'brief': 1707,\n",
       " 'anywhere': 553,\n",
       " 'near': 9136,\n",
       " 'level': 7905,\n",
       " 'detail': 3783,\n",
       " 'picture': 10284,\n",
       " 'husband': 6790,\n",
       " 'solar': 13130,\n",
       " 'watch': 15756,\n",
       " 'several': 12419,\n",
       " 'lately': 7757,\n",
       " 'health': 6440,\n",
       " 'deteriorated': 3793,\n",
       " 'outside': 9756,\n",
       " 'much': 9003,\n",
       " 'gadget': 5712,\n",
       " 'quicker': 11094,\n",
       " 'easier': 4355,\n",
       " 'window': 16013,\n",
       " 'sill': 12698,\n",
       " 'light': 7946,\n",
       " 'harm': 6373,\n",
       " 'quit': 11111,\n",
       " 'running': 11988,\n",
       " 'charger': 2244,\n",
       " 'hour': 6727,\n",
       " 'week': 15836,\n",
       " 'ago': 277,\n",
       " 'going': 5969,\n",
       " 'able': 21,\n",
       " 'travel': 14800,\n",
       " 'anymore': 545,\n",
       " 'wickedly': 15968,\n",
       " 'take': 14103,\n",
       " 'cut': 3386,\n",
       " 'glare': 5901,\n",
       " 'perform': 10157,\n",
       " 'frame': 5538,\n",
       " 'emit': 4535,\n",
       " 'toxic': 14725,\n",
       " 'solventchemical': 13150,\n",
       " 'smell': 12984,\n",
       " 'initially': 7060,\n",
       " 'thought': 14441,\n",
       " 'lessen': 7892,\n",
       " 'plastic': 10394,\n",
       " 'even': 4725,\n",
       " 'car': 2039,\n",
       " 'varying': 15439,\n",
       " 'temperature': 14246,\n",
       " 'strongly': 13714,\n",
       " 'picking': 10273,\n",
       " 'circulates': 2424,\n",
       " 'airflow': 306,\n",
       " 'throughout': 14472,\n",
       " 'wonder': 16092,\n",
       " 'hazard': 6413,\n",
       " 'overall': 9770,\n",
       " 'fume': 5660,\n",
       " 'kind': 7576,\n",
       " 'shadow': 12446,\n",
       " 'performance': 10158,\n",
       " 'benefit': 1247,\n",
       " 'sweet': 14011,\n",
       " 'belt': 1231,\n",
       " 'surprisingly': 13953,\n",
       " 'skull': 12830,\n",
       " 'detailed': 3784,\n",
       " 'everyday': 4740,\n",
       " 'boot': 1552,\n",
       " 'walk': 15668,\n",
       " 'supportive': 13924,\n",
       " 'wish': 16050,\n",
       " 'lower': 8236,\n",
       " 'missing': 8818,\n",
       " 'strap': 13641,\n",
       " 'returning': 11733,\n",
       " 'return': 11729,\n",
       " 'option': 9639,\n",
       " 'photoshoots': 10257,\n",
       " 'comfort': 2690,\n",
       " 'compared': 2753,\n",
       " 'big': 1305,\n",
       " 'tall': 14115,\n",
       " 'store': 13606,\n",
       " 'extremely': 4923,\n",
       " 'wrong': 16203,\n",
       " 'buying': 1929,\n",
       " 'coverage': 3121,\n",
       " 'smoother': 13009,\n",
       " 'hold': 6626,\n",
       " 'trunk': 14883,\n",
       " 'go': 5952,\n",
       " 'beach': 1109,\n",
       " 'loosen': 8165,\n",
       " 'guessing': 6211,\n",
       " 'water': 15763,\n",
       " 'hat': 6388,\n",
       " 'job': 7421,\n",
       " 'costuming': 3077,\n",
       " 'weathered': 15820,\n",
       " 'granddaughter': 6079,\n",
       " 'earring': 4347,\n",
       " 'ordering': 9662,\n",
       " 'orange': 9644,\n",
       " 'evidently': 4755,\n",
       " 'item': 7292,\n",
       " 'came': 1980,\n",
       " 'hole': 6630,\n",
       " 'bit': 1362,\n",
       " 'tight': 14523,\n",
       " 'grip': 6159,\n",
       " 'ear': 4336,\n",
       " 'know': 7634,\n",
       " 'otherwise': 9707,\n",
       " 'boyfriend': 1616,\n",
       " 'shoe': 12576,\n",
       " 'gave': 5788,\n",
       " 'xmas': 16249,\n",
       " 'jeweller': 7393,\n",
       " 'paid': 9876,\n",
       " 'battery': 1088,\n",
       " 'back': 932,\n",
       " 'said': 12040,\n",
       " 'broken': 1741,\n",
       " 'sized': 12770,\n",
       " 'compliment': 2790,\n",
       " 'everything': 4744,\n",
       " 'searched': 12267,\n",
       " 'card': 2050,\n",
       " 'secure': 12289,\n",
       " 'zipper': 16382,\n",
       " 'compartment': 2756,\n",
       " 'cell': 2170,\n",
       " 'phone': 10242,\n",
       " 'case': 2106,\n",
       " 'happens': 6347,\n",
       " 'galaxy': 5730,\n",
       " 'planning': 10387,\n",
       " 'zip': 16378,\n",
       " 'unzip': 15297,\n",
       " 'sweatshirt': 14008,\n",
       " 'sleeve': 12859,\n",
       " 'kid': 7560,\n",
       " 'judging': 7457,\n",
       " 'appearance': 576,\n",
       " 'stylish': 13767,\n",
       " 'trend': 14823,\n",
       " 'purse': 11012,\n",
       " 'leather': 7823,\n",
       " 'heavy': 6466,\n",
       " 'interior': 7168,\n",
       " 'quite': 11112,\n",
       " 'lovely': 8224,\n",
       " 'style': 13758,\n",
       " 'designer': 3757,\n",
       " 'inspired': 7112,\n",
       " 'luxurious': 8297,\n",
       " 'unfortunately': 15165,\n",
       " 'match': 8494,\n",
       " 'meet': 8603,\n",
       " 'eye': 4928,\n",
       " 'chanel': 2222,\n",
       " 'lover': 8225,\n",
       " 'owner': 9833,\n",
       " 'supplement': 13915,\n",
       " 'collection': 2641,\n",
       " 'deal': 3548,\n",
       " 'happy': 6354,\n",
       " 'carried': 2092,\n",
       " 'three': 14460,\n",
       " 'month': 8918,\n",
       " 'noticed': 9381,\n",
       " 'clasp': 2454,\n",
       " 'began': 1186,\n",
       " 'getting': 5845,\n",
       " 'loose': 8160,\n",
       " 'third': 14415,\n",
       " 'fourth': 5523,\n",
       " 'screw': 12225,\n",
       " 'coming': 2713,\n",
       " 'whole': 15955,\n",
       " 'leaving': 7831,\n",
       " 'content': 2933,\n",
       " 'reached': 11240,\n",
       " 'ainifeel': 301,\n",
       " 'email': 4508,\n",
       " 'beginning': 1191,\n",
       " 'december': 3574,\n",
       " 'stand': 13441,\n",
       " 'send': 12354,\n",
       " 'replace': 11572,\n",
       " 'followed': 5437,\n",
       " 'securely': 12291,\n",
       " 'close': 2535,\n",
       " 'unusable': 15284,\n",
       " 'sadly': 12023,\n",
       " 'must': 9051,\n",
       " 'trash': 14795,\n",
       " 'since': 12727,\n",
       " 'replacement': 11574,\n",
       " 'available': 867,\n",
       " 'rock': 11878,\n",
       " 'wo': 16073,\n",
       " 'scored': 12195,\n",
       " 'point': 10484,\n",
       " 'longer': 8101,\n",
       " 'furthermore': 5693,\n",
       " 'responsive': 11671,\n",
       " 'promise': 10853,\n",
       " 'received': 11304,\n",
       " 'vneck': 15600,\n",
       " 'blouse': 1455,\n",
       " 'wearing': 15810,\n",
       " 'washing': 15742,\n",
       " 'snagged': 13024,\n",
       " 'turned': 14945,\n",
       " 'unattractive': 15050,\n",
       " 'gray': 6116,\n",
       " 'tried': 14837,\n",
       " 'recently': 11309,\n",
       " 'rag': 11142,\n",
       " 'pas': 9981,\n",
       " 'tie': 14510,\n",
       " 'spent': 13285,\n",
       " 'least': 7821,\n",
       " 'amount': 446,\n",
       " 'texture': 14308,\n",
       " 'knit': 7616,\n",
       " 'amazon': 428,\n",
       " 'rest': 11674,\n",
       " 'rich': 11801,\n",
       " 'dark': 3487,\n",
       " 'shine': 12541,\n",
       " 'silk': 12692,\n",
       " 'cheap': 2262,\n",
       " 'polyester': 10519,\n",
       " 'surprised': 13951,\n",
       " 'many': 8432,\n",
       " 'chemical': 2307,\n",
       " 'green': 6137,\n",
       " 'navy': 9127,\n",
       " 'elevates': 4477,\n",
       " 'outfit': 9733,\n",
       " 'amazing': 425,\n",
       " 'suspender': 13969,\n",
       " 'brown': 1756,\n",
       " 'fedora': 5096,\n",
       " 'unlike': 15203,\n",
       " 'formalbusiness': 5489,\n",
       " 'formal': 5488,\n",
       " 'incredible': 6985,\n",
       " 'piece': 10291,\n",
       " 'future': 5702,\n",
       " 'alizeal': 358,\n",
       " 'real': 11256,\n",
       " 'showing': 12630,\n",
       " 'sign': 12676,\n",
       " 'cover': 3120,\n",
       " 'exactly': 4764,\n",
       " 'described': 3742,\n",
       " 'wellconstructed': 15872,\n",
       " 'fabric': 4946,\n",
       " 'hang': 6330,\n",
       " 'beautifully': 1150,\n",
       " 'jean': 7363,\n",
       " 'legging': 7847,\n",
       " 'caliber': 1962,\n",
       " 'white': 15943,\n",
       " 'spot': 13347,\n",
       " 'mirror': 8789,\n",
       " 'drawn': 4205,\n",
       " 'simply': 12721,\n",
       " 'due': 4280,\n",
       " 'inexpensive': 7021,\n",
       " 'cost': 3063,\n",
       " 'gone': 5989,\n",
       " 'contact': 2921,\n",
       " 'realized': 11266,\n",
       " 'sunglass': 13865,\n",
       " 'driving': 4243,\n",
       " 'picked': 10271,\n",
       " 'reduce': 11392,\n",
       " 'road': 11866,\n",
       " 'lightweight': 7963,\n",
       " 'happier': 6349,\n",
       " 'investment': 7208,\n",
       " 'afraid': 249,\n",
       " 'lace': 7683,\n",
       " 'deck': 3588,\n",
       " 'homemade': 6648,\n",
       " 'wire': 16040,\n",
       " 'needle': 9165,\n",
       " 'anticipated': 525,\n",
       " 'trimmed': 14846,\n",
       " 'correct': 3038,\n",
       " 'length': 7873,\n",
       " 'working': 16122,\n",
       " 'changed': 2224,\n",
       " 'alike': 352,\n",
       " 'wedding': 15829,\n",
       " 'end': 4566,\n",
       " 'pearl': 10062,\n",
       " 'fell': 5116,\n",
       " 'mood': 8925,\n",
       " 'fix': 5265,\n",
       " 'bead': 1112,\n",
       " 'creator': 3209,\n",
       " 'taken': 14106,\n",
       " 'care': 2065,\n",
       " 'wanting': 15701,\n",
       " 'opal': 9607,\n",
       " 'plug': 10446,\n",
       " 'awhile': 906,\n",
       " 'toddlerapproved': 14609,\n",
       " 'extreme': 4922,\n",
       " 'camel': 1981,\n",
       " 'toe': 14611,\n",
       " 'starting': 13471,\n",
       " 'girly': 5881,\n",
       " 'dino': 3901,\n",
       " 'chart': 2256,\n",
       " 'compressed': 2803,\n",
       " 'physical': 10262,\n",
       " 'activity': 133,\n",
       " 'returned': 11731,\n",
       " 'shipped': 12555,\n",
       " 'quickly': 11095,\n",
       " 'paper': 9936,\n",
       " 'thin': 14394,\n",
       " 'felt': 5120,\n",
       " 'actual': 136,\n",
       " 'next': 9225,\n",
       " 'spend': 13281,\n",
       " 'halloween': 6284,\n",
       " 'trust': 14885,\n",
       " 'cold': 2623,\n",
       " 'windy': 16019,\n",
       " 'night': 9250,\n",
       " 'protection': 10897,\n",
       " 'side': 12666,\n",
       " 'used': 15367,\n",
       " 'dab': 3431,\n",
       " 'gorilla': 6022,\n",
       " 'glue': 5941,\n",
       " 'seems': 12306,\n",
       " 'holding': 6628,\n",
       " 'alright': 398,\n",
       " 'reviewer': 11760,\n",
       " 'mentioned': 8633,\n",
       " 'split': 13322,\n",
       " 'within': 16058,\n",
       " 'using': 15375,\n",
       " 'disappointing': 3933,\n",
       " 'necklace': 9152,\n",
       " 'reminds': 11526,\n",
       " 'titanic': 14586,\n",
       " 'glamorous': 5897,\n",
       " 'elegant': 4470,\n",
       " 'ty': 14994,\n",
       " 'walket': 15673,\n",
       " 'disney': 4006,\n",
       " 'oder': 9489,\n",
       " 'reason': 11281,\n",
       " 'advantage': 210,\n",
       " 'false': 5000,\n",
       " 'advertising': 218,\n",
       " 'contacted': 2923,\n",
       " 'company': 2747,\n",
       " 'asking': 746,\n",
       " 'naturally': 9115,\n",
       " 'ca': 1938,\n",
       " 'wait': 15661,\n",
       " 'summer': 13850,\n",
       " 'people': 10119,\n",
       " 'shoulder': 12615,\n",
       " 'tighten': 14525,\n",
       " 'gotten': 6032,\n",
       " 'growing': 6184,\n",
       " 'shabby': 12442,\n",
       " 'faded': 4970,\n",
       " 'rubber': 11955,\n",
       " 'lost': 8191,\n",
       " 'slickness': 12873,\n",
       " 'pleaser': 10425,\n",
       " 'exchange': 4800,\n",
       " 'pay': 10035,\n",
       " 'stick': 13545,\n",
       " 'pole': 10504,\n",
       " 'climbing': 2509,\n",
       " 'pin': 10320,\n",
       " 'waste': 15751,\n",
       " 'absolutey': 33,\n",
       " 'thick': 14374,\n",
       " 'yet': 16317,\n",
       " 'six': 12760,\n",
       " 'grand': 6072,\n",
       " 'brother': 1751,\n",
       " 'learning': 7817,\n",
       " 'tell': 14242,\n",
       " 'although': 409,\n",
       " 'breast': 1674,\n",
       " 'area': 638,\n",
       " 'fault': 5061,\n",
       " 'either': 4442,\n",
       " 'frayed': 5550,\n",
       " 'waaaayyyy': 15642,\n",
       " 'poor': 10552,\n",
       " 'cheesy': 2300,\n",
       " 'non': 9297,\n",
       " 'underwire': 15131,\n",
       " 'suite': 13844,\n",
       " 'stiff': 13554,\n",
       " 'softer': 13114,\n",
       " 'flexible': 5339,\n",
       " 'fence': 5128,\n",
       " 'swimsuit': 14029,\n",
       " 'fill': 5179,\n",
       " 'ocean': 9480,\n",
       " 'bottom': 1583,\n",
       " 'extra': 4913,\n",
       " 'see': 12296,\n",
       " 'fianc': 5146,\n",
       " 'cz': 3428,\n",
       " 'smaller': 12950,\n",
       " 'pictured': 10285,\n",
       " 'span': 13232,\n",
       " 'entire': 4632,\n",
       " 'gauge': 5782,\n",
       " 'actually': 139,\n",
       " 'speck': 13266,\n",
       " 'surrounded': 13955,\n",
       " 'metal': 8670,\n",
       " 'ok': 9532,\n",
       " 'expecting': 4858,\n",
       " 'player': 10415,\n",
       " 'holestears': 6632,\n",
       " 'mite': 8834,\n",
       " 'velcro': 15460,\n",
       " 'shin': 12540,\n",
       " 'pad': 9862,\n",
       " 'always': 418,\n",
       " 'caught': 2143,\n",
       " 'skate': 12790,\n",
       " 'blade': 1391,\n",
       " 'teeny': 14226,\n",
       " 'tiny': 14574,\n",
       " 'waist': 15654,\n",
       " 'falling': 4997,\n",
       " 'hit': 6608,\n",
       " 'stretch': 13671,\n",
       " 'breathable': 1682,\n",
       " 'ill': 6861,\n",
       " 'update': 15305,\n",
       " 'pjs': 10364,\n",
       " 'thank': 14320,\n",
       " 'robe': 11875,\n",
       " 'problem': 10801,\n",
       " 'hook': 6669,\n",
       " 'bathroom': 1080,\n",
       " 'door': 4139,\n",
       " 'wooden': 16103,\n",
       " 'hanger': 6333,\n",
       " 'delivered': 3679,\n",
       " 'ermoso': 4669,\n",
       " 'excessive': 4798,\n",
       " 'grandson': 6092,\n",
       " 'dope': 4143,\n",
       " 'worn': 16132,\n",
       " 'slip': 12900,\n",
       " 'ballet': 999,\n",
       " 'house': 6729,\n",
       " 'slipper': 12905,\n",
       " 'description': 3746,\n",
       " 'shorter': 12601,\n",
       " 'totally': 14693,\n",
       " 'wrap': 16171,\n",
       " 'shown': 12631,\n",
       " 'sent': 12370,\n",
       " 'fan': 5005,\n",
       " 'daffy': 3437,\n",
       " 'duck': 4276,\n",
       " 'tee': 14220,\n",
       " 'sewing': 12426,\n",
       " 'seam': 12258,\n",
       " 'unraveling': 15239,\n",
       " 'sizable': 12766,\n",
       " 'stain': 13424,\n",
       " 'let': 7900,\n",
       " 'sleep': 12851,\n",
       " 'pajama': 9894,\n",
       " 'pain': 9880,\n",
       " 'horrible': 6694,\n",
       " 'tulle': 14925,\n",
       " 'veil': 15456,\n",
       " 'ended': 4569,\n",
       " 'borrow': 1569,\n",
       " 'stepped': 13526,\n",
       " 'zone': 16392,\n",
       " 'risk': 11857,\n",
       " 'purchasing': 10992,\n",
       " 'typical': 15003,\n",
       " 'hate': 6390,\n",
       " 'clothes': 2554,\n",
       " 'trying': 14895,\n",
       " 'appear': 575,\n",
       " 'tad': 14091,\n",
       " 'snug': 13075,\n",
       " 'hide': 6540,\n",
       " 'mama': 8389,\n",
       " 'belly': 1223,\n",
       " 'giant': 5857,\n",
       " 'granny': 6094,\n",
       " 'panty': 9930,\n",
       " 'damn': 3458,\n",
       " 'exceeded': 4775,\n",
       " 'expectation': 4854,\n",
       " 'thinking': 14404,\n",
       " 'might': 8728,\n",
       " 'couple': 3108,\n",
       " 'bed': 1166,\n",
       " 'soooo': 13180,\n",
       " 'important': 6912,\n",
       " 'bomb': 1521,\n",
       " 'bulging': 1829,\n",
       " 'qualitywise': 11068,\n",
       " 'four': 5522,\n",
       " 'finish': 5213,\n",
       " 'chipping': 2360,\n",
       " 'cannot': 2023,\n",
       " 'fantastic': 5014,\n",
       " 'nicely': 9234,\n",
       " 'standing': 13444,\n",
       " 'child': 2335,\n",
       " 'box': 1605,\n",
       " 'steel': 13510,\n",
       " 'american': 438,\n",
       " 'sizing': 12784,\n",
       " 'asian': 740,\n",
       " 'correctly': 3042,\n",
       " 'ta': 14071,\n",
       " 'saw': 12126,\n",
       " 'coin': 2617,\n",
       " 'holder': 6627,\n",
       " 'smoothly': 13011,\n",
       " 'try': 14893,\n",
       " 'squeezing': 13397,\n",
       " 'ball': 995,\n",
       " 'unscrewed': 15251,\n",
       " 'past': 9994,\n",
       " 'brought': 1754,\n",
       " 'mom': 8897,\n",
       " 'heart': 6447,\n",
       " 'surgery': 13941,\n",
       " 'brain': 1639,\n",
       " 'fierce': 5162,\n",
       " 'holiday': 6634,\n",
       " 'believe': 1206,\n",
       " 'sooner': 13178,\n",
       " 'slot': 12924,\n",
       " 'shuffling': 12655,\n",
       " 'mean': 8555,\n",
       " 'diabetic': 3824,\n",
       " 'test': 14296,\n",
       " 'kit': 7591,\n",
       " 'insulin': 7137,\n",
       " 'pen': 10101,\n",
       " 'hardcase': 6359,\n",
       " 'protects': 10901,\n",
       " 'type': 15001,\n",
       " 'uncomfortable': 15079,\n",
       " 'early': 4343,\n",
       " 'pregnancy': 10687,\n",
       " 'waited': 15662,\n",
       " 'run': 11982,\n",
       " 'chick': 2327,\n",
       " 'sz': 14069,\n",
       " 'pant': 9922,\n",
       " 'chain': 2204,\n",
       " 'extension': 4906,\n",
       " 'initial': 7059,\n",
       " 'ring': 11835,\n",
       " 'warehouse': 15709,\n",
       " 'manager': 8399,\n",
       " 'last': 7744,\n",
       " 'fun': 5661,\n",
       " 'overnight': 9797,\n",
       " 'lunch': 8286,\n",
       " 'careful': 2068,\n",
       " 'bar': 1031,\n",
       " 'nervous': 9194,\n",
       " 'complaint': 2771,\n",
       " 'supposed': 13927,\n",
       " 'magnet': 8334,\n",
       " 'closed': 2536,\n",
       " 'mind': 8748,\n",
       " 'tunic': 14936,\n",
       " 'mine': 8751,\n",
       " 'hope': 6681,\n",
       " 'prevent': 10745,\n",
       " 'chaffing': 2202,\n",
       " 'fat': 5048,\n",
       " 'face': 4954,\n",
       " 'delivery': 3682,\n",
       " 'beware': 1284,\n",
       " 'greasy': 6124,\n",
       " 'padding': 9866,\n",
       " 'redpink': 11391,\n",
       " 'aware': 890,\n",
       " 'grow': 6183,\n",
       " 'bow': 1599,\n",
       " 'allergic': 364,\n",
       " 'esta': 4696,\n",
       " 'perfecta': 10140,\n",
       " 'wide': 15970,\n",
       " 'laptop': 7721,\n",
       " 'notebook': 9373,\n",
       " 'etc': 4708,\n",
       " ...}"
      ]
     },
     "execution_count": 40,
     "metadata": {},
     "output_type": "execute_result"
    }
   ],
   "source": [
    "vocab = Tfidf.vocabulary_\n",
    "vocab"
   ]
  },
  {
   "cell_type": "markdown",
   "metadata": {},
   "source": [
    "# Models"
   ]
  },
  {
   "cell_type": "code",
   "execution_count": 41,
   "metadata": {},
   "outputs": [],
   "source": [
    "def models_(model_name):\n",
    "    model = model_name\n",
    "    model.fit(X_Train_Tfidf, y_train)\n",
    "    y_pred = model.predict(X_test_Tfidf)\n",
    "    return y_pred"
   ]
  },
  {
   "cell_type": "markdown",
   "metadata": {},
   "source": [
    "# Confusion Matrix"
   ]
  },
  {
   "cell_type": "code",
   "execution_count": 42,
   "metadata": {},
   "outputs": [],
   "source": [
    "Sentiments = y.sort_values().unique()"
   ]
  },
  {
   "cell_type": "code",
   "execution_count": 43,
   "metadata": {},
   "outputs": [],
   "source": [
    "def confusion_matrix_(Real, Prediction):\n",
    "        ConfusionMatrix = confusion_matrix(Real, Prediction, labels=Sentiments)\n",
    "        return ConfusionMatrix"
   ]
  },
  {
   "cell_type": "code",
   "execution_count": 44,
   "metadata": {},
   "outputs": [],
   "source": [
    "def plot_confusion_matrix(ConfusionMatrix, name):\n",
    "    fig, ax = plt.subplots(figsize=(6, 6))\n",
    "    df = pd.DataFrame(ConfusionMatrix, columns=Sentiments, index=Sentiments)\n",
    "    sns.heatmap(df, annot=True, cmap='YlGnBu', fmt='', cbar=False)\n",
    "    plt.ylabel('Actual',fontsize=10)\n",
    "    plt.xlabel('Prediction',fontsize=10)\n",
    "    plt.title('{} Confusion Matrix'.format(name),fontsize=10)\n",
    "    return plt.show();"
   ]
  },
  {
   "cell_type": "markdown",
   "metadata": {},
   "source": [
    "# Generate True Positive, False Positive, True Negative, False Negative"
   ]
  },
  {
   "cell_type": "code",
   "execution_count": 45,
   "metadata": {},
   "outputs": [],
   "source": [
    "def positive_negative(Confusin_Matrix):\n",
    "    False_Postive = Confusin_Matrix.sum(axis=0) - np.diag(Confusin_Matrix)\n",
    "    False_Postive = False_Postive.astype(int)\n",
    "    False_Postive = sum(False_Postive)\n",
    "\n",
    "    True_Positive = np.diag(Confusin_Matrix)\n",
    "    True_Positive = True_Positive.astype(int)\n",
    "    True_Positive = sum(True_Positive)\n",
    "\n",
    "    False_Negative = Confusin_Matrix.sum(axis=1) - np.diag(Confusin_Matrix)\n",
    "    False_Negative = False_Negative.astype(int)\n",
    "    False_Negative = sum(False_Negative)\n",
    "    \n",
    "    True_Negative = Confusin_Matrix.sum()\n",
    "    X = (Confusin_Matrix.sum(axis=0) - np.diag(Confusin_Matrix)) + (Confusin_Matrix.sum(axis=1) - np.diag(Confusin_Matrix)) + np.diag(Confusin_Matrix)\n",
    "    True_Negative = True_Negative.astype(int) - X\n",
    "    True_Negative = sum(True_Negative)\n",
    "\n",
    "    return False_Postive, True_Positive, False_Negative, True_Negative"
   ]
  },
  {
   "cell_type": "markdown",
   "metadata": {},
   "source": [
    "# Performance Merics"
   ]
  },
  {
   "cell_type": "code",
   "execution_count": 46,
   "metadata": {},
   "outputs": [],
   "source": [
    "def performance_metrics(False_Postive, True_Positive, False_Negative, True_Negative):\n",
    "     Accuracy = (True_Positive + True_Negative) / (True_Positive + True_Negative + False_Postive + False_Negative)\n",
    "     Precision = True_Positive / (True_Positive+ False_Postive)\n",
    "     Sensitivity = True_Positive / (True_Positive  + False_Negative)\n",
    "     Specificity = True_Negative / (True_Negative + False_Negative)\n",
    "     F1Score = (True_Positive) / ((True_Positive) + (0.5 *(False_Postive + False_Negative)))\n",
    "     Error = 1 - Accuracy\n",
    "     MetricsValues = pd.DataFrame(index=['Accuracy', 'Precision', 'Sensitivity', 'Specificity', 'F1Score', 'Error'], columns=['Values'], data=[Accuracy, Precision, Sensitivity, Specificity, F1Score, Error])\n",
    "     return MetricsValues\n"
   ]
  },
  {
   "cell_type": "markdown",
   "metadata": {},
   "source": [
    "# Machine Learning"
   ]
  },
  {
   "cell_type": "markdown",
   "metadata": {},
   "source": [
    "**1. Naive Bayes**"
   ]
  },
  {
   "cell_type": "code",
   "execution_count": 47,
   "metadata": {},
   "outputs": [],
   "source": [
    "model_name1 = MultinomialNB()\n",
    "y_pred1 = models_(model_name1)"
   ]
  },
  {
   "cell_type": "code",
   "execution_count": 48,
   "metadata": {},
   "outputs": [
    {
     "data": {
      "image/png": "[encoded data removed]",
      "text/plain": [
       "<Figure size 600x600 with 1 Axes>"
      ]
     },
     "metadata": {},
     "output_type": "display_data"
    }
   ],
   "source": [
    "cm1 = confusion_matrix_(y_test, y_pred1)\n",
    "plot_confusion_matrix(cm1, 'Naive Bayes')\n"
   ]
  },
  {
   "cell_type": "code",
   "execution_count": 49,
   "metadata": {},
   "outputs": [],
   "source": [
    "False_Postive, True_Positive, False_Negative, True_Negative = positive_negative(cm1)"
   ]
  },
  {
   "cell_type": "code",
   "execution_count": 50,
   "metadata": {},
   "outputs": [],
   "source": [
    "MetricsValues1 = performance_metrics(False_Postive, True_Positive, False_Negative, True_Negative)"
   ]
  },
  {
   "cell_type": "code",
   "execution_count": 51,
   "metadata": {},
   "outputs": [
    {
     "data": {
      "text/html": [
       "<div>\n",
       "<style scoped>\n",
       "    .dataframe tbody tr th:only-of-type {\n",
       "        vertical-align: middle;\n",
       "    }\n",
       "\n",
       "    .dataframe tbody tr th {\n",
       "        vertical-align: top;\n",
       "    }\n",
       "\n",
       "    .dataframe thead th {\n",
       "        text-align: right;\n",
       "    }\n",
       "</style>\n",
       "<table border=\"1\" class=\"dataframe\">\n",
       "  <thead>\n",
       "    <tr style=\"text-align: right;\">\n",
       "      <th></th>\n",
       "      <th>Values</th>\n",
       "    </tr>\n",
       "  </thead>\n",
       "  <tbody>\n",
       "    <tr>\n",
       "      <th>Accuracy</th>\n",
       "      <td>0.847162</td>\n",
       "    </tr>\n",
       "    <tr>\n",
       "      <th>Precision</th>\n",
       "      <td>0.770742</td>\n",
       "    </tr>\n",
       "    <tr>\n",
       "      <th>Sensitivity</th>\n",
       "      <td>0.770742</td>\n",
       "    </tr>\n",
       "    <tr>\n",
       "      <th>Specificity</th>\n",
       "      <td>0.885371</td>\n",
       "    </tr>\n",
       "    <tr>\n",
       "      <th>F1Score</th>\n",
       "      <td>0.770742</td>\n",
       "    </tr>\n",
       "    <tr>\n",
       "      <th>Error</th>\n",
       "      <td>0.152838</td>\n",
       "    </tr>\n",
       "  </tbody>\n",
       "</table>\n",
       "</div>"
      ],
      "text/plain": [
       "               Values\n",
       "Accuracy     0.847162\n",
       "Precision    0.770742\n",
       "Sensitivity  0.770742\n",
       "Specificity  0.885371\n",
       "F1Score      0.770742\n",
       "Error        0.152838"
      ]
     },
     "execution_count": 51,
     "metadata": {},
     "output_type": "execute_result"
    }
   ],
   "source": [
    "MetricsValues1"
   ]
  },
  {
   "cell_type": "markdown",
   "metadata": {},
   "source": [
    "**2. Logistic Regression**"
   ]
  },
  {
   "cell_type": "code",
   "execution_count": 52,
   "metadata": {},
   "outputs": [],
   "source": [
    "model_name2 = LogisticRegression()\n",
    "y_pred2 = models_(model_name2)"
   ]
  },
  {
   "cell_type": "code",
   "execution_count": 53,
   "metadata": {},
   "outputs": [
    {
     "data": {
      "image/png": "[encoded data removed]",
      "text/plain": [
       "<Figure size 600x600 with 1 Axes>"
      ]
     },
     "metadata": {},
     "output_type": "display_data"
    }
   ],
   "source": [
    "cm2 = confusion_matrix_(y_test, y_pred2)\n",
    "plot_confusion_matrix(cm2, 'Logistic Regression')"
   ]
  },
  {
   "cell_type": "code",
   "execution_count": 54,
   "metadata": {},
   "outputs": [
    {
     "data": {
      "text/html": [
       "<div>\n",
       "<style scoped>\n",
       "    .dataframe tbody tr th:only-of-type {\n",
       "        vertical-align: middle;\n",
       "    }\n",
       "\n",
       "    .dataframe tbody tr th {\n",
       "        vertical-align: top;\n",
       "    }\n",
       "\n",
       "    .dataframe thead th {\n",
       "        text-align: right;\n",
       "    }\n",
       "</style>\n",
       "<table border=\"1\" class=\"dataframe\">\n",
       "  <thead>\n",
       "    <tr style=\"text-align: right;\">\n",
       "      <th></th>\n",
       "      <th>Values</th>\n",
       "    </tr>\n",
       "  </thead>\n",
       "  <tbody>\n",
       "    <tr>\n",
       "      <th>Accuracy</th>\n",
       "      <td>0.887654</td>\n",
       "    </tr>\n",
       "    <tr>\n",
       "      <th>Precision</th>\n",
       "      <td>0.831481</td>\n",
       "    </tr>\n",
       "    <tr>\n",
       "      <th>Sensitivity</th>\n",
       "      <td>0.831481</td>\n",
       "    </tr>\n",
       "    <tr>\n",
       "      <th>Specificity</th>\n",
       "      <td>0.915740</td>\n",
       "    </tr>\n",
       "    <tr>\n",
       "      <th>F1Score</th>\n",
       "      <td>0.831481</td>\n",
       "    </tr>\n",
       "    <tr>\n",
       "      <th>Error</th>\n",
       "      <td>0.112346</td>\n",
       "    </tr>\n",
       "  </tbody>\n",
       "</table>\n",
       "</div>"
      ],
      "text/plain": [
       "               Values\n",
       "Accuracy     0.887654\n",
       "Precision    0.831481\n",
       "Sensitivity  0.831481\n",
       "Specificity  0.915740\n",
       "F1Score      0.831481\n",
       "Error        0.112346"
      ]
     },
     "execution_count": 54,
     "metadata": {},
     "output_type": "execute_result"
    }
   ],
   "source": [
    "False_Postive2, True_Positive2, False_Negative2, True_Negative2 = positive_negative(cm2)\n",
    "MetricsValues2 = performance_metrics(False_Postive2, True_Positive2, False_Negative2, True_Negative2)\n",
    "MetricsValues2"
   ]
  },
  {
   "cell_type": "markdown",
   "metadata": {},
   "source": [
    "**3. Decision Tree**"
   ]
  },
  {
   "cell_type": "code",
   "execution_count": 55,
   "metadata": {},
   "outputs": [],
   "source": [
    "model_name3 = DecisionTreeClassifier(criterion = 'entropy')\n",
    "y_pred3 = models_(model_name3)"
   ]
  },
  {
   "cell_type": "code",
   "execution_count": 56,
   "metadata": {},
   "outputs": [
    {
     "data": {
      "image/png": "[encoded data removed]",
      "text/plain": [
       "<Figure size 600x600 with 1 Axes>"
      ]
     },
     "metadata": {},
     "output_type": "display_data"
    }
   ],
   "source": [
    "cm3 = confusion_matrix_(y_test, y_pred3)\n",
    "plot_confusion_matrix(cm1, 'Decision Tree')"
   ]
  },
  {
   "cell_type": "code",
   "execution_count": 57,
   "metadata": {},
   "outputs": [
    {
     "data": {
      "text/html": [
       "<div>\n",
       "<style scoped>\n",
       "    .dataframe tbody tr th:only-of-type {\n",
       "        vertical-align: middle;\n",
       "    }\n",
       "\n",
       "    .dataframe tbody tr th {\n",
       "        vertical-align: top;\n",
       "    }\n",
       "\n",
       "    .dataframe thead th {\n",
       "        text-align: right;\n",
       "    }\n",
       "</style>\n",
       "<table border=\"1\" class=\"dataframe\">\n",
       "  <thead>\n",
       "    <tr style=\"text-align: right;\">\n",
       "      <th></th>\n",
       "      <th>Values</th>\n",
       "    </tr>\n",
       "  </thead>\n",
       "  <tbody>\n",
       "    <tr>\n",
       "      <th>Accuracy</th>\n",
       "      <td>0.842729</td>\n",
       "    </tr>\n",
       "    <tr>\n",
       "      <th>Precision</th>\n",
       "      <td>0.764093</td>\n",
       "    </tr>\n",
       "    <tr>\n",
       "      <th>Sensitivity</th>\n",
       "      <td>0.764093</td>\n",
       "    </tr>\n",
       "    <tr>\n",
       "      <th>Specificity</th>\n",
       "      <td>0.882046</td>\n",
       "    </tr>\n",
       "    <tr>\n",
       "      <th>F1Score</th>\n",
       "      <td>0.764093</td>\n",
       "    </tr>\n",
       "    <tr>\n",
       "      <th>Error</th>\n",
       "      <td>0.157271</td>\n",
       "    </tr>\n",
       "  </tbody>\n",
       "</table>\n",
       "</div>"
      ],
      "text/plain": [
       "               Values\n",
       "Accuracy     0.842729\n",
       "Precision    0.764093\n",
       "Sensitivity  0.764093\n",
       "Specificity  0.882046\n",
       "F1Score      0.764093\n",
       "Error        0.157271"
      ]
     },
     "execution_count": 57,
     "metadata": {},
     "output_type": "execute_result"
    }
   ],
   "source": [
    "False_Postive3, True_Positive3, False_Negative3, True_Negative3 = positive_negative(cm3)\n",
    "MetricsValues3 = performance_metrics(False_Postive3, True_Positive3, False_Negative3, True_Negative3)\n",
    "MetricsValues3"
   ]
  },
  {
   "cell_type": "markdown",
   "metadata": {},
   "source": [
    "**4. K Nearest Neighbor**"
   ]
  },
  {
   "cell_type": "code",
   "execution_count": 58,
   "metadata": {},
   "outputs": [],
   "source": [
    "model_name4 = KNeighborsClassifier(metric='cosine', n_neighbors=1)\n",
    "y_pred4 = models_(model_name4)"
   ]
  },
  {
   "cell_type": "code",
   "execution_count": 59,
   "metadata": {},
   "outputs": [
    {
     "data": {
      "image/png": "[encoded data removed]",
      "text/plain": [
       "<Figure size 600x600 with 1 Axes>"
      ]
     },
     "metadata": {},
     "output_type": "display_data"
    }
   ],
   "source": [
    "cm4 = confusion_matrix_(y_test, y_pred4)\n",
    "plot_confusion_matrix(cm4, 'K Nearest Neighbor')"
   ]
  },
  {
   "cell_type": "code",
   "execution_count": 60,
   "metadata": {},
   "outputs": [
    {
     "data": {
      "text/html": [
       "<div>\n",
       "<style scoped>\n",
       "    .dataframe tbody tr th:only-of-type {\n",
       "        vertical-align: middle;\n",
       "    }\n",
       "\n",
       "    .dataframe tbody tr th {\n",
       "        vertical-align: top;\n",
       "    }\n",
       "\n",
       "    .dataframe thead th {\n",
       "        text-align: right;\n",
       "    }\n",
       "</style>\n",
       "<table border=\"1\" class=\"dataframe\">\n",
       "  <thead>\n",
       "    <tr style=\"text-align: right;\">\n",
       "      <th></th>\n",
       "      <th>Values</th>\n",
       "    </tr>\n",
       "  </thead>\n",
       "  <tbody>\n",
       "    <tr>\n",
       "      <th>Accuracy</th>\n",
       "      <td>0.821821</td>\n",
       "    </tr>\n",
       "    <tr>\n",
       "      <th>Precision</th>\n",
       "      <td>0.732731</td>\n",
       "    </tr>\n",
       "    <tr>\n",
       "      <th>Sensitivity</th>\n",
       "      <td>0.732731</td>\n",
       "    </tr>\n",
       "    <tr>\n",
       "      <th>Specificity</th>\n",
       "      <td>0.866366</td>\n",
       "    </tr>\n",
       "    <tr>\n",
       "      <th>F1Score</th>\n",
       "      <td>0.732731</td>\n",
       "    </tr>\n",
       "    <tr>\n",
       "      <th>Error</th>\n",
       "      <td>0.178179</td>\n",
       "    </tr>\n",
       "  </tbody>\n",
       "</table>\n",
       "</div>"
      ],
      "text/plain": [
       "               Values\n",
       "Accuracy     0.821821\n",
       "Precision    0.732731\n",
       "Sensitivity  0.732731\n",
       "Specificity  0.866366\n",
       "F1Score      0.732731\n",
       "Error        0.178179"
      ]
     },
     "execution_count": 60,
     "metadata": {},
     "output_type": "execute_result"
    }
   ],
   "source": [
    "False_Postive4, True_Positive4, False_Negative4, True_Negative4 = positive_negative(cm4)\n",
    "MetricsValues4 = performance_metrics(False_Postive4, True_Positive4, False_Negative4, True_Negative4)\n",
    "MetricsValues4"
   ]
  },
  {
   "cell_type": "markdown",
   "metadata": {},
   "source": [
    "**5. Random Forest**"
   ]
  },
  {
   "cell_type": "code",
   "execution_count": 61,
   "metadata": {},
   "outputs": [],
   "source": [
    "model_name5 = RandomForestClassifier(criterion = 'entropy', n_estimators=100)\n",
    "y_pred5 = models_(model_name5)"
   ]
  },
  {
   "cell_type": "code",
   "execution_count": 62,
   "metadata": {},
   "outputs": [
    {
     "data": {
      "image/png": "[encoded data removed]",
      "text/plain": [
       "<Figure size 600x600 with 1 Axes>"
      ]
     },
     "metadata": {},
     "output_type": "display_data"
    }
   ],
   "source": [
    "cm5 = confusion_matrix_(y_test, y_pred5)\n",
    "plot_confusion_matrix(cm5, 'Random Forest')"
   ]
  },
  {
   "cell_type": "code",
   "execution_count": 63,
   "metadata": {},
   "outputs": [
    {
     "data": {
      "text/html": [
       "<div>\n",
       "<style scoped>\n",
       "    .dataframe tbody tr th:only-of-type {\n",
       "        vertical-align: middle;\n",
       "    }\n",
       "\n",
       "    .dataframe tbody tr th {\n",
       "        vertical-align: top;\n",
       "    }\n",
       "\n",
       "    .dataframe thead th {\n",
       "        text-align: right;\n",
       "    }\n",
       "</style>\n",
       "<table border=\"1\" class=\"dataframe\">\n",
       "  <thead>\n",
       "    <tr style=\"text-align: right;\">\n",
       "      <th></th>\n",
       "      <th>Values</th>\n",
       "    </tr>\n",
       "  </thead>\n",
       "  <tbody>\n",
       "    <tr>\n",
       "      <th>Accuracy</th>\n",
       "      <td>0.878060</td>\n",
       "    </tr>\n",
       "    <tr>\n",
       "      <th>Precision</th>\n",
       "      <td>0.817090</td>\n",
       "    </tr>\n",
       "    <tr>\n",
       "      <th>Sensitivity</th>\n",
       "      <td>0.817090</td>\n",
       "    </tr>\n",
       "    <tr>\n",
       "      <th>Specificity</th>\n",
       "      <td>0.908545</td>\n",
       "    </tr>\n",
       "    <tr>\n",
       "      <th>F1Score</th>\n",
       "      <td>0.817090</td>\n",
       "    </tr>\n",
       "    <tr>\n",
       "      <th>Error</th>\n",
       "      <td>0.121940</td>\n",
       "    </tr>\n",
       "  </tbody>\n",
       "</table>\n",
       "</div>"
      ],
      "text/plain": [
       "               Values\n",
       "Accuracy     0.878060\n",
       "Precision    0.817090\n",
       "Sensitivity  0.817090\n",
       "Specificity  0.908545\n",
       "F1Score      0.817090\n",
       "Error        0.121940"
      ]
     },
     "execution_count": 63,
     "metadata": {},
     "output_type": "execute_result"
    }
   ],
   "source": [
    "False_Postive5, True_Positive5, False_Negative5, True_Negative5 = positive_negative(cm5)\n",
    "MetricsValues5 = performance_metrics(False_Postive5, True_Positive5, False_Negative5, True_Negative5)\n",
    "MetricsValues5"
   ]
  },
  {
   "cell_type": "markdown",
   "metadata": {},
   "source": [
    "**6.SGD Classifier**"
   ]
  },
  {
   "cell_type": "code",
   "execution_count": 64,
   "metadata": {},
   "outputs": [],
   "source": [
    "model_name6 = SGDClassifier(loss='hinge')\n",
    "y_pred6 = models_(model_name6)"
   ]
  },
  {
   "cell_type": "code",
   "execution_count": 65,
   "metadata": {},
   "outputs": [
    {
     "data": {
      "image/png": "[encoded data removed]",
      "text/plain": [
       "<Figure size 600x600 with 1 Axes>"
      ]
     },
     "metadata": {},
     "output_type": "display_data"
    }
   ],
   "source": [
    "cm6 = confusion_matrix_(y_test, y_pred6)\n",
    "plot_confusion_matrix(cm6, 'SGD Classifier')"
   ]
  },
  {
   "cell_type": "code",
   "execution_count": 66,
   "metadata": {},
   "outputs": [
    {
     "data": {
      "text/html": [
       "<div>\n",
       "<style scoped>\n",
       "    .dataframe tbody tr th:only-of-type {\n",
       "        vertical-align: middle;\n",
       "    }\n",
       "\n",
       "    .dataframe tbody tr th {\n",
       "        vertical-align: top;\n",
       "    }\n",
       "\n",
       "    .dataframe thead th {\n",
       "        text-align: right;\n",
       "    }\n",
       "</style>\n",
       "<table border=\"1\" class=\"dataframe\">\n",
       "  <thead>\n",
       "    <tr style=\"text-align: right;\">\n",
       "      <th></th>\n",
       "      <th>Values</th>\n",
       "    </tr>\n",
       "  </thead>\n",
       "  <tbody>\n",
       "    <tr>\n",
       "      <th>Accuracy</th>\n",
       "      <td>0.885404</td>\n",
       "    </tr>\n",
       "    <tr>\n",
       "      <th>Precision</th>\n",
       "      <td>0.828106</td>\n",
       "    </tr>\n",
       "    <tr>\n",
       "      <th>Sensitivity</th>\n",
       "      <td>0.828106</td>\n",
       "    </tr>\n",
       "    <tr>\n",
       "      <th>Specificity</th>\n",
       "      <td>0.914053</td>\n",
       "    </tr>\n",
       "    <tr>\n",
       "      <th>F1Score</th>\n",
       "      <td>0.828106</td>\n",
       "    </tr>\n",
       "    <tr>\n",
       "      <th>Error</th>\n",
       "      <td>0.114596</td>\n",
       "    </tr>\n",
       "  </tbody>\n",
       "</table>\n",
       "</div>"
      ],
      "text/plain": [
       "               Values\n",
       "Accuracy     0.885404\n",
       "Precision    0.828106\n",
       "Sensitivity  0.828106\n",
       "Specificity  0.914053\n",
       "F1Score      0.828106\n",
       "Error        0.114596"
      ]
     },
     "execution_count": 66,
     "metadata": {},
     "output_type": "execute_result"
    }
   ],
   "source": [
    "False_Postive6, True_Positive6, False_Negative6, True_Negative6 = positive_negative(cm6)\n",
    "MetricsValues6 = performance_metrics(False_Postive6, True_Positive6, False_Negative6, True_Negative6)\n",
    "MetricsValues6"
   ]
  },
  {
   "cell_type": "markdown",
   "metadata": {},
   "source": [
    "**7.Support  Vector Machine**"
   ]
  },
  {
   "cell_type": "code",
   "execution_count": 67,
   "metadata": {},
   "outputs": [],
   "source": [
    "model_name7 = SVC(kernel='rbf')\n",
    "y_pred7 = models_(model_name7)"
   ]
  },
  {
   "cell_type": "code",
   "execution_count": 68,
   "metadata": {},
   "outputs": [
    {
     "data": {
      "image/png": "[encoded data removed]",
      "text/plain": [
       "<Figure size 600x600 with 1 Axes>"
      ]
     },
     "metadata": {},
     "output_type": "display_data"
    }
   ],
   "source": [
    "cm7 = confusion_matrix_(y_test, y_pred7)\n",
    "plot_confusion_matrix(cm7, 'Support Vector Machine')"
   ]
  },
  {
   "cell_type": "code",
   "execution_count": 69,
   "metadata": {},
   "outputs": [
    {
     "data": {
      "text/html": [
       "<div>\n",
       "<style scoped>\n",
       "    .dataframe tbody tr th:only-of-type {\n",
       "        vertical-align: middle;\n",
       "    }\n",
       "\n",
       "    .dataframe tbody tr th {\n",
       "        vertical-align: top;\n",
       "    }\n",
       "\n",
       "    .dataframe thead th {\n",
       "        text-align: right;\n",
       "    }\n",
       "</style>\n",
       "<table border=\"1\" class=\"dataframe\">\n",
       "  <thead>\n",
       "    <tr style=\"text-align: right;\">\n",
       "      <th></th>\n",
       "      <th>Values</th>\n",
       "    </tr>\n",
       "  </thead>\n",
       "  <tbody>\n",
       "    <tr>\n",
       "      <th>Accuracy</th>\n",
       "      <td>0.888845</td>\n",
       "    </tr>\n",
       "    <tr>\n",
       "      <th>Precision</th>\n",
       "      <td>0.833267</td>\n",
       "    </tr>\n",
       "    <tr>\n",
       "      <th>Sensitivity</th>\n",
       "      <td>0.833267</td>\n",
       "    </tr>\n",
       "    <tr>\n",
       "      <th>Specificity</th>\n",
       "      <td>0.916634</td>\n",
       "    </tr>\n",
       "    <tr>\n",
       "      <th>F1Score</th>\n",
       "      <td>0.833267</td>\n",
       "    </tr>\n",
       "    <tr>\n",
       "      <th>Error</th>\n",
       "      <td>0.111155</td>\n",
       "    </tr>\n",
       "  </tbody>\n",
       "</table>\n",
       "</div>"
      ],
      "text/plain": [
       "               Values\n",
       "Accuracy     0.888845\n",
       "Precision    0.833267\n",
       "Sensitivity  0.833267\n",
       "Specificity  0.916634\n",
       "F1Score      0.833267\n",
       "Error        0.111155"
      ]
     },
     "execution_count": 69,
     "metadata": {},
     "output_type": "execute_result"
    }
   ],
   "source": [
    "False_Postive7, True_Positive7, False_Negative7, True_Negative7 = positive_negative(cm7)\n",
    "MetricsValues7 = performance_metrics(False_Postive7, True_Positive7, False_Negative7, True_Negative7)\n",
    "MetricsValues7"
   ]
  },
  {
   "cell_type": "markdown",
   "metadata": {},
   "source": [
    "**8- Multilayer Perceptron (MLP) Classifier**"
   ]
  },
  {
   "cell_type": "code",
   "execution_count": 70,
   "metadata": {},
   "outputs": [],
   "source": [
    "model_name8 = MLPClassifier(hidden_layer_sizes = 100, activation='tanh')\n",
    "y_pred8 = models_(model_name8)"
   ]
  },
  {
   "cell_type": "code",
   "execution_count": 71,
   "metadata": {},
   "outputs": [
    {
     "data": {
      "image/png": "[encoded data removed]",
      "text/plain": [
       "<Figure size 600x600 with 1 Axes>"
      ]
     },
     "metadata": {},
     "output_type": "display_data"
    }
   ],
   "source": [
    "cm8 = confusion_matrix_(y_test, y_pred8)\n",
    "plot_confusion_matrix(cm8, 'Multilayer Perceptron Classifier')"
   ]
  },
  {
   "cell_type": "code",
   "execution_count": 72,
   "metadata": {},
   "outputs": [
    {
     "data": {
      "text/html": [
       "<div>\n",
       "<style scoped>\n",
       "    .dataframe tbody tr th:only-of-type {\n",
       "        vertical-align: middle;\n",
       "    }\n",
       "\n",
       "    .dataframe tbody tr th {\n",
       "        vertical-align: top;\n",
       "    }\n",
       "\n",
       "    .dataframe thead th {\n",
       "        text-align: right;\n",
       "    }\n",
       "</style>\n",
       "<table border=\"1\" class=\"dataframe\">\n",
       "  <thead>\n",
       "    <tr style=\"text-align: right;\">\n",
       "      <th></th>\n",
       "      <th>Values</th>\n",
       "    </tr>\n",
       "  </thead>\n",
       "  <tbody>\n",
       "    <tr>\n",
       "      <th>Accuracy</th>\n",
       "      <td>0.853116</td>\n",
       "    </tr>\n",
       "    <tr>\n",
       "      <th>Precision</th>\n",
       "      <td>0.779674</td>\n",
       "    </tr>\n",
       "    <tr>\n",
       "      <th>Sensitivity</th>\n",
       "      <td>0.779674</td>\n",
       "    </tr>\n",
       "    <tr>\n",
       "      <th>Specificity</th>\n",
       "      <td>0.889837</td>\n",
       "    </tr>\n",
       "    <tr>\n",
       "      <th>F1Score</th>\n",
       "      <td>0.779674</td>\n",
       "    </tr>\n",
       "    <tr>\n",
       "      <th>Error</th>\n",
       "      <td>0.146884</td>\n",
       "    </tr>\n",
       "  </tbody>\n",
       "</table>\n",
       "</div>"
      ],
      "text/plain": [
       "               Values\n",
       "Accuracy     0.853116\n",
       "Precision    0.779674\n",
       "Sensitivity  0.779674\n",
       "Specificity  0.889837\n",
       "F1Score      0.779674\n",
       "Error        0.146884"
      ]
     },
     "execution_count": 72,
     "metadata": {},
     "output_type": "execute_result"
    }
   ],
   "source": [
    "False_Postive8, True_Positive8, False_Negative8, True_Negative8 = positive_negative(cm8)\n",
    "MetricsValues8 = performance_metrics(False_Postive8, True_Positive8, False_Negative8, True_Negative8)\n",
    "MetricsValues8"
   ]
  },
  {
   "cell_type": "code",
   "execution_count": null,
   "metadata": {},
   "outputs": [],
   "source": []
  }
 ],
 "metadata": {
  "kernelspec": {
   "display_name": "Python 3",
   "language": "python",
   "name": "python3"
  },
  "language_info": {
   "codemirror_mode": {
    "name": "ipython",
    "version": 3
   },
   "file_extension": ".py",
   "mimetype": "text/x-python",
   "name": "python",
   "nbconvert_exporter": "python",
   "pygments_lexer": "ipython3",
   "version": "3.11.4"
  },
  "orig_nbformat": 4
 },
 "nbformat": 4,
 "nbformat_minor": 2
}
